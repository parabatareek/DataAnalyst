{
 "cells": [
  {
   "cell_type": "markdown",
   "metadata": {
    "collapsed": true,
    "pycharm": {
     "name": "#%% md\n"
    }
   },
   "source": [
    "# 4.\n",
    "С помощью конструктора DataFrame() создайте таблицу из списков music и entries. Сохраните результат в переменную playlist и выведите его на экран.\n",
    "\n",
    "Подсказка\n",
    "Передайте конструктору два аргумента:\n",
    "\n",
    "DataFrame(data=<данные>, columns=<названия столбцов>)"
   ]
  },
  {
   "cell_type": "code",
   "execution_count": 1,
   "outputs": [],
   "source": [
    "import pandas as pd\n",
    "\n",
    "music = [\n",
    "    ['Bob Dylan', 'Like A Rolling Stone'],\n",
    "    ['John Lennon', 'Imagine'],\n",
    "    ['The Beatles', 'Hey Jude'],\n",
    "    ['Nirvana', 'Smells Like Teen Spirit'],\n",
    "]\n",
    "\n",
    "entries = ['artist', 'track']\n",
    "playlist = pd.DataFrame(data=music, columns=entries)\n",
    "print(playlist)"
   ],
   "metadata": {
    "collapsed": false,
    "pycharm": {
     "name": "#%%\n"
    }
   }
  }
 ],
 "metadata": {
  "kernelspec": {
   "display_name": "Python 3",
   "language": "python",
   "name": "python3"
  },
  "language_info": {
   "codemirror_mode": {
    "name": "ipython",
    "version": 2
   },
   "file_extension": ".py",
   "mimetype": "text/x-python",
   "name": "python",
   "nbconvert_exporter": "python",
   "pygments_lexer": "ipython2",
   "version": "2.7.6"
  }
 },
 "nbformat": 4,
 "nbformat_minor": 0
}