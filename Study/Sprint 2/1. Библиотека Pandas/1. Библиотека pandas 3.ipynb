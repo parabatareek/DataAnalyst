{
 "cells": [
  {
   "cell_type": "markdown",
   "metadata": {
    "collapsed": true,
    "pycharm": {
     "name": "#%% md\n"
    }
   },
   "source": [
    "3.\n",
    "Создайте список entries с названиями двух столбцов — artist и track (от англ. «исполнитель» и «композиция»).\n",
    "\n",
    "Подсказка:\n",
    "Ваш список будет похож на geography из урока. В нём будет всего два элемента типа string."
   ]
  },
  {
   "cell_type": "code",
   "execution_count": 1,
   "metadata": {
    "collapsed": false,
    "pycharm": {
     "name": "#%%\n"
    }
   },
   "outputs": [],
   "source": [
    "import pandas as pd\n",
    "\n",
    "music = [\n",
    "    ['Bob Dylan', 'Like A Rolling Stone'],\n",
    "    ['John Lennon', 'Imagine'],\n",
    "    ['The Beatles', 'Hey Jude'],\n",
    "    ['Nirvana', 'Smells Like Teen Spirit'],\n",
    "]\n",
    "\n",
    "entries = ['artist', 'track']"
   ]
  }
 ],
 "metadata": {
  "kernelspec": {
   "display_name": "Python 3",
   "language": "python",
   "name": "python3"
  },
  "language_info": {
   "codemirror_mode": {
    "name": "ipython",
    "version": 3
   },
   "file_extension": ".py",
   "mimetype": "text/x-python",
   "name": "python",
   "nbconvert_exporter": "python",
   "pygments_lexer": "ipython3",
   "version": "3.9.7"
  }
 },
 "nbformat": 4,
 "nbformat_minor": 0
}