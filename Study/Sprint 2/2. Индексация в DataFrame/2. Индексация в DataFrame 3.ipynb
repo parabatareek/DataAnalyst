{
 "cells": [
  {
   "cell_type": "markdown",
   "metadata": {
    "collapsed": true,
    "pycharm": {
     "name": "#%% md\n"
    }
   },
   "source": [
    "# 3.\n",
    "Добавьте в код подсчёт треков в жанре 'rock'. Решение будет похожим: изменится только логическое выражение.\n",
    "Сохраните результат в переменной genre_rock. Напечатайте ответ на экране в таком виде:\n",
    "Число прослушанных треков в жанре рок равно ...\n",
    "\n",
    "Подсказка\n",
    "Логическое выражение для индексации: genre_fight['genre'] == 'rock'."
   ]
  },
  {
   "cell_type": "code",
   "execution_count": null,
   "outputs": [],
   "source": [
    "import pandas as pd\n",
    "\n",
    "df = pd.read_csv('music_log.csv')\n",
    "genre_fight = df[['genre', 'Artist']]\n",
    "#genre_pop = genre_fight.loc[genre_fight.loc[:, 'genre'] == 'pop']['genre'].count()\n",
    "genre_pop = genre_fight[genre_fight['genre'] == 'pop']['genre'].count()\n",
    "genre_rock = genre_fight[genre_fight['genre'] == 'rock']['genre'].count()\n",
    "print(f'Число прослушанных треков в жанре поп равно {genre_pop}')\n",
    "print(f'Число прослушанных треков в жанре рок равно {genre_rock}')"
   ],
   "metadata": {
    "collapsed": false,
    "pycharm": {
     "name": "#%%\n"
    }
   }
  }
 ],
 "metadata": {
  "kernelspec": {
   "display_name": "Python 3",
   "language": "python",
   "name": "python3"
  },
  "language_info": {
   "codemirror_mode": {
    "name": "ipython",
    "version": 2
   },
   "file_extension": ".py",
   "mimetype": "text/x-python",
   "name": "python",
   "nbconvert_exporter": "python",
   "pygments_lexer": "ipython2",
   "version": "2.7.6"
  }
 },
 "nbformat": 4,
 "nbformat_minor": 0
}