{
 "cells": [
  {
   "cell_type": "markdown",
   "metadata": {
    "collapsed": true,
    "pycharm": {
     "name": "#%% md\n"
    }
   },
   "source": [
    "# 2.\n",
    "Добавьте в код подсчёт треков жанра «поп».\n",
    "С помощью логической индексации получите ячейки со значением 'pop' и посчитайте их методом count().\n",
    "Результат сохраните в переменной genre_pop. Напечатайте его на экране в таком виде:\n",
    "Число прослушанных треков в жанре поп равно ...\n",
    "\n",
    "Подсказка:\n",
    "Чтобы получить ячейки, примените логическое выражение: genre_fight['genre'] == 'pop'."
   ]
  },
  {
   "cell_type": "code",
   "execution_count": null,
   "outputs": [],
   "source": [
    "import pandas as pd\n",
    "\n",
    "df = pd.read_csv('music_log.csv')\n",
    "genre_fight = df[['genre', 'Artist']]\n",
    "genre_pop = genre_fight.loc[genre_fight.loc[:, 'genre'] == 'pop']['genre'].count()\n",
    "genre_pop = genre_fight[genre_fight['genre'] == 'pop']['genre'].count()\n",
    "print(f'Число прослушанных треков в жанре поп равно {genre_pop}')"
   ],
   "metadata": {
    "collapsed": false,
    "pycharm": {
     "name": "#%%\n"
    }
   }
  }
 ],
 "metadata": {
  "kernelspec": {
   "display_name": "Python 3",
   "language": "python",
   "name": "python3"
  },
  "language_info": {
   "codemirror_mode": {
    "name": "ipython",
    "version": 2
   },
   "file_extension": ".py",
   "mimetype": "text/x-python",
   "name": "python",
   "nbconvert_exporter": "python",
   "pygments_lexer": "ipython2",
   "version": "2.7.6"
  }
 },
 "nbformat": 4,
 "nbformat_minor": 0
}