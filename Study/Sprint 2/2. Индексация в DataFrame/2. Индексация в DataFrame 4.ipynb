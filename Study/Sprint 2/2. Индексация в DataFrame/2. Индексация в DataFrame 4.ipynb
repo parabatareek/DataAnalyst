{
 "cells": [
  {
   "cell_type": "markdown",
   "metadata": {
    "collapsed": true,
    "pycharm": {
     "name": "#%% md\n"
    }
   },
   "source": [
    "# 4.\n",
    "Напишите условную конструкцию, которая сравнит результаты предыдущих расчётов:\n",
    "\n",
    "    если значение 'genre_pop' больше — выведите сообщение 'Поп-музыку слушают больше.';\n",
    "    если больше 'genre_rock' — 'Рок слушают больше.'.\n",
    "\n",
    "Подсказка\n",
    "Создайте условную конструкцию: if <условие>: print() else: print()"
   ]
  },
  {
   "cell_type": "code",
   "execution_count": null,
   "outputs": [],
   "source": [
    "import pandas as pd\n",
    "\n",
    "df = pd.read_csv('music_log.csv')\n",
    "genre_fight = df[['genre', 'Artist']]\n",
    "#genre_pop = genre_fight.loc[genre_fight.loc[:, 'genre'] == 'pop']['genre'].count()\n",
    "genre_pop = genre_fight[genre_fight['genre'] == 'pop']['genre'].count()\n",
    "genre_rock = genre_fight[genre_fight['genre'] == 'rock']['genre'].count()\n",
    "print(f'Число прослушанных треков в жанре поп равно {genre_pop}')\n",
    "print(f'Число прослушанных треков в жанре рок равно {genre_rock}')\n",
    "\n",
    "if genre_pop > genre_rock: print('Поп-музыку слушают больше.')\n",
    "else: print('Рок слушают больше.')"
   ],
   "metadata": {
    "collapsed": false,
    "pycharm": {
     "name": "#%%\n"
    }
   }
  }
 ],
 "metadata": {
  "kernelspec": {
   "display_name": "Python 3",
   "language": "python",
   "name": "python3"
  },
  "language_info": {
   "codemirror_mode": {
    "name": "ipython",
    "version": 2
   },
   "file_extension": ".py",
   "mimetype": "text/x-python",
   "name": "python",
   "nbconvert_exporter": "python",
   "pygments_lexer": "ipython2",
   "version": "2.7.6"
  }
 },
 "nbformat": 4,
 "nbformat_minor": 0
}