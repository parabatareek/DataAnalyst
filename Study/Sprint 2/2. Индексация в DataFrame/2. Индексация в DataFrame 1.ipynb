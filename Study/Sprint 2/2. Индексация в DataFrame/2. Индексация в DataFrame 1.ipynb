{
 "cells": [
  {
   "cell_type": "markdown",
   "metadata": {
    "collapsed": true,
    "pycharm": {
     "name": "#%% md\n"
    }
   },
   "source": [
    "#1.\n",
    "Из таблицы в переменной df извлеките два столбца: genre и Artist.\n",
    "Результат сохраните в genre_fight.\n",
    "Тогда print() выведет результат на экран.\n",
    "\n",
    "Подсказка:\n",
    "Запросите из таблицы группу столбцов 'genre' и 'Artist'. Аналогичный пример можно найти в уроке."
   ]
  },
  {
   "cell_type": "code",
   "execution_count": null,
   "outputs": [],
   "source": [
    "import pandas as pd\n",
    "\n",
    "df = pd.read_csv('music_log.csv')\n",
    "genre_fight = df[['genre', 'Artist']]\n",
    "# напишите ваш код здесь\n",
    "print(genre_fight)"
   ],
   "metadata": {
    "collapsed": false,
    "pycharm": {
     "name": "#%%\n"
    }
   }
  }
 ],
 "metadata": {
  "kernelspec": {
   "display_name": "Python 3",
   "language": "python",
   "name": "python3"
  },
  "language_info": {
   "codemirror_mode": {
    "name": "ipython",
    "version": 2
   },
   "file_extension": ".py",
   "mimetype": "text/x-python",
   "name": "python",
   "nbconvert_exporter": "python",
   "pygments_lexer": "ipython2",
   "version": "2.7.6"
  }
 },
 "nbformat": 4,
 "nbformat_minor": 0
}