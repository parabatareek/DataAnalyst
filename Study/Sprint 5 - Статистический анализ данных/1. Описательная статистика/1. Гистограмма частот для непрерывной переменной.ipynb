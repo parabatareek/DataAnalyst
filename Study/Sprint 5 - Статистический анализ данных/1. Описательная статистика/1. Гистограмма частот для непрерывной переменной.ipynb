{
 "cells": [
  {
   "cell_type": "markdown",
   "metadata": {
    "collapsed": true,
    "pycharm": {
     "name": "#%% md\n"
    }
   },
   "source": [
    "# 1.\n",
    "Вы обновили интерфейс страницы оформления покупки на сайте и хотите понять, насколько сложно пользователям даётся этот процесс. Изучите самую простую метрику — время оформления покупки.\n",
    "За первый день с новым интерфейсом вы получили достаточно измерений, чтобы построить гистограмму.\n",
    "В прекоде набор данных со временем оформления покупки (в секундах). Постройте гистограмму с границами корзин в точках [15, 30, 45, 60, 75, 90]. Задайте непрозрачность, равную 0.7.\n",
    "\n",
    "Подсказка\n",
    "Постройте гистограмму набора данных pur_time методом hist(). Передайте bins список [15, 30, 45, 60, 75, 90], непрозрачность задайте так: alpha=0.7."
   ]
  },
  {
   "cell_type": "code",
   "execution_count": 1,
   "outputs": [
    {
     "data": {
      "text/plain": "<AxesSubplot:>"
     },
     "execution_count": 1,
     "metadata": {},
     "output_type": "execute_result"
    },
    {
     "data": {
      "text/plain": "<Figure size 432x288 with 1 Axes>",
      "image/png": "[encoded data removed]"
     },
     "metadata": {
      "needs_background": "light"
     },
     "output_type": "display_data"
    }
   ],
   "source": [
    "import pandas as pd\n",
    "\n",
    "# датасет pur_time от англ. purchase time, «время покупки»\n",
    "pur_time = pd.Series([36, 44, 73, 32, 44, 29, 63, 60, 55, 74, 61, 26, 76, 40, 39, 28, 69, 61, 54, 58, 47, 41, 70, 51, 58, 36, 71, 47, 74, 59, 50, 78, 59, 48, 67, 53, 67, 52, 38, 55, 53, 53, 43, 77, 44, 63, 63, 54])\n",
    "\n",
    "pur_time.hist(bins=[15, 30, 45, 60, 75, 90], alpha=0.7)"
   ],
   "metadata": {
    "collapsed": false,
    "pycharm": {
     "name": "#%%\n"
    }
   }
  },
  {
   "cell_type": "markdown",
   "source": [
    "# 2.\n",
    "Постройте две гистограммы времени оформления покупки со следующими границами интервалов:\n",
    "[15, 35, 55, 75, 90]\n",
    "[15, 45, 55, 90]\n",
    "Для обеих гистограмм задайте прозрачность, равную 0.5.\n",
    "\n",
    "Подсказка\n",
    "Постройте две гистограммы набора данных pur_time методом hist(). Передайте параметру bins первой гистограммы список [15, 35, 55, 75, 90]; параметру bins второй гистограммы — [15, 45, 55, 90]. Непрозрачность обеим гистограммам задайте так: alpha=0.5."
   ],
   "metadata": {
    "collapsed": false,
    "pycharm": {
     "name": "#%% md\n"
    }
   }
  },
  {
   "cell_type": "code",
   "execution_count": 2,
   "outputs": [
    {
     "data": {
      "text/plain": "<AxesSubplot:>"
     },
     "execution_count": 2,
     "metadata": {},
     "output_type": "execute_result"
    },
    {
     "data": {
      "text/plain": "<Figure size 432x288 with 1 Axes>",
      "image/png": "[encoded data removed]"
     },
     "metadata": {
      "needs_background": "light"
     },
     "output_type": "display_data"
    }
   ],
   "source": [
    "pur_time.hist(bins=[15, 35, 55, 75, 90], alpha=0.5)\n",
    "pur_time.hist(bins=[15, 45, 55, 90], alpha=0.5)"
   ],
   "metadata": {
    "collapsed": false,
    "pycharm": {
     "name": "#%%\n"
    }
   }
  }
 ],
 "metadata": {
  "kernelspec": {
   "display_name": "Python 3",
   "language": "python",
   "name": "python3"
  },
  "language_info": {
   "codemirror_mode": {
    "name": "ipython",
    "version": 2
   },
   "file_extension": ".py",
   "mimetype": "text/x-python",
   "name": "python",
   "nbconvert_exporter": "python",
   "pygments_lexer": "ipython2",
   "version": "2.7.6"
  }
 },
 "nbformat": 4,
 "nbformat_minor": 0
}