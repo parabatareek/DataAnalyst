{
 "cells": [
  {
   "cell_type": "markdown",
   "metadata": {
    "collapsed": true,
    "pycharm": {
     "name": "#%% md\n"
    }
   },
   "source": [
    "# 1.\n",
    "Оцените дисперсию генеральной совокупности data = pd.Series([0, 1, 2, 3, 4, 5, 6, 7, 8, 9, 10]). Результат выведите на экран.\n",
    "\n",
    "Подсказка\n",
    "Примените метод var()."
   ]
  },
  {
   "cell_type": "code",
   "execution_count": 1,
   "outputs": [
    {
     "name": "stdout",
     "output_type": "stream",
     "text": [
      "10.0\n"
     ]
    }
   ],
   "source": [
    "import pandas as pd\n",
    "import numpy as np\n",
    "\n",
    "data = pd.Series([0, 1, 2, 3, 4, 5, 6, 7, 8, 9, 10])\n",
    "variance = np.var(data)# здесь посчитайте дисперсию\n",
    "print(variance)"
   ],
   "metadata": {
    "collapsed": false,
    "pycharm": {
     "name": "#%%\n"
    }
   }
  },
  {
   "cell_type": "markdown",
   "source": [
    "# 2.\n",
    "Оцените дисперсию по выборке data = pd.Series([0, 1, 2, 3, 4, 5, 6, 7, 8, 9, 10]). Результат выведите на экран.\n",
    "\n",
    "Подсказка\n",
    "Примените метод var() с параметром ddof=1."
   ],
   "metadata": {
    "collapsed": false,
    "pycharm": {
     "name": "#%% md\n"
    }
   }
  },
  {
   "cell_type": "code",
   "execution_count": 2,
   "outputs": [
    {
     "name": "stdout",
     "output_type": "stream",
     "text": [
      "11.0\n"
     ]
    }
   ],
   "source": [
    "variance_estimate = np.var(data, ddof=1)\n",
    "print(variance_estimate)# здесь посчитайте дисперсию"
   ],
   "metadata": {
    "collapsed": false,
    "pycharm": {
     "name": "#%%\n"
    }
   }
  },
  {
   "cell_type": "markdown",
   "source": [
    "# 3.\n",
    "Оцените стандартное отклонение по выборке data = pd.Series([0, 1, 2, 3, 4, 5, 6, 7, 8, 9, 10]). Сохраните результат в переменной standard_dev и выведите её на экран.\n",
    "\n",
    "Подсказка\n",
    "Примените метод std() с параметром ddof=1."
   ],
   "metadata": {
    "collapsed": false,
    "pycharm": {
     "name": "#%% md\n"
    }
   }
  },
  {
   "cell_type": "code",
   "execution_count": 4,
   "outputs": [
    {
     "name": "stdout",
     "output_type": "stream",
     "text": [
      "3.3166247903554\n"
     ]
    }
   ],
   "source": [
    "standard_dev = np.std(data, ddof=1)\n",
    "print(standard_dev)"
   ],
   "metadata": {
    "collapsed": false,
    "pycharm": {
     "name": "#%%\n"
    }
   }
  },
  {
   "cell_type": "markdown",
   "source": [
    "# 4.\n",
    "В среднем пользователи разглядывают всплывающие сообщения на сайте 3 секунды. Дисперсия равна 0,25 секунд в квадрате. По правилу трёх сигм рассчитайте, сколько времени нужно показывать сообщение, чтобы его успело разглядеть 99% пользователей.\n",
    "Результат на экран выведите так: Время показа сообщения ... .\n",
    "\n",
    "Подсказка\n",
    "Методом sqrt() найдите квадратный корень из дисперсии. В переменной adv_time сохраните сумму среднего времени просмотра сообщения и трёх стандартных отклонений."
   ],
   "metadata": {
    "collapsed": false,
    "pycharm": {
     "name": "#%% md\n"
    }
   }
  },
  {
   "cell_type": "code",
   "execution_count": 7,
   "outputs": [
    {
     "name": "stdout",
     "output_type": "stream",
     "text": [
      "4.5\n"
     ]
    }
   ],
   "source": [
    "import numpy as np\n",
    "\n",
    "adv_mean = 3\n",
    "adv_var = 0.25\n",
    "adv_std = np.sqrt(adv_var) # рассчитайте стандартное отклонение\n",
    "adv_time = adv_mean + 3*adv_std# рассчитайте время показа пользователю всплывающего сообщения\n",
    "print(f'Время показа сообщения {adv_time}')"
   ],
   "metadata": {
    "collapsed": false,
    "pycharm": {
     "name": "#%%\n"
    }
   }
  },
  {
   "cell_type": "markdown",
   "source": [
    "# 5.\n",
    "Ваша компания проводит викторину в торговом центре.\n",
    "Из опыта проведения таких мероприятий известно, что в среднем правильно отвечают 3% всех участников. Стандартное отклонение 0,4%.\n",
    "На викторину записалось 6 тысяч человек. Чтобы заготовить достаточное количество призов, нужно знать, сколько может быть победителей. По правилу трёх сигм найдите интервал количества победителей.\n",
    "Результат выведите так: Интервал: ... - ...\n",
    "\n",
    "Подсказка\n",
    "В переменной quiz_bottom_line сохраните разницу между средним количеством победителей и 3 сигмами. В переменной quiz_top_line сумму среднего числа победителей и 3 сигм."
   ],
   "metadata": {
    "collapsed": false,
    "pycharm": {
     "name": "#%% md\n"
    }
   }
  },
  {
   "cell_type": "code",
   "execution_count": null,
   "outputs": [],
   "source": [
    "quiz_mean= # посчитайте количество правильно ответивших в среднем\n",
    "quiz_std= # посчитайте стандартное отклонение от общего числа участников\n",
    "\n",
    "quiz_bottom_line= # посчитайте нижнюю границу интервала\n",
    "quiz_top_line= # посчитайте верхнюю границу интервала"
   ],
   "metadata": {
    "collapsed": false,
    "pycharm": {
     "name": "#%%\n"
    }
   }
  }
 ],
 "metadata": {
  "kernelspec": {
   "display_name": "Python 3",
   "language": "python",
   "name": "python3"
  },
  "language_info": {
   "codemirror_mode": {
    "name": "ipython",
    "version": 2
   },
   "file_extension": ".py",
   "mimetype": "text/x-python",
   "name": "python",
   "nbconvert_exporter": "python",
   "pygments_lexer": "ipython2",
   "version": "2.7.6"
  }
 },
 "nbformat": 4,
 "nbformat_minor": 0
}