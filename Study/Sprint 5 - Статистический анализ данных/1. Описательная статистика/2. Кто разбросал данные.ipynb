{
 "cells": [
  {
   "cell_type": "markdown",
   "metadata": {
    "collapsed": true,
    "pycharm": {
     "name": "#%% md\n"
    }
   },
   "source": [
    "# 1.\n",
    "Найдите среднее в наборе данных и посчитайте среднее расстояние до него от всех значений. Полученное значение spacing_all_mean выведите на экран.\n",
    "\n",
    "Подсказка\n",
    "Вычислите среднее методом mean(). Расстояние от каждого элемента до среднего найдите так: data - mean_value."
   ]
  },
  {
   "cell_type": "code",
   "execution_count": 1,
   "outputs": [
    {
     "name": "stdout",
     "output_type": "stream",
     "text": [
      "0.0\n"
     ]
    }
   ],
   "source": [
    "import pandas as pd\n",
    "\n",
    "data = pd.Series([0, 1, 2, 3, 4, 5, 6, 7, 8, 9, 10])\n",
    "mean_value =  data.mean()# допишите ваш код здесь: найдите среднее значение в датасете\n",
    "spacing_all =  data - mean_value# допишите ваш код здесь: для каждого элемента датасета находим расстояние от среднего значения\n",
    "spacing_all_mean = spacing_all.mean()\n",
    "print(spacing_all_mean)# допишите ваш код здесь: считаем среднее расстояние"
   ],
   "metadata": {
    "collapsed": false,
    "pycharm": {
     "name": "#%%\n"
    }
   }
  }
 ],
 "metadata": {
  "kernelspec": {
   "display_name": "Python 3",
   "language": "python",
   "name": "python3"
  },
  "language_info": {
   "codemirror_mode": {
    "name": "ipython",
    "version": 2
   },
   "file_extension": ".py",
   "mimetype": "text/x-python",
   "name": "python",
   "nbconvert_exporter": "python",
   "pygments_lexer": "ipython2",
   "version": "2.7.6"
  }
 },
 "nbformat": 4,
 "nbformat_minor": 0
}