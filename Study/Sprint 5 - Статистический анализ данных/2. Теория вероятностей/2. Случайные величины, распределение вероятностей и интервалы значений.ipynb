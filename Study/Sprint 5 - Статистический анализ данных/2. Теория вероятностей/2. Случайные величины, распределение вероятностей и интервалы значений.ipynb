{
 "cells": [
  {
   "cell_type": "markdown",
   "metadata": {
    "collapsed": true,
    "pycharm": {
     "name": "#%% md\n"
    }
   },
   "source": [
    "# 1.\n",
    "В переменной spot_matrix хранится матрица с вероятностным пространством «сумма количества пятен двух питонов, у которых с равной вероятностью могут появиться от 5 до 10 пятен».\n",
    "Составьте словарь spot_probs с распределением вероятностей для этой случайной величины. Ключами в словаре должны быть целые числа — возможные исходы эксперимента (тип int), значениями — вероятности исходов типа float. Выведите значение переменной spot_probs на экран.\n",
    "\n",
    "Подсказка\n",
    "Попробуйте проитерироваться по возможным значениям количества пятен для первого питона, и для каждого из них проитерироваться по количеству пятен для второго питона. Сумма, полученная на каждой итерации — это исход эксперимента.\n",
    "for i in range(0, 6):\n",
    "        for j in range(0, 6):\n",
    "                if spot_matrix[i][j] not in spot_counts.keys():\n",
    "                        spot_counts[spot_matrix[i][j]] = 1\n",
    "                else:\n",
    "                        spot_counts[spot_matrix[i][j]] += 1\n",
    "\n",
    "spot_probs = {k:spot_counts[k]/36 for k in spot_counts}"
   ]
  },
  {
   "cell_type": "code",
   "execution_count": 4,
   "outputs": [
    {
     "name": "stdout",
     "output_type": "stream",
     "text": [
      "{10: 0.027777777777777776, 11: 0.05555555555555555, 12: 0.08333333333333333, 13: 0.1111111111111111, 14: 0.1388888888888889, 15: 0.16666666666666666, 16: 0.1388888888888889, 17: 0.1111111111111111, 18: 0.08333333333333333, 19: 0.05555555555555555, 20: 0.027777777777777776}\n"
     ]
    }
   ],
   "source": [
    "import numpy as np\n",
    "import pandas as pd\n",
    "\n",
    "spot_matrix = np.array(\n",
    "    [\n",
    "        [10, 11, 12, 13, 14, 15],\n",
    "        [11, 12, 13, 14, 15, 16],\n",
    "        [12, 13, 14, 15, 16, 17],\n",
    "        [13, 14, 15, 16, 17, 18],\n",
    "        [14, 15, 16, 17, 18, 19],\n",
    "        [15, 16, 17, 18, 19, 20],\n",
    "    ]\n",
    ")\n",
    "\n",
    "spot_counts = {}\n",
    "\n",
    "#код цикла\n",
    "for i in range(0,6):\n",
    "    for j in range(0,6):\n",
    "        if spot_matrix[i][j] not in spot_counts.keys(): spot_counts[spot_matrix[i][j]] = 1\n",
    "        else:spot_counts[spot_matrix[i][j]] += 1\n",
    "\n",
    "spot_probs = {k:spot_counts[k]/36 for k in spot_counts}# код словаря\n",
    "\n",
    "print(spot_probs)"
   ],
   "metadata": {
    "collapsed": false,
    "pycharm": {
     "name": "#%%\n"
    }
   }
  },
  {
   "cell_type": "markdown",
   "source": [
    "# 2.\n",
    "Проверьте, что сумма вероятностей всех возможных исходов равна единице. Запишите результат в переменную sum_probs_one и выведите на экран. Не удаляйте вывод spot_probs из предыдущего задания.\n",
    "\n",
    "Подсказка\n",
    "Значения словаря получают вызовом метода values(), а их сумму — передавая значения как аргумент методу sum(). Чтобы обойтись без квадриллионных долей, приведите результат к типу int."
   ],
   "metadata": {
    "collapsed": false,
    "pycharm": {
     "name": "#%% md\n"
    }
   }
  },
  {
   "cell_type": "code",
   "execution_count": 9,
   "outputs": [
    {
     "name": "stdout",
     "output_type": "stream",
     "text": [
      "1\n"
     ]
    }
   ],
   "source": [
    "sum_probs_one = int(sum(spot_probs.values()))\n",
    "print(sum_probs_one)"
   ],
   "metadata": {
    "collapsed": false,
    "pycharm": {
     "name": "#%%\n"
    }
   }
  }
 ],
 "metadata": {
  "kernelspec": {
   "display_name": "Python 3",
   "language": "python",
   "name": "python3"
  },
  "language_info": {
   "codemirror_mode": {
    "name": "ipython",
    "version": 2
   },
   "file_extension": ".py",
   "mimetype": "text/x-python",
   "name": "python",
   "nbconvert_exporter": "python",
   "pygments_lexer": "ipython2",
   "version": "2.7.6"
  }
 },
 "nbformat": 4,
 "nbformat_minor": 0
}