{
 "cells": [
  {
   "cell_type": "markdown",
   "metadata": {
    "collapsed": true,
    "pycharm": {
     "name": "#%% md\n"
    }
   },
   "source": [
    "# 1.\n",
    "В некоторые дни питонов в питонопитомнике кормят грушами, а в некоторые — яблоками.\n",
    "На ближайшую неделю (7 дней) есть запас на 3 дня кормления грушами и на 4 дня кормления яблоками. День может быть только грушевым или только яблочным, смешивание фруктов не разрешается.\n",
    "Вариант диеты — это, например, (груши, яблоки, груши, груши, яблоки, яблоки, яблоки).\n",
    "Сколько разных вариантов грушево-яблочной диеты можно составить для питонов на ближайшую неделю? Запишите результат в переменную n_diets и выведите на экран.\n",
    "\n",
    "Подсказка\n",
    "Из семи дней нужно выбрать три дня для груш, т. е. выбрать три из семи возможных дней. Аналогичный результат получится, если выбрать четыре дня для яблок (оставшиеся автоматически станут грушевыми)."
   ]
  },
  {
   "cell_type": "code",
   "execution_count": 3,
   "outputs": [
    {
     "name": "stdout",
     "output_type": "stream",
     "text": [
      "35.0\n"
     ]
    }
   ],
   "source": [
    "from math import factorial\n",
    "\n",
    "# Число способов выбрать k дней из n дней:\n",
    "n_diets = factorial(7) / (factorial(3) * factorial(4))\n",
    "print(n_diets)\n",
    "# C(n, k) =  n! / ( k! * (n-k)! )"
   ],
   "metadata": {
    "collapsed": false,
    "pycharm": {
     "name": "#%%\n"
    }
   }
  },
  {
   "cell_type": "markdown",
   "source": [
    "# 2.\n",
    "Питон Петя решил после питонопитомника поступить в питоноакадемию. Для этого ему надо сдать шесть разных (не зависящих друг от друга) экзаменов. Петя думает, что он отлично подготовился: вероятность завалить каждый из этих экзаменов, судя по пробным вариантам, для него равна 15%.\n",
    "Постройте распределение вероятностей для случайной величины «количество заваленных Петей экзаменов» и гистограмму для нее.\n",
    "\n",
    "Подсказка\n",
    "Параметры биномиального распределения: вероятность «успеха» — 0.15 (так как мы рассматриваем количество заваленных, а не пройденных экзаменов); количество попыток — 6."
   ],
   "metadata": {
    "collapsed": false,
    "pycharm": {
     "name": "#%% md\n"
    }
   }
  },
  {
   "cell_type": "code",
   "execution_count": 5,
   "outputs": [
    {
     "data": {
      "text/plain": "<BarContainer object of 7 artists>"
     },
     "execution_count": 5,
     "metadata": {},
     "output_type": "execute_result"
    },
    {
     "data": {
      "text/plain": "<Figure size 432x288 with 1 Axes>",
      "image/png": "[encoded data removed]"
     },
     "metadata": {
      "needs_background": "light"
     },
     "output_type": "display_data"
    }
   ],
   "source": [
    "from matplotlib import pyplot as plt\n",
    "from math import factorial\n",
    "\n",
    "n_exams = 6# вставьте ваш код сюда: сколько экзаменов надо сдать?\n",
    "failure_rate = 0.15# вставьте ваш код сюда: какова вероятность завалить один экзамен?\n",
    "\n",
    "distr = []# вставьте ваш код сюда: создайте переменную, в которой будете хранить значения распределения\n",
    "\n",
    "for k in range(0, n_exams + 1):\n",
    "    # вставьте ваш код сюда: посчитайте вероятность завалить\n",
    "    # 0 экзаменов, 1 экзамен и так далее до 6\n",
    "    fail_count = factorial(n_exams) /  (factorial(k) * factorial(n_exams - k))\n",
    "    probe = fail_count * failure_rate ** k * (1 - failure_rate) ** (n_exams - k)\n",
    "    distr.append(probe)\n",
    "\n",
    "# построение гистограммы распределения вероятностей\n",
    "plt.bar(range(0,n_exams+1), distr)"
   ],
   "metadata": {
    "collapsed": false,
    "pycharm": {
     "name": "#%%\n"
    }
   }
  },
  {
   "cell_type": "markdown",
   "source": [
    "# 3.\n",
    "Ваша компания устраивает важное мероприятие. Пиарщики ищут хотя бы шесть инфопартнёров, чтобы обеспечить освещение этого события. По опыту, соглашается примерно одно из пяти медиа, с которыми начинаются переговоры. Постройте распределения вероятностей и гистограммы для случайной величины «количество инфопартнёров», если вы начали переговоры с 30 медиа.\n",
    "\n",
    "Подсказка\n",
    "Вероятность успеха 20%, поэтому p = 1/5. Число партнёров n = 30."
   ],
   "metadata": {
    "collapsed": false,
    "pycharm": {
     "name": "#%% md\n"
    }
   }
  },
  {
   "cell_type": "code",
   "execution_count": 6,
   "outputs": [
    {
     "data": {
      "text/plain": "<BarContainer object of 31 artists>"
     },
     "execution_count": 6,
     "metadata": {},
     "output_type": "execute_result"
    },
    {
     "data": {
      "text/plain": "<Figure size 432x288 with 1 Axes>",
      "image/png": "[encoded data removed]"
     },
     "metadata": {
      "needs_background": "light"
     },
     "output_type": "display_data"
    }
   ],
   "source": [
    "from matplotlib import pyplot as plt\n",
    "from math import factorial\n",
    "\n",
    "p = 0.2 # вставьте ваш код сюда: какова вероятность заключить контракт?\n",
    "n = 30  # вставьте ваш код сюда: со сколькими компаниями начинаем переговоры?\n",
    "\n",
    "distr = []# вставьте ваш код сюда: создайте переменную, в которой будете хранить значения распределения\n",
    "\n",
    "for k in range(0, n + 1):\n",
    "    # вставьте ваш код сюда: постройте распределение вероятностей\n",
    "    win_count = factorial(n) / (factorial(k) * factorial(n - k))\n",
    "    win_rate = win_count * p ** k * (1 - p) ** (n - k)\n",
    "    distr.append(win_rate)\n",
    "# вставьте ваш код сюда: постройте гистограмму распределения вероятностей\n",
    "plt.bar(range(0,n+1), distr)"
   ],
   "metadata": {
    "collapsed": false,
    "pycharm": {
     "name": "#%%\n"
    }
   }
  },
  {
   "cell_type": "markdown",
   "source": [
    "# 4.\n",
    "Постройте распределения вероятностей и гистограммы для случайной величины «количество инфопартнёров», если вы начали переговоры с 45 медиа\n",
    "\n",
    "Подсказка\n",
    "Даже пиарщик в состоянии глубокой паники способен заменить в коде число 30 на число 45."
   ],
   "metadata": {
    "collapsed": false,
    "pycharm": {
     "name": "#%% md\n"
    }
   }
  },
  {
   "cell_type": "code",
   "execution_count": 7,
   "outputs": [
    {
     "data": {
      "text/plain": "<BarContainer object of 46 artists>"
     },
     "execution_count": 7,
     "metadata": {},
     "output_type": "execute_result"
    },
    {
     "data": {
      "text/plain": "<Figure size 432x288 with 1 Axes>",
      "image/png": "[encoded data removed]"
     },
     "metadata": {
      "needs_background": "light"
     },
     "output_type": "display_data"
    }
   ],
   "source": [
    "from matplotlib import pyplot as plt\n",
    "from math import factorial\n",
    "\n",
    "p = 0.2 # вставьте ваш код сюда: какова вероятность заключить контракт?\n",
    "n = 45  # вставьте ваш код сюда: со сколькими компаниями начинаем переговоры?\n",
    "\n",
    "distr = []# вставьте ваш код сюда: создайте переменную, в которой будете хранить значения распределения\n",
    "\n",
    "for k in range(0, n + 1):\n",
    "    # вставьте ваш код сюда: постройте распределение вероятностей\n",
    "    win_count = factorial(n) / (factorial(k) * factorial(n - k))\n",
    "    win_rate = win_count * p ** k * (1 - p) ** (n - k)\n",
    "    distr.append(win_rate)\n",
    "# вставьте ваш код сюда: постройте гистограмму распределения вероятностей\n",
    "plt.bar(range(0,n+1), distr)"
   ],
   "metadata": {
    "collapsed": false,
    "pycharm": {
     "name": "#%%\n"
    }
   }
  },
  {
   "cell_type": "markdown",
   "source": [
    "# 5.\n",
    "Постройте распределения вероятностей и гистограммы для случайной величины «количество инфопартнёров», если вы начали переговоры с 60 медиа.\n",
    "\n",
    "Подсказка\n",
    "Поставьте вместо 45 число 60, и не мучьте больше пиарщиков."
   ],
   "metadata": {
    "collapsed": false,
    "pycharm": {
     "name": "#%% md\n"
    }
   }
  },
  {
   "cell_type": "code",
   "execution_count": 8,
   "outputs": [
    {
     "data": {
      "text/plain": "<BarContainer object of 61 artists>"
     },
     "execution_count": 8,
     "metadata": {},
     "output_type": "execute_result"
    },
    {
     "data": {
      "text/plain": "<Figure size 432x288 with 1 Axes>",
      "image/png": "[encoded data removed]"
     },
     "metadata": {
      "needs_background": "light"
     },
     "output_type": "display_data"
    }
   ],
   "source": [
    "from matplotlib import pyplot as plt\n",
    "from math import factorial\n",
    "\n",
    "p = 0.2 # вставьте ваш код сюда: какова вероятность заключить контракт?\n",
    "n = 60  # вставьте ваш код сюда: со сколькими компаниями начинаем переговоры?\n",
    "\n",
    "distr = []# вставьте ваш код сюда: создайте переменную, в которой будете хранить значения распределения\n",
    "\n",
    "for k in range(0, n + 1):\n",
    "    # вставьте ваш код сюда: постройте распределение вероятностей\n",
    "    win_count = factorial(n) / (factorial(k) * factorial(n - k))\n",
    "    win_rate = win_count * p ** k * (1 - p) ** (n - k)\n",
    "    distr.append(win_rate)\n",
    "# вставьте ваш код сюда: постройте гистограмму распределения вероятностей\n",
    "plt.bar(range(0,n+1), distr)"
   ],
   "metadata": {
    "collapsed": false,
    "pycharm": {
     "name": "#%%\n"
    }
   }
  }
 ],
 "metadata": {
  "kernelspec": {
   "display_name": "Python 3",
   "language": "python",
   "name": "python3"
  },
  "language_info": {
   "codemirror_mode": {
    "name": "ipython",
    "version": 2
   },
   "file_extension": ".py",
   "mimetype": "text/x-python",
   "name": "python",
   "nbconvert_exporter": "python",
   "pygments_lexer": "ipython2",
   "version": "2.7.6"
  }
 },
 "nbformat": 4,
 "nbformat_minor": 0
}