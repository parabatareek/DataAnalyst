{
 "cells": [
  {
   "cell_type": "markdown",
   "metadata": {
    "collapsed": true,
    "pycharm": {
     "name": "#%% md\n"
    }
   },
   "source": [
    "# 1.\n",
    "Не удаляя вывод первых пяти строк таблицы data, посчитайте суммарное число пользователей и заказов в каждой из групп теста. Сохраните полученную таблицу в переменной table и выведите её на экран.\n",
    "\n",
    "Подсказка\n",
    "Сгруппируйте данные по столбцу с группами A/B-теста методом groupby() с аргументом as_index=False."
   ]
  },
  {
   "cell_type": "code",
   "execution_count": 7,
   "outputs": [
    {
     "name": "stdout",
     "output_type": "stream",
     "text": [
      "       date group  visitors  orders\n",
      "0  1/1/2019     A      1002      11\n",
      "1  1/2/2019     A       978      10\n",
      "2  1/3/2019     A       966      10\n",
      "3  1/4/2019     A      1035      11\n",
      "4  1/5/2019     A      1019      11\n",
      "  group  visitors  orders\n",
      "0     A     30892     325\n",
      "1     B     30695     383\n"
     ]
    }
   ],
   "source": [
    "import pandas as pd\n",
    "\n",
    "data = pd.read_csv('datasets/data_3-3.csv', sep=',')\n",
    "\n",
    "print(data.head(5))\n",
    "\n",
    "table = data.groupby(by='group', as_index=False).agg({'visitors':'sum',\n",
    "                                                      'orders':'sum'})\n",
    "\n",
    "print(table)\n"
   ],
   "metadata": {
    "collapsed": false,
    "pycharm": {
     "name": "#%%\n"
    }
   }
  },
  {
   "cell_type": "markdown",
   "source": [
    "# 2.\n",
    "Не удаляя код из предыдущего задания, найдите отношение количества заказов к числу пользователей по группам теста.\n",
    "Добавьте результаты к таблице table в новый столбец ordersToVisitorsRatio\n",
    "Округлите значения до 4 символов после запятой. Выведите таблицу table.\n",
    "\n",
    "Подсказка\n",
    "Округлите значения методом round() или lambda-функцией. Внутри lambda-функции примените метод format() так: {0:.4f}\".format(x)). Передайте lambda-функцию методу map()."
   ],
   "metadata": {
    "collapsed": false,
    "pycharm": {
     "name": "#%% md\n"
    }
   }
  },
  {
   "cell_type": "code",
   "execution_count": 8,
   "outputs": [
    {
     "name": "stdout",
     "output_type": "stream",
     "text": [
      "       date group  visitors  orders\n",
      "0  1/1/2019     A      1002      11\n",
      "1  1/2/2019     A       978      10\n",
      "2  1/3/2019     A       966      10\n",
      "3  1/4/2019     A      1035      11\n",
      "4  1/5/2019     A      1019      11\n",
      "  group  visitors  orders ordersToVisitorsRatio\n",
      "0     A     30892     325                0.0110\n",
      "1     B     30695     383                0.0102\n"
     ]
    }
   ],
   "source": [
    "import pandas as pd\n",
    "\n",
    "data = pd.read_csv('datasets/data_3-3.csv', sep=',')\n",
    "\n",
    "print(data.head(5))\n",
    "\n",
    "table = (\n",
    "    data.drop(['date'], axis=1)\n",
    "        .groupby('group', as_index=False)\n",
    "        .agg({'visitors': 'sum', 'orders': 'sum'})\n",
    ")\n",
    "table['ordersToVisitorsRatio'] = (data['orders'] / data['visitors']).map(lambda x:'{0:.4f}'.format(x))\n",
    "print(table)\n",
    "\n",
    "\n"
   ],
   "metadata": {
    "collapsed": false,
    "pycharm": {
     "name": "#%%\n"
    }
   }
  }
 ],
 "metadata": {
  "kernelspec": {
   "display_name": "Python 3",
   "language": "python",
   "name": "python3"
  },
  "language_info": {
   "codemirror_mode": {
    "name": "ipython",
    "version": 2
   },
   "file_extension": ".py",
   "mimetype": "text/x-python",
   "name": "python",
   "nbconvert_exporter": "python",
   "pygments_lexer": "ipython2",
   "version": "2.7.6"
  }
 },
 "nbformat": 4,
 "nbformat_minor": 0
}