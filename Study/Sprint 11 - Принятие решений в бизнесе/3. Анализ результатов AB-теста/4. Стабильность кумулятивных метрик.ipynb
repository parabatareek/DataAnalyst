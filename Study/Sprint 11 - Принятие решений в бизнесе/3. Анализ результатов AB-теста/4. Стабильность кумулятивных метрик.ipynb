{
 "cells": [
  {
   "cell_type": "markdown",
   "source": [
    "# 1.\n",
    "Изучите данные из файлов с заказами и посетителями.\n",
    "Столбцы таблицы с заказами (orders):\n",
    "orderId — идентификатор заказа;\n",
    "userId — идентификатор пользователя, совершившего заказ;\n",
    "group — группа A/B-теста;\n",
    "revenue — выручка заказа;\n",
    "date — дата заказа.\n",
    "Столбцы таблицы с посетителями (visitors):\n",
    "date — дата;\n",
    "group — группа A/B-теста;\n",
    "visitors — количество посетителей интернет-магазина в указанной группе A/B-теста в указанную дату.\n",
    "Не удаляйте вывод первых пяти строк датафреймов и выполните задание по шагам:\n",
    "1) Создайте датафрейм datesGroups с уникальными парами значений 'date' и 'group', таблицы orders. Избавьтесь от дубликатов методом drop_duplicates().\n",
    "2) Объявите переменную ordersAggregated, содержащую:\n",
    "дату;\n",
    "группу A/B-теста;\n",
    "число уникальных заказов в группе теста по указанную дату включительно;\n",
    "число уникальных пользователей, совершивших хотя бы 1 заказ в группе теста по указанную дату включительно;\n",
    "суммарную выручку заказов в группе теста по указанную дату включительно.\n",
    "3) Объявите переменную visitorsAggregated, содержащую:\n",
    "дату;\n",
    "группу A/B-теста;\n",
    "количество уникальных посетителей в группе теста по указанную дату включительно.\n",
    "4) ordersAggregated и visitorsAggregated отсортируйте по столбцам 'date', 'group' в указанном порядке.\n",
    "5) Определите переменную cumulativeData, объединив ordersAggregated и visitorsAggregated по колонкам 'date', 'group' методом merge()\n",
    "6) Присвойте столбцам cumulativeData названия ['date', 'group', 'orders', 'buyers', 'revenue', 'visitors']\n",
    "7) Выведите первые 5 строк переменной cumulativeData\n",
    "\n",
    "Подсказка\n",
    "Получите таблицу ordersAggregated так:\n",
    "datesGroups.apply(\n",
    "    lambda x: orders[np.logical_and(orders['date'] <= x['date'], orders['group'] == x['group'])].agg({\n",
    "'date' : 'max',\n",
    "'group' : 'max',\n",
    "'orderId' : pd.Series.nunique,\n",
    "'userId' : pd.Series.nunique,\n",
    "'revenue' : 'sum'}), axis=1).sort_values(by=['date','group'])\n",
    "Объедините таблицы методом merge():\n",
    "cumulativeData = ordersAggregated.merge(visitorsAggregated, left_on=['date', 'group'], right_on=['date', 'group'])"
   ],
   "metadata": {
    "collapsed": false,
    "pycharm": {
     "name": "#%% md\n"
    }
   }
  },
  {
   "cell_type": "code",
   "execution_count": 20,
   "outputs": [
    {
     "name": "stdout",
     "output_type": "stream",
     "text": [
      "         userId group       orderId  revenue       date\n",
      "0  1.815263e+19     B  4.612878e+15      489 2019-04-22\n",
      "1  1.815263e+19     B  4.612878e+15      489 2019-04-22\n",
      "2  1.794078e+19     B  4.136278e+18       97 2019-04-22\n",
      "3  1.794078e+19     B  4.136278e+18      279 2019-04-22\n",
      "4  2.461477e+18     B  1.406554e+19     4092 2019-04-22\n",
      "        date group  visitors\n",
      "0 2019-03-11     A       321\n",
      "1 2019-03-12     A       831\n",
      "2 2019-03-13     A       700\n",
      "3 2019-03-14     A      1222\n",
      "4 2019-03-15     A       859\n",
      "        date group  orders  buyers  revenue  visitors\n",
      "0 2019-03-11     A      10      10   110291       321\n",
      "1 2019-03-11     B       9       9    36646       337\n",
      "2 2019-03-12     A      35      33   343089      1152\n",
      "3 2019-03-12     B      35      33    90491      1198\n",
      "4 2019-03-13     A      59      56  1012663      1852\n"
     ]
    }
   ],
   "source": [
    "import pandas as pd\n",
    "import datetime as dt\n",
    "import numpy as np\n",
    "\n",
    "orders = pd.read_csv('datasets/data_for_tasks_3.csv', sep=',')\n",
    "orders['date'] = orders['date'].map(\n",
    "    lambda x: dt.datetime.strptime(x, '%d/%m/%Y')\n",
    ")\n",
    "\n",
    "visitors = pd.read_csv('datasets/data_for_tasks_3_visitors.csv', sep=',')\n",
    "visitors['date'] = visitors['date'].map(\n",
    "    lambda x: dt.datetime.strptime(x, '%d/%m/%Y')\n",
    ")\n",
    "\n",
    "print(orders.head(5))\n",
    "print(visitors.head(5))\n",
    "\n",
    "# Создайте датафрейм datesGroups с уникальными парами значений 'date' и 'group', таблицы orders. Избавьтесь от дубликатов методом drop_duplicates()\n",
    "datesGroups = orders[['date', 'group']].drop_duplicates()\n",
    "\n",
    "# Объявите переменную ordersAggregated, содержащую:\n",
    "# дату;\n",
    "# группу A/B-теста;\n",
    "# число уникальных заказов в группе теста по указанную дату включительно;\n",
    "# число уникальных пользователей, совершивших хотя бы 1 заказ в группе теста по указанную дату включительно;\n",
    "# суммарную выручку заказов в группе теста по указанную дату включительно.\n",
    "ordersAggregated = datesGroups.apply(lambda x: orders[np.logical_and(orders['date'] <= x['date'],\n",
    "                                                                     orders['group'] == x['group'])]\\\n",
    "                                     .agg({'date':np.max,\n",
    "                                           'group':np.max,\n",
    "                                           'orderId':'nunique',\n",
    "                                           'userId':'nunique',\n",
    "                                           'revenue':np.sum}), axis='columns')\\\n",
    "                              .sort_values(by=list(datesGroups.columns))\n",
    "\n",
    "# Объявите переменную visitorsAggregated, содержащую:\n",
    "# дату;\n",
    "# группу A/B-теста;\n",
    "# количество уникальных посетителей в группе теста по указанную дату включительно\n",
    "visitorsAggregated = datesGroups.apply(lambda x: visitors[np.logical_and(visitors['date'] <= x['date'],\n",
    "                                                                         visitors['group'] == x['group'])]\n",
    "                                       .agg({'date': np.max,\n",
    "                                             'group':np.max,\n",
    "                                             'visitors':np.sum}), axis='columns')\\\n",
    "                                       .sort_values(by=list(datesGroups.columns))\n",
    "\n",
    "# Определите переменную cumulativeData, объединив ordersAggregated и visitorsAggregated по колонкам 'date', 'group' методом merge()\n",
    "cumulativeData = ordersAggregated.merge(right=visitorsAggregated, left_on=['date', 'group'], right_on=['date', 'group'])\n",
    "\n",
    "# Присвойте столбцам cumulativeData названия ['date', 'group', 'orders', 'buyers', 'revenue', 'visitors']\n",
    "cumulativeData.columns = ['date', 'group', 'orders', 'buyers', 'revenue', 'visitors']\n",
    "\n",
    "print(cumulativeData.head())"
   ],
   "metadata": {
    "collapsed": false,
    "pycharm": {
     "name": "#%%\n"
    }
   }
  }
 ],
 "metadata": {
  "kernelspec": {
   "display_name": "Python 3",
   "language": "python",
   "name": "python3"
  },
  "language_info": {
   "codemirror_mode": {
    "name": "ipython",
    "version": 2
   },
   "file_extension": ".py",
   "mimetype": "text/x-python",
   "name": "python",
   "nbconvert_exporter": "python",
   "pygments_lexer": "ipython2",
   "version": "2.7.6"
  }
 },
 "nbformat": 4,
 "nbformat_minor": 0
}