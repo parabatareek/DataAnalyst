{
 "cells": [
  {
   "cell_type": "markdown",
   "source": [
    "# 1.\n",
    "Изучите данные из файлов с заказами и посетителями.\n",
    "Столбцы таблицы с заказами (orders):\n",
    "orderId — идентификатор заказа;\n",
    "userId — идентификатор пользователя, совершившего заказ;\n",
    "group — группа A/B-теста;\n",
    "revenue — выручка заказа;\n",
    "date — дата заказа.\n",
    "Столбцы таблицы с посетителями (visitors):\n",
    "date — дата;\n",
    "group — группа A/B-теста;\n",
    "visitors — количество посетителей интернет-магазина в указанной группе A/B-теста в указанную дату.\n",
    "Не удаляйте вывод первых пяти строк датафреймов и выполните задание по шагам:\n",
    "1) Создайте датафрейм datesGroups с уникальными парами значений 'date' и 'group', таблицы orders. Избавьтесь от дубликатов методом drop_duplicates().\n",
    "2) Объявите переменную ordersAggregated, содержащую:\n",
    "дату;\n",
    "группу A/B-теста;\n",
    "число уникальных заказов в группе теста по указанную дату включительно;\n",
    "число уникальных пользователей, совершивших хотя бы 1 заказ в группе теста по указанную дату включительно;\n",
    "суммарную выручку заказов в группе теста по указанную дату включительно.\n",
    "3) Объявите переменную visitorsAggregated, содержащую:\n",
    "дату;\n",
    "группу A/B-теста;\n",
    "количество уникальных посетителей в группе теста по указанную дату включительно.\n",
    "4) ordersAggregated и visitorsAggregated отсортируйте по столбцам 'date', 'group' в указанном порядке.\n",
    "5) Определите переменную cumulativeData, объединив ordersAggregated и visitorsAggregated по колонкам 'date', 'group' методом merge()\n",
    "6) Присвойте столбцам cumulativeData названия ['date', 'group', 'orders', 'buyers', 'revenue', 'visitors']\n",
    "7) Выведите первые 5 строк переменной cumulativeData\n",
    "\n",
    "Подсказка\n",
    "Получите таблицу ordersAggregated так:\n",
    "datesGroups.apply(\n",
    "    lambda x: orders[np.logical_and(orders['date'] <= x['date'], orders['group'] == x['group'])].agg({\n",
    "'date' : 'max',\n",
    "'group' : 'max',\n",
    "'orderId' : pd.Series.nunique,\n",
    "'userId' : pd.Series.nunique,\n",
    "'revenue' : 'sum'}), axis=1).sort_values(by=['date','group'])\n",
    "Объедините таблицы методом merge():\n",
    "cumulativeData = ordersAggregated.merge(visitorsAggregated, left_on=['date', 'group'], right_on=['date', 'group'])"
   ],
   "metadata": {
    "collapsed": false,
    "pycharm": {
     "name": "#%% md\n"
    }
   }
  },
  {
   "cell_type": "code",
   "execution_count": 21,
   "outputs": [
    {
     "name": "stdout",
     "output_type": "stream",
     "text": [
      "         userId group       orderId  revenue       date\n",
      "0  1.815263e+19     B  4.612878e+15      489 2019-04-22\n",
      "1  1.815263e+19     B  4.612878e+15      489 2019-04-22\n",
      "2  1.794078e+19     B  4.136278e+18       97 2019-04-22\n",
      "3  1.794078e+19     B  4.136278e+18      279 2019-04-22\n",
      "4  2.461477e+18     B  1.406554e+19     4092 2019-04-22\n",
      "        date group  visitors\n",
      "0 2019-03-11     A       321\n",
      "1 2019-03-12     A       831\n",
      "2 2019-03-13     A       700\n",
      "3 2019-03-14     A      1222\n",
      "4 2019-03-15     A       859\n",
      "        date group  orders  buyers  revenue  visitors\n",
      "0 2019-03-11     A      10      10   110291       321\n",
      "1 2019-03-11     B       9       9    36646       337\n",
      "2 2019-03-12     A      35      33   343089      1152\n",
      "3 2019-03-12     B      35      33    90491      1198\n",
      "4 2019-03-13     A      59      56  1012663      1852\n"
     ]
    }
   ],
   "source": [
    "import pandas as pd\n",
    "import datetime as dt\n",
    "import numpy as np\n",
    "import matplotlib.pyplot as plt\n",
    "\n",
    "orders = pd.read_csv('datasets/data_for_tasks_3.csv', sep=',')\n",
    "orders['date'] = orders['date'].map(\n",
    "    lambda x: dt.datetime.strptime(x, '%d/%m/%Y')\n",
    ")\n",
    "\n",
    "visitors = pd.read_csv('datasets/data_for_tasks_3_visitors.csv', sep=',')\n",
    "visitors['date'] = visitors['date'].map(\n",
    "    lambda x: dt.datetime.strptime(x, '%d/%m/%Y')\n",
    ")\n",
    "\n",
    "print(orders.head(5))\n",
    "print(visitors.head(5))\n",
    "\n",
    "# Создайте датафрейм datesGroups с уникальными парами значений 'date' и 'group', таблицы orders. Избавьтесь от дубликатов методом drop_duplicates()\n",
    "datesGroups = orders[['date', 'group']].drop_duplicates()\n",
    "\n",
    "# Объявите переменную ordersAggregated, содержащую:\n",
    "# дату;\n",
    "# группу A/B-теста;\n",
    "# число уникальных заказов в группе теста по указанную дату включительно;\n",
    "# число уникальных пользователей, совершивших хотя бы 1 заказ в группе теста по указанную дату включительно;\n",
    "# суммарную выручку заказов в группе теста по указанную дату включительно.\n",
    "ordersAggregated = datesGroups.apply(lambda x: orders[np.logical_and(orders['date'] <= x['date'],\n",
    "                                                                     orders['group'] == x['group'])]\\\n",
    "                                     .agg({'date':np.max,\n",
    "                                           'group':np.max,\n",
    "                                           'orderId':'nunique',\n",
    "                                           'userId':'nunique',\n",
    "                                           'revenue':np.sum}), axis='columns')\\\n",
    "                              .sort_values(by=list(datesGroups.columns))\n",
    "\n",
    "# Объявите переменную visitorsAggregated, содержащую:\n",
    "# дату;\n",
    "# группу A/B-теста;\n",
    "# количество уникальных посетителей в группе теста по указанную дату включительно\n",
    "visitorsAggregated = datesGroups.apply(lambda x: visitors[np.logical_and(visitors['date'] <= x['date'],\n",
    "                                                                         visitors['group'] == x['group'])]\n",
    "                                       .agg({'date': np.max,\n",
    "                                             'group':np.max,\n",
    "                                             'visitors':np.sum}), axis='columns')\\\n",
    "                                       .sort_values(by=list(datesGroups.columns))\n",
    "\n",
    "# Определите переменную cumulativeData, объединив ordersAggregated и visitorsAggregated по колонкам 'date', 'group' методом merge()\n",
    "cumulativeData = ordersAggregated.merge(right=visitorsAggregated, left_on=['date', 'group'], right_on=['date', 'group'])\n",
    "\n",
    "# Присвойте столбцам cumulativeData названия ['date', 'group', 'orders', 'buyers', 'revenue', 'visitors']\n",
    "cumulativeData.columns = ['date', 'group', 'orders', 'buyers', 'revenue', 'visitors']\n",
    "\n",
    "print(cumulativeData.head())"
   ],
   "metadata": {
    "collapsed": false,
    "pycharm": {
     "name": "#%%\n"
    }
   }
  },
  {
   "cell_type": "markdown",
   "source": [
    "# 2.\n",
    "Объявите переменные cumulativeRevenueA и cumulativeRevenueB, в которых сохраните данные о датах, выручке и числе заказов в группах A и B.\n",
    "Постройте графики кумулятивной выручки по дням по группам.\n",
    "\n",
    "Подсказка\n",
    "Рассчитайте переменные, как это было сделано в уроке. Постройте графики методом plt.plot() с параметрами label='A' и label='B' соответственно. Выведите легенду на графике методом plt.legend()."
   ],
   "metadata": {
    "collapsed": false,
    "pycharm": {
     "name": "#%% md\n"
    }
   }
  },
  {
   "cell_type": "code",
   "execution_count": null,
   "outputs": [],
   "source": [
    "# датафрейм с кумулятивным количеством заказов и кумулятивной выручкой по дням в группе А\n",
    "cumulativeRevenueA = cumulativeData[cumulativeData['group'] == 'A'][['date', 'revenue', 'orders']]\n",
    "\n",
    "# датафрейм с кумулятивным количеством заказов и кумулятивной выручкой по дням в группе B\n",
    "cumulativeRevenueB = cumulativeData[cumulativeData['group'] == 'B'][['date', 'revenue', 'orders']]\n",
    "\n",
    "# Строим график выручки группы А\n",
    "plt.plot(cumulativeRevenueA['date'],\n",
    "         cumulativeRevenueA['revenue'],\n",
    "         label='A')\n",
    "# Строим график выручки группы B\n",
    "plt.plot(cumulativeRevenueB['date'],\n",
    "         cumulativeRevenueB['revenue'],\n",
    "         label='B')\n",
    "plt.legend()\n",
    "plt.show()"
   ],
   "metadata": {
    "collapsed": false,
    "pycharm": {
     "name": "#%%\n"
    }
   }
  },
  {
   "cell_type": "markdown",
   "source": [
    "# 3.\n",
    "Для каждой группы постройте графики кумулятивного среднего чека по дням.\n",
    "\n",
    "Подсказка\n",
    "Вычислите средний чек так: cumulativeRevenueA['revenue']/cumulativeRevenueA['orders']. Постройте графики методом plt.plot() с параметрами label='A' и label='B' соответственно. Выведите легенду на графике методом plt.legend()."
   ],
   "metadata": {
    "collapsed": false,
    "pycharm": {
     "name": "#%% md\n"
    }
   }
  },
  {
   "cell_type": "code",
   "execution_count": 35,
   "outputs": [
    {
     "data": {
      "text/plain": "<Figure size 432x288 with 1 Axes>",
      "image/png": "[encoded data removed]"
     },
     "metadata": {
      "needs_background": "light"
     },
     "output_type": "display_data"
    }
   ],
   "source": [
    "plt.plot(cumulativeRevenueA['date'],\n",
    "         cumulativeRevenueA['revenue'] / cumulativeRevenueA['orders'],\n",
    "         label='A')\n",
    "\n",
    "plt.plot(cumulativeRevenueB['date'],\n",
    "         cumulativeRevenueB['revenue'] / cumulativeRevenueB['orders'],\n",
    "         label='B')\n",
    "plt.legend()\n",
    "plt.show()"
   ],
   "metadata": {
    "collapsed": false,
    "pycharm": {
     "name": "#%%\n"
    }
   }
  },
  {
   "cell_type": "markdown",
   "source": [
    "# 4.\n",
    "Объедините таблицы cumulativeRevenueA и cumulativeRevenueB методом merge() так, чтобы она содержала столбцы: ['date', 'revenueA', 'revenueB', 'ordersA', 'ordersB']. Сохраните в переменной mergedCumulativeRevenue.\n",
    "Постройте график относительно различия кумулятивного среднего чека группы B к группе A.\n",
    "Добавьте пунктирную линию оси X (значение оси Y = 0) методом plt.axhline().\n",
    "\n",
    "Подсказка\n",
    "Объедините таблицы так:\n",
    "mergedCumulativeRevenue = cumulativeRevenueA.merge(cumulativeRevenueB, left_on='date', right_on='date', how='left', suffixes=['A', 'B'])\n",
    "Постройте график относительного различия методом plt.plot(). Методу plt.axhline() передайте параметры: (y=0, color='black', linestyle='--')."
   ],
   "metadata": {
    "collapsed": false,
    "pycharm": {
     "name": "#%% md\n"
    }
   }
  },
  {
   "cell_type": "code",
   "execution_count": 41,
   "outputs": [
    {
     "name": "stderr",
     "output_type": "stream",
     "text": [
      "No artists with labels found to put in legend.  Note that artists whose label start with an underscore are ignored when legend() is called with no argument.\n"
     ]
    },
    {
     "data": {
      "text/plain": "<Figure size 432x288 with 1 Axes>",
      "image/png": "[encoded data removed]"
     },
     "metadata": {
      "needs_background": "light"
     },
     "output_type": "display_data"
    }
   ],
   "source": [
    "mergedCumulativeRevenue = cumulativeRevenueA.merge(right=cumulativeRevenueB,\n",
    "                                                   how='left',\n",
    "                                                   left_on='date',\n",
    "                                                   right_on='date',\n",
    "                                                   suffixes=['A', 'B'])\n",
    "\n",
    "plt.plot(mergedCumulativeRevenue['date'],\n",
    "         ((mergedCumulativeRevenue['revenueB'] / mergedCumulativeRevenue['ordersB']) / (mergedCumulativeRevenue['revenueA'] / mergedCumulativeRevenue['ordersA']) - 1))\n",
    "plt.axhline(y=0, color='black', linestyle='--')\n",
    "plt.legend()\n",
    "plt.show()"
   ],
   "metadata": {
    "collapsed": false,
    "pycharm": {
     "name": "#%%\n"
    }
   }
  },
  {
   "cell_type": "markdown",
   "source": [
    "# 5.\n",
    "Добавьте в cumulativeData столбец 'conversion' c отношением числа заказов к количеству пользователей в указанной группе в указанный день.\n",
    "Объявите переменные cumulativeDataA и cumulativeDataB, в которых сохраните данные о заказах в сегментах A и B соответственно.\n",
    "Постройте графики кумулятивной конверсии по дням по группам.\n",
    "Задайте масштаб осей так: plt.axis([dt.datetime(2019, 3, 10), dt.datetime(2019, 4, 23), 0, 0.05]).\n",
    "\n",
    "Подсказка\n",
    "Постройте графики методом plt.plot() с параметрами label='A' и label='B' соответственно. Выведите легенду на графике методом plt.legend()."
   ],
   "metadata": {
    "collapsed": false,
    "pycharm": {
     "name": "#%% md\n"
    }
   }
  },
  {
   "cell_type": "code",
   "execution_count": 43,
   "outputs": [
    {
     "data": {
      "text/plain": "(17965.0, 18009.0, 0.0, 0.05)"
     },
     "execution_count": 43,
     "metadata": {},
     "output_type": "execute_result"
    },
    {
     "data": {
      "text/plain": "<Figure size 432x288 with 1 Axes>",
      "image/png": "[encoded data removed]"
     },
     "metadata": {
      "needs_background": "light"
     },
     "output_type": "display_data"
    }
   ],
   "source": [
    "cumulativeData['conversion'] = cumulativeData['orders'] / cumulativeData['visitors']\n",
    "cumulativeDataA = cumulativeData[cumulativeData['group'] == 'A']\n",
    "cumulativeDataB = cumulativeData[cumulativeData['group'] == 'B']\n",
    "\n",
    "plt.plot(cumulativeDataA['date'],\n",
    "         cumulativeDataA['conversion'],\n",
    "         label='A')\n",
    "\n",
    "plt.plot(cumulativeDataB['date'],\n",
    "         cumulativeDataB['conversion'],\n",
    "         label='B')\n",
    "plt.legend()\n",
    "\n",
    "plt.axis([dt.datetime(2019, 3, 10), dt.datetime(2019, 4, 23), 0, 0.05])"
   ],
   "metadata": {
    "collapsed": false,
    "pycharm": {
     "name": "#%%\n"
    }
   }
  },
  {
   "cell_type": "markdown",
   "source": [
    "# 6.\n",
    "Объедините таблицы cumulativeDataA и cumulativeDataB методом merge() так, чтобы она содержала столбцы: ['date', 'conversionA', 'conversionB']. Сохраните в переменной mergedCumulativeConversions.\n",
    "Постройте график относительного различия кумулятивной конверсии группы B к группе A.\n",
    "Добавьте пунктирную линию оси X чёрного цвета ('black') со значением оси Y = 0 методом plt.axhline(). И ещё одну линию оси X серого цвета ('grey') со значением оси Y = 0.2.\n",
    "Задайте масштаб осей так: plt.axis([\"2019-03-10\", '2019-04-23', -0.5, 0.5]).\n",
    "\n",
    "Подсказка\n",
    "Объедините таблицы с конверсиями так:\n",
    "mergedCumulativeConversions = cumulativeDataA[['date','conversion']].merge(cumulativeDataB[['date','conversion']], left_on='date', right_on='date', how='left', suffixes=['A', 'B'])\n",
    "Постройте график относительного различия методом plt.plot(). Первому методу plt.axhline() передайте параметры: (y=0, color='black', linestyle='--'). Второму — параметры (y=0.2, color='grey', linestyle='--')."
   ],
   "metadata": {
    "collapsed": false,
    "pycharm": {
     "name": "#%% md\n"
    }
   }
  },
  {
   "cell_type": "code",
   "execution_count": 48,
   "outputs": [
    {
     "ename": "ConversionError",
     "evalue": "Failed to convert value(s) to axis units: '2019-03-10'",
     "output_type": "error",
     "traceback": [
      "\u001B[1;31m---------------------------------------------------------------------------\u001B[0m",
      "\u001B[1;31mIndexError\u001B[0m                                Traceback (most recent call last)",
      "File \u001B[1;32m~\\venv\\venv3.8\\lib\\site-packages\\matplotlib\\axis.py:1506\u001B[0m, in \u001B[0;36mAxis.convert_units\u001B[1;34m(self, x)\u001B[0m\n\u001B[0;32m   1505\u001B[0m \u001B[38;5;28;01mtry\u001B[39;00m:\n\u001B[1;32m-> 1506\u001B[0m     ret \u001B[38;5;241m=\u001B[39m \u001B[38;5;28;43mself\u001B[39;49m\u001B[38;5;241;43m.\u001B[39;49m\u001B[43mconverter\u001B[49m\u001B[38;5;241;43m.\u001B[39;49m\u001B[43mconvert\u001B[49m\u001B[43m(\u001B[49m\u001B[43mx\u001B[49m\u001B[43m,\u001B[49m\u001B[43m \u001B[49m\u001B[38;5;28;43mself\u001B[39;49m\u001B[38;5;241;43m.\u001B[39;49m\u001B[43munits\u001B[49m\u001B[43m,\u001B[49m\u001B[43m \u001B[49m\u001B[38;5;28;43mself\u001B[39;49m\u001B[43m)\u001B[49m\n\u001B[0;32m   1507\u001B[0m \u001B[38;5;28;01mexcept\u001B[39;00m \u001B[38;5;167;01mException\u001B[39;00m \u001B[38;5;28;01mas\u001B[39;00m e:\n",
      "File \u001B[1;32m~\\venv\\venv3.8\\lib\\site-packages\\matplotlib\\dates.py:1920\u001B[0m, in \u001B[0;36m_SwitchableDateConverter.convert\u001B[1;34m(self, *args, **kwargs)\u001B[0m\n\u001B[0;32m   1919\u001B[0m \u001B[38;5;28;01mdef\u001B[39;00m \u001B[38;5;21mconvert\u001B[39m(\u001B[38;5;28mself\u001B[39m, \u001B[38;5;241m*\u001B[39margs, \u001B[38;5;241m*\u001B[39m\u001B[38;5;241m*\u001B[39mkwargs):\n\u001B[1;32m-> 1920\u001B[0m     \u001B[38;5;28;01mreturn\u001B[39;00m \u001B[38;5;28;43mself\u001B[39;49m\u001B[38;5;241;43m.\u001B[39;49m\u001B[43m_get_converter\u001B[49m\u001B[43m(\u001B[49m\u001B[43m)\u001B[49m\u001B[38;5;241;43m.\u001B[39;49m\u001B[43mconvert\u001B[49m\u001B[43m(\u001B[49m\u001B[38;5;241;43m*\u001B[39;49m\u001B[43margs\u001B[49m\u001B[43m,\u001B[49m\u001B[43m \u001B[49m\u001B[38;5;241;43m*\u001B[39;49m\u001B[38;5;241;43m*\u001B[39;49m\u001B[43mkwargs\u001B[49m\u001B[43m)\u001B[49m\n",
      "File \u001B[1;32m~\\venv\\venv3.8\\lib\\site-packages\\matplotlib\\dates.py:1849\u001B[0m, in \u001B[0;36mDateConverter.convert\u001B[1;34m(value, unit, axis)\u001B[0m\n\u001B[0;32m   1843\u001B[0m \u001B[38;5;124;03m\"\"\"\u001B[39;00m\n\u001B[0;32m   1844\u001B[0m \u001B[38;5;124;03mIf *value* is not already a number or sequence of numbers, convert it\u001B[39;00m\n\u001B[0;32m   1845\u001B[0m \u001B[38;5;124;03mwith `date2num`.\u001B[39;00m\n\u001B[0;32m   1846\u001B[0m \n\u001B[0;32m   1847\u001B[0m \u001B[38;5;124;03mThe *unit* and *axis* arguments are not used.\u001B[39;00m\n\u001B[0;32m   1848\u001B[0m \u001B[38;5;124;03m\"\"\"\u001B[39;00m\n\u001B[1;32m-> 1849\u001B[0m \u001B[38;5;28;01mreturn\u001B[39;00m \u001B[43mdate2num\u001B[49m\u001B[43m(\u001B[49m\u001B[43mvalue\u001B[49m\u001B[43m)\u001B[49m\n",
      "File \u001B[1;32m~\\venv\\venv3.8\\lib\\site-packages\\matplotlib\\dates.py:442\u001B[0m, in \u001B[0;36mdate2num\u001B[1;34m(d)\u001B[0m\n\u001B[0;32m    441\u001B[0m     \u001B[38;5;28;01mreturn\u001B[39;00m d\n\u001B[1;32m--> 442\u001B[0m tzi \u001B[38;5;241m=\u001B[39m \u001B[38;5;28mgetattr\u001B[39m(\u001B[43md\u001B[49m\u001B[43m[\u001B[49m\u001B[38;5;241;43m0\u001B[39;49m\u001B[43m]\u001B[49m, \u001B[38;5;124m'\u001B[39m\u001B[38;5;124mtzinfo\u001B[39m\u001B[38;5;124m'\u001B[39m, \u001B[38;5;28;01mNone\u001B[39;00m)\n\u001B[0;32m    443\u001B[0m \u001B[38;5;28;01mif\u001B[39;00m tzi \u001B[38;5;129;01mis\u001B[39;00m \u001B[38;5;129;01mnot\u001B[39;00m \u001B[38;5;28;01mNone\u001B[39;00m:\n\u001B[0;32m    444\u001B[0m     \u001B[38;5;66;03m# make datetime naive:\u001B[39;00m\n",
      "\u001B[1;31mIndexError\u001B[0m: too many indices for array: array is 0-dimensional, but 1 were indexed",
      "\nThe above exception was the direct cause of the following exception:\n",
      "\u001B[1;31mConversionError\u001B[0m                           Traceback (most recent call last)",
      "Input \u001B[1;32mIn [48]\u001B[0m, in \u001B[0;36m<module>\u001B[1;34m\u001B[0m\n\u001B[0;32m     11\u001B[0m plt\u001B[38;5;241m.\u001B[39maxhline(y\u001B[38;5;241m=\u001B[39m\u001B[38;5;241m0\u001B[39m, color\u001B[38;5;241m=\u001B[39m\u001B[38;5;124m'\u001B[39m\u001B[38;5;124mblack\u001B[39m\u001B[38;5;124m'\u001B[39m, linestyle\u001B[38;5;241m=\u001B[39m\u001B[38;5;124m'\u001B[39m\u001B[38;5;124m--\u001B[39m\u001B[38;5;124m'\u001B[39m)\n\u001B[0;32m     12\u001B[0m plt\u001B[38;5;241m.\u001B[39maxhline(y\u001B[38;5;241m=\u001B[39m\u001B[38;5;241m0.2\u001B[39m, color\u001B[38;5;241m=\u001B[39m\u001B[38;5;124m'\u001B[39m\u001B[38;5;124mgrey\u001B[39m\u001B[38;5;124m'\u001B[39m, linestyle\u001B[38;5;241m=\u001B[39m\u001B[38;5;124m'\u001B[39m\u001B[38;5;124m--\u001B[39m\u001B[38;5;124m'\u001B[39m)\n\u001B[1;32m---> 13\u001B[0m \u001B[43mplt\u001B[49m\u001B[38;5;241;43m.\u001B[39;49m\u001B[43maxis\u001B[49m\u001B[43m(\u001B[49m\u001B[43m[\u001B[49m\u001B[38;5;124;43m'\u001B[39;49m\u001B[38;5;124;43m2019-03-10\u001B[39;49m\u001B[38;5;124;43m'\u001B[39;49m\u001B[43m,\u001B[49m\u001B[43m \u001B[49m\u001B[38;5;124;43m'\u001B[39;49m\u001B[38;5;124;43m2019-04-23\u001B[39;49m\u001B[38;5;124;43m'\u001B[39;49m\u001B[43m,\u001B[49m\u001B[43m \u001B[49m\u001B[38;5;241;43m-\u001B[39;49m\u001B[38;5;241;43m0.5\u001B[39;49m\u001B[43m,\u001B[49m\u001B[43m \u001B[49m\u001B[38;5;241;43m0.5\u001B[39;49m\u001B[43m]\u001B[49m\u001B[43m)\u001B[49m\n",
      "File \u001B[1;32m~\\venv\\venv3.8\\lib\\site-packages\\matplotlib\\pyplot.py:2361\u001B[0m, in \u001B[0;36maxis\u001B[1;34m(emit, *args, **kwargs)\u001B[0m\n\u001B[0;32m   2359\u001B[0m \u001B[38;5;129m@_copy_docstring_and_deprecators\u001B[39m(Axes\u001B[38;5;241m.\u001B[39maxis)\n\u001B[0;32m   2360\u001B[0m \u001B[38;5;28;01mdef\u001B[39;00m \u001B[38;5;21maxis\u001B[39m(\u001B[38;5;241m*\u001B[39margs, emit\u001B[38;5;241m=\u001B[39m\u001B[38;5;28;01mTrue\u001B[39;00m, \u001B[38;5;241m*\u001B[39m\u001B[38;5;241m*\u001B[39mkwargs):\n\u001B[1;32m-> 2361\u001B[0m     \u001B[38;5;28;01mreturn\u001B[39;00m \u001B[43mgca\u001B[49m\u001B[43m(\u001B[49m\u001B[43m)\u001B[49m\u001B[38;5;241;43m.\u001B[39;49m\u001B[43maxis\u001B[49m\u001B[43m(\u001B[49m\u001B[38;5;241;43m*\u001B[39;49m\u001B[43margs\u001B[49m\u001B[43m,\u001B[49m\u001B[43m \u001B[49m\u001B[43memit\u001B[49m\u001B[38;5;241;43m=\u001B[39;49m\u001B[43memit\u001B[49m\u001B[43m,\u001B[49m\u001B[43m \u001B[49m\u001B[38;5;241;43m*\u001B[39;49m\u001B[38;5;241;43m*\u001B[39;49m\u001B[43mkwargs\u001B[49m\u001B[43m)\u001B[49m\n",
      "File \u001B[1;32m~\\venv\\venv3.8\\lib\\site-packages\\matplotlib\\axes\\_base.py:2091\u001B[0m, in \u001B[0;36m_AxesBase.axis\u001B[1;34m(self, emit, *args, **kwargs)\u001B[0m\n\u001B[0;32m   2085\u001B[0m     xauto \u001B[38;5;241m=\u001B[39m (\u001B[38;5;28;01mNone\u001B[39;00m  \u001B[38;5;66;03m# Keep autoscale state as is.\u001B[39;00m\n\u001B[0;32m   2086\u001B[0m              \u001B[38;5;28;01mif\u001B[39;00m xmin \u001B[38;5;129;01mis\u001B[39;00m \u001B[38;5;28;01mNone\u001B[39;00m \u001B[38;5;129;01mand\u001B[39;00m xmax \u001B[38;5;129;01mis\u001B[39;00m \u001B[38;5;28;01mNone\u001B[39;00m\n\u001B[0;32m   2087\u001B[0m              \u001B[38;5;28;01melse\u001B[39;00m \u001B[38;5;28;01mFalse\u001B[39;00m)  \u001B[38;5;66;03m# Turn off autoscale.\u001B[39;00m\n\u001B[0;32m   2088\u001B[0m     yauto \u001B[38;5;241m=\u001B[39m (\u001B[38;5;28;01mNone\u001B[39;00m\n\u001B[0;32m   2089\u001B[0m              \u001B[38;5;28;01mif\u001B[39;00m ymin \u001B[38;5;129;01mis\u001B[39;00m \u001B[38;5;28;01mNone\u001B[39;00m \u001B[38;5;129;01mand\u001B[39;00m ymax \u001B[38;5;129;01mis\u001B[39;00m \u001B[38;5;28;01mNone\u001B[39;00m\n\u001B[0;32m   2090\u001B[0m              \u001B[38;5;28;01melse\u001B[39;00m \u001B[38;5;28;01mFalse\u001B[39;00m)\n\u001B[1;32m-> 2091\u001B[0m     \u001B[38;5;28;43mself\u001B[39;49m\u001B[38;5;241;43m.\u001B[39;49m\u001B[43mset_xlim\u001B[49m\u001B[43m(\u001B[49m\u001B[43mxmin\u001B[49m\u001B[43m,\u001B[49m\u001B[43m \u001B[49m\u001B[43mxmax\u001B[49m\u001B[43m,\u001B[49m\u001B[43m \u001B[49m\u001B[43memit\u001B[49m\u001B[38;5;241;43m=\u001B[39;49m\u001B[43memit\u001B[49m\u001B[43m,\u001B[49m\u001B[43m \u001B[49m\u001B[43mauto\u001B[49m\u001B[38;5;241;43m=\u001B[39;49m\u001B[43mxauto\u001B[49m\u001B[43m)\u001B[49m\n\u001B[0;32m   2092\u001B[0m     \u001B[38;5;28mself\u001B[39m\u001B[38;5;241m.\u001B[39mset_ylim(ymin, ymax, emit\u001B[38;5;241m=\u001B[39memit, auto\u001B[38;5;241m=\u001B[39myauto)\n\u001B[0;32m   2093\u001B[0m \u001B[38;5;28;01mif\u001B[39;00m kwargs:\n",
      "File \u001B[1;32m~\\venv\\venv3.8\\lib\\site-packages\\matplotlib\\axes\\_base.py:3688\u001B[0m, in \u001B[0;36m_AxesBase.set_xlim\u001B[1;34m(self, left, right, emit, auto, xmin, xmax)\u001B[0m\n\u001B[0;32m   3685\u001B[0m     right \u001B[38;5;241m=\u001B[39m xmax\n\u001B[0;32m   3687\u001B[0m \u001B[38;5;28mself\u001B[39m\u001B[38;5;241m.\u001B[39m_process_unit_info([(\u001B[38;5;124m\"\u001B[39m\u001B[38;5;124mx\u001B[39m\u001B[38;5;124m\"\u001B[39m, (left, right))], convert\u001B[38;5;241m=\u001B[39m\u001B[38;5;28;01mFalse\u001B[39;00m)\n\u001B[1;32m-> 3688\u001B[0m left \u001B[38;5;241m=\u001B[39m \u001B[38;5;28;43mself\u001B[39;49m\u001B[38;5;241;43m.\u001B[39;49m\u001B[43m_validate_converted_limits\u001B[49m\u001B[43m(\u001B[49m\u001B[43mleft\u001B[49m\u001B[43m,\u001B[49m\u001B[43m \u001B[49m\u001B[38;5;28;43mself\u001B[39;49m\u001B[38;5;241;43m.\u001B[39;49m\u001B[43mconvert_xunits\u001B[49m\u001B[43m)\u001B[49m\n\u001B[0;32m   3689\u001B[0m right \u001B[38;5;241m=\u001B[39m \u001B[38;5;28mself\u001B[39m\u001B[38;5;241m.\u001B[39m_validate_converted_limits(right, \u001B[38;5;28mself\u001B[39m\u001B[38;5;241m.\u001B[39mconvert_xunits)\n\u001B[0;32m   3691\u001B[0m \u001B[38;5;28;01mif\u001B[39;00m left \u001B[38;5;129;01mis\u001B[39;00m \u001B[38;5;28;01mNone\u001B[39;00m \u001B[38;5;129;01mor\u001B[39;00m right \u001B[38;5;129;01mis\u001B[39;00m \u001B[38;5;28;01mNone\u001B[39;00m:\n\u001B[0;32m   3692\u001B[0m     \u001B[38;5;66;03m# Axes init calls set_xlim(0, 1) before get_xlim() can be called,\u001B[39;00m\n\u001B[0;32m   3693\u001B[0m     \u001B[38;5;66;03m# so only grab the limits if we really need them.\u001B[39;00m\n",
      "File \u001B[1;32m~\\venv\\venv3.8\\lib\\site-packages\\matplotlib\\axes\\_base.py:3602\u001B[0m, in \u001B[0;36m_AxesBase._validate_converted_limits\u001B[1;34m(self, limit, convert)\u001B[0m\n\u001B[0;32m   3592\u001B[0m \u001B[38;5;124;03m\"\"\"\u001B[39;00m\n\u001B[0;32m   3593\u001B[0m \u001B[38;5;124;03mRaise ValueError if converted limits are non-finite.\u001B[39;00m\n\u001B[0;32m   3594\u001B[0m \n\u001B[1;32m   (...)\u001B[0m\n\u001B[0;32m   3599\u001B[0m \u001B[38;5;124;03mThe limit value after call to convert(), or None if limit is None.\u001B[39;00m\n\u001B[0;32m   3600\u001B[0m \u001B[38;5;124;03m\"\"\"\u001B[39;00m\n\u001B[0;32m   3601\u001B[0m \u001B[38;5;28;01mif\u001B[39;00m limit \u001B[38;5;129;01mis\u001B[39;00m \u001B[38;5;129;01mnot\u001B[39;00m \u001B[38;5;28;01mNone\u001B[39;00m:\n\u001B[1;32m-> 3602\u001B[0m     converted_limit \u001B[38;5;241m=\u001B[39m \u001B[43mconvert\u001B[49m\u001B[43m(\u001B[49m\u001B[43mlimit\u001B[49m\u001B[43m)\u001B[49m\n\u001B[0;32m   3603\u001B[0m     \u001B[38;5;28;01mif\u001B[39;00m (\u001B[38;5;28misinstance\u001B[39m(converted_limit, Real)\n\u001B[0;32m   3604\u001B[0m             \u001B[38;5;129;01mand\u001B[39;00m \u001B[38;5;129;01mnot\u001B[39;00m np\u001B[38;5;241m.\u001B[39misfinite(converted_limit)):\n\u001B[0;32m   3605\u001B[0m         \u001B[38;5;28;01mraise\u001B[39;00m \u001B[38;5;167;01mValueError\u001B[39;00m(\u001B[38;5;124m\"\u001B[39m\u001B[38;5;124mAxis limits cannot be NaN or Inf\u001B[39m\u001B[38;5;124m\"\u001B[39m)\n",
      "File \u001B[1;32m~\\venv\\venv3.8\\lib\\site-packages\\matplotlib\\artist.py:252\u001B[0m, in \u001B[0;36mArtist.convert_xunits\u001B[1;34m(self, x)\u001B[0m\n\u001B[0;32m    250\u001B[0m \u001B[38;5;28;01mif\u001B[39;00m ax \u001B[38;5;129;01mis\u001B[39;00m \u001B[38;5;28;01mNone\u001B[39;00m \u001B[38;5;129;01mor\u001B[39;00m ax\u001B[38;5;241m.\u001B[39mxaxis \u001B[38;5;129;01mis\u001B[39;00m \u001B[38;5;28;01mNone\u001B[39;00m:\n\u001B[0;32m    251\u001B[0m     \u001B[38;5;28;01mreturn\u001B[39;00m x\n\u001B[1;32m--> 252\u001B[0m \u001B[38;5;28;01mreturn\u001B[39;00m \u001B[43max\u001B[49m\u001B[38;5;241;43m.\u001B[39;49m\u001B[43mxaxis\u001B[49m\u001B[38;5;241;43m.\u001B[39;49m\u001B[43mconvert_units\u001B[49m\u001B[43m(\u001B[49m\u001B[43mx\u001B[49m\u001B[43m)\u001B[49m\n",
      "File \u001B[1;32m~\\venv\\venv3.8\\lib\\site-packages\\matplotlib\\axis.py:1508\u001B[0m, in \u001B[0;36mAxis.convert_units\u001B[1;34m(self, x)\u001B[0m\n\u001B[0;32m   1506\u001B[0m     ret \u001B[38;5;241m=\u001B[39m \u001B[38;5;28mself\u001B[39m\u001B[38;5;241m.\u001B[39mconverter\u001B[38;5;241m.\u001B[39mconvert(x, \u001B[38;5;28mself\u001B[39m\u001B[38;5;241m.\u001B[39munits, \u001B[38;5;28mself\u001B[39m)\n\u001B[0;32m   1507\u001B[0m \u001B[38;5;28;01mexcept\u001B[39;00m \u001B[38;5;167;01mException\u001B[39;00m \u001B[38;5;28;01mas\u001B[39;00m e:\n\u001B[1;32m-> 1508\u001B[0m     \u001B[38;5;28;01mraise\u001B[39;00m munits\u001B[38;5;241m.\u001B[39mConversionError(\u001B[38;5;124m'\u001B[39m\u001B[38;5;124mFailed to convert value(s) to axis \u001B[39m\u001B[38;5;124m'\u001B[39m\n\u001B[0;32m   1509\u001B[0m                                  \u001B[38;5;124mf\u001B[39m\u001B[38;5;124m'\u001B[39m\u001B[38;5;124munits: \u001B[39m\u001B[38;5;132;01m{\u001B[39;00mx\u001B[38;5;132;01m!r}\u001B[39;00m\u001B[38;5;124m'\u001B[39m) \u001B[38;5;28;01mfrom\u001B[39;00m \u001B[38;5;21;01me\u001B[39;00m\n\u001B[0;32m   1510\u001B[0m \u001B[38;5;28;01mreturn\u001B[39;00m ret\n",
      "\u001B[1;31mConversionError\u001B[0m: Failed to convert value(s) to axis units: '2019-03-10'"
     ]
    },
    {
     "data": {
      "text/plain": "<Figure size 432x288 with 1 Axes>",
      "image/png": "[encoded data removed]"
     },
     "metadata": {
      "needs_background": "light"
     },
     "output_type": "display_data"
    }
   ],
   "source": [
    "mergedCumulativeConversions = cumulativeDataA[['date','conversion']].merge(cumulativeDataB[['date', 'conversion']],\n",
    "                                                    left_on='date',\n",
    "                                                    right_on='date',\n",
    "                                                    how='left',\n",
    "                                                    suffixes=['A', 'B'])\n",
    "\n",
    "plt.plot(mergedCumulativeConversions['date'],\n",
    "         (mergedCumulativeConversions['conversionB'] / mergedCumulativeConversions['conversionA'] - 1),\n",
    "         label=\"Относительный прирост конверсии группы B относительно группы A\")\n",
    "\n",
    "plt.axhline(y=0, color='black', linestyle='--')\n",
    "plt.axhline(y=0.2, color='grey', linestyle='--')\n",
    "plt.axis(['2019-03-10', '2019-04-23', -0.5, 0.5])"
   ],
   "metadata": {
    "collapsed": false,
    "pycharm": {
     "name": "#%%\n"
    }
   }
  },
  {
   "cell_type": "code",
   "execution_count": 34,
   "outputs": [
    {
     "name": "stdout",
     "output_type": "stream",
     "text": [
      "         date   revenue  orders\n",
      "0  2019-03-11    110291      10\n",
      "2  2019-03-12    343089      35\n",
      "4  2019-03-13   1012663      59\n",
      "6  2019-03-14   1342703      92\n",
      "8  2019-03-15   1448445     115\n",
      "10 2019-03-16   1580480     133\n",
      "12 2019-03-17   1678182     150\n",
      "14 2019-03-18   3121617     175\n",
      "16 2019-03-19   3398643     196\n",
      "18 2019-03-20   3535463     220\n",
      "20 2019-03-21   3563516     232\n",
      "22 2019-03-22   3651968     252\n",
      "24 2019-03-23   4696119     274\n",
      "26 2019-03-24   4761952     288\n",
      "28 2019-03-25   5041119     308\n",
      "30 2019-03-26   5186304     330\n",
      "32 2019-03-27   5493773     355\n",
      "34 2019-03-28   5670877     374\n",
      "36 2019-03-29   5760813     396\n",
      "38 2019-03-30   5868971     412\n",
      "40 2019-03-31   5944260     429\n",
      "42 2019-04-01   6037307     456\n",
      "44 2019-04-02   6119594     474\n",
      "46 2019-04-03   6266654     499\n",
      "48 2019-04-04   6409252     524\n",
      "50 2019-04-05   6484086     548\n",
      "52 2019-04-06   6531276     558\n",
      "54 2019-04-07   6611036     576\n",
      "56 2019-04-08   6727823     604\n",
      "58 2019-04-09   6787849     625\n",
      "60 2019-04-10   6972629     649\n",
      "62 2019-04-11   7127052     671\n",
      "64 2019-04-12   7193760     688\n",
      "66 2019-04-13   7207944     698\n",
      "68 2019-04-14   7322442     715\n",
      "70 2019-04-15   7395739     743\n",
      "72 2019-04-16   7454378     762\n",
      "74 2019-04-17   7526939     784\n",
      "76 2019-04-18   8796667     815\n",
      "78 2019-04-19   9988718     841\n",
      "80 2019-04-20  10370735     854\n",
      "82 2019-04-21  10426064     873\n",
      "84 2019-04-22  10433545     875\n",
      "         date   revenue  orders\n",
      "1  2019-03-11     36646       9\n",
      "3  2019-03-12     90491      35\n",
      "5  2019-03-13    180578      56\n",
      "7  2019-03-14   1409487      67\n",
      "9  2019-03-15   1586531      93\n",
      "11 2019-03-16   1698667     112\n",
      "13 2019-03-17   1866554     133\n",
      "15 2019-03-18   1993679     160\n",
      "17 2019-03-19   2059814     173\n",
      "19 2019-03-20   2159310     193\n",
      "21 2019-03-21   2440635     218\n",
      "23 2019-03-22   2760006     257\n",
      "25 2019-03-23   2826982     283\n",
      "27 2019-03-24   3000090     311\n",
      "29 2019-03-25   3161013     340\n",
      "31 2019-03-26   3307365     376\n",
      "33 2019-03-27   3420909     400\n",
      "35 2019-03-28   3504298     424\n",
      "37 2019-03-29   3648954     464\n",
      "39 2019-03-30   3839750     476\n",
      "41 2019-03-31   3953579     500\n",
      "43 2019-04-01   4144462     538\n",
      "45 2019-04-02   4199920     552\n",
      "47 2019-04-03   4303072     576\n",
      "49 2019-04-04   4451898     608\n",
      "51 2019-04-05   8711326     632\n",
      "53 2019-04-06   8752998     650\n",
      "55 2019-04-07   8848884     678\n",
      "57 2019-04-08   8994609     703\n",
      "59 2019-04-09   9221363     736\n",
      "61 2019-04-10   9834106     771\n",
      "63 2019-04-11  10133119     812\n",
      "65 2019-04-12  10332774     851\n",
      "67 2019-04-13  10519818     872\n",
      "69 2019-04-14  10591245     892\n",
      "71 2019-04-15  10898257     931\n",
      "73 2019-04-16  11508435     956\n",
      "75 2019-04-17  11958171     990\n",
      "77 2019-04-18  12706319    1018\n",
      "79 2019-04-19  12880916    1040\n",
      "81 2019-04-20  12903623    1052\n",
      "83 2019-04-21  13019059    1073\n",
      "85 2019-04-22  13030096    1079\n"
     ]
    }
   ],
   "source": [
    "print(cumulativeRevenueA)\n",
    "print(cumulativeRevenueB)"
   ],
   "metadata": {
    "collapsed": false,
    "pycharm": {
     "name": "#%%\n"
    }
   }
  }
 ],
 "metadata": {
  "kernelspec": {
   "display_name": "Python 3",
   "language": "python",
   "name": "python3"
  },
  "language_info": {
   "codemirror_mode": {
    "name": "ipython",
    "version": 2
   },
   "file_extension": ".py",
   "mimetype": "text/x-python",
   "name": "python",
   "nbconvert_exporter": "python",
   "pygments_lexer": "ipython2",
   "version": "2.7.6"
  }
 },
 "nbformat": 4,
 "nbformat_minor": 0
}