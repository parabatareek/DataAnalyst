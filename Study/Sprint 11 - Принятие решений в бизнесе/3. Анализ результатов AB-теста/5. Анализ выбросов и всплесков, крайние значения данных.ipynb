{
 "cells": [
  {
   "cell_type": "markdown",
   "source": [
    "# 1.\n",
    "В файле data_for_tasks_3.csv информация о заказах пользователей в интернет-магазине. Названия столбцов:\n",
    "orderId — идентификатор заказа;\n",
    "userId — идентификатор пользователя, совершившего заказ;\n",
    "group — группа A/B-теста;\n",
    "revenue — выручка заказа;\n",
    "date — дата заказа.\n",
    "Найдите число заказов по пользователям — создайте датафрейм c двумя столбцами: 'userId' и 'orders'. Назовите его ordersByUsers. Отсортируйте по убыванию количества заказов пользователей и выведите на экран первые 10 строк.\n",
    "\n",
    "Подсказка\n",
    "Найдите число заказов по пользователям выражением: data.drop(['...', '...', '...'], axis=1).groupby('...', as_index=False).agg({'...' : pd.Series.nunique}). Вместо '...' укажите нужные названия столбцов.\n",
    "Переименуйте столбцы датафрейма ordersByUsers методом df.columns.\n",
    "Отсортируйте данные методом sort_values(by='...',ascending=False). Параметру by передайте название столбца 'orders'.\n"
   ],
   "metadata": {
    "collapsed": false,
    "pycharm": {
     "name": "#%% md\n"
    }
   }
  },
  {
   "cell_type": "code",
   "execution_count": 10,
   "outputs": [
    {
     "name": "stdout",
     "output_type": "stream",
     "text": [
      "         userId group       orderId  revenue       date\n",
      "0  1.815263e+19     B  4.612878e+15      489 2019-04-22\n",
      "1  1.815263e+19     B  4.612878e+15      489 2019-04-22\n",
      "2  1.794078e+19     B  4.136278e+18       97 2019-04-22\n",
      "3  1.794078e+19     B  4.136278e+18      279 2019-04-22\n",
      "4  2.461477e+18     B  1.406554e+19     4092 2019-04-22\n",
      "           user_id  orders\n",
      "1570  1.724475e+19      13\n",
      "1085  1.172579e+19      10\n",
      "122   1.216361e+18      10\n",
      "567   6.234396e+18       7\n",
      "1227  1.323237e+19       6\n",
      "48    4.867316e+17       6\n",
      "1681  1.823218e+19       6\n",
      "437   4.843340e+18       6\n",
      "337   3.862204e+18       5\n",
      "1422  1.549293e+19       5\n"
     ]
    }
   ],
   "source": [
    "import matplotlib.pyplot as plt\n",
    "import pandas as pd\n",
    "import datetime as dt\n",
    "\n",
    "data = pd.read_csv(filepath_or_buffer='datasets/data_for_tasks_3.csv', sep=',')\n",
    "data['date'] = data['date'].map(lambda x: dt.datetime.strptime(x, '%d/%m/%Y'))\n",
    "\n",
    "print(data.head(5))\n",
    "ordersByUsers = data.drop(columns=['group','revenue','date'])\\\n",
    "    .groupby(by='userId', as_index=False)\\\n",
    "    .agg({'orderId':pd.Series.nunique})\\\n",
    "    .sort_values(by='orderId', ascending=False)\n",
    "ordersByUsers.columns = ['user_id','orders']\n",
    "print(ordersByUsers.head(10))\n",
    "# Метод .groupby('...', as_index=False) сгруппирует заказы по пользователям\n",
    "# Метод .agg({'...' : '...',}) посчитает агрегированные метрики на сгруппированных данных\n",
    "# Метод pd.Series.nunique подсчитает число уникальных заказов\n",
    "# Метод .sort_values(by='...',ascending=False) отсортирует датафрейм по значению в столбце"
   ],
   "metadata": {
    "collapsed": false,
    "pycharm": {
     "name": "#%%\n"
    }
   }
  },
  {
   "cell_type": "markdown",
   "source": [
    "# 2.\n",
    "Постройте гистограмму распределения числа заказов по пользователям методом hist().\n",
    "\n",
    "Подсказка\n",
    "Примените метод plt.hist() к столбцу 'orders' датафрейма ordersByUsers."
   ],
   "metadata": {
    "collapsed": false,
    "pycharm": {
     "name": "#%% md\n"
    }
   }
  },
  {
   "cell_type": "code",
   "execution_count": 12,
   "outputs": [
    {
     "name": "stdout",
     "output_type": "stream",
     "text": [
      "            userId  orders\n",
      "1570  1.724475e+19      13\n",
      "1085  1.172579e+19      10\n",
      "122   1.216361e+18      10\n",
      "567   6.234396e+18       7\n",
      "1227  1.323237e+19       6\n",
      "48    4.867316e+17       6\n",
      "1681  1.823218e+19       6\n",
      "437   4.843340e+18       6\n",
      "337   3.862204e+18       5\n",
      "1422  1.549293e+19       5\n"
     ]
    },
    {
     "data": {
      "text/plain": "(array([1.662e+03, 2.000e+01, 6.000e+00, 3.000e+00, 4.000e+00, 1.000e+00,\n        0.000e+00, 2.000e+00, 0.000e+00, 1.000e+00]),\n array([ 1. ,  2.2,  3.4,  4.6,  5.8,  7. ,  8.2,  9.4, 10.6, 11.8, 13. ]),\n <BarContainer object of 10 artists>)"
     },
     "execution_count": 12,
     "metadata": {},
     "output_type": "execute_result"
    },
    {
     "data": {
      "text/plain": "<Figure size 432x288 with 1 Axes>",
      "image/png": "[encoded data removed]"
     },
     "metadata": {
      "needs_background": "light"
     },
     "output_type": "display_data"
    }
   ],
   "source": [
    "import pandas as pd\n",
    "import matplotlib.pyplot as plt\n",
    "import datetime as dt\n",
    "\n",
    "data = pd.read_csv(filepath_or_buffer='datasets/data_for_tasks_3.csv', sep=',')\n",
    "data['date'] = data['date'].map(lambda x: dt.datetime.strptime(x, '%d/%m/%Y'))\n",
    "\n",
    "ordersByUsers = (\n",
    "    data.groupby('userId', as_index=False)\n",
    "    .agg({'orderId': pd.Series.nunique})\n",
    ")\n",
    "ordersByUsers.columns = ['userId', 'orders']\n",
    "\n",
    "print(ordersByUsers.sort_values(by='orders', ascending=False).head(10))\n",
    "\n",
    "plt.hist(ordersByUsers['orders'])"
   ],
   "metadata": {
    "collapsed": false,
    "pycharm": {
     "name": "#%%\n"
    }
   }
  },
  {
   "cell_type": "markdown",
   "source": [
    "3.\n",
    "Постройте диаграмму методом scatter(). Напомним, что ему передают значения по осям X и Y.\n",
    "Значения по горизонтальной оси есть в прекоде, в переменной x_values — сгенерированные номера наблюдений. Значения для вертикальной оси возьмите из столбца 'orders' датафрейма ordersByUsers.\n",
    "\n",
    "Подсказка\n",
    "Передайте методу plt.scatter() параметры x_values и ordersByUsers['orders']."
   ],
   "metadata": {
    "collapsed": false,
    "pycharm": {
     "name": "#%% md\n"
    }
   }
  },
  {
   "cell_type": "code",
   "execution_count": 14,
   "outputs": [
    {
     "name": "stdout",
     "output_type": "stream",
     "text": [
      "            userId  orders\n",
      "1570  1.724475e+19      13\n",
      "1085  1.172579e+19      10\n",
      "122   1.216361e+18      10\n",
      "567   6.234396e+18       7\n",
      "1227  1.323237e+19       6\n",
      "48    4.867316e+17       6\n",
      "1681  1.823218e+19       6\n",
      "437   4.843340e+18       6\n",
      "337   3.862204e+18       5\n",
      "1422  1.549293e+19       5\n"
     ]
    },
    {
     "data": {
      "text/plain": "<matplotlib.collections.PathCollection at 0x1dd93dfb280>"
     },
     "execution_count": 14,
     "metadata": {},
     "output_type": "execute_result"
    },
    {
     "data": {
      "text/plain": "<Figure size 432x288 with 1 Axes>",
      "image/png": "[encoded data removed]"
     },
     "metadata": {
      "needs_background": "light"
     },
     "output_type": "display_data"
    }
   ],
   "source": [
    "import pandas as pd\n",
    "import matplotlib.pyplot as plt\n",
    "import datetime as dt\n",
    "\n",
    "data = pd.read_csv(filepath_or_buffer='datasets/data_for_tasks_3.csv', sep=',')\n",
    "data['date'] = data['date'].map(lambda x: dt.datetime.strptime(x, '%d/%m/%Y'))\n",
    "\n",
    "ordersByUsers = (\n",
    "    data.groupby('userId', as_index=False)\n",
    "    .agg({'orderId': pd.Series.nunique})\n",
    ")\n",
    "ordersByUsers.columns = ['userId', 'orders']\n",
    "\n",
    "print(ordersByUsers.sort_values(by='orders', ascending=False).head(10))\n",
    "\n",
    "# серия из чисел от 0 до количества наблюдений в ordersByUsers\n",
    "x_values = pd.Series(range(0, len(ordersByUsers)))\n",
    "plt.scatter(x=x_values,\n",
    "            y=ordersByUsers['orders'])"
   ],
   "metadata": {
    "collapsed": false,
    "pycharm": {
     "name": "#%%\n"
    }
   }
  },
  {
   "cell_type": "markdown",
   "source": [
    "# 4.\n",
    "Посчитайте 90-й, 95-й и 99-й выборочные перцентили количества заказов по пользователям методом np.percentile(). Результат выведите на экран.\n",
    "\n",
    "Подсказка\n",
    "Передайте методу np.percentile() столбец 'orders' датафрейма ordersByUsers и список перцентилей — [90, 95, 99]."
   ],
   "metadata": {
    "collapsed": false,
    "pycharm": {
     "name": "#%% md\n"
    }
   }
  },
  {
   "cell_type": "code",
   "execution_count": null,
   "outputs": [],
   "source": [
    "import pandas as pd\n",
    "import numpy as np\n",
    "import datetime as dt\n",
    "\n",
    "data = pd.read_csv(filepath_or_buffer='datasets/data_for_tasks_3.csv', sep=',')\n",
    "data['date'] = data['date'].map(lambda x: dt.datetime.strptime(x, '%d/%m/%Y'))\n",
    "\n",
    "ordersByUsers = (\n",
    "    data.groupby('userId', as_index=False)\n",
    "    .agg({'orderId': pd.Series.nunique})\n",
    ")\n",
    "ordersByUsers.columns = ['userId', 'orders']\n",
    "\n",
    "print(ordersByUsers.sort_values(by='orders', ascending=False).head(10))\n",
    "\n",
    "# Метод np.percentile('column', [percentile1, percentile2, percentile3]) находит перцентили.\n",
    "print(np.percentile(a=ordersByUsers['orders'],\n",
    "              q=[90,95,99]))"
   ],
   "metadata": {
    "collapsed": false,
    "pycharm": {
     "name": "#%%\n"
    }
   }
  },
  {
   "cell_type": "markdown",
   "source": [
    "# 5.\n",
    "Постройте гистограмму распределения выручек ('revenue') с заказов по пользователям методом hist().\n",
    "\n",
    "Подсказка\n",
    "Примените метод plt.hist() к столбцу 'revenue' датафрейма data."
   ],
   "metadata": {
    "collapsed": false,
    "pycharm": {
     "name": "#%% md\n"
    }
   }
  },
  {
   "cell_type": "code",
   "execution_count": 16,
   "outputs": [
    {
     "name": "stdout",
     "output_type": "stream",
     "text": [
      "            userId group       orderId  revenue       date\n",
      "2401  1.077474e+19     B  1.410074e+19  1955100 2019-04-05\n",
      "2400  1.077474e+19     B  1.410074e+19  1955100 2019-04-05\n",
      "4775  1.724475e+19     A  1.216495e+19   947700 2019-03-18\n",
      "405   5.829727e+18     A  7.037920e+18   579081 2019-04-18\n",
      "5334  9.419044e+18     B  9.456631e+18   570000 2019-03-14\n",
      "5333  9.419044e+18     B  9.456631e+18   570000 2019-03-14\n",
      "5411  1.724475e+19     A  4.155511e+17   522900 2019-03-13\n",
      "278   1.279059e+19     A  6.765099e+18   490000 2019-04-19\n",
      "277   1.279059e+19     A  6.765099e+18   490000 2019-04-19\n",
      "4218  7.095291e+18     A  5.752271e+18   449100 2019-03-23\n"
     ]
    },
    {
     "data": {
      "text/plain": "(array([5.802e+03, 3.000e+00, 1.100e+01, 0.000e+00, 1.000e+00, 0.000e+00,\n        0.000e+00, 0.000e+00, 0.000e+00, 2.000e+00]),\n array([1.5000000e+01, 1.9552350e+05, 3.9103200e+05, 5.8654050e+05,\n        7.8204900e+05, 9.7755750e+05, 1.1730660e+06, 1.3685745e+06,\n        1.5640830e+06, 1.7595915e+06, 1.9551000e+06]),\n <BarContainer object of 10 artists>)"
     },
     "execution_count": 16,
     "metadata": {},
     "output_type": "execute_result"
    },
    {
     "data": {
      "text/plain": "<Figure size 432x288 with 1 Axes>",
      "image/png": "[encoded data removed]"
     },
     "metadata": {
      "needs_background": "light"
     },
     "output_type": "display_data"
    }
   ],
   "source": [
    "import pandas as pd\n",
    "import matplotlib.pyplot as plt\n",
    "import datetime as dt\n",
    "\n",
    "data = pd.read_csv(filepath_or_buffer='datasets/data_for_tasks_3.csv', sep=',')\n",
    "data['date'] = data['date'].map(lambda x: dt.datetime.strptime(x, '%d/%m/%Y'))\n",
    "\n",
    "print(data.sort_values(by='revenue', ascending=False).head(10))\n",
    "\n",
    "plt.hist(x=data['revenue'])"
   ],
   "metadata": {
    "collapsed": false,
    "pycharm": {
     "name": "#%%\n"
    }
   }
  },
  {
   "cell_type": "markdown",
   "source": [
    "# 6.\n",
    "Постройте диаграмму методом scatter(). Напомним, что ему передают значения по осям X и Y.\n",
    "Значения по горизонтальной оси есть в прекоде, в переменной x_values — сгенерированные номера наблюдений. Значения для вертикальной оси возьмите из столбца 'revenue' датафрейма data.\n",
    "\n",
    "Подсказка\n",
    "Передайте методу plt.scatter() параметры x_values и data['revenue']."
   ],
   "metadata": {
    "collapsed": false,
    "pycharm": {
     "name": "#%% md\n"
    }
   }
  },
  {
   "cell_type": "code",
   "execution_count": null,
   "outputs": [],
   "source": [
    "import pandas as pd\n",
    "import matplotlib.pyplot as plt\n",
    "import datetime as dt\n",
    "\n",
    "data = pd.read_csv(filepath_or_buffer='datasets/data_for_tasks_3.csv', sep=',')\n",
    "data['date'] = data['date'].map(lambda x: dt.datetime.strptime(x, '%d/%m/%Y'))\n",
    "\n",
    "print(data.sort_values(by='revenue', ascending=False).head(10))\n",
    "\n",
    "x_values = pd.Series(range(0, len(data['revenue'])))\n",
    "plt.scatter(x=x_values,\n",
    "            y=data['revenue'])"
   ],
   "metadata": {
    "collapsed": false,
    "pycharm": {
     "name": "#%%\n"
    }
   }
  },
  {
   "cell_type": "markdown",
   "source": [
    "# 7.\n",
    "Посчитайте 90-й, 95-й и 99-й выборочные перцентили выручки с заказов по пользователям методом np.percentile(). Результат выведите на экран.\n",
    "\n",
    "Подсказка\n",
    "Передайте методу np.percentile() столбец 'revenue' датафрейма data и список перцентилей — [90, 95, 99]."
   ],
   "metadata": {
    "collapsed": false,
    "pycharm": {
     "name": "#%% md\n"
    }
   }
  },
  {
   "cell_type": "code",
   "execution_count": 20,
   "outputs": [
    {
     "name": "stdout",
     "output_type": "stream",
     "text": [
      "         userId group       orderId  revenue       date\n",
      "0  1.815263e+19     B  4.612878e+15      489 2019-04-22\n",
      "1  1.815263e+19     B  4.612878e+15      489 2019-04-22\n",
      "2  1.794078e+19     B  4.136278e+18       97 2019-04-22\n",
      "3  1.794078e+19     B  4.136278e+18      279 2019-04-22\n",
      "4  2.461477e+18     B  1.406554e+19     4092 2019-04-22\n",
      "5  1.419853e+19     A  5.370143e+18      139 2019-04-22\n",
      "6  1.419853e+19     A  5.370143e+18      370 2019-04-22\n",
      "7  1.419853e+19     A  5.370143e+18     1732 2019-04-22\n",
      "8  1.419853e+19     A  5.370143e+18      174 2019-04-22\n",
      "9  1.419853e+19     A  5.370143e+18      399 2019-04-22\n",
      "[ 3899.   7740.  43569.9]\n"
     ]
    }
   ],
   "source": [
    "import pandas as pd\n",
    "import numpy as np\n",
    "import datetime as dt\n",
    "\n",
    "data = pd.read_csv(filepath_or_buffer='datasets/data_for_tasks_3.csv', sep=',')\n",
    "data['date'] = data['date'].map(lambda x: dt.datetime.strptime(x, '%d/%m/%Y'))\n",
    "\n",
    "print(data.head(10))\n",
    "\n",
    "print(np.percentile(a=data['revenue'], q=[90,95,99]))"
   ],
   "metadata": {
    "collapsed": false,
    "pycharm": {
     "name": "#%%\n"
    }
   }
  }
 ],
 "metadata": {
  "kernelspec": {
   "display_name": "Python 3",
   "language": "python",
   "name": "python3"
  },
  "language_info": {
   "codemirror_mode": {
    "name": "ipython",
    "version": 2
   },
   "file_extension": ".py",
   "mimetype": "text/x-python",
   "name": "python",
   "nbconvert_exporter": "python",
   "pygments_lexer": "ipython2",
   "version": "2.7.6"
  }
 },
 "nbformat": 4,
 "nbformat_minor": 0
}