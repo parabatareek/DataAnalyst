{
 "cells": [
  {
   "cell_type": "markdown",
   "metadata": {
    "collapsed": true,
    "pycharm": {
     "name": "#%% md\n"
    }
   },
   "source": [
    "# 1.\n",
    "В sales_data сохранена выборка чеков интернет-магазина с точностью до рубля. Проверьте, нормально ли распределены суммы этих чеков. Примените критерий Шапиро-Уилка.\n",
    "\n",
    "Подсказка\n",
    "results = st.shapiro(sales_data)\n",
    "p_value = results[1]"
   ]
  },
  {
   "cell_type": "code",
   "execution_count": 2,
   "outputs": [
    {
     "name": "stdout",
     "output_type": "stream",
     "text": [
      "p-значение:  2.3602048973604965e-16\n",
      "Отвергаем нулевую гипотезу: распределение не нормально\n"
     ]
    }
   ],
   "source": [
    "from scipy import stats as st\n",
    "\n",
    "sales_data = [324,  209,  217,  321,  210,  231,  235,  519,  210,  240,  213,  325,\n",
    "              252,  251,  246,  353,  260,  256,  203,  212,  211,  318,  529,  252,\n",
    "              227,  278,  221,  222,  257,  289,  208,  256,  308,  395,  485,  350,\n",
    "              214,  378,  218,  261,  216,  289,  533,  239,  326,  445,  210,  284,\n",
    "              317,  260,  420,  497,  321,  205,  237,  261,  205,  269,  246,  685,\n",
    "              246,  207,  317,  236,  519,  230,  208,  202,  216,  234,  242,  200,\n",
    "              226,  213,  440, 1026,  318,  286,  210,  216,  227,  256,  221,  216,\n",
    "              204,  498,  223,  287,  296,  292,  406,  213,  210,  291,  217,  200,\n",
    "              344,  296,  222,  258,  223,  422,  497,  325,  328,  201,  242,  255,\n",
    "              203,  252,  254,  221,  527,  231,  506,  203,  261,  678,  209,  261,\n",
    "              281,  210,  292,  354,  210,  235,  220,  204,  270,  218,  230,  295,\n",
    "              215,  372,  218,  230,  282,  284,  229,  210,  206,  267,  299,  263,\n",
    "              563,  215,  258,  214,  351,  201]\n",
    "\n",
    "alpha = 0.05# ваш код\n",
    "\n",
    "results = st.shapiro(sales_data)# ваш код\n",
    "p_value = results.pvalue\n",
    "\n",
    "print('p-значение: ', p_value)\n",
    "\n",
    "if p_value < alpha:\n",
    "    print('Отвергаем нулевую гипотезу: распределение не нормально')\n",
    "else:\n",
    "    print('Не получилось отвергнуть нулевую гипотезу, всё нормально')"
   ],
   "metadata": {
    "collapsed": false,
    "pycharm": {
     "name": "#%%\n"
    }
   }
  }
 ],
 "metadata": {
  "kernelspec": {
   "display_name": "Python 3",
   "language": "python",
   "name": "python3"
  },
  "language_info": {
   "codemirror_mode": {
    "name": "ipython",
    "version": 2
   },
   "file_extension": ".py",
   "mimetype": "text/x-python",
   "name": "python",
   "nbconvert_exporter": "python",
   "pygments_lexer": "ipython2",
   "version": "2.7.6"
  }
 },
 "nbformat": 4,
 "nbformat_minor": 0
}