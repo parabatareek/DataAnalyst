{
 "cells": [
  {
   "cell_type": "markdown",
   "metadata": {
    "collapsed": true,
    "pycharm": {
     "name": "#%% md\n"
    }
   },
   "source": [
    "# 1.\n",
    "Выполните код, чтобы изучить файл с гипотезами и оценками параметров WSJF.\n",
    "Посчитайте WSJF для гипотез. Добавьте полученные значения WSJF к существующей таблице. Новый столбец назовите WSJF. Значения не округляйте.\n",
    "Выведите столбцы 'hypothesis' и 'WSJF', отсортированные по столбцу 'WSJF'.\n",
    "\n",
    "\n",
    "Подсказка\n",
    "Найдите значения WSJF выражением: data['WSJF'] = (data['...'] + data['...'] + data['...'])/data['...'], где вместо ... укажите названия нужных столбцов.\n",
    "Отсортируйте методом sort_values(by='...', ascending=False), где вместо ... название нужного столбца."
   ]
  },
  {
   "cell_type": "code",
   "execution_count": 6,
   "outputs": [
    {
     "name": "stdout",
     "output_type": "stream",
     "text": [
      "      hypothesis  user_business_value  time_criticality  \\\n",
      "0   hypothesis_1                   10                10   \n",
      "1   hypothesis_2                    9                 8   \n",
      "2   hypothesis_3                    4                 5   \n",
      "3   hypothesis_4                   10                10   \n",
      "4   hypothesis_5                    4                 8   \n",
      "5   hypothesis_6                    2                 6   \n",
      "6   hypothesis_7                    3                 1   \n",
      "7   hypothesis_8                    1                 4   \n",
      "8   hypothesis_9                    3                10   \n",
      "9  hypothesis_10                    6                 7   \n",
      "\n",
      "   risk_reduction_opportunity_enablement  job_size  \n",
      "0                                     10         1  \n",
      "1                                      4         5  \n",
      "2                                      7        10  \n",
      "3                                      9         2  \n",
      "4                                      2         8  \n",
      "5                                      4         1  \n",
      "6                                      9         2  \n",
      "7                                      4         2  \n",
      "8                                      1         1  \n",
      "9                                      6        10  \n",
      "      hypothesis   WSJF\n",
      "0   hypothesis_1  30.00\n",
      "3   hypothesis_4  14.50\n",
      "8   hypothesis_9  14.00\n",
      "5   hypothesis_6  12.00\n",
      "6   hypothesis_7   6.50\n",
      "7   hypothesis_8   4.50\n",
      "1   hypothesis_2   4.20\n",
      "9  hypothesis_10   1.90\n",
      "4   hypothesis_5   1.75\n",
      "2   hypothesis_3   1.60\n"
     ]
    }
   ],
   "source": [
    "import pandas as pd\n",
    "\n",
    "data = pd.read_csv(filepath_or_buffer='datasets/hypothesis_4-1-1.csv', sep=',')\n",
    "\n",
    "print(data)\n",
    "\n",
    "# напишите ваш код здесь\n",
    "data['WSJF'] =  (data['user_business_value'] + data['time_criticality'] + data['risk_reduction_opportunity_enablement']) / data['job_size']\n",
    "print(data[['hypothesis', 'WSJF']].sort_values(by='WSJF', ascending=False))"
   ],
   "metadata": {
    "collapsed": false,
    "pycharm": {
     "name": "#%%\n"
    }
   }
  },
  {
   "cell_type": "markdown",
   "source": [
    "# 2.\n",
    "Изучите файл с гипотезами и оценками параметров ICE.\n",
    "Посчитайте ICE для гипотез. Добавьте полученные значения ICE к существующей таблице. Новый столбец назовите ICE. Значения не округляйте.\n",
    "Выведите столбцы 'hypothesis' и 'ICE', отсортированные по столбцу 'ICE'.\n",
    "\n",
    "Подсказка\n",
    "Отсортируйте методом sort_values(by='...', ascending=False), где вместо ... название нужного столбца."
   ],
   "metadata": {
    "collapsed": false,
    "pycharm": {
     "name": "#%% md\n"
    }
   }
  },
  {
   "cell_type": "code",
   "execution_count": 10,
   "outputs": [
    {
     "name": "stdout",
     "output_type": "stream",
     "text": [
      "      hypothesis   ICE\n",
      "0   hypothesis_1  30.0\n",
      "3   hypothesis_4  25.0\n",
      "5   hypothesis_6  20.0\n",
      "8   hypothesis_9  18.0\n",
      "1   hypothesis_2   7.2\n",
      "4   hypothesis_5   3.0\n",
      "6   hypothesis_7   3.0\n",
      "9  hypothesis_10   3.0\n",
      "7   hypothesis_8   2.5\n",
      "2   hypothesis_3   1.2\n"
     ]
    }
   ],
   "source": [
    "import pandas as pd\n",
    "\n",
    "data = pd.read_csv('datasets/hypothesis_4-1-2.csv', sep=',')\n",
    "\n",
    "# напишите ваш код здесь\n",
    "data['ICE'] = (data['impact'] * data['confidence']) / data['efforts']\n",
    "print(data[['hypothesis', 'ICE']].sort_values(by='ICE', ascending=False))"
   ],
   "metadata": {
    "collapsed": false,
    "pycharm": {
     "name": "#%%\n"
    }
   }
  },
  {
   "cell_type": "markdown",
   "source": [
    "# 3.\n",
    "Посчитайте RICE для гипотез. Добавьте полученные значения RICE к существующей таблице. Новый столбец назовите RICE. Значения не округляйте.\n",
    "Выведите из получившейся таблицы столбцы 'hypothesis' и 'RICE', отсортированные по столбцу 'RICE'.\n",
    "\n",
    "Подсказка\n",
    "RICE = (Reach x Impact x Confidence)/Efforts"
   ],
   "metadata": {
    "collapsed": false,
    "pycharm": {
     "name": "#%% md\n"
    }
   }
  },
  {
   "cell_type": "code",
   "execution_count": 12,
   "outputs": [
    {
     "name": "stdout",
     "output_type": "stream",
     "text": [
      "      hypothesis  reach  impact  confidence  efforts\n",
      "0   hypothesis_1      5      10           3        1\n",
      "1   hypothesis_2      9       9           4        5\n",
      "2   hypothesis_3      8       4           3       10\n",
      "3   hypothesis_4      9      10           5        2\n",
      "4   hypothesis_5      8       4           6        8\n",
      "5   hypothesis_6      5       2          10        1\n",
      "6   hypothesis_7      5       3           2        2\n",
      "7   hypothesis_8      1       1           5        2\n",
      "8   hypothesis_9      7       3           6        1\n",
      "9  hypothesis_10      7       6           5       10\n",
      "      hypothesis   RICE\n",
      "3   hypothesis_4  225.0\n",
      "0   hypothesis_1  150.0\n",
      "8   hypothesis_9  126.0\n",
      "5   hypothesis_6  100.0\n",
      "1   hypothesis_2   64.8\n",
      "4   hypothesis_5   24.0\n",
      "9  hypothesis_10   21.0\n",
      "6   hypothesis_7   15.0\n",
      "2   hypothesis_3    9.6\n",
      "7   hypothesis_8    2.5\n"
     ]
    }
   ],
   "source": [
    "import pandas as pd\n",
    "\n",
    "data = pd.read_csv('datasets/hypothesis_4-1-2.csv', sep=',')\n",
    "\n",
    "print(data)\n",
    "data['RICE'] = (data.reach * data.impact * data.confidence) / data.efforts\n",
    "print(data[['hypothesis', 'RICE']].sort_values(by='RICE', ascending=False))"
   ],
   "metadata": {
    "collapsed": false,
    "pycharm": {
     "name": "#%%\n"
    }
   }
  },
  {
   "cell_type": "code",
   "execution_count": 9,
   "outputs": [
    {
     "name": "stdout",
     "output_type": "stream",
     "text": [
      "      hypothesis  reach  impact  confidence  efforts  ICE\n",
      "0   hypothesis_1      5      10           3        1  150\n",
      "1   hypothesis_2      9       9           4        5  324\n",
      "2   hypothesis_3      8       4           3       10   96\n",
      "3   hypothesis_4      9      10           5        2  450\n",
      "4   hypothesis_5      8       4           6        8  192\n",
      "5   hypothesis_6      5       2          10        1  100\n",
      "6   hypothesis_7      5       3           2        2   30\n",
      "7   hypothesis_8      1       1           5        2    5\n",
      "8   hypothesis_9      7       3           6        1  126\n",
      "9  hypothesis_10      7       6           5       10  210\n"
     ]
    }
   ],
   "source": [
    "print(data)"
   ],
   "metadata": {
    "collapsed": false,
    "pycharm": {
     "name": "#%%\n"
    }
   }
  }
 ],
 "metadata": {
  "kernelspec": {
   "display_name": "Python 3",
   "language": "python",
   "name": "python3"
  },
  "language_info": {
   "codemirror_mode": {
    "name": "ipython",
    "version": 2
   },
   "file_extension": ".py",
   "mimetype": "text/x-python",
   "name": "python",
   "nbconvert_exporter": "python",
   "pygments_lexer": "ipython2",
   "version": "2.7.6"
  }
 },
 "nbformat": 4,
 "nbformat_minor": 0
}