{
 "cells": [
  {
   "cell_type": "markdown",
   "source": [
    "# 1.\n",
    "С учётом наиболее грамотного разбиения на train/test, возможных вариантов алгоритмов и подходящих для данной задачи метрик, вы можете сравнить модели и выбрать лучшую.\n",
    "Создайте список моделей для алгоритмов:\n",
    "Lasso(),\n",
    "Ridge(),\n",
    "DecisionTreeRegressor(),\n",
    "RandomForestRegressor(),\n",
    "GradientBoostingRegressor(),\n",
    "напишите функцию, которая будет обучать каждую модель на train-выборке, делать прогноз на тестовых данных и выводить метрики MSE, MAE, R2, а также MAPE.\n",
    "\n",
    "Подсказка:\n",
    "Псевдокод функции mape и функции\n",
    "Для функции MAPE вам надо всего лишь вычитать и делить одни векторы (lists) на другие, а также уметь создавать список модулей ошибок, применяя поэлементно функцию abs(). Только не забудьте усреднить в конце вектор относительных ошибок, чтобы получить значение метрики в виде единственного значения.\n",
    "Функция, которая выводит метрики, должна включать уже знакомые для вас этапы — объявление модели (присваивание конкретному объекту класса модели вроде m = RandomForestClassifier()), обучение, прогнозирование и оценку метрик. Возвращать в данном случае она ничего не должна."
   ],
   "metadata": {
    "collapsed": false,
    "pycharm": {
     "name": "#%% md\n"
    }
   }
  },
  {
   "cell_type": "code",
   "execution_count": 1,
   "outputs": [],
   "source": [
    "import pandas as pd\n",
    "import seaborn as sns\n",
    "from sklearn.preprocessing import StandardScaler\n",
    "from sklearn.model_selection import train_test_split\n",
    "from sklearn.linear_model import Lasso, Ridge\n",
    "from sklearn.tree import DecisionTreeRegressor\n",
    "from sklearn.ensemble import RandomForestRegressor, GradientBoostingRegressor\n",
    "import matplotlib.pyplot as plt\n",
    "from sklearn.metrics import mean_absolute_error, mean_squared_error, r2_score\n",
    "\n",
    "# прочитаем из csv-файла данные с описанием автомобилей и их потреблением, распечатаем его размер и первые 5 строк\n",
    "cars = pd.read_csv('../datasets/auto_cons.csv')\n",
    "\n",
    "# уберём строки с пуcтыми значениями из набора данных\n",
    "cars.dropna(inplace=True)\n",
    "\n",
    "# сохраним датафрейм с учётом преобразования признаков\n",
    "cars = pd.get_dummies(cars)\n",
    "\n",
    "# разделим наши данные на признаки (матрица X) и целевую переменную (y)\n",
    "X = cars.drop(columns=['Расход топлива'])\n",
    "y = cars['Расход топлива']\n",
    "\n",
    "# разделяем модель на обучающую и валидационную выборки\n",
    "X_train, X_test, y_train, y_test = train_test_split(X, y, test_size=0.2)\n",
    "\n",
    "# создадим объект класса StandardScaler и применим его к обучающей выборке\n",
    "scaler = StandardScaler()\n",
    "X_train_st = scaler.fit_transform(\n",
    "    X_train\n",
    ")  # обучаем scaler и одновременно трансформируем матрицу для обучающей выборки\n",
    "\n",
    "# применяем стандартизацию к матрице признаков для тестовой выборки\n",
    "X_test_st = scaler.transform(X_test)\n",
    "\n",
    "# задайте список моделей\n",
    "models = [\n",
    "    Lasso(),\n",
    "    Ridge(),\n",
    "    DecisionTreeRegressor(),\n",
    "    RandomForestRegressor(),\n",
    "    GradientBoostingRegressor(),\n",
    "]\n",
    "\n",
    "# функция, которая вычисляет MAPE\n",
    "def mape(y_true, y_pred):\n",
    "    y_error = y_true - y_pred  # рассчитайте вектор ошибок\n",
    "    y_error_abs = abs(y_error)  # рассчитайте вектор модуля ошибок\n",
    "    perc_error_abs = y_error_abs/y_true  # рассчитайте вектор относительных ошибок\n",
    "    mape = perc_error_abs.mean()  # рассчитайте MAPE\n",
    "    return mape\n",
    "\n",
    "\n",
    "# функция, которая принимает на вход модель и данные и выводит метрики\n",
    "def make_prediction(m, X_train, y_train, X_test, y_test):\n",
    "    m.fit(X_train, y_train)  # ваш код здесь\n",
    "    prediction = m.predict(X_test)\n",
    "    print('MAE:{:.2f} MSE:{:.2f} MAPE:{:.2f} R2:{:.2f} '.format(mean_absolute_error(y_true=y_test, y_pred=prediction),\n",
    "                                                                mean_squared_error(y_true=y_test, y_pred=prediction),\n",
    "                                                                mape(y_true=y_test, y_pred=prediction),\n",
    "                                                                r2_score(y_true=y_test, y_pred=prediction)))\n"
   ],
   "metadata": {
    "collapsed": false,
    "pycharm": {
     "name": "#%%\n"
    }
   }
  },
  {
   "cell_type": "markdown",
   "source": [
    "# 2.\n",
    "Модели, как и другие объекты различных классов, можно перебирать в цикле.\n",
    "Поэтому:\n",
    "запустите циклом вывод метрик для всех алгоритмов\n",
    "посмотрите на вывод. Какой алгоритм показал наилучшие метрики?\n",
    "\n",
    "Подсказка:\n",
    "По сути, в каждой итерации цикла меняется только один параметр функции make_prediction() — и *вы уже видите, какой.*"
   ],
   "metadata": {
    "collapsed": false,
    "pycharm": {
     "name": "#%% md\n"
    }
   }
  },
  {
   "cell_type": "code",
   "execution_count": 2,
   "outputs": [
    {
     "name": "stdout",
     "output_type": "stream",
     "text": [
      "Lasso()\n",
      "MAE:1.16 MSE:2.62 MAPE:0.10 R2:0.87 \n",
      "Ridge()\n",
      "MAE:1.05 MSE:2.26 MAPE:0.09 R2:0.89 \n",
      "DecisionTreeRegressor()\n",
      "MAE:1.39 MSE:3.39 MAPE:0.12 R2:0.83 \n",
      "RandomForestRegressor()\n",
      "MAE:1.07 MSE:1.97 MAPE:0.10 R2:0.90 \n",
      "GradientBoostingRegressor()\n",
      "MAE:1.10 MSE:2.18 MAPE:0.10 R2:0.89 \n"
     ]
    }
   ],
   "source": [
    "import pandas as pd\n",
    "import seaborn as sns\n",
    "from sklearn.preprocessing import StandardScaler\n",
    "from sklearn.model_selection import train_test_split\n",
    "from sklearn.linear_model import Lasso, Ridge\n",
    "from sklearn.tree import DecisionTreeRegressor\n",
    "from sklearn.ensemble import RandomForestRegressor, GradientBoostingRegressor\n",
    "import matplotlib.pyplot as plt\n",
    "from sklearn.metrics import mean_absolute_error, mean_squared_error, r2_score\n",
    "\n",
    "\n",
    "# прочитаем из csv-файла данные с описанием автомобилей и их потреблением, распечатаем его размер и первые 5 строк\n",
    "cars = pd.read_csv('../datasets/auto_cons.csv')\n",
    "\n",
    "\n",
    "# уберём строки с пустыми значениями из набора данных\n",
    "cars.dropna(inplace=True)\n",
    "\n",
    "# сохраним датафрейм с учётом преобразования признаков\n",
    "cars = pd.get_dummies(cars)\n",
    "\n",
    "# разделим наши данные на признаки (матрица X) и целевую переменную (y)\n",
    "X = cars.drop(columns=['Расход топлива'])\n",
    "y = cars['Расход топлива']\n",
    "\n",
    "# разделяем модель на обучающую и валидационную выборку\n",
    "X_train, X_test, y_train, y_test = train_test_split(X, y, test_size=0.2)\n",
    "\n",
    "\n",
    "# создадим объект класса StandardScaler и применим его к обучающей выборке\n",
    "scaler = StandardScaler()\n",
    "X_train_st = scaler.fit_transform(\n",
    "    X_train\n",
    ")  # обучаем scaler и одновременно трансформируем матрицу для обучающей выборки\n",
    "\n",
    "# применяем стандартизацию к матрице признаков для тестовой выборки\n",
    "X_test_st = scaler.transform(X_test)\n",
    "\n",
    "# задайте список моделей\n",
    "models = [\n",
    "    Lasso(),\n",
    "    Ridge(),\n",
    "    DecisionTreeRegressor(),\n",
    "    RandomForestRegressor(),\n",
    "    GradientBoostingRegressor(),\n",
    "]\n",
    "\n",
    "# функция, которая вычисляет MAPE\n",
    "def mape(y_true, y_pred):\n",
    "    y_error = y_true - y_pred\n",
    "    y_error_abs = [abs(i) for i in y_error]\n",
    "    perc_error_abs = y_error_abs / y_true\n",
    "    mape = perc_error_abs.sum() / len(y_true)\n",
    "    return mape\n",
    "\n",
    "\n",
    "# функция, которая принимает на вход модель и данные и выводит метрики\n",
    "def make_prediction(m, X_train, y_train, X_test, y_test):\n",
    "    model = m\n",
    "    model.fit(X_train, y_train)\n",
    "    y_pred = model.predict(X_test)\n",
    "    print(\n",
    "        'MAE:{:.2f} MSE:{:.2f} MAPE:{:.2f} R2:{:.2f} '.format(\n",
    "            mean_absolute_error(y_test, y_pred),\n",
    "            mean_squared_error(y_test, y_pred),\n",
    "            mape(y_test, y_pred),\n",
    "            r2_score(y_test, y_pred),\n",
    "        )\n",
    "    )\n",
    "\n",
    "\n",
    "# напишите цикл, который выводит метрики по списку моделей\n",
    "for i in models:\n",
    "    print(i)\n",
    "    make_prediction(i, X_train, y_train, X_test, y_test)"
   ],
   "metadata": {
    "collapsed": false,
    "pycharm": {
     "name": "#%%\n"
    }
   }
  }
 ],
 "metadata": {
  "kernelspec": {
   "display_name": "Python 3",
   "language": "python",
   "name": "python3"
  },
  "language_info": {
   "codemirror_mode": {
    "name": "ipython",
    "version": 2
   },
   "file_extension": ".py",
   "mimetype": "text/x-python",
   "name": "python",
   "nbconvert_exporter": "python",
   "pygments_lexer": "ipython2",
   "version": "2.7.6"
  }
 },
 "nbformat": 4,
 "nbformat_minor": 0
}