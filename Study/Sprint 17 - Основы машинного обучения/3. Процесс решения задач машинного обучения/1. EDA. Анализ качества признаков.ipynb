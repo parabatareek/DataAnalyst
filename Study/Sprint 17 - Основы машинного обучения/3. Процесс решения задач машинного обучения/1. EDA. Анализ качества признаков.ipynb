{
 "cells": [
  {
   "cell_type": "markdown",
   "source": [
    "# 1.\n",
    "Данные о расходе топлива и характеристиках автомобилей собраны в csv-файле '/datasets/auto_cons.csv'.\n",
    "Целевая переменная называется «Расход топлива».\n",
    "Прочитайте данные и получите первое представление о них:\n",
    "сохраните данные в датафрейм cars\n",
    "распечатайте размер датафрейма.\n",
    "Сколько у вас наблюдений и признаков?\n",
    "распечатайте первые 5 строк\n",
    "\n",
    "Подсказка:\n",
    "Вызовите атрибут shape и метод head()"
   ],
   "metadata": {
    "collapsed": false,
    "pycharm": {
     "name": "#%% md\n"
    }
   }
  },
  {
   "cell_type": "code",
   "execution_count": 1,
   "outputs": [
    {
     "name": "stdout",
     "output_type": "stream",
     "text": [
      "(398, 8)\n",
      "   Расход топлива  Кол-во цилиндров  Рабочий объем двигателя  Мощность   Вес  \\\n",
      "0              13                 8                        5     130.0  1589   \n",
      "1              16                 8                        6     165.0  1675   \n",
      "2              13                 8                        5     150.0  1559   \n",
      "3              15                 8                        5     150.0  1557   \n",
      "4              14                 8                        5     140.0  1564   \n",
      "\n",
      "   Ускорение  Год выпуска Производитель  \n",
      "0       12.0         2005            US  \n",
      "1       11.5         2005            US  \n",
      "2       11.0         2005            US  \n",
      "3       12.0         2005            US  \n",
      "4       10.5         2005            US  \n"
     ]
    }
   ],
   "source": [
    "import pandas as pd\n",
    "\n",
    "#прочитаем из csv-файла данные с описанием автомобилей и их расходом топлива\n",
    "cars = pd.read_csv(filepath_or_buffer='../datasets/auto_cons.csv')#ваш код здесь\n",
    "\n",
    "#распечатаем его размер и первые 5 строк\n",
    "print(cars.shape)#ваш код здесь\n",
    "print(cars.head())"
   ],
   "metadata": {
    "collapsed": false,
    "pycharm": {
     "name": "#%%\n"
    }
   }
  },
  {
   "cell_type": "markdown",
   "source": [
    "# 2.\n",
    "Посмотрите на сводную информацию о датафрейме методом info().\n",
    "Оцените:\n",
    "есть ли среди полей категориальные?\n",
    "есть ли пропуски в каких-нибудь признаках?\n",
    "\n",
    "Подсказка:\n",
    "Нет ничего проще, чем вызвать метод info() для датафрейма cars()"
   ],
   "metadata": {
    "collapsed": false,
    "pycharm": {
     "name": "#%% md\n"
    }
   }
  },
  {
   "cell_type": "code",
   "execution_count": 2,
   "outputs": [
    {
     "name": "stdout",
     "output_type": "stream",
     "text": [
      "(398, 8)\n",
      "   Расход топлива  Кол-во цилиндров  Рабочий объем двигателя  Мощность   Вес  \\\n",
      "0              13                 8                        5     130.0  1589   \n",
      "1              16                 8                        6     165.0  1675   \n",
      "2              13                 8                        5     150.0  1559   \n",
      "3              15                 8                        5     150.0  1557   \n",
      "4              14                 8                        5     140.0  1564   \n",
      "\n",
      "   Ускорение  Год выпуска Производитель  \n",
      "0       12.0         2005            US  \n",
      "1       11.5         2005            US  \n",
      "2       11.0         2005            US  \n",
      "3       12.0         2005            US  \n",
      "4       10.5         2005            US  \n",
      "<class 'pandas.core.frame.DataFrame'>\n",
      "RangeIndex: 398 entries, 0 to 397\n",
      "Data columns (total 8 columns):\n",
      " #   Column                   Non-Null Count  Dtype  \n",
      "---  ------                   --------------  -----  \n",
      " 0   Расход топлива           398 non-null    int64  \n",
      " 1   Кол-во цилиндров         398 non-null    int64  \n",
      " 2   Рабочий объем двигателя  398 non-null    int64  \n",
      " 3   Мощность                 392 non-null    float64\n",
      " 4   Вес                      398 non-null    int64  \n",
      " 5   Ускорение                398 non-null    float64\n",
      " 6   Год выпуска              398 non-null    int64  \n",
      " 7   Производитель            398 non-null    object \n",
      "dtypes: float64(2), int64(5), object(1)\n",
      "memory usage: 25.0+ KB\n",
      "None\n"
     ]
    }
   ],
   "source": [
    "import pandas as pd\n",
    "\n",
    "#прочитаем из csv-файла данные с описанием автомобилей и их расходом топлива\n",
    "cars = pd.read_csv('../datasets/auto_cons.csv')\n",
    "\n",
    "#распечатаем его размер и первые 5 строк\n",
    "print(cars.shape)\n",
    "print(cars.head())\n",
    "\n",
    "#посмотрим на сводную информацию о наборе данных\n",
    "print(cars.info())#ваш код здесь"
   ],
   "metadata": {
    "collapsed": false,
    "pycharm": {
     "name": "#%%\n"
    }
   }
  }
 ],
 "metadata": {
  "kernelspec": {
   "display_name": "Python 3",
   "language": "python",
   "name": "python3"
  },
  "language_info": {
   "codemirror_mode": {
    "name": "ipython",
    "version": 2
   },
   "file_extension": ".py",
   "mimetype": "text/x-python",
   "name": "python",
   "nbconvert_exporter": "python",
   "pygments_lexer": "ipython2",
   "version": "2.7.6"
  }
 },
 "nbformat": 4,
 "nbformat_minor": 0
}