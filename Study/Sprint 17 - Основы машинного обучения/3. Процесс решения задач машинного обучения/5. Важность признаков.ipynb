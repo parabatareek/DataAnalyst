{
 "cells": [
  {
   "cell_type": "markdown",
   "source": [
    "# 1.\n",
    "Заново обучите лучшую модель и сделайте прогноз;\n",
    "Создайте датафрейм с важностью, выведите его в порядке убывания важности признаков;\n",
    "Какие признаки наиболее важны для этой модели?\n",
    "\n",
    "Подсказка:\n",
    "Когда вы перебирали цикл, последняя обученная модель m могла быть не той, которую вы выбрали, поэтому обучите её заново и сделайте прогноз на тестовой выборке."
   ],
   "metadata": {
    "collapsed": false,
    "pycharm": {
     "name": "#%% md\n"
    }
   }
  },
  {
   "cell_type": "code",
   "execution_count": 1,
   "outputs": [
    {
     "name": "stdout",
     "output_type": "stream",
     "text": [
      "Lasso()\n",
      "MAE:1.49 MSE:3.68 MAPE:0.15 R2:0.76 \n",
      "Ridge()\n",
      "MAE:0.97 MSE:1.79 MAPE:0.09 R2:0.88 \n",
      "DecisionTreeRegressor()\n",
      "MAE:1.14 MSE:2.48 MAPE:0.11 R2:0.84 \n",
      "RandomForestRegressor()\n",
      "MAE:0.92 MSE:1.60 MAPE:0.09 R2:0.89 \n",
      "GradientBoostingRegressor()\n",
      "MAE:0.91 MSE:1.56 MAPE:0.09 R2:0.90 \n"
     ]
    },
    {
     "data": {
      "text/plain": "                   feature  importance\n3                      Вес    0.619419\n2                 Мощность    0.151007\n5              Год выпуска    0.104173\n1  Рабочий объем двигателя    0.101135\n4                Ускорение    0.019944\n8         Производитель_US    0.003417\n0         Кол-во цилиндров    0.000729\n7     Производитель_Europe    0.000093\n6       Производитель_Asia    0.000083",
      "text/html": "<div>\n<style scoped>\n    .dataframe tbody tr th:only-of-type {\n        vertical-align: middle;\n    }\n\n    .dataframe tbody tr th {\n        vertical-align: top;\n    }\n\n    .dataframe thead th {\n        text-align: right;\n    }\n</style>\n<table border=\"1\" class=\"dataframe\">\n  <thead>\n    <tr style=\"text-align: right;\">\n      <th></th>\n      <th>feature</th>\n      <th>importance</th>\n    </tr>\n  </thead>\n  <tbody>\n    <tr>\n      <th>3</th>\n      <td>Вес</td>\n      <td>0.619419</td>\n    </tr>\n    <tr>\n      <th>2</th>\n      <td>Мощность</td>\n      <td>0.151007</td>\n    </tr>\n    <tr>\n      <th>5</th>\n      <td>Год выпуска</td>\n      <td>0.104173</td>\n    </tr>\n    <tr>\n      <th>1</th>\n      <td>Рабочий объем двигателя</td>\n      <td>0.101135</td>\n    </tr>\n    <tr>\n      <th>4</th>\n      <td>Ускорение</td>\n      <td>0.019944</td>\n    </tr>\n    <tr>\n      <th>8</th>\n      <td>Производитель_US</td>\n      <td>0.003417</td>\n    </tr>\n    <tr>\n      <th>0</th>\n      <td>Кол-во цилиндров</td>\n      <td>0.000729</td>\n    </tr>\n    <tr>\n      <th>7</th>\n      <td>Производитель_Europe</td>\n      <td>0.000093</td>\n    </tr>\n    <tr>\n      <th>6</th>\n      <td>Производитель_Asia</td>\n      <td>0.000083</td>\n    </tr>\n  </tbody>\n</table>\n</div>"
     },
     "execution_count": 1,
     "metadata": {},
     "output_type": "execute_result"
    }
   ],
   "source": [
    "import pandas as pd\n",
    "import seaborn as sns\n",
    "from sklearn.preprocessing import StandardScaler\n",
    "from sklearn.model_selection import train_test_split\n",
    "from sklearn.linear_model import Lasso, Ridge\n",
    "from sklearn.tree import DecisionTreeRegressor\n",
    "from sklearn.ensemble import RandomForestRegressor, GradientBoostingRegressor\n",
    "import matplotlib.pyplot as plt\n",
    "from sklearn.metrics import mean_absolute_error, mean_squared_error, r2_score\n",
    "\n",
    "# прочитаем из csv-файла данные с описанием автомобилей и их потреблением, распечатаем его размер и первые 5 строк\n",
    "cars = pd.read_csv('../datasets/auto_cons.csv')\n",
    "\n",
    "# уберём строки с пустыми значениями из набора данных\n",
    "cars.dropna(inplace=True)\n",
    "\n",
    "# сохраним датафрейм с учётом преобразования признаков\n",
    "cars = pd.get_dummies(cars)\n",
    "\n",
    "# разделим наши данные на признаки (матрица X) и целевую переменную (y)\n",
    "X = cars.drop(columns=['Расход топлива'])\n",
    "y = cars['Расход топлива']\n",
    "\n",
    "# разделяем модель на обучающую и валидационную выборку\n",
    "X_train, X_test, y_train, y_test = train_test_split(X, y, test_size=0.2)\n",
    "\n",
    "# создадим объект класса StandardScaler и применим его к обучающей выборке\n",
    "scaler = StandardScaler()\n",
    "X_train_st = scaler.fit_transform(\n",
    "    X_train\n",
    ")  # обучаем scaler и одновременно трансформируем матрицу для обучающей выборки\n",
    "\n",
    "# применяем стандартизацию к матрице признаков для тестовой выборки\n",
    "X_test_st = scaler.transform(X_test)\n",
    "\n",
    "# задайте список моделей\n",
    "models = [\n",
    "    Lasso(),\n",
    "    Ridge(),\n",
    "    DecisionTreeRegressor(),\n",
    "    RandomForestRegressor(),\n",
    "    GradientBoostingRegressor(),\n",
    "]\n",
    "\n",
    "# функция, которая вычисляет MAPE\n",
    "def mape(y_true, y_pred):\n",
    "    y_error = y_true - y_pred\n",
    "    y_error_abs = [abs(i) for i in y_error]\n",
    "    perc_error_abs = y_error_abs / y_true\n",
    "    return perc_error_abs.sum() / len(y_true)\n",
    "\n",
    "\n",
    "# функция, которая принимает на вход модель и данные и выводит метрики\n",
    "def make_prediction(m, X_train, y_train, X_test, y_test):\n",
    "    model = m\n",
    "    model.fit(X_train, y_train)\n",
    "    y_pred = model.predict(X_test)\n",
    "    print(\n",
    "        'MAE:{:.2f} MSE:{:.2f} MAPE:{:.2f} R2:{:.2f} '.format(\n",
    "            mean_absolute_error(y_test, y_pred),\n",
    "            mean_squared_error(y_test, y_pred),\n",
    "            mape(y_test, y_pred),\n",
    "            r2_score(y_test, y_pred),\n",
    "        )\n",
    "    )\n",
    "\n",
    "\n",
    "# напишите цикл, который выводит метрики по списку моделей\n",
    "for i in models:\n",
    "    print(i)\n",
    "    make_prediction(\n",
    "        m=i,\n",
    "        X_train=X_train_st,\n",
    "        y_train=y_train,\n",
    "        X_test=X_test_st,\n",
    "        y_test=y_test,\n",
    "    )\n",
    "\n",
    "# обучим финальную модель\n",
    "final_model = models[-1]\n",
    "final_model.fit(X=X_train_st, y=y_train)\n",
    "y_pred = final_model.predict(X=X_test_st)\n",
    "\n",
    "# создадим датафрейм с именами признаков и их важностью и выведем его по убыванию важности\n",
    "fi_df = pd.DataFrame(data={'feature': X.columns, 'importance': final_model.feature_importances_})\n",
    "fi_df.sort_values('importance', ascending=False)\n"
   ],
   "metadata": {
    "collapsed": false,
    "pycharm": {
     "name": "#%%\n"
    }
   }
  }
 ],
 "metadata": {
  "kernelspec": {
   "display_name": "Python 3",
   "language": "python",
   "name": "python3"
  },
  "language_info": {
   "codemirror_mode": {
    "name": "ipython",
    "version": 2
   },
   "file_extension": ".py",
   "mimetype": "text/x-python",
   "name": "python",
   "nbconvert_exporter": "python",
   "pygments_lexer": "ipython2",
   "version": "2.7.6"
  }
 },
 "nbformat": 4,
 "nbformat_minor": 0
}