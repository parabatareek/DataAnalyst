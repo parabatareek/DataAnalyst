{
 "cells": [
  {
   "cell_type": "markdown",
   "source": [
    "# 1.\n",
    "В файле /datasets/dataset_facebook_cosmetics.csv данные об активности пользователей на официальных Facebook-аккаунтах косметических компаний.\n",
    "Активностью считают общее количество всех взаимодействий на странице: лайки, репосты, комментарии. В файле это столбец 'Total Interactions'.\n",
    "Также в таблице есть характеристики самих Facebook-аккаунтов.\n",
    "Ваша задача — обучить модель прогнозировать активность на официальной странице компаний.\n",
    "Прочитайте данные и сохраните в переменной fb. Выведите размер исходного датасета и первые 5 строк.\n",
    "\n",
    "Подсказка:\n",
    "Выведите размер датасета методом shape. Разделите значения точкой с запятой: ';'."
   ],
   "metadata": {
    "collapsed": false,
    "pycharm": {
     "name": "#%% md\n"
    }
   }
  },
  {
   "cell_type": "code",
   "execution_count": 2,
   "outputs": [
    {
     "name": "stdout",
     "output_type": "stream",
     "text": [
      "(500, 15)\n",
      "   Page total likes  Category  Post Month  Post Weekday  Post Hour  Paid  \\\n",
      "0            139441         2          12             4          3     0   \n",
      "1            139441         2          12             3         10     0   \n",
      "2            139441         3          12             3          3     0   \n",
      "3            139441         2          12             2         10     1   \n",
      "4            139441         2          12             2          3     0   \n",
      "\n",
      "   Lifetime Post Total Reach  Lifetime Post Total Impressions  \\\n",
      "0                       2752                             5091   \n",
      "1                      10460                            19057   \n",
      "2                       2413                             4373   \n",
      "3                      50128                            87991   \n",
      "4                       7244                            13594   \n",
      "\n",
      "   Lifetime Engaged Users  Lifetime Post Consumers  \\\n",
      "0                     178                      109   \n",
      "1                    1457                     1361   \n",
      "2                     177                      113   \n",
      "3                    2211                      790   \n",
      "4                     671                      410   \n",
      "\n",
      "   Lifetime Post Consumptions  \\\n",
      "0                         159   \n",
      "1                        1674   \n",
      "2                         154   \n",
      "3                        1119   \n",
      "4                         580   \n",
      "\n",
      "   Lifetime Post Impressions by people who have liked your Page  \\\n",
      "0                                               3078              \n",
      "1                                              11710              \n",
      "2                                               2812              \n",
      "3                                              61027              \n",
      "4                                               6228              \n",
      "\n",
      "   Lifetime Post reach by people who like your Page  \\\n",
      "0                                              1640   \n",
      "1                                              6112   \n",
      "2                                              1503   \n",
      "3                                             32048   \n",
      "4                                              3200   \n",
      "\n",
      "   Lifetime People who have liked your Page and engaged with your post  \\\n",
      "0                                                119                     \n",
      "1                                               1108                     \n",
      "2                                                132                     \n",
      "3                                               1386                     \n",
      "4                                                396                     \n",
      "\n",
      "   Total Interactions  \n",
      "0                 100  \n",
      "1                 164  \n",
      "2                  80  \n",
      "3                1777  \n",
      "4                 393  \n"
     ]
    }
   ],
   "source": [
    "import pandas as pd\n",
    "from sklearn.ensemble import RandomForestRegressor\n",
    "\n",
    "# прочитайте данные с атрибутами аккаунтов компаний и активностью\n",
    "fb = pd.read_csv(filepath_or_buffer='../datasets/dataset_facebook_cosmetics.csv', sep=';') # напишите свой код здесь\n",
    "\n",
    "# выведите размер датасета с помощью атрибута shape\n",
    "print(fb.shape)\n",
    "\n",
    "# выведите первые 5 строк датасета\n",
    "print(fb.head(5))"
   ],
   "metadata": {
    "collapsed": false,
    "pycharm": {
     "name": "#%%\n"
    }
   }
  },
  {
   "cell_type": "markdown",
   "source": [
    "# 2.\n",
    "Значения столбца 'Total Interactions' могут принимать любое неотрицательное целое значение.\n",
    "Вы ещё узнаете, что это задача регрессии.\n",
    "Теперь подготовим данные для того, чтобы можно было передать их на вход модели.\n",
    "Создайте датафрейм X, в котором сохраните только признаки.\n",
    "Переменной y передайте значения целевой переменной 'Total Interactions'.\n",
    "\n",
    "Подсказка:\n",
    "Удалите столбец с целевой переменной при сохранении матрицы признаков в переменной X методом drop(axis = 1)."
   ],
   "metadata": {
    "collapsed": false,
    "pycharm": {
     "name": "#%% md\n"
    }
   }
  },
  {
   "cell_type": "code",
   "execution_count": 3,
   "outputs": [],
   "source": [
    "import pandas as pd\n",
    "from sklearn.ensemble import RandomForestRegressor\n",
    "\n",
    "# прочитайте данные с атрибутами аккаунтов компаний и активностью\n",
    "fb = pd.read_csv('../datasets/dataset_facebook_cosmetics.csv', sep = ';')\n",
    "\n",
    "# разделите данные на признаки (матрица X) и целевую переменную (y)\n",
    "X = fb.drop(['Total Interactions'], axis=1)# напишите свой код здесь\n",
    "y = fb['Total Interactions']# напишите свой код здесь"
   ],
   "metadata": {
    "collapsed": false,
    "pycharm": {
     "name": "#%%\n"
    }
   }
  },
  {
   "cell_type": "markdown",
   "source": [
    "# 3.\n",
    "Перед тем как обучать модель, её нужно задать — определить, к какому алгоритму она будет относиться.\n",
    "Вы подробно изучите алгоритмы позже.\n",
    "В прекоде мы указали алгоритм для модели регрессии — RandomForestRegressor.\n",
    "Обучите модель на основании имеющихся у вас данных.\n",
    "Затем обученной моделью сделайте прогнозы для того же набора объектов."
   ],
   "metadata": {
    "collapsed": false,
    "pycharm": {
     "name": "#%% md\n"
    }
   }
  },
  {
   "cell_type": "code",
   "execution_count": 7,
   "outputs": [
    {
     "data": {
      "text/plain": "<Figure size 432x288 with 1 Axes>",
      "image/png": "[encoded data removed]"
     },
     "metadata": {
      "needs_background": "light"
     },
     "output_type": "display_data"
    }
   ],
   "source": [
    "import pandas as pd\n",
    "from sklearn.ensemble import RandomForestRegressor\n",
    "import matplotlib.pyplot as plt\n",
    "import seaborn as sns\n",
    "\n",
    "# прочитайте данные с атрибутами аккаунтов компаний и активностью\n",
    "fb = pd.read_csv('../datasets/dataset_facebook_cosmetics.csv', sep=';')\n",
    "\n",
    "# разделите данные на признаки (матрица X) и целевую переменную (y)\n",
    "X = fb.drop('Total Interactions', axis=1)\n",
    "y = fb['Total Interactions']\n",
    "\n",
    "# задаём алгоритм для модели\n",
    "model = RandomForestRegressor()\n",
    "\n",
    "# обучите модель\n",
    "# напишите свой код здесь\n",
    "model.fit(X=X, y=y)\n",
    "# сделайте прогноз обученной моделью\n",
    "predictions = model.predict(X=X) # напишите свой код здесь\n",
    "\n",
    "# нарисуем график прогноз-факт\n",
    "sns.scatterplot(x=y, y=predictions, s=15, alpha=0.6)\n",
    "plt.title('График Прогноз-Факт')\n",
    "plt.ylabel('Прогноз')\n",
    "plt.xlabel('Факт')\n",
    "plt.show()"
   ],
   "metadata": {
    "collapsed": false,
    "pycharm": {
     "name": "#%%\n"
    }
   }
  }
 ],
 "metadata": {
  "kernelspec": {
   "display_name": "Python 3",
   "language": "python",
   "name": "python3"
  },
  "language_info": {
   "codemirror_mode": {
    "name": "ipython",
    "version": 2
   },
   "file_extension": ".py",
   "mimetype": "text/x-python",
   "name": "python",
   "nbconvert_exporter": "python",
   "pygments_lexer": "ipython2",
   "version": "2.7.6"
  }
 },
 "nbformat": 4,
 "nbformat_minor": 0
}