{
 "cells": [
  {
   "cell_type": "markdown",
   "source": [
    "# 1.\n",
    "Продолжим прогнозировать активность на официальных страницах косметических компаний в Facebook.\n",
    "Разделите выборку на train и test (да, мы тоже будем называть валидационную выборку test, но вы понимаете разницу) в пропорциях 80% к 20%.\n",
    "Укажите random_state=0 в параметрах функции train_test_split.\n",
    "\n",
    "Подсказка:\n",
    "Вызовите функцию train_test_split.\n",
    "Она берёт на вход таблицу с признаками X и вектор целевой переменной y.\n",
    "Также задайте долю тестовой выборки параметром test_size."
   ],
   "metadata": {
    "collapsed": false,
    "pycharm": {
     "name": "#%% md\n"
    }
   }
  },
  {
   "cell_type": "code",
   "execution_count": 1,
   "outputs": [],
   "source": [
    "import pandas as pd\n",
    "from sklearn.model_selection import train_test_split\n",
    "\n",
    "# прочитайте данные с атрибутами аккаунтов компаний на facebook и активностью на них\n",
    "fb = pd.read_csv('../datasets/dataset_facebook_cosmetics.csv', sep = ';')\n",
    "\n",
    "# разделите данные на признаки (матрица X) и целевую переменную (y)\n",
    "X = fb.drop('Total Interactions', axis = 1)\n",
    "y = fb['Total Interactions']\n",
    "\n",
    "# разделяем модель на обучающую и валидационную выборку\n",
    "X_train, X_test, y_train, y_test = train_test_split(X, y, test_size=0.2, random_state=0)# напишите свой код здесь"
   ],
   "metadata": {
    "collapsed": false,
    "pycharm": {
     "name": "#%%\n"
    }
   }
  },
  {
   "cell_type": "markdown",
   "source": [
    "# 2.\n",
    "Ваши данные готовы к обучению и к валидации.\n",
    "Обучите модель теперь только на обучающей выборке, сделайте прогноз для валидационной и выведите значение метрики r2_score, которое вы получили.\n",
    "Задавая алгоритм для модели, укажите параметр random_state=0.\n",
    "\n",
    "Подсказка:\n",
    "Задайте алгоритм для модели так: RandomForestRegressor(random_state=0).\n",
    "Обучение должно происходить на признаках и целевой переменной из обучающей выборки (X_train, y_train), а прогноз — только для матрицы признаков на тестовом множестве (X_test)."
   ],
   "metadata": {
    "collapsed": false,
    "pycharm": {
     "name": "#%% md\n"
    }
   }
  },
  {
   "cell_type": "code",
   "execution_count": 2,
   "outputs": [
    {
     "name": "stdout",
     "output_type": "stream",
     "text": [
      "Значение метрики R-квадрат:  0.6702623920180311\n"
     ]
    }
   ],
   "source": [
    "import pandas as pd\n",
    "from sklearn.model_selection import train_test_split\n",
    "from sklearn.ensemble import RandomForestRegressor\n",
    "from sklearn.metrics import r2_score\n",
    "\n",
    "# прочитайте данные с атрибутами аккаунтов компаний на facebook и активностью на них\n",
    "fb = pd.read_csv('../datasets/dataset_facebook_cosmetics.csv', sep = ';')\n",
    "\n",
    "# разделите данные на признаки (матрица X) и целевую переменную (y)\n",
    "X = fb.drop('Total Interactions', axis = 1)\n",
    "y = fb['Total Interactions']\n",
    "\n",
    "# разделяем модель на обучающую и валидационную выборку\n",
    "X_train, X_test, y_train, y_test = train_test_split(X, y, test_size=0.2, random_state=0)\n",
    "\n",
    "# зададим алгоритм для нашей модели\n",
    "model = RandomForestRegressor(random_state=0)# задайте модель как элемент класса RandomForestRegressor (random_state=0)\n",
    "\n",
    "# обучим модель\n",
    "model.fit(X=X_train, y=y_train)# обучите вашу модель на обучающей выборке\n",
    "\n",
    "# воспользуемся уже обученной моделью, чтобы сделать прогнозы\n",
    "predictions = model.predict(X=X_test)# сделайте прогноз для валидационной выборки с помощью вашей модели\n",
    "\n",
    "# оценим метрику R-квадрат на валидационной выборке и напечатаем\n",
    "r2 = r2_score(y_true=y_test, y_pred=predictions)# напишите свой код здесь\n",
    "print('Значение метрики R-квадрат: ', r2)"
   ],
   "metadata": {
    "collapsed": false,
    "pycharm": {
     "name": "#%%\n"
    }
   }
  }
 ],
 "metadata": {
  "kernelspec": {
   "display_name": "Python 3",
   "language": "python",
   "name": "python3"
  },
  "language_info": {
   "codemirror_mode": {
    "name": "ipython",
    "version": 2
   },
   "file_extension": ".py",
   "mimetype": "text/x-python",
   "name": "python",
   "nbconvert_exporter": "python",
   "pygments_lexer": "ipython2",
   "version": "2.7.6"
  }
 },
 "nbformat": 4,
 "nbformat_minor": 0
}