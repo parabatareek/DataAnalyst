{
 "cells": [
  {
   "cell_type": "markdown",
   "source": [
    "# 1.\n",
    "Вернёмся к Facebook.\n",
    "Задача — спрогнозировать суммарную активность на официальных аккаунтах компаний в зависимости от параметров этих страниц.\n",
    "В следующих уроках вы обучите линейную модель.\n",
    "А сейчас:\n",
    "выведите список признаков датасета;\n",
    "разделите выборку на обучающую и валидационную методом train_test_split();\n",
    "посчитайте среднее и стандартное отклонения для признака 'Page total likes' в train-выборке;\n",
    "стандартизируйте эти выборки;\n",
    "выведите среднее и стандартное отклонения признака 'Page total likes' для train- и test-выборок.\n",
    "Что можно заметить?\n",
    "Как это объяснить?\n",
    "\n",
    "Подсказка:\n",
    "Чтобы посчитать среднее и стандартное отклонение по столбцу матрицы из numpy, обратитесь к нужному столбцу по индексу (X[:,0]) и вызовите стандартные функции np.mean() и np.std()."
   ],
   "metadata": {
    "collapsed": false,
    "pycharm": {
     "name": "#%% md\n"
    }
   }
  },
  {
   "cell_type": "code",
   "execution_count": 5,
   "outputs": [
    {
     "name": "stdout",
     "output_type": "stream",
     "text": [
      "Index(['Page total likes', 'Category', 'Post Month', 'Post Weekday',\n",
      "       'Post Hour', 'Paid', 'Lifetime Post Total Reach',\n",
      "       'Lifetime Post Total Impressions', 'Lifetime Engaged Users',\n",
      "       'Lifetime Post Consumers', 'Lifetime Post Consumptions',\n",
      "       'Lifetime Post Impressions by people who have liked your Page',\n",
      "       'Lifetime Post reach by people who like your Page',\n",
      "       'Lifetime People who have liked your Page and engaged with your post'],\n",
      "      dtype='object')\n",
      "Mean for train 123511.13\n",
      "Std for train 16303.53390780968\n",
      "Mean for standartized train -0.09720407912550001\n",
      "Std for standartized train 1.0\n",
      "Mean for standartized test -0.09720407912550001\n",
      "Std for standartized test 0.9816585613117798\n"
     ]
    }
   ],
   "source": [
    "import pandas as pd\n",
    "import numpy as np\n",
    "from sklearn.model_selection import train_test_split\n",
    "from sklearn.preprocessing import StandardScaler\n",
    "\n",
    "# прочитайте данные с атрибутами аккаунтов компаний на Facebook и активностью на них\n",
    "fb = pd.read_csv('../datasets/dataset_facebook_cosmetics.csv', sep = ';')\n",
    "\n",
    "# разделяем данные на признаки (матрица X) и целевую переменную (y)\n",
    "X = fb.drop('Total Interactions', axis = 1)\n",
    "y = fb['Total Interactions']\n",
    "\n",
    "# выведите название признаков в датасете\n",
    "print(X.columns) # ваш код здесь\n",
    "\n",
    "# разделяем модель на обучающую и валидационную выборку\n",
    "X_train, X_test, y_train, y_test = train_test_split(X, y, test_size=0.2)\n",
    "\n",
    "# выведите среднее и стандартное отклонение признака 'Page total likes'\n",
    "print('Mean for train', np.mean(X_train.iloc[:,0]))\n",
    "print('Std for train', np.std(X_train.iloc[:,0]))\n",
    "\n",
    "# стандартизируем данные\n",
    "scaler = StandardScaler()\n",
    "scaler.fit(X=X_train)# обучите scaler на обучающей выборке методом fit\n",
    "X_train_st =scaler.transform(X=X_train)# стандартизируйте обучающую выборку методом transform scaler\n",
    "X_test_st = scaler.transform(X=X_test)# стандартизируйте тестовую выборку методом transform scaler\n",
    "\n",
    "print('Mean for standartized train', np.mean(X_train_st[:,0]))\n",
    "print('Std for standartized train', np.std(X_train_st[:,0]))\n",
    "print('Mean for standartized test', np.mean(X_test_st[:,0]))\n",
    "print('Std for standartized test', np.std(X_test_st[:,0]))"
   ],
   "metadata": {
    "collapsed": false,
    "pycharm": {
     "name": "#%%\n"
    }
   }
  }
 ],
 "metadata": {
  "kernelspec": {
   "display_name": "Python 3",
   "language": "python",
   "name": "python3"
  },
  "language_info": {
   "codemirror_mode": {
    "name": "ipython",
    "version": 2
   },
   "file_extension": ".py",
   "mimetype": "text/x-python",
   "name": "python",
   "nbconvert_exporter": "python",
   "pygments_lexer": "ipython2",
   "version": "2.7.6"
  }
 },
 "nbformat": 4,
 "nbformat_minor": 0
}