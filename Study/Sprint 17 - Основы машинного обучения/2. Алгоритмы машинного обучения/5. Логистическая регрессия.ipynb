{
 "cells": [
  {
   "cell_type": "markdown",
   "source": [
    "# 1.\n",
    "Спрогнозируйте стабильность электрических сетей.\n",
    "Вам предоставили файл с данными: \"/datasets/Electrical_Grid_Stability.csv\".\n",
    "Признаки обезличены: по названиям вы никак не сможете понять, что они значат.\n",
    "Целевая переменная — 'stability' — отвечает за то, стабильна сеть или нет.\n",
    "Значение \"1\" соответствует тому, что сеть стабильна, а \"0\" — нет.\n",
    "Перед тем как построить модель:\n",
    "Прочитайте csv-файл функцией read_csv() (в качестве разделителя данных возьмите ';' — отразите это в значении параметра функции 'sep') и сохраните данные как датафрейм electrical_grid.\n",
    "Создайте датафрейм, соответствующий матрице объект-признак, и вектор (тип Series) целевой переменной.\n",
    "Разделите выборку на обучающую и тестовую в отношении 80% к 20%.\n",
    "\n",
    "Подсказка:\n",
    "Удалите целевую переменную из исходного датафрейма, применяя знакомый метод drop() с указанием соответствующих признака и оси, по которой производится удаление."
   ],
   "metadata": {
    "collapsed": false,
    "pycharm": {
     "name": "#%% md\n"
    }
   }
  },
  {
   "cell_type": "code",
   "execution_count": 1,
   "outputs": [
    {
     "name": "stdout",
     "output_type": "stream",
     "text": [
      "Размер датасета: (10000, 13)\n",
      "       tau1      tau2      tau3      tau4        p1        p2        p3  \\\n",
      "0  2.959060  3.079885  8.381025  9.780754  3.763085 -0.782604 -1.257395   \n",
      "1  9.304097  4.902524  3.047541  1.369357  5.067812 -1.940058 -1.872742   \n",
      "2  8.971707  8.848428  3.046479  1.214518  3.405158 -1.207456 -1.277210   \n",
      "3  0.716415  7.669600  4.486641  2.340563  3.963791 -1.027473 -1.938944   \n",
      "4  3.134112  7.608772  4.943759  9.857573  3.525811 -1.125531 -1.845975   \n",
      "\n",
      "         p4        g1        g2        g3        g4  stability  \n",
      "0 -1.723086  0.650456  0.859578  0.887445  0.958034          0  \n",
      "1 -1.255012  0.413441  0.862414  0.562139  0.781760          1  \n",
      "2 -0.920492  0.163041  0.766689  0.839444  0.109853          0  \n",
      "3 -0.997374  0.446209  0.976744  0.929381  0.362718          0  \n",
      "4 -0.554305  0.797110  0.455450  0.656947  0.820923          0  \n"
     ]
    }
   ],
   "source": [
    "import pandas as pd\n",
    "from sklearn.model_selection import train_test_split\n",
    "from sklearn.linear_model import LogisticRegression\n",
    "\n",
    "# прочитайте из csv-файла данные о параметрах сетей и их устойчивости\n",
    "electrical_grid = pd.read_csv(filepath_or_buffer='../datasets/Electrical_Grid_Stability.csv', sep=';')# прочитайте csv-файл и сохраните в переменной electrical_grid\n",
    "print('Размер датасета:', electrical_grid.shape)\n",
    "print(electrical_grid.head())\n",
    "\n",
    "# разделите наши данные на признаки (матрица X) и целевую переменную (y)\n",
    "X = electrical_grid.drop(columns=['stability'])# сохраните в переменной матрицу объекты-признаки, удалив из датафрейма колонку с целевой переменной\n",
    "y = electrical_grid['stability']# сохраните в переменной колонку со значением целевой переменной\n",
    "\n",
    "# разделите модель на обучающую и валидационную выборку\n",
    "X_train, X_test, y_train, y_test = train_test_split(X, y, test_size=0.2, random_state=0)"
   ],
   "metadata": {
    "collapsed": false,
    "pycharm": {
     "name": "#%%\n"
    }
   }
  },
  {
   "cell_type": "markdown",
   "source": [
    "# 2.\n",
    "Задайте переменную model класса LogisticRegression() из модуля sklearn.linear_model;\n",
    "Обучите вашу модель на обучающей выборке;\n",
    "Сделайте с помощью обученной модели бинарный прогноз для объектов из валидационного набора данных и сохраните его в переменной predictions;\n",
    "Сделайте оценку вероятности принадлежности ко второму классу (среди классов \"0\" и \"1\", имеем в виду класс \"1\") для объектов из валидационного набора данных и сохраните его в переменной probabilities.\n",
    "\n",
    "Подсказка:\n",
    "model.predict_proba(X_test) выдаёт вектор пар значений, где первое значение соответствует вероятности отнесения к первому (\"0\") классу, а второе — ко второму (\"1\").\n",
    "Чтобы получить вектор вероятностей отнесения ко второму (\"1\") классу, обратитесь по индексу — model.predict_proba(X_test)[:,1]."
   ],
   "metadata": {
    "collapsed": false,
    "pycharm": {
     "name": "#%% md\n"
    }
   }
  },
  {
   "cell_type": "code",
   "execution_count": 2,
   "outputs": [
    {
     "name": "stdout",
     "output_type": "stream",
     "text": [
      "Размер датасета: (10000, 13)\n",
      "       tau1      tau2      tau3      tau4        p1        p2        p3  \\\n",
      "0  2.959060  3.079885  8.381025  9.780754  3.763085 -0.782604 -1.257395   \n",
      "1  9.304097  4.902524  3.047541  1.369357  5.067812 -1.940058 -1.872742   \n",
      "2  8.971707  8.848428  3.046479  1.214518  3.405158 -1.207456 -1.277210   \n",
      "3  0.716415  7.669600  4.486641  2.340563  3.963791 -1.027473 -1.938944   \n",
      "4  3.134112  7.608772  4.943759  9.857573  3.525811 -1.125531 -1.845975   \n",
      "\n",
      "         p4        g1        g2        g3        g4  stability  \n",
      "0 -1.723086  0.650456  0.859578  0.887445  0.958034          0  \n",
      "1 -1.255012  0.413441  0.862414  0.562139  0.781760          1  \n",
      "2 -0.920492  0.163041  0.766689  0.839444  0.109853          0  \n",
      "3 -0.997374  0.446209  0.976744  0.929381  0.362718          0  \n",
      "4 -0.554305  0.797110  0.455450  0.656947  0.820923          0  \n",
      "[1 1 0 ... 1 0 0]\n",
      "[0.73605709 0.54739713 0.36752758 ... 0.89452696 0.22636277 0.10635416]\n"
     ]
    }
   ],
   "source": [
    "import pandas as pd\n",
    "\n",
    "from sklearn.model_selection import train_test_split\n",
    "\n",
    "from sklearn.linear_model import LogisticRegression\n",
    "\n",
    "# прочитайте из csv-файла данные о параметрах сетей и их устойчивости\n",
    "electrical_grid = pd.read_csv('../datasets/Electrical_Grid_Stability.csv', sep = ';')\n",
    "print('Размер датасета:', electrical_grid.shape)\n",
    "print(electrical_grid.head())\n",
    "\n",
    "# разделите наши данные на признаки (матрица X) и целевую переменную (y)\n",
    "X = electrical_grid.drop('stability', axis = 1)\n",
    "y = electrical_grid['stability']\n",
    "\n",
    "# разделите модель на обучающую и валидационную выборку\n",
    "X_train, X_test, y_train, y_test = train_test_split(X, y, test_size=0.2, random_state=0)\n",
    "\n",
    "\n",
    "# задайте алгоритм для нашей модели\n",
    "model = LogisticRegression(solver='liblinear')\n",
    "\n",
    "# обучите модель\n",
    "model.fit(X=X_train, y=y_train)\n",
    "\n",
    "# воспользуйтесь уже обученной моделью, чтобы сделать прогнозы\n",
    "predictions = model.predict(X=X_test)\n",
    "probabilities = model.predict_proba(X=X_test)[:,1]\n",
    "\n",
    "# выведите значения predictions и probabilities на экран\n",
    "print(predictions)\n",
    "print(probabilities)"
   ],
   "metadata": {
    "collapsed": false,
    "pycharm": {
     "name": "#%%\n"
    }
   }
  }
 ],
 "metadata": {
  "kernelspec": {
   "display_name": "Python 3",
   "language": "python",
   "name": "python3"
  },
  "language_info": {
   "codemirror_mode": {
    "name": "ipython",
    "version": 2
   },
   "file_extension": ".py",
   "mimetype": "text/x-python",
   "name": "python",
   "nbconvert_exporter": "python",
   "pygments_lexer": "ipython2",
   "version": "2.7.6"
  }
 },
 "nbformat": 4,
 "nbformat_minor": 0
}