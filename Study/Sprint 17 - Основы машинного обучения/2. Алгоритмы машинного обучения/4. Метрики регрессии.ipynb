{
 "cells": [
  {
   "cell_type": "markdown",
   "source": [
    "# 1.\n",
    "Вы подготовили данные, обучили линейную модель на train-выборке и сделали ей прогнозы для наблюдений из выборки валидационной.\n",
    "Оцените метрики MAE, MSE и R2 на валидационном множестве.\n",
    "\n",
    "Подсказка:\n",
    "Рассчитайте метрики функциями из модуля metrics в формате <метрика>(y_test, predictions)."
   ],
   "metadata": {
    "collapsed": false,
    "pycharm": {
     "name": "#%% md\n"
    }
   }
  },
  {
   "cell_type": "code",
   "execution_count": 1,
   "outputs": [
    {
     "name": "stdout",
     "output_type": "stream",
     "text": [
      "Mean: 188.36\n",
      "MAE: 35.42\n",
      "MSE: 4896.61\n",
      "R2: 0.93\n"
     ]
    }
   ],
   "source": [
    "import pandas as pd\n",
    "from sklearn.model_selection import train_test_split\n",
    "from sklearn.linear_model import Lasso\n",
    "from sklearn.preprocessing import StandardScaler\n",
    "from sklearn.metrics import mean_absolute_error, mean_squared_error, r2_score\n",
    "\n",
    "# прочитаем данные с атрибутами аккаунтов компаний на Facebook и активностью на них\n",
    "fb = pd.read_csv('../datasets/dataset_facebook_cosmetics.csv', sep = ';')\n",
    "\n",
    "# разделяем данные на признаки (матрица X) и целевую переменную (y)\n",
    "X = fb.drop('Total Interactions', axis = 1)\n",
    "y = fb['Total Interactions']\n",
    "\n",
    "# разделяем модель на обучающую и валидационную выборку\n",
    "X_train, X_test, y_train, y_test = train_test_split(X, y, test_size=0.2, random_state=0)\n",
    "\n",
    "# стандартизируем данные методом StandartScaler\n",
    "scaler = StandardScaler()\n",
    "scaler.fit(X_train)\n",
    "X_train_st = scaler.transform(X_train)\n",
    "X_test_st = scaler.transform(X_test)\n",
    "\n",
    "# задаём алгоритм для нашей модели\n",
    "model = Lasso()\n",
    "\n",
    "# обучим модель\n",
    "model.fit(X_train_st, y_train)\n",
    "\n",
    "# воспользуемся уже обученной моделью, чтобы сделать прогнозы\n",
    "predictions = model.predict(X_test_st)\n",
    "\n",
    "# выведем среднее значение целевой переменной на тесте\n",
    "print('Mean: {:.2f}'.format(y_test.mean()))\n",
    "\n",
    "# выведем основные метрики\n",
    "print('MAE: {:.2f}'.format(mean_absolute_error(y_true=y_test, y_pred=predictions)))\n",
    "print('MSE: {:.2f}'.format(mean_squared_error(y_true=y_test, y_pred=predictions)))\n",
    "print('R2: {:.2f}'.format(r2_score(y_true=y_test, y_pred=predictions)))"
   ],
   "metadata": {
    "collapsed": false,
    "pycharm": {
     "name": "#%%\n"
    }
   }
  }
 ],
 "metadata": {
  "kernelspec": {
   "display_name": "Python 3",
   "language": "python",
   "name": "python3"
  },
  "language_info": {
   "codemirror_mode": {
    "name": "ipython",
    "version": 2
   },
   "file_extension": ".py",
   "mimetype": "text/x-python",
   "name": "python",
   "nbconvert_exporter": "python",
   "pygments_lexer": "ipython2",
   "version": "2.7.6"
  }
 },
 "nbformat": 4,
 "nbformat_minor": 0
}