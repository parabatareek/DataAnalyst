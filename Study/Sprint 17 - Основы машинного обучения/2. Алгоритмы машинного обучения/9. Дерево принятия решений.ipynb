{
 "cells": [
  {
   "cell_type": "markdown",
   "source": [
    "# 1.\n",
    "Решите задачу бинарной классификации деревом принятия решений. Сравните результаты с предыдущими, полученными методом логистической регрессии, на основе изученных метрик. Задавая алгоритм для новой модели, укажите параметр random_state=0.\n",
    "\n",
    "Подсказка:\n",
    "Для прогноза вероятностей и итоговых классов вызовите методы predict() и predict_proba() модели.\n",
    "А ещё не забудьте, что для передачи на вход функции расчёта метрики roc_auc нужен только вектор отнесения к классу 1 (а не вектор пар вероятностей для двух классов) — тут поможет конструкция [:,1]."
   ],
   "metadata": {
    "collapsed": false,
    "pycharm": {
     "name": "#%% md\n"
    }
   }
  },
  {
   "cell_type": "code",
   "execution_count": 3,
   "outputs": [
    {
     "name": "stdout",
     "output_type": "stream",
     "text": [
      "Размер датасета: (10000, 13)\n",
      "Метрики для логистической регрессии\n",
      "Accuracy: 0.81\n",
      "Precision: 0.77\n",
      "Recall: 0.70\n",
      "F1: 0.73\n",
      "ROC_AUC: 0.89\n",
      "\n",
      "Метрики для дерева принятия решения\n",
      "Accuracy: 0.83\n",
      "Precision: 0.77\n",
      "Recall: 0.77\n",
      "F1: 0.77\n",
      "ROC_AUC: 0.82\n"
     ]
    }
   ],
   "source": [
    "import pandas as pd\n",
    "\n",
    "from sklearn.model_selection import train_test_split\n",
    "from sklearn.linear_model import LogisticRegression\n",
    "from sklearn.tree import DecisionTreeClassifier\n",
    "from sklearn.preprocessing import StandardScaler\n",
    "\n",
    "from sklearn.metrics import accuracy_score, precision_score, recall_score, f1_score\n",
    "from sklearn.metrics import roc_auc_score\n",
    "\n",
    "# прочитаем из csv-файла данные о параметрах сетей и их устойчивости\n",
    "electrical_grid = pd.read_csv(\n",
    "    '../datasets/Electrical_Grid_Stability.csv', sep=';'\n",
    ")\n",
    "print('Размер датасета:', electrical_grid.shape)\n",
    "electrical_grid.head()\n",
    "\n",
    "# посмотрим, как соотносятся классы для нашего набора данных\n",
    "electrical_grid['stability'].value_counts()\n",
    "\n",
    "# разделим наши данные на признаки (матрица X) и целевую переменную (y)\n",
    "X = electrical_grid.drop('stability', axis=1)\n",
    "y = electrical_grid['stability']\n",
    "\n",
    "# разделяем модель на обучающую и валидационную выборку\n",
    "X_train, X_test, y_train, y_test = train_test_split(\n",
    "    X, y, test_size=0.2, random_state=0\n",
    ")\n",
    "\n",
    "# обучите StandartScaler на обучающей выборке\n",
    "scaler = StandardScaler()\n",
    "scaler.fit(X_train)\n",
    "\n",
    "# Преобразуйте обучающий и валидационные наборы данных\n",
    "X_train_st = scaler.transform(X_train)\n",
    "X_test_st = scaler.transform(X_test)\n",
    "\n",
    "# зададим алгоритм для нашей модели\n",
    "model = LogisticRegression(solver='liblinear', random_state=0)\n",
    "\n",
    "# обучим модель\n",
    "model.fit(X_train_st, y_train)\n",
    "\n",
    "# воспользуемся уже обученной моделью, чтобы сделать прогнозы\n",
    "predictions = model.predict(X_test_st)\n",
    "probabilities = model.predict_proba(X_test_st)[:, 1]\n",
    "\n",
    "# выведем все изученные метрики\n",
    "print('Метрики для логистической регрессии')\n",
    "print('Accuracy: {:.2f}'.format(accuracy_score(y_test, predictions)))\n",
    "print('Precision: {:.2f}'.format(precision_score(y_test, predictions)))\n",
    "print('Recall: {:.2f}'.format(recall_score(y_test, predictions)))\n",
    "print('F1: {:.2f}'.format(f1_score(y_test, predictions)))\n",
    "print('ROC_AUC: {:.2f}\\n'.format(roc_auc_score(y_test, probabilities)))\n",
    "\n",
    "# зададим алгоритм для новой модели на основе алгоритма решающего дерева\n",
    "tree_model = DecisionTreeClassifier(random_state=0)\n",
    "\n",
    "# обучите модель\n",
    "tree_model.fit(X=X_train, y=y_train)\n",
    "\n",
    "\n",
    "# воспользуемся уже обученной моделью, чтобы сделать прогнозы\n",
    "tree_predictions = tree_model.predict(X=X_test)\n",
    "tree_probabilities = tree_model.predict_proba(X=X_test)[:, 1]\n",
    "\n",
    "# выведем все изученные метрики\n",
    "print('Метрики для дерева принятия решения')\n",
    "print('Accuracy: {:.2f}'.format(accuracy_score(y_true=y_test, y_pred=tree_predictions)))\n",
    "print('Precision: {:.2f}'.format(precision_score(y_true=y_test, y_pred=tree_predictions)))\n",
    "print('Recall: {:.2f}'.format(recall_score(y_true=y_test, y_pred=tree_predictions)))\n",
    "print('F1: {:.2f}'.format(f1_score(y_true=y_test, y_pred=tree_predictions)))\n",
    "print('ROC_AUC: {:.2f}'.format(roc_auc_score(y_true=y_test, y_score=tree_probabilities)))"
   ],
   "metadata": {
    "collapsed": false,
    "pycharm": {
     "name": "#%%\n"
    }
   }
  }
 ],
 "metadata": {
  "kernelspec": {
   "display_name": "Python 3",
   "language": "python",
   "name": "python3"
  },
  "language_info": {
   "codemirror_mode": {
    "name": "ipython",
    "version": 2
   },
   "file_extension": ".py",
   "mimetype": "text/x-python",
   "name": "python",
   "nbconvert_exporter": "python",
   "pygments_lexer": "ipython2",
   "version": "2.7.6"
  }
 },
 "nbformat": 4,
 "nbformat_minor": 0
}