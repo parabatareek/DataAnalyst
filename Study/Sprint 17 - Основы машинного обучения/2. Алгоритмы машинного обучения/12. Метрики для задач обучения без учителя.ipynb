{
 "cells": [
  {
   "cell_type": "markdown",
   "source": [
    "# 1.\n",
    "Посчитайте метрику силуэта для кластеризации отзывов на TripAdvisor.\n",
    "\n",
    "Подсказка:\n",
    "Передайте метрике силуэта стандартизованную, а не исходную матрицу признаков."
   ],
   "metadata": {
    "collapsed": false,
    "pycharm": {
     "name": "#%% md\n"
    }
   }
  },
  {
   "cell_type": "code",
   "execution_count": 1,
   "outputs": [
    {
     "name": "stdout",
     "output_type": "stream",
     "text": [
      "(980, 10)\n",
      "Silhouette_score: 0.22\n"
     ]
    }
   ],
   "source": [
    "import pandas as pd\n",
    "import itertools\n",
    "\n",
    "from sklearn.preprocessing import StandardScaler\n",
    "from sklearn.cluster import KMeans\n",
    "from sklearn.metrics import silhouette_score\n",
    "\n",
    "\n",
    "# прочитаем данные\n",
    "travel = pd.read_csv('../datasets/tripadvisor_review_case.csv')\n",
    "print(travel.shape)\n",
    "\n",
    "# стандартизируем данные\n",
    "sc = StandardScaler()\n",
    "x_sc = sc.fit_transform(travel)\n",
    "\n",
    "# зададим модель k_means с количеством кластеров 3\n",
    "km = KMeans(n_clusters = 3)\n",
    "# спрогнозируем кластеры для наблюдений (алгоритм присваивает им номера от 0 до 2)\n",
    "labels = km.fit_predict(x_sc)\n",
    "\n",
    "# сохраним метки кластера в поле нашего датасета\n",
    "travel['cluster_km'] = labels\n",
    "\n",
    "# посчитаем метрику силуэта для нашей кластеризации\n",
    "print('Silhouette_score: {:.2f}'.format(silhouette_score(X=x_sc, labels=labels)))"
   ],
   "metadata": {
    "collapsed": false,
    "pycharm": {
     "name": "#%%\n"
    }
   }
  }
 ],
 "metadata": {
  "kernelspec": {
   "display_name": "Python 3",
   "language": "python",
   "name": "python3"
  },
  "language_info": {
   "codemirror_mode": {
    "name": "ipython",
    "version": 2
   },
   "file_extension": ".py",
   "mimetype": "text/x-python",
   "name": "python",
   "nbconvert_exporter": "python",
   "pygments_lexer": "ipython2",
   "version": "2.7.6"
  }
 },
 "nbformat": 4,
 "nbformat_minor": 0
}