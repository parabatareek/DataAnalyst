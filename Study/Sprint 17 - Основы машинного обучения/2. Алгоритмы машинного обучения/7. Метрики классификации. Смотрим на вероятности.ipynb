{
 "cells": [
  {
   "cell_type": "markdown",
   "source": [
    "# 1.\n",
    "Посчитайте и выведите на экран roc-auc на основе прогноза вероятностей.\n",
    "\n",
    "Подсказка:\n",
    "Чтобы посчитать метрику roc_auc, достаточно вектора реальных меток классов и вектора вероятностей отнесения к классу \"1\" — заметьте, что probabilities уже соответствует такому вектору."
   ],
   "metadata": {
    "collapsed": false,
    "pycharm": {
     "name": "#%% md\n"
    }
   }
  },
  {
   "cell_type": "code",
   "execution_count": 2,
   "outputs": [
    {
     "name": "stdout",
     "output_type": "stream",
     "text": [
      "Размер датасета: (10000, 13)\n",
      "ROC_AUC: 0.89\n",
      "9394    0\n",
      "898     1\n",
      "2398    0\n",
      "5906    0\n",
      "2343    0\n",
      "       ..\n",
      "1037    0\n",
      "2899    0\n",
      "9549    1\n",
      "2740    0\n",
      "6690    0\n",
      "Name: stability, Length: 2000, dtype: int64\n",
      "[0.70204511 0.5518397  0.37250103 ... 0.87825665 0.2208971  0.11247683]\n"
     ]
    }
   ],
   "source": [
    "import pandas as pd\n",
    "\n",
    "from sklearn.model_selection import train_test_split\n",
    "from sklearn.linear_model import LogisticRegression\n",
    "\n",
    "from sklearn.metrics import roc_auc_score\n",
    "\n",
    "# прочитаем из csv-файла данные о параметрах сетей и их устойчивости\n",
    "electrical_grid = pd.read_csv('../datasets/Electrical_Grid_Stability.csv', sep=';')\n",
    "print('Размер датасета:', electrical_grid.shape)\n",
    "electrical_grid.head()\n",
    "\n",
    "# посмотрим, как соотносятся классы для нашего набора данных\n",
    "electrical_grid['stability'].value_counts()\n",
    "\n",
    "# разделим наши данные на признаки (матрица X) и целевую переменную (y)\n",
    "X = electrical_grid.drop('stability', axis=1)\n",
    "y = electrical_grid['stability']\n",
    "\n",
    "# разделяем модель на обучающую и валидационную выборку\n",
    "X_train, X_test, y_train, y_test = train_test_split(\n",
    "    X, y, test_size=0.2, random_state=0\n",
    ")\n",
    "\n",
    "# зададим алгоритм для нашей модели\n",
    "model = LogisticRegression(solver='liblinear')\n",
    "\n",
    "# обучим модель\n",
    "model.fit(X_train, y_train)\n",
    "\n",
    "# воспользуемся уже обученной моделью, чтобы сделать прогнозы\n",
    "probabilities = model.predict_proba(X_test)[:,1]\n",
    "\n",
    "# выведем roc_auc_score\n",
    "print('ROC_AUC: {:.2f}'.format(roc_auc_score(y_true=y_test, y_score=probabilities)))\n",
    "print(y_test)\n",
    "print(probabilities)"
   ],
   "metadata": {
    "collapsed": false,
    "pycharm": {
     "name": "#%%\n"
    }
   }
  }
 ],
 "metadata": {
  "kernelspec": {
   "display_name": "Python 3",
   "language": "python",
   "name": "python3"
  },
  "language_info": {
   "codemirror_mode": {
    "name": "ipython",
    "version": 2
   },
   "file_extension": ".py",
   "mimetype": "text/x-python",
   "name": "python",
   "nbconvert_exporter": "python",
   "pygments_lexer": "ipython2",
   "version": "2.7.6"
  }
 },
 "nbformat": 4,
 "nbformat_minor": 0
}