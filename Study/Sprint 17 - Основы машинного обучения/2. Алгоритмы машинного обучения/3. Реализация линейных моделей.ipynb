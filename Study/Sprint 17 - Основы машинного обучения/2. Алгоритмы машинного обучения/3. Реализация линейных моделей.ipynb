{
 "cells": [
  {
   "cell_type": "markdown",
   "source": [
    "# 1.\n",
    "Вернёмся к задаче про Facebook.\n",
    "Примените к ней линейный алгоритм.\n",
    "Объявите вашу модель как элемент класса Lasso (линейная модель с L1-регуляризацией) из модуля linear_model sklearn.\n",
    "Обучите модель и сделайте прогноз для тестовой выборки.\n",
    "\n",
    "Подсказка:\n",
    "Обучите модель не на исходных, а на стандартизированных признаках."
   ],
   "metadata": {
    "collapsed": false,
    "pycharm": {
     "name": "#%% md\n"
    }
   }
  },
  {
   "cell_type": "code",
   "execution_count": 1,
   "outputs": [],
   "source": [
    "import pandas as pd\n",
    "from sklearn.model_selection import train_test_split\n",
    "from sklearn.linear_model import Lasso\n",
    "from sklearn.preprocessing import StandardScaler\n",
    "\n",
    "# прочитайте данные с атрибутами аккаунтов компаний на Facebook и активностью на них\n",
    "fb = pd.read_csv('../datasets/dataset_facebook_cosmetics.csv', sep = ';')\n",
    "\n",
    "# разделяем данные на признаки (матрица X) и целевую переменную (y)\n",
    "X = fb.drop('Total Interactions', axis = 1)\n",
    "y = fb['Total Interactions']\n",
    "\n",
    "# разделяем модель на обучающую и валидационную выборку\n",
    "X_train, X_test, y_train, y_test = train_test_split(X, y, test_size=0.2, random_state=0)\n",
    "\n",
    "# стандартизируем данные методом StandartScaler\n",
    "scaler = StandardScaler()\n",
    "scaler.fit(X_train)\n",
    "X_train_st = scaler.transform(X_train)\n",
    "X_test_st = scaler.transform(X_test)\n",
    "\n",
    "# зададим алгоритм для нашей модели\n",
    "model = Lasso()# задайте модель как элемент класса Lasso\n",
    "\n",
    "# обучим модель\n",
    "model.fit(X=X_train_st, y=y_train)# обучите модель на стандартизированной обучающей выборке\n",
    "\n",
    "# воспользуемся уже обученной моделью, чтобы сделать прогнозы\n",
    "predictions = model.predict(X=X_test_st)# сделайте прогноз для стандартизированной валидационной выборки"
   ],
   "metadata": {
    "collapsed": false,
    "pycharm": {
     "name": "#%%\n"
    }
   }
  },
  {
   "cell_type": "markdown",
   "source": [
    "# 2.\n",
    "Воспользуйтесь важным преимуществом линейных моделей и посмотрите на значения коэффициентов, соответствующих оптимальной функции.\n",
    "Создайте датафрейм features:\n",
    "    признаки поместите в столбец feature,\n",
    "    значения коэффициентов — в столбец coeff,\n",
    "    а модули значений коэффициентов — в coeff_abs.\n",
    "Выведите датафрейм на экран, отсортировав его по модулю коэффициента (coeff_abs) в порядке убывания.\n",
    "Какие признаки оказались в топе?\n",
    "Посмотрите на весь датафрейм с признаками.\n",
    "Коэффициенты при каких признаках стали равными нулю в результате обработки алгоритмом Lasso?\n",
    "\n",
    "Подсказка:\n",
    "При создании датафрейма features поместите в столбец 'feature' признаки, а в столбец 'coeff' — веса, применив методы .columns и .coef_ соответственно.\n",
    "Чтобы создать колонку 'coeff_abs', примените функцию abs() к каждому значению из колонки с коэффициентами 'coeff'."
   ],
   "metadata": {
    "collapsed": false,
    "pycharm": {
     "name": "#%% md\n"
    }
   }
  },
  {
   "cell_type": "code",
   "execution_count": 2,
   "outputs": [
    {
     "name": "stdout",
     "output_type": "stream",
     "text": [
      "                                              feature        coeff  \\\n",
      "8                              Lifetime Engaged Users  1437.936445   \n",
      "9                             Lifetime Post Consumers -1272.879266   \n",
      "13  Lifetime People who have liked your Page and e...    28.620137   \n",
      "12   Lifetime Post reach by people who like your Page   -18.094114   \n",
      "2                                          Post Month   -14.802091   \n",
      "7                     Lifetime Post Total Impressions     9.323297   \n",
      "10                         Lifetime Post Consumptions     7.268843   \n",
      "6                           Lifetime Post Total Reach    -4.723486   \n",
      "1                                            Category     2.130939   \n",
      "5                                                Paid    -1.857545   \n",
      "4                                           Post Hour    -0.676480   \n",
      "0                                    Page total likes     0.000000   \n",
      "3                                        Post Weekday    -0.000000   \n",
      "11  Lifetime Post Impressions by people who have l...     0.000000   \n",
      "\n",
      "      coeff_abs  \n",
      "8   1437.936445  \n",
      "9   1272.879266  \n",
      "13    28.620137  \n",
      "12    18.094114  \n",
      "2     14.802091  \n",
      "7      9.323297  \n",
      "10     7.268843  \n",
      "6      4.723486  \n",
      "1      2.130939  \n",
      "5      1.857545  \n",
      "4      0.676480  \n",
      "0      0.000000  \n",
      "3      0.000000  \n",
      "11     0.000000  \n"
     ]
    }
   ],
   "source": [
    "import pandas as pd\n",
    "from sklearn.model_selection import train_test_split\n",
    "from sklearn.linear_model import Lasso\n",
    "from sklearn.preprocessing import StandardScaler\n",
    "\n",
    "# прочитаем данные с атрибутами аккаунтов компаний на Facebook и активностью на них\n",
    "fb = pd.read_csv('../datasets/dataset_facebook_cosmetics.csv', sep = ';')\n",
    "\n",
    "# разделяем данные на признаки (матрица X) и целевую переменную (y)\n",
    "X = fb.drop('Total Interactions', axis = 1)\n",
    "y = fb['Total Interactions']\n",
    "\n",
    "# разделяем модель на обучающую и валидационную выборку\n",
    "X_train, X_test, y_train, y_test = train_test_split(X, y, test_size=0.2, random_state=0)\n",
    "\n",
    "# стандартизируем данные методом StandartScaler\n",
    "scaler = StandardScaler()\n",
    "scaler.fit(X_train)\n",
    "X_train_st = scaler.transform(X_train)\n",
    "X_test_st = scaler.transform(X_test)\n",
    "\n",
    "# зададим алгоритм для нашей модели\n",
    "model = Lasso()\n",
    "\n",
    "# обучим модель\n",
    "model.fit(X_train_st, y_train)\n",
    "\n",
    "# воспользуемся уже обученной моделью, чтобы сделать прогнозы\n",
    "predictions = model.predict(X_test_st)\n",
    "\n",
    "# создадим датафрейм с признаками и их весами\n",
    "features = pd.DataFrame(data=list(zip(X.columns, model.coef_)),\n",
    "                        columns=['feature', 'coeff'])# воспользуйтесь методом coef_\n",
    "features['coeff_abs'] = abs(features['coeff'])# напишите свой код здесь\n",
    "\n",
    "\n",
    "# выведите упорядоченный по модулю коэффициентов датафрейм с признаками\n",
    "print(features.sort_values(by='coeff_abs', ascending=False))"
   ],
   "metadata": {
    "collapsed": false,
    "pycharm": {
     "name": "#%%\n"
    }
   }
  }
 ],
 "metadata": {
  "kernelspec": {
   "display_name": "Python 3",
   "language": "python",
   "name": "python3"
  },
  "language_info": {
   "codemirror_mode": {
    "name": "ipython",
    "version": 2
   },
   "file_extension": ".py",
   "mimetype": "text/x-python",
   "name": "python",
   "nbconvert_exporter": "python",
   "pygments_lexer": "ipython2",
   "version": "2.7.6"
  }
 },
 "nbformat": 4,
 "nbformat_minor": 0
}