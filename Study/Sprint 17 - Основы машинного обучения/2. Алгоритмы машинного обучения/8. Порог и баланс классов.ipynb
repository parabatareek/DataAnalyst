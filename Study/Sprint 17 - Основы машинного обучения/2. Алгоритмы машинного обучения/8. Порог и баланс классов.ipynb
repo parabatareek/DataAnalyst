{
 "cells": [
  {
   "cell_type": "markdown",
   "source": [
    "# 1.\n",
    "Рассчитайте вектор финальных прогнозов с учётом порога, равного 0.4, и сравните с метриками, полученными при автоматическом расчёте классов методом predict().\n",
    "\n",
    "Подсказка:\n",
    "Для расчёта нового бинарного прогноза укажите конструкцию: [0 if i<threshold else 1 for i in probabilities]. Порог задайте в 0.4. А ещё передайте функции расчёта метрик для кастомного порога новый вектор прогнозов — custom_predictions."
   ],
   "metadata": {
    "collapsed": false,
    "pycharm": {
     "name": "#%% md\n"
    }
   }
  },
  {
   "cell_type": "code",
   "execution_count": 3,
   "outputs": [
    {
     "name": "stdout",
     "output_type": "stream",
     "text": [
      "Размер датасета: (10000, 13)\n",
      "Соотношение классов:\n",
      " 0    6380\n",
      "1    3620\n",
      "Name: stability, dtype: int64\n",
      "Метрики при автоматическом прогнозе с помощью predict\n",
      "Accuracy: 0.82\n",
      "Precision: 0.78\n",
      "Recall: 0.70\n",
      "F1: 0.73\n",
      "\n",
      "Метрики для прогноза с кастомным порогом\n",
      "Accuracy for custom: 0.81\n",
      "Precision for custom: 0.71\n",
      "Recall for custom: 0.77\n",
      "F1 for custom: 0.74\n"
     ]
    }
   ],
   "source": [
    "import pandas as pd\n",
    "\n",
    "from sklearn.model_selection import train_test_split\n",
    "from sklearn.linear_model import LogisticRegression\n",
    "from sklearn.preprocessing import StandardScaler\n",
    "from sklearn.metrics import accuracy_score, precision_score, recall_score, f1_score\n",
    "\n",
    "# прочитаем из csv-файла данные о параметрах сетей и их устойчивости\n",
    "electrical_grid = pd.read_csv(\n",
    "    '../datasets/Electrical_Grid_Stability.csv', sep=';'\n",
    ")\n",
    "print('Размер датасета:', electrical_grid.shape)\n",
    "electrical_grid.head()\n",
    "\n",
    "# посмотрим, как соотносятся классы набора данных\n",
    "print('Соотношение классов:\\n', electrical_grid['stability'].value_counts())\n",
    "\n",
    "# разделим наши данные на признаки (матрица X) и целевую переменную (y)\n",
    "X = electrical_grid.drop('stability', axis=1)\n",
    "y = electrical_grid['stability']\n",
    "\n",
    "# разделяем модель на обучающую и валидационную выборку\n",
    "X_train, X_test, y_train, y_test = train_test_split(\n",
    "    X, y, test_size=0.2, random_state=0\n",
    ")\n",
    "\n",
    "# зададим алгоритм для нашей модели\n",
    "model = LogisticRegression(solver='liblinear')\n",
    "\n",
    "# обучим модель\n",
    "model.fit(X_train, y_train)\n",
    "\n",
    "# воспользуемся уже обученной моделью, чтобы сделать прогнозы\n",
    "probabilities = model.predict_proba(X_test)[:, 1]\n",
    "\n",
    "# бинарный прогноз\n",
    "predictions = model.predict(X_test)\n",
    "\n",
    "# выведите все изученные метрики для полученного прогноза\n",
    "print('Метрики при автоматическом прогнозе с помощью predict')\n",
    "print('Accuracy: {:.2f}'.format(accuracy_score(y_test, predictions)))\n",
    "print('Precision: {:.2f}'.format(precision_score(y_test, predictions)))\n",
    "print('Recall: {:.2f}'.format(recall_score(y_test, predictions)))\n",
    "print('F1: {:.2f}\\n'.format(f1_score(y_test, predictions)))\n",
    "\n",
    "# задайте порог\n",
    "threshold = 0.4\n",
    "\n",
    "# на основании вероятностей и соотношения классов рассчитайте predict\n",
    "custom_predictions = [0 if i < threshold else 1 for i in probabilities]\n",
    "\n",
    "# выведите все изученные метрики для прогноза по новому порогу\n",
    "print('Метрики для прогноза с кастомным порогом')\n",
    "print(\n",
    "    'Accuracy for custom: {:.2f}'.format(\n",
    "        accuracy_score(y_true=y_test, y_pred=custom_predictions)\n",
    "    )\n",
    ")\n",
    "print(\n",
    "    'Precision for custom: {:.2f}'.format(\n",
    "        precision_score(y_true=y_test, y_pred=custom_predictions)\n",
    "    )\n",
    ")\n",
    "print(\n",
    "    'Recall for custom: {:.2f}'.format(\n",
    "        recall_score(y_true=y_test, y_pred=custom_predictions)\n",
    "    )\n",
    ")\n",
    "print('F1 for custom: {:.2f}'.format(f1_score(y_true=y_test, y_pred=custom_predictions)))"
   ],
   "metadata": {
    "collapsed": false,
    "pycharm": {
     "name": "#%%\n"
    }
   }
  }
 ],
 "metadata": {
  "kernelspec": {
   "display_name": "Python 3",
   "language": "python",
   "name": "python3"
  },
  "language_info": {
   "codemirror_mode": {
    "name": "ipython",
    "version": 2
   },
   "file_extension": ".py",
   "mimetype": "text/x-python",
   "name": "python",
   "nbconvert_exporter": "python",
   "pygments_lexer": "ipython2",
   "version": "2.7.6"
  }
 },
 "nbformat": 4,
 "nbformat_minor": 0
}