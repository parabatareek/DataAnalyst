{
 "cells": [
  {
   "cell_type": "markdown",
   "metadata": {
    "collapsed": true,
    "pycharm": {
     "name": "#%% md\n"
    }
   },
   "source": [
    "# 1.\n",
    "Напоследок посмотрите, как продолжительность заездов распределяется по девяти сетям («Большая восьмёрка» и «Другие»). Загвоздка может быть вот в чём: если продолжительность сильно различается, то сравнивать показатели разных сетей будет неправильно. Например, если в сети больше заправок продолжительностью по 60–70 секунд, чем в других, это может понижать медианное значение. Чтобы проверить, не происходит ли такое, сгруппируйте данные из good_data по group_name и постройте гистограммы. Первым делом создайте столбец для группировки.\n",
    "Выполните следующие шаги:\n",
    "Создайте столбец group_name в таблице good_data так же, как делали раньше в station_stat_full.\n",
    "Выведите на экран первые 5 строк good_data, чтобы проверить работу нового столбца.\n",
    "\n",
    "Подсказка\n",
    "Скопируйте метод where(), который вы применяли к station_stat_full, и просто замените station_stat_full на good_data."
   ]
  },
  {
   "cell_type": "code",
   "execution_count": 3,
   "outputs": [
    {
     "name": "stdout",
     "output_type": "stream",
     "text": [
      "         date_time        id  time_spent     name  too_fast  too_slow  \\\n",
      "0  20180406T165358  76144fb2        98.0  Василёк     False     False   \n",
      "2  20180403T172824  76144fb2       220.0  Василёк     False     False   \n",
      "6  20180402T082321  76144fb2       555.0  Василёк     False     False   \n",
      "7  20180407T003408  76144fb2       286.0  Василёк     False     False   \n",
      "9  20180405T131939  76144fb2       248.0  Василёк     False     False   \n",
      "\n",
      "  group_name  \n",
      "0    Василёк  \n",
      "2    Василёк  \n",
      "6    Василёк  \n",
      "7    Василёк  \n",
      "9    Василёк  \n"
     ]
    }
   ],
   "source": [
    "import pandas as pd\n",
    "\n",
    "data = pd.read_csv('../datasets/visits.csv', sep='\\t')\n",
    "\n",
    "# фильтруем слишком быстрые и медленные заезды и АЗС\n",
    "data['too_fast'] = data['time_spent'] < 60\n",
    "data['too_slow'] = data['time_spent'] > 1000\n",
    "too_fast_stat = data.pivot_table(index='id', values='too_fast')\n",
    "good_ids = too_fast_stat.query('too_fast < 0.5')\n",
    "good_data = data.query('id in @good_ids.index')\n",
    "good_data = good_data.query('60 <= time_spent <= 1000')\n",
    "\n",
    "# считаем данные по отдельным АЗС и по сетям\n",
    "station_stat = data.pivot_table(index='id', values='time_spent', aggfunc='median')\n",
    "good_stations_stat = good_data.pivot_table(index='id', values='time_spent', aggfunc='median')\n",
    "stat = data.pivot_table(index='name', values='time_spent')\n",
    "good_stat = good_data.pivot_table(index='name', values='time_spent', aggfunc='median')\n",
    "stat['good_time_spent'] = good_stat['time_spent']\n",
    "\n",
    "id_name = good_data.pivot_table(index='id', values='name', aggfunc=['first', 'count'])\n",
    "id_name.columns = ['name', 'count']\n",
    "station_stat_full = id_name.join(good_stations_stat)\n",
    "\n",
    "# считаем показатели сетей из показателей АЗС,\n",
    "# а не усреднённые заезды на все АЗС сети\n",
    "good_stat2 = (\n",
    "    station_stat_full\n",
    "    .query('count > 30')\n",
    "    .pivot_table(index='name', values='time_spent', aggfunc=['median', 'count'])\n",
    ")\n",
    "good_stat2.columns = ['median_time', 'stations']\n",
    "final_stat = stat.join(good_stat2)\n",
    "\n",
    "big_nets_stat = final_stat.query('stations > 10')\n",
    "station_stat_full['group_name'] = (\n",
    "    station_stat_full['name']\n",
    "    .where(station_stat_full['name'].isin(big_nets_stat.index), 'Другие')\n",
    ")\n",
    "\n",
    "stat_grouped = (\n",
    "    station_stat_full\n",
    "    .query('count > 30')\n",
    "    .pivot_table(index='group_name', values='time_spent', aggfunc=['median', 'count'])\n",
    ")\n",
    "stat_grouped.columns = ['time_spent', 'count']\n",
    "\n",
    "good_data['group_name'] = good_data['name'].where(good_data['name'].isin(big_nets_stat.index), 'Другие')\n",
    "print(good_data.head())"
   ],
   "metadata": {
    "collapsed": false,
    "pycharm": {
     "name": "#%%\n"
    }
   }
  },
  {
   "cell_type": "markdown",
   "source": [
    "# 2.\n",
    "Теперь, когда есть столбец group_name, сгруппируйте good_data и постройте гистограмму, чтобы увидеть, как распределяется продолжительность заездов в каждой сети.\n",
    "Выполните следующие шаги:\n",
    "Сгруппируйте good_data по group_name, используя цикл for. Используйте в цикле переменные name и group_data.\n",
    "В каждой итерации group_data вызывайте метод hist(), чтобы построить гистограмму по значениям time_spent на 50 корзин.\n",
    "\n",
    "Подсказка\n",
    "Начните цикл с for name, group_data. Методом groupby() сделайте срез из good_data по group_name. Примените hist() к group_data. Первым укажите столбец time_spent вторым — параметр bins=."
   ],
   "metadata": {
    "collapsed": false,
    "pycharm": {
     "name": "#%% md\n"
    }
   }
  },
  {
   "cell_type": "code",
   "execution_count": null,
   "outputs": [],
   "source": [
    "for name, group_data in good_data.groupby('group_name'):\n",
    "    group_data.plot(kind='hist',\n",
    "                    y='time_spent',\n",
    "                    title=name,\n",
    "                    bins=50)"
   ],
   "metadata": {
    "collapsed": false,
    "pycharm": {
     "name": "#%%\n"
    }
   }
  }
 ],
 "metadata": {
  "kernelspec": {
   "display_name": "Python 3",
   "language": "python",
   "name": "python3"
  },
  "language_info": {
   "codemirror_mode": {
    "name": "ipython",
    "version": 2
   },
   "file_extension": ".py",
   "mimetype": "text/x-python",
   "name": "python",
   "nbconvert_exporter": "python",
   "pygments_lexer": "ipython2",
   "version": "2.7.6"
  }
 },
 "nbformat": 4,
 "nbformat_minor": 0
}