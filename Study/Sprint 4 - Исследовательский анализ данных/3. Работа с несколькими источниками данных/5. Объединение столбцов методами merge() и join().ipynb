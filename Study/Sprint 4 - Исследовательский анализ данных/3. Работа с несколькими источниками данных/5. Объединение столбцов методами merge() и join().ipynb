{
 "cells": [
  {
   "cell_type": "markdown",
   "metadata": {
    "collapsed": true,
    "pycharm": {
     "name": "#%% md\n"
    }
   },
   "source": [
    "# 1.\n",
    "Предупреждаем, сейчас будет запутанно. В предыдущих уроках вы рассчитывали медианы по АЗС. Теперь нужно рассчитать медиану этих медиан по каждой сети. Это даст ещё один показатель «типичной» медианной длительности заездов в каждой сети: медиану распределения медианной длительности заездов на АЗС.\n",
    "Из этого распределения медиан нужно будет исключить медианные значения, рассчитанные для АЗС с совсем небольшим числом заездов. Создайте таблицу со статистикой по АЗС, с помощью которой выявите и отфильтруйте эти лишние станции.\n",
    "Выполните следующие шаги:\n",
    "Создайте переменную station_stat_full, которая для каждой АЗС хранит название сети, число заездов и лучший показатель медианной длительности заправки. Подсказка: название сети и число заездов есть в id_name, а лучший показатель медианной длительности заправки — в good_stations_stat. Объедините эти две таблицы.\n",
    "Выведите на экран первые 5 строк, чтобы посмотреть новую таблицу.\n",
    "\n",
    "Подсказка\n",
    "Так как у таблиц id_name и good_stations_stat одинаковые индексы id , метод join() подойдёт идеально. Примените join() к таблице id_name, передав ей good_stations_stat."
   ]
  },
  {
   "cell_type": "code",
   "execution_count": null,
   "outputs": [],
   "source": [
    "import pandas as pd\n",
    "\n",
    "data = pd.read_csv('/datasets/visits.csv', sep='\\t')\n",
    "\n",
    "# фильтруем слишком быстрые и медленные заезды и АЗС\n",
    "data['too_fast'] = data['time_spent'] < 60\n",
    "data['too_slow'] = data['time_spent'] > 1000\n",
    "too_fast_stat = data.pivot_table(index='id', values='too_fast')\n",
    "good_ids = too_fast_stat.query('too_fast < 0.5')\n",
    "good_data = data.query('id in @good_ids.index')\n",
    "good_data = good_data.query('60 <= time_spent <= 1000')\n",
    "\n",
    "# считаем данные по отдельным АЗС и по сетям\n",
    "station_stat = data.pivot_table(index='id', values='time_spent', aggfunc='median')\n",
    "good_stations_stat = good_data.pivot_table(index='id', values='time_spent', aggfunc='median')\n",
    "\n",
    "stat = data.pivot_table(index='name', values='time_spent')\n",
    "good_stat = good_data.pivot_table(index='name', values='time_spent', aggfunc='median')\n",
    "stat['good_time_spent'] = good_stat['time_spent']\n",
    "\n",
    "id_name = good_data.pivot_table(index='id', values='name', aggfunc=['first', 'count'])\n",
    "id_name.columns = ['name', 'count']"
   ],
   "metadata": {
    "collapsed": false,
    "pycharm": {
     "name": "#%%\n"
    }
   }
  }
 ],
 "metadata": {
  "kernelspec": {
   "display_name": "Python 3",
   "language": "python",
   "name": "python3"
  },
  "language_info": {
   "codemirror_mode": {
    "name": "ipython",
    "version": 2
   },
   "file_extension": ".py",
   "mimetype": "text/x-python",
   "name": "python",
   "nbconvert_exporter": "python",
   "pygments_lexer": "ipython2",
   "version": "2.7.6"
  }
 },
 "nbformat": 4,
 "nbformat_minor": 0
}