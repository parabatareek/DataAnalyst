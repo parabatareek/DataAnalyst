{
 "cells": [
  {
   "cell_type": "markdown",
   "metadata": {
    "collapsed": true,
    "pycharm": {
     "name": "#%% md\n"
    }
   },
   "source": [
    "# 1.\n",
    "Предупреждаем, сейчас будет запутанно. В предыдущих уроках вы рассчитывали медианы по АЗС. Теперь нужно рассчитать медиану этих медиан по каждой сети. Это даст ещё один показатель «типичной» медианной длительности заездов в каждой сети: медиану распределения медианной длительности заездов на АЗС.\n",
    "Из этого распределения медиан нужно будет исключить медианные значения, рассчитанные для АЗС с совсем небольшим числом заездов. Создайте таблицу со статистикой по АЗС, с помощью которой выявите и отфильтруйте эти лишние станции.\n",
    "Выполните следующие шаги:\n",
    "Создайте переменную station_stat_full, которая для каждой АЗС хранит название сети, число заездов и лучший показатель медианной длительности заправки. Подсказка: название сети и число заездов есть в id_name, а лучший показатель медианной длительности заправки — в good_stations_stat. Объедините эти две таблицы.\n",
    "Выведите на экран первые 5 строк, чтобы посмотреть новую таблицу.\n",
    "\n",
    "Подсказка\n",
    "Так как у таблиц id_name и good_stations_stat одинаковые индексы id , метод join() подойдёт идеально. Примените join() к таблице id_name, передав ей good_stations_stat."
   ]
  },
  {
   "cell_type": "code",
   "execution_count": 3,
   "outputs": [
    {
     "name": "stdout",
     "output_type": "stream",
     "text": [
      "                 name  count  time_spent\n",
      "id                                      \n",
      "00ca1b70     Вероника    131       166.0\n",
      "0178ce70      Василёк    164       234.5\n",
      "01abf4e9      Гацания     30       181.5\n",
      "030a9067  Колокольчик    228       135.5\n",
      "03740f2d      Василёк    157       289.0\n"
     ]
    }
   ],
   "source": [
    "import matplotlib.pyplot as plt\n",
    "import pandas as pd\n",
    "\n",
    "data = pd.read_csv('../datasets/visits.csv', sep='\\t')\n",
    "\n",
    "# фильтруем слишком быстрые и медленные заезды и АЗС\n",
    "data['too_fast'] = data['time_spent'] < 60\n",
    "data['too_slow'] = data['time_spent'] > 1000\n",
    "too_fast_stat = data.pivot_table(index='id', values='too_fast')\n",
    "good_ids = too_fast_stat.query('too_fast < 0.5')\n",
    "good_data = data.query('id in @good_ids.index')\n",
    "good_data = good_data.query('60 <= time_spent <= 1000')\n",
    "\n",
    "# считаем данные по отдельным АЗС и по сетям\n",
    "station_stat = data.pivot_table(index='id', values='time_spent', aggfunc='median')\n",
    "good_stations_stat = good_data.pivot_table(index='id', values='time_spent', aggfunc='median')\n",
    "\n",
    "stat = data.pivot_table(index='name', values='time_spent')\n",
    "good_stat = good_data.pivot_table(index='name', values='time_spent', aggfunc='median')\n",
    "stat['good_time_spent'] = good_stat['time_spent']\n",
    "\n",
    "id_name = good_data.pivot_table(index='id', values='name', aggfunc=['first', 'count'])\n",
    "id_name.columns = ['name', 'count']\n",
    "\n",
    "station_stat_full = id_name.join(good_stations_stat)\n",
    "print(station_stat_full.head())"
   ],
   "metadata": {
    "collapsed": false,
    "pycharm": {
     "name": "#%%\n"
    }
   }
  },
  {
   "cell_type": "markdown",
   "source": [
    "# 2.\n",
    "В статистике такое часто бывает: суммарные значения, полученные из малого количества данных, оказываются ненадёжными. Представьте, что вы вернулись к сырым данным и рассчитали медианное значение длительности для десяти случайно выбранных заездов. А потом повторили эту процедуру двадцать раз. Разброс этих двадцати медианных значений практически гарантированно будет гораздо больше, чем в том случае, если бы вы каждый раз случайным образом выбирали по сто заездов.\n",
    "Медианные значения, относящиеся к небольшому числу заездов, тоже могут быть ненадёжными — их лучше удалить. Но для начала посмотрите, как число заездов распределяется по АЗС.\n",
    "Выполните следующие шаги:\n",
    "Используя данные из station_stat_full, постройте гистограмму числа заездов на 30 корзин.\n",
    "Постройте вторую гистограмму по тем же данным, но теперь задайте диапазон от 0 до 300 заездов.\n",
    "Сравните полученные гистограммы.\n",
    "Подсказка:\n",
    "Примените метод hist() к таблице station_stat_full. Первым аргументом передайте правильное название столбца. Первый вызов hist() должен содержать параметр bins=. Второй вызов hist() должен содержать параметры bins= и range=."
   ],
   "metadata": {
    "collapsed": false,
    "pycharm": {
     "name": "#%% md\n"
    }
   }
  },
  {
   "cell_type": "code",
   "execution_count": 4,
   "outputs": [
    {
     "name": "stdout",
     "output_type": "stream",
     "text": [
      "<class 'pandas.core.frame.DataFrame'>\n",
      "Index: 386 entries, 00ca1b70 to ff0f01d2\n",
      "Data columns (total 3 columns):\n",
      " #   Column      Non-Null Count  Dtype  \n",
      "---  ------      --------------  -----  \n",
      " 0   name        386 non-null    object \n",
      " 1   count       386 non-null    int64  \n",
      " 2   time_spent  386 non-null    float64\n",
      "dtypes: float64(1), int64(1), object(1)\n",
      "memory usage: 20.2+ KB\n"
     ]
    }
   ],
   "source": [
    "station_stat_full.info()"
   ],
   "metadata": {
    "collapsed": false,
    "pycharm": {
     "name": "#%%\n"
    }
   }
  },
  {
   "cell_type": "code",
   "execution_count": 5,
   "outputs": [
    {
     "data": {
      "text/plain": "<AxesSubplot:ylabel='Frequency'>"
     },
     "execution_count": 5,
     "metadata": {},
     "output_type": "execute_result"
    },
    {
     "data": {
      "text/plain": "<Figure size 432x288 with 1 Axes>",
      "image/png": "[encoded data removed]"
     },
     "metadata": {
      "needs_background": "light"
     },
     "output_type": "display_data"
    }
   ],
   "source": [
    "ax = station_stat_full.plot(kind='hist',\n",
    "                            y='count',\n",
    "                            histtype='step',\n",
    "                            bins=30,\n",
    "                            linewidth=5,\n",
    "                            alpha=0.7,\n",
    "                            label='station_stat_full')\n",
    "station_stat_full.plot(kind='hist',\n",
    "                       y='count',\n",
    "                       histtype='step',\n",
    "                       range=(0,300),\n",
    "                       bins=30,\n",
    "                       linewidth=5,\n",
    "                       alpha=0.7,\n",
    "                       label='station_stat_full_2',\n",
    "                       ax=ax,\n",
    "                       grid=True,\n",
    "                       legend=True)"
   ],
   "metadata": {
    "collapsed": false,
    "pycharm": {
     "name": "#%%\n"
    }
   }
  },
  {
   "cell_type": "code",
   "execution_count": 9,
   "outputs": [
    {
     "data": {
      "text/plain": "<AxesSubplot:>"
     },
     "execution_count": 9,
     "metadata": {},
     "output_type": "execute_result"
    },
    {
     "data": {
      "text/plain": "<Figure size 432x288 with 1 Axes>",
      "image/png": "[encoded data removed]"
     },
     "metadata": {
      "needs_background": "light"
     },
     "output_type": "display_data"
    }
   ],
   "source": [
    "station_stat_full['count'].hist(bins=30)\n",
    "station_stat_full['count'].hist(bins=30, range=(0,300))"
   ],
   "metadata": {
    "collapsed": false,
    "pycharm": {
     "name": "#%%\n"
    }
   }
  },
  {
   "cell_type": "markdown",
   "source": [
    "# 3.\n",
    "Изучив построенные гистограммы, вы решили исключить те АЗС, на которые в течение семи дней заезжали 30 или менее раз. Для этого нужно найти в таблице station_stat_full АЗС с числом заездов больше 30, сгруппировать их по названию сети и рассчитать медиану медианных значений. Как вы помните, медианные значения в таблице station_stat_full — это медианная длительность заправок по АЗС. Чтобы получить значение по каждой сети, возьмите медиану этих медиан.\n",
    "Выполните следующие шаги:\n",
    "Не прибегая к вспомогательной переменной, сделайте срез данных из таблицы station_stat_full — так вы найдёте все строки, где число заездов больше 30. Для каждой сети рассчитайте медиану медианного времени заезда на АЗС, а также число АЗС, из которых складывается эта новая медиана. Сохраните результат в переменной good_stat2.\n",
    "Измените названия столбцов в таблице good_stat2 на median_time и stations.\n",
    "Выведите на экран первые пять строк good_stat2.\n",
    "\n",
    "Подсказка\n",
    "Методом station_stat_full.query().pivot_table() сделайте срез данных и рассчитайте статистику. Укажите count > 30. Передайте параметру aggfunc= в методе pivot_table() список ['median', 'count']. Сохраните результат в переменной good_stat2.\n",
    "Примените атрибут columns к good_stat2, чтобы переименовать столбцы в median_time и stations."
   ],
   "metadata": {
    "collapsed": false,
    "pycharm": {
     "name": "#%% md\n"
    }
   }
  },
  {
   "cell_type": "code",
   "execution_count": 11,
   "outputs": [
    {
     "name": "stdout",
     "output_type": "stream",
     "text": [
      "          median_time  stations\n",
      "name                           \n",
      "Агератум       308.50         3\n",
      "Амарант        169.00         5\n",
      "Аммобиум       178.75         4\n",
      "Арктотис       190.50         3\n",
      "Астильба       435.50         4\n"
     ]
    }
   ],
   "source": [
    "good_stat2 = station_stat_full.query('count > 30').pivot_table(index='name', values='time_spent', aggfunc=['median', 'count'])\n",
    "good_stat2.columns = ['median_time', 'stations']\n",
    "print(good_stat2.head())"
   ],
   "metadata": {
    "collapsed": false,
    "pycharm": {
     "name": "#%%\n"
    }
   }
  },
  {
   "cell_type": "markdown",
   "source": [
    "# 4.\n",
    "Снова вызовите таблицу stat, которую вы создали несколько уроков назад. Вы использовали её, чтобы посмотреть, насколько различаются два показателя «типичной» длительности заправки: среднее время заправки, полученное из сырых данных, и медианное время заправки, полученное из отфильтрованных данных. Теперь у вас есть третий показатель. Внесите его в эту таблицу и посмотрите на результаты.\n",
    "Выполните следующие шаги:\n",
    "Добавьте good_stat2 в stat и сохраните получившуюся таблицу под именем final_stat.\n",
    "Выведите на экран final_stat полностью и сравните показатели.\n",
    "\n",
    "Подсказка\n",
    "Соедините две таблицы методом join(). Без каких-либо дополнительных параметров."
   ],
   "metadata": {
    "collapsed": false,
    "pycharm": {
     "name": "#%% md\n"
    }
   }
  },
  {
   "cell_type": "code",
   "execution_count": 12,
   "outputs": [
    {
     "name": "stdout",
     "output_type": "stream",
     "text": [
      "          time_spent  good_time_spent  median_time  stations\n",
      "name                                                        \n",
      "Агератум  337.802721            309.0       308.50       3.0\n",
      "Амарант   132.760012            187.5       169.00       5.0\n",
      "Аммобиум  256.708042            180.5       178.75       4.0\n",
      "Арктотис   73.879984            185.0       190.50       3.0\n",
      "Астильба  376.143149            423.0       435.50       4.0\n"
     ]
    }
   ],
   "source": [
    "final_stat = stat.join(good_stat2)\n",
    "print(final_stat.head())"
   ],
   "metadata": {
    "collapsed": false,
    "pycharm": {
     "name": "#%%\n"
    }
   }
  }
 ],
 "metadata": {
  "kernelspec": {
   "display_name": "Python 3",
   "language": "python",
   "name": "python3"
  },
  "language_info": {
   "codemirror_mode": {
    "name": "ipython",
    "version": 2
   },
   "file_extension": ".py",
   "mimetype": "text/x-python",
   "name": "python",
   "nbconvert_exporter": "python",
   "pygments_lexer": "ipython2",
   "version": "2.7.6"
  }
 },
 "nbformat": 4,
 "nbformat_minor": 0
}