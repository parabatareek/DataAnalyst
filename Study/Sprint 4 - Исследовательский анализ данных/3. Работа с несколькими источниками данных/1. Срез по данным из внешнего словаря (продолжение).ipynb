{
 "cells": [
  {
   "cell_type": "markdown",
   "metadata": {
    "collapsed": true,
    "pycharm": {
     "name": "#%% md\n"
    }
   },
   "source": [
    "# 1.\n",
    "Проблема: в выборке есть АЗС, на которых длительность большинства заездов короче 60 секунд.\n",
    "Что нужно сделать: исключить эти АЗС из анализа. Так будет меньше шансов получить необъективные результаты, поскольку коротких заездов в целом больше всего.\n",
    "Правило: исключаются из анализа те АЗС, на которых длительность половины или более заездов короче 60 секунд. Если бы вы писали отчёт, это предложение непременно вошло бы в него.\n",
    "Примените правило на практике. Сначала из таблицы too_fast_stat получите id станций, которые не нарушают правило. Затем используйте эти id, чтобы отфильтровать таблицу data.\n",
    "Выполните следующие шаги:\n",
    "Создайте переменную good_ids и поместите в неё те строки из too_fast_stat, где too_fast меньше 50%. Не забывайте, что в таблице data too_fast является булевым значением и атрибутом заезда, но в таблице too_fast_stat too_fast — это процент заездов, длительность которых короче 60 секунд, и атрибут заправочной станции.\n",
    "Создайте переменную good_data и поместите в неё те строки из data, где в good_ids.index находится id. Другими словами, соберите все заезды, не нарушающие правило.\n",
    "Распечатайте число строк в data, а затем и число строк в good_data.\n",
    "\n",
    "Подсказка\n",
    "Примените query() к too_fast_stat с условием 'too_fast < 0.5'.\n",
    "Примените query() к data, используйте оператор in. Обращайтесь к значениям индексов с помощью @.\n",
    "Найдите число строк в таблицах data и good_data функцией len()."
   ]
  },
  {
   "cell_type": "code",
   "execution_count": 4,
   "outputs": [
    {
     "name": "stdout",
     "output_type": "stream",
     "text": [
      "317104\n",
      "229095\n"
     ]
    }
   ],
   "source": [
    "import pandas as pd\n",
    "\n",
    "data = pd.read_csv('../datasets/visits.csv', sep='\\t')\n",
    "\n",
    "# фильтруем слишком быстрые и медленные заезды и АЗС\n",
    "data['too_fast'] = data['time_spent'] < 60\n",
    "data['too_slow'] = data['time_spent'] > 1000\n",
    "too_fast_stat = data.pivot_table(index='id', values='too_fast')\n",
    "\n",
    "good_ids = too_fast_stat.query('too_fast < 0.5')\n",
    "good_data = data.query('id in @good_ids.index')\n",
    "print(len(data))\n",
    "print(len(good_data))"
   ],
   "metadata": {
    "collapsed": false,
    "pycharm": {
     "name": "#%%\n"
    }
   }
  },
  {
   "cell_type": "markdown",
   "source": [
    "# 2.\n",
    "Проблема: в выборке есть аномально быстрые и аномально медленные заезды. Скорее всего, их совершали не те, кто приезжал просто заправиться.\n",
    "Что нужно сделать: исключить эти заезды из анализа, чтобы получить более точные показатели. Аномальные значения могут влиять на средние значения и медианы.\n",
    "Правило: заезды, длительность которых короче 60 секунд и длиннее 1000 секунд, исключаются из анализа — это предложение тоже вошло бы в отчёт.\n",
    "Примените новое правило и получите выборку без аномальных заездов.\n",
    "Выполните следующие шаги:\n",
    "С помощью функции query() обновите таблицу good_data, выбрав строки, где time_spent в диапазоне между 60 и 1000 секунд. Убедитесь, что заезды длительностью по 60 и 1000 секунд тоже включены.\n",
    "Выведите на экран число строк в обновлённой good_data.\n",
    "\n",
    "Подсказка\n",
    "Пропишите в условии, что значение столбца time_spent в таблице good_data одновременно больше либо равно 60 и меньше либо равно 1000. Передайте получившееся условие в query(). Результат присвойте good_data."
   ],
   "metadata": {
    "collapsed": false,
    "pycharm": {
     "name": "#%% md\n"
    }
   }
  },
  {
   "cell_type": "code",
   "source": [
    "good_data = good_data.query('time_spent >= 60 and time_spent <= 1000')\n",
    "print(len(good_data))"
   ],
   "metadata": {
    "collapsed": false,
    "pycharm": {
     "name": "#%%\n"
    }
   },
   "execution_count": 5,
   "outputs": []
  },
  {
   "cell_type": "markdown",
   "source": [
    "# 3.\n",
    "В предыдущих задачах вы выбросили из набора данных отдельные заезды и даже целые АЗС ради более реалистичной оценки. Проверьте, помогло ли это. Постройте гистограмму распределения медианной длительности заправки по всем АЗС.\n",
    "Выполните следующие шаги:\n",
    "Создайте переменную good_stations_stat и поместите в неё данные из таблицы с медианными значениями time_spent по каждой АЗС. Не забудьте рассчитать медианы по good_data.\n",
    "Постройте гистограмму на 50 корзин по этим медианным значениям.\n",
    "\n",
    "Подсказка\n",
    "Выведите на экран таблицу good_data, чтобы были указаны точные названия столбцов. Используйте сводную таблицу, чтобы создать переменную good_stations_stat. Постройте гистограмму методом hist() с параметром bins=50."
   ],
   "metadata": {
    "collapsed": false,
    "pycharm": {
     "name": "#%% md\n"
    }
   }
  },
  {
   "cell_type": "code",
   "execution_count": 8,
   "outputs": [
    {
     "data": {
      "text/plain": "array([[<AxesSubplot:title={'center':'time_spent'}>]], dtype=object)"
     },
     "execution_count": 8,
     "metadata": {},
     "output_type": "execute_result"
    },
    {
     "data": {
      "text/plain": "<Figure size 432x288 with 1 Axes>",
      "image/png": "[encoded data removed]"
     },
     "metadata": {
      "needs_background": "light"
     },
     "output_type": "display_data"
    }
   ],
   "source": [
    "good_stations_stat = good_data.pivot_table(index='id', values='time_spent', aggfunc='median')\n",
    "good_stations_stat.hist(bins=50)"
   ],
   "metadata": {
    "collapsed": false,
    "pycharm": {
     "name": "#%%\n"
    }
   }
  },
  {
   "cell_type": "markdown",
   "source": [
    "# 4.\n",
    "Как вы помните, цель вашего анализа — определить сети заправок, где водители задерживаются надолго. Рассчитайте медианную продолжительность заезда для каждой сети и выведите на экран список в порядке возрастания.\n",
    "Выполните следующие шаги:\n",
    "Создайте переменную good_stat и поместите в неё данные из таблицы с медианными значениями time_spent по каждой сети. Не забудьте рассчитать медианы по good_data.\n",
    "Выведите на экран таблицу good_stat, отсортировав её по возрастанию медианного времени.\n",
    "\n",
    "Подсказка\n",
    "С помощью сводной таблицы создайте переменную good_stat. Отсортируйте good_stat по возрастанию медианной длительности заезда, используя sort_values('time_spent')."
   ],
   "metadata": {
    "collapsed": false,
    "pycharm": {
     "name": "#%% md\n"
    }
   }
  },
  {
   "cell_type": "code",
   "execution_count": 9,
   "outputs": [
    {
     "name": "stdout",
     "output_type": "stream",
     "text": [
      "          time_spent\n",
      "id                  \n",
      "91d88d59       129.5\n",
      "030a9067       135.5\n",
      "0410bffa       136.0\n",
      "a8256186       137.0\n",
      "5ba7a32b       138.0\n",
      "...              ...\n",
      "f9218ed9       438.0\n",
      "fbbd8cc2       454.5\n",
      "e648b45e       465.5\n",
      "463247c8       468.5\n",
      "e6ee10ab       489.0\n",
      "\n",
      "[386 rows x 1 columns]\n"
     ]
    }
   ],
   "source": [
    "good_stat = good_data.pivot_table(index='name', values='time_spent', aggfunc='median').sort_values('time_spent', ascending=True)\n",
    "print(good_stat)"
   ],
   "metadata": {
    "collapsed": false,
    "pycharm": {
     "name": "#%%\n"
    }
   }
  }
 ],
 "metadata": {
  "kernelspec": {
   "display_name": "Python 3",
   "language": "python",
   "name": "python3"
  },
  "language_info": {
   "codemirror_mode": {
    "name": "ipython",
    "version": 2
   },
   "file_extension": ".py",
   "mimetype": "text/x-python",
   "name": "python",
   "nbconvert_exporter": "python",
   "pygments_lexer": "ipython2",
   "version": "2.7.6"
  }
 },
 "nbformat": 4,
 "nbformat_minor": 0
}