{
 "cells": [
  {
   "cell_type": "markdown",
   "metadata": {
    "collapsed": true,
    "pycharm": {
     "name": "#%% md\n"
    }
   },
   "source": [
    "# 1.\n",
    "Чтобы быть уверенными в данных, пришлось удалить почти 52% заездов на АЗС. Теперь посмотрите, как «типичные» средняя и медианная длительности заправки различаются в зависимости от данных: сырых или отфильтрованных. Для этого выведите на экран одну таблицу, в которой для каждой сети АЗС будут показаны средняя длительность заправки из сырых данных из таблицы stat и медианная длительность заправки из отфильтрованных данных из таблицы good_stat.\n",
    "Выполните следующие шаги:\n",
    "Создайте в таблице stat новый столбец good_time_spent с медианной длительностью заправки, рассчитанной по отфильтрованным данным из таблицы good_stat.\n",
    "Выведите на экран таблицу stat и сравните показатели.\n",
    "\n",
    "Подсказка\n",
    "Присвойте столбцу stat['good_time_spent'] значения столбца из good_stat.\n",
    "Выведите на экран good_stat, если нужно посмотреть название столбца."
   ]
  },
  {
   "cell_type": "code",
   "execution_count": 2,
   "outputs": [
    {
     "name": "stdout",
     "output_type": "stream",
     "text": [
      "             time_spent  good_time_spent\n",
      "name                                    \n",
      "Агератум     337.802721            309.0\n",
      "Амарант      132.760012            187.5\n",
      "Аммобиум     256.708042            180.5\n",
      "Арктотис      73.879984            185.0\n",
      "Астильба     376.143149            423.0\n",
      "Бальзамин    134.508411            158.0\n",
      "Бархатцы     145.300328            181.5\n",
      "Бегония      163.200647            195.0\n",
      "Белоцветник  100.818966            154.0\n",
      "Василёк      268.849897            264.0\n",
      "Вербена      190.016594            199.0\n",
      "Вероника     220.019402            212.0\n",
      "Гацания      160.685185            178.5\n",
      "Гвоздика     294.317308            229.0\n",
      "Гейхера      167.445947            204.0\n",
      "Гелихризум   290.138643            342.0\n",
      "Георгина     166.615555            279.0\n",
      "Годеция      113.958333              NaN\n",
      "Диморфотека  406.161017            224.0\n",
      "Доротеантус  263.568916            220.0\n",
      "Ирис         179.931159            185.0\n",
      "Календула    207.357323            254.0\n",
      "Колокольчик  119.131564            161.0\n",
      "Космос       164.867797            267.0\n",
      "Крокус       349.031746            257.5\n",
      "Лаватера     249.992844            282.0\n",
      "Левкой       187.465606            212.5\n",
      "Лобулярия     96.834350              NaN\n",
      "Люпин        235.440937            186.0\n",
      "Малопа        76.070543            229.0\n",
      "Мальва       136.562234            182.0\n",
      "Нарцисс       68.166758              NaN\n",
      "Настурция    154.859694              NaN\n",
      "Незабудка    120.362398            161.0\n",
      "Немезия      186.535207            226.0\n",
      "Обриета      141.777778            167.0\n",
      "Петуния      265.780822            319.5\n",
      "Пион         222.565523            180.5\n",
      "Подснежник   180.286207            218.5\n",
      "Роза         260.877217            315.0\n",
      "Ромашка      231.389365            191.0\n",
      "Тюльпан      187.832210            190.0\n",
      "Фасоль       133.631957              NaN\n",
      "Функия       302.494737            171.5\n",
      "Хризантема   195.738710            188.0\n"
     ]
    }
   ],
   "source": [
    "import pandas as pd\n",
    "\n",
    "data = pd.read_csv('../datasets/visits.csv', sep='\\t')\n",
    "\n",
    "# фильтруем слишком быстрые и медленные заезды и АЗС\n",
    "data['too_fast'] = data['time_spent'] < 60\n",
    "data['too_slow'] = data['time_spent'] > 1000\n",
    "too_fast_stat = data.pivot_table(index='id', values='too_fast')\n",
    "good_ids = too_fast_stat.query('too_fast < 0.5')\n",
    "good_data = data.query('id in @good_ids.index and 60 <= time_spent <= 1000')\n",
    "\n",
    "# считаем данные по отдельным АЗС и по сетям\n",
    "station_stat = data.pivot_table(index='id', values='time_spent', aggfunc='median')\n",
    "good_stations_stat = good_data.pivot_table(index='id', values='time_spent', aggfunc='median')\n",
    "\n",
    "stat = data.pivot_table(index='name', values='time_spent')\n",
    "good_stat = good_data.pivot_table(index='name', values='time_spent', aggfunc='median')\n",
    "stat['good_time_spent'] = good_stat['time_spent']\n",
    "print(stat)"
   ],
   "metadata": {
    "collapsed": false,
    "pycharm": {
     "name": "#%%\n"
    }
   }
  }
 ],
 "metadata": {
  "kernelspec": {
   "display_name": "Python 3",
   "language": "python",
   "name": "python3"
  },
  "language_info": {
   "codemirror_mode": {
    "name": "ipython",
    "version": 2
   },
   "file_extension": ".py",
   "mimetype": "text/x-python",
   "name": "python",
   "nbconvert_exporter": "python",
   "pygments_lexer": "ipython2",
   "version": "2.7.6"
  }
 },
 "nbformat": 4,
 "nbformat_minor": 0
}