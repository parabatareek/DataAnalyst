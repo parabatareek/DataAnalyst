{
 "cells": [
  {
   "cell_type": "markdown",
   "metadata": {
    "collapsed": true,
    "pycharm": {
     "name": "#%% md\n"
    }
   },
   "source": [
    "# 1.\n",
    "Облегчите себе анализ и жизнь, избавившись от двухэтажных названий столбцов. Сделайте их одноэтажными и переименуйте.\n",
    "Выполните следующие шаги:\n",
    "Измените названия столбцов в id_name на name и count.\n",
    "Выведите на экран первые пять строк датафрейма, чтобы проверить результат.\n",
    "\n",
    "Подсказка\n",
    "Используйте атрибут columns для переименования столбцов. Вам нужно переименовать первый столбец в name, а второй — в count. Поскольку переименовываются все столбцы, то в списке атрибута будут записаны только новые названия."
   ]
  },
  {
   "cell_type": "code",
   "execution_count": 4,
   "outputs": [
    {
     "name": "stdout",
     "output_type": "stream",
     "text": [
      "                 name  count\n",
      "id                          \n",
      "00ca1b70     Вероника    131\n",
      "0178ce70      Василёк    164\n",
      "01abf4e9      Гацания     30\n",
      "030a9067  Колокольчик    228\n",
      "03740f2d      Василёк    157\n",
      "...               ...    ...\n",
      "fb6610be  Колокольчик    426\n",
      "fbbd8cc2         Роза     82\n",
      "fc4b1b72      Василёк    543\n",
      "fea1d1b8      Ромашка    154\n",
      "ff0f01d2       Малопа     95\n",
      "\n",
      "[386 rows x 2 columns]\n"
     ]
    }
   ],
   "source": [
    "import pandas as pd\n",
    "\n",
    "data = pd.read_csv('../datasets/visits.csv', sep='\\t')\n",
    "\n",
    "# фильтруем слишком быстрые и медленные заезды и АЗС\n",
    "data['too_fast'] = data['time_spent'] < 60\n",
    "data['too_slow'] = data['time_spent'] > 1000\n",
    "too_fast_stat = data.pivot_table(index='id', values='too_fast')\n",
    "good_ids = too_fast_stat.query('too_fast < 0.5')\n",
    "good_data = data.query('id in @good_ids.index and 60 <= time_spent <= 1000')\n",
    "\n",
    "# считаем данные по отдельным АЗС и по сетям\n",
    "station_stat = data.pivot_table(index='id', values='time_spent', aggfunc='median')\n",
    "good_stations_stat = good_data.pivot_table(index='id', values='time_spent', aggfunc='median')\n",
    "\n",
    "stat = data.pivot_table(index='name', values='time_spent')\n",
    "good_stat = good_data.pivot_table(index='name', values='time_spent', aggfunc='median')\n",
    "stat['good_time_spent'] = good_stat['time_spent']\n",
    "\n",
    "id_name = good_data.pivot_table(index='id', values='name', aggfunc=['first', 'count'])\n",
    "id_name.columns=['name', 'count']\n",
    "print(id_name.head())"
   ],
   "metadata": {
    "collapsed": false,
    "pycharm": {
     "name": "#%%\n"
    }
   }
  }
 ],
 "metadata": {
  "kernelspec": {
   "display_name": "Python 3",
   "language": "python",
   "name": "python3"
  },
  "language_info": {
   "codemirror_mode": {
    "name": "ipython",
    "version": 2
   },
   "file_extension": ".py",
   "mimetype": "text/x-python",
   "name": "python",
   "nbconvert_exporter": "python",
   "pygments_lexer": "ipython2",
   "version": "2.7.6"
  }
 },
 "nbformat": 4,
 "nbformat_minor": 0
}