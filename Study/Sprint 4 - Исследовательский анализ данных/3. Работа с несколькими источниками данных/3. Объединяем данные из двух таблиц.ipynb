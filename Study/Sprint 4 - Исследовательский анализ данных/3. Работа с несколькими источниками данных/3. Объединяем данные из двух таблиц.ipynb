{
 "cells": [
  {
   "cell_type": "markdown",
   "metadata": {
    "collapsed": true,
    "pycharm": {
     "name": "#%% md\n"
    }
   },
   "source": [
    "# 1.\n",
    "Пора посмотреть, как заезды распределяются внутри сетей. Для этого про каждую АЗС нужно знать следующее: к какой сети она относится и сколько раз в общей сложности на неё заезжали. Для начала создайте таблицу с этой информацией.\n",
    "Выполните следующие шаги:\n",
    "Создайте переменную id_name, которая для каждой АЗС хранит информацию о названии сети и общем числе заездов. Используйте good_data , чтобы создать эту таблицу.\n",
    "Выведите на экран первые пять строк id_name.\n",
    "\n",
    "Подсказка\n",
    "Примените pivot_table к таблице good_data. В качестве индекса передайте идентификатор АЗС, как значения — названия сетей; aggfunc должен принять на вход список из двух функций: взять первое значение, посчитать число значений."
   ]
  },
  {
   "cell_type": "code",
   "execution_count": 2,
   "outputs": [
    {
     "name": "stdout",
     "output_type": "stream",
     "text": [
      "                first count\n",
      "                 name  name\n",
      "id                         \n",
      "00ca1b70     Вероника   131\n",
      "0178ce70      Василёк   164\n",
      "01abf4e9      Гацания    30\n",
      "030a9067  Колокольчик   228\n",
      "03740f2d      Василёк   157\n"
     ]
    }
   ],
   "source": [
    "import pandas as pd\n",
    "\n",
    "data = pd.read_csv('../datasets/visits.csv', sep='\\t')\n",
    "\n",
    "# фильтруем слишком быстрые и медленные заезды и АЗС\n",
    "data['too_fast'] = data['time_spent'] < 60\n",
    "data['too_slow'] = data['time_spent'] > 1000\n",
    "too_fast_stat = data.pivot_table(index='id', values='too_fast')\n",
    "good_ids = too_fast_stat.query('too_fast < 0.5')\n",
    "good_data = data.query('id in @good_ids.index and 60 <= time_spent <= 1000')\n",
    "\n",
    "# считаем данные по отдельным АЗС и по сетям\n",
    "station_stat = data.pivot_table(index='id', values='time_spent', aggfunc='median')\n",
    "good_stations_stat = good_data.pivot_table(index='id', values='time_spent', aggfunc='median')\n",
    "\n",
    "stat = data.pivot_table(index='name', values='time_spent')\n",
    "good_stat = good_data.pivot_table(index='name', values='time_spent', aggfunc='median')\n",
    "stat['good_time_spent'] = good_stat['time_spent']\n",
    "\n",
    "id_name = good_data.pivot_table(index='id', values='name', aggfunc=['first', 'count'])\n",
    "print(id_name.head())"
   ],
   "metadata": {
    "collapsed": false,
    "pycharm": {
     "name": "#%%\n"
    }
   }
  }
 ],
 "metadata": {
  "kernelspec": {
   "display_name": "Python 3",
   "language": "python",
   "name": "python3"
  },
  "language_info": {
   "codemirror_mode": {
    "name": "ipython",
    "version": 2
   },
   "file_extension": ".py",
   "mimetype": "text/x-python",
   "name": "python",
   "nbconvert_exporter": "python",
   "pygments_lexer": "ipython2",
   "version": "2.7.6"
  }
 },
 "nbformat": 4,
 "nbformat_minor": 0
}