{
 "cells": [
  {
   "cell_type": "markdown",
   "metadata": {
    "collapsed": true,
    "pycharm": {
     "name": "#%% md\n"
    }
   },
   "source": [
    "# 1.\n",
    "Будем бросать на стол 10 монет и считать количество выпавших орлов. Функции для имитации одного броска и подсчёта числа орлов в нескольких бросках уже в прекоде. Мы повторили эксперимент 1000 раз и сохранили результат в переменной df_experiments.\n",
    "Постройте гистограмму полученных значений с диапазоном значений от 0 до 10 и количеством корзин 11.\n",
    "\n",
    "Подсказка\n",
    "Примените метод hist() к датафрейму df_experiments. Параметру bins передайте 11, параметру range — (0, 10)."
   ]
  },
  {
   "cell_type": "code",
   "execution_count": 1,
   "outputs": [
    {
     "data": {
      "text/plain": "array([[<AxesSubplot:title={'center':'0'}>]], dtype=object)"
     },
     "execution_count": 1,
     "metadata": {},
     "output_type": "execute_result"
    },
    {
     "data": {
      "text/plain": "<Figure size 432x288 with 1 Axes>",
      "image/png": "[encoded data removed]"
     },
     "metadata": {
      "needs_background": "light"
     },
     "output_type": "display_data"
    }
   ],
   "source": [
    "import random\n",
    "import pandas as pd\n",
    "\n",
    "# Функция, имитирующая один бросок монеты.\n",
    "# От англ. coin - монета, flip - бросок монеты.\n",
    "def coin_flip():\n",
    "    # возможны два варианта:\n",
    "    # - выпала решка, это +0 орлов\n",
    "    # - выпал орёл, это +1 орёл\n",
    "    score = random.randint(0, 1)\n",
    "    return score\n",
    "\n",
    "\n",
    "# Функция для суммирования числа орлов в нескольких бросках.\n",
    "# Орёл и решка переводятся на английский как heads и tails.\n",
    "# Аргумент repeat говорит, сколько раз бросать монету\n",
    "# (от англ. repeat - повторение).\n",
    "def flips_heads(repeat):\n",
    "    total = 0\n",
    "    for i in range(repeat):\n",
    "        flip = coin_flip()\n",
    "        total += flip\n",
    "    return total\n",
    "\n",
    "\n",
    "# Cоздаём пустой список. В него мы\n",
    "# будем складывать результаты экспериментов.\n",
    "experiments = []\n",
    "\n",
    "for i in range(1000):\n",
    "    score = flips_heads(10)\n",
    "\n",
    "    # Напомним: функция append() добавляет новый\n",
    "    # элемент score в конец списка experiments.\n",
    "    experiments.append(score)\n",
    "\n",
    "# превращаем список в DataFrame\n",
    "df_experiments = pd.DataFrame(experiments)\n",
    "\n",
    "\n",
    "# постройте гистограмму для df_experiments\n",
    "df_experiments.hist(range=(0,10), bins=11)"
   ],
   "metadata": {
    "collapsed": false,
    "pycharm": {
     "name": "#%%\n"
    }
   }
  },
  {
   "cell_type": "markdown",
   "source": [
    "# 2.\n",
    "Валерик каждый день едет на работу с тремя пересадками: сперва на автобусе до метро; затем по одной ветке, а потом по другой; и от метро добирается до работы на автобусе. Валерик знает, сколько продолжается поездка на каждом виде транспорта и пересадки, но вечно забывает учесть ожидание автобусов и поездов. Постройте гистограмму опозданий Валерика за 5 лет c параметром bins=10.\n",
    "Будем считать, что автобус прибывает за время от 0 до 10 минут, а поезд — за время от 0 до 5 минут. В прекоде мы уже написали функции, которые это имитируют.\n",
    "\n",
    "Подсказка\n",
    "Такой код создаст список опозданий:\n",
    "days = []\n",
    "for i in range(365 * 5):\n",
    "    delay = total_delay()\n",
    "    days.append(delay)\n",
    "Потом постройте гистограмму методом hist() с аргументом bins=10."
   ],
   "metadata": {
    "collapsed": false,
    "pycharm": {
     "name": "#%% md\n"
    }
   }
  },
  {
   "cell_type": "code",
   "execution_count": 2,
   "outputs": [
    {
     "data": {
      "text/plain": "array([[<AxesSubplot:title={'center':'0'}>]], dtype=object)"
     },
     "execution_count": 2,
     "metadata": {},
     "output_type": "execute_result"
    },
    {
     "data": {
      "text/plain": "<Figure size 432x288 with 1 Axes>",
      "image/png": "[encoded data removed]"
     },
     "metadata": {
      "needs_background": "light"
     },
     "output_type": "display_data"
    }
   ],
   "source": [
    "import random\n",
    "import pandas as pd\n",
    "\n",
    "# Функция, имитирующая время ожидания автобуса.\n",
    "# (от англ. bus - автобус, wait - ждать, time - время)\n",
    "def bus_wait_time():\n",
    "    return random.randint(0, 10)\n",
    "\n",
    "\n",
    "# Функция, имитирующая время ожидания поезда в метро.\n",
    "# (от англ. train - поезд, wait - ждать, time - время)\n",
    "def train_wait_time():\n",
    "    return random.randint(0, 5)\n",
    "\n",
    "\n",
    "# Функция подсчёта полного опоздания за день.\n",
    "# от англ. total - полный, итоговый, delay - задержка, опоздание\n",
    "def total_delay():\n",
    "    # обратите внимание, как в Python переносят длинные строки\n",
    "    return (\n",
    "        bus_wait_time()\n",
    "        + train_wait_time()\n",
    "        + train_wait_time()\n",
    "        + bus_wait_time()\n",
    "    )\n",
    "\n",
    "\n",
    "# создайте пустой список\n",
    "days = []\n",
    "\n",
    "for i in range(365 * 5):\n",
    "    delay = total_delay()\n",
    "    days.append(delay)\n",
    "    # добавьте опоздание в список days\n",
    "\n",
    "\n",
    "# превращаем список в DataFrame\n",
    "df_days = pd.DataFrame(days)\n",
    "\n",
    "# постройте гистограмму для df_days\n",
    "df_days.hist(bins=10)"
   ],
   "metadata": {
    "collapsed": false,
    "pycharm": {
     "name": "#%%\n"
    }
   }
  }
 ],
 "metadata": {
  "kernelspec": {
   "display_name": "Python 3",
   "language": "python",
   "name": "python3"
  },
  "language_info": {
   "codemirror_mode": {
    "name": "ipython",
    "version": 2
   },
   "file_extension": ".py",
   "mimetype": "text/x-python",
   "name": "python",
   "nbconvert_exporter": "python",
   "pygments_lexer": "ipython2",
   "version": "2.7.6"
  }
 },
 "nbformat": 4,
 "nbformat_minor": 0
}