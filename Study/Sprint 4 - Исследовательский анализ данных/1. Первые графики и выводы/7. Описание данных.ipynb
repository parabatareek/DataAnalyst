{
 "cells": [
  {
   "cell_type": "markdown",
   "metadata": {
    "collapsed": true,
    "pycharm": {
     "name": "#%% md\n"
    }
   },
   "source": [
    "# 1.\n",
    "Правильно истолковать значения на диаграмме размаха трудно, особенно когда границы оси Y — это 0 и 1000. Можно сравнить числовое описание, которое выдаёт метод describe(), с диаграммой размаха. Так вы графически отобразите распределение данных и зафиксируете важные значения в числах. Обратите внимание, что значения 25% и 75% в выдаче метода describe() — это Q1 и Q3 соответственно.\n",
    "Примените к таблице data метод describe() и выведите на экран список характерных значений.\n",
    "\n",
    "Подсказка\n",
    "Примените метод describe() к таблице data."
   ]
  },
  {
   "cell_type": "code",
   "execution_count": 1,
   "outputs": [
    {
     "name": "stdout",
     "output_type": "stream",
     "text": [
      "          time_spent\n",
      "count  317104.000000\n",
      "mean      203.382294\n",
      "std       395.754791\n",
      "min         0.000000\n",
      "25%        19.000000\n",
      "50%       108.000000\n",
      "75%       274.000000\n",
      "max     28925.000000\n"
     ]
    }
   ],
   "source": [
    "import pandas as pd\n",
    "\n",
    "data = pd.read_csv ('../datasets/visits.csv', sep='\\t')\n",
    "print(data.describe())"
   ],
   "metadata": {
    "collapsed": false,
    "pycharm": {
     "name": "#%%\n"
    }
   }
  }
 ],
 "metadata": {
  "kernelspec": {
   "display_name": "Python 3",
   "language": "python",
   "name": "python3"
  },
  "language_info": {
   "codemirror_mode": {
    "name": "ipython",
    "version": 2
   },
   "file_extension": ".py",
   "mimetype": "text/x-python",
   "name": "python",
   "nbconvert_exporter": "python",
   "pygments_lexer": "ipython2",
   "version": "2.7.6"
  }
 },
 "nbformat": 4,
 "nbformat_minor": 0
}