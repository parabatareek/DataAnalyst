{
 "cells": [
  {
   "cell_type": "markdown",
   "metadata": {
    "collapsed": true,
    "pycharm": {
     "name": "#%% md\n"
    }
   },
   "source": [
    "# 1.\n",
    "Прочитайте файл visits.csv из папки /datasets/, указав в качестве разделителя знак табуляции \\t, и сохраните результат в датафрейме data. Выведите его первые пять строк.\n",
    "Путь к файлу: /datasets/visits.csv\n",
    "Подсказка:\n",
    "Добавьте функции read_csv() аргумент sep='\\t'. Первые пять строк выведите методом head()."
   ]
  },
  {
   "cell_type": "code",
   "execution_count": 2,
   "outputs": [
    {
     "name": "stdout",
     "output_type": "stream",
     "text": [
      "         date_time        id  time_spent     name\n",
      "0  20180406T165358  76144fb2        98.0  Василёк\n",
      "1  20180404T173913  76144fb2        15.0  Василёк\n",
      "2  20180403T172824  76144fb2       220.0  Василёк\n",
      "3  20180407T070441  76144fb2        19.0  Василёк\n",
      "4  20180404T132049  76144fb2        14.0  Василёк\n"
     ]
    }
   ],
   "source": [
    "import pandas as pd\n",
    "data = pd.read_csv(filepath_or_buffer='../datasets/visits.csv', sep='\\t')\n",
    "print(data.head())"
   ],
   "metadata": {
    "collapsed": false,
    "pycharm": {
     "name": "#%%\n"
    }
   }
  }
 ],
 "metadata": {
  "kernelspec": {
   "display_name": "Python 3",
   "language": "python",
   "name": "python3"
  },
  "language_info": {
   "codemirror_mode": {
    "name": "ipython",
    "version": 2
   },
   "file_extension": ".py",
   "mimetype": "text/x-python",
   "name": "python",
   "nbconvert_exporter": "python",
   "pygments_lexer": "ipython2",
   "version": "2.7.6"
  }
 },
 "nbformat": 4,
 "nbformat_minor": 0
}