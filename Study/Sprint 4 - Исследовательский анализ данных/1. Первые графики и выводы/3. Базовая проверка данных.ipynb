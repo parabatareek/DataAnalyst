{
 "cells": [
  {
   "cell_type": "markdown",
   "metadata": {
    "collapsed": true,
    "pycharm": {
     "name": "#%% md\n"
    }
   },
   "source": [
    "# 1.\n",
    "Сперва найдите количество заездов на АЗС. Одна строка в датафрейме соответствует одному посещению, значит, нужно посчитать строки.\n",
    "Сохраните количество строк датафрейма в переменную total_visits. Результат выведите на экран так:\n",
    "Количество заездов: ...\n",
    "\n",
    "Подсказка:\n",
    "Получите количество строк методом len() или атрибутом shape[0]."
   ]
  },
  {
   "cell_type": "code",
   "execution_count": 2,
   "outputs": [
    {
     "name": "stdout",
     "output_type": "stream",
     "text": [
      "Количество заездов: 317104\n"
     ]
    }
   ],
   "source": [
    "import pandas as pd\n",
    "\n",
    "data = pd.read_csv ('../datasets/visits.csv', sep='\\t')\n",
    "total_visits = data.shape[0]#количество заездов на АЗС\n",
    "print(f'Количество заездов: {total_visits}')"
   ],
   "metadata": {
    "collapsed": false,
    "pycharm": {
     "name": "#%%\n"
    }
   }
  },
  {
   "cell_type": "markdown",
   "source": [
    "# 2.\n",
    "Теперь нужно понять, сколько АЗС в данных. У каждой станции есть свой номер — id. Чтобы найти количество АЗС, посчитайте уникальные id.\n",
    "Сохраните количество АЗС в переменной total_stations, результат выведите на экран так:\n",
    "Количество АЗС: ...\n",
    "\n",
    "Подсказка:\n",
    "Примените метод unique() к столбцу id, чтобы вернуть количество уникальных АЗС. В той же строке примените len() к списку, чтобы вернуть количество станций."
   ],
   "metadata": {
    "collapsed": false,
    "pycharm": {
     "name": "#%% md\n"
    }
   }
  },
  {
   "cell_type": "code",
   "execution_count": 3,
   "outputs": [
    {
     "name": "stdout",
     "output_type": "stream",
     "text": [
      "Количество АЗС: 471\n"
     ]
    }
   ],
   "source": [
    "total_station = len(data['id'].unique())\n",
    "print(f'Количество АЗС: {total_station}')"
   ],
   "metadata": {
    "collapsed": false,
    "pycharm": {
     "name": "#%%\n"
    }
   }
  },
  {
   "cell_type": "markdown",
   "source": [
    "# 3.\n",
    "Аналитику могут сообщить, за какой срок собрали данные. Эту информацию лучше перепроверить. Понадобится столбец date_time, который хранит время прибытия водителей на АЗС. Выведите минимальное и максимальное значения столбца date_time через пробел, вызвав функцию print() только один раз. Добавлять к выводу дополнительный текст или сохранять значения в переменные не нужно.\n",
    "\n",
    "Подсказка:\n",
    "Не объявляя новые переменные, в скобках функции print() вызовите сначала метод min() к значениям столбца date_time в датафрейме data, чтобы получить первый заезд, а затем через запятую метод max() — чтобы получить последний."
   ],
   "metadata": {
    "collapsed": false,
    "pycharm": {
     "name": "#%% md\n"
    }
   }
  },
  {
   "cell_type": "code",
   "execution_count": 6,
   "outputs": [
    {
     "name": "stdout",
     "output_type": "stream",
     "text": [
      "20180402T000008 20180408T235957\n"
     ]
    }
   ],
   "source": [
    "print(f'{data[\"date_time\"].min()} {data[\"date_time\"].max()}')"
   ],
   "metadata": {
    "collapsed": false,
    "pycharm": {
     "name": "#%%\n"
    }
   }
  },
  {
   "cell_type": "markdown",
   "source": [
    "# 4.\n",
    "Записи в столбце date_time хранятся в формате ISO: YYYYMMDDTHHMMSS. T — разделитель между датой и временем. В предыдущей задаче вы обнаружили, что первая дата прибытия на АЗС — 2 апреля 2018 года в 00:00, а последняя — 8 апреля 2018 года в 23:59. Значит, данные покрывают семь дней. Теперь можно найти среднее количество посещений АЗС за день.\n",
    "Сохраните в переменную total_days количество дней.\n",
    "В переменную station_visits_per_day запишите среднее количество визитов на АЗС за день. Чтобы посчитать среднее, используйте значения переменных total_visits, total_stations и total_days .\n",
    "Выведите на экран значение переменной в таком виде:\n",
    "Количество заездов на АЗС в сутки: ...\n",
    "\n",
    "Подсказка\n",
    "Поделите количество заездов на количество АЗС, а затем и на дни."
   ],
   "metadata": {
    "collapsed": false,
    "pycharm": {
     "name": "#%% md\n"
    }
   }
  },
  {
   "cell_type": "code",
   "execution_count": 16,
   "outputs": [
    {
     "name": "stdout",
     "output_type": "stream",
     "text": [
      "Количество заездов на АЗС в сутки: 96.17955717318775\n"
     ]
    }
   ],
   "source": [
    "total_days = (pd.to_datetime(data[\"date_time\"].max(), format='%Y%m%dT%H%M%S') - pd.to_datetime(data[\"date_time\"].min(), format='%Y%m%dT%H%M%S')).days + 1\n",
    "station_visits_per_day = total_visits / total_station / total_days\n",
    "print(f'Количество заездов на АЗС в сутки: {station_visits_per_day}')"
   ],
   "metadata": {
    "collapsed": false,
    "pycharm": {
     "name": "#%%\n"
    }
   }
  },
  {
   "cell_type": "markdown",
   "source": [
    "# 5.\n",
    "Вы только что нашли среднее количество заездов за день. Но будьте осторожны со средними значениями. На них влияет даже небольшое количество экстремально малых или больших значений в данных. Поэтому важно смотреть на общее распределение.\n",
    "Проверьте распределение числа заездов по сетям АЗС. Можно ожидать, что больше заездов будет на популярных станциях. Выведите на экран 10 сетей АЗС с наибольшим количеством заездов и отсортируйте данные по убыванию числа посещений.\n",
    "Посчитайте количество уникальных значений в столбце name.\n",
    "Убедитесь, что данные отсортированы в порядке убывания, и выведите первые 10 строк.\n",
    "\n",
    "Подсказка\n",
    "К столбцу name примените метод value_counts(). Он сразу вернёт уникальные значения, отсортированные по убыванию. Топ-10 сетей АЗС можно вывести, вызвав метод head() с аргументом 10."
   ],
   "metadata": {
    "collapsed": false,
    "pycharm": {
     "name": "#%% md\n"
    }
   }
  },
  {
   "cell_type": "code",
   "execution_count": 17,
   "outputs": [
    {
     "name": "stdout",
     "output_type": "stream",
     "text": [
      "Календула      85648\n",
      "Василёк        79006\n",
      "Георгина       34356\n",
      "Немезия        20138\n",
      "Колокольчик    18835\n",
      "Name: name, dtype: int64\n"
     ]
    }
   ],
   "source": [
    "print(data['name'].value_counts().head())"
   ],
   "metadata": {
    "collapsed": false,
    "pycharm": {
     "name": "#%%\n"
    }
   }
  }
 ],
 "metadata": {
  "kernelspec": {
   "display_name": "Python 3",
   "language": "python",
   "name": "python3"
  },
  "language_info": {
   "codemirror_mode": {
    "name": "ipython",
    "version": 2
   },
   "file_extension": ".py",
   "mimetype": "text/x-python",
   "name": "python",
   "nbconvert_exporter": "python",
   "pygments_lexer": "ipython2",
   "version": "2.7.6"
  }
 },
 "nbformat": 4,
 "nbformat_minor": 0
}