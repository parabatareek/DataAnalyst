{
 "cells": [
  {
   "cell_type": "markdown",
   "metadata": {
    "collapsed": true,
    "pycharm": {
     "name": "#%% md\n"
    }
   },
   "source": [
    "# 1.\n",
    "Выберите строки с выгодной ценой за авиабилет.\n",
    "Выгодными считаются те билеты, которые дешевле самого дорогого билета более чем в 1,5 раза.\n",
    "Выведите на экран полученную выборку.\n",
    "\n",
    "Подсказка:\n",
    "Сравните столбец Price, умноженный на 1,5, с максимальным значением столбца Price.\n",
    "Полученный булев массив передайте в качестве индекса исходному датафрейму."
   ]
  },
  {
   "cell_type": "code",
   "execution_count": 1,
   "outputs": [
    {
     "name": "stdout",
     "output_type": "stream",
     "text": [
      "             From         To  Is_Direct  Has_luggage  Price   Date_From  \\\n",
      "1          Moscow       Rome       True        False  19250    01.07.19   \n",
      "2  St. Petersburg       Rome      False        False  19301  04.07.2019   \n",
      "3  St. Petersburg  Barcelona      False         True  20168  03.07.2019   \n",
      "\n",
      "      Date_To  Airline  Travel_time_from  Travel_time_to  \n",
      "1    07.07.19       S7               230             225  \n",
      "2  10.07.2019  Finnair               605             720  \n",
      "3  09.07.2019    Swiss               365             355  \n"
     ]
    }
   ],
   "source": [
    "import pandas as pd\n",
    "\n",
    "df = pd.DataFrame(\n",
    "    {\n",
    "        'From': [\n",
    "            'Moscow',\n",
    "            'Moscow',\n",
    "            'St. Petersburg',\n",
    "            'St. Petersburg',\n",
    "            'St. Petersburg',\n",
    "        ],\n",
    "        'To': ['Rome', 'Rome', 'Rome', 'Barcelona', 'Barcelona'],\n",
    "        'Is_Direct': [False, True, False, False, True],\n",
    "        'Has_luggage': [True, False, False, True, False],\n",
    "        'Price': [21032, 19250, 19301, 20168, 31425],\n",
    "        'Date_From': [\n",
    "            '01.07.19',\n",
    "            '01.07.19',\n",
    "            '04.07.2019',\n",
    "            '03.07.2019',\n",
    "            '05.07.2019',\n",
    "        ],\n",
    "        'Date_To': [\n",
    "            '07.07.19',\n",
    "            '07.07.19',\n",
    "            '10.07.2019',\n",
    "            '09.07.2019',\n",
    "            '11.07.2019',\n",
    "        ],\n",
    "        'Airline': ['Belavia', 'S7', 'Finnair', 'Swiss', 'Rossiya'],\n",
    "        'Travel_time_from': [995, 230, 605, 365, 255],\n",
    "        'Travel_time_to': [350, 225, 720, 355, 250],\n",
    "    }\n",
    ")\n",
    "print(df[df['Price'] <= df['Price'].max() / 1.5]) # впишите нужное условие"
   ],
   "metadata": {
    "collapsed": false,
    "pycharm": {
     "name": "#%%\n"
    }
   }
  },
  {
   "cell_type": "markdown",
   "source": [
    "# 2.\n",
    "Выберите строки, где значения столбца Travel_time_from больше или равны 365 или значения Travel_time_to меньше 250.\n",
    "Результат выведите на экран.\n",
    "\n",
    "Подсказка\n",
    "Составьте условия (каждое в скобках) для столбцов, применив операторы >= и <.\n",
    "Логическое ИЛИ задаёт оператор |. Получившуюся конструкцию передайте датафрейму как индекс."
   ],
   "metadata": {
    "collapsed": false,
    "pycharm": {
     "name": "#%% md\n"
    }
   }
  },
  {
   "cell_type": "code",
   "execution_count": 3,
   "outputs": [
    {
     "name": "stdout",
     "output_type": "stream",
     "text": [
      "             From         To  Is_Direct  Has_luggage  Price   Date_From  \\\n",
      "0          Moscow       Rome      False         True  21032    01.07.19   \n",
      "1          Moscow       Rome       True        False  19250    01.07.19   \n",
      "2  St. Petersburg       Rome      False        False  19301  04.07.2019   \n",
      "3  St. Petersburg  Barcelona      False         True  20168  03.07.2019   \n",
      "\n",
      "      Date_To  Airline  Travel_time_from  Travel_time_to  \n",
      "0    07.07.19  Belavia               995             350  \n",
      "1    07.07.19       S7               230             225  \n",
      "2  10.07.2019  Finnair               605             720  \n",
      "3  09.07.2019    Swiss               365             355  \n"
     ]
    }
   ],
   "source": [
    "import pandas as pd\n",
    "\n",
    "df = pd.DataFrame(\n",
    "    {\n",
    "        'From': [\n",
    "            'Moscow',\n",
    "            'Moscow',\n",
    "            'St. Petersburg',\n",
    "            'St. Petersburg',\n",
    "            'St. Petersburg',\n",
    "        ],\n",
    "        'To': ['Rome', 'Rome', 'Rome', 'Barcelona', 'Barcelona'],\n",
    "        'Is_Direct': [False, True, False, False, True],\n",
    "        'Has_luggage': [True, False, False, True, False],\n",
    "        'Price': [21032, 19250, 19301, 20168, 31425],\n",
    "        'Date_From': [\n",
    "            '01.07.19',\n",
    "            '01.07.19',\n",
    "            '04.07.2019',\n",
    "            '03.07.2019',\n",
    "            '05.07.2019',\n",
    "        ],\n",
    "        'Date_To': [\n",
    "            '07.07.19',\n",
    "            '07.07.19',\n",
    "            '10.07.2019',\n",
    "            '09.07.2019',\n",
    "            '11.07.2019',\n",
    "        ],\n",
    "        'Airline': ['Belavia', 'S7', 'Finnair', 'Swiss', 'Rossiya'],\n",
    "        'Travel_time_from': [995, 230, 605, 365, 255],\n",
    "        'Travel_time_to': [350, 225, 720, 355, 250],\n",
    "    }\n",
    ")\n",
    "print(df[(df['Travel_time_from'] >= 365) | (df['Travel_time_to'] < 250)]) # впишите нужное условие"
   ],
   "metadata": {
    "collapsed": false,
    "pycharm": {
     "name": "#%%\n"
    }
   }
  },
  {
   "cell_type": "markdown",
   "source": [
    "# 3.\n",
    "Выберите строки, где:\n",
    "полёт с пересадкой;\n",
    "прилёт до 8 июля (ни 9, ни 10, ни 11 июля).\n",
    "Результат выведите на экран.\n",
    "\n",
    "Подсказка\n",
    "Составьте два условия для каждого столбца отдельно. Для столбца Is_Direct используйте отрицание: ~(df['Is_Direct']). Так вы отфильтруете рейсы с пересадками (буквально: «не являющиеся прямыми»). Упорядочить рейсы можно и так: df['Is_Direct'] == False . Результат будет таким же, но сравнивать логические значения напрямую с True и False — плохой тон.\n",
    "Для столбца Date_To укажите оператор ~, применённый к методу isin(('09.07.2019', '10.07.2019', '11.07.2019')). Каждое из условий укажите в скобках, а между ними поставьте оператор &. Получившуюся конструкцию передайте датафрейму в качестве индекса."
   ],
   "metadata": {
    "collapsed": false,
    "pycharm": {
     "name": "#%% md\n"
    }
   }
  },
  {
   "cell_type": "code",
   "execution_count": 7,
   "outputs": [
    {
     "name": "stdout",
     "output_type": "stream",
     "text": [
      "     From    To  Is_Direct  Has_luggage  Price Date_From   Date_To  Airline  \\\n",
      "0  Moscow  Rome      False         True  21032  01.07.19  07.07.19  Belavia   \n",
      "\n",
      "   Travel_time_from  Travel_time_to  \n",
      "0               995             350  \n"
     ]
    }
   ],
   "source": [
    "import pandas as pd\n",
    "\n",
    "df = pd.DataFrame(\n",
    "    {\n",
    "        'From': [\n",
    "            'Moscow',\n",
    "            'Moscow',\n",
    "            'St. Petersburg',\n",
    "            'St. Petersburg',\n",
    "            'St. Petersburg',\n",
    "        ],\n",
    "        'To': ['Rome', 'Rome', 'Rome', 'Barcelona', 'Barcelona'],\n",
    "        'Is_Direct': [False, True, False, False, True],\n",
    "        'Has_luggage': [True, False, False, True, False],\n",
    "        'Price': [21032, 19250, 19301, 20168, 31425],\n",
    "        'Date_From': [\n",
    "            '01.07.19',\n",
    "            '01.07.19',\n",
    "            '04.07.2019',\n",
    "            '03.07.2019',\n",
    "            '05.07.2019',\n",
    "        ],\n",
    "        'Date_To': [\n",
    "            '07.07.19',\n",
    "            '07.07.19',\n",
    "            '10.07.2019',\n",
    "            '09.07.2019',\n",
    "            '11.07.2019',\n",
    "        ],\n",
    "        'Airline': ['Belavia', 'S7', 'Finnair', 'Swiss', 'Rossiya'],\n",
    "        'Travel_time_from': [995, 230, 605, 365, 255],\n",
    "        'Travel_time_to': [350, 225, 720, 355, 250],\n",
    "    }\n",
    ")\n",
    "print(df[(~df['Is_Direct']) & (~df['Date_To'].isin(['09.07.2019', '10.07.2019', '11.07.2019']))]) # впишите нужное условие"
   ],
   "metadata": {
    "collapsed": false,
    "pycharm": {
     "name": "#%%\n"
    }
   }
  }
 ],
 "metadata": {
  "kernelspec": {
   "display_name": "Python 3",
   "language": "python",
   "name": "python3"
  },
  "language_info": {
   "codemirror_mode": {
    "name": "ipython",
    "version": 2
   },
   "file_extension": ".py",
   "mimetype": "text/x-python",
   "name": "python",
   "nbconvert_exporter": "python",
   "pygments_lexer": "ipython2",
   "version": "2.7.6"
  }
 },
 "nbformat": 4,
 "nbformat_minor": 0
}