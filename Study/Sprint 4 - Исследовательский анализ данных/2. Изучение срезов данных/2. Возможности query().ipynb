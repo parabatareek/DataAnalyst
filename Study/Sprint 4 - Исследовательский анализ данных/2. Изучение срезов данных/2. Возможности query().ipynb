{
 "cells": [
  {
   "cell_type": "markdown",
   "metadata": {
    "collapsed": true,
    "pycharm": {
     "name": "#%% md\n"
    }
   },
   "source": [
    "# 1.\n",
    "Выберите строки, где: Has_luggage равно False и Airline не равно ни S7, ни Rossiya.\n",
    "Напечатайте полученную выборку на экране.\n",
    "\n",
    "Подсказка:\n",
    "Запишите условия: Has_luggage равно False, Airline не в списке \"S7\", \"Rossiya\" (конструкция not in). Между ними поставьте and.\n",
    "Передайте получившуюся строку в query()."
   ]
  },
  {
   "cell_type": "code",
   "execution_count": 2,
   "outputs": [
    {
     "name": "stdout",
     "output_type": "stream",
     "text": [
      "             From    To  Is_Direct  Has_luggage  Price   Date_From  \\\n",
      "2  St. Petersburg  Rome      False        False  19301  04.07.2019   \n",
      "\n",
      "      Date_To  Airline  Travel_time_from  Travel_time_to  \n",
      "2  10.07.2019  Finnair               605             720  \n"
     ]
    }
   ],
   "source": [
    "import pandas as pd\n",
    "\n",
    "df = pd.DataFrame(\n",
    "    {\n",
    "        'From': [\n",
    "            'Moscow',\n",
    "            'Moscow',\n",
    "            'St. Petersburg',\n",
    "            'St. Petersburg',\n",
    "            'St. Petersburg',\n",
    "        ],\n",
    "        'To': ['Rome', 'Rome', 'Rome', 'Barcelona', 'Barcelona'],\n",
    "        'Is_Direct': [False, True, False, False, True],\n",
    "        'Has_luggage': [True, False, False, True, False],\n",
    "        'Price': [21032, 19250, 19301, 20168, 31425],\n",
    "        'Date_From': [\n",
    "            '01.07.19',\n",
    "            '01.07.19',\n",
    "            '04.07.2019',\n",
    "            '03.07.2019',\n",
    "            '05.07.2019',\n",
    "        ],\n",
    "        'Date_To': [\n",
    "            '07.07.19',\n",
    "            '07.07.19',\n",
    "            '10.07.2019',\n",
    "            '09.07.2019',\n",
    "            '11.07.2019',\n",
    "        ],\n",
    "        'Airline': ['Belavia', 'S7', 'Finnair', 'Swiss', 'Rossiya'],\n",
    "        'Travel_time_from': [995, 230, 605, 365, 255],\n",
    "        'Travel_time_to': [350, 225, 720, 355, 250],\n",
    "    }\n",
    ")\n",
    "print(df.query('Has_luggage == False and Airline not in (\"S7\", \"Rossiya\")'))# впишите условие создания нужной выборки"
   ],
   "metadata": {
    "collapsed": false,
    "pycharm": {
     "name": "#%%\n"
    }
   }
  },
  {
   "cell_type": "markdown",
   "source": [
    "# 2.\n",
    "Выберите строки, где Airline равно Belavia, S7 или Rossiya, при этом Travel_time_from меньше переменной под названием max_time.\n",
    "Напечатайте полученную выборку на экране.\n",
    "\n",
    "Подсказка:\n",
    "Составьте условие, проверяющее, есть ли Belavia, S7 или Rossiya в Airline: примените in, двойные кавычки для элементов и скобки для всего списка.\n",
    "В условии для Travel_time_from обратитесь к внешней переменной с символом @. Сложите условия оператором and, превратите в строку и передайте как аргумент методу query()."
   ],
   "metadata": {
    "collapsed": false,
    "pycharm": {
     "name": "#%% md\n"
    }
   }
  },
  {
   "cell_type": "code",
   "execution_count": 3,
   "outputs": [
    {
     "name": "stdout",
     "output_type": "stream",
     "text": [
      "             From         To  Is_Direct  Has_luggage  Price   Date_From  \\\n",
      "1          Moscow       Rome       True        False  19250    01.07.19   \n",
      "4  St. Petersburg  Barcelona       True        False  31425  05.07.2019   \n",
      "\n",
      "      Date_To  Airline  Travel_time_from  Travel_time_to  \n",
      "1    07.07.19       S7               230             225  \n",
      "4  11.07.2019  Rossiya               255             250  \n"
     ]
    }
   ],
   "source": [
    "import pandas as pd\n",
    "\n",
    "df = pd.DataFrame(\n",
    "    {\n",
    "        'From': [\n",
    "            'Moscow',\n",
    "            'Moscow',\n",
    "            'St. Petersburg',\n",
    "            'St. Petersburg',\n",
    "            'St. Petersburg',\n",
    "        ],\n",
    "        'To': ['Rome', 'Rome', 'Rome', 'Barcelona', 'Barcelona'],\n",
    "        'Is_Direct': [False, True, False, False, True],\n",
    "        'Has_luggage': [True, False, False, True, False],\n",
    "        'Price': [21032, 19250, 19301, 20168, 31425],\n",
    "        'Date_From': [\n",
    "            '01.07.19',\n",
    "            '01.07.19',\n",
    "            '04.07.2019',\n",
    "            '03.07.2019',\n",
    "            '05.07.2019',\n",
    "        ],\n",
    "        'Date_To': [\n",
    "            '07.07.19',\n",
    "            '07.07.19',\n",
    "            '10.07.2019',\n",
    "            '09.07.2019',\n",
    "            '11.07.2019',\n",
    "        ],\n",
    "        'Airline': ['Belavia', 'S7', 'Finnair', 'Swiss', 'Rossiya'],\n",
    "        'Travel_time_from': [995, 230, 605, 365, 255],\n",
    "        'Travel_time_to': [350, 225, 720, 355, 250],\n",
    "    }\n",
    ")\n",
    "max_time = 300\n",
    "print(df.query('Travel_time_from < @max_time and Airline in (\"Belavia\", \"S7\", \"Rossiya\")')) # впишите условие создания нужной выборки"
   ],
   "metadata": {
    "collapsed": false,
    "pycharm": {
     "name": "#%%\n"
    }
   }
  }
 ],
 "metadata": {
  "kernelspec": {
   "display_name": "Python 3",
   "language": "python",
   "name": "python3"
  },
  "language_info": {
   "codemirror_mode": {
    "name": "ipython",
    "version": 2
   },
   "file_extension": ".py",
   "mimetype": "text/x-python",
   "name": "python",
   "nbconvert_exporter": "python",
   "pygments_lexer": "ipython2",
   "version": "2.7.6"
  }
 },
 "nbformat": 4,
 "nbformat_minor": 0
}