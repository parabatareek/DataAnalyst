{
 "cells": [
  {
   "cell_type": "markdown",
   "metadata": {
    "collapsed": true,
    "pycharm": {
     "name": "#%% md\n"
    }
   },
   "source": [
    "# 1.\n",
    "Первым делом нужно создать переменную, чтобы выделить аномально быстрые заезды.\n",
    "Добавьте в таблицу data столбец too_fast (пер. «слишком быстрый») со значениями:\n",
    "True — если продолжительность заезда из столбца time_spent менее 60 секунд.\n",
    "False — все остальные значения.\n",
    "Затем выведите на экран первые пять строк таблицы data, чтобы проверить новый столбец.\n",
    "\n",
    "Подсказка\n",
    "Если вызвать команду print(data['time_spent'] < 60), можно получить список значений True и False.\n",
    "Но вам нужно не вывести результат, а записать его в новый столбец data."
   ]
  },
  {
   "cell_type": "code",
   "execution_count": 3,
   "outputs": [
    {
     "name": "stdout",
     "output_type": "stream",
     "text": [
      "         date_time        id  time_spent     name  too_fast\n",
      "0  20180406T165358  76144fb2        98.0  Василёк     False\n",
      "1  20180404T173913  76144fb2        15.0  Василёк      True\n",
      "2  20180403T172824  76144fb2       220.0  Василёк     False\n",
      "3  20180407T070441  76144fb2        19.0  Василёк      True\n",
      "4  20180404T132049  76144fb2        14.0  Василёк      True\n"
     ]
    }
   ],
   "source": [
    "import pandas as pd\n",
    "\n",
    "data = pd.read_csv('../datasets/visits.csv', sep='\\t')\n",
    "data['too_fast'] = data['time_spent'] < 60\n",
    "print(data.head())"
   ],
   "metadata": {
    "collapsed": false,
    "pycharm": {
     "name": "#%%\n"
    }
   }
  },
  {
   "cell_type": "markdown",
   "source": [
    "# 2.\n",
    "Рассчитать процент всех заездов короче 60 секунд можно разными способами. Можно посчитать значения True в столбце too_fast методом value_counts() и разделить получившееся число на количество строк.\n",
    "Другой способ — применить к столбцу too_fast метод mean(). Ведь среднее рассчитывают так: сумму значений делят на количество значений. Если применить арифметическую операцию к булевым значениям True и False, значение True будет интерпретировано как 1, а False — как 0. С помощью mean() можно сделать оба вычисления сразу: посчитать True и разделить его на количество строк.\n",
    "Таким образом, найти процент быстрых заездов можно с помощью среднего арифметического.\n",
    "Рассчитайте среднее арифметическое для значений в столбце too_fast.\n",
    "\n",
    "Подсказка\n",
    "Примените метод mean() к столбцу too_fast."
   ],
   "metadata": {
    "collapsed": false,
    "pycharm": {
     "name": "#%% md\n"
    }
   }
  },
  {
   "cell_type": "code",
   "execution_count": 4,
   "outputs": [
    {
     "name": "stdout",
     "output_type": "stream",
     "text": [
      "0.42213910893586964\n"
     ]
    }
   ],
   "source": [
    "print(data['too_fast'].mean())"
   ],
   "metadata": {
    "collapsed": false,
    "pycharm": {
     "name": "#%%\n"
    }
   }
  },
  {
   "cell_type": "markdown",
   "source": [
    "# 3.\n",
    "Переменная задана, процент посчитан, теперь можно группировать данные по АЗС. Для этого воспользуйтесь сводной таблицей.\n",
    "Создайте переменную too_fast_stat и запишите в неё значения из сводной таблицы, сгруппировав процент быстрых заездов по АЗС.\n",
    "Выведите на экран первые пять строк too_fast_stat.\n",
    "\n",
    "Подсказка:\n",
    "Примените метод pivot_table() к data, указав в аргументе индекс — id АЗС, а значения — столбец too_fast. Запишите результат в переменную too_fast_stat , а затем выведите на экран первые пять строк методом head()."
   ],
   "metadata": {
    "collapsed": false,
    "pycharm": {
     "name": "#%% md\n"
    }
   }
  },
  {
   "cell_type": "code",
   "execution_count": 5,
   "outputs": [
    {
     "name": "stdout",
     "output_type": "stream",
     "text": [
      "          too_fast\n",
      "id                \n",
      "00ca1b70  0.250000\n",
      "011f7462  0.637489\n",
      "015eaddd  0.726190\n",
      "0178ce70  0.211538\n",
      "018a83ef  0.510269\n"
     ]
    }
   ],
   "source": [
    "too_fast_stat = data.pivot_table(index='id', values='too_fast')\n",
    "print(too_fast_stat.head())"
   ],
   "metadata": {
    "collapsed": false,
    "pycharm": {
     "name": "#%%\n"
    }
   }
  },
  {
   "cell_type": "markdown",
   "source": [
    "# 4.\n",
    "Теперь вы знаете, сколько быстрых заездов на первых пяти АЗС в процентном отношении. Но что делать дальше — выводить на экран остальные 466 строк и изучать значения для каждой АЗС? Слишком сложно.\n",
    "Гораздо лучше визуализировать распределение быстрых заездов сразу по всем АЗС. Гистограмма, вот что нужно!\n",
    "Постройте гистограмму распределения значений в таблице too_fast_stat на 30 корзин.\n",
    "\n",
    "Подсказка\n",
    "Вызовите метод hist(). Задайте число корзин параметром bins."
   ],
   "metadata": {
    "collapsed": false,
    "pycharm": {
     "name": "#%% md\n"
    }
   }
  },
  {
   "cell_type": "code",
   "execution_count": 6,
   "outputs": [
    {
     "data": {
      "text/plain": "array([[<AxesSubplot:title={'center':'too_fast'}>]], dtype=object)"
     },
     "execution_count": 6,
     "metadata": {},
     "output_type": "execute_result"
    },
    {
     "data": {
      "text/plain": "<Figure size 432x288 with 1 Axes>",
      "image/png": "[encoded data removed]"
     },
     "metadata": {
      "needs_background": "light"
     },
     "output_type": "display_data"
    }
   ],
   "source": [
    "too_fast_stat.hist(bins=30)"
   ],
   "metadata": {
    "collapsed": false,
    "pycharm": {
     "name": "#%%\n"
    }
   }
  },
  {
   "cell_type": "markdown",
   "source": [
    "# 5.\n",
    "Теперь, когда вы разобрались, как использовать булевы значения для подсчёта процентов, примените этот метод для аномально долгих заправок — проверьте их распределение по АЗС. Как вы помните, заезды длиннее 1000 секунд решили исключить. Сейчас станет понятно, сколько АЗС это затронет.\n",
    "Добавьте в data столбец too_slow (пер. «слишком медленный»), в котором значения из столбца time_spent больше 1000 секунд будут отмечены как True, а все остальные — как False.\n",
    "Помня о бритве Оккама:\n",
    "Создайте сводную таблицу с процентом медленных заездов для каждой АЗС.\n",
    "Постройте гистограмму доли медленных заездов по всем АЗС на 30 корзин.\n",
    "\n",
    "Подсказка\n",
    "Задача аналогична предыдущим. Сперва создайте булев массив и сохраните его в столбце data['too_slow']. Затем с помощью последовательности data.pivot_table().hist() рассчитайте распределение долгих заездов и постройте соответствующую гистограмму."
   ],
   "metadata": {
    "collapsed": false,
    "pycharm": {
     "name": "#%% md\n"
    }
   }
  },
  {
   "cell_type": "code",
   "execution_count": 7,
   "outputs": [
    {
     "data": {
      "text/plain": "array([[<AxesSubplot:title={'center':'too_slow'}>]], dtype=object)"
     },
     "execution_count": 7,
     "metadata": {},
     "output_type": "execute_result"
    },
    {
     "data": {
      "text/plain": "<Figure size 432x288 with 1 Axes>",
      "image/png": "[encoded data removed]"
     },
     "metadata": {
      "needs_background": "light"
     },
     "output_type": "display_data"
    }
   ],
   "source": [
    "data['too_slow'] = data['time_spent'] > 1000.\n",
    "(\n",
    "    data.pivot_table(index='id', values='too_slow').\n",
    "        hist(bins=30)\n",
    ")"
   ],
   "metadata": {
    "collapsed": false,
    "pycharm": {
     "name": "#%%\n"
    }
   }
  }
 ],
 "metadata": {
  "kernelspec": {
   "display_name": "Python 3",
   "language": "python",
   "name": "python3"
  },
  "language_info": {
   "codemirror_mode": {
    "name": "ipython",
    "version": 2
   },
   "file_extension": ".py",
   "mimetype": "text/x-python",
   "name": "python",
   "nbconvert_exporter": "python",
   "pygments_lexer": "ipython2",
   "version": "2.7.6"
  }
 },
 "nbformat": 4,
 "nbformat_minor": 0
}