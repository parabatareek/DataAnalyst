{
 "cells": [
  {
   "cell_type": "markdown",
   "metadata": {
    "collapsed": true,
    "pycharm": {
     "name": "#%% md\n"
    }
   },
   "source": [
    "# 1.\n",
    "Итак, нужно разобраться с аномалиями в выборке. Для начала найдите АЗС с самыми большими значениями в столбце time_spent.\n",
    "Одной строкой кода упорядочьте столбец time_spent по убыванию и выведите на экран первые 10 строк всей таблицы.\n",
    "\n",
    "Подсказка:\n",
    "Отсортируйте data по убыванию значений time_spent методом sort_values(). Задайте в sort_values() параметр ascending=, равный False.\n",
    "Затем выведите первые 10 строк таблицы методом head()."
   ]
  },
  {
   "cell_type": "code",
   "execution_count": 2,
   "outputs": [
    {
     "name": "stdout",
     "output_type": "stream",
     "text": [
      "              date_time        id  time_spent      name\n",
      "114797  20180402T055708  3c1e4c52     28925.0   Василёк\n",
      "27147   20180406T080254  4b5f2af5     28519.0   Немезия\n",
      "60547   20180408T000002  cf1ba8a5     28292.0   Василёк\n",
      "19042   20180408T204208  5410e876     23696.0   Василёк\n",
      "118597  20180408T165020  3c1e4c52     21184.0   Василёк\n",
      "118058  20180402T111333  3c1e4c52     20359.0   Василёк\n",
      "114406  20180408T083722  3c1e4c52     19886.0   Василёк\n",
      "132164  20180405T160745  627ea5e3     19445.0    Левкой\n",
      "281360  20180406T180459  d0c0928d     18614.0      Пион\n",
      "165326  20180402T230204  3af3bb71     18569.0  Агератум\n"
     ]
    }
   ],
   "source": [
    "import pandas as pd\n",
    "\n",
    "data = pd.read_csv('../datasets/visits.csv', sep='\\t')\n",
    "print(data.sort_values(by='time_spent', ascending=False).head(10))"
   ],
   "metadata": {
    "collapsed": false,
    "pycharm": {
     "name": "#%%\n"
    }
   }
  },
  {
   "cell_type": "markdown",
   "source": [
    "# 2.\n",
    "Четыре из десяти самых долгих заездов произошли на станции под номером 3c1e4c52. Аналитик данных непременно спросит: «А как распределение времени, проведённого на этой АЗС, соотносится с распределением времени заездов в целом?» Нужно проверить. Для этого сделайте срез данных и извлеките всю информацию о станции 3c1e4c52.\n",
    "Сделайте срез data по АЗС с id == \"3c1e4c52\" и сохраните результат в переменную sample.\n",
    "Выведите на экран число заездов на эту АЗС.\n",
    "\n",
    "Подсказка\n",
    "Примените к data метод query() с условием id == \"3c1e4c52\". Сохраните получившийся срез в переменной sample. Число заездов равно числу строк. С помощью функции len() выведите на экран число строк в sample."
   ],
   "metadata": {
    "collapsed": false,
    "pycharm": {
     "name": "#%% md\n"
    }
   }
  },
  {
   "cell_type": "code",
   "execution_count": 4,
   "outputs": [
    {
     "name": "stdout",
     "output_type": "stream",
     "text": [
      "5814\n"
     ]
    }
   ],
   "source": [
    "sample = data.query('id == \"3c1e4c52\"')\n",
    "print(len(sample))"
   ],
   "metadata": {
    "collapsed": false,
    "pycharm": {
     "name": "#%%\n"
    }
   }
  },
  {
   "cell_type": "markdown",
   "source": [
    "# 3.\n",
    "Нужно сравнить распределение времени пребывания на станции 3c1e4c52 с распределением времени пребывания на всех АЗС. Если они сильно различаются, возможно, станция 3c1e4c52 представляет собой статистический выброс.\n",
    "Методом hist() постройте две гистограммы распределения значений в столбце time_spent: одну для объекта data, вторую — для sample. Не забудьте использовать plt.show() после каждого вызова hist().\n",
    "Для обеих гистограмм задайте одинаковые аргументы: range — от 0 до 1500, bins — 100.\n",
    "\n",
    "Подсказка\n",
    "Примените метод hist() к объектам data и sample и первым аргументом укажите столбец time_spent. Передайте параметрам bins и range нужные значения."
   ],
   "metadata": {
    "collapsed": false,
    "pycharm": {
     "name": "#%% md\n"
    }
   }
  },
  {
   "cell_type": "code",
   "execution_count": 5,
   "outputs": [
    {
     "data": {
      "text/plain": "<Figure size 432x288 with 1 Axes>",
      "image/png": "[encoded data removed]"
     },
     "metadata": {
      "needs_background": "light"
     },
     "output_type": "display_data"
    },
    {
     "data": {
      "text/plain": "<Figure size 432x288 with 1 Axes>",
      "image/png": "[encoded data removed]"
     },
     "metadata": {
      "needs_background": "light"
     },
     "output_type": "display_data"
    }
   ],
   "source": [
    "import matplotlib.pyplot as plt\n",
    "data['time_spent'].hist(range=(0,1500), bins=100)\n",
    "plt.show()\n",
    "sample['time_spent'].hist(range=(0,1500), bins=100)\n",
    "plt.show()"
   ],
   "metadata": {
    "collapsed": false,
    "pycharm": {
     "name": "#%%\n"
    }
   }
  }
 ],
 "metadata": {
  "kernelspec": {
   "display_name": "Python 3",
   "language": "python",
   "name": "python3"
  },
  "language_info": {
   "codemirror_mode": {
    "name": "ipython",
    "version": 2
   },
   "file_extension": ".py",
   "mimetype": "text/x-python",
   "name": "python",
   "nbconvert_exporter": "python",
   "pygments_lexer": "ipython2",
   "version": "2.7.6"
  }
 },
 "nbformat": 4,
 "nbformat_minor": 0
}