{
 "cells": [
  {
   "cell_type": "markdown",
   "metadata": {
    "collapsed": true,
    "pycharm": {
     "name": "#%% md\n"
    }
   },
   "source": [
    "# 1.\n",
    "Причиной коротких заездов может быть то, что водители нечаянно заезжают на АЗС, которые не работают по ночам. Если это действительно так, то вы увидите связь между короткими заездами и временем прибытия. Чтобы проверить эту гипотезу, измените тип столбца date_time на более удобный тип для даты.\n",
    "Методом pd.to_datetime() переведите значения столбца date_time в таблице data в объекты datetime. В параметре format= укажите строку, соответствующую текущему формату date_time, с помощью специальных обозначений.\n",
    "Выведите на экран первые пять строк data, чтобы проверить, что получилось.\n",
    "\n",
    "Подсказка:\n",
    "Поместите в data['date_time'] результат работы метода pd.to_datetime(). В аргументе format должен быть указан формат даты: '%Y%m%dT%H%M%S'. Методом head() выведите на экран первые пять строк data."
   ]
  },
  {
   "cell_type": "code",
   "execution_count": 2,
   "outputs": [
    {
     "name": "stdout",
     "output_type": "stream",
     "text": [
      "            date_time        id  time_spent     name\n",
      "0 2018-04-06 16:53:58  76144fb2        98.0  Василёк\n",
      "1 2018-04-04 17:39:13  76144fb2        15.0  Василёк\n",
      "2 2018-04-03 17:28:24  76144fb2       220.0  Василёк\n",
      "3 2018-04-07 07:04:41  76144fb2        19.0  Василёк\n",
      "4 2018-04-04 13:20:49  76144fb2        14.0  Василёк\n"
     ]
    }
   ],
   "source": [
    "import pandas as pd\n",
    "\n",
    "data = pd.read_csv('../datasets/visits.csv', sep='\\t')\n",
    "\n",
    "data['date_time'] = pd.to_datetime(data['date_time'], format='%Y%m%dT%H%M%S')\n",
    "print(data.head())"
   ],
   "metadata": {
    "collapsed": false,
    "pycharm": {
     "name": "#%%\n"
    }
   }
  },
  {
   "cell_type": "markdown",
   "source": [
    "# 2.\n",
    "Напомним, что в датафрейме записано время UTC. Московское рассчитывают как UTC + 3 часа.\n",
    "Создайте столбец data['local_time'] и сохраните в нём сдвинутое на 3 часа время из столбца data['date_time']. Напечатайте первые 5 строк таблицы data.\n",
    "\n",
    "Подсказка\n",
    "Передайте в pd.Timedelta() аргумент hours=3. Первые 5 строк выведите на экран методом head()."
   ],
   "metadata": {
    "collapsed": false,
    "pycharm": {
     "name": "#%% md\n"
    }
   }
  },
  {
   "cell_type": "code",
   "execution_count": 4,
   "outputs": [
    {
     "name": "stdout",
     "output_type": "stream",
     "text": [
      "            date_time        id  time_spent     name          local_time\n",
      "0 2018-04-06 19:53:58  76144fb2        98.0  Василёк 2018-04-06 22:53:58\n",
      "1 2018-04-04 20:39:13  76144fb2        15.0  Василёк 2018-04-04 23:39:13\n",
      "2 2018-04-03 20:28:24  76144fb2       220.0  Василёк 2018-04-03 23:28:24\n",
      "3 2018-04-07 10:04:41  76144fb2        19.0  Василёк 2018-04-07 13:04:41\n",
      "4 2018-04-04 16:20:49  76144fb2        14.0  Василёк 2018-04-04 19:20:49\n"
     ]
    }
   ],
   "source": [
    "data['local_time'] = data['date_time'] + pd.Timedelta(hours=3)\n",
    "print(data.head())"
   ],
   "metadata": {
    "collapsed": false,
    "pycharm": {
     "name": "#%%\n"
    }
   }
  },
  {
   "cell_type": "markdown",
   "source": [
    "# 3.\n",
    "Данные, связанные со временем, лучше округлять до той величины, которой будет достаточно для детального анализа. Чтобы проанализировать взаимосвязь между временем прибытия на АЗС и продолжительностью заезда, точность до минут и секунд не нужна. Округлите время до часов.\n",
    "Выполните следующие шаги:\n",
    "Создайте новый столбец date_hour и передайте ему значения столбца local_time, округлённые до часов.\n",
    "Выведите первые пять строк data, чтобы проверить результаты.\n",
    "\n",
    "Подсказка\n",
    "К данным столбца local_time примените метод dt.round(). Передайте методу строку 1H. Присвойте результат столбцу date_hour."
   ],
   "metadata": {
    "collapsed": false,
    "pycharm": {
     "name": "#%% md\n"
    }
   }
  },
  {
   "cell_type": "code",
   "execution_count": 5,
   "outputs": [
    {
     "name": "stdout",
     "output_type": "stream",
     "text": [
      "            date_time        id  time_spent     name          local_time  \\\n",
      "0 2018-04-06 19:53:58  76144fb2        98.0  Василёк 2018-04-06 22:53:58   \n",
      "1 2018-04-04 20:39:13  76144fb2        15.0  Василёк 2018-04-04 23:39:13   \n",
      "2 2018-04-03 20:28:24  76144fb2       220.0  Василёк 2018-04-03 23:28:24   \n",
      "3 2018-04-07 10:04:41  76144fb2        19.0  Василёк 2018-04-07 13:04:41   \n",
      "4 2018-04-04 16:20:49  76144fb2        14.0  Василёк 2018-04-04 19:20:49   \n",
      "\n",
      "            date_hour  \n",
      "0 2018-04-06 23:00:00  \n",
      "1 2018-04-05 00:00:00  \n",
      "2 2018-04-03 23:00:00  \n",
      "3 2018-04-07 13:00:00  \n",
      "4 2018-04-04 19:00:00  \n"
     ]
    }
   ],
   "source": [
    "data['date_hour'] = data['local_time'].dt.round('1H')\n",
    "print(data.head())"
   ],
   "metadata": {
    "collapsed": false,
    "pycharm": {
     "name": "#%%\n"
    }
   }
  }
 ],
 "metadata": {
  "kernelspec": {
   "display_name": "Python 3",
   "language": "python",
   "name": "python3"
  },
  "language_info": {
   "codemirror_mode": {
    "name": "ipython",
    "version": 2
   },
   "file_extension": ".py",
   "mimetype": "text/x-python",
   "name": "python",
   "nbconvert_exporter": "python",
   "pygments_lexer": "ipython2",
   "version": "2.7.6"
  }
 },
 "nbformat": 4,
 "nbformat_minor": 0
}