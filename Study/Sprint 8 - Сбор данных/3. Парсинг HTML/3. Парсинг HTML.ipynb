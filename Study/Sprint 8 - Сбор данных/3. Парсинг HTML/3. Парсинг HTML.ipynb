{
 "cells": [
  {
   "cell_type": "markdown",
   "source": [
    "# 1.\n",
    "Преобразуйте HTML-страницу в объект BeautifulSoup. Сохраните результат в переменной soup.\n",
    "\n",
    "Подсказка\n",
    "Передайте аргументами объекта BeautifulSoup текстовое содержание запроса и парсер lxml."
   ],
   "metadata": {
    "collapsed": false,
    "pycharm": {
     "name": "#%% md\n"
    }
   }
  },
  {
   "cell_type": "markdown",
   "source": [
    "import requests  # Импорт библиотеки для запросов к серверу\n",
    "from bs4 import (\n",
    "    BeautifulSoup,\n",
    ")  # Импорт библиотеки для автоматического парсинга странички\n",
    "\n",
    "URL = 'https://store.data-analyst.praktikum-services.ru/'\n",
    "req = requests.get(URL) # GET-запрос\n",
    "soup = BeautifulSoup(req.text, 'lxml')"
   ],
   "metadata": {
    "collapsed": false,
    "pycharm": {
     "name": "#%% md\n"
    }
   }
  },
  {
   "cell_type": "markdown",
   "source": [
    "# 2.\n",
    "Добавьте в список name_products названия товаров с сайта: https://store.data-analyst.praktikum-services.ru/.\n",
    "Определите названия тегов и их атрибуты в панели разработчика. Получите нужные теги методом find_all().\n",
    "Выведите список на экран.\n",
    "\n",
    "Подсказка\n",
    "Напишите цикл, пробегающий по всем элементам, внутри которых лежат названия товаров. Методом append() добавьте полученные названия в список name_products."
   ],
   "metadata": {
    "collapsed": false,
    "pycharm": {
     "name": "#%% md\n"
    }
   }
  },
  {
   "cell_type": "code",
   "execution_count": 3,
   "outputs": [
    {
     "name": "stdout",
     "output_type": "stream",
     "text": [
      "['Молоко пастеризованное Му-му отборное 3,4-6,0%, 900 г', 'Молоко цельное пастеризованное Ваша Ферма 3,4-6,0%, 1 л', 'Молоко цельное Асеньевская ферма 3,4-6%, 900 мл', 'Молоко пастеризованное Искренне Ваш отборное 3,4-6,0%, 900 мл', 'Молоко козье пастеризованное Му-му Вита 2,8-5,6%, 500 мл', 'Молоко ультрапастеризованное Простоквашино 2,5%, 950 мл', 'Молоко ультрапастеризованное Му-му 2,5%, 950 мл', 'Молоко ультрапастеризованное Му-му 3,2%, 950 мл', 'Молоко ультрапастеризованное Савушкин 3,1%, 1 л', 'Молоко топленое ультрапастеризованное Му-му 3,2%, 950 мл', 'Молоко топленое пастеризованное Асеньевская ферма 4%, 0,9 л', 'Молоко топленое Ваша Ферма, 0,5 л', 'Молоко пастеризованное Му-му Вита Organic цельное топленое 3,6-4,2%, 500 г', 'Молоко топленое Му 3,6-5,5%, 0,95 л', 'Молоко пастеризованное Простоквашино отборное 3,4-4,5%, 930 мл', 'Молоко пастеризованное Му-му деревенское отборное 3,4-6,0%, 900 г', 'Молоко пастеризованное Му-му питьевое 3,2%, 930 мл', 'Молоко цельное пастеризованное Му 3,6-5,5%, 1,25 л', 'Молоко пастеризованное питьевое Му-му цельное 3,0-6,0%, 930 мл', 'Молоко пастеризованное Му-му Вита Organic цельное отборное 3,5-5,2%, 1 л', 'Молоко ультрапастеризованное Простоквашино 1,5%, 950 мл', 'Молоко пастеризованное Простоквашино 2,5%, 930 мл', 'Молоко ультрапастеризованное Му-му 1,5%, 950 мл', 'Молоко пастеризованное Простоквашино 1,5%, 930 мл', 'Молоко пастеризованное Му-му Вита Organic питьевое 3,2%, 1000 г', 'Молоко Петмол для капучино 3,2%, 950 мл', 'Масло сливочное Простоквашино 72,5%, 180 г', 'Масло сладко-сливочное Му-му традиционное несоленое 82,5%, 450 г', 'Масло сладко-сливочное Му-му Вита Organic несоленое традиционное 82,5%, 200 г', 'Масло традиционное сладко-сливочное несоленое Асеньевская ферма 82,5%, 180 г', 'Масло сливочное Простоквашино 82%, 400 г', 'Масло сладко-сливочное Му-му традиционное несоленое 82,5%, 180 г']\n"
     ]
    }
   ],
   "source": [
    "import requests  # Импорт библиотеки для запросов к серверу\n",
    "from bs4 import (\n",
    "    BeautifulSoup,\n",
    ")  # Импорт библиотеки для автоматического парсинга странички\n",
    "\n",
    "URL = 'https://store.data-analyst.praktikum-services.ru/'\n",
    "req = requests.get(URL)  # GET-запрос\n",
    "soup = BeautifulSoup(req.text, 'lxml')\n",
    "name_products = [] # Список, в котором хранятся названия товаров\n",
    "#объявите цикл с перебором всех элементов div с классом 't754__title t-name t-name_md js-product-name'\n",
    "name_products = []  # Список, в котором хранятся названия товаров\n",
    "for div in soup.find_all('div', attrs={'class':'t754__title t-name t-name_md js-product-name'}):\n",
    "    name_products.append(div.text)\n",
    "\n",
    "print(name_products)"
   ],
   "metadata": {
    "collapsed": false,
    "pycharm": {
     "name": "#%%\n"
    }
   }
  },
  {
   "cell_type": "markdown",
   "source": [
    "# 3.\n",
    "Добавьте в список price цены товаров с сайта: https://store.data-analyst.praktikum-services.ru/.\n",
    "Определите имена тегов и их атрибуты в панели разработчика. Получите нужные элементы методом find_all().\n",
    "Выведите список на экран.\n",
    "\n",
    "Подсказка\n",
    "Напишите цикл, пробегающий по всем элементам, внутри которых лежат цены товаров. Методом append() добавьте полученные названия в список price."
   ],
   "metadata": {
    "collapsed": false,
    "pycharm": {
     "name": "#%% md\n"
    }
   }
  },
  {
   "cell_type": "code",
   "execution_count": null,
   "outputs": [],
   "source": [
    "import requests  # Импорт библиотеки для запросов к серверу\n",
    "from bs4 import (\n",
    "    BeautifulSoup,\n",
    ")  # Импорт библиотеки для автоматического парсинга странички\n",
    "\n",
    "URL = 'https://store.data-analyst.praktikum-services.ru/'\n",
    "req = requests.get(URL)  # GET-запрос\n",
    "soup = BeautifulSoup(req.text, 'lxml')\n",
    "\n",
    "name_products = []  # Список, в котором хранятся названия товаров\n",
    "for row in soup.find_all('div', attrs={'class': 't754__title t-name t-name_md js-product-name'}):\n",
    "    name_products.append(row.text)\n",
    "\n",
    "price = [] # Cписок, в котором хранятся цены на товар\n",
    "# объявите цикл с перебором всех элементов div с классом 't754__price-value js-product-price'\n",
    "for div in soup.find_all('div', attrs={'class':'t754__price-value js-product-price'}):\n",
    "    price.append(div.text)\n",
    "\n",
    "print(price)"
   ],
   "metadata": {
    "collapsed": false,
    "pycharm": {
     "name": "#%%\n"
    }
   }
  },
  {
   "cell_type": "markdown",
   "source": [
    "# 4.\n",
    "Добавьте данные в пустой датафрейм. Создайте столбцы 'name' и 'price' и заполните их данными из списков name_products и price. Выведите первые 5 строк датафрейма на экран.\n",
    "\n",
    "Подсказка\n",
    "Создайте столбец конструкцией df['column_name']. Присвойте ему переменные с полученными с сайта списками. Выведите первые 5 строк методом head()."
   ],
   "metadata": {
    "collapsed": false,
    "pycharm": {
     "name": "#%% md\n"
    }
   }
  },
  {
   "cell_type": "code",
   "execution_count": 11,
   "outputs": [
    {
     "name": "stdout",
     "output_type": "stream",
     "text": [
      "                                                name price\n",
      "0  Молоко пастеризованное Му-му отборное 3,4-6,0%...    59\n",
      "1  Молоко цельное пастеризованное Ваша Ферма 3,4-...    71\n",
      "2    Молоко цельное Асеньевская ферма 3,4-6%, 900 мл    74\n",
      "3  Молоко пастеризованное Искренне Ваш отборное 3...    84\n",
      "4  Молоко козье пастеризованное Му-му Вита 2,8-5,...   139\n"
     ]
    }
   ],
   "source": [
    "import pandas as pd\n",
    "import requests  # Импорт библиотеки для запросов к серверу\n",
    "from bs4 import (\n",
    "    BeautifulSoup,\n",
    ")  # Импорт библиотеки для автоматического парсинга странички\n",
    "\n",
    "URL = 'https://store.data-analyst.praktikum-services.ru/'\n",
    "req = requests.get(URL)  # GET-запрос\n",
    "soup = BeautifulSoup(req.text, 'lxml')\n",
    "\n",
    "name_products = []  # Список, в котором хранятся названия товаров\n",
    "for row in soup.find_all(\n",
    "    'div', attrs={'class': 't754__title t-name t-name_md js-product-name'}\n",
    "):\n",
    "    name_products.append(row.text)\n",
    "\n",
    "price = []  # Cписок, в котором хранятся цены на товар\n",
    "for row in soup.find_all(\n",
    "    'div', attrs={'class': 't754__price-value js-product-price'}\n",
    "):\n",
    "    price.append(row.text)\n",
    "\n",
    "products_data = pd.DataFrame(data={'name':name_products, 'price':price})# Датафрейм с данными о названии и цене товара\n",
    "print(products_data.head())"
   ],
   "metadata": {
    "collapsed": false,
    "pycharm": {
     "name": "#%%\n"
    }
   }
  }
 ],
 "metadata": {
  "kernelspec": {
   "display_name": "Python 3",
   "language": "python",
   "name": "python3"
  },
  "language_info": {
   "codemirror_mode": {
    "name": "ipython",
    "version": 2
   },
   "file_extension": ".py",
   "mimetype": "text/x-python",
   "name": "python",
   "nbconvert_exporter": "python",
   "pygments_lexer": "ipython2",
   "version": "2.7.6"
  }
 },
 "nbformat": 4,
 "nbformat_minor": 0
}