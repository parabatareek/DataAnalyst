{
 "cells": [
  {
   "cell_type": "markdown",
   "source": [
    "# 1.\n",
    "В прошлом уроке вы спарсили данные с сайта погоды. Однако видели не все ключи этого словаря. Например, есть ключ info c информацией о населённом пункте из прогноза. Обработайте текстовое содержание ответа response.text методом json.loads() и сохраните результат в переменной response_parsed. Получите данные по ключу 'info'. Распечатайте их на экране.\n",
    "\n",
    "Подсказка\n",
    "Передайте response_parsed['info'] функции print()."
   ],
   "metadata": {
    "collapsed": false,
    "pycharm": {
     "name": "#%% md\n"
    }
   }
  },
  {
   "cell_type": "code",
   "execution_count": null,
   "outputs": [],
   "source": [
    "import requests\n",
    "import json\n",
    "\n",
    "BASE_URL = \"https://weather.data-analyst.praktikum-services.ru/v1/forecast\"\n",
    "\n",
    "params = {\n",
    "    \"city\" : \"Moscow\"\n",
    "}\n",
    "\n",
    "response = requests.get(BASE_URL, params=params)\n",
    "response_parsed = json.loads(response.text)\n",
    "print(response_parsed['info'])"
   ],
   "metadata": {
    "collapsed": false,
    "pycharm": {
     "name": "#%%\n"
    }
   }
  },
  {
   "cell_type": "markdown",
   "source": [
    "# 2.\n",
    "Получите данные о фактической погоде из ответа. Их передаёт ключ fact.\n",
    "Обработайте текстовое содержание ответа response.text методом json.loads() и сохраните результат в переменной response_parsed. Получите данные по ключу 'fact'. Распечатайте их на экране.\n",
    "\n",
    "Подсказка\n",
    "Передайте response_parsed['fact'] функции print()."
   ],
   "metadata": {
    "collapsed": false,
    "pycharm": {
     "name": "#%% md\n"
    }
   }
  },
  {
   "cell_type": "code",
   "execution_count": null,
   "outputs": [],
   "source": [
    "import requests\n",
    "import json\n",
    "\n",
    "BASE_URL = \"https://weather.data-analyst.praktikum-services.ru/v1/forecast\"\n",
    "\n",
    "params = {\"city\" : \"Moscow\"}\n",
    "\n",
    "response = requests.get(BASE_URL, params=params)\n",
    "response_parsed = json.loads(response.text)\n",
    "print(response_parsed['fact'])"
   ],
   "metadata": {
    "collapsed": false,
    "pycharm": {
     "name": "#%%\n"
    }
   }
  },
  {
   "cell_type": "markdown",
   "source": [
    "# 3.\n",
    "Получите данные о фактической погоде и сконвертируйте их обратно в JSON.\n",
    "Обработайте текстовое содержание ответа response.text методом json.loads() и сохраните результат в переменной response_parsed. Получите данные по ключу 'fact', и сохраните их в переменной fact_weather. Передайте эту переменную методу json.dumps() в аргументе функции print().\n",
    "\n",
    "Подсказка\n",
    "Передайте функции print() выражение: json.dumps(fact_weather)."
   ],
   "metadata": {
    "collapsed": false,
    "pycharm": {
     "name": "#%% md\n"
    }
   }
  },
  {
   "cell_type": "code",
   "execution_count": 5,
   "outputs": [
    {
     "name": "stdout",
     "output_type": "stream",
     "text": [
      "{\"temp\": 28, \"feels_like\": 28, \"icon\": \"bkn_d\", \"condition\": \"cloudy\", \"wind_speed\": 1, \"wind_gust\": 6.9, \"wind_dir\": \"w\", \"pressure_mm\": 752, \"pressure_pa\": 1003, \"humidity\": 39, \"uv_index\": 2, \"soil_temp\": 24, \"soil_moisture\": 0.36, \"daytime\": \"d\", \"polar\": false, \"season\": \"summer\", \"obs_time\": 1566306726, \"accum_prec\": {\"1\": 0, \"3\": 0, \"7\": 0}, \"source\": \"station\", \"_mode\": \"nearest(16:tp)\"}\n"
     ]
    }
   ],
   "source": [
    "import requests\n",
    "import json\n",
    "\n",
    "BASE_URL = \"https://weather.data-analyst.praktikum-services.ru/v1/forecast\"\n",
    "\n",
    "params = {\n",
    "    \"city\" : \"Moscow\"\n",
    "}\n",
    "\n",
    "response = requests.get(BASE_URL, params=params)\n",
    "response_parsed = json.loads(response.text)\n",
    "fact_weather = response_parsed['fact']\n",
    "print(json.dumps(fact_weather))"
   ],
   "metadata": {
    "collapsed": false,
    "pycharm": {
     "name": "#%%\n"
    }
   }
  }
 ],
 "metadata": {
  "kernelspec": {
   "display_name": "Python 3",
   "language": "python",
   "name": "python3"
  },
  "language_info": {
   "codemirror_mode": {
    "name": "ipython",
    "version": 2
   },
   "file_extension": ".py",
   "mimetype": "text/x-python",
   "name": "python",
   "nbconvert_exporter": "python",
   "pygments_lexer": "ipython2",
   "version": "2.7.6"
  }
 },
 "nbformat": 4,
 "nbformat_minor": 0
}