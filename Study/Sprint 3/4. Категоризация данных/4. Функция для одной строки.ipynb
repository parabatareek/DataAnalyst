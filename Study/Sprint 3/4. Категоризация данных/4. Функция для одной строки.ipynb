{
 "cells": [
  {
   "cell_type": "markdown",
   "metadata": {
    "collapsed": true,
    "pycharm": {
     "name": "#%% md\n"
    }
   },
   "source": [
    "# 1.\n",
    "Прочитайте файл с отзывами, размещённый по адресу: /datasets/support_log_grouped.csv\n",
    "Результат выведите на экран.\n",
    "\n",
    "Подсказка\n",
    "Прочитайте таблицу методом read_csv()."
   ]
  },
  {
   "cell_type": "code",
   "execution_count": 1,
   "outputs": [
    {
     "name": "stdout",
     "output_type": "stream",
     "text": [
      "   type_id  user_id  timestamp alert_group  importance\n",
      "0        1      311        311     высокий           1\n",
      "1        2      302        302     высокий           0\n",
      "2        3      606        606   критичный           0\n",
      "3        4      312        312     высокий           1\n",
      "4        5      586        586   критичный           1\n",
      "5        6      303        303     высокий           1\n",
      "6        7      283        283     средний           1\n",
      "7        8      297        297     средний           0\n"
     ]
    }
   ],
   "source": [
    "import pandas as pd\n",
    "support_log_grouped = pd.read_csv(filepath_or_buffer='../datasets/support_log_grouped.csv')\n",
    "print(support_log_grouped)"
   ],
   "metadata": {
    "collapsed": false,
    "pycharm": {
     "name": "#%%\n"
    }
   }
  },
  {
   "cell_type": "markdown",
   "source": [
    "# 2.\n",
    "Напишите функцию alert_group_importance(row), работающую в соответствии со следующей логикой:\n",
    "Если приоритет 'alert_group' средний, а важность 'importance' оценена в единицу, возвращать команду для отдела поддержки: 'обратить внимание';\n",
    "Если приоритет высокий, а важность — единица, возвращать: 'высокий риск';\n",
    "Если приоритет критичный, а важность — единица, возвращать: 'блокер';\n",
    "Во всех остальных случаях выводить: 'в порядке очереди'.\n",
    "Проверьте работоспособность функции для разных значений.\n",
    "Чтобы тренажёр принял решение, оставьте в переменной row_values значение ['высокий', 1].\n",
    "Не забудьте передать строке датафрейма названия столбцов.\n",
    "\n",
    "Подсказка\n",
    "`if alert_group=='средний': if importance==1: return 'обратить внимание'\n",
    "if alert_group=='высокий': if importance== 1: return 'высокий риск'\n",
    "if alert_group=='критичный': if importance== 1: return 'блокер'\n",
    "return 'в порядке очереди'`"
   ],
   "metadata": {
    "collapsed": false,
    "pycharm": {
     "name": "#%% md\n"
    }
   }
  },
  {
   "cell_type": "code",
   "execution_count": 6,
   "outputs": [
    {
     "name": "stdout",
     "output_type": "stream",
     "text": [
      "высокий риск\n"
     ]
    }
   ],
   "source": [
    "def alert_group(row):\n",
    "    if row['alert_group'] == 'средний' and row['importance'] == 1: return 'обратить внимание'\n",
    "    elif row['alert_group'] == 'высокий' and row['importance'] == 1: return 'высокий риск'\n",
    "    elif row['alert_group']=='критичный' and row['importance']== 1: return 'блокер'\n",
    "    else: return 'в порядке очереди'\n",
    "\n",
    "row_values = ['высокий', 1]\n",
    "row_columns = ['alert_group', 'importance']\n",
    "row = pd.Series(data=row_values, index=row_columns)\n",
    "print(alert_group(row))"
   ],
   "metadata": {
    "collapsed": false,
    "pycharm": {
     "name": "#%%\n"
    }
   }
  },
  {
   "cell_type": "markdown",
   "source": [
    "# 3.\n",
    "Создайте новый столбец 'importance_status' и сохраните в нём результаты работы функции alert_group_importance().\n",
    "Результат выведите на экран.\n",
    "\n",
    "Подсказка\n",
    "Примените метод apply(alert_group_importance, axis=1) к датасету support_log_grouped.\n",
    "Результат сохраните в столбце: support_log_grouped['importance_status']"
   ],
   "metadata": {
    "collapsed": false,
    "pycharm": {
     "name": "#%% md\n"
    }
   }
  },
  {
   "cell_type": "code",
   "execution_count": 5,
   "outputs": [
    {
     "name": "stdout",
     "output_type": "stream",
     "text": [
      "   type_id  user_id  timestamp alert_group  importance\n",
      "0        1      311        311     высокий           1\n",
      "1        2      302        302     высокий           0\n",
      "2        3      606        606   критичный           0\n",
      "3        4      312        312     высокий           1\n",
      "4        5      586        586   критичный           1\n",
      "5        6      303        303     высокий           1\n",
      "6        7      283        283     средний           1\n",
      "7        8      297        297     средний           0\n"
     ]
    }
   ],
   "source": [
    "print(support_log_grouped)"
   ],
   "metadata": {
    "collapsed": false,
    "pycharm": {
     "name": "#%%\n"
    }
   }
  },
  {
   "cell_type": "code",
   "execution_count": 7,
   "outputs": [
    {
     "name": "stdout",
     "output_type": "stream",
     "text": [
      "   type_id  user_id  timestamp alert_group  importance  importance_status\n",
      "0        1      311        311     высокий           1       высокий риск\n",
      "1        2      302        302     высокий           0  в порядке очереди\n",
      "2        3      606        606   критичный           0  в порядке очереди\n",
      "3        4      312        312     высокий           1       высокий риск\n",
      "4        5      586        586   критичный           1             блокер\n",
      "5        6      303        303     высокий           1       высокий риск\n",
      "6        7      283        283     средний           1  обратить внимание\n",
      "7        8      297        297     средний           0  в порядке очереди\n"
     ]
    }
   ],
   "source": [
    "support_log_grouped['importance_status'] = support_log_grouped.apply(alert_group, axis=1)\n",
    "print(support_log_grouped)"
   ],
   "metadata": {
    "collapsed": false,
    "pycharm": {
     "name": "#%%\n"
    }
   }
  },
  {
   "cell_type": "markdown",
   "source": [
    "# 4.\n",
    "Узнайте, сколько разных статусов в столбце 'importance_status'. Результат выведите на экран.\n",
    "\n",
    "Подсказка\n",
    "Примените метод value_counts() к столбцу 'importance_status'."
   ],
   "metadata": {
    "collapsed": false,
    "pycharm": {
     "name": "#%% md\n"
    }
   }
  },
  {
   "cell_type": "code",
   "execution_count": 12,
   "outputs": [
    {
     "name": "stdout",
     "output_type": "stream",
     "text": [
      "высокий риск         3\n",
      "в порядке очереди    3\n",
      "блокер               1\n",
      "обратить внимание    1\n",
      "Name: importance_status, dtype: int64\n"
     ]
    }
   ],
   "source": [
    "print(support_log_grouped['importance_status'].value_counts())"
   ],
   "metadata": {
    "collapsed": false,
    "pycharm": {
     "name": "#%%\n"
    }
   }
  }
 ],
 "metadata": {
  "kernelspec": {
   "display_name": "Python 3",
   "language": "python",
   "name": "python3"
  },
  "language_info": {
   "codemirror_mode": {
    "name": "ipython",
    "version": 2
   },
   "file_extension": ".py",
   "mimetype": "text/x-python",
   "name": "python",
   "nbconvert_exporter": "python",
   "pygments_lexer": "ipython2",
   "version": "2.7.6"
  }
 },
 "nbformat": 4,
 "nbformat_minor": 0
}