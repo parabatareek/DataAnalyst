{
 "cells": [
  {
   "cell_type": "markdown",
   "metadata": {
    "collapsed": true,
    "pycharm": {
     "name": "#%% md\n"
    }
   },
   "source": [
    "# 1.\n",
    "Сгруппируйте данные по типу события и посчитайте количество событий.\n",
    "Сохраните группировку в переменной support_log_grouped и выведите её на экран.\n",
    "\n",
    "Подсказка\n",
    "Для группировки примените метод groupby() к столбцу 'type_id' таблицы support_log и последовательно вызовите метод count()."
   ]
  },
  {
   "cell_type": "code",
   "execution_count": 1,
   "outputs": [],
   "source": [
    "import pandas as pd\n",
    "support_log = pd.read_csv('../datasets/support_log.csv')"
   ],
   "metadata": {
    "collapsed": false,
    "pycharm": {
     "name": "#%%\n"
    }
   }
  },
  {
   "cell_type": "code",
   "execution_count": 2,
   "outputs": [
    {
     "name": "stdout",
     "output_type": "stream",
     "text": [
      "         Unnamed: 0  user_id  timestamp\n",
      "type_id                                \n",
      "1               311      311        311\n",
      "2               302      302        302\n",
      "3               606      606        606\n",
      "4               312      312        312\n",
      "5               586      586        586\n",
      "6               303      303        303\n",
      "7               283      283        283\n",
      "8               297      297        297\n"
     ]
    }
   ],
   "source": [
    "support_log_grouped = support_log.groupby(by='type_id').count()\n",
    "print(support_log_grouped)"
   ],
   "metadata": {
    "collapsed": false,
    "pycharm": {
     "name": "#%%\n"
    }
   }
  },
  {
   "cell_type": "markdown",
   "source": [
    "# 2.\n",
    "Напишите функцию alert_group(messages) , которая оценивает приоритет в зависимости от количества сообщений.\n",
    "Если параметр не более 300, она должна возвращать строку 'средний',\n",
    "если значение параметра от 301 до 500 включительно, тогда строку 'высокий'.\n",
    "Для более высоких значений должна возвращаться строка 'критичный'.\n",
    "Проверьте, что ваша функция отвечает верно, когда ей передают числа 10, 450, 1000.\n",
    "Каждое значение выводите на новой строке.\n",
    "\n",
    "Подсказка\n",
    "В теле функции создайте два условия if с директивой return."
   ],
   "metadata": {
    "collapsed": false,
    "pycharm": {
     "name": "#%% md\n"
    }
   }
  },
  {
   "cell_type": "code",
   "execution_count": 4,
   "outputs": [
    {
     "name": "stdout",
     "output_type": "stream",
     "text": [
      "средний\n",
      "высокий\n",
      "критичный\n"
     ]
    }
   ],
   "source": [
    "def alert_group(messages):\n",
    "    if messages <= 300: return 'средний'\n",
    "    elif  301 <= messages <= 500: return 'высокий'\n",
    "    else: return 'критичный'\n",
    "\n",
    "print(alert_group(10))\n",
    "print(alert_group(450))\n",
    "print(alert_group(1000))"
   ],
   "metadata": {
    "collapsed": false,
    "pycharm": {
     "name": "#%%\n"
    }
   }
  },
  {
   "cell_type": "markdown",
   "source": [
    "# 3.\n",
    "Добавьте таблице support_log_grouped столбец 'alert_group', где хранятся результаты применения вашей функции alert_group().\n",
    "Закомментируйте результаты предыдущего задания.\n",
    "Посмотрите верхние 10 строк support_log_grouped: убедитесь, что функция правильно расставила приоритеты.\n",
    "\n",
    "Подсказка\n",
    "Создавайте новый столбец вызовом метода apply() так: support_log_grouped['user_id'].apply(alert_group)."
   ],
   "metadata": {
    "collapsed": false,
    "pycharm": {
     "name": "#%% md\n"
    }
   }
  },
  {
   "cell_type": "code",
   "execution_count": 6,
   "outputs": [
    {
     "name": "stdout",
     "output_type": "stream",
     "text": [
      "         Unnamed: 0  user_id  timestamp alert_group\n",
      "type_id                                            \n",
      "1               311      311        311     высокий\n",
      "2               302      302        302     высокий\n",
      "3               606      606        606   критичный\n",
      "4               312      312        312     высокий\n",
      "5               586      586        586   критичный\n",
      "6               303      303        303     высокий\n",
      "7               283      283        283     средний\n",
      "8               297      297        297     средний\n"
     ]
    }
   ],
   "source": [
    "support_log_grouped['alert_group'] = support_log_grouped['user_id'].apply(alert_group)\n",
    "print(support_log_grouped.head(10))"
   ],
   "metadata": {
    "collapsed": false,
    "pycharm": {
     "name": "#%%\n"
    }
   }
  },
  {
   "cell_type": "markdown",
   "source": [
    "# 4.\n",
    "Посчитайте количество обращений по каждому приоритету.\n",
    "\n",
    "Подсказка\n",
    "Для подсчета количества обращений по приоритету примените к столбцу 'alert_group' метод groupby()."
   ],
   "metadata": {
    "collapsed": false,
    "pycharm": {
     "name": "#%% md\n"
    }
   }
  },
  {
   "cell_type": "code",
   "execution_count": 9,
   "outputs": [
    {
     "name": "stdout",
     "output_type": "stream",
     "text": [
      "alert_group\n",
      "высокий      1228\n",
      "критичный    1192\n",
      "средний       580\n",
      "Name: user_id, dtype: int64\n"
     ]
    }
   ],
   "source": [
    "print(support_log_grouped.groupby(by='alert_group')['user_id'].sum())"
   ],
   "metadata": {
    "collapsed": false,
    "pycharm": {
     "name": "#%%\n"
    }
   }
  }
 ],
 "metadata": {
  "kernelspec": {
   "display_name": "Python 3",
   "language": "python",
   "name": "python3"
  },
  "language_info": {
   "codemirror_mode": {
    "name": "ipython",
    "version": 2
   },
   "file_extension": ".py",
   "mimetype": "text/x-python",
   "name": "python",
   "nbconvert_exporter": "python",
   "pygments_lexer": "ipython2",
   "version": "2.7.6"
  }
 },
 "nbformat": 4,
 "nbformat_minor": 0
}