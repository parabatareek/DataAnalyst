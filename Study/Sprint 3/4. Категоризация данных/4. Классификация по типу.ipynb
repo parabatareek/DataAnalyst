{
 "cells": [
  {
   "cell_type": "markdown",
   "metadata": {
    "collapsed": true,
    "pycharm": {
     "name": "#%% md\n"
    }
   },
   "source": [
    "# 1.\n",
    "Уточните, сколько раз встречается каждый тип обращений. Результат выведите на экран.\n",
    "\n",
    "Подсказка\n",
    "Примените метод value_counts() к столбцу 'type_message' для подсчёта количества типов обращений в поддержку."
   ]
  },
  {
   "cell_type": "code",
   "execution_count": 4,
   "outputs": [
    {
     "name": "stdout",
     "output_type": "stream",
     "text": [
      "Жалоба на товар в магазине      606\n",
      "Мошенничество                   586\n",
      "Продажа поддельной продукции    312\n",
      "Не работает сайт                311\n",
      "Продажа запрещенных товаров     303\n",
      "Накрутка отзывов                302\n",
      "Жалоба на видеообзор            297\n",
      "Отзыв удалён                    283\n",
      "Name: type_message, dtype: int64\n"
     ]
    }
   ],
   "source": [
    "import pandas as pd\n",
    "support = pd.read_csv(filepath_or_buffer='../datasets/support_upd.csv')\n",
    "print(support['type_message'].value_counts())"
   ],
   "metadata": {
    "collapsed": false,
    "pycharm": {
     "name": "#%%\n"
    }
   }
  },
  {
   "cell_type": "markdown",
   "source": [
    "# 2.\n",
    "Создайте новую таблицу support_log.\n",
    "Из таблицы support перенесите следующие столбцы: 'user_id', 'type_id', 'timestamp'.\n",
    "Первые 10 строк support_log напечатайте на экране.\n",
    "\n",
    "Подсказка\n",
    "Примените условие 'user_id', 'type_id', 'timestamp' к таблице support. Результат сохраните в новую таблицу support_log."
   ],
   "metadata": {
    "collapsed": false,
    "pycharm": {
     "name": "#%% md\n"
    }
   }
  },
  {
   "cell_type": "code",
   "execution_count": 5,
   "outputs": [
    {
     "name": "stdout",
     "output_type": "stream",
     "text": [
      "    user_id  type_id            timestamp\n",
      "0  DNcd8dnS        3  2019-03-28 13:58:24\n",
      "1  0e9MvwGs        5  2019-03-08 17:11:59\n",
      "2  boyDUG4C        5  2019-03-03 17:52:34\n",
      "3  5jMA27s1        3  2019-03-16 15:18:21\n",
      "4  wvtyctOK        2  2019-03-13 14:43:14\n",
      "5  zvN8W1tc        8  2019-03-29 20:32:17\n",
      "6  bBmybSbr        1  2019-04-08 21:37:15\n",
      "7  5JX1P5G8        6  2019-04-06 12:15:20\n",
      "8  pbbG3xWx        1  2019-04-09 17:30:43\n",
      "9  vZWtTovT        3  2019-04-16 12:26:16\n"
     ]
    }
   ],
   "source": [
    "support_log = support[['user_id', 'type_id', 'timestamp']]\n",
    "print(support_log.head(10))"
   ],
   "metadata": {
    "collapsed": false,
    "pycharm": {
     "name": "#%%\n"
    }
   }
  },
  {
   "cell_type": "markdown",
   "source": [
    "# 3.\n",
    "Создайте новую таблицу support_dict.\n",
    "Из таблицы support перенесите следующие столбцы: 'type_message', 'type_id'.\n",
    "Первые 10 строк support_dict выведите на экран.\n",
    "\n",
    "Подсказка\n",
    "Примените условие 'type_message', 'type_id' к таблице support. Результат сохраните в новой таблице support_dict."
   ],
   "metadata": {
    "collapsed": false,
    "pycharm": {
     "name": "#%% md\n"
    }
   }
  },
  {
   "cell_type": "code",
   "execution_count": 6,
   "outputs": [
    {
     "name": "stdout",
     "output_type": "stream",
     "text": [
      "                  type_message  type_id\n",
      "0   Жалоба на товар в магазине        3\n",
      "1                Мошенничество        5\n",
      "2                Мошенничество        5\n",
      "3   Жалоба на товар в магазине        3\n",
      "4             Накрутка отзывов        2\n",
      "5         Жалоба на видеообзор        8\n",
      "6             Не работает сайт        1\n",
      "7  Продажа запрещенных товаров        6\n",
      "8             Не работает сайт        1\n",
      "9   Жалоба на товар в магазине        3\n"
     ]
    }
   ],
   "source": [
    "support_dict = support[['type_message', 'type_id']]\n",
    "print(support_dict.head(10))"
   ],
   "metadata": {
    "collapsed": false,
    "pycharm": {
     "name": "#%%\n"
    }
   }
  },
  {
   "cell_type": "markdown",
   "source": [
    "# 4.\n",
    "Удалите дубликаты в таблице support_dict и распечатайте её в порядке возрастания значений столбца type_id.\n",
    "\n",
    "Подсказка\n",
    "Вызовите последовательно: drop_duplicates() и reset_index(drop=True).\n",
    "Для вывода на экран передайте print() в качестве аргумента выражение: (support_dict.sort_values('type_id'))"
   ],
   "metadata": {
    "collapsed": false,
    "pycharm": {
     "name": "#%% md\n"
    }
   }
  },
  {
   "cell_type": "code",
   "execution_count": 7,
   "outputs": [
    {
     "name": "stdout",
     "output_type": "stream",
     "text": [
      "                   type_message  type_id\n",
      "4              Не работает сайт        1\n",
      "2              Накрутка отзывов        2\n",
      "0    Жалоба на товар в магазине        3\n",
      "6  Продажа поддельной продукции        4\n",
      "1                 Мошенничество        5\n",
      "5   Продажа запрещенных товаров        6\n",
      "7                  Отзыв удалён        7\n",
      "3          Жалоба на видеообзор        8\n"
     ]
    }
   ],
   "source": [
    "support_dict = support_dict.drop_duplicates().reset_index(drop=True)\n",
    "print(support_dict.sort_values('type_id'))"
   ],
   "metadata": {
    "collapsed": false,
    "pycharm": {
     "name": "#%%\n"
    }
   }
  }
 ],
 "metadata": {
  "kernelspec": {
   "display_name": "Python 3",
   "language": "python",
   "name": "python3"
  },
  "language_info": {
   "codemirror_mode": {
    "name": "ipython",
    "version": 2
   },
   "file_extension": ".py",
   "mimetype": "text/x-python",
   "name": "python",
   "nbconvert_exporter": "python",
   "pygments_lexer": "ipython2",
   "version": "2.7.6"
  }
 },
 "nbformat": 4,
 "nbformat_minor": 0
}