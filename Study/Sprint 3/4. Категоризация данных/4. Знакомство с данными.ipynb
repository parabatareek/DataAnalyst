{
 "cells": [
  {
   "cell_type": "markdown",
   "metadata": {
    "collapsed": true,
    "pycharm": {
     "name": "#%% md\n"
    }
   },
   "source": [
    "# 1.\n",
    "Прочитайте файл с отзывами, размещённый по адресу: /datasets/support.csv\n",
    "Сохраните таблицу в переменной support. Выведите первые 10 строк.\n",
    "Путь к файлу: /datasets/support.csv\n",
    "\n",
    "Подсказка\n",
    "Для просмотра первых строк таблицы вызовите метод head()."
   ]
  },
  {
   "cell_type": "code",
   "execution_count": 3,
   "outputs": [
    {
     "name": "stdout",
     "output_type": "stream",
     "text": [
      "    user_id                Тип обращения  type_id      Время обращения\n",
      "0  DNcd8dnS   Жалоба на товар в магазине        3  2019-03-28 13:58:24\n",
      "1  0e9MvwGs                Мошенничество        5  2019-03-08 17:11:59\n",
      "2  boyDUG4C                Мошенничество        5  2019-03-03 17:52:34\n",
      "3  5jMA27s1   Жалоба на товар в магазине        3  2019-03-16 15:18:21\n",
      "4  wvtyctOK             Накрутка отзывов        2  2019-03-13 14:43:14\n",
      "5  zvN8W1tc         Жалоба на видеообзор        8  2019-03-29 20:32:17\n",
      "6  bBmybSbr             Не работает сайт        1  2019-04-08 21:37:15\n",
      "7  5JX1P5G8  Продажа запрещенных товаров        6  2019-04-06 12:15:20\n",
      "8  pbbG3xWx             Не работает сайт        1  2019-04-09 17:30:43\n",
      "9  vZWtTovT   Жалоба на товар в магазине        3  2019-04-16 12:26:16\n"
     ]
    }
   ],
   "source": [
    "import pandas as pd\n",
    "support = pd.read_csv(filepath_or_buffer='../datasets/support.csv')\n",
    "print(support.head(10))"
   ],
   "metadata": {
    "collapsed": false,
    "pycharm": {
     "name": "#%%\n"
    }
   }
  },
  {
   "cell_type": "markdown",
   "source": [
    "# 2.\n",
    "Просмотрите общую информацию о наборе данных.\n",
    "\n",
    "Подсказка\n",
    "Вызовите метод info()."
   ],
   "metadata": {
    "collapsed": false,
    "pycharm": {
     "name": "#%% md\n"
    }
   }
  },
  {
   "cell_type": "code",
   "execution_count": 4,
   "outputs": [
    {
     "name": "stdout",
     "output_type": "stream",
     "text": [
      "<class 'pandas.core.frame.DataFrame'>\n",
      "RangeIndex: 3000 entries, 0 to 2999\n",
      "Data columns (total 4 columns):\n",
      " #   Column           Non-Null Count  Dtype \n",
      "---  ------           --------------  ----- \n",
      " 0   user_id          3000 non-null   object\n",
      " 1   Тип обращения    3000 non-null   object\n",
      " 2   type_id          3000 non-null   int64 \n",
      " 3   Время обращения  3000 non-null   object\n",
      "dtypes: int64(1), object(3)\n",
      "memory usage: 93.9+ KB\n"
     ]
    }
   ],
   "source": [
    "support.info()"
   ],
   "metadata": {
    "collapsed": false,
    "pycharm": {
     "name": "#%%\n"
    }
   }
  },
  {
   "cell_type": "markdown",
   "source": [
    "# 3.\n",
    "Замените названия столбцов методом set_axis():\n",
    "\n",
    "    Тип обращения поменяйте на type_message;\n",
    "    Время обращения — на timestamp.\n",
    "\n",
    "Столбцы user_id и type_id оставьте без изменений.\n",
    "Проверьте успешность замены методом info()."
   ],
   "metadata": {
    "collapsed": false,
    "pycharm": {
     "name": "#%% md\n"
    }
   }
  },
  {
   "cell_type": "code",
   "execution_count": 9,
   "outputs": [
    {
     "name": "stdout",
     "output_type": "stream",
     "text": [
      "<class 'pandas.core.frame.DataFrame'>\n",
      "RangeIndex: 3000 entries, 0 to 2999\n",
      "Data columns (total 4 columns):\n",
      " #   Column        Non-Null Count  Dtype \n",
      "---  ------        --------------  ----- \n",
      " 0   user_id       3000 non-null   object\n",
      " 1   type_message  3000 non-null   object\n",
      " 2   type_id       3000 non-null   int64 \n",
      " 3   timestamp     3000 non-null   object\n",
      "dtypes: int64(1), object(3)\n",
      "memory usage: 93.9+ KB\n"
     ]
    }
   ],
   "source": [
    "support.set_axis(labels=['user_id', 'type_message', 'type_id', 'timestamp'], axis='columns', inplace=True)\n",
    "print(support.info())"
   ],
   "metadata": {
    "collapsed": false,
    "pycharm": {
     "name": "#%%\n"
    }
   }
  }
 ],
 "metadata": {
  "kernelspec": {
   "display_name": "Python 3",
   "language": "python",
   "name": "python3"
  },
  "language_info": {
   "codemirror_mode": {
    "name": "ipython",
    "version": 2
   },
   "file_extension": ".py",
   "mimetype": "text/x-python",
   "name": "python",
   "nbconvert_exporter": "python",
   "pygments_lexer": "ipython2",
   "version": "2.7.6"
  }
 },
 "nbformat": 4,
 "nbformat_minor": 0
}