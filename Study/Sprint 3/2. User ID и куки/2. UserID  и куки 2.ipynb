{
 "cells": [
  {
   "cell_type": "markdown",
   "metadata": {},
   "source": [
    "# 3.\n",
    "Посчитайте количество уникальных email и уникальных User ID в таблице logs.\n",
    "Выведите результат на экран в таком виде:\n",
    "\n",
    "Уникальных email: ...\n",
    "Уникальных User ID: ... \n",
    "Подсказка:\n",
    "Уникальные электронные адреса ищите так: unique_emails = logs['email'].unique(). Для подсчёта количества значений вызовите функцию len()."
   ]
  },
  {
   "cell_type": "code",
   "execution_count": 1,
   "metadata": {},
   "outputs": [],
   "source": [
    "import pandas as pd"
   ]
  },
  {
   "cell_type": "code",
   "execution_count": 7,
   "metadata": {},
   "outputs": [
    {
     "name": "stdout",
     "output_type": "stream",
     "text": [
      "Уникальных email: 6063\n",
      "Уникальных User ID: 86571\n"
     ]
    }
   ],
   "source": [
    "logs = pd.read_csv('../datasets/logs.csv')\n",
    "print(f'Уникальных email: {len(logs.email.unique())}')\n",
    "print(f'Уникальных User ID: {len(logs.user_id.unique())}')"
   ]
  }
 ],
 "metadata": {
  "interpreter": {
   "hash": "7b324082f296f9c0c9f55c2331d97876e2a62b6436f0b133412526fa887917c1"
  },
  "kernelspec": {
   "display_name": "Python 3.10.1 64-bit ('data_analyst': venv)",
   "language": "python",
   "name": "python3"
  },
  "language_info": {
   "codemirror_mode": {
    "name": "ipython",
    "version": 3
   },
   "file_extension": ".py",
   "mimetype": "text/x-python",
   "name": "python",
   "nbconvert_exporter": "python",
   "pygments_lexer": "ipython3",
   "version": "3.10.1"
  },
  "orig_nbformat": 4
 },
 "nbformat": 4,
 "nbformat_minor": 2
}
