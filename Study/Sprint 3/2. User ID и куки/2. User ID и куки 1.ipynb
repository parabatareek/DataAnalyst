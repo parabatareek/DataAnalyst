{
 "cells": [
  {
   "cell_type": "markdown",
   "metadata": {},
   "source": [
    "# 1.\n",
    "Взгляните на присланную разработчиками таблицу. Она называется logs, так как в ней отражены логи — данные о посещениях сайта.\n",
    "В таблице четыре столбца:\n",
    "\n",
    "    user_id — идентификатор пользователя;\n",
    "    email подписчика рассылки;\n",
    "    source, источник трафика;\n",
    "    purchase, факт покупки: со значением 1, если покупка состоялась, 0 — не состоялась.\n",
    "\n",
    "Каждая строчка в таблице соответствует визиту на сайт. User ID, источник трафика и факт покупки можно получить из Яндекс.Метрики, а адреса электронной почты — из базы тех, кто подписался на email-рассылку. Когда к набору полученных определённым образом данных добавляют информацию из другого источника, это называется обогащение данных.\n",
    "Прочтите содержимое файла logs.csv и сохраните его в датафрейме logs. Ознакомьтесь с данными, вызвав метод head().\n",
    "Путь к файлу: /datasets/logs.csv\n",
    "\n",
    "Подсказка:\n",
    "Вызовите метод read_csv() из библиотеки pandas, передайте ему как аргумент строку '/datasets/logs.csv' и методом head() покажите первые пять строк таблицы."
   ]
  },
  {
   "cell_type": "code",
   "execution_count": 2,
   "metadata": {},
   "outputs": [],
   "source": [
    "import pandas as pd"
   ]
  },
  {
   "cell_type": "code",
   "execution_count": 5,
   "metadata": {},
   "outputs": [
    {
     "name": "stdout",
     "output_type": "stream",
     "text": [
      "<bound method NDFrame.head of            user_id   source       email  purchase\n",
      "0       7141786820    other         NaN         0\n",
      "1       5644686960    email  c129aa540a         0\n",
      "2       1914055396  context         NaN         0\n",
      "3       4099355752    other         NaN         0\n",
      "4       6032477554  context         NaN         1\n",
      "...            ...      ...         ...       ...\n",
      "199995  8714621942    other         NaN         0\n",
      "199996  6064948744  context         NaN         1\n",
      "199997  9210683879  context         NaN         0\n",
      "199998  1629959686    other         NaN         1\n",
      "199999  2089329795    other         NaN         0\n",
      "\n",
      "[200000 rows x 4 columns]>\n"
     ]
    },
    {
     "data": {
      "text/plain": [
       "0         0\n",
       "1         0\n",
       "2         0\n",
       "3         0\n",
       "4         1\n",
       "         ..\n",
       "199995    0\n",
       "199996    1\n",
       "199997    0\n",
       "199998    1\n",
       "199999    0\n",
       "Name: purchase, Length: 200000, dtype: int64"
      ]
     },
     "execution_count": 5,
     "metadata": {},
     "output_type": "execute_result"
    }
   ],
   "source": [
    "logs = pd.read_csv(filepath_or_buffer='../datasets/logs.csv')\n",
    "print(logs.head)"
   ]
  }
 ],
 "metadata": {
  "interpreter": {
   "hash": "7b324082f296f9c0c9f55c2331d97876e2a62b6436f0b133412526fa887917c1"
  },
  "kernelspec": {
   "display_name": "Python 3.10.1 64-bit ('data_analyst': venv)",
   "language": "python",
   "name": "python3"
  },
  "language_info": {
   "codemirror_mode": {
    "name": "ipython",
    "version": 3
   },
   "file_extension": ".py",
   "mimetype": "text/x-python",
   "name": "python",
   "nbconvert_exporter": "python",
   "pygments_lexer": "ipython3",
   "version": "3.10.1"
  },
  "orig_nbformat": 4
 },
 "nbformat": 4,
 "nbformat_minor": 2
}
