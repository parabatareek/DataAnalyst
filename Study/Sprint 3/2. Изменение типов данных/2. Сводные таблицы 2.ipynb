{
 "cells": [
  {
   "cell_type": "markdown",
   "metadata": {
    "collapsed": true,
    "pycharm": {
     "name": "#%% md\n"
    }
   },
   "source": [
    "2.\n",
    "Создайте в таблице data_pivot новый столбец 'ratio' и сохраните в нём значение отношения органического трафика 'organic' к прямому 'direct'.\n",
    "Выведите первые 10 строк таблицы на экран.\n",
    "\n",
    "Подсказка\n",
    "Для получения данных из таблицы обращайтесь к столбцам: data_pivot['organic'] и data_pivot['direct']."
   ]
  },
  {
   "cell_type": "code",
   "execution_count": 2,
   "outputs": [],
   "source": [
    "import pandas as pd\n",
    "data_final = pd.read_csv('../datasets/data_final.csv')\n",
    "data_pivot = data_final.pivot_table(index=['category_name', 'subcategory_name'], columns='source', values='visits', aggfunc='sum')"
   ],
   "metadata": {
    "collapsed": false,
    "pycharm": {
     "name": "#%%\n"
    }
   }
  },
  {
   "cell_type": "code",
   "execution_count": 3,
   "outputs": [
    {
     "name": "stdout",
     "output_type": "stream",
     "text": [
      "source                                    direct  organic     ratio\n",
      "category_name subcategory_name                                     \n",
      "Авто          Автоакустика                  5915    15433  2.609129\n",
      "              Автомагнитолы                 7783    18690  2.401388\n",
      "              Автомобильные инверторы        145      150  1.034483\n",
      "              Автомобильные компрессоры      407      790  1.941032\n",
      "              Автомобильные телевизоры       975     2246  2.303590\n",
      "              Автомобильные холодильники     204      285  1.397059\n",
      "              Автосигнализации               494     1026  2.076923\n",
      "              Аккумуляторные батареи        1175     2657  2.261277\n",
      "              Антифризы                      736     1568  2.130435\n",
      "              Багажники, рейлинги            342      664  1.941520\n"
     ]
    }
   ],
   "source": [
    "data_pivot['ratio'] = data_pivot['organic'] / data_pivot['direct']\n",
    "print(data_pivot.head(10))"
   ],
   "metadata": {
    "collapsed": false,
    "pycharm": {
     "name": "#%%\n"
    }
   }
  }
 ],
 "metadata": {
  "kernelspec": {
   "display_name": "Python 3",
   "language": "python",
   "name": "python3"
  },
  "language_info": {
   "codemirror_mode": {
    "name": "ipython",
    "version": 2
   },
   "file_extension": ".py",
   "mimetype": "text/x-python",
   "name": "python",
   "nbconvert_exporter": "python",
   "pygments_lexer": "ipython2",
   "version": "2.7.6"
  }
 },
 "nbformat": 4,
 "nbformat_minor": 0
}