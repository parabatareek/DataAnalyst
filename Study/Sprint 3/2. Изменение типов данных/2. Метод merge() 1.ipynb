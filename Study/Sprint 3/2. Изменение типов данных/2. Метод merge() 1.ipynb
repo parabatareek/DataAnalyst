{
 "cells": [
  {
   "cell_type": "markdown",
   "metadata": {
    "collapsed": true,
    "pycharm": {
     "name": "#%% md\n"
    }
   },
   "source": [
    "# 1.\n",
    "Объедините самостоятельно таблицы subcategory_dict и data. Результат сохраните в переменной data_subcategory и выведите на экран первые 10 строк новой таблицы.\n",
    "\n",
    "Подсказка\n",
    "В качестве аргументов укажите следующие значения: subcategory_dict, on='subcategory_id' и how='left'."
   ]
  },
  {
   "cell_type": "code",
   "execution_count": 1,
   "outputs": [],
   "source": [
    "import pandas as pd\n",
    "data = pd.read_excel('../datasets/seo_data.xlsx', sheet_name='traffic_data')\n",
    "subcategory_dict = pd.read_excel('../datasets/seo_data.xlsx', sheet_name='subcategory_ids')"
   ],
   "metadata": {
    "collapsed": false,
    "pycharm": {
     "name": "#%%import pandas as pd\n"
    }
   }
  },
  {
   "cell_type": "code",
   "execution_count": 2,
   "outputs": [
    {
     "name": "stdout",
     "output_type": "stream",
     "text": [
      "  subcategory_id  source         visits                subcategory_name  \\\n",
      "0     cf2e61c7af  direct  501165.668858              Мобильные телефоны   \n",
      "1     0cd903d1cc  direct  126342.359505                        Ноутбуки   \n",
      "2     ef35bc88a7  direct   95626.321402                      Телевизоры   \n",
      "3     6ff9f4014c  direct   75680.653002                        Планшеты   \n",
      "4     72bc238e4d  direct   64435.934651  Наушники и Bluetooth-гарнитуры   \n",
      "5     88c78ea685  direct   39638.202995                            Шины   \n",
      "6     179bfacf4a  direct   31007.471245           Умные часы и браслеты   \n",
      "7     b0fb8f259a  direct   30324.097324                        Мониторы   \n",
      "8     3c67eb2d90  direct   25878.814329                   Наручные часы   \n",
      "9     24e6c815c6  direct   25276.373358  Лекарственные препараты и БАДы   \n",
      "\n",
      "  category_id  \n",
      "0  09f279a643  \n",
      "1  3509869a61  \n",
      "2  09f279a643  \n",
      "3  3509869a61  \n",
      "4  09f279a643  \n",
      "5  65922fa39c  \n",
      "6  09f279a643  \n",
      "7  3509869a61  \n",
      "8  6074ad29ac  \n",
      "9  10a493e03b  \n"
     ]
    }
   ],
   "source": [
    "data_subcategory = data.merge(right=subcategory_dict, on='subcategory_id', how='left')\n",
    "print(data_subcategory.head(10))"
   ],
   "metadata": {
    "collapsed": false,
    "pycharm": {
     "name": "#%%\n"
    }
   }
  }
 ],
 "metadata": {
  "kernelspec": {
   "display_name": "Python 3",
   "language": "python",
   "name": "python3"
  },
  "language_info": {
   "codemirror_mode": {
    "name": "ipython",
    "version": 2
   },
   "file_extension": ".py",
   "mimetype": "text/x-python",
   "name": "python",
   "nbconvert_exporter": "python",
   "pygments_lexer": "ipython2",
   "version": "2.7.6"
  }
 },
 "nbformat": 4,
 "nbformat_minor": 0
}