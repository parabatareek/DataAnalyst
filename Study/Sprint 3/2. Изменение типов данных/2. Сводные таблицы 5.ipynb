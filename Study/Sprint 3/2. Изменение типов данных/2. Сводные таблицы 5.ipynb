{
 "cells": [
  {
   "cell_type": "markdown",
   "metadata": {
    "collapsed": true,
    "pycharm": {
     "name": "#%% md\n"
    }
   },
   "source": [
    "# 5.\n",
    "Отсортируйте таблицу по столбцу 'ratio' в порядке убывания и выведите последние 10 записей, где прямой трафик больше 1000.\n",
    "Выражение напишите в скобках функции print(), чтобы результат напечатался на экран.\n",
    "\n",
    "Подсказка\n",
    "Выведите строки таблицы data_pivot, удовлетворяющие условию: data_pivot['direct'] > 1000.\n",
    "Отсортированную таблицу сохранять не нужно."
   ]
  },
  {
   "cell_type": "code",
   "execution_count": 4,
   "outputs": [
    {
     "name": "stdout",
     "output_type": "stream",
     "text": [
      "source                                                       direct  organic  \\\n",
      "category_name              subcategory_name                                    \n",
      "Бытовая техника            Оверлоки и распошивальные машины    1536     3215   \n",
      "Товары для дома            Компьютерные и письменные столы     1999     4177   \n",
      "                           Люстры                              2016     4209   \n",
      "Строительство и ремонт     Дисковые пилы                       2040     4255   \n",
      "                           Воздушные компрессоры               1690     3520   \n",
      "Товары для здоровья        Бандажи и ортезы                    1659     3453   \n",
      "Строительство и ремонт     Нивелиры и лазерные уровни          1651     3436   \n",
      "Электроника                Защитные пленки и стекла            1560     3246   \n",
      "Одежда, обувь и аксессуары Туфли                               1035     2096   \n",
      "                           Сапоги                              1008     2021   \n",
      "\n",
      "source                                                          ratio  \n",
      "category_name              subcategory_name                            \n",
      "Бытовая техника            Оверлоки и распошивальные машины  2.093099  \n",
      "Товары для дома            Компьютерные и письменные столы   2.089545  \n",
      "                           Люстры                            2.087798  \n",
      "Строительство и ремонт     Дисковые пилы                     2.085784  \n",
      "                           Воздушные компрессоры             2.082840  \n",
      "Товары для здоровья        Бандажи и ортезы                  2.081374  \n",
      "Строительство и ремонт     Нивелиры и лазерные уровни        2.081163  \n",
      "Электроника                Защитные пленки и стекла          2.080769  \n",
      "Одежда, обувь и аксессуары Туфли                             2.025121  \n",
      "                           Сапоги                            2.004960  \n"
     ]
    }
   ],
   "source": [
    "import pandas as pd\n",
    "data_final = pd.read_csv('../datasets/data_final.csv')\n",
    "data_pivot = data_final.pivot_table(index=['category_name', 'subcategory_name'], columns='source', values='visits', aggfunc='sum')\n",
    "data_pivot['ratio'] = data_pivot['organic'] / data_pivot['direct']\n",
    "print(data_pivot[data_pivot['direct'] > 1000].sort_values(ascending=False, by='ratio').tail(10))"
   ],
   "metadata": {
    "collapsed": false,
    "pycharm": {
     "name": "#%%\n"
    }
   }
  }
 ],
 "metadata": {
  "kernelspec": {
   "display_name": "Python 3",
   "language": "python",
   "name": "python3"
  },
  "language_info": {
   "codemirror_mode": {
    "name": "ipython",
    "version": 2
   },
   "file_extension": ".py",
   "mimetype": "text/x-python",
   "name": "python",
   "nbconvert_exporter": "python",
   "pygments_lexer": "ipython2",
   "version": "2.7.6"
  }
 },
 "nbformat": 4,
 "nbformat_minor": 0
}