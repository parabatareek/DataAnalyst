{
 "cells": [
  {
   "cell_type": "markdown",
   "metadata": {
    "collapsed": true,
    "pycharm": {
     "name": "#%% md\n"
    }
   },
   "source": [
    "# 4.\n",
    "Примените конструкцию try-except и обработайте ошибки, мешающие решению задачи. Создайте переменную wrong_lines для подсчета некорректных строк и в except посчитайте их количество. Выведите на экран общее количество строк и количество некорректных строк в формате:\n",
    "\n",
    "Количество измерений ...\n",
    "Количество некорректных строк ...\n",
    "\n",
    "Подсказка\n",
    "В блоке except: к переменной wrong_lines прибавляйте число строк с ошибками."
   ]
  },
  {
   "cell_type": "code",
   "execution_count": 3,
   "outputs": [
    {
     "name": "stdout",
     "output_type": "stream",
     "text": [
      "Количество измерений 10\n",
      "Количество некорректных строк 2\n"
     ]
    }
   ],
   "source": [
    "position = [\n",
    "    ['2019-05-01', '- 6'],\n",
    "    ['2019-05-02', '+5'],\n",
    "    ['2019-05-03', ' 5'],\n",
    "    ['2019-05-04', '4'],\n",
    "    ['2019-05-05', '5'],\n",
    "    ['2019-05-06', '5'],\n",
    "    ['2019-05-07', '4'],\n",
    "    ['2019-05-08', 'Error 5'],\n",
    "    ['2019-05-09', '3'],\n",
    "    ['2019-05-10', '3'],\n",
    "]\n",
    "count_lines = 0\n",
    "total_position = 0\n",
    "wrong_lines = 0\n",
    "\n",
    "for row in position:\n",
    "    count_lines += 1\n",
    "    try:\n",
    "        level = int(row[1])#в этой переменной сохраните позицию в выдаче\n",
    "        total_position += level#сложите все позиции в этой переменной\n",
    "    except: wrong_lines += 1\n",
    "\n",
    "print(f'Количество измерений {count_lines}')\n",
    "print(f'Количество некорректных строк {wrong_lines}')"
   ],
   "metadata": {
    "collapsed": false,
    "pycharm": {
     "name": "#%%\n"
    }
   }
  }
 ],
 "metadata": {
  "kernelspec": {
   "display_name": "Python 3",
   "language": "python",
   "name": "python3"
  },
  "language_info": {
   "codemirror_mode": {
    "name": "ipython",
    "version": 2
   },
   "file_extension": ".py",
   "mimetype": "text/x-python",
   "name": "python",
   "nbconvert_exporter": "python",
   "pygments_lexer": "ipython2",
   "version": "2.7.6"
  }
 },
 "nbformat": 4,
 "nbformat_minor": 0
}