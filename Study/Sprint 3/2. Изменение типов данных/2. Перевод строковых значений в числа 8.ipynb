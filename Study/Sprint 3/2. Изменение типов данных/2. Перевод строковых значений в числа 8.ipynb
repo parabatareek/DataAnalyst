{
 "cells": [
  {
   "cell_type": "markdown",
   "metadata": {
    "collapsed": true,
    "pycharm": {
     "name": "#%% md\n"
    }
   },
   "source": [
    "# 8.\n",
    "Узнайте, что не так со строкой 964. Вызовите знакомый из вводного курса метод loc.\n",
    "Он позволяет обращаться к датафрейму по значению индекса, в нашем случае как раз по номеру строки.\n",
    "\n",
    "Подсказка\n",
    "Используйте атрибут loc для поиска значения."
   ]
  },
  {
   "cell_type": "code",
   "execution_count": 1,
   "outputs": [],
   "source": [
    "import pandas as pd\n",
    "\n",
    "data = pd.read_excel('../datasets/seo_data.xlsx', sheet_name='traffic_data')"
   ],
   "metadata": {
    "collapsed": false,
    "pycharm": {
     "name": "#%%\n"
    }
   }
  },
  {
   "cell_type": "code",
   "execution_count": 3,
   "outputs": [
    {
     "name": "stdout",
     "output_type": "stream",
     "text": [
      "subcategory_id        total\n",
      "source               direct\n",
      "visits            \"2369468\"\n",
      "Name: 964, dtype: object\n"
     ]
    }
   ],
   "source": [
    "print(data.loc[964])"
   ],
   "metadata": {
    "collapsed": false,
    "pycharm": {
     "name": "#%%\n"
    }
   }
  }
 ],
 "metadata": {
  "kernelspec": {
   "display_name": "Python 3",
   "language": "python",
   "name": "python3"
  },
  "language_info": {
   "codemirror_mode": {
    "name": "ipython",
    "version": 2
   },
   "file_extension": ".py",
   "mimetype": "text/x-python",
   "name": "python",
   "nbconvert_exporter": "python",
   "pygments_lexer": "ipython2",
   "version": "2.7.6"
  }
 },
 "nbformat": 4,
 "nbformat_minor": 0
}