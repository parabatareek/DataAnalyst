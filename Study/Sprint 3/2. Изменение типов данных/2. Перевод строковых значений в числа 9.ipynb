{
 "cells": [
  {
   "cell_type": "markdown",
   "metadata": {
    "collapsed": true,
    "pycharm": {
     "name": "#%% md\n"
    }
   },
   "source": [
    "# 9.\n",
    "Вычислите, сколько всего строк в датафрейме и выведите на экран в формате:\n",
    "Количество строк: 1000\n",
    "Затем выведите на экран строки, которые имеют значение 'total' в столбце 'subcategory_id'. Изучите полученные результаты: сколько строк портят весь датасет?\n",
    "\n",
    "Подсказка\n",
    "Чтобы узнать количество строк, обратитесь к значению атрибута shape c индексом [0]. Условие для вывода строк с 'total' такое: data['subcategory_id'] == 'total'."
   ]
  },
  {
   "cell_type": "code",
   "execution_count": 1,
   "outputs": [],
   "source": [
    "import pandas as pd\n",
    "\n",
    "data = pd.read_excel('../datasets/seo_data.xlsx', sheet_name='traffic_data')"
   ],
   "metadata": {
    "collapsed": false,
    "pycharm": {
     "name": "#%%\n"
    }
   }
  },
  {
   "cell_type": "code",
   "execution_count": 4,
   "outputs": [
    {
     "name": "stdout",
     "output_type": "stream",
     "text": [
      "1930\n"
     ]
    }
   ],
   "source": [
    "print(f'Количество строк: {data.shape[0]}')"
   ],
   "metadata": {
    "collapsed": false,
    "pycharm": {
     "name": "#%%\n"
    }
   }
  },
  {
   "cell_type": "code",
   "execution_count": 5,
   "outputs": [
    {
     "name": "stdout",
     "output_type": "stream",
     "text": [
      "     subcategory_id   source     visits\n",
      "964           total   direct  \"2369468\"\n",
      "1929          total  organic  \"5687882\"\n"
     ]
    }
   ],
   "source": [
    "print(data[data['subcategory_id'] == 'total'])"
   ],
   "metadata": {
    "collapsed": false,
    "pycharm": {
     "name": "#%%\n"
    }
   }
  }
 ],
 "metadata": {
  "kernelspec": {
   "display_name": "Python 3",
   "language": "python",
   "name": "python3"
  },
  "language_info": {
   "codemirror_mode": {
    "name": "ipython",
    "version": 2
   },
   "file_extension": ".py",
   "mimetype": "text/x-python",
   "name": "python",
   "nbconvert_exporter": "python",
   "pygments_lexer": "ipython2",
   "version": "2.7.6"
  }
 },
 "nbformat": 4,
 "nbformat_minor": 0
}