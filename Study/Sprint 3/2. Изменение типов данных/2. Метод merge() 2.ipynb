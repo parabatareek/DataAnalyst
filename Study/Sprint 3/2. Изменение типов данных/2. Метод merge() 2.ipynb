{
 "cells": [
  {
   "cell_type": "markdown",
   "metadata": {
    "collapsed": true,
    "pycharm": {
     "name": "#%% md\n"
    }
   },
   "source": [
    "# 2.\n",
    "Объедините таблицы data_subcategory и category_dict. Результат сохраните в переменной data_final и выведите на экран первые 10 строк новой таблицы.\n",
    "\n",
    "Подсказка\n",
    "В качестве аргументов укажите значения: category_dict, on='category_id' и how='left'."
   ]
  },
  {
   "cell_type": "code",
   "execution_count": 4,
   "outputs": [],
   "source": [
    "import pandas as pd"
   ],
   "metadata": {
    "collapsed": false,
    "pycharm": {
     "name": "#%%import pandas as pd\n"
    }
   }
  },
  {
   "cell_type": "code",
   "execution_count": 5,
   "outputs": [],
   "source": [
    "data = pd.read_excel('../datasets/seo_data.xlsx', sheet_name='traffic_data')\n",
    "subcategory_dict = pd.read_excel('../datasets/seo_data.xlsx', sheet_name='subcategory_ids')\n",
    "category_dict = pd.read_excel('../datasets/seo_data.xlsx', sheet_name='category_ids')\n",
    "data_subcategory = data.merge(subcategory_dict, on='subcategory_id', how='left')"
   ],
   "metadata": {
    "collapsed": false,
    "pycharm": {
     "name": "#%%\n"
    }
   }
  },
  {
   "cell_type": "code",
   "execution_count": 7,
   "outputs": [
    {
     "name": "stdout",
     "output_type": "stream",
     "text": [
      "  subcategory_id_x source_x       visits_x  subcategory_name_x category_id  \\\n",
      "0       cf2e61c7af   direct  501165.668858  Мобильные телефоны  09f279a643   \n",
      "1       cf2e61c7af   direct  501165.668858  Мобильные телефоны  09f279a643   \n",
      "2       cf2e61c7af   direct  501165.668858  Мобильные телефоны  09f279a643   \n",
      "3       cf2e61c7af   direct  501165.668858  Мобильные телефоны  09f279a643   \n",
      "4       cf2e61c7af   direct  501165.668858  Мобильные телефоны  09f279a643   \n",
      "5       cf2e61c7af   direct  501165.668858  Мобильные телефоны  09f279a643   \n",
      "6       cf2e61c7af   direct  501165.668858  Мобильные телефоны  09f279a643   \n",
      "7       cf2e61c7af   direct  501165.668858  Мобильные телефоны  09f279a643   \n",
      "8       cf2e61c7af   direct  501165.668858  Мобильные телефоны  09f279a643   \n",
      "9       cf2e61c7af   direct  501165.668858  Мобильные телефоны  09f279a643   \n",
      "\n",
      "  subcategory_id_y source_y       visits_y                  subcategory_name_y  \n",
      "0       cf2e61c7af   direct  501165.668858                  Мобильные телефоны  \n",
      "1       ef35bc88a7   direct   95626.321402                          Телевизоры  \n",
      "2       72bc238e4d   direct   64435.934651      Наушники и Bluetooth-гарнитуры  \n",
      "3       179bfacf4a   direct   31007.471245               Умные часы и браслеты  \n",
      "4       ffa1fc88a2   direct   14776.639808                        Фотоаппараты  \n",
      "5       367be1ab13   direct   10552.197106                Портативная акустика  \n",
      "6       306d06b2be   direct    7516.067482                   Игровые приставки  \n",
      "7       8327ffc6de   direct    6933.454453                           Объективы  \n",
      "8       a56b5d7c39   direct    6275.058046                           TV-тюнеры  \n",
      "9       48b2baf4d6   direct    6146.908292  Универсальные внешние аккумуляторы  \n"
     ]
    }
   ],
   "source": [
    "data_final = data_subcategory.merge(right=data_subcategory, on='category_id', how='left')\n",
    "print(data_final.head(10))"
   ],
   "metadata": {
    "collapsed": false,
    "pycharm": {
     "name": "#%%\n"
    }
   }
  }
 ],
 "metadata": {
  "kernelspec": {
   "display_name": "Python 3",
   "language": "python",
   "name": "python3"
  },
  "language_info": {
   "codemirror_mode": {
    "name": "ipython",
    "version": 2
   },
   "file_extension": ".py",
   "mimetype": "text/x-python",
   "name": "python",
   "nbconvert_exporter": "python",
   "pygments_lexer": "ipython2",
   "version": "2.7.6"
  }
 },
 "nbformat": 4,
 "nbformat_minor": 0
}