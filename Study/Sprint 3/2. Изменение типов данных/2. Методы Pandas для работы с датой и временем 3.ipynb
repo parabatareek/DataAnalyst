{
 "cells": [
  {
   "cell_type": "markdown",
   "metadata": {
    "collapsed": true,
    "pycharm": {
     "name": "#%% md\n"
    }
   },
   "source": [
    "# 3.\n",
    "Обработайте данные о времени в столбце 'timestamp': переведите их из строкового типа в datetime64.\n",
    "Разделителем даты и времени назначьте заглавную латинскую T.\n",
    "Выведите на экран первые 5 строк таблицы position.\n",
    "\n",
    "Подсказка\n",
    "В аргументе format метода to_datetime передайте строку '%Y-%m-%dT%H:%M:%S'."
   ]
  },
  {
   "cell_type": "code",
   "execution_count": 1,
   "outputs": [],
   "source": [
    "import pandas as pd\n",
    "\n",
    "position = pd.read_csv('../datasets/position.csv')"
   ],
   "metadata": {
    "collapsed": false,
    "pycharm": {
     "name": "#%%\n"
    }
   }
  },
  {
   "cell_type": "code",
   "execution_count": 2,
   "outputs": [
    {
     "name": "stdout",
     "output_type": "stream",
     "text": [
      "            timestamp  level   page_id\n",
      "0 2019-02-04 13:22:34      1  6ukoNykP\n",
      "1 2019-02-06 15:30:54      1  Q62R1Ue7\n",
      "2 2019-02-08 14:53:45      1  GmfSxgPs\n",
      "3 2019-02-10 16:50:22      2  M56OK96C\n",
      "4 2019-02-12 14:16:28      1  q2fqVqPc\n"
     ]
    }
   ],
   "source": [
    "position['timestamp'] = pd.to_datetime(arg=position['timestamp'],\n",
    "                                       format='%Y-%m-%dT%H:%M:%S')\n",
    "print(position.head())"
   ],
   "metadata": {
    "collapsed": false,
    "pycharm": {
     "name": "#%%\n"
    }
   }
  }
 ],
 "metadata": {
  "kernelspec": {
   "display_name": "Python 3",
   "language": "python",
   "name": "python3"
  },
  "language_info": {
   "codemirror_mode": {
    "name": "ipython",
    "version": 2
   },
   "file_extension": ".py",
   "mimetype": "text/x-python",
   "name": "python",
   "nbconvert_exporter": "python",
   "pygments_lexer": "ipython2",
   "version": "2.7.6"
  }
 },
 "nbformat": 4,
 "nbformat_minor": 0
}