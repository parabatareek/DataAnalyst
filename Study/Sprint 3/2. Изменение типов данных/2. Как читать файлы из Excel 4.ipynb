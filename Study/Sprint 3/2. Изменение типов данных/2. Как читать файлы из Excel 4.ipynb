{
 "cells": [
  {
   "cell_type": "markdown",
   "metadata": {
    "collapsed": true,
    "pycharm": {
     "name": "#%% md\n"
    }
   },
   "source": [
    "# 4.\n",
    "Наконец, методом read_excel() прочтём третий лист category_ids и сохраним его в переменной category_dict.\n",
    "Выведите на экран первые 5 строк листа методом head().\n",
    "Путь к файлу: /datasets/seo_data.xlsx\n",
    "\n",
    "Подсказка\n",
    "Третий раз для закрепления. В параметрах метода read_excel() укажите путь к файлу '/datasets/seo_data.xlsx' и название листа 'category_ids'."
   ]
  },
  {
   "cell_type": "code",
   "execution_count": 1,
   "outputs": [],
   "source": [
    "import pandas as pd\n",
    "category_dict = pd.read_excel('../datasets/seo_data.xlsx', sheet_name='category_ids')"
   ],
   "metadata": {
    "collapsed": false,
    "pycharm": {
     "name": "#%%\n"
    }
   }
  },
  {
   "cell_type": "code",
   "execution_count": null,
   "outputs": [],
   "source": [
    "print(category_dict.head())"
   ],
   "metadata": {
    "collapsed": false,
    "pycharm": {
     "name": "#%%\n"
    }
   }
  }
 ],
 "metadata": {
  "kernelspec": {
   "display_name": "Python 3",
   "language": "python",
   "name": "python3"
  },
  "language_info": {
   "codemirror_mode": {
    "name": "ipython",
    "version": 2
   },
   "file_extension": ".py",
   "mimetype": "text/x-python",
   "name": "python",
   "nbconvert_exporter": "python",
   "pygments_lexer": "ipython2",
   "version": "2.7.6"
  }
 },
 "nbformat": 4,
 "nbformat_minor": 0
}