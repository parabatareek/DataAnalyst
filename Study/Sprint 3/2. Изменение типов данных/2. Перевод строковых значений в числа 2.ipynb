{
 "cells": [
  {
   "cell_type": "markdown",
   "metadata": {
    "collapsed": true,
    "pycharm": {
     "name": "#%% md\n"
    }
   },
   "source": [
    "# 2.\n",
    "Попробуйте ещё раз перевести значения столбца 'id' из строк в числа методом to_numeric(), но уже со значением 'coerce' параметра errors. Это заменит вызывающий ошибку Null на NaN.\n",
    "Полученную таблицу выведите на экран методом tail(): так как ошибка возникает на последней строке, 5 значений с конца будет достаточно.\n",
    "\n",
    "Подсказка\n",
    "Передайте методу to_numeric() аргументы transactions['id'] и errors='coerce'."
   ]
  },
  {
   "cell_type": "code",
   "execution_count": 1,
   "outputs": [
    {
     "name": "stdout",
     "output_type": "stream",
     "text": [
      "              id category    amount\n",
      "44  6.007483e+11        A   8958.23\n",
      "45  6.007483e+11        C   12771.1\n",
      "46  6.007483e+11        E   9630.56\n",
      "47  6.007483e+11     Null      Null\n",
      "48           NaN        A  14327.22\n"
     ]
    }
   ],
   "source": [
    "import pandas as pd\n",
    "transactions = pd.read_excel('../datasets/ids.xlsx')\n",
    "transactions['id'] = pd.to_numeric(transactions['id'], errors='coerce')\n",
    "print(transactions.tail())"
   ],
   "metadata": {
    "collapsed": false,
    "pycharm": {
     "name": "#%%\n"
    }
   }
  }
 ],
 "metadata": {
  "kernelspec": {
   "display_name": "Python 3",
   "language": "python",
   "name": "python3"
  },
  "language_info": {
   "codemirror_mode": {
    "name": "ipython",
    "version": 2
   },
   "file_extension": ".py",
   "mimetype": "text/x-python",
   "name": "python",
   "nbconvert_exporter": "python",
   "pygments_lexer": "ipython2",
   "version": "2.7.6"
  }
 },
 "nbformat": 4,
 "nbformat_minor": 0
}