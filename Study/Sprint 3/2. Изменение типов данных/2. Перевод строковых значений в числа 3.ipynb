{
 "cells": [
  {
   "cell_type": "markdown",
   "metadata": {
    "collapsed": true,
    "pycharm": {
     "name": "#%% md\n"
    }
   },
   "source": [
    "# 3.\n",
    "Вызовите метод info() после преобразований ещё раз.\n",
    "Проверьте, повлияла ли работа pd.to_numeric(transactions['id'], errors='coerce') на тип значений в столбце id.\n",
    "\n",
    "Подсказка\n",
    "Вызовите метод info()."
   ]
  },
  {
   "cell_type": "code",
   "execution_count": 2,
   "outputs": [
    {
     "name": "stdout",
     "output_type": "stream",
     "text": [
      "<class 'pandas.core.frame.DataFrame'>\n",
      "RangeIndex: 49 entries, 0 to 48\n",
      "Data columns (total 3 columns):\n",
      " #   Column    Non-Null Count  Dtype  \n",
      "---  ------    --------------  -----  \n",
      " 0   id        48 non-null     float64\n",
      " 1   category  49 non-null     object \n",
      " 2   amount    49 non-null     object \n",
      "dtypes: float64(1), object(2)\n",
      "memory usage: 1.3+ KB\n",
      "None\n"
     ]
    }
   ],
   "source": [
    "import pandas as pd\n",
    "\n",
    "transactions = pd.read_excel('../datasets/ids.xlsx')\n",
    "transactions['id'] = pd.to_numeric(transactions['id'], errors='coerce')\n",
    "print(transactions.info())\n"
   ],
   "metadata": {
    "collapsed": false,
    "pycharm": {
     "name": "#%%\n"
    }
   }
  }
 ],
 "metadata": {
  "kernelspec": {
   "display_name": "Python 3",
   "language": "python",
   "name": "python3"
  },
  "language_info": {
   "codemirror_mode": {
    "name": "ipython",
    "version": 2
   },
   "file_extension": ".py",
   "mimetype": "text/x-python",
   "name": "python",
   "nbconvert_exporter": "python",
   "pygments_lexer": "ipython2",
   "version": "2.7.6"
  }
 },
 "nbformat": 4,
 "nbformat_minor": 0
}