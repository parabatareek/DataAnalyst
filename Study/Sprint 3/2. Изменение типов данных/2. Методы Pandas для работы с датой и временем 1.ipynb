{
 "cells": [
  {
   "cell_type": "markdown",
   "metadata": {
    "collapsed": true,
    "pycharm": {
     "name": "#%% md\n"
    }
   },
   "source": [
    "# 1.\n",
    "Прочитайте файл с данными о позиции в поисковой выдаче за 3 месяца. Выведите первые 15 строк на экран.\n",
    "Путь к файлу: /datasets/position.csv\n",
    "\n",
    "Подсказка\n",
    "Передайте методу head() в качестве аргумента количество строк."
   ]
  },
  {
   "cell_type": "code",
   "execution_count": 2,
   "outputs": [],
   "source": [
    "import pandas as pd\n",
    "position = pd.read_csv('../datasets/position.csv')"
   ],
   "metadata": {
    "collapsed": false,
    "pycharm": {
     "name": "#%%\n"
    }
   }
  },
  {
   "cell_type": "code",
   "execution_count": 3,
   "outputs": [
    {
     "name": "stdout",
     "output_type": "stream",
     "text": [
      "              timestamp  level   page_id\n",
      "0   2019-02-04T13:22:34      1  6ukoNykP\n",
      "1   2019-02-06T15:30:54      1  Q62R1Ue7\n",
      "2   2019-02-08T14:53:45      1  GmfSxgPs\n",
      "3   2019-02-10T16:50:22      2  M56OK96C\n",
      "4   2019-02-12T14:16:28      1  q2fqVqPc\n",
      "5   2019-02-14T15:10:45      1  LioXfSPk\n",
      "6   2019-02-16T14:52:23      3  bQXWpQ2z\n",
      "7   2019-02-18T15:45:33      2  gsFVGOTy\n",
      "8   2019-02-20T16:35:12      3  zVuiSTm1\n",
      "9   2019-02-22T15:52:27      1  kuULtbnm\n",
      "10  2019-02-24T12:39:30      2  MKDhBt9L\n",
      "11  2019-02-26T12:45:10      3  FEgRztcr\n",
      "12  2019-03-04T15:34:46      4  OUBWQSCl\n",
      "13  2019-03-06T14:20:57      5  6YeTUHgm\n",
      "14  2019-03-08T12:34:43      6  zlrBrZ0d\n"
     ]
    }
   ],
   "source": [
    "print(position.head(15))"
   ],
   "metadata": {
    "collapsed": false,
    "pycharm": {
     "name": "#%%\n"
    }
   }
  }
 ],
 "metadata": {
  "kernelspec": {
   "display_name": "Python 3",
   "language": "python",
   "name": "python3"
  },
  "language_info": {
   "codemirror_mode": {
    "name": "ipython",
    "version": 2
   },
   "file_extension": ".py",
   "mimetype": "text/x-python",
   "name": "python",
   "nbconvert_exporter": "python",
   "pygments_lexer": "ipython2",
   "version": "2.7.6"
  }
 },
 "nbformat": 4,
 "nbformat_minor": 0
}