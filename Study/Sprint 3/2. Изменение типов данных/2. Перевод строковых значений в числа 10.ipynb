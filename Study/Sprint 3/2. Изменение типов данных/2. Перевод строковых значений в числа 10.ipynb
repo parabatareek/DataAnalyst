{
 "cells": [
  {
   "cell_type": "markdown",
   "metadata": {
    "collapsed": true,
    "pycharm": {
     "name": "#%% md\n"
    }
   },
   "source": [
    "# 10.\n",
    "Оставьте в датафрейме только строки, удовлетворяющие условию data['subcategory_id'] != 'total'. Проверьте результат: выведите на экран датафрейм с условием data['subcategory_id'] == 'total'.\n",
    "\n",
    "Подсказка\n",
    "Распечатайте выражение: (data[data['subcategory_id'] == 'total'])"
   ]
  },
  {
   "cell_type": "code",
   "execution_count": 1,
   "outputs": [],
   "source": [
    "import pandas as pd\n",
    "\n",
    "data = pd.read_excel('../datasets/seo_data.xlsx', sheet_name='traffic_data')"
   ],
   "metadata": {
    "collapsed": false,
    "pycharm": {
     "name": "#%%\n"
    }
   }
  },
  {
   "cell_type": "code",
   "execution_count": 3,
   "outputs": [
    {
     "name": "stdout",
     "output_type": "stream",
     "text": [
      "Empty DataFrame\n",
      "Columns: [subcategory_id, source, visits]\n",
      "Index: []\n"
     ]
    }
   ],
   "source": [
    "data = data[data['subcategory_id'] != 'total']\n",
    "print(data[data['subcategory_id'] == 'total'])"
   ],
   "metadata": {
    "collapsed": false,
    "pycharm": {
     "name": "#%%\n"
    }
   }
  }
 ],
 "metadata": {
  "kernelspec": {
   "display_name": "Python 3",
   "language": "python",
   "name": "python3"
  },
  "language_info": {
   "codemirror_mode": {
    "name": "ipython",
    "version": 2
   },
   "file_extension": ".py",
   "mimetype": "text/x-python",
   "name": "python",
   "nbconvert_exporter": "python",
   "pygments_lexer": "ipython2",
   "version": "2.7.6"
  }
 },
 "nbformat": 4,
 "nbformat_minor": 0
}