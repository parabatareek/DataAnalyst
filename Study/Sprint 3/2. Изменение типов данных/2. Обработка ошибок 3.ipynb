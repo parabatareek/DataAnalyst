{
 "cells": [
  {
   "cell_type": "markdown",
   "metadata": {
    "collapsed": true,
    "pycharm": {
     "name": "#%% md\n"
    }
   },
   "source": [
    "# 3.\n",
    "Формат поставки статистики согласован.\n",
    "Разработчики прислали финальную выгрузку, где в данных появились проблемы: отрицательные значения, пробелы и даже ошибки.\n",
    "Посчитайте среднюю позицию в выдаче и нажмите «Выполнить код».\n",
    "\n",
    "Подсказка\n",
    "Всё, как в прошлом задании.\n",
    "Сохраните в переменной level позицию в выдаче так: int(row[1]).\n",
    "В total_position сложите все позиции.\n",
    "На экран выведите результат деления суммы всех позиций на число строк count_lines."
   ]
  },
  {
   "cell_type": "code",
   "execution_count": 1,
   "outputs": [
    {
     "ename": "ValueError",
     "evalue": "invalid literal for int() with base 10: '- 6'",
     "output_type": "error",
     "traceback": [
      "\u001B[1;31m---------------------------------------------------------------------------\u001B[0m",
      "\u001B[1;31mValueError\u001B[0m                                Traceback (most recent call last)",
      "\u001B[1;32m~\\AppData\\Local\\Temp/ipykernel_4068/2427805661.py\u001B[0m in \u001B[0;36m<module>\u001B[1;34m\u001B[0m\n\u001B[0;32m     16\u001B[0m \u001B[1;32mfor\u001B[0m \u001B[0mrow\u001B[0m \u001B[1;32min\u001B[0m \u001B[0mposition\u001B[0m\u001B[1;33m:\u001B[0m\u001B[1;33m\u001B[0m\u001B[1;33m\u001B[0m\u001B[0m\n\u001B[0;32m     17\u001B[0m     \u001B[0mcount_lines\u001B[0m \u001B[1;33m+=\u001B[0m \u001B[1;36m1\u001B[0m\u001B[1;33m\u001B[0m\u001B[1;33m\u001B[0m\u001B[0m\n\u001B[1;32m---> 18\u001B[1;33m     \u001B[0mlevel\u001B[0m \u001B[1;33m=\u001B[0m \u001B[0mint\u001B[0m\u001B[1;33m(\u001B[0m\u001B[0mrow\u001B[0m\u001B[1;33m[\u001B[0m\u001B[1;36m1\u001B[0m\u001B[1;33m]\u001B[0m\u001B[1;33m)\u001B[0m\u001B[1;31m#в этой переменной сохраните позицию в выдаче\u001B[0m\u001B[1;33m\u001B[0m\u001B[1;33m\u001B[0m\u001B[0m\n\u001B[0m\u001B[0;32m     19\u001B[0m     \u001B[0mtotal_position\u001B[0m \u001B[1;33m+=\u001B[0m \u001B[0mlevel\u001B[0m\u001B[1;31m#сложите все позиции в этой переменной\u001B[0m\u001B[1;33m\u001B[0m\u001B[1;33m\u001B[0m\u001B[0m\n\u001B[0;32m     20\u001B[0m \u001B[0mprint\u001B[0m\u001B[1;33m(\u001B[0m\u001B[0mtotal_position\u001B[0m \u001B[1;33m/\u001B[0m \u001B[0mcount_lines\u001B[0m\u001B[1;33m)\u001B[0m\u001B[1;33m\u001B[0m\u001B[1;33m\u001B[0m\u001B[0m\n",
      "\u001B[1;31mValueError\u001B[0m: invalid literal for int() with base 10: '- 6'"
     ]
    }
   ],
   "source": [
    "position = [\n",
    "    ['2019-05-01', '- 6'],\n",
    "    ['2019-05-02', '+5'],\n",
    "    ['2019-05-03', ' 5'],\n",
    "    ['2019-05-04', '4'],\n",
    "    ['2019-05-05', '5'],\n",
    "    ['2019-05-06', '5'],\n",
    "    ['2019-05-07', '4'],\n",
    "    ['2019-05-08', 'Error 5'],\n",
    "    ['2019-05-09', '3'],\n",
    "    ['2019-05-10', '3'],\n",
    "]\n",
    "count_lines = 0\n",
    "total_position = 0\n",
    "\n",
    "for row in position:\n",
    "    count_lines += 1\n",
    "    level = int(row[1])#в этой переменной сохраните позицию в выдаче\n",
    "    total_position += level#сложите все позиции в этой переменной\n",
    "print(total_position / count_lines)"
   ],
   "metadata": {
    "collapsed": false,
    "pycharm": {
     "name": "#%%\n"
    }
   }
  }
 ],
 "metadata": {
  "kernelspec": {
   "display_name": "Python 3",
   "language": "python",
   "name": "python3"
  },
  "language_info": {
   "codemirror_mode": {
    "name": "ipython",
    "version": 2
   },
   "file_extension": ".py",
   "mimetype": "text/x-python",
   "name": "python",
   "nbconvert_exporter": "python",
   "pygments_lexer": "ipython2",
   "version": "2.7.6"
  }
 },
 "nbformat": 4,
 "nbformat_minor": 0
}