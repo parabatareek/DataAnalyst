{
 "cells": [
  {
   "cell_type": "markdown",
   "metadata": {
    "collapsed": true,
    "pycharm": {
     "name": "#%% md\n"
    }
   },
   "source": [
    "1.\n",
    "Методом read_excel() прочтите первый лист 'traffic_data'\n",
    "Выведите на экран первые 5 строк листа методом head(). Прочитайте названия столбцов:\n",
    "\n",
    "    subcategory_id — идентификатор товарной подкатегории, или её зашифрованное название;\n",
    "    source — источник трафика. В нашем случае источников два: прямой заход на сайт в таблице обозначен как direct, переход из поисковых систем — organic;\n",
    "    visits — количество визитов на страницу подкатегории за отчётный период.\n",
    "\n",
    "Путь к файлу: /datasets/seo_data.xlsx\n",
    "\n",
    "Подсказка\n",
    "В параметрах метода read_excel() укажите путь к файлу '/datasets/seo_data.xlsx' и название листа 'traffic_data'."
   ]
  },
  {
   "cell_type": "code",
   "execution_count": 6,
   "outputs": [
    {
     "name": "stdout",
     "output_type": "stream",
     "text": [
      "  subcategory_id  source         visits\n",
      "0     cf2e61c7af  direct  501165.668858\n",
      "1     0cd903d1cc  direct  126342.359505\n",
      "2     ef35bc88a7  direct   95626.321402\n",
      "3     6ff9f4014c  direct   75680.653002\n",
      "4     72bc238e4d  direct   64435.934651\n"
     ]
    }
   ],
   "source": [
    "import pandas as pd\n",
    "data = pd.read_excel('../datasets/seo_data.xlsx', sheet_name='traffic_data')\n",
    "print(data.head())"
   ],
   "metadata": {
    "collapsed": false,
    "pycharm": {
     "name": "#%%\n"
    }
   }
  }
 ],
 "metadata": {
  "kernelspec": {
   "display_name": "Python 3",
   "language": "python",
   "name": "python3"
  },
  "language_info": {
   "codemirror_mode": {
    "name": "ipython",
    "version": 2
   },
   "file_extension": ".py",
   "mimetype": "text/x-python",
   "name": "python",
   "nbconvert_exporter": "python",
   "pygments_lexer": "ipython2",
   "version": "2.7.6"
  }
 },
 "nbformat": 4,
 "nbformat_minor": 0
}