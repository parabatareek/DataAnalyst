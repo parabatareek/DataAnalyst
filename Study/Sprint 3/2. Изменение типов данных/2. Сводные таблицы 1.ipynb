{
 "cells": [
  {
   "cell_type": "markdown",
   "metadata": {
    "collapsed": true,
    "pycharm": {
     "name": "#%% md\n"
    }
   },
   "source": [
    "# 1.\n",
    "Самостоятельно создайте сводную таблицу для набора data_final.\n",
    "Результат сохраните в переменной data_pivot и выведите первых 10 значений на экран.\n",
    "\n",
    "Подсказка\n",
    "Аргументы метода pivot_table() : index=['category_name', 'subcategory_name'], columns='source', values='visits' и aggfunc='sum'."
   ]
  },
  {
   "cell_type": "code",
   "execution_count": 1,
   "outputs": [],
   "source": [
    "import pandas as pd\n",
    "data_final = pd.read_csv('../datasets/data_final.csv')"
   ],
   "metadata": {
    "collapsed": false,
    "pycharm": {
     "name": "#%%\n"
    }
   }
  },
  {
   "cell_type": "code",
   "execution_count": 2,
   "outputs": [
    {
     "name": "stdout",
     "output_type": "stream",
     "text": [
      "source                                    direct  organic\n",
      "category_name subcategory_name                           \n",
      "Авто          Автоакустика                  5915    15433\n",
      "              Автомагнитолы                 7783    18690\n",
      "              Автомобильные инверторы        145      150\n",
      "              Автомобильные компрессоры      407      790\n",
      "              Автомобильные телевизоры       975     2246\n",
      "              Автомобильные холодильники     204      285\n",
      "              Автосигнализации               494     1026\n",
      "              Аккумуляторные батареи        1175     2657\n",
      "              Антифризы                      736     1568\n",
      "              Багажники, рейлинги            342      664\n"
     ]
    }
   ],
   "source": [
    "data_pivot = data_final.pivot_table(index=['category_name', 'subcategory_name'],\n",
    "                                    columns='source',\n",
    "                                    values='visits',\n",
    "                                    aggfunc='sum')\n",
    "print(data_pivot.head(10))"
   ],
   "metadata": {
    "collapsed": false,
    "pycharm": {
     "name": "#%%\n"
    }
   }
  }
 ],
 "metadata": {
  "kernelspec": {
   "display_name": "Python 3",
   "language": "python",
   "name": "python3"
  },
  "language_info": {
   "codemirror_mode": {
    "name": "ipython",
    "version": 2
   },
   "file_extension": ".py",
   "mimetype": "text/x-python",
   "name": "python",
   "nbconvert_exporter": "python",
   "pygments_lexer": "ipython2",
   "version": "2.7.6"
  }
 },
 "nbformat": 4,
 "nbformat_minor": 0
}