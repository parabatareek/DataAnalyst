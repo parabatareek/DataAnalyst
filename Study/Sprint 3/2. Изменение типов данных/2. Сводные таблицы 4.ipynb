{
 "cells": [
  {
   "cell_type": "markdown",
   "metadata": {
    "collapsed": true,
    "pycharm": {
     "name": "#%% md\n"
    }
   },
   "source": [
    "# 4.\n",
    "Отсортируйте таблицу по столбцу 'ratio' в порядке убывания. Выведите последние 10 значений.\n",
    "Отсортированную таблицу сохранять не нужно.\n",
    "\n",
    "Подсказка\n",
    "Последние значения выводят методом tail()"
   ]
  },
  {
   "cell_type": "code",
   "execution_count": 2,
   "outputs": [
    {
     "name": "stdout",
     "output_type": "stream",
     "text": [
      "source                                                  direct  organic  \\\n",
      "category_name              subcategory_name                               \n",
      "Строительство и ремонт     Душевые поддоны                  90       26   \n",
      "Товары для красоты         Кисти, спонжи и аппликаторы      96       27   \n",
      "Продукты                   Макароны                         86       24   \n",
      "Детские товары             Играем в салон красоты           88       24   \n",
      "Спорт и отдых              Гребные тренажеры                89       24   \n",
      "Детские товары             Блокноты                         79       21   \n",
      "Строительство и ремонт     Проволока                        76       15   \n",
      "Одежда, обувь и аксессуары Термобелье                       67       13   \n",
      "Авто                       Наклейки, шильдики и значки      50        9   \n",
      "Детские товары             Гигиена полости рта              27        4   \n",
      "\n",
      "source                                                     ratio  \n",
      "category_name              subcategory_name                       \n",
      "Строительство и ремонт     Душевые поддоны              0.288889  \n",
      "Товары для красоты         Кисти, спонжи и аппликаторы  0.281250  \n",
      "Продукты                   Макароны                     0.279070  \n",
      "Детские товары             Играем в салон красоты       0.272727  \n",
      "Спорт и отдых              Гребные тренажеры            0.269663  \n",
      "Детские товары             Блокноты                     0.265823  \n",
      "Строительство и ремонт     Проволока                    0.197368  \n",
      "Одежда, обувь и аксессуары Термобелье                   0.194030  \n",
      "Авто                       Наклейки, шильдики и значки  0.180000  \n",
      "Детские товары             Гигиена полости рта          0.148148  \n"
     ]
    }
   ],
   "source": [
    "import pandas as pd\n",
    "data_final = pd.read_csv('../datasets/data_final.csv')\n",
    "data_pivot = data_final.pivot_table(index=['category_name', 'subcategory_name'], columns='source', values='visits', aggfunc='sum')\n",
    "data_pivot['ratio'] = data_pivot['organic'] / data_pivot['direct']\n",
    "print(data_pivot.sort_values(by='ratio', ascending=False).tail(10))"
   ],
   "metadata": {
    "collapsed": false,
    "pycharm": {
     "name": "#%%\n"
    }
   }
  }
 ],
 "metadata": {
  "kernelspec": {
   "display_name": "Python 3",
   "language": "python",
   "name": "python3"
  },
  "language_info": {
   "codemirror_mode": {
    "name": "ipython",
    "version": 2
   },
   "file_extension": ".py",
   "mimetype": "text/x-python",
   "name": "python",
   "nbconvert_exporter": "python",
   "pygments_lexer": "ipython2",
   "version": "2.7.6"
  }
 },
 "nbformat": 4,
 "nbformat_minor": 0
}