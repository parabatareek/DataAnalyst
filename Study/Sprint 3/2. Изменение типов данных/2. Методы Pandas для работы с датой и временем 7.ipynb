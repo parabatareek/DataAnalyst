{
 "cells": [
  {
   "cell_type": "markdown",
   "metadata": {
    "collapsed": true,
    "pycharm": {
     "name": "#%% md\n"
    }
   },
   "source": [
    "# 7.\n",
    "Сгруппируйте данные по столбцу 'month' и найдите среднюю позицию в выдаче по месяцам (level).\n",
    "Результат группировки выведите на экран.\n",
    "\n",
    "Подсказка\n",
    "Последовательно вызовите методы groupby() и mean()."
   ]
  },
  {
   "cell_type": "code",
   "execution_count": 2,
   "outputs": [
    {
     "name": "stdout",
     "output_type": "stream",
     "text": [
      "month\n",
      "2    1.750000\n",
      "3    5.769231\n",
      "4    6.214286\n",
      "Name: level, dtype: float64\n"
     ]
    }
   ],
   "source": [
    "import pandas as pd\n",
    "\n",
    "position = pd.read_csv('../datasets/position.csv')\n",
    "position['timestamp'] = pd.to_datetime(\n",
    "    position['timestamp'], format='%Y-%m-%dT%H:%M:%S'\n",
    ")\n",
    "position['month'] = pd.DatetimeIndex(position['timestamp']).month\n",
    "print(position.groupby(by='month')['level'].mean())"
   ],
   "metadata": {
    "collapsed": false,
    "pycharm": {
     "name": "#%%\n"
    }
   }
  }
 ],
 "metadata": {
  "kernelspec": {
   "display_name": "Python 3",
   "language": "python",
   "name": "python3"
  },
  "language_info": {
   "codemirror_mode": {
    "name": "ipython",
    "version": 2
   },
   "file_extension": ".py",
   "mimetype": "text/x-python",
   "name": "python",
   "nbconvert_exporter": "python",
   "pygments_lexer": "ipython2",
   "version": "2.7.6"
  }
 },
 "nbformat": 4,
 "nbformat_minor": 0
}