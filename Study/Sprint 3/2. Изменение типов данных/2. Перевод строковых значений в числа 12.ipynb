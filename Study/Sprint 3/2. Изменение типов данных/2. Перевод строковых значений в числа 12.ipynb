{
 "cells": [
  {
   "cell_type": "markdown",
   "metadata": {
    "collapsed": true,
    "pycharm": {
     "name": "#%% md\n"
    }
   },
   "source": [
    "# 12.\n",
    "Сгруппируйте данные по источникам и вычислите количество визитов для каждого источника. Выведите результат на экран.\n",
    "\n",
    "Подсказка\n",
    "Вызовите метод groupby(), а затем sum()."
   ]
  },
  {
   "cell_type": "code",
   "execution_count": 2,
   "outputs": [],
   "source": [
    "import pandas as pd\n",
    "\n",
    "data = pd.read_excel('../datasets/seo_data.xlsx', sheet_name='traffic_data')\n",
    "data = data[(data['subcategory_id'] != 'total')]\n",
    "data['visits'] = data['visits'].astype('int')"
   ],
   "metadata": {
    "collapsed": false,
    "pycharm": {
     "name": "#%%\n"
    }
   }
  },
  {
   "cell_type": "code",
   "execution_count": 3,
   "outputs": [
    {
     "name": "stdout",
     "output_type": "stream",
     "text": [
      "          visits\n",
      "source          \n",
      "direct   2368980\n",
      "organic  5687407\n"
     ]
    }
   ],
   "source": [
    "print(data.groupby(by='source')['visits'].sum())"
   ],
   "metadata": {
    "collapsed": false,
    "pycharm": {
     "name": "#%%\n"
    }
   }
  }
 ],
 "metadata": {
  "kernelspec": {
   "display_name": "Python 3",
   "language": "python",
   "name": "python3"
  },
  "language_info": {
   "codemirror_mode": {
    "name": "ipython",
    "version": 2
   },
   "file_extension": ".py",
   "mimetype": "text/x-python",
   "name": "python",
   "nbconvert_exporter": "python",
   "pygments_lexer": "ipython2",
   "version": "2.7.6"
  }
 },
 "nbformat": 4,
 "nbformat_minor": 0
}