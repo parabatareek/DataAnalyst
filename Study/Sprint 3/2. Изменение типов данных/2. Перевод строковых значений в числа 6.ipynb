{
 "cells": [
  {
   "cell_type": "markdown",
   "metadata": {
    "collapsed": true,
    "pycharm": {
     "name": "#%% md\n"
    }
   },
   "source": [
    "# 6.\n",
    "Рассчитайте сумму продаж для каждой категории. Для этого сгруппируйте датафрейм transactions по столбцу category и примените метод sum() к столбцу amount. Выведите результат на экран.\n",
    "\n",
    "Подсказка\n",
    "Примените методы groupby() и sum()."
   ]
  },
  {
   "cell_type": "code",
   "execution_count": 2,
   "outputs": [
    {
     "name": "stdout",
     "output_type": "stream",
     "text": [
      "category\n",
      "A       133988.50\n",
      "B       168617.89\n",
      "C       173332.50\n",
      "D        62630.82\n",
      "E        57537.39\n",
      "Null         0.00\n",
      "Name: amount, dtype: float64\n"
     ]
    }
   ],
   "source": [
    "import pandas as pd\n",
    "\n",
    "transactions = pd.read_excel('../datasets/ids.xlsx')\n",
    "transactions['id'] = pd.to_numeric(transactions['id'], errors='coerce')\n",
    "transactions['amount'] = pd.to_numeric(transactions['amount'], errors='coerce')\n",
    "print(transactions.groupby(by='category')['amount'].sum())\n"
   ],
   "metadata": {
    "collapsed": false,
    "pycharm": {
     "name": "#%%\n"
    }
   }
  }
 ],
 "metadata": {
  "kernelspec": {
   "display_name": "Python 3",
   "language": "python",
   "name": "python3"
  },
  "language_info": {
   "codemirror_mode": {
    "name": "ipython",
    "version": 2
   },
   "file_extension": ".py",
   "mimetype": "text/x-python",
   "name": "python",
   "nbconvert_exporter": "python",
   "pygments_lexer": "ipython2",
   "version": "2.7.6"
  }
 },
 "nbformat": 4,
 "nbformat_minor": 0
}