{
 "cells": [
  {
   "cell_type": "markdown",
   "metadata": {
    "collapsed": true,
    "pycharm": {
     "name": "#%% md\n"
    }
   },
   "source": [
    "# 6.\n",
    "Добавьте столбец 'month' в таблицу position с номером месяца. Выведите на экран первые 5 строк таблицы position.\n",
    "\n",
    "Подсказка\n",
    "Вам понадобится класс DatetimeIndex и его атрибут month."
   ]
  },
  {
   "cell_type": "code",
   "execution_count": 2,
   "outputs": [
    {
     "name": "stdout",
     "output_type": "stream",
     "text": [
      "            timestamp  level   page_id  month\n",
      "0 2019-02-04 13:22:34      1  6ukoNykP      2\n",
      "1 2019-02-06 15:30:54      1  Q62R1Ue7      2\n",
      "2 2019-02-08 14:53:45      1  GmfSxgPs      2\n",
      "3 2019-02-10 16:50:22      2  M56OK96C      2\n",
      "4 2019-02-12 14:16:28      1  q2fqVqPc      2\n"
     ]
    }
   ],
   "source": [
    "import pandas as pd\n",
    "\n",
    "position = pd.read_csv('../datasets/position.csv')\n",
    "position['timestamp'] = pd.to_datetime(\n",
    "    position['timestamp'], format='%Y-%m-%dT%H:%M:%S'\n",
    ")\n",
    "position['month'] = pd.DatetimeIndex(data=position['timestamp']).month\n",
    "print(position.head())"
   ],
   "metadata": {
    "collapsed": false,
    "pycharm": {
     "name": "#%%\n"
    }
   }
  }
 ],
 "metadata": {
  "kernelspec": {
   "display_name": "Python 3",
   "language": "python",
   "name": "python3"
  },
  "language_info": {
   "codemirror_mode": {
    "name": "ipython",
    "version": 2
   },
   "file_extension": ".py",
   "mimetype": "text/x-python",
   "name": "python",
   "nbconvert_exporter": "python",
   "pygments_lexer": "ipython2",
   "version": "2.7.6"
  }
 },
 "nbformat": 4,
 "nbformat_minor": 0
}