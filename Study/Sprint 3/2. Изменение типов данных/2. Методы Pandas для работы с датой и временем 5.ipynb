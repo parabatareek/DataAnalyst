{
 "cells": [
  {
   "cell_type": "markdown",
   "metadata": {
    "collapsed": true,
    "pycharm": {
     "name": "#%% md\n"
    }
   },
   "source": [
    "# 5.\n",
    "Отсортируйте таблицу position по столбцу 'level' в порядке убывания и выведите на экран.\n",
    "Сохранять отсортированную таблицу не нужно.\n",
    "\n",
    "Подсказка\n",
    "Вызовите метод sort_values(). Для сортировки в порядке убывания передайте аргумент ascending=False."
   ]
  },
  {
   "cell_type": "code",
   "execution_count": 2,
   "outputs": [
    {
     "name": "stdout",
     "output_type": "stream",
     "text": [
      "             timestamp  level   page_id\n",
      "22 2019-03-24 13:49:22      9  WklxK6k4\n",
      "38 2019-04-27 12:48:14      8  5VRryKr6\n",
      "35 2019-04-21 14:40:17      8  JvTMAbs7\n",
      "30 2019-04-11 13:39:15      8  9mL07Mjl\n",
      "21 2019-03-22 16:36:19      8  s24ZIat3\n",
      "15 2019-03-10 13:12:57      7  Vih5ARKA\n",
      "34 2019-04-19 15:43:24      7  MSHZViNg\n",
      "31 2019-04-13 12:13:26      7  ILfc3WmK\n",
      "29 2019-04-09 14:57:20      7  SfnhoGh6\n",
      "27 2019-04-05 14:51:38      7  7JKRCdPA\n",
      "20 2019-03-20 15:53:36      7  VkTjZ6co\n",
      "37 2019-04-25 16:10:50      6  clLGJ4g3\n",
      "33 2019-04-17 16:54:17      6  JjIZd3Jy\n",
      "28 2019-04-07 16:29:58      6  bsORIc79\n",
      "24 2019-03-28 15:28:17      6  aQdvnaZX\n",
      "19 2019-03-18 16:47:36      6  057NPKXX\n",
      "14 2019-03-08 12:34:43      6  zlrBrZ0d\n",
      "18 2019-03-16 16:18:34      5  zPH6tQwc\n",
      "36 2019-04-23 13:17:19      5  6KVLFFQF\n",
      "13 2019-03-06 14:20:57      5  6YeTUHgm\n",
      "23 2019-03-26 15:50:31      5  p4Ofo5uP\n",
      "25 2019-04-01 13:43:49      5  7UCXvXJu\n",
      "32 2019-04-15 12:28:54      5  sCKAcOTN\n",
      "12 2019-03-04 15:34:46      4  OUBWQSCl\n",
      "17 2019-03-14 12:46:19      4  g4si3TQ8\n",
      "16 2019-03-12 15:33:28      3  Y3wTtqaJ\n",
      "6  2019-02-16 14:52:23      3  bQXWpQ2z\n",
      "11 2019-02-26 12:45:10      3  FEgRztcr\n",
      "8  2019-02-20 16:35:12      3  zVuiSTm1\n",
      "3  2019-02-10 16:50:22      2  M56OK96C\n",
      "10 2019-02-24 12:39:30      2  MKDhBt9L\n",
      "7  2019-02-18 15:45:33      2  gsFVGOTy\n",
      "26 2019-04-03 15:12:15      2  NJ1D9dAt\n",
      "9  2019-02-22 15:52:27      1  kuULtbnm\n",
      "5  2019-02-14 15:10:45      1  LioXfSPk\n",
      "4  2019-02-12 14:16:28      1  q2fqVqPc\n",
      "1  2019-02-06 15:30:54      1  Q62R1Ue7\n",
      "2  2019-02-08 14:53:45      1  GmfSxgPs\n",
      "0  2019-02-04 13:22:34      1  6ukoNykP\n"
     ]
    }
   ],
   "source": [
    "import pandas as pd\n",
    "\n",
    "position = pd.read_csv('../datasets/position.csv')\n",
    "position['timestamp'] = pd.to_datetime(\n",
    "    position['timestamp'], format='%Y-%m-%dT%H:%M:%S'\n",
    ")\n",
    "print(position.sort_values(by='level', ascending=False))"
   ],
   "metadata": {
    "collapsed": false,
    "pycharm": {
     "name": "#%%\n"
    }
   }
  }
 ],
 "metadata": {
  "kernelspec": {
   "display_name": "Python 3",
   "language": "python",
   "name": "python3"
  },
  "language_info": {
   "codemirror_mode": {
    "name": "ipython",
    "version": 2
   },
   "file_extension": ".py",
   "mimetype": "text/x-python",
   "name": "python",
   "nbconvert_exporter": "python",
   "pygments_lexer": "ipython2",
   "version": "2.7.6"
  }
 },
 "nbformat": 4,
 "nbformat_minor": 0
}