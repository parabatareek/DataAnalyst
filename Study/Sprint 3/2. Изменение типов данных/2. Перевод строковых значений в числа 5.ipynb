{
 "cells": [
  {
   "cell_type": "markdown",
   "metadata": {
    "collapsed": true,
    "pycharm": {
     "name": "#%% md\n"
    }
   },
   "source": [
    "# 5.\n",
    "Посчитайте общую стоимость проданных товаров — сумму значений столбца amount в датафрейме transactions. Результат выведите на экран.\n",
    "\n",
    "Подсказка\n",
    "Для подсчета суммы вызовите метод sum()."
   ]
  },
  {
   "cell_type": "code",
   "execution_count": 1,
   "outputs": [
    {
     "name": "stdout",
     "output_type": "stream",
     "text": [
      "596107.1\n"
     ]
    }
   ],
   "source": [
    "import pandas as pd\n",
    "\n",
    "transactions = pd.read_excel('../datasets/ids.xlsx')\n",
    "transactions['id'] = pd.to_numeric(transactions['id'], errors='coerce')\n",
    "transactions['amount'] = pd.to_numeric(transactions['amount'], errors='coerce')\n",
    "print(transactions['amount'].sum())"
   ],
   "metadata": {
    "collapsed": false,
    "pycharm": {
     "name": "#%%\n"
    }
   }
  }
 ],
 "metadata": {
  "kernelspec": {
   "display_name": "Python 3",
   "language": "python",
   "name": "python3"
  },
  "language_info": {
   "codemirror_mode": {
    "name": "ipython",
    "version": 2
   },
   "file_extension": ".py",
   "mimetype": "text/x-python",
   "name": "python",
   "nbconvert_exporter": "python",
   "pygments_lexer": "ipython2",
   "version": "2.7.6"
  }
 },
 "nbformat": 4,
 "nbformat_minor": 0
}