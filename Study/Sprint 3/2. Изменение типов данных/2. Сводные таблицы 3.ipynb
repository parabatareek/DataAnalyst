{
 "cells": [
  {
   "cell_type": "markdown",
   "metadata": {
    "collapsed": true,
    "pycharm": {
     "name": "#%% md\n"
    }
   },
   "source": [
    "# 3.\n",
    "Отсортируйте таблицу по столбцу 'ratio' в порядке убывания. Выведите первые 10 строк.\n",
    "Отсортированную таблицу сохранять не нужно.\n",
    "\n",
    "Подсказка\n",
    "За вывод значений по убыванию отвечает аргумент ascending=False."
   ]
  },
  {
   "cell_type": "code",
   "execution_count": 3,
   "outputs": [
    {
     "name": "stdout",
     "output_type": "stream",
     "text": [
      "source                                                     direct  organic  \\\n",
      "category_name          subcategory_name                                      \n",
      "Авто                   Шины                                 39638   153859   \n",
      "Бытовая техника        Стиральные машины                    22064    64570   \n",
      "Спорт и отдых          Велосипеды                           16009    46087   \n",
      "Детские товары         Коляски                              18079    52005   \n",
      "Строительство и ремонт Сварочные аппараты                    6175    17325   \n",
      "Товары для дома        Компьютерные кресла                   6208    17407   \n",
      "Компьютерная техника   Клавиатуры                            6224    17417   \n",
      "Электроника            Универсальные внешние аккумуляторы    6146    17115   \n",
      "                       TV-тюнеры                             6275    17427   \n",
      "Бытовая техника        Холодильники                         20920    57985   \n",
      "\n",
      "source                                                        ratio  \n",
      "category_name          subcategory_name                              \n",
      "Авто                   Шины                                3.881604  \n",
      "Бытовая техника        Стиральные машины                   2.926487  \n",
      "Спорт и отдых          Велосипеды                          2.878818  \n",
      "Детские товары         Коляски                             2.876542  \n",
      "Строительство и ремонт Сварочные аппараты                  2.805668  \n",
      "Товары для дома        Компьютерные кресла                 2.803963  \n",
      "Компьютерная техника   Клавиатуры                          2.798361  \n",
      "Электроника            Универсальные внешние аккумуляторы  2.784738  \n",
      "                       TV-тюнеры                           2.777211  \n",
      "Бытовая техника        Холодильники                        2.771750  \n"
     ]
    }
   ],
   "source": [
    "import pandas as pd\n",
    "data_final = pd.read_csv('../datasets/data_final.csv')\n",
    "data_pivot = data_final.pivot_table(index=['category_name', 'subcategory_name'], columns='source', values='visits', aggfunc='sum')\n",
    "data_pivot['ratio'] = data_pivot['organic'] / data_pivot['direct']\n",
    "print(data_pivot.sort_values(by='ratio', ascending=False).head(10))"
   ],
   "metadata": {
    "collapsed": false,
    "pycharm": {
     "name": "#%%\n"
    }
   }
  }
 ],
 "metadata": {
  "kernelspec": {
   "display_name": "Python 3",
   "language": "python",
   "name": "python3"
  },
  "language_info": {
   "codemirror_mode": {
    "name": "ipython",
    "version": 2
   },
   "file_extension": ".py",
   "mimetype": "text/x-python",
   "name": "python",
   "nbconvert_exporter": "python",
   "pygments_lexer": "ipython2",
   "version": "2.7.6"
  }
 },
 "nbformat": 4,
 "nbformat_minor": 0
}