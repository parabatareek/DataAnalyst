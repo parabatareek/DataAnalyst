{
 "cells": [
  {
   "cell_type": "markdown",
   "metadata": {
    "collapsed": true,
    "pycharm": {
     "name": "#%% md\n"
    }
   },
   "source": [
    "# 3.\n",
    "Методом read_excel() прочтите второй лист 'subcategory_ids' и сохраните его в переменной subcategory_dict.\n",
    "Выведите на экран его первые 5 строк методом head().\n",
    "Обратите внимание на названия столбцов: к знакомым нам идентификаторам подкатегорий (subcategory_id) добавились идентификаторы категорий (category_id) и названия подкатегорий (subcategory_name).\n",
    "Всё это похоже на словарь, где идентификаторам подкатегорий из цифр и латинских букв соответствуют понятные нам названия. Поэтому датафрейм называется subcategory_dict.\n",
    "Путь к файлу: /datasets/seo_data.xlsx\n",
    "\n",
    "Подсказка\n",
    "Всё как в первом задании. Как параметры метода read_excel() укажите путь к файлу '/datasets/seo_data.xlsx' и название листа 'subcategory_ids'."
   ]
  },
  {
   "cell_type": "code",
   "execution_count": 1,
   "outputs": [],
   "source": [
    "import pandas as pd\n",
    "\n",
    "subcategory_dict = pd.read_excel('../datasets/seo_data.xlsx', sheet_name='subcategory_ids')"
   ],
   "metadata": {
    "collapsed": false,
    "pycharm": {
     "name": "#%%\n"
    }
   }
  },
  {
   "cell_type": "code",
   "execution_count": 2,
   "outputs": [
    {
     "name": "stdout",
     "output_type": "stream",
     "text": [
      "  subcategory_id                subcategory_name category_id\n",
      "0     cf2e61c7af              Мобильные телефоны  09f279a643\n",
      "1     0cd903d1cc                        Ноутбуки  3509869a61\n",
      "2     ef35bc88a7                      Телевизоры  09f279a643\n",
      "3     6ff9f4014c                        Планшеты  3509869a61\n",
      "4     72bc238e4d  Наушники и Bluetooth-гарнитуры  09f279a643\n"
     ]
    }
   ],
   "source": [
    "print(subcategory_dict.head())"
   ],
   "metadata": {
    "collapsed": false,
    "pycharm": {
     "name": "#%%\n"
    }
   }
  }
 ],
 "metadata": {
  "kernelspec": {
   "display_name": "Python 3",
   "language": "python",
   "name": "python3"
  },
  "language_info": {
   "codemirror_mode": {
    "name": "ipython",
    "version": 2
   },
   "file_extension": ".py",
   "mimetype": "text/x-python",
   "name": "python",
   "nbconvert_exporter": "python",
   "pygments_lexer": "ipython2",
   "version": "2.7.6"
  }
 },
 "nbformat": 4,
 "nbformat_minor": 0
}