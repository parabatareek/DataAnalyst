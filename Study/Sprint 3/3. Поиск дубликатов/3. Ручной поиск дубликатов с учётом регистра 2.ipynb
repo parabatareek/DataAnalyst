{
 "cells": [
  {
   "cell_type": "markdown",
   "metadata": {
    "collapsed": true,
    "pycharm": {
     "name": "#%% md\n"
    }
   },
   "source": [
    "2.\n",
    "В столбце 'item_lowercase' посчитайте количество дублей для каждой модели телефона методом value_counts().\n",
    "Выведите результат на экран.\n",
    "\n",
    "Подсказка\n",
    "Передайте функции print() выражение stock['item_lowercase'].value_counts()."
   ]
  },
  {
   "cell_type": "code",
   "execution_count": 1,
   "outputs": [
    {
     "name": "stdout",
     "output_type": "stream",
     "text": [
      "смартфон samsung galaxy a30 32gb    2\n",
      "смартфон apple iphone xr 64gb       2\n",
      "смартфон xiaomi redmi 6a 16gb       1\n",
      "смартфон huawei p30 lite            1\n",
      "смартфон honor 8x 64gb              1\n",
      "Name: item_lowercase, dtype: int64\n"
     ]
    }
   ],
   "source": [
    "import pandas as pd\n",
    "stock = pd.read_csv('../datasets/stock_upd.csv')\n",
    "stock['item_lowercase'] = stock['item'].str.lower()\n",
    "print(stock['item_lowercase'].value_counts())"
   ],
   "metadata": {
    "collapsed": false,
    "pycharm": {
     "name": "#%%\n"
    }
   }
  }
 ],
 "metadata": {
  "kernelspec": {
   "display_name": "Python 3",
   "language": "python",
   "name": "python3"
  },
  "language_info": {
   "codemirror_mode": {
    "name": "ipython",
    "version": 2
   },
   "file_extension": ".py",
   "mimetype": "text/x-python",
   "name": "python",
   "nbconvert_exporter": "python",
   "pygments_lexer": "ipython2",
   "version": "2.7.6"
  }
 },
 "nbformat": 4,
 "nbformat_minor": 0
}