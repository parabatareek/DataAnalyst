{
 "cells": [
  {
   "cell_type": "markdown",
   "metadata": {
    "collapsed": true,
    "pycharm": {
     "name": "#%% md\n"
    }
   },
   "source": [
    "# 3.\n",
    "Начните собирать данные для новой таблицы уже без дубликатов.\n",
    "Посчитайте количество телефонов марки Xiaomi Redmi на складе и сохраните его в переменной xiaomi.\n",
    "Результат выведите на экран.\n",
    "\n",
    "Подсказка\n",
    "Сперва найдите нужный смартфон, затем примените sum() к столбцу с количеством моделей. Не забудьте сохранить полученный результат в переменной xiaomi:\n",
    "\n",
    "stock[stock['item'] == 'Смартфон Xiaomi Redmi 6A 16GB']['count'].sum()"
   ]
  },
  {
   "cell_type": "code",
   "execution_count": 1,
   "outputs": [
    {
     "name": "stdout",
     "output_type": "stream",
     "text": [
      "44\n"
     ]
    }
   ],
   "source": [
    "import pandas as pd\n",
    "stock = pd.read_excel('../datasets/stock.xlsx', sheet_name='storehouse')\n",
    "xiaomi = stock[stock['item'] == 'Смартфон Xiaomi Redmi 6A 16GB']['count'].sum()\n",
    "print(xiaomi)"
   ],
   "metadata": {
    "collapsed": false,
    "pycharm": {
     "name": "#%%\n"
    }
   }
  }
 ],
 "metadata": {
  "kernelspec": {
   "display_name": "Python 3",
   "language": "python",
   "name": "python3"
  },
  "language_info": {
   "codemirror_mode": {
    "name": "ipython",
    "version": 2
   },
   "file_extension": ".py",
   "mimetype": "text/x-python",
   "name": "python",
   "nbconvert_exporter": "python",
   "pygments_lexer": "ipython2",
   "version": "2.7.6"
  }
 },
 "nbformat": 4,
 "nbformat_minor": 0
}