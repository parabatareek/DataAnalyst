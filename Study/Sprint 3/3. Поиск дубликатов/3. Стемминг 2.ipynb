{
 "cells": [
  {
   "cell_type": "markdown",
   "metadata": {
    "collapsed": true,
    "pycharm": {
     "name": "#%% md\n"
    }
   },
   "source": [
    "# 2.\n",
    "Проведите стемминг в списке words. Результат выведите на экран в следующем виде:\n",
    "\n",
    "Исходное слово - ..., после стемминга - ...\n",
    "\n",
    "Подсказка\n",
    "Напишите цикл для каждого слова из списка."
   ]
  },
  {
   "cell_type": "code",
   "execution_count": 1,
   "outputs": [
    {
     "name": "stdout",
     "output_type": "stream",
     "text": [
      "Исходное слово - эпл, после стемминга - эпл\n",
      "Исходное слово - эплан, после стемминга - эпла\n",
      "Исходное слово - эплеренон, после стемминга - эплеренон\n"
     ]
    }
   ],
   "source": [
    "from nltk.stem import SnowballStemmer\n",
    "russian_stemmer = SnowballStemmer('russian')\n",
    "words = [\"эпл\", \"эплан\", \"эплеренон\"]\n",
    "\n",
    "for word in words:\n",
    "    stemmed_word = russian_stemmer.stem(word)\n",
    "    print(f'Исходное слово - {word}, после стемминга - {stemmed_word}')"
   ],
   "metadata": {
    "collapsed": false,
    "pycharm": {
     "name": "#%%\n"
    }
   }
  }
 ],
 "metadata": {
  "kernelspec": {
   "display_name": "Python 3",
   "language": "python",
   "name": "python3"
  },
  "language_info": {
   "codemirror_mode": {
    "name": "ipython",
    "version": 2
   },
   "file_extension": ".py",
   "mimetype": "text/x-python",
   "name": "python",
   "nbconvert_exporter": "python",
   "pygments_lexer": "ipython2",
   "version": "2.7.6"
  }
 },
 "nbformat": 4,
 "nbformat_minor": 0
}