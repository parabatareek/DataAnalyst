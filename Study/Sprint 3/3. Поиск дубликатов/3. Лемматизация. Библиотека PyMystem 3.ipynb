{
 "cells": [
  {
   "cell_type": "markdown",
   "metadata": {
    "collapsed": true,
    "pycharm": {
     "name": "#%% md\n"
    }
   },
   "source": [
    "3.\n",
    "Посчитайте, сколько раз каждое слово употребляется во втором отзыве.\n",
    "Закомментируйте вывод предыдущей задачи и выведите результат на экран.\n",
    "\n",
    "Подсказка\n",
    "Для подсчёта количества упоминаний передайте контейнеру Counter() аргумент lemmas.\n",
    "Предварительно не забудьте импортировать Counter()."
   ]
  },
  {
   "cell_type": "code",
   "execution_count": 1,
   "outputs": [
    {
     "name": "stdout",
     "output_type": "stream",
     "text": [
      "Counter({' ': 16, 'на': 2, '- ': 1, 'огромный': 1, 'качественный': 1, 'экран': 1, 'запас': 1, 'производительность': 1, 'хватить': 1, 'несколько': 1, 'год': 1, 'замечательный': 1, 'камера': 1, 'очень': 1, 'емкий': 1, 'батарея': 1, '. ': 1, 'хватать': 1, 'целый': 1, 'день': 1, '.': 1, '\\n': 1})\n"
     ]
    }
   ],
   "source": [
    "import pandas as pd\n",
    "from pymystem3 import Mystem\n",
    "from collections import Counter\n",
    "feedback = pd.read_csv('../datasets/feedback.csv')\n",
    "m = Mystem()\n",
    "\n",
    "lemmas = m.lemmatize(feedback['text'][1])\n",
    "print(Counter(lemmas))\n",
    "#print(lemmas)"
   ],
   "metadata": {
    "collapsed": false,
    "pycharm": {
     "name": "#%%\n"
    }
   }
  }
 ],
 "metadata": {
  "kernelspec": {
   "display_name": "Python 3",
   "language": "python",
   "name": "python3"
  },
  "language_info": {
   "codemirror_mode": {
    "name": "ipython",
    "version": 2
   },
   "file_extension": ".py",
   "mimetype": "text/x-python",
   "name": "python",
   "nbconvert_exporter": "python",
   "pygments_lexer": "ipython2",
   "version": "2.7.6"
  }
 },
 "nbformat": 4,
 "nbformat_minor": 0
}