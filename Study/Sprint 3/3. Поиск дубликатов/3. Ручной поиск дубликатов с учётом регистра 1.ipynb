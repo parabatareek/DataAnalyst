{
 "cells": [
  {
   "cell_type": "markdown",
   "metadata": {
    "collapsed": true,
    "pycharm": {
     "name": "#%% md\n"
    }
   },
   "source": [
    "# 1.\n",
    "Переведите названия моделей в нижний регистр методом str.lower(). Сохраните их в новом столбце 'item_lowercase'.\n",
    "Распечатайте таблицу после преобразования.\n",
    "\n",
    "Подсказка\n",
    "Примените метод str.lower() к столбцу stock['item']. Результат сохраните в столбце stock['item_lowercase']:\n",
    "\n",
    "stock['item_lowercase'] = stock['item'].str.lower()"
   ]
  },
  {
   "cell_type": "code",
   "execution_count": 2,
   "outputs": [],
   "source": [
    "import pandas as pd\n",
    "stock = pd.read_csv('../datasets/stock_upd.csv')"
   ],
   "metadata": {
    "collapsed": false,
    "pycharm": {
     "name": "#%%\n"
    }
   }
  },
  {
   "cell_type": "code",
   "execution_count": 3,
   "outputs": [
    {
     "name": "stdout",
     "output_type": "stream",
     "text": [
      "          id                              item  count  \\\n",
      "0  100480924     Смартфон Xiaomi Redmi 6A 16GB     44   \n",
      "1  100480938  Смартфон Samsung Galaxy A30 32GB     49   \n",
      "2  100480952  смартфон Samsung Galaxy A30 32gb     11   \n",
      "3  100480959          Смартфон HUAWEI P30 lite     38   \n",
      "4  100480975     Смартфон Apple iPhone Xr 64gb     10   \n",
      "5  100480988            Смартфон Honor 8X 64GB     64   \n",
      "6  100481020     Смартфон Apple iPhone Xr 64GB     19   \n",
      "\n",
      "                     item_lowercase  \n",
      "0     смартфон xiaomi redmi 6a 16gb  \n",
      "1  смартфон samsung galaxy a30 32gb  \n",
      "2  смартфон samsung galaxy a30 32gb  \n",
      "3          смартфон huawei p30 lite  \n",
      "4     смартфон apple iphone xr 64gb  \n",
      "5            смартфон honor 8x 64gb  \n",
      "6     смартфон apple iphone xr 64gb  \n"
     ]
    }
   ],
   "source": [
    "stock['item_lowercase'] = stock['item'].str.lower()\n",
    "print(stock)# сохраните здесь список названий моделей в нижнем регистре"
   ],
   "metadata": {
    "collapsed": false,
    "pycharm": {
     "name": "#%%\n"
    }
   }
  }
 ],
 "metadata": {
  "kernelspec": {
   "display_name": "Python 3",
   "language": "python",
   "name": "python3"
  },
  "language_info": {
   "codemirror_mode": {
    "name": "ipython",
    "version": 2
   },
   "file_extension": ".py",
   "mimetype": "text/x-python",
   "name": "python",
   "nbconvert_exporter": "python",
   "pygments_lexer": "ipython2",
   "version": "2.7.6"
  }
 },
 "nbformat": 4,
 "nbformat_minor": 0
}