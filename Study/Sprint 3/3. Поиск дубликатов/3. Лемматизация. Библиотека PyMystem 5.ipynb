{
 "cells": [
  {
   "cell_type": "markdown",
   "metadata": {
    "collapsed": true,
    "pycharm": {
     "name": "#%% md\n"
    }
   },
   "source": [
    "# 5.\n",
    "Посчитайте, сколько раз каждое слово употребляется в третьем отзыве.\n",
    "Закомментируйте вывод предыдущей задачи и выведите результат на экран.\n",
    "\n",
    "Подсказка\n",
    "Передайте контейнеру Counter() аргумент lemmas."
   ]
  },
  {
   "cell_type": "code",
   "execution_count": 1,
   "outputs": [],
   "source": [
    "import pandas as pd\n",
    "from collections import Counter\n",
    "from pymystem3 import Mystem"
   ],
   "metadata": {
    "collapsed": false,
    "pycharm": {
     "name": "#%%\n"
    }
   }
  },
  {
   "cell_type": "code",
   "execution_count": 2,
   "outputs": [
    {
     "name": "stdout",
     "output_type": "stream",
     "text": [
      "Counter({' ': 47, ', ': 4, 'и': 4, '. ': 2, 'к': 2, '- ': 1, 'Face': 1, 'ID': 1, ' - ': 1, 'бесить': 1, 'хоть': 1, 'работать': 1, 'достаточно': 1, 'вменяемый': 1, 'быстро': 1, 'я': 1, 'вход': 1, 'по': 1, 'отпечаток': 1, 'палец': 1, 'нравиться': 1, 'куда': 1, 'много': 1, 'думать': 1, ',': 1, 'что': 1, 'apple': 1, 'вернуться': 1, 'он': 1, 'скользкий': 1, 'съезжать': 1, 'со': 1, 'многий': 1, 'поверхность': 1, 'в': 1, 'тот': 1, 'число': 1, 'с': 1, 'беспроводный': 1, 'зарядка': 1, ', (': 1, 'который': 1, 'специально': 1, 'сделать': 1, 'из': 1, 'софт': 1, '-': 1, 'тач': 1, 'пластика': 1, ') ': 1, 'она': 1, 'немного': 1, 'выпуклый': 1, 'так': 1, 'же': 1, 'мочь': 1, 'выскальзывать': 1, 'если': 1, 'пользоваться': 1, 'один': 1, 'рука': 1, 'тянуться': 1, 'низ': 1, 'экран': 1, '\\n': 1})\n"
     ]
    }
   ],
   "source": [
    "feedback = pd.read_csv(filepath_or_buffer='../datasets/feedback.csv')\n",
    "\n",
    "m = Mystem()\n",
    "lemmas = m.lemmatize(feedback['text'][2])\n",
    "print(Counter(lemmas))"
   ],
   "metadata": {
    "collapsed": false,
    "pycharm": {
     "name": "#%%\n"
    }
   }
  }
 ],
 "metadata": {
  "kernelspec": {
   "display_name": "Python 3",
   "language": "python",
   "name": "python3"
  },
  "language_info": {
   "codemirror_mode": {
    "name": "ipython",
    "version": 2
   },
   "file_extension": ".py",
   "mimetype": "text/x-python",
   "name": "python",
   "nbconvert_exporter": "python",
   "pygments_lexer": "ipython2",
   "version": "2.7.6"
  }
 },
 "nbformat": 4,
 "nbformat_minor": 0
}