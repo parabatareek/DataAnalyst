{
 "cells": [
  {
   "cell_type": "markdown",
   "metadata": {
    "collapsed": true,
    "pycharm": {
     "name": "#%% md\n"
    }
   },
   "source": [
    "# 4.\n",
    "Лемматизируйте слова третьего отзыва и сохраните результат в переменной lemmas. Выведите слова на экран.\n",
    "Не забудьте импортировать библиотеку pymystem3.\n",
    "\n",
    "Подсказка\n",
    "Третий отзыв находится в ячейке feedback['text'][2]."
   ]
  },
  {
   "cell_type": "code",
   "execution_count": 1,
   "outputs": [],
   "source": [
    "import pandas as pd\n",
    "from collections import Counter\n",
    "from pymystem3 import Mystem"
   ],
   "metadata": {
    "collapsed": false,
    "pycharm": {
     "name": "#%%\n"
    }
   }
  },
  {
   "cell_type": "code",
   "execution_count": 2,
   "outputs": [],
   "source": [
    "feedback = pd.read_csv(filepath_or_buffer='../datasets/feedback.csv')"
   ],
   "metadata": {
    "collapsed": false,
    "pycharm": {
     "name": "#%%\n"
    }
   }
  },
  {
   "cell_type": "code",
   "execution_count": 3,
   "outputs": [
    {
     "name": "stdout",
     "output_type": "stream",
     "text": [
      "['- ', 'Face', ' ', 'ID', ' - ', 'бесить', ', ', 'хоть', ' ', 'и', ' ', 'работать', ' ', 'достаточно', ' ', 'вменяемый', ' ', 'и', ' ', 'быстро', ', ', 'я', ' ', 'вход', ' ', 'по', ' ', 'отпечаток', ' ', 'палец', ' ', 'нравиться', ' ', 'куда', ' ', 'много', '. ', 'думать', ',', 'что', ' ', 'apple', ' ', 'вернуться', ' ', 'к', ' ', 'он', ' ', 'скользкий', ', ', 'съезжать', ' ', 'со', ' ', 'многий', ' ', 'поверхность', ', ', 'в', ' ', 'тот', ' ', 'число', ' ', 'и', ' ', 'с', ' ', 'беспроводный', ' ', 'зарядка', ', (', 'который', ' ', 'специально', ' ', 'сделать', ' ', 'из', ' ', 'софт', '-', 'тач', ' ', 'пластика', ') ', 'она', ' ', 'немного', ' ', 'выпуклый', '. ', 'так', ' ', 'же', ' ', 'мочь', ' ', 'выскальзывать', ' ', 'если', ' ', 'пользоваться', ' ', 'один', ' ', 'рука', ' ', 'и', ' ', 'тянуться', ' ', 'к', ' ', 'низ', ' ', 'экран', '\\n']\n"
     ]
    }
   ],
   "source": [
    "m = Mystem()\n",
    "lemmas = m.lemmatize(feedback['text'][2])\n",
    "print(lemmas)"
   ],
   "metadata": {
    "collapsed": false,
    "pycharm": {
     "name": "#%%\n"
    }
   }
  }
 ],
 "metadata": {
  "kernelspec": {
   "display_name": "Python 3",
   "language": "python",
   "name": "python3"
  },
  "language_info": {
   "codemirror_mode": {
    "name": "ipython",
    "version": 2
   },
   "file_extension": ".py",
   "mimetype": "text/x-python",
   "name": "python",
   "nbconvert_exporter": "python",
   "pygments_lexer": "ipython2",
   "version": "2.7.6"
  }
 },
 "nbformat": 4,
 "nbformat_minor": 0
}