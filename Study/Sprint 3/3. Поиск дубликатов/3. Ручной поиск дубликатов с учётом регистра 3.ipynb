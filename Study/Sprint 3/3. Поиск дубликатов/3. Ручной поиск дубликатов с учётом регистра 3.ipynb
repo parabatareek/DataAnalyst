{
 "cells": [
  {
   "cell_type": "markdown",
   "metadata": {
    "collapsed": true,
    "pycharm": {
     "name": "#%% md\n"
    }
   },
   "source": [
    "# 3.\n",
    "Сохраните количество телефонов Apple в переменной apple. Выведите значение переменной на экран.\n",
    "\n",
    "Подсказка\n",
    "В столбце 'item_lowercase' найдите все смартфоны Apple.\n",
    "Посчитайте их количество, применив метод sum() к значениям в столбце 'count':\n",
    "\n",
    "apple = stock[stock['item_lowercase'] == 'смартфон apple iphone xr 64gb']['count'].sum()"
   ]
  },
  {
   "cell_type": "code",
   "execution_count": 2,
   "outputs": [],
   "source": [
    "import pandas as pd\n",
    "stock = pd.read_csv('../datasets/stock_upd.csv')\n",
    "stock['item_lowercase'] = stock['item'].str.lower()"
   ],
   "metadata": {
    "collapsed": false,
    "pycharm": {
     "name": "#%%\n"
    }
   }
  },
  {
   "cell_type": "code",
   "execution_count": 3,
   "outputs": [
    {
     "name": "stdout",
     "output_type": "stream",
     "text": [
      "29\n"
     ]
    }
   ],
   "source": [
    "apple = stock[stock['item_lowercase'] == 'смартфон apple iphone xr 64gb']['count'].sum()\n",
    "print(apple)"
   ],
   "metadata": {
    "collapsed": false,
    "pycharm": {
     "name": "#%%\n"
    }
   }
  }
 ],
 "metadata": {
  "kernelspec": {
   "display_name": "Python 3",
   "language": "python",
   "name": "python3"
  },
  "language_info": {
   "codemirror_mode": {
    "name": "ipython",
    "version": 2
   },
   "file_extension": ".py",
   "mimetype": "text/x-python",
   "name": "python",
   "nbconvert_exporter": "python",
   "pygments_lexer": "ipython2",
   "version": "2.7.6"
  }
 },
 "nbformat": 4,
 "nbformat_minor": 0
}