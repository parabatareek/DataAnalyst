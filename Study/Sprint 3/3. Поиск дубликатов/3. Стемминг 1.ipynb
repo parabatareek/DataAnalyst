{
 "cells": [
  {
   "cell_type": "markdown",
   "metadata": {
    "collapsed": true,
    "pycharm": {
     "name": "#%% md\n"
    }
   },
   "source": [
    "# 1.\n",
    "Вернитесь к смартфонам и проанализируйте поисковые запросы пользователей.\n",
    "Напишите цикл, который выводит только запросы, содержащие набор букв «эпл».\n",
    "Внимательно просмотрите полученный список и найдите лишние слова.\n",
    "\n",
    "Подсказка\n",
    "Есть в теоретической части цикл для поиска «мух». Составьте аналогичный для «эпл»."
   ]
  },
  {
   "cell_type": "code",
   "execution_count": 2,
   "outputs": [
    {
     "name": "stdout",
     "output_type": "stream",
     "text": [
      "эпл айфоны\n",
      "купить эпл телефон\n",
      "смартфон эпл айфон\n",
      "эплан\n",
      "эпл айфоны икс\n",
      "эпл айфон 64гб\n",
      "купить эпл\n",
      "эпл айфон купить\n",
      "эплеренон купить\n",
      "эплан показания\n",
      "эпл\n"
     ]
    }
   ],
   "source": [
    "from nltk.stem import SnowballStemmer\n",
    "russian_stemmer = SnowballStemmer('russian')\n",
    "\n",
    "queries = [\"эпл айфоны\",\n",
    "           \"купить эпл телефон\",\n",
    "           \"лучшие смартфоны\",\n",
    "           \"барон фон\",\n",
    "           \"смартфон эпл айфон\",\n",
    "           \"смартфоны 2019\",\n",
    "           \"эплан\",\n",
    "           \"фоновая музыка\",\n",
    "           \"эпл айфоны икс\",\n",
    "           \"эпл айфон 64гб\",\n",
    "           \"фон для фото\",\n",
    "           \"купить эпл\",\n",
    "           \"эпл айфон купить\",\n",
    "           \"эплеренон купить\",\n",
    "           \"смартфон где купить\",\n",
    "           \"эплан показания\",\n",
    "           \"смартфон huawei\",\n",
    "           \"эпл\"]\n",
    "\n",
    "for query in queries:\n",
    "    for word in query.split():\n",
    "        if 'эпл' in word: print(query)"
   ],
   "metadata": {
    "collapsed": false,
    "pycharm": {
     "name": "#%%\n"
    }
   }
  }
 ],
 "metadata": {
  "kernelspec": {
   "display_name": "Python 3",
   "language": "python",
   "name": "python3"
  },
  "language_info": {
   "codemirror_mode": {
    "name": "ipython",
    "version": 2
   },
   "file_extension": ".py",
   "mimetype": "text/x-python",
   "name": "python",
   "nbconvert_exporter": "python",
   "pygments_lexer": "ipython2",
   "version": "2.7.6"
  }
 },
 "nbformat": 4,
 "nbformat_minor": 0
}