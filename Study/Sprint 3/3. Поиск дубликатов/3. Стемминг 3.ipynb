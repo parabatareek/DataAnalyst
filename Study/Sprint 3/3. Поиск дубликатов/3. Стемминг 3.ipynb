{
 "cells": [
  {
   "cell_type": "markdown",
   "source": [
    "# 3.\n",
    "Напечатайте список запросов только с основой «эпл».\n",
    "\n",
    "Подсказка\n",
    "Проведите стемминг для каждого слова в списке методом russian_stemmer.stem(). Сравните результаты стемминга с ‘эпл’."
   ],
   "metadata": {
    "collapsed": false,
    "pycharm": {
     "name": "#%% md\n"
    }
   }
  },
  {
   "cell_type": "code",
   "metadata": {
    "collapsed": true,
    "pycharm": {
     "name": "#%%\n"
    }
   },
   "source": [
    "from nltk.stem import SnowballStemmer\n",
    "russian_stemmer = SnowballStemmer('russian')\n",
    "\n",
    "queries = [\"эпл айфоны\",\n",
    "           \"купить эпл телефон\",\n",
    "           \"лучшие смартфоны\",\n",
    "           \"барон фон\",\n",
    "           \"смартфон эпл айфон\",\n",
    "           \"смартфоны 2019\",\n",
    "           \"эплан\",\n",
    "           \"фоновая музыка\",\n",
    "           \"эпл айфоны икс\",\n",
    "           \"эпл айфон 64гб\",\n",
    "           \"фон для фото\",\n",
    "           \"купить эпл\",\n",
    "           \"эпл айфон купить\",\n",
    "           \"эплеренон купить\",\n",
    "           \"смартфон где купить\",\n",
    "           \"эплан показания\",\n",
    "           \"смартфон huawei\",\n",
    "           \"эпл\"]\n",
    "\n",
    "for query in queries:\n",
    "    for word in query.split(' '):\n",
    "        if russian_stemmer.stem(word) == 'эпл': print(query)\n"
   ],
   "execution_count": 1,
   "outputs": [
    {
     "name": "stdout",
     "output_type": "stream",
     "text": [
      "эпл айфоны\n",
      "купить эпл телефон\n",
      "смартфон эпл айфон\n",
      "эпл айфоны икс\n",
      "эпл айфон 64гб\n",
      "купить эпл\n",
      "эпл айфон купить\n",
      "эпл\n"
     ]
    }
   ]
  }
 ],
 "metadata": {
  "kernelspec": {
   "display_name": "Python 3",
   "language": "python",
   "name": "python3"
  },
  "language_info": {
   "codemirror_mode": {
    "name": "ipython",
    "version": 2
   },
   "file_extension": ".py",
   "mimetype": "text/x-python",
   "name": "python",
   "nbconvert_exporter": "python",
   "pygments_lexer": "ipython2",
   "version": "2.7.6"
  }
 },
 "nbformat": 4,
 "nbformat_minor": 0
}