{
 "cells": [
  {
   "cell_type": "markdown",
   "metadata": {
    "collapsed": true,
    "pycharm": {
     "name": "#%% md\n"
    }
   },
   "source": [
    "# 2.\n",
    "Лемматизируйте слова во втором отзыве и сохраните результат в переменной lemmas.\n",
    "Выведите слова на экран.\n",
    "Не забудьте импортировать библиотеку pymystem3.\n",
    "\n",
    "Подсказка\n",
    "Второй отзыв хранится в ячейке feedback['text'][1]."
   ]
  },
  {
   "cell_type": "code",
   "execution_count": 2,
   "outputs": [],
   "source": [
    "import pandas as pd\n",
    "from pymystem3 import Mystem\n",
    "feedback = pd.read_csv('../datasets/feedback.csv')"
   ],
   "metadata": {
    "collapsed": false,
    "pycharm": {
     "name": "#%%\n"
    }
   }
  },
  {
   "cell_type": "code",
   "execution_count": 3,
   "outputs": [
    {
     "name": "stdout",
     "output_type": "stream",
     "text": [
      "['- ', 'огромный', ' ', 'качественный', ' ', 'экран', ' ', 'запас', ' ', 'производительность', ' ', 'хватить', ' ', 'на', ' ', 'несколько', ' ', 'год', ' ', 'замечательный', ' ', 'камера', ' ', 'очень', ' ', 'емкий', ' ', 'батарея', '. ', 'хватать', ' ', 'на', ' ', 'целый', ' ', 'день', '.', '\\n']\n"
     ]
    }
   ],
   "source": [
    "m = Mystem()\n",
    "lemma = m.lemmatize(feedback['text'][1])\n",
    "print(lemma)"
   ],
   "metadata": {
    "collapsed": false,
    "pycharm": {
     "name": "#%%\n"
    }
   }
  }
 ],
 "metadata": {
  "kernelspec": {
   "display_name": "Python 3",
   "language": "python",
   "name": "python3"
  },
  "language_info": {
   "codemirror_mode": {
    "name": "ipython",
    "version": 2
   },
   "file_extension": ".py",
   "mimetype": "text/x-python",
   "name": "python",
   "nbconvert_exporter": "python",
   "pygments_lexer": "ipython2",
   "version": "2.7.6"
  }
 },
 "nbformat": 4,
 "nbformat_minor": 0
}