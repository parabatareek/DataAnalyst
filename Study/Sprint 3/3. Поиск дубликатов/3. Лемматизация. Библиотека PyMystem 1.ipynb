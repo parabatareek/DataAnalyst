{
 "cells": [
  {
   "cell_type": "markdown",
   "metadata": {
    "collapsed": true,
    "pycharm": {
     "name": "#%% md\n"
    }
   },
   "source": [
    "# 1.\n",
    "Прочитайте файл с отзывами, расположенный по адресу: /datasets/feedback.csv.\n",
    "Сохраните таблицу в переменной feedback и выведите её на экран.\n",
    "\n",
    "Подсказка\n",
    "Вызовите метод read_csv() для чтения файла."
   ]
  },
  {
   "cell_type": "code",
   "execution_count": 2,
   "outputs": [
    {
     "name": "stdout",
     "output_type": "stream",
     "text": [
      "                                                text\n",
      "0  Супер экран Супер звук, он реально очень хорош...\n",
      "1  - Огромный качественный экран Запаса производи...\n",
      "2  - Face ID - бесит, хоть и работает достаточно ...\n"
     ]
    }
   ],
   "source": [
    "import pandas as pd\n",
    "feedback = pd.read_csv(filepath_or_buffer='../datasets/feedback.csv')\n",
    "print(feedback)"
   ],
   "metadata": {
    "collapsed": false,
    "pycharm": {
     "name": "#%%\n"
    }
   }
  }
 ],
 "metadata": {
  "kernelspec": {
   "display_name": "Python 3",
   "language": "python",
   "name": "python3"
  },
  "language_info": {
   "codemirror_mode": {
    "name": "ipython",
    "version": 2
   },
   "file_extension": ".py",
   "mimetype": "text/x-python",
   "name": "python",
   "nbconvert_exporter": "python",
   "pygments_lexer": "ipython2",
   "version": "2.7.6"
  }
 },
 "nbformat": 4,
 "nbformat_minor": 0
}