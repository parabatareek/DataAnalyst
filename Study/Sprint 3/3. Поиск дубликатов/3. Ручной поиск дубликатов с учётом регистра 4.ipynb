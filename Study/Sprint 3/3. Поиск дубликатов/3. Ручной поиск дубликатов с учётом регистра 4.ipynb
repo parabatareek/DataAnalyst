{
 "cells": [
  {
   "cell_type": "markdown",
   "metadata": {
    "collapsed": true,
    "pycharm": {
     "name": "#%% md\n"
    }
   },
   "source": [
    "# 4.\n",
    "Сохраните количество телефонов Samsung в переменной samsung.\n",
    "Закомментируйте вывод предыдущей задачи и выведите samsung на экран.\n",
    "\n",
    "Подсказка\n",
    "В столбце 'item_lowercase' найдите все смартфоны Samsung.\n",
    "Посчитайте их количество, применив метод sum() к значениям в столбце 'count':"
   ]
  },
  {
   "cell_type": "code",
   "execution_count": 4,
   "outputs": [
    {
     "name": "stdout",
     "output_type": "stream",
     "text": [
      "          id                              item  count  \\\n",
      "0  100480924     Смартфон Xiaomi Redmi 6A 16GB     44   \n",
      "1  100480938  Смартфон Samsung Galaxy A30 32GB     49   \n",
      "2  100480952  смартфон Samsung Galaxy A30 32gb     11   \n",
      "3  100480959          Смартфон HUAWEI P30 lite     38   \n",
      "4  100480975     Смартфон Apple iPhone Xr 64gb     10   \n",
      "5  100480988            Смартфон Honor 8X 64GB     64   \n",
      "6  100481020     Смартфон Apple iPhone Xr 64GB     19   \n",
      "\n",
      "                     item_lowercase  \n",
      "0     смартфон xiaomi redmi 6a 16gb  \n",
      "1  смартфон samsung galaxy a30 32gb  \n",
      "2  смартфон samsung galaxy a30 32gb  \n",
      "3          смартфон huawei p30 lite  \n",
      "4     смартфон apple iphone xr 64gb  \n",
      "5            смартфон honor 8x 64gb  \n",
      "6     смартфон apple iphone xr 64gb  \n"
     ]
    }
   ],
   "source": [
    "import pandas as pd\n",
    "stock = pd.read_csv('../datasets/stock_upd.csv')\n",
    "stock['item_lowercase'] = stock['item'].str.lower()\n",
    "apple = stock[stock['item_lowercase'] == 'смартфон apple iphone xr 64gb']['count'].sum()\n",
    "print(stock)"
   ],
   "metadata": {
    "collapsed": false,
    "pycharm": {
     "name": "#%%\n"
    }
   }
  },
  {
   "cell_type": "code",
   "execution_count": 5,
   "outputs": [
    {
     "name": "stdout",
     "output_type": "stream",
     "text": [
      "60\n"
     ]
    }
   ],
   "source": [
    "samsung = stock[stock['item_lowercase'] == 'смартфон samsung galaxy a30 32gb']['count'].sum()\n",
    "print(samsung)"
   ],
   "metadata": {
    "collapsed": false,
    "pycharm": {
     "name": "#%%\n"
    }
   }
  }
 ],
 "metadata": {
  "kernelspec": {
   "display_name": "Python 3",
   "language": "python",
   "name": "python3"
  },
  "language_info": {
   "codemirror_mode": {
    "name": "ipython",
    "version": 2
   },
   "file_extension": ".py",
   "mimetype": "text/x-python",
   "name": "python",
   "nbconvert_exporter": "python",
   "pygments_lexer": "ipython2",
   "version": "2.7.6"
  }
 },
 "nbformat": 4,
 "nbformat_minor": 0
}