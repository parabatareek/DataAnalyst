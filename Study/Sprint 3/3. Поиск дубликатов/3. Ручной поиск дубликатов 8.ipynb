{
 "cells": [
  {
   "cell_type": "markdown",
   "metadata": {
    "collapsed": true,
    "pycharm": {
     "name": "#%% md\n"
    }
   },
   "source": [
    "# 8.\n",
    "Замените количество телефонов Huawei в таблице — значение в столбце 'count' — на переменную huawei.\n",
    "Распечатайте таблицу stock на экране.\n",
    "\n",
    "Подсказка\n",
    "Сохраните значение переменной huawei в ячейке на пересечении третьей строки и столбца 'count': loc[3, 'count']"
   ]
  },
  {
   "cell_type": "code",
   "execution_count": 2,
   "outputs": [
    {
     "name": "stdout",
     "output_type": "stream",
     "text": [
      "          id                              item  count\n",
      "0  100480924     Смартфон Xiaomi Redmi 6A 16GB     32\n",
      "1  100480938  Смартфон Samsung Galaxy A30 32GB     49\n",
      "2  100480952  смартфон Samsung Galaxy A30 32gb     11\n",
      "3  100480959          Смартфон HUAWEI P30 lite      5\n",
      "4  100480975     Смартфон Apple iPhone Xr 64gb     10\n",
      "5  100480988            Смартфон Honor 8X 64GB     64\n",
      "6  100481020     Смартфон Apple iPhone Xr 64GB     19\n"
     ]
    }
   ],
   "source": [
    "import pandas as pd\n",
    "stock = pd.read_excel('../datasets/stock.xlsx', sheet_name='storehouse')\n",
    "xiaomi = stock[stock['item'] == 'Смартфон Xiaomi Redmi 6A 16GB']['count'].sum()\n",
    "# print(xiaomi)\n",
    "huawei = stock[stock['item'] == 'Смартфон HUAWEI P30 lite']['count'].sum()\n",
    "# print(huawei)\n",
    "stock['item'] = stock['item'].drop_duplicates()\n",
    "# print(stock)\n",
    "stock = stock.dropna().reset_index(drop=True)\n",
    "print(stock)"
   ],
   "metadata": {
    "collapsed": false,
    "pycharm": {
     "name": "#%%\n"
    }
   }
  },
  {
   "cell_type": "code",
   "execution_count": 3,
   "outputs": [
    {
     "name": "stdout",
     "output_type": "stream",
     "text": [
      "          id                              item  count\n",
      "0  100480924     Смартфон Xiaomi Redmi 6A 16GB     44\n",
      "1  100480938  Смартфон Samsung Galaxy A30 32GB     49\n",
      "2  100480952  смартфон Samsung Galaxy A30 32gb     11\n",
      "3  100480959          Смартфон HUAWEI P30 lite     38\n",
      "4  100480975     Смартфон Apple iPhone Xr 64gb     10\n",
      "5  100480988            Смартфон Honor 8X 64GB     64\n",
      "6  100481020     Смартфон Apple iPhone Xr 64GB     19\n"
     ]
    }
   ],
   "source": [
    "stock.loc[0, 'count'] = xiaomi\n",
    "stock.loc[3, 'count'] = huawei\n",
    "print(stock)"
   ],
   "metadata": {
    "collapsed": false,
    "pycharm": {
     "name": "#%%\n"
    }
   }
  }
 ],
 "metadata": {
  "kernelspec": {
   "display_name": "Python 3",
   "language": "python",
   "name": "python3"
  },
  "language_info": {
   "codemirror_mode": {
    "name": "ipython",
    "version": 2
   },
   "file_extension": ".py",
   "mimetype": "text/x-python",
   "name": "python",
   "nbconvert_exporter": "python",
   "pygments_lexer": "ipython2",
   "version": "2.7.6"
  }
 },
 "nbformat": 4,
 "nbformat_minor": 0
}