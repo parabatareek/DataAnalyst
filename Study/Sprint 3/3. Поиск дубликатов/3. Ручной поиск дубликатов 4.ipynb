{
 "cells": [
  {
   "cell_type": "markdown",
   "metadata": {
    "collapsed": true,
    "pycharm": {
     "name": "#%% md\n"
    }
   },
   "source": [
    "# 4.\n",
    "Найдите количество смартфонов HUAWEI и сохраните его в переменной huawei.\n",
    "Закомментируйте вывод предыдущей задачи и выведите результат на экран.\n",
    "\n",
    "Подсказка\n",
    "Выберите только те строки таблицы, где идёт речь о смартфоне HUAWEI P30 lite.\n",
    "Найдите количество устройств, вызвав sum() к столбцу 'count':\n",
    "\n",
    "stock[stock['item'] == 'Смартфон HUAWEI P30 lite']['count'].sum()"
   ]
  },
  {
   "cell_type": "code",
   "execution_count": 1,
   "outputs": [
    {
     "name": "stdout",
     "output_type": "stream",
     "text": [
      "38\n"
     ]
    }
   ],
   "source": [
    "import pandas as pd\n",
    "stock = pd.read_excel('../datasets/stock.xlsx', sheet_name='storehouse')\n",
    "xiaomi = stock[stock['item'] == 'Смартфон Xiaomi Redmi 6A 16GB']['count'].sum()\n",
    "# print(xiaomi)\n",
    "huawei = stock[stock['item'] == 'Смартфон HUAWEI P30 lite']['count'].sum()\n",
    "print(huawei)"
   ],
   "metadata": {
    "collapsed": false,
    "pycharm": {
     "name": "#%%\n"
    }
   }
  }
 ],
 "metadata": {
  "kernelspec": {
   "display_name": "Python 3",
   "language": "python",
   "name": "python3"
  },
  "language_info": {
   "codemirror_mode": {
    "name": "ipython",
    "version": 2
   },
   "file_extension": ".py",
   "mimetype": "text/x-python",
   "name": "python",
   "nbconvert_exporter": "python",
   "pygments_lexer": "ipython2",
   "version": "2.7.6"
  }
 },
 "nbformat": 4,
 "nbformat_minor": 0
}