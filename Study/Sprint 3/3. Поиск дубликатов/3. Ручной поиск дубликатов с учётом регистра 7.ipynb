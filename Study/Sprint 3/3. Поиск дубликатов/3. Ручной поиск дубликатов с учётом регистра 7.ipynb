{
 "cells": [
  {
   "cell_type": "markdown",
   "metadata": {
    "collapsed": true,
    "pycharm": {
     "name": "#%% md\n"
    }
   },
   "source": [
    "# 7.\n",
    "Замените количество телефонов Apple в таблице, т.е. значение в столбце 'count', на переменную apple.\n",
    "Распечатайте таблицу stock на экране.\n",
    "\n",
    "Подсказка\n",
    "Сохраните apple здесь: stock.loc[3,'count']"
   ]
  },
  {
   "cell_type": "code",
   "execution_count": 1,
   "outputs": [
    {
     "name": "stdout",
     "output_type": "stream",
     "text": [
      "          id                              item  count  \\\n",
      "0  100480924     Смартфон Xiaomi Redmi 6A 16GB     44   \n",
      "1  100480938  Смартфон Samsung Galaxy A30 32GB     49   \n",
      "2  100480959          Смартфон HUAWEI P30 lite     38   \n",
      "3  100480975     Смартфон Apple iPhone Xr 64gb     10   \n",
      "4  100480988            Смартфон Honor 8X 64GB     64   \n",
      "\n",
      "                     item_lowercase  \n",
      "0     смартфон xiaomi redmi 6a 16gb  \n",
      "1  смартфон samsung galaxy a30 32gb  \n",
      "2          смартфон huawei p30 lite  \n",
      "3     смартфон apple iphone xr 64gb  \n",
      "4            смартфон honor 8x 64gb  \n"
     ]
    }
   ],
   "source": [
    "import pandas as pd\n",
    "stock = pd.read_csv('../datasets/stock_upd.csv')\n",
    "stock['item_lowercase'] = stock['item'].str.lower()\n",
    "apple = stock[stock['item_lowercase'] == 'смартфон apple iphone xr 64gb']['count'].sum()\n",
    "# print(apple)\n",
    "samsung = stock[stock['item_lowercase'] == 'смартфон samsung galaxy a30 32gb']['count'].sum()\n",
    "# print(samsung)\n",
    "stock['item_lowercase'] = stock['item_lowercase'].drop_duplicates()\n",
    "stock = stock.dropna().reset_index(drop=True)\n",
    "print(stock)"
   ],
   "metadata": {
    "collapsed": false,
    "pycharm": {
     "name": "#%%\n"
    }
   }
  },
  {
   "cell_type": "code",
   "execution_count": 2,
   "outputs": [
    {
     "name": "stdout",
     "output_type": "stream",
     "text": [
      "          id                              item  count  \\\n",
      "0  100480924     Смартфон Xiaomi Redmi 6A 16GB     44   \n",
      "1  100480938  Смартфон Samsung Galaxy A30 32GB     49   \n",
      "2  100480959          Смартфон HUAWEI P30 lite     38   \n",
      "3  100480975     Смартфон Apple iPhone Xr 64gb     29   \n",
      "4  100480988            Смартфон Honor 8X 64GB     64   \n",
      "\n",
      "                     item_lowercase  \n",
      "0     смартфон xiaomi redmi 6a 16gb  \n",
      "1  смартфон samsung galaxy a30 32gb  \n",
      "2          смартфон huawei p30 lite  \n",
      "3     смартфон apple iphone xr 64gb  \n",
      "4            смартфон honor 8x 64gb  \n"
     ]
    }
   ],
   "source": [
    "stock.loc[3, 'count'] = apple\n",
    "print(stock)"
   ],
   "metadata": {
    "collapsed": false,
    "pycharm": {
     "name": "#%%\n"
    }
   }
  }
 ],
 "metadata": {
  "kernelspec": {
   "display_name": "Python 3",
   "language": "python",
   "name": "python3"
  },
  "language_info": {
   "codemirror_mode": {
    "name": "ipython",
    "version": 2
   },
   "file_extension": ".py",
   "mimetype": "text/x-python",
   "name": "python",
   "nbconvert_exporter": "python",
   "pygments_lexer": "ipython2",
   "version": "2.7.6"
  }
 },
 "nbformat": 4,
 "nbformat_minor": 0
}