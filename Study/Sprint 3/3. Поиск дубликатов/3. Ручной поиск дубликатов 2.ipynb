{
 "cells": [
  {
   "cell_type": "markdown",
   "metadata": {
    "collapsed": true,
    "pycharm": {
     "name": "#%% md\n"
    }
   },
   "source": [
    "# 2.\n",
    "Примените метод value_counts() к столбцу 'item'. Результат выведите на экран.\n",
    "\n",
    "Подсказка\n",
    "Распечатайте на экране следующее выражение: stock['item'].value_counts()"
   ]
  },
  {
   "cell_type": "code",
   "execution_count": 1,
   "outputs": [
    {
     "name": "stdout",
     "output_type": "stream",
     "text": [
      "Смартфон Xiaomi Redmi 6A 16GB       3\n",
      "Смартфон HUAWEI P30 lite            2\n",
      "Смартфон Samsung Galaxy A30 32GB    1\n",
      "смартфон Samsung Galaxy A30 32gb    1\n",
      "Смартфон Apple iPhone Xr 64gb       1\n",
      "Смартфон Honor 8X 64GB              1\n",
      "Смартфон Apple iPhone Xr 64GB       1\n",
      "Name: item, dtype: int64\n"
     ]
    }
   ],
   "source": [
    "import pandas as pd\n",
    "stock = pd.read_excel('../datasets/stock.xlsx', sheet_name='storehouse')\n",
    "print(stock['item'].value_counts())"
   ],
   "metadata": {
    "collapsed": false,
    "pycharm": {
     "name": "#%%\n"
    }
   }
  }
 ],
 "metadata": {
  "kernelspec": {
   "display_name": "Python 3",
   "language": "python",
   "name": "python3"
  },
  "language_info": {
   "codemirror_mode": {
    "name": "ipython",
    "version": 2
   },
   "file_extension": ".py",
   "mimetype": "text/x-python",
   "name": "python",
   "nbconvert_exporter": "python",
   "pygments_lexer": "ipython2",
   "version": "2.7.6"
  }
 },
 "nbformat": 4,
 "nbformat_minor": 0
}