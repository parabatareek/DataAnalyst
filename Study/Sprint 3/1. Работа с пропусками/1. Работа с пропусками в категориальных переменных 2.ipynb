{
 "cells": [
  {
   "cell_type": "markdown",
   "metadata": {},
   "source": [
    "# 2.\n",
    "Пропуски в столбце source записаны в строковом формате — 'None' вместо None. Выясните, случайно ли их возникновение: проверьте, имеет ли каждая строка с источником 'None' определённый email.\n",
    "Для этого примените к датафрейму logs два фильтра:\n",
    "\n",
    "    Источник source равен 'None';\n",
    "    Значение столбца email равно пустой строке ''.\n",
    "\n",
    "Выведите датафрейм с применёнными фильтрами. Переменную с датафреймом при этом перезаписывать не нужно.\n",
    "\n",
    "Подсказка:\n",
    "Примените логическую индексацию с двумя условиями: (logs['source'] == 'None') и (logs['email'] == ''). Объедините условия оператором &."
   ]
  },
  {
   "cell_type": "code",
   "execution_count": 2,
   "metadata": {},
   "outputs": [],
   "source": [
    "import pandas as pd\n",
    "logs = pd.read_csv('../datasets/logs.csv')"
   ]
  },
  {
   "cell_type": "code",
   "execution_count": 4,
   "metadata": {},
   "outputs": [
    {
     "name": "stdout",
     "output_type": "stream",
     "text": [
      "Empty DataFrame\n",
      "Columns: [user_id, source, email, purchase]\n",
      "Index: []\n"
     ]
    }
   ],
   "source": [
    "logs['email'] = logs['email'].fillna(value='')\n",
    "print(logs[(logs['source'] == 'None') & (logs['email'] == '')])"
   ]
  }
 ],
 "metadata": {
  "interpreter": {
   "hash": "7b324082f296f9c0c9f55c2331d97876e2a62b6436f0b133412526fa887917c1"
  },
  "kernelspec": {
   "display_name": "Python 3.10.1 64-bit ('data_analyst': venv)",
   "language": "python",
   "name": "python3"
  },
  "language_info": {
   "codemirror_mode": {
    "name": "ipython",
    "version": 3
   },
   "file_extension": ".py",
   "mimetype": "text/x-python",
   "name": "python",
   "nbconvert_exporter": "python",
   "pygments_lexer": "ipython3",
   "version": "3.10.1"
  },
  "orig_nbformat": 4
 },
 "nbformat": 4,
 "nbformat_minor": 2
}
