{
 "cells": [
  {
   "cell_type": "markdown",
   "metadata": {},
   "source": [
    "# 5.\n",
    "Посчитайте конверсию по каждому источнику трафика, результат сохраните в переменной conversion и выведите на экран.\n",
    "\n",
    "Подсказка:\n",
    "Разделите purchase на visits."
   ]
  },
  {
   "cell_type": "code",
   "execution_count": 2,
   "metadata": {},
   "outputs": [
    {
     "name": "stdout",
     "output_type": "stream",
     "text": [
      "source\n",
      "None       0.064516\n",
      "context    0.058214\n",
      "email      0.074355\n",
      "other      0.060082\n",
      "undef      0.066298\n",
      "dtype: float64\n"
     ]
    }
   ],
   "source": [
    "import pandas as pd\n",
    "\n",
    "logs = pd.read_csv('../datasets/logs.csv')\n",
    "\n",
    "visits = logs.groupby('source')['user_id'].count() # количество визитов\n",
    "purchase = logs.groupby('source')['purchase'].sum() # количество покупок\n",
    "\n",
    "conversion = purchase / visits# поделите количество покупок на количество визитов\n",
    "print(conversion)"
   ]
  }
 ],
 "metadata": {
  "interpreter": {
   "hash": "7b324082f296f9c0c9f55c2331d97876e2a62b6436f0b133412526fa887917c1"
  },
  "kernelspec": {
   "display_name": "Python 3.10.1 64-bit ('data_analyst': venv)",
   "language": "python",
   "name": "python3"
  },
  "language_info": {
   "codemirror_mode": {
    "name": "ipython",
    "version": 3
   },
   "file_extension": ".py",
   "mimetype": "text/x-python",
   "name": "python",
   "nbconvert_exporter": "python",
   "pygments_lexer": "ipython3",
   "version": "3.10.1"
  },
  "orig_nbformat": 4
 },
 "nbformat": 4,
 "nbformat_minor": 2
}
