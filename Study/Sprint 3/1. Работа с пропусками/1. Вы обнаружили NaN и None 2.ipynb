{
 "cells": [
  {
   "cell_type": "markdown",
   "metadata": {},
   "source": [
    "# 2.\n",
    "Измените код, чтобы результат приобрёл такой вид:\n",
    "\n",
    "Сумма баллов учеников: # сумма значений столбца 'points'\n",
    "Сумма баллов факультетов: # сумма баллов при группировке по факультетам\n",
    "Кубок получает # название факультета \n",
    "\n",
    "Подсказка\n",
    "Рассчитайте сумму баллов, заработанных учениками, сложив значения столбца 'points' методом sum(). Так же найдите сумму баллов всех факультетов, предварительно сгруппировав таблицу по столбцу 'faculty_name' методом groupby(). Получателя кубка определите так: hogwarts_points.groupby('faculty_name')['points'].sum().idxmax()."
   ]
  },
  {
   "cell_type": "code",
   "execution_count": null,
   "metadata": {},
   "outputs": [],
   "source": [
    "import pandas as pd\n",
    "\n",
    "hogwarts_points = pd.read_csv('/datasets/hogwarts_points.csv')\n",
    "hogwarts_points['faculty_name'] = hogwarts_points['faculty_name'].fillna(value='Гриффиндор')\n",
    "print('Сумма баллов учеников:', hogwarts_points['points'].sum())# сумма значений столбца 'points'\n",
    "print('Сумма баллов факультетов:', hogwarts_points.groupby('faculty_name')['points'].sum().sum())# сгруппируйте по столбцу 'faculty_name'\n",
    "# сложите значения столбца 'points' этой группировки методом sum()\n",
    "# и примените метод sum() к результату\n",
    "print('Кубок получает',hogwarts_points.groupby('faculty_name')['points'].sum().idxmax())"
   ]
  }
 ],
 "metadata": {
  "interpreter": {
   "hash": "7b324082f296f9c0c9f55c2331d97876e2a62b6436f0b133412526fa887917c1"
  },
  "kernelspec": {
   "display_name": "Python 3.10.1 64-bit ('data_analyst': venv)",
   "language": "python",
   "name": "python3"
  },
  "language_info": {
   "name": "python",
   "version": "3.10.1"
  },
  "orig_nbformat": 4
 },
 "nbformat": 4,
 "nbformat_minor": 2
}
