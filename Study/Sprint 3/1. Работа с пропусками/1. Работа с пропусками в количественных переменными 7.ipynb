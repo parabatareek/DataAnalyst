{
 "cells": [
  {
   "cell_type": "markdown",
   "metadata": {
    "collapsed": true,
    "pycharm": {
     "name": "#%% md\n"
    }
   },
   "source": [
    "# 7.\n",
    "Посчитайте среднее время пребывания на сайте пользователей мобильных платформ.\n",
    "Результат сохраните в переменной mobile_data_time_avg.\n",
    "Закомментируйте вывод предыдущего задания и выведите значение mobile_data_time_avg на экран.\n",
    "\n",
    "Подсказка\n",
    "Используйте метод mean() для подсчета среднего времени."
   ]
  },
  {
   "cell_type": "code",
   "execution_count": 2,
   "outputs": [
    {
     "name": "stdout",
     "output_type": "stream",
     "text": [
      "41.15691239238949\n"
     ]
    }
   ],
   "source": [
    "import pandas as pd\n",
    "\n",
    "metrica=pd.read_csv('../datasets/metrica_data.csv')\n",
    "mobile_data = metrica[metrica['device_type'] == 'mobile']\n",
    "# print(mobile_data.head(5))\n",
    "mobile_data_time_avg = mobile_data['time'].mean()\n",
    "print(mobile_data_time_avg)"
   ],
   "metadata": {
    "collapsed": false,
    "pycharm": {
     "name": "#%%\n"
    }
   }
  }
 ],
 "metadata": {
  "kernelspec": {
   "display_name": "Python 3",
   "language": "python",
   "name": "python3"
  },
  "language_info": {
   "codemirror_mode": {
    "name": "ipython",
    "version": 2
   },
   "file_extension": ".py",
   "mimetype": "text/x-python",
   "name": "python",
   "nbconvert_exporter": "python",
   "pygments_lexer": "ipython2",
   "version": "2.7.6"
  }
 },
 "nbformat": 4,
 "nbformat_minor": 0
}