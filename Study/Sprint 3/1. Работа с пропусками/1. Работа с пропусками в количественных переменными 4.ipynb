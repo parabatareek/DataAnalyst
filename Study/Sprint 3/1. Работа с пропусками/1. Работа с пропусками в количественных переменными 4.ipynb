{
 "cells": [
  {
   "cell_type": "markdown",
   "metadata": {
    "collapsed": true,
    "pycharm": {
     "name": "#%% md\n"
    }
   },
   "source": [
    "# 4.\n",
    "Можно заменить время на среднее значение.\n",
    "Однако пользователи заходят в интернет то с мобильного устройства, то с компьютера.\n",
    "Учтём этот факт для повышения точности заполнения пропущенных данных о времени на сайте.\n",
    "Выберите строки таблицы с данными о просмотрах с компьютера, т.е. такие, где в столбце 'device_type' указано значение 'desktop'.\n",
    "Сохраните результат в переменной desktop_data и выведите первые 5 строк на экран.\n",
    "\n",
    "Подсказка\n",
    "Отфильтруйте таблицу условием metrica['device_type']=='desktop'"
   ]
  },
  {
   "cell_type": "code",
   "execution_count": 1,
   "outputs": [
    {
     "name": "stdout",
     "output_type": "stream",
     "text": [
      "      user_id device_type   age    time\n",
      "0  7141786820     desktop  33.0  2127.0\n",
      "2  1914055396     desktop  25.0     NaN\n",
      "3  4099355752     desktop  25.0  2123.0\n",
      "4  6032477554     desktop  27.0    59.0\n",
      "7  3512872755     desktop  40.0    65.0\n"
     ]
    }
   ],
   "source": [
    "import pandas as pd\n",
    "\n",
    "metrica=pd.read_csv('../datasets/metrica_data.csv')\n",
    "desktop_data = metrica[metrica['device_type'] == 'desktop']\n",
    "print(desktop_data.head(5))"
   ],
   "metadata": {
    "collapsed": false,
    "pycharm": {
     "name": "#%%\n"
    }
   }
  }
 ],
 "metadata": {
  "kernelspec": {
   "display_name": "Python 3",
   "language": "python",
   "name": "python3"
  },
  "language_info": {
   "codemirror_mode": {
    "name": "ipython",
    "version": 2
   },
   "file_extension": ".py",
   "mimetype": "text/x-python",
   "name": "python",
   "nbconvert_exporter": "python",
   "pygments_lexer": "ipython2",
   "version": "2.7.6"
  }
 },
 "nbformat": 4,
 "nbformat_minor": 0
}