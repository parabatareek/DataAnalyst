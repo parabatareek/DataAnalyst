{
 "cells": [
  {
   "cell_type": "markdown",
   "metadata": {},
   "source": [
    "# 3.\n",
    "Применим полученные в Хогвартсе знания к реальной задаче. Возьмём источники трафика Яндекс.Маркета и рассчитаем конверсию.\n",
    "Найдите количество визитов из каждого источника трафика, результат сохраните в переменной visits и выведите на экран.\n",
    "\n",
    "Подсказка\n",
    "Посчитайте количество значений в колонке с пользователями, вызвав методы groupby() и count(), либо метод value_counts()."
   ]
  },
  {
   "cell_type": "code",
   "execution_count": 6,
   "metadata": {},
   "outputs": [
    {
     "name": "stdout",
     "output_type": "stream",
     "text": [
      "source\n",
      "None         1674\n",
      "context     52032\n",
      "email       12279\n",
      "other      133834\n",
      "undef         181\n",
      "Name: user_id, dtype: int64\n"
     ]
    }
   ],
   "source": [
    "import pandas as pd\n",
    "\n",
    "logs = pd.read_csv('../datasets/logs.csv')\n",
    "visits = logs.groupby(by='source')['user_id'].count()\n",
    "print(visits)"
   ]
  }
 ],
 "metadata": {
  "interpreter": {
   "hash": "7b324082f296f9c0c9f55c2331d97876e2a62b6436f0b133412526fa887917c1"
  },
  "kernelspec": {
   "display_name": "Python 3.10.1 64-bit ('data_analyst': venv)",
   "language": "python",
   "name": "python3"
  },
  "language_info": {
   "codemirror_mode": {
    "name": "ipython",
    "version": 3
   },
   "file_extension": ".py",
   "mimetype": "text/x-python",
   "name": "python",
   "nbconvert_exporter": "python",
   "pygments_lexer": "ipython3",
   "version": "3.10.1"
  },
  "orig_nbformat": 4
 },
 "nbformat": 4,
 "nbformat_minor": 2
}
