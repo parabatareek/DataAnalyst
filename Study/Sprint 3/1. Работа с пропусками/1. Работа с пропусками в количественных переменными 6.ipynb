{
 "cells": [
  {
   "cell_type": "markdown",
   "metadata": {
    "collapsed": true,
    "pycharm": {
     "name": "#%% md\n"
    }
   },
   "source": [
    "# 6.\n",
    "Получите таблицу с данными о просмотрах с мобильных платформ.\n",
    "Сохраните результат в переменной mobile_data и выведите первые 5 строк на экран.\n",
    "\n",
    "Подсказка\n",
    "Отфильтруйте таблицу с условием metrica['device_type']=='mobile'."
   ]
  },
  {
   "cell_type": "code",
   "execution_count": 1,
   "outputs": [
    {
     "name": "stdout",
     "output_type": "stream",
     "text": [
      "       user_id device_type   age  time\n",
      "1   5644686960      mobile  30.0  35.0\n",
      "5   5872473344      mobile  27.0   NaN\n",
      "6   7977025176      mobile   NaN   NaN\n",
      "10  7172802697      mobile  30.0   NaN\n",
      "14  9312844109      mobile   NaN  40.0\n"
     ]
    }
   ],
   "source": [
    "import pandas as pd\n",
    "\n",
    "metrica=pd.read_csv('../datasets/metrica_data.csv')\n",
    "mobile_data = metrica[metrica['device_type'] == 'mobile']\n",
    "print(mobile_data.head(5))"
   ],
   "metadata": {
    "collapsed": false,
    "pycharm": {
     "name": "#%%\n"
    }
   }
  }
 ],
 "metadata": {
  "kernelspec": {
   "display_name": "Python 3",
   "language": "python",
   "name": "python3"
  },
  "language_info": {
   "codemirror_mode": {
    "name": "ipython",
    "version": 2
   },
   "file_extension": ".py",
   "mimetype": "text/x-python",
   "name": "python",
   "nbconvert_exporter": "python",
   "pygments_lexer": "ipython2",
   "version": "2.7.6"
  }
 },
 "nbformat": 4,
 "nbformat_minor": 0
}