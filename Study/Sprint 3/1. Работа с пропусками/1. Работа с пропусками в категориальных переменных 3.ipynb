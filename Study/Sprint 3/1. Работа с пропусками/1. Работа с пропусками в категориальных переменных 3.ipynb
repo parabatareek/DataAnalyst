{
 "cells": [
  {
   "cell_type": "markdown",
   "metadata": {},
   "source": [
    "# 3.\n",
    "Замените пропуски в строках с пустым значением source на значение 'email'. Проверьте результат методом value_counts().\n",
    "\n",
    "Подсказка:\n",
    "Производя замену, вызовите метод loc."
   ]
  },
  {
   "cell_type": "code",
   "execution_count": 3,
   "metadata": {},
   "outputs": [],
   "source": [
    "import pandas as pd\n",
    "\n",
    "logs = pd.read_csv('../datasets/logs.csv')"
   ]
  },
  {
   "cell_type": "code",
   "execution_count": 4,
   "metadata": {},
   "outputs": [
    {
     "name": "stdout",
     "output_type": "stream",
     "text": [
      "email    198326\n",
      "None       1674\n",
      "Name: source, dtype: int64\n"
     ]
    }
   ],
   "source": [
    "logs['email'] = logs['email'].fillna(value='')\n",
    "logs.loc[((logs['source'] == '') | (logs['source'] == 'None')), 'source'] = 'email' \n",
    "print(logs.source.value_counts())"
   ]
  }
 ],
 "metadata": {
  "interpreter": {
   "hash": "7b324082f296f9c0c9f55c2331d97876e2a62b6436f0b133412526fa887917c1"
  },
  "kernelspec": {
   "display_name": "Python 3.10.1 64-bit ('data_analyst': venv)",
   "language": "python",
   "name": "python3"
  },
  "language_info": {
   "codemirror_mode": {
    "name": "ipython",
    "version": 3
   },
   "file_extension": ".py",
   "mimetype": "text/x-python",
   "name": "python",
   "nbconvert_exporter": "python",
   "pygments_lexer": "ipython3",
   "version": "3.10.1"
  },
  "orig_nbformat": 4
 },
 "nbformat": 4,
 "nbformat_minor": 2
}
