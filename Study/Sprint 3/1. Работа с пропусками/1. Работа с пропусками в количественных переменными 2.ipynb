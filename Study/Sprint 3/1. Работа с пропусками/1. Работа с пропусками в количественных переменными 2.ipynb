{
 "cells": [
  {
   "cell_type": "code",
   "execution_count": 4,
   "outputs": [
    {
     "data": {
      "text/plain": "      user_id device_type        age    time\n0  7141786820     desktop  33.000000  2127.0\n1  5644686960      mobile  30.000000    35.0\n2  1914055396     desktop  25.000000     NaN\n3  4099355752     desktop  25.000000  2123.0\n4  6032477554     desktop  27.000000    59.0\n5  5872473344      mobile  27.000000     NaN\n6  7977025176      mobile  32.489663     NaN\n7  3512872755     desktop  40.000000    65.0\n8  1827368713     desktop  37.000000     NaN\n9  8688870165     desktop  36.000000  2124.0",
      "text/html": "<div>\n<style scoped>\n    .dataframe tbody tr th:only-of-type {\n        vertical-align: middle;\n    }\n\n    .dataframe tbody tr th {\n        vertical-align: top;\n    }\n\n    .dataframe thead th {\n        text-align: right;\n    }\n</style>\n<table border=\"1\" class=\"dataframe\">\n  <thead>\n    <tr style=\"text-align: right;\">\n      <th></th>\n      <th>user_id</th>\n      <th>device_type</th>\n      <th>age</th>\n      <th>time</th>\n    </tr>\n  </thead>\n  <tbody>\n    <tr>\n      <th>0</th>\n      <td>7141786820</td>\n      <td>desktop</td>\n      <td>33.000000</td>\n      <td>2127.0</td>\n    </tr>\n    <tr>\n      <th>1</th>\n      <td>5644686960</td>\n      <td>mobile</td>\n      <td>30.000000</td>\n      <td>35.0</td>\n    </tr>\n    <tr>\n      <th>2</th>\n      <td>1914055396</td>\n      <td>desktop</td>\n      <td>25.000000</td>\n      <td>NaN</td>\n    </tr>\n    <tr>\n      <th>3</th>\n      <td>4099355752</td>\n      <td>desktop</td>\n      <td>25.000000</td>\n      <td>2123.0</td>\n    </tr>\n    <tr>\n      <th>4</th>\n      <td>6032477554</td>\n      <td>desktop</td>\n      <td>27.000000</td>\n      <td>59.0</td>\n    </tr>\n    <tr>\n      <th>5</th>\n      <td>5872473344</td>\n      <td>mobile</td>\n      <td>27.000000</td>\n      <td>NaN</td>\n    </tr>\n    <tr>\n      <th>6</th>\n      <td>7977025176</td>\n      <td>mobile</td>\n      <td>32.489663</td>\n      <td>NaN</td>\n    </tr>\n    <tr>\n      <th>7</th>\n      <td>3512872755</td>\n      <td>desktop</td>\n      <td>40.000000</td>\n      <td>65.0</td>\n    </tr>\n    <tr>\n      <th>8</th>\n      <td>1827368713</td>\n      <td>desktop</td>\n      <td>37.000000</td>\n      <td>NaN</td>\n    </tr>\n    <tr>\n      <th>9</th>\n      <td>8688870165</td>\n      <td>desktop</td>\n      <td>36.000000</td>\n      <td>2124.0</td>\n    </tr>\n  </tbody>\n</table>\n</div>"
     },
     "execution_count": 4,
     "metadata": {},
     "output_type": "execute_result"
    }
   ],
   "source": [
    "import pandas as pd\n",
    "\n",
    "metrica = pd.read_csv('../datasets/metrica_data.csv')\n",
    "age_avg = metrica['age'].mean()\n",
    "metrica['age'] = metrica['age'].fillna(age_avg)\n",
    "metrica.head(10)"
   ],
   "metadata": {
    "collapsed": false,
    "pycharm": {
     "name": "#%%\n"
    }
   }
  },
  {
   "cell_type": "code",
   "execution_count": null,
   "outputs": [],
   "source": [],
   "metadata": {
    "collapsed": false,
    "pycharm": {
     "name": "#%%\n"
    }
   }
  }
 ],
 "metadata": {
  "kernelspec": {
   "display_name": "Python 3",
   "language": "python",
   "name": "python3"
  },
  "language_info": {
   "codemirror_mode": {
    "name": "ipython",
    "version": 2
   },
   "file_extension": ".py",
   "mimetype": "text/x-python",
   "name": "python",
   "nbconvert_exporter": "python",
   "pygments_lexer": "ipython2",
   "version": "2.7.6"
  },
  "pycharm": {
   "stem_cell": {
    "cell_type": "raw",
    "source": [
     " #%% md\n",
     "# 2.\n",
     "Замените пропущенные значения в столбце age на средний возраст. Выведите на экран первые 10 строк набора данных.\n",
     "\n",
     "Подсказка\n",
     "Примените fillna() к столбцу ['age']. Аргументу value метода fillna() присвойте значение — средний возраст."
    ],
    "metadata": {
     "collapsed": false
    }
   }
  }
 },
 "nbformat": 4,
 "nbformat_minor": 0
}