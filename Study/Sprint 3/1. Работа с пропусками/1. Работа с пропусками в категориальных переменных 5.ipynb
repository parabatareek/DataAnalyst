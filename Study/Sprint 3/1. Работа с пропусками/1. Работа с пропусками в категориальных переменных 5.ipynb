{
 "cells": [
  {
   "cell_type": "markdown",
   "metadata": {},
   "source": [
    "# 5.\n",
    "Посчитайте конверсию визитов в покупки для каждого источника трафика (т. е. отношение столбца sum к count).\n",
    "Сохраните результат в новый столбец logs_grouped['conversion'] и выведите обновлённую таблицу на экран.\n",
    "\n",
    "Подсказка\n",
    "Найдите отношение столбца 'sum' к столбцу 'count'."
   ]
  },
  {
   "cell_type": "code",
   "execution_count": 9,
   "metadata": {},
   "outputs": [],
   "source": [
    "import pandas as pd\n",
    "\n",
    "logs = pd.read_csv('../datasets/logs.csv')"
   ]
  },
  {
   "cell_type": "code",
   "execution_count": 15,
   "metadata": {},
   "outputs": [
    {
     "name": "stdout",
     "output_type": "stream",
     "text": [
      "        purchase       conversion\n",
      "           count   sum           \n",
      "source                           \n",
      "context    52032  3029   0.058214\n",
      "email      13953  1021   0.073174\n",
      "other     133834  8041   0.060082\n",
      "undef        181    12   0.066298\n"
     ]
    }
   ],
   "source": [
    "logs['email'] = logs['email'].fillna(value='')\n",
    "logs.loc[logs['source'] == 'None', 'source'] = 'email'\n",
    "\n",
    "logs_grouped = logs.groupby('source').agg({'purchase': ['count', 'sum']})\n",
    "logs_grouped['conversion'] = logs_grouped['purchase']['sum'] / logs_grouped['purchase']['count']\n",
    "print(logs_grouped)"
   ]
  }
 ],
 "metadata": {
  "interpreter": {
   "hash": "deef213dd6fa1557e5444b6cfce1f5f097882242c0637704d826b63fbd19ae74"
  },
  "kernelspec": {
   "display_name": "Python 3.9.7 64-bit ('venv_data_analyst': venv)",
   "language": "python",
   "name": "python3"
  },
  "language_info": {
   "codemirror_mode": {
    "name": "ipython",
    "version": 3
   },
   "file_extension": ".py",
   "mimetype": "text/x-python",
   "name": "python",
   "nbconvert_exporter": "python",
   "pygments_lexer": "ipython3",
   "version": "3.9.7"
  },
  "orig_nbformat": 4
 },
 "nbformat": 4,
 "nbformat_minor": 2
}
