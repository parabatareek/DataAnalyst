{
 "cells": [
  {
   "cell_type": "markdown",
   "source": [
    "# 1.\n",
    "Прочитайте данные из файла metrica_data.csv. Результат сохраните в переменной metrica. Посчитайте средний возраст пользователей и сохраните его в переменной age_avg. Выведите результат на экран.\n",
    "Путь к файлу: /datasets/metrica_data.csv\n",
    "\n",
    "Подсказка:\n",
    "Средний возраст посчитайте методом mean()."
   ],
   "metadata": {
    "collapsed": false,
    "pycharm": {
     "name": "#%% md\n"
    }
   }
  },
  {
   "cell_type": "code",
   "execution_count": 1,
   "outputs": [
    {
     "name": "stdout",
     "output_type": "stream",
     "text": [
      "32.48966336969903\n"
     ]
    }
   ],
   "source": [
    "import pandas as pd\n",
    "metrica = pd.read_csv(filepath_or_buffer='../datasets/metrica_data.csv')\n",
    "age_avg = metrica['age'].mean()\n",
    "print(age_avg)"
   ],
   "metadata": {
    "collapsed": false,
    "pycharm": {
     "name": "#%%\n"
    }
   }
  },
  {
   "cell_type": "code",
   "execution_count": null,
   "outputs": [],
   "source": [],
   "metadata": {
    "collapsed": false,
    "pycharm": {
     "name": "#%%\n"
    }
   }
  }
 ],
 "metadata": {
  "kernelspec": {
   "name": "python397jvsc74a57bd0deef213dd6fa1557e5444b6cfce1f5f097882242c0637704d826b63fbd19ae74",
   "language": "python",
   "display_name": "Python 3.9.7 64-bit ('venv_data_analyst': venv)"
  },
  "language_info": {
   "codemirror_mode": {
    "name": "ipython",
    "version": 2
   },
   "file_extension": ".py",
   "mimetype": "text/x-python",
   "name": "python",
   "nbconvert_exporter": "python",
   "pygments_lexer": "ipython2",
   "version": "2.7.6"
  }
 },
 "nbformat": 4,
 "nbformat_minor": 0
}