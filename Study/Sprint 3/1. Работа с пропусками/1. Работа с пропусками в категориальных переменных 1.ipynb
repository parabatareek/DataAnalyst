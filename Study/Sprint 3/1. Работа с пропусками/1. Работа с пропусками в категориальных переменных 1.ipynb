{
 "cells": [
  {
   "cell_type": "markdown",
   "metadata": {},
   "source": [
    "# 1.\n",
    "В столбце email встречаются значения NaN — вместо электронных почт пользователей, не подписавшихся на рассылку магазина. \n",
    "Их электронный адрес вы вряд ли узнаете, и не сможете заполнить пропуски вручную. Да и самих NaN слишком много для ручной замены.\n",
    "Тем не менее избавиться от значений NaN можно, если заменить их единым значением. Например, пустой строкой. Так изучать таблицу будет проще: не нужно будет различать NaN и email-адрес.\n",
    "Замените пропуски пустыми строками, используя знакомый метод fillna(). После этого преобразования выведите на экран первые 5 строк датафрейма.\n",
    "\n",
    "Подсказка:\n",
    "Примените метод fillna c аргументом value к столбцу с имейлами."
   ]
  },
  {
   "cell_type": "code",
   "execution_count": 2,
   "metadata": {},
   "outputs": [],
   "source": [
    "import pandas as pd\n",
    "logs = pd.read_csv('../datasets/logs.csv')"
   ]
  },
  {
   "cell_type": "code",
   "execution_count": 4,
   "metadata": {},
   "outputs": [
    {
     "name": "stdout",
     "output_type": "stream",
     "text": [
      "           user_id   source       email  purchase\n",
      "0       7141786820    other                     0\n",
      "1       5644686960    email  c129aa540a         0\n",
      "2       1914055396  context                     0\n",
      "3       4099355752    other                     0\n",
      "4       6032477554  context                     1\n",
      "...            ...      ...         ...       ...\n",
      "199995  8714621942    other                     0\n",
      "199996  6064948744  context                     1\n",
      "199997  9210683879  context                     0\n",
      "199998  1629959686    other                     1\n",
      "199999  2089329795    other                     0\n",
      "\n",
      "[200000 rows x 4 columns]\n"
     ]
    }
   ],
   "source": [
    "logs.email = logs.email.fillna('')\n",
    "print(logs)"
   ]
  }
 ],
 "metadata": {
  "interpreter": {
   "hash": "7b324082f296f9c0c9f55c2331d97876e2a62b6436f0b133412526fa887917c1"
  },
  "kernelspec": {
   "display_name": "Python 3.10.1 64-bit ('data_analyst': venv)",
   "language": "python",
   "name": "python3"
  },
  "language_info": {
   "codemirror_mode": {
    "name": "ipython",
    "version": 3
   },
   "file_extension": ".py",
   "mimetype": "text/x-python",
   "name": "python",
   "nbconvert_exporter": "python",
   "pygments_lexer": "ipython3",
   "version": "3.10.1"
  },
  "orig_nbformat": 4
 },
 "nbformat": 4,
 "nbformat_minor": 2
}
