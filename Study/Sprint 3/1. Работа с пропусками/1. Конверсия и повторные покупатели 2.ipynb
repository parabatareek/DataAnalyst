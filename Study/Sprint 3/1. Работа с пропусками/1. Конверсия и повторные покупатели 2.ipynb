{
 "cells": [
  {
   "cell_type": "markdown",
   "metadata": {},
   "source": [
    "# 8.\n",
    "Для каждого источника трафика посчитайте долю повторных покупок — отношение количества повторных ко всем покупкам. Выведите весь датафрейм на экран.\n",
    "\n",
    "Подсказка\n",
    "Делите один столбец на другой оператором /."
   ]
  },
  {
   "cell_type": "code",
   "execution_count": 3,
   "metadata": {},
   "outputs": [],
   "source": [
    "import pandas as pd\n"
   ]
  },
  {
   "cell_type": "code",
   "execution_count": 4,
   "metadata": {},
   "outputs": [
    {
     "name": "stdout",
     "output_type": "stream",
     "text": [
      "    source  first  repeated  total  repeated_share\n",
      "0  context   2933        96   3029        0.031694\n",
      "1    email    885       136   1021        0.133203\n",
      "2      smm   1653       139   1792        0.077567\n"
     ]
    }
   ],
   "source": [
    "purchases = pd.read_csv(filepath_or_buffer='../datasets/returned.csv')\n",
    "purchases['total'] = purchases['first'] + purchases['repeated']\n",
    "purchases['repeated_share'] = purchases['repeated'] / purchases['total']\n",
    "print(purchases) "
   ]
  }
 ],
 "metadata": {
  "interpreter": {
   "hash": "7b324082f296f9c0c9f55c2331d97876e2a62b6436f0b133412526fa887917c1"
  },
  "kernelspec": {
   "display_name": "Python 3.10.1 64-bit ('data_analyst': venv)",
   "language": "python",
   "name": "python3"
  },
  "language_info": {
   "codemirror_mode": {
    "name": "ipython",
    "version": 3
   },
   "file_extension": ".py",
   "mimetype": "text/x-python",
   "name": "python",
   "nbconvert_exporter": "python",
   "pygments_lexer": "ipython3",
   "version": "3.10.1"
  },
  "orig_nbformat": 4
 },
 "nbformat": 4,
 "nbformat_minor": 2
}
