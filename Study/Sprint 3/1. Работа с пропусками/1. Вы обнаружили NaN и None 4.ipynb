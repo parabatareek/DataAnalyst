{
 "cells": [
  {
   "cell_type": "markdown",
   "metadata": {},
   "source": [
    "# 4.\n",
    "Посчитайте количество совершённых покупок для каждого источника трафика. Результат сохраните в переменной purchase и выведите на экран.\n",
    "\n",
    "Подсказка:\n",
    "Чтобы найти количество покупок, сгруппируйте данные из столбца 'purchase' по столбцу 'source' методом groupby() и вызовите метод sum()."
   ]
  },
  {
   "cell_type": "code",
   "execution_count": 2,
   "metadata": {},
   "outputs": [],
   "source": [
    "import pandas as pd\n",
    "logs = pd.read_csv('../datasets/logs.csv')"
   ]
  },
  {
   "cell_type": "code",
   "execution_count": 5,
   "metadata": {},
   "outputs": [
    {
     "name": "stdout",
     "output_type": "stream",
     "text": [
      "                 user_id  purchase\n",
      "source                            \n",
      "None       8389429727149       108\n",
      "context  259897921912221      3029\n",
      "email     61778698940554       913\n",
      "other    666962903951240      8041\n",
      "undef       866825644888        12\n"
     ]
    }
   ],
   "source": [
    "purchase = logs.groupby('source')['purchase'].sum()\n",
    "print(purchase)"
   ]
  }
 ],
 "metadata": {
  "interpreter": {
   "hash": "7b324082f296f9c0c9f55c2331d97876e2a62b6436f0b133412526fa887917c1"
  },
  "kernelspec": {
   "display_name": "Python 3.10.1 64-bit ('data_analyst': venv)",
   "language": "python",
   "name": "python3"
  },
  "language_info": {
   "codemirror_mode": {
    "name": "ipython",
    "version": 3
   },
   "file_extension": ".py",
   "mimetype": "text/x-python",
   "name": "python",
   "nbconvert_exporter": "python",
   "pygments_lexer": "ipython3",
   "version": "3.10.1"
  },
  "orig_nbformat": 4
 },
 "nbformat": 4,
 "nbformat_minor": 2
}
