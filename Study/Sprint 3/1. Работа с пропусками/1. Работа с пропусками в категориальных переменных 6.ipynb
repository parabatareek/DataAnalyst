{
 "cells": [
  {
   "cell_type": "markdown",
   "metadata": {
    "collapsed": true,
    "pycharm": {
     "name": "#%% md\n"
    }
   },
   "source": []
  },
  {
   "cell_type": "markdown",
   "source": [
    "# 6.\n",
    "У 'undef' всего 12 покупок. Эта категория на порядки отличается от своих более объёмных конкурентов, и сравнивать их некорректно. Объедините её с одной из «больших» категорий в данных, похожей на 'undef' своей конверсией. Замените значение источника 'undef' на 'other' и посчитайте конверсию в покупки для каждого источника трафика после замены. Выведите logs_grouped на экран.\n",
    "\n",
    "Подсказка:\n",
    "\n",
    "logs.loc[logs['source'] == 'undef', 'source'] = 'other'"
   ],
   "metadata": {
    "collapsed": false,
    "pycharm": {
     "name": "#%% md\n"
    }
   }
  },
  {
   "cell_type": "code",
   "execution_count": 6,
   "outputs": [
    {
     "name": "stdout",
     "output_type": "stream",
     "text": [
      "        purchase       conversion\n",
      "           count   sum           \n",
      "source                           \n",
      "None        1674   108   0.064516\n",
      "context    52032  3029   0.058214\n",
      "email      12279   913   0.074355\n",
      "other     134015  8053   0.060090\n"
     ]
    }
   ],
   "source": [
    "import pandas as pd\n",
    "\n",
    "logs = pd.read_csv('../datasets/logs.csv')\n",
    "logs['email'] = logs['email'].fillna(value='')\n",
    "logs.loc[logs['source'] == 'None', 'source'] = 'email'\n",
    "logs.loc[logs['source'] == 'undef', 'source'] = 'other'\n",
    "\n",
    "logs_grouped = logs.groupby('source').agg({'purchase': ['count', 'sum']})\n",
    "logs_grouped['conversion'] = logs_grouped['purchase']['sum'] / logs_grouped['purchase']['count']\n",
    "print(logs_grouped)"
   ],
   "metadata": {
    "collapsed": false,
    "pycharm": {
     "name": "#%%\n"
    }
   }
  },
  {
   "cell_type": "code",
   "execution_count": 4,
   "outputs": [
    {
     "data": {
      "text/plain": "        purchase       conversion\n           count   sum           \nsource                           \ncontext    52032  3029   0.058214\nemail      13953  1021   0.073174\nother     133834  8041   0.060082\nundef        181    12   0.066298",
      "text/html": "<div>\n<style scoped>\n    .dataframe tbody tr th:only-of-type {\n        vertical-align: middle;\n    }\n\n    .dataframe tbody tr th {\n        vertical-align: top;\n    }\n\n    .dataframe thead tr th {\n        text-align: left;\n    }\n\n    .dataframe thead tr:last-of-type th {\n        text-align: right;\n    }\n</style>\n<table border=\"1\" class=\"dataframe\">\n  <thead>\n    <tr>\n      <th></th>\n      <th colspan=\"2\" halign=\"left\">purchase</th>\n      <th>conversion</th>\n    </tr>\n    <tr>\n      <th></th>\n      <th>count</th>\n      <th>sum</th>\n      <th></th>\n    </tr>\n    <tr>\n      <th>source</th>\n      <th></th>\n      <th></th>\n      <th></th>\n    </tr>\n  </thead>\n  <tbody>\n    <tr>\n      <th>context</th>\n      <td>52032</td>\n      <td>3029</td>\n      <td>0.058214</td>\n    </tr>\n    <tr>\n      <th>email</th>\n      <td>13953</td>\n      <td>1021</td>\n      <td>0.073174</td>\n    </tr>\n    <tr>\n      <th>other</th>\n      <td>133834</td>\n      <td>8041</td>\n      <td>0.060082</td>\n    </tr>\n    <tr>\n      <th>undef</th>\n      <td>181</td>\n      <td>12</td>\n      <td>0.066298</td>\n    </tr>\n  </tbody>\n</table>\n</div>"
     },
     "execution_count": 4,
     "metadata": {},
     "output_type": "execute_result"
    }
   ],
   "source": [
    "logs_grouped"
   ],
   "metadata": {
    "collapsed": false,
    "pycharm": {
     "name": "#%%\n"
    }
   }
  }
 ],
 "metadata": {
  "kernelspec": {
   "display_name": "Python 3",
   "language": "python",
   "name": "python3"
  },
  "language_info": {
   "codemirror_mode": {
    "name": "ipython",
    "version": 2
   },
   "file_extension": ".py",
   "mimetype": "text/x-python",
   "name": "python",
   "nbconvert_exporter": "python",
   "pygments_lexer": "ipython2",
   "version": "2.7.6"
  }
 },
 "nbformat": 4,
 "nbformat_minor": 0
}