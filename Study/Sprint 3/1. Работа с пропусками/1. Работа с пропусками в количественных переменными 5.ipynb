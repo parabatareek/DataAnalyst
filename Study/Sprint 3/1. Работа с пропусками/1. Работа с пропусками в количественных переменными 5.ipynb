{
 "cells": [
  {
   "cell_type": "markdown",
   "metadata": {
    "collapsed": true,
    "pycharm": {
     "name": "#%% md\n"
    }
   },
   "source": [
    "# 5.\n",
    "Установите, сколько времени в среднем проводят на сайте пользователи настольных компьютеров.\n",
    "Результат сохраните в переменной desktop_data_time_avg.\n",
    "Закомментируйте вывод предыдущего задания и выведите значение desktop_data_time_avg на экран.\n",
    "\n",
    "Подсказка:\n",
    "Вызовите метод mean()."
   ]
  },
  {
   "cell_type": "code",
   "execution_count": 1,
   "outputs": [
    {
     "name": "stdout",
     "output_type": "stream",
     "text": [
      "1741.8747158537378\n"
     ]
    }
   ],
   "source": [
    "import pandas as pd\n",
    "\n",
    "metrica=pd.read_csv('../datasets/metrica_data.csv')\n",
    "desktop_data = metrica[metrica['device_type'] == 'desktop']\n",
    "# print(desktop_data.head(5))\n",
    "desktop_data_time_avg = desktop_data['time'].mean()\n",
    "print(desktop_data_time_avg)"
   ],
   "metadata": {
    "collapsed": false,
    "pycharm": {
     "name": "#%%\n"
    }
   }
  }
 ],
 "metadata": {
  "kernelspec": {
   "display_name": "Python 3",
   "language": "python",
   "name": "python3"
  },
  "language_info": {
   "codemirror_mode": {
    "name": "ipython",
    "version": 2
   },
   "file_extension": ".py",
   "mimetype": "text/x-python",
   "name": "python",
   "nbconvert_exporter": "python",
   "pygments_lexer": "ipython2",
   "version": "2.7.6"
  }
 },
 "nbformat": 4,
 "nbformat_minor": 0
}