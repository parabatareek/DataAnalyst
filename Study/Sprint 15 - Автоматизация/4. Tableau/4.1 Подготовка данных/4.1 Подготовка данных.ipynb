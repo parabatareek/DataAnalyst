{
 "cells": [
  {
   "cell_type": "code",
   "execution_count": 30,
   "outputs": [],
   "source": [
    "# !/usr/bin/python\n",
    "# -*- coding: utf-8 -*-"
   ],
   "metadata": {
    "collapsed": false,
    "pycharm": {
     "name": "#%%\n"
    }
   }
  },
  {
   "cell_type": "code",
   "execution_count": 15,
   "outputs": [
    {
     "data": {
      "text/plain": "array(['Urban', 'Rural'], dtype=object)"
     },
     "execution_count": 15,
     "metadata": {},
     "output_type": "execute_result"
    }
   ],
   "source": [
    "import pandas as pd\n",
    "\n",
    "urbanization = pd.read_csv('../datasets/urbanization_rot.csv')\n",
    "urbanization['Population Type'].unique()"
   ],
   "metadata": {
    "collapsed": false,
    "pycharm": {
     "name": "#%%\n"
    }
   }
  },
  {
   "cell_type": "code",
   "execution_count": 16,
   "outputs": [
    {
     "ename": "AttributeError",
     "evalue": "'numpy.ndarray' object has no attribute 'aslist'",
     "output_type": "error",
     "traceback": [
      "\u001B[1;31m---------------------------------------------------------------------------\u001B[0m",
      "\u001B[1;31mAttributeError\u001B[0m                            Traceback (most recent call last)",
      "Input \u001B[1;32mIn [16]\u001B[0m, in \u001B[0;36m<module>\u001B[1;34m\u001B[0m\n\u001B[0;32m      1\u001B[0m urbanization_rot \u001B[38;5;241m=\u001B[39m urbanization\u001B[38;5;241m.\u001B[39mmelt(\n\u001B[0;32m      2\u001B[0m     id_vars\u001B[38;5;241m=\u001B[39m[\u001B[38;5;124m'\u001B[39m\u001B[38;5;124mCountry\u001B[39m\u001B[38;5;124m'\u001B[39m, \u001B[38;5;124m'\u001B[39m\u001B[38;5;124mYear\u001B[39m\u001B[38;5;124m'\u001B[39m],\n\u001B[1;32m----> 3\u001B[0m     value_vars\u001B[38;5;241m=\u001B[39m[\u001B[43murbanization\u001B[49m\u001B[43m[\u001B[49m\u001B[38;5;124;43m'\u001B[39;49m\u001B[38;5;124;43mPopulation Type\u001B[39;49m\u001B[38;5;124;43m'\u001B[39;49m\u001B[43m]\u001B[49m\u001B[38;5;241;43m.\u001B[39;49m\u001B[43munique\u001B[49m\u001B[43m(\u001B[49m\u001B[43m)\u001B[49m\u001B[38;5;241;43m.\u001B[39;49m\u001B[43maslist\u001B[49m()]\n\u001B[0;32m      4\u001B[0m )\n\u001B[0;32m      5\u001B[0m urbanization_rot\n",
      "\u001B[1;31mAttributeError\u001B[0m: 'numpy.ndarray' object has no attribute 'aslist'"
     ]
    }
   ],
   "source": [
    "urbanization_rot = urbanization.melt(\n",
    "    id_vars=['Country', 'Year'],\n",
    "    value_vars=[urbanization['Population Type'].unique()]\n",
    ")\n",
    "urbanization_rot"
   ],
   "metadata": {
    "collapsed": false,
    "pycharm": {
     "name": "#%%\n"
    }
   }
  },
  {
   "cell_type": "code",
   "execution_count": 2,
   "outputs": [
    {
     "data": {
      "text/plain": "           Country        Year Population Type  Population\n0      Afghanistan  1950-01-01           Urban      465127\n1      Afghanistan  1951-01-01           Urban      486716\n2      Afghanistan  1952-01-01           Urban      509649\n3      Afghanistan  1953-01-01           Urban      534076\n4      Afghanistan  1954-01-01           Urban      560158\n...            ...         ...             ...         ...\n27979     Viet Nam  2011-01-01           Rural    61250158\n27980     Viet Nam  2012-01-01           Rural    61288018\n27981     Viet Nam  2013-01-01           Rural    61322435\n27982     Viet Nam  2014-01-01           Rural    61342809\n27983     Viet Nam  2015-01-01           Rural    61343888\n\n[27984 rows x 4 columns]",
      "text/html": "<div>\n<style scoped>\n    .dataframe tbody tr th:only-of-type {\n        vertical-align: middle;\n    }\n\n    .dataframe tbody tr th {\n        vertical-align: top;\n    }\n\n    .dataframe thead th {\n        text-align: right;\n    }\n</style>\n<table border=\"1\" class=\"dataframe\">\n  <thead>\n    <tr style=\"text-align: right;\">\n      <th></th>\n      <th>Country</th>\n      <th>Year</th>\n      <th>Population Type</th>\n      <th>Population</th>\n    </tr>\n  </thead>\n  <tbody>\n    <tr>\n      <th>0</th>\n      <td>Afghanistan</td>\n      <td>1950-01-01</td>\n      <td>Urban</td>\n      <td>465127</td>\n    </tr>\n    <tr>\n      <th>1</th>\n      <td>Afghanistan</td>\n      <td>1951-01-01</td>\n      <td>Urban</td>\n      <td>486716</td>\n    </tr>\n    <tr>\n      <th>2</th>\n      <td>Afghanistan</td>\n      <td>1952-01-01</td>\n      <td>Urban</td>\n      <td>509649</td>\n    </tr>\n    <tr>\n      <th>3</th>\n      <td>Afghanistan</td>\n      <td>1953-01-01</td>\n      <td>Urban</td>\n      <td>534076</td>\n    </tr>\n    <tr>\n      <th>4</th>\n      <td>Afghanistan</td>\n      <td>1954-01-01</td>\n      <td>Urban</td>\n      <td>560158</td>\n    </tr>\n    <tr>\n      <th>...</th>\n      <td>...</td>\n      <td>...</td>\n      <td>...</td>\n      <td>...</td>\n    </tr>\n    <tr>\n      <th>27979</th>\n      <td>Viet Nam</td>\n      <td>2011-01-01</td>\n      <td>Rural</td>\n      <td>61250158</td>\n    </tr>\n    <tr>\n      <th>27980</th>\n      <td>Viet Nam</td>\n      <td>2012-01-01</td>\n      <td>Rural</td>\n      <td>61288018</td>\n    </tr>\n    <tr>\n      <th>27981</th>\n      <td>Viet Nam</td>\n      <td>2013-01-01</td>\n      <td>Rural</td>\n      <td>61322435</td>\n    </tr>\n    <tr>\n      <th>27982</th>\n      <td>Viet Nam</td>\n      <td>2014-01-01</td>\n      <td>Rural</td>\n      <td>61342809</td>\n    </tr>\n    <tr>\n      <th>27983</th>\n      <td>Viet Nam</td>\n      <td>2015-01-01</td>\n      <td>Rural</td>\n      <td>61343888</td>\n    </tr>\n  </tbody>\n</table>\n<p>27984 rows × 4 columns</p>\n</div>"
     },
     "execution_count": 2,
     "metadata": {},
     "output_type": "execute_result"
    }
   ],
   "source": [
    "urbanization"
   ],
   "metadata": {
    "collapsed": false,
    "pycharm": {
     "name": "#%%\n"
    }
   }
  }
 ],
 "metadata": {
  "kernelspec": {
   "display_name": "Python 3",
   "language": "python",
   "name": "python3"
  },
  "language_info": {
   "codemirror_mode": {
    "name": "ipython",
    "version": 2
   },
   "file_extension": ".py",
   "mimetype": "text/x-python",
   "name": "python",
   "nbconvert_exporter": "python",
   "pygments_lexer": "ipython2",
   "version": "2.7.6"
  }
 },
 "nbformat": 4,
 "nbformat_minor": 0
}