{
 "cells": [
  {
   "cell_type": "markdown",
   "metadata": {
    "collapsed": true,
    "pycharm": {
     "name": "#%% md\n"
    }
   },
   "source": [
    "# 1.\n",
    "Вы — аналитик «Королевства гномов», популярной онлайн-игры в жанре фэнтези.\n",
    "Маркетологи просят проанализировать эффективность рекламы, направленной на привлечение новых пользователей.\n",
    "Дата-инженеры подготовили для вас данные журнала сессий и пользовательских профилей.\n",
    "Структура профилей, ch02_problems01_users.csv:\n",
    "\n",
    "    user_id — уникальный идентификатор пользователя,\n",
    "    first_ts — дата и время первого посещения,\n",
    "    dt — дата первого посещения.\n",
    "\n",
    "Структура журнала сессий, ch02_problems01_visits.csv:\n",
    "\n",
    "    user_id — уникальный идентификатор пользователя,\n",
    "    session_duration — длительность пользовательской сессии,\n",
    "    session_start — дата и время начала посещения.\n",
    "\n",
    "Начните с расчёта коэффициента удержания.\n",
    "Загрузите профили и журнал сессий, приведите данные к нужным типам.\n",
    "Узнайте самую раннюю и самую позднюю даты первого посещения, существующие в пользовательских профилях.\n",
    "Самую раннюю сохраните в переменной min_analysis_date, а самую позднюю — в observation_date. Самая поздняя дата будет моментом анализа.\n",
    "Задайте горизонт анализа — 14 дней.\n",
    "Определите максимально возможную для такого горизонта дату привлечения и сохраните её в переменной max_analysis_date.\n",
    "\n",
    "Подсказка\n",
    "Вызовите функцию to_datetime(), чтобы привести данные столбцов dt, first_ts из users и session_start из visits к типу datetime.\n",
    "К преобразованному столбцу dt дополнительно примените атрибут dt.date, чтобы получить дату.\n",
    "Получите самую позднюю дату посещения, записанную в пользовательских профилях, вызвав метод max() к столбцу dt из датафрейма users.\n",
    "Узнайте максимально возможную дату привлечения, вычтя из observation_date временной промежуток, равный горизонту анализа.\n",
    "Получите этот временной промежуток, вызвав функцию timedelta() и передав ей параметр days, равный analysis_horizon минус 1."
   ]
  },
  {
   "cell_type": "code",
   "execution_count": 2,
   "outputs": [
    {
     "name": "stdout",
     "output_type": "stream",
     "text": [
      "2020-07-11 2020-08-10\n",
      "2020-07-28\n"
     ]
    }
   ],
   "source": [
    "import pandas as pd\n",
    "from datetime import datetime, timedelta\n",
    "\n",
    "users = pd.read_csv('datasets/ch02_problems01_users.csv')  # профили\n",
    "visits = pd.read_csv('datasets/ch02_problems01_visits.csv')  # сессии\n",
    "\n",
    "# преобразуйте данные о времени\n",
    "users['dt'] =  pd.to_datetime(users['dt']).dt.date# ваш код здесь\n",
    "users['first_ts'] =  pd.to_datetime(users['first_ts'])# ваш код здесь\n",
    "visits['session_start'] =  pd.to_datetime(visits['session_start'])# ваш код здесь\n",
    "\n",
    "# определите доступный интервал привлечения пользователей\n",
    "min_analysis_date = users['dt'].min()\n",
    "observation_date =  users['dt'].max()# ваш код здесь\n",
    "\n",
    "print(min_analysis_date, observation_date)\n",
    "\n",
    "# задайте горизонт анализа и посчитайте максимальную дату привлечения\n",
    "analysis_horizon = 14# ваш код здесь\n",
    "max_analysis_date =  observation_date - timedelta(days=analysis_horizon - 1)# ваш код здесь\n",
    "\n",
    "print(max_analysis_date)"
   ],
   "metadata": {
    "collapsed": false,
    "pycharm": {
     "name": "#%%\n"
    }
   }
  },
  {
   "cell_type": "markdown",
   "source": [
    "# 2.\n",
    "Вычислите размеры когорт игроков, привлечённых в каждый из дней до максимально возможной даты: от min_analysis_date до max_analysis_date.\n",
    "Постройте график, отражающий динамику привлечения пользователей в этот период.\n",
    "Рассчитайте средний размер когорты и сохраните результат в переменной mean_daily_cohort_size.\n",
    "Приведите её к типу int и выведите на экран.\n",
    "\n",
    "Подсказка\n",
    "Чтобы рассчитать размеры когорт, сделайте срез пользовательских профилей методом query(): значение dt должно быть больше или равно @min_analysis_date и меньше или равно @max_analysis_date.\n",
    "Сгруппируйте данные по столбцу dt и примените функцию nunique к столбцу user_id.\n",
    "Постройте график методом plot().\n",
    "Передайте ему значение True в качестве параметра grid — так на графике появится сетка.\n",
    "Чтобы узнать средний размер когорты, вызовите метод mean() к данным report.\n",
    "Приведите результат к типу int методом astype() и выведите на экран."
   ],
   "metadata": {
    "collapsed": false,
    "pycharm": {
     "name": "#%% md\n"
    }
   }
  },
  {
   "cell_type": "code",
   "execution_count": 10,
   "outputs": [
    {
     "data": {
      "text/plain": "<Figure size 432x288 with 1 Axes>",
      "image/png": "[encoded data removed]"
     },
     "metadata": {
      "needs_background": "light"
     },
     "output_type": "display_data"
    },
    {
     "name": "stdout",
     "output_type": "stream",
     "text": [
      "user_id    6132\n",
      "dtype: int64\n"
     ]
    }
   ],
   "source": [
    "import pandas as pd\n",
    "from datetime import datetime, timedelta\n",
    "from matplotlib import pyplot as plt\n",
    "\n",
    "users = pd.read_csv('datasets/ch02_problems01_users.csv')  # профили\n",
    "visits = pd.read_csv('datasets/ch02_problems01_visits.csv')  # сессии\n",
    "\n",
    "# преобразование данных о времени\n",
    "users['dt'] = pd.to_datetime(users['dt']).dt.date\n",
    "users['first_ts'] = pd.to_datetime(users['first_ts'])\n",
    "visits['session_start'] = pd.to_datetime(visits['session_start'])\n",
    "\n",
    "# доступный интервал привлечения пользователей\n",
    "min_analysis_date = users['dt'].min()\n",
    "observation_date = users['dt'].max()\n",
    "\n",
    "# горизонт анализа\n",
    "analysis_horizon = 14\n",
    "# максимально возможная дата привлечения с учётом горизонта\n",
    "max_analysis_date = observation_date - timedelta(days=analysis_horizon - 1)\n",
    "\n",
    "# рассчитайте размеры когорт\n",
    "report = (\n",
    "    users.query('@max_analysis_date >= dt and dt >= @min_analysis_date')  # допишите код\n",
    "        .groupby('dt')  # допишите код\n",
    "        .agg({'user_id':'nunique'})  # допишите код\n",
    ")\n",
    "\n",
    "report.plot(grid=True)  # постройте график, добавьте сетку\n",
    "plt.title('Динамика привлечения пользователей')  # название графика\n",
    "plt.xlabel('Дата привлечения')  # название оси X\n",
    "plt.xticks(rotation=45)  # угол наклона подписей на оси X\n",
    "plt.ylabel('Размер когорты')   # название оси Y\n",
    "plt.show()\n",
    "\n",
    "# посчитайте средний размер когорты\n",
    "mean_daily_cohort_size = report.mean()# ваш код здесь\n",
    "print(mean_daily_cohort_size.astype('int'))\n",
    "# выведите средний размер когорты в виде целого числа"
   ],
   "metadata": {
    "collapsed": false,
    "pycharm": {
     "name": "#%%\n"
    }
   }
  },
  {
   "cell_type": "markdown",
   "source": [
    "# 3.\n",
    "Оцените качество привлечённых пользователей: постройте таблицу удержания.\n",
    "Для этого вызовите функцию get_retention(), передав ей пользовательские профили, сессии, момент и горизонт анализа данных.\n",
    "Сырые данные сохраните в переменной retention_raw, а таблицу удержания — в retention.\n",
    "Выведите таблицу удержания на экран.\n",
    "\n",
    "Подсказка\n",
    "Вызовите функцию get_retention(), передав ей в качестве аргументов переменные users, visits, observation_date и analysis_horizon."
   ],
   "metadata": {
    "collapsed": false,
    "pycharm": {
     "name": "#%% md\n"
    }
   }
  },
  {
   "cell_type": "code",
   "execution_count": 13,
   "outputs": [
    {
     "name": "stdout",
     "output_type": "stream",
     "text": [
      "            cohort_size    0         1         2         3         4  \\\n",
      "dt                                                                     \n",
      "2020-07-11         7027  1.0  0.284047  0.185428  0.129216  0.105023   \n",
      "2020-07-12         6245  1.0  0.282946  0.185268  0.135468  0.101521   \n",
      "2020-07-13         6087  1.0  0.284377  0.181370  0.130935  0.102021   \n",
      "2020-07-14         4435  1.0  0.289966  0.173844  0.128749  0.109357   \n",
      "2020-07-15         3901  1.0  0.313766  0.201999  0.161753  0.127916   \n",
      "2020-07-16         4887  1.0  0.307551  0.216902  0.145693  0.121752   \n",
      "2020-07-17         5221  1.0  0.306646  0.211262  0.158207  0.121241   \n",
      "2020-07-18         6796  1.0  0.344173  0.233225  0.180842  0.146115   \n",
      "2020-07-19         6424  1.0  0.329078  0.233811  0.181507  0.145081   \n",
      "2020-07-20         5347  1.0  0.334393  0.225734  0.174303  0.144567   \n",
      "2020-07-21         5228  1.0  0.308340  0.201033  0.154552  0.126052   \n",
      "2020-07-22         5552  1.0  0.297370  0.197406  0.148595  0.121938   \n",
      "2020-07-23         5305  1.0  0.298775  0.186428  0.144581  0.123845   \n",
      "2020-07-24         6475  1.0  0.304402  0.208803  0.157838  0.127104   \n",
      "2020-07-25         8477  1.0  0.301168  0.204082  0.151705  0.119972   \n",
      "2020-07-26         8191  1.0  0.316567  0.213161  0.150043  0.126969   \n",
      "2020-07-27         7851  1.0  0.271940  0.159598  0.116164  0.092345   \n",
      "2020-07-28         6932  1.0  0.262406  0.167484  0.127092  0.085545   \n",
      "\n",
      "                   5         6         7         8         9        10  \\\n",
      "dt                                                                       \n",
      "2020-07-11  0.086808  0.073573  0.065319  0.057493  0.052512  0.045966   \n",
      "2020-07-12  0.085989  0.076381  0.071097  0.058767  0.044676  0.045316   \n",
      "2020-07-13  0.086085  0.067192  0.070314  0.057007  0.052078  0.044850   \n",
      "2020-07-14  0.082976  0.068997  0.066516  0.055919  0.044194  0.044645   \n",
      "2020-07-15  0.112279  0.098949  0.085619  0.073058  0.067931  0.054858   \n",
      "2020-07-16  0.114180  0.089216  0.085328  0.069777  0.062410  0.059136   \n",
      "2020-07-17  0.109558  0.086190  0.081210  0.071825  0.063781  0.059950   \n",
      "2020-07-18  0.120659  0.111389  0.096086  0.086963  0.076221  0.070335   \n",
      "2020-07-19  0.123599  0.106787  0.095423  0.082036  0.076432  0.069583   \n",
      "2020-07-20  0.125865  0.102674  0.098560  0.085656  0.072938  0.079858   \n",
      "2020-07-21  0.096404  0.080910  0.070964  0.069243  0.060252  0.052219   \n",
      "2020-07-22  0.098703  0.089878  0.071506  0.071326  0.055295  0.054755   \n",
      "2020-07-23  0.092554  0.087842  0.072762  0.066541  0.055231  0.056739   \n",
      "2020-07-24  0.107799  0.090811  0.079228  0.067799  0.062394  0.054672   \n",
      "2020-07-25  0.107703  0.086823  0.081279  0.069128  0.066651  0.058039   \n",
      "2020-07-26  0.106214  0.093517  0.086314  0.072519  0.063484  0.057014   \n",
      "2020-07-27  0.079735  0.063431  0.057954  0.050567  0.045981  0.041523   \n",
      "2020-07-28  0.075014  0.065493  0.054241  0.050779  0.043710  0.039815   \n",
      "\n",
      "                  11        12        13  \n",
      "dt                                        \n",
      "2020-07-11  0.043689  0.039846  0.034581  \n",
      "2020-07-12  0.043235  0.037950  0.035228  \n",
      "2020-07-13  0.046000  0.038443  0.036800  \n",
      "2020-07-14  0.044419  0.039008  0.036979  \n",
      "2020-07-15  0.058190  0.048962  0.049218  \n",
      "2020-07-16  0.056476  0.051361  0.046245  \n",
      "2020-07-17  0.054587  0.045011  0.049799  \n",
      "2020-07-18  0.065627  0.062537  0.058417  \n",
      "2020-07-19  0.066314  0.063200  0.059776  \n",
      "2020-07-20  0.065457  0.061343  0.059099  \n",
      "2020-07-21  0.049923  0.045142  0.042464  \n",
      "2020-07-22  0.048631  0.048271  0.044308  \n",
      "2020-07-23  0.051461  0.044863  0.047879  \n",
      "2020-07-24  0.053900  0.050656  0.045097  \n",
      "2020-07-25  0.053203  0.051669  0.046243  \n",
      "2020-07-26  0.054084  0.050055  0.049078  \n",
      "2020-07-27  0.038976  0.035537  0.033117  \n",
      "2020-07-28  0.038806  0.031737  0.029573  \n"
     ]
    }
   ],
   "source": [
    "import pandas as pd\n",
    "from datetime import datetime, timedelta\n",
    "from matplotlib import pyplot as plt\n",
    "\n",
    "\n",
    "def get_retention(\n",
    "        profiles, sessions, observation_date, horizon_days, ignore_horizon=False\n",
    "):\n",
    "\n",
    "    # исключаем пользователей, не «доживших» до горизонта анализа\n",
    "    last_suitable_acquisition_date = observation_date\n",
    "    if not ignore_horizon:\n",
    "        last_suitable_acquisition_date = observation_date - timedelta(\n",
    "            days=horizon_days - 1\n",
    "        )\n",
    "    result_raw = profiles.query('dt <= @last_suitable_acquisition_date')\n",
    "\n",
    "    # собираем «сырые» данные для расчёта удержания\n",
    "    result_raw = result_raw.merge(\n",
    "        sessions[['user_id', 'session_start']], on='user_id', how='left'\n",
    "    )\n",
    "    result_raw['lifetime'] = (\n",
    "            result_raw['session_start'] - result_raw['first_ts']\n",
    "    ).dt.days\n",
    "\n",
    "    # рассчитываем удержание\n",
    "    result_grouped = result_raw.pivot_table(\n",
    "        index=['dt'], columns='lifetime', values='user_id', aggfunc='nunique'\n",
    "    )\n",
    "    cohort_sizes = (\n",
    "        result_raw.groupby('dt')\n",
    "            .agg({'user_id': 'nunique'})\n",
    "            .rename(columns={'user_id': 'cohort_size'})\n",
    "    )\n",
    "    result_grouped = cohort_sizes.merge(\n",
    "        result_grouped, on='dt', how='left'\n",
    "    ).fillna(0)\n",
    "    result_grouped = result_grouped.div(result_grouped['cohort_size'], axis=0)\n",
    "\n",
    "    # исключаем все лайфтаймы, превышающие горизонт анализа\n",
    "    result_grouped = result_grouped[\n",
    "        ['cohort_size'] + list(range(horizon_days))\n",
    "        ]\n",
    "\n",
    "    # восстанавливаем столбец с размерами когорт\n",
    "    result_grouped['cohort_size'] = cohort_sizes\n",
    "\n",
    "    # возвращаем таблицу удержания и сырые данные\n",
    "    return result_raw, result_grouped\n",
    "\n",
    "\n",
    "users = pd.read_csv('datasets/ch02_problems01_users.csv')  # профили\n",
    "visits = pd.read_csv('datasets/ch02_problems01_visits.csv')  # сессии\n",
    "\n",
    "# преобразование данных о времени\n",
    "users['dt'] = pd.to_datetime(users['dt']).dt.date\n",
    "users['first_ts'] = pd.to_datetime(users['first_ts'])\n",
    "visits['session_start'] = pd.to_datetime(visits['session_start'])\n",
    "\n",
    "# доступный интервал привлечения пользователей\n",
    "min_analysis_date = users['dt'].min()\n",
    "observation_date = users['dt'].max()  # момент анализа\n",
    "\n",
    "# горизонт анализа\n",
    "analysis_horizon = 14\n",
    "\n",
    "# постройте таблицу удержания\n",
    "retention_raw, retention = get_retention(profiles=users, sessions=visits, observation_date=observation_date, horizon_days=analysis_horizon)# ваш код здесь\n",
    "print(retention)\n",
    "# выведите retention на экран"
   ],
   "metadata": {
    "collapsed": false,
    "pycharm": {
     "name": "#%%\n"
    }
   }
  }
 ],
 "metadata": {
  "kernelspec": {
   "display_name": "Python 3",
   "language": "python",
   "name": "python3"
  },
  "language_info": {
   "codemirror_mode": {
    "name": "ipython",
    "version": 2
   },
   "file_extension": ".py",
   "mimetype": "text/x-python",
   "name": "python",
   "nbconvert_exporter": "python",
   "pygments_lexer": "ipython2",
   "version": "2.7.6"
  }
 },
 "nbformat": 4,
 "nbformat_minor": 0
}