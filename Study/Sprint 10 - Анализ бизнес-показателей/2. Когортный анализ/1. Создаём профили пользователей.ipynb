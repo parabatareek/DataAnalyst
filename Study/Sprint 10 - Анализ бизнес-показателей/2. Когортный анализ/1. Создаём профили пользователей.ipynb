{
 "cells": [
  {
   "cell_type": "markdown",
   "source": [
    "# 1.\n",
    "Создайте расширенные профили посетителей магазина «Читать не вредно».\n",
    "Для этого измените функцию get_profiles() из теории так, чтобы кроме источника перехода на сайт она возвращала устройство (device) и регион (region) первого посещения.\n",
    "Передайте обновлённой функции данные из файла sessions.csv.\n",
    "Затем определите, сколько пользователей заходили на сайт с каждого устройства.\n",
    "Результат отсортируйте по убыванию количества посетителей и выведите на экран.\n",
    "Структуру sessions.csv можно посмотреть во вкладке.\n",
    "\n",
    "Подсказка\n",
    "В теле функции get_profiles() передайте методу agg() два дополнительных аргумента: примените функцию first() к значениям столбцов device и region.\n",
    "Чтобы узнать количество пользователей, зашедших на сайт с каждого устройства, вызовите метод agg() и примените функцию nunique() к значениям столбца user_id.\n",
    "Отсортируйте результат по убыванию, вызвав метод sort_values() с такими параметрами: by = 'user_id', ascending = False."
   ],
   "metadata": {
    "collapsed": false,
    "pycharm": {
     "name": "#%% md\n"
    }
   }
  },
  {
   "cell_type": "code",
   "execution_count": 2,
   "outputs": [
    {
     "name": "stdout",
     "output_type": "stream",
     "text": [
      "         user_id\n",
      "device          \n",
      "iPhone     62944\n",
      "Mac        35354\n",
      "Android    28390\n",
      "PC         14731\n"
     ]
    }
   ],
   "source": [
    "import pandas as pd\n",
    "\n",
    "sessions = pd.read_csv(filepath_or_buffer='datasets/sessions.csv')\n",
    "sessions['session_start'] = pd.to_datetime(sessions['session_start'])\n",
    "\n",
    "\n",
    "def get_profiles(sessions):\n",
    "\n",
    "    profiles = (\n",
    "        sessions.sort_values(by=['user_id', 'session_start'])\n",
    "            .groupby('user_id')\n",
    "            .agg(\n",
    "            {\n",
    "                'session_start': 'first',\n",
    "                'channel': 'first',\n",
    "                'device':'first',\n",
    "                'region':'first'\n",
    "            }\n",
    "        )\n",
    "            .rename(columns={'session_start': 'first_ts'})\n",
    "            .reset_index()\n",
    "    )\n",
    "\n",
    "    profiles['dt'] = profiles['first_ts'].dt.date\n",
    "    profiles['month'] = profiles['first_ts'].astype('datetime64[M]')\n",
    "\n",
    "    return profiles\n",
    "\n",
    "\n",
    "profiles = get_profiles(sessions)\n",
    "\n",
    "print(\n",
    "    profiles.groupby('device')\n",
    "    .agg({'user_id':'nunique'})\n",
    "    .sort_values(by='user_id', ascending=False)# допишите код\n",
    ")"
   ],
   "metadata": {
    "collapsed": false,
    "pycharm": {
     "name": "#%%\n"
    }
   }
  },
  {
   "cell_type": "markdown",
   "source": [
    "# 2.\n",
    "В дополнение к журналу пользовательских сессий интернет-магазин «Читать не вредно» передал вам файл с данными о всех покупках пользователей — book_orders.csv.\n",
    "Вот его структура:\n",
    "\n",
    "    user_id — уникальный идентификатор пользователя,\n",
    "    event_dt — дата покупки,\n",
    "    revenue — сумма покупки.\n",
    "\n",
    "Обогатите пользовательские профили информацией о покупках: добавьте в профили признак payer, который принимает значение True, если идентификатор пользователя есть среди покупателей, и значение False в ином случае.\n",
    "После этого посчитайте, какая доля новых посетителей стала покупателями в каждой стране.\n",
    "Результат отсортируйте по убыванию доли покупателей и выведите на экран.\n",
    "\n",
    "Подсказка\n",
    "Чтобы добавить в столбец payer результаты проверки наличия user_id из profiles в данных orders, примените к столбцу user_id из датафрейма profiles метод isin(), передав ему уникальные значения столбца user_id из датафрейма orders.\n",
    "Уникальные значения найдите методом unique().\n",
    "Долю покупателей в каждой стране посчитайте как среднее по колонке payer: после группировки по столбцу region вызовите метод agg() и примените функцию mean() к значениям столбца payer.\n",
    "Затем отсортируйте значения по убыванию значений payer методом sort_values()."
   ],
   "metadata": {
    "collapsed": false,
    "pycharm": {
     "name": "#%% md\n"
    }
   }
  },
  {
   "cell_type": "code",
   "execution_count": null,
   "outputs": [],
   "source": [
    "import pandas as pd\n",
    "\n",
    "sessions = pd.read_csv('sessions.csv')\n",
    "sessions['session_start'] = pd.to_datetime(sessions['session_start'])\n",
    "\n",
    "orders = pd.read_csv('book_orders.csv')\n",
    "orders['event_dt'] = pd.to_datetime(orders['event_dt'])\n",
    "\n",
    "# добавили второй аргумент\n",
    "def get_profiles(sessions, orders):\n",
    "\n",
    "    profiles = (\n",
    "        sessions.sort_values(by=['user_id', 'session_start'])\n",
    "            .groupby('user_id')\n",
    "            .agg(\n",
    "            {\n",
    "                'session_start': 'first',\n",
    "                'channel': 'first',\n",
    "                'device': 'first',\n",
    "                'region': 'first',\n",
    "            }\n",
    "        )\n",
    "            .rename(columns={'session_start': 'first_ts'})\n",
    "            .reset_index()\n",
    "    )\n",
    "\n",
    "    profiles['dt'] = profiles['first_ts'].dt.date\n",
    "    profiles['month'] = profiles['first_ts'].astype('datetime64[M]')\n",
    "\n",
    "    # проверьте, есть ли ID пользователей из profiles в orders\n",
    "    profiles['payer'] =  profiles['user_id'].isin(orders['user_id'])# ваш код здесь\n",
    "\n",
    "    return profiles\n",
    "\n",
    "# строим профили по двум наборам данных\n",
    "profiles = get_profiles(sessions, orders)\n",
    "\n",
    "print(\n",
    "    profiles.groupby('region')\n",
    "        .agg({'payer':'mean'})\n",
    "        .sort_values(by='payer', ascending=False)\n",
    ")"
   ],
   "metadata": {
    "collapsed": false,
    "pycharm": {
     "name": "#%%\n"
    }
   }
  }
 ],
 "metadata": {
  "kernelspec": {
   "display_name": "Python 3",
   "language": "python",
   "name": "python3"
  },
  "language_info": {
   "codemirror_mode": {
    "name": "ipython",
    "version": 2
   },
   "file_extension": ".py",
   "mimetype": "text/x-python",
   "name": "python",
   "nbconvert_exporter": "python",
   "pygments_lexer": "ipython2",
   "version": "2.7.6"
  }
 },
 "nbformat": 4,
 "nbformat_minor": 0
}