{
 "cells": [
  {
   "cell_type": "markdown",
   "metadata": {
    "collapsed": true,
    "pycharm": {
     "name": "#%% md\n"
    }
   },
   "source": [
    "# 1.\n",
    "Ваша команда запустила новый сервис — доставку на дронах.\n",
    "Заказать услугу можно через мобильное приложение «Лечу не хочу».\n",
    "Услуга пользуется популярностью, и ваша команда решила пойти к инвесторам.\n",
    "Найдите интересующие их метрики.\n",
    "В файле users_data.csv хранятся действия пользователей приложения.\n",
    "Откройте и сохраните данные файла в переменной users_data.\n",
    "Приведите столбцы session_start_ts и session_end_ts к типу datetime.\n",
    "Затем выделите год, месяц, неделю и дату начала сессии в новые столбцы: session_year, session_month, session_week и session_date.\n",
    "Посчитайте MAU за весь период и сохраните результат в переменной mau_total.\n",
    "Преобразуйте mau_total в целое число и выведите на экран.\n",
    "\n",
    "Подсказка\n",
    "Приведите данные столбцов session_start_ts и session_end_ts к формату datetime методом to_datetime().\n",
    "Год начала каждой сессии получите так: users_data['session_start_ts'].dt.year.\n",
    "Аналогично найдите месяц, дату и номер недели.\n",
    "Чтобы посчитать MAU, сгруппируйте users_data по session_year и session_month и найдите среднее количество уникальных пользователей.\n",
    "Преобразуйте значение mau_total в целое число функцией int()."
   ]
  },
  {
   "cell_type": "code",
   "execution_count": null,
   "outputs": [],
   "source": [
    "import pandas as pd\n",
    "\n",
    "# напишите ваш код здесь\n",
    "users_data = pd.read_csv('users_data.csv')\n",
    "users_data['session_start_ts'] = pd.to_datetime(users_data['session_start_ts'])\n",
    "users_data['session_end_ts'] = pd.to_datetime(users_data['session_end_ts'])\n",
    "users_data['session_year'] = users_data['session_start_ts'].dt.year\n",
    "users_data['session_month'] = users_data['session_start_ts'].dt.month\n",
    "users_data['session_week'] = users_data['session_start_ts'].dt.week\n",
    "users_data['session_date'] = users_data['session_start_ts'].dt.date\n",
    "mau_total = (users_data.groupby(['session_year','session_month'])\n",
    "             .agg({'id':'nunique'})\n",
    "             .mean())\n",
    "print(int(mau_total))"
   ],
   "metadata": {
    "collapsed": false,
    "pycharm": {
     "name": "#%%\n"
    }
   }
  },
  {
   "cell_type": "markdown",
   "source": [
    "# 2.\n",
    "По аналогии с mau_total рассчитайте dau_total и wau_total.\n",
    "Найдите sticky factor в процентах по отношению к месячной и недельной аудитории.\n",
    "Сохраните результат для месячной аудитории в переменной sticky_mau, а для недельной — в sticky_wau.\n",
    "Выведите оба показателя на экран.\n",
    "\n",
    "Подсказка\n",
    "Чтобы рассчитать dau_total, сгруппируйте данные session_date, посчитайте количество уникальных пользователей по столбцу id и найдите среднее методом mean().\n",
    "WAU посчитайте аналогично, но данные сгруппируйте по столбцам session_year и session_week.\n",
    "Чтобы получить sticky_wau, разделите dau_total на wau_total и умножьте на 100.\n",
    "При расчёте sticky_mau замените wau_total на mau_total."
   ],
   "metadata": {
    "collapsed": false,
    "pycharm": {
     "name": "#%% md\n"
    }
   }
  },
  {
   "cell_type": "code",
   "execution_count": null,
   "outputs": [],
   "source": [
    "import pandas as pd\n",
    "\n",
    "users_data = pd.read_csv('users_data.csv')\n",
    "\n",
    "users_data['session_start_ts'] = pd.to_datetime(users_data['session_start_ts'])\n",
    "users_data['session_end_ts'] = pd.to_datetime(users_data['session_end_ts'])\n",
    "\n",
    "users_data['session_year'] = users_data['session_start_ts'].dt.year\n",
    "users_data['session_month'] = users_data['session_start_ts'].dt.month\n",
    "users_data['session_week'] = (\n",
    "    users_data['session_start_ts'].dt.week\n",
    ")\n",
    "users_data['session_date'] = users_data['session_start_ts'].dt.date\n",
    "\n",
    "mau_total = (\n",
    "    users_data.groupby(['session_year', 'session_month'])\n",
    "        .agg({'id': 'nunique'})\n",
    "        .mean()\n",
    ")\n",
    "\n",
    "dau_total = users_data.groupby('session_date').agg({'id':'nunique'}).mean()# напишите ваш код здесь\n",
    "wau_total = (\n",
    "    users_data.groupby(['session_year', 'session_week'])\n",
    "        .agg({'id':'nunique'})\n",
    "        .mean())# напишите ваш код здесь\n",
    "\n",
    "sticky_wau = dau_total / wau_total * 100# напишите ваш код здесь\n",
    "print(sticky_wau)\n",
    "sticky_mau = dau_total / mau_total * 100# напишите ваш код здесь\n",
    "print(sticky_mau)"
   ],
   "metadata": {
    "collapsed": false,
    "pycharm": {
     "name": "#%%\n"
    }
   }
  }
 ],
 "metadata": {
  "kernelspec": {
   "display_name": "Python 3",
   "language": "python",
   "name": "python3"
  },
  "language_info": {
   "codemirror_mode": {
    "name": "ipython",
    "version": 2
   },
   "file_extension": ".py",
   "mimetype": "text/x-python",
   "name": "python",
   "nbconvert_exporter": "python",
   "pygments_lexer": "ipython2",
   "version": "2.7.6"
  }
 },
 "nbformat": 4,
 "nbformat_minor": 0
}