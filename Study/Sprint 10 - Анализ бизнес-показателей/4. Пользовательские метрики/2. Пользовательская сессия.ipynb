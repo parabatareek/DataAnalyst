{
 "cells": [
  {
   "cell_type": "markdown",
   "metadata": {
    "collapsed": true,
    "pycharm": {
     "name": "#%% md\n"
    }
   },
   "source": [
    "# 1.\n",
    "Продолжите работу с приложением доставки на дронах.\n",
    "Посчитайте количество сессий на одного пользователя по каждому месяцу, сохраните результат в sessions_per_user['sess_per_user'].\n",
    "Выведите sessions_per_user на экран.\n",
    "\n",
    "Подсказка\n",
    "Чтобы рассчитать метрику, в переменной sessions_per_user сгруппируйте данные users_data по столбцам session_year и session_month и посчитайте общее и уникальное число сессий в столбце id.\n",
    "Переименуйте соответствующие столбцы в n_sessions и n_users при помощи атрибута columns и поделите первое на второе, сохранив результат в столбец sess_per_user."
   ]
  },
  {
   "cell_type": "code",
   "execution_count": null,
   "outputs": [],
   "source": [
    "import pandas as pd\n",
    "\n",
    "users_data = pd.read_csv('users_data.csv')\n",
    "\n",
    "users_data['session_start_ts'] = pd.to_datetime(users_data['session_start_ts'])\n",
    "users_data['session_end_ts'] = pd.to_datetime(users_data['session_end_ts'])\n",
    "\n",
    "users_data['session_year']  = users_data['session_start_ts'].dt.year\n",
    "users_data['session_month'] = users_data['session_start_ts'].dt.month\n",
    "sessions_per_user = users_data.groupby(['session_year', 'session_month']).agg({'id':['count','nunique']})\n",
    "sessions_per_user.columns = ['n_sessions', 'n_users']\n",
    "sessions_per_user['sess_per_user'] = sessions_per_user['n_sessions'] / sessions_per_user['n_users']\n",
    "print(sessions_per_user)"
   ],
   "metadata": {
    "collapsed": false,
    "pycharm": {
     "name": "#%%\n"
    }
   }
  },
  {
   "cell_type": "markdown",
   "source": [
    "# 2.\n",
    "Найдите продолжительность сессий и постройте гистограмму со 100 корзинами.\n",
    "\n",
    "Рассчитайте длину сессии как разницу её конца и начала: вычтите значения столбца session_start_ts из session_end_ts и получите количество секунд при помощи атрибутов dt и seconds."
   ],
   "metadata": {
    "collapsed": false,
    "pycharm": {
     "name": "#%% md\n"
    }
   }
  },
  {
   "cell_type": "code",
   "execution_count": null,
   "outputs": [],
   "source": [
    "import pandas as pd\n",
    "\n",
    "users_data = pd.read_csv('users_data.csv')\n",
    "\n",
    "users_data['session_start_ts'] = pd.to_datetime(users_data['session_start_ts'])\n",
    "users_data['session_end_ts'] = pd.to_datetime(users_data['session_end_ts'])\n",
    "\n",
    "users_data['session_duration_sec'] = (users_data['session_end_ts'] - users_data['session_start_ts']).dt.seconds # посчитайте продолжительность сессий\n",
    "users_data['session_duration_sec'].hist(bins=100)"
   ],
   "metadata": {
    "collapsed": false,
    "pycharm": {
     "name": "#%%\n"
    }
   }
  },
  {
   "cell_type": "markdown",
   "source": [
    "# 3.\n",
    "Найдите медианную продолжительность сессии. Сохраните результат в переменной msl и выведите на экран.\n",
    "\n",
    "Найдите медиану значений столбца session_duration_sec, вызвав метод median(), и сохраните результат в переменной msl."
   ],
   "metadata": {
    "collapsed": false,
    "pycharm": {
     "name": "#%% md\n"
    }
   }
  },
  {
   "cell_type": "code",
   "execution_count": null,
   "outputs": [],
   "source": [
    "import pandas as pd\n",
    "\n",
    "users_data = pd.read_csv('users_data.csv')\n",
    "\n",
    "users_data['session_start_ts'] = pd.to_datetime(users_data['session_start_ts'])\n",
    "users_data['session_end_ts'] = pd.to_datetime(users_data['session_end_ts'])\n",
    "\n",
    "users_data['session_duration_sec'] = (\n",
    "        users_data['session_end_ts'] - users_data['session_start_ts']\n",
    ").dt.seconds\n",
    "msl = users_data['session_duration_sec'].median()\n",
    "print(msl)"
   ],
   "metadata": {
    "collapsed": false,
    "pycharm": {
     "name": "#%%\n"
    }
   }
  }
 ],
 "metadata": {
  "kernelspec": {
   "display_name": "Python 3",
   "language": "python",
   "name": "python3"
  },
  "language_info": {
   "codemirror_mode": {
    "name": "ipython",
    "version": 2
   },
   "file_extension": ".py",
   "mimetype": "text/x-python",
   "name": "python",
   "nbconvert_exporter": "python",
   "pygments_lexer": "ipython2",
   "version": "2.7.6"
  }
 },
 "nbformat": 4,
 "nbformat_minor": 0
}