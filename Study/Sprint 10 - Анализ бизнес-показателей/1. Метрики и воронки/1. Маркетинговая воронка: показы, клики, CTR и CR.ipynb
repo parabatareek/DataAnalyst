{
 "cells": [
  {
   "cell_type": "markdown",
   "metadata": {
    "collapsed": true,
    "pycharm": {
     "name": "#%% md\n"
    }
   },
   "source": [
    "# 1.\n",
    "Откройте данные о рекламных баннерах из файла ad_data.csv и сохраните в переменной ad_data.\n",
    "Информацию о регистрациях пользователей получите из файла site_data.csv и сохраните в переменной site_data.\n",
    "Объедините данные таблиц в один датафрейм по столбцу date.\n",
    "Сохраните результат в переменной funnel и выведите на экран первые 5 строк получившегося датасета."
   ]
  },
  {
   "cell_type": "code",
   "execution_count": null,
   "outputs": [],
   "source": [
    "import pandas as pd\n",
    "\n",
    "ad_data = pd.read_csv(filepath_or_buffer='../datasets/ad_data.csv')# загрузите данные из ad_data.csv\n",
    "site_data = pd.read_csv(filepath_or_buffer='../datasets/site_data.csv')# загрузите данные из site_data.csv\n",
    "funnel = ad_data.merge(site_data, on='date')# объедините их по столбцу date\n",
    "print(funnel.head())"
   ],
   "metadata": {
    "collapsed": false,
    "pycharm": {
     "name": "#%%\n"
    }
   }
  },
  {
   "cell_type": "markdown",
   "source": [
    "# 2.\n",
    "Посчитайте CTR и конверсию кликов по рекламе в регистрацию на сайте.\n",
    "Результаты сохраните в столбцах funnel['ctr, %'] и funnel['cr, %'] соответственно.\n",
    "Выведите на экран первые 5 строк датафрейма.\n",
    "\n",
    "Подсказка\n",
    "Чтобы найти CTR в процентах, поделите столбец funnel['clicks'] на столбец funnel['impressions'] и умножьте результат на 100.\n",
    "Значения столбца funnel['cr, %'] найдите аналогично: поделите столбец funnel['registrations'] на funnel['clicks'] и умножьте на 100.\n",
    "Выведите первые пять строк датафрейма на экран методом head()."
   ],
   "metadata": {
    "collapsed": false,
    "pycharm": {
     "name": "#%% md\n"
    }
   }
  },
  {
   "cell_type": "code",
   "execution_count": null,
   "outputs": [],
   "source": [
    "import pandas as pd\n",
    "\n",
    "ad_data = pd.read_csv(filepath_or_buffer='../datasets/ad_data.csv')# загрузите данные из ad_data.csv\n",
    "site_data = pd.read_csv(filepath_or_buffer='../datasets/site_data.csv')# загрузите данные из site_data.csv\n",
    "funnel = ad_data.merge(site_data, on='date')# объедините их по столбцу date\n",
    "\n",
    "funnel['ctr, %'] = funnel['clicks'] / funnel['impressions'] * 100# посчитайте CTR\n",
    "funnel['cr, %'] = funnel['registrations'] / funnel['clicks'] * 100# посчитайте конверсию кликов в регистрации\n",
    "print(funnel.head())"
   ],
   "metadata": {
    "collapsed": false,
    "pycharm": {
     "name": "#%%\n"
    }
   }
  }
 ],
 "metadata": {
  "kernelspec": {
   "display_name": "Python 3",
   "language": "python",
   "name": "python3"
  },
  "language_info": {
   "codemirror_mode": {
    "name": "ipython",
    "version": 2
   },
   "file_extension": ".py",
   "mimetype": "text/x-python",
   "name": "python",
   "nbconvert_exporter": "python",
   "pygments_lexer": "ipython2",
   "version": "2.7.6"
  }
 },
 "nbformat": 4,
 "nbformat_minor": 0
}