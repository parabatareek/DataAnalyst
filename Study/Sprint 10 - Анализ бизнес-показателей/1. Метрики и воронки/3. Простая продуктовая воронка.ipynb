{
 "cells": [
  {
   "cell_type": "markdown",
   "metadata": {
    "collapsed": true,
    "pycharm": {
     "name": "#%% md\n"
    }
   },
   "source": [
    "# 1.\n",
    "Проанализируйте продуктовую воронку онлайн-сервиса, помогающего предпринимателям сдавать годовую отчётность.\n",
    "В воронке три шага: посещение сайта (pageview), отправка сообщения специалисту компании (chat_message) и оплата (success).\n",
    "Сохраните логи событий из файла funnel_prod_events.csv в переменной events.\n",
    "Сгруппируйте данные events по столбцу event_name и посчитайте количество строк в каждой группе.\n",
    "Результат сохраните в переменной events_count и выведите её на экран.\n",
    "\n",
    "Вызовите метод groupby(), чтобы сгруппировать данные по столбцу event_name, и метод agg(), чтобы посчитать количество событий в каждой группе. Методу agg() передайте словарь из названий столбца и функции, которую хотите применить: {'uid': 'count'}."
   ]
  },
  {
   "cell_type": "code",
   "execution_count": 1,
   "outputs": [
    {
     "name": "stdout",
     "output_type": "stream",
     "text": [
      "               uid\n",
      "event_name        \n",
      "chat_message  1262\n",
      "pageview       764\n",
      "success        510\n"
     ]
    }
   ],
   "source": [
    "import pandas as pd\n",
    "\n",
    "events = pd.read_csv(filepath_or_buffer='../datasets/funnel_prod_events.csv')# загрузите данные\n",
    "events_count = events.groupby('event_name').agg({'uid': 'count'})# сгруппируйте и подсчитайте количество значений\n",
    "print(events_count)\n",
    "# выведите events_count на экран"
   ],
   "metadata": {
    "collapsed": false,
    "pycharm": {
     "name": "#%%\n"
    }
   }
  },
  {
   "cell_type": "markdown",
   "source": [
    "# 2.\n",
    "Перестройте воронку так, чтобы она отражала не события, а пользователей.\n",
    "Сгруппируйте данные из переменной events по столбцу event_name и посчитайте количество уникальных пользователей в каждой группе.\n",
    "Отсортируйте по убыванию.\n",
    "Результат сохраните в переменной users_count и выведите на экран.\n",
    "\n",
    "Чтобы посчитать количество уникальных пользователей для каждого события, вместо count передайте методу agg() метод nunique.\n",
    "Отсортируйте датафрейм по убыванию значений столбца uid методом sort_values()."
   ],
   "metadata": {
    "collapsed": false,
    "pycharm": {
     "name": "#%% md\n"
    }
   }
  },
  {
   "cell_type": "code",
   "execution_count": 4,
   "outputs": [
    {
     "name": "stdout",
     "output_type": "stream",
     "text": [
      "              uid\n",
      "event_name       \n",
      "pageview       54\n",
      "chat_message   43\n",
      "success        39\n"
     ]
    }
   ],
   "source": [
    "import pandas as pd\n",
    "\n",
    "events = pd.read_csv(filepath_or_buffer='../datasets/funnel_prod_events.csv')\n",
    "\n",
    "users_count = events.groupby('event_name').agg({'uid':'nunique'}).sort_values(by='uid', ascending=False)# сгруппируйте данные и посчитайте уникальные значения\n",
    "\n",
    "print(users_count)"
   ],
   "metadata": {
    "collapsed": false,
    "pycharm": {
     "name": "#%%\n"
    }
   }
  }
 ],
 "metadata": {
  "kernelspec": {
   "display_name": "Python 3",
   "language": "python",
   "name": "python3"
  },
  "language_info": {
   "codemirror_mode": {
    "name": "ipython",
    "version": 2
   },
   "file_extension": ".py",
   "mimetype": "text/x-python",
   "name": "python",
   "nbconvert_exporter": "python",
   "pygments_lexer": "ipython2",
   "version": "2.7.6"
  }
 },
 "nbformat": 4,
 "nbformat_minor": 0
}