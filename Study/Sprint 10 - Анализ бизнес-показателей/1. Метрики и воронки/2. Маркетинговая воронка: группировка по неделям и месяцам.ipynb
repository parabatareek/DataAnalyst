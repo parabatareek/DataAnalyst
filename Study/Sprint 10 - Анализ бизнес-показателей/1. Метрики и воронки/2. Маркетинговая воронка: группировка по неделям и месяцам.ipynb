{
 "cells": [
  {
   "cell_type": "markdown",
   "metadata": {
    "collapsed": true,
    "pycharm": {
     "name": "#%% md\n"
    }
   },
   "source": [
    "# 1.\n",
    "Ранее вы построили маркетинговую воронку компании «Волки и овцы» с данными CTR и CR за каждый день.\n",
    "Укрупните её: найдите конверсии по неделям.\n",
    "Загрузите данные о ежедневных конверсиях из файла funnel_daily.csv.\n",
    "Переведите значения столбца date в формат datetime.\n",
    "Добавьте столбец week и посчитайте в нём номера недель для соответствующих дат.\n",
    "Посчитайте недельные CTR и CR, сгруппировав датафрейм по столбцу week.\n",
    "\n",
    "Подсказка:\n",
    "Измените формат значений столбца date методом pd.to_datetime().\n",
    "Номера недель найдите так: funnel_daily['date'].dt.week.\n",
    "Сгруппируйте данные funnel_daily методом groupby() по столбцу 'week', внутри группировки сложите данные столбцов ['impressions', 'clicks', 'registrations'] методом sum().\n",
    "Рассчитайте CTR, разделив значения clicks на значения impressions и умножив на 100. Так же найдите CR: разделите registrations на clicks и умножьте результат на 100."
   ]
  },
  {
   "cell_type": "code",
   "execution_count": null,
   "outputs": [],
   "source": [
    "import pandas as pd\n",
    "\n",
    "funnel_daily = pd.read_csv('funnel_daily.csv')# загрузите данные\n",
    "\n",
    "funnel_daily['date'] = pd.to_datetime(funnel_daily['date'])# переведите значения в формат datetime\n",
    "funnel_daily['week'] = funnel_daily['date'].dt.week# найдите номера недель для каждой даты\n",
    "\n",
    "funnel_weekly = funnel_daily.groupby('week')[['impressions','clicks','registrations']].sum()# выполните группировку, сложив показы, клики и регистрации\n",
    "funnel_weekly['ctr, %'] = funnel_weekly['clicks'] / funnel_weekly['impressions'] * 100# посчитайте ctr\n",
    "funnel_weekly['cr, %'] = funnel_weekly['registrations'] / funnel_weekly['clicks'] * 100# посчитайте cr\n",
    "\n",
    "print(funnel_weekly)"
   ],
   "metadata": {
    "collapsed": false,
    "pycharm": {
     "name": "#%%\n"
    }
   }
  },
  {
   "cell_type": "markdown",
   "source": [
    "# 2.\n",
    "Аналогично решению прошлой задачи составьте дневные, недельные и месячные воронки.\n",
    "Прочитайте данные о расходах на рекламу /datasets/ad_data_2.csv и сохраните в переменной ad_data.\n",
    "Данные о регистрациях: /datasets/site_data_2.csv — в переменной site_data.\n",
    "Методом merge() объедините ad_data и site_data по столбцу 'date'.\n",
    "Сохраните полученный датафрейм с дневными воронками в переменной funnel_daily.\n",
    "В funnel_daily создайте столбцы 'week' и 'month'.\n",
    "В столбцах сохраните порядковые номера недель и месяцев, полученные методами dt.week и dt.month, соответственно.\n",
    "Недельную воронку сохраните в funnel_weekly.\n",
    "Сгруппируйте данные funnel_daily методом groupby() по столбцу 'week'.\n",
    "Данные столбцов ['impressions', 'clicks', 'registrations'] просуммируйте внутри группировки.\n",
    "Постройте месячную воронку аналогично недельной.\n",
    "Сохраните в переменной funnel_monthly\n",
    "В каждой из трёх воронок посчитайте CTR и CR.\n",
    "Выведите на экран месячную воронку.\n",
    "\n",
    "Подсказка\n",
    "Чтобы получить месячную воронку, сгруппируйте данные объединённого датафрейма по столбцу month, сложив значения столбцов ['impressions', 'clicks', 'registrations'] функцией sum()."
   ],
   "metadata": {
    "collapsed": false,
    "pycharm": {
     "name": "#%% md\n"
    }
   }
  },
  {
   "cell_type": "code",
   "execution_count": null,
   "outputs": [],
   "source": [
    "import pandas as pd\n",
    "\n",
    "ad_data = pd.read_csv('ad_data_2.csv')# считайте данные из 'ad_data_2.csv'\n",
    "site_data = pd.read_csv('site_data_2.csv')# считайте данные из 'site_data_2.csv'\n",
    "\n",
    "funnel_daily = pd.merge(ad_data, site_data, on='date') # объединение датафреймов по date\n",
    "funnel_daily['ctr, %'] = funnel_daily['clicks'] / funnel_daily['impressions'] * 100# посчитайте дневной CTR\n",
    "funnel_daily['cr, %'] = funnel_daily['registrations'] / funnel_daily['clicks'] * 100# посчитайте дневной CR\n",
    "\n",
    "funnel_daily['date'] = pd.to_datetime(funnel_daily['date'])\n",
    "funnel_daily['week'] = funnel_daily['date'].dt.week# получите порядковый номер недели из даты\n",
    "funnel_daily['month'] = funnel_daily['date'].dt.month# получите порядковый номер месяца из даты\n",
    "\n",
    "# сгруппируйте данные funnel_daily методом groupby() по столбцу 'week'\n",
    "# данные столбцов ['impressions', 'clicks', 'registrations'] просуммируйте внутри группировки.\n",
    "funnel_weekly = funnel_daily.groupby('week')[['impressions','clicks','registrations']].sum()# выполните группировку и суммирование\n",
    "funnel_weekly['ctr, %'] = funnel_weekly['clicks'] / funnel_weekly['impressions'] * 100# посчитайте недельный CTR\n",
    "funnel_weekly['cr, %'] = funnel_weekly['registrations'] / funnel_weekly['clicks'] * 100# посчитайте недельный CR\n",
    "\n",
    "# сгруппируйте данные funnel_daily методом groupby() по столбцу 'month'\n",
    "# данные столбцов ['impressions', 'clicks', 'registrations'] просуммируйте внутри группировки.\n",
    "funnel_monthly = funnel_daily.groupby('month')[['impressions','clicks','registrations']].sum()# выполните группировку и суммирование\n",
    "funnel_monthly['ctr, %'] = funnel_monthly['clicks'] / funnel_monthly['impressions'] * 100# посчитайте месячный CTR\n",
    "funnel_monthly['cr, %'] = funnel_monthly['registrations'] / funnel_monthly['clicks'] * 100# посчитайте месячный CR\n",
    "print(funnel_monthly)"
   ],
   "metadata": {
    "collapsed": false,
    "pycharm": {
     "name": "#%%\n"
    }
   }
  }
 ],
 "metadata": {
  "kernelspec": {
   "display_name": "Python 3",
   "language": "python",
   "name": "python3"
  },
  "language_info": {
   "codemirror_mode": {
    "name": "ipython",
    "version": 2
   },
   "file_extension": ".py",
   "mimetype": "text/x-python",
   "name": "python",
   "nbconvert_exporter": "python",
   "pygments_lexer": "ipython2",
   "version": "2.7.6"
  }
 },
 "nbformat": 4,
 "nbformat_minor": 0
}