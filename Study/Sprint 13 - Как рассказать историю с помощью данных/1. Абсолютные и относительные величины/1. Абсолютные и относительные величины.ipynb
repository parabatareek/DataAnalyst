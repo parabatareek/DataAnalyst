{
 "cells": [
  {
   "cell_type": "markdown",
   "metadata": {},
   "source": [
    "# 1.\n",
    "В файле /datasets/auto.csv содержатся данные о продажах автомобилей сегмента «Медиум» (средней ценовой категории) через дилера за 4-й квартал. Прочитайте таблицу и сохраните в переменной auto. Посчитайте сумму продаж по каждой марке и запишите результат в столбец 'total'. Выведите таблицу на экран.\n",
    "\n",
    "Подсказка\n",
    "Просуммируйте все столбцы с месяцами и сохраните результат в столбце 'total'."
   ]
  },
  {
   "cell_type": "code",
   "execution_count": 7,
   "metadata": {},
   "outputs": [
    {
     "name": "stdout",
     "output_type": "stream",
     "text": [
      "  auto_name  october  november  december  total\n",
      "0     Skoda     1567      1875      1789   5231\n",
      "1   Hyundai     3580      3056      2984   9620\n",
      "2    Daewoo     3993      2456      2890   9339\n",
      "3    Nissan     2400      2678      2700   7778\n",
      "4   Renault     4589      5094      4789  14472\n",
      "5       Kia     5678      5988      6548  18214\n"
     ]
    }
   ],
   "source": [
    "import pandas as pd\n",
    "\n",
    "auto = pd.read_csv(filepath_or_buffer='datasets/auto.csv')\n",
    "auto['total'] = auto.october + auto.november + auto.december\n",
    "\n",
    "print(auto)"
   ]
  },
  {
   "cell_type": "markdown",
   "metadata": {},
   "source": [
    "# 2.\n",
    "Посчитайте общее число проданных автомобилей в сегменте «Медиум» и выведите на экран.\n",
    "\n",
    "Подсказка\n",
    "Просуммируйте значения столбца auto['total'] методом sum()."
   ]
  },
  {
   "cell_type": "code",
   "execution_count": 8,
   "metadata": {},
   "outputs": [
    {
     "name": "stdout",
     "output_type": "stream",
     "text": [
      "64654\n"
     ]
    }
   ],
   "source": [
    "import pandas as pd\n",
    "\n",
    "auto = pd.read_csv(filepath_or_buffer='datasets/auto.csv')\n",
    "auto['total'] = auto.october + auto.november + auto.december\n",
    "\n",
    "print(auto.total.sum())"
   ]
  },
  {
   "cell_type": "markdown",
   "metadata": {},
   "source": [
    "# 3.\n",
    "Известно, что сегмент «Премиум» продал в этом квартале 53 148 автомобилей, а сегмент «Грузовики и др. виды» — 44 067 автомобилей. Посчитайте общее количество проданных автомобилей в сегментах и сохраните полученное значение в переменной total_segments. Затем определите долю каждого сегмента от общего числа продаж и запишите доли в переменные premium, bus и medium. Постройте столбчатую диаграмму. Подпишите столбцы 'Премиум','Грузовики и др.','Медиум'.\n",
    "\n",
    "Подсказка\n",
    "Постройте график методом bar() библиотеки matplotlib."
   ]
  },
  {
   "cell_type": "code",
   "execution_count": 10,
   "metadata": {},
   "outputs": [
    {
     "data": {
      "text/plain": [
       "<BarContainer object of 3 artists>"
      ]
     },
     "execution_count": 10,
     "metadata": {},
     "output_type": "execute_result"
    },
    {
     "data": {
      "image/png": "[encoded data removed]",
      "text/plain": [
       "<Figure size 432x288 with 1 Axes>"
      ]
     },
     "metadata": {
      "needs_background": "light"
     },
     "output_type": "display_data"
    }
   ],
   "source": [
    "import pandas as pd\n",
    "from matplotlib import pyplot as plt\n",
    "\n",
    "auto = pd.read_csv(filepath_or_buffer='datasets/auto.csv')\n",
    "auto['total'] = auto.october + auto.november + auto.december\n",
    "\n",
    "total_segments = 64654 + 53148 + 44067\n",
    "premium = 53148 / total_segments\n",
    "bus = 44067 / total_segments\n",
    "medium = 64654 / total_segments\n",
    "\n",
    "plt.bar(x=['Премиум', 'Грузовики и др.', 'Медиум'],\n",
    "    height=[premium, bus, medium])"
   ]
  }
 ],
 "metadata": {
  "interpreter": {
   "hash": "7bc5b6b84871807847e5741c03fa97ae7b680ed6e6079a3757be06ce83cbca3f"
  },
  "kernelspec": {
   "display_name": "Python 3.8.0 ('venv3.8')",
   "language": "python",
   "name": "python3"
  },
  "language_info": {
   "codemirror_mode": {
    "name": "ipython",
    "version": 3
   },
   "file_extension": ".py",
   "mimetype": "text/x-python",
   "name": "python",
   "nbconvert_exporter": "python",
   "pygments_lexer": "ipython3",
   "version": "3.8.0"
  },
  "orig_nbformat": 4
 },
 "nbformat": 4,
 "nbformat_minor": 2
}
