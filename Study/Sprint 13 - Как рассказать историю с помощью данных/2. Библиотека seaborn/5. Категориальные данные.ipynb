{
 "cells": [
  {
   "cell_type": "markdown",
   "source": [
    "# 1.\n",
    "Постройте график среднего чека по количеству персон.\n",
    "\n",
    "Подсказка\n",
    "Передайте методу barplot() количество гостей (\"persons\") по оси X, средний чек ('restaurant_bill') по оси Y. Аргументу data передайте переменную, где сохранены нужные для построения графика данные."
   ],
   "metadata": {
    "collapsed": false,
    "pycharm": {
     "name": "#%% md\n"
    }
   }
  },
  {
   "cell_type": "code",
   "execution_count": 3,
   "outputs": [
    {
     "data": {
      "text/plain": "<AxesSubplot:xlabel='persons', ylabel='restaurant_bill'>"
     },
     "execution_count": 3,
     "metadata": {},
     "output_type": "execute_result"
    },
    {
     "data": {
      "text/plain": "<Figure size 432x288 with 1 Axes>",
      "image/png": "[encoded data removed]"
     },
     "metadata": {
      "needs_background": "light"
     },
     "output_type": "display_data"
    }
   ],
   "source": [
    "import seaborn as sns\n",
    "import pandas as pd\n",
    "\n",
    "rest_data = pd.read_csv('datasets/restaurant_data.csv')\n",
    "rest_data['bill_datetime'] = pd.to_datetime(rest_data['bill_datetime'])\n",
    "\n",
    "sns.barplot(data=rest_data,\n",
    "            x='persons',\n",
    "            y='restaurant_bill')"
   ],
   "metadata": {
    "collapsed": false,
    "pycharm": {
     "name": "#%%\n"
    }
   }
  },
  {
   "cell_type": "markdown",
   "source": [
    "# 2.\n",
    "Добавьте столбец 'tips_percent' и рассчитайте отношение количества чаевых к сумме счёта. Постройте boxplot по количеству посетителей и определите, кто оставляет больше чаевых\n",
    "\n",
    "Подсказка\n",
    "Постройте график зависимости процента чаевых y='tips_percent' от количества гостей x='persons' методом boxplot()."
   ],
   "metadata": {
    "collapsed": false,
    "pycharm": {
     "name": "#%% md\n"
    }
   }
  },
  {
   "cell_type": "code",
   "execution_count": 5,
   "outputs": [
    {
     "data": {
      "text/plain": "<AxesSubplot:xlabel='persons', ylabel='tips_percent'>"
     },
     "execution_count": 5,
     "metadata": {},
     "output_type": "execute_result"
    },
    {
     "data": {
      "text/plain": "<Figure size 432x288 with 1 Axes>",
      "image/png": "[encoded data removed]"
     },
     "metadata": {
      "needs_background": "light"
     },
     "output_type": "display_data"
    }
   ],
   "source": [
    "import seaborn as sns\n",
    "import pandas as pd\n",
    "\n",
    "rest_data = pd.read_csv('datasets/restaurant_data.csv')\n",
    "rest_data['bill_datetime'] = pd.to_datetime(rest_data['bill_datetime'])\n",
    "rest_data['tips_percent'] = rest_data['tips'] / rest_data['restaurant_bill']\n",
    "\n",
    "sns.boxplot(data=rest_data,\n",
    "              x='persons',\n",
    "              y='tips_percent')"
   ],
   "metadata": {
    "collapsed": false,
    "pycharm": {
     "name": "#%%\n"
    }
   }
  }
 ],
 "metadata": {
  "kernelspec": {
   "display_name": "Python 3",
   "language": "python",
   "name": "python3"
  },
  "language_info": {
   "codemirror_mode": {
    "name": "ipython",
    "version": 2
   },
   "file_extension": ".py",
   "mimetype": "text/x-python",
   "name": "python",
   "nbconvert_exporter": "python",
   "pygments_lexer": "ipython2",
   "version": "2.7.6"
  }
 },
 "nbformat": 4,
 "nbformat_minor": 0
}