{
 "cells": [
  {
   "cell_type": "markdown",
   "metadata": {
    "collapsed": true,
    "pycharm": {
     "name": "#%% md\n"
    }
   },
   "source": [
    "# 1.\n",
    "Откройте Jupyter Notebook на своём компьютере. Импортируйте plotly, подключите встроенный набор данных data.election и ответьте на вопросы теста.\n",
    "Чтобы plotly была доступна в Jupyter Notebook, напишите в ячейке !pip install plotly и запустите. После этого можно работать с кодом.\n",
    "Постройте гистограмму для кандидата Joly. Какой регион отдал больше всего голосов за этого кандидата?\n",
    "Постройте гистограмму для кандидата Joly с разделением по типу победы. Какие регионы отдали больше всего голосов в каждом типе?"
   ]
  },
  {
   "cell_type": "code",
   "execution_count": 5,
   "outputs": [
    {
     "data": {
      "application/vnd.plotly.v1+json": {
       "data": [
        {
         "alignmentgroup": "True",
         "bingroup": "x",
         "histfunc": "sum",
         "hovertemplate": "result=plurality<br>value=%{x}<br>sum of Joly=%{y}<extra></extra>",
         "legendgroup": "plurality",
         "marker": {
          "color": "#636efa",
          "pattern": {
           "shape": ""
          }
         },
         "name": "plurality",
         "offsetgroup": "plurality",
         "orientation": "v",
         "showlegend": true,
         "x": [
          "101-Bois-de-Liesse",
          "102-Cap-Saint-Jacques",
          "11-Sault-au-Récollet",
          "113-Jeanne-Mance",
          "12-Saint-Sulpice",
          "13-Ahuntsic",
          "133-Vieux-Rosemont",
          "134-Marie-Victorin",
          "14-Bordeaux-Cartierville",
          "141-Côte-de-Liesse",
          "142-Norman-McLaren",
          "161-Saint-HenriPetite-BourgognePointe-Saint-Charles",
          "162-Saint-PaulÉmard",
          "171-ChamplainL'Île-des-Soeurs",
          "172-Desmarchais-Crawford",
          "181-Peter-McGill",
          "182-Saint-Jacques",
          "183-Sainte-Marie",
          "192-François-Perrault",
          "194-Parc-Extension",
          "22-Est",
          "31-Darlington",
          "32-Côte-des-Neiges",
          "33-Snowdon",
          "34-Notre-Dame-de-Grâce",
          "35-Loyola",
          "41-du Canal",
          "42-J.-Émery-Provost",
          "43-Fort-Rolland",
          "51-Sault-Saint-Louis",
          "52-Cecil-P.-Newman",
          "63-Jacques-Bizard",
          "64-Sainte-Geneviève",
          "71-Tétreaultville",
          "72-MaisonneuveLongue-Pointe",
          "73-Hochelaga",
          "74-Louis-Riel",
          "91-Claude-Ryan",
          "92-Joseph-Beaubien",
          "93-Robert-Bourassa",
          "94-Jeanne-Sauvé"
         ],
         "xaxis": "x",
         "y": [
          3024,
          2675,
          2532,
          2316,
          2543,
          2873,
          3234,
          2431,
          2081,
          3959,
          2822,
          3578,
          2438,
          3291,
          2849,
          1894,
          2282,
          2271,
          2039,
          1402,
          1172,
          1232,
          1578,
          1636,
          3262,
          2648,
          1266,
          1157,
          1908,
          3717,
          2943,
          690,
          326,
          3454,
          3139,
          2675,
          2338,
          423,
          592,
          419,
          489
         ],
         "yaxis": "y",
         "type": "histogram"
        },
        {
         "alignmentgroup": "True",
         "bingroup": "x",
         "histfunc": "sum",
         "hovertemplate": "result=majority<br>value=%{x}<br>sum of Joly=%{y}<extra></extra>",
         "legendgroup": "majority",
         "marker": {
          "color": "#EF553B",
          "pattern": {
           "shape": ""
          }
         },
         "name": "majority",
         "offsetgroup": "majority",
         "orientation": "v",
         "showlegend": true,
         "x": [
          "111-Mile-End",
          "112-DeLorimier",
          "121-La Pointe-aux-Prairies",
          "122-Pointe-aux-Trembles",
          "123-Rivière-des-Prairies",
          "131-Saint-Édouard",
          "132-Étienne-Desmarteau",
          "151-Saint-Léonard-Est",
          "152-Saint-Léonard-Ouest",
          "191-Saint-Michel",
          "193-Villeray",
          "21-Ouest",
          "23-Centre",
          "61-Pierre-Foretier",
          "62-Denis-Benjamin-Viger",
          "81-Marie-Clarac",
          "82-Ovide-Clermont"
         ],
         "xaxis": "x",
         "y": [
          2514,
          3044,
          3330,
          2852,
          1656,
          2815,
          2788,
          1641,
          1908,
          1220,
          2782,
          1076,
          1286,
          998,
          1068,
          1435,
          1051
         ],
         "yaxis": "y",
         "type": "histogram"
        }
       ],
       "layout": {
        "template": {
         "data": {
          "bar": [
           {
            "error_x": {
             "color": "#2a3f5f"
            },
            "error_y": {
             "color": "#2a3f5f"
            },
            "marker": {
             "line": {
              "color": "#E5ECF6",
              "width": 0.5
             },
             "pattern": {
              "fillmode": "overlay",
              "size": 10,
              "solidity": 0.2
             }
            },
            "type": "bar"
           }
          ],
          "barpolar": [
           {
            "marker": {
             "line": {
              "color": "#E5ECF6",
              "width": 0.5
             },
             "pattern": {
              "fillmode": "overlay",
              "size": 10,
              "solidity": 0.2
             }
            },
            "type": "barpolar"
           }
          ],
          "carpet": [
           {
            "aaxis": {
             "endlinecolor": "#2a3f5f",
             "gridcolor": "white",
             "linecolor": "white",
             "minorgridcolor": "white",
             "startlinecolor": "#2a3f5f"
            },
            "baxis": {
             "endlinecolor": "#2a3f5f",
             "gridcolor": "white",
             "linecolor": "white",
             "minorgridcolor": "white",
             "startlinecolor": "#2a3f5f"
            },
            "type": "carpet"
           }
          ],
          "choropleth": [
           {
            "colorbar": {
             "outlinewidth": 0,
             "ticks": ""
            },
            "type": "choropleth"
           }
          ],
          "contour": [
           {
            "colorbar": {
             "outlinewidth": 0,
             "ticks": ""
            },
            "colorscale": [
             [
              0.0,
              "#0d0887"
             ],
             [
              0.1111111111111111,
              "#46039f"
             ],
             [
              0.2222222222222222,
              "#7201a8"
             ],
             [
              0.3333333333333333,
              "#9c179e"
             ],
             [
              0.4444444444444444,
              "#bd3786"
             ],
             [
              0.5555555555555556,
              "#d8576b"
             ],
             [
              0.6666666666666666,
              "#ed7953"
             ],
             [
              0.7777777777777778,
              "#fb9f3a"
             ],
             [
              0.8888888888888888,
              "#fdca26"
             ],
             [
              1.0,
              "#f0f921"
             ]
            ],
            "type": "contour"
           }
          ],
          "contourcarpet": [
           {
            "colorbar": {
             "outlinewidth": 0,
             "ticks": ""
            },
            "type": "contourcarpet"
           }
          ],
          "heatmap": [
           {
            "colorbar": {
             "outlinewidth": 0,
             "ticks": ""
            },
            "colorscale": [
             [
              0.0,
              "#0d0887"
             ],
             [
              0.1111111111111111,
              "#46039f"
             ],
             [
              0.2222222222222222,
              "#7201a8"
             ],
             [
              0.3333333333333333,
              "#9c179e"
             ],
             [
              0.4444444444444444,
              "#bd3786"
             ],
             [
              0.5555555555555556,
              "#d8576b"
             ],
             [
              0.6666666666666666,
              "#ed7953"
             ],
             [
              0.7777777777777778,
              "#fb9f3a"
             ],
             [
              0.8888888888888888,
              "#fdca26"
             ],
             [
              1.0,
              "#f0f921"
             ]
            ],
            "type": "heatmap"
           }
          ],
          "heatmapgl": [
           {
            "colorbar": {
             "outlinewidth": 0,
             "ticks": ""
            },
            "colorscale": [
             [
              0.0,
              "#0d0887"
             ],
             [
              0.1111111111111111,
              "#46039f"
             ],
             [
              0.2222222222222222,
              "#7201a8"
             ],
             [
              0.3333333333333333,
              "#9c179e"
             ],
             [
              0.4444444444444444,
              "#bd3786"
             ],
             [
              0.5555555555555556,
              "#d8576b"
             ],
             [
              0.6666666666666666,
              "#ed7953"
             ],
             [
              0.7777777777777778,
              "#fb9f3a"
             ],
             [
              0.8888888888888888,
              "#fdca26"
             ],
             [
              1.0,
              "#f0f921"
             ]
            ],
            "type": "heatmapgl"
           }
          ],
          "histogram": [
           {
            "marker": {
             "pattern": {
              "fillmode": "overlay",
              "size": 10,
              "solidity": 0.2
             }
            },
            "type": "histogram"
           }
          ],
          "histogram2d": [
           {
            "colorbar": {
             "outlinewidth": 0,
             "ticks": ""
            },
            "colorscale": [
             [
              0.0,
              "#0d0887"
             ],
             [
              0.1111111111111111,
              "#46039f"
             ],
             [
              0.2222222222222222,
              "#7201a8"
             ],
             [
              0.3333333333333333,
              "#9c179e"
             ],
             [
              0.4444444444444444,
              "#bd3786"
             ],
             [
              0.5555555555555556,
              "#d8576b"
             ],
             [
              0.6666666666666666,
              "#ed7953"
             ],
             [
              0.7777777777777778,
              "#fb9f3a"
             ],
             [
              0.8888888888888888,
              "#fdca26"
             ],
             [
              1.0,
              "#f0f921"
             ]
            ],
            "type": "histogram2d"
           }
          ],
          "histogram2dcontour": [
           {
            "colorbar": {
             "outlinewidth": 0,
             "ticks": ""
            },
            "colorscale": [
             [
              0.0,
              "#0d0887"
             ],
             [
              0.1111111111111111,
              "#46039f"
             ],
             [
              0.2222222222222222,
              "#7201a8"
             ],
             [
              0.3333333333333333,
              "#9c179e"
             ],
             [
              0.4444444444444444,
              "#bd3786"
             ],
             [
              0.5555555555555556,
              "#d8576b"
             ],
             [
              0.6666666666666666,
              "#ed7953"
             ],
             [
              0.7777777777777778,
              "#fb9f3a"
             ],
             [
              0.8888888888888888,
              "#fdca26"
             ],
             [
              1.0,
              "#f0f921"
             ]
            ],
            "type": "histogram2dcontour"
           }
          ],
          "mesh3d": [
           {
            "colorbar": {
             "outlinewidth": 0,
             "ticks": ""
            },
            "type": "mesh3d"
           }
          ],
          "parcoords": [
           {
            "line": {
             "colorbar": {
              "outlinewidth": 0,
              "ticks": ""
             }
            },
            "type": "parcoords"
           }
          ],
          "pie": [
           {
            "automargin": true,
            "type": "pie"
           }
          ],
          "scatter": [
           {
            "marker": {
             "colorbar": {
              "outlinewidth": 0,
              "ticks": ""
             }
            },
            "type": "scatter"
           }
          ],
          "scatter3d": [
           {
            "line": {
             "colorbar": {
              "outlinewidth": 0,
              "ticks": ""
             }
            },
            "marker": {
             "colorbar": {
              "outlinewidth": 0,
              "ticks": ""
             }
            },
            "type": "scatter3d"
           }
          ],
          "scattercarpet": [
           {
            "marker": {
             "colorbar": {
              "outlinewidth": 0,
              "ticks": ""
             }
            },
            "type": "scattercarpet"
           }
          ],
          "scattergeo": [
           {
            "marker": {
             "colorbar": {
              "outlinewidth": 0,
              "ticks": ""
             }
            },
            "type": "scattergeo"
           }
          ],
          "scattergl": [
           {
            "marker": {
             "colorbar": {
              "outlinewidth": 0,
              "ticks": ""
             }
            },
            "type": "scattergl"
           }
          ],
          "scattermapbox": [
           {
            "marker": {
             "colorbar": {
              "outlinewidth": 0,
              "ticks": ""
             }
            },
            "type": "scattermapbox"
           }
          ],
          "scatterpolar": [
           {
            "marker": {
             "colorbar": {
              "outlinewidth": 0,
              "ticks": ""
             }
            },
            "type": "scatterpolar"
           }
          ],
          "scatterpolargl": [
           {
            "marker": {
             "colorbar": {
              "outlinewidth": 0,
              "ticks": ""
             }
            },
            "type": "scatterpolargl"
           }
          ],
          "scatterternary": [
           {
            "marker": {
             "colorbar": {
              "outlinewidth": 0,
              "ticks": ""
             }
            },
            "type": "scatterternary"
           }
          ],
          "surface": [
           {
            "colorbar": {
             "outlinewidth": 0,
             "ticks": ""
            },
            "colorscale": [
             [
              0.0,
              "#0d0887"
             ],
             [
              0.1111111111111111,
              "#46039f"
             ],
             [
              0.2222222222222222,
              "#7201a8"
             ],
             [
              0.3333333333333333,
              "#9c179e"
             ],
             [
              0.4444444444444444,
              "#bd3786"
             ],
             [
              0.5555555555555556,
              "#d8576b"
             ],
             [
              0.6666666666666666,
              "#ed7953"
             ],
             [
              0.7777777777777778,
              "#fb9f3a"
             ],
             [
              0.8888888888888888,
              "#fdca26"
             ],
             [
              1.0,
              "#f0f921"
             ]
            ],
            "type": "surface"
           }
          ],
          "table": [
           {
            "cells": {
             "fill": {
              "color": "#EBF0F8"
             },
             "line": {
              "color": "white"
             }
            },
            "header": {
             "fill": {
              "color": "#C8D4E3"
             },
             "line": {
              "color": "white"
             }
            },
            "type": "table"
           }
          ]
         },
         "layout": {
          "annotationdefaults": {
           "arrowcolor": "#2a3f5f",
           "arrowhead": 0,
           "arrowwidth": 1
          },
          "autotypenumbers": "strict",
          "coloraxis": {
           "colorbar": {
            "outlinewidth": 0,
            "ticks": ""
           }
          },
          "colorscale": {
           "diverging": [
            [
             0,
             "#8e0152"
            ],
            [
             0.1,
             "#c51b7d"
            ],
            [
             0.2,
             "#de77ae"
            ],
            [
             0.3,
             "#f1b6da"
            ],
            [
             0.4,
             "#fde0ef"
            ],
            [
             0.5,
             "#f7f7f7"
            ],
            [
             0.6,
             "#e6f5d0"
            ],
            [
             0.7,
             "#b8e186"
            ],
            [
             0.8,
             "#7fbc41"
            ],
            [
             0.9,
             "#4d9221"
            ],
            [
             1,
             "#276419"
            ]
           ],
           "sequential": [
            [
             0.0,
             "#0d0887"
            ],
            [
             0.1111111111111111,
             "#46039f"
            ],
            [
             0.2222222222222222,
             "#7201a8"
            ],
            [
             0.3333333333333333,
             "#9c179e"
            ],
            [
             0.4444444444444444,
             "#bd3786"
            ],
            [
             0.5555555555555556,
             "#d8576b"
            ],
            [
             0.6666666666666666,
             "#ed7953"
            ],
            [
             0.7777777777777778,
             "#fb9f3a"
            ],
            [
             0.8888888888888888,
             "#fdca26"
            ],
            [
             1.0,
             "#f0f921"
            ]
           ],
           "sequentialminus": [
            [
             0.0,
             "#0d0887"
            ],
            [
             0.1111111111111111,
             "#46039f"
            ],
            [
             0.2222222222222222,
             "#7201a8"
            ],
            [
             0.3333333333333333,
             "#9c179e"
            ],
            [
             0.4444444444444444,
             "#bd3786"
            ],
            [
             0.5555555555555556,
             "#d8576b"
            ],
            [
             0.6666666666666666,
             "#ed7953"
            ],
            [
             0.7777777777777778,
             "#fb9f3a"
            ],
            [
             0.8888888888888888,
             "#fdca26"
            ],
            [
             1.0,
             "#f0f921"
            ]
           ]
          },
          "colorway": [
           "#636efa",
           "#EF553B",
           "#00cc96",
           "#ab63fa",
           "#FFA15A",
           "#19d3f3",
           "#FF6692",
           "#B6E880",
           "#FF97FF",
           "#FECB52"
          ],
          "font": {
           "color": "#2a3f5f"
          },
          "geo": {
           "bgcolor": "white",
           "lakecolor": "white",
           "landcolor": "#E5ECF6",
           "showlakes": true,
           "showland": true,
           "subunitcolor": "white"
          },
          "hoverlabel": {
           "align": "left"
          },
          "hovermode": "closest",
          "mapbox": {
           "style": "light"
          },
          "paper_bgcolor": "white",
          "plot_bgcolor": "#E5ECF6",
          "polar": {
           "angularaxis": {
            "gridcolor": "white",
            "linecolor": "white",
            "ticks": ""
           },
           "bgcolor": "#E5ECF6",
           "radialaxis": {
            "gridcolor": "white",
            "linecolor": "white",
            "ticks": ""
           }
          },
          "scene": {
           "xaxis": {
            "backgroundcolor": "#E5ECF6",
            "gridcolor": "white",
            "gridwidth": 2,
            "linecolor": "white",
            "showbackground": true,
            "ticks": "",
            "zerolinecolor": "white"
           },
           "yaxis": {
            "backgroundcolor": "#E5ECF6",
            "gridcolor": "white",
            "gridwidth": 2,
            "linecolor": "white",
            "showbackground": true,
            "ticks": "",
            "zerolinecolor": "white"
           },
           "zaxis": {
            "backgroundcolor": "#E5ECF6",
            "gridcolor": "white",
            "gridwidth": 2,
            "linecolor": "white",
            "showbackground": true,
            "ticks": "",
            "zerolinecolor": "white"
           }
          },
          "shapedefaults": {
           "line": {
            "color": "#2a3f5f"
           }
          },
          "ternary": {
           "aaxis": {
            "gridcolor": "white",
            "linecolor": "white",
            "ticks": ""
           },
           "baxis": {
            "gridcolor": "white",
            "linecolor": "white",
            "ticks": ""
           },
           "bgcolor": "#E5ECF6",
           "caxis": {
            "gridcolor": "white",
            "linecolor": "white",
            "ticks": ""
           }
          },
          "title": {
           "x": 0.05
          },
          "xaxis": {
           "automargin": true,
           "gridcolor": "white",
           "linecolor": "white",
           "ticks": "",
           "title": {
            "standoff": 15
           },
           "zerolinecolor": "white",
           "zerolinewidth": 2
          },
          "yaxis": {
           "automargin": true,
           "gridcolor": "white",
           "linecolor": "white",
           "ticks": "",
           "title": {
            "standoff": 15
           },
           "zerolinecolor": "white",
           "zerolinewidth": 2
          }
         }
        },
        "xaxis": {
         "anchor": "y",
         "domain": [
          0.0,
          1.0
         ],
         "title": {
          "text": "value"
         }
        },
        "yaxis": {
         "anchor": "x",
         "domain": [
          0.0,
          1.0
         ],
         "title": {
          "text": "sum of Joly"
         }
        },
        "legend": {
         "title": {
          "text": "result"
         },
         "tracegroupgap": 0
        },
        "margin": {
         "t": 60
        },
        "barmode": "relative"
       },
       "config": {
        "plotlyServerURL": "https://plot.ly"
       }
      }
     },
     "metadata": {},
     "output_type": "display_data"
    }
   ],
   "source": [
    "import plotly_express as px\n",
    "data = px.data.election()\n",
    "px.histogram(data_frame=data,\n",
    "             x=['district'],\n",
    "             y='Joly',\n",
    "             color='result')"
   ],
   "metadata": {
    "collapsed": false,
    "pycharm": {
     "name": "#%%\n"
    }
   }
  },
  {
   "cell_type": "code",
   "execution_count": 3,
   "outputs": [
    {
     "data": {
      "text/plain": "                                             district  Coderre  Bergeron  \\\n0                                  101-Bois-de-Liesse     2481      1829   \n1                               102-Cap-Saint-Jacques     2525      1163   \n2                                11-Sault-au-Récollet     3348      2770   \n3                                        111-Mile-End     1734      4782   \n4                                      112-DeLorimier     1770      5933   \n5                                    113-Jeanne-Mance     1455      3599   \n6                                    12-Saint-Sulpice     3252      2521   \n7                          121-La Pointe-aux-Prairies     5456      1760   \n8                             122-Pointe-aux-Trembles     4734      1879   \n9                            123-Rivière-des-Prairies     5737       958   \n10                                        13-Ahuntsic     2979      3430   \n11                                  131-Saint-Édouard     1827      6408   \n12                             132-Étienne-Desmarteau     2331      5748   \n13                                 133-Vieux-Rosemont     2670      4962   \n14                                 134-Marie-Victorin     3673      3155   \n15                           14-Bordeaux-Cartierville     3612      1554   \n16                                 141-Côte-de-Liesse     4308      1320   \n17                                 142-Norman-McLaren     4104      1459   \n18                              151-Saint-Léonard-Est     3931       882   \n19                            152-Saint-Léonard-Ouest     5387      1184   \n20  161-Saint-HenriPetite-BourgognePointe-Saint-Ch...     2432      3368   \n21                                162-Saint-PaulÉmard     2566      2092   \n22                      171-ChamplainL'Île-des-Soeurs     3347      2562   \n23                           172-Desmarchais-Crawford     2476      2631   \n24                                   181-Peter-McGill     1451       754   \n25                                  182-Saint-Jacques     1906      2169   \n26                                   183-Sainte-Marie     1347      2827   \n27                                   191-Saint-Michel     3668       984   \n28                              192-François-Perrault     2878      2666   \n29                                       193-Villeray     2201      5819   \n30                                 194-Parc-Extension     2420      1793   \n31                                           21-Ouest     2184       691   \n32                                             22-Est     1589       708   \n33                                          23-Centre     2526       851   \n34                                      31-Darlington     1873      1182   \n35                                 32-Côte-des-Neiges     1644      1950   \n36                                         33-Snowdon     1548      1503   \n37                             34-Notre-Dame-de-Grâce     1773      2653   \n38                                          35-Loyola     2040      1437   \n39                                        41-du Canal     1165       832   \n40                                42-J.-Émery-Provost     1193       653   \n41                                    43-Fort-Rolland     1325      1205   \n42                               51-Sault-Saint-Louis     4201      1642   \n43                                 52-Cecil-P.-Newman     3536      1330   \n44                                 61-Pierre-Foretier      631       258   \n45                            62-Denis-Benjamin-Viger      595       226   \n46                                  63-Jacques-Bizard      518       224   \n47                                64-Sainte-Geneviève      332       131   \n48                                  71-Tétreaultville     3694      2589   \n49                        72-MaisonneuveLongue-Pointe     2746      3250   \n50                                       73-Hochelaga     1546      3679   \n51                                      74-Louis-Riel     3509      2178   \n52                                    81-Marie-Clarac     6591      1085   \n53                                  82-Ovide-Clermont     6229       780   \n54                                     91-Claude-Ryan      996       643   \n55                                 92-Joseph-Beaubien      540       833   \n56                                 93-Robert-Bourassa      446       465   \n57                                    94-Jeanne-Sauvé      491       698   \n\n    Joly  total    winner     result  district_id  \n0   3024   7334      Joly  plurality          101  \n1   2675   6363      Joly  plurality          102  \n2   2532   8650   Coderre  plurality           11  \n3   2514   9030  Bergeron   majority          111  \n4   3044  10747  Bergeron   majority          112  \n5   2316   7370  Bergeron  plurality          113  \n6   2543   8316   Coderre  plurality           12  \n7   3330  10546   Coderre   majority          121  \n8   2852   9465   Coderre   majority          122  \n9   1656   8351   Coderre   majority          123  \n10  2873   9282  Bergeron  plurality           13  \n11  2815  11050  Bergeron   majority          131  \n12  2788  10867  Bergeron   majority          132  \n13  3234  10866  Bergeron  plurality          133  \n14  2431   9259   Coderre  plurality          134  \n15  2081   7247   Coderre  plurality           14  \n16  3959   9587   Coderre  plurality          141  \n17  2822   8385   Coderre  plurality          142  \n18  1641   6454   Coderre   majority          151  \n19  1908   8479   Coderre   majority          152  \n20  3578   9378      Joly  plurality          161  \n21  2438   7096   Coderre  plurality          162  \n22  3291   9200   Coderre  plurality          171  \n23  2849   7956      Joly  plurality          172  \n24  1894   4099      Joly  plurality          181  \n25  2282   6357      Joly  plurality          182  \n26  2271   6445  Bergeron  plurality          183  \n27  1220   5872   Coderre   majority          191  \n28  2039   7583   Coderre  plurality          192  \n29  2782  10802  Bergeron   majority          193  \n30  1402   5615   Coderre  plurality          194  \n31  1076   3951   Coderre   majority           21  \n32  1172   3469   Coderre  plurality           22  \n33  1286   4663   Coderre   majority           23  \n34  1232   4287   Coderre  plurality           31  \n35  1578   5172  Bergeron  plurality           32  \n36  1636   4687      Joly  plurality           33  \n37  3262   7688      Joly  plurality           34  \n38  2648   6125      Joly  plurality           35  \n39  1266   3263      Joly  plurality           41  \n40  1157   3003   Coderre  plurality           42  \n41  1908   4438      Joly  plurality           43  \n42  3717   9560   Coderre  plurality           51  \n43  2943   7809   Coderre  plurality           52  \n44   998   1887      Joly   majority           61  \n45  1068   1889      Joly   majority           62  \n46   690   1432      Joly  plurality           63  \n47   326    789   Coderre  plurality           64  \n48  3454   9737   Coderre  plurality           71  \n49  3139   9135  Bergeron  plurality           72  \n50  2675   7900  Bergeron  plurality           73  \n51  2338   8025   Coderre  plurality           74  \n52  1435   9111   Coderre   majority           81  \n53  1051   8060   Coderre   majority           82  \n54   423   2062   Coderre  plurality           91  \n55   592   1965  Bergeron  plurality           92  \n56   419   1330  Bergeron  plurality           93  \n57   489   1678  Bergeron  plurality           94  ",
      "text/html": "<div>\n<style scoped>\n    .dataframe tbody tr th:only-of-type {\n        vertical-align: middle;\n    }\n\n    .dataframe tbody tr th {\n        vertical-align: top;\n    }\n\n    .dataframe thead th {\n        text-align: right;\n    }\n</style>\n<table border=\"1\" class=\"dataframe\">\n  <thead>\n    <tr style=\"text-align: right;\">\n      <th></th>\n      <th>district</th>\n      <th>Coderre</th>\n      <th>Bergeron</th>\n      <th>Joly</th>\n      <th>total</th>\n      <th>winner</th>\n      <th>result</th>\n      <th>district_id</th>\n    </tr>\n  </thead>\n  <tbody>\n    <tr>\n      <th>0</th>\n      <td>101-Bois-de-Liesse</td>\n      <td>2481</td>\n      <td>1829</td>\n      <td>3024</td>\n      <td>7334</td>\n      <td>Joly</td>\n      <td>plurality</td>\n      <td>101</td>\n    </tr>\n    <tr>\n      <th>1</th>\n      <td>102-Cap-Saint-Jacques</td>\n      <td>2525</td>\n      <td>1163</td>\n      <td>2675</td>\n      <td>6363</td>\n      <td>Joly</td>\n      <td>plurality</td>\n      <td>102</td>\n    </tr>\n    <tr>\n      <th>2</th>\n      <td>11-Sault-au-Récollet</td>\n      <td>3348</td>\n      <td>2770</td>\n      <td>2532</td>\n      <td>8650</td>\n      <td>Coderre</td>\n      <td>plurality</td>\n      <td>11</td>\n    </tr>\n    <tr>\n      <th>3</th>\n      <td>111-Mile-End</td>\n      <td>1734</td>\n      <td>4782</td>\n      <td>2514</td>\n      <td>9030</td>\n      <td>Bergeron</td>\n      <td>majority</td>\n      <td>111</td>\n    </tr>\n    <tr>\n      <th>4</th>\n      <td>112-DeLorimier</td>\n      <td>1770</td>\n      <td>5933</td>\n      <td>3044</td>\n      <td>10747</td>\n      <td>Bergeron</td>\n      <td>majority</td>\n      <td>112</td>\n    </tr>\n    <tr>\n      <th>5</th>\n      <td>113-Jeanne-Mance</td>\n      <td>1455</td>\n      <td>3599</td>\n      <td>2316</td>\n      <td>7370</td>\n      <td>Bergeron</td>\n      <td>plurality</td>\n      <td>113</td>\n    </tr>\n    <tr>\n      <th>6</th>\n      <td>12-Saint-Sulpice</td>\n      <td>3252</td>\n      <td>2521</td>\n      <td>2543</td>\n      <td>8316</td>\n      <td>Coderre</td>\n      <td>plurality</td>\n      <td>12</td>\n    </tr>\n    <tr>\n      <th>7</th>\n      <td>121-La Pointe-aux-Prairies</td>\n      <td>5456</td>\n      <td>1760</td>\n      <td>3330</td>\n      <td>10546</td>\n      <td>Coderre</td>\n      <td>majority</td>\n      <td>121</td>\n    </tr>\n    <tr>\n      <th>8</th>\n      <td>122-Pointe-aux-Trembles</td>\n      <td>4734</td>\n      <td>1879</td>\n      <td>2852</td>\n      <td>9465</td>\n      <td>Coderre</td>\n      <td>majority</td>\n      <td>122</td>\n    </tr>\n    <tr>\n      <th>9</th>\n      <td>123-Rivière-des-Prairies</td>\n      <td>5737</td>\n      <td>958</td>\n      <td>1656</td>\n      <td>8351</td>\n      <td>Coderre</td>\n      <td>majority</td>\n      <td>123</td>\n    </tr>\n    <tr>\n      <th>10</th>\n      <td>13-Ahuntsic</td>\n      <td>2979</td>\n      <td>3430</td>\n      <td>2873</td>\n      <td>9282</td>\n      <td>Bergeron</td>\n      <td>plurality</td>\n      <td>13</td>\n    </tr>\n    <tr>\n      <th>11</th>\n      <td>131-Saint-Édouard</td>\n      <td>1827</td>\n      <td>6408</td>\n      <td>2815</td>\n      <td>11050</td>\n      <td>Bergeron</td>\n      <td>majority</td>\n      <td>131</td>\n    </tr>\n    <tr>\n      <th>12</th>\n      <td>132-Étienne-Desmarteau</td>\n      <td>2331</td>\n      <td>5748</td>\n      <td>2788</td>\n      <td>10867</td>\n      <td>Bergeron</td>\n      <td>majority</td>\n      <td>132</td>\n    </tr>\n    <tr>\n      <th>13</th>\n      <td>133-Vieux-Rosemont</td>\n      <td>2670</td>\n      <td>4962</td>\n      <td>3234</td>\n      <td>10866</td>\n      <td>Bergeron</td>\n      <td>plurality</td>\n      <td>133</td>\n    </tr>\n    <tr>\n      <th>14</th>\n      <td>134-Marie-Victorin</td>\n      <td>3673</td>\n      <td>3155</td>\n      <td>2431</td>\n      <td>9259</td>\n      <td>Coderre</td>\n      <td>plurality</td>\n      <td>134</td>\n    </tr>\n    <tr>\n      <th>15</th>\n      <td>14-Bordeaux-Cartierville</td>\n      <td>3612</td>\n      <td>1554</td>\n      <td>2081</td>\n      <td>7247</td>\n      <td>Coderre</td>\n      <td>plurality</td>\n      <td>14</td>\n    </tr>\n    <tr>\n      <th>16</th>\n      <td>141-Côte-de-Liesse</td>\n      <td>4308</td>\n      <td>1320</td>\n      <td>3959</td>\n      <td>9587</td>\n      <td>Coderre</td>\n      <td>plurality</td>\n      <td>141</td>\n    </tr>\n    <tr>\n      <th>17</th>\n      <td>142-Norman-McLaren</td>\n      <td>4104</td>\n      <td>1459</td>\n      <td>2822</td>\n      <td>8385</td>\n      <td>Coderre</td>\n      <td>plurality</td>\n      <td>142</td>\n    </tr>\n    <tr>\n      <th>18</th>\n      <td>151-Saint-Léonard-Est</td>\n      <td>3931</td>\n      <td>882</td>\n      <td>1641</td>\n      <td>6454</td>\n      <td>Coderre</td>\n      <td>majority</td>\n      <td>151</td>\n    </tr>\n    <tr>\n      <th>19</th>\n      <td>152-Saint-Léonard-Ouest</td>\n      <td>5387</td>\n      <td>1184</td>\n      <td>1908</td>\n      <td>8479</td>\n      <td>Coderre</td>\n      <td>majority</td>\n      <td>152</td>\n    </tr>\n    <tr>\n      <th>20</th>\n      <td>161-Saint-HenriPetite-BourgognePointe-Saint-Ch...</td>\n      <td>2432</td>\n      <td>3368</td>\n      <td>3578</td>\n      <td>9378</td>\n      <td>Joly</td>\n      <td>plurality</td>\n      <td>161</td>\n    </tr>\n    <tr>\n      <th>21</th>\n      <td>162-Saint-PaulÉmard</td>\n      <td>2566</td>\n      <td>2092</td>\n      <td>2438</td>\n      <td>7096</td>\n      <td>Coderre</td>\n      <td>plurality</td>\n      <td>162</td>\n    </tr>\n    <tr>\n      <th>22</th>\n      <td>171-ChamplainL'Île-des-Soeurs</td>\n      <td>3347</td>\n      <td>2562</td>\n      <td>3291</td>\n      <td>9200</td>\n      <td>Coderre</td>\n      <td>plurality</td>\n      <td>171</td>\n    </tr>\n    <tr>\n      <th>23</th>\n      <td>172-Desmarchais-Crawford</td>\n      <td>2476</td>\n      <td>2631</td>\n      <td>2849</td>\n      <td>7956</td>\n      <td>Joly</td>\n      <td>plurality</td>\n      <td>172</td>\n    </tr>\n    <tr>\n      <th>24</th>\n      <td>181-Peter-McGill</td>\n      <td>1451</td>\n      <td>754</td>\n      <td>1894</td>\n      <td>4099</td>\n      <td>Joly</td>\n      <td>plurality</td>\n      <td>181</td>\n    </tr>\n    <tr>\n      <th>25</th>\n      <td>182-Saint-Jacques</td>\n      <td>1906</td>\n      <td>2169</td>\n      <td>2282</td>\n      <td>6357</td>\n      <td>Joly</td>\n      <td>plurality</td>\n      <td>182</td>\n    </tr>\n    <tr>\n      <th>26</th>\n      <td>183-Sainte-Marie</td>\n      <td>1347</td>\n      <td>2827</td>\n      <td>2271</td>\n      <td>6445</td>\n      <td>Bergeron</td>\n      <td>plurality</td>\n      <td>183</td>\n    </tr>\n    <tr>\n      <th>27</th>\n      <td>191-Saint-Michel</td>\n      <td>3668</td>\n      <td>984</td>\n      <td>1220</td>\n      <td>5872</td>\n      <td>Coderre</td>\n      <td>majority</td>\n      <td>191</td>\n    </tr>\n    <tr>\n      <th>28</th>\n      <td>192-François-Perrault</td>\n      <td>2878</td>\n      <td>2666</td>\n      <td>2039</td>\n      <td>7583</td>\n      <td>Coderre</td>\n      <td>plurality</td>\n      <td>192</td>\n    </tr>\n    <tr>\n      <th>29</th>\n      <td>193-Villeray</td>\n      <td>2201</td>\n      <td>5819</td>\n      <td>2782</td>\n      <td>10802</td>\n      <td>Bergeron</td>\n      <td>majority</td>\n      <td>193</td>\n    </tr>\n    <tr>\n      <th>30</th>\n      <td>194-Parc-Extension</td>\n      <td>2420</td>\n      <td>1793</td>\n      <td>1402</td>\n      <td>5615</td>\n      <td>Coderre</td>\n      <td>plurality</td>\n      <td>194</td>\n    </tr>\n    <tr>\n      <th>31</th>\n      <td>21-Ouest</td>\n      <td>2184</td>\n      <td>691</td>\n      <td>1076</td>\n      <td>3951</td>\n      <td>Coderre</td>\n      <td>majority</td>\n      <td>21</td>\n    </tr>\n    <tr>\n      <th>32</th>\n      <td>22-Est</td>\n      <td>1589</td>\n      <td>708</td>\n      <td>1172</td>\n      <td>3469</td>\n      <td>Coderre</td>\n      <td>plurality</td>\n      <td>22</td>\n    </tr>\n    <tr>\n      <th>33</th>\n      <td>23-Centre</td>\n      <td>2526</td>\n      <td>851</td>\n      <td>1286</td>\n      <td>4663</td>\n      <td>Coderre</td>\n      <td>majority</td>\n      <td>23</td>\n    </tr>\n    <tr>\n      <th>34</th>\n      <td>31-Darlington</td>\n      <td>1873</td>\n      <td>1182</td>\n      <td>1232</td>\n      <td>4287</td>\n      <td>Coderre</td>\n      <td>plurality</td>\n      <td>31</td>\n    </tr>\n    <tr>\n      <th>35</th>\n      <td>32-Côte-des-Neiges</td>\n      <td>1644</td>\n      <td>1950</td>\n      <td>1578</td>\n      <td>5172</td>\n      <td>Bergeron</td>\n      <td>plurality</td>\n      <td>32</td>\n    </tr>\n    <tr>\n      <th>36</th>\n      <td>33-Snowdon</td>\n      <td>1548</td>\n      <td>1503</td>\n      <td>1636</td>\n      <td>4687</td>\n      <td>Joly</td>\n      <td>plurality</td>\n      <td>33</td>\n    </tr>\n    <tr>\n      <th>37</th>\n      <td>34-Notre-Dame-de-Grâce</td>\n      <td>1773</td>\n      <td>2653</td>\n      <td>3262</td>\n      <td>7688</td>\n      <td>Joly</td>\n      <td>plurality</td>\n      <td>34</td>\n    </tr>\n    <tr>\n      <th>38</th>\n      <td>35-Loyola</td>\n      <td>2040</td>\n      <td>1437</td>\n      <td>2648</td>\n      <td>6125</td>\n      <td>Joly</td>\n      <td>plurality</td>\n      <td>35</td>\n    </tr>\n    <tr>\n      <th>39</th>\n      <td>41-du Canal</td>\n      <td>1165</td>\n      <td>832</td>\n      <td>1266</td>\n      <td>3263</td>\n      <td>Joly</td>\n      <td>plurality</td>\n      <td>41</td>\n    </tr>\n    <tr>\n      <th>40</th>\n      <td>42-J.-Émery-Provost</td>\n      <td>1193</td>\n      <td>653</td>\n      <td>1157</td>\n      <td>3003</td>\n      <td>Coderre</td>\n      <td>plurality</td>\n      <td>42</td>\n    </tr>\n    <tr>\n      <th>41</th>\n      <td>43-Fort-Rolland</td>\n      <td>1325</td>\n      <td>1205</td>\n      <td>1908</td>\n      <td>4438</td>\n      <td>Joly</td>\n      <td>plurality</td>\n      <td>43</td>\n    </tr>\n    <tr>\n      <th>42</th>\n      <td>51-Sault-Saint-Louis</td>\n      <td>4201</td>\n      <td>1642</td>\n      <td>3717</td>\n      <td>9560</td>\n      <td>Coderre</td>\n      <td>plurality</td>\n      <td>51</td>\n    </tr>\n    <tr>\n      <th>43</th>\n      <td>52-Cecil-P.-Newman</td>\n      <td>3536</td>\n      <td>1330</td>\n      <td>2943</td>\n      <td>7809</td>\n      <td>Coderre</td>\n      <td>plurality</td>\n      <td>52</td>\n    </tr>\n    <tr>\n      <th>44</th>\n      <td>61-Pierre-Foretier</td>\n      <td>631</td>\n      <td>258</td>\n      <td>998</td>\n      <td>1887</td>\n      <td>Joly</td>\n      <td>majority</td>\n      <td>61</td>\n    </tr>\n    <tr>\n      <th>45</th>\n      <td>62-Denis-Benjamin-Viger</td>\n      <td>595</td>\n      <td>226</td>\n      <td>1068</td>\n      <td>1889</td>\n      <td>Joly</td>\n      <td>majority</td>\n      <td>62</td>\n    </tr>\n    <tr>\n      <th>46</th>\n      <td>63-Jacques-Bizard</td>\n      <td>518</td>\n      <td>224</td>\n      <td>690</td>\n      <td>1432</td>\n      <td>Joly</td>\n      <td>plurality</td>\n      <td>63</td>\n    </tr>\n    <tr>\n      <th>47</th>\n      <td>64-Sainte-Geneviève</td>\n      <td>332</td>\n      <td>131</td>\n      <td>326</td>\n      <td>789</td>\n      <td>Coderre</td>\n      <td>plurality</td>\n      <td>64</td>\n    </tr>\n    <tr>\n      <th>48</th>\n      <td>71-Tétreaultville</td>\n      <td>3694</td>\n      <td>2589</td>\n      <td>3454</td>\n      <td>9737</td>\n      <td>Coderre</td>\n      <td>plurality</td>\n      <td>71</td>\n    </tr>\n    <tr>\n      <th>49</th>\n      <td>72-MaisonneuveLongue-Pointe</td>\n      <td>2746</td>\n      <td>3250</td>\n      <td>3139</td>\n      <td>9135</td>\n      <td>Bergeron</td>\n      <td>plurality</td>\n      <td>72</td>\n    </tr>\n    <tr>\n      <th>50</th>\n      <td>73-Hochelaga</td>\n      <td>1546</td>\n      <td>3679</td>\n      <td>2675</td>\n      <td>7900</td>\n      <td>Bergeron</td>\n      <td>plurality</td>\n      <td>73</td>\n    </tr>\n    <tr>\n      <th>51</th>\n      <td>74-Louis-Riel</td>\n      <td>3509</td>\n      <td>2178</td>\n      <td>2338</td>\n      <td>8025</td>\n      <td>Coderre</td>\n      <td>plurality</td>\n      <td>74</td>\n    </tr>\n    <tr>\n      <th>52</th>\n      <td>81-Marie-Clarac</td>\n      <td>6591</td>\n      <td>1085</td>\n      <td>1435</td>\n      <td>9111</td>\n      <td>Coderre</td>\n      <td>majority</td>\n      <td>81</td>\n    </tr>\n    <tr>\n      <th>53</th>\n      <td>82-Ovide-Clermont</td>\n      <td>6229</td>\n      <td>780</td>\n      <td>1051</td>\n      <td>8060</td>\n      <td>Coderre</td>\n      <td>majority</td>\n      <td>82</td>\n    </tr>\n    <tr>\n      <th>54</th>\n      <td>91-Claude-Ryan</td>\n      <td>996</td>\n      <td>643</td>\n      <td>423</td>\n      <td>2062</td>\n      <td>Coderre</td>\n      <td>plurality</td>\n      <td>91</td>\n    </tr>\n    <tr>\n      <th>55</th>\n      <td>92-Joseph-Beaubien</td>\n      <td>540</td>\n      <td>833</td>\n      <td>592</td>\n      <td>1965</td>\n      <td>Bergeron</td>\n      <td>plurality</td>\n      <td>92</td>\n    </tr>\n    <tr>\n      <th>56</th>\n      <td>93-Robert-Bourassa</td>\n      <td>446</td>\n      <td>465</td>\n      <td>419</td>\n      <td>1330</td>\n      <td>Bergeron</td>\n      <td>plurality</td>\n      <td>93</td>\n    </tr>\n    <tr>\n      <th>57</th>\n      <td>94-Jeanne-Sauvé</td>\n      <td>491</td>\n      <td>698</td>\n      <td>489</td>\n      <td>1678</td>\n      <td>Bergeron</td>\n      <td>plurality</td>\n      <td>94</td>\n    </tr>\n  </tbody>\n</table>\n</div>"
     },
     "execution_count": 3,
     "metadata": {},
     "output_type": "execute_result"
    }
   ],
   "source": [
    "data"
   ],
   "metadata": {
    "collapsed": false,
    "pycharm": {
     "name": "#%%\n"
    }
   }
  }
 ],
 "metadata": {
  "kernelspec": {
   "display_name": "Python 3",
   "language": "python",
   "name": "python3"
  },
  "language_info": {
   "codemirror_mode": {
    "name": "ipython",
    "version": 2
   },
   "file_extension": ".py",
   "mimetype": "text/x-python",
   "name": "python",
   "nbconvert_exporter": "python",
   "pygments_lexer": "ipython2",
   "version": "2.7.6"
  }
 },
 "nbformat": 4,
 "nbformat_minor": 0
}