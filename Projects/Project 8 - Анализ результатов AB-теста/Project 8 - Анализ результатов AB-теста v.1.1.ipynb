{
 "cells": [
  {
   "cell_type": "markdown",
   "metadata": {
    "pycharm": {
     "name": "#%% md\n"
    }
   },
   "source": [
    "<!-- <div style=\"border:solid green 2px; padding: 20px\"> -->\n",
    "<b>Привет, Андрей!</b>\n",
    "\n",
    "Меня зовут Кирилл Юрин, и я буду проверять твой проект. Предлагаю общаться на «ты» 🙂 Но если это неудобно — дай знать, и мы перейдем на «вы». \n",
    "\n",
    "Моя основная цель — не указать на совершенные тобою ошибки, а поделиться своим опытом и помочь тебе стать аналитиком данных. Ниже ты найдешь мои комментарии — пожалуйста, не перемещай, не изменяй и не удаляй их. Я буду использовать цветовую разметку:\n",
    "\n",
    "<div class=\"alert alert-danger\">\n",
    "<font size=\"4\">❌ <b>Комментарий ревьюера</b></font>\n",
    "    \n",
    "Так выделены самые важные замечания. Без их отработки проект не будет принят. </div>\n",
    "\n",
    "<div class=\"alert alert-warning\">\n",
    "<font size=\"4\">📝 <b>Комментарий ревьюера</b></font>\n",
    "    \n",
    "Так выделены дополнительные материалы и развивающие замечания. Их отработка остается на твое усмотрение.\n",
    "</div>\n",
    "\n",
    "<div class=\"alert alert-success\">\n",
    "<font size=\"4\">👍 <b>Комментарий ревьюера</b></font>\n",
    "    \n",
    "Так я выделяю все остальные комментарии.</div>\n",
    "\n",
    "Давай работать над проектом в диалоге: если ты что-то меняешь в проекте или отвечаешь на мои комменатри — пиши об этом. Мне будет легче отследить изменения, если ты выделишь свои комментарии:\n",
    "<div class=\"alert alert-info\">\n",
    "<font size=\"4\"><b>Комментарий студента</b></font>\n",
    "    \n",
    "Например, вот так.</div>\n",
    "\n",
    "Всё это поможет выполнить повторную проверку твоего проекта оперативнее. \n",
    "    \n",
    "</div>\n",
    "\n",
    "---\n",
    "\n",
    "<div class=\"alert alert-success\">\n",
    "<font size=\"4\"><b>Обратная связь</b></font>\n",
    "    \n",
    "Ты выполнил проект на высоком уровне. Анализ выдержан в верном ключе.\n",
    "\n",
    "Чтобы завершить проект, тебе нужно доработать подготовку данных и раздел со стат. тестами. Думаю, у тебя с этим не будет проблем, ведь уже подавляющая часть проекта выполнена корректно 🙂\n",
    "    \n",
    "Буду ждать работу вновь!</div>\n",
    "\n",
    "---"
   ]
  },
  {
   "cell_type": "markdown",
   "metadata": {
    "pycharm": {
     "name": "#%% md\n"
    }
   },
   "source": [
    "# Проект \"Анализ результатов AB-теста\" #\n",
    "Цель проекта: проверка изменений направленных на увелечение выручки интернет-магазина"
   ]
  },
  {
   "cell_type": "markdown",
   "source": [
    "# Содержание #\n",
    "<div>\n",
    "  <ol>\n",
    "      <li>\n",
    "          <a href=\"#data_description\">Описание данных</a>\n",
    "      </li>\n",
    "      <li>\n",
    "          <a href=\"#research_plan\">План проведения исследования</a>\n",
    "      </li>\n",
    "      <li>\n",
    "          <a href=\"#import\">Импорт библиотек</a>\n",
    "      </li>\n",
    "      <li>\n",
    "          <a href=\"#data\">Загрузка данных</a>\n",
    "      </li>\n",
    "      <ul>\n",
    "          <li>\n",
    "              <a href=\"#preview_hypothesis\">Предварительный осмотр hypothesis</a>\n",
    "          </li>\n",
    "          <li>\n",
    "              <a href=\"#preview_orders\">Предварительный осмотр orders</a>\n",
    "          </li>\n",
    "          <li>\n",
    "              <a href=\"#preview_visitors\">Предварительный осмотр visitors</a>\n",
    "          </li>\n",
    "      </ul>\n",
    "      <li>\n",
    "          <a href=\"#prepare\">Предобработка данных</a>\n",
    "      </li>\n",
    "      <ul>\n",
    "          <li>\n",
    "              <a href=\"#prepare_data\">Изменение данных</a>\n",
    "          </li>\n",
    "          <li>\n",
    "              <a href=\"#prepare_type\">Изменение типов данных</a>\n",
    "          </li>\n",
    "          <li>\n",
    "              <a href=\"#prepare_dupl\">Проверка наличия дубликатов</a>\n",
    "          </li>\n",
    "      </ul>\n",
    "      <li>\n",
    "          <a href=\"#hypothesis\">Приоритезация гипотез</a>\n",
    "      </li>\n",
    "      <ul>\n",
    "          <li>\n",
    "              <a href=\"#hypothesis_ice\">Фреймворк ICE, RICE</a>\n",
    "          </li>\n",
    "      </ul>\n",
    "      <li>\n",
    "          <a href=\"#abtest\">Анализ A/B-теста</a>\n",
    "      </li>\n",
    "      <ul>\n",
    "          <li>\n",
    "              <a href=\"#abtest_cum_revenue\">Кумулятивная выручка групп</a>\n",
    "          </li>\n",
    "          <li>\n",
    "              <a href=\"#abtest_cum_reciept_mean\">Кумулятивный средний чек групп</a>\n",
    "          </li>\n",
    "          <li>\n",
    "              <a href=\"#abtest_cum_reciept_mean_diff\">Относительное изменение кумулятивного среднего чека групп</a>\n",
    "          </li>\n",
    "          <li>\n",
    "              <a href=\"#abtest_cum_conversion\">Кумулятивная конверсия групп</a>\n",
    "          </li>\n",
    "          <li>\n",
    "              <a href=\"#abtest_cum_conversion_diff\">Относительное изменение кумулятивной конверсии групп</a>\n",
    "          </li>\n",
    "          <li>\n",
    "              <a href=\"#abtest_orders_by_users\">Распределение количества заказов пользователей</a>\n",
    "          </li>\n",
    "          <li>\n",
    "              <a href=\"#abtest_revenue_by_orders\">Распределение стоимости заказов пользователей</a>\n",
    "          </li>\n",
    "          <li>\n",
    "              <a href=\"#abtest_stat_norm\">Проверка нормальности распределения данных групп</a>\n",
    "          </li>\n",
    "          <ul>\n",
    "              <li>\n",
    "                  <a href=\"#abtest_stat_norm_conv_a\">Проверка нормальности распределения кумулятивной конверсии группы А</a>\n",
    "              </li>\n",
    "              <li>\n",
    "                  <a href=\"#abtest_stat_norm_conv_b\">Проверка нормальности распределения кумулятивной конверсии группы B</a>\n",
    "              </li>\n",
    "              <li>\n",
    "                  <a href=\"#abtest_stat_norm_reciept_a\">Проверка нормальности распределения кумулятивной средней суммы чека группы A</a>\n",
    "              </li>\n",
    "              <li>\n",
    "                  <a href=\"#abtest_stat_norm_reciept_b\">Проверка нормальности распределения кумулятивной средней суммы чека группы B</a>\n",
    "              </li>\n",
    "          </ul>\n",
    "          <li>\n",
    "              <a href=\"#abtest_prepare_data\">Подготовка данных для теста Уилкоксона-Манна-Уитни</a>\n",
    "          </li>\n",
    "          <ul>\n",
    "              <li>\n",
    "                  <a href=\"#abtest_abnormal_users\">Обработка выбросов</a>\n",
    "              </li>\n",
    "              <ul>\n",
    "                  <li>\n",
    "                      <a href=\"#abtest_abnormal_users_99\">Список пользователей 99-процентиля</a>\n",
    "                  </li>\n",
    "                  <li>\n",
    "                      <a href=\"#abtest_abnormal_users_95\">Список пользователей 95-процентиля</a>\n",
    "                  </li>\n",
    "                  <li>\n",
    "                      <a href=\"#abtest_abnormal_users_99_del\">Удаление пользователей 99-процентиля</a>\n",
    "                  </li>\n",
    "                  <li>\n",
    "                      <a href=\"#abtest_abnormal_users_95_del\">Удаление пользователей 95-процентиля</a>\n",
    "                  </li>\n",
    "              </ul>\n",
    "          </ul>\n",
    "          <li>\n",
    "              <a href=\"#abtest_stat_conv\">Анализ различия конверсии групп</a>\n",
    "          </li>\n",
    "          <ul>\n",
    "              <li>\n",
    "                  <a href=\"#abtest_stat_conv_raw\">Анализ различия конверсии групп. Сырые данные</a>\n",
    "              </li>\n",
    "              <li>\n",
    "                  <a href=\"#abtest_stat_conv_99\">Анализ различия конверсии групп. 99% пользователей</a>\n",
    "              </li>\n",
    "              <li>\n",
    "                  <a href=\"#abtest_stat_conv_95\">Анализ различия конверсии групп. 95% пользователей</a>\n",
    "              </li>\n",
    "          </ul>\n",
    "          <li>\n",
    "              <a href=\"#abtest_stat_reciept\">Анализ различия суммы чека групп</a>\n",
    "          </li>\n",
    "          <ul>\n",
    "              <li>\n",
    "                  <a href=\"#abtest_stat_reciept_raw\">Анализ различия суммы чека групп. Сырые данные</a>\n",
    "              </li>\n",
    "              <li>\n",
    "                  <a href=\"#abtest_stat_reciept_99\">Анализ различия суммы чека групп. 99% пользователей</a>\n",
    "              </li>\n",
    "              <li>\n",
    "                  <a href=\"#abtest_stat_reciept_95\">Анализ различия суммы чека групп. 95% пользователей</a>\n",
    "              </li>\n",
    "          </ul>\n",
    "      </ul>\n",
    "      <li>\n",
    "          <a href=\"#summary\">Вывод</a>\n",
    "      </li>\n",
    "  </ol>\n",
    "</div>\n"
   ],
   "metadata": {
    "collapsed": false,
    "pycharm": {
     "name": "#%% md\n"
    }
   }
  },
  {
   "cell_type": "markdown",
   "source": [
    "<a id='data_description'></a>\n",
    "# Описание данных #\n",
    "1. Файл \"/datasets/hypothesis.csv\":<br>\n",
    " Hypothesis — краткое описание гипотезы;<br> \n",
    " Reach — охват пользователей по 10-балльной шкале;<br> \n",
    " Impact — влияние на пользователей по 10-балльной шкале;<br> \n",
    " Confidence — уверенность в гипотезе по 10-балльной шкале;<br>\n",
    " Efforts — затраты ресурсов на проверку гипотезы по 10-балльной шкале. Чем больше значение Efforts, тем дороже проверка гипотезы.<br>\n",
    "2. Файл \"/datasets/orders.csv\":<br>\n",
    " transactionId — идентификатор заказа;<br>\n",
    " visitorId — идентификатор пользователя, совершившего заказ;<br>\n",
    " date — дата, когда был совершён заказ;<br>\n",
    " revenue — выручка заказа;<br>\n",
    " group — группа A/B-теста, в которую попал заказ.<br>\n",
    "3. Файл \"/datasets/visitors.csv\":<br>\n",
    " date — дата;<br>\n",
    " group — группа A/B-теста;<br>\n",
    " visitors — количество пользователей в указанную дату в указанной группе A/B-теста<br>"
   ],
   "metadata": {
    "collapsed": false,
    "pycharm": {
     "name": "#%% md\n"
    }
   }
  },
  {
   "cell_type": "markdown",
   "source": [
    "<div class=\"alert alert-success\">\n",
    "<font size=\"4\">👍 <b>Комментарий ревьюера</b></font>\n",
    "    \n",
    "Хорошо, что добавил описание данных, но сейчас его довольно тяжело прочесть. Можешь воспользоваться `<br>` для переноса строки.</div>"
   ],
   "metadata": {
    "collapsed": false,
    "pycharm": {
     "name": "#%% md\n"
    }
   }
  },
  {
   "cell_type": "markdown",
   "source": [
    "<div class=\"alert alert-info\">\n",
    "<font size=\"4\"><b>Комментарий студента</b></font>\n",
    "Привет, Кирилл!\n",
    "Готово    \n",
    "</div>\n"
   ],
   "metadata": {
    "collapsed": false,
    "pycharm": {
     "name": "#%% md\n"
    }
   }
  },
  {
   "cell_type": "markdown",
   "source": [
    "<a id='research_plan'></a>\n",
    "# План проведения исследования #\n",
    "1. загрузка данных\n",
    "2. предобработка данных\n",
    "3. приоритезация гипотез по ICE\n",
    "4. приоритезация гипотез по RICE\n",
    "5. A/B-тест\n",
    "6. анализ результатов A/B-теста"
   ],
   "metadata": {
    "collapsed": false,
    "pycharm": {
     "name": "#%% md\n"
    }
   }
  },
  {
   "cell_type": "markdown",
   "source": [
    "<div class=\"alert alert-success\">\n",
    "<font size=\"4\">👍 <b>Комментарий ревьюера</b></font>\n",
    "    \n",
    "Молодец, что оформил введение в проект, оно позволяет понять, насколько ты в курсе проблемы и понимаешь что делаешь. Ты сделаешь введение лучше, если добавишь в него краткое описание проекта и сформулируешь цели более развернуто. Еще твой проект станет намного удобней в использовании, если ты добавишь интерактивное оглавление — с помощью гиперссылок или в плагине toc. Материал об этом есть в студенческом notion, для получения ссылки и доступа обратись к куратору.</div>"
   ],
   "metadata": {
    "collapsed": false,
    "pycharm": {
     "name": "#%% md\n"
    }
   }
  },
  {
   "cell_type": "markdown",
   "source": [
    "<a id='import'></a>\n",
    "# Импорт библиотек #"
   ],
   "metadata": {
    "collapsed": false,
    "pycharm": {
     "name": "#%% md\n"
    }
   }
  },
  {
   "cell_type": "code",
   "execution_count": null,
   "outputs": [],
   "source": [
    "import pandas as pd\n",
    "import numpy as np\n",
    "import datetime as dt\n",
    "from IPython.display import display\n",
    "# from IPython.core.display_functions import display\n",
    "import plotly.express as px\n",
    "from scipy import stats as st\n",
    "import warnings\n",
    "import os\n",
    "\n",
    "pd.set_option('display.max_colwidth', None)\n",
    "warnings.filterwarnings('ignore')"
   ],
   "metadata": {
    "collapsed": false,
    "pycharm": {
     "name": "#%%\n"
    }
   }
  },
  {
   "cell_type": "markdown",
   "source": [
    "<div class=\"alert alert-warning\">\n",
    "<font size=\"4\">📝 <b>Комментарий ревьюера</b></font>\n",
    "    \n",
    "Правильно, что весь импорт ты проводишь в первой ячейке работы. Так твой коллега, запускающий работу, будет в курсе используемых в ней библиотек и сможет при необходимости быстро настроить окружение. Однако стоило проверить, что все модули, которые ты используешь, есть в Jupyter hub. Например, `IPython.core.display_functions` — нет. </div>"
   ],
   "metadata": {
    "collapsed": false,
    "pycharm": {
     "name": "#%% md\n"
    }
   }
  },
  {
   "cell_type": "markdown",
   "source": [
    "<div class=\"alert alert-info\">\n",
    "<font size=\"4\"><b>Комментарий студента</b></font>\n",
    "Исправил импорт.\n",
    "Импорт из указанного пакета IDE пометила как устаревший. \n",
    "Поэтому ранее использовал актуальную библиотеку.\n",
    "</div>"
   ],
   "metadata": {
    "collapsed": false,
    "pycharm": {
     "name": "#%% md\n"
    }
   }
  },
  {
   "cell_type": "markdown",
   "source": [
    "<a id='data'></a>\n",
    "# Загрузка данных #"
   ],
   "metadata": {
    "collapsed": false,
    "pycharm": {
     "name": "#%% md\n"
    }
   }
  },
  {
   "cell_type": "code",
   "execution_count": null,
   "outputs": [],
   "source": [
    "path_1 = 'datasets/'\n",
    "path_2 = '/datasets/'\n",
    "\n",
    "if os.path.exists(path=path_1):\n",
    "    hypothesis = pd.read_csv(filepath_or_buffer=path_1 + 'hypothesis.csv', sep=',')\n",
    "    orders = pd.read_csv(filepath_or_buffer=path_1 + 'orders.csv', sep=',')\n",
    "    visitors = pd.read_csv(filepath_or_buffer=path_1 + 'visitors.csv', sep=',')\n",
    "elif os.path.exists():\n",
    "    hypothesis = pd.read_csv(filepath_or_buffer=path_2 + 'hypothesis.csv', sep=',')\n",
    "    orders = pd.read_csv(filepath_or_buffer=path_2 + 'orders.csv', sep=',')\n",
    "    visitors = pd.read_csv(filepath_or_buffer=path_2 + 'visitors.csv', sep=',')\n",
    "else: print('Данные отсутствуют. Проверьте путь к папкам с данными')"
   ],
   "metadata": {
    "collapsed": false,
    "pycharm": {
     "name": "#%%\n"
    }
   }
  },
  {
   "cell_type": "markdown",
   "source": [
    "<div class=\"alert alert-warning\">\n",
    "<font size=\"4\">📝 <b>Комментарий ревьюера</b></font>\n",
    "    \n",
    "Кажется, работа над проектов велась локально и пути к файлам были изменены на общедоступные не совсем верно. Сейчас я внесу изменения в твой код, но в следующий раз будь внимательней. Стоит писать код таким образом, что бы он запускался и в jupiter hub, и локально без внесения дополнительных правок. Этого можно добиться многими способами. Например, использовать конструкцию ``try-except`` — для путей файлов: ``try`` — пути на локальном компьютере, ``except``  пути на сервере. Или применить библиотеку ``os``:\n",
    "\n",
    "    import os\n",
    "\n",
    "    pth1 = '/folder_1/data.csv'\n",
    "    pth2 = '/folder_2/data.csv'\n",
    "    \n",
    "    if os.path.exists(pth1):\n",
    "        query_1 = pd.read_csv(pth1)\n",
    "    elif os.path.exists(pth2):\n",
    "        query_1 = pd.read_csv(pth2)\n",
    "    else:\n",
    "        print('Something is wrong)\n",
    "    \n",
    "</div>"
   ],
   "metadata": {
    "collapsed": false,
    "pycharm": {
     "name": "#%% md\n"
    }
   }
  },
  {
   "cell_type": "markdown",
   "source": [
    "<div class=\"alert alert-info\">\n",
    "<font size=\"4\"><b>Комментарий студента</b></font>\n",
    "Исправлено.\n",
    "</div>\n"
   ],
   "metadata": {
    "collapsed": false,
    "pycharm": {
     "name": "#%% md\n"
    }
   }
  },
  {
   "cell_type": "markdown",
   "source": [
    "<a id='preview_hypothesis'></a>\n",
    "## Предварительный осмотр hypothesis ##"
   ],
   "metadata": {
    "collapsed": false,
    "pycharm": {
     "name": "#%% md\n"
    }
   }
  },
  {
   "cell_type": "code",
   "execution_count": null,
   "outputs": [],
   "source": [
    "display(hypothesis)"
   ],
   "metadata": {
    "collapsed": false,
    "pycharm": {
     "name": "#%%\n"
    }
   }
  },
  {
   "cell_type": "markdown",
   "source": [
    "<div class=\"alert alert-success\">\n",
    "<font size=\"4\">👍 <b>Комментарий ревьюера</b></font>\n",
    "    \n",
    "Для полного отображения гипотез в таблицах советую использовать надстройку pd.set_option('display.max_colwidth', -1).</div>"
   ],
   "metadata": {
    "collapsed": false,
    "pycharm": {
     "name": "#%% md\n"
    }
   }
  },
  {
   "cell_type": "markdown",
   "source": [
    "<div class=\"alert alert-info\">\n",
    "<font size=\"4\"><b>Комментарий студента</b></font>\n",
    "Благодарю.\n",
    "Добавил.\n",
    "</div>"
   ],
   "metadata": {
    "collapsed": false,
    "pycharm": {
     "name": "#%% md\n"
    }
   }
  },
  {
   "cell_type": "code",
   "execution_count": null,
   "outputs": [],
   "source": [
    "hypothesis.info()"
   ],
   "metadata": {
    "collapsed": false,
    "pycharm": {
     "name": "#%%\n"
    }
   }
  },
  {
   "cell_type": "markdown",
   "source": [
    "<a id='preview_orders'></a>\n",
    "## Предварительный осмотр orders ##"
   ],
   "metadata": {
    "collapsed": false,
    "pycharm": {
     "name": "#%% md\n"
    }
   }
  },
  {
   "cell_type": "code",
   "execution_count": null,
   "outputs": [],
   "source": [
    "display(orders)"
   ],
   "metadata": {
    "collapsed": false,
    "pycharm": {
     "name": "#%%\n"
    }
   }
  },
  {
   "cell_type": "code",
   "execution_count": null,
   "outputs": [],
   "source": [
    "orders.info()"
   ],
   "metadata": {
    "collapsed": false,
    "pycharm": {
     "name": "#%%\n"
    }
   }
  },
  {
   "cell_type": "markdown",
   "source": [
    "## Предварительный осмотр visitors ##"
   ],
   "metadata": {
    "collapsed": false,
    "pycharm": {
     "name": "#%% md\n"
    }
   }
  },
  {
   "cell_type": "code",
   "execution_count": null,
   "outputs": [],
   "source": [
    "display(visitors)"
   ],
   "metadata": {
    "collapsed": false,
    "pycharm": {
     "name": "#%%\n"
    }
   }
  },
  {
   "cell_type": "code",
   "execution_count": null,
   "outputs": [],
   "source": [
    "visitors.info()"
   ],
   "metadata": {
    "collapsed": false,
    "pycharm": {
     "name": "#%%\n"
    }
   }
  },
  {
   "cell_type": "markdown",
   "source": [
    "## Результаты предварительного осмотра данных ##\n",
    "1. hypothesis:\n",
    "  - имена столбцов перевести в нижний регистр\n",
    "  - hypothesis['hypothesis'] - перевести значение в нижний регистр\n",
    "2. orders:\n",
    "  - переименовать \"transactionId\" -> \"transaction_id\"\n",
    "  - переименовать \"visitorId\" -> \"visitor_id\"\n",
    "  - \"date\".type(object) - > \"date\".type(datetime)\n",
    "3. visitors:\n",
    "  - \"date\".type(object) -> \"date\".type(datetime)"
   ],
   "metadata": {
    "collapsed": false,
    "pycharm": {
     "name": "#%% md\n"
    }
   }
  },
  {
   "cell_type": "markdown",
   "source": [
    "<div class=\"alert alert-success\">\n",
    "<font size=\"4\">👍 <b>Комментарий ревьюера</b></font>\n",
    "    \n",
    "Ты верно определил особенности данных в части названия столбцов и несоответствия типов данных, хотя переводить текст гипотез в нижний регистр нет необходимости.</div>"
   ],
   "metadata": {
    "collapsed": false,
    "pycharm": {
     "name": "#%% md\n"
    }
   }
  },
  {
   "cell_type": "markdown",
   "source": [
    "<a id='prepare'></a>\n",
    "# Предобработка данных #"
   ],
   "metadata": {
    "collapsed": false,
    "pycharm": {
     "name": "#%% md\n"
    }
   }
  },
  {
   "cell_type": "markdown",
   "source": [
    "<a id='prepare_rename_columns'></a>\n",
    "## Переименоваине столбцов ##"
   ],
   "metadata": {
    "collapsed": false,
    "pycharm": {
     "name": "#%% md\n"
    }
   }
  },
  {
   "cell_type": "markdown",
   "source": [
    "<div class=\"alert alert-success\">\n",
    "<font size=\"4\">👍 <b>Комментарий ревьюера</b></font>\n",
    "    \n",
    "Молодец, что определяешь свою функцию, но не понятно почему не используешь ее далее.</div>"
   ],
   "metadata": {
    "collapsed": false,
    "pycharm": {
     "name": "#%% md\n"
    }
   }
  },
  {
   "cell_type": "markdown",
   "source": [
    "<div class=\"alert alert-info\">\n",
    "<font size=\"4\"><b>Комментарий студента</b></font>\n",
    "Удалил.\n",
    "</div>"
   ],
   "metadata": {
    "collapsed": false,
    "pycharm": {
     "name": "#%% md\n"
    }
   }
  },
  {
   "cell_type": "code",
   "execution_count": null,
   "outputs": [],
   "source": [
    "orders = orders.rename(columns={'transactionId':'transaction_id',\n",
    "                                'visitorId':'visitor_id'})\n",
    "\n",
    "hypothesis.columns = hypothesis.columns.str.lower().str.strip()\n",
    "orders.columns = orders.columns.str.lower().str.strip()\n",
    "visitors.columns = visitors.columns.str.lower().str.strip()"
   ],
   "metadata": {
    "collapsed": false,
    "pycharm": {
     "name": "#%%\n"
    }
   }
  },
  {
   "cell_type": "markdown",
   "source": [
    "<a id='prepare_data'></a>\n",
    "## Изменение данных ##"
   ],
   "metadata": {
    "collapsed": false,
    "pycharm": {
     "name": "#%% md\n"
    }
   }
  },
  {
   "cell_type": "code",
   "execution_count": null,
   "outputs": [],
   "source": [
    "hypothesis['hypothesis'] = hypothesis['hypothesis'].str.strip().str.lower()"
   ],
   "metadata": {
    "collapsed": false,
    "pycharm": {
     "name": "#%%\n"
    }
   }
  },
  {
   "cell_type": "markdown",
   "source": [
    "<a id='prepare_type'></a>\n",
    "## Изменение типов данных ##"
   ],
   "metadata": {
    "collapsed": false,
    "pycharm": {
     "name": "#%% md\n"
    }
   }
  },
  {
   "cell_type": "code",
   "execution_count": null,
   "outputs": [],
   "source": [
    "orders['date'] = orders['date'].map(lambda x: dt.datetime.strptime(x, '%Y-%m-%d'))\n",
    "visitors['date'] = visitors['date'].map(lambda x: dt.datetime.strptime(x, '%Y-%m-%d'))"
   ],
   "metadata": {
    "collapsed": false,
    "pycharm": {
     "name": "#%%\n"
    }
   }
  },
  {
   "cell_type": "markdown",
   "source": [
    "<a id='prepare_dupl'></a>\n",
    "## Проверка наличия дубликатов ##"
   ],
   "metadata": {
    "collapsed": false,
    "pycharm": {
     "name": "#%% md\n"
    }
   }
  },
  {
   "cell_type": "code",
   "execution_count": null,
   "outputs": [],
   "source": [
    "print(hypothesis.duplicated().sum())\n",
    "print(orders.duplicated().sum())\n",
    "print(visitors.duplicated().sum())"
   ],
   "metadata": {
    "collapsed": false,
    "pycharm": {
     "name": "#%%\n"
    }
   }
  },
  {
   "cell_type": "markdown",
   "source": [
    "## Итоги предобработки данных ##\n",
    "1. Переименованы столбцы датафреймов:\n",
    "  - orders:\n",
    "    * 'transactionId' -> 'transaction_id'\n",
    "    * 'visitorId' -> 'visitor_id'\n",
    "  - имена всех столбцов всех датафреймов переведены в нижний регистр\n",
    "2. Изменение значений:\n",
    "  - hypothesis['hypothesis'] переведены в нижний регистр\n",
    "3. Изменение типа данных:\n",
    "  - orders['date'].dtype('object') -> orders['date'].dtype('datetime')\n",
    "4. Дубликаты в данных отсутствуют"
   ],
   "metadata": {
    "collapsed": false,
    "pycharm": {
     "name": "#%% md\n"
    }
   }
  },
  {
   "cell_type": "markdown",
   "source": [
    "<div class=\"alert alert-danger\">\n",
    "<font size=\"4\">❌ <b>Комментарий ревьюера</b></font>\n",
    "    \n",
    "Давай зафиксируем все промежуточные выводы по результатам предобработки данных. </div>"
   ],
   "metadata": {
    "collapsed": false,
    "pycharm": {
     "name": "#%% md\n"
    }
   }
  },
  {
   "cell_type": "markdown",
   "source": [
    "<div class=\"alert alert-success\">\n",
    "<font size=\"4\">👍 <b>Комментарий ревьюера</b></font>\n",
    "    \n",
    "Обычно перед анализом результатов A/B-теста аналитики проверяют группы A и В на пересечение — здесь ты тоже можешь выполнить это упражнение. </div>"
   ],
   "metadata": {
    "collapsed": false,
    "pycharm": {
     "name": "#%% md\n"
    }
   }
  },
  {
   "cell_type": "markdown",
   "source": [
    "<div class=\"alert alert-info\">\n",
    "<font size=\"4\"><b>Комментарий студента</b></font>\n",
    "Расскажи пожалуйста подробнее о чем речь и я выполню упражнение.\n",
    "Ну и риторический вопрос: что мешало команде готовившей курс рассказать об этом шаге и добавить его в план выполнения проекта?! :):):)\n",
    "</div>"
   ],
   "metadata": {
    "collapsed": false,
    "pycharm": {
     "name": "#%% md\n"
    }
   }
  },
  {
   "cell_type": "markdown",
   "source": [
    "<a id='hypothesis'></a>\n",
    "# Приоритезация гипотез #"
   ],
   "metadata": {
    "collapsed": false,
    "pycharm": {
     "name": "#%% md\n"
    }
   }
  },
  {
   "cell_type": "markdown",
   "source": [
    "<a id='hypothesis_ice'></a>\n",
    "## Фреймворк ICE ##"
   ],
   "metadata": {
    "collapsed": false,
    "pycharm": {
     "name": "#%% md\n"
    }
   }
  },
  {
   "cell_type": "code",
   "execution_count": null,
   "outputs": [],
   "source": [
    "hypothesis['ICE'] = (hypothesis['impact'] * hypothesis['confidence']) / hypothesis['efforts']\n",
    "hypothesis['RICE'] = (hypothesis['reach'] * hypothesis['impact'] * hypothesis['confidence']) / hypothesis['efforts']\n",
    "print(hypothesis[['hypothesis', 'ICE', 'RICE']].sort_values(by=['ICE', 'RICE'], ascending=False))"
   ],
   "metadata": {
    "collapsed": false,
    "pycharm": {
     "name": "#%%\n"
    }
   }
  },
  {
   "cell_type": "markdown",
   "source": [
    "## Итоги приоритезации гипотез ##\n",
    "1. различия в оценках гипотез ICE и RICE обусловлены использованием компоненты 'REACH'(охват) в фреймфорке RICE.\n",
    "   В фреймфорке ICE указанный  компонент не учитывается."
   ],
   "metadata": {
    "collapsed": false,
    "pycharm": {
     "name": "#%% md\n"
    }
   }
  },
  {
   "cell_type": "markdown",
   "source": [
    "<div class=\"alert alert-success\">\n",
    "<font size=\"4\">👍 <b>Комментарий ревьюера</b></font>\n",
    "    \n",
    "Верно, фреймворки отличаются учетом охвата. Но что можно сказать, например, о составе ТОП-5 гипотез по каждому из фреймворков? </div>"
   ],
   "metadata": {
    "collapsed": false,
    "pycharm": {
     "name": "#%% md\n"
    }
   }
  },
  {
   "cell_type": "markdown",
   "source": [
    "<a id='abtest'></a>\n",
    "# Анализ A/B-теста #"
   ],
   "metadata": {
    "collapsed": false,
    "pycharm": {
     "name": "#%% md\n"
    }
   }
  },
  {
   "cell_type": "markdown",
   "source": [
    "<a id='abtest_cum_revenue'></a>\n",
    "## Кумулятивная выручка групп ##"
   ],
   "metadata": {
    "collapsed": false,
    "pycharm": {
     "name": "#%% md\n"
    }
   }
  },
  {
   "cell_type": "code",
   "execution_count": null,
   "outputs": [],
   "source": [
    "dates_groups = orders[['date', 'group']].drop_duplicates()"
   ],
   "metadata": {
    "collapsed": false,
    "pycharm": {
     "name": "#%%\n"
    }
   }
  },
  {
   "cell_type": "markdown",
   "source": [
    "### Агрегирование данных о покупателях/заказах/выручке групп, на указанную дату ###"
   ],
   "metadata": {
    "collapsed": false,
    "pycharm": {
     "name": "#%% md\n"
    }
   }
  },
  {
   "cell_type": "code",
   "execution_count": null,
   "outputs": [],
   "source": [
    "orders_agg = dates_groups.apply(lambda x: orders[np.logical_and(orders['date'] <= x['date'],\n",
    "                                                                orders['group'] == x['group'])]\\\n",
    "                                .agg({'date':np.max,\n",
    "                                      'group':np.max,\n",
    "                                      'transaction_id':pd.Series.nunique,\n",
    "                                      'visitor_id':pd.Series.nunique,\n",
    "                                      'revenue':np.sum}), axis='columns')\\\n",
    "    .sort_values(by=list(dates_groups.columns))"
   ],
   "metadata": {
    "collapsed": false,
    "pycharm": {
     "name": "#%%\n"
    }
   }
  },
  {
   "cell_type": "markdown",
   "source": [
    "### Агрегирование данных о количестве посещений групп, на указанную дату ###"
   ],
   "metadata": {
    "collapsed": false,
    "pycharm": {
     "name": "#%% md\n"
    }
   }
  },
  {
   "cell_type": "code",
   "execution_count": null,
   "outputs": [],
   "source": [
    "visitors_agg = dates_groups.apply(lambda x: visitors[np.logical_and(visitors['date'] <= x['date'],\n",
    "                                                                    visitors['group'] == x['group'])]\\\n",
    "                                  .agg({'date':np.max,\n",
    "                                        'group':np.max,\n",
    "                                        'visitors':np.sum}), axis='columns')\\\n",
    "    .sort_values(by=list(dates_groups.columns))"
   ],
   "metadata": {
    "collapsed": false,
    "pycharm": {
     "name": "#%%\n"
    }
   }
  },
  {
   "cell_type": "markdown",
   "source": [
    "### Объединение агрегированных таблиц заказов и посещений для формирования таблицы кумулятивных данных ###"
   ],
   "metadata": {
    "collapsed": false,
    "pycharm": {
     "name": "#%% md\n"
    }
   }
  },
  {
   "cell_type": "code",
   "execution_count": null,
   "outputs": [],
   "source": [
    "cum_data = orders_agg.merge(right=visitors_agg,\n",
    "                            how='inner',\n",
    "                            right_on=['date', 'group'],\n",
    "                            left_on=['date', 'group'])\n",
    "cum_data.columns = ['date', 'group', 'orders', 'buyers', 'revenue', 'visitors']"
   ],
   "metadata": {
    "collapsed": false,
    "pycharm": {
     "name": "#%%\n"
    }
   }
  },
  {
   "cell_type": "markdown",
   "source": [
    "### График кумулятивной выручки групп ###"
   ],
   "metadata": {
    "collapsed": false,
    "pycharm": {
     "name": "#%% md\n"
    }
   }
  },
  {
   "cell_type": "code",
   "execution_count": null,
   "outputs": [],
   "source": [
    "fig = px.line(data_frame=cum_data,\n",
    "              x='date',\n",
    "              y='revenue',\n",
    "              color='group',\n",
    "              title='Кумулятивная выручка групп',\n",
    "              template='seaborn',\n",
    "              labels={'revenue':'Выручка',\n",
    "                      'date':'Дата',\n",
    "                      'group':'Группа'})\n",
    "fig.show()"
   ],
   "metadata": {
    "collapsed": false,
    "pycharm": {
     "name": "#%%\n"
    }
   }
  },
  {
   "cell_type": "markdown",
   "source": [
    "## Итоги анализа кумулятивной выручки групп ##\n",
    "1. кумулятивная выручка группв B растет быстрее кумулятивной выручки группы A\n",
    "2. 19 августа наблюдается резкий рост кумулятивной выручки в группе B\n",
    "   Возможные причины:\n",
    "   - крупные покупки пользователей из группы B\n",
    "   - большое количество заказов пользователей группы B"
   ],
   "metadata": {
    "collapsed": false,
    "pycharm": {
     "name": "#%% md\n"
    }
   }
  },
  {
   "cell_type": "markdown",
   "source": [
    "<div class=\"alert alert-success\">\n",
    "<font size=\"4\">👍 <b>Комментарий ревьюера</b></font>\n",
    "    \n",
    "Ты произвел корректные расчеты, сделал хорошую визуализацию и отметил в выводах скачек и вероятные причины, которые его повлекли.</div>"
   ],
   "metadata": {
    "collapsed": false,
    "pycharm": {
     "name": "#%% md\n"
    }
   }
  },
  {
   "cell_type": "markdown",
   "source": [
    "<a id='abtest_cum_reciept_mean'></a>\n",
    "## Кумулятивный средний чек групп ##"
   ],
   "metadata": {
    "collapsed": false,
    "pycharm": {
     "name": "#%% md\n"
    }
   }
  },
  {
   "cell_type": "code",
   "execution_count": null,
   "outputs": [],
   "source": [
    "fig = px.line(data_frame=cum_data,\n",
    "              x='date',\n",
    "              y=cum_data['revenue'] / cum_data['orders'],\n",
    "              color='group',\n",
    "              title='Кумулятивный средний чек групп',\n",
    "              template='seaborn',\n",
    "              labels={'y':'Средняя сумма чека',\n",
    "                      'date':'Дата',\n",
    "                      'group':'Группа'})\n",
    "fig.show()"
   ],
   "metadata": {
    "collapsed": false,
    "pycharm": {
     "name": "#%%\n"
    }
   }
  },
  {
   "cell_type": "markdown",
   "source": [
    "## Итоги анализа кумулятивного среднего чека групп ##\n",
    "1. средний чек пользователей группы B выше чем в группе А\n",
    "2. 19 августа наблюдается резкий рост среднего чека группы B\n",
    "   Возможные причины:\n",
    "   - крупные покупки пользователей из группы B 19 августа"
   ],
   "metadata": {
    "collapsed": false,
    "pycharm": {
     "name": "#%% md\n"
    }
   }
  },
  {
   "cell_type": "markdown",
   "source": [
    "<div class=\"alert alert-success\">\n",
    "<font size=\"4\">👍 <b>Комментарий ревьюера</b></font>\n",
    "    \n",
    "И здесь визуализация с выводами на высоте.</div>"
   ],
   "metadata": {
    "collapsed": false,
    "pycharm": {
     "name": "#%% md\n"
    }
   }
  },
  {
   "cell_type": "markdown",
   "source": [
    "<a id='abtest_cum_reciept_mean_diff'></a>\n",
    "## Относительное изменение кумулятивного среднего чека групп ##"
   ],
   "metadata": {
    "collapsed": false,
    "pycharm": {
     "name": "#%% md\n"
    }
   }
  },
  {
   "cell_type": "code",
   "execution_count": null,
   "outputs": [],
   "source": [
    "cum_revenue_a = cum_data[cum_data['group'] == 'A'][['date', 'revenue', 'orders']]\n",
    "cum_revenue_a['reciept_mean'] = cum_revenue_a['revenue'] / cum_revenue_a['orders']\n",
    "\n",
    "cum_revenue_b = cum_data[cum_data['group'] == 'B'][['date', 'revenue', 'orders']]\n",
    "cum_revenue_b['reciept_mean'] = cum_revenue_b['revenue'] / cum_revenue_b['orders']\n",
    "\n",
    "merge_cum_revenue = cum_revenue_a.merge(right=cum_revenue_b,\n",
    "                                        how='left',\n",
    "                                        left_on='date',\n",
    "                                        right_on='date',\n",
    "                                        suffixes=['A','B'])\n",
    "merge_cum_revenue['cum_reciept_diff'] = merge_cum_revenue['reciept_meanB'] / merge_cum_revenue['reciept_meanA'] - 1"
   ],
   "metadata": {
    "collapsed": false,
    "pycharm": {
     "name": "#%%\n"
    }
   }
  },
  {
   "cell_type": "markdown",
   "source": [
    "### График относительного изменения значения кумулятивного среднего чека групп ###"
   ],
   "metadata": {
    "collapsed": false,
    "pycharm": {
     "name": "#%% md\n"
    }
   }
  },
  {
   "cell_type": "code",
   "execution_count": null,
   "outputs": [],
   "source": [
    "fig = px.line(data_frame=merge_cum_revenue,\n",
    "              x='date',\n",
    "              y='cum_reciept_diff',\n",
    "              template='seaborn',\n",
    "              labels={'cum_reciept_diff':'Относительное значение среднего чека',\n",
    "                      'date':'Дата'},\n",
    "              title='Относительное изменение значения среднего чека группы B')\n",
    "fig.add_shape(type='line',\n",
    "              line_color='salmon',\n",
    "              x0=merge_cum_revenue['date'].min(),\n",
    "              x1=merge_cum_revenue['date'].max(),\n",
    "              y0=0,\n",
    "              y1=0,\n",
    "              line_width=3)\n",
    "fig.show()"
   ],
   "metadata": {
    "collapsed": false,
    "pycharm": {
     "name": "#%%\n"
    }
   }
  },
  {
   "cell_type": "markdown",
   "source": [
    "## Итоги анализа графика относительного изменения кумулятивного среднего чека группы B ##\n",
    "1. до 2 августа сумма среднего чека была ниже чем в группе А\n",
    "2. со второго по 11 августа сумма среднего чека группы B превышала сумму среднего чека группы А.\n",
    "   Пиковое значение превышения суммы чека, в указанный период зафиксировано 8 и 6 августа.\n",
    "   Разница в суммах среднего чека 6 и 8 августа составила 35%.\n",
    "3. В период с 11 по 15 августа сумма среднего чека группы была чем у группы А.\n",
    "   Пиковое значение падения суммы среднего чека группы B зафиксировано 13 августа.\n",
    "   Падение составило 13%.\n",
    "4. 15 августа сумма средних чеков в обеих группах сравнялась.\n",
    "   До 18 августа наблюдается медленный рост суммы среднего чека группы B.\n",
    "5. 19 августа зафиксирован резкий рост суммы среднего чека группы B.\n",
    "   Рост составил 49%.\n",
    "6. Относительное изменение кумулятивной средней суммы чека стабилизировалось.\n",
    "6. Необходимо провести анализ выбросов средней суммы чека в обеих группах."
   ],
   "metadata": {
    "collapsed": false,
    "pycharm": {
     "name": "#%% md\n"
    }
   }
  },
  {
   "cell_type": "markdown",
   "source": [
    "<div class=\"alert alert-warning\">\n",
    "<font size=\"4\">📝 <b>Комментарий ревьюера</b></font>\n",
    "    \n",
    "Визуализация корректная, только поправлю, что мы анализируем в данном случае именно кумулятивный средний чек. Что можно сказать о том стабилизировались данные или нет? </div>"
   ],
   "metadata": {
    "collapsed": false,
    "pycharm": {
     "name": "#%% md\n"
    }
   }
  },
  {
   "cell_type": "markdown",
   "source": [
    "<div class=\"alert alert-info\">\n",
    "<font size=\"4\"><b>Комментарий студента</b></font>\n",
    "Исправил.\n",
    "Добавил.\n",
    "</div>"
   ],
   "metadata": {
    "collapsed": false,
    "pycharm": {
     "name": "#%% md\n"
    }
   }
  },
  {
   "cell_type": "markdown",
   "source": [
    "<a id='abtest_cum_conversion'></a>\n",
    "## Кумулятивная конверсия групп ##"
   ],
   "metadata": {
    "collapsed": false,
    "pycharm": {
     "name": "#%% md\n"
    }
   }
  },
  {
   "cell_type": "code",
   "execution_count": null,
   "outputs": [],
   "source": [
    "fig = px.line(data_frame=cum_data,\n",
    "              x='date',\n",
    "              y=cum_data['buyers'] / cum_data['visitors'],\n",
    "              color='group',\n",
    "              title='Кумулятивная конверсия групп',\n",
    "              template='seaborn',\n",
    "              labels={'y':'Конверсия',\n",
    "                      'date':'Дата',\n",
    "                      'group':'Группа'})\n",
    "fig.show()"
   ],
   "metadata": {
    "collapsed": false,
    "pycharm": {
     "name": "#%%\n"
    }
   }
  },
  {
   "cell_type": "markdown",
   "source": [
    "## Итоги анализа конверсии групп ##\n",
    "1. до 18 августа наблюдаются колебания значения конверсии для обеих групп\n",
    "2. 18 августа конверсия обеих групп выравнивается.\n",
    "3. конверсия в группе B выше конверсии в группе А ~0.3%"
   ],
   "metadata": {
    "collapsed": false,
    "pycharm": {
     "name": "#%% md\n"
    }
   }
  },
  {
   "cell_type": "markdown",
   "source": [
    "<div class=\"alert alert-success\">\n",
    "<font size=\"4\">👍 <b>Комментарий ревьюера</b></font>\n",
    "    \n",
    "Отличная визуализация и правильные выводы.</div>"
   ],
   "metadata": {
    "collapsed": false,
    "pycharm": {
     "name": "#%% md\n"
    }
   }
  },
  {
   "cell_type": "markdown",
   "source": [
    "<a id='abtest_cum_conversion_diff'></a>\n",
    "## Относительное изменение кумулятивной конверсии групп ##"
   ],
   "metadata": {
    "collapsed": false,
    "pycharm": {
     "name": "#%% md\n"
    }
   }
  },
  {
   "cell_type": "code",
   "execution_count": null,
   "outputs": [],
   "source": [
    "cum_buyers_a = cum_data[cum_data['group'] == 'A'][['date', 'buyers', 'visitors']]\n",
    "cum_buyers_a['conversion'] = cum_buyers_a['buyers'] / cum_buyers_a['visitors']\n",
    "\n",
    "cum_buyers_b = cum_data[cum_data['group'] == 'B'][['date', 'buyers', 'visitors']]\n",
    "cum_buyers_b['conversion'] = cum_buyers_b['buyers'] / cum_buyers_b['visitors']\n",
    "\n",
    "merge_cum_conversion = cum_buyers_a.merge(right=cum_buyers_b,\n",
    "                                        how='left',\n",
    "                                        left_on='date',\n",
    "                                        right_on='date',\n",
    "                                        suffixes=['A','B'])\n",
    "merge_cum_conversion['cum_conversion_diff'] = merge_cum_conversion['conversionB'] / merge_cum_conversion['conversionA'] - 1"
   ],
   "metadata": {
    "collapsed": false,
    "pycharm": {
     "name": "#%%\n"
    }
   }
  },
  {
   "cell_type": "code",
   "execution_count": null,
   "outputs": [],
   "source": [
    "fig = px.line(data_frame=merge_cum_conversion,\n",
    "              x='date',\n",
    "              y='cum_conversion_diff',\n",
    "              template='seaborn',\n",
    "              labels={'cum_conversion_diff':'Конверсия',\n",
    "                      'date':'Дата'},\n",
    "              title='Относительное изменение конверсии группы B')\n",
    "fig.add_shape(type='line',\n",
    "              line_color='salmon',\n",
    "              x0=merge_cum_revenue['date'].min(),\n",
    "              x1=merge_cum_revenue['date'].max(),\n",
    "              y0=0,\n",
    "              y1=0,\n",
    "              line_width=3)\n",
    "fig.show()"
   ],
   "metadata": {
    "collapsed": false,
    "pycharm": {
     "name": "#%%\n"
    }
   }
  },
  {
   "cell_type": "markdown",
   "source": [
    "## Итоги анализа графика изменения кумулятивной конверсии группы B относительно конверсии группы А ##\n",
    "1. на протяжении августа 2019 конверсия группы B выше конверсии группы A\n",
    "2. исключение составляет период 03.08.2019 - 05.08.2019"
   ],
   "metadata": {
    "collapsed": false,
    "pycharm": {
     "name": "#%% md\n"
    }
   }
  },
  {
   "cell_type": "markdown",
   "source": [
    "<div class=\"alert alert-success\">\n",
    "<font size=\"4\">👍 <b>Комментарий ревьюера</b></font>\n",
    "    \n",
    "Повторюсь, хорошая визуализация, а анализируем мы в данном случае кумулятивную конверсию."
   ],
   "metadata": {
    "collapsed": false,
    "pycharm": {
     "name": "#%% md\n"
    }
   }
  },
  {
   "cell_type": "markdown",
   "source": [
    "<div class=\"alert alert-info\">\n",
    "<font size=\"4\"><b>Комментарий студента</b></font>\n",
    "Исправил.\n",
    "Добавил.\n",
    "</div>"
   ],
   "metadata": {
    "collapsed": false,
    "pycharm": {
     "name": "#%% md\n"
    }
   }
  },
  {
   "cell_type": "markdown",
   "source": [
    "<a id='abtest_orders_by_users'></a>\n",
    "## Распределение количества заказов пользователей ##"
   ],
   "metadata": {
    "collapsed": false,
    "pycharm": {
     "name": "#%% md\n"
    }
   }
  },
  {
   "cell_type": "code",
   "execution_count": null,
   "outputs": [],
   "source": [
    "orders_by_users = orders.groupby(by=['visitor_id'], as_index=False)\\\n",
    "    .agg({'transaction_id':pd.Series.nunique})\n",
    "orders_by_users.columns = ['visitor_id', 'orders']"
   ],
   "metadata": {
    "collapsed": false,
    "pycharm": {
     "name": "#%%\n"
    }
   }
  },
  {
   "cell_type": "code",
   "execution_count": null,
   "outputs": [],
   "source": [
    "fig = px.scatter(data_frame=orders_by_users,\n",
    "                 x=range(0, len(orders_by_users)),\n",
    "                 y='orders',\n",
    "                 template='seaborn',\n",
    "                 title='Распределение количества заказов пользователей',\n",
    "                 labels={'orders':'Кол-во заказов',\n",
    "                         'x':'Кол-во пользователей'})\n",
    "fig.show()"
   ],
   "metadata": {
    "collapsed": false,
    "pycharm": {
     "name": "#%%\n"
    }
   }
  },
  {
   "cell_type": "code",
   "execution_count": null,
   "outputs": [],
   "source": [
    "print(np.percentile(orders_by_users['orders'], [95, 99]))"
   ],
   "metadata": {
    "collapsed": false,
    "pycharm": {
     "name": "#%%\n"
    }
   }
  },
  {
   "cell_type": "markdown",
   "source": [
    "## Итоги анализа распределения количества заказов пользователей ##\n",
    "1. 5% пользователей сделали более 2 заказов\n",
    "2. 1% пользователей сделали более 4 заказов"
   ],
   "metadata": {
    "collapsed": false,
    "pycharm": {
     "name": "#%% md\n"
    }
   }
  },
  {
   "cell_type": "markdown",
   "source": [
    "<div class=\"alert alert-warning\">\n",
    "<font size=\"4\">📝 <b>Комментарий ревьюера</b></font>\n",
    "    \n",
    "Отличная визуализация и верно рассчитанные перцентили. Но не хватает выводов о наличии аномалий в данных.</div>"
   ],
   "metadata": {
    "collapsed": false,
    "pycharm": {
     "name": "#%% md\n"
    }
   }
  },
  {
   "cell_type": "markdown",
   "source": [
    "<div class=\"alert alert-info\">\n",
    "<font size=\"4\"><b>Комментарий студента</b></font>\n",
    "Выводы о наличии аномалий приведены ниже.\n",
    "</div>"
   ],
   "metadata": {
    "collapsed": false,
    "pycharm": {
     "name": "#%% md\n"
    }
   }
  },
  {
   "cell_type": "markdown",
   "source": [
    "<a id='abtest_revenue_by_orders'></a>\n",
    "## Распределение стоимости заказов пользователей ##"
   ],
   "metadata": {
    "collapsed": false,
    "pycharm": {
     "name": "#%% md\n"
    }
   }
  },
  {
   "cell_type": "code",
   "execution_count": null,
   "outputs": [],
   "source": [
    "fig = px.scatter(data_frame=orders,\n",
    "                 x=range(0, len(orders['revenue'])),\n",
    "                 y='revenue',\n",
    "                 template='seaborn',\n",
    "                 title='Распределение суммы заказов пользователей',\n",
    "                 labels={'revenue':'Сумма заказа',\n",
    "                         'x':'Кол-во заказов'})\n",
    "fig.show()"
   ],
   "metadata": {
    "collapsed": false,
    "pycharm": {
     "name": "#%%\n"
    }
   }
  },
  {
   "cell_type": "code",
   "execution_count": null,
   "outputs": [],
   "source": [
    "print(np.percentile(orders['revenue'], [95,99]))"
   ],
   "metadata": {
    "collapsed": false,
    "pycharm": {
     "name": "#%%\n"
    }
   }
  },
  {
   "cell_type": "markdown",
   "source": [
    "## Итоги анализа распределения суммы заказов пользователей ##\n",
    "1. 5% пользователей сделали заказ на сумму более 28 тыс. руб.\n",
    "2. 1% пользователей сделали заказ на сумму более 58 тыс. руб.\n",
    "3. для дальнейшего исследования будем считать аномальными заказы сумма которых превышает 58 тыс. руб."
   ],
   "metadata": {
    "collapsed": false,
    "pycharm": {
     "name": "#%% md\n"
    }
   }
  },
  {
   "cell_type": "markdown",
   "source": [
    "<div class=\"alert alert-success\">\n",
    "<font size=\"4\">👍 <b>Комментарий ревьюера</b></font>\n",
    "    \n",
    "Хорошая визуализация и корректные расчеты перцентилей. Аномальные значения ты определил — можно переходить к проверке гипотез.</div>"
   ],
   "metadata": {
    "collapsed": false,
    "pycharm": {
     "name": "#%% md\n"
    }
   }
  },
  {
   "cell_type": "markdown",
   "source": [
    "<a id='abtest_stat_norm'></a>\n",
    "## Проверка нормальности распределения данных групп ##"
   ],
   "metadata": {
    "collapsed": false,
    "pycharm": {
     "name": "#%% md\n"
    }
   }
  },
  {
   "cell_type": "markdown",
   "source": [
    "<a id='abtest_stat_norm_conv_a'></a>\n",
    "### Проверка нормальности распределения кумулятивной конверсии группы А ###\n",
    "$H_0:$ кумулятивная конверсия группы А распределена нормально\n",
    "$H_1:$ кумулятивная конверсия группы А распределена ненормально\n",
    "Уровень статистической значимости: 0.05"
   ],
   "metadata": {
    "collapsed": false,
    "pycharm": {
     "name": "#%% md\n"
    }
   }
  },
  {
   "cell_type": "code",
   "execution_count": null,
   "outputs": [],
   "source": [
    "alpha = 0.05  # критический уровень статистической значимости\n",
    "\n",
    "results = st.shapiro(merge_cum_conversion['conversionA'])\n",
    "p_value = results.pvalue\n",
    "\n",
    "print(f'p-значение: {p_value :0.5%}')\n",
    "\n",
    "if p_value < alpha:\n",
    "    print('Отвергаем нулевую гипотезу: распределение не нормально')\n",
    "else:\n",
    "    print('Не получилось отвергнуть нулевую гипотезу, всё нормально')"
   ],
   "metadata": {
    "collapsed": false,
    "pycharm": {
     "name": "#%%\n"
    }
   }
  },
  {
   "cell_type": "markdown",
   "source": [
    "<a id = 'abtest_stat_norm_conv_b'></a>\n",
    "### Проверка нормальности распределения кумулятивной конверсии группы B ###\n",
    "$H_0:$ кумулятивная конверсия группы B распределена нормально\n",
    "$H_1:$ кумулятивная конверсия группы B распределена ненормально\n",
    "Уровень статистической значимости: 0.05"
   ],
   "metadata": {
    "collapsed": false,
    "pycharm": {
     "name": "#%% md\n"
    }
   }
  },
  {
   "cell_type": "code",
   "execution_count": null,
   "outputs": [],
   "source": [
    "\n",
    "alpha = 0.05  # критический уровень статистической значимости\n",
    "\n",
    "results = st.shapiro(merge_cum_conversion['conversionB'])\n",
    "p_value = results.pvalue\n",
    "\n",
    "print(f'p-значение: {p_value :0.5%}')\n",
    "\n",
    "if p_value < alpha:\n",
    "    print('Отвергаем нулевую гипотезу: распределение не нормально')\n",
    "else:\n",
    "    print('Не получилось отвергнуть нулевую гипотезу, всё нормально')"
   ],
   "metadata": {
    "collapsed": false,
    "pycharm": {
     "name": "#%%\n"
    }
   }
  },
  {
   "cell_type": "markdown",
   "source": [
    "<a id='abtest_stat_norm_reciept_a'></a>\n",
    "### Проверка нормальности распределения кумулятивной средней суммы чека группы A ###\n",
    "$H_0:$ кумулятивная средняя сумма чека группы А распределена нормально\n",
    "$H_1:$ кумулятивная средняя сумма чека группы А распределена ненормально\n",
    "Уровень статистической значимости: 0.05"
   ],
   "metadata": {
    "collapsed": false,
    "pycharm": {
     "name": "#%% md\n"
    }
   }
  },
  {
   "cell_type": "code",
   "execution_count": null,
   "outputs": [],
   "source": [
    "alpha = 0.05  # критический уровень статистической значимости\n",
    "\n",
    "results = st.shapiro(merge_cum_revenue['revenueA'])\n",
    "p_value = results.pvalue\n",
    "\n",
    "print(f'p-значение: {p_value :0.5%}')\n",
    "\n",
    "if p_value < alpha:\n",
    "    print('Отвергаем нулевую гипотезу: распределение не нормально')\n",
    "else:\n",
    "    print('Не получилось отвергнуть нулевую гипотезу, всё нормально')"
   ],
   "metadata": {
    "collapsed": false,
    "pycharm": {
     "name": "#%%\n"
    }
   }
  },
  {
   "cell_type": "markdown",
   "source": [
    "<a id='abtest_stat_norm_reciept_b'></a>\n",
    "### Проверка нормальности распределения кумулятивной средней суммы чека группы B ###\n",
    "$H_0:$ кумулятивная средняя сумма чека группы B распределена нормально\n",
    "$H_1:$ кумулятивная средняя сумма чека группы B распределена ненормально\n",
    "Уровень статистической значимости: 0.05"
   ],
   "metadata": {
    "collapsed": false,
    "pycharm": {
     "name": "#%% md\n"
    }
   }
  },
  {
   "cell_type": "code",
   "execution_count": null,
   "outputs": [],
   "source": [
    "alpha = 0.05  # критический уровень статистической значимости\n",
    "\n",
    "results = st.shapiro(merge_cum_revenue['revenueB'])\n",
    "p_value = results.pvalue\n",
    "\n",
    "print(f'p-значение: {p_value :0.5%}')\n",
    "\n",
    "if p_value < alpha:\n",
    "    print('Отвергаем нулевую гипотезу: распределение не нормально')\n",
    "else:\n",
    "    print('Не получилось отвергнуть нулевую гипотезу, всё нормально')"
   ],
   "metadata": {
    "collapsed": false,
    "pycharm": {
     "name": "#%%\n"
    }
   }
  },
  {
   "cell_type": "markdown",
   "source": [
    "## Итоги проверки нормальности распределения данных групп ##\n",
    "1. распределение кумулятивной конверсии группы А ненормально\n",
    "2. распределение кумулятивной средней суммы чека группы B ненормально\n",
    "3. для дальнейшего анализа различия конверсии групп необходимо использовать критерий Уилкоксона-Манна-Уитни\n",
    "4. для дальнейшего анализа различия средней суммы чека групп необходимо использовать критерий Уилкоксона-Манна-Уитни"
   ],
   "metadata": {
    "collapsed": false,
    "pycharm": {
     "name": "#%% md\n"
    }
   }
  },
  {
   "cell_type": "markdown",
   "source": [
    "<a id='abtest_prepare_data'></a>\n",
    "## Подготовка данных для теста Уилкоксона-Манна-Уитни ##"
   ],
   "metadata": {
    "collapsed": false,
    "pycharm": {
     "name": "#%% md\n"
    }
   }
  },
  {
   "cell_type": "markdown",
   "source": [
    "### Агрегированные данные пользователей группы А ###"
   ],
   "metadata": {
    "collapsed": false,
    "pycharm": {
     "name": "#%% md\n"
    }
   }
  },
  {
   "cell_type": "code",
   "execution_count": null,
   "outputs": [],
   "source": [
    "users_a = (orders[orders['group'] == 'A']\n",
    "                     .groupby('visitor_id', as_index=False)\n",
    "                     .agg({'transaction_id':pd.Series.nunique,\n",
    "                           'revenue':np.sum})\n",
    "                     )\n",
    "users_a.columns = ['user_id', 'orders', 'revenue']\n",
    "users_a['mean_reciept'] = users_a['revenue'] / users_a['orders']"
   ],
   "metadata": {
    "collapsed": false,
    "pycharm": {
     "name": "#%%\n"
    }
   }
  },
  {
   "cell_type": "markdown",
   "source": [
    "### Агрегированные данные пользователей группы B ###"
   ],
   "metadata": {
    "collapsed": false,
    "pycharm": {
     "name": "#%% md\n"
    }
   }
  },
  {
   "cell_type": "code",
   "execution_count": null,
   "outputs": [],
   "source": [
    "users_b = (orders[orders['group'] == 'B']\n",
    "                     .groupby('visitor_id', as_index=False)\n",
    "                     .agg({'transaction_id':pd.Series.nunique,\n",
    "                           'revenue':np.sum})\n",
    "                     )\n",
    "users_b.columns = ['user_id', 'orders', 'revenue']\n",
    "users_b['mean_reciept'] = users_b['revenue'] / users_b['orders']"
   ],
   "metadata": {
    "collapsed": false,
    "pycharm": {
     "name": "#%%\n"
    }
   }
  },
  {
   "cell_type": "markdown",
   "source": [
    "### Формирование данных для теста Уилкоксона-Манна-Уитни. Группа А ###"
   ],
   "metadata": {
    "collapsed": false,
    "pycharm": {
     "name": "#%% md\n"
    }
   }
  },
  {
   "cell_type": "code",
   "execution_count": null,
   "outputs": [],
   "source": [
    "sample_a = pd.concat(\n",
    "    [\n",
    "        users_a[['orders', 'revenue', 'mean_reciept']],\n",
    "        pd.DataFrame(data = {'orders':0,\n",
    "                             'revenue':0,\n",
    "                             'mean_reciept':0},\n",
    "                     index=np.arange(merge_cum_conversion['visitorsA'].sum() - len(users_a)))\n",
    "    ],\n",
    "    axis='index'\n",
    ")"
   ],
   "metadata": {
    "collapsed": false,
    "pycharm": {
     "name": "#%%\n"
    }
   }
  },
  {
   "cell_type": "markdown",
   "source": [
    "### Формирование данных для теста Уилкоксона-Манна-Уитни. Группа B ###"
   ],
   "metadata": {
    "collapsed": false,
    "pycharm": {
     "name": "#%% md\n"
    }
   }
  },
  {
   "cell_type": "code",
   "execution_count": null,
   "outputs": [],
   "source": [
    "sample_b = pd.concat(\n",
    "    [\n",
    "        users_b[['orders', 'revenue', 'mean_reciept']],\n",
    "        pd.DataFrame(data = {'orders':0,\n",
    "                             'revenue':0,\n",
    "                             'mean_reciept':0},\n",
    "                     index=np.arange(merge_cum_conversion['visitorsB'].sum() - len(users_b)))\n",
    "    ],\n",
    "    axis='index'\n",
    ")"
   ],
   "metadata": {
    "collapsed": false,
    "pycharm": {
     "name": "#%%\n"
    }
   }
  },
  {
   "cell_type": "markdown",
   "source": [
    "<div class=\"alert alert-success\">\n",
    "<font size=\"4\">👍 <b>Комментарий ревьюера</b></font>\n",
    "\n",
    "Ты делаешь верные расчеты. </div>"
   ],
   "metadata": {
    "collapsed": false,
    "pycharm": {
     "name": "#%% md\n"
    }
   }
  },
  {
   "cell_type": "markdown",
   "source": [
    "<a id='abtest_abnormal_users'></a>\n",
    "### Обработка выбросов ###"
   ],
   "metadata": {
    "collapsed": false,
    "pycharm": {
     "name": "#%% md\n"
    }
   }
  },
  {
   "cell_type": "markdown",
   "source": [
    "<a id='abtest_abnormal_users_99'></a>\n",
    "#### Список пользователей 99-процентиля ####"
   ],
   "metadata": {
    "collapsed": false,
    "pycharm": {
     "name": "#%% md\n"
    }
   }
  },
  {
   "cell_type": "code",
   "execution_count": null,
   "outputs": [],
   "source": [
    "abnormal_users_99 = pd.concat(\n",
    "    [\n",
    "        users_a\n",
    "        [\n",
    "            np.logical_or(\n",
    "                users_a['orders'] > np.percentile(orders_by_users['orders'], [99])[0],\n",
    "                users_a['revenue'] > np.percentile(orders['revenue'], [99])[0]\n",
    "                          )\n",
    "        ],\n",
    "        users_b\n",
    "        [\n",
    "            np.logical_or\n",
    "            (\n",
    "                users_b['orders'] > np.percentile(orders_by_users['orders'], [99])[0],\n",
    "                users_b['revenue'] > np.percentile(orders['revenue'], [99])[0]\n",
    "            )\n",
    "        ]\n",
    "    ],\n",
    "    axis='index'\n",
    ").drop_duplicates()"
   ],
   "metadata": {
    "collapsed": false,
    "pycharm": {
     "name": "#%%\n"
    }
   }
  },
  {
   "cell_type": "markdown",
   "source": [
    "<div class=\"alert alert-warning\">\n",
    "<font size=\"4\">📝 <b>Комментарий ревьюера</b></font>\n",
    "\n",
    "Лучше не прописывать значения перцентилей вручную — так тебе нужно будет каждый раз при изменении исходных данных править код. Гораздо удобнее использовать переменные или непосредственно вычислять перцентили. </div>"
   ],
   "metadata": {
    "collapsed": false,
    "pycharm": {
     "name": "#%% md\n"
    }
   }
  },
  {
   "cell_type": "markdown",
   "source": [
    "<div class=\"alert alert-info\">\n",
    "<font size=\"4\"><b>Комментарий студента</b></font>\n",
    "Исправлено.\n",
    "</div>"
   ],
   "metadata": {
    "collapsed": false,
    "pycharm": {
     "name": "#%% md\n"
    }
   }
  },
  {
   "cell_type": "markdown",
   "source": [
    "<a id='abtest_abnormal_users_95'></a>\n",
    "#### Список пользователей 95-процентиля ####"
   ],
   "metadata": {
    "collapsed": false,
    "pycharm": {
     "name": "#%% md\n"
    }
   }
  },
  {
   "cell_type": "code",
   "execution_count": null,
   "outputs": [],
   "source": [
    "abnormal_users_95 = pd.concat(\n",
    "    [\n",
    "        users_a\n",
    "        [\n",
    "            np.logical_or(\n",
    "                users_a['orders'] > np.percentile(orders_by_users['orders'], [95])[0],\n",
    "                users_a['revenue'] > np.percentile(orders['revenue'], [95])[0]\n",
    "                          )\n",
    "        ],\n",
    "        users_b\n",
    "        [\n",
    "            np.logical_or\n",
    "            (\n",
    "                users_b['orders'] > np.percentile(orders_by_users['orders'], [95])[0],\n",
    "                users_b['revenue'] > np.percentile(orders['revenue'], [95])[0]\n",
    "            )\n",
    "        ]\n",
    "    ],\n",
    "    axis='index'\n",
    ").drop_duplicates()"
   ],
   "metadata": {
    "collapsed": false,
    "pycharm": {
     "name": "#%%\n"
    }
   }
  },
  {
   "cell_type": "markdown",
   "source": [
    "<a id='abtest_abnormal_users_99_del'></a>\n",
    "#### Удаление пользователей 99-процентиля ####"
   ],
   "metadata": {
    "collapsed": false,
    "pycharm": {
     "name": "#%% md\n"
    }
   }
  },
  {
   "cell_type": "code",
   "execution_count": null,
   "outputs": [],
   "source": [
    "users_a_filtered_99 = pd.concat(\n",
    "    [\n",
    "        users_a[np.logical_not(users_a['user_id'].isin(abnormal_users_99['user_id']))][['orders', 'revenue', 'mean_reciept']],\n",
    "        pd.DataFrame(data = {'orders':0,\n",
    "                             'revenue':0,\n",
    "                             'mean_reciept':0},\n",
    "                     index=np.arange(merge_cum_conversion['visitorsA'].sum() - len(users_a)))\n",
    "    ],\n",
    "    axis='index'\n",
    ")\n",
    "\n",
    "users_b_filtered_99 = pd.concat(\n",
    "    [\n",
    "        users_b[np.logical_not(users_b['user_id'].isin(abnormal_users_99['user_id']))][['orders', 'revenue', 'mean_reciept']],\n",
    "        pd.DataFrame(data = {'orders':0,\n",
    "                             'revenue':0,\n",
    "                             'mean_reciept':0},\n",
    "                     index=np.arange(merge_cum_conversion['visitorsB'].sum() - len(users_b)))\n",
    "    ],\n",
    "    axis='index'\n",
    ")"
   ],
   "metadata": {
    "collapsed": false,
    "pycharm": {
     "name": "#%%\n"
    }
   }
  },
  {
   "cell_type": "markdown",
   "source": [
    "<a id='abtest_abnormal_users_95_del'></a>\n",
    "#### Удаление пользователей 95-процентиля ####"
   ],
   "metadata": {
    "collapsed": false,
    "pycharm": {
     "name": "#%% md\n"
    }
   }
  },
  {
   "cell_type": "code",
   "execution_count": null,
   "outputs": [],
   "source": [
    "users_a_filtered_95 = pd.concat(\n",
    "    [\n",
    "        users_a[np.logical_not(users_a['user_id'].isin(abnormal_users_95['user_id']))][['orders', 'revenue', 'mean_reciept']],\n",
    "        pd.DataFrame(data = {'orders':0,\n",
    "                             'revenue':0,\n",
    "                             'mean_reciept':0},\n",
    "                     index=np.arange(merge_cum_conversion['visitorsA'].sum() - len(users_a)))\n",
    "    ],\n",
    "    axis='index'\n",
    ")\n",
    "\n",
    "users_b_filtered_95 = pd.concat(\n",
    "    [\n",
    "        users_b[np.logical_not(users_b['user_id'].isin(abnormal_users_95['user_id']))][['orders', 'revenue', 'mean_reciept']],\n",
    "        pd.DataFrame(data = {'orders':0,\n",
    "                             'revenue':0,\n",
    "                             'mean_reciept':0},\n",
    "                     index=np.arange(merge_cum_conversion['visitorsB'].sum() - len(users_b)))\n",
    "    ],\n",
    "    axis='index'\n",
    ")\n"
   ],
   "metadata": {
    "collapsed": false,
    "pycharm": {
     "name": "#%%\n"
    }
   }
  },
  {
   "cell_type": "markdown",
   "source": [
    "<div class=\"alert alert-danger\">\n",
    "<font size=\"4\">❌ <b>Комментарий ревьюера</b></font>\n",
    "\n",
    "Перед проведением тестов важно сформулировать нулевую и альтернативную гипотезы. Ты можешь их сформулировать в общем виде или же конкретно для каждой проверки. Но важно, чтобы они были. Это позволяет произвести полный анализ: от гипотезы к выводам. И в рамках обучения мне важно увидеть, что у тебя с этим нет проблем. И не забудь зафиксировать уровень стат. значимости.</div>"
   ],
   "metadata": {
    "collapsed": false,
    "pycharm": {
     "name": "#%% md\n"
    }
   }
  },
  {
   "cell_type": "markdown",
   "source": [
    "<div class=\"alert alert-info\">\n",
    "<font size=\"4\"><b>Комментарий студента</b></font>\n",
    "Добавлено ниже.\n",
    "</div>"
   ],
   "metadata": {
    "collapsed": false,
    "pycharm": {
     "name": "#%% md\n"
    }
   }
  },
  {
   "cell_type": "markdown",
   "source": [
    "<a id='abtest_stat_conv'></a>\n",
    "## Анализ различия конверсии групп ##\n",
    "$H_0:$ конверсия групп одинакова\n",
    "$H_1:$ конверсия групп различается\n",
    "Уровень статистической значимости: 0.05"
   ],
   "metadata": {
    "collapsed": false,
    "pycharm": {
     "name": "#%% md\n"
    }
   }
  },
  {
   "cell_type": "markdown",
   "source": [
    "<a id='abtest_stat_conv_raw'></a>\n",
    "### Анализ различия конверсии групп. Сырые данные ###"
   ],
   "metadata": {
    "collapsed": false,
    "pycharm": {
     "name": "#%% md\n"
    }
   }
  },
  {
   "cell_type": "code",
   "execution_count": null,
   "outputs": [],
   "source": [
    "alpha = 0.05\n",
    "p_value = st.mannwhitneyu(sample_a[\"orders\"], sample_b[\"orders\"]).pvalue\n",
    "print(f'p_value: {p_value :0.3%}')\n",
    "if p_value < alpha:\n",
    "    print('Отвергаем нулевую гипотезу: разница статистически значима')\n",
    "else:\n",
    "    print('Не получилось отвергнуть нулевую гипотезу, вывод о различии сделать нельзя')\n",
    "\n",
    "print(f'Относительное значение конверсии группы B: {sample_b[\"orders\"].mean() / sample_a[\"orders\"].mean() - 1 :.3%}')"
   ],
   "metadata": {
    "collapsed": false,
    "pycharm": {
     "name": "#%%\n"
    }
   }
  },
  {
   "cell_type": "markdown",
   "source": [
    "<div class=\"alert alert-danger\">\n",
    "<font size=\"4\">❌ <b>Комментарий ревьюера</b></font>\n",
    "\n",
    "Ты делаешь верные расчеты, но здесь также важно зафиксировать промежуточные выводы по проведенному стат. тесту о том удалось ли тебе отвергнуть нулевую гипотезу или нет, есть ли между величинами стат. значимые различия.</div>"
   ],
   "metadata": {
    "collapsed": false,
    "pycharm": {
     "name": "#%% md\n"
    }
   }
  },
  {
   "cell_type": "markdown",
   "source": [
    "<div class=\"alert alert-info\">\n",
    "<font size=\"4\"><b>Комментарий студента</b></font>\n",
    "Оформлено ниже в виде промежуточного вывода.\n",
    "</div>"
   ],
   "metadata": {
    "collapsed": false,
    "pycharm": {
     "name": "#%% md\n"
    }
   }
  },
  {
   "cell_type": "markdown",
   "source": [
    "<a id='abtest_stat_conv_99'></a>\n",
    "### Анализ различия конверсии групп. 99% пользователей ###"
   ],
   "metadata": {
    "collapsed": false,
    "pycharm": {
     "name": "#%% md\n"
    }
   }
  },
  {
   "cell_type": "code",
   "execution_count": null,
   "outputs": [],
   "source": [
    "alpha = 0.05\n",
    "p_value = st.mannwhitneyu(users_a_filtered_99[\"orders\"], users_b_filtered_99[\"orders\"]).pvalue\n",
    "print(f'p_value: {p_value :0.3%}')\n",
    "if p_value < alpha:\n",
    "    print('Отвергаем нулевую гипотезу: разница статистически значима')\n",
    "else:\n",
    "    print('Не получилось отвергнуть нулевую гипотезу, вывод о различии сделать нельзя')\n",
    "\n",
    "print(f'Относительное значение конверсии группы B: {users_b_filtered_99[\"orders\"].mean() / users_a_filtered_99[\"orders\"].mean() - 1 :.3%}')"
   ],
   "metadata": {
    "collapsed": false,
    "pycharm": {
     "name": "#%%\n"
    }
   }
  },
  {
   "cell_type": "markdown",
   "source": [
    "<a id='abtest_stat_conv_95'></a>\n",
    "### Анализ различия конверсии групп. 95% пользователей ###"
   ],
   "metadata": {
    "collapsed": false,
    "pycharm": {
     "name": "#%% md\n"
    }
   }
  },
  {
   "cell_type": "code",
   "execution_count": null,
   "outputs": [],
   "source": [
    "alpha = 0.05\n",
    "p_value = st.mannwhitneyu(users_a_filtered_95[\"orders\"], users_b_filtered_95[\"orders\"]).pvalue\n",
    "print(f'p_value: {p_value :0.3%}')\n",
    "if p_value < alpha:\n",
    "    print('Отвергаем нулевую гипотезу: разница статистически значима')\n",
    "else:\n",
    "    print('Не получилось отвергнуть нулевую гипотезу, вывод о различии сделать нельзя')\n",
    "\n",
    "print(f'Относительное значение конверсии группы B: {users_b_filtered_95[\"orders\"].mean() / users_a_filtered_95[\"orders\"].mean() - 1 :.3%}')"
   ],
   "metadata": {
    "collapsed": false,
    "pycharm": {
     "name": "#%%\n"
    }
   }
  },
  {
   "cell_type": "markdown",
   "source": [
    "## Итоги анализа различия конверсии групп ##\n",
    "1. Различие конверсии групп статистически значимо на сырых и очищенных данных.\n",
    "   Рост средней конверсии группы B составил:\n",
    "   - сырые данные: 14.37%\n",
    "   - 99% пользоватлей: 16.475%\n",
    "   - 95% пользователей: 18.803%"
   ],
   "metadata": {
    "collapsed": false,
    "pycharm": {
     "name": "#%% md\n"
    }
   }
  },
  {
   "cell_type": "markdown",
   "source": [
    "<div class=\"alert alert-success\">\n",
    "<font size=\"4\">👍 <b>Комментарий ревьюера</b></font>\n",
    "\n",
    "Молодец, что пробуешь разные варианты фильтрации данных, хотя вполне достаточно было взять 95-й перцентиль.</div>"
   ],
   "metadata": {
    "collapsed": false,
    "pycharm": {
     "name": "#%% md\n"
    }
   }
  },
  {
   "cell_type": "markdown",
   "source": [
    "<div class=\"alert alert-danger\">\n",
    "<font size=\"4\">❌ <b>Комментарий ревьюера</b></font>\n",
    "\n",
    "Не хватает формулировки выводов по результатам стат. тестов на очищенных данных.</div>"
   ],
   "metadata": {
    "collapsed": false,
    "pycharm": {
     "name": "#%% md\n"
    }
   }
  },
  {
   "cell_type": "markdown",
   "source": [
    "<div class=\"alert alert-info\">\n",
    "<font size=\"4\"><b>Комментарий студента</b></font>\n",
    "Добавлено.\n",
    "</div>"
   ],
   "metadata": {
    "collapsed": false,
    "pycharm": {
     "name": "#%% md\n"
    }
   }
  },
  {
   "cell_type": "markdown",
   "source": [
    "<a id='abtest_stat_reciept'></a>\n",
    "## Анализ различия суммы чека групп ##\n",
    "$H_0:$ сумма чека групп одинакова\n",
    "$H_1:$ сумма чека групп различается\n",
    "Уровень статистической значимости: 0.05"
   ],
   "metadata": {
    "collapsed": false,
    "pycharm": {
     "name": "#%% md\n"
    }
   }
  },
  {
   "cell_type": "markdown",
   "source": [
    "<a id='abtest_stat_reciept_raw'></a>\n",
    "### Анализ различия суммы чека групп. Сырые данные ###"
   ],
   "metadata": {
    "collapsed": false,
    "pycharm": {
     "name": "#%% md\n"
    }
   }
  },
  {
   "cell_type": "code",
   "execution_count": null,
   "outputs": [],
   "source": [
    "alpha = 0.05\n",
    "p_value = st.mannwhitneyu(sample_a[\"revenue\"], sample_b[\"revenue\"]).pvalue\n",
    "print(f'p_value: {p_value :0.3%}')\n",
    "if p_value < alpha:\n",
    "    print('Отвергаем нулевую гипотезу: разница статистически значима')\n",
    "else:\n",
    "    print('Не получилось отвергнуть нулевую гипотезу, вывод о различии сделать нельзя')\n",
    "\n",
    "print(f'Относительное значение суммы чека группы B: {sample_b[\"revenue\"].mean() / sample_a[\"revenue\"].mean() - 1 :.3%}')"
   ],
   "metadata": {
    "collapsed": false,
    "pycharm": {
     "name": "#%%\n"
    }
   }
  },
  {
   "cell_type": "markdown",
   "source": [
    "<div class=\"alert alert-danger\">\n",
    "<font size=\"4\">❌ <b>Комментарий ревьюера</b></font>\n",
    "\n",
    "В данном случае речь идет о среднем чеке выборки заказов, а не о выборке из средних чеков пользователей. И добавь, пожалуйста, вывод.</div>"
   ],
   "metadata": {
    "collapsed": false,
    "pycharm": {
     "name": "#%% md\n"
    }
   }
  },
  {
   "cell_type": "markdown",
   "source": [
    "<a id='abtest_stat_reciept_99'></a>\n",
    "### Анализ различия суммы чека групп. 99% пользователей ###"
   ],
   "metadata": {
    "collapsed": false,
    "pycharm": {
     "name": "#%% md\n"
    }
   }
  },
  {
   "cell_type": "code",
   "execution_count": null,
   "outputs": [],
   "source": [
    "alpha = 0.05\n",
    "p_value = st.mannwhitneyu(users_a_filtered_99[\"revenue\"], users_b_filtered_99[\"revenue\"]).pvalue\n",
    "print(f'p_value: {p_value :0.3%}')\n",
    "if p_value < alpha:\n",
    "    print('Отвергаем нулевую гипотезу: разница статистически значима')\n",
    "else:\n",
    "    print('Не получилось отвергнуть нулевую гипотезу, вывод о различии сделать нельзя')\n",
    "\n",
    "print(f'Относительное значение суммы чека группы B: {users_b_filtered_99[\"revenue\"].mean() / users_a_filtered_99[\"revenue\"].mean() - 1 :.3%}')"
   ],
   "metadata": {
    "collapsed": false,
    "pycharm": {
     "name": "#%%\n"
    }
   }
  },
  {
   "cell_type": "markdown",
   "source": [
    "<a id='abtest_stat_reciept_95'></a>\n",
    "### Анализ различия суммы чека групп. 95% пользователей ###"
   ],
   "metadata": {
    "collapsed": false,
    "pycharm": {
     "name": "#%% md\n"
    }
   }
  },
  {
   "cell_type": "code",
   "execution_count": null,
   "outputs": [],
   "source": [
    "alpha = 0.05\n",
    "p_value = st.mannwhitneyu(users_a_filtered_95[\"revenue\"], users_b_filtered_95[\"revenue\"]).pvalue\n",
    "print(f'p_value: {p_value :0.3%}')\n",
    "if p_value < alpha:\n",
    "    print('Отвергаем нулевую гипотезу: разница статистически значима')\n",
    "else:\n",
    "    print('Не получилось отвергнуть нулевую гипотезу, вывод о различии сделать нельзя')\n",
    "\n",
    "print(f'Относительное значение суммы чека группы B: {users_b_filtered_95[\"revenue\"].mean() / users_a_filtered_95[\"revenue\"].mean() - 1 :.3%}')"
   ],
   "metadata": {
    "collapsed": false,
    "pycharm": {
     "name": "#%%\n"
    }
   }
  },
  {
   "cell_type": "markdown",
   "source": [
    "## Итоги анализа различия суммы чеков групп ##\n",
    "1. Различие в сумме чеков групп статистически значимо на сырых и очищенных данных.\n",
    "   Рост средней суммы чека группы B составил:\n",
    "   - сырые данные: 43.959%%\n",
    "   - 99% пользоватлей: 18.984%\n",
    "   - 95% пользователей: 17.283%"
   ],
   "metadata": {
    "collapsed": false,
    "pycharm": {
     "name": "#%% md\n"
    }
   }
  },
  {
   "cell_type": "markdown",
   "source": [
    "<div class=\"alert alert-danger\">\n",
    "<font size=\"4\">❌ <b>Комментарий ревьюера</b></font>\n",
    "\n",
    "Здесь тоже нужно использовать выборки стоимости заказов. И также не хватает промежуточных выводов.</div>"
   ],
   "metadata": {
    "collapsed": false,
    "pycharm": {
     "name": "#%% md\n"
    }
   }
  },
  {
   "cell_type": "markdown",
   "source": [
    "<div class=\"alert alert-info\">\n",
    "<font size=\"4\"><b>Комментарий студента</b></font>\n",
    "Добавлено.\n",
    "</div>"
   ],
   "metadata": {
    "collapsed": false,
    "pycharm": {
     "name": "#%% md\n"
    }
   }
  },
  {
   "cell_type": "markdown",
   "source": [
    "<a id='summary'></a>\n",
    "# Вывод #\n",
    "Основываясь на результатах проведенного исследования признать сделанные изменения успешными и остановить тестирование.\n",
    "Относительное увеличение конверсии составило: 18.8%\n",
    "Относительное увеличение средней суммы чека составило: 17.283%\n"
   ],
   "metadata": {
    "collapsed": false,
    "pycharm": {
     "name": "#%% md\n"
    }
   }
  },
  {
   "cell_type": "markdown",
   "metadata": {
    "pycharm": {
     "name": "#%% md\n"
    }
   },
   "source": [
    "<div class=\"alert alert-danger\">\n",
    "<font size=\"4\">❌ <b>Комментарий ревьюера</b></font>\n",
    "\n",
    "Сформулируй, пожалуйста, промежуточные выводы по каждому проведенному тобой стат. тесту и затем переходи к принятию решения.</div>"
   ]
  },
  {
   "cell_type": "markdown",
   "source": [
    "<div class=\"alert alert-info\">\n",
    "<font size=\"4\"><b>Комментарий студента</b></font>\n",
    "Исправлено.\n",
    "</div>"
   ],
   "metadata": {
    "collapsed": false,
    "pycharm": {
     "name": "#%% md\n"
    }
   }
  }
 ],
 "metadata": {
  "ExecuteTimeLog": [
   {
    "duration": 559,
    "start_time": "2022-03-28T17:10:39.985Z"
   },
   {
    "duration": 0,
    "start_time": "2022-03-28T17:10:40.548Z"
   },
   {
    "duration": 0,
    "start_time": "2022-03-28T17:10:40.550Z"
   },
   {
    "duration": 0,
    "start_time": "2022-03-28T17:10:40.551Z"
   },
   {
    "duration": 0,
    "start_time": "2022-03-28T17:10:40.552Z"
   },
   {
    "duration": 0,
    "start_time": "2022-03-28T17:10:40.553Z"
   },
   {
    "duration": 0,
    "start_time": "2022-03-28T17:10:40.554Z"
   },
   {
    "duration": 0,
    "start_time": "2022-03-28T17:10:40.556Z"
   },
   {
    "duration": 0,
    "start_time": "2022-03-28T17:10:40.557Z"
   },
   {
    "duration": 0,
    "start_time": "2022-03-28T17:10:40.558Z"
   },
   {
    "duration": 0,
    "start_time": "2022-03-28T17:10:40.559Z"
   },
   {
    "duration": 0,
    "start_time": "2022-03-28T17:10:40.560Z"
   },
   {
    "duration": 0,
    "start_time": "2022-03-28T17:10:40.561Z"
   },
   {
    "duration": 0,
    "start_time": "2022-03-28T17:10:40.562Z"
   },
   {
    "duration": 0,
    "start_time": "2022-03-28T17:10:40.563Z"
   },
   {
    "duration": 0,
    "start_time": "2022-03-28T17:10:40.564Z"
   },
   {
    "duration": 0,
    "start_time": "2022-03-28T17:10:40.566Z"
   },
   {
    "duration": 0,
    "start_time": "2022-03-28T17:10:40.567Z"
   },
   {
    "duration": 0,
    "start_time": "2022-03-28T17:10:40.568Z"
   },
   {
    "duration": 0,
    "start_time": "2022-03-28T17:10:40.569Z"
   },
   {
    "duration": 0,
    "start_time": "2022-03-28T17:10:40.570Z"
   },
   {
    "duration": 0,
    "start_time": "2022-03-28T17:10:40.571Z"
   },
   {
    "duration": 0,
    "start_time": "2022-03-28T17:10:40.573Z"
   },
   {
    "duration": 0,
    "start_time": "2022-03-28T17:10:40.574Z"
   },
   {
    "duration": 0,
    "start_time": "2022-03-28T17:10:40.576Z"
   },
   {
    "duration": 0,
    "start_time": "2022-03-28T17:10:40.577Z"
   },
   {
    "duration": 0,
    "start_time": "2022-03-28T17:10:40.579Z"
   },
   {
    "duration": 0,
    "start_time": "2022-03-28T17:10:40.580Z"
   },
   {
    "duration": 0,
    "start_time": "2022-03-28T17:10:40.581Z"
   },
   {
    "duration": 0,
    "start_time": "2022-03-28T17:10:40.582Z"
   },
   {
    "duration": 0,
    "start_time": "2022-03-28T17:10:40.584Z"
   },
   {
    "duration": 0,
    "start_time": "2022-03-28T17:10:40.585Z"
   },
   {
    "duration": 0,
    "start_time": "2022-03-28T17:10:40.643Z"
   },
   {
    "duration": 0,
    "start_time": "2022-03-28T17:10:40.645Z"
   },
   {
    "duration": 0,
    "start_time": "2022-03-28T17:10:40.646Z"
   },
   {
    "duration": 0,
    "start_time": "2022-03-28T17:10:40.649Z"
   },
   {
    "duration": 0,
    "start_time": "2022-03-28T17:10:40.650Z"
   },
   {
    "duration": 0,
    "start_time": "2022-03-28T17:10:40.652Z"
   },
   {
    "duration": 0,
    "start_time": "2022-03-28T17:10:40.653Z"
   },
   {
    "duration": 0,
    "start_time": "2022-03-28T17:10:40.655Z"
   },
   {
    "duration": 0,
    "start_time": "2022-03-28T17:10:40.656Z"
   },
   {
    "duration": 0,
    "start_time": "2022-03-28T17:10:40.658Z"
   },
   {
    "duration": 0,
    "start_time": "2022-03-28T17:10:40.659Z"
   },
   {
    "duration": 0,
    "start_time": "2022-03-28T17:10:40.660Z"
   },
   {
    "duration": 0,
    "start_time": "2022-03-28T17:10:40.662Z"
   },
   {
    "duration": 70,
    "start_time": "2022-03-28T17:16:17.280Z"
   },
   {
    "duration": 608,
    "start_time": "2022-03-28T17:16:39.571Z"
   },
   {
    "duration": 1,
    "start_time": "2022-03-28T17:16:40.183Z"
   },
   {
    "duration": 0,
    "start_time": "2022-03-28T17:16:40.186Z"
   },
   {
    "duration": 0,
    "start_time": "2022-03-28T17:16:40.187Z"
   },
   {
    "duration": 0,
    "start_time": "2022-03-28T17:16:40.189Z"
   },
   {
    "duration": 0,
    "start_time": "2022-03-28T17:16:40.190Z"
   },
   {
    "duration": 0,
    "start_time": "2022-03-28T17:16:40.191Z"
   },
   {
    "duration": 0,
    "start_time": "2022-03-28T17:16:40.192Z"
   },
   {
    "duration": 0,
    "start_time": "2022-03-28T17:16:40.194Z"
   },
   {
    "duration": 0,
    "start_time": "2022-03-28T17:16:40.195Z"
   },
   {
    "duration": 0,
    "start_time": "2022-03-28T17:16:40.196Z"
   },
   {
    "duration": 0,
    "start_time": "2022-03-28T17:16:40.197Z"
   },
   {
    "duration": 0,
    "start_time": "2022-03-28T17:16:40.198Z"
   },
   {
    "duration": 0,
    "start_time": "2022-03-28T17:16:40.199Z"
   },
   {
    "duration": 0,
    "start_time": "2022-03-28T17:16:40.200Z"
   },
   {
    "duration": 0,
    "start_time": "2022-03-28T17:16:40.201Z"
   },
   {
    "duration": 0,
    "start_time": "2022-03-28T17:16:40.202Z"
   },
   {
    "duration": 0,
    "start_time": "2022-03-28T17:16:40.203Z"
   },
   {
    "duration": 0,
    "start_time": "2022-03-28T17:16:40.204Z"
   },
   {
    "duration": 0,
    "start_time": "2022-03-28T17:16:40.206Z"
   },
   {
    "duration": 0,
    "start_time": "2022-03-28T17:16:40.243Z"
   },
   {
    "duration": 0,
    "start_time": "2022-03-28T17:16:40.244Z"
   },
   {
    "duration": 0,
    "start_time": "2022-03-28T17:16:40.245Z"
   },
   {
    "duration": 0,
    "start_time": "2022-03-28T17:16:40.246Z"
   },
   {
    "duration": 0,
    "start_time": "2022-03-28T17:16:40.247Z"
   },
   {
    "duration": 0,
    "start_time": "2022-03-28T17:16:40.248Z"
   },
   {
    "duration": 0,
    "start_time": "2022-03-28T17:16:40.249Z"
   },
   {
    "duration": 0,
    "start_time": "2022-03-28T17:16:40.251Z"
   },
   {
    "duration": 0,
    "start_time": "2022-03-28T17:16:40.251Z"
   },
   {
    "duration": 0,
    "start_time": "2022-03-28T17:16:40.252Z"
   },
   {
    "duration": 0,
    "start_time": "2022-03-28T17:16:40.253Z"
   },
   {
    "duration": 0,
    "start_time": "2022-03-28T17:16:40.254Z"
   },
   {
    "duration": 0,
    "start_time": "2022-03-28T17:16:40.256Z"
   },
   {
    "duration": 0,
    "start_time": "2022-03-28T17:16:40.257Z"
   },
   {
    "duration": 0,
    "start_time": "2022-03-28T17:16:40.258Z"
   },
   {
    "duration": 0,
    "start_time": "2022-03-28T17:16:40.259Z"
   },
   {
    "duration": 0,
    "start_time": "2022-03-28T17:16:40.260Z"
   },
   {
    "duration": 0,
    "start_time": "2022-03-28T17:16:40.261Z"
   },
   {
    "duration": 0,
    "start_time": "2022-03-28T17:16:40.262Z"
   },
   {
    "duration": 0,
    "start_time": "2022-03-28T17:16:40.264Z"
   },
   {
    "duration": 0,
    "start_time": "2022-03-28T17:16:40.265Z"
   },
   {
    "duration": 0,
    "start_time": "2022-03-28T17:16:40.266Z"
   },
   {
    "duration": 0,
    "start_time": "2022-03-28T17:16:40.267Z"
   },
   {
    "duration": 0,
    "start_time": "2022-03-28T17:16:40.268Z"
   },
   {
    "duration": 0,
    "start_time": "2022-03-28T17:16:40.270Z"
   },
   {
    "duration": 12,
    "start_time": "2022-03-28T17:17:04.580Z"
   },
   {
    "duration": 11,
    "start_time": "2022-03-28T17:17:05.439Z"
   },
   {
    "duration": 1596,
    "start_time": "2022-03-28T17:17:30.265Z"
   },
   {
    "duration": 71,
    "start_time": "2022-03-28T17:17:31.865Z"
   },
   {
    "duration": 22,
    "start_time": "2022-03-28T17:17:31.939Z"
   },
   {
    "duration": 19,
    "start_time": "2022-03-28T17:17:31.965Z"
   },
   {
    "duration": 28,
    "start_time": "2022-03-28T17:17:31.987Z"
   },
   {
    "duration": 20,
    "start_time": "2022-03-28T17:17:32.043Z"
   },
   {
    "duration": 26,
    "start_time": "2022-03-28T17:17:32.066Z"
   },
   {
    "duration": 17,
    "start_time": "2022-03-28T17:17:32.095Z"
   },
   {
    "duration": 29,
    "start_time": "2022-03-28T17:17:32.114Z"
   },
   {
    "duration": 12,
    "start_time": "2022-03-28T17:17:32.148Z"
   },
   {
    "duration": 19,
    "start_time": "2022-03-28T17:17:32.163Z"
   },
   {
    "duration": 25,
    "start_time": "2022-03-28T17:17:32.185Z"
   },
   {
    "duration": 20,
    "start_time": "2022-03-28T17:17:32.212Z"
   },
   {
    "duration": 19,
    "start_time": "2022-03-28T17:17:32.243Z"
   },
   {
    "duration": 9,
    "start_time": "2022-03-28T17:17:32.265Z"
   },
   {
    "duration": 327,
    "start_time": "2022-03-28T17:17:32.276Z"
   },
   {
    "duration": 214,
    "start_time": "2022-03-28T17:17:32.606Z"
   },
   {
    "duration": 28,
    "start_time": "2022-03-28T17:17:32.822Z"
   },
   {
    "duration": 790,
    "start_time": "2022-03-28T17:17:32.852Z"
   },
   {
    "duration": 136,
    "start_time": "2022-03-28T17:17:33.644Z"
   },
   {
    "duration": 68,
    "start_time": "2022-03-28T17:17:33.782Z"
   },
   {
    "duration": 102,
    "start_time": "2022-03-28T17:17:33.852Z"
   },
   {
    "duration": 114,
    "start_time": "2022-03-28T17:17:33.956Z"
   },
   {
    "duration": 20,
    "start_time": "2022-03-28T17:17:34.072Z"
   },
   {
    "duration": 102,
    "start_time": "2022-03-28T17:17:34.095Z"
   },
   {
    "duration": 265,
    "start_time": "2022-03-28T17:17:34.200Z"
   },
   {
    "duration": 14,
    "start_time": "2022-03-28T17:17:34.468Z"
   },
   {
    "duration": 118,
    "start_time": "2022-03-28T17:17:34.489Z"
   },
   {
    "duration": 6,
    "start_time": "2022-03-28T17:17:34.609Z"
   },
   {
    "duration": 101,
    "start_time": "2022-03-28T17:17:34.617Z"
   },
   {
    "duration": 6,
    "start_time": "2022-03-28T17:17:34.720Z"
   },
   {
    "duration": 170,
    "start_time": "2022-03-28T17:17:34.728Z"
   },
   {
    "duration": 185,
    "start_time": "2022-03-28T17:17:34.900Z"
   },
   {
    "duration": 21,
    "start_time": "2022-03-28T17:17:35.087Z"
   },
   {
    "duration": 44,
    "start_time": "2022-03-28T17:17:35.110Z"
   },
   {
    "duration": 13,
    "start_time": "2022-03-28T17:17:35.156Z"
   },
   {
    "duration": 14,
    "start_time": "2022-03-28T17:17:35.172Z"
   },
   {
    "duration": 58,
    "start_time": "2022-03-28T17:17:35.189Z"
   },
   {
    "duration": 34,
    "start_time": "2022-03-28T17:17:35.249Z"
   },
   {
    "duration": 482,
    "start_time": "2022-03-28T17:17:35.286Z"
   },
   {
    "duration": 464,
    "start_time": "2022-03-28T17:17:35.771Z"
   },
   {
    "duration": 781,
    "start_time": "2022-03-28T17:17:36.244Z"
   },
   {
    "duration": 803,
    "start_time": "2022-03-28T17:17:37.028Z"
   },
   {
    "duration": 812,
    "start_time": "2022-03-28T17:17:37.834Z"
   },
   {
    "duration": 464,
    "start_time": "2022-03-28T17:17:38.649Z"
   },
   {
    "duration": 214,
    "start_time": "2022-03-28T17:21:53.889Z"
   },
   {
    "duration": 1158,
    "start_time": "2022-03-28T17:24:06.768Z"
   },
   {
    "duration": 68,
    "start_time": "2022-03-28T17:24:07.928Z"
   },
   {
    "duration": 22,
    "start_time": "2022-03-28T17:24:07.998Z"
   },
   {
    "duration": 15,
    "start_time": "2022-03-28T17:24:08.023Z"
   },
   {
    "duration": 23,
    "start_time": "2022-03-28T17:24:08.040Z"
   },
   {
    "duration": 15,
    "start_time": "2022-03-28T17:24:08.065Z"
   },
   {
    "duration": 14,
    "start_time": "2022-03-28T17:24:08.082Z"
   },
   {
    "duration": 45,
    "start_time": "2022-03-28T17:24:08.098Z"
   },
   {
    "duration": 8,
    "start_time": "2022-03-28T17:24:08.145Z"
   },
   {
    "duration": 8,
    "start_time": "2022-03-28T17:24:08.157Z"
   },
   {
    "duration": 9,
    "start_time": "2022-03-28T17:24:08.167Z"
   },
   {
    "duration": 21,
    "start_time": "2022-03-28T17:24:08.178Z"
   },
   {
    "duration": 15,
    "start_time": "2022-03-28T17:24:08.201Z"
   },
   {
    "duration": 18,
    "start_time": "2022-03-28T17:24:08.242Z"
   },
   {
    "duration": 9,
    "start_time": "2022-03-28T17:24:08.262Z"
   },
   {
    "duration": 325,
    "start_time": "2022-03-28T17:24:08.273Z"
   },
   {
    "duration": 220,
    "start_time": "2022-03-28T17:24:08.600Z"
   },
   {
    "duration": 26,
    "start_time": "2022-03-28T17:24:08.823Z"
   },
   {
    "duration": 670,
    "start_time": "2022-03-28T17:24:08.852Z"
   },
   {
    "duration": 161,
    "start_time": "2022-03-28T17:24:09.524Z"
   },
   {
    "duration": 62,
    "start_time": "2022-03-28T17:24:09.687Z"
   },
   {
    "duration": 109,
    "start_time": "2022-03-28T17:24:09.752Z"
   },
   {
    "duration": 101,
    "start_time": "2022-03-28T17:24:09.863Z"
   },
   {
    "duration": 18,
    "start_time": "2022-03-28T17:24:09.966Z"
   },
   {
    "duration": 101,
    "start_time": "2022-03-28T17:24:09.986Z"
   },
   {
    "duration": 275,
    "start_time": "2022-03-28T17:24:10.089Z"
   },
   {
    "duration": 13,
    "start_time": "2022-03-28T17:24:10.366Z"
   },
   {
    "duration": 109,
    "start_time": "2022-03-28T17:24:10.385Z"
   },
   {
    "duration": 6,
    "start_time": "2022-03-28T17:24:10.496Z"
   },
   {
    "duration": 107,
    "start_time": "2022-03-28T17:24:10.504Z"
   },
   {
    "duration": 6,
    "start_time": "2022-03-28T17:24:10.613Z"
   },
   {
    "duration": 147,
    "start_time": "2022-03-28T17:24:10.621Z"
   },
   {
    "duration": 178,
    "start_time": "2022-03-28T17:24:10.771Z"
   },
   {
    "duration": 19,
    "start_time": "2022-03-28T17:24:10.951Z"
   },
   {
    "duration": 19,
    "start_time": "2022-03-28T17:24:10.973Z"
   },
   {
    "duration": 18,
    "start_time": "2022-03-28T17:24:10.995Z"
   },
   {
    "duration": 29,
    "start_time": "2022-03-28T17:24:11.016Z"
   },
   {
    "duration": 52,
    "start_time": "2022-03-28T17:24:11.048Z"
   },
   {
    "duration": 33,
    "start_time": "2022-03-28T17:24:11.102Z"
   },
   {
    "duration": 452,
    "start_time": "2022-03-28T17:24:11.143Z"
   },
   {
    "duration": 460,
    "start_time": "2022-03-28T17:24:11.597Z"
   },
   {
    "duration": 511,
    "start_time": "2022-03-28T17:24:12.059Z"
   },
   {
    "duration": 445,
    "start_time": "2022-03-28T17:24:12.572Z"
   },
   {
    "duration": 450,
    "start_time": "2022-03-28T17:24:13.020Z"
   },
   {
    "duration": 445,
    "start_time": "2022-03-28T17:24:13.472Z"
   },
   {
    "duration": 15,
    "start_time": "2022-03-28T17:39:14.940Z"
   },
   {
    "duration": 4,
    "start_time": "2022-03-28T17:39:43.539Z"
   },
   {
    "duration": 74,
    "start_time": "2022-03-28T17:39:43.546Z"
   },
   {
    "duration": 12,
    "start_time": "2022-03-28T17:39:43.623Z"
   },
   {
    "duration": 16,
    "start_time": "2022-03-28T17:39:43.638Z"
   },
   {
    "duration": 18,
    "start_time": "2022-03-28T17:39:43.656Z"
   },
   {
    "duration": 14,
    "start_time": "2022-03-28T17:39:43.677Z"
   },
   {
    "duration": 15,
    "start_time": "2022-03-28T17:39:43.693Z"
   },
   {
    "duration": 42,
    "start_time": "2022-03-28T17:39:43.711Z"
   },
   {
    "duration": 7,
    "start_time": "2022-03-28T17:39:43.756Z"
   },
   {
    "duration": 10,
    "start_time": "2022-03-28T17:39:43.765Z"
   },
   {
    "duration": 9,
    "start_time": "2022-03-28T17:39:43.777Z"
   },
   {
    "duration": 55,
    "start_time": "2022-03-28T17:39:43.788Z"
   },
   {
    "duration": 15,
    "start_time": "2022-03-28T17:39:48.186Z"
   },
   {
    "duration": 16,
    "start_time": "2022-03-28T17:39:57.952Z"
   },
   {
    "duration": 1132,
    "start_time": "2022-03-28T17:40:22.394Z"
   },
   {
    "duration": 80,
    "start_time": "2022-03-28T17:40:23.529Z"
   },
   {
    "duration": 23,
    "start_time": "2022-03-28T17:40:23.611Z"
   },
   {
    "duration": 16,
    "start_time": "2022-03-28T17:40:23.638Z"
   },
   {
    "duration": 19,
    "start_time": "2022-03-28T17:40:23.656Z"
   },
   {
    "duration": 15,
    "start_time": "2022-03-28T17:40:23.677Z"
   },
   {
    "duration": 13,
    "start_time": "2022-03-28T17:40:23.694Z"
   },
   {
    "duration": 45,
    "start_time": "2022-03-28T17:40:23.709Z"
   },
   {
    "duration": 6,
    "start_time": "2022-03-28T17:40:23.756Z"
   },
   {
    "duration": 9,
    "start_time": "2022-03-28T17:40:23.767Z"
   },
   {
    "duration": 7,
    "start_time": "2022-03-28T17:40:23.779Z"
   },
   {
    "duration": 65,
    "start_time": "2022-03-28T17:40:23.788Z"
   },
   {
    "duration": 17,
    "start_time": "2022-03-28T17:40:23.856Z"
   },
   {
    "duration": 12,
    "start_time": "2022-03-28T17:40:23.876Z"
   },
   {
    "duration": 16,
    "start_time": "2022-03-28T17:40:23.890Z"
   },
   {
    "duration": 40,
    "start_time": "2022-03-28T17:40:23.909Z"
   },
   {
    "duration": 308,
    "start_time": "2022-03-28T17:40:23.951Z"
   },
   {
    "duration": 214,
    "start_time": "2022-03-28T17:40:24.261Z"
   },
   {
    "duration": 10,
    "start_time": "2022-03-28T17:40:24.477Z"
   },
   {
    "duration": 722,
    "start_time": "2022-03-28T17:40:24.488Z"
   },
   {
    "duration": 152,
    "start_time": "2022-03-28T17:40:25.212Z"
   },
   {
    "duration": 20,
    "start_time": "2022-03-28T17:40:25.366Z"
   },
   {
    "duration": 126,
    "start_time": "2022-03-28T17:40:25.388Z"
   },
   {
    "duration": 103,
    "start_time": "2022-03-28T17:40:25.516Z"
   },
   {
    "duration": 36,
    "start_time": "2022-03-28T17:40:25.621Z"
   },
   {
    "duration": 104,
    "start_time": "2022-03-28T17:40:25.659Z"
   },
   {
    "duration": 304,
    "start_time": "2022-03-28T17:40:25.765Z"
   },
   {
    "duration": 14,
    "start_time": "2022-03-28T17:40:26.074Z"
   },
   {
    "duration": 119,
    "start_time": "2022-03-28T17:40:26.091Z"
   },
   {
    "duration": 5,
    "start_time": "2022-03-28T17:40:26.212Z"
   },
   {
    "duration": 106,
    "start_time": "2022-03-28T17:40:26.220Z"
   },
   {
    "duration": 16,
    "start_time": "2022-03-28T17:40:26.329Z"
   },
   {
    "duration": 150,
    "start_time": "2022-03-28T17:40:26.348Z"
   },
   {
    "duration": 158,
    "start_time": "2022-03-28T17:40:26.501Z"
   },
   {
    "duration": 23,
    "start_time": "2022-03-28T17:40:26.661Z"
   },
   {
    "duration": 22,
    "start_time": "2022-03-28T17:40:26.686Z"
   },
   {
    "duration": 41,
    "start_time": "2022-03-28T17:40:26.711Z"
   },
   {
    "duration": 15,
    "start_time": "2022-03-28T17:40:26.755Z"
   },
   {
    "duration": 41,
    "start_time": "2022-03-28T17:40:26.772Z"
   },
   {
    "duration": 49,
    "start_time": "2022-03-28T17:40:26.816Z"
   },
   {
    "duration": 476,
    "start_time": "2022-03-28T17:40:26.867Z"
   },
   {
    "duration": 481,
    "start_time": "2022-03-28T17:40:27.345Z"
   },
   {
    "duration": 478,
    "start_time": "2022-03-28T17:40:27.829Z"
   },
   {
    "duration": 482,
    "start_time": "2022-03-28T17:40:28.309Z"
   },
   {
    "duration": 449,
    "start_time": "2022-03-28T17:40:28.794Z"
   },
   {
    "duration": 463,
    "start_time": "2022-03-28T17:40:29.245Z"
   },
   {
    "duration": 994,
    "start_time": "2022-03-28T18:58:59.117Z"
   },
   {
    "duration": 40,
    "start_time": "2022-03-28T18:59:00.113Z"
   },
   {
    "duration": 15,
    "start_time": "2022-03-28T18:59:00.155Z"
   },
   {
    "duration": 14,
    "start_time": "2022-03-28T18:59:00.173Z"
   },
   {
    "duration": 17,
    "start_time": "2022-03-28T18:59:00.188Z"
   },
   {
    "duration": 20,
    "start_time": "2022-03-28T18:59:00.206Z"
   },
   {
    "duration": 23,
    "start_time": "2022-03-28T18:59:00.228Z"
   },
   {
    "duration": 14,
    "start_time": "2022-03-28T18:59:00.253Z"
   },
   {
    "duration": 13,
    "start_time": "2022-03-28T18:59:00.270Z"
   },
   {
    "duration": 19,
    "start_time": "2022-03-28T18:59:00.286Z"
   },
   {
    "duration": 20,
    "start_time": "2022-03-28T18:59:00.307Z"
   },
   {
    "duration": 26,
    "start_time": "2022-03-28T18:59:00.328Z"
   },
   {
    "duration": 23,
    "start_time": "2022-03-28T18:59:00.356Z"
   },
   {
    "duration": 15,
    "start_time": "2022-03-28T18:59:00.381Z"
   },
   {
    "duration": 8,
    "start_time": "2022-03-28T18:59:00.397Z"
   },
   {
    "duration": 200,
    "start_time": "2022-03-28T18:59:00.407Z"
   },
   {
    "duration": 128,
    "start_time": "2022-03-28T18:59:00.609Z"
   },
   {
    "duration": 7,
    "start_time": "2022-03-28T18:59:00.739Z"
   },
   {
    "duration": 550,
    "start_time": "2022-03-28T18:59:00.747Z"
   },
   {
    "duration": 73,
    "start_time": "2022-03-28T18:59:01.299Z"
   },
   {
    "duration": 64,
    "start_time": "2022-03-28T18:59:01.374Z"
   },
   {
    "duration": 96,
    "start_time": "2022-03-28T18:59:01.440Z"
   },
   {
    "duration": 56,
    "start_time": "2022-03-28T18:59:01.538Z"
   },
   {
    "duration": 18,
    "start_time": "2022-03-28T18:59:01.596Z"
   },
   {
    "duration": 91,
    "start_time": "2022-03-28T18:59:01.616Z"
   },
   {
    "duration": 109,
    "start_time": "2022-03-28T18:59:01.709Z"
   },
   {
    "duration": 17,
    "start_time": "2022-03-28T18:59:01.820Z"
   },
   {
    "duration": 71,
    "start_time": "2022-03-28T18:59:01.842Z"
   },
   {
    "duration": 5,
    "start_time": "2022-03-28T18:59:01.914Z"
   },
   {
    "duration": 77,
    "start_time": "2022-03-28T18:59:01.920Z"
   },
   {
    "duration": 5,
    "start_time": "2022-03-28T18:59:01.998Z"
   },
   {
    "duration": 93,
    "start_time": "2022-03-28T18:59:02.005Z"
   },
   {
    "duration": 82,
    "start_time": "2022-03-28T18:59:02.099Z"
   },
   {
    "duration": 19,
    "start_time": "2022-03-28T18:59:02.183Z"
   },
   {
    "duration": 40,
    "start_time": "2022-03-28T18:59:02.204Z"
   },
   {
    "duration": 21,
    "start_time": "2022-03-28T18:59:02.246Z"
   },
   {
    "duration": 22,
    "start_time": "2022-03-28T18:59:02.269Z"
   },
   {
    "duration": 44,
    "start_time": "2022-03-28T18:59:02.293Z"
   },
   {
    "duration": 37,
    "start_time": "2022-03-28T18:59:02.339Z"
   },
   {
    "duration": 339,
    "start_time": "2022-03-28T18:59:02.378Z"
   },
   {
    "duration": 346,
    "start_time": "2022-03-28T18:59:02.719Z"
   },
   {
    "duration": 147,
    "start_time": "2022-03-28T18:59:03.068Z"
   },
   {
    "duration": 0,
    "start_time": "2022-03-28T18:59:03.218Z"
   },
   {
    "duration": 0,
    "start_time": "2022-03-28T18:59:03.220Z"
   },
   {
    "duration": 0,
    "start_time": "2022-03-28T18:59:03.221Z"
   },
   {
    "duration": 0,
    "start_time": "2022-03-28T18:59:03.238Z"
   },
   {
    "duration": 123,
    "start_time": "2022-03-28T18:59:42.848Z"
   },
   {
    "duration": 130,
    "start_time": "2022-03-28T19:00:10.264Z"
   },
   {
    "duration": 10,
    "start_time": "2022-03-28T19:00:36.668Z"
   },
   {
    "duration": 10,
    "start_time": "2022-03-28T19:02:07.747Z"
   },
   {
    "duration": 11,
    "start_time": "2022-03-28T19:02:13.979Z"
   },
   {
    "duration": 11,
    "start_time": "2022-03-28T19:02:27.475Z"
   },
   {
    "duration": 20,
    "start_time": "2022-03-28T19:02:37.534Z"
   },
   {
    "duration": 12,
    "start_time": "2022-03-28T19:02:53.128Z"
   },
   {
    "duration": 12,
    "start_time": "2022-03-28T19:03:04.300Z"
   },
   {
    "duration": 24,
    "start_time": "2022-03-28T19:03:30.227Z"
   },
   {
    "duration": 8,
    "start_time": "2022-03-28T19:03:57.086Z"
   },
   {
    "duration": 115,
    "start_time": "2022-03-28T19:05:08.155Z"
   },
   {
    "duration": 337,
    "start_time": "2022-03-28T19:05:28.721Z"
   },
   {
    "duration": 118,
    "start_time": "2022-03-28T19:06:04.977Z"
   },
   {
    "duration": 7,
    "start_time": "2022-03-28T19:06:34.520Z"
   },
   {
    "duration": 8,
    "start_time": "2022-03-28T19:06:49.118Z"
   },
   {
    "duration": 9,
    "start_time": "2022-03-28T19:07:21.987Z"
   },
   {
    "duration": 7,
    "start_time": "2022-03-28T19:11:20.586Z"
   },
   {
    "duration": 8,
    "start_time": "2022-03-28T19:11:24.120Z"
   },
   {
    "duration": 124,
    "start_time": "2022-03-28T19:11:37.324Z"
   },
   {
    "duration": 334,
    "start_time": "2022-03-28T19:12:14.088Z"
   },
   {
    "duration": 8,
    "start_time": "2022-03-28T19:14:34.499Z"
   },
   {
    "duration": 8,
    "start_time": "2022-03-28T19:16:07.342Z"
   },
   {
    "duration": 7,
    "start_time": "2022-03-28T19:16:15.720Z"
   },
   {
    "duration": 953,
    "start_time": "2022-03-28T19:23:43.249Z"
   },
   {
    "duration": 54,
    "start_time": "2022-03-28T19:23:44.203Z"
   },
   {
    "duration": 15,
    "start_time": "2022-03-28T19:23:44.259Z"
   },
   {
    "duration": 12,
    "start_time": "2022-03-28T19:23:44.276Z"
   },
   {
    "duration": 14,
    "start_time": "2022-03-28T19:23:44.290Z"
   },
   {
    "duration": 15,
    "start_time": "2022-03-28T19:23:44.305Z"
   },
   {
    "duration": 17,
    "start_time": "2022-03-28T19:23:44.322Z"
   },
   {
    "duration": 14,
    "start_time": "2022-03-28T19:23:44.340Z"
   },
   {
    "duration": 5,
    "start_time": "2022-03-28T19:23:44.356Z"
   },
   {
    "duration": 8,
    "start_time": "2022-03-28T19:23:44.365Z"
   },
   {
    "duration": 6,
    "start_time": "2022-03-28T19:23:44.374Z"
   },
   {
    "duration": 17,
    "start_time": "2022-03-28T19:23:44.382Z"
   },
   {
    "duration": 11,
    "start_time": "2022-03-28T19:23:44.401Z"
   },
   {
    "duration": 13,
    "start_time": "2022-03-28T19:23:44.438Z"
   },
   {
    "duration": 6,
    "start_time": "2022-03-28T19:23:44.452Z"
   },
   {
    "duration": 197,
    "start_time": "2022-03-28T19:23:44.459Z"
   },
   {
    "duration": 129,
    "start_time": "2022-03-28T19:23:44.658Z"
   },
   {
    "duration": 6,
    "start_time": "2022-03-28T19:23:44.788Z"
   },
   {
    "duration": 524,
    "start_time": "2022-03-28T19:23:44.796Z"
   },
   {
    "duration": 116,
    "start_time": "2022-03-28T19:23:45.322Z"
   },
   {
    "duration": 18,
    "start_time": "2022-03-28T19:23:45.441Z"
   },
   {
    "duration": 93,
    "start_time": "2022-03-28T19:23:45.461Z"
   },
   {
    "duration": 57,
    "start_time": "2022-03-28T19:23:45.556Z"
   },
   {
    "duration": 36,
    "start_time": "2022-03-28T19:23:45.615Z"
   },
   {
    "duration": 88,
    "start_time": "2022-03-28T19:23:45.653Z"
   },
   {
    "duration": 130,
    "start_time": "2022-03-28T19:23:45.743Z"
   },
   {
    "duration": 10,
    "start_time": "2022-03-28T19:23:45.875Z"
   },
   {
    "duration": 70,
    "start_time": "2022-03-28T19:23:45.888Z"
   },
   {
    "duration": 4,
    "start_time": "2022-03-28T19:23:45.960Z"
   },
   {
    "duration": 78,
    "start_time": "2022-03-28T19:23:45.966Z"
   },
   {
    "duration": 4,
    "start_time": "2022-03-28T19:23:46.045Z"
   },
   {
    "duration": 93,
    "start_time": "2022-03-28T19:23:46.051Z"
   },
   {
    "duration": 76,
    "start_time": "2022-03-28T19:23:46.146Z"
   },
   {
    "duration": 19,
    "start_time": "2022-03-28T19:23:46.238Z"
   },
   {
    "duration": 19,
    "start_time": "2022-03-28T19:23:46.259Z"
   },
   {
    "duration": 8,
    "start_time": "2022-03-28T19:23:46.280Z"
   },
   {
    "duration": 11,
    "start_time": "2022-03-28T19:23:46.289Z"
   },
   {
    "duration": 64,
    "start_time": "2022-03-28T19:23:46.302Z"
   },
   {
    "duration": 29,
    "start_time": "2022-03-28T19:23:46.368Z"
   },
   {
    "duration": 360,
    "start_time": "2022-03-28T19:23:46.399Z"
   },
   {
    "duration": 361,
    "start_time": "2022-03-28T19:23:46.761Z"
   },
   {
    "duration": 350,
    "start_time": "2022-03-28T19:23:47.124Z"
   },
   {
    "duration": 350,
    "start_time": "2022-03-28T19:23:47.475Z"
   },
   {
    "duration": 355,
    "start_time": "2022-03-28T19:23:47.827Z"
   },
   {
    "duration": 358,
    "start_time": "2022-03-28T19:23:48.183Z"
   },
   {
    "duration": 867,
    "start_time": "2022-03-28T19:24:41.560Z"
   },
   {
    "duration": 43,
    "start_time": "2022-03-28T19:24:42.429Z"
   },
   {
    "duration": 15,
    "start_time": "2022-03-28T19:24:42.474Z"
   },
   {
    "duration": 15,
    "start_time": "2022-03-28T19:24:42.491Z"
   },
   {
    "duration": 15,
    "start_time": "2022-03-28T19:24:42.508Z"
   },
   {
    "duration": 19,
    "start_time": "2022-03-28T19:24:42.525Z"
   },
   {
    "duration": 13,
    "start_time": "2022-03-28T19:24:42.546Z"
   },
   {
    "duration": 20,
    "start_time": "2022-03-28T19:24:42.561Z"
   },
   {
    "duration": 7,
    "start_time": "2022-03-28T19:24:42.583Z"
   },
   {
    "duration": 8,
    "start_time": "2022-03-28T19:24:42.593Z"
   },
   {
    "duration": 8,
    "start_time": "2022-03-28T19:24:42.603Z"
   },
   {
    "duration": 15,
    "start_time": "2022-03-28T19:24:42.613Z"
   },
   {
    "duration": 12,
    "start_time": "2022-03-28T19:24:42.630Z"
   },
   {
    "duration": 12,
    "start_time": "2022-03-28T19:24:42.643Z"
   },
   {
    "duration": 5,
    "start_time": "2022-03-28T19:24:42.657Z"
   },
   {
    "duration": 213,
    "start_time": "2022-03-28T19:24:42.664Z"
   },
   {
    "duration": 137,
    "start_time": "2022-03-28T19:24:42.879Z"
   },
   {
    "duration": 7,
    "start_time": "2022-03-28T19:24:43.017Z"
   },
   {
    "duration": 490,
    "start_time": "2022-03-28T19:24:43.025Z"
   },
   {
    "duration": 130,
    "start_time": "2022-03-28T19:24:43.517Z"
   },
   {
    "duration": 14,
    "start_time": "2022-03-28T19:24:43.649Z"
   },
   {
    "duration": 77,
    "start_time": "2022-03-28T19:24:43.666Z"
   },
   {
    "duration": 57,
    "start_time": "2022-03-28T19:24:43.745Z"
   },
   {
    "duration": 34,
    "start_time": "2022-03-28T19:24:43.804Z"
   },
   {
    "duration": 54,
    "start_time": "2022-03-28T19:24:43.840Z"
   },
   {
    "duration": 150,
    "start_time": "2022-03-28T19:24:43.896Z"
   },
   {
    "duration": 9,
    "start_time": "2022-03-28T19:24:44.048Z"
   },
   {
    "duration": 57,
    "start_time": "2022-03-28T19:24:44.061Z"
   },
   {
    "duration": 19,
    "start_time": "2022-03-28T19:24:44.120Z"
   },
   {
    "duration": 55,
    "start_time": "2022-03-28T19:24:44.140Z"
   },
   {
    "duration": 4,
    "start_time": "2022-03-28T19:24:44.197Z"
   },
   {
    "duration": 87,
    "start_time": "2022-03-28T19:24:44.203Z"
   },
   {
    "duration": 85,
    "start_time": "2022-03-28T19:24:44.292Z"
   },
   {
    "duration": 18,
    "start_time": "2022-03-28T19:24:44.379Z"
   },
   {
    "duration": 18,
    "start_time": "2022-03-28T19:24:44.399Z"
   },
   {
    "duration": 23,
    "start_time": "2022-03-28T19:24:44.419Z"
   },
   {
    "duration": 12,
    "start_time": "2022-03-28T19:24:44.444Z"
   },
   {
    "duration": 35,
    "start_time": "2022-03-28T19:24:44.458Z"
   },
   {
    "duration": 58,
    "start_time": "2022-03-28T19:24:44.494Z"
   },
   {
    "duration": 349,
    "start_time": "2022-03-28T19:24:44.555Z"
   },
   {
    "duration": 384,
    "start_time": "2022-03-28T19:24:44.907Z"
   },
   {
    "duration": 348,
    "start_time": "2022-03-28T19:24:45.293Z"
   },
   {
    "duration": 363,
    "start_time": "2022-03-28T19:24:45.643Z"
   },
   {
    "duration": 358,
    "start_time": "2022-03-28T19:24:46.008Z"
   },
   {
    "duration": 339,
    "start_time": "2022-03-28T19:24:46.368Z"
   },
   {
    "duration": 892,
    "start_time": "2022-03-28T19:50:47.941Z"
   },
   {
    "duration": 48,
    "start_time": "2022-03-28T19:50:48.837Z"
   },
   {
    "duration": 15,
    "start_time": "2022-03-28T19:50:48.887Z"
   },
   {
    "duration": 10,
    "start_time": "2022-03-28T19:50:48.905Z"
   },
   {
    "duration": 13,
    "start_time": "2022-03-28T19:50:48.917Z"
   },
   {
    "duration": 11,
    "start_time": "2022-03-28T19:50:48.932Z"
   },
   {
    "duration": 12,
    "start_time": "2022-03-28T19:50:48.945Z"
   },
   {
    "duration": 10,
    "start_time": "2022-03-28T19:50:48.959Z"
   },
   {
    "duration": 6,
    "start_time": "2022-03-28T19:50:48.971Z"
   },
   {
    "duration": 7,
    "start_time": "2022-03-28T19:50:48.979Z"
   },
   {
    "duration": 5,
    "start_time": "2022-03-28T19:50:48.988Z"
   },
   {
    "duration": 16,
    "start_time": "2022-03-28T19:50:48.994Z"
   },
   {
    "duration": 31,
    "start_time": "2022-03-28T19:50:49.012Z"
   },
   {
    "duration": 13,
    "start_time": "2022-03-28T19:50:49.045Z"
   },
   {
    "duration": 6,
    "start_time": "2022-03-28T19:50:49.060Z"
   },
   {
    "duration": 203,
    "start_time": "2022-03-28T19:50:49.068Z"
   },
   {
    "duration": 132,
    "start_time": "2022-03-28T19:50:49.273Z"
   },
   {
    "duration": 7,
    "start_time": "2022-03-28T19:50:49.407Z"
   },
   {
    "duration": 508,
    "start_time": "2022-03-28T19:50:49.415Z"
   },
   {
    "duration": 59,
    "start_time": "2022-03-28T19:50:49.924Z"
   },
   {
    "duration": 63,
    "start_time": "2022-03-28T19:50:49.985Z"
   },
   {
    "duration": 56,
    "start_time": "2022-03-28T19:50:50.050Z"
   },
   {
    "duration": 79,
    "start_time": "2022-03-28T19:50:50.108Z"
   },
   {
    "duration": 14,
    "start_time": "2022-03-28T19:50:50.189Z"
   },
   {
    "duration": 71,
    "start_time": "2022-03-28T19:50:50.204Z"
   },
   {
    "duration": 119,
    "start_time": "2022-03-28T19:50:50.276Z"
   },
   {
    "duration": 11,
    "start_time": "2022-03-28T19:50:50.397Z"
   },
   {
    "duration": 72,
    "start_time": "2022-03-28T19:50:50.411Z"
   },
   {
    "duration": 4,
    "start_time": "2022-03-28T19:50:50.484Z"
   },
   {
    "duration": 62,
    "start_time": "2022-03-28T19:50:50.489Z"
   },
   {
    "duration": 4,
    "start_time": "2022-03-28T19:50:50.552Z"
   },
   {
    "duration": 96,
    "start_time": "2022-03-28T19:50:50.558Z"
   },
   {
    "duration": 98,
    "start_time": "2022-03-28T19:50:50.656Z"
   },
   {
    "duration": 18,
    "start_time": "2022-03-28T19:50:50.755Z"
   },
   {
    "duration": 17,
    "start_time": "2022-03-28T19:50:50.775Z"
   },
   {
    "duration": 8,
    "start_time": "2022-03-28T19:50:50.793Z"
   },
   {
    "duration": 16,
    "start_time": "2022-03-28T19:50:50.803Z"
   },
   {
    "duration": 31,
    "start_time": "2022-03-28T19:50:50.837Z"
   },
   {
    "duration": 28,
    "start_time": "2022-03-28T19:50:50.870Z"
   },
   {
    "duration": 344,
    "start_time": "2022-03-28T19:50:50.900Z"
   },
   {
    "duration": 340,
    "start_time": "2022-03-28T19:50:51.245Z"
   },
   {
    "duration": 325,
    "start_time": "2022-03-28T19:50:51.587Z"
   },
   {
    "duration": 360,
    "start_time": "2022-03-28T19:50:51.913Z"
   },
   {
    "duration": 344,
    "start_time": "2022-03-28T19:50:52.275Z"
   },
   {
    "duration": 366,
    "start_time": "2022-03-28T19:50:52.621Z"
   },
   {
    "duration": 192,
    "start_time": "2022-03-29T05:34:27.259Z"
   },
   {
    "duration": 435,
    "start_time": "2022-03-29T05:35:10.337Z"
   },
   {
    "duration": 280,
    "start_time": "2022-03-29T05:35:23.189Z"
   },
   {
    "duration": 246,
    "start_time": "2022-03-29T05:51:46.731Z"
   },
   {
    "duration": 0,
    "start_time": "2022-03-29T05:51:46.979Z"
   },
   {
    "duration": 0,
    "start_time": "2022-03-29T05:51:46.981Z"
   },
   {
    "duration": 0,
    "start_time": "2022-03-29T05:51:46.982Z"
   },
   {
    "duration": 0,
    "start_time": "2022-03-29T05:51:46.983Z"
   },
   {
    "duration": 0,
    "start_time": "2022-03-29T05:51:46.983Z"
   },
   {
    "duration": 0,
    "start_time": "2022-03-29T05:51:46.984Z"
   },
   {
    "duration": 0,
    "start_time": "2022-03-29T05:51:46.985Z"
   },
   {
    "duration": 0,
    "start_time": "2022-03-29T05:51:46.986Z"
   },
   {
    "duration": 0,
    "start_time": "2022-03-29T05:51:46.987Z"
   },
   {
    "duration": 0,
    "start_time": "2022-03-29T05:51:46.988Z"
   },
   {
    "duration": 0,
    "start_time": "2022-03-29T05:51:46.989Z"
   },
   {
    "duration": 0,
    "start_time": "2022-03-29T05:51:46.989Z"
   },
   {
    "duration": 0,
    "start_time": "2022-03-29T05:51:46.990Z"
   },
   {
    "duration": 0,
    "start_time": "2022-03-29T05:51:46.991Z"
   },
   {
    "duration": 0,
    "start_time": "2022-03-29T05:51:46.992Z"
   },
   {
    "duration": 0,
    "start_time": "2022-03-29T05:51:46.993Z"
   },
   {
    "duration": 1,
    "start_time": "2022-03-29T05:51:46.994Z"
   },
   {
    "duration": 0,
    "start_time": "2022-03-29T05:51:46.995Z"
   },
   {
    "duration": 0,
    "start_time": "2022-03-29T05:51:46.996Z"
   },
   {
    "duration": 0,
    "start_time": "2022-03-29T05:51:46.998Z"
   },
   {
    "duration": 0,
    "start_time": "2022-03-29T05:51:46.999Z"
   },
   {
    "duration": 0,
    "start_time": "2022-03-29T05:51:47.000Z"
   },
   {
    "duration": 0,
    "start_time": "2022-03-29T05:51:47.001Z"
   },
   {
    "duration": 0,
    "start_time": "2022-03-29T05:51:47.001Z"
   },
   {
    "duration": 0,
    "start_time": "2022-03-29T05:51:47.002Z"
   },
   {
    "duration": 0,
    "start_time": "2022-03-29T05:51:47.003Z"
   },
   {
    "duration": 0,
    "start_time": "2022-03-29T05:51:47.003Z"
   },
   {
    "duration": 0,
    "start_time": "2022-03-29T05:51:47.004Z"
   },
   {
    "duration": 0,
    "start_time": "2022-03-29T05:51:47.005Z"
   },
   {
    "duration": 0,
    "start_time": "2022-03-29T05:51:47.005Z"
   },
   {
    "duration": 0,
    "start_time": "2022-03-29T05:51:47.006Z"
   },
   {
    "duration": 0,
    "start_time": "2022-03-29T05:51:47.013Z"
   },
   {
    "duration": 0,
    "start_time": "2022-03-29T05:51:47.014Z"
   },
   {
    "duration": 0,
    "start_time": "2022-03-29T05:51:47.014Z"
   },
   {
    "duration": 0,
    "start_time": "2022-03-29T05:51:47.015Z"
   },
   {
    "duration": 0,
    "start_time": "2022-03-29T05:51:47.016Z"
   },
   {
    "duration": 0,
    "start_time": "2022-03-29T05:51:47.032Z"
   },
   {
    "duration": 0,
    "start_time": "2022-03-29T05:51:47.032Z"
   },
   {
    "duration": 88,
    "start_time": "2022-03-29T05:51:47.035Z"
   },
   {
    "duration": 0,
    "start_time": "2022-03-29T05:51:47.124Z"
   },
   {
    "duration": 0,
    "start_time": "2022-03-29T05:51:47.125Z"
   },
   {
    "duration": 0,
    "start_time": "2022-03-29T05:51:47.126Z"
   },
   {
    "duration": 0,
    "start_time": "2022-03-29T05:51:47.127Z"
   },
   {
    "duration": 0,
    "start_time": "2022-03-29T05:51:47.128Z"
   },
   {
    "duration": 1004,
    "start_time": "2022-03-29T05:52:35.761Z"
   },
   {
    "duration": 0,
    "start_time": "2022-03-29T05:52:36.770Z"
   },
   {
    "duration": 0,
    "start_time": "2022-03-29T05:52:36.770Z"
   },
   {
    "duration": 0,
    "start_time": "2022-03-29T05:52:36.772Z"
   },
   {
    "duration": 0,
    "start_time": "2022-03-29T05:52:36.773Z"
   },
   {
    "duration": 0,
    "start_time": "2022-03-29T05:52:36.774Z"
   },
   {
    "duration": 0,
    "start_time": "2022-03-29T05:52:36.776Z"
   },
   {
    "duration": 0,
    "start_time": "2022-03-29T05:52:36.777Z"
   },
   {
    "duration": 0,
    "start_time": "2022-03-29T05:52:36.778Z"
   },
   {
    "duration": 0,
    "start_time": "2022-03-29T05:52:36.780Z"
   },
   {
    "duration": 0,
    "start_time": "2022-03-29T05:52:36.781Z"
   },
   {
    "duration": 0,
    "start_time": "2022-03-29T05:52:36.801Z"
   },
   {
    "duration": 0,
    "start_time": "2022-03-29T05:52:36.802Z"
   },
   {
    "duration": 0,
    "start_time": "2022-03-29T05:52:36.803Z"
   },
   {
    "duration": 0,
    "start_time": "2022-03-29T05:52:36.804Z"
   },
   {
    "duration": 0,
    "start_time": "2022-03-29T05:52:36.805Z"
   },
   {
    "duration": 0,
    "start_time": "2022-03-29T05:52:36.806Z"
   },
   {
    "duration": 0,
    "start_time": "2022-03-29T05:52:36.807Z"
   },
   {
    "duration": 0,
    "start_time": "2022-03-29T05:52:36.808Z"
   },
   {
    "duration": 0,
    "start_time": "2022-03-29T05:52:36.809Z"
   },
   {
    "duration": 0,
    "start_time": "2022-03-29T05:52:36.809Z"
   },
   {
    "duration": 0,
    "start_time": "2022-03-29T05:52:36.810Z"
   },
   {
    "duration": 0,
    "start_time": "2022-03-29T05:52:36.811Z"
   },
   {
    "duration": 0,
    "start_time": "2022-03-29T05:52:36.812Z"
   },
   {
    "duration": 0,
    "start_time": "2022-03-29T05:52:36.813Z"
   },
   {
    "duration": 0,
    "start_time": "2022-03-29T05:52:36.814Z"
   },
   {
    "duration": 0,
    "start_time": "2022-03-29T05:52:36.815Z"
   },
   {
    "duration": 0,
    "start_time": "2022-03-29T05:52:36.816Z"
   },
   {
    "duration": 0,
    "start_time": "2022-03-29T05:52:36.817Z"
   },
   {
    "duration": 0,
    "start_time": "2022-03-29T05:52:36.818Z"
   },
   {
    "duration": 0,
    "start_time": "2022-03-29T05:52:36.819Z"
   },
   {
    "duration": 0,
    "start_time": "2022-03-29T05:52:36.820Z"
   },
   {
    "duration": 0,
    "start_time": "2022-03-29T05:52:36.821Z"
   },
   {
    "duration": 0,
    "start_time": "2022-03-29T05:52:36.822Z"
   },
   {
    "duration": 0,
    "start_time": "2022-03-29T05:52:36.823Z"
   },
   {
    "duration": 0,
    "start_time": "2022-03-29T05:52:36.824Z"
   },
   {
    "duration": 0,
    "start_time": "2022-03-29T05:52:36.825Z"
   },
   {
    "duration": 0,
    "start_time": "2022-03-29T05:52:36.825Z"
   },
   {
    "duration": 0,
    "start_time": "2022-03-29T05:52:36.826Z"
   },
   {
    "duration": 0,
    "start_time": "2022-03-29T05:52:36.827Z"
   },
   {
    "duration": 0,
    "start_time": "2022-03-29T05:52:36.828Z"
   },
   {
    "duration": 0,
    "start_time": "2022-03-29T05:52:36.829Z"
   },
   {
    "duration": 0,
    "start_time": "2022-03-29T05:52:36.830Z"
   },
   {
    "duration": 0,
    "start_time": "2022-03-29T05:52:36.831Z"
   }
  ],
  "kernelspec": {
   "display_name": "Python 3 (ipykernel)",
   "language": "python",
   "name": "python3"
  },
  "language_info": {
   "codemirror_mode": {
    "name": "ipython",
    "version": 3
   },
   "file_extension": ".py",
   "mimetype": "text/x-python",
   "name": "python",
   "nbconvert_exporter": "python",
   "pygments_lexer": "ipython3",
   "version": "3.9.5"
  },
  "toc": {
   "base_numbering": 1,
   "nav_menu": {},
   "number_sections": true,
   "sideBar": true,
   "skip_h1_title": true,
   "title_cell": "Table of Contents",
   "title_sidebar": "Contents",
   "toc_cell": false,
   "toc_position": {},
   "toc_section_display": true,
   "toc_window_display": false
  }
 },
 "nbformat": 4,
 "nbformat_minor": 1
}