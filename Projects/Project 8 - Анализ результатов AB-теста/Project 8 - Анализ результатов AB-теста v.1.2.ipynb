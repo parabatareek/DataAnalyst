{
 "cells": [
  {
   "cell_type": "markdown",
   "metadata": {
    "pycharm": {
     "name": "#%% md\n"
    }
   },
   "source": [
    "<!-- <div style=\"border:solid green 2px; padding: 20px\"> -->\n",
    "<b>Привет, Андрей!</b>\n",
    "\n",
    "Меня зовут Кирилл Юрин, и я буду проверять твой проект. Предлагаю общаться на «ты» 🙂 Но если это неудобно — дай знать, и мы перейдем на «вы». \n",
    "\n",
    "Моя основная цель — не указать на совершенные тобою ошибки, а поделиться своим опытом и помочь тебе стать аналитиком данных. Ниже ты найдешь мои комментарии — пожалуйста, не перемещай, не изменяй и не удаляй их. Я буду использовать цветовую разметку:\n",
    "\n",
    "<div class=\"alert alert-danger\">\n",
    "<font size=\"4\">❌ <b>Комментарий ревьюера</b></font>\n",
    "    \n",
    "Так выделены самые важные замечания. Без их отработки проект не будет принят. </div>\n",
    "\n",
    "<div class=\"alert alert-warning\">\n",
    "<font size=\"4\">📝 <b>Комментарий ревьюера</b></font>\n",
    "    \n",
    "Так выделены дополнительные материалы и развивающие замечания. Их отработка остается на твое усмотрение.\n",
    "</div>\n",
    "\n",
    "<div class=\"alert alert-success\">\n",
    "<font size=\"4\">👍 <b>Комментарий ревьюера</b></font>\n",
    "    \n",
    "Так я выделяю все остальные комментарии.</div>\n",
    "\n",
    "Давай работать над проектом в диалоге: если ты что-то меняешь в проекте или отвечаешь на мои комменатри — пиши об этом. Мне будет легче отследить изменения, если ты выделишь свои комментарии:\n",
    "<div class=\"alert alert-info\">\n",
    "<font size=\"4\"><b>Комментарий студента</b></font>\n",
    "    \n",
    "Например, вот так.</div>\n",
    "\n",
    "Всё это поможет выполнить повторную проверку твоего проекта оперативнее. \n",
    "    \n",
    "</div>\n",
    "\n",
    "---\n",
    "\n",
    "<div class=\"alert alert-success\">\n",
    "<font size=\"4\"><b>Обратная связь v.1</b></font>\n",
    "    \n",
    "Ты выполнил проект на высоком уровне. Анализ выдержан в верном ключе.\n",
    "\n",
    "Чтобы завершить проект, тебе нужно доработать подготовку данных и раздел со стат. тестами. Думаю, у тебя с этим не будет проблем, ведь уже подавляющая часть проекта выполнена корректно 🙂\n",
    "    \n",
    "Буду ждать работу вновь!</div>\n",
    "\n",
    "---\n",
    "\n",
    "<div class=\"alert alert-success\">\n",
    "<font size=\"4\"><b>Обратная связь v.2</b></font>\n",
    "    \n",
    "Андрей, спасибо, что оперативно доработал проект! БОльшая часть критических замечаний тобой учтена, но поработай еще, пожалуйста, над разделом со стат. тестами. Уверен, что ты справишься.\n",
    "    \n",
    "Дорабатывай проект и присылай снова — буду ждать! </div>\n",
    "\n",
    "---"
   ]
  },
  {
   "cell_type": "markdown",
   "metadata": {
    "pycharm": {
     "name": "#%% md\n"
    }
   },
   "source": [
    "# Проект \"Анализ результатов AB-теста\" #\n",
    "Цель проекта: проверка изменений направленных на увелечение выручки интернет-магазина"
   ]
  },
  {
   "cell_type": "markdown",
   "metadata": {
    "pycharm": {
     "name": "#%% md\n"
    }
   },
   "source": [
    "# Содержание #\n",
    "<div>\n",
    "  <ol>\n",
    "      <li>\n",
    "          <a href=\"#data_description\">Описание данных</a>\n",
    "      </li>\n",
    "      <li>\n",
    "          <a href=\"#research_plan\">План проведения исследования</a>\n",
    "      </li>\n",
    "      <li>\n",
    "          <a href=\"#import\">Импорт библиотек</a>\n",
    "      </li>\n",
    "      <li>\n",
    "          <a href=\"#data\">Загрузка данных</a>\n",
    "      </li>\n",
    "      <ul>\n",
    "          <li>\n",
    "              <a href=\"#preview_hypothesis\">Предварительный осмотр hypothesis</a>\n",
    "          </li>\n",
    "          <li>\n",
    "              <a href=\"#preview_orders\">Предварительный осмотр orders</a>\n",
    "          </li>\n",
    "          <li>\n",
    "              <a href=\"#preview_visitors\">Предварительный осмотр visitors</a>\n",
    "          </li>\n",
    "      </ul>\n",
    "      <li>\n",
    "          <a href=\"#prepare\">Предобработка данных</a>\n",
    "      </li>\n",
    "      <ul>\n",
    "          <li>\n",
    "              <a href=\"#prepare_data\">Изменение данных</a>\n",
    "          </li>\n",
    "          <li>\n",
    "              <a href=\"#prepare_type\">Изменение типов данных</a>\n",
    "          </li>\n",
    "          <li>\n",
    "              <a href=\"#prepare_dupl\">Проверка наличия дубликатов</a>\n",
    "          </li>\n",
    "      </ul>\n",
    "      <li>\n",
    "          <a href=\"#hypothesis\">Приоритезация гипотез</a>\n",
    "      </li>\n",
    "      <ul>\n",
    "          <li>\n",
    "              <a href=\"#hypothesis_ice\">Фреймворк ICE, RICE</a>\n",
    "          </li>\n",
    "      </ul>\n",
    "      <li>\n",
    "          <a href=\"#abtest\">Анализ A/B-теста</a>\n",
    "      </li>\n",
    "      <ul>\n",
    "          <li>\n",
    "              <a href=\"#abtest_cum_revenue\">Кумулятивная выручка групп</a>\n",
    "          </li>\n",
    "          <li>\n",
    "              <a href=\"#abtest_cum_reciept_mean\">Кумулятивный средний чек групп</a>\n",
    "          </li>\n",
    "          <li>\n",
    "              <a href=\"#abtest_cum_reciept_mean_diff\">Относительное изменение кумулятивного среднего чека групп</a>\n",
    "          </li>\n",
    "          <li>\n",
    "              <a href=\"#abtest_cum_conversion\">Кумулятивная конверсия групп</a>\n",
    "          </li>\n",
    "          <li>\n",
    "              <a href=\"#abtest_cum_conversion_diff\">Относительное изменение кумулятивной конверсии групп</a>\n",
    "          </li>\n",
    "          <li>\n",
    "              <a href=\"#abtest_orders_by_users\">Распределение количества заказов пользователей</a>\n",
    "          </li>\n",
    "          <li>\n",
    "              <a href=\"#abtest_revenue_by_orders\">Распределение стоимости заказов пользователей</a>\n",
    "          </li>\n",
    "          <li>\n",
    "              <a href=\"#abtest_stat_norm\">Проверка нормальности распределения данных групп</a>\n",
    "          </li>\n",
    "          <ul>\n",
    "              <li>\n",
    "                  <a href=\"#abtest_stat_norm_conv_a\">Проверка нормальности распределения кумулятивной конверсии группы А</a>\n",
    "              </li>\n",
    "              <li>\n",
    "                  <a href=\"#abtest_stat_norm_conv_b\">Проверка нормальности распределения кумулятивной конверсии группы B</a>\n",
    "              </li>\n",
    "              <li>\n",
    "                  <a href=\"#abtest_stat_norm_reciept_a\">Проверка нормальности распределения кумулятивной средней суммы чека группы A</a>\n",
    "              </li>\n",
    "              <li>\n",
    "                  <a href=\"#abtest_stat_norm_reciept_b\">Проверка нормальности распределения кумулятивной средней суммы чека группы B</a>\n",
    "              </li>\n",
    "          </ul>\n",
    "          <li>\n",
    "              <a href=\"#abtest_prepare_data\">Подготовка данных для теста Уилкоксона-Манна-Уитни</a>\n",
    "          </li>\n",
    "          <ul>\n",
    "              <li>\n",
    "                  <a href=\"#abtest_abnormal_users\">Обработка выбросов</a>\n",
    "              </li>\n",
    "              <ul>\n",
    "                  <li>\n",
    "                      <a href=\"#abtest_abnormal_users_99\">Список пользователей 99-процентиля</a>\n",
    "                  </li>\n",
    "                  <li>\n",
    "                      <a href=\"#abtest_abnormal_users_95\">Список пользователей 95-процентиля</a>\n",
    "                  </li>\n",
    "                  <li>\n",
    "                      <a href=\"#abtest_abnormal_users_99_del\">Удаление пользователей 99-процентиля</a>\n",
    "                  </li>\n",
    "                  <li>\n",
    "                      <a href=\"#abtest_abnormal_users_95_del\">Удаление пользователей 95-процентиля</a>\n",
    "                  </li>\n",
    "              </ul>\n",
    "          </ul>\n",
    "          <li>\n",
    "              <a href=\"#abtest_stat_conv\">Анализ различия конверсии групп</a>\n",
    "          </li>\n",
    "          <ul>\n",
    "              <li>\n",
    "                  <a href=\"#abtest_stat_conv_raw\">Анализ различия конверсии групп. Сырые данные</a>\n",
    "              </li>\n",
    "              <li>\n",
    "                  <a href=\"#abtest_stat_conv_99\">Анализ различия конверсии групп. 99% пользователей</a>\n",
    "              </li>\n",
    "              <li>\n",
    "                  <a href=\"#abtest_stat_conv_95\">Анализ различия конверсии групп. 95% пользователей</a>\n",
    "              </li>\n",
    "          </ul>\n",
    "          <li>\n",
    "              <a href=\"#abtest_stat_reciept\">Анализ различия суммы чека групп</a>\n",
    "          </li>\n",
    "          <ul>\n",
    "              <li>\n",
    "                  <a href=\"#abtest_stat_reciept_raw\">Анализ различия суммы чека групп. Сырые данные</a>\n",
    "              </li>\n",
    "              <li>\n",
    "                  <a href=\"#abtest_stat_reciept_99\">Анализ различия суммы чека групп. 99% пользователей</a>\n",
    "              </li>\n",
    "              <li>\n",
    "                  <a href=\"#abtest_stat_reciept_95\">Анализ различия суммы чека групп. 95% пользователей</a>\n",
    "              </li>\n",
    "          </ul>\n",
    "      </ul>\n",
    "      <li>\n",
    "          <a href=\"#summary\">Вывод</a>\n",
    "      </li>\n",
    "  </ol>\n",
    "</div>\n"
   ]
  },
  {
   "cell_type": "markdown",
   "metadata": {
    "pycharm": {
     "name": "#%% md\n"
    }
   },
   "source": [
    "<a id='data_description'></a>\n",
    "# Описание данных #\n",
    "1. Файл \"/datasets/hypothesis.csv\":<br>\n",
    " Hypothesis — краткое описание гипотезы;<br> \n",
    " Reach — охват пользователей по 10-балльной шкале;<br> \n",
    " Impact — влияние на пользователей по 10-балльной шкале;<br> \n",
    " Confidence — уверенность в гипотезе по 10-балльной шкале;<br>\n",
    " Efforts — затраты ресурсов на проверку гипотезы по 10-балльной шкале. Чем больше значение Efforts, тем дороже проверка гипотезы.<br>\n",
    "2. Файл \"/datasets/orders.csv\":<br>\n",
    " transactionId — идентификатор заказа;<br>\n",
    " visitorId — идентификатор пользователя, совершившего заказ;<br>\n",
    " date — дата, когда был совершён заказ;<br>\n",
    " revenue — выручка заказа;<br>\n",
    " group — группа A/B-теста, в которую попал заказ.<br>\n",
    "3. Файл \"/datasets/visitors.csv\":<br>\n",
    " date — дата;<br>\n",
    " group — группа A/B-теста;<br>\n",
    " visitors — количество пользователей в указанную дату в указанной группе A/B-теста<br>"
   ]
  },
  {
   "cell_type": "markdown",
   "metadata": {
    "pycharm": {
     "name": "#%% md\n"
    }
   },
   "source": [
    "<div class=\"alert alert-success\">\n",
    "<font size=\"4\">👍 <b>Комментарий ревьюера v.1</b></font>\n",
    "    \n",
    "Хорошо, что добавил описание данных, но сейчас его довольно тяжело прочесть. Можешь воспользоваться `<br>` для переноса строки.</div>"
   ]
  },
  {
   "cell_type": "markdown",
   "metadata": {
    "pycharm": {
     "name": "#%% md\n"
    }
   },
   "source": [
    "<div class=\"alert alert-info\">\n",
    "<font size=\"4\"><b>Комментарий студента</b></font>\n",
    "Привет, Кирилл!\n",
    "Готово    \n",
    "</div>\n"
   ]
  },
  {
   "cell_type": "markdown",
   "metadata": {},
   "source": [
    "<div class=\"alert alert-success\">\n",
    "<font size=\"4\">👍 <b>Комментарий ревьюера v.2</b></font>\n",
    "    \n",
    "Намного лучше.</div>"
   ]
  },
  {
   "cell_type": "markdown",
   "metadata": {
    "pycharm": {
     "name": "#%% md\n"
    }
   },
   "source": [
    "<a id='research_plan'></a>\n",
    "# План проведения исследования #\n",
    "1. загрузка данных\n",
    "2. предобработка данных\n",
    "3. приоритезация гипотез по ICE\n",
    "4. приоритезация гипотез по RICE\n",
    "5. A/B-тест\n",
    "6. анализ результатов A/B-теста"
   ]
  },
  {
   "cell_type": "markdown",
   "metadata": {
    "pycharm": {
     "name": "#%% md\n"
    }
   },
   "source": [
    "<div class=\"alert alert-success\">\n",
    "<font size=\"4\">👍 <b>Комментарий ревьюера v.1</b></font>\n",
    "    \n",
    "Молодец, что оформил введение в проект, оно позволяет понять, насколько ты в курсе проблемы и понимаешь что делаешь. Ты сделаешь введение лучше, если добавишь в него краткое описание проекта и сформулируешь цели более развернуто. Еще твой проект станет намного удобней в использовании, если ты добавишь интерактивное оглавление — с помощью гиперссылок или в плагине toc. Материал об этом есть в студенческом notion, для получения ссылки и доступа обратись к куратору.</div>"
   ]
  },
  {
   "cell_type": "markdown",
   "metadata": {},
   "source": [
    "<div class=\"alert alert-success\">\n",
    "<font size=\"4\">👍 <b>Комментарий ревьюера v.2</b></font>\n",
    "    \n",
    "Отличное оглавление!</div>"
   ]
  },
  {
   "cell_type": "markdown",
   "metadata": {
    "pycharm": {
     "name": "#%% md\n"
    }
   },
   "source": [
    "<a id='import'></a>\n",
    "# Импорт библиотек #"
   ]
  },
  {
   "cell_type": "code",
   "execution_count": 1,
   "metadata": {
    "pycharm": {
     "name": "#%%\n"
    }
   },
   "outputs": [],
   "source": [
    "import pandas as pd\n",
    "import numpy as np\n",
    "import datetime as dt\n",
    "from IPython.display import display\n",
    "# from IPython.core.display_functions import display\n",
    "import plotly.express as px\n",
    "from scipy import stats as st\n",
    "import warnings\n",
    "import os\n",
    "\n",
    "pd.set_option('display.max_colwidth', None)\n",
    "warnings.filterwarnings('ignore')"
   ]
  },
  {
   "cell_type": "markdown",
   "metadata": {
    "pycharm": {
     "name": "#%% md\n"
    }
   },
   "source": [
    "<div class=\"alert alert-warning\">\n",
    "<font size=\"4\">📝 <b>Комментарий ревьюера v.1</b></font>\n",
    "    \n",
    "Правильно, что весь импорт ты проводишь в первой ячейке работы. Так твой коллега, запускающий работу, будет в курсе используемых в ней библиотек и сможет при необходимости быстро настроить окружение. Однако стоило проверить, что все модули, которые ты используешь, есть в Jupyter hub. Например, `IPython.core.display_functions` — нет. </div>"
   ]
  },
  {
   "cell_type": "markdown",
   "metadata": {
    "pycharm": {
     "name": "#%% md\n"
    }
   },
   "source": [
    "<div class=\"alert alert-info\">\n",
    "<font size=\"4\"><b>Комментарий студента</b></font>\n",
    "Исправил импорт.\n",
    "Импорт из указанного пакета IDE пометила как устаревший. \n",
    "Поэтому ранее использовал актуальную библиотеку.\n",
    "</div>"
   ]
  },
  {
   "cell_type": "markdown",
   "metadata": {},
   "source": [
    "<div class=\"alert alert-success\">\n",
    "<font size=\"4\">👍 <b>Комментарий ревьюера v.2</b></font>\n",
    "    \n",
    "Спасибо, что исправил.</div>"
   ]
  },
  {
   "cell_type": "markdown",
   "metadata": {
    "pycharm": {
     "name": "#%% md\n"
    }
   },
   "source": [
    "<a id='data'></a>\n",
    "# Загрузка данных #"
   ]
  },
  {
   "cell_type": "code",
   "execution_count": 2,
   "metadata": {
    "pycharm": {
     "name": "#%%\n"
    }
   },
   "outputs": [],
   "source": [
    "path_1 = 'datasets/'\n",
    "path_2 = '/datasets/'\n",
    "\n",
    "if os.path.exists(path=path_1):\n",
    "    hypothesis = pd.read_csv(filepath_or_buffer=path_1 + 'hypothesis.csv', sep=',')\n",
    "    orders = pd.read_csv(filepath_or_buffer=path_1 + 'orders.csv', sep=',')\n",
    "    visitors = pd.read_csv(filepath_or_buffer=path_1 + 'visitors.csv', sep=',')\n",
    "elif os.path.exists(path=path_2):\n",
    "    hypothesis = pd.read_csv(filepath_or_buffer=path_2 + 'hypothesis.csv', sep=',')\n",
    "    orders = pd.read_csv(filepath_or_buffer=path_2 + 'orders.csv', sep=',')\n",
    "    visitors = pd.read_csv(filepath_or_buffer=path_2 + 'visitors.csv', sep=',')\n",
    "else: print('Данные отсутствуют. Проверьте путь к папкам с данными')"
   ]
  },
  {
   "cell_type": "markdown",
   "metadata": {
    "pycharm": {
     "name": "#%% md\n"
    }
   },
   "source": [
    "<div class=\"alert alert-warning\">\n",
    "<font size=\"4\">📝 <b>Комментарий ревьюера v.1</b></font>\n",
    "    \n",
    "Кажется, работа над проектов велась локально и пути к файлам были изменены на общедоступные не совсем верно. Сейчас я внесу изменения в твой код, но в следующий раз будь внимательней. Стоит писать код таким образом, что бы он запускался и в jupiter hub, и локально без внесения дополнительных правок. Этого можно добиться многими способами. Например, использовать конструкцию ``try-except`` — для путей файлов: ``try`` — пути на локальном компьютере, ``except``  пути на сервере. Или применить библиотеку ``os``:\n",
    "\n",
    "    import os\n",
    "\n",
    "    pth1 = '/folder_1/data.csv'\n",
    "    pth2 = '/folder_2/data.csv'\n",
    "    \n",
    "    if os.path.exists(pth1):\n",
    "        query_1 = pd.read_csv(pth1)\n",
    "    elif os.path.exists(pth2):\n",
    "        query_1 = pd.read_csv(pth2)\n",
    "    else:\n",
    "        print('Something is wrong)\n",
    "    \n",
    "</div>"
   ]
  },
  {
   "cell_type": "markdown",
   "metadata": {
    "pycharm": {
     "name": "#%% md\n"
    }
   },
   "source": [
    "<div class=\"alert alert-info\">\n",
    "<font size=\"4\"><b>Комментарий студента</b></font>\n",
    "Исправлено.\n",
    "</div>\n"
   ]
  },
  {
   "cell_type": "markdown",
   "metadata": {},
   "source": [
    "<div class=\"alert alert-success\">\n",
    "<font size=\"4\">👍 <b>Комментарий ревьюера v.2</b></font>\n",
    "    \n",
    "Класс! И на будущее пригодится.</div>"
   ]
  },
  {
   "cell_type": "markdown",
   "metadata": {
    "pycharm": {
     "name": "#%% md\n"
    }
   },
   "source": [
    "<a id='preview_hypothesis'></a>\n",
    "## Предварительный осмотр hypothesis ##"
   ]
  },
  {
   "cell_type": "code",
   "execution_count": 3,
   "metadata": {
    "pycharm": {
     "name": "#%%\n"
    },
    "scrolled": true
   },
   "outputs": [
    {
     "data": {
      "text/plain": "                                                                                                     Hypothesis  \\\n0            Добавить два новых канала привлечения трафика, что позволит привлекать на 30% больше пользователей   \n1                                     Запустить собственную службу доставки, что сократит срок доставки заказов   \n2  Добавить блоки рекомендаций товаров на сайт интернет магазина, чтобы повысить конверсию и средний чек заказа   \n3           Изменить структура категорий, что увеличит конверсию, т.к. пользователи быстрее найдут нужный товар   \n4                              Изменить цвет фона главной страницы, чтобы увеличить вовлеченность пользователей   \n5                      Добавить страницу отзывов клиентов о магазине, что позволит увеличить количество заказов   \n6          Показать на главной странице баннеры с актуальными акциями и распродажами, чтобы увеличить конверсию   \n7              Добавить форму подписки на все основные страницы, чтобы собрать базу клиентов для email-рассылок   \n8                                                       Запустить акцию, дающую скидку на товар в день рождения   \n\n   Reach  Impact  Confidence  Efforts  \n0      3      10           8        6  \n1      2       5           4       10  \n2      8       3           7        3  \n3      8       3           3        8  \n4      3       1           1        1  \n5      3       2           2        3  \n6      5       3           8        3  \n7     10       7           8        5  \n8      1       9           9        5  ",
      "text/html": "<div>\n<style scoped>\n    .dataframe tbody tr th:only-of-type {\n        vertical-align: middle;\n    }\n\n    .dataframe tbody tr th {\n        vertical-align: top;\n    }\n\n    .dataframe thead th {\n        text-align: right;\n    }\n</style>\n<table border=\"1\" class=\"dataframe\">\n  <thead>\n    <tr style=\"text-align: right;\">\n      <th></th>\n      <th>Hypothesis</th>\n      <th>Reach</th>\n      <th>Impact</th>\n      <th>Confidence</th>\n      <th>Efforts</th>\n    </tr>\n  </thead>\n  <tbody>\n    <tr>\n      <th>0</th>\n      <td>Добавить два новых канала привлечения трафика, что позволит привлекать на 30% больше пользователей</td>\n      <td>3</td>\n      <td>10</td>\n      <td>8</td>\n      <td>6</td>\n    </tr>\n    <tr>\n      <th>1</th>\n      <td>Запустить собственную службу доставки, что сократит срок доставки заказов</td>\n      <td>2</td>\n      <td>5</td>\n      <td>4</td>\n      <td>10</td>\n    </tr>\n    <tr>\n      <th>2</th>\n      <td>Добавить блоки рекомендаций товаров на сайт интернет магазина, чтобы повысить конверсию и средний чек заказа</td>\n      <td>8</td>\n      <td>3</td>\n      <td>7</td>\n      <td>3</td>\n    </tr>\n    <tr>\n      <th>3</th>\n      <td>Изменить структура категорий, что увеличит конверсию, т.к. пользователи быстрее найдут нужный товар</td>\n      <td>8</td>\n      <td>3</td>\n      <td>3</td>\n      <td>8</td>\n    </tr>\n    <tr>\n      <th>4</th>\n      <td>Изменить цвет фона главной страницы, чтобы увеличить вовлеченность пользователей</td>\n      <td>3</td>\n      <td>1</td>\n      <td>1</td>\n      <td>1</td>\n    </tr>\n    <tr>\n      <th>5</th>\n      <td>Добавить страницу отзывов клиентов о магазине, что позволит увеличить количество заказов</td>\n      <td>3</td>\n      <td>2</td>\n      <td>2</td>\n      <td>3</td>\n    </tr>\n    <tr>\n      <th>6</th>\n      <td>Показать на главной странице баннеры с актуальными акциями и распродажами, чтобы увеличить конверсию</td>\n      <td>5</td>\n      <td>3</td>\n      <td>8</td>\n      <td>3</td>\n    </tr>\n    <tr>\n      <th>7</th>\n      <td>Добавить форму подписки на все основные страницы, чтобы собрать базу клиентов для email-рассылок</td>\n      <td>10</td>\n      <td>7</td>\n      <td>8</td>\n      <td>5</td>\n    </tr>\n    <tr>\n      <th>8</th>\n      <td>Запустить акцию, дающую скидку на товар в день рождения</td>\n      <td>1</td>\n      <td>9</td>\n      <td>9</td>\n      <td>5</td>\n    </tr>\n  </tbody>\n</table>\n</div>"
     },
     "metadata": {},
     "output_type": "display_data"
    }
   ],
   "source": [
    "display(hypothesis)"
   ]
  },
  {
   "cell_type": "markdown",
   "metadata": {
    "pycharm": {
     "name": "#%% md\n"
    }
   },
   "source": [
    "<div class=\"alert alert-success\">\n",
    "<font size=\"4\">👍 <b>Комментарий ревьюера v.1</b></font>\n",
    "    \n",
    "Для полного отображения гипотез в таблицах советую использовать надстройку pd.set_option('display.max_colwidth', -1).</div>"
   ]
  },
  {
   "cell_type": "markdown",
   "metadata": {
    "pycharm": {
     "name": "#%% md\n"
    }
   },
   "source": [
    "<div class=\"alert alert-info\">\n",
    "<font size=\"4\"><b>Комментарий студента</b></font>\n",
    "Благодарю.\n",
    "Добавил.\n",
    "</div>"
   ]
  },
  {
   "cell_type": "markdown",
   "metadata": {},
   "source": [
    "<div class=\"alert alert-success\">\n",
    "<font size=\"4\">👍 <b>Комментарий ревьюера v.2</b></font>\n",
    "    \n",
    "Отлично!</div>"
   ]
  },
  {
   "cell_type": "code",
   "execution_count": 4,
   "metadata": {
    "pycharm": {
     "name": "#%%\n"
    }
   },
   "outputs": [
    {
     "name": "stdout",
     "output_type": "stream",
     "text": [
      "<class 'pandas.core.frame.DataFrame'>\n",
      "RangeIndex: 9 entries, 0 to 8\n",
      "Data columns (total 5 columns):\n",
      " #   Column      Non-Null Count  Dtype \n",
      "---  ------      --------------  ----- \n",
      " 0   Hypothesis  9 non-null      object\n",
      " 1   Reach       9 non-null      int64 \n",
      " 2   Impact      9 non-null      int64 \n",
      " 3   Confidence  9 non-null      int64 \n",
      " 4   Efforts     9 non-null      int64 \n",
      "dtypes: int64(4), object(1)\n",
      "memory usage: 488.0+ bytes\n"
     ]
    }
   ],
   "source": [
    "hypothesis.info()"
   ]
  },
  {
   "cell_type": "markdown",
   "metadata": {
    "pycharm": {
     "name": "#%% md\n"
    }
   },
   "source": [
    "<a id='preview_orders'></a>\n",
    "## Предварительный осмотр orders ##"
   ]
  },
  {
   "cell_type": "code",
   "execution_count": 5,
   "metadata": {
    "pycharm": {
     "name": "#%%\n"
    }
   },
   "outputs": [
    {
     "data": {
      "text/plain": "      transactionId   visitorId        date  revenue group\n0        3667963787  3312258926  2019-08-15     1650     B\n1        2804400009  3642806036  2019-08-15      730     B\n2        2961555356  4069496402  2019-08-15      400     A\n3        3797467345  1196621759  2019-08-15     9759     B\n4        2282983706  2322279887  2019-08-15     2308     B\n...             ...         ...         ...      ...   ...\n1192     2662137336  3733762160  2019-08-14     6490     B\n1193     2203539145   370388673  2019-08-14     3190     A\n1194     1807773912   573423106  2019-08-14    10550     A\n1195     1947021204  1614305549  2019-08-14      100     A\n1196     3936777065  2108080724  2019-08-15   202740     B\n\n[1197 rows x 5 columns]",
      "text/html": "<div>\n<style scoped>\n    .dataframe tbody tr th:only-of-type {\n        vertical-align: middle;\n    }\n\n    .dataframe tbody tr th {\n        vertical-align: top;\n    }\n\n    .dataframe thead th {\n        text-align: right;\n    }\n</style>\n<table border=\"1\" class=\"dataframe\">\n  <thead>\n    <tr style=\"text-align: right;\">\n      <th></th>\n      <th>transactionId</th>\n      <th>visitorId</th>\n      <th>date</th>\n      <th>revenue</th>\n      <th>group</th>\n    </tr>\n  </thead>\n  <tbody>\n    <tr>\n      <th>0</th>\n      <td>3667963787</td>\n      <td>3312258926</td>\n      <td>2019-08-15</td>\n      <td>1650</td>\n      <td>B</td>\n    </tr>\n    <tr>\n      <th>1</th>\n      <td>2804400009</td>\n      <td>3642806036</td>\n      <td>2019-08-15</td>\n      <td>730</td>\n      <td>B</td>\n    </tr>\n    <tr>\n      <th>2</th>\n      <td>2961555356</td>\n      <td>4069496402</td>\n      <td>2019-08-15</td>\n      <td>400</td>\n      <td>A</td>\n    </tr>\n    <tr>\n      <th>3</th>\n      <td>3797467345</td>\n      <td>1196621759</td>\n      <td>2019-08-15</td>\n      <td>9759</td>\n      <td>B</td>\n    </tr>\n    <tr>\n      <th>4</th>\n      <td>2282983706</td>\n      <td>2322279887</td>\n      <td>2019-08-15</td>\n      <td>2308</td>\n      <td>B</td>\n    </tr>\n    <tr>\n      <th>...</th>\n      <td>...</td>\n      <td>...</td>\n      <td>...</td>\n      <td>...</td>\n      <td>...</td>\n    </tr>\n    <tr>\n      <th>1192</th>\n      <td>2662137336</td>\n      <td>3733762160</td>\n      <td>2019-08-14</td>\n      <td>6490</td>\n      <td>B</td>\n    </tr>\n    <tr>\n      <th>1193</th>\n      <td>2203539145</td>\n      <td>370388673</td>\n      <td>2019-08-14</td>\n      <td>3190</td>\n      <td>A</td>\n    </tr>\n    <tr>\n      <th>1194</th>\n      <td>1807773912</td>\n      <td>573423106</td>\n      <td>2019-08-14</td>\n      <td>10550</td>\n      <td>A</td>\n    </tr>\n    <tr>\n      <th>1195</th>\n      <td>1947021204</td>\n      <td>1614305549</td>\n      <td>2019-08-14</td>\n      <td>100</td>\n      <td>A</td>\n    </tr>\n    <tr>\n      <th>1196</th>\n      <td>3936777065</td>\n      <td>2108080724</td>\n      <td>2019-08-15</td>\n      <td>202740</td>\n      <td>B</td>\n    </tr>\n  </tbody>\n</table>\n<p>1197 rows × 5 columns</p>\n</div>"
     },
     "metadata": {},
     "output_type": "display_data"
    }
   ],
   "source": [
    "display(orders)"
   ]
  },
  {
   "cell_type": "code",
   "execution_count": 6,
   "metadata": {
    "pycharm": {
     "name": "#%%\n"
    }
   },
   "outputs": [
    {
     "name": "stdout",
     "output_type": "stream",
     "text": [
      "<class 'pandas.core.frame.DataFrame'>\n",
      "RangeIndex: 1197 entries, 0 to 1196\n",
      "Data columns (total 5 columns):\n",
      " #   Column         Non-Null Count  Dtype \n",
      "---  ------         --------------  ----- \n",
      " 0   transactionId  1197 non-null   int64 \n",
      " 1   visitorId      1197 non-null   int64 \n",
      " 2   date           1197 non-null   object\n",
      " 3   revenue        1197 non-null   int64 \n",
      " 4   group          1197 non-null   object\n",
      "dtypes: int64(3), object(2)\n",
      "memory usage: 46.9+ KB\n"
     ]
    }
   ],
   "source": [
    "orders.info()"
   ]
  },
  {
   "cell_type": "markdown",
   "metadata": {
    "pycharm": {
     "name": "#%% md\n"
    }
   },
   "source": [
    "## Предварительный осмотр visitors ##"
   ]
  },
  {
   "cell_type": "code",
   "execution_count": 7,
   "metadata": {
    "pycharm": {
     "name": "#%%\n"
    }
   },
   "outputs": [
    {
     "data": {
      "text/plain": "          date group  visitors\n0   2019-08-01     A       719\n1   2019-08-02     A       619\n2   2019-08-03     A       507\n3   2019-08-04     A       717\n4   2019-08-05     A       756\n..         ...   ...       ...\n57  2019-08-27     B       720\n58  2019-08-28     B       654\n59  2019-08-29     B       531\n60  2019-08-30     B       490\n61  2019-08-31     B       718\n\n[62 rows x 3 columns]",
      "text/html": "<div>\n<style scoped>\n    .dataframe tbody tr th:only-of-type {\n        vertical-align: middle;\n    }\n\n    .dataframe tbody tr th {\n        vertical-align: top;\n    }\n\n    .dataframe thead th {\n        text-align: right;\n    }\n</style>\n<table border=\"1\" class=\"dataframe\">\n  <thead>\n    <tr style=\"text-align: right;\">\n      <th></th>\n      <th>date</th>\n      <th>group</th>\n      <th>visitors</th>\n    </tr>\n  </thead>\n  <tbody>\n    <tr>\n      <th>0</th>\n      <td>2019-08-01</td>\n      <td>A</td>\n      <td>719</td>\n    </tr>\n    <tr>\n      <th>1</th>\n      <td>2019-08-02</td>\n      <td>A</td>\n      <td>619</td>\n    </tr>\n    <tr>\n      <th>2</th>\n      <td>2019-08-03</td>\n      <td>A</td>\n      <td>507</td>\n    </tr>\n    <tr>\n      <th>3</th>\n      <td>2019-08-04</td>\n      <td>A</td>\n      <td>717</td>\n    </tr>\n    <tr>\n      <th>4</th>\n      <td>2019-08-05</td>\n      <td>A</td>\n      <td>756</td>\n    </tr>\n    <tr>\n      <th>...</th>\n      <td>...</td>\n      <td>...</td>\n      <td>...</td>\n    </tr>\n    <tr>\n      <th>57</th>\n      <td>2019-08-27</td>\n      <td>B</td>\n      <td>720</td>\n    </tr>\n    <tr>\n      <th>58</th>\n      <td>2019-08-28</td>\n      <td>B</td>\n      <td>654</td>\n    </tr>\n    <tr>\n      <th>59</th>\n      <td>2019-08-29</td>\n      <td>B</td>\n      <td>531</td>\n    </tr>\n    <tr>\n      <th>60</th>\n      <td>2019-08-30</td>\n      <td>B</td>\n      <td>490</td>\n    </tr>\n    <tr>\n      <th>61</th>\n      <td>2019-08-31</td>\n      <td>B</td>\n      <td>718</td>\n    </tr>\n  </tbody>\n</table>\n<p>62 rows × 3 columns</p>\n</div>"
     },
     "metadata": {},
     "output_type": "display_data"
    }
   ],
   "source": [
    "display(visitors)"
   ]
  },
  {
   "cell_type": "code",
   "execution_count": 8,
   "metadata": {
    "pycharm": {
     "name": "#%%\n"
    }
   },
   "outputs": [
    {
     "name": "stdout",
     "output_type": "stream",
     "text": [
      "<class 'pandas.core.frame.DataFrame'>\n",
      "RangeIndex: 62 entries, 0 to 61\n",
      "Data columns (total 3 columns):\n",
      " #   Column    Non-Null Count  Dtype \n",
      "---  ------    --------------  ----- \n",
      " 0   date      62 non-null     object\n",
      " 1   group     62 non-null     object\n",
      " 2   visitors  62 non-null     int64 \n",
      "dtypes: int64(1), object(2)\n",
      "memory usage: 1.6+ KB\n"
     ]
    }
   ],
   "source": [
    "visitors.info()"
   ]
  },
  {
   "cell_type": "markdown",
   "metadata": {
    "pycharm": {
     "name": "#%% md\n"
    }
   },
   "source": [
    "## Результаты предварительного осмотра данных ##\n",
    "1. hypothesis:\n",
    "  - имена столбцов перевести в нижний регистр\n",
    "  - hypothesis['hypothesis'] - перевести значение в нижний регистр\n",
    "2. orders:\n",
    "  - переименовать \"transactionId\" -> \"transaction_id\"\n",
    "  - переименовать \"visitorId\" -> \"visitor_id\"\n",
    "  - \"date\".type(object) - > \"date\".type(datetime)\n",
    "3. visitors:\n",
    "  - \"date\".type(object) -> \"date\".type(datetime)"
   ]
  },
  {
   "cell_type": "markdown",
   "metadata": {
    "pycharm": {
     "name": "#%% md\n"
    }
   },
   "source": [
    "<div class=\"alert alert-success\">\n",
    "<font size=\"4\">👍 <b>Комментарий ревьюера v.1</b></font>\n",
    "    \n",
    "Ты верно определил особенности данных в части названия столбцов и несоответствия типов данных, хотя переводить текст гипотез в нижний регистр нет необходимости.</div>"
   ]
  },
  {
   "cell_type": "markdown",
   "metadata": {
    "pycharm": {
     "name": "#%% md\n"
    }
   },
   "source": [
    "<a id='prepare'></a>\n",
    "# Предобработка данных #"
   ]
  },
  {
   "cell_type": "markdown",
   "metadata": {
    "pycharm": {
     "name": "#%% md\n"
    }
   },
   "source": [
    "<a id='prepare_rename_columns'></a>\n",
    "## Переименоваине столбцов ##"
   ]
  },
  {
   "cell_type": "markdown",
   "metadata": {
    "pycharm": {
     "name": "#%% md\n"
    }
   },
   "source": [
    "<div class=\"alert alert-success\">\n",
    "<font size=\"4\">👍 <b>Комментарий ревьюера v.1</b></font>\n",
    "    \n",
    "Молодец, что определяешь свою функцию, но не понятно почему не используешь ее далее.</div>"
   ]
  },
  {
   "cell_type": "markdown",
   "metadata": {
    "pycharm": {
     "name": "#%% md\n"
    }
   },
   "source": [
    "<div class=\"alert alert-info\">\n",
    "<font size=\"4\"><b>Комментарий студента</b></font>\n",
    "Удалил.\n",
    "</div>"
   ]
  },
  {
   "cell_type": "markdown",
   "metadata": {},
   "source": [
    "<div class=\"alert alert-success\">\n",
    "<font size=\"4\">👍 <b>Комментарий ревьюера v.2</b></font>\n",
    "    \n",
    "Хозяин — барин 😉</div>"
   ]
  },
  {
   "cell_type": "code",
   "execution_count": 9,
   "metadata": {
    "pycharm": {
     "name": "#%%\n"
    }
   },
   "outputs": [],
   "source": [
    "orders = orders.rename(columns={'transactionId':'transaction_id',\n",
    "                                'visitorId':'visitor_id'})\n",
    "\n",
    "hypothesis.columns = hypothesis.columns.str.lower().str.strip()\n",
    "orders.columns = orders.columns.str.lower().str.strip()\n",
    "visitors.columns = visitors.columns.str.lower().str.strip()"
   ]
  },
  {
   "cell_type": "markdown",
   "metadata": {
    "pycharm": {
     "name": "#%% md\n"
    }
   },
   "source": [
    "<a id='prepare_data'></a>\n",
    "## Изменение данных ##"
   ]
  },
  {
   "cell_type": "code",
   "execution_count": 10,
   "metadata": {
    "pycharm": {
     "name": "#%%\n"
    }
   },
   "outputs": [],
   "source": [
    "hypothesis['hypothesis'] = hypothesis['hypothesis'].str.strip().str.lower()"
   ]
  },
  {
   "cell_type": "markdown",
   "metadata": {
    "pycharm": {
     "name": "#%% md\n"
    }
   },
   "source": [
    "<a id='prepare_type'></a>\n",
    "## Изменение типов данных ##"
   ]
  },
  {
   "cell_type": "code",
   "execution_count": 11,
   "metadata": {
    "pycharm": {
     "name": "#%%\n"
    }
   },
   "outputs": [],
   "source": [
    "orders['date'] = orders['date'].map(lambda x: dt.datetime.strptime(x, '%Y-%m-%d'))\n",
    "visitors['date'] = visitors['date'].map(lambda x: dt.datetime.strptime(x, '%Y-%m-%d'))"
   ]
  },
  {
   "cell_type": "markdown",
   "metadata": {
    "pycharm": {
     "name": "#%% md\n"
    }
   },
   "source": [
    "<a id='prepare_dupl'></a>\n",
    "## Проверка наличия дубликатов ##"
   ]
  },
  {
   "cell_type": "code",
   "execution_count": 12,
   "metadata": {
    "pycharm": {
     "name": "#%%\n"
    }
   },
   "outputs": [
    {
     "name": "stdout",
     "output_type": "stream",
     "text": [
      "0\n",
      "0\n",
      "0\n"
     ]
    }
   ],
   "source": [
    "print(hypothesis.duplicated().sum())\n",
    "print(orders.duplicated().sum())\n",
    "print(visitors.duplicated().sum())"
   ]
  },
  {
   "cell_type": "markdown",
   "source": [
    "<a id='prepare_crossing'></a>\n",
    "## Проверка пересечения групп ##"
   ],
   "metadata": {
    "collapsed": false,
    "pycharm": {
     "name": "#%% md\n"
    }
   }
  },
  {
   "cell_type": "code",
   "execution_count": 13,
   "outputs": [
    {
     "name": "stdout",
     "output_type": "stream",
     "text": [
      "transaction_id    0\n",
      "visitor_id        0\n",
      "date              0\n",
      "revenue           0\n",
      "group             0\n",
      "dtype: int64\n",
      "\n",
      "date        0\n",
      "group       0\n",
      "visitors    0\n",
      "dtype: int64\n"
     ]
    }
   ],
   "source": [
    "print(orders[orders['group'] == 'A'].isin(orders[orders['group'] == 'B']).sum())\n",
    "print()\n",
    "print(visitors[visitors['group'] == 'A'].isin(visitors[visitors['group'] == 'B']).sum())"
   ],
   "metadata": {
    "collapsed": false,
    "pycharm": {
     "name": "#%%\n"
    }
   }
  },
  {
   "cell_type": "markdown",
   "metadata": {
    "pycharm": {
     "name": "#%% md\n"
    }
   },
   "source": [
    "## Итоги предобработки данных ##\n",
    "1. Переименованы столбцы датафреймов:\n",
    "  - orders:\n",
    "    * 'transactionId' -> 'transaction_id'\n",
    "    * 'visitorId' -> 'visitor_id'\n",
    "  - имена всех столбцов всех датафреймов переведены в нижний регистр\n",
    "2. Изменение значений:\n",
    "  - hypothesis['hypothesis'] переведены в нижний регистр\n",
    "3. Изменение типа данных:\n",
    "  - orders['date'].dtype('object') -> orders['date'].dtype('datetime')\n",
    "  - visotors['date'].dtype('object') -> visotors['date'].dtype('datetime')\n",
    "4. Дубликаты в данных отсутствуют\n",
    "5. Пересечения данных в группах отсутсвуют"
   ]
  },
  {
   "cell_type": "markdown",
   "metadata": {
    "pycharm": {
     "name": "#%% md\n"
    }
   },
   "source": [
    "<div class=\"alert alert-danger\">\n",
    "<font size=\"4\">❌ <b>Комментарий ревьюера v.1</b></font>\n",
    "    \n",
    "Давай зафиксируем все промежуточные выводы по результатам предобработки данных. </div>"
   ]
  },
  {
   "cell_type": "markdown",
   "metadata": {},
   "source": [
    "<div class=\"alert alert-success\">\n",
    "<font size=\"4\">👍 <b>Комментарий ревьюера v.2</b></font>\n",
    "    \n",
    "Забыл упомянуть про изменение типа данных в `visitors`.</div>"
   ]
  },
  {
   "cell_type": "markdown",
   "source": [
    "<div class=\"alert alert-info\">\n",
    "<font size=\"4\"><b>Комментарий студента v.2</b></font>\n",
    "Поправил.\n",
    "</div>"
   ],
   "metadata": {
    "collapsed": false,
    "pycharm": {
     "name": "#%% md\n"
    }
   }
  },
  {
   "cell_type": "markdown",
   "metadata": {
    "pycharm": {
     "name": "#%% md\n"
    }
   },
   "source": [
    "<div class=\"alert alert-success\">\n",
    "<font size=\"4\">👍 <b>Комментарий ревьюера v.1</b></font>\n",
    "    \n",
    "Обычно перед анализом результатов A/B-теста аналитики проверяют группы A и В на пересечение — здесь ты тоже можешь выполнить это упражнение. </div>"
   ]
  },
  {
   "cell_type": "markdown",
   "metadata": {
    "pycharm": {
     "name": "#%% md\n"
    }
   },
   "source": [
    "<div class=\"alert alert-info\">\n",
    "<font size=\"4\"><b>Комментарий студента</b></font>\n",
    "Расскажи пожалуйста подробнее о чем речь и я выполню упражнение.\n",
    "Ну и риторический вопрос: что мешало команде готовившей курс рассказать об этом шаге и добавить его в план выполнения проекта?! :):):)\n",
    "</div>"
   ]
  },
  {
   "cell_type": "markdown",
   "metadata": {},
   "source": [
    "<div class=\"alert alert-success\">\n",
    "<font size=\"4\">👍 <b>Комментарий ревьюера v.2</b></font>\n",
    "    \n",
    "Теоритически при наборе пользователей в группы для А/В-теста один и тот же пользователь может попасть как в группу А, так и в группу В, чего, конечно, не должно происходить, но иногда бывает. Как ты понимаешь, такое пересечение групп не может положительно сказаться на результатах А/В-теста. И тогда возникает вопрос: какова доля таких пользователей. Если доля не велика, то можно либо вычистить таких пользователей, либо оставить, т.к. мы понимаем, что их влияние также не велико. Но вот если доля пересекающихся пользователей значительна, то результатам такого А/В-теста будет мало доверия. В данном проекте у тебя есть возможность проверить пересечение групп только по тем пользователям, которые сделали заказы. По второму вопросу: каждый проект проверяет определенные навыки, и по мере твоего продвижения по курсу эти навыки будут расширяться. В текущем проекте это упражнение не является обязательным, чтобы не перегружать его, но в будущем ты уже будешь обращать на этот момент внимание 😉   </div>"
   ]
  },
  {
   "cell_type": "markdown",
   "source": [
    "<div class=\"alert alert-info\">\n",
    "<font size=\"4\"><b>Комментарий студента v.2</b></font>\n",
    "Добавил\n",
    "</div>"
   ],
   "metadata": {
    "collapsed": false,
    "pycharm": {
     "name": "#%% md\n"
    }
   }
  },
  {
   "cell_type": "markdown",
   "metadata": {
    "pycharm": {
     "name": "#%% md\n"
    }
   },
   "source": [
    "<a id='hypothesis'></a>\n",
    "# Приоритезация гипотез #"
   ]
  },
  {
   "cell_type": "markdown",
   "metadata": {
    "pycharm": {
     "name": "#%% md\n"
    }
   },
   "source": [
    "<a id='hypothesis_ice'></a>\n",
    "## Фреймворк ICE ##"
   ]
  },
  {
   "cell_type": "code",
   "execution_count": 14,
   "metadata": {
    "pycharm": {
     "name": "#%%\n"
    }
   },
   "outputs": [
    {
     "name": "stdout",
     "output_type": "stream",
     "text": [
      "                                                                                                     hypothesis  \\\n",
      "8                                                       запустить акцию, дающую скидку на товар в день рождения   \n",
      "0            добавить два новых канала привлечения трафика, что позволит привлекать на 30% больше пользователей   \n",
      "7              добавить форму подписки на все основные страницы, чтобы собрать базу клиентов для email-рассылок   \n",
      "6          показать на главной странице баннеры с актуальными акциями и распродажами, чтобы увеличить конверсию   \n",
      "2  добавить блоки рекомендаций товаров на сайт интернет магазина, чтобы повысить конверсию и средний чек заказа   \n",
      "1                                     запустить собственную службу доставки, что сократит срок доставки заказов   \n",
      "5                      добавить страницу отзывов клиентов о магазине, что позволит увеличить количество заказов   \n",
      "3           изменить структура категорий, что увеличит конверсию, т.к. пользователи быстрее найдут нужный товар   \n",
      "4                              изменить цвет фона главной страницы, чтобы увеличить вовлеченность пользователей   \n",
      "\n",
      "         ICE   RICE  \n",
      "8  16.200000   16.2  \n",
      "0  13.333333   40.0  \n",
      "7  11.200000  112.0  \n",
      "6   8.000000   40.0  \n",
      "2   7.000000   56.0  \n",
      "1   2.000000    4.0  \n",
      "5   1.333333    4.0  \n",
      "3   1.125000    9.0  \n",
      "4   1.000000    3.0  \n"
     ]
    }
   ],
   "source": [
    "hypothesis['ICE'] = (hypothesis['impact'] * hypothesis['confidence']) / hypothesis['efforts']\n",
    "hypothesis['RICE'] = (hypothesis['reach'] * hypothesis['impact'] * hypothesis['confidence']) / hypothesis['efforts']\n",
    "print(hypothesis[['hypothesis', 'ICE', 'RICE']].sort_values(by=['ICE', 'RICE'], ascending=False))"
   ]
  },
  {
   "cell_type": "markdown",
   "metadata": {
    "pycharm": {
     "name": "#%% md\n"
    }
   },
   "source": [
    "## Итоги приоритезации гипотез ##\n",
    "1. различия в оценках гипотез ICE и RICE обусловлены использованием компоненты 'REACH'(охват) в фреймфорке RICE.\n",
    "   В фреймфорке ICE указанный  компонент не учитывается."
   ]
  },
  {
   "cell_type": "markdown",
   "metadata": {
    "pycharm": {
     "name": "#%% md\n"
    }
   },
   "source": [
    "<div class=\"alert alert-success\">\n",
    "<font size=\"4\">👍 <b>Комментарий ревьюера v.1</b></font>\n",
    "    \n",
    "Верно, фреймворки отличаются учетом охвата. Но что можно сказать, например, о составе ТОП-5 гипотез по каждому из фреймворков? </div>"
   ]
  },
  {
   "cell_type": "markdown",
   "metadata": {
    "pycharm": {
     "name": "#%% md\n"
    }
   },
   "source": [
    "<a id='abtest'></a>\n",
    "# Анализ A/B-теста #"
   ]
  },
  {
   "cell_type": "markdown",
   "metadata": {
    "pycharm": {
     "name": "#%% md\n"
    }
   },
   "source": [
    "<a id='abtest_cum_revenue'></a>\n",
    "## Кумулятивная выручка групп ##"
   ]
  },
  {
   "cell_type": "code",
   "execution_count": 15,
   "metadata": {
    "pycharm": {
     "name": "#%%\n"
    }
   },
   "outputs": [],
   "source": [
    "dates_groups = orders[['date', 'group']].drop_duplicates()"
   ]
  },
  {
   "cell_type": "markdown",
   "metadata": {
    "pycharm": {
     "name": "#%% md\n"
    }
   },
   "source": [
    "### Агрегирование данных о покупателях/заказах/выручке групп, на указанную дату ###"
   ]
  },
  {
   "cell_type": "code",
   "execution_count": 16,
   "metadata": {
    "pycharm": {
     "name": "#%%\n"
    }
   },
   "outputs": [],
   "source": [
    "orders_agg = dates_groups.apply(lambda x: orders[np.logical_and(orders['date'] <= x['date'],\n",
    "                                                                orders['group'] == x['group'])]\\\n",
    "                                .agg({'date':np.max,\n",
    "                                      'group':np.max,\n",
    "                                      'transaction_id':pd.Series.nunique,\n",
    "                                      'visitor_id':pd.Series.nunique,\n",
    "                                      'revenue':np.sum}), axis='columns')\\\n",
    "    .sort_values(by=list(dates_groups.columns))"
   ]
  },
  {
   "cell_type": "markdown",
   "metadata": {
    "pycharm": {
     "name": "#%% md\n"
    }
   },
   "source": [
    "### Агрегирование данных о количестве посещений групп, на указанную дату ###"
   ]
  },
  {
   "cell_type": "code",
   "execution_count": 17,
   "metadata": {
    "pycharm": {
     "name": "#%%\n"
    }
   },
   "outputs": [],
   "source": [
    "visitors_agg = dates_groups.apply(lambda x: visitors[np.logical_and(visitors['date'] <= x['date'],\n",
    "                                                                    visitors['group'] == x['group'])]\\\n",
    "                                  .agg({'date':np.max,\n",
    "                                        'group':np.max,\n",
    "                                        'visitors':np.sum}), axis='columns')\\\n",
    "    .sort_values(by=list(dates_groups.columns))"
   ]
  },
  {
   "cell_type": "markdown",
   "metadata": {
    "pycharm": {
     "name": "#%% md\n"
    }
   },
   "source": [
    "### Объединение агрегированных таблиц заказов и посещений для формирования таблицы кумулятивных данных ###"
   ]
  },
  {
   "cell_type": "code",
   "execution_count": 18,
   "metadata": {
    "pycharm": {
     "name": "#%%\n"
    }
   },
   "outputs": [],
   "source": [
    "cum_data = orders_agg.merge(right=visitors_agg,\n",
    "                            how='inner',\n",
    "                            right_on=['date', 'group'],\n",
    "                            left_on=['date', 'group'])\n",
    "cum_data.columns = ['date', 'group', 'orders', 'buyers', 'revenue', 'visitors']"
   ]
  },
  {
   "cell_type": "markdown",
   "metadata": {
    "pycharm": {
     "name": "#%% md\n"
    }
   },
   "source": [
    "### График кумулятивной выручки групп ###"
   ]
  },
  {
   "cell_type": "code",
   "execution_count": 19,
   "metadata": {
    "pycharm": {
     "name": "#%%\n"
    }
   },
   "outputs": [
    {
     "data": {
      "application/vnd.plotly.v1+json": {
       "data": [
        {
         "hovertemplate": "Группа=A<br>Дата=%{x}<br>Выручка=%{y}<extra></extra>",
         "legendgroup": "A",
         "line": {
          "color": "rgb(76,114,176)",
          "dash": "solid"
         },
         "marker": {
          "symbol": "circle"
         },
         "mode": "lines",
         "name": "A",
         "orientation": "v",
         "showlegend": true,
         "x": [
          "2019-08-01T00:00:00",
          "2019-08-02T00:00:00",
          "2019-08-03T00:00:00",
          "2019-08-04T00:00:00",
          "2019-08-05T00:00:00",
          "2019-08-06T00:00:00",
          "2019-08-07T00:00:00",
          "2019-08-08T00:00:00",
          "2019-08-09T00:00:00",
          "2019-08-10T00:00:00",
          "2019-08-11T00:00:00",
          "2019-08-12T00:00:00",
          "2019-08-13T00:00:00",
          "2019-08-14T00:00:00",
          "2019-08-15T00:00:00",
          "2019-08-16T00:00:00",
          "2019-08-17T00:00:00",
          "2019-08-18T00:00:00",
          "2019-08-19T00:00:00",
          "2019-08-20T00:00:00",
          "2019-08-21T00:00:00",
          "2019-08-22T00:00:00",
          "2019-08-23T00:00:00",
          "2019-08-24T00:00:00",
          "2019-08-25T00:00:00",
          "2019-08-26T00:00:00",
          "2019-08-27T00:00:00",
          "2019-08-28T00:00:00",
          "2019-08-29T00:00:00",
          "2019-08-30T00:00:00",
          "2019-08-31T00:00:00"
         ],
         "xaxis": "x",
         "y": [
          148579,
          242401,
          354874,
          425699,
          549917,
          598401,
          740818,
          837097,
          1025603,
          1236098,
          1313683,
          1562873,
          1826511,
          1890852,
          1979057,
          2078908,
          2129769,
          2202167,
          2391910,
          2469529,
          2643838,
          2756579,
          2874367,
          3002070,
          3070704,
          3227918,
          3514698,
          3615820,
          3936510,
          4022970,
          4084803
         ],
         "yaxis": "y",
         "type": "scatter"
        },
        {
         "hovertemplate": "Группа=B<br>Дата=%{x}<br>Выручка=%{y}<extra></extra>",
         "legendgroup": "B",
         "line": {
          "color": "rgb(221,132,82)",
          "dash": "solid"
         },
         "marker": {
          "symbol": "circle"
         },
         "mode": "lines",
         "name": "B",
         "orientation": "v",
         "showlegend": true,
         "x": [
          "2019-08-01T00:00:00",
          "2019-08-02T00:00:00",
          "2019-08-03T00:00:00",
          "2019-08-04T00:00:00",
          "2019-08-05T00:00:00",
          "2019-08-06T00:00:00",
          "2019-08-07T00:00:00",
          "2019-08-08T00:00:00",
          "2019-08-09T00:00:00",
          "2019-08-10T00:00:00",
          "2019-08-11T00:00:00",
          "2019-08-12T00:00:00",
          "2019-08-13T00:00:00",
          "2019-08-14T00:00:00",
          "2019-08-15T00:00:00",
          "2019-08-16T00:00:00",
          "2019-08-17T00:00:00",
          "2019-08-18T00:00:00",
          "2019-08-19T00:00:00",
          "2019-08-20T00:00:00",
          "2019-08-21T00:00:00",
          "2019-08-22T00:00:00",
          "2019-08-23T00:00:00",
          "2019-08-24T00:00:00",
          "2019-08-25T00:00:00",
          "2019-08-26T00:00:00",
          "2019-08-27T00:00:00",
          "2019-08-28T00:00:00",
          "2019-08-29T00:00:00",
          "2019-08-30T00:00:00",
          "2019-08-31T00:00:00"
         ],
         "xaxis": "x",
         "y": [
          101217,
          266748,
          380996,
          489567,
          581995,
          824337,
          1049671,
          1270589,
          1431401,
          1539203,
          1592513,
          1734067,
          1853738,
          2025446,
          2367945,
          2539635,
          2620790,
          2686621,
          4116541,
          4263815,
          4426892,
          4589247,
          4703216,
          4798722,
          4901584,
          5084583,
          5232260,
          5328268,
          5559398,
          5774631,
          5907760
         ],
         "yaxis": "y",
         "type": "scatter"
        }
       ],
       "layout": {
        "template": {
         "data": {
          "barpolar": [
           {
            "marker": {
             "line": {
              "color": "rgb(234,234,242)",
              "width": 0.5
             },
             "pattern": {
              "fillmode": "overlay",
              "size": 10,
              "solidity": 0.2
             }
            },
            "type": "barpolar"
           }
          ],
          "bar": [
           {
            "error_x": {
             "color": "rgb(36,36,36)"
            },
            "error_y": {
             "color": "rgb(36,36,36)"
            },
            "marker": {
             "line": {
              "color": "rgb(234,234,242)",
              "width": 0.5
             },
             "pattern": {
              "fillmode": "overlay",
              "size": 10,
              "solidity": 0.2
             }
            },
            "type": "bar"
           }
          ],
          "carpet": [
           {
            "aaxis": {
             "endlinecolor": "rgb(36,36,36)",
             "gridcolor": "white",
             "linecolor": "white",
             "minorgridcolor": "white",
             "startlinecolor": "rgb(36,36,36)"
            },
            "baxis": {
             "endlinecolor": "rgb(36,36,36)",
             "gridcolor": "white",
             "linecolor": "white",
             "minorgridcolor": "white",
             "startlinecolor": "rgb(36,36,36)"
            },
            "type": "carpet"
           }
          ],
          "choropleth": [
           {
            "colorbar": {
             "outlinewidth": 0,
             "tickcolor": "rgb(36,36,36)",
             "ticklen": 8,
             "ticks": "outside",
             "tickwidth": 2
            },
            "type": "choropleth"
           }
          ],
          "contourcarpet": [
           {
            "colorbar": {
             "outlinewidth": 0,
             "tickcolor": "rgb(36,36,36)",
             "ticklen": 8,
             "ticks": "outside",
             "tickwidth": 2
            },
            "type": "contourcarpet"
           }
          ],
          "contour": [
           {
            "colorbar": {
             "outlinewidth": 0,
             "tickcolor": "rgb(36,36,36)",
             "ticklen": 8,
             "ticks": "outside",
             "tickwidth": 2
            },
            "colorscale": [
             [
              0.0,
              "rgb(2,4,25)"
             ],
             [
              0.06274509803921569,
              "rgb(24,15,41)"
             ],
             [
              0.12549019607843137,
              "rgb(47,23,57)"
             ],
             [
              0.18823529411764706,
              "rgb(71,28,72)"
             ],
             [
              0.25098039215686274,
              "rgb(97,30,82)"
             ],
             [
              0.3137254901960784,
              "rgb(123,30,89)"
             ],
             [
              0.3764705882352941,
              "rgb(150,27,91)"
             ],
             [
              0.4392156862745098,
              "rgb(177,22,88)"
             ],
             [
              0.5019607843137255,
              "rgb(203,26,79)"
             ],
             [
              0.5647058823529412,
              "rgb(223,47,67)"
             ],
             [
              0.6274509803921569,
              "rgb(236,76,61)"
             ],
             [
              0.6901960784313725,
              "rgb(242,107,73)"
             ],
             [
              0.7529411764705882,
              "rgb(244,135,95)"
             ],
             [
              0.8156862745098039,
              "rgb(245,162,122)"
             ],
             [
              0.8784313725490196,
              "rgb(246,188,153)"
             ],
             [
              0.9411764705882353,
              "rgb(247,212,187)"
             ],
             [
              1.0,
              "rgb(250,234,220)"
             ]
            ],
            "type": "contour"
           }
          ],
          "heatmapgl": [
           {
            "colorbar": {
             "outlinewidth": 0,
             "tickcolor": "rgb(36,36,36)",
             "ticklen": 8,
             "ticks": "outside",
             "tickwidth": 2
            },
            "colorscale": [
             [
              0.0,
              "rgb(2,4,25)"
             ],
             [
              0.06274509803921569,
              "rgb(24,15,41)"
             ],
             [
              0.12549019607843137,
              "rgb(47,23,57)"
             ],
             [
              0.18823529411764706,
              "rgb(71,28,72)"
             ],
             [
              0.25098039215686274,
              "rgb(97,30,82)"
             ],
             [
              0.3137254901960784,
              "rgb(123,30,89)"
             ],
             [
              0.3764705882352941,
              "rgb(150,27,91)"
             ],
             [
              0.4392156862745098,
              "rgb(177,22,88)"
             ],
             [
              0.5019607843137255,
              "rgb(203,26,79)"
             ],
             [
              0.5647058823529412,
              "rgb(223,47,67)"
             ],
             [
              0.6274509803921569,
              "rgb(236,76,61)"
             ],
             [
              0.6901960784313725,
              "rgb(242,107,73)"
             ],
             [
              0.7529411764705882,
              "rgb(244,135,95)"
             ],
             [
              0.8156862745098039,
              "rgb(245,162,122)"
             ],
             [
              0.8784313725490196,
              "rgb(246,188,153)"
             ],
             [
              0.9411764705882353,
              "rgb(247,212,187)"
             ],
             [
              1.0,
              "rgb(250,234,220)"
             ]
            ],
            "type": "heatmapgl"
           }
          ],
          "heatmap": [
           {
            "colorbar": {
             "outlinewidth": 0,
             "tickcolor": "rgb(36,36,36)",
             "ticklen": 8,
             "ticks": "outside",
             "tickwidth": 2
            },
            "colorscale": [
             [
              0.0,
              "rgb(2,4,25)"
             ],
             [
              0.06274509803921569,
              "rgb(24,15,41)"
             ],
             [
              0.12549019607843137,
              "rgb(47,23,57)"
             ],
             [
              0.18823529411764706,
              "rgb(71,28,72)"
             ],
             [
              0.25098039215686274,
              "rgb(97,30,82)"
             ],
             [
              0.3137254901960784,
              "rgb(123,30,89)"
             ],
             [
              0.3764705882352941,
              "rgb(150,27,91)"
             ],
             [
              0.4392156862745098,
              "rgb(177,22,88)"
             ],
             [
              0.5019607843137255,
              "rgb(203,26,79)"
             ],
             [
              0.5647058823529412,
              "rgb(223,47,67)"
             ],
             [
              0.6274509803921569,
              "rgb(236,76,61)"
             ],
             [
              0.6901960784313725,
              "rgb(242,107,73)"
             ],
             [
              0.7529411764705882,
              "rgb(244,135,95)"
             ],
             [
              0.8156862745098039,
              "rgb(245,162,122)"
             ],
             [
              0.8784313725490196,
              "rgb(246,188,153)"
             ],
             [
              0.9411764705882353,
              "rgb(247,212,187)"
             ],
             [
              1.0,
              "rgb(250,234,220)"
             ]
            ],
            "type": "heatmap"
           }
          ],
          "histogram2dcontour": [
           {
            "colorbar": {
             "outlinewidth": 0,
             "tickcolor": "rgb(36,36,36)",
             "ticklen": 8,
             "ticks": "outside",
             "tickwidth": 2
            },
            "colorscale": [
             [
              0.0,
              "rgb(2,4,25)"
             ],
             [
              0.06274509803921569,
              "rgb(24,15,41)"
             ],
             [
              0.12549019607843137,
              "rgb(47,23,57)"
             ],
             [
              0.18823529411764706,
              "rgb(71,28,72)"
             ],
             [
              0.25098039215686274,
              "rgb(97,30,82)"
             ],
             [
              0.3137254901960784,
              "rgb(123,30,89)"
             ],
             [
              0.3764705882352941,
              "rgb(150,27,91)"
             ],
             [
              0.4392156862745098,
              "rgb(177,22,88)"
             ],
             [
              0.5019607843137255,
              "rgb(203,26,79)"
             ],
             [
              0.5647058823529412,
              "rgb(223,47,67)"
             ],
             [
              0.6274509803921569,
              "rgb(236,76,61)"
             ],
             [
              0.6901960784313725,
              "rgb(242,107,73)"
             ],
             [
              0.7529411764705882,
              "rgb(244,135,95)"
             ],
             [
              0.8156862745098039,
              "rgb(245,162,122)"
             ],
             [
              0.8784313725490196,
              "rgb(246,188,153)"
             ],
             [
              0.9411764705882353,
              "rgb(247,212,187)"
             ],
             [
              1.0,
              "rgb(250,234,220)"
             ]
            ],
            "type": "histogram2dcontour"
           }
          ],
          "histogram2d": [
           {
            "colorbar": {
             "outlinewidth": 0,
             "tickcolor": "rgb(36,36,36)",
             "ticklen": 8,
             "ticks": "outside",
             "tickwidth": 2
            },
            "colorscale": [
             [
              0.0,
              "rgb(2,4,25)"
             ],
             [
              0.06274509803921569,
              "rgb(24,15,41)"
             ],
             [
              0.12549019607843137,
              "rgb(47,23,57)"
             ],
             [
              0.18823529411764706,
              "rgb(71,28,72)"
             ],
             [
              0.25098039215686274,
              "rgb(97,30,82)"
             ],
             [
              0.3137254901960784,
              "rgb(123,30,89)"
             ],
             [
              0.3764705882352941,
              "rgb(150,27,91)"
             ],
             [
              0.4392156862745098,
              "rgb(177,22,88)"
             ],
             [
              0.5019607843137255,
              "rgb(203,26,79)"
             ],
             [
              0.5647058823529412,
              "rgb(223,47,67)"
             ],
             [
              0.6274509803921569,
              "rgb(236,76,61)"
             ],
             [
              0.6901960784313725,
              "rgb(242,107,73)"
             ],
             [
              0.7529411764705882,
              "rgb(244,135,95)"
             ],
             [
              0.8156862745098039,
              "rgb(245,162,122)"
             ],
             [
              0.8784313725490196,
              "rgb(246,188,153)"
             ],
             [
              0.9411764705882353,
              "rgb(247,212,187)"
             ],
             [
              1.0,
              "rgb(250,234,220)"
             ]
            ],
            "type": "histogram2d"
           }
          ],
          "histogram": [
           {
            "marker": {
             "pattern": {
              "fillmode": "overlay",
              "size": 10,
              "solidity": 0.2
             }
            },
            "type": "histogram"
           }
          ],
          "mesh3d": [
           {
            "colorbar": {
             "outlinewidth": 0,
             "tickcolor": "rgb(36,36,36)",
             "ticklen": 8,
             "ticks": "outside",
             "tickwidth": 2
            },
            "type": "mesh3d"
           }
          ],
          "parcoords": [
           {
            "line": {
             "colorbar": {
              "outlinewidth": 0,
              "tickcolor": "rgb(36,36,36)",
              "ticklen": 8,
              "ticks": "outside",
              "tickwidth": 2
             }
            },
            "type": "parcoords"
           }
          ],
          "pie": [
           {
            "automargin": true,
            "type": "pie"
           }
          ],
          "scatter3d": [
           {
            "line": {
             "colorbar": {
              "outlinewidth": 0,
              "tickcolor": "rgb(36,36,36)",
              "ticklen": 8,
              "ticks": "outside",
              "tickwidth": 2
             }
            },
            "marker": {
             "colorbar": {
              "outlinewidth": 0,
              "tickcolor": "rgb(36,36,36)",
              "ticklen": 8,
              "ticks": "outside",
              "tickwidth": 2
             }
            },
            "type": "scatter3d"
           }
          ],
          "scattercarpet": [
           {
            "marker": {
             "colorbar": {
              "outlinewidth": 0,
              "tickcolor": "rgb(36,36,36)",
              "ticklen": 8,
              "ticks": "outside",
              "tickwidth": 2
             }
            },
            "type": "scattercarpet"
           }
          ],
          "scattergeo": [
           {
            "marker": {
             "colorbar": {
              "outlinewidth": 0,
              "tickcolor": "rgb(36,36,36)",
              "ticklen": 8,
              "ticks": "outside",
              "tickwidth": 2
             }
            },
            "type": "scattergeo"
           }
          ],
          "scattergl": [
           {
            "marker": {
             "colorbar": {
              "outlinewidth": 0,
              "tickcolor": "rgb(36,36,36)",
              "ticklen": 8,
              "ticks": "outside",
              "tickwidth": 2
             }
            },
            "type": "scattergl"
           }
          ],
          "scattermapbox": [
           {
            "marker": {
             "colorbar": {
              "outlinewidth": 0,
              "tickcolor": "rgb(36,36,36)",
              "ticklen": 8,
              "ticks": "outside",
              "tickwidth": 2
             }
            },
            "type": "scattermapbox"
           }
          ],
          "scatterpolargl": [
           {
            "marker": {
             "colorbar": {
              "outlinewidth": 0,
              "tickcolor": "rgb(36,36,36)",
              "ticklen": 8,
              "ticks": "outside",
              "tickwidth": 2
             }
            },
            "type": "scatterpolargl"
           }
          ],
          "scatterpolar": [
           {
            "marker": {
             "colorbar": {
              "outlinewidth": 0,
              "tickcolor": "rgb(36,36,36)",
              "ticklen": 8,
              "ticks": "outside",
              "tickwidth": 2
             }
            },
            "type": "scatterpolar"
           }
          ],
          "scatter": [
           {
            "marker": {
             "colorbar": {
              "outlinewidth": 0,
              "tickcolor": "rgb(36,36,36)",
              "ticklen": 8,
              "ticks": "outside",
              "tickwidth": 2
             }
            },
            "type": "scatter"
           }
          ],
          "scatterternary": [
           {
            "marker": {
             "colorbar": {
              "outlinewidth": 0,
              "tickcolor": "rgb(36,36,36)",
              "ticklen": 8,
              "ticks": "outside",
              "tickwidth": 2
             }
            },
            "type": "scatterternary"
           }
          ],
          "surface": [
           {
            "colorbar": {
             "outlinewidth": 0,
             "tickcolor": "rgb(36,36,36)",
             "ticklen": 8,
             "ticks": "outside",
             "tickwidth": 2
            },
            "colorscale": [
             [
              0.0,
              "rgb(2,4,25)"
             ],
             [
              0.06274509803921569,
              "rgb(24,15,41)"
             ],
             [
              0.12549019607843137,
              "rgb(47,23,57)"
             ],
             [
              0.18823529411764706,
              "rgb(71,28,72)"
             ],
             [
              0.25098039215686274,
              "rgb(97,30,82)"
             ],
             [
              0.3137254901960784,
              "rgb(123,30,89)"
             ],
             [
              0.3764705882352941,
              "rgb(150,27,91)"
             ],
             [
              0.4392156862745098,
              "rgb(177,22,88)"
             ],
             [
              0.5019607843137255,
              "rgb(203,26,79)"
             ],
             [
              0.5647058823529412,
              "rgb(223,47,67)"
             ],
             [
              0.6274509803921569,
              "rgb(236,76,61)"
             ],
             [
              0.6901960784313725,
              "rgb(242,107,73)"
             ],
             [
              0.7529411764705882,
              "rgb(244,135,95)"
             ],
             [
              0.8156862745098039,
              "rgb(245,162,122)"
             ],
             [
              0.8784313725490196,
              "rgb(246,188,153)"
             ],
             [
              0.9411764705882353,
              "rgb(247,212,187)"
             ],
             [
              1.0,
              "rgb(250,234,220)"
             ]
            ],
            "type": "surface"
           }
          ],
          "table": [
           {
            "cells": {
             "fill": {
              "color": "rgb(231,231,240)"
             },
             "line": {
              "color": "white"
             }
            },
            "header": {
             "fill": {
              "color": "rgb(183,183,191)"
             },
             "line": {
              "color": "white"
             }
            },
            "type": "table"
           }
          ]
         },
         "layout": {
          "annotationdefaults": {
           "arrowcolor": "rgb(67,103,167)"
          },
          "autotypenumbers": "strict",
          "coloraxis": {
           "colorbar": {
            "outlinewidth": 0,
            "tickcolor": "rgb(36,36,36)",
            "ticklen": 8,
            "ticks": "outside",
            "tickwidth": 2
           }
          },
          "colorscale": {
           "sequential": [
            [
             0.0,
             "rgb(2,4,25)"
            ],
            [
             0.06274509803921569,
             "rgb(24,15,41)"
            ],
            [
             0.12549019607843137,
             "rgb(47,23,57)"
            ],
            [
             0.18823529411764706,
             "rgb(71,28,72)"
            ],
            [
             0.25098039215686274,
             "rgb(97,30,82)"
            ],
            [
             0.3137254901960784,
             "rgb(123,30,89)"
            ],
            [
             0.3764705882352941,
             "rgb(150,27,91)"
            ],
            [
             0.4392156862745098,
             "rgb(177,22,88)"
            ],
            [
             0.5019607843137255,
             "rgb(203,26,79)"
            ],
            [
             0.5647058823529412,
             "rgb(223,47,67)"
            ],
            [
             0.6274509803921569,
             "rgb(236,76,61)"
            ],
            [
             0.6901960784313725,
             "rgb(242,107,73)"
            ],
            [
             0.7529411764705882,
             "rgb(244,135,95)"
            ],
            [
             0.8156862745098039,
             "rgb(245,162,122)"
            ],
            [
             0.8784313725490196,
             "rgb(246,188,153)"
            ],
            [
             0.9411764705882353,
             "rgb(247,212,187)"
            ],
            [
             1.0,
             "rgb(250,234,220)"
            ]
           ],
           "sequentialminus": [
            [
             0.0,
             "rgb(2,4,25)"
            ],
            [
             0.06274509803921569,
             "rgb(24,15,41)"
            ],
            [
             0.12549019607843137,
             "rgb(47,23,57)"
            ],
            [
             0.18823529411764706,
             "rgb(71,28,72)"
            ],
            [
             0.25098039215686274,
             "rgb(97,30,82)"
            ],
            [
             0.3137254901960784,
             "rgb(123,30,89)"
            ],
            [
             0.3764705882352941,
             "rgb(150,27,91)"
            ],
            [
             0.4392156862745098,
             "rgb(177,22,88)"
            ],
            [
             0.5019607843137255,
             "rgb(203,26,79)"
            ],
            [
             0.5647058823529412,
             "rgb(223,47,67)"
            ],
            [
             0.6274509803921569,
             "rgb(236,76,61)"
            ],
            [
             0.6901960784313725,
             "rgb(242,107,73)"
            ],
            [
             0.7529411764705882,
             "rgb(244,135,95)"
            ],
            [
             0.8156862745098039,
             "rgb(245,162,122)"
            ],
            [
             0.8784313725490196,
             "rgb(246,188,153)"
            ],
            [
             0.9411764705882353,
             "rgb(247,212,187)"
            ],
            [
             1.0,
             "rgb(250,234,220)"
            ]
           ]
          },
          "colorway": [
           "rgb(76,114,176)",
           "rgb(221,132,82)",
           "rgb(85,168,104)",
           "rgb(196,78,82)",
           "rgb(129,114,179)",
           "rgb(147,120,96)",
           "rgb(218,139,195)",
           "rgb(140,140,140)",
           "rgb(204,185,116)",
           "rgb(100,181,205)"
          ],
          "font": {
           "color": "rgb(36,36,36)"
          },
          "geo": {
           "bgcolor": "white",
           "lakecolor": "white",
           "landcolor": "rgb(234,234,242)",
           "showlakes": true,
           "showland": true,
           "subunitcolor": "white"
          },
          "hoverlabel": {
           "align": "left"
          },
          "hovermode": "closest",
          "paper_bgcolor": "white",
          "plot_bgcolor": "rgb(234,234,242)",
          "polar": {
           "angularaxis": {
            "gridcolor": "white",
            "linecolor": "white",
            "showgrid": true,
            "ticks": ""
           },
           "bgcolor": "rgb(234,234,242)",
           "radialaxis": {
            "gridcolor": "white",
            "linecolor": "white",
            "showgrid": true,
            "ticks": ""
           }
          },
          "scene": {
           "xaxis": {
            "backgroundcolor": "rgb(234,234,242)",
            "gridcolor": "white",
            "gridwidth": 2,
            "linecolor": "white",
            "showbackground": true,
            "showgrid": true,
            "ticks": "",
            "zerolinecolor": "white"
           },
           "yaxis": {
            "backgroundcolor": "rgb(234,234,242)",
            "gridcolor": "white",
            "gridwidth": 2,
            "linecolor": "white",
            "showbackground": true,
            "showgrid": true,
            "ticks": "",
            "zerolinecolor": "white"
           },
           "zaxis": {
            "backgroundcolor": "rgb(234,234,242)",
            "gridcolor": "white",
            "gridwidth": 2,
            "linecolor": "white",
            "showbackground": true,
            "showgrid": true,
            "ticks": "",
            "zerolinecolor": "white"
           }
          },
          "shapedefaults": {
           "fillcolor": "rgb(67,103,167)",
           "line": {
            "width": 0
           },
           "opacity": 0.5
          },
          "ternary": {
           "aaxis": {
            "gridcolor": "white",
            "linecolor": "white",
            "showgrid": true,
            "ticks": ""
           },
           "baxis": {
            "gridcolor": "white",
            "linecolor": "white",
            "showgrid": true,
            "ticks": ""
           },
           "bgcolor": "rgb(234,234,242)",
           "caxis": {
            "gridcolor": "white",
            "linecolor": "white",
            "showgrid": true,
            "ticks": ""
           }
          },
          "xaxis": {
           "automargin": true,
           "gridcolor": "white",
           "linecolor": "white",
           "showgrid": true,
           "ticks": "",
           "title": {
            "standoff": 15
           },
           "zerolinecolor": "white"
          },
          "yaxis": {
           "automargin": true,
           "gridcolor": "white",
           "linecolor": "white",
           "showgrid": true,
           "ticks": "",
           "title": {
            "standoff": 15
           },
           "zerolinecolor": "white"
          }
         }
        },
        "xaxis": {
         "anchor": "y",
         "domain": [
          0.0,
          1.0
         ],
         "title": {
          "text": "Дата"
         }
        },
        "yaxis": {
         "anchor": "x",
         "domain": [
          0.0,
          1.0
         ],
         "title": {
          "text": "Выручка"
         }
        },
        "legend": {
         "title": {
          "text": "Группа"
         },
         "tracegroupgap": 0
        },
        "title": {
         "text": "Кумулятивная выручка групп"
        }
       },
       "config": {
        "plotlyServerURL": "https://plot.ly"
       }
      }
     },
     "metadata": {},
     "output_type": "display_data"
    }
   ],
   "source": [
    "fig = px.line(data_frame=cum_data,\n",
    "              x='date',\n",
    "              y='revenue',\n",
    "              color='group',\n",
    "              title='Кумулятивная выручка групп',\n",
    "              template='seaborn',\n",
    "              labels={'revenue':'Выручка',\n",
    "                      'date':'Дата',\n",
    "                      'group':'Группа'})\n",
    "fig.show()"
   ]
  },
  {
   "cell_type": "markdown",
   "metadata": {
    "pycharm": {
     "name": "#%% md\n"
    }
   },
   "source": [
    "## Итоги анализа кумулятивной выручки групп ##\n",
    "1. кумулятивная выручка группв B растет быстрее кумулятивной выручки группы A\n",
    "2. 19 августа наблюдается резкий рост кумулятивной выручки в группе B\n",
    "   Возможные причины:\n",
    "   - крупные покупки пользователей из группы B\n",
    "   - большое количество заказов пользователей группы B"
   ]
  },
  {
   "cell_type": "markdown",
   "metadata": {
    "pycharm": {
     "name": "#%% md\n"
    }
   },
   "source": [
    "<div class=\"alert alert-success\">\n",
    "<font size=\"4\">👍 <b>Комментарий ревьюера v.1</b></font>\n",
    "    \n",
    "Ты произвел корректные расчеты, сделал хорошую визуализацию и отметил в выводах скачек и вероятные причины, которые его повлекли.</div>"
   ]
  },
  {
   "cell_type": "markdown",
   "metadata": {
    "pycharm": {
     "name": "#%% md\n"
    }
   },
   "source": [
    "<a id='abtest_cum_reciept_mean'></a>\n",
    "## Кумулятивный средний чек групп ##"
   ]
  },
  {
   "cell_type": "code",
   "execution_count": 20,
   "metadata": {
    "pycharm": {
     "name": "#%%\n"
    }
   },
   "outputs": [
    {
     "data": {
      "application/vnd.plotly.v1+json": {
       "data": [
        {
         "hovertemplate": "Группа=A<br>Дата=%{x}<br>Средняя сумма чека=%{y}<extra></extra>",
         "legendgroup": "A",
         "line": {
          "color": "rgb(76,114,176)",
          "dash": "solid"
         },
         "marker": {
          "symbol": "circle"
         },
         "mode": "lines",
         "name": "A",
         "orientation": "v",
         "showlegend": true,
         "x": [
          "2019-08-01T00:00:00",
          "2019-08-02T00:00:00",
          "2019-08-03T00:00:00",
          "2019-08-04T00:00:00",
          "2019-08-05T00:00:00",
          "2019-08-06T00:00:00",
          "2019-08-07T00:00:00",
          "2019-08-08T00:00:00",
          "2019-08-09T00:00:00",
          "2019-08-10T00:00:00",
          "2019-08-11T00:00:00",
          "2019-08-12T00:00:00",
          "2019-08-13T00:00:00",
          "2019-08-14T00:00:00",
          "2019-08-15T00:00:00",
          "2019-08-16T00:00:00",
          "2019-08-17T00:00:00",
          "2019-08-18T00:00:00",
          "2019-08-19T00:00:00",
          "2019-08-20T00:00:00",
          "2019-08-21T00:00:00",
          "2019-08-22T00:00:00",
          "2019-08-23T00:00:00",
          "2019-08-24T00:00:00",
          "2019-08-25T00:00:00",
          "2019-08-26T00:00:00",
          "2019-08-27T00:00:00",
          "2019-08-28T00:00:00",
          "2019-08-29T00:00:00",
          "2019-08-30T00:00:00",
          "2019-08-31T00:00:00"
         ],
         "xaxis": "x",
         "y": [
          6190.791666666667,
          5509.113636363636,
          5218.735294117647,
          5067.8452380952385,
          5045.1100917431195,
          4711.818897637795,
          5109.089655172414,
          5199.360248447205,
          5794.367231638418,
          6404.652849740933,
          6377.101941747573,
          6795.1,
          7485.700819672131,
          7055.417910447762,
          6993.134275618375,
          6906.671096345515,
          6848.131832797428,
          6713.923780487805,
          6834.028571428571,
          6821.903314917127,
          6867.111688311688,
          6874.261845386533,
          6747.340375586855,
          6807.414965986394,
          6808.656319290466,
          6912.029978586724,
          7100.4,
          7062.1484375,
          7371.741573033708,
          7381.59633027523,
          7333.578096947936
         ],
         "yaxis": "y",
         "type": "scatter"
        },
        {
         "hovertemplate": "Группа=B<br>Дата=%{x}<br>Средняя сумма чека=%{y}<extra></extra>",
         "legendgroup": "B",
         "line": {
          "color": "rgb(221,132,82)",
          "dash": "solid"
         },
         "marker": {
          "symbol": "circle"
         },
         "mode": "lines",
         "name": "B",
         "orientation": "v",
         "showlegend": true,
         "x": [
          "2019-08-01T00:00:00",
          "2019-08-02T00:00:00",
          "2019-08-03T00:00:00",
          "2019-08-04T00:00:00",
          "2019-08-05T00:00:00",
          "2019-08-06T00:00:00",
          "2019-08-07T00:00:00",
          "2019-08-08T00:00:00",
          "2019-08-09T00:00:00",
          "2019-08-10T00:00:00",
          "2019-08-11T00:00:00",
          "2019-08-12T00:00:00",
          "2019-08-13T00:00:00",
          "2019-08-14T00:00:00",
          "2019-08-15T00:00:00",
          "2019-08-16T00:00:00",
          "2019-08-17T00:00:00",
          "2019-08-18T00:00:00",
          "2019-08-19T00:00:00",
          "2019-08-20T00:00:00",
          "2019-08-21T00:00:00",
          "2019-08-22T00:00:00",
          "2019-08-23T00:00:00",
          "2019-08-24T00:00:00",
          "2019-08-25T00:00:00",
          "2019-08-26T00:00:00",
          "2019-08-27T00:00:00",
          "2019-08-28T00:00:00",
          "2019-08-29T00:00:00",
          "2019-08-30T00:00:00",
          "2019-08-31T00:00:00"
         ],
         "xaxis": "x",
         "y": [
          4819.857142857143,
          5927.733333333334,
          6245.836065573771,
          6276.5,
          5762.3267326732675,
          6390.209302325581,
          6860.59477124183,
          7058.827777777778,
          6982.443902439024,
          6750.890350877193,
          6607.9377593361,
          6568.435606060606,
          6504.343859649123,
          6576.123376623376,
          6985.088495575221,
          7074.192200557103,
          7026.246648793565,
          7033.039267015707,
          10214.741935483871,
          10079.940898345154,
          10130.187643020596,
          9933.435064935065,
          9859.991614255765,
          9733.71602434077,
          9667.818540433926,
          9557.486842105263,
          9547.919708029198,
          9250.465277777777,
          9327.848993288591,
          9313.920967741935,
          9230.875
         ],
         "yaxis": "y",
         "type": "scatter"
        }
       ],
       "layout": {
        "template": {
         "data": {
          "barpolar": [
           {
            "marker": {
             "line": {
              "color": "rgb(234,234,242)",
              "width": 0.5
             },
             "pattern": {
              "fillmode": "overlay",
              "size": 10,
              "solidity": 0.2
             }
            },
            "type": "barpolar"
           }
          ],
          "bar": [
           {
            "error_x": {
             "color": "rgb(36,36,36)"
            },
            "error_y": {
             "color": "rgb(36,36,36)"
            },
            "marker": {
             "line": {
              "color": "rgb(234,234,242)",
              "width": 0.5
             },
             "pattern": {
              "fillmode": "overlay",
              "size": 10,
              "solidity": 0.2
             }
            },
            "type": "bar"
           }
          ],
          "carpet": [
           {
            "aaxis": {
             "endlinecolor": "rgb(36,36,36)",
             "gridcolor": "white",
             "linecolor": "white",
             "minorgridcolor": "white",
             "startlinecolor": "rgb(36,36,36)"
            },
            "baxis": {
             "endlinecolor": "rgb(36,36,36)",
             "gridcolor": "white",
             "linecolor": "white",
             "minorgridcolor": "white",
             "startlinecolor": "rgb(36,36,36)"
            },
            "type": "carpet"
           }
          ],
          "choropleth": [
           {
            "colorbar": {
             "outlinewidth": 0,
             "tickcolor": "rgb(36,36,36)",
             "ticklen": 8,
             "ticks": "outside",
             "tickwidth": 2
            },
            "type": "choropleth"
           }
          ],
          "contourcarpet": [
           {
            "colorbar": {
             "outlinewidth": 0,
             "tickcolor": "rgb(36,36,36)",
             "ticklen": 8,
             "ticks": "outside",
             "tickwidth": 2
            },
            "type": "contourcarpet"
           }
          ],
          "contour": [
           {
            "colorbar": {
             "outlinewidth": 0,
             "tickcolor": "rgb(36,36,36)",
             "ticklen": 8,
             "ticks": "outside",
             "tickwidth": 2
            },
            "colorscale": [
             [
              0.0,
              "rgb(2,4,25)"
             ],
             [
              0.06274509803921569,
              "rgb(24,15,41)"
             ],
             [
              0.12549019607843137,
              "rgb(47,23,57)"
             ],
             [
              0.18823529411764706,
              "rgb(71,28,72)"
             ],
             [
              0.25098039215686274,
              "rgb(97,30,82)"
             ],
             [
              0.3137254901960784,
              "rgb(123,30,89)"
             ],
             [
              0.3764705882352941,
              "rgb(150,27,91)"
             ],
             [
              0.4392156862745098,
              "rgb(177,22,88)"
             ],
             [
              0.5019607843137255,
              "rgb(203,26,79)"
             ],
             [
              0.5647058823529412,
              "rgb(223,47,67)"
             ],
             [
              0.6274509803921569,
              "rgb(236,76,61)"
             ],
             [
              0.6901960784313725,
              "rgb(242,107,73)"
             ],
             [
              0.7529411764705882,
              "rgb(244,135,95)"
             ],
             [
              0.8156862745098039,
              "rgb(245,162,122)"
             ],
             [
              0.8784313725490196,
              "rgb(246,188,153)"
             ],
             [
              0.9411764705882353,
              "rgb(247,212,187)"
             ],
             [
              1.0,
              "rgb(250,234,220)"
             ]
            ],
            "type": "contour"
           }
          ],
          "heatmapgl": [
           {
            "colorbar": {
             "outlinewidth": 0,
             "tickcolor": "rgb(36,36,36)",
             "ticklen": 8,
             "ticks": "outside",
             "tickwidth": 2
            },
            "colorscale": [
             [
              0.0,
              "rgb(2,4,25)"
             ],
             [
              0.06274509803921569,
              "rgb(24,15,41)"
             ],
             [
              0.12549019607843137,
              "rgb(47,23,57)"
             ],
             [
              0.18823529411764706,
              "rgb(71,28,72)"
             ],
             [
              0.25098039215686274,
              "rgb(97,30,82)"
             ],
             [
              0.3137254901960784,
              "rgb(123,30,89)"
             ],
             [
              0.3764705882352941,
              "rgb(150,27,91)"
             ],
             [
              0.4392156862745098,
              "rgb(177,22,88)"
             ],
             [
              0.5019607843137255,
              "rgb(203,26,79)"
             ],
             [
              0.5647058823529412,
              "rgb(223,47,67)"
             ],
             [
              0.6274509803921569,
              "rgb(236,76,61)"
             ],
             [
              0.6901960784313725,
              "rgb(242,107,73)"
             ],
             [
              0.7529411764705882,
              "rgb(244,135,95)"
             ],
             [
              0.8156862745098039,
              "rgb(245,162,122)"
             ],
             [
              0.8784313725490196,
              "rgb(246,188,153)"
             ],
             [
              0.9411764705882353,
              "rgb(247,212,187)"
             ],
             [
              1.0,
              "rgb(250,234,220)"
             ]
            ],
            "type": "heatmapgl"
           }
          ],
          "heatmap": [
           {
            "colorbar": {
             "outlinewidth": 0,
             "tickcolor": "rgb(36,36,36)",
             "ticklen": 8,
             "ticks": "outside",
             "tickwidth": 2
            },
            "colorscale": [
             [
              0.0,
              "rgb(2,4,25)"
             ],
             [
              0.06274509803921569,
              "rgb(24,15,41)"
             ],
             [
              0.12549019607843137,
              "rgb(47,23,57)"
             ],
             [
              0.18823529411764706,
              "rgb(71,28,72)"
             ],
             [
              0.25098039215686274,
              "rgb(97,30,82)"
             ],
             [
              0.3137254901960784,
              "rgb(123,30,89)"
             ],
             [
              0.3764705882352941,
              "rgb(150,27,91)"
             ],
             [
              0.4392156862745098,
              "rgb(177,22,88)"
             ],
             [
              0.5019607843137255,
              "rgb(203,26,79)"
             ],
             [
              0.5647058823529412,
              "rgb(223,47,67)"
             ],
             [
              0.6274509803921569,
              "rgb(236,76,61)"
             ],
             [
              0.6901960784313725,
              "rgb(242,107,73)"
             ],
             [
              0.7529411764705882,
              "rgb(244,135,95)"
             ],
             [
              0.8156862745098039,
              "rgb(245,162,122)"
             ],
             [
              0.8784313725490196,
              "rgb(246,188,153)"
             ],
             [
              0.9411764705882353,
              "rgb(247,212,187)"
             ],
             [
              1.0,
              "rgb(250,234,220)"
             ]
            ],
            "type": "heatmap"
           }
          ],
          "histogram2dcontour": [
           {
            "colorbar": {
             "outlinewidth": 0,
             "tickcolor": "rgb(36,36,36)",
             "ticklen": 8,
             "ticks": "outside",
             "tickwidth": 2
            },
            "colorscale": [
             [
              0.0,
              "rgb(2,4,25)"
             ],
             [
              0.06274509803921569,
              "rgb(24,15,41)"
             ],
             [
              0.12549019607843137,
              "rgb(47,23,57)"
             ],
             [
              0.18823529411764706,
              "rgb(71,28,72)"
             ],
             [
              0.25098039215686274,
              "rgb(97,30,82)"
             ],
             [
              0.3137254901960784,
              "rgb(123,30,89)"
             ],
             [
              0.3764705882352941,
              "rgb(150,27,91)"
             ],
             [
              0.4392156862745098,
              "rgb(177,22,88)"
             ],
             [
              0.5019607843137255,
              "rgb(203,26,79)"
             ],
             [
              0.5647058823529412,
              "rgb(223,47,67)"
             ],
             [
              0.6274509803921569,
              "rgb(236,76,61)"
             ],
             [
              0.6901960784313725,
              "rgb(242,107,73)"
             ],
             [
              0.7529411764705882,
              "rgb(244,135,95)"
             ],
             [
              0.8156862745098039,
              "rgb(245,162,122)"
             ],
             [
              0.8784313725490196,
              "rgb(246,188,153)"
             ],
             [
              0.9411764705882353,
              "rgb(247,212,187)"
             ],
             [
              1.0,
              "rgb(250,234,220)"
             ]
            ],
            "type": "histogram2dcontour"
           }
          ],
          "histogram2d": [
           {
            "colorbar": {
             "outlinewidth": 0,
             "tickcolor": "rgb(36,36,36)",
             "ticklen": 8,
             "ticks": "outside",
             "tickwidth": 2
            },
            "colorscale": [
             [
              0.0,
              "rgb(2,4,25)"
             ],
             [
              0.06274509803921569,
              "rgb(24,15,41)"
             ],
             [
              0.12549019607843137,
              "rgb(47,23,57)"
             ],
             [
              0.18823529411764706,
              "rgb(71,28,72)"
             ],
             [
              0.25098039215686274,
              "rgb(97,30,82)"
             ],
             [
              0.3137254901960784,
              "rgb(123,30,89)"
             ],
             [
              0.3764705882352941,
              "rgb(150,27,91)"
             ],
             [
              0.4392156862745098,
              "rgb(177,22,88)"
             ],
             [
              0.5019607843137255,
              "rgb(203,26,79)"
             ],
             [
              0.5647058823529412,
              "rgb(223,47,67)"
             ],
             [
              0.6274509803921569,
              "rgb(236,76,61)"
             ],
             [
              0.6901960784313725,
              "rgb(242,107,73)"
             ],
             [
              0.7529411764705882,
              "rgb(244,135,95)"
             ],
             [
              0.8156862745098039,
              "rgb(245,162,122)"
             ],
             [
              0.8784313725490196,
              "rgb(246,188,153)"
             ],
             [
              0.9411764705882353,
              "rgb(247,212,187)"
             ],
             [
              1.0,
              "rgb(250,234,220)"
             ]
            ],
            "type": "histogram2d"
           }
          ],
          "histogram": [
           {
            "marker": {
             "pattern": {
              "fillmode": "overlay",
              "size": 10,
              "solidity": 0.2
             }
            },
            "type": "histogram"
           }
          ],
          "mesh3d": [
           {
            "colorbar": {
             "outlinewidth": 0,
             "tickcolor": "rgb(36,36,36)",
             "ticklen": 8,
             "ticks": "outside",
             "tickwidth": 2
            },
            "type": "mesh3d"
           }
          ],
          "parcoords": [
           {
            "line": {
             "colorbar": {
              "outlinewidth": 0,
              "tickcolor": "rgb(36,36,36)",
              "ticklen": 8,
              "ticks": "outside",
              "tickwidth": 2
             }
            },
            "type": "parcoords"
           }
          ],
          "pie": [
           {
            "automargin": true,
            "type": "pie"
           }
          ],
          "scatter3d": [
           {
            "line": {
             "colorbar": {
              "outlinewidth": 0,
              "tickcolor": "rgb(36,36,36)",
              "ticklen": 8,
              "ticks": "outside",
              "tickwidth": 2
             }
            },
            "marker": {
             "colorbar": {
              "outlinewidth": 0,
              "tickcolor": "rgb(36,36,36)",
              "ticklen": 8,
              "ticks": "outside",
              "tickwidth": 2
             }
            },
            "type": "scatter3d"
           }
          ],
          "scattercarpet": [
           {
            "marker": {
             "colorbar": {
              "outlinewidth": 0,
              "tickcolor": "rgb(36,36,36)",
              "ticklen": 8,
              "ticks": "outside",
              "tickwidth": 2
             }
            },
            "type": "scattercarpet"
           }
          ],
          "scattergeo": [
           {
            "marker": {
             "colorbar": {
              "outlinewidth": 0,
              "tickcolor": "rgb(36,36,36)",
              "ticklen": 8,
              "ticks": "outside",
              "tickwidth": 2
             }
            },
            "type": "scattergeo"
           }
          ],
          "scattergl": [
           {
            "marker": {
             "colorbar": {
              "outlinewidth": 0,
              "tickcolor": "rgb(36,36,36)",
              "ticklen": 8,
              "ticks": "outside",
              "tickwidth": 2
             }
            },
            "type": "scattergl"
           }
          ],
          "scattermapbox": [
           {
            "marker": {
             "colorbar": {
              "outlinewidth": 0,
              "tickcolor": "rgb(36,36,36)",
              "ticklen": 8,
              "ticks": "outside",
              "tickwidth": 2
             }
            },
            "type": "scattermapbox"
           }
          ],
          "scatterpolargl": [
           {
            "marker": {
             "colorbar": {
              "outlinewidth": 0,
              "tickcolor": "rgb(36,36,36)",
              "ticklen": 8,
              "ticks": "outside",
              "tickwidth": 2
             }
            },
            "type": "scatterpolargl"
           }
          ],
          "scatterpolar": [
           {
            "marker": {
             "colorbar": {
              "outlinewidth": 0,
              "tickcolor": "rgb(36,36,36)",
              "ticklen": 8,
              "ticks": "outside",
              "tickwidth": 2
             }
            },
            "type": "scatterpolar"
           }
          ],
          "scatter": [
           {
            "marker": {
             "colorbar": {
              "outlinewidth": 0,
              "tickcolor": "rgb(36,36,36)",
              "ticklen": 8,
              "ticks": "outside",
              "tickwidth": 2
             }
            },
            "type": "scatter"
           }
          ],
          "scatterternary": [
           {
            "marker": {
             "colorbar": {
              "outlinewidth": 0,
              "tickcolor": "rgb(36,36,36)",
              "ticklen": 8,
              "ticks": "outside",
              "tickwidth": 2
             }
            },
            "type": "scatterternary"
           }
          ],
          "surface": [
           {
            "colorbar": {
             "outlinewidth": 0,
             "tickcolor": "rgb(36,36,36)",
             "ticklen": 8,
             "ticks": "outside",
             "tickwidth": 2
            },
            "colorscale": [
             [
              0.0,
              "rgb(2,4,25)"
             ],
             [
              0.06274509803921569,
              "rgb(24,15,41)"
             ],
             [
              0.12549019607843137,
              "rgb(47,23,57)"
             ],
             [
              0.18823529411764706,
              "rgb(71,28,72)"
             ],
             [
              0.25098039215686274,
              "rgb(97,30,82)"
             ],
             [
              0.3137254901960784,
              "rgb(123,30,89)"
             ],
             [
              0.3764705882352941,
              "rgb(150,27,91)"
             ],
             [
              0.4392156862745098,
              "rgb(177,22,88)"
             ],
             [
              0.5019607843137255,
              "rgb(203,26,79)"
             ],
             [
              0.5647058823529412,
              "rgb(223,47,67)"
             ],
             [
              0.6274509803921569,
              "rgb(236,76,61)"
             ],
             [
              0.6901960784313725,
              "rgb(242,107,73)"
             ],
             [
              0.7529411764705882,
              "rgb(244,135,95)"
             ],
             [
              0.8156862745098039,
              "rgb(245,162,122)"
             ],
             [
              0.8784313725490196,
              "rgb(246,188,153)"
             ],
             [
              0.9411764705882353,
              "rgb(247,212,187)"
             ],
             [
              1.0,
              "rgb(250,234,220)"
             ]
            ],
            "type": "surface"
           }
          ],
          "table": [
           {
            "cells": {
             "fill": {
              "color": "rgb(231,231,240)"
             },
             "line": {
              "color": "white"
             }
            },
            "header": {
             "fill": {
              "color": "rgb(183,183,191)"
             },
             "line": {
              "color": "white"
             }
            },
            "type": "table"
           }
          ]
         },
         "layout": {
          "annotationdefaults": {
           "arrowcolor": "rgb(67,103,167)"
          },
          "autotypenumbers": "strict",
          "coloraxis": {
           "colorbar": {
            "outlinewidth": 0,
            "tickcolor": "rgb(36,36,36)",
            "ticklen": 8,
            "ticks": "outside",
            "tickwidth": 2
           }
          },
          "colorscale": {
           "sequential": [
            [
             0.0,
             "rgb(2,4,25)"
            ],
            [
             0.06274509803921569,
             "rgb(24,15,41)"
            ],
            [
             0.12549019607843137,
             "rgb(47,23,57)"
            ],
            [
             0.18823529411764706,
             "rgb(71,28,72)"
            ],
            [
             0.25098039215686274,
             "rgb(97,30,82)"
            ],
            [
             0.3137254901960784,
             "rgb(123,30,89)"
            ],
            [
             0.3764705882352941,
             "rgb(150,27,91)"
            ],
            [
             0.4392156862745098,
             "rgb(177,22,88)"
            ],
            [
             0.5019607843137255,
             "rgb(203,26,79)"
            ],
            [
             0.5647058823529412,
             "rgb(223,47,67)"
            ],
            [
             0.6274509803921569,
             "rgb(236,76,61)"
            ],
            [
             0.6901960784313725,
             "rgb(242,107,73)"
            ],
            [
             0.7529411764705882,
             "rgb(244,135,95)"
            ],
            [
             0.8156862745098039,
             "rgb(245,162,122)"
            ],
            [
             0.8784313725490196,
             "rgb(246,188,153)"
            ],
            [
             0.9411764705882353,
             "rgb(247,212,187)"
            ],
            [
             1.0,
             "rgb(250,234,220)"
            ]
           ],
           "sequentialminus": [
            [
             0.0,
             "rgb(2,4,25)"
            ],
            [
             0.06274509803921569,
             "rgb(24,15,41)"
            ],
            [
             0.12549019607843137,
             "rgb(47,23,57)"
            ],
            [
             0.18823529411764706,
             "rgb(71,28,72)"
            ],
            [
             0.25098039215686274,
             "rgb(97,30,82)"
            ],
            [
             0.3137254901960784,
             "rgb(123,30,89)"
            ],
            [
             0.3764705882352941,
             "rgb(150,27,91)"
            ],
            [
             0.4392156862745098,
             "rgb(177,22,88)"
            ],
            [
             0.5019607843137255,
             "rgb(203,26,79)"
            ],
            [
             0.5647058823529412,
             "rgb(223,47,67)"
            ],
            [
             0.6274509803921569,
             "rgb(236,76,61)"
            ],
            [
             0.6901960784313725,
             "rgb(242,107,73)"
            ],
            [
             0.7529411764705882,
             "rgb(244,135,95)"
            ],
            [
             0.8156862745098039,
             "rgb(245,162,122)"
            ],
            [
             0.8784313725490196,
             "rgb(246,188,153)"
            ],
            [
             0.9411764705882353,
             "rgb(247,212,187)"
            ],
            [
             1.0,
             "rgb(250,234,220)"
            ]
           ]
          },
          "colorway": [
           "rgb(76,114,176)",
           "rgb(221,132,82)",
           "rgb(85,168,104)",
           "rgb(196,78,82)",
           "rgb(129,114,179)",
           "rgb(147,120,96)",
           "rgb(218,139,195)",
           "rgb(140,140,140)",
           "rgb(204,185,116)",
           "rgb(100,181,205)"
          ],
          "font": {
           "color": "rgb(36,36,36)"
          },
          "geo": {
           "bgcolor": "white",
           "lakecolor": "white",
           "landcolor": "rgb(234,234,242)",
           "showlakes": true,
           "showland": true,
           "subunitcolor": "white"
          },
          "hoverlabel": {
           "align": "left"
          },
          "hovermode": "closest",
          "paper_bgcolor": "white",
          "plot_bgcolor": "rgb(234,234,242)",
          "polar": {
           "angularaxis": {
            "gridcolor": "white",
            "linecolor": "white",
            "showgrid": true,
            "ticks": ""
           },
           "bgcolor": "rgb(234,234,242)",
           "radialaxis": {
            "gridcolor": "white",
            "linecolor": "white",
            "showgrid": true,
            "ticks": ""
           }
          },
          "scene": {
           "xaxis": {
            "backgroundcolor": "rgb(234,234,242)",
            "gridcolor": "white",
            "gridwidth": 2,
            "linecolor": "white",
            "showbackground": true,
            "showgrid": true,
            "ticks": "",
            "zerolinecolor": "white"
           },
           "yaxis": {
            "backgroundcolor": "rgb(234,234,242)",
            "gridcolor": "white",
            "gridwidth": 2,
            "linecolor": "white",
            "showbackground": true,
            "showgrid": true,
            "ticks": "",
            "zerolinecolor": "white"
           },
           "zaxis": {
            "backgroundcolor": "rgb(234,234,242)",
            "gridcolor": "white",
            "gridwidth": 2,
            "linecolor": "white",
            "showbackground": true,
            "showgrid": true,
            "ticks": "",
            "zerolinecolor": "white"
           }
          },
          "shapedefaults": {
           "fillcolor": "rgb(67,103,167)",
           "line": {
            "width": 0
           },
           "opacity": 0.5
          },
          "ternary": {
           "aaxis": {
            "gridcolor": "white",
            "linecolor": "white",
            "showgrid": true,
            "ticks": ""
           },
           "baxis": {
            "gridcolor": "white",
            "linecolor": "white",
            "showgrid": true,
            "ticks": ""
           },
           "bgcolor": "rgb(234,234,242)",
           "caxis": {
            "gridcolor": "white",
            "linecolor": "white",
            "showgrid": true,
            "ticks": ""
           }
          },
          "xaxis": {
           "automargin": true,
           "gridcolor": "white",
           "linecolor": "white",
           "showgrid": true,
           "ticks": "",
           "title": {
            "standoff": 15
           },
           "zerolinecolor": "white"
          },
          "yaxis": {
           "automargin": true,
           "gridcolor": "white",
           "linecolor": "white",
           "showgrid": true,
           "ticks": "",
           "title": {
            "standoff": 15
           },
           "zerolinecolor": "white"
          }
         }
        },
        "xaxis": {
         "anchor": "y",
         "domain": [
          0.0,
          1.0
         ],
         "title": {
          "text": "Дата"
         }
        },
        "yaxis": {
         "anchor": "x",
         "domain": [
          0.0,
          1.0
         ],
         "title": {
          "text": "Средняя сумма чека"
         }
        },
        "legend": {
         "title": {
          "text": "Группа"
         },
         "tracegroupgap": 0
        },
        "title": {
         "text": "Кумулятивный средний чек групп"
        }
       },
       "config": {
        "plotlyServerURL": "https://plot.ly"
       }
      }
     },
     "metadata": {},
     "output_type": "display_data"
    }
   ],
   "source": [
    "fig = px.line(data_frame=cum_data,\n",
    "              x='date',\n",
    "              y=cum_data['revenue'] / cum_data['orders'],\n",
    "              color='group',\n",
    "              title='Кумулятивный средний чек групп',\n",
    "              template='seaborn',\n",
    "              labels={'y':'Средняя сумма чека',\n",
    "                      'date':'Дата',\n",
    "                      'group':'Группа'})\n",
    "fig.show()"
   ]
  },
  {
   "cell_type": "markdown",
   "metadata": {
    "pycharm": {
     "name": "#%% md\n"
    }
   },
   "source": [
    "## Итоги анализа кумулятивного среднего чека групп ##\n",
    "1. средний чек пользователей группы B выше чем в группе А\n",
    "2. 19 августа наблюдается резкий рост среднего чека группы B\n",
    "   Возможные причины:\n",
    "   - крупные покупки пользователей из группы B 19 августа"
   ]
  },
  {
   "cell_type": "markdown",
   "metadata": {
    "pycharm": {
     "name": "#%% md\n"
    }
   },
   "source": [
    "<div class=\"alert alert-success\">\n",
    "<font size=\"4\">👍 <b>Комментарий ревьюера v.1</b></font>\n",
    "    \n",
    "И здесь визуализация с выводами на высоте.</div>"
   ]
  },
  {
   "cell_type": "markdown",
   "metadata": {
    "pycharm": {
     "name": "#%% md\n"
    }
   },
   "source": [
    "<a id='abtest_cum_reciept_mean_diff'></a>\n",
    "## Относительное изменение кумулятивного среднего чека групп ##"
   ]
  },
  {
   "cell_type": "code",
   "execution_count": 21,
   "metadata": {
    "pycharm": {
     "name": "#%%\n"
    }
   },
   "outputs": [],
   "source": [
    "cum_revenue_a = cum_data[cum_data['group'] == 'A'][['date', 'revenue', 'orders']]\n",
    "cum_revenue_a['reciept_mean'] = cum_revenue_a['revenue'] / cum_revenue_a['orders']\n",
    "\n",
    "cum_revenue_b = cum_data[cum_data['group'] == 'B'][['date', 'revenue', 'orders']]\n",
    "cum_revenue_b['reciept_mean'] = cum_revenue_b['revenue'] / cum_revenue_b['orders']\n",
    "\n",
    "merge_cum_revenue = cum_revenue_a.merge(right=cum_revenue_b,\n",
    "                                        how='left',\n",
    "                                        left_on='date',\n",
    "                                        right_on='date',\n",
    "                                        suffixes=['A','B'])\n",
    "merge_cum_revenue['cum_reciept_diff'] = merge_cum_revenue['reciept_meanB'] / merge_cum_revenue['reciept_meanA'] - 1"
   ]
  },
  {
   "cell_type": "markdown",
   "metadata": {
    "pycharm": {
     "name": "#%% md\n"
    }
   },
   "source": [
    "### График относительного изменения значения кумулятивного среднего чека групп ###"
   ]
  },
  {
   "cell_type": "code",
   "execution_count": 22,
   "metadata": {
    "pycharm": {
     "name": "#%%\n"
    }
   },
   "outputs": [
    {
     "data": {
      "application/vnd.plotly.v1+json": {
       "data": [
        {
         "hovertemplate": "Дата=%{x}<br>Относительное значение кумулятивного среднего чека=%{y}<extra></extra>",
         "legendgroup": "",
         "line": {
          "color": "rgb(76,114,176)",
          "dash": "solid"
         },
         "marker": {
          "symbol": "circle"
         },
         "mode": "lines",
         "name": "",
         "orientation": "v",
         "showlegend": false,
         "x": [
          "2019-08-01T00:00:00",
          "2019-08-02T00:00:00",
          "2019-08-03T00:00:00",
          "2019-08-04T00:00:00",
          "2019-08-05T00:00:00",
          "2019-08-06T00:00:00",
          "2019-08-07T00:00:00",
          "2019-08-08T00:00:00",
          "2019-08-09T00:00:00",
          "2019-08-10T00:00:00",
          "2019-08-11T00:00:00",
          "2019-08-12T00:00:00",
          "2019-08-13T00:00:00",
          "2019-08-14T00:00:00",
          "2019-08-15T00:00:00",
          "2019-08-16T00:00:00",
          "2019-08-17T00:00:00",
          "2019-08-18T00:00:00",
          "2019-08-19T00:00:00",
          "2019-08-20T00:00:00",
          "2019-08-21T00:00:00",
          "2019-08-22T00:00:00",
          "2019-08-23T00:00:00",
          "2019-08-24T00:00:00",
          "2019-08-25T00:00:00",
          "2019-08-26T00:00:00",
          "2019-08-27T00:00:00",
          "2019-08-28T00:00:00",
          "2019-08-29T00:00:00",
          "2019-08-30T00:00:00",
          "2019-08-31T00:00:00"
         ],
         "xaxis": "x",
         "y": [
          -0.22144736854756442,
          0.07598676023063722,
          0.19681028325269367,
          0.2384948050148108,
          0.14216075127953154,
          0.3562085982398906,
          0.34282137020167625,
          0.3576339088805982,
          0.20503993331894232,
          0.05406030728898381,
          0.03619760507157088,
          -0.033357035796293566,
          -0.13109753965106907,
          -0.0679328340160601,
          -0.0011505256049788581,
          0.024254970574786316,
          0.026009256297184757,
          0.04753040054689395,
          0.4946882104340695,
          0.47758483710899746,
          0.4751744405530631,
          0.44501843083001114,
          0.46131528356433105,
          0.4298696455226827,
          0.4199304660220262,
          0.3827322612480113,
          0.344701665825756,
          0.30986559680023396,
          0.26535214248563,
          0.26177598327090545,
          0.2587136699126005
         ],
         "yaxis": "y",
         "type": "scatter"
        }
       ],
       "layout": {
        "template": {
         "data": {
          "barpolar": [
           {
            "marker": {
             "line": {
              "color": "rgb(234,234,242)",
              "width": 0.5
             },
             "pattern": {
              "fillmode": "overlay",
              "size": 10,
              "solidity": 0.2
             }
            },
            "type": "barpolar"
           }
          ],
          "bar": [
           {
            "error_x": {
             "color": "rgb(36,36,36)"
            },
            "error_y": {
             "color": "rgb(36,36,36)"
            },
            "marker": {
             "line": {
              "color": "rgb(234,234,242)",
              "width": 0.5
             },
             "pattern": {
              "fillmode": "overlay",
              "size": 10,
              "solidity": 0.2
             }
            },
            "type": "bar"
           }
          ],
          "carpet": [
           {
            "aaxis": {
             "endlinecolor": "rgb(36,36,36)",
             "gridcolor": "white",
             "linecolor": "white",
             "minorgridcolor": "white",
             "startlinecolor": "rgb(36,36,36)"
            },
            "baxis": {
             "endlinecolor": "rgb(36,36,36)",
             "gridcolor": "white",
             "linecolor": "white",
             "minorgridcolor": "white",
             "startlinecolor": "rgb(36,36,36)"
            },
            "type": "carpet"
           }
          ],
          "choropleth": [
           {
            "colorbar": {
             "outlinewidth": 0,
             "tickcolor": "rgb(36,36,36)",
             "ticklen": 8,
             "ticks": "outside",
             "tickwidth": 2
            },
            "type": "choropleth"
           }
          ],
          "contourcarpet": [
           {
            "colorbar": {
             "outlinewidth": 0,
             "tickcolor": "rgb(36,36,36)",
             "ticklen": 8,
             "ticks": "outside",
             "tickwidth": 2
            },
            "type": "contourcarpet"
           }
          ],
          "contour": [
           {
            "colorbar": {
             "outlinewidth": 0,
             "tickcolor": "rgb(36,36,36)",
             "ticklen": 8,
             "ticks": "outside",
             "tickwidth": 2
            },
            "colorscale": [
             [
              0.0,
              "rgb(2,4,25)"
             ],
             [
              0.06274509803921569,
              "rgb(24,15,41)"
             ],
             [
              0.12549019607843137,
              "rgb(47,23,57)"
             ],
             [
              0.18823529411764706,
              "rgb(71,28,72)"
             ],
             [
              0.25098039215686274,
              "rgb(97,30,82)"
             ],
             [
              0.3137254901960784,
              "rgb(123,30,89)"
             ],
             [
              0.3764705882352941,
              "rgb(150,27,91)"
             ],
             [
              0.4392156862745098,
              "rgb(177,22,88)"
             ],
             [
              0.5019607843137255,
              "rgb(203,26,79)"
             ],
             [
              0.5647058823529412,
              "rgb(223,47,67)"
             ],
             [
              0.6274509803921569,
              "rgb(236,76,61)"
             ],
             [
              0.6901960784313725,
              "rgb(242,107,73)"
             ],
             [
              0.7529411764705882,
              "rgb(244,135,95)"
             ],
             [
              0.8156862745098039,
              "rgb(245,162,122)"
             ],
             [
              0.8784313725490196,
              "rgb(246,188,153)"
             ],
             [
              0.9411764705882353,
              "rgb(247,212,187)"
             ],
             [
              1.0,
              "rgb(250,234,220)"
             ]
            ],
            "type": "contour"
           }
          ],
          "heatmapgl": [
           {
            "colorbar": {
             "outlinewidth": 0,
             "tickcolor": "rgb(36,36,36)",
             "ticklen": 8,
             "ticks": "outside",
             "tickwidth": 2
            },
            "colorscale": [
             [
              0.0,
              "rgb(2,4,25)"
             ],
             [
              0.06274509803921569,
              "rgb(24,15,41)"
             ],
             [
              0.12549019607843137,
              "rgb(47,23,57)"
             ],
             [
              0.18823529411764706,
              "rgb(71,28,72)"
             ],
             [
              0.25098039215686274,
              "rgb(97,30,82)"
             ],
             [
              0.3137254901960784,
              "rgb(123,30,89)"
             ],
             [
              0.3764705882352941,
              "rgb(150,27,91)"
             ],
             [
              0.4392156862745098,
              "rgb(177,22,88)"
             ],
             [
              0.5019607843137255,
              "rgb(203,26,79)"
             ],
             [
              0.5647058823529412,
              "rgb(223,47,67)"
             ],
             [
              0.6274509803921569,
              "rgb(236,76,61)"
             ],
             [
              0.6901960784313725,
              "rgb(242,107,73)"
             ],
             [
              0.7529411764705882,
              "rgb(244,135,95)"
             ],
             [
              0.8156862745098039,
              "rgb(245,162,122)"
             ],
             [
              0.8784313725490196,
              "rgb(246,188,153)"
             ],
             [
              0.9411764705882353,
              "rgb(247,212,187)"
             ],
             [
              1.0,
              "rgb(250,234,220)"
             ]
            ],
            "type": "heatmapgl"
           }
          ],
          "heatmap": [
           {
            "colorbar": {
             "outlinewidth": 0,
             "tickcolor": "rgb(36,36,36)",
             "ticklen": 8,
             "ticks": "outside",
             "tickwidth": 2
            },
            "colorscale": [
             [
              0.0,
              "rgb(2,4,25)"
             ],
             [
              0.06274509803921569,
              "rgb(24,15,41)"
             ],
             [
              0.12549019607843137,
              "rgb(47,23,57)"
             ],
             [
              0.18823529411764706,
              "rgb(71,28,72)"
             ],
             [
              0.25098039215686274,
              "rgb(97,30,82)"
             ],
             [
              0.3137254901960784,
              "rgb(123,30,89)"
             ],
             [
              0.3764705882352941,
              "rgb(150,27,91)"
             ],
             [
              0.4392156862745098,
              "rgb(177,22,88)"
             ],
             [
              0.5019607843137255,
              "rgb(203,26,79)"
             ],
             [
              0.5647058823529412,
              "rgb(223,47,67)"
             ],
             [
              0.6274509803921569,
              "rgb(236,76,61)"
             ],
             [
              0.6901960784313725,
              "rgb(242,107,73)"
             ],
             [
              0.7529411764705882,
              "rgb(244,135,95)"
             ],
             [
              0.8156862745098039,
              "rgb(245,162,122)"
             ],
             [
              0.8784313725490196,
              "rgb(246,188,153)"
             ],
             [
              0.9411764705882353,
              "rgb(247,212,187)"
             ],
             [
              1.0,
              "rgb(250,234,220)"
             ]
            ],
            "type": "heatmap"
           }
          ],
          "histogram2dcontour": [
           {
            "colorbar": {
             "outlinewidth": 0,
             "tickcolor": "rgb(36,36,36)",
             "ticklen": 8,
             "ticks": "outside",
             "tickwidth": 2
            },
            "colorscale": [
             [
              0.0,
              "rgb(2,4,25)"
             ],
             [
              0.06274509803921569,
              "rgb(24,15,41)"
             ],
             [
              0.12549019607843137,
              "rgb(47,23,57)"
             ],
             [
              0.18823529411764706,
              "rgb(71,28,72)"
             ],
             [
              0.25098039215686274,
              "rgb(97,30,82)"
             ],
             [
              0.3137254901960784,
              "rgb(123,30,89)"
             ],
             [
              0.3764705882352941,
              "rgb(150,27,91)"
             ],
             [
              0.4392156862745098,
              "rgb(177,22,88)"
             ],
             [
              0.5019607843137255,
              "rgb(203,26,79)"
             ],
             [
              0.5647058823529412,
              "rgb(223,47,67)"
             ],
             [
              0.6274509803921569,
              "rgb(236,76,61)"
             ],
             [
              0.6901960784313725,
              "rgb(242,107,73)"
             ],
             [
              0.7529411764705882,
              "rgb(244,135,95)"
             ],
             [
              0.8156862745098039,
              "rgb(245,162,122)"
             ],
             [
              0.8784313725490196,
              "rgb(246,188,153)"
             ],
             [
              0.9411764705882353,
              "rgb(247,212,187)"
             ],
             [
              1.0,
              "rgb(250,234,220)"
             ]
            ],
            "type": "histogram2dcontour"
           }
          ],
          "histogram2d": [
           {
            "colorbar": {
             "outlinewidth": 0,
             "tickcolor": "rgb(36,36,36)",
             "ticklen": 8,
             "ticks": "outside",
             "tickwidth": 2
            },
            "colorscale": [
             [
              0.0,
              "rgb(2,4,25)"
             ],
             [
              0.06274509803921569,
              "rgb(24,15,41)"
             ],
             [
              0.12549019607843137,
              "rgb(47,23,57)"
             ],
             [
              0.18823529411764706,
              "rgb(71,28,72)"
             ],
             [
              0.25098039215686274,
              "rgb(97,30,82)"
             ],
             [
              0.3137254901960784,
              "rgb(123,30,89)"
             ],
             [
              0.3764705882352941,
              "rgb(150,27,91)"
             ],
             [
              0.4392156862745098,
              "rgb(177,22,88)"
             ],
             [
              0.5019607843137255,
              "rgb(203,26,79)"
             ],
             [
              0.5647058823529412,
              "rgb(223,47,67)"
             ],
             [
              0.6274509803921569,
              "rgb(236,76,61)"
             ],
             [
              0.6901960784313725,
              "rgb(242,107,73)"
             ],
             [
              0.7529411764705882,
              "rgb(244,135,95)"
             ],
             [
              0.8156862745098039,
              "rgb(245,162,122)"
             ],
             [
              0.8784313725490196,
              "rgb(246,188,153)"
             ],
             [
              0.9411764705882353,
              "rgb(247,212,187)"
             ],
             [
              1.0,
              "rgb(250,234,220)"
             ]
            ],
            "type": "histogram2d"
           }
          ],
          "histogram": [
           {
            "marker": {
             "pattern": {
              "fillmode": "overlay",
              "size": 10,
              "solidity": 0.2
             }
            },
            "type": "histogram"
           }
          ],
          "mesh3d": [
           {
            "colorbar": {
             "outlinewidth": 0,
             "tickcolor": "rgb(36,36,36)",
             "ticklen": 8,
             "ticks": "outside",
             "tickwidth": 2
            },
            "type": "mesh3d"
           }
          ],
          "parcoords": [
           {
            "line": {
             "colorbar": {
              "outlinewidth": 0,
              "tickcolor": "rgb(36,36,36)",
              "ticklen": 8,
              "ticks": "outside",
              "tickwidth": 2
             }
            },
            "type": "parcoords"
           }
          ],
          "pie": [
           {
            "automargin": true,
            "type": "pie"
           }
          ],
          "scatter3d": [
           {
            "line": {
             "colorbar": {
              "outlinewidth": 0,
              "tickcolor": "rgb(36,36,36)",
              "ticklen": 8,
              "ticks": "outside",
              "tickwidth": 2
             }
            },
            "marker": {
             "colorbar": {
              "outlinewidth": 0,
              "tickcolor": "rgb(36,36,36)",
              "ticklen": 8,
              "ticks": "outside",
              "tickwidth": 2
             }
            },
            "type": "scatter3d"
           }
          ],
          "scattercarpet": [
           {
            "marker": {
             "colorbar": {
              "outlinewidth": 0,
              "tickcolor": "rgb(36,36,36)",
              "ticklen": 8,
              "ticks": "outside",
              "tickwidth": 2
             }
            },
            "type": "scattercarpet"
           }
          ],
          "scattergeo": [
           {
            "marker": {
             "colorbar": {
              "outlinewidth": 0,
              "tickcolor": "rgb(36,36,36)",
              "ticklen": 8,
              "ticks": "outside",
              "tickwidth": 2
             }
            },
            "type": "scattergeo"
           }
          ],
          "scattergl": [
           {
            "marker": {
             "colorbar": {
              "outlinewidth": 0,
              "tickcolor": "rgb(36,36,36)",
              "ticklen": 8,
              "ticks": "outside",
              "tickwidth": 2
             }
            },
            "type": "scattergl"
           }
          ],
          "scattermapbox": [
           {
            "marker": {
             "colorbar": {
              "outlinewidth": 0,
              "tickcolor": "rgb(36,36,36)",
              "ticklen": 8,
              "ticks": "outside",
              "tickwidth": 2
             }
            },
            "type": "scattermapbox"
           }
          ],
          "scatterpolargl": [
           {
            "marker": {
             "colorbar": {
              "outlinewidth": 0,
              "tickcolor": "rgb(36,36,36)",
              "ticklen": 8,
              "ticks": "outside",
              "tickwidth": 2
             }
            },
            "type": "scatterpolargl"
           }
          ],
          "scatterpolar": [
           {
            "marker": {
             "colorbar": {
              "outlinewidth": 0,
              "tickcolor": "rgb(36,36,36)",
              "ticklen": 8,
              "ticks": "outside",
              "tickwidth": 2
             }
            },
            "type": "scatterpolar"
           }
          ],
          "scatter": [
           {
            "marker": {
             "colorbar": {
              "outlinewidth": 0,
              "tickcolor": "rgb(36,36,36)",
              "ticklen": 8,
              "ticks": "outside",
              "tickwidth": 2
             }
            },
            "type": "scatter"
           }
          ],
          "scatterternary": [
           {
            "marker": {
             "colorbar": {
              "outlinewidth": 0,
              "tickcolor": "rgb(36,36,36)",
              "ticklen": 8,
              "ticks": "outside",
              "tickwidth": 2
             }
            },
            "type": "scatterternary"
           }
          ],
          "surface": [
           {
            "colorbar": {
             "outlinewidth": 0,
             "tickcolor": "rgb(36,36,36)",
             "ticklen": 8,
             "ticks": "outside",
             "tickwidth": 2
            },
            "colorscale": [
             [
              0.0,
              "rgb(2,4,25)"
             ],
             [
              0.06274509803921569,
              "rgb(24,15,41)"
             ],
             [
              0.12549019607843137,
              "rgb(47,23,57)"
             ],
             [
              0.18823529411764706,
              "rgb(71,28,72)"
             ],
             [
              0.25098039215686274,
              "rgb(97,30,82)"
             ],
             [
              0.3137254901960784,
              "rgb(123,30,89)"
             ],
             [
              0.3764705882352941,
              "rgb(150,27,91)"
             ],
             [
              0.4392156862745098,
              "rgb(177,22,88)"
             ],
             [
              0.5019607843137255,
              "rgb(203,26,79)"
             ],
             [
              0.5647058823529412,
              "rgb(223,47,67)"
             ],
             [
              0.6274509803921569,
              "rgb(236,76,61)"
             ],
             [
              0.6901960784313725,
              "rgb(242,107,73)"
             ],
             [
              0.7529411764705882,
              "rgb(244,135,95)"
             ],
             [
              0.8156862745098039,
              "rgb(245,162,122)"
             ],
             [
              0.8784313725490196,
              "rgb(246,188,153)"
             ],
             [
              0.9411764705882353,
              "rgb(247,212,187)"
             ],
             [
              1.0,
              "rgb(250,234,220)"
             ]
            ],
            "type": "surface"
           }
          ],
          "table": [
           {
            "cells": {
             "fill": {
              "color": "rgb(231,231,240)"
             },
             "line": {
              "color": "white"
             }
            },
            "header": {
             "fill": {
              "color": "rgb(183,183,191)"
             },
             "line": {
              "color": "white"
             }
            },
            "type": "table"
           }
          ]
         },
         "layout": {
          "annotationdefaults": {
           "arrowcolor": "rgb(67,103,167)"
          },
          "autotypenumbers": "strict",
          "coloraxis": {
           "colorbar": {
            "outlinewidth": 0,
            "tickcolor": "rgb(36,36,36)",
            "ticklen": 8,
            "ticks": "outside",
            "tickwidth": 2
           }
          },
          "colorscale": {
           "sequential": [
            [
             0.0,
             "rgb(2,4,25)"
            ],
            [
             0.06274509803921569,
             "rgb(24,15,41)"
            ],
            [
             0.12549019607843137,
             "rgb(47,23,57)"
            ],
            [
             0.18823529411764706,
             "rgb(71,28,72)"
            ],
            [
             0.25098039215686274,
             "rgb(97,30,82)"
            ],
            [
             0.3137254901960784,
             "rgb(123,30,89)"
            ],
            [
             0.3764705882352941,
             "rgb(150,27,91)"
            ],
            [
             0.4392156862745098,
             "rgb(177,22,88)"
            ],
            [
             0.5019607843137255,
             "rgb(203,26,79)"
            ],
            [
             0.5647058823529412,
             "rgb(223,47,67)"
            ],
            [
             0.6274509803921569,
             "rgb(236,76,61)"
            ],
            [
             0.6901960784313725,
             "rgb(242,107,73)"
            ],
            [
             0.7529411764705882,
             "rgb(244,135,95)"
            ],
            [
             0.8156862745098039,
             "rgb(245,162,122)"
            ],
            [
             0.8784313725490196,
             "rgb(246,188,153)"
            ],
            [
             0.9411764705882353,
             "rgb(247,212,187)"
            ],
            [
             1.0,
             "rgb(250,234,220)"
            ]
           ],
           "sequentialminus": [
            [
             0.0,
             "rgb(2,4,25)"
            ],
            [
             0.06274509803921569,
             "rgb(24,15,41)"
            ],
            [
             0.12549019607843137,
             "rgb(47,23,57)"
            ],
            [
             0.18823529411764706,
             "rgb(71,28,72)"
            ],
            [
             0.25098039215686274,
             "rgb(97,30,82)"
            ],
            [
             0.3137254901960784,
             "rgb(123,30,89)"
            ],
            [
             0.3764705882352941,
             "rgb(150,27,91)"
            ],
            [
             0.4392156862745098,
             "rgb(177,22,88)"
            ],
            [
             0.5019607843137255,
             "rgb(203,26,79)"
            ],
            [
             0.5647058823529412,
             "rgb(223,47,67)"
            ],
            [
             0.6274509803921569,
             "rgb(236,76,61)"
            ],
            [
             0.6901960784313725,
             "rgb(242,107,73)"
            ],
            [
             0.7529411764705882,
             "rgb(244,135,95)"
            ],
            [
             0.8156862745098039,
             "rgb(245,162,122)"
            ],
            [
             0.8784313725490196,
             "rgb(246,188,153)"
            ],
            [
             0.9411764705882353,
             "rgb(247,212,187)"
            ],
            [
             1.0,
             "rgb(250,234,220)"
            ]
           ]
          },
          "colorway": [
           "rgb(76,114,176)",
           "rgb(221,132,82)",
           "rgb(85,168,104)",
           "rgb(196,78,82)",
           "rgb(129,114,179)",
           "rgb(147,120,96)",
           "rgb(218,139,195)",
           "rgb(140,140,140)",
           "rgb(204,185,116)",
           "rgb(100,181,205)"
          ],
          "font": {
           "color": "rgb(36,36,36)"
          },
          "geo": {
           "bgcolor": "white",
           "lakecolor": "white",
           "landcolor": "rgb(234,234,242)",
           "showlakes": true,
           "showland": true,
           "subunitcolor": "white"
          },
          "hoverlabel": {
           "align": "left"
          },
          "hovermode": "closest",
          "paper_bgcolor": "white",
          "plot_bgcolor": "rgb(234,234,242)",
          "polar": {
           "angularaxis": {
            "gridcolor": "white",
            "linecolor": "white",
            "showgrid": true,
            "ticks": ""
           },
           "bgcolor": "rgb(234,234,242)",
           "radialaxis": {
            "gridcolor": "white",
            "linecolor": "white",
            "showgrid": true,
            "ticks": ""
           }
          },
          "scene": {
           "xaxis": {
            "backgroundcolor": "rgb(234,234,242)",
            "gridcolor": "white",
            "gridwidth": 2,
            "linecolor": "white",
            "showbackground": true,
            "showgrid": true,
            "ticks": "",
            "zerolinecolor": "white"
           },
           "yaxis": {
            "backgroundcolor": "rgb(234,234,242)",
            "gridcolor": "white",
            "gridwidth": 2,
            "linecolor": "white",
            "showbackground": true,
            "showgrid": true,
            "ticks": "",
            "zerolinecolor": "white"
           },
           "zaxis": {
            "backgroundcolor": "rgb(234,234,242)",
            "gridcolor": "white",
            "gridwidth": 2,
            "linecolor": "white",
            "showbackground": true,
            "showgrid": true,
            "ticks": "",
            "zerolinecolor": "white"
           }
          },
          "shapedefaults": {
           "fillcolor": "rgb(67,103,167)",
           "line": {
            "width": 0
           },
           "opacity": 0.5
          },
          "ternary": {
           "aaxis": {
            "gridcolor": "white",
            "linecolor": "white",
            "showgrid": true,
            "ticks": ""
           },
           "baxis": {
            "gridcolor": "white",
            "linecolor": "white",
            "showgrid": true,
            "ticks": ""
           },
           "bgcolor": "rgb(234,234,242)",
           "caxis": {
            "gridcolor": "white",
            "linecolor": "white",
            "showgrid": true,
            "ticks": ""
           }
          },
          "xaxis": {
           "automargin": true,
           "gridcolor": "white",
           "linecolor": "white",
           "showgrid": true,
           "ticks": "",
           "title": {
            "standoff": 15
           },
           "zerolinecolor": "white"
          },
          "yaxis": {
           "automargin": true,
           "gridcolor": "white",
           "linecolor": "white",
           "showgrid": true,
           "ticks": "",
           "title": {
            "standoff": 15
           },
           "zerolinecolor": "white"
          }
         }
        },
        "xaxis": {
         "anchor": "y",
         "domain": [
          0.0,
          1.0
         ],
         "title": {
          "text": "Дата"
         }
        },
        "yaxis": {
         "anchor": "x",
         "domain": [
          0.0,
          1.0
         ],
         "title": {
          "text": "Относительное значение кумулятивного среднего чека"
         }
        },
        "legend": {
         "tracegroupgap": 0
        },
        "title": {
         "text": "Относительное изменение значения кумулятивного среднего чека группы B"
        },
        "shapes": [
         {
          "line": {
           "color": "salmon",
           "width": 3
          },
          "type": "line",
          "x0": "2019-08-01T00:00:00",
          "x1": "2019-08-31T00:00:00",
          "y0": 0,
          "y1": 0
         }
        ]
       },
       "config": {
        "plotlyServerURL": "https://plot.ly"
       }
      }
     },
     "metadata": {},
     "output_type": "display_data"
    }
   ],
   "source": [
    "fig = px.line(data_frame=merge_cum_revenue,\n",
    "              x='date',\n",
    "              y='cum_reciept_diff',\n",
    "              template='seaborn',\n",
    "              labels={'cum_reciept_diff':'Относительное значение кумулятивного среднего чека',\n",
    "                      'date':'Дата'},\n",
    "              title='Относительное изменение значения кумулятивного среднего чека группы B')\n",
    "fig.add_shape(type='line',\n",
    "              line_color='salmon',\n",
    "              x0=merge_cum_revenue['date'].min(),\n",
    "              x1=merge_cum_revenue['date'].max(),\n",
    "              y0=0,\n",
    "              y1=0,\n",
    "              line_width=3)\n",
    "fig.show()"
   ]
  },
  {
   "cell_type": "markdown",
   "metadata": {
    "pycharm": {
     "name": "#%% md\n"
    }
   },
   "source": [
    "## Итоги анализа графика относительного изменения кумулятивного среднего чека группы B ##\n",
    "1. до 2 августа сумма среднего чека была ниже чем в группе А\n",
    "2. со второго по 11 августа сумма среднего чека группы B превышала сумму среднего чека группы А.\n",
    "   Пиковое значение превышения суммы чека, в указанный период зафиксировано 8 и 6 августа.\n",
    "   Разница в суммах среднего чека 6 и 8 августа составила 35%.\n",
    "3. В период с 11 по 15 августа сумма среднего чека группы была чем у группы А.\n",
    "   Пиковое значение падения суммы среднего чека группы B зафиксировано 13 августа.\n",
    "   Падение составило 13%.\n",
    "4. 15 августа сумма средних чеков в обеих группах сравнялась.\n",
    "   До 18 августа наблюдается медленный рост суммы среднего чека группы B.\n",
    "5. 19 августа зафиксирован резкий рост суммы среднего чека группы B.\n",
    "   Рост составил 49%.\n",
    "6. Относительное изменение кумулятивной средней суммы чека не стабилизировалось.\n",
    "6. Необходимо провести анализ выбросов средней суммы чека в обеих группах."
   ]
  },
  {
   "cell_type": "markdown",
   "metadata": {
    "pycharm": {
     "name": "#%% md\n"
    }
   },
   "source": [
    "<div class=\"alert alert-warning\">\n",
    "<font size=\"4\">📝 <b>Комментарий ревьюера v.1</b></font>\n",
    "    \n",
    "Визуализация корректная, только поправлю, что мы анализируем в данном случае именно кумулятивный средний чек. Что можно сказать о том стабилизировались данные или нет? </div>"
   ]
  },
  {
   "cell_type": "markdown",
   "metadata": {
    "pycharm": {
     "name": "#%% md\n"
    }
   },
   "source": [
    "<div class=\"alert alert-info\">\n",
    "<font size=\"4\"><b>Комментарий студента</b></font>\n",
    "Исправил.\n",
    "Добавил.\n",
    "</div>"
   ]
  },
  {
   "cell_type": "markdown",
   "metadata": {},
   "source": [
    "<div class=\"alert alert-warning\">\n",
    "<font size=\"4\">📝 <b>Комментарий ревьюера v.2</b></font>\n",
    "    \n",
    "Ты отмечаешь, что за время эксперимента относительное изменение кумулятивного среднего чека несколько раз сильно менялось — разве это говорит нам о том, что данные стабилизировались? А на графике не поправил заголовок и подпись оси Y. </div>"
   ]
  },
  {
   "cell_type": "markdown",
   "metadata": {},
   "source": [
    "<div class=\"alert alert-info\">\n",
    "<font size=\"4\"><b>Комментарий студента v.2</b></font>\n",
    "Исправил.\n",
    "Добавил.\n",
    "</div>"
   ]
  },
  {
   "cell_type": "markdown",
   "metadata": {
    "pycharm": {
     "name": "#%% md\n"
    }
   },
   "source": [
    "<a id='abtest_cum_conversion'></a>\n",
    "## Кумулятивная конверсия групп ##"
   ]
  },
  {
   "cell_type": "code",
   "execution_count": 23,
   "metadata": {
    "pycharm": {
     "name": "#%%\n"
    }
   },
   "outputs": [
    {
     "data": {
      "application/vnd.plotly.v1+json": {
       "data": [
        {
         "hovertemplate": "Группа=A<br>Дата=%{x}<br>Кумулятивная конверсия=%{y}<extra></extra>",
         "legendgroup": "A",
         "line": {
          "color": "rgb(76,114,176)",
          "dash": "solid"
         },
         "marker": {
          "symbol": "circle"
         },
         "mode": "lines",
         "name": "A",
         "orientation": "v",
         "showlegend": true,
         "x": [
          "2019-08-01T00:00:00",
          "2019-08-02T00:00:00",
          "2019-08-03T00:00:00",
          "2019-08-04T00:00:00",
          "2019-08-05T00:00:00",
          "2019-08-06T00:00:00",
          "2019-08-07T00:00:00",
          "2019-08-08T00:00:00",
          "2019-08-09T00:00:00",
          "2019-08-10T00:00:00",
          "2019-08-11T00:00:00",
          "2019-08-12T00:00:00",
          "2019-08-13T00:00:00",
          "2019-08-14T00:00:00",
          "2019-08-15T00:00:00",
          "2019-08-16T00:00:00",
          "2019-08-17T00:00:00",
          "2019-08-18T00:00:00",
          "2019-08-19T00:00:00",
          "2019-08-20T00:00:00",
          "2019-08-21T00:00:00",
          "2019-08-22T00:00:00",
          "2019-08-23T00:00:00",
          "2019-08-24T00:00:00",
          "2019-08-25T00:00:00",
          "2019-08-26T00:00:00",
          "2019-08-27T00:00:00",
          "2019-08-28T00:00:00",
          "2019-08-29T00:00:00",
          "2019-08-30T00:00:00",
          "2019-08-31T00:00:00"
         ],
         "xaxis": "x",
         "y": [
          0.027816411682892908,
          0.028400597907324365,
          0.03360433604336043,
          0.030054644808743168,
          0.030138637733574444,
          0.028607277289836888,
          0.028299848779434002,
          0.027867913723993127,
          0.027151639344262294,
          0.027946343021398912,
          0.02679083094555874,
          0.027722772277227723,
          0.026793223597260604,
          0.02726871274011923,
          0.02673962419987611,
          0.027570419030556386,
          0.02705803614112248,
          0.026961445133459154,
          0.027517413363143863,
          0.02704031465093412,
          0.027237354085603113,
          0.026822200757857195,
          0.02764414446758096,
          0.027929060187124703,
          0.027370675232550358,
          0.027130545802744974,
          0.027418172936003907,
          0.02734236888626989,
          0.02758306263178891,
          0.027332704995287466,
          0.0268467122117848
         ],
         "yaxis": "y",
         "type": "scatter"
        },
        {
         "hovertemplate": "Группа=B<br>Дата=%{x}<br>Кумулятивная конверсия=%{y}<extra></extra>",
         "legendgroup": "B",
         "line": {
          "color": "rgb(221,132,82)",
          "dash": "solid"
         },
         "marker": {
          "symbol": "circle"
         },
         "mode": "lines",
         "name": "B",
         "orientation": "v",
         "showlegend": true,
         "x": [
          "2019-08-01T00:00:00",
          "2019-08-02T00:00:00",
          "2019-08-03T00:00:00",
          "2019-08-04T00:00:00",
          "2019-08-05T00:00:00",
          "2019-08-06T00:00:00",
          "2019-08-07T00:00:00",
          "2019-08-08T00:00:00",
          "2019-08-09T00:00:00",
          "2019-08-10T00:00:00",
          "2019-08-11T00:00:00",
          "2019-08-12T00:00:00",
          "2019-08-13T00:00:00",
          "2019-08-14T00:00:00",
          "2019-08-15T00:00:00",
          "2019-08-16T00:00:00",
          "2019-08-17T00:00:00",
          "2019-08-18T00:00:00",
          "2019-08-19T00:00:00",
          "2019-08-20T00:00:00",
          "2019-08-21T00:00:00",
          "2019-08-22T00:00:00",
          "2019-08-23T00:00:00",
          "2019-08-24T00:00:00",
          "2019-08-25T00:00:00",
          "2019-08-26T00:00:00",
          "2019-08-27T00:00:00",
          "2019-08-28T00:00:00",
          "2019-08-29T00:00:00",
          "2019-08-30T00:00:00",
          "2019-08-31T00:00:00"
         ],
         "xaxis": "x",
         "y": [
          0.028050490883590462,
          0.03323029366306028,
          0.032723239046034386,
          0.029148853478429847,
          0.029878048780487804,
          0.0312579415501906,
          0.031438415159345395,
          0.03227633069082673,
          0.03266756939742722,
          0.03425203122510753,
          0.03258073735352958,
          0.03288688502851081,
          0.0322503008423586,
          0.03169169611307421,
          0.03302083333333333,
          0.03355637671027664,
          0.033448341958980256,
          0.03195774773968311,
          0.03233830845771144,
          0.03241119659518743,
          0.0316141059499767,
          0.03157349896480331,
          0.03127221037668799,
          0.031423034330011076,
          0.030805843855357968,
          0.031006770866291212,
          0.030502935302305877,
          0.030622343831868196,
          0.030720578269708608,
          0.03115727002967359,
          0.030979065341509834
         ],
         "yaxis": "y",
         "type": "scatter"
        }
       ],
       "layout": {
        "template": {
         "data": {
          "barpolar": [
           {
            "marker": {
             "line": {
              "color": "rgb(234,234,242)",
              "width": 0.5
             },
             "pattern": {
              "fillmode": "overlay",
              "size": 10,
              "solidity": 0.2
             }
            },
            "type": "barpolar"
           }
          ],
          "bar": [
           {
            "error_x": {
             "color": "rgb(36,36,36)"
            },
            "error_y": {
             "color": "rgb(36,36,36)"
            },
            "marker": {
             "line": {
              "color": "rgb(234,234,242)",
              "width": 0.5
             },
             "pattern": {
              "fillmode": "overlay",
              "size": 10,
              "solidity": 0.2
             }
            },
            "type": "bar"
           }
          ],
          "carpet": [
           {
            "aaxis": {
             "endlinecolor": "rgb(36,36,36)",
             "gridcolor": "white",
             "linecolor": "white",
             "minorgridcolor": "white",
             "startlinecolor": "rgb(36,36,36)"
            },
            "baxis": {
             "endlinecolor": "rgb(36,36,36)",
             "gridcolor": "white",
             "linecolor": "white",
             "minorgridcolor": "white",
             "startlinecolor": "rgb(36,36,36)"
            },
            "type": "carpet"
           }
          ],
          "choropleth": [
           {
            "colorbar": {
             "outlinewidth": 0,
             "tickcolor": "rgb(36,36,36)",
             "ticklen": 8,
             "ticks": "outside",
             "tickwidth": 2
            },
            "type": "choropleth"
           }
          ],
          "contourcarpet": [
           {
            "colorbar": {
             "outlinewidth": 0,
             "tickcolor": "rgb(36,36,36)",
             "ticklen": 8,
             "ticks": "outside",
             "tickwidth": 2
            },
            "type": "contourcarpet"
           }
          ],
          "contour": [
           {
            "colorbar": {
             "outlinewidth": 0,
             "tickcolor": "rgb(36,36,36)",
             "ticklen": 8,
             "ticks": "outside",
             "tickwidth": 2
            },
            "colorscale": [
             [
              0.0,
              "rgb(2,4,25)"
             ],
             [
              0.06274509803921569,
              "rgb(24,15,41)"
             ],
             [
              0.12549019607843137,
              "rgb(47,23,57)"
             ],
             [
              0.18823529411764706,
              "rgb(71,28,72)"
             ],
             [
              0.25098039215686274,
              "rgb(97,30,82)"
             ],
             [
              0.3137254901960784,
              "rgb(123,30,89)"
             ],
             [
              0.3764705882352941,
              "rgb(150,27,91)"
             ],
             [
              0.4392156862745098,
              "rgb(177,22,88)"
             ],
             [
              0.5019607843137255,
              "rgb(203,26,79)"
             ],
             [
              0.5647058823529412,
              "rgb(223,47,67)"
             ],
             [
              0.6274509803921569,
              "rgb(236,76,61)"
             ],
             [
              0.6901960784313725,
              "rgb(242,107,73)"
             ],
             [
              0.7529411764705882,
              "rgb(244,135,95)"
             ],
             [
              0.8156862745098039,
              "rgb(245,162,122)"
             ],
             [
              0.8784313725490196,
              "rgb(246,188,153)"
             ],
             [
              0.9411764705882353,
              "rgb(247,212,187)"
             ],
             [
              1.0,
              "rgb(250,234,220)"
             ]
            ],
            "type": "contour"
           }
          ],
          "heatmapgl": [
           {
            "colorbar": {
             "outlinewidth": 0,
             "tickcolor": "rgb(36,36,36)",
             "ticklen": 8,
             "ticks": "outside",
             "tickwidth": 2
            },
            "colorscale": [
             [
              0.0,
              "rgb(2,4,25)"
             ],
             [
              0.06274509803921569,
              "rgb(24,15,41)"
             ],
             [
              0.12549019607843137,
              "rgb(47,23,57)"
             ],
             [
              0.18823529411764706,
              "rgb(71,28,72)"
             ],
             [
              0.25098039215686274,
              "rgb(97,30,82)"
             ],
             [
              0.3137254901960784,
              "rgb(123,30,89)"
             ],
             [
              0.3764705882352941,
              "rgb(150,27,91)"
             ],
             [
              0.4392156862745098,
              "rgb(177,22,88)"
             ],
             [
              0.5019607843137255,
              "rgb(203,26,79)"
             ],
             [
              0.5647058823529412,
              "rgb(223,47,67)"
             ],
             [
              0.6274509803921569,
              "rgb(236,76,61)"
             ],
             [
              0.6901960784313725,
              "rgb(242,107,73)"
             ],
             [
              0.7529411764705882,
              "rgb(244,135,95)"
             ],
             [
              0.8156862745098039,
              "rgb(245,162,122)"
             ],
             [
              0.8784313725490196,
              "rgb(246,188,153)"
             ],
             [
              0.9411764705882353,
              "rgb(247,212,187)"
             ],
             [
              1.0,
              "rgb(250,234,220)"
             ]
            ],
            "type": "heatmapgl"
           }
          ],
          "heatmap": [
           {
            "colorbar": {
             "outlinewidth": 0,
             "tickcolor": "rgb(36,36,36)",
             "ticklen": 8,
             "ticks": "outside",
             "tickwidth": 2
            },
            "colorscale": [
             [
              0.0,
              "rgb(2,4,25)"
             ],
             [
              0.06274509803921569,
              "rgb(24,15,41)"
             ],
             [
              0.12549019607843137,
              "rgb(47,23,57)"
             ],
             [
              0.18823529411764706,
              "rgb(71,28,72)"
             ],
             [
              0.25098039215686274,
              "rgb(97,30,82)"
             ],
             [
              0.3137254901960784,
              "rgb(123,30,89)"
             ],
             [
              0.3764705882352941,
              "rgb(150,27,91)"
             ],
             [
              0.4392156862745098,
              "rgb(177,22,88)"
             ],
             [
              0.5019607843137255,
              "rgb(203,26,79)"
             ],
             [
              0.5647058823529412,
              "rgb(223,47,67)"
             ],
             [
              0.6274509803921569,
              "rgb(236,76,61)"
             ],
             [
              0.6901960784313725,
              "rgb(242,107,73)"
             ],
             [
              0.7529411764705882,
              "rgb(244,135,95)"
             ],
             [
              0.8156862745098039,
              "rgb(245,162,122)"
             ],
             [
              0.8784313725490196,
              "rgb(246,188,153)"
             ],
             [
              0.9411764705882353,
              "rgb(247,212,187)"
             ],
             [
              1.0,
              "rgb(250,234,220)"
             ]
            ],
            "type": "heatmap"
           }
          ],
          "histogram2dcontour": [
           {
            "colorbar": {
             "outlinewidth": 0,
             "tickcolor": "rgb(36,36,36)",
             "ticklen": 8,
             "ticks": "outside",
             "tickwidth": 2
            },
            "colorscale": [
             [
              0.0,
              "rgb(2,4,25)"
             ],
             [
              0.06274509803921569,
              "rgb(24,15,41)"
             ],
             [
              0.12549019607843137,
              "rgb(47,23,57)"
             ],
             [
              0.18823529411764706,
              "rgb(71,28,72)"
             ],
             [
              0.25098039215686274,
              "rgb(97,30,82)"
             ],
             [
              0.3137254901960784,
              "rgb(123,30,89)"
             ],
             [
              0.3764705882352941,
              "rgb(150,27,91)"
             ],
             [
              0.4392156862745098,
              "rgb(177,22,88)"
             ],
             [
              0.5019607843137255,
              "rgb(203,26,79)"
             ],
             [
              0.5647058823529412,
              "rgb(223,47,67)"
             ],
             [
              0.6274509803921569,
              "rgb(236,76,61)"
             ],
             [
              0.6901960784313725,
              "rgb(242,107,73)"
             ],
             [
              0.7529411764705882,
              "rgb(244,135,95)"
             ],
             [
              0.8156862745098039,
              "rgb(245,162,122)"
             ],
             [
              0.8784313725490196,
              "rgb(246,188,153)"
             ],
             [
              0.9411764705882353,
              "rgb(247,212,187)"
             ],
             [
              1.0,
              "rgb(250,234,220)"
             ]
            ],
            "type": "histogram2dcontour"
           }
          ],
          "histogram2d": [
           {
            "colorbar": {
             "outlinewidth": 0,
             "tickcolor": "rgb(36,36,36)",
             "ticklen": 8,
             "ticks": "outside",
             "tickwidth": 2
            },
            "colorscale": [
             [
              0.0,
              "rgb(2,4,25)"
             ],
             [
              0.06274509803921569,
              "rgb(24,15,41)"
             ],
             [
              0.12549019607843137,
              "rgb(47,23,57)"
             ],
             [
              0.18823529411764706,
              "rgb(71,28,72)"
             ],
             [
              0.25098039215686274,
              "rgb(97,30,82)"
             ],
             [
              0.3137254901960784,
              "rgb(123,30,89)"
             ],
             [
              0.3764705882352941,
              "rgb(150,27,91)"
             ],
             [
              0.4392156862745098,
              "rgb(177,22,88)"
             ],
             [
              0.5019607843137255,
              "rgb(203,26,79)"
             ],
             [
              0.5647058823529412,
              "rgb(223,47,67)"
             ],
             [
              0.6274509803921569,
              "rgb(236,76,61)"
             ],
             [
              0.6901960784313725,
              "rgb(242,107,73)"
             ],
             [
              0.7529411764705882,
              "rgb(244,135,95)"
             ],
             [
              0.8156862745098039,
              "rgb(245,162,122)"
             ],
             [
              0.8784313725490196,
              "rgb(246,188,153)"
             ],
             [
              0.9411764705882353,
              "rgb(247,212,187)"
             ],
             [
              1.0,
              "rgb(250,234,220)"
             ]
            ],
            "type": "histogram2d"
           }
          ],
          "histogram": [
           {
            "marker": {
             "pattern": {
              "fillmode": "overlay",
              "size": 10,
              "solidity": 0.2
             }
            },
            "type": "histogram"
           }
          ],
          "mesh3d": [
           {
            "colorbar": {
             "outlinewidth": 0,
             "tickcolor": "rgb(36,36,36)",
             "ticklen": 8,
             "ticks": "outside",
             "tickwidth": 2
            },
            "type": "mesh3d"
           }
          ],
          "parcoords": [
           {
            "line": {
             "colorbar": {
              "outlinewidth": 0,
              "tickcolor": "rgb(36,36,36)",
              "ticklen": 8,
              "ticks": "outside",
              "tickwidth": 2
             }
            },
            "type": "parcoords"
           }
          ],
          "pie": [
           {
            "automargin": true,
            "type": "pie"
           }
          ],
          "scatter3d": [
           {
            "line": {
             "colorbar": {
              "outlinewidth": 0,
              "tickcolor": "rgb(36,36,36)",
              "ticklen": 8,
              "ticks": "outside",
              "tickwidth": 2
             }
            },
            "marker": {
             "colorbar": {
              "outlinewidth": 0,
              "tickcolor": "rgb(36,36,36)",
              "ticklen": 8,
              "ticks": "outside",
              "tickwidth": 2
             }
            },
            "type": "scatter3d"
           }
          ],
          "scattercarpet": [
           {
            "marker": {
             "colorbar": {
              "outlinewidth": 0,
              "tickcolor": "rgb(36,36,36)",
              "ticklen": 8,
              "ticks": "outside",
              "tickwidth": 2
             }
            },
            "type": "scattercarpet"
           }
          ],
          "scattergeo": [
           {
            "marker": {
             "colorbar": {
              "outlinewidth": 0,
              "tickcolor": "rgb(36,36,36)",
              "ticklen": 8,
              "ticks": "outside",
              "tickwidth": 2
             }
            },
            "type": "scattergeo"
           }
          ],
          "scattergl": [
           {
            "marker": {
             "colorbar": {
              "outlinewidth": 0,
              "tickcolor": "rgb(36,36,36)",
              "ticklen": 8,
              "ticks": "outside",
              "tickwidth": 2
             }
            },
            "type": "scattergl"
           }
          ],
          "scattermapbox": [
           {
            "marker": {
             "colorbar": {
              "outlinewidth": 0,
              "tickcolor": "rgb(36,36,36)",
              "ticklen": 8,
              "ticks": "outside",
              "tickwidth": 2
             }
            },
            "type": "scattermapbox"
           }
          ],
          "scatterpolargl": [
           {
            "marker": {
             "colorbar": {
              "outlinewidth": 0,
              "tickcolor": "rgb(36,36,36)",
              "ticklen": 8,
              "ticks": "outside",
              "tickwidth": 2
             }
            },
            "type": "scatterpolargl"
           }
          ],
          "scatterpolar": [
           {
            "marker": {
             "colorbar": {
              "outlinewidth": 0,
              "tickcolor": "rgb(36,36,36)",
              "ticklen": 8,
              "ticks": "outside",
              "tickwidth": 2
             }
            },
            "type": "scatterpolar"
           }
          ],
          "scatter": [
           {
            "marker": {
             "colorbar": {
              "outlinewidth": 0,
              "tickcolor": "rgb(36,36,36)",
              "ticklen": 8,
              "ticks": "outside",
              "tickwidth": 2
             }
            },
            "type": "scatter"
           }
          ],
          "scatterternary": [
           {
            "marker": {
             "colorbar": {
              "outlinewidth": 0,
              "tickcolor": "rgb(36,36,36)",
              "ticklen": 8,
              "ticks": "outside",
              "tickwidth": 2
             }
            },
            "type": "scatterternary"
           }
          ],
          "surface": [
           {
            "colorbar": {
             "outlinewidth": 0,
             "tickcolor": "rgb(36,36,36)",
             "ticklen": 8,
             "ticks": "outside",
             "tickwidth": 2
            },
            "colorscale": [
             [
              0.0,
              "rgb(2,4,25)"
             ],
             [
              0.06274509803921569,
              "rgb(24,15,41)"
             ],
             [
              0.12549019607843137,
              "rgb(47,23,57)"
             ],
             [
              0.18823529411764706,
              "rgb(71,28,72)"
             ],
             [
              0.25098039215686274,
              "rgb(97,30,82)"
             ],
             [
              0.3137254901960784,
              "rgb(123,30,89)"
             ],
             [
              0.3764705882352941,
              "rgb(150,27,91)"
             ],
             [
              0.4392156862745098,
              "rgb(177,22,88)"
             ],
             [
              0.5019607843137255,
              "rgb(203,26,79)"
             ],
             [
              0.5647058823529412,
              "rgb(223,47,67)"
             ],
             [
              0.6274509803921569,
              "rgb(236,76,61)"
             ],
             [
              0.6901960784313725,
              "rgb(242,107,73)"
             ],
             [
              0.7529411764705882,
              "rgb(244,135,95)"
             ],
             [
              0.8156862745098039,
              "rgb(245,162,122)"
             ],
             [
              0.8784313725490196,
              "rgb(246,188,153)"
             ],
             [
              0.9411764705882353,
              "rgb(247,212,187)"
             ],
             [
              1.0,
              "rgb(250,234,220)"
             ]
            ],
            "type": "surface"
           }
          ],
          "table": [
           {
            "cells": {
             "fill": {
              "color": "rgb(231,231,240)"
             },
             "line": {
              "color": "white"
             }
            },
            "header": {
             "fill": {
              "color": "rgb(183,183,191)"
             },
             "line": {
              "color": "white"
             }
            },
            "type": "table"
           }
          ]
         },
         "layout": {
          "annotationdefaults": {
           "arrowcolor": "rgb(67,103,167)"
          },
          "autotypenumbers": "strict",
          "coloraxis": {
           "colorbar": {
            "outlinewidth": 0,
            "tickcolor": "rgb(36,36,36)",
            "ticklen": 8,
            "ticks": "outside",
            "tickwidth": 2
           }
          },
          "colorscale": {
           "sequential": [
            [
             0.0,
             "rgb(2,4,25)"
            ],
            [
             0.06274509803921569,
             "rgb(24,15,41)"
            ],
            [
             0.12549019607843137,
             "rgb(47,23,57)"
            ],
            [
             0.18823529411764706,
             "rgb(71,28,72)"
            ],
            [
             0.25098039215686274,
             "rgb(97,30,82)"
            ],
            [
             0.3137254901960784,
             "rgb(123,30,89)"
            ],
            [
             0.3764705882352941,
             "rgb(150,27,91)"
            ],
            [
             0.4392156862745098,
             "rgb(177,22,88)"
            ],
            [
             0.5019607843137255,
             "rgb(203,26,79)"
            ],
            [
             0.5647058823529412,
             "rgb(223,47,67)"
            ],
            [
             0.6274509803921569,
             "rgb(236,76,61)"
            ],
            [
             0.6901960784313725,
             "rgb(242,107,73)"
            ],
            [
             0.7529411764705882,
             "rgb(244,135,95)"
            ],
            [
             0.8156862745098039,
             "rgb(245,162,122)"
            ],
            [
             0.8784313725490196,
             "rgb(246,188,153)"
            ],
            [
             0.9411764705882353,
             "rgb(247,212,187)"
            ],
            [
             1.0,
             "rgb(250,234,220)"
            ]
           ],
           "sequentialminus": [
            [
             0.0,
             "rgb(2,4,25)"
            ],
            [
             0.06274509803921569,
             "rgb(24,15,41)"
            ],
            [
             0.12549019607843137,
             "rgb(47,23,57)"
            ],
            [
             0.18823529411764706,
             "rgb(71,28,72)"
            ],
            [
             0.25098039215686274,
             "rgb(97,30,82)"
            ],
            [
             0.3137254901960784,
             "rgb(123,30,89)"
            ],
            [
             0.3764705882352941,
             "rgb(150,27,91)"
            ],
            [
             0.4392156862745098,
             "rgb(177,22,88)"
            ],
            [
             0.5019607843137255,
             "rgb(203,26,79)"
            ],
            [
             0.5647058823529412,
             "rgb(223,47,67)"
            ],
            [
             0.6274509803921569,
             "rgb(236,76,61)"
            ],
            [
             0.6901960784313725,
             "rgb(242,107,73)"
            ],
            [
             0.7529411764705882,
             "rgb(244,135,95)"
            ],
            [
             0.8156862745098039,
             "rgb(245,162,122)"
            ],
            [
             0.8784313725490196,
             "rgb(246,188,153)"
            ],
            [
             0.9411764705882353,
             "rgb(247,212,187)"
            ],
            [
             1.0,
             "rgb(250,234,220)"
            ]
           ]
          },
          "colorway": [
           "rgb(76,114,176)",
           "rgb(221,132,82)",
           "rgb(85,168,104)",
           "rgb(196,78,82)",
           "rgb(129,114,179)",
           "rgb(147,120,96)",
           "rgb(218,139,195)",
           "rgb(140,140,140)",
           "rgb(204,185,116)",
           "rgb(100,181,205)"
          ],
          "font": {
           "color": "rgb(36,36,36)"
          },
          "geo": {
           "bgcolor": "white",
           "lakecolor": "white",
           "landcolor": "rgb(234,234,242)",
           "showlakes": true,
           "showland": true,
           "subunitcolor": "white"
          },
          "hoverlabel": {
           "align": "left"
          },
          "hovermode": "closest",
          "paper_bgcolor": "white",
          "plot_bgcolor": "rgb(234,234,242)",
          "polar": {
           "angularaxis": {
            "gridcolor": "white",
            "linecolor": "white",
            "showgrid": true,
            "ticks": ""
           },
           "bgcolor": "rgb(234,234,242)",
           "radialaxis": {
            "gridcolor": "white",
            "linecolor": "white",
            "showgrid": true,
            "ticks": ""
           }
          },
          "scene": {
           "xaxis": {
            "backgroundcolor": "rgb(234,234,242)",
            "gridcolor": "white",
            "gridwidth": 2,
            "linecolor": "white",
            "showbackground": true,
            "showgrid": true,
            "ticks": "",
            "zerolinecolor": "white"
           },
           "yaxis": {
            "backgroundcolor": "rgb(234,234,242)",
            "gridcolor": "white",
            "gridwidth": 2,
            "linecolor": "white",
            "showbackground": true,
            "showgrid": true,
            "ticks": "",
            "zerolinecolor": "white"
           },
           "zaxis": {
            "backgroundcolor": "rgb(234,234,242)",
            "gridcolor": "white",
            "gridwidth": 2,
            "linecolor": "white",
            "showbackground": true,
            "showgrid": true,
            "ticks": "",
            "zerolinecolor": "white"
           }
          },
          "shapedefaults": {
           "fillcolor": "rgb(67,103,167)",
           "line": {
            "width": 0
           },
           "opacity": 0.5
          },
          "ternary": {
           "aaxis": {
            "gridcolor": "white",
            "linecolor": "white",
            "showgrid": true,
            "ticks": ""
           },
           "baxis": {
            "gridcolor": "white",
            "linecolor": "white",
            "showgrid": true,
            "ticks": ""
           },
           "bgcolor": "rgb(234,234,242)",
           "caxis": {
            "gridcolor": "white",
            "linecolor": "white",
            "showgrid": true,
            "ticks": ""
           }
          },
          "xaxis": {
           "automargin": true,
           "gridcolor": "white",
           "linecolor": "white",
           "showgrid": true,
           "ticks": "",
           "title": {
            "standoff": 15
           },
           "zerolinecolor": "white"
          },
          "yaxis": {
           "automargin": true,
           "gridcolor": "white",
           "linecolor": "white",
           "showgrid": true,
           "ticks": "",
           "title": {
            "standoff": 15
           },
           "zerolinecolor": "white"
          }
         }
        },
        "xaxis": {
         "anchor": "y",
         "domain": [
          0.0,
          1.0
         ],
         "title": {
          "text": "Дата"
         }
        },
        "yaxis": {
         "anchor": "x",
         "domain": [
          0.0,
          1.0
         ],
         "title": {
          "text": "Кумулятивная конверсия"
         }
        },
        "legend": {
         "title": {
          "text": "Группа"
         },
         "tracegroupgap": 0
        },
        "title": {
         "text": "Кумулятивная конверсия групп"
        }
       },
       "config": {
        "plotlyServerURL": "https://plot.ly"
       }
      }
     },
     "metadata": {},
     "output_type": "display_data"
    }
   ],
   "source": [
    "fig = px.line(data_frame=cum_data,\n",
    "              x='date',\n",
    "              y=cum_data['buyers'] / cum_data['visitors'],\n",
    "              color='group',\n",
    "              title='Кумулятивная конверсия групп',\n",
    "              template='seaborn',\n",
    "              labels={'y':'Кумулятивная конверсия',\n",
    "                      'date':'Дата',\n",
    "                      'group':'Группа'})\n",
    "fig.show()"
   ]
  },
  {
   "cell_type": "markdown",
   "metadata": {
    "pycharm": {
     "name": "#%% md\n"
    }
   },
   "source": [
    "## Итоги анализа конверсии групп ##\n",
    "1. до 18 августа наблюдаются колебания значения конверсии для обеих групп\n",
    "2. 18 августа конверсия обеих групп выравнивается.\n",
    "3. конверсия в группе B выше конверсии в группе А ~0.3%"
   ]
  },
  {
   "cell_type": "markdown",
   "metadata": {
    "pycharm": {
     "name": "#%% md\n"
    }
   },
   "source": [
    "<div class=\"alert alert-success\">\n",
    "<font size=\"4\">👍 <b>Комментарий ревьюера v.1</b></font>\n",
    "    \n",
    "Отличная визуализация и правильные выводы.</div>"
   ]
  },
  {
   "cell_type": "markdown",
   "metadata": {
    "pycharm": {
     "name": "#%% md\n"
    }
   },
   "source": [
    "<a id='abtest_cum_conversion_diff'></a>\n",
    "## Относительное изменение кумулятивной конверсии групп ##"
   ]
  },
  {
   "cell_type": "code",
   "execution_count": 24,
   "metadata": {
    "pycharm": {
     "name": "#%%\n"
    }
   },
   "outputs": [],
   "source": [
    "cum_buyers_a = cum_data[cum_data['group'] == 'A'][['date', 'buyers', 'visitors']]\n",
    "cum_buyers_a['conversion'] = cum_buyers_a['buyers'] / cum_buyers_a['visitors']\n",
    "\n",
    "cum_buyers_b = cum_data[cum_data['group'] == 'B'][['date', 'buyers', 'visitors']]\n",
    "cum_buyers_b['conversion'] = cum_buyers_b['buyers'] / cum_buyers_b['visitors']\n",
    "\n",
    "merge_cum_conversion = cum_buyers_a.merge(right=cum_buyers_b,\n",
    "                                        how='left',\n",
    "                                        left_on='date',\n",
    "                                        right_on='date',\n",
    "                                        suffixes=['A','B'])\n",
    "merge_cum_conversion['cum_conversion_diff'] = merge_cum_conversion['conversionB'] / merge_cum_conversion['conversionA'] - 1"
   ]
  },
  {
   "cell_type": "code",
   "execution_count": 25,
   "metadata": {
    "pycharm": {
     "name": "#%%\n"
    }
   },
   "outputs": [
    {
     "data": {
      "application/vnd.plotly.v1+json": {
       "data": [
        {
         "hovertemplate": "Дата=%{x}<br>Кумулятивная конверсия=%{y}<extra></extra>",
         "legendgroup": "",
         "line": {
          "color": "rgb(76,114,176)",
          "dash": "solid"
         },
         "marker": {
          "symbol": "circle"
         },
         "mode": "lines",
         "name": "",
         "orientation": "v",
         "showlegend": false,
         "x": [
          "2019-08-01T00:00:00",
          "2019-08-02T00:00:00",
          "2019-08-03T00:00:00",
          "2019-08-04T00:00:00",
          "2019-08-05T00:00:00",
          "2019-08-06T00:00:00",
          "2019-08-07T00:00:00",
          "2019-08-08T00:00:00",
          "2019-08-09T00:00:00",
          "2019-08-10T00:00:00",
          "2019-08-11T00:00:00",
          "2019-08-12T00:00:00",
          "2019-08-13T00:00:00",
          "2019-08-14T00:00:00",
          "2019-08-15T00:00:00",
          "2019-08-16T00:00:00",
          "2019-08-17T00:00:00",
          "2019-08-18T00:00:00",
          "2019-08-19T00:00:00",
          "2019-08-20T00:00:00",
          "2019-08-21T00:00:00",
          "2019-08-22T00:00:00",
          "2019-08-23T00:00:00",
          "2019-08-24T00:00:00",
          "2019-08-25T00:00:00",
          "2019-08-26T00:00:00",
          "2019-08-27T00:00:00",
          "2019-08-28T00:00:00",
          "2019-08-29T00:00:00",
          "2019-08-30T00:00:00",
          "2019-08-31T00:00:00"
         ],
         "xaxis": "x",
         "y": [
          0.008415147265077083,
          0.17005612950459614,
          -0.026219741291396037,
          -0.030138147899515966,
          -0.008646341463414697,
          0.09265699190797849,
          0.11090399826419728,
          0.15818970198110427,
          0.20315274459958355,
          0.22563554018070509,
          0.21611522314244103,
          0.18627692424271136,
          0.20367378435403882,
          0.16219993276204936,
          0.23490267052767044,
          0.21711522313411336,
          0.23617034822959182,
          0.18531286366484645,
          0.17519434079601992,
          0.1986249795383861,
          0.16068931844914447,
          0.17714050572655893,
          0.13124175043151576,
          0.1251017441860467,
          0.12550543943915438,
          0.1428730955775337,
          0.11250794768499128,
          0.11995942850604147,
          0.1137479068152416,
          0.13992632763736812,
          0.1539239925219249
         ],
         "yaxis": "y",
         "type": "scatter"
        }
       ],
       "layout": {
        "template": {
         "data": {
          "barpolar": [
           {
            "marker": {
             "line": {
              "color": "rgb(234,234,242)",
              "width": 0.5
             },
             "pattern": {
              "fillmode": "overlay",
              "size": 10,
              "solidity": 0.2
             }
            },
            "type": "barpolar"
           }
          ],
          "bar": [
           {
            "error_x": {
             "color": "rgb(36,36,36)"
            },
            "error_y": {
             "color": "rgb(36,36,36)"
            },
            "marker": {
             "line": {
              "color": "rgb(234,234,242)",
              "width": 0.5
             },
             "pattern": {
              "fillmode": "overlay",
              "size": 10,
              "solidity": 0.2
             }
            },
            "type": "bar"
           }
          ],
          "carpet": [
           {
            "aaxis": {
             "endlinecolor": "rgb(36,36,36)",
             "gridcolor": "white",
             "linecolor": "white",
             "minorgridcolor": "white",
             "startlinecolor": "rgb(36,36,36)"
            },
            "baxis": {
             "endlinecolor": "rgb(36,36,36)",
             "gridcolor": "white",
             "linecolor": "white",
             "minorgridcolor": "white",
             "startlinecolor": "rgb(36,36,36)"
            },
            "type": "carpet"
           }
          ],
          "choropleth": [
           {
            "colorbar": {
             "outlinewidth": 0,
             "tickcolor": "rgb(36,36,36)",
             "ticklen": 8,
             "ticks": "outside",
             "tickwidth": 2
            },
            "type": "choropleth"
           }
          ],
          "contourcarpet": [
           {
            "colorbar": {
             "outlinewidth": 0,
             "tickcolor": "rgb(36,36,36)",
             "ticklen": 8,
             "ticks": "outside",
             "tickwidth": 2
            },
            "type": "contourcarpet"
           }
          ],
          "contour": [
           {
            "colorbar": {
             "outlinewidth": 0,
             "tickcolor": "rgb(36,36,36)",
             "ticklen": 8,
             "ticks": "outside",
             "tickwidth": 2
            },
            "colorscale": [
             [
              0.0,
              "rgb(2,4,25)"
             ],
             [
              0.06274509803921569,
              "rgb(24,15,41)"
             ],
             [
              0.12549019607843137,
              "rgb(47,23,57)"
             ],
             [
              0.18823529411764706,
              "rgb(71,28,72)"
             ],
             [
              0.25098039215686274,
              "rgb(97,30,82)"
             ],
             [
              0.3137254901960784,
              "rgb(123,30,89)"
             ],
             [
              0.3764705882352941,
              "rgb(150,27,91)"
             ],
             [
              0.4392156862745098,
              "rgb(177,22,88)"
             ],
             [
              0.5019607843137255,
              "rgb(203,26,79)"
             ],
             [
              0.5647058823529412,
              "rgb(223,47,67)"
             ],
             [
              0.6274509803921569,
              "rgb(236,76,61)"
             ],
             [
              0.6901960784313725,
              "rgb(242,107,73)"
             ],
             [
              0.7529411764705882,
              "rgb(244,135,95)"
             ],
             [
              0.8156862745098039,
              "rgb(245,162,122)"
             ],
             [
              0.8784313725490196,
              "rgb(246,188,153)"
             ],
             [
              0.9411764705882353,
              "rgb(247,212,187)"
             ],
             [
              1.0,
              "rgb(250,234,220)"
             ]
            ],
            "type": "contour"
           }
          ],
          "heatmapgl": [
           {
            "colorbar": {
             "outlinewidth": 0,
             "tickcolor": "rgb(36,36,36)",
             "ticklen": 8,
             "ticks": "outside",
             "tickwidth": 2
            },
            "colorscale": [
             [
              0.0,
              "rgb(2,4,25)"
             ],
             [
              0.06274509803921569,
              "rgb(24,15,41)"
             ],
             [
              0.12549019607843137,
              "rgb(47,23,57)"
             ],
             [
              0.18823529411764706,
              "rgb(71,28,72)"
             ],
             [
              0.25098039215686274,
              "rgb(97,30,82)"
             ],
             [
              0.3137254901960784,
              "rgb(123,30,89)"
             ],
             [
              0.3764705882352941,
              "rgb(150,27,91)"
             ],
             [
              0.4392156862745098,
              "rgb(177,22,88)"
             ],
             [
              0.5019607843137255,
              "rgb(203,26,79)"
             ],
             [
              0.5647058823529412,
              "rgb(223,47,67)"
             ],
             [
              0.6274509803921569,
              "rgb(236,76,61)"
             ],
             [
              0.6901960784313725,
              "rgb(242,107,73)"
             ],
             [
              0.7529411764705882,
              "rgb(244,135,95)"
             ],
             [
              0.8156862745098039,
              "rgb(245,162,122)"
             ],
             [
              0.8784313725490196,
              "rgb(246,188,153)"
             ],
             [
              0.9411764705882353,
              "rgb(247,212,187)"
             ],
             [
              1.0,
              "rgb(250,234,220)"
             ]
            ],
            "type": "heatmapgl"
           }
          ],
          "heatmap": [
           {
            "colorbar": {
             "outlinewidth": 0,
             "tickcolor": "rgb(36,36,36)",
             "ticklen": 8,
             "ticks": "outside",
             "tickwidth": 2
            },
            "colorscale": [
             [
              0.0,
              "rgb(2,4,25)"
             ],
             [
              0.06274509803921569,
              "rgb(24,15,41)"
             ],
             [
              0.12549019607843137,
              "rgb(47,23,57)"
             ],
             [
              0.18823529411764706,
              "rgb(71,28,72)"
             ],
             [
              0.25098039215686274,
              "rgb(97,30,82)"
             ],
             [
              0.3137254901960784,
              "rgb(123,30,89)"
             ],
             [
              0.3764705882352941,
              "rgb(150,27,91)"
             ],
             [
              0.4392156862745098,
              "rgb(177,22,88)"
             ],
             [
              0.5019607843137255,
              "rgb(203,26,79)"
             ],
             [
              0.5647058823529412,
              "rgb(223,47,67)"
             ],
             [
              0.6274509803921569,
              "rgb(236,76,61)"
             ],
             [
              0.6901960784313725,
              "rgb(242,107,73)"
             ],
             [
              0.7529411764705882,
              "rgb(244,135,95)"
             ],
             [
              0.8156862745098039,
              "rgb(245,162,122)"
             ],
             [
              0.8784313725490196,
              "rgb(246,188,153)"
             ],
             [
              0.9411764705882353,
              "rgb(247,212,187)"
             ],
             [
              1.0,
              "rgb(250,234,220)"
             ]
            ],
            "type": "heatmap"
           }
          ],
          "histogram2dcontour": [
           {
            "colorbar": {
             "outlinewidth": 0,
             "tickcolor": "rgb(36,36,36)",
             "ticklen": 8,
             "ticks": "outside",
             "tickwidth": 2
            },
            "colorscale": [
             [
              0.0,
              "rgb(2,4,25)"
             ],
             [
              0.06274509803921569,
              "rgb(24,15,41)"
             ],
             [
              0.12549019607843137,
              "rgb(47,23,57)"
             ],
             [
              0.18823529411764706,
              "rgb(71,28,72)"
             ],
             [
              0.25098039215686274,
              "rgb(97,30,82)"
             ],
             [
              0.3137254901960784,
              "rgb(123,30,89)"
             ],
             [
              0.3764705882352941,
              "rgb(150,27,91)"
             ],
             [
              0.4392156862745098,
              "rgb(177,22,88)"
             ],
             [
              0.5019607843137255,
              "rgb(203,26,79)"
             ],
             [
              0.5647058823529412,
              "rgb(223,47,67)"
             ],
             [
              0.6274509803921569,
              "rgb(236,76,61)"
             ],
             [
              0.6901960784313725,
              "rgb(242,107,73)"
             ],
             [
              0.7529411764705882,
              "rgb(244,135,95)"
             ],
             [
              0.8156862745098039,
              "rgb(245,162,122)"
             ],
             [
              0.8784313725490196,
              "rgb(246,188,153)"
             ],
             [
              0.9411764705882353,
              "rgb(247,212,187)"
             ],
             [
              1.0,
              "rgb(250,234,220)"
             ]
            ],
            "type": "histogram2dcontour"
           }
          ],
          "histogram2d": [
           {
            "colorbar": {
             "outlinewidth": 0,
             "tickcolor": "rgb(36,36,36)",
             "ticklen": 8,
             "ticks": "outside",
             "tickwidth": 2
            },
            "colorscale": [
             [
              0.0,
              "rgb(2,4,25)"
             ],
             [
              0.06274509803921569,
              "rgb(24,15,41)"
             ],
             [
              0.12549019607843137,
              "rgb(47,23,57)"
             ],
             [
              0.18823529411764706,
              "rgb(71,28,72)"
             ],
             [
              0.25098039215686274,
              "rgb(97,30,82)"
             ],
             [
              0.3137254901960784,
              "rgb(123,30,89)"
             ],
             [
              0.3764705882352941,
              "rgb(150,27,91)"
             ],
             [
              0.4392156862745098,
              "rgb(177,22,88)"
             ],
             [
              0.5019607843137255,
              "rgb(203,26,79)"
             ],
             [
              0.5647058823529412,
              "rgb(223,47,67)"
             ],
             [
              0.6274509803921569,
              "rgb(236,76,61)"
             ],
             [
              0.6901960784313725,
              "rgb(242,107,73)"
             ],
             [
              0.7529411764705882,
              "rgb(244,135,95)"
             ],
             [
              0.8156862745098039,
              "rgb(245,162,122)"
             ],
             [
              0.8784313725490196,
              "rgb(246,188,153)"
             ],
             [
              0.9411764705882353,
              "rgb(247,212,187)"
             ],
             [
              1.0,
              "rgb(250,234,220)"
             ]
            ],
            "type": "histogram2d"
           }
          ],
          "histogram": [
           {
            "marker": {
             "pattern": {
              "fillmode": "overlay",
              "size": 10,
              "solidity": 0.2
             }
            },
            "type": "histogram"
           }
          ],
          "mesh3d": [
           {
            "colorbar": {
             "outlinewidth": 0,
             "tickcolor": "rgb(36,36,36)",
             "ticklen": 8,
             "ticks": "outside",
             "tickwidth": 2
            },
            "type": "mesh3d"
           }
          ],
          "parcoords": [
           {
            "line": {
             "colorbar": {
              "outlinewidth": 0,
              "tickcolor": "rgb(36,36,36)",
              "ticklen": 8,
              "ticks": "outside",
              "tickwidth": 2
             }
            },
            "type": "parcoords"
           }
          ],
          "pie": [
           {
            "automargin": true,
            "type": "pie"
           }
          ],
          "scatter3d": [
           {
            "line": {
             "colorbar": {
              "outlinewidth": 0,
              "tickcolor": "rgb(36,36,36)",
              "ticklen": 8,
              "ticks": "outside",
              "tickwidth": 2
             }
            },
            "marker": {
             "colorbar": {
              "outlinewidth": 0,
              "tickcolor": "rgb(36,36,36)",
              "ticklen": 8,
              "ticks": "outside",
              "tickwidth": 2
             }
            },
            "type": "scatter3d"
           }
          ],
          "scattercarpet": [
           {
            "marker": {
             "colorbar": {
              "outlinewidth": 0,
              "tickcolor": "rgb(36,36,36)",
              "ticklen": 8,
              "ticks": "outside",
              "tickwidth": 2
             }
            },
            "type": "scattercarpet"
           }
          ],
          "scattergeo": [
           {
            "marker": {
             "colorbar": {
              "outlinewidth": 0,
              "tickcolor": "rgb(36,36,36)",
              "ticklen": 8,
              "ticks": "outside",
              "tickwidth": 2
             }
            },
            "type": "scattergeo"
           }
          ],
          "scattergl": [
           {
            "marker": {
             "colorbar": {
              "outlinewidth": 0,
              "tickcolor": "rgb(36,36,36)",
              "ticklen": 8,
              "ticks": "outside",
              "tickwidth": 2
             }
            },
            "type": "scattergl"
           }
          ],
          "scattermapbox": [
           {
            "marker": {
             "colorbar": {
              "outlinewidth": 0,
              "tickcolor": "rgb(36,36,36)",
              "ticklen": 8,
              "ticks": "outside",
              "tickwidth": 2
             }
            },
            "type": "scattermapbox"
           }
          ],
          "scatterpolargl": [
           {
            "marker": {
             "colorbar": {
              "outlinewidth": 0,
              "tickcolor": "rgb(36,36,36)",
              "ticklen": 8,
              "ticks": "outside",
              "tickwidth": 2
             }
            },
            "type": "scatterpolargl"
           }
          ],
          "scatterpolar": [
           {
            "marker": {
             "colorbar": {
              "outlinewidth": 0,
              "tickcolor": "rgb(36,36,36)",
              "ticklen": 8,
              "ticks": "outside",
              "tickwidth": 2
             }
            },
            "type": "scatterpolar"
           }
          ],
          "scatter": [
           {
            "marker": {
             "colorbar": {
              "outlinewidth": 0,
              "tickcolor": "rgb(36,36,36)",
              "ticklen": 8,
              "ticks": "outside",
              "tickwidth": 2
             }
            },
            "type": "scatter"
           }
          ],
          "scatterternary": [
           {
            "marker": {
             "colorbar": {
              "outlinewidth": 0,
              "tickcolor": "rgb(36,36,36)",
              "ticklen": 8,
              "ticks": "outside",
              "tickwidth": 2
             }
            },
            "type": "scatterternary"
           }
          ],
          "surface": [
           {
            "colorbar": {
             "outlinewidth": 0,
             "tickcolor": "rgb(36,36,36)",
             "ticklen": 8,
             "ticks": "outside",
             "tickwidth": 2
            },
            "colorscale": [
             [
              0.0,
              "rgb(2,4,25)"
             ],
             [
              0.06274509803921569,
              "rgb(24,15,41)"
             ],
             [
              0.12549019607843137,
              "rgb(47,23,57)"
             ],
             [
              0.18823529411764706,
              "rgb(71,28,72)"
             ],
             [
              0.25098039215686274,
              "rgb(97,30,82)"
             ],
             [
              0.3137254901960784,
              "rgb(123,30,89)"
             ],
             [
              0.3764705882352941,
              "rgb(150,27,91)"
             ],
             [
              0.4392156862745098,
              "rgb(177,22,88)"
             ],
             [
              0.5019607843137255,
              "rgb(203,26,79)"
             ],
             [
              0.5647058823529412,
              "rgb(223,47,67)"
             ],
             [
              0.6274509803921569,
              "rgb(236,76,61)"
             ],
             [
              0.6901960784313725,
              "rgb(242,107,73)"
             ],
             [
              0.7529411764705882,
              "rgb(244,135,95)"
             ],
             [
              0.8156862745098039,
              "rgb(245,162,122)"
             ],
             [
              0.8784313725490196,
              "rgb(246,188,153)"
             ],
             [
              0.9411764705882353,
              "rgb(247,212,187)"
             ],
             [
              1.0,
              "rgb(250,234,220)"
             ]
            ],
            "type": "surface"
           }
          ],
          "table": [
           {
            "cells": {
             "fill": {
              "color": "rgb(231,231,240)"
             },
             "line": {
              "color": "white"
             }
            },
            "header": {
             "fill": {
              "color": "rgb(183,183,191)"
             },
             "line": {
              "color": "white"
             }
            },
            "type": "table"
           }
          ]
         },
         "layout": {
          "annotationdefaults": {
           "arrowcolor": "rgb(67,103,167)"
          },
          "autotypenumbers": "strict",
          "coloraxis": {
           "colorbar": {
            "outlinewidth": 0,
            "tickcolor": "rgb(36,36,36)",
            "ticklen": 8,
            "ticks": "outside",
            "tickwidth": 2
           }
          },
          "colorscale": {
           "sequential": [
            [
             0.0,
             "rgb(2,4,25)"
            ],
            [
             0.06274509803921569,
             "rgb(24,15,41)"
            ],
            [
             0.12549019607843137,
             "rgb(47,23,57)"
            ],
            [
             0.18823529411764706,
             "rgb(71,28,72)"
            ],
            [
             0.25098039215686274,
             "rgb(97,30,82)"
            ],
            [
             0.3137254901960784,
             "rgb(123,30,89)"
            ],
            [
             0.3764705882352941,
             "rgb(150,27,91)"
            ],
            [
             0.4392156862745098,
             "rgb(177,22,88)"
            ],
            [
             0.5019607843137255,
             "rgb(203,26,79)"
            ],
            [
             0.5647058823529412,
             "rgb(223,47,67)"
            ],
            [
             0.6274509803921569,
             "rgb(236,76,61)"
            ],
            [
             0.6901960784313725,
             "rgb(242,107,73)"
            ],
            [
             0.7529411764705882,
             "rgb(244,135,95)"
            ],
            [
             0.8156862745098039,
             "rgb(245,162,122)"
            ],
            [
             0.8784313725490196,
             "rgb(246,188,153)"
            ],
            [
             0.9411764705882353,
             "rgb(247,212,187)"
            ],
            [
             1.0,
             "rgb(250,234,220)"
            ]
           ],
           "sequentialminus": [
            [
             0.0,
             "rgb(2,4,25)"
            ],
            [
             0.06274509803921569,
             "rgb(24,15,41)"
            ],
            [
             0.12549019607843137,
             "rgb(47,23,57)"
            ],
            [
             0.18823529411764706,
             "rgb(71,28,72)"
            ],
            [
             0.25098039215686274,
             "rgb(97,30,82)"
            ],
            [
             0.3137254901960784,
             "rgb(123,30,89)"
            ],
            [
             0.3764705882352941,
             "rgb(150,27,91)"
            ],
            [
             0.4392156862745098,
             "rgb(177,22,88)"
            ],
            [
             0.5019607843137255,
             "rgb(203,26,79)"
            ],
            [
             0.5647058823529412,
             "rgb(223,47,67)"
            ],
            [
             0.6274509803921569,
             "rgb(236,76,61)"
            ],
            [
             0.6901960784313725,
             "rgb(242,107,73)"
            ],
            [
             0.7529411764705882,
             "rgb(244,135,95)"
            ],
            [
             0.8156862745098039,
             "rgb(245,162,122)"
            ],
            [
             0.8784313725490196,
             "rgb(246,188,153)"
            ],
            [
             0.9411764705882353,
             "rgb(247,212,187)"
            ],
            [
             1.0,
             "rgb(250,234,220)"
            ]
           ]
          },
          "colorway": [
           "rgb(76,114,176)",
           "rgb(221,132,82)",
           "rgb(85,168,104)",
           "rgb(196,78,82)",
           "rgb(129,114,179)",
           "rgb(147,120,96)",
           "rgb(218,139,195)",
           "rgb(140,140,140)",
           "rgb(204,185,116)",
           "rgb(100,181,205)"
          ],
          "font": {
           "color": "rgb(36,36,36)"
          },
          "geo": {
           "bgcolor": "white",
           "lakecolor": "white",
           "landcolor": "rgb(234,234,242)",
           "showlakes": true,
           "showland": true,
           "subunitcolor": "white"
          },
          "hoverlabel": {
           "align": "left"
          },
          "hovermode": "closest",
          "paper_bgcolor": "white",
          "plot_bgcolor": "rgb(234,234,242)",
          "polar": {
           "angularaxis": {
            "gridcolor": "white",
            "linecolor": "white",
            "showgrid": true,
            "ticks": ""
           },
           "bgcolor": "rgb(234,234,242)",
           "radialaxis": {
            "gridcolor": "white",
            "linecolor": "white",
            "showgrid": true,
            "ticks": ""
           }
          },
          "scene": {
           "xaxis": {
            "backgroundcolor": "rgb(234,234,242)",
            "gridcolor": "white",
            "gridwidth": 2,
            "linecolor": "white",
            "showbackground": true,
            "showgrid": true,
            "ticks": "",
            "zerolinecolor": "white"
           },
           "yaxis": {
            "backgroundcolor": "rgb(234,234,242)",
            "gridcolor": "white",
            "gridwidth": 2,
            "linecolor": "white",
            "showbackground": true,
            "showgrid": true,
            "ticks": "",
            "zerolinecolor": "white"
           },
           "zaxis": {
            "backgroundcolor": "rgb(234,234,242)",
            "gridcolor": "white",
            "gridwidth": 2,
            "linecolor": "white",
            "showbackground": true,
            "showgrid": true,
            "ticks": "",
            "zerolinecolor": "white"
           }
          },
          "shapedefaults": {
           "fillcolor": "rgb(67,103,167)",
           "line": {
            "width": 0
           },
           "opacity": 0.5
          },
          "ternary": {
           "aaxis": {
            "gridcolor": "white",
            "linecolor": "white",
            "showgrid": true,
            "ticks": ""
           },
           "baxis": {
            "gridcolor": "white",
            "linecolor": "white",
            "showgrid": true,
            "ticks": ""
           },
           "bgcolor": "rgb(234,234,242)",
           "caxis": {
            "gridcolor": "white",
            "linecolor": "white",
            "showgrid": true,
            "ticks": ""
           }
          },
          "xaxis": {
           "automargin": true,
           "gridcolor": "white",
           "linecolor": "white",
           "showgrid": true,
           "ticks": "",
           "title": {
            "standoff": 15
           },
           "zerolinecolor": "white"
          },
          "yaxis": {
           "automargin": true,
           "gridcolor": "white",
           "linecolor": "white",
           "showgrid": true,
           "ticks": "",
           "title": {
            "standoff": 15
           },
           "zerolinecolor": "white"
          }
         }
        },
        "xaxis": {
         "anchor": "y",
         "domain": [
          0.0,
          1.0
         ],
         "title": {
          "text": "Дата"
         }
        },
        "yaxis": {
         "anchor": "x",
         "domain": [
          0.0,
          1.0
         ],
         "title": {
          "text": "Кумулятивная конверсия"
         }
        },
        "legend": {
         "tracegroupgap": 0
        },
        "title": {
         "text": "Относительное изменение кумулятивной конверсии группы B"
        },
        "shapes": [
         {
          "line": {
           "color": "salmon",
           "width": 3
          },
          "type": "line",
          "x0": "2019-08-01T00:00:00",
          "x1": "2019-08-31T00:00:00",
          "y0": 0,
          "y1": 0
         }
        ]
       },
       "config": {
        "plotlyServerURL": "https://plot.ly"
       }
      }
     },
     "metadata": {},
     "output_type": "display_data"
    }
   ],
   "source": [
    "fig = px.line(data_frame=merge_cum_conversion,\n",
    "              x='date',\n",
    "              y='cum_conversion_diff',\n",
    "              template='seaborn',\n",
    "              labels={'cum_conversion_diff':'Кумулятивная конверсия',\n",
    "                      'date':'Дата'},\n",
    "              title='Относительное изменение кумулятивной конверсии группы B')\n",
    "fig.add_shape(type='line',\n",
    "              line_color='salmon',\n",
    "              x0=merge_cum_revenue['date'].min(),\n",
    "              x1=merge_cum_revenue['date'].max(),\n",
    "              y0=0,\n",
    "              y1=0,\n",
    "              line_width=3)\n",
    "fig.show()"
   ]
  },
  {
   "cell_type": "markdown",
   "metadata": {
    "pycharm": {
     "name": "#%% md\n"
    }
   },
   "source": [
    "## Итоги анализа графика изменения кумулятивной конверсии группы B относительно конверсии группы А ##\n",
    "1. на протяжении августа 2019 конверсия группы B выше конверсии группы A\n",
    "2. исключение составляет период 03.08.2019 - 05.08.2019"
   ]
  },
  {
   "cell_type": "markdown",
   "metadata": {
    "pycharm": {
     "name": "#%% md\n"
    }
   },
   "source": [
    "<div class=\"alert alert-success\">\n",
    "<font size=\"4\">👍 <b>Комментарий ревьюера v.1</b></font>\n",
    "    \n",
    "Повторюсь, хорошая визуализация, а анализируем мы в данном случае кумулятивную конверсию."
   ]
  },
  {
   "cell_type": "markdown",
   "metadata": {
    "pycharm": {
     "name": "#%% md\n"
    }
   },
   "source": [
    "<div class=\"alert alert-info\">\n",
    "<font size=\"4\"><b>Комментарий студента</b></font>\n",
    "Исправил.\n",
    "Добавил.\n",
    "</div>"
   ]
  },
  {
   "cell_type": "markdown",
   "metadata": {},
   "source": [
    "<div class=\"alert alert-success\">\n",
    "<font size=\"4\">👍 <b>Комментарий ревьюера v.2</b></font>\n",
    "    \n",
    "Еще бы на графике поправить."
   ]
  },
  {
   "cell_type": "markdown",
   "metadata": {},
   "source": [
    "<div class=\"alert alert-info\">\n",
    "<font size=\"4\"><b>Комментарий студента v.2</b></font>\n",
    "Исправил.\n",
    "</div>"
   ]
  },
  {
   "cell_type": "markdown",
   "metadata": {
    "pycharm": {
     "name": "#%% md\n"
    }
   },
   "source": [
    "<a id='abtest_orders_by_users'></a>\n",
    "## Распределение количества заказов пользователей ##"
   ]
  },
  {
   "cell_type": "code",
   "execution_count": 26,
   "metadata": {
    "pycharm": {
     "name": "#%%\n"
    }
   },
   "outputs": [],
   "source": [
    "orders_by_users = orders.groupby(by=['visitor_id'], as_index=False)\\\n",
    "    .agg({'transaction_id':pd.Series.nunique})\n",
    "orders_by_users.columns = ['visitor_id', 'orders']"
   ]
  },
  {
   "cell_type": "code",
   "execution_count": 27,
   "metadata": {
    "pycharm": {
     "name": "#%%\n"
    }
   },
   "outputs": [
    {
     "data": {
      "application/vnd.plotly.v1+json": {
       "data": [
        {
         "hovertemplate": "Кол-во пользователей=%{x}<br>Кол-во заказов=%{y}<extra></extra>",
         "legendgroup": "",
         "marker": {
          "color": "rgb(76,114,176)",
          "symbol": "circle"
         },
         "mode": "markers",
         "name": "",
         "showlegend": false,
         "x": [
          0,
          1,
          2,
          3,
          4,
          5,
          6,
          7,
          8,
          9,
          10,
          11,
          12,
          13,
          14,
          15,
          16,
          17,
          18,
          19,
          20,
          21,
          22,
          23,
          24,
          25,
          26,
          27,
          28,
          29,
          30,
          31,
          32,
          33,
          34,
          35,
          36,
          37,
          38,
          39,
          40,
          41,
          42,
          43,
          44,
          45,
          46,
          47,
          48,
          49,
          50,
          51,
          52,
          53,
          54,
          55,
          56,
          57,
          58,
          59,
          60,
          61,
          62,
          63,
          64,
          65,
          66,
          67,
          68,
          69,
          70,
          71,
          72,
          73,
          74,
          75,
          76,
          77,
          78,
          79,
          80,
          81,
          82,
          83,
          84,
          85,
          86,
          87,
          88,
          89,
          90,
          91,
          92,
          93,
          94,
          95,
          96,
          97,
          98,
          99,
          100,
          101,
          102,
          103,
          104,
          105,
          106,
          107,
          108,
          109,
          110,
          111,
          112,
          113,
          114,
          115,
          116,
          117,
          118,
          119,
          120,
          121,
          122,
          123,
          124,
          125,
          126,
          127,
          128,
          129,
          130,
          131,
          132,
          133,
          134,
          135,
          136,
          137,
          138,
          139,
          140,
          141,
          142,
          143,
          144,
          145,
          146,
          147,
          148,
          149,
          150,
          151,
          152,
          153,
          154,
          155,
          156,
          157,
          158,
          159,
          160,
          161,
          162,
          163,
          164,
          165,
          166,
          167,
          168,
          169,
          170,
          171,
          172,
          173,
          174,
          175,
          176,
          177,
          178,
          179,
          180,
          181,
          182,
          183,
          184,
          185,
          186,
          187,
          188,
          189,
          190,
          191,
          192,
          193,
          194,
          195,
          196,
          197,
          198,
          199,
          200,
          201,
          202,
          203,
          204,
          205,
          206,
          207,
          208,
          209,
          210,
          211,
          212,
          213,
          214,
          215,
          216,
          217,
          218,
          219,
          220,
          221,
          222,
          223,
          224,
          225,
          226,
          227,
          228,
          229,
          230,
          231,
          232,
          233,
          234,
          235,
          236,
          237,
          238,
          239,
          240,
          241,
          242,
          243,
          244,
          245,
          246,
          247,
          248,
          249,
          250,
          251,
          252,
          253,
          254,
          255,
          256,
          257,
          258,
          259,
          260,
          261,
          262,
          263,
          264,
          265,
          266,
          267,
          268,
          269,
          270,
          271,
          272,
          273,
          274,
          275,
          276,
          277,
          278,
          279,
          280,
          281,
          282,
          283,
          284,
          285,
          286,
          287,
          288,
          289,
          290,
          291,
          292,
          293,
          294,
          295,
          296,
          297,
          298,
          299,
          300,
          301,
          302,
          303,
          304,
          305,
          306,
          307,
          308,
          309,
          310,
          311,
          312,
          313,
          314,
          315,
          316,
          317,
          318,
          319,
          320,
          321,
          322,
          323,
          324,
          325,
          326,
          327,
          328,
          329,
          330,
          331,
          332,
          333,
          334,
          335,
          336,
          337,
          338,
          339,
          340,
          341,
          342,
          343,
          344,
          345,
          346,
          347,
          348,
          349,
          350,
          351,
          352,
          353,
          354,
          355,
          356,
          357,
          358,
          359,
          360,
          361,
          362,
          363,
          364,
          365,
          366,
          367,
          368,
          369,
          370,
          371,
          372,
          373,
          374,
          375,
          376,
          377,
          378,
          379,
          380,
          381,
          382,
          383,
          384,
          385,
          386,
          387,
          388,
          389,
          390,
          391,
          392,
          393,
          394,
          395,
          396,
          397,
          398,
          399,
          400,
          401,
          402,
          403,
          404,
          405,
          406,
          407,
          408,
          409,
          410,
          411,
          412,
          413,
          414,
          415,
          416,
          417,
          418,
          419,
          420,
          421,
          422,
          423,
          424,
          425,
          426,
          427,
          428,
          429,
          430,
          431,
          432,
          433,
          434,
          435,
          436,
          437,
          438,
          439,
          440,
          441,
          442,
          443,
          444,
          445,
          446,
          447,
          448,
          449,
          450,
          451,
          452,
          453,
          454,
          455,
          456,
          457,
          458,
          459,
          460,
          461,
          462,
          463,
          464,
          465,
          466,
          467,
          468,
          469,
          470,
          471,
          472,
          473,
          474,
          475,
          476,
          477,
          478,
          479,
          480,
          481,
          482,
          483,
          484,
          485,
          486,
          487,
          488,
          489,
          490,
          491,
          492,
          493,
          494,
          495,
          496,
          497,
          498,
          499,
          500,
          501,
          502,
          503,
          504,
          505,
          506,
          507,
          508,
          509,
          510,
          511,
          512,
          513,
          514,
          515,
          516,
          517,
          518,
          519,
          520,
          521,
          522,
          523,
          524,
          525,
          526,
          527,
          528,
          529,
          530,
          531,
          532,
          533,
          534,
          535,
          536,
          537,
          538,
          539,
          540,
          541,
          542,
          543,
          544,
          545,
          546,
          547,
          548,
          549,
          550,
          551,
          552,
          553,
          554,
          555,
          556,
          557,
          558,
          559,
          560,
          561,
          562,
          563,
          564,
          565,
          566,
          567,
          568,
          569,
          570,
          571,
          572,
          573,
          574,
          575,
          576,
          577,
          578,
          579,
          580,
          581,
          582,
          583,
          584,
          585,
          586,
          587,
          588,
          589,
          590,
          591,
          592,
          593,
          594,
          595,
          596,
          597,
          598,
          599,
          600,
          601,
          602,
          603,
          604,
          605,
          606,
          607,
          608,
          609,
          610,
          611,
          612,
          613,
          614,
          615,
          616,
          617,
          618,
          619,
          620,
          621,
          622,
          623,
          624,
          625,
          626,
          627,
          628,
          629,
          630,
          631,
          632,
          633,
          634,
          635,
          636,
          637,
          638,
          639,
          640,
          641,
          642,
          643,
          644,
          645,
          646,
          647,
          648,
          649,
          650,
          651,
          652,
          653,
          654,
          655,
          656,
          657,
          658,
          659,
          660,
          661,
          662,
          663,
          664,
          665,
          666,
          667,
          668,
          669,
          670,
          671,
          672,
          673,
          674,
          675,
          676,
          677,
          678,
          679,
          680,
          681,
          682,
          683,
          684,
          685,
          686,
          687,
          688,
          689,
          690,
          691,
          692,
          693,
          694,
          695,
          696,
          697,
          698,
          699,
          700,
          701,
          702,
          703,
          704,
          705,
          706,
          707,
          708,
          709,
          710,
          711,
          712,
          713,
          714,
          715,
          716,
          717,
          718,
          719,
          720,
          721,
          722,
          723,
          724,
          725,
          726,
          727,
          728,
          729,
          730,
          731,
          732,
          733,
          734,
          735,
          736,
          737,
          738,
          739,
          740,
          741,
          742,
          743,
          744,
          745,
          746,
          747,
          748,
          749,
          750,
          751,
          752,
          753,
          754,
          755,
          756,
          757,
          758,
          759,
          760,
          761,
          762,
          763,
          764,
          765,
          766,
          767,
          768,
          769,
          770,
          771,
          772,
          773,
          774,
          775,
          776,
          777,
          778,
          779,
          780,
          781,
          782,
          783,
          784,
          785,
          786,
          787,
          788,
          789,
          790,
          791,
          792,
          793,
          794,
          795,
          796,
          797,
          798,
          799,
          800,
          801,
          802,
          803,
          804,
          805,
          806,
          807,
          808,
          809,
          810,
          811,
          812,
          813,
          814,
          815,
          816,
          817,
          818,
          819,
          820,
          821,
          822,
          823,
          824,
          825,
          826,
          827,
          828,
          829,
          830,
          831,
          832,
          833,
          834,
          835,
          836,
          837,
          838,
          839,
          840,
          841,
          842,
          843,
          844,
          845,
          846,
          847,
          848,
          849,
          850,
          851,
          852,
          853,
          854,
          855,
          856,
          857,
          858,
          859,
          860,
          861,
          862,
          863,
          864,
          865,
          866,
          867,
          868,
          869,
          870,
          871,
          872,
          873,
          874,
          875,
          876,
          877,
          878,
          879,
          880,
          881,
          882,
          883,
          884,
          885,
          886,
          887,
          888,
          889,
          890,
          891,
          892,
          893,
          894,
          895,
          896,
          897,
          898,
          899,
          900,
          901,
          902,
          903,
          904,
          905,
          906,
          907,
          908,
          909,
          910,
          911,
          912,
          913,
          914,
          915,
          916,
          917,
          918,
          919,
          920,
          921,
          922,
          923,
          924,
          925,
          926,
          927,
          928,
          929,
          930,
          931,
          932,
          933,
          934,
          935,
          936,
          937,
          938,
          939,
          940,
          941,
          942,
          943,
          944,
          945,
          946,
          947,
          948,
          949,
          950,
          951,
          952,
          953,
          954,
          955,
          956,
          957,
          958,
          959,
          960,
          961,
          962,
          963,
          964,
          965,
          966,
          967,
          968,
          969,
          970,
          971,
          972,
          973,
          974,
          975,
          976,
          977,
          978,
          979,
          980,
          981,
          982,
          983,
          984,
          985,
          986,
          987,
          988,
          989,
          990,
          991,
          992,
          993,
          994,
          995,
          996,
          997,
          998,
          999,
          1000,
          1001,
          1002,
          1003,
          1004,
          1005,
          1006,
          1007,
          1008,
          1009,
          1010,
          1011,
          1012,
          1013,
          1014,
          1015,
          1016,
          1017,
          1018,
          1019,
          1020,
          1021,
          1022,
          1023,
          1024,
          1025,
          1026,
          1027,
          1028,
          1029,
          1030
         ],
         "xaxis": "x",
         "y": [
          1,
          1,
          2,
          1,
          1,
          1,
          1,
          1,
          1,
          1,
          1,
          1,
          1,
          1,
          1,
          1,
          1,
          1,
          1,
          1,
          1,
          1,
          1,
          1,
          1,
          1,
          1,
          1,
          1,
          1,
          1,
          1,
          1,
          1,
          1,
          1,
          1,
          1,
          1,
          1,
          1,
          1,
          1,
          1,
          5,
          1,
          1,
          1,
          1,
          1,
          1,
          2,
          1,
          1,
          1,
          5,
          1,
          1,
          1,
          3,
          1,
          1,
          1,
          1,
          1,
          1,
          2,
          1,
          1,
          1,
          1,
          1,
          1,
          1,
          1,
          1,
          1,
          1,
          1,
          1,
          1,
          1,
          1,
          1,
          2,
          1,
          1,
          1,
          2,
          1,
          1,
          1,
          1,
          1,
          1,
          1,
          1,
          3,
          1,
          1,
          1,
          2,
          1,
          1,
          1,
          1,
          1,
          1,
          1,
          1,
          1,
          1,
          1,
          1,
          4,
          1,
          1,
          1,
          1,
          2,
          1,
          1,
          2,
          1,
          1,
          1,
          1,
          1,
          2,
          1,
          1,
          1,
          1,
          1,
          1,
          1,
          1,
          1,
          1,
          1,
          1,
          1,
          1,
          1,
          1,
          1,
          1,
          1,
          3,
          1,
          1,
          1,
          1,
          1,
          1,
          1,
          1,
          1,
          1,
          1,
          1,
          1,
          1,
          1,
          1,
          1,
          1,
          2,
          1,
          1,
          1,
          1,
          1,
          1,
          1,
          1,
          1,
          1,
          1,
          1,
          1,
          1,
          1,
          1,
          1,
          1,
          2,
          1,
          1,
          1,
          1,
          1,
          2,
          1,
          1,
          1,
          1,
          1,
          1,
          1,
          1,
          1,
          1,
          1,
          1,
          1,
          1,
          1,
          1,
          1,
          1,
          1,
          1,
          1,
          1,
          1,
          1,
          1,
          1,
          1,
          1,
          1,
          1,
          1,
          1,
          1,
          1,
          1,
          1,
          1,
          1,
          1,
          1,
          1,
          1,
          1,
          2,
          1,
          1,
          1,
          1,
          1,
          1,
          1,
          1,
          1,
          1,
          1,
          1,
          1,
          1,
          1,
          1,
          1,
          1,
          1,
          1,
          1,
          1,
          1,
          1,
          1,
          1,
          1,
          1,
          1,
          1,
          1,
          1,
          1,
          1,
          1,
          1,
          1,
          1,
          1,
          1,
          1,
          1,
          1,
          1,
          1,
          1,
          1,
          1,
          1,
          1,
          1,
          1,
          1,
          1,
          1,
          1,
          1,
          1,
          1,
          1,
          1,
          1,
          5,
          1,
          1,
          1,
          1,
          1,
          1,
          1,
          1,
          1,
          1,
          1,
          3,
          1,
          1,
          1,
          1,
          2,
          1,
          2,
          1,
          1,
          1,
          1,
          1,
          1,
          1,
          1,
          1,
          1,
          1,
          1,
          1,
          1,
          1,
          1,
          1,
          1,
          1,
          1,
          2,
          3,
          1,
          1,
          1,
          1,
          1,
          1,
          1,
          1,
          1,
          1,
          1,
          1,
          1,
          1,
          1,
          1,
          1,
          1,
          1,
          1,
          1,
          1,
          1,
          1,
          1,
          1,
          1,
          1,
          1,
          1,
          1,
          1,
          1,
          1,
          1,
          1,
          1,
          1,
          1,
          1,
          1,
          1,
          1,
          1,
          1,
          2,
          1,
          1,
          1,
          1,
          1,
          1,
          4,
          2,
          1,
          1,
          1,
          1,
          2,
          1,
          1,
          2,
          1,
          1,
          1,
          3,
          1,
          1,
          1,
          1,
          1,
          1,
          1,
          1,
          1,
          1,
          1,
          1,
          1,
          1,
          1,
          3,
          1,
          1,
          1,
          1,
          1,
          1,
          2,
          1,
          1,
          1,
          1,
          1,
          1,
          2,
          1,
          1,
          1,
          1,
          1,
          1,
          1,
          1,
          1,
          1,
          1,
          1,
          1,
          1,
          1,
          1,
          1,
          1,
          1,
          1,
          1,
          1,
          1,
          1,
          1,
          1,
          1,
          1,
          1,
          1,
          1,
          1,
          2,
          1,
          1,
          1,
          1,
          1,
          1,
          2,
          1,
          1,
          1,
          1,
          1,
          1,
          2,
          1,
          1,
          1,
          8,
          1,
          1,
          1,
          3,
          1,
          1,
          1,
          1,
          1,
          1,
          1,
          1,
          1,
          1,
          2,
          1,
          3,
          1,
          1,
          1,
          1,
          1,
          1,
          1,
          1,
          1,
          1,
          1,
          1,
          1,
          1,
          1,
          1,
          1,
          1,
          1,
          1,
          1,
          1,
          1,
          1,
          1,
          1,
          1,
          1,
          1,
          1,
          2,
          1,
          1,
          1,
          1,
          1,
          1,
          1,
          1,
          1,
          1,
          1,
          1,
          1,
          1,
          1,
          1,
          1,
          1,
          1,
          2,
          1,
          1,
          1,
          1,
          1,
          1,
          1,
          1,
          1,
          2,
          1,
          1,
          1,
          9,
          1,
          1,
          1,
          1,
          1,
          2,
          1,
          1,
          1,
          1,
          1,
          1,
          1,
          1,
          1,
          1,
          1,
          1,
          1,
          1,
          1,
          11,
          1,
          1,
          1,
          1,
          1,
          1,
          1,
          1,
          1,
          1,
          1,
          1,
          1,
          1,
          1,
          1,
          1,
          1,
          1,
          1,
          1,
          1,
          2,
          1,
          1,
          1,
          1,
          4,
          1,
          1,
          2,
          1,
          1,
          1,
          1,
          1,
          1,
          1,
          1,
          1,
          1,
          1,
          1,
          1,
          1,
          1,
          1,
          2,
          1,
          1,
          1,
          1,
          1,
          1,
          1,
          1,
          2,
          1,
          1,
          1,
          1,
          1,
          1,
          1,
          1,
          2,
          1,
          1,
          1,
          2,
          2,
          2,
          1,
          1,
          1,
          3,
          1,
          2,
          1,
          1,
          1,
          1,
          1,
          1,
          1,
          3,
          1,
          1,
          1,
          1,
          1,
          1,
          1,
          1,
          1,
          1,
          1,
          1,
          1,
          1,
          1,
          1,
          1,
          1,
          1,
          1,
          1,
          1,
          2,
          1,
          1,
          1,
          1,
          1,
          1,
          1,
          1,
          1,
          2,
          1,
          1,
          1,
          1,
          2,
          1,
          1,
          2,
          1,
          1,
          1,
          1,
          1,
          1,
          1,
          3,
          1,
          1,
          1,
          1,
          1,
          1,
          1,
          1,
          1,
          1,
          1,
          1,
          1,
          1,
          1,
          1,
          1,
          5,
          1,
          1,
          1,
          1,
          2,
          1,
          1,
          1,
          1,
          1,
          1,
          1,
          1,
          1,
          1,
          1,
          1,
          1,
          1,
          1,
          1,
          1,
          1,
          1,
          1,
          1,
          1,
          1,
          1,
          1,
          1,
          1,
          1,
          1,
          1,
          1,
          1,
          1,
          1,
          2,
          1,
          1,
          1,
          1,
          1,
          1,
          1,
          2,
          1,
          1,
          1,
          1,
          1,
          1,
          1,
          1,
          1,
          1,
          1,
          1,
          1,
          1,
          1,
          1,
          1,
          1,
          1,
          1,
          1,
          1,
          1,
          1,
          1,
          1,
          1,
          1,
          1,
          2,
          1,
          1,
          1,
          1,
          1,
          1,
          2,
          1,
          1,
          1,
          1,
          2,
          1,
          1,
          1,
          1,
          1,
          1,
          1,
          1,
          1,
          1,
          1,
          1,
          1,
          1,
          2,
          1,
          1,
          1,
          1,
          1,
          1,
          1,
          1,
          1,
          1,
          1,
          1,
          1,
          1,
          1,
          1,
          1,
          1,
          1,
          1,
          1,
          1,
          1,
          1,
          1,
          1,
          1,
          1,
          1,
          1,
          1,
          1,
          1,
          1,
          2,
          1,
          1,
          1,
          1,
          1,
          1,
          1,
          1,
          1,
          1,
          1,
          1,
          5,
          1,
          1,
          1,
          1,
          1,
          1,
          1,
          1,
          1,
          1,
          1,
          2,
          1,
          1,
          1,
          1,
          1,
          1,
          1,
          5,
          1,
          1,
          1,
          1,
          1,
          1,
          1,
          1,
          1,
          1,
          1,
          1,
          1,
          1,
          3,
          1,
          1,
          1,
          1,
          3,
          1,
          1,
          1,
          1,
          1,
          1,
          2,
          1,
          1,
          1,
          2,
          1,
          2,
          1,
          1,
          1,
          2,
          1,
          1,
          2,
          2,
          3,
          2,
          1,
          1,
          3,
          1,
          1,
          1,
          1,
          1,
          1,
          1,
          1,
          1,
          1,
          1,
          1,
          1,
          1,
          1,
          1,
          1,
          1,
          1,
          1,
          2,
          1,
          1,
          1,
          1,
          1,
          1,
          2,
          2,
          1,
          1,
          2,
          1,
          1,
          1,
          1,
          1,
          1,
          1,
          1,
          1,
          1,
          1,
          1,
          1,
          3,
          1,
          1,
          1,
          1,
          1,
          1,
          1,
          1,
          1,
          1,
          1,
          1,
          1,
          11,
          1,
          1,
          2,
          1,
          1,
          1,
          1
         ],
         "yaxis": "y",
         "type": "scattergl"
        }
       ],
       "layout": {
        "template": {
         "data": {
          "barpolar": [
           {
            "marker": {
             "line": {
              "color": "rgb(234,234,242)",
              "width": 0.5
             },
             "pattern": {
              "fillmode": "overlay",
              "size": 10,
              "solidity": 0.2
             }
            },
            "type": "barpolar"
           }
          ],
          "bar": [
           {
            "error_x": {
             "color": "rgb(36,36,36)"
            },
            "error_y": {
             "color": "rgb(36,36,36)"
            },
            "marker": {
             "line": {
              "color": "rgb(234,234,242)",
              "width": 0.5
             },
             "pattern": {
              "fillmode": "overlay",
              "size": 10,
              "solidity": 0.2
             }
            },
            "type": "bar"
           }
          ],
          "carpet": [
           {
            "aaxis": {
             "endlinecolor": "rgb(36,36,36)",
             "gridcolor": "white",
             "linecolor": "white",
             "minorgridcolor": "white",
             "startlinecolor": "rgb(36,36,36)"
            },
            "baxis": {
             "endlinecolor": "rgb(36,36,36)",
             "gridcolor": "white",
             "linecolor": "white",
             "minorgridcolor": "white",
             "startlinecolor": "rgb(36,36,36)"
            },
            "type": "carpet"
           }
          ],
          "choropleth": [
           {
            "colorbar": {
             "outlinewidth": 0,
             "tickcolor": "rgb(36,36,36)",
             "ticklen": 8,
             "ticks": "outside",
             "tickwidth": 2
            },
            "type": "choropleth"
           }
          ],
          "contourcarpet": [
           {
            "colorbar": {
             "outlinewidth": 0,
             "tickcolor": "rgb(36,36,36)",
             "ticklen": 8,
             "ticks": "outside",
             "tickwidth": 2
            },
            "type": "contourcarpet"
           }
          ],
          "contour": [
           {
            "colorbar": {
             "outlinewidth": 0,
             "tickcolor": "rgb(36,36,36)",
             "ticklen": 8,
             "ticks": "outside",
             "tickwidth": 2
            },
            "colorscale": [
             [
              0.0,
              "rgb(2,4,25)"
             ],
             [
              0.06274509803921569,
              "rgb(24,15,41)"
             ],
             [
              0.12549019607843137,
              "rgb(47,23,57)"
             ],
             [
              0.18823529411764706,
              "rgb(71,28,72)"
             ],
             [
              0.25098039215686274,
              "rgb(97,30,82)"
             ],
             [
              0.3137254901960784,
              "rgb(123,30,89)"
             ],
             [
              0.3764705882352941,
              "rgb(150,27,91)"
             ],
             [
              0.4392156862745098,
              "rgb(177,22,88)"
             ],
             [
              0.5019607843137255,
              "rgb(203,26,79)"
             ],
             [
              0.5647058823529412,
              "rgb(223,47,67)"
             ],
             [
              0.6274509803921569,
              "rgb(236,76,61)"
             ],
             [
              0.6901960784313725,
              "rgb(242,107,73)"
             ],
             [
              0.7529411764705882,
              "rgb(244,135,95)"
             ],
             [
              0.8156862745098039,
              "rgb(245,162,122)"
             ],
             [
              0.8784313725490196,
              "rgb(246,188,153)"
             ],
             [
              0.9411764705882353,
              "rgb(247,212,187)"
             ],
             [
              1.0,
              "rgb(250,234,220)"
             ]
            ],
            "type": "contour"
           }
          ],
          "heatmapgl": [
           {
            "colorbar": {
             "outlinewidth": 0,
             "tickcolor": "rgb(36,36,36)",
             "ticklen": 8,
             "ticks": "outside",
             "tickwidth": 2
            },
            "colorscale": [
             [
              0.0,
              "rgb(2,4,25)"
             ],
             [
              0.06274509803921569,
              "rgb(24,15,41)"
             ],
             [
              0.12549019607843137,
              "rgb(47,23,57)"
             ],
             [
              0.18823529411764706,
              "rgb(71,28,72)"
             ],
             [
              0.25098039215686274,
              "rgb(97,30,82)"
             ],
             [
              0.3137254901960784,
              "rgb(123,30,89)"
             ],
             [
              0.3764705882352941,
              "rgb(150,27,91)"
             ],
             [
              0.4392156862745098,
              "rgb(177,22,88)"
             ],
             [
              0.5019607843137255,
              "rgb(203,26,79)"
             ],
             [
              0.5647058823529412,
              "rgb(223,47,67)"
             ],
             [
              0.6274509803921569,
              "rgb(236,76,61)"
             ],
             [
              0.6901960784313725,
              "rgb(242,107,73)"
             ],
             [
              0.7529411764705882,
              "rgb(244,135,95)"
             ],
             [
              0.8156862745098039,
              "rgb(245,162,122)"
             ],
             [
              0.8784313725490196,
              "rgb(246,188,153)"
             ],
             [
              0.9411764705882353,
              "rgb(247,212,187)"
             ],
             [
              1.0,
              "rgb(250,234,220)"
             ]
            ],
            "type": "heatmapgl"
           }
          ],
          "heatmap": [
           {
            "colorbar": {
             "outlinewidth": 0,
             "tickcolor": "rgb(36,36,36)",
             "ticklen": 8,
             "ticks": "outside",
             "tickwidth": 2
            },
            "colorscale": [
             [
              0.0,
              "rgb(2,4,25)"
             ],
             [
              0.06274509803921569,
              "rgb(24,15,41)"
             ],
             [
              0.12549019607843137,
              "rgb(47,23,57)"
             ],
             [
              0.18823529411764706,
              "rgb(71,28,72)"
             ],
             [
              0.25098039215686274,
              "rgb(97,30,82)"
             ],
             [
              0.3137254901960784,
              "rgb(123,30,89)"
             ],
             [
              0.3764705882352941,
              "rgb(150,27,91)"
             ],
             [
              0.4392156862745098,
              "rgb(177,22,88)"
             ],
             [
              0.5019607843137255,
              "rgb(203,26,79)"
             ],
             [
              0.5647058823529412,
              "rgb(223,47,67)"
             ],
             [
              0.6274509803921569,
              "rgb(236,76,61)"
             ],
             [
              0.6901960784313725,
              "rgb(242,107,73)"
             ],
             [
              0.7529411764705882,
              "rgb(244,135,95)"
             ],
             [
              0.8156862745098039,
              "rgb(245,162,122)"
             ],
             [
              0.8784313725490196,
              "rgb(246,188,153)"
             ],
             [
              0.9411764705882353,
              "rgb(247,212,187)"
             ],
             [
              1.0,
              "rgb(250,234,220)"
             ]
            ],
            "type": "heatmap"
           }
          ],
          "histogram2dcontour": [
           {
            "colorbar": {
             "outlinewidth": 0,
             "tickcolor": "rgb(36,36,36)",
             "ticklen": 8,
             "ticks": "outside",
             "tickwidth": 2
            },
            "colorscale": [
             [
              0.0,
              "rgb(2,4,25)"
             ],
             [
              0.06274509803921569,
              "rgb(24,15,41)"
             ],
             [
              0.12549019607843137,
              "rgb(47,23,57)"
             ],
             [
              0.18823529411764706,
              "rgb(71,28,72)"
             ],
             [
              0.25098039215686274,
              "rgb(97,30,82)"
             ],
             [
              0.3137254901960784,
              "rgb(123,30,89)"
             ],
             [
              0.3764705882352941,
              "rgb(150,27,91)"
             ],
             [
              0.4392156862745098,
              "rgb(177,22,88)"
             ],
             [
              0.5019607843137255,
              "rgb(203,26,79)"
             ],
             [
              0.5647058823529412,
              "rgb(223,47,67)"
             ],
             [
              0.6274509803921569,
              "rgb(236,76,61)"
             ],
             [
              0.6901960784313725,
              "rgb(242,107,73)"
             ],
             [
              0.7529411764705882,
              "rgb(244,135,95)"
             ],
             [
              0.8156862745098039,
              "rgb(245,162,122)"
             ],
             [
              0.8784313725490196,
              "rgb(246,188,153)"
             ],
             [
              0.9411764705882353,
              "rgb(247,212,187)"
             ],
             [
              1.0,
              "rgb(250,234,220)"
             ]
            ],
            "type": "histogram2dcontour"
           }
          ],
          "histogram2d": [
           {
            "colorbar": {
             "outlinewidth": 0,
             "tickcolor": "rgb(36,36,36)",
             "ticklen": 8,
             "ticks": "outside",
             "tickwidth": 2
            },
            "colorscale": [
             [
              0.0,
              "rgb(2,4,25)"
             ],
             [
              0.06274509803921569,
              "rgb(24,15,41)"
             ],
             [
              0.12549019607843137,
              "rgb(47,23,57)"
             ],
             [
              0.18823529411764706,
              "rgb(71,28,72)"
             ],
             [
              0.25098039215686274,
              "rgb(97,30,82)"
             ],
             [
              0.3137254901960784,
              "rgb(123,30,89)"
             ],
             [
              0.3764705882352941,
              "rgb(150,27,91)"
             ],
             [
              0.4392156862745098,
              "rgb(177,22,88)"
             ],
             [
              0.5019607843137255,
              "rgb(203,26,79)"
             ],
             [
              0.5647058823529412,
              "rgb(223,47,67)"
             ],
             [
              0.6274509803921569,
              "rgb(236,76,61)"
             ],
             [
              0.6901960784313725,
              "rgb(242,107,73)"
             ],
             [
              0.7529411764705882,
              "rgb(244,135,95)"
             ],
             [
              0.8156862745098039,
              "rgb(245,162,122)"
             ],
             [
              0.8784313725490196,
              "rgb(246,188,153)"
             ],
             [
              0.9411764705882353,
              "rgb(247,212,187)"
             ],
             [
              1.0,
              "rgb(250,234,220)"
             ]
            ],
            "type": "histogram2d"
           }
          ],
          "histogram": [
           {
            "marker": {
             "pattern": {
              "fillmode": "overlay",
              "size": 10,
              "solidity": 0.2
             }
            },
            "type": "histogram"
           }
          ],
          "mesh3d": [
           {
            "colorbar": {
             "outlinewidth": 0,
             "tickcolor": "rgb(36,36,36)",
             "ticklen": 8,
             "ticks": "outside",
             "tickwidth": 2
            },
            "type": "mesh3d"
           }
          ],
          "parcoords": [
           {
            "line": {
             "colorbar": {
              "outlinewidth": 0,
              "tickcolor": "rgb(36,36,36)",
              "ticklen": 8,
              "ticks": "outside",
              "tickwidth": 2
             }
            },
            "type": "parcoords"
           }
          ],
          "pie": [
           {
            "automargin": true,
            "type": "pie"
           }
          ],
          "scatter3d": [
           {
            "line": {
             "colorbar": {
              "outlinewidth": 0,
              "tickcolor": "rgb(36,36,36)",
              "ticklen": 8,
              "ticks": "outside",
              "tickwidth": 2
             }
            },
            "marker": {
             "colorbar": {
              "outlinewidth": 0,
              "tickcolor": "rgb(36,36,36)",
              "ticklen": 8,
              "ticks": "outside",
              "tickwidth": 2
             }
            },
            "type": "scatter3d"
           }
          ],
          "scattercarpet": [
           {
            "marker": {
             "colorbar": {
              "outlinewidth": 0,
              "tickcolor": "rgb(36,36,36)",
              "ticklen": 8,
              "ticks": "outside",
              "tickwidth": 2
             }
            },
            "type": "scattercarpet"
           }
          ],
          "scattergeo": [
           {
            "marker": {
             "colorbar": {
              "outlinewidth": 0,
              "tickcolor": "rgb(36,36,36)",
              "ticklen": 8,
              "ticks": "outside",
              "tickwidth": 2
             }
            },
            "type": "scattergeo"
           }
          ],
          "scattergl": [
           {
            "marker": {
             "colorbar": {
              "outlinewidth": 0,
              "tickcolor": "rgb(36,36,36)",
              "ticklen": 8,
              "ticks": "outside",
              "tickwidth": 2
             }
            },
            "type": "scattergl"
           }
          ],
          "scattermapbox": [
           {
            "marker": {
             "colorbar": {
              "outlinewidth": 0,
              "tickcolor": "rgb(36,36,36)",
              "ticklen": 8,
              "ticks": "outside",
              "tickwidth": 2
             }
            },
            "type": "scattermapbox"
           }
          ],
          "scatterpolargl": [
           {
            "marker": {
             "colorbar": {
              "outlinewidth": 0,
              "tickcolor": "rgb(36,36,36)",
              "ticklen": 8,
              "ticks": "outside",
              "tickwidth": 2
             }
            },
            "type": "scatterpolargl"
           }
          ],
          "scatterpolar": [
           {
            "marker": {
             "colorbar": {
              "outlinewidth": 0,
              "tickcolor": "rgb(36,36,36)",
              "ticklen": 8,
              "ticks": "outside",
              "tickwidth": 2
             }
            },
            "type": "scatterpolar"
           }
          ],
          "scatter": [
           {
            "marker": {
             "colorbar": {
              "outlinewidth": 0,
              "tickcolor": "rgb(36,36,36)",
              "ticklen": 8,
              "ticks": "outside",
              "tickwidth": 2
             }
            },
            "type": "scatter"
           }
          ],
          "scatterternary": [
           {
            "marker": {
             "colorbar": {
              "outlinewidth": 0,
              "tickcolor": "rgb(36,36,36)",
              "ticklen": 8,
              "ticks": "outside",
              "tickwidth": 2
             }
            },
            "type": "scatterternary"
           }
          ],
          "surface": [
           {
            "colorbar": {
             "outlinewidth": 0,
             "tickcolor": "rgb(36,36,36)",
             "ticklen": 8,
             "ticks": "outside",
             "tickwidth": 2
            },
            "colorscale": [
             [
              0.0,
              "rgb(2,4,25)"
             ],
             [
              0.06274509803921569,
              "rgb(24,15,41)"
             ],
             [
              0.12549019607843137,
              "rgb(47,23,57)"
             ],
             [
              0.18823529411764706,
              "rgb(71,28,72)"
             ],
             [
              0.25098039215686274,
              "rgb(97,30,82)"
             ],
             [
              0.3137254901960784,
              "rgb(123,30,89)"
             ],
             [
              0.3764705882352941,
              "rgb(150,27,91)"
             ],
             [
              0.4392156862745098,
              "rgb(177,22,88)"
             ],
             [
              0.5019607843137255,
              "rgb(203,26,79)"
             ],
             [
              0.5647058823529412,
              "rgb(223,47,67)"
             ],
             [
              0.6274509803921569,
              "rgb(236,76,61)"
             ],
             [
              0.6901960784313725,
              "rgb(242,107,73)"
             ],
             [
              0.7529411764705882,
              "rgb(244,135,95)"
             ],
             [
              0.8156862745098039,
              "rgb(245,162,122)"
             ],
             [
              0.8784313725490196,
              "rgb(246,188,153)"
             ],
             [
              0.9411764705882353,
              "rgb(247,212,187)"
             ],
             [
              1.0,
              "rgb(250,234,220)"
             ]
            ],
            "type": "surface"
           }
          ],
          "table": [
           {
            "cells": {
             "fill": {
              "color": "rgb(231,231,240)"
             },
             "line": {
              "color": "white"
             }
            },
            "header": {
             "fill": {
              "color": "rgb(183,183,191)"
             },
             "line": {
              "color": "white"
             }
            },
            "type": "table"
           }
          ]
         },
         "layout": {
          "annotationdefaults": {
           "arrowcolor": "rgb(67,103,167)"
          },
          "autotypenumbers": "strict",
          "coloraxis": {
           "colorbar": {
            "outlinewidth": 0,
            "tickcolor": "rgb(36,36,36)",
            "ticklen": 8,
            "ticks": "outside",
            "tickwidth": 2
           }
          },
          "colorscale": {
           "sequential": [
            [
             0.0,
             "rgb(2,4,25)"
            ],
            [
             0.06274509803921569,
             "rgb(24,15,41)"
            ],
            [
             0.12549019607843137,
             "rgb(47,23,57)"
            ],
            [
             0.18823529411764706,
             "rgb(71,28,72)"
            ],
            [
             0.25098039215686274,
             "rgb(97,30,82)"
            ],
            [
             0.3137254901960784,
             "rgb(123,30,89)"
            ],
            [
             0.3764705882352941,
             "rgb(150,27,91)"
            ],
            [
             0.4392156862745098,
             "rgb(177,22,88)"
            ],
            [
             0.5019607843137255,
             "rgb(203,26,79)"
            ],
            [
             0.5647058823529412,
             "rgb(223,47,67)"
            ],
            [
             0.6274509803921569,
             "rgb(236,76,61)"
            ],
            [
             0.6901960784313725,
             "rgb(242,107,73)"
            ],
            [
             0.7529411764705882,
             "rgb(244,135,95)"
            ],
            [
             0.8156862745098039,
             "rgb(245,162,122)"
            ],
            [
             0.8784313725490196,
             "rgb(246,188,153)"
            ],
            [
             0.9411764705882353,
             "rgb(247,212,187)"
            ],
            [
             1.0,
             "rgb(250,234,220)"
            ]
           ],
           "sequentialminus": [
            [
             0.0,
             "rgb(2,4,25)"
            ],
            [
             0.06274509803921569,
             "rgb(24,15,41)"
            ],
            [
             0.12549019607843137,
             "rgb(47,23,57)"
            ],
            [
             0.18823529411764706,
             "rgb(71,28,72)"
            ],
            [
             0.25098039215686274,
             "rgb(97,30,82)"
            ],
            [
             0.3137254901960784,
             "rgb(123,30,89)"
            ],
            [
             0.3764705882352941,
             "rgb(150,27,91)"
            ],
            [
             0.4392156862745098,
             "rgb(177,22,88)"
            ],
            [
             0.5019607843137255,
             "rgb(203,26,79)"
            ],
            [
             0.5647058823529412,
             "rgb(223,47,67)"
            ],
            [
             0.6274509803921569,
             "rgb(236,76,61)"
            ],
            [
             0.6901960784313725,
             "rgb(242,107,73)"
            ],
            [
             0.7529411764705882,
             "rgb(244,135,95)"
            ],
            [
             0.8156862745098039,
             "rgb(245,162,122)"
            ],
            [
             0.8784313725490196,
             "rgb(246,188,153)"
            ],
            [
             0.9411764705882353,
             "rgb(247,212,187)"
            ],
            [
             1.0,
             "rgb(250,234,220)"
            ]
           ]
          },
          "colorway": [
           "rgb(76,114,176)",
           "rgb(221,132,82)",
           "rgb(85,168,104)",
           "rgb(196,78,82)",
           "rgb(129,114,179)",
           "rgb(147,120,96)",
           "rgb(218,139,195)",
           "rgb(140,140,140)",
           "rgb(204,185,116)",
           "rgb(100,181,205)"
          ],
          "font": {
           "color": "rgb(36,36,36)"
          },
          "geo": {
           "bgcolor": "white",
           "lakecolor": "white",
           "landcolor": "rgb(234,234,242)",
           "showlakes": true,
           "showland": true,
           "subunitcolor": "white"
          },
          "hoverlabel": {
           "align": "left"
          },
          "hovermode": "closest",
          "paper_bgcolor": "white",
          "plot_bgcolor": "rgb(234,234,242)",
          "polar": {
           "angularaxis": {
            "gridcolor": "white",
            "linecolor": "white",
            "showgrid": true,
            "ticks": ""
           },
           "bgcolor": "rgb(234,234,242)",
           "radialaxis": {
            "gridcolor": "white",
            "linecolor": "white",
            "showgrid": true,
            "ticks": ""
           }
          },
          "scene": {
           "xaxis": {
            "backgroundcolor": "rgb(234,234,242)",
            "gridcolor": "white",
            "gridwidth": 2,
            "linecolor": "white",
            "showbackground": true,
            "showgrid": true,
            "ticks": "",
            "zerolinecolor": "white"
           },
           "yaxis": {
            "backgroundcolor": "rgb(234,234,242)",
            "gridcolor": "white",
            "gridwidth": 2,
            "linecolor": "white",
            "showbackground": true,
            "showgrid": true,
            "ticks": "",
            "zerolinecolor": "white"
           },
           "zaxis": {
            "backgroundcolor": "rgb(234,234,242)",
            "gridcolor": "white",
            "gridwidth": 2,
            "linecolor": "white",
            "showbackground": true,
            "showgrid": true,
            "ticks": "",
            "zerolinecolor": "white"
           }
          },
          "shapedefaults": {
           "fillcolor": "rgb(67,103,167)",
           "line": {
            "width": 0
           },
           "opacity": 0.5
          },
          "ternary": {
           "aaxis": {
            "gridcolor": "white",
            "linecolor": "white",
            "showgrid": true,
            "ticks": ""
           },
           "baxis": {
            "gridcolor": "white",
            "linecolor": "white",
            "showgrid": true,
            "ticks": ""
           },
           "bgcolor": "rgb(234,234,242)",
           "caxis": {
            "gridcolor": "white",
            "linecolor": "white",
            "showgrid": true,
            "ticks": ""
           }
          },
          "xaxis": {
           "automargin": true,
           "gridcolor": "white",
           "linecolor": "white",
           "showgrid": true,
           "ticks": "",
           "title": {
            "standoff": 15
           },
           "zerolinecolor": "white"
          },
          "yaxis": {
           "automargin": true,
           "gridcolor": "white",
           "linecolor": "white",
           "showgrid": true,
           "ticks": "",
           "title": {
            "standoff": 15
           },
           "zerolinecolor": "white"
          }
         }
        },
        "xaxis": {
         "anchor": "y",
         "domain": [
          0.0,
          1.0
         ],
         "title": {
          "text": "Кол-во пользователей"
         }
        },
        "yaxis": {
         "anchor": "x",
         "domain": [
          0.0,
          1.0
         ],
         "title": {
          "text": "Кол-во заказов"
         }
        },
        "legend": {
         "tracegroupgap": 0
        },
        "title": {
         "text": "Распределение количества заказов пользователей"
        }
       },
       "config": {
        "plotlyServerURL": "https://plot.ly"
       }
      }
     },
     "metadata": {},
     "output_type": "display_data"
    }
   ],
   "source": [
    "fig = px.scatter(data_frame=orders_by_users,\n",
    "                 x=range(0, len(orders_by_users)),\n",
    "                 y='orders',\n",
    "                 template='seaborn',\n",
    "                 title='Распределение количества заказов пользователей',\n",
    "                 labels={'orders':'Кол-во заказов',\n",
    "                         'x':'Кол-во пользователей'})\n",
    "fig.show()"
   ]
  },
  {
   "cell_type": "code",
   "execution_count": 28,
   "metadata": {
    "pycharm": {
     "name": "#%%\n"
    }
   },
   "outputs": [
    {
     "name": "stdout",
     "output_type": "stream",
     "text": [
      "[2. 4.]\n"
     ]
    }
   ],
   "source": [
    "print(np.percentile(orders_by_users['orders'], [95, 99]))"
   ]
  },
  {
   "cell_type": "markdown",
   "metadata": {
    "pycharm": {
     "name": "#%% md\n"
    }
   },
   "source": [
    "## Итоги анализа распределения количества заказов пользователей ##\n",
    "1. 5% пользователей сделали более 2 заказов\n",
    "2. 1% пользователей сделали более 4 заказов\n",
    "3. для дальнейшего исследования будем считать аномальными количество заказов пользователей > 4."
   ]
  },
  {
   "cell_type": "markdown",
   "metadata": {
    "pycharm": {
     "name": "#%% md\n"
    }
   },
   "source": [
    "<div class=\"alert alert-warning\">\n",
    "<font size=\"4\">📝 <b>Комментарий ревьюера v.1</b></font>\n",
    "    \n",
    "Отличная визуализация и верно рассчитанные перцентили. Но не хватает выводов о наличии аномалий в данных.</div>"
   ]
  },
  {
   "cell_type": "markdown",
   "metadata": {},
   "source": [
    "<div class=\"alert alert-warning\">\n",
    "<font size=\"4\">📝 <b>Комментарий ревьюера v.2</b></font>\n",
    "    \n",
    "Не увидел ниже вывода по наличию аномалий по количеству заказов на пользователя.</div>"
   ]
  },
  {
   "cell_type": "markdown",
   "source": [
    "<div class=\"alert alert-info\">\n",
    "<font size=\"4\"><b>Комментарий студента v.2</b></font>\n",
    "Добавил в \"Итоги анализа распределения количества заказов пользователей\"\n",
    "</div>"
   ],
   "metadata": {
    "collapsed": false
   }
  },
  {
   "cell_type": "markdown",
   "metadata": {
    "pycharm": {
     "name": "#%% md\n"
    }
   },
   "source": [
    "<a id='abtest_revenue_by_orders'></a>\n",
    "## Распределение стоимости заказов пользователей ##"
   ]
  },
  {
   "cell_type": "code",
   "execution_count": 29,
   "metadata": {
    "pycharm": {
     "name": "#%%\n"
    }
   },
   "outputs": [
    {
     "data": {
      "application/vnd.plotly.v1+json": {
       "data": [
        {
         "hovertemplate": "Кол-во заказов=%{x}<br>Сумма заказа=%{y}<extra></extra>",
         "legendgroup": "",
         "marker": {
          "color": "rgb(76,114,176)",
          "symbol": "circle"
         },
         "mode": "markers",
         "name": "",
         "showlegend": false,
         "x": [
          0,
          1,
          2,
          3,
          4,
          5,
          6,
          7,
          8,
          9,
          10,
          11,
          12,
          13,
          14,
          15,
          16,
          17,
          18,
          19,
          20,
          21,
          22,
          23,
          24,
          25,
          26,
          27,
          28,
          29,
          30,
          31,
          32,
          33,
          34,
          35,
          36,
          37,
          38,
          39,
          40,
          41,
          42,
          43,
          44,
          45,
          46,
          47,
          48,
          49,
          50,
          51,
          52,
          53,
          54,
          55,
          56,
          57,
          58,
          59,
          60,
          61,
          62,
          63,
          64,
          65,
          66,
          67,
          68,
          69,
          70,
          71,
          72,
          73,
          74,
          75,
          76,
          77,
          78,
          79,
          80,
          81,
          82,
          83,
          84,
          85,
          86,
          87,
          88,
          89,
          90,
          91,
          92,
          93,
          94,
          95,
          96,
          97,
          98,
          99,
          100,
          101,
          102,
          103,
          104,
          105,
          106,
          107,
          108,
          109,
          110,
          111,
          112,
          113,
          114,
          115,
          116,
          117,
          118,
          119,
          120,
          121,
          122,
          123,
          124,
          125,
          126,
          127,
          128,
          129,
          130,
          131,
          132,
          133,
          134,
          135,
          136,
          137,
          138,
          139,
          140,
          141,
          142,
          143,
          144,
          145,
          146,
          147,
          148,
          149,
          150,
          151,
          152,
          153,
          154,
          155,
          156,
          157,
          158,
          159,
          160,
          161,
          162,
          163,
          164,
          165,
          166,
          167,
          168,
          169,
          170,
          171,
          172,
          173,
          174,
          175,
          176,
          177,
          178,
          179,
          180,
          181,
          182,
          183,
          184,
          185,
          186,
          187,
          188,
          189,
          190,
          191,
          192,
          193,
          194,
          195,
          196,
          197,
          198,
          199,
          200,
          201,
          202,
          203,
          204,
          205,
          206,
          207,
          208,
          209,
          210,
          211,
          212,
          213,
          214,
          215,
          216,
          217,
          218,
          219,
          220,
          221,
          222,
          223,
          224,
          225,
          226,
          227,
          228,
          229,
          230,
          231,
          232,
          233,
          234,
          235,
          236,
          237,
          238,
          239,
          240,
          241,
          242,
          243,
          244,
          245,
          246,
          247,
          248,
          249,
          250,
          251,
          252,
          253,
          254,
          255,
          256,
          257,
          258,
          259,
          260,
          261,
          262,
          263,
          264,
          265,
          266,
          267,
          268,
          269,
          270,
          271,
          272,
          273,
          274,
          275,
          276,
          277,
          278,
          279,
          280,
          281,
          282,
          283,
          284,
          285,
          286,
          287,
          288,
          289,
          290,
          291,
          292,
          293,
          294,
          295,
          296,
          297,
          298,
          299,
          300,
          301,
          302,
          303,
          304,
          305,
          306,
          307,
          308,
          309,
          310,
          311,
          312,
          313,
          314,
          315,
          316,
          317,
          318,
          319,
          320,
          321,
          322,
          323,
          324,
          325,
          326,
          327,
          328,
          329,
          330,
          331,
          332,
          333,
          334,
          335,
          336,
          337,
          338,
          339,
          340,
          341,
          342,
          343,
          344,
          345,
          346,
          347,
          348,
          349,
          350,
          351,
          352,
          353,
          354,
          355,
          356,
          357,
          358,
          359,
          360,
          361,
          362,
          363,
          364,
          365,
          366,
          367,
          368,
          369,
          370,
          371,
          372,
          373,
          374,
          375,
          376,
          377,
          378,
          379,
          380,
          381,
          382,
          383,
          384,
          385,
          386,
          387,
          388,
          389,
          390,
          391,
          392,
          393,
          394,
          395,
          396,
          397,
          398,
          399,
          400,
          401,
          402,
          403,
          404,
          405,
          406,
          407,
          408,
          409,
          410,
          411,
          412,
          413,
          414,
          415,
          416,
          417,
          418,
          419,
          420,
          421,
          422,
          423,
          424,
          425,
          426,
          427,
          428,
          429,
          430,
          431,
          432,
          433,
          434,
          435,
          436,
          437,
          438,
          439,
          440,
          441,
          442,
          443,
          444,
          445,
          446,
          447,
          448,
          449,
          450,
          451,
          452,
          453,
          454,
          455,
          456,
          457,
          458,
          459,
          460,
          461,
          462,
          463,
          464,
          465,
          466,
          467,
          468,
          469,
          470,
          471,
          472,
          473,
          474,
          475,
          476,
          477,
          478,
          479,
          480,
          481,
          482,
          483,
          484,
          485,
          486,
          487,
          488,
          489,
          490,
          491,
          492,
          493,
          494,
          495,
          496,
          497,
          498,
          499,
          500,
          501,
          502,
          503,
          504,
          505,
          506,
          507,
          508,
          509,
          510,
          511,
          512,
          513,
          514,
          515,
          516,
          517,
          518,
          519,
          520,
          521,
          522,
          523,
          524,
          525,
          526,
          527,
          528,
          529,
          530,
          531,
          532,
          533,
          534,
          535,
          536,
          537,
          538,
          539,
          540,
          541,
          542,
          543,
          544,
          545,
          546,
          547,
          548,
          549,
          550,
          551,
          552,
          553,
          554,
          555,
          556,
          557,
          558,
          559,
          560,
          561,
          562,
          563,
          564,
          565,
          566,
          567,
          568,
          569,
          570,
          571,
          572,
          573,
          574,
          575,
          576,
          577,
          578,
          579,
          580,
          581,
          582,
          583,
          584,
          585,
          586,
          587,
          588,
          589,
          590,
          591,
          592,
          593,
          594,
          595,
          596,
          597,
          598,
          599,
          600,
          601,
          602,
          603,
          604,
          605,
          606,
          607,
          608,
          609,
          610,
          611,
          612,
          613,
          614,
          615,
          616,
          617,
          618,
          619,
          620,
          621,
          622,
          623,
          624,
          625,
          626,
          627,
          628,
          629,
          630,
          631,
          632,
          633,
          634,
          635,
          636,
          637,
          638,
          639,
          640,
          641,
          642,
          643,
          644,
          645,
          646,
          647,
          648,
          649,
          650,
          651,
          652,
          653,
          654,
          655,
          656,
          657,
          658,
          659,
          660,
          661,
          662,
          663,
          664,
          665,
          666,
          667,
          668,
          669,
          670,
          671,
          672,
          673,
          674,
          675,
          676,
          677,
          678,
          679,
          680,
          681,
          682,
          683,
          684,
          685,
          686,
          687,
          688,
          689,
          690,
          691,
          692,
          693,
          694,
          695,
          696,
          697,
          698,
          699,
          700,
          701,
          702,
          703,
          704,
          705,
          706,
          707,
          708,
          709,
          710,
          711,
          712,
          713,
          714,
          715,
          716,
          717,
          718,
          719,
          720,
          721,
          722,
          723,
          724,
          725,
          726,
          727,
          728,
          729,
          730,
          731,
          732,
          733,
          734,
          735,
          736,
          737,
          738,
          739,
          740,
          741,
          742,
          743,
          744,
          745,
          746,
          747,
          748,
          749,
          750,
          751,
          752,
          753,
          754,
          755,
          756,
          757,
          758,
          759,
          760,
          761,
          762,
          763,
          764,
          765,
          766,
          767,
          768,
          769,
          770,
          771,
          772,
          773,
          774,
          775,
          776,
          777,
          778,
          779,
          780,
          781,
          782,
          783,
          784,
          785,
          786,
          787,
          788,
          789,
          790,
          791,
          792,
          793,
          794,
          795,
          796,
          797,
          798,
          799,
          800,
          801,
          802,
          803,
          804,
          805,
          806,
          807,
          808,
          809,
          810,
          811,
          812,
          813,
          814,
          815,
          816,
          817,
          818,
          819,
          820,
          821,
          822,
          823,
          824,
          825,
          826,
          827,
          828,
          829,
          830,
          831,
          832,
          833,
          834,
          835,
          836,
          837,
          838,
          839,
          840,
          841,
          842,
          843,
          844,
          845,
          846,
          847,
          848,
          849,
          850,
          851,
          852,
          853,
          854,
          855,
          856,
          857,
          858,
          859,
          860,
          861,
          862,
          863,
          864,
          865,
          866,
          867,
          868,
          869,
          870,
          871,
          872,
          873,
          874,
          875,
          876,
          877,
          878,
          879,
          880,
          881,
          882,
          883,
          884,
          885,
          886,
          887,
          888,
          889,
          890,
          891,
          892,
          893,
          894,
          895,
          896,
          897,
          898,
          899,
          900,
          901,
          902,
          903,
          904,
          905,
          906,
          907,
          908,
          909,
          910,
          911,
          912,
          913,
          914,
          915,
          916,
          917,
          918,
          919,
          920,
          921,
          922,
          923,
          924,
          925,
          926,
          927,
          928,
          929,
          930,
          931,
          932,
          933,
          934,
          935,
          936,
          937,
          938,
          939,
          940,
          941,
          942,
          943,
          944,
          945,
          946,
          947,
          948,
          949,
          950,
          951,
          952,
          953,
          954,
          955,
          956,
          957,
          958,
          959,
          960,
          961,
          962,
          963,
          964,
          965,
          966,
          967,
          968,
          969,
          970,
          971,
          972,
          973,
          974,
          975,
          976,
          977,
          978,
          979,
          980,
          981,
          982,
          983,
          984,
          985,
          986,
          987,
          988,
          989,
          990,
          991,
          992,
          993,
          994,
          995,
          996,
          997,
          998,
          999,
          1000,
          1001,
          1002,
          1003,
          1004,
          1005,
          1006,
          1007,
          1008,
          1009,
          1010,
          1011,
          1012,
          1013,
          1014,
          1015,
          1016,
          1017,
          1018,
          1019,
          1020,
          1021,
          1022,
          1023,
          1024,
          1025,
          1026,
          1027,
          1028,
          1029,
          1030,
          1031,
          1032,
          1033,
          1034,
          1035,
          1036,
          1037,
          1038,
          1039,
          1040,
          1041,
          1042,
          1043,
          1044,
          1045,
          1046,
          1047,
          1048,
          1049,
          1050,
          1051,
          1052,
          1053,
          1054,
          1055,
          1056,
          1057,
          1058,
          1059,
          1060,
          1061,
          1062,
          1063,
          1064,
          1065,
          1066,
          1067,
          1068,
          1069,
          1070,
          1071,
          1072,
          1073,
          1074,
          1075,
          1076,
          1077,
          1078,
          1079,
          1080,
          1081,
          1082,
          1083,
          1084,
          1085,
          1086,
          1087,
          1088,
          1089,
          1090,
          1091,
          1092,
          1093,
          1094,
          1095,
          1096,
          1097,
          1098,
          1099,
          1100,
          1101,
          1102,
          1103,
          1104,
          1105,
          1106,
          1107,
          1108,
          1109,
          1110,
          1111,
          1112,
          1113,
          1114,
          1115,
          1116,
          1117,
          1118,
          1119,
          1120,
          1121,
          1122,
          1123,
          1124,
          1125,
          1126,
          1127,
          1128,
          1129,
          1130,
          1131,
          1132,
          1133,
          1134,
          1135,
          1136,
          1137,
          1138,
          1139,
          1140,
          1141,
          1142,
          1143,
          1144,
          1145,
          1146,
          1147,
          1148,
          1149,
          1150,
          1151,
          1152,
          1153,
          1154,
          1155,
          1156,
          1157,
          1158,
          1159,
          1160,
          1161,
          1162,
          1163,
          1164,
          1165,
          1166,
          1167,
          1168,
          1169,
          1170,
          1171,
          1172,
          1173,
          1174,
          1175,
          1176,
          1177,
          1178,
          1179,
          1180,
          1181,
          1182,
          1183,
          1184,
          1185,
          1186,
          1187,
          1188,
          1189,
          1190,
          1191,
          1192,
          1193,
          1194,
          1195,
          1196
         ],
         "xaxis": "x",
         "y": [
          1650,
          730,
          400,
          9759,
          2308,
          2210,
          1860,
          1044,
          13710,
          1855,
          4008,
          4499,
          7370,
          11985,
          10980,
          15277,
          1060,
          990,
          16490,
          1190,
          300,
          1050,
          632,
          15185,
          7555,
          300,
          3488,
          7620,
          5280,
          700,
          190,
          383,
          1680,
          1650,
          22785,
          2355,
          2470,
          6250,
          19260,
          610,
          2986,
          1090,
          9290,
          2480,
          3000,
          2140,
          3590,
          6990,
          1250,
          3488,
          2970,
          18100,
          400,
          400,
          100,
          2750,
          570,
          2978,
          1440,
          7860,
          56650,
          790,
          400,
          1350,
          2540,
          1710,
          2350,
          2540,
          14610,
          19260,
          8999,
          10510,
          700,
          29499,
          780,
          890,
          4400,
          32350,
          40740,
          2490,
          2080,
          5400,
          5100,
          4020,
          690,
          12350,
          1290,
          382,
          190,
          2110,
          1490,
          17868,
          1940,
          26550,
          5970,
          987,
          9024,
          5555,
          7129,
          300,
          3240,
          2350,
          2995,
          2550,
          17600,
          850,
          5365,
          8390,
          5870,
          5020,
          6990,
          14489,
          8470,
          1630,
          5800,
          172,
          6230,
          760,
          3390,
          4480,
          4480,
          1139,
          12336,
          1450,
          4480,
          7990,
          5099,
          9400,
          6441,
          3070,
          6145,
          53904,
          6922,
          5190,
          6976,
          7690,
          426,
          28490,
          390,
          7990,
          1190,
          299,
          1490,
          6329,
          2750,
          8800,
          2990,
          990,
          300,
          9448,
          2920,
          426,
          9980,
          1790,
          4970,
          3760,
          8090,
          400,
          11990,
          990,
          18900,
          6420,
          1990,
          650,
          1440,
          6990,
          436,
          1038,
          1780,
          1940,
          3564,
          3340,
          5480,
          38160,
          2800,
          3040,
          995,
          2750,
          3210,
          310,
          2090,
          3468,
          778,
          5740,
          4580,
          1840,
          3488,
          1550,
          17990,
          290,
          6940,
          1690,
          890,
          5369,
          11115,
          165,
          2646,
          2220,
          1690,
          2190,
          2845,
          1799,
          1498,
          9850,
          6700,
          500,
          2640,
          4717,
          30649,
          5640,
          100,
          2350,
          2820,
          2750,
          17422,
          14155,
          4185,
          1680,
          2210,
          10960,
          2350,
          1140,
          1310,
          2490,
          1380,
          10791,
          9310,
          3470,
          2955,
          15850,
          27550,
          15485,
          2646,
          6201,
          2320,
          599,
          660,
          6149,
          2938,
          10590,
          110,
          2350,
          12810,
          9880,
          920,
          1190,
          3488,
          15417,
          950,
          7555,
          2339,
          3190,
          2360,
          16950,
          34340,
          500,
          1620,
          14271,
          1920,
          380,
          2355,
          8240,
          282,
          10970,
          170,
          1922,
          14400,
          19538,
          10450,
          2480,
          290,
          2290,
          1830,
          33970,
          1100,
          1940,
          2290,
          4877,
          12680,
          860,
          3354,
          1000,
          1990,
          1100,
          990,
          6890,
          19260,
          53904,
          1990,
          2210,
          426,
          4299,
          12562,
          420,
          23750,
          6350,
          490,
          22040,
          2950,
          1630,
          2342,
          5622,
          7485,
          390,
          1200,
          1190,
          2057,
          76,
          1900,
          2690,
          20219,
          4195,
          990,
          490,
          830,
          2330,
          2490,
          2526,
          11985,
          1435,
          1460,
          1090,
          250,
          1990,
          6194,
          3460,
          780,
          5070,
          8850,
          1410,
          890,
          300,
          1758,
          790,
          1220,
          987,
          8000,
          610,
          15072,
          41450,
          1990,
          760,
          690,
          5870,
          1530,
          1290,
          1390,
          4370,
          420,
          2820,
          6000,
          400,
          2580,
          1860,
          5160,
          6536,
          5000,
          14970,
          9080,
          910,
          8850,
          16770,
          2190,
          2500,
          1590,
          380,
          16770,
          3990,
          20026,
          12470,
          2540,
          4980,
          390,
          490,
          16680,
          16480,
          4780,
          3450,
          5415,
          16279,
          2385,
          120,
          2540,
          1490,
          4980,
          1398,
          20990,
          1450,
          5539,
          4008,
          270,
          21220,
          2640,
          1253,
          12550,
          880,
          9990,
          690,
          3890,
          9990,
          5555,
          19240,
          3080,
          460,
          70,
          870,
          26980,
          9990,
          13990,
          570,
          780,
          24744,
          990,
          4500,
          270,
          8870,
          600,
          440,
          750,
          1950,
          37550,
          31680,
          9490,
          11249,
          470,
          1294500,
          2630,
          1460,
          4930,
          1100,
          3150,
          17650,
          5450,
          5770,
          1575,
          20450,
          11050,
          2000,
          2255,
          170,
          1999,
          2955,
          490,
          7300,
          18464,
          390,
          6677,
          2890,
          2970,
          6248,
          1460,
          490,
          5270,
          4485,
          7349,
          3070,
          1620,
          3030,
          1290,
          50,
          3190,
          26550,
          9232,
          16480,
          1790,
          9934,
          2840,
          400,
          1490,
          8990,
          8780,
          2490,
          1990,
          4410,
          1000,
          350,
          300,
          19280,
          13769,
          2190,
          1530,
          30649,
          1790,
          6681,
          6260,
          390,
          1130,
          1490,
          1650,
          11135,
          20100,
          2722,
          8885,
          8585,
          1980,
          10195,
          30990,
          2490,
          2359,
          9448,
          1220,
          490,
          320,
          990,
          2590,
          2550,
          8250,
          580,
          5350,
          3140,
          1910,
          17379,
          4840,
          6930,
          5690,
          1690,
          6090,
          990,
          3140,
          390,
          740,
          10440,
          3390,
          4880,
          6590,
          21550,
          500,
          33405,
          750,
          3525,
          43990,
          13390,
          9934,
          697,
          4495,
          8401,
          20219,
          390,
          4880,
          6382,
          1090,
          2285,
          10485,
          6288,
          11711,
          17990,
          3950,
          25080,
          1580,
          35485,
          9750,
          27490,
          1510,
          1850,
          890,
          4499,
          4990,
          3650,
          4990,
          890,
          1530,
          2480,
          33050,
          35485,
          990,
          2355,
          5530,
          1490,
          27600,
          1893,
          31350,
          360,
          1990,
          1490,
          300,
          5249,
          6716,
          2800,
          1530,
          3559,
          19260,
          5790,
          1758,
          604,
          50,
          4008,
          3488,
          1290,
          17650,
          5740,
          1290,
          3550,
          240,
          2235,
          10550,
          4690,
          12888,
          7995,
          3220,
          2840,
          495,
          740,
          265,
          4790,
          13990,
          2540,
          480,
          1721,
          12550,
          5020,
          2830,
          340,
          1870,
          53904,
          11990,
          1850,
          1990,
          6990,
          1060,
          17990,
          1290,
          26550,
          19280,
          2670,
          2420,
          3261,
          1634,
          39800,
          400,
          12990,
          25890,
          18990,
          3826,
          16950,
          18010,
          10250,
          4990,
          17030,
          3040,
          5119,
          15485,
          110,
          9870,
          13860,
          1530,
          8877,
          4620,
          9490,
          43690,
          19260,
          1846,
          90,
          4190,
          1530,
          34550,
          10765,
          390,
          7024,
          17990,
          4698,
          2030,
          2690,
          78990,
          2590,
          4877,
          10850,
          1250,
          550,
          2630,
          16990,
          620,
          654,
          6613,
          10160,
          6400,
          6440,
          1690,
          27390,
          1950,
          2050,
          1680,
          17990,
          78990,
          540,
          42740,
          9680,
          5150,
          1530,
          2950,
          410,
          17990,
          3680,
          5227,
          590,
          9290,
          5776,
          2390,
          30649,
          14495,
          890,
          2070,
          1190,
          2555,
          1790,
          19520,
          11688,
          3590,
          4180,
          1399,
          45880,
          10550,
          3050,
          2390,
          470,
          295,
          17792,
          470,
          3590,
          24381,
          690,
          390,
          1805,
          6990,
          28350,
          2955,
          1490,
          3190,
          17379,
          29499,
          6170,
          7300,
          2590,
          3650,
          4990,
          9850,
          3270,
          14489,
          2960,
          1020,
          10137,
          580,
          3354,
          14490,
          67990,
          86620,
          4900,
          49495,
          890,
          690,
          19260,
          3170,
          37150,
          390,
          19660,
          2580,
          45780,
          50,
          24860,
          1737,
          1040,
          1090,
          990,
          5690,
          9690,
          1149,
          990,
          5490,
          750,
          2355,
          590,
          1870,
          1460,
          1640,
          9232,
          2550,
          390,
          840,
          12490,
          4740,
          3480,
          785,
          7890,
          2600,
          16480,
          4990,
          3739,
          3190,
          900,
          3888,
          1993,
          350,
          13770,
          990,
          20290,
          1398,
          2578,
          1190,
          5330,
          5719,
          2436,
          1640,
          890,
          650,
          5030,
          4210,
          100,
          890,
          990,
          1460,
          2400,
          8099,
          1540,
          690,
          6242,
          18560,
          250,
          7990,
          150,
          4600,
          13740,
          320,
          17990,
          2355,
          2790,
          19990,
          110,
          1090,
          6990,
          2690,
          980,
          1120,
          190,
          360,
          590,
          9448,
          15416,
          3410,
          5840,
          4170,
          1410,
          9448,
          10170,
          990,
          985,
          22950,
          1180,
          1990,
          1188,
          14489,
          2290,
          2674,
          590,
          4710,
          2000,
          760,
          18270,
          770,
          540,
          93940,
          2970,
          8885,
          2000,
          7110,
          790,
          12642,
          4920,
          3290,
          35890,
          4363,
          6445,
          17990,
          1130,
          890,
          58220,
          1590,
          3740,
          3500,
          1390,
          90,
          390,
          13990,
          1600,
          3190,
          2420,
          1420,
          5280,
          24744,
          1729,
          3250,
          450,
          30649,
          3740,
          11440,
          4188,
          530,
          13354,
          1490,
          20990,
          17300,
          2180,
          830,
          1630,
          160,
          1960,
          359,
          510,
          2590,
          19386,
          75,
          6420,
          2550,
          1885,
          3990,
          1390,
          4040,
          1050,
          5227,
          25790,
          690,
          13203,
          5530,
          350,
          2250,
          4690,
          730,
          34990,
          3430,
          870,
          33050,
          380,
          19490,
          420,
          720,
          60,
          1530,
          7390,
          2190,
          1090,
          1540,
          3910,
          58550,
          800,
          7240,
          18350,
          18463,
          15485,
          3330,
          6660,
          4283,
          60450,
          24350,
          1090,
          2070,
          9050,
          1290,
          2540,
          1188,
          5170,
          3390,
          1850,
          28750,
          11250,
          19260,
          1920,
          1730,
          5900,
          390,
          2348,
          2290,
          2540,
          3600,
          500,
          3600,
          1320,
          3806,
          12336,
          2907,
          971,
          2640,
          14990,
          190,
          640,
          8290,
          1950,
          100,
          5430,
          820,
          1440,
          1620,
          190,
          6382,
          120,
          4685,
          1450,
          1460,
          2610,
          100,
          14250,
          11985,
          1790,
          3990,
          990,
          1120,
          130,
          1200,
          100,
          52900,
          3550,
          2790,
          2640,
          3490,
          17379,
          4390,
          60,
          9800,
          570,
          500,
          13070,
          5170,
          1850,
          890,
          15500,
          2610,
          6674,
          160,
          3404,
          18557,
          420,
          1190,
          58220,
          2790,
          2640,
          3070,
          1540,
          11990,
          8439,
          8340,
          1830,
          27985,
          6645,
          18560,
          1780,
          250,
          1120,
          8640,
          6060,
          1799,
          3190,
          1720,
          3190,
          3739,
          785,
          14489,
          460,
          3390,
          350,
          15450,
          990,
          16990,
          1800,
          8950,
          420,
          8280,
          1190,
          18350,
          1825,
          5688,
          4240,
          3739,
          2061,
          640,
          7690,
          1780,
          12150,
          1280,
          3240,
          8777,
          590,
          340,
          9300,
          8090,
          8590,
          6015,
          1170,
          830,
          4650,
          450,
          39500,
          6585,
          4790,
          400,
          50,
          300,
          5050,
          4499,
          14000,
          32610,
          340,
          16920,
          65710,
          2970,
          725,
          6438,
          66350,
          1540,
          6645,
          3320,
          290,
          1190,
          11490,
          1630,
          7500,
          290,
          3990,
          7550,
          2640,
          890,
          11565,
          750,
          2752,
          1320,
          28060,
          1980,
          1707,
          6780,
          5390,
          7990,
          3260,
          990,
          17940,
          24990,
          3980,
          8529,
          5440,
          2510,
          18893,
          92550,
          52480,
          1380,
          1253,
          2290,
          300,
          52900,
          910,
          1490,
          4900,
          4140,
          1920,
          890,
          9448,
          1390,
          3520,
          995,
          2955,
          3180,
          4120,
          1980,
          590,
          370,
          3470,
          3480,
          1100,
          6385,
          400,
          9368,
          7485,
          3460,
          4990,
          1799,
          3780,
          1329,
          6613,
          790,
          2490,
          1290,
          2400,
          3020,
          490,
          190,
          1190,
          6180,
          25250,
          1290,
          4940,
          10380,
          730,
          15380,
          750,
          112,
          31550,
          8600,
          16490,
          6490,
          3190,
          10550,
          100,
          202740
         ],
         "yaxis": "y",
         "type": "scattergl"
        }
       ],
       "layout": {
        "template": {
         "data": {
          "barpolar": [
           {
            "marker": {
             "line": {
              "color": "rgb(234,234,242)",
              "width": 0.5
             },
             "pattern": {
              "fillmode": "overlay",
              "size": 10,
              "solidity": 0.2
             }
            },
            "type": "barpolar"
           }
          ],
          "bar": [
           {
            "error_x": {
             "color": "rgb(36,36,36)"
            },
            "error_y": {
             "color": "rgb(36,36,36)"
            },
            "marker": {
             "line": {
              "color": "rgb(234,234,242)",
              "width": 0.5
             },
             "pattern": {
              "fillmode": "overlay",
              "size": 10,
              "solidity": 0.2
             }
            },
            "type": "bar"
           }
          ],
          "carpet": [
           {
            "aaxis": {
             "endlinecolor": "rgb(36,36,36)",
             "gridcolor": "white",
             "linecolor": "white",
             "minorgridcolor": "white",
             "startlinecolor": "rgb(36,36,36)"
            },
            "baxis": {
             "endlinecolor": "rgb(36,36,36)",
             "gridcolor": "white",
             "linecolor": "white",
             "minorgridcolor": "white",
             "startlinecolor": "rgb(36,36,36)"
            },
            "type": "carpet"
           }
          ],
          "choropleth": [
           {
            "colorbar": {
             "outlinewidth": 0,
             "tickcolor": "rgb(36,36,36)",
             "ticklen": 8,
             "ticks": "outside",
             "tickwidth": 2
            },
            "type": "choropleth"
           }
          ],
          "contourcarpet": [
           {
            "colorbar": {
             "outlinewidth": 0,
             "tickcolor": "rgb(36,36,36)",
             "ticklen": 8,
             "ticks": "outside",
             "tickwidth": 2
            },
            "type": "contourcarpet"
           }
          ],
          "contour": [
           {
            "colorbar": {
             "outlinewidth": 0,
             "tickcolor": "rgb(36,36,36)",
             "ticklen": 8,
             "ticks": "outside",
             "tickwidth": 2
            },
            "colorscale": [
             [
              0.0,
              "rgb(2,4,25)"
             ],
             [
              0.06274509803921569,
              "rgb(24,15,41)"
             ],
             [
              0.12549019607843137,
              "rgb(47,23,57)"
             ],
             [
              0.18823529411764706,
              "rgb(71,28,72)"
             ],
             [
              0.25098039215686274,
              "rgb(97,30,82)"
             ],
             [
              0.3137254901960784,
              "rgb(123,30,89)"
             ],
             [
              0.3764705882352941,
              "rgb(150,27,91)"
             ],
             [
              0.4392156862745098,
              "rgb(177,22,88)"
             ],
             [
              0.5019607843137255,
              "rgb(203,26,79)"
             ],
             [
              0.5647058823529412,
              "rgb(223,47,67)"
             ],
             [
              0.6274509803921569,
              "rgb(236,76,61)"
             ],
             [
              0.6901960784313725,
              "rgb(242,107,73)"
             ],
             [
              0.7529411764705882,
              "rgb(244,135,95)"
             ],
             [
              0.8156862745098039,
              "rgb(245,162,122)"
             ],
             [
              0.8784313725490196,
              "rgb(246,188,153)"
             ],
             [
              0.9411764705882353,
              "rgb(247,212,187)"
             ],
             [
              1.0,
              "rgb(250,234,220)"
             ]
            ],
            "type": "contour"
           }
          ],
          "heatmapgl": [
           {
            "colorbar": {
             "outlinewidth": 0,
             "tickcolor": "rgb(36,36,36)",
             "ticklen": 8,
             "ticks": "outside",
             "tickwidth": 2
            },
            "colorscale": [
             [
              0.0,
              "rgb(2,4,25)"
             ],
             [
              0.06274509803921569,
              "rgb(24,15,41)"
             ],
             [
              0.12549019607843137,
              "rgb(47,23,57)"
             ],
             [
              0.18823529411764706,
              "rgb(71,28,72)"
             ],
             [
              0.25098039215686274,
              "rgb(97,30,82)"
             ],
             [
              0.3137254901960784,
              "rgb(123,30,89)"
             ],
             [
              0.3764705882352941,
              "rgb(150,27,91)"
             ],
             [
              0.4392156862745098,
              "rgb(177,22,88)"
             ],
             [
              0.5019607843137255,
              "rgb(203,26,79)"
             ],
             [
              0.5647058823529412,
              "rgb(223,47,67)"
             ],
             [
              0.6274509803921569,
              "rgb(236,76,61)"
             ],
             [
              0.6901960784313725,
              "rgb(242,107,73)"
             ],
             [
              0.7529411764705882,
              "rgb(244,135,95)"
             ],
             [
              0.8156862745098039,
              "rgb(245,162,122)"
             ],
             [
              0.8784313725490196,
              "rgb(246,188,153)"
             ],
             [
              0.9411764705882353,
              "rgb(247,212,187)"
             ],
             [
              1.0,
              "rgb(250,234,220)"
             ]
            ],
            "type": "heatmapgl"
           }
          ],
          "heatmap": [
           {
            "colorbar": {
             "outlinewidth": 0,
             "tickcolor": "rgb(36,36,36)",
             "ticklen": 8,
             "ticks": "outside",
             "tickwidth": 2
            },
            "colorscale": [
             [
              0.0,
              "rgb(2,4,25)"
             ],
             [
              0.06274509803921569,
              "rgb(24,15,41)"
             ],
             [
              0.12549019607843137,
              "rgb(47,23,57)"
             ],
             [
              0.18823529411764706,
              "rgb(71,28,72)"
             ],
             [
              0.25098039215686274,
              "rgb(97,30,82)"
             ],
             [
              0.3137254901960784,
              "rgb(123,30,89)"
             ],
             [
              0.3764705882352941,
              "rgb(150,27,91)"
             ],
             [
              0.4392156862745098,
              "rgb(177,22,88)"
             ],
             [
              0.5019607843137255,
              "rgb(203,26,79)"
             ],
             [
              0.5647058823529412,
              "rgb(223,47,67)"
             ],
             [
              0.6274509803921569,
              "rgb(236,76,61)"
             ],
             [
              0.6901960784313725,
              "rgb(242,107,73)"
             ],
             [
              0.7529411764705882,
              "rgb(244,135,95)"
             ],
             [
              0.8156862745098039,
              "rgb(245,162,122)"
             ],
             [
              0.8784313725490196,
              "rgb(246,188,153)"
             ],
             [
              0.9411764705882353,
              "rgb(247,212,187)"
             ],
             [
              1.0,
              "rgb(250,234,220)"
             ]
            ],
            "type": "heatmap"
           }
          ],
          "histogram2dcontour": [
           {
            "colorbar": {
             "outlinewidth": 0,
             "tickcolor": "rgb(36,36,36)",
             "ticklen": 8,
             "ticks": "outside",
             "tickwidth": 2
            },
            "colorscale": [
             [
              0.0,
              "rgb(2,4,25)"
             ],
             [
              0.06274509803921569,
              "rgb(24,15,41)"
             ],
             [
              0.12549019607843137,
              "rgb(47,23,57)"
             ],
             [
              0.18823529411764706,
              "rgb(71,28,72)"
             ],
             [
              0.25098039215686274,
              "rgb(97,30,82)"
             ],
             [
              0.3137254901960784,
              "rgb(123,30,89)"
             ],
             [
              0.3764705882352941,
              "rgb(150,27,91)"
             ],
             [
              0.4392156862745098,
              "rgb(177,22,88)"
             ],
             [
              0.5019607843137255,
              "rgb(203,26,79)"
             ],
             [
              0.5647058823529412,
              "rgb(223,47,67)"
             ],
             [
              0.6274509803921569,
              "rgb(236,76,61)"
             ],
             [
              0.6901960784313725,
              "rgb(242,107,73)"
             ],
             [
              0.7529411764705882,
              "rgb(244,135,95)"
             ],
             [
              0.8156862745098039,
              "rgb(245,162,122)"
             ],
             [
              0.8784313725490196,
              "rgb(246,188,153)"
             ],
             [
              0.9411764705882353,
              "rgb(247,212,187)"
             ],
             [
              1.0,
              "rgb(250,234,220)"
             ]
            ],
            "type": "histogram2dcontour"
           }
          ],
          "histogram2d": [
           {
            "colorbar": {
             "outlinewidth": 0,
             "tickcolor": "rgb(36,36,36)",
             "ticklen": 8,
             "ticks": "outside",
             "tickwidth": 2
            },
            "colorscale": [
             [
              0.0,
              "rgb(2,4,25)"
             ],
             [
              0.06274509803921569,
              "rgb(24,15,41)"
             ],
             [
              0.12549019607843137,
              "rgb(47,23,57)"
             ],
             [
              0.18823529411764706,
              "rgb(71,28,72)"
             ],
             [
              0.25098039215686274,
              "rgb(97,30,82)"
             ],
             [
              0.3137254901960784,
              "rgb(123,30,89)"
             ],
             [
              0.3764705882352941,
              "rgb(150,27,91)"
             ],
             [
              0.4392156862745098,
              "rgb(177,22,88)"
             ],
             [
              0.5019607843137255,
              "rgb(203,26,79)"
             ],
             [
              0.5647058823529412,
              "rgb(223,47,67)"
             ],
             [
              0.6274509803921569,
              "rgb(236,76,61)"
             ],
             [
              0.6901960784313725,
              "rgb(242,107,73)"
             ],
             [
              0.7529411764705882,
              "rgb(244,135,95)"
             ],
             [
              0.8156862745098039,
              "rgb(245,162,122)"
             ],
             [
              0.8784313725490196,
              "rgb(246,188,153)"
             ],
             [
              0.9411764705882353,
              "rgb(247,212,187)"
             ],
             [
              1.0,
              "rgb(250,234,220)"
             ]
            ],
            "type": "histogram2d"
           }
          ],
          "histogram": [
           {
            "marker": {
             "pattern": {
              "fillmode": "overlay",
              "size": 10,
              "solidity": 0.2
             }
            },
            "type": "histogram"
           }
          ],
          "mesh3d": [
           {
            "colorbar": {
             "outlinewidth": 0,
             "tickcolor": "rgb(36,36,36)",
             "ticklen": 8,
             "ticks": "outside",
             "tickwidth": 2
            },
            "type": "mesh3d"
           }
          ],
          "parcoords": [
           {
            "line": {
             "colorbar": {
              "outlinewidth": 0,
              "tickcolor": "rgb(36,36,36)",
              "ticklen": 8,
              "ticks": "outside",
              "tickwidth": 2
             }
            },
            "type": "parcoords"
           }
          ],
          "pie": [
           {
            "automargin": true,
            "type": "pie"
           }
          ],
          "scatter3d": [
           {
            "line": {
             "colorbar": {
              "outlinewidth": 0,
              "tickcolor": "rgb(36,36,36)",
              "ticklen": 8,
              "ticks": "outside",
              "tickwidth": 2
             }
            },
            "marker": {
             "colorbar": {
              "outlinewidth": 0,
              "tickcolor": "rgb(36,36,36)",
              "ticklen": 8,
              "ticks": "outside",
              "tickwidth": 2
             }
            },
            "type": "scatter3d"
           }
          ],
          "scattercarpet": [
           {
            "marker": {
             "colorbar": {
              "outlinewidth": 0,
              "tickcolor": "rgb(36,36,36)",
              "ticklen": 8,
              "ticks": "outside",
              "tickwidth": 2
             }
            },
            "type": "scattercarpet"
           }
          ],
          "scattergeo": [
           {
            "marker": {
             "colorbar": {
              "outlinewidth": 0,
              "tickcolor": "rgb(36,36,36)",
              "ticklen": 8,
              "ticks": "outside",
              "tickwidth": 2
             }
            },
            "type": "scattergeo"
           }
          ],
          "scattergl": [
           {
            "marker": {
             "colorbar": {
              "outlinewidth": 0,
              "tickcolor": "rgb(36,36,36)",
              "ticklen": 8,
              "ticks": "outside",
              "tickwidth": 2
             }
            },
            "type": "scattergl"
           }
          ],
          "scattermapbox": [
           {
            "marker": {
             "colorbar": {
              "outlinewidth": 0,
              "tickcolor": "rgb(36,36,36)",
              "ticklen": 8,
              "ticks": "outside",
              "tickwidth": 2
             }
            },
            "type": "scattermapbox"
           }
          ],
          "scatterpolargl": [
           {
            "marker": {
             "colorbar": {
              "outlinewidth": 0,
              "tickcolor": "rgb(36,36,36)",
              "ticklen": 8,
              "ticks": "outside",
              "tickwidth": 2
             }
            },
            "type": "scatterpolargl"
           }
          ],
          "scatterpolar": [
           {
            "marker": {
             "colorbar": {
              "outlinewidth": 0,
              "tickcolor": "rgb(36,36,36)",
              "ticklen": 8,
              "ticks": "outside",
              "tickwidth": 2
             }
            },
            "type": "scatterpolar"
           }
          ],
          "scatter": [
           {
            "marker": {
             "colorbar": {
              "outlinewidth": 0,
              "tickcolor": "rgb(36,36,36)",
              "ticklen": 8,
              "ticks": "outside",
              "tickwidth": 2
             }
            },
            "type": "scatter"
           }
          ],
          "scatterternary": [
           {
            "marker": {
             "colorbar": {
              "outlinewidth": 0,
              "tickcolor": "rgb(36,36,36)",
              "ticklen": 8,
              "ticks": "outside",
              "tickwidth": 2
             }
            },
            "type": "scatterternary"
           }
          ],
          "surface": [
           {
            "colorbar": {
             "outlinewidth": 0,
             "tickcolor": "rgb(36,36,36)",
             "ticklen": 8,
             "ticks": "outside",
             "tickwidth": 2
            },
            "colorscale": [
             [
              0.0,
              "rgb(2,4,25)"
             ],
             [
              0.06274509803921569,
              "rgb(24,15,41)"
             ],
             [
              0.12549019607843137,
              "rgb(47,23,57)"
             ],
             [
              0.18823529411764706,
              "rgb(71,28,72)"
             ],
             [
              0.25098039215686274,
              "rgb(97,30,82)"
             ],
             [
              0.3137254901960784,
              "rgb(123,30,89)"
             ],
             [
              0.3764705882352941,
              "rgb(150,27,91)"
             ],
             [
              0.4392156862745098,
              "rgb(177,22,88)"
             ],
             [
              0.5019607843137255,
              "rgb(203,26,79)"
             ],
             [
              0.5647058823529412,
              "rgb(223,47,67)"
             ],
             [
              0.6274509803921569,
              "rgb(236,76,61)"
             ],
             [
              0.6901960784313725,
              "rgb(242,107,73)"
             ],
             [
              0.7529411764705882,
              "rgb(244,135,95)"
             ],
             [
              0.8156862745098039,
              "rgb(245,162,122)"
             ],
             [
              0.8784313725490196,
              "rgb(246,188,153)"
             ],
             [
              0.9411764705882353,
              "rgb(247,212,187)"
             ],
             [
              1.0,
              "rgb(250,234,220)"
             ]
            ],
            "type": "surface"
           }
          ],
          "table": [
           {
            "cells": {
             "fill": {
              "color": "rgb(231,231,240)"
             },
             "line": {
              "color": "white"
             }
            },
            "header": {
             "fill": {
              "color": "rgb(183,183,191)"
             },
             "line": {
              "color": "white"
             }
            },
            "type": "table"
           }
          ]
         },
         "layout": {
          "annotationdefaults": {
           "arrowcolor": "rgb(67,103,167)"
          },
          "autotypenumbers": "strict",
          "coloraxis": {
           "colorbar": {
            "outlinewidth": 0,
            "tickcolor": "rgb(36,36,36)",
            "ticklen": 8,
            "ticks": "outside",
            "tickwidth": 2
           }
          },
          "colorscale": {
           "sequential": [
            [
             0.0,
             "rgb(2,4,25)"
            ],
            [
             0.06274509803921569,
             "rgb(24,15,41)"
            ],
            [
             0.12549019607843137,
             "rgb(47,23,57)"
            ],
            [
             0.18823529411764706,
             "rgb(71,28,72)"
            ],
            [
             0.25098039215686274,
             "rgb(97,30,82)"
            ],
            [
             0.3137254901960784,
             "rgb(123,30,89)"
            ],
            [
             0.3764705882352941,
             "rgb(150,27,91)"
            ],
            [
             0.4392156862745098,
             "rgb(177,22,88)"
            ],
            [
             0.5019607843137255,
             "rgb(203,26,79)"
            ],
            [
             0.5647058823529412,
             "rgb(223,47,67)"
            ],
            [
             0.6274509803921569,
             "rgb(236,76,61)"
            ],
            [
             0.6901960784313725,
             "rgb(242,107,73)"
            ],
            [
             0.7529411764705882,
             "rgb(244,135,95)"
            ],
            [
             0.8156862745098039,
             "rgb(245,162,122)"
            ],
            [
             0.8784313725490196,
             "rgb(246,188,153)"
            ],
            [
             0.9411764705882353,
             "rgb(247,212,187)"
            ],
            [
             1.0,
             "rgb(250,234,220)"
            ]
           ],
           "sequentialminus": [
            [
             0.0,
             "rgb(2,4,25)"
            ],
            [
             0.06274509803921569,
             "rgb(24,15,41)"
            ],
            [
             0.12549019607843137,
             "rgb(47,23,57)"
            ],
            [
             0.18823529411764706,
             "rgb(71,28,72)"
            ],
            [
             0.25098039215686274,
             "rgb(97,30,82)"
            ],
            [
             0.3137254901960784,
             "rgb(123,30,89)"
            ],
            [
             0.3764705882352941,
             "rgb(150,27,91)"
            ],
            [
             0.4392156862745098,
             "rgb(177,22,88)"
            ],
            [
             0.5019607843137255,
             "rgb(203,26,79)"
            ],
            [
             0.5647058823529412,
             "rgb(223,47,67)"
            ],
            [
             0.6274509803921569,
             "rgb(236,76,61)"
            ],
            [
             0.6901960784313725,
             "rgb(242,107,73)"
            ],
            [
             0.7529411764705882,
             "rgb(244,135,95)"
            ],
            [
             0.8156862745098039,
             "rgb(245,162,122)"
            ],
            [
             0.8784313725490196,
             "rgb(246,188,153)"
            ],
            [
             0.9411764705882353,
             "rgb(247,212,187)"
            ],
            [
             1.0,
             "rgb(250,234,220)"
            ]
           ]
          },
          "colorway": [
           "rgb(76,114,176)",
           "rgb(221,132,82)",
           "rgb(85,168,104)",
           "rgb(196,78,82)",
           "rgb(129,114,179)",
           "rgb(147,120,96)",
           "rgb(218,139,195)",
           "rgb(140,140,140)",
           "rgb(204,185,116)",
           "rgb(100,181,205)"
          ],
          "font": {
           "color": "rgb(36,36,36)"
          },
          "geo": {
           "bgcolor": "white",
           "lakecolor": "white",
           "landcolor": "rgb(234,234,242)",
           "showlakes": true,
           "showland": true,
           "subunitcolor": "white"
          },
          "hoverlabel": {
           "align": "left"
          },
          "hovermode": "closest",
          "paper_bgcolor": "white",
          "plot_bgcolor": "rgb(234,234,242)",
          "polar": {
           "angularaxis": {
            "gridcolor": "white",
            "linecolor": "white",
            "showgrid": true,
            "ticks": ""
           },
           "bgcolor": "rgb(234,234,242)",
           "radialaxis": {
            "gridcolor": "white",
            "linecolor": "white",
            "showgrid": true,
            "ticks": ""
           }
          },
          "scene": {
           "xaxis": {
            "backgroundcolor": "rgb(234,234,242)",
            "gridcolor": "white",
            "gridwidth": 2,
            "linecolor": "white",
            "showbackground": true,
            "showgrid": true,
            "ticks": "",
            "zerolinecolor": "white"
           },
           "yaxis": {
            "backgroundcolor": "rgb(234,234,242)",
            "gridcolor": "white",
            "gridwidth": 2,
            "linecolor": "white",
            "showbackground": true,
            "showgrid": true,
            "ticks": "",
            "zerolinecolor": "white"
           },
           "zaxis": {
            "backgroundcolor": "rgb(234,234,242)",
            "gridcolor": "white",
            "gridwidth": 2,
            "linecolor": "white",
            "showbackground": true,
            "showgrid": true,
            "ticks": "",
            "zerolinecolor": "white"
           }
          },
          "shapedefaults": {
           "fillcolor": "rgb(67,103,167)",
           "line": {
            "width": 0
           },
           "opacity": 0.5
          },
          "ternary": {
           "aaxis": {
            "gridcolor": "white",
            "linecolor": "white",
            "showgrid": true,
            "ticks": ""
           },
           "baxis": {
            "gridcolor": "white",
            "linecolor": "white",
            "showgrid": true,
            "ticks": ""
           },
           "bgcolor": "rgb(234,234,242)",
           "caxis": {
            "gridcolor": "white",
            "linecolor": "white",
            "showgrid": true,
            "ticks": ""
           }
          },
          "xaxis": {
           "automargin": true,
           "gridcolor": "white",
           "linecolor": "white",
           "showgrid": true,
           "ticks": "",
           "title": {
            "standoff": 15
           },
           "zerolinecolor": "white"
          },
          "yaxis": {
           "automargin": true,
           "gridcolor": "white",
           "linecolor": "white",
           "showgrid": true,
           "ticks": "",
           "title": {
            "standoff": 15
           },
           "zerolinecolor": "white"
          }
         }
        },
        "xaxis": {
         "anchor": "y",
         "domain": [
          0.0,
          1.0
         ],
         "title": {
          "text": "Кол-во заказов"
         }
        },
        "yaxis": {
         "anchor": "x",
         "domain": [
          0.0,
          1.0
         ],
         "title": {
          "text": "Сумма заказа"
         }
        },
        "legend": {
         "tracegroupgap": 0
        },
        "title": {
         "text": "Распределение суммы заказов пользователей"
        }
       },
       "config": {
        "plotlyServerURL": "https://plot.ly"
       }
      }
     },
     "metadata": {},
     "output_type": "display_data"
    }
   ],
   "source": [
    "fig = px.scatter(data_frame=orders,\n",
    "                 x=range(0, len(orders['revenue'])),\n",
    "                 y='revenue',\n",
    "                 template='seaborn',\n",
    "                 title='Распределение суммы заказов пользователей',\n",
    "                 labels={'revenue':'Сумма заказа',\n",
    "                         'x':'Кол-во заказов'})\n",
    "fig.show()"
   ]
  },
  {
   "cell_type": "code",
   "execution_count": 30,
   "metadata": {
    "pycharm": {
     "name": "#%%\n"
    }
   },
   "outputs": [
    {
     "name": "stdout",
     "output_type": "stream",
     "text": [
      "[28000.  58233.2]\n"
     ]
    }
   ],
   "source": [
    "print(np.percentile(orders['revenue'], [95,99]))"
   ]
  },
  {
   "cell_type": "markdown",
   "metadata": {
    "pycharm": {
     "name": "#%% md\n"
    }
   },
   "source": [
    "## Итоги анализа распределения суммы заказов пользователей ##\n",
    "1. 5% пользователей сделали заказ на сумму более 28 тыс. руб.\n",
    "2. 1% пользователей сделали заказ на сумму более 58 тыс. руб.\n",
    "3. для дальнейшего исследования будем считать аномальными заказы сумма которых превышает 58 тыс. руб."
   ]
  },
  {
   "cell_type": "markdown",
   "metadata": {
    "pycharm": {
     "name": "#%% md\n"
    }
   },
   "source": [
    "<div class=\"alert alert-success\">\n",
    "<font size=\"4\">👍 <b>Комментарий ревьюера v.1</b></font>\n",
    "    \n",
    "Хорошая визуализация и корректные расчеты перцентилей. Аномальные значения ты определил — можно переходить к проверке гипотез.</div>"
   ]
  },
  {
   "cell_type": "markdown",
   "metadata": {
    "pycharm": {
     "name": "#%% md\n"
    }
   },
   "source": [
    "<a id='abtest_stat_norm'></a>\n",
    "## Проверка нормальности распределения данных групп ##"
   ]
  },
  {
   "cell_type": "markdown",
   "metadata": {
    "pycharm": {
     "name": "#%% md\n"
    }
   },
   "source": [
    "<a id='abtest_stat_norm_conv_a'></a>\n",
    "### Проверка нормальности распределения кумулятивной конверсии группы А ###\n",
    "$H_0:$ кумулятивная конверсия группы А распределена нормально<br>\n",
    "$H_1:$ кумулятивная конверсия группы А распределена ненормально<br>\n",
    "Уровень статистической значимости: 0.05<br>"
   ]
  },
  {
   "cell_type": "code",
   "execution_count": 31,
   "metadata": {
    "pycharm": {
     "name": "#%%\n"
    }
   },
   "outputs": [
    {
     "name": "stdout",
     "output_type": "stream",
     "text": [
      "p-значение: 0.00003%\n",
      "Отвергаем нулевую гипотезу: распределение не нормально\n"
     ]
    }
   ],
   "source": [
    "alpha = 0.05  # критический уровень статистической значимости\n",
    "\n",
    "results = st.shapiro(merge_cum_conversion['conversionA'])\n",
    "p_value = results.pvalue\n",
    "\n",
    "print(f'p-значение: {p_value :0.5%}')\n",
    "\n",
    "if p_value < alpha:\n",
    "    print('Отвергаем нулевую гипотезу: распределение не нормально')\n",
    "else:\n",
    "    print('Не получилось отвергнуть нулевую гипотезу, всё нормально')"
   ]
  },
  {
   "cell_type": "markdown",
   "metadata": {
    "pycharm": {
     "name": "#%% md\n"
    }
   },
   "source": [
    "<a id = 'abtest_stat_norm_conv_b'></a>\n",
    "### Проверка нормальности распределения кумулятивной конверсии группы B ###\n",
    "$H_0:$ кумулятивная конверсия группы B распределена нормально<br>\n",
    "$H_1:$ кумулятивная конверсия группы B распределена ненормально<br>\n",
    "Уровень статистической значимости: 0.05<br>"
   ]
  },
  {
   "cell_type": "code",
   "execution_count": 32,
   "metadata": {
    "pycharm": {
     "name": "#%%\n"
    }
   },
   "outputs": [
    {
     "name": "stdout",
     "output_type": "stream",
     "text": [
      "p-значение: 63.32517%\n",
      "Не получилось отвергнуть нулевую гипотезу, всё нормально\n"
     ]
    }
   ],
   "source": [
    "\n",
    "alpha = 0.05  # критический уровень статистической значимости\n",
    "\n",
    "results = st.shapiro(merge_cum_conversion['conversionB'])\n",
    "p_value = results.pvalue\n",
    "\n",
    "print(f'p-значение: {p_value :0.5%}')\n",
    "\n",
    "if p_value < alpha:\n",
    "    print('Отвергаем нулевую гипотезу: распределение не нормально')\n",
    "else:\n",
    "    print('Не получилось отвергнуть нулевую гипотезу, всё нормально')"
   ]
  },
  {
   "cell_type": "markdown",
   "metadata": {
    "pycharm": {
     "name": "#%% md\n"
    }
   },
   "source": [
    "<a id='abtest_stat_norm_reciept_a'></a>\n",
    "### Проверка нормальности распределения кумулятивной средней суммы чека группы A ###\n",
    "$H_0:$ кумулятивная средняя сумма чека группы А распределена нормально<br>\n",
    "$H_1:$ кумулятивная средняя сумма чека группы А распределена ненормально<br>\n",
    "Уровень статистической значимости: 0.05<br>"
   ]
  },
  {
   "cell_type": "code",
   "execution_count": 33,
   "metadata": {
    "pycharm": {
     "name": "#%%\n"
    }
   },
   "outputs": [
    {
     "name": "stdout",
     "output_type": "stream",
     "text": [
      "p-значение: 19.39247%\n",
      "Не получилось отвергнуть нулевую гипотезу, всё нормально\n"
     ]
    }
   ],
   "source": [
    "alpha = 0.05  # критический уровень статистической значимости\n",
    "\n",
    "results = st.shapiro(merge_cum_revenue['revenueA'])\n",
    "p_value = results.pvalue\n",
    "\n",
    "print(f'p-значение: {p_value :0.5%}')\n",
    "\n",
    "if p_value < alpha:\n",
    "    print('Отвергаем нулевую гипотезу: распределение не нормально')\n",
    "else:\n",
    "    print('Не получилось отвергнуть нулевую гипотезу, всё нормально')"
   ]
  },
  {
   "cell_type": "markdown",
   "metadata": {
    "pycharm": {
     "name": "#%% md\n"
    }
   },
   "source": [
    "<a id='abtest_stat_norm_reciept_b'></a>\n",
    "### Проверка нормальности распределения кумулятивной средней суммы чека группы B ###\n",
    "$H_0:$ кумулятивная средняя сумма чека группы B распределена нормально<br>\n",
    "$H_1:$ кумулятивная средняя сумма чека группы B распределена ненормально<br>\n",
    "Уровень статистической значимости: 0.05<br>"
   ]
  },
  {
   "cell_type": "code",
   "execution_count": 34,
   "metadata": {
    "pycharm": {
     "name": "#%%\n"
    }
   },
   "outputs": [
    {
     "name": "stdout",
     "output_type": "stream",
     "text": [
      "p-значение: 1.03858%\n",
      "Отвергаем нулевую гипотезу: распределение не нормально\n"
     ]
    }
   ],
   "source": [
    "alpha = 0.05  # критический уровень статистической значимости\n",
    "\n",
    "results = st.shapiro(merge_cum_revenue['revenueB'])\n",
    "p_value = results.pvalue\n",
    "\n",
    "print(f'p-значение: {p_value :0.5%}')\n",
    "\n",
    "if p_value < alpha:\n",
    "    print('Отвергаем нулевую гипотезу: распределение не нормально')\n",
    "else:\n",
    "    print('Не получилось отвергнуть нулевую гипотезу, всё нормально')"
   ]
  },
  {
   "cell_type": "markdown",
   "metadata": {
    "pycharm": {
     "name": "#%% md\n"
    }
   },
   "source": [
    "## Итоги проверки нормальности распределения данных групп ##\n",
    "1. распределение кумулятивной конверсии группы А ненормально\n",
    "2. распределение кумулятивной средней суммы чека группы B ненормально\n",
    "3. для дальнейшего анализа различия конверсии групп необходимо использовать критерий Уилкоксона-Манна-Уитни\n",
    "4. для дальнейшего анализа различия средней суммы чека групп необходимо использовать критерий Уилкоксона-Манна-Уитни"
   ]
  },
  {
   "cell_type": "markdown",
   "metadata": {},
   "source": [
    "<div class=\"alert alert-success\">\n",
    "<font size=\"4\">👍 <b>Комментарий ревьюера v.2</b></font>\n",
    "    \n",
    "Молодец, что делаешь проверку на нормальность!\n",
    "</div>"
   ]
  },
  {
   "cell_type": "markdown",
   "metadata": {
    "pycharm": {
     "name": "#%% md\n"
    }
   },
   "source": [
    "<a id='abtest_prepare_data'></a>\n",
    "## Подготовка данных для теста Уилкоксона-Манна-Уитни ##"
   ]
  },
  {
   "cell_type": "markdown",
   "metadata": {
    "pycharm": {
     "name": "#%% md\n"
    }
   },
   "source": [
    "### Агрегированные данные пользователей группы А ###"
   ]
  },
  {
   "cell_type": "code",
   "execution_count": 35,
   "metadata": {
    "pycharm": {
     "name": "#%%\n"
    }
   },
   "outputs": [],
   "source": [
    "users_a = (orders[orders['group'] == 'A']\n",
    "                     .groupby('visitor_id', as_index=False)\n",
    "                     .agg({'transaction_id':pd.Series.nunique,\n",
    "                           'revenue':np.sum})\n",
    "                     )\n",
    "users_a.columns = ['user_id', 'orders', 'revenue']\n",
    "users_a['mean_reciept'] = users_a['revenue'] / users_a['orders']"
   ]
  },
  {
   "cell_type": "markdown",
   "metadata": {
    "pycharm": {
     "name": "#%% md\n"
    }
   },
   "source": [
    "### Агрегированные данные пользователей группы B ###"
   ]
  },
  {
   "cell_type": "code",
   "execution_count": 36,
   "metadata": {
    "pycharm": {
     "name": "#%%\n"
    }
   },
   "outputs": [],
   "source": [
    "users_b = (orders[orders['group'] == 'B']\n",
    "                     .groupby('visitor_id', as_index=False)\n",
    "                     .agg({'transaction_id':pd.Series.nunique,\n",
    "                           'revenue':np.sum})\n",
    "                     )\n",
    "users_b.columns = ['user_id', 'orders', 'revenue']\n",
    "users_b['mean_reciept'] = users_b['revenue'] / users_b['orders']"
   ]
  },
  {
   "cell_type": "markdown",
   "metadata": {
    "pycharm": {
     "name": "#%% md\n"
    }
   },
   "source": [
    "### Формирование данных для теста Уилкоксона-Манна-Уитни. Группа А ###"
   ]
  },
  {
   "cell_type": "code",
   "execution_count": 37,
   "metadata": {
    "pycharm": {
     "name": "#%%\n"
    }
   },
   "outputs": [],
   "source": [
    "sample_a = pd.concat(\n",
    "    [\n",
    "        users_a[['orders', 'revenue', 'mean_reciept']],\n",
    "        pd.DataFrame(data = {'orders':0,\n",
    "                             'revenue':0,\n",
    "                             'mean_reciept':0},\n",
    "                     index=np.arange(merge_cum_conversion['visitorsA'].sum() - len(users_a)))\n",
    "    ],\n",
    "    axis='index'\n",
    ")"
   ]
  },
  {
   "cell_type": "markdown",
   "metadata": {
    "pycharm": {
     "name": "#%% md\n"
    }
   },
   "source": [
    "### Формирование данных для теста Уилкоксона-Манна-Уитни. Группа B ###"
   ]
  },
  {
   "cell_type": "code",
   "execution_count": 38,
   "metadata": {
    "pycharm": {
     "name": "#%%\n"
    }
   },
   "outputs": [],
   "source": [
    "sample_b = pd.concat(\n",
    "    [\n",
    "        users_b[['orders', 'revenue', 'mean_reciept']],\n",
    "        pd.DataFrame(data = {'orders':0,\n",
    "                             'revenue':0,\n",
    "                             'mean_reciept':0},\n",
    "                     index=np.arange(merge_cum_conversion['visitorsB'].sum() - len(users_b)))\n",
    "    ],\n",
    "    axis='index'\n",
    ")"
   ]
  },
  {
   "cell_type": "markdown",
   "metadata": {
    "pycharm": {
     "name": "#%% md\n"
    }
   },
   "source": [
    "<div class=\"alert alert-success\">\n",
    "<font size=\"4\">👍 <b>Комментарий ревьюера v.1</b></font>\n",
    "\n",
    "Ты делаешь верные расчеты. </div>"
   ]
  },
  {
   "cell_type": "markdown",
   "metadata": {
    "pycharm": {
     "name": "#%% md\n"
    }
   },
   "source": [
    "<a id='abtest_abnormal_users'></a>\n",
    "### Обработка выбросов ###"
   ]
  },
  {
   "cell_type": "markdown",
   "metadata": {
    "pycharm": {
     "name": "#%% md\n"
    }
   },
   "source": [
    "<a id='abtest_abnormal_users_99'></a>\n",
    "#### Список пользователей 99-процентиля ####"
   ]
  },
  {
   "cell_type": "code",
   "execution_count": 39,
   "metadata": {
    "pycharm": {
     "name": "#%%\n"
    }
   },
   "outputs": [],
   "source": [
    "abnormal_users_99 = pd.concat(\n",
    "    [\n",
    "        users_a\n",
    "        [\n",
    "            np.logical_or(\n",
    "                users_a['orders'] > np.percentile(orders_by_users['orders'], [99])[0],\n",
    "                users_a['revenue'] > np.percentile(orders['revenue'], [99])[0]\n",
    "                          )\n",
    "        ],\n",
    "        users_b\n",
    "        [\n",
    "            np.logical_or\n",
    "            (\n",
    "                users_b['orders'] > np.percentile(orders_by_users['orders'], [99])[0],\n",
    "                users_b['revenue'] > np.percentile(orders['revenue'], [99])[0]\n",
    "            )\n",
    "        ]\n",
    "    ],\n",
    "    axis='index'\n",
    ").drop_duplicates()"
   ]
  },
  {
   "cell_type": "markdown",
   "metadata": {
    "pycharm": {
     "name": "#%% md\n"
    }
   },
   "source": [
    "<div class=\"alert alert-warning\">\n",
    "<font size=\"4\">📝 <b>Комментарий ревьюера v.1</b></font>\n",
    "\n",
    "Лучше не прописывать значения перцентилей вручную — так тебе нужно будет каждый раз при изменении исходных данных править код. Гораздо удобнее использовать переменные или непосредственно вычислять перцентили. </div>"
   ]
  },
  {
   "cell_type": "markdown",
   "metadata": {
    "pycharm": {
     "name": "#%% md\n"
    }
   },
   "source": [
    "<div class=\"alert alert-info\">\n",
    "<font size=\"4\"><b>Комментарий студента</b></font>\n",
    "Исправлено.\n",
    "</div>"
   ]
  },
  {
   "cell_type": "markdown",
   "metadata": {},
   "source": [
    "<div class=\"alert alert-success\">\n",
    "<font size=\"4\">👍 <b>Комментарий ревьюера v.2</b></font>\n",
    "    \n",
    "Супер!\n",
    "</div>"
   ]
  },
  {
   "cell_type": "markdown",
   "metadata": {
    "pycharm": {
     "name": "#%% md\n"
    }
   },
   "source": [
    "<a id='abtest_abnormal_users_95'></a>\n",
    "#### Список пользователей 95-процентиля ####"
   ]
  },
  {
   "cell_type": "code",
   "execution_count": 40,
   "metadata": {
    "pycharm": {
     "name": "#%%\n"
    }
   },
   "outputs": [],
   "source": [
    "abnormal_users_95 = pd.concat(\n",
    "    [\n",
    "        users_a\n",
    "        [\n",
    "            np.logical_or(\n",
    "                users_a['orders'] > np.percentile(orders_by_users['orders'], [95])[0],\n",
    "                users_a['revenue'] > np.percentile(orders['revenue'], [95])[0]\n",
    "                          )\n",
    "        ],\n",
    "        users_b\n",
    "        [\n",
    "            np.logical_or\n",
    "            (\n",
    "                users_b['orders'] > np.percentile(orders_by_users['orders'], [95])[0],\n",
    "                users_b['revenue'] > np.percentile(orders['revenue'], [95])[0]\n",
    "            )\n",
    "        ]\n",
    "    ],\n",
    "    axis='index'\n",
    ").drop_duplicates()"
   ]
  },
  {
   "cell_type": "markdown",
   "metadata": {
    "pycharm": {
     "name": "#%% md\n"
    }
   },
   "source": [
    "<a id='abtest_abnormal_users_99_del'></a>\n",
    "#### Удаление пользователей 99-процентиля ####"
   ]
  },
  {
   "cell_type": "code",
   "execution_count": 41,
   "metadata": {
    "pycharm": {
     "name": "#%%\n"
    }
   },
   "outputs": [],
   "source": [
    "users_a_filtered_99 = pd.concat(\n",
    "    [\n",
    "        users_a[np.logical_not(users_a['user_id'].isin(abnormal_users_99['user_id']))][['orders', 'revenue', 'mean_reciept']],\n",
    "        pd.DataFrame(data = {'orders':0,\n",
    "                             'revenue':0,\n",
    "                             'mean_reciept':0},\n",
    "                     index=np.arange(merge_cum_conversion['visitorsA'].sum() - len(users_a)))\n",
    "    ],\n",
    "    axis='index'\n",
    ")\n",
    "\n",
    "users_b_filtered_99 = pd.concat(\n",
    "    [\n",
    "        users_b[np.logical_not(users_b['user_id'].isin(abnormal_users_99['user_id']))][['orders', 'revenue', 'mean_reciept']],\n",
    "        pd.DataFrame(data = {'orders':0,\n",
    "                             'revenue':0,\n",
    "                             'mean_reciept':0},\n",
    "                     index=np.arange(merge_cum_conversion['visitorsB'].sum() - len(users_b)))\n",
    "    ],\n",
    "    axis='index'\n",
    ")"
   ]
  },
  {
   "cell_type": "markdown",
   "metadata": {
    "pycharm": {
     "name": "#%% md\n"
    }
   },
   "source": [
    "<a id='abtest_abnormal_users_95_del'></a>\n",
    "#### Удаление пользователей 95-процентиля ####"
   ]
  },
  {
   "cell_type": "code",
   "execution_count": 42,
   "metadata": {
    "pycharm": {
     "name": "#%%\n"
    }
   },
   "outputs": [],
   "source": [
    "users_a_filtered_95 = pd.concat(\n",
    "    [\n",
    "        users_a[np.logical_not(users_a['user_id'].isin(abnormal_users_95['user_id']))][['orders', 'revenue', 'mean_reciept']],\n",
    "        pd.DataFrame(data = {'orders':0,\n",
    "                             'revenue':0,\n",
    "                             'mean_reciept':0},\n",
    "                     index=np.arange(merge_cum_conversion['visitorsA'].sum() - len(users_a)))\n",
    "    ],\n",
    "    axis='index'\n",
    ")\n",
    "\n",
    "users_b_filtered_95 = pd.concat(\n",
    "    [\n",
    "        users_b[np.logical_not(users_b['user_id'].isin(abnormal_users_95['user_id']))][['orders', 'revenue', 'mean_reciept']],\n",
    "        pd.DataFrame(data = {'orders':0,\n",
    "                             'revenue':0,\n",
    "                             'mean_reciept':0},\n",
    "                     index=np.arange(merge_cum_conversion['visitorsB'].sum() - len(users_b)))\n",
    "    ],\n",
    "    axis='index'\n",
    ")\n"
   ]
  },
  {
   "cell_type": "markdown",
   "metadata": {
    "pycharm": {
     "name": "#%% md\n"
    }
   },
   "source": [
    "<div class=\"alert alert-danger\">\n",
    "<font size=\"4\">❌ <b>Комментарий ревьюера v.1</b></font>\n",
    "\n",
    "Перед проведением тестов важно сформулировать нулевую и альтернативную гипотезы. Ты можешь их сформулировать в общем виде или же конкретно для каждой проверки. Но важно, чтобы они были. Это позволяет произвести полный анализ: от гипотезы к выводам. И в рамках обучения мне важно увидеть, что у тебя с этим нет проблем. И не забудь зафиксировать уровень стат. значимости.</div>"
   ]
  },
  {
   "cell_type": "markdown",
   "metadata": {
    "pycharm": {
     "name": "#%% md\n"
    }
   },
   "source": [
    "<div class=\"alert alert-info\">\n",
    "<font size=\"4\"><b>Комментарий студента</b></font>\n",
    "Добавлено ниже.\n",
    "</div>"
   ]
  },
  {
   "cell_type": "markdown",
   "metadata": {},
   "source": [
    "<div class=\"alert alert-success\">\n",
    "<font size=\"4\">👍 <b>Комментарий ревьюера v.2</b></font>\n",
    "    \n",
    "Увидел — отлично!\n",
    "</div>"
   ]
  },
  {
   "cell_type": "markdown",
   "metadata": {
    "pycharm": {
     "name": "#%% md\n"
    }
   },
   "source": [
    "<a id='abtest_stat_conv'></a>\n",
    "## Анализ различия конверсии групп ##\n",
    "$H_0:$ конверсия групп одинакова<br>\n",
    "$H_1:$ конверсия групп различается<br>\n",
    "Уровень статистической значимости: 0.05<br>"
   ]
  },
  {
   "cell_type": "markdown",
   "metadata": {
    "pycharm": {
     "name": "#%% md\n"
    }
   },
   "source": [
    "<a id='abtest_stat_conv_raw'></a>\n",
    "### Анализ различия конверсии групп. Сырые данные ###"
   ]
  },
  {
   "cell_type": "code",
   "execution_count": 43,
   "metadata": {
    "pycharm": {
     "name": "#%%\n"
    }
   },
   "outputs": [
    {
     "name": "stdout",
     "output_type": "stream",
     "text": [
      "p_value: 1.465%\n",
      "Отвергаем нулевую гипотезу: разница статистически значима\n",
      "Относительное значение конверсии группы B: 14.370%\n"
     ]
    }
   ],
   "source": [
    "alpha = 0.05\n",
    "p_value = st.mannwhitneyu(sample_a[\"orders\"], sample_b[\"orders\"]).pvalue\n",
    "print(f'p_value: {p_value :0.3%}')\n",
    "if p_value < alpha:\n",
    "    print('Отвергаем нулевую гипотезу: разница статистически значима')\n",
    "else:\n",
    "    print('Не получилось отвергнуть нулевую гипотезу, вывод о различии сделать нельзя')\n",
    "\n",
    "print(f'Относительное значение конверсии группы B: {sample_b[\"orders\"].mean() / sample_a[\"orders\"].mean() - 1 :.3%}')"
   ]
  },
  {
   "cell_type": "markdown",
   "metadata": {
    "pycharm": {
     "name": "#%% md\n"
    }
   },
   "source": [
    "<div class=\"alert alert-danger\">\n",
    "<font size=\"4\">❌ <b>Комментарий ревьюера v.1\n",
    "    </b></font>\n",
    "\n",
    "Ты делаешь верные расчеты, но здесь также важно зафиксировать промежуточные выводы по проведенному стат. тесту о том удалось ли тебе отвергнуть нулевую гипотезу или нет, есть ли между величинами стат. значимые различия.</div>"
   ]
  },
  {
   "cell_type": "markdown",
   "metadata": {
    "pycharm": {
     "name": "#%% md\n"
    }
   },
   "source": [
    "<div class=\"alert alert-info\">\n",
    "<font size=\"4\"><b>Комментарий студента</b></font>\n",
    "Оформлено ниже в виде промежуточного вывода.\n",
    "</div>"
   ]
  },
  {
   "cell_type": "markdown",
   "metadata": {},
   "source": [
    "<div class=\"alert alert-success\">\n",
    "<font size=\"4\">👍 <b>Комментарий ревьюера v.2</b></font>\n",
    "    \n",
    "Через `if-else` тоже норм.\n",
    "</div>"
   ]
  },
  {
   "cell_type": "markdown",
   "metadata": {
    "pycharm": {
     "name": "#%% md\n"
    }
   },
   "source": [
    "<a id='abtest_stat_conv_99'></a>\n",
    "### Анализ различия конверсии групп. 99% пользователей ###"
   ]
  },
  {
   "cell_type": "code",
   "execution_count": 44,
   "metadata": {
    "pycharm": {
     "name": "#%%\n"
    }
   },
   "outputs": [
    {
     "name": "stdout",
     "output_type": "stream",
     "text": [
      "p_value: 1.038%\n",
      "Отвергаем нулевую гипотезу: разница статистически значима\n",
      "Относительное значение конверсии группы B: 16.475%\n"
     ]
    }
   ],
   "source": [
    "alpha = 0.05\n",
    "p_value = st.mannwhitneyu(users_a_filtered_99[\"orders\"], users_b_filtered_99[\"orders\"]).pvalue\n",
    "print(f'p_value: {p_value :0.3%}')\n",
    "if p_value < alpha:\n",
    "    print('Отвергаем нулевую гипотезу: разница статистически значима')\n",
    "else:\n",
    "    print('Не получилось отвергнуть нулевую гипотезу, вывод о различии сделать нельзя')\n",
    "\n",
    "print(f'Относительное значение конверсии группы B: {users_b_filtered_99[\"orders\"].mean() / users_a_filtered_99[\"orders\"].mean() - 1 :.3%}')"
   ]
  },
  {
   "cell_type": "markdown",
   "metadata": {
    "pycharm": {
     "name": "#%% md\n"
    }
   },
   "source": [
    "<a id='abtest_stat_conv_95'></a>\n",
    "### Анализ различия конверсии групп. 95% пользователей ###"
   ]
  },
  {
   "cell_type": "code",
   "execution_count": 45,
   "metadata": {
    "pycharm": {
     "name": "#%%\n"
    }
   },
   "outputs": [
    {
     "name": "stdout",
     "output_type": "stream",
     "text": [
      "p_value: 0.927%\n",
      "Отвергаем нулевую гипотезу: разница статистически значима\n",
      "Относительное значение конверсии группы B: 18.803%\n"
     ]
    }
   ],
   "source": [
    "alpha = 0.05\n",
    "p_value = st.mannwhitneyu(users_a_filtered_95[\"orders\"], users_b_filtered_95[\"orders\"]).pvalue\n",
    "print(f'p_value: {p_value :0.3%}')\n",
    "if p_value < alpha:\n",
    "    print('Отвергаем нулевую гипотезу: разница статистически значима')\n",
    "else:\n",
    "    print('Не получилось отвергнуть нулевую гипотезу, вывод о различии сделать нельзя')\n",
    "\n",
    "print(f'Относительное значение конверсии группы B: {users_b_filtered_95[\"orders\"].mean() / users_a_filtered_95[\"orders\"].mean() - 1 :.3%}')"
   ]
  },
  {
   "cell_type": "markdown",
   "metadata": {
    "pycharm": {
     "name": "#%% md\n"
    }
   },
   "source": [
    "## Итоги анализа различия конверсии групп ##\n",
    "1. Различие конверсии групп статистически значимо на сырых и очищенных данных.\n",
    "   Рост средней конверсии группы B составил:\n",
    "   - сырые данные: 14.37%\n",
    "   - 99% пользоватлей: 16.475%\n",
    "   - 95% пользователей: 18.803%"
   ]
  },
  {
   "cell_type": "markdown",
   "metadata": {
    "pycharm": {
     "name": "#%% md\n"
    }
   },
   "source": [
    "<div class=\"alert alert-success\">\n",
    "<font size=\"4\">👍 <b>Комментарий ревьюера v.1</b></font>\n",
    "\n",
    "Молодец, что пробуешь разные варианты фильтрации данных, хотя вполне достаточно было взять 95-й перцентиль.</div>"
   ]
  },
  {
   "cell_type": "markdown",
   "metadata": {
    "pycharm": {
     "name": "#%% md\n"
    }
   },
   "source": [
    "<div class=\"alert alert-danger\">\n",
    "<font size=\"4\">❌ <b>Комментарий ревьюера v.1</b></font>\n",
    "\n",
    "Не хватает формулировки выводов по результатам стат. тестов на очищенных данных.</div>"
   ]
  },
  {
   "cell_type": "markdown",
   "metadata": {
    "pycharm": {
     "name": "#%% md\n"
    }
   },
   "source": [
    "<div class=\"alert alert-info\">\n",
    "<font size=\"4\"><b>Комментарий студента</b></font>\n",
    "Добавлено.\n",
    "</div>"
   ]
  },
  {
   "cell_type": "markdown",
   "metadata": {},
   "source": [
    "<div class=\"alert alert-success\">\n",
    "<font size=\"4\">👍 <b>Комментарий ревьюера v.2</b></font>\n",
    "    \n",
    "Ты делаешь верные выводы.\n",
    "</div>"
   ]
  },
  {
   "cell_type": "markdown",
   "metadata": {
    "pycharm": {
     "name": "#%% md\n"
    }
   },
   "source": [
    "<a id='abtest_stat_reciept'></a>\n",
    "## Анализ различия суммы чека групп ##\n",
    "$H_0:$ сумма чека групп одинакова<br>\n",
    "$H_1:$ сумма чека групп различается<br>\n",
    "Уровень статистической значимости: 0.05<br>"
   ]
  },
  {
   "cell_type": "markdown",
   "metadata": {
    "pycharm": {
     "name": "#%% md\n"
    }
   },
   "source": [
    "<a id='abtest_stat_reciept_raw'></a>\n",
    "### Анализ различия суммы чека групп. Сырые данные ###"
   ]
  },
  {
   "cell_type": "code",
   "execution_count": 46,
   "metadata": {
    "pycharm": {
     "name": "#%%\n"
    }
   },
   "outputs": [
    {
     "name": "stdout",
     "output_type": "stream",
     "text": [
      "p_value: 72.929%\n",
      "Не получилось отвергнуть нулевую гипотезу, вывод о различии сделать нельзя\n",
      "Относительное значение суммы чека группы B: 25.871%\n"
     ]
    }
   ],
   "source": [
    "alpha = 0.05\n",
    "revenue_a = orders[orders['group'] == 'A'][\"revenue\"]\n",
    "revenue_b = orders[orders['group'] == 'B'][\"revenue\"]\n",
    "p_value = st.mannwhitneyu(revenue_a, revenue_b).pvalue\n",
    "print(f'p_value: {p_value :0.3%}')\n",
    "if p_value < alpha:\n",
    "    print('Отвергаем нулевую гипотезу: разница статистически значима')\n",
    "else:\n",
    "    print('Не получилось отвергнуть нулевую гипотезу, вывод о различии сделать нельзя')\n",
    "\n",
    "print(f'Относительное значение суммы чека группы B: {revenue_b.mean() / revenue_a.mean() - 1 :.3%}')"
   ]
  },
  {
   "cell_type": "markdown",
   "metadata": {
    "pycharm": {
     "name": "#%% md\n"
    }
   },
   "source": [
    "<div class=\"alert alert-danger\">\n",
    "<font size=\"4\">❌ <b>Комментарий ревьюера v.1</b></font>\n",
    "\n",
    "В данном случае речь идет о среднем чеке выборки заказов, а не о выборке из средних чеков пользователей. И добавь, пожалуйста, вывод.</div>"
   ]
  },
  {
   "cell_type": "markdown",
   "metadata": {},
   "source": [
    "<div class=\"alert alert-danger\">\n",
    "<font size=\"4\">❌ <b>Комментарий ревьюера v.2</b></font>\n",
    "\n",
    "Теперь ты использовал выборку из сумм покупок агрегированных по пользователям, но при таком подходе у тебя может очень сильно отличаться средний чек групп. Например, в одной группе будут пользователи с десятью покупками по рублю, а во второй с одной покупкой по 10 рублей. Для таких групп сумма покупок по пользователям будет одинаковой, а средний чек будет сильно отличаться. Чтобы сравнить средние чеки групп нужно использовать неагрегированные данные по суммам покупок. </div>"
   ]
  },
  {
   "cell_type": "markdown",
   "source": [
    "<div class=\"alert alert-info\">\n",
    "<font size=\"4\"><b>Комментарий студента v.2</b></font>\n",
    "Исправлено.\n",
    "</div>"
   ],
   "metadata": {
    "collapsed": false,
    "pycharm": {
     "name": "#%% md\n"
    }
   }
  },
  {
   "cell_type": "markdown",
   "metadata": {
    "pycharm": {
     "name": "#%% md\n"
    }
   },
   "source": [
    "<a id='abtest_stat_reciept_99'></a>\n",
    "### Анализ различия суммы чека групп. 99% пользователей ###"
   ]
  },
  {
   "cell_type": "code",
   "execution_count": 47,
   "metadata": {
    "pycharm": {
     "name": "#%%\n"
    }
   },
   "outputs": [
    {
     "name": "stdout",
     "output_type": "stream",
     "text": [
      "p_value: 70.539%\n",
      "Не получилось отвергнуть нулевую гипотезу, вывод о различии сделать нельзя\n",
      "Относительное значение суммы чека группы B: 2.154%\n"
     ]
    }
   ],
   "source": [
    "alpha = 0.05\n",
    "revenue_a = orders[np.logical_and(orders['group'] == 'A',\n",
    "                                  ~orders['visitor_id'].isin(abnormal_users_99['user_id']))][\"revenue\"]\n",
    "revenue_b = orders[np.logical_and(orders['group'] == 'B',\n",
    "                                  ~orders['visitor_id'].isin(abnormal_users_99['user_id']))][\"revenue\"]\n",
    "p_value = st.mannwhitneyu(revenue_a, revenue_b).pvalue\n",
    "print(f'p_value: {p_value :0.3%}')\n",
    "if p_value < alpha:\n",
    "    print('Отвергаем нулевую гипотезу: разница статистически значима')\n",
    "else:\n",
    "    print('Не получилось отвергнуть нулевую гипотезу, вывод о различии сделать нельзя')\n",
    "\n",
    "print(f'Относительное значение суммы чека группы B: {revenue_b.mean() / revenue_a.mean() - 1 :.3%}')"
   ]
  },
  {
   "cell_type": "markdown",
   "metadata": {
    "pycharm": {
     "name": "#%% md\n"
    }
   },
   "source": [
    "<a id='abtest_stat_reciept_95'></a>\n",
    "### Анализ различия суммы чека групп. 95% пользователей ###"
   ]
  },
  {
   "cell_type": "code",
   "execution_count": 48,
   "metadata": {
    "pycharm": {
     "name": "#%%\n"
    },
    "scrolled": true
   },
   "outputs": [
    {
     "name": "stdout",
     "output_type": "stream",
     "text": [
      "p_value: 84.903%\n",
      "Не получилось отвергнуть нулевую гипотезу, вывод о различии сделать нельзя\n",
      "Относительное значение суммы чека группы B: -1.279%\n"
     ]
    }
   ],
   "source": [
    "alpha = 0.05\n",
    "revenue_a = orders[np.logical_and(orders['group'] == 'A',\n",
    "                                  ~orders['visitor_id'].isin(abnormal_users_95['user_id']))][\"revenue\"]\n",
    "revenue_b = orders[np.logical_and(orders['group'] == 'B',\n",
    "                                  ~orders['visitor_id'].isin(abnormal_users_95['user_id']))][\"revenue\"]\n",
    "p_value = st.mannwhitneyu(revenue_a, revenue_b).pvalue\n",
    "print(f'p_value: {p_value :0.3%}')\n",
    "if p_value < alpha:\n",
    "    print('Отвергаем нулевую гипотезу: разница статистически значима')\n",
    "else:\n",
    "    print('Не получилось отвергнуть нулевую гипотезу, вывод о различии сделать нельзя')\n",
    "\n",
    "print(f'Относительное значение суммы чека группы B: {revenue_b.mean() / revenue_a.mean() - 1 :.3%}')"
   ]
  },
  {
   "cell_type": "markdown",
   "metadata": {
    "pycharm": {
     "name": "#%% md\n"
    }
   },
   "source": [
    "## Итоги анализа различия суммы чеков групп ##\n",
    "1. Различие в сумме чеков групп не имеет статистического значения.\n",
    "   Рост средней суммы чека группы B составил:\n",
    "   - сырые данные: 25.871%\n",
    "   - 99% пользоватлей: 2.154%\n",
    "   - 95% пользователей: -1.279%"
   ]
  },
  {
   "cell_type": "markdown",
   "metadata": {
    "pycharm": {
     "name": "#%% md\n"
    }
   },
   "source": [
    "<div class=\"alert alert-danger\">\n",
    "<font size=\"4\">❌ <b>Комментарий ревьюера v.1</b></font>\n",
    "\n",
    "Здесь тоже нужно использовать выборки стоимости заказов. И также не хватает промежуточных выводов.</div>"
   ]
  },
  {
   "cell_type": "markdown",
   "metadata": {
    "pycharm": {
     "name": "#%% md\n"
    }
   },
   "source": [
    "<div class=\"alert alert-info\">\n",
    "<font size=\"4\"><b>Комментарий студента</b></font>\n",
    "Добавлено.\n",
    "</div>"
   ]
  },
  {
   "cell_type": "markdown",
   "metadata": {},
   "source": [
    "<div class=\"alert alert-danger\">\n",
    "<font size=\"4\">❌ <b>Комментарий ревьюера v.2</b></font>\n",
    "\n",
    "Выводы на месте, но расчет нужно поправить.</div>"
   ]
  },
  {
   "cell_type": "markdown",
   "source": [
    "<div class=\"alert alert-info\">\n",
    "<font size=\"4\"><b>Комментарий студента v.2</b></font>\n",
    "Исправлено.\n",
    "</div>"
   ],
   "metadata": {
    "collapsed": false,
    "pycharm": {
     "name": "#%% md\n"
    }
   }
  },
  {
   "cell_type": "markdown",
   "metadata": {
    "pycharm": {
     "name": "#%% md\n"
    }
   },
   "source": [
    "<a id='summary'></a>\n",
    "# Вывод #\n",
    "Основываясь на результатах проведенного исследования признать сделанные изменения:\n",
    " - увеличения конверсии: признать успешными.\n",
    "   Относительный рост конверсии в группе B составил:\n",
    "   - сырые данные: 14.37%\n",
    "   - 99% пользоватлей: 16.475%\n",
    "   - 95% пользователей: 18.803%\n",
    " - увеление средней суммы чека: признать безуспешными.\n",
    "   Относительный рост средней суммы чека в группе B составил:\n",
    "   - сырые данные: 25.871%\n",
    "   - 99% пользоватлей: 2.154%\n",
    "   - 95% пользователей: -1.279%\n",
    "\n",
    "и остановить тестирование."
   ]
  },
  {
   "cell_type": "markdown",
   "metadata": {
    "pycharm": {
     "name": "#%% md\n"
    }
   },
   "source": [
    "<div class=\"alert alert-danger\">\n",
    "<font size=\"4\">❌ <b>Комментарий ревьюера v.1</b></font>\n",
    "\n",
    "Сформулируй, пожалуйста, промежуточные выводы по каждому проведенному тобой стат. тесту и затем переходи к принятию решения.</div>"
   ]
  },
  {
   "cell_type": "markdown",
   "metadata": {
    "pycharm": {
     "name": "#%% md\n"
    }
   },
   "source": [
    "<div class=\"alert alert-info\">\n",
    "<font size=\"4\"><b>Комментарий студента</b></font>\n",
    "Исправлено.\n",
    "</div>"
   ]
  },
  {
   "cell_type": "markdown",
   "metadata": {},
   "source": [
    "<div class=\"alert alert-danger\">\n",
    "<font size=\"4\">❌ <b>Комментарий ревьюера v.2</b></font>\n",
    "\n",
    "Дорабатываем промежуточные выводы.</div>"
   ]
  },
  {
   "cell_type": "markdown",
   "source": [
    "<div class=\"alert alert-info\">\n",
    "<font size=\"4\"><b>Комментарий студента v.2</b></font>\n",
    "Исправлено.\n",
    "</div>"
   ],
   "metadata": {
    "collapsed": false,
    "pycharm": {
     "name": "#%% md\n"
    }
   }
  }
 ],
 "metadata": {
  "ExecuteTimeLog": [
   {
    "duration": 559,
    "start_time": "2022-03-28T17:10:39.985Z"
   },
   {
    "duration": 0,
    "start_time": "2022-03-28T17:10:40.548Z"
   },
   {
    "duration": 0,
    "start_time": "2022-03-28T17:10:40.550Z"
   },
   {
    "duration": 0,
    "start_time": "2022-03-28T17:10:40.551Z"
   },
   {
    "duration": 0,
    "start_time": "2022-03-28T17:10:40.552Z"
   },
   {
    "duration": 0,
    "start_time": "2022-03-28T17:10:40.553Z"
   },
   {
    "duration": 0,
    "start_time": "2022-03-28T17:10:40.554Z"
   },
   {
    "duration": 0,
    "start_time": "2022-03-28T17:10:40.556Z"
   },
   {
    "duration": 0,
    "start_time": "2022-03-28T17:10:40.557Z"
   },
   {
    "duration": 0,
    "start_time": "2022-03-28T17:10:40.558Z"
   },
   {
    "duration": 0,
    "start_time": "2022-03-28T17:10:40.559Z"
   },
   {
    "duration": 0,
    "start_time": "2022-03-28T17:10:40.560Z"
   },
   {
    "duration": 0,
    "start_time": "2022-03-28T17:10:40.561Z"
   },
   {
    "duration": 0,
    "start_time": "2022-03-28T17:10:40.562Z"
   },
   {
    "duration": 0,
    "start_time": "2022-03-28T17:10:40.563Z"
   },
   {
    "duration": 0,
    "start_time": "2022-03-28T17:10:40.564Z"
   },
   {
    "duration": 0,
    "start_time": "2022-03-28T17:10:40.566Z"
   },
   {
    "duration": 0,
    "start_time": "2022-03-28T17:10:40.567Z"
   },
   {
    "duration": 0,
    "start_time": "2022-03-28T17:10:40.568Z"
   },
   {
    "duration": 0,
    "start_time": "2022-03-28T17:10:40.569Z"
   },
   {
    "duration": 0,
    "start_time": "2022-03-28T17:10:40.570Z"
   },
   {
    "duration": 0,
    "start_time": "2022-03-28T17:10:40.571Z"
   },
   {
    "duration": 0,
    "start_time": "2022-03-28T17:10:40.573Z"
   },
   {
    "duration": 0,
    "start_time": "2022-03-28T17:10:40.574Z"
   },
   {
    "duration": 0,
    "start_time": "2022-03-28T17:10:40.576Z"
   },
   {
    "duration": 0,
    "start_time": "2022-03-28T17:10:40.577Z"
   },
   {
    "duration": 0,
    "start_time": "2022-03-28T17:10:40.579Z"
   },
   {
    "duration": 0,
    "start_time": "2022-03-28T17:10:40.580Z"
   },
   {
    "duration": 0,
    "start_time": "2022-03-28T17:10:40.581Z"
   },
   {
    "duration": 0,
    "start_time": "2022-03-28T17:10:40.582Z"
   },
   {
    "duration": 0,
    "start_time": "2022-03-28T17:10:40.584Z"
   },
   {
    "duration": 0,
    "start_time": "2022-03-28T17:10:40.585Z"
   },
   {
    "duration": 0,
    "start_time": "2022-03-28T17:10:40.643Z"
   },
   {
    "duration": 0,
    "start_time": "2022-03-28T17:10:40.645Z"
   },
   {
    "duration": 0,
    "start_time": "2022-03-28T17:10:40.646Z"
   },
   {
    "duration": 0,
    "start_time": "2022-03-28T17:10:40.649Z"
   },
   {
    "duration": 0,
    "start_time": "2022-03-28T17:10:40.650Z"
   },
   {
    "duration": 0,
    "start_time": "2022-03-28T17:10:40.652Z"
   },
   {
    "duration": 0,
    "start_time": "2022-03-28T17:10:40.653Z"
   },
   {
    "duration": 0,
    "start_time": "2022-03-28T17:10:40.655Z"
   },
   {
    "duration": 0,
    "start_time": "2022-03-28T17:10:40.656Z"
   },
   {
    "duration": 0,
    "start_time": "2022-03-28T17:10:40.658Z"
   },
   {
    "duration": 0,
    "start_time": "2022-03-28T17:10:40.659Z"
   },
   {
    "duration": 0,
    "start_time": "2022-03-28T17:10:40.660Z"
   },
   {
    "duration": 0,
    "start_time": "2022-03-28T17:10:40.662Z"
   },
   {
    "duration": 70,
    "start_time": "2022-03-28T17:16:17.280Z"
   },
   {
    "duration": 608,
    "start_time": "2022-03-28T17:16:39.571Z"
   },
   {
    "duration": 1,
    "start_time": "2022-03-28T17:16:40.183Z"
   },
   {
    "duration": 0,
    "start_time": "2022-03-28T17:16:40.186Z"
   },
   {
    "duration": 0,
    "start_time": "2022-03-28T17:16:40.187Z"
   },
   {
    "duration": 0,
    "start_time": "2022-03-28T17:16:40.189Z"
   },
   {
    "duration": 0,
    "start_time": "2022-03-28T17:16:40.190Z"
   },
   {
    "duration": 0,
    "start_time": "2022-03-28T17:16:40.191Z"
   },
   {
    "duration": 0,
    "start_time": "2022-03-28T17:16:40.192Z"
   },
   {
    "duration": 0,
    "start_time": "2022-03-28T17:16:40.194Z"
   },
   {
    "duration": 0,
    "start_time": "2022-03-28T17:16:40.195Z"
   },
   {
    "duration": 0,
    "start_time": "2022-03-28T17:16:40.196Z"
   },
   {
    "duration": 0,
    "start_time": "2022-03-28T17:16:40.197Z"
   },
   {
    "duration": 0,
    "start_time": "2022-03-28T17:16:40.198Z"
   },
   {
    "duration": 0,
    "start_time": "2022-03-28T17:16:40.199Z"
   },
   {
    "duration": 0,
    "start_time": "2022-03-28T17:16:40.200Z"
   },
   {
    "duration": 0,
    "start_time": "2022-03-28T17:16:40.201Z"
   },
   {
    "duration": 0,
    "start_time": "2022-03-28T17:16:40.202Z"
   },
   {
    "duration": 0,
    "start_time": "2022-03-28T17:16:40.203Z"
   },
   {
    "duration": 0,
    "start_time": "2022-03-28T17:16:40.204Z"
   },
   {
    "duration": 0,
    "start_time": "2022-03-28T17:16:40.206Z"
   },
   {
    "duration": 0,
    "start_time": "2022-03-28T17:16:40.243Z"
   },
   {
    "duration": 0,
    "start_time": "2022-03-28T17:16:40.244Z"
   },
   {
    "duration": 0,
    "start_time": "2022-03-28T17:16:40.245Z"
   },
   {
    "duration": 0,
    "start_time": "2022-03-28T17:16:40.246Z"
   },
   {
    "duration": 0,
    "start_time": "2022-03-28T17:16:40.247Z"
   },
   {
    "duration": 0,
    "start_time": "2022-03-28T17:16:40.248Z"
   },
   {
    "duration": 0,
    "start_time": "2022-03-28T17:16:40.249Z"
   },
   {
    "duration": 0,
    "start_time": "2022-03-28T17:16:40.251Z"
   },
   {
    "duration": 0,
    "start_time": "2022-03-28T17:16:40.251Z"
   },
   {
    "duration": 0,
    "start_time": "2022-03-28T17:16:40.252Z"
   },
   {
    "duration": 0,
    "start_time": "2022-03-28T17:16:40.253Z"
   },
   {
    "duration": 0,
    "start_time": "2022-03-28T17:16:40.254Z"
   },
   {
    "duration": 0,
    "start_time": "2022-03-28T17:16:40.256Z"
   },
   {
    "duration": 0,
    "start_time": "2022-03-28T17:16:40.257Z"
   },
   {
    "duration": 0,
    "start_time": "2022-03-28T17:16:40.258Z"
   },
   {
    "duration": 0,
    "start_time": "2022-03-28T17:16:40.259Z"
   },
   {
    "duration": 0,
    "start_time": "2022-03-28T17:16:40.260Z"
   },
   {
    "duration": 0,
    "start_time": "2022-03-28T17:16:40.261Z"
   },
   {
    "duration": 0,
    "start_time": "2022-03-28T17:16:40.262Z"
   },
   {
    "duration": 0,
    "start_time": "2022-03-28T17:16:40.264Z"
   },
   {
    "duration": 0,
    "start_time": "2022-03-28T17:16:40.265Z"
   },
   {
    "duration": 0,
    "start_time": "2022-03-28T17:16:40.266Z"
   },
   {
    "duration": 0,
    "start_time": "2022-03-28T17:16:40.267Z"
   },
   {
    "duration": 0,
    "start_time": "2022-03-28T17:16:40.268Z"
   },
   {
    "duration": 0,
    "start_time": "2022-03-28T17:16:40.270Z"
   },
   {
    "duration": 12,
    "start_time": "2022-03-28T17:17:04.580Z"
   },
   {
    "duration": 11,
    "start_time": "2022-03-28T17:17:05.439Z"
   },
   {
    "duration": 1596,
    "start_time": "2022-03-28T17:17:30.265Z"
   },
   {
    "duration": 71,
    "start_time": "2022-03-28T17:17:31.865Z"
   },
   {
    "duration": 22,
    "start_time": "2022-03-28T17:17:31.939Z"
   },
   {
    "duration": 19,
    "start_time": "2022-03-28T17:17:31.965Z"
   },
   {
    "duration": 28,
    "start_time": "2022-03-28T17:17:31.987Z"
   },
   {
    "duration": 20,
    "start_time": "2022-03-28T17:17:32.043Z"
   },
   {
    "duration": 26,
    "start_time": "2022-03-28T17:17:32.066Z"
   },
   {
    "duration": 17,
    "start_time": "2022-03-28T17:17:32.095Z"
   },
   {
    "duration": 29,
    "start_time": "2022-03-28T17:17:32.114Z"
   },
   {
    "duration": 12,
    "start_time": "2022-03-28T17:17:32.148Z"
   },
   {
    "duration": 19,
    "start_time": "2022-03-28T17:17:32.163Z"
   },
   {
    "duration": 25,
    "start_time": "2022-03-28T17:17:32.185Z"
   },
   {
    "duration": 20,
    "start_time": "2022-03-28T17:17:32.212Z"
   },
   {
    "duration": 19,
    "start_time": "2022-03-28T17:17:32.243Z"
   },
   {
    "duration": 9,
    "start_time": "2022-03-28T17:17:32.265Z"
   },
   {
    "duration": 327,
    "start_time": "2022-03-28T17:17:32.276Z"
   },
   {
    "duration": 214,
    "start_time": "2022-03-28T17:17:32.606Z"
   },
   {
    "duration": 28,
    "start_time": "2022-03-28T17:17:32.822Z"
   },
   {
    "duration": 790,
    "start_time": "2022-03-28T17:17:32.852Z"
   },
   {
    "duration": 136,
    "start_time": "2022-03-28T17:17:33.644Z"
   },
   {
    "duration": 68,
    "start_time": "2022-03-28T17:17:33.782Z"
   },
   {
    "duration": 102,
    "start_time": "2022-03-28T17:17:33.852Z"
   },
   {
    "duration": 114,
    "start_time": "2022-03-28T17:17:33.956Z"
   },
   {
    "duration": 20,
    "start_time": "2022-03-28T17:17:34.072Z"
   },
   {
    "duration": 102,
    "start_time": "2022-03-28T17:17:34.095Z"
   },
   {
    "duration": 265,
    "start_time": "2022-03-28T17:17:34.200Z"
   },
   {
    "duration": 14,
    "start_time": "2022-03-28T17:17:34.468Z"
   },
   {
    "duration": 118,
    "start_time": "2022-03-28T17:17:34.489Z"
   },
   {
    "duration": 6,
    "start_time": "2022-03-28T17:17:34.609Z"
   },
   {
    "duration": 101,
    "start_time": "2022-03-28T17:17:34.617Z"
   },
   {
    "duration": 6,
    "start_time": "2022-03-28T17:17:34.720Z"
   },
   {
    "duration": 170,
    "start_time": "2022-03-28T17:17:34.728Z"
   },
   {
    "duration": 185,
    "start_time": "2022-03-28T17:17:34.900Z"
   },
   {
    "duration": 21,
    "start_time": "2022-03-28T17:17:35.087Z"
   },
   {
    "duration": 44,
    "start_time": "2022-03-28T17:17:35.110Z"
   },
   {
    "duration": 13,
    "start_time": "2022-03-28T17:17:35.156Z"
   },
   {
    "duration": 14,
    "start_time": "2022-03-28T17:17:35.172Z"
   },
   {
    "duration": 58,
    "start_time": "2022-03-28T17:17:35.189Z"
   },
   {
    "duration": 34,
    "start_time": "2022-03-28T17:17:35.249Z"
   },
   {
    "duration": 482,
    "start_time": "2022-03-28T17:17:35.286Z"
   },
   {
    "duration": 464,
    "start_time": "2022-03-28T17:17:35.771Z"
   },
   {
    "duration": 781,
    "start_time": "2022-03-28T17:17:36.244Z"
   },
   {
    "duration": 803,
    "start_time": "2022-03-28T17:17:37.028Z"
   },
   {
    "duration": 812,
    "start_time": "2022-03-28T17:17:37.834Z"
   },
   {
    "duration": 464,
    "start_time": "2022-03-28T17:17:38.649Z"
   },
   {
    "duration": 214,
    "start_time": "2022-03-28T17:21:53.889Z"
   },
   {
    "duration": 1158,
    "start_time": "2022-03-28T17:24:06.768Z"
   },
   {
    "duration": 68,
    "start_time": "2022-03-28T17:24:07.928Z"
   },
   {
    "duration": 22,
    "start_time": "2022-03-28T17:24:07.998Z"
   },
   {
    "duration": 15,
    "start_time": "2022-03-28T17:24:08.023Z"
   },
   {
    "duration": 23,
    "start_time": "2022-03-28T17:24:08.040Z"
   },
   {
    "duration": 15,
    "start_time": "2022-03-28T17:24:08.065Z"
   },
   {
    "duration": 14,
    "start_time": "2022-03-28T17:24:08.082Z"
   },
   {
    "duration": 45,
    "start_time": "2022-03-28T17:24:08.098Z"
   },
   {
    "duration": 8,
    "start_time": "2022-03-28T17:24:08.145Z"
   },
   {
    "duration": 8,
    "start_time": "2022-03-28T17:24:08.157Z"
   },
   {
    "duration": 9,
    "start_time": "2022-03-28T17:24:08.167Z"
   },
   {
    "duration": 21,
    "start_time": "2022-03-28T17:24:08.178Z"
   },
   {
    "duration": 15,
    "start_time": "2022-03-28T17:24:08.201Z"
   },
   {
    "duration": 18,
    "start_time": "2022-03-28T17:24:08.242Z"
   },
   {
    "duration": 9,
    "start_time": "2022-03-28T17:24:08.262Z"
   },
   {
    "duration": 325,
    "start_time": "2022-03-28T17:24:08.273Z"
   },
   {
    "duration": 220,
    "start_time": "2022-03-28T17:24:08.600Z"
   },
   {
    "duration": 26,
    "start_time": "2022-03-28T17:24:08.823Z"
   },
   {
    "duration": 670,
    "start_time": "2022-03-28T17:24:08.852Z"
   },
   {
    "duration": 161,
    "start_time": "2022-03-28T17:24:09.524Z"
   },
   {
    "duration": 62,
    "start_time": "2022-03-28T17:24:09.687Z"
   },
   {
    "duration": 109,
    "start_time": "2022-03-28T17:24:09.752Z"
   },
   {
    "duration": 101,
    "start_time": "2022-03-28T17:24:09.863Z"
   },
   {
    "duration": 18,
    "start_time": "2022-03-28T17:24:09.966Z"
   },
   {
    "duration": 101,
    "start_time": "2022-03-28T17:24:09.986Z"
   },
   {
    "duration": 275,
    "start_time": "2022-03-28T17:24:10.089Z"
   },
   {
    "duration": 13,
    "start_time": "2022-03-28T17:24:10.366Z"
   },
   {
    "duration": 109,
    "start_time": "2022-03-28T17:24:10.385Z"
   },
   {
    "duration": 6,
    "start_time": "2022-03-28T17:24:10.496Z"
   },
   {
    "duration": 107,
    "start_time": "2022-03-28T17:24:10.504Z"
   },
   {
    "duration": 6,
    "start_time": "2022-03-28T17:24:10.613Z"
   },
   {
    "duration": 147,
    "start_time": "2022-03-28T17:24:10.621Z"
   },
   {
    "duration": 178,
    "start_time": "2022-03-28T17:24:10.771Z"
   },
   {
    "duration": 19,
    "start_time": "2022-03-28T17:24:10.951Z"
   },
   {
    "duration": 19,
    "start_time": "2022-03-28T17:24:10.973Z"
   },
   {
    "duration": 18,
    "start_time": "2022-03-28T17:24:10.995Z"
   },
   {
    "duration": 29,
    "start_time": "2022-03-28T17:24:11.016Z"
   },
   {
    "duration": 52,
    "start_time": "2022-03-28T17:24:11.048Z"
   },
   {
    "duration": 33,
    "start_time": "2022-03-28T17:24:11.102Z"
   },
   {
    "duration": 452,
    "start_time": "2022-03-28T17:24:11.143Z"
   },
   {
    "duration": 460,
    "start_time": "2022-03-28T17:24:11.597Z"
   },
   {
    "duration": 511,
    "start_time": "2022-03-28T17:24:12.059Z"
   },
   {
    "duration": 445,
    "start_time": "2022-03-28T17:24:12.572Z"
   },
   {
    "duration": 450,
    "start_time": "2022-03-28T17:24:13.020Z"
   },
   {
    "duration": 445,
    "start_time": "2022-03-28T17:24:13.472Z"
   },
   {
    "duration": 15,
    "start_time": "2022-03-28T17:39:14.940Z"
   },
   {
    "duration": 4,
    "start_time": "2022-03-28T17:39:43.539Z"
   },
   {
    "duration": 74,
    "start_time": "2022-03-28T17:39:43.546Z"
   },
   {
    "duration": 12,
    "start_time": "2022-03-28T17:39:43.623Z"
   },
   {
    "duration": 16,
    "start_time": "2022-03-28T17:39:43.638Z"
   },
   {
    "duration": 18,
    "start_time": "2022-03-28T17:39:43.656Z"
   },
   {
    "duration": 14,
    "start_time": "2022-03-28T17:39:43.677Z"
   },
   {
    "duration": 15,
    "start_time": "2022-03-28T17:39:43.693Z"
   },
   {
    "duration": 42,
    "start_time": "2022-03-28T17:39:43.711Z"
   },
   {
    "duration": 7,
    "start_time": "2022-03-28T17:39:43.756Z"
   },
   {
    "duration": 10,
    "start_time": "2022-03-28T17:39:43.765Z"
   },
   {
    "duration": 9,
    "start_time": "2022-03-28T17:39:43.777Z"
   },
   {
    "duration": 55,
    "start_time": "2022-03-28T17:39:43.788Z"
   },
   {
    "duration": 15,
    "start_time": "2022-03-28T17:39:48.186Z"
   },
   {
    "duration": 16,
    "start_time": "2022-03-28T17:39:57.952Z"
   },
   {
    "duration": 1132,
    "start_time": "2022-03-28T17:40:22.394Z"
   },
   {
    "duration": 80,
    "start_time": "2022-03-28T17:40:23.529Z"
   },
   {
    "duration": 23,
    "start_time": "2022-03-28T17:40:23.611Z"
   },
   {
    "duration": 16,
    "start_time": "2022-03-28T17:40:23.638Z"
   },
   {
    "duration": 19,
    "start_time": "2022-03-28T17:40:23.656Z"
   },
   {
    "duration": 15,
    "start_time": "2022-03-28T17:40:23.677Z"
   },
   {
    "duration": 13,
    "start_time": "2022-03-28T17:40:23.694Z"
   },
   {
    "duration": 45,
    "start_time": "2022-03-28T17:40:23.709Z"
   },
   {
    "duration": 6,
    "start_time": "2022-03-28T17:40:23.756Z"
   },
   {
    "duration": 9,
    "start_time": "2022-03-28T17:40:23.767Z"
   },
   {
    "duration": 7,
    "start_time": "2022-03-28T17:40:23.779Z"
   },
   {
    "duration": 65,
    "start_time": "2022-03-28T17:40:23.788Z"
   },
   {
    "duration": 17,
    "start_time": "2022-03-28T17:40:23.856Z"
   },
   {
    "duration": 12,
    "start_time": "2022-03-28T17:40:23.876Z"
   },
   {
    "duration": 16,
    "start_time": "2022-03-28T17:40:23.890Z"
   },
   {
    "duration": 40,
    "start_time": "2022-03-28T17:40:23.909Z"
   },
   {
    "duration": 308,
    "start_time": "2022-03-28T17:40:23.951Z"
   },
   {
    "duration": 214,
    "start_time": "2022-03-28T17:40:24.261Z"
   },
   {
    "duration": 10,
    "start_time": "2022-03-28T17:40:24.477Z"
   },
   {
    "duration": 722,
    "start_time": "2022-03-28T17:40:24.488Z"
   },
   {
    "duration": 152,
    "start_time": "2022-03-28T17:40:25.212Z"
   },
   {
    "duration": 20,
    "start_time": "2022-03-28T17:40:25.366Z"
   },
   {
    "duration": 126,
    "start_time": "2022-03-28T17:40:25.388Z"
   },
   {
    "duration": 103,
    "start_time": "2022-03-28T17:40:25.516Z"
   },
   {
    "duration": 36,
    "start_time": "2022-03-28T17:40:25.621Z"
   },
   {
    "duration": 104,
    "start_time": "2022-03-28T17:40:25.659Z"
   },
   {
    "duration": 304,
    "start_time": "2022-03-28T17:40:25.765Z"
   },
   {
    "duration": 14,
    "start_time": "2022-03-28T17:40:26.074Z"
   },
   {
    "duration": 119,
    "start_time": "2022-03-28T17:40:26.091Z"
   },
   {
    "duration": 5,
    "start_time": "2022-03-28T17:40:26.212Z"
   },
   {
    "duration": 106,
    "start_time": "2022-03-28T17:40:26.220Z"
   },
   {
    "duration": 16,
    "start_time": "2022-03-28T17:40:26.329Z"
   },
   {
    "duration": 150,
    "start_time": "2022-03-28T17:40:26.348Z"
   },
   {
    "duration": 158,
    "start_time": "2022-03-28T17:40:26.501Z"
   },
   {
    "duration": 23,
    "start_time": "2022-03-28T17:40:26.661Z"
   },
   {
    "duration": 22,
    "start_time": "2022-03-28T17:40:26.686Z"
   },
   {
    "duration": 41,
    "start_time": "2022-03-28T17:40:26.711Z"
   },
   {
    "duration": 15,
    "start_time": "2022-03-28T17:40:26.755Z"
   },
   {
    "duration": 41,
    "start_time": "2022-03-28T17:40:26.772Z"
   },
   {
    "duration": 49,
    "start_time": "2022-03-28T17:40:26.816Z"
   },
   {
    "duration": 476,
    "start_time": "2022-03-28T17:40:26.867Z"
   },
   {
    "duration": 481,
    "start_time": "2022-03-28T17:40:27.345Z"
   },
   {
    "duration": 478,
    "start_time": "2022-03-28T17:40:27.829Z"
   },
   {
    "duration": 482,
    "start_time": "2022-03-28T17:40:28.309Z"
   },
   {
    "duration": 449,
    "start_time": "2022-03-28T17:40:28.794Z"
   },
   {
    "duration": 463,
    "start_time": "2022-03-28T17:40:29.245Z"
   },
   {
    "duration": 994,
    "start_time": "2022-03-28T18:58:59.117Z"
   },
   {
    "duration": 40,
    "start_time": "2022-03-28T18:59:00.113Z"
   },
   {
    "duration": 15,
    "start_time": "2022-03-28T18:59:00.155Z"
   },
   {
    "duration": 14,
    "start_time": "2022-03-28T18:59:00.173Z"
   },
   {
    "duration": 17,
    "start_time": "2022-03-28T18:59:00.188Z"
   },
   {
    "duration": 20,
    "start_time": "2022-03-28T18:59:00.206Z"
   },
   {
    "duration": 23,
    "start_time": "2022-03-28T18:59:00.228Z"
   },
   {
    "duration": 14,
    "start_time": "2022-03-28T18:59:00.253Z"
   },
   {
    "duration": 13,
    "start_time": "2022-03-28T18:59:00.270Z"
   },
   {
    "duration": 19,
    "start_time": "2022-03-28T18:59:00.286Z"
   },
   {
    "duration": 20,
    "start_time": "2022-03-28T18:59:00.307Z"
   },
   {
    "duration": 26,
    "start_time": "2022-03-28T18:59:00.328Z"
   },
   {
    "duration": 23,
    "start_time": "2022-03-28T18:59:00.356Z"
   },
   {
    "duration": 15,
    "start_time": "2022-03-28T18:59:00.381Z"
   },
   {
    "duration": 8,
    "start_time": "2022-03-28T18:59:00.397Z"
   },
   {
    "duration": 200,
    "start_time": "2022-03-28T18:59:00.407Z"
   },
   {
    "duration": 128,
    "start_time": "2022-03-28T18:59:00.609Z"
   },
   {
    "duration": 7,
    "start_time": "2022-03-28T18:59:00.739Z"
   },
   {
    "duration": 550,
    "start_time": "2022-03-28T18:59:00.747Z"
   },
   {
    "duration": 73,
    "start_time": "2022-03-28T18:59:01.299Z"
   },
   {
    "duration": 64,
    "start_time": "2022-03-28T18:59:01.374Z"
   },
   {
    "duration": 96,
    "start_time": "2022-03-28T18:59:01.440Z"
   },
   {
    "duration": 56,
    "start_time": "2022-03-28T18:59:01.538Z"
   },
   {
    "duration": 18,
    "start_time": "2022-03-28T18:59:01.596Z"
   },
   {
    "duration": 91,
    "start_time": "2022-03-28T18:59:01.616Z"
   },
   {
    "duration": 109,
    "start_time": "2022-03-28T18:59:01.709Z"
   },
   {
    "duration": 17,
    "start_time": "2022-03-28T18:59:01.820Z"
   },
   {
    "duration": 71,
    "start_time": "2022-03-28T18:59:01.842Z"
   },
   {
    "duration": 5,
    "start_time": "2022-03-28T18:59:01.914Z"
   },
   {
    "duration": 77,
    "start_time": "2022-03-28T18:59:01.920Z"
   },
   {
    "duration": 5,
    "start_time": "2022-03-28T18:59:01.998Z"
   },
   {
    "duration": 93,
    "start_time": "2022-03-28T18:59:02.005Z"
   },
   {
    "duration": 82,
    "start_time": "2022-03-28T18:59:02.099Z"
   },
   {
    "duration": 19,
    "start_time": "2022-03-28T18:59:02.183Z"
   },
   {
    "duration": 40,
    "start_time": "2022-03-28T18:59:02.204Z"
   },
   {
    "duration": 21,
    "start_time": "2022-03-28T18:59:02.246Z"
   },
   {
    "duration": 22,
    "start_time": "2022-03-28T18:59:02.269Z"
   },
   {
    "duration": 44,
    "start_time": "2022-03-28T18:59:02.293Z"
   },
   {
    "duration": 37,
    "start_time": "2022-03-28T18:59:02.339Z"
   },
   {
    "duration": 339,
    "start_time": "2022-03-28T18:59:02.378Z"
   },
   {
    "duration": 346,
    "start_time": "2022-03-28T18:59:02.719Z"
   },
   {
    "duration": 147,
    "start_time": "2022-03-28T18:59:03.068Z"
   },
   {
    "duration": 0,
    "start_time": "2022-03-28T18:59:03.218Z"
   },
   {
    "duration": 0,
    "start_time": "2022-03-28T18:59:03.220Z"
   },
   {
    "duration": 0,
    "start_time": "2022-03-28T18:59:03.221Z"
   },
   {
    "duration": 0,
    "start_time": "2022-03-28T18:59:03.238Z"
   },
   {
    "duration": 123,
    "start_time": "2022-03-28T18:59:42.848Z"
   },
   {
    "duration": 130,
    "start_time": "2022-03-28T19:00:10.264Z"
   },
   {
    "duration": 10,
    "start_time": "2022-03-28T19:00:36.668Z"
   },
   {
    "duration": 10,
    "start_time": "2022-03-28T19:02:07.747Z"
   },
   {
    "duration": 11,
    "start_time": "2022-03-28T19:02:13.979Z"
   },
   {
    "duration": 11,
    "start_time": "2022-03-28T19:02:27.475Z"
   },
   {
    "duration": 20,
    "start_time": "2022-03-28T19:02:37.534Z"
   },
   {
    "duration": 12,
    "start_time": "2022-03-28T19:02:53.128Z"
   },
   {
    "duration": 12,
    "start_time": "2022-03-28T19:03:04.300Z"
   },
   {
    "duration": 24,
    "start_time": "2022-03-28T19:03:30.227Z"
   },
   {
    "duration": 8,
    "start_time": "2022-03-28T19:03:57.086Z"
   },
   {
    "duration": 115,
    "start_time": "2022-03-28T19:05:08.155Z"
   },
   {
    "duration": 337,
    "start_time": "2022-03-28T19:05:28.721Z"
   },
   {
    "duration": 118,
    "start_time": "2022-03-28T19:06:04.977Z"
   },
   {
    "duration": 7,
    "start_time": "2022-03-28T19:06:34.520Z"
   },
   {
    "duration": 8,
    "start_time": "2022-03-28T19:06:49.118Z"
   },
   {
    "duration": 9,
    "start_time": "2022-03-28T19:07:21.987Z"
   },
   {
    "duration": 7,
    "start_time": "2022-03-28T19:11:20.586Z"
   },
   {
    "duration": 8,
    "start_time": "2022-03-28T19:11:24.120Z"
   },
   {
    "duration": 124,
    "start_time": "2022-03-28T19:11:37.324Z"
   },
   {
    "duration": 334,
    "start_time": "2022-03-28T19:12:14.088Z"
   },
   {
    "duration": 8,
    "start_time": "2022-03-28T19:14:34.499Z"
   },
   {
    "duration": 8,
    "start_time": "2022-03-28T19:16:07.342Z"
   },
   {
    "duration": 7,
    "start_time": "2022-03-28T19:16:15.720Z"
   },
   {
    "duration": 953,
    "start_time": "2022-03-28T19:23:43.249Z"
   },
   {
    "duration": 54,
    "start_time": "2022-03-28T19:23:44.203Z"
   },
   {
    "duration": 15,
    "start_time": "2022-03-28T19:23:44.259Z"
   },
   {
    "duration": 12,
    "start_time": "2022-03-28T19:23:44.276Z"
   },
   {
    "duration": 14,
    "start_time": "2022-03-28T19:23:44.290Z"
   },
   {
    "duration": 15,
    "start_time": "2022-03-28T19:23:44.305Z"
   },
   {
    "duration": 17,
    "start_time": "2022-03-28T19:23:44.322Z"
   },
   {
    "duration": 14,
    "start_time": "2022-03-28T19:23:44.340Z"
   },
   {
    "duration": 5,
    "start_time": "2022-03-28T19:23:44.356Z"
   },
   {
    "duration": 8,
    "start_time": "2022-03-28T19:23:44.365Z"
   },
   {
    "duration": 6,
    "start_time": "2022-03-28T19:23:44.374Z"
   },
   {
    "duration": 17,
    "start_time": "2022-03-28T19:23:44.382Z"
   },
   {
    "duration": 11,
    "start_time": "2022-03-28T19:23:44.401Z"
   },
   {
    "duration": 13,
    "start_time": "2022-03-28T19:23:44.438Z"
   },
   {
    "duration": 6,
    "start_time": "2022-03-28T19:23:44.452Z"
   },
   {
    "duration": 197,
    "start_time": "2022-03-28T19:23:44.459Z"
   },
   {
    "duration": 129,
    "start_time": "2022-03-28T19:23:44.658Z"
   },
   {
    "duration": 6,
    "start_time": "2022-03-28T19:23:44.788Z"
   },
   {
    "duration": 524,
    "start_time": "2022-03-28T19:23:44.796Z"
   },
   {
    "duration": 116,
    "start_time": "2022-03-28T19:23:45.322Z"
   },
   {
    "duration": 18,
    "start_time": "2022-03-28T19:23:45.441Z"
   },
   {
    "duration": 93,
    "start_time": "2022-03-28T19:23:45.461Z"
   },
   {
    "duration": 57,
    "start_time": "2022-03-28T19:23:45.556Z"
   },
   {
    "duration": 36,
    "start_time": "2022-03-28T19:23:45.615Z"
   },
   {
    "duration": 88,
    "start_time": "2022-03-28T19:23:45.653Z"
   },
   {
    "duration": 130,
    "start_time": "2022-03-28T19:23:45.743Z"
   },
   {
    "duration": 10,
    "start_time": "2022-03-28T19:23:45.875Z"
   },
   {
    "duration": 70,
    "start_time": "2022-03-28T19:23:45.888Z"
   },
   {
    "duration": 4,
    "start_time": "2022-03-28T19:23:45.960Z"
   },
   {
    "duration": 78,
    "start_time": "2022-03-28T19:23:45.966Z"
   },
   {
    "duration": 4,
    "start_time": "2022-03-28T19:23:46.045Z"
   },
   {
    "duration": 93,
    "start_time": "2022-03-28T19:23:46.051Z"
   },
   {
    "duration": 76,
    "start_time": "2022-03-28T19:23:46.146Z"
   },
   {
    "duration": 19,
    "start_time": "2022-03-28T19:23:46.238Z"
   },
   {
    "duration": 19,
    "start_time": "2022-03-28T19:23:46.259Z"
   },
   {
    "duration": 8,
    "start_time": "2022-03-28T19:23:46.280Z"
   },
   {
    "duration": 11,
    "start_time": "2022-03-28T19:23:46.289Z"
   },
   {
    "duration": 64,
    "start_time": "2022-03-28T19:23:46.302Z"
   },
   {
    "duration": 29,
    "start_time": "2022-03-28T19:23:46.368Z"
   },
   {
    "duration": 360,
    "start_time": "2022-03-28T19:23:46.399Z"
   },
   {
    "duration": 361,
    "start_time": "2022-03-28T19:23:46.761Z"
   },
   {
    "duration": 350,
    "start_time": "2022-03-28T19:23:47.124Z"
   },
   {
    "duration": 350,
    "start_time": "2022-03-28T19:23:47.475Z"
   },
   {
    "duration": 355,
    "start_time": "2022-03-28T19:23:47.827Z"
   },
   {
    "duration": 358,
    "start_time": "2022-03-28T19:23:48.183Z"
   },
   {
    "duration": 867,
    "start_time": "2022-03-28T19:24:41.560Z"
   },
   {
    "duration": 43,
    "start_time": "2022-03-28T19:24:42.429Z"
   },
   {
    "duration": 15,
    "start_time": "2022-03-28T19:24:42.474Z"
   },
   {
    "duration": 15,
    "start_time": "2022-03-28T19:24:42.491Z"
   },
   {
    "duration": 15,
    "start_time": "2022-03-28T19:24:42.508Z"
   },
   {
    "duration": 19,
    "start_time": "2022-03-28T19:24:42.525Z"
   },
   {
    "duration": 13,
    "start_time": "2022-03-28T19:24:42.546Z"
   },
   {
    "duration": 20,
    "start_time": "2022-03-28T19:24:42.561Z"
   },
   {
    "duration": 7,
    "start_time": "2022-03-28T19:24:42.583Z"
   },
   {
    "duration": 8,
    "start_time": "2022-03-28T19:24:42.593Z"
   },
   {
    "duration": 8,
    "start_time": "2022-03-28T19:24:42.603Z"
   },
   {
    "duration": 15,
    "start_time": "2022-03-28T19:24:42.613Z"
   },
   {
    "duration": 12,
    "start_time": "2022-03-28T19:24:42.630Z"
   },
   {
    "duration": 12,
    "start_time": "2022-03-28T19:24:42.643Z"
   },
   {
    "duration": 5,
    "start_time": "2022-03-28T19:24:42.657Z"
   },
   {
    "duration": 213,
    "start_time": "2022-03-28T19:24:42.664Z"
   },
   {
    "duration": 137,
    "start_time": "2022-03-28T19:24:42.879Z"
   },
   {
    "duration": 7,
    "start_time": "2022-03-28T19:24:43.017Z"
   },
   {
    "duration": 490,
    "start_time": "2022-03-28T19:24:43.025Z"
   },
   {
    "duration": 130,
    "start_time": "2022-03-28T19:24:43.517Z"
   },
   {
    "duration": 14,
    "start_time": "2022-03-28T19:24:43.649Z"
   },
   {
    "duration": 77,
    "start_time": "2022-03-28T19:24:43.666Z"
   },
   {
    "duration": 57,
    "start_time": "2022-03-28T19:24:43.745Z"
   },
   {
    "duration": 34,
    "start_time": "2022-03-28T19:24:43.804Z"
   },
   {
    "duration": 54,
    "start_time": "2022-03-28T19:24:43.840Z"
   },
   {
    "duration": 150,
    "start_time": "2022-03-28T19:24:43.896Z"
   },
   {
    "duration": 9,
    "start_time": "2022-03-28T19:24:44.048Z"
   },
   {
    "duration": 57,
    "start_time": "2022-03-28T19:24:44.061Z"
   },
   {
    "duration": 19,
    "start_time": "2022-03-28T19:24:44.120Z"
   },
   {
    "duration": 55,
    "start_time": "2022-03-28T19:24:44.140Z"
   },
   {
    "duration": 4,
    "start_time": "2022-03-28T19:24:44.197Z"
   },
   {
    "duration": 87,
    "start_time": "2022-03-28T19:24:44.203Z"
   },
   {
    "duration": 85,
    "start_time": "2022-03-28T19:24:44.292Z"
   },
   {
    "duration": 18,
    "start_time": "2022-03-28T19:24:44.379Z"
   },
   {
    "duration": 18,
    "start_time": "2022-03-28T19:24:44.399Z"
   },
   {
    "duration": 23,
    "start_time": "2022-03-28T19:24:44.419Z"
   },
   {
    "duration": 12,
    "start_time": "2022-03-28T19:24:44.444Z"
   },
   {
    "duration": 35,
    "start_time": "2022-03-28T19:24:44.458Z"
   },
   {
    "duration": 58,
    "start_time": "2022-03-28T19:24:44.494Z"
   },
   {
    "duration": 349,
    "start_time": "2022-03-28T19:24:44.555Z"
   },
   {
    "duration": 384,
    "start_time": "2022-03-28T19:24:44.907Z"
   },
   {
    "duration": 348,
    "start_time": "2022-03-28T19:24:45.293Z"
   },
   {
    "duration": 363,
    "start_time": "2022-03-28T19:24:45.643Z"
   },
   {
    "duration": 358,
    "start_time": "2022-03-28T19:24:46.008Z"
   },
   {
    "duration": 339,
    "start_time": "2022-03-28T19:24:46.368Z"
   },
   {
    "duration": 892,
    "start_time": "2022-03-28T19:50:47.941Z"
   },
   {
    "duration": 48,
    "start_time": "2022-03-28T19:50:48.837Z"
   },
   {
    "duration": 15,
    "start_time": "2022-03-28T19:50:48.887Z"
   },
   {
    "duration": 10,
    "start_time": "2022-03-28T19:50:48.905Z"
   },
   {
    "duration": 13,
    "start_time": "2022-03-28T19:50:48.917Z"
   },
   {
    "duration": 11,
    "start_time": "2022-03-28T19:50:48.932Z"
   },
   {
    "duration": 12,
    "start_time": "2022-03-28T19:50:48.945Z"
   },
   {
    "duration": 10,
    "start_time": "2022-03-28T19:50:48.959Z"
   },
   {
    "duration": 6,
    "start_time": "2022-03-28T19:50:48.971Z"
   },
   {
    "duration": 7,
    "start_time": "2022-03-28T19:50:48.979Z"
   },
   {
    "duration": 5,
    "start_time": "2022-03-28T19:50:48.988Z"
   },
   {
    "duration": 16,
    "start_time": "2022-03-28T19:50:48.994Z"
   },
   {
    "duration": 31,
    "start_time": "2022-03-28T19:50:49.012Z"
   },
   {
    "duration": 13,
    "start_time": "2022-03-28T19:50:49.045Z"
   },
   {
    "duration": 6,
    "start_time": "2022-03-28T19:50:49.060Z"
   },
   {
    "duration": 203,
    "start_time": "2022-03-28T19:50:49.068Z"
   },
   {
    "duration": 132,
    "start_time": "2022-03-28T19:50:49.273Z"
   },
   {
    "duration": 7,
    "start_time": "2022-03-28T19:50:49.407Z"
   },
   {
    "duration": 508,
    "start_time": "2022-03-28T19:50:49.415Z"
   },
   {
    "duration": 59,
    "start_time": "2022-03-28T19:50:49.924Z"
   },
   {
    "duration": 63,
    "start_time": "2022-03-28T19:50:49.985Z"
   },
   {
    "duration": 56,
    "start_time": "2022-03-28T19:50:50.050Z"
   },
   {
    "duration": 79,
    "start_time": "2022-03-28T19:50:50.108Z"
   },
   {
    "duration": 14,
    "start_time": "2022-03-28T19:50:50.189Z"
   },
   {
    "duration": 71,
    "start_time": "2022-03-28T19:50:50.204Z"
   },
   {
    "duration": 119,
    "start_time": "2022-03-28T19:50:50.276Z"
   },
   {
    "duration": 11,
    "start_time": "2022-03-28T19:50:50.397Z"
   },
   {
    "duration": 72,
    "start_time": "2022-03-28T19:50:50.411Z"
   },
   {
    "duration": 4,
    "start_time": "2022-03-28T19:50:50.484Z"
   },
   {
    "duration": 62,
    "start_time": "2022-03-28T19:50:50.489Z"
   },
   {
    "duration": 4,
    "start_time": "2022-03-28T19:50:50.552Z"
   },
   {
    "duration": 96,
    "start_time": "2022-03-28T19:50:50.558Z"
   },
   {
    "duration": 98,
    "start_time": "2022-03-28T19:50:50.656Z"
   },
   {
    "duration": 18,
    "start_time": "2022-03-28T19:50:50.755Z"
   },
   {
    "duration": 17,
    "start_time": "2022-03-28T19:50:50.775Z"
   },
   {
    "duration": 8,
    "start_time": "2022-03-28T19:50:50.793Z"
   },
   {
    "duration": 16,
    "start_time": "2022-03-28T19:50:50.803Z"
   },
   {
    "duration": 31,
    "start_time": "2022-03-28T19:50:50.837Z"
   },
   {
    "duration": 28,
    "start_time": "2022-03-28T19:50:50.870Z"
   },
   {
    "duration": 344,
    "start_time": "2022-03-28T19:50:50.900Z"
   },
   {
    "duration": 340,
    "start_time": "2022-03-28T19:50:51.245Z"
   },
   {
    "duration": 325,
    "start_time": "2022-03-28T19:50:51.587Z"
   },
   {
    "duration": 360,
    "start_time": "2022-03-28T19:50:51.913Z"
   },
   {
    "duration": 344,
    "start_time": "2022-03-28T19:50:52.275Z"
   },
   {
    "duration": 366,
    "start_time": "2022-03-28T19:50:52.621Z"
   },
   {
    "duration": 192,
    "start_time": "2022-03-29T05:34:27.259Z"
   },
   {
    "duration": 435,
    "start_time": "2022-03-29T05:35:10.337Z"
   },
   {
    "duration": 280,
    "start_time": "2022-03-29T05:35:23.189Z"
   },
   {
    "duration": 246,
    "start_time": "2022-03-29T05:51:46.731Z"
   },
   {
    "duration": 0,
    "start_time": "2022-03-29T05:51:46.979Z"
   },
   {
    "duration": 0,
    "start_time": "2022-03-29T05:51:46.981Z"
   },
   {
    "duration": 0,
    "start_time": "2022-03-29T05:51:46.982Z"
   },
   {
    "duration": 0,
    "start_time": "2022-03-29T05:51:46.983Z"
   },
   {
    "duration": 0,
    "start_time": "2022-03-29T05:51:46.983Z"
   },
   {
    "duration": 0,
    "start_time": "2022-03-29T05:51:46.984Z"
   },
   {
    "duration": 0,
    "start_time": "2022-03-29T05:51:46.985Z"
   },
   {
    "duration": 0,
    "start_time": "2022-03-29T05:51:46.986Z"
   },
   {
    "duration": 0,
    "start_time": "2022-03-29T05:51:46.987Z"
   },
   {
    "duration": 0,
    "start_time": "2022-03-29T05:51:46.988Z"
   },
   {
    "duration": 0,
    "start_time": "2022-03-29T05:51:46.989Z"
   },
   {
    "duration": 0,
    "start_time": "2022-03-29T05:51:46.989Z"
   },
   {
    "duration": 0,
    "start_time": "2022-03-29T05:51:46.990Z"
   },
   {
    "duration": 0,
    "start_time": "2022-03-29T05:51:46.991Z"
   },
   {
    "duration": 0,
    "start_time": "2022-03-29T05:51:46.992Z"
   },
   {
    "duration": 0,
    "start_time": "2022-03-29T05:51:46.993Z"
   },
   {
    "duration": 1,
    "start_time": "2022-03-29T05:51:46.994Z"
   },
   {
    "duration": 0,
    "start_time": "2022-03-29T05:51:46.995Z"
   },
   {
    "duration": 0,
    "start_time": "2022-03-29T05:51:46.996Z"
   },
   {
    "duration": 0,
    "start_time": "2022-03-29T05:51:46.998Z"
   },
   {
    "duration": 0,
    "start_time": "2022-03-29T05:51:46.999Z"
   },
   {
    "duration": 0,
    "start_time": "2022-03-29T05:51:47.000Z"
   },
   {
    "duration": 0,
    "start_time": "2022-03-29T05:51:47.001Z"
   },
   {
    "duration": 0,
    "start_time": "2022-03-29T05:51:47.001Z"
   },
   {
    "duration": 0,
    "start_time": "2022-03-29T05:51:47.002Z"
   },
   {
    "duration": 0,
    "start_time": "2022-03-29T05:51:47.003Z"
   },
   {
    "duration": 0,
    "start_time": "2022-03-29T05:51:47.003Z"
   },
   {
    "duration": 0,
    "start_time": "2022-03-29T05:51:47.004Z"
   },
   {
    "duration": 0,
    "start_time": "2022-03-29T05:51:47.005Z"
   },
   {
    "duration": 0,
    "start_time": "2022-03-29T05:51:47.005Z"
   },
   {
    "duration": 0,
    "start_time": "2022-03-29T05:51:47.006Z"
   },
   {
    "duration": 0,
    "start_time": "2022-03-29T05:51:47.013Z"
   },
   {
    "duration": 0,
    "start_time": "2022-03-29T05:51:47.014Z"
   },
   {
    "duration": 0,
    "start_time": "2022-03-29T05:51:47.014Z"
   },
   {
    "duration": 0,
    "start_time": "2022-03-29T05:51:47.015Z"
   },
   {
    "duration": 0,
    "start_time": "2022-03-29T05:51:47.016Z"
   },
   {
    "duration": 0,
    "start_time": "2022-03-29T05:51:47.032Z"
   },
   {
    "duration": 0,
    "start_time": "2022-03-29T05:51:47.032Z"
   },
   {
    "duration": 88,
    "start_time": "2022-03-29T05:51:47.035Z"
   },
   {
    "duration": 0,
    "start_time": "2022-03-29T05:51:47.124Z"
   },
   {
    "duration": 0,
    "start_time": "2022-03-29T05:51:47.125Z"
   },
   {
    "duration": 0,
    "start_time": "2022-03-29T05:51:47.126Z"
   },
   {
    "duration": 0,
    "start_time": "2022-03-29T05:51:47.127Z"
   },
   {
    "duration": 0,
    "start_time": "2022-03-29T05:51:47.128Z"
   },
   {
    "duration": 1004,
    "start_time": "2022-03-29T05:52:35.761Z"
   },
   {
    "duration": 0,
    "start_time": "2022-03-29T05:52:36.770Z"
   },
   {
    "duration": 0,
    "start_time": "2022-03-29T05:52:36.770Z"
   },
   {
    "duration": 0,
    "start_time": "2022-03-29T05:52:36.772Z"
   },
   {
    "duration": 0,
    "start_time": "2022-03-29T05:52:36.773Z"
   },
   {
    "duration": 0,
    "start_time": "2022-03-29T05:52:36.774Z"
   },
   {
    "duration": 0,
    "start_time": "2022-03-29T05:52:36.776Z"
   },
   {
    "duration": 0,
    "start_time": "2022-03-29T05:52:36.777Z"
   },
   {
    "duration": 0,
    "start_time": "2022-03-29T05:52:36.778Z"
   },
   {
    "duration": 0,
    "start_time": "2022-03-29T05:52:36.780Z"
   },
   {
    "duration": 0,
    "start_time": "2022-03-29T05:52:36.781Z"
   },
   {
    "duration": 0,
    "start_time": "2022-03-29T05:52:36.801Z"
   },
   {
    "duration": 0,
    "start_time": "2022-03-29T05:52:36.802Z"
   },
   {
    "duration": 0,
    "start_time": "2022-03-29T05:52:36.803Z"
   },
   {
    "duration": 0,
    "start_time": "2022-03-29T05:52:36.804Z"
   },
   {
    "duration": 0,
    "start_time": "2022-03-29T05:52:36.805Z"
   },
   {
    "duration": 0,
    "start_time": "2022-03-29T05:52:36.806Z"
   },
   {
    "duration": 0,
    "start_time": "2022-03-29T05:52:36.807Z"
   },
   {
    "duration": 0,
    "start_time": "2022-03-29T05:52:36.808Z"
   },
   {
    "duration": 0,
    "start_time": "2022-03-29T05:52:36.809Z"
   },
   {
    "duration": 0,
    "start_time": "2022-03-29T05:52:36.809Z"
   },
   {
    "duration": 0,
    "start_time": "2022-03-29T05:52:36.810Z"
   },
   {
    "duration": 0,
    "start_time": "2022-03-29T05:52:36.811Z"
   },
   {
    "duration": 0,
    "start_time": "2022-03-29T05:52:36.812Z"
   },
   {
    "duration": 0,
    "start_time": "2022-03-29T05:52:36.813Z"
   },
   {
    "duration": 0,
    "start_time": "2022-03-29T05:52:36.814Z"
   },
   {
    "duration": 0,
    "start_time": "2022-03-29T05:52:36.815Z"
   },
   {
    "duration": 0,
    "start_time": "2022-03-29T05:52:36.816Z"
   },
   {
    "duration": 0,
    "start_time": "2022-03-29T05:52:36.817Z"
   },
   {
    "duration": 0,
    "start_time": "2022-03-29T05:52:36.818Z"
   },
   {
    "duration": 0,
    "start_time": "2022-03-29T05:52:36.819Z"
   },
   {
    "duration": 0,
    "start_time": "2022-03-29T05:52:36.820Z"
   },
   {
    "duration": 0,
    "start_time": "2022-03-29T05:52:36.821Z"
   },
   {
    "duration": 0,
    "start_time": "2022-03-29T05:52:36.822Z"
   },
   {
    "duration": 0,
    "start_time": "2022-03-29T05:52:36.823Z"
   },
   {
    "duration": 0,
    "start_time": "2022-03-29T05:52:36.824Z"
   },
   {
    "duration": 0,
    "start_time": "2022-03-29T05:52:36.825Z"
   },
   {
    "duration": 0,
    "start_time": "2022-03-29T05:52:36.825Z"
   },
   {
    "duration": 0,
    "start_time": "2022-03-29T05:52:36.826Z"
   },
   {
    "duration": 0,
    "start_time": "2022-03-29T05:52:36.827Z"
   },
   {
    "duration": 0,
    "start_time": "2022-03-29T05:52:36.828Z"
   },
   {
    "duration": 0,
    "start_time": "2022-03-29T05:52:36.829Z"
   },
   {
    "duration": 0,
    "start_time": "2022-03-29T05:52:36.830Z"
   },
   {
    "duration": 0,
    "start_time": "2022-03-29T05:52:36.831Z"
   },
   {
    "duration": 907,
    "start_time": "2022-03-29T11:26:33.655Z"
   },
   {
    "duration": 174,
    "start_time": "2022-03-29T11:26:34.564Z"
   },
   {
    "duration": 0,
    "start_time": "2022-03-29T11:26:34.740Z"
   },
   {
    "duration": 0,
    "start_time": "2022-03-29T11:26:34.741Z"
   },
   {
    "duration": 0,
    "start_time": "2022-03-29T11:26:34.742Z"
   },
   {
    "duration": 0,
    "start_time": "2022-03-29T11:26:34.743Z"
   },
   {
    "duration": 0,
    "start_time": "2022-03-29T11:26:34.744Z"
   },
   {
    "duration": 0,
    "start_time": "2022-03-29T11:26:34.745Z"
   },
   {
    "duration": 0,
    "start_time": "2022-03-29T11:26:34.746Z"
   },
   {
    "duration": 0,
    "start_time": "2022-03-29T11:26:34.747Z"
   },
   {
    "duration": 0,
    "start_time": "2022-03-29T11:26:34.748Z"
   },
   {
    "duration": 0,
    "start_time": "2022-03-29T11:26:34.749Z"
   },
   {
    "duration": 0,
    "start_time": "2022-03-29T11:26:34.749Z"
   },
   {
    "duration": 0,
    "start_time": "2022-03-29T11:26:34.750Z"
   },
   {
    "duration": 0,
    "start_time": "2022-03-29T11:26:34.751Z"
   },
   {
    "duration": 0,
    "start_time": "2022-03-29T11:26:34.752Z"
   },
   {
    "duration": 0,
    "start_time": "2022-03-29T11:26:34.753Z"
   },
   {
    "duration": 0,
    "start_time": "2022-03-29T11:26:34.754Z"
   },
   {
    "duration": 0,
    "start_time": "2022-03-29T11:26:34.755Z"
   },
   {
    "duration": 0,
    "start_time": "2022-03-29T11:26:34.756Z"
   },
   {
    "duration": 0,
    "start_time": "2022-03-29T11:26:34.757Z"
   },
   {
    "duration": 0,
    "start_time": "2022-03-29T11:26:34.758Z"
   },
   {
    "duration": 0,
    "start_time": "2022-03-29T11:26:34.758Z"
   },
   {
    "duration": 0,
    "start_time": "2022-03-29T11:26:34.759Z"
   },
   {
    "duration": 0,
    "start_time": "2022-03-29T11:26:34.781Z"
   },
   {
    "duration": 0,
    "start_time": "2022-03-29T11:26:34.782Z"
   },
   {
    "duration": 0,
    "start_time": "2022-03-29T11:26:34.783Z"
   },
   {
    "duration": 0,
    "start_time": "2022-03-29T11:26:34.783Z"
   },
   {
    "duration": 0,
    "start_time": "2022-03-29T11:26:34.784Z"
   },
   {
    "duration": 0,
    "start_time": "2022-03-29T11:26:34.785Z"
   },
   {
    "duration": 0,
    "start_time": "2022-03-29T11:26:34.786Z"
   },
   {
    "duration": 0,
    "start_time": "2022-03-29T11:26:34.787Z"
   },
   {
    "duration": 0,
    "start_time": "2022-03-29T11:26:34.788Z"
   },
   {
    "duration": 0,
    "start_time": "2022-03-29T11:26:34.790Z"
   },
   {
    "duration": 0,
    "start_time": "2022-03-29T11:26:34.790Z"
   },
   {
    "duration": 0,
    "start_time": "2022-03-29T11:26:34.791Z"
   },
   {
    "duration": 0,
    "start_time": "2022-03-29T11:26:34.792Z"
   },
   {
    "duration": 0,
    "start_time": "2022-03-29T11:26:34.793Z"
   },
   {
    "duration": 0,
    "start_time": "2022-03-29T11:26:34.794Z"
   },
   {
    "duration": 0,
    "start_time": "2022-03-29T11:26:34.795Z"
   },
   {
    "duration": 0,
    "start_time": "2022-03-29T11:26:34.796Z"
   },
   {
    "duration": 0,
    "start_time": "2022-03-29T11:26:34.797Z"
   },
   {
    "duration": 0,
    "start_time": "2022-03-29T11:26:34.798Z"
   },
   {
    "duration": 0,
    "start_time": "2022-03-29T11:26:34.799Z"
   },
   {
    "duration": 0,
    "start_time": "2022-03-29T11:26:34.799Z"
   },
   {
    "duration": 0,
    "start_time": "2022-03-29T11:26:34.800Z"
   },
   {
    "duration": 0,
    "start_time": "2022-03-29T11:26:34.801Z"
   },
   {
    "duration": 888,
    "start_time": "2022-03-29T11:27:34.865Z"
   },
   {
    "duration": 168,
    "start_time": "2022-03-29T11:27:35.755Z"
   },
   {
    "duration": 13,
    "start_time": "2022-03-29T11:27:35.927Z"
   },
   {
    "duration": 9,
    "start_time": "2022-03-29T11:27:35.942Z"
   },
   {
    "duration": 13,
    "start_time": "2022-03-29T11:27:35.953Z"
   },
   {
    "duration": 10,
    "start_time": "2022-03-29T11:27:35.968Z"
   },
   {
    "duration": 12,
    "start_time": "2022-03-29T11:27:35.980Z"
   },
   {
    "duration": 20,
    "start_time": "2022-03-29T11:27:35.993Z"
   },
   {
    "duration": 13,
    "start_time": "2022-03-29T11:27:36.017Z"
   },
   {
    "duration": 15,
    "start_time": "2022-03-29T11:27:36.032Z"
   },
   {
    "duration": 14,
    "start_time": "2022-03-29T11:27:36.049Z"
   },
   {
    "duration": 12,
    "start_time": "2022-03-29T11:27:36.064Z"
   },
   {
    "duration": 11,
    "start_time": "2022-03-29T11:27:36.077Z"
   },
   {
    "duration": 5,
    "start_time": "2022-03-29T11:27:36.089Z"
   },
   {
    "duration": 165,
    "start_time": "2022-03-29T11:27:36.095Z"
   },
   {
    "duration": 120,
    "start_time": "2022-03-29T11:27:36.261Z"
   },
   {
    "duration": 6,
    "start_time": "2022-03-29T11:27:36.383Z"
   },
   {
    "duration": 442,
    "start_time": "2022-03-29T11:27:36.390Z"
   },
   {
    "duration": 67,
    "start_time": "2022-03-29T11:27:36.834Z"
   },
   {
    "duration": 12,
    "start_time": "2022-03-29T11:27:36.902Z"
   },
   {
    "duration": 93,
    "start_time": "2022-03-29T11:27:36.916Z"
   },
   {
    "duration": 51,
    "start_time": "2022-03-29T11:27:37.010Z"
   },
   {
    "duration": 23,
    "start_time": "2022-03-29T11:27:37.063Z"
   },
   {
    "duration": 47,
    "start_time": "2022-03-29T11:27:37.087Z"
   },
   {
    "duration": 128,
    "start_time": "2022-03-29T11:27:37.135Z"
   },
   {
    "duration": 56,
    "start_time": "2022-03-29T11:27:37.265Z"
   },
   {
    "duration": 4,
    "start_time": "2022-03-29T11:27:37.324Z"
   },
   {
    "duration": 62,
    "start_time": "2022-03-29T11:27:37.329Z"
   },
   {
    "duration": 3,
    "start_time": "2022-03-29T11:27:37.392Z"
   },
   {
    "duration": 5,
    "start_time": "2022-03-29T11:27:37.397Z"
   },
   {
    "duration": 5,
    "start_time": "2022-03-29T11:27:37.403Z"
   },
   {
    "duration": 4,
    "start_time": "2022-03-29T11:27:37.410Z"
   },
   {
    "duration": 7,
    "start_time": "2022-03-29T11:27:37.415Z"
   },
   {
    "duration": 84,
    "start_time": "2022-03-29T11:27:37.423Z"
   },
   {
    "duration": 88,
    "start_time": "2022-03-29T11:27:37.509Z"
   },
   {
    "duration": 16,
    "start_time": "2022-03-29T11:27:37.599Z"
   },
   {
    "duration": 15,
    "start_time": "2022-03-29T11:27:37.616Z"
   },
   {
    "duration": 9,
    "start_time": "2022-03-29T11:27:37.632Z"
   },
   {
    "duration": 7,
    "start_time": "2022-03-29T11:27:37.642Z"
   },
   {
    "duration": 50,
    "start_time": "2022-03-29T11:27:37.650Z"
   },
   {
    "duration": 21,
    "start_time": "2022-03-29T11:27:37.701Z"
   },
   {
    "duration": 335,
    "start_time": "2022-03-29T11:27:37.723Z"
   },
   {
    "duration": 336,
    "start_time": "2022-03-29T11:27:38.060Z"
   },
   {
    "duration": 329,
    "start_time": "2022-03-29T11:27:38.397Z"
   },
   {
    "duration": 318,
    "start_time": "2022-03-29T11:27:38.728Z"
   },
   {
    "duration": 324,
    "start_time": "2022-03-29T11:27:39.048Z"
   },
   {
    "duration": 324,
    "start_time": "2022-03-29T11:27:39.374Z"
   },
   {
    "duration": 1051,
    "start_time": "2022-03-29T18:22:57.864Z"
   },
   {
    "duration": 104,
    "start_time": "2022-03-29T18:22:58.918Z"
   },
   {
    "duration": 18,
    "start_time": "2022-03-29T18:22:59.024Z"
   },
   {
    "duration": 12,
    "start_time": "2022-03-29T18:22:59.045Z"
   },
   {
    "duration": 16,
    "start_time": "2022-03-29T18:22:59.059Z"
   },
   {
    "duration": 26,
    "start_time": "2022-03-29T18:22:59.076Z"
   },
   {
    "duration": 12,
    "start_time": "2022-03-29T18:22:59.104Z"
   },
   {
    "duration": 13,
    "start_time": "2022-03-29T18:22:59.118Z"
   },
   {
    "duration": 9,
    "start_time": "2022-03-29T18:22:59.133Z"
   },
   {
    "duration": 6,
    "start_time": "2022-03-29T18:22:59.146Z"
   },
   {
    "duration": 17,
    "start_time": "2022-03-29T18:22:59.153Z"
   },
   {
    "duration": 37,
    "start_time": "2022-03-29T18:22:59.172Z"
   },
   {
    "duration": 17,
    "start_time": "2022-03-29T18:22:59.211Z"
   },
   {
    "duration": 5,
    "start_time": "2022-03-29T18:22:59.230Z"
   },
   {
    "duration": 216,
    "start_time": "2022-03-29T18:22:59.237Z"
   },
   {
    "duration": 133,
    "start_time": "2022-03-29T18:22:59.455Z"
   },
   {
    "duration": 17,
    "start_time": "2022-03-29T18:22:59.589Z"
   },
   {
    "duration": 1015,
    "start_time": "2022-03-29T18:22:59.608Z"
   },
   {
    "duration": 109,
    "start_time": "2022-03-29T18:23:00.625Z"
   },
   {
    "duration": 70,
    "start_time": "2022-03-29T18:23:00.737Z"
   },
   {
    "duration": 68,
    "start_time": "2022-03-29T18:23:00.809Z"
   },
   {
    "duration": 90,
    "start_time": "2022-03-29T18:23:00.879Z"
   },
   {
    "duration": 40,
    "start_time": "2022-03-29T18:23:00.971Z"
   },
   {
    "duration": 87,
    "start_time": "2022-03-29T18:23:01.014Z"
   },
   {
    "duration": 148,
    "start_time": "2022-03-29T18:23:01.103Z"
   },
   {
    "duration": 81,
    "start_time": "2022-03-29T18:23:01.253Z"
   },
   {
    "duration": 5,
    "start_time": "2022-03-29T18:23:01.337Z"
   },
   {
    "duration": 80,
    "start_time": "2022-03-29T18:23:01.347Z"
   },
   {
    "duration": 5,
    "start_time": "2022-03-29T18:23:01.429Z"
   },
   {
    "duration": 16,
    "start_time": "2022-03-29T18:23:01.436Z"
   },
   {
    "duration": 16,
    "start_time": "2022-03-29T18:23:01.454Z"
   },
   {
    "duration": 13,
    "start_time": "2022-03-29T18:23:01.472Z"
   },
   {
    "duration": 18,
    "start_time": "2022-03-29T18:23:01.487Z"
   },
   {
    "duration": 93,
    "start_time": "2022-03-29T18:23:01.508Z"
   },
   {
    "duration": 102,
    "start_time": "2022-03-29T18:23:01.604Z"
   },
   {
    "duration": 25,
    "start_time": "2022-03-29T18:23:01.708Z"
   },
   {
    "duration": 20,
    "start_time": "2022-03-29T18:23:01.735Z"
   },
   {
    "duration": 11,
    "start_time": "2022-03-29T18:23:01.757Z"
   },
   {
    "duration": 31,
    "start_time": "2022-03-29T18:23:01.770Z"
   },
   {
    "duration": 33,
    "start_time": "2022-03-29T18:23:01.803Z"
   },
   {
    "duration": 27,
    "start_time": "2022-03-29T18:23:01.838Z"
   },
   {
    "duration": 410,
    "start_time": "2022-03-29T18:23:01.867Z"
   },
   {
    "duration": 391,
    "start_time": "2022-03-29T18:23:02.279Z"
   },
   {
    "duration": 419,
    "start_time": "2022-03-29T18:23:02.673Z"
   },
   {
    "duration": 378,
    "start_time": "2022-03-29T18:23:03.094Z"
   },
   {
    "duration": 371,
    "start_time": "2022-03-29T18:23:03.473Z"
   },
   {
    "duration": 389,
    "start_time": "2022-03-29T18:23:03.846Z"
   },
   {
    "duration": 15,
    "start_time": "2022-03-29T18:59:56.971Z"
   },
   {
    "duration": 12,
    "start_time": "2022-03-29T19:00:07.934Z"
   },
   {
    "duration": 1039,
    "start_time": "2022-03-29T19:00:41.988Z"
   },
   {
    "duration": 120,
    "start_time": "2022-03-29T19:00:43.030Z"
   },
   {
    "duration": 23,
    "start_time": "2022-03-29T19:00:43.152Z"
   },
   {
    "duration": 12,
    "start_time": "2022-03-29T19:00:43.177Z"
   },
   {
    "duration": 23,
    "start_time": "2022-03-29T19:00:43.191Z"
   },
   {
    "duration": 19,
    "start_time": "2022-03-29T19:00:43.217Z"
   },
   {
    "duration": 15,
    "start_time": "2022-03-29T19:00:43.238Z"
   },
   {
    "duration": 24,
    "start_time": "2022-03-29T19:00:43.256Z"
   },
   {
    "duration": 14,
    "start_time": "2022-03-29T19:00:43.282Z"
   },
   {
    "duration": 12,
    "start_time": "2022-03-29T19:00:43.302Z"
   },
   {
    "duration": 24,
    "start_time": "2022-03-29T19:00:43.316Z"
   },
   {
    "duration": 14,
    "start_time": "2022-03-29T19:00:43.343Z"
   },
   {
    "duration": 20,
    "start_time": "2022-03-29T19:00:43.360Z"
   },
   {
    "duration": 6,
    "start_time": "2022-03-29T19:00:43.382Z"
   },
   {
    "duration": 255,
    "start_time": "2022-03-29T19:00:43.400Z"
   },
   {
    "duration": 136,
    "start_time": "2022-03-29T19:00:43.657Z"
   },
   {
    "duration": 10,
    "start_time": "2022-03-29T19:00:43.795Z"
   },
   {
    "duration": 508,
    "start_time": "2022-03-29T19:00:43.807Z"
   },
   {
    "duration": 112,
    "start_time": "2022-03-29T19:00:44.317Z"
   },
   {
    "duration": 14,
    "start_time": "2022-03-29T19:00:44.431Z"
   },
   {
    "duration": 106,
    "start_time": "2022-03-29T19:00:44.447Z"
   },
   {
    "duration": 83,
    "start_time": "2022-03-29T19:00:44.556Z"
   },
   {
    "duration": 15,
    "start_time": "2022-03-29T19:00:44.641Z"
   },
   {
    "duration": 76,
    "start_time": "2022-03-29T19:00:44.658Z"
   },
   {
    "duration": 141,
    "start_time": "2022-03-29T19:00:44.737Z"
   },
   {
    "duration": 75,
    "start_time": "2022-03-29T19:00:44.880Z"
   },
   {
    "duration": 5,
    "start_time": "2022-03-29T19:00:44.957Z"
   },
   {
    "duration": 82,
    "start_time": "2022-03-29T19:00:44.966Z"
   },
   {
    "duration": 5,
    "start_time": "2022-03-29T19:00:45.050Z"
   },
   {
    "duration": 14,
    "start_time": "2022-03-29T19:00:45.058Z"
   },
   {
    "duration": 12,
    "start_time": "2022-03-29T19:00:45.074Z"
   },
   {
    "duration": 5,
    "start_time": "2022-03-29T19:00:45.102Z"
   },
   {
    "duration": 9,
    "start_time": "2022-03-29T19:00:45.109Z"
   },
   {
    "duration": 98,
    "start_time": "2022-03-29T19:00:45.120Z"
   },
   {
    "duration": 105,
    "start_time": "2022-03-29T19:00:45.219Z"
   },
   {
    "duration": 19,
    "start_time": "2022-03-29T19:00:45.326Z"
   },
   {
    "duration": 19,
    "start_time": "2022-03-29T19:00:45.347Z"
   },
   {
    "duration": 33,
    "start_time": "2022-03-29T19:00:45.368Z"
   },
   {
    "duration": 11,
    "start_time": "2022-03-29T19:00:45.403Z"
   },
   {
    "duration": 31,
    "start_time": "2022-03-29T19:00:45.416Z"
   },
   {
    "duration": 28,
    "start_time": "2022-03-29T19:00:45.449Z"
   },
   {
    "duration": 414,
    "start_time": "2022-03-29T19:00:45.479Z"
   },
   {
    "duration": 449,
    "start_time": "2022-03-29T19:00:45.901Z"
   },
   {
    "duration": 381,
    "start_time": "2022-03-29T19:00:46.351Z"
   },
   {
    "duration": 387,
    "start_time": "2022-03-29T19:00:46.734Z"
   },
   {
    "duration": 378,
    "start_time": "2022-03-29T19:00:47.123Z"
   },
   {
    "duration": 379,
    "start_time": "2022-03-29T19:00:47.502Z"
   }
  ],
  "kernelspec": {
   "display_name": "Python 3 (ipykernel)",
   "language": "python",
   "name": "python3"
  },
  "language_info": {
   "codemirror_mode": {
    "name": "ipython",
    "version": 3
   },
   "file_extension": ".py",
   "mimetype": "text/x-python",
   "name": "python",
   "nbconvert_exporter": "python",
   "pygments_lexer": "ipython3",
   "version": "3.9.5"
  },
  "toc": {
   "base_numbering": 1,
   "nav_menu": {},
   "number_sections": true,
   "sideBar": true,
   "skip_h1_title": true,
   "title_cell": "Table of Contents",
   "title_sidebar": "Contents",
   "toc_cell": false,
   "toc_position": {},
   "toc_section_display": true,
   "toc_window_display": false
  }
 },
 "nbformat": 4,
 "nbformat_minor": 1
}