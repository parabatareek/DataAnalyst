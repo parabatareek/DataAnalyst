{
 "cells": [
  {
   "cell_type": "markdown",
   "metadata": {
    "collapsed": true,
    "pycharm": {
     "name": "#%% md\n"
    }
   },
   "source": [
    "# Проект \"Исследование рынка заведений общественного питания Москвы\" #\n",
    "Цель проекта:\n",
    "- на основании исследования рынка заведений общественного питания в Москве, подготовить презентацию для привлечения инвестиций в открытие кафе в Москве"
   ]
  },
  {
   "cell_type": "markdown",
   "source": [
    "# Cодержание #"
   ],
   "metadata": {
    "collapsed": false,
    "pycharm": {
     "name": "#%% md\n"
    }
   }
  },
  {
   "cell_type": "markdown",
   "source": [
    "<a id='data_description'></a>\n",
    "# Описание данных #\n",
    "Таблица rest_data:\n",
    "id — идентификатор объекта;\n",
    "object_name — название объекта общественного питания;\n",
    "chain — сетевой ресторан;\n",
    "object_type — тип объекта общественного питания;\n",
    "address — адрес;\n",
    "number — количество посадочных мест."
   ],
   "metadata": {
    "collapsed": false,
    "pycharm": {
     "name": "#%% md\n"
    }
   }
  },
  {
   "cell_type": "markdown",
   "source": [
    "<a id='analyse_plan'></a>\n",
    "# План проведения исследования #\n",
    "1. загрузка данных\n",
    "2. подготовка данных\n",
    "3. анализ данных"
   ],
   "metadata": {
    "collapsed": false,
    "pycharm": {
     "name": "#%% md\n"
    }
   }
  },
  {
   "cell_type": "markdown",
   "source": [
    "<a id='import'></a>\n",
    "# Импорт библиотек #"
   ],
   "metadata": {
    "collapsed": false,
    "pycharm": {
     "name": "#%% md\n"
    }
   }
  },
  {
   "cell_type": "code",
   "execution_count": 1,
   "outputs": [],
   "source": [
    "import io\n",
    "\n",
    "import pandas as pd\n",
    "from IPython.display import display\n",
    "import numpy as np\n",
    "from scipy import stats as st\n",
    "import plotly_express as px\n",
    "import os\n",
    "import warnings\n",
    "import requests\n",
    "\n",
    "pd.set_option('display.max_colwidth', None)\n",
    "warnings.filterwarnings('ignore')"
   ],
   "metadata": {
    "collapsed": false,
    "pycharm": {
     "name": "#%%\n"
    }
   }
  },
  {
   "cell_type": "markdown",
   "source": [
    "<a id='data'></a>\n",
    "# Загрузка данных #"
   ],
   "metadata": {
    "collapsed": false,
    "pycharm": {
     "name": "#%% md\n"
    }
   }
  },
  {
   "cell_type": "code",
   "execution_count": 2,
   "outputs": [],
   "source": [
    "path_1 = 'datasets/'\n",
    "path_2 = '/datasets/'\n",
    "rest_data = 'rest_data.csv'\n",
    "street_reg_data = 'mosgaz-streets.csv'\n",
    "#region_data = 'moscow_region.csv'\n",
    "# street_data = 'street_data.csv'\n",
    "# region_data = 'region_data.csv'\n",
    "path_rest = ''\n",
    "path_street_reg = ''\n",
    "# path_street = ''\n",
    "# path_region = ''\n",
    "\n",
    "if os.path.exists(path_1):\n",
    "    path_rest = path_1 + rest_data\n",
    "    path_street_reg = path_1 + street_reg_data\n",
    "    # path_street = path_1 + street_data\n",
    "    # path_region = path_1 + region_data\n",
    "elif os.path.exists(path_2):\n",
    "    path_rest = path_2 + rest_data\n",
    "    path_street_reg = path_2 + street_reg_data\n",
    "    # path_street = path_2 + street_data\n",
    "    # path_region = path_2 + region_data\n",
    "else: print('Данные отсутствуют. Проверьте путь к папкам с данными')\n",
    "\n",
    "data = pd.read_csv(filepath_or_buffer=path_rest)\n",
    "data_street_reg = pd.read_csv(filepath_or_buffer=path_street_reg)\n",
    "# data_street = pd.read_csv(filepath_or_buffer=path_street, sep=';')\n",
    "# data_region = pd.read_csv(filepath_or_buffer=path_region, sep=';')"
   ],
   "metadata": {
    "collapsed": false,
    "pycharm": {
     "name": "#%%\n"
    }
   }
  },
  {
   "cell_type": "code",
   "execution_count": 3,
   "outputs": [
    {
     "data": {
      "text/plain": "                           streetname  areaid okrug               area\n0                Выставочный переулок      17   ЦАО  Пресненский район\n1                        улица Гашека      17   ЦАО  Пресненский район\n2             Большая Никитская улица      17   ЦАО  Пресненский район\n3                   Глубокий переулок      17   ЦАО  Пресненский район\n4     Большой Гнездниковский переулок      17   ЦАО  Пресненский район\n...                               ...     ...   ...                ...\n4393              Вознесенский проезд      17   ЦАО  Пресненский район\n4394                  Волков переулок      17   ЦАО  Пресненский район\n4395                  Поварская улица      17   ЦАО  Пресненский район\n4396               Кудринская площадь      17   ЦАО  Пресненский район\n4397               Вспольный переулок      17   ЦАО  Пресненский район\n\n[4398 rows x 4 columns]",
      "text/html": "<div>\n<style scoped>\n    .dataframe tbody tr th:only-of-type {\n        vertical-align: middle;\n    }\n\n    .dataframe tbody tr th {\n        vertical-align: top;\n    }\n\n    .dataframe thead th {\n        text-align: right;\n    }\n</style>\n<table border=\"1\" class=\"dataframe\">\n  <thead>\n    <tr style=\"text-align: right;\">\n      <th></th>\n      <th>streetname</th>\n      <th>areaid</th>\n      <th>okrug</th>\n      <th>area</th>\n    </tr>\n  </thead>\n  <tbody>\n    <tr>\n      <th>0</th>\n      <td>Выставочный переулок</td>\n      <td>17</td>\n      <td>ЦАО</td>\n      <td>Пресненский район</td>\n    </tr>\n    <tr>\n      <th>1</th>\n      <td>улица Гашека</td>\n      <td>17</td>\n      <td>ЦАО</td>\n      <td>Пресненский район</td>\n    </tr>\n    <tr>\n      <th>2</th>\n      <td>Большая Никитская улица</td>\n      <td>17</td>\n      <td>ЦАО</td>\n      <td>Пресненский район</td>\n    </tr>\n    <tr>\n      <th>3</th>\n      <td>Глубокий переулок</td>\n      <td>17</td>\n      <td>ЦАО</td>\n      <td>Пресненский район</td>\n    </tr>\n    <tr>\n      <th>4</th>\n      <td>Большой Гнездниковский переулок</td>\n      <td>17</td>\n      <td>ЦАО</td>\n      <td>Пресненский район</td>\n    </tr>\n    <tr>\n      <th>...</th>\n      <td>...</td>\n      <td>...</td>\n      <td>...</td>\n      <td>...</td>\n    </tr>\n    <tr>\n      <th>4393</th>\n      <td>Вознесенский проезд</td>\n      <td>17</td>\n      <td>ЦАО</td>\n      <td>Пресненский район</td>\n    </tr>\n    <tr>\n      <th>4394</th>\n      <td>Волков переулок</td>\n      <td>17</td>\n      <td>ЦАО</td>\n      <td>Пресненский район</td>\n    </tr>\n    <tr>\n      <th>4395</th>\n      <td>Поварская улица</td>\n      <td>17</td>\n      <td>ЦАО</td>\n      <td>Пресненский район</td>\n    </tr>\n    <tr>\n      <th>4396</th>\n      <td>Кудринская площадь</td>\n      <td>17</td>\n      <td>ЦАО</td>\n      <td>Пресненский район</td>\n    </tr>\n    <tr>\n      <th>4397</th>\n      <td>Вспольный переулок</td>\n      <td>17</td>\n      <td>ЦАО</td>\n      <td>Пресненский район</td>\n    </tr>\n  </tbody>\n</table>\n<p>4398 rows × 4 columns</p>\n</div>"
     },
     "execution_count": 3,
     "metadata": {},
     "output_type": "execute_result"
    }
   ],
   "source": [
    "data_street_reg"
   ],
   "metadata": {
    "collapsed": false,
    "pycharm": {
     "name": "#%%\n"
    }
   }
  },
  {
   "cell_type": "code",
   "execution_count": 4,
   "outputs": [
    {
     "name": "stdout",
     "output_type": "stream",
     "text": [
      "<class 'pandas.core.frame.DataFrame'>\n",
      "RangeIndex: 4398 entries, 0 to 4397\n",
      "Data columns (total 4 columns):\n",
      " #   Column      Non-Null Count  Dtype \n",
      "---  ------      --------------  ----- \n",
      " 0   streetname  4398 non-null   object\n",
      " 1   areaid      4398 non-null   int64 \n",
      " 2   okrug       4398 non-null   object\n",
      " 3   area        4398 non-null   object\n",
      "dtypes: int64(1), object(3)\n",
      "memory usage: 137.6+ KB\n"
     ]
    }
   ],
   "source": [
    "data_street_reg.info()"
   ],
   "metadata": {
    "collapsed": false,
    "pycharm": {
     "name": "#%%\n"
    }
   }
  },
  {
   "cell_type": "code",
   "execution_count": 5,
   "outputs": [],
   "source": [
    "# data_region.info()"
   ],
   "metadata": {
    "collapsed": false,
    "pycharm": {
     "name": "#%%\n"
    }
   }
  },
  {
   "cell_type": "code",
   "execution_count": 6,
   "outputs": [],
   "source": [
    "# data_street.info()"
   ],
   "metadata": {
    "collapsed": false,
    "pycharm": {
     "name": "#%%\n"
    }
   }
  },
  {
   "cell_type": "code",
   "execution_count": 7,
   "outputs": [
    {
     "name": "stdout",
     "output_type": "stream",
     "text": [
      "<class 'pandas.core.frame.DataFrame'>\n",
      "RangeIndex: 15366 entries, 0 to 15365\n",
      "Data columns (total 6 columns):\n",
      " #   Column       Non-Null Count  Dtype \n",
      "---  ------       --------------  ----- \n",
      " 0   id           15366 non-null  int64 \n",
      " 1   object_name  15366 non-null  object\n",
      " 2   chain        15366 non-null  object\n",
      " 3   object_type  15366 non-null  object\n",
      " 4   address      15366 non-null  object\n",
      " 5   number       15366 non-null  int64 \n",
      "dtypes: int64(2), object(4)\n",
      "memory usage: 720.4+ KB\n",
      "None\n"
     ]
    }
   ],
   "source": [
    "print(data.info())"
   ],
   "metadata": {
    "collapsed": false,
    "pycharm": {
     "name": "#%%\n"
    }
   }
  },
  {
   "cell_type": "code",
   "execution_count": 8,
   "outputs": [
    {
     "name": "stdout",
     "output_type": "stream",
     "text": [
      "['нет' 'да']\n",
      "['кафе' 'столовая' 'закусочная' 'предприятие быстрого обслуживания'\n",
      " 'ресторан' 'кафетерий' 'буфет' 'бар' 'магазин (отдел кулинарии)']\n"
     ]
    }
   ],
   "source": [
    "print(data.chain.unique())\n",
    "print(data.object_type.unique())"
   ],
   "metadata": {
    "collapsed": false,
    "pycharm": {
     "name": "#%%\n"
    }
   }
  },
  {
   "cell_type": "markdown",
   "source": [
    "## Итоги предварительного осмотра данных ##\n",
    "1. data['object_name']:\n",
    "   - перевести данные в нижний регистр\n",
    "2. data['chain'].dtype(object) -> data['chain'].dtype(category)\n",
    "3. data['object_type'].dtype(object) -> data['object_type'].dtype(category)\n",
    "4. data['address']:\n",
    "   - перевести в нижний регистр\n",
    "   - выделить отдельный столбец с названием улицы\n",
    "5. перевести в нижний регистр значения:\n",
    "   - data_street_reg['streetname']\n",
    "   - data_street_reg['okrug']\n",
    "   - data_street_reg['area']"
   ],
   "metadata": {
    "collapsed": false,
    "pycharm": {
     "name": "#%% md\n"
    }
   }
  },
  {
   "cell_type": "markdown",
   "source": [
    "<a id='prepare'></a>\n",
    "# Предобработка данных #"
   ],
   "metadata": {
    "collapsed": false,
    "pycharm": {
     "name": "#%% md\n"
    }
   }
  },
  {
   "cell_type": "markdown",
   "source": [
    "<a id='prepare_columns'></a>\n",
    "## Переименование столбцов ##"
   ],
   "metadata": {
    "collapsed": false,
    "pycharm": {
     "name": "#%% md\n"
    }
   }
  },
  {
   "cell_type": "code",
   "execution_count": 9,
   "outputs": [],
   "source": [
    "# data_street.columns = data_street.columns.str.strip().str.lower()\n",
    "# data_region.columns = data_region.columns.str.strip().str.lower()"
   ],
   "metadata": {
    "collapsed": false,
    "pycharm": {
     "name": "#%%\n"
    }
   }
  },
  {
   "cell_type": "code",
   "execution_count": 10,
   "outputs": [],
   "source": [
    "# data_region = data_region.drop(columns=['global_id', 'latin_name', 'unnamed: 6'])\n",
    "# data_region = data_region.rename(columns = {'kod' : 'um_te'})\n",
    "# data_street = data_street.drop(columns=['um_trans', 'um_tm', 'unnamed: 9'])"
   ],
   "metadata": {
    "collapsed": false,
    "pycharm": {
     "name": "#%%\n"
    }
   }
  },
  {
   "cell_type": "markdown",
   "source": [
    "<a id='prepare_change'></a>\n",
    "## Изменение данных ##"
   ],
   "metadata": {
    "collapsed": false,
    "pycharm": {
     "name": "#%% md\n"
    }
   }
  },
  {
   "cell_type": "markdown",
   "source": [
    "<a id='prepare_change_object_data'></a>\n",
    "### Обработка строковых значений ###"
   ],
   "metadata": {
    "collapsed": false,
    "pycharm": {
     "name": "#%% md\n"
    }
   }
  },
  {
   "cell_type": "code",
   "execution_count": 11,
   "outputs": [],
   "source": [
    "# data_street['um_namef'] = data_street['um_namef'].str.strip().str.lower()\n",
    "# data_street['um_names'] = data_street['um_names'].str.strip().str.lower()\n",
    "# data_region['name'] = data_region['name'].str.strip().str.lower()\n",
    "data['object_name'] = data['object_name'].str.strip().str.lower()\n",
    "data['address'] = data['address'].str.strip().str.lower()\n",
    "data_street_reg['streetname'] = data_street_reg['streetname'].str.strip().str.lower()\n",
    "data_street_reg['okrug'] = data_street_reg['okrug'].str.strip().str.lower()\n",
    "data_street_reg['area'] = data_street_reg['area'].str.strip().str.lower()"
   ],
   "metadata": {
    "collapsed": false,
    "pycharm": {
     "name": "#%%\n"
    }
   }
  },
  {
   "cell_type": "code",
   "execution_count": 12,
   "outputs": [
    {
     "name": "stdout",
     "output_type": "stream",
     "text": [
      "(15366, 6)\n",
      "(14498, 6)\n"
     ]
    }
   ],
   "source": [
    "print(data.shape)\n",
    "include_words = ['поселение','город зеленоград','город московский','посёлок','деревня','город щербинка','город троицк']\n",
    "data = data.drop(index=data[data.stack().str.contains('|'.join(include_words)).any(level=0)].index)\n",
    "print(data.shape)"
   ],
   "metadata": {
    "collapsed": false,
    "pycharm": {
     "name": "#%%\n"
    }
   }
  },
  {
   "cell_type": "markdown",
   "source": [
    "<a id='prepare_change_um_te'></a>\n",
    "### Подготовка data_street['um_te'] ###"
   ],
   "metadata": {
    "collapsed": false,
    "pycharm": {
     "name": "#%% md\n"
    }
   }
  },
  {
   "cell_type": "code",
   "execution_count": 13,
   "outputs": [],
   "source": [
    "# temp_data = pd.DataFrame(columns=data_street.columns)\n",
    "# for i, raw in data_street.iterrows():\n",
    "#     um_te = str.split(raw['um_te'], ';')\n",
    "#     if len(um_te) > 1:\n",
    "#         data_street.at[i, 'um_te'] = um_te[0]\n",
    "#         for _ in range(1, len(um_te)):\n",
    "#             raw['um_te'] = um_te[_]\n",
    "#             temp_data = temp_data.append(raw, ignore_index=True)\n",
    "#\n",
    "# data_street = data_street.append(temp_data, ignore_index=True)"
   ],
   "metadata": {
    "collapsed": false,
    "pycharm": {
     "name": "#%%\n"
    }
   }
  },
  {
   "cell_type": "markdown",
   "source": [
    "<a id='prepare_type'></a>\n",
    "## Изменение типов данных ##"
   ],
   "metadata": {
    "collapsed": false,
    "pycharm": {
     "name": "#%% md\n"
    }
   }
  },
  {
   "cell_type": "code",
   "execution_count": 14,
   "outputs": [],
   "source": [
    "\n",
    "data['chain'] = data['chain'].replace(to_replace=['да', 'нет'], value=['сетевое', 'несетевое']).astype('category')\n",
    "data['object_type'] = data['object_type'].astype('category')\n",
    "# data_street['um_te'] = data_street['um_te'].astype('int64')"
   ],
   "metadata": {
    "collapsed": false,
    "pycharm": {
     "name": "#%%\n"
    }
   }
  },
  {
   "cell_type": "markdown",
   "source": [
    "<a id='prepare_street'></a>\n",
    "## Создание нового столбца ##"
   ],
   "metadata": {
    "collapsed": false,
    "pycharm": {
     "name": "#%% md\n"
    }
   }
  },
  {
   "cell_type": "code",
   "execution_count": 15,
   "outputs": [],
   "source": [
    "data['street'] = data['address'].apply(lambda x: str.split(x, ',')[1].strip() if 'город' in x else str.split(x, ',')[0].strip())"
   ],
   "metadata": {
    "collapsed": false,
    "pycharm": {
     "name": "#%%\n"
    }
   }
  },
  {
   "cell_type": "markdown",
   "source": [
    "<a id='prepare_add_region'></a>\n",
    "## Добавление районов ##"
   ],
   "metadata": {
    "collapsed": false,
    "pycharm": {
     "name": "#%% md\n"
    }
   }
  },
  {
   "cell_type": "code",
   "execution_count": 20,
   "outputs": [
    {
     "data": {
      "text/plain": "(29141, 9)"
     },
     "execution_count": 20,
     "metadata": {},
     "output_type": "execute_result"
    }
   ],
   "source": [
    "data = data.merge(data_street_reg[['streetname', 'area']], left_on='street', right_on='streetname', how='left')\\\n",
    "           .drop(columns='streetname')\n",
    "data.info()"
   ],
   "metadata": {
    "collapsed": false,
    "pycharm": {
     "name": "#%%\n"
    }
   }
  },
  {
   "cell_type": "code",
   "execution_count": 22,
   "outputs": [
    {
     "data": {
      "text/plain": "(28997, 9)"
     },
     "execution_count": 22,
     "metadata": {},
     "output_type": "execute_result"
    }
   ],
   "source": [
    "data = data.drop(index=data[data['area'].isna()].index)\n",
    "data.shape"
   ],
   "metadata": {
    "collapsed": false,
    "pycharm": {
     "name": "#%%\n"
    }
   }
  },
  {
   "cell_type": "code",
   "execution_count": null,
   "outputs": [],
   "source": [
    "# add_data = data_street.merge(data_region[['um_te','name']], on='um_te', how='left', )\n",
    "# add_data.shape"
   ],
   "metadata": {
    "collapsed": false,
    "pycharm": {
     "name": "#%%\n"
    }
   }
  },
  {
   "cell_type": "code",
   "execution_count": null,
   "outputs": [],
   "source": [
    "# data_feee = data.merge(add_data[['um_namef', 'name']], left_on='street', right_on='um_namef', how='left')\\\n",
    "#     .rename(columns={'name':'district'})\\\n",
    "#     .drop(columns='um_namef').drop_duplicates()\n",
    "# data_feee[data_feee['district'].isna()]['street'].unique()"
   ],
   "metadata": {
    "collapsed": false,
    "pycharm": {
     "name": "#%%\n"
    }
   }
  },
  {
   "cell_type": "code",
   "execution_count": null,
   "outputs": [],
   "source": [
    "# data_district = data.merge(add_data[['um_namef', 'name']], left_on='street', right_on='um_namef', how='left')\\\n",
    "#     .rename(columns={'name':'district'})\\\n",
    "#     .drop(columns='um_namef').drop_duplicates()\\\n",
    "#     .dropna()\n",
    "\n",
    "# data_district = data_district.assign(street_coord=0,\n",
    "#                                      area=0)\n",
    "# data_district.isna().sum()\n",
    "# data_district.shape"
   ],
   "metadata": {
    "collapsed": false,
    "pycharm": {
     "name": "#%%\n"
    }
   }
  },
  {
   "cell_type": "markdown",
   "source": [
    "### Получение районов от Yandex.геокодер ###"
   ],
   "metadata": {
    "collapsed": false,
    "pycharm": {
     "name": "#%% md\n"
    }
   }
  },
  {
   "cell_type": "code",
   "execution_count": null,
   "outputs": [],
   "source": [
    "# data_district[data_district['district'].isna()]['address'].nunique()"
   ],
   "metadata": {
    "collapsed": false,
    "pycharm": {
     "name": "#%%\n"
    }
   }
  },
  {
   "cell_type": "code",
   "execution_count": null,
   "outputs": [],
   "source": [
    "# def mapmaker_by_address(address):\n",
    "#     params = {\"format\" : \"json\",\n",
    "#               \"lang\"   : \"ru_RU\",\n",
    "#               \"apikey\" : \"18868481-6577-401f-9a16-cef4999b3029\",\n",
    "#               \"kind\"   : \"street\"}\n",
    "#     #\"kind\"   : \"district\"\n",
    "#\n",
    "#     url = 'https://geocode-maps.yandex.ru/1.x/?geocode=' + address\n",
    "#     #сделаем запрос к геокодеру\n",
    "#     response = requests.get(url, params=params)\n",
    "#     raw_response = response.json()\n",
    "#     try:\n",
    "#         coord = response.json()['response'][\"GeoObjectCollection\"][\"featureMember\"][0]['GeoObject']['Point']['pos']\n",
    "#     except: coord = 'не найден'\n",
    "#     try:\n",
    "#         district = response.json()['response'][\"GeoObjectCollection\"][\"featureMember\"][0]['GeoObject'][\"metaDataProperty\"][\"GeocoderMetaData\"][\"Address\"][\"Components\"][4][\"name\"]\n",
    "#     except: district = 'не найден'\n",
    "#     try:\n",
    "#         area = response.json()['response'][\"GeoObjectCollection\"][\"featureMember\"][0]['GeoObject'][\"metaDataProperty\"][\"GeocoderMetaData\"][\"Address\"][\"Components\"][3][\"name\"]\n",
    "#     except: area = 'не найден'\n",
    "#\n",
    "#     return coord, district, area\n",
    "#\n",
    "# address = 'город москва, улица егора абакумова, дом 9'\n",
    "# #test = mapmaker_by_address(address='ярославский район')\n",
    "# test = mapmaker_by_address(address=address)"
   ],
   "metadata": {
    "collapsed": false,
    "pycharm": {
     "name": "#%%\n"
    }
   }
  },
  {
   "cell_type": "code",
   "execution_count": null,
   "outputs": [],
   "source": [
    "# for address in data_district.query('district.isna()')['address'].unique():\n",
    "#     coord, district, area = mapmaker_by_address(address=address)\n",
    "#\n",
    "#     data_district.loc[data['address'] == address, ['street_coord']] = coord\n",
    "#     data_district.loc[data['address'] == address, ['district']] = district\n",
    "#     data_district.loc[data['address'] == address, ['area']] = area\n",
    "#\n",
    "# data_district.to_csv('datasets/data_part_district.csv', sep=',', encoding='utf-8')"
   ],
   "metadata": {
    "collapsed": false,
    "pycharm": {
     "name": "#%%\n"
    }
   }
  },
  {
   "cell_type": "markdown",
   "source": [
    "<a id='prepare_dup'></a>\n",
    "## Поиск дубликатов/пропусков данных ##"
   ],
   "metadata": {
    "collapsed": false,
    "pycharm": {
     "name": "#%% md\n"
    }
   }
  },
  {
   "cell_type": "code",
   "execution_count": 23,
   "outputs": [
    {
     "name": "stdout",
     "output_type": "stream",
     "text": [
      "id             0\n",
      "object_name    0\n",
      "chain          0\n",
      "object_type    0\n",
      "address        0\n",
      "number         0\n",
      "street         0\n",
      "streetname     0\n",
      "area           0\n",
      "dtype: int64\n",
      "79\n"
     ]
    }
   ],
   "source": [
    "print(data.isna().sum())\n",
    "print(data.duplicated().sum())"
   ],
   "metadata": {
    "collapsed": false,
    "pycharm": {
     "name": "#%%\n"
    }
   }
  },
  {
   "cell_type": "code",
   "execution_count": null,
   "outputs": [],
   "source": [
    "# print(data_district.isna().sum())\n",
    "# print(data_district.duplicated().sum())"
   ],
   "metadata": {
    "collapsed": false,
    "pycharm": {
     "name": "#%%\n"
    }
   }
  },
  {
   "cell_type": "markdown",
   "source": [
    "## Итоги предобработки данных ##\n",
    "1. переведены в нижний регистр\n",
    "   - data['object_name']\n",
    "   - data['address']\n",
    "2. изменен тип данных:\n",
    "   - data['chain']\n",
    "   - data['object_type']\n",
    "3. создан новый столбец:\n",
    "   - data['street'] - улица города\n",
    "   - data['area] - район города"
   ],
   "metadata": {
    "collapsed": false,
    "pycharm": {
     "name": "#%% md\n"
    }
   }
  },
  {
   "cell_type": "markdown",
   "source": [
    "<a id='analyse'></a>\n",
    "# Анализ данных #"
   ],
   "metadata": {
    "collapsed": false,
    "pycharm": {
     "name": "#%% md\n"
    }
   }
  },
  {
   "cell_type": "markdown",
   "source": [
    "<a id='analyse_object_kind'></a>\n",
    "## Соотношение видов объектов общественного питания ##"
   ],
   "metadata": {
    "collapsed": false,
    "pycharm": {
     "name": "#%% md\n"
    }
   }
  },
  {
   "cell_type": "code",
   "execution_count": null,
   "outputs": [],
   "source": [
    "fig = px.pie(data_frame=data.groupby(by='chain', axis='index')\\\n",
    "                            .agg({'id':'count'})\\\n",
    "                            .reset_index()\\\n",
    "                            .rename(columns={'chain':'type',\n",
    "                                             'id':'count'}),\n",
    "             names='type',\n",
    "             values='count',\n",
    "             template='seaborn',\n",
    "             title='Отношение количества сетевых/несетевых заведений',\n",
    "             width=1000, height=600,)\n",
    "fig.update_layout(legend_title='Вид заведения')\n",
    "fig.show()\n"
   ],
   "metadata": {
    "collapsed": false,
    "pycharm": {
     "name": "#%%\n"
    }
   }
  },
  {
   "cell_type": "markdown",
   "source": [
    "## Итоги осмотра соотношения видов заведений ##\n",
    "1. на рынке общественного питания Москвы преобладают несетевые заведения.\n",
    "   Доли распределены следующим образом:\n",
    "   - несетевые заведения - 80.6%(12050 шт.)\n",
    "   - сетевые заведения - 19.4%(2896 шт.)"
   ],
   "metadata": {
    "collapsed": false,
    "pycharm": {
     "name": "#%% md\n"
    }
   }
  },
  {
   "cell_type": "markdown",
   "source": [
    "## Соотношение типов объектов общественного питания ##"
   ],
   "metadata": {
    "collapsed": false,
    "pycharm": {
     "name": "#%% md\n"
    }
   }
  },
  {
   "cell_type": "code",
   "execution_count": null,
   "outputs": [],
   "source": [
    "fig = px.pie(data_frame=data.groupby(by='object_type', axis='index')\\\n",
    "                            .agg({'id':'count'})\\\n",
    "                            .reset_index()\\\n",
    "                            .rename(columns={'id':'count'}),\n",
    "             names='object_type',\n",
    "             values='count',\n",
    "             template='seaborn',\n",
    "             title='Соотношение типов заведений',\n",
    "             width=1000, height=600,)\n",
    "fig.update_layout(legend_title = 'Тип заведения')\n",
    "fig.show()"
   ],
   "metadata": {
    "collapsed": false,
    "pycharm": {
     "name": "#%%\n"
    }
   }
  },
  {
   "cell_type": "markdown",
   "source": [
    "## Итоги осмотра соотношения типов объектов общественного питания ##\n",
    "1. 83.8% объектов общественного питания составляют следующие типы:\n",
    "   - кафе - 39.2%(5863 шт.)\n",
    "   - столовая - 17.1%(2553 шт.)\n",
    "   - ресторан - 14.9%(2227 шт.)\n",
    "   - предприятие быстрого обслуживания - 12.6%(1886 шт.)\n",
    "2. оставшуюся долю - 16.2% составляют следующие типы\n",
    "   - бар\n",
    "   - буфет\n",
    "   - кафетерий\n",
    "   - закусочная\n",
    "   - магазин(отдел кулинарии)"
   ],
   "metadata": {
    "collapsed": false,
    "pycharm": {
     "name": "#%% md\n"
    }
   }
  },
  {
   "cell_type": "markdown",
   "source": [
    "<a id='analyse_kind_of_type'></a>\n",
    "## Виды заведений характерные для типов заведений ##"
   ],
   "metadata": {
    "collapsed": false,
    "pycharm": {
     "name": "#%% md\n"
    }
   }
  },
  {
   "cell_type": "code",
   "execution_count": null,
   "outputs": [],
   "source": [
    "fig = px.bar(data_frame=data.pivot_table(index=['object_type', 'chain'],\n",
    "                                         values=['id'],\n",
    "                                         aggfunc='count').reset_index(),\n",
    "       x='object_type',\n",
    "       y='id',\n",
    "       color='chain',\n",
    "       barmode='group',\n",
    "       template='seaborn',\n",
    "       text_auto=True,\n",
    "       labels={'id':'Кол-во заведений',\n",
    "               'object_type':'Тип заведения',\n",
    "               'chain':'Вид заведения'},\n",
    "       title='Виды заведений характерные для типов заведений',\n",
    "             width=1000, height=600,)\n",
    "fig.show()"
   ],
   "metadata": {
    "collapsed": false,
    "pycharm": {
     "name": "#%%\n"
    }
   }
  },
  {
   "cell_type": "markdown",
   "source": [
    "## Итоги осмотра характерных видов заведений для типов заведений ##\n",
    "1. Сетевой вид заведения наиболее характерен для следующих типов заведений:\n",
    "   - кафе\n",
    "   - предприятие быстрого обслуживания\n",
    "   - ресторан"
   ],
   "metadata": {
    "collapsed": false,
    "pycharm": {
     "name": "#%% md\n"
    }
   }
  },
  {
   "cell_type": "markdown",
   "source": [
    "<a id='analyse_net_seat'></a>\n",
    "## Характеристика сетевых заведений по количеству посадочных мест ##"
   ],
   "metadata": {
    "collapsed": false,
    "pycharm": {
     "name": "#%% md\n"
    }
   }
  },
  {
   "cell_type": "code",
   "execution_count": null,
   "outputs": [],
   "source": [
    "centroid = data['number'].mean()"
   ],
   "metadata": {
    "collapsed": false,
    "pycharm": {
     "name": "#%%\n"
    }
   }
  },
  {
   "cell_type": "code",
   "execution_count": null,
   "outputs": [],
   "source": [
    "data['seat_type'] = data['number'].apply(lambda x: f'много(>={centroid.round()})' if x >= centroid else f'мало(<{centroid.round()})')\n",
    "data['seat_type'] = data['seat_type'].astype('category')"
   ],
   "metadata": {
    "collapsed": false,
    "pycharm": {
     "name": "#%%\n"
    }
   }
  },
  {
   "cell_type": "code",
   "execution_count": null,
   "outputs": [],
   "source": [
    "fig = px.pie(data_frame=data.query('chain == \"сетевое\"')\n",
    "                            .groupby(by='seat_type')\n",
    "                            .agg({'id':'count'})\n",
    "                            .reset_index()\n",
    "                            .rename(columns={'id':'count'}),\n",
    "             names='seat_type',\n",
    "             values='count',\n",
    "             template='seaborn',\n",
    "             title='Характеристика сетевых заведений по количеству посадочных мест',\n",
    "             width=1000, height=600,)\n",
    "fig.update_layout(legend_title = 'Кол-во мест')\n",
    "fig.show()"
   ],
   "metadata": {
    "collapsed": false,
    "pycharm": {
     "name": "#%%\n"
    }
   }
  },
  {
   "cell_type": "markdown",
   "source": [
    "## Итоги осмотра характеристики сетевых заведений по количеству посадочных мест ##\n",
    "Сетевые заведения предпочитают небольшие залы, с количеством посадочных мест <60."
   ],
   "metadata": {
    "collapsed": false,
    "pycharm": {
     "name": "#%% md\n"
    }
   }
  },
  {
   "cell_type": "markdown",
   "source": [
    "<a id='analyse_seat_type'></a>\n",
    "## Среднее количество мест характерное для типа заведения ##"
   ],
   "metadata": {
    "collapsed": false,
    "pycharm": {
     "name": "#%% md\n"
    }
   }
  },
  {
   "cell_type": "code",
   "execution_count": null,
   "outputs": [],
   "source": [
    "fig = px.bar(data_frame=data.groupby(by='object_type')\n",
    "                            .agg({'number':np.mean})\n",
    "                            .reset_index()\n",
    "                            .sort_values(by='number', ascending=False),\n",
    "             x='object_type',\n",
    "             y='number',\n",
    "             template='seaborn',\n",
    "             text_auto='3.0f',\n",
    "             color='object_type',\n",
    "             title='Среднее количество мест характерное для типа заведения',\n",
    "             width=1000, height=600,\n",
    "             labels={'number':'Ср. кол-во мест',\n",
    "                     'object_type':'Тип заведения'})\n",
    "\n",
    "fig.show()"
   ],
   "metadata": {
    "collapsed": false,
    "pycharm": {
     "name": "#%%\n"
    }
   }
  },
  {
   "cell_type": "markdown",
   "source": [
    "## Итоги осмотра среднего количества мест характерного для типа заведения ##\n",
    "1. Будем ориентироваться на заведения типа \"кафе\" и близкие к ним:\n",
    "   - кафе ~41 посадочных мест\n",
    "   - бар ~44 посадочных места\n",
    "   - ресторан ~97 посадочных мест\n",
    "2. Самое большое среднее количество посадочных мест предоставляет:\n",
    "   - столовая"
   ],
   "metadata": {
    "collapsed": false,
    "pycharm": {
     "name": "#%% md\n"
    }
   }
  },
  {
   "cell_type": "markdown",
   "source": [
    "<a id='analyze_top_street'></a>\n",
    "## Улицы с наибольшим количеством заведений ##"
   ],
   "metadata": {
    "collapsed": false,
    "pycharm": {
     "name": "#%% md\n"
    }
   }
  },
  {
   "cell_type": "code",
   "execution_count": null,
   "outputs": [],
   "source": [
    "data.groupby(by=['street','district']).agg({'id':'count'}).rename(columns = {'id':'count'}).sort_values(by='count', ascending=False).head(10)"
   ],
   "metadata": {
    "collapsed": false,
    "pycharm": {
     "name": "#%%\n"
    }
   }
  },
  {
   "cell_type": "code",
   "execution_count": null,
   "outputs": [],
   "source": [
    "data"
   ],
   "metadata": {
    "collapsed": false,
    "pycharm": {
     "name": "#%%\n"
    }
   }
  },
  {
   "cell_type": "markdown",
   "source": [
    "<a id='analyse_map'></a>\n",
    "## Распределение заведений по территории Москвы ##"
   ],
   "metadata": {
    "collapsed": false,
    "pycharm": {
     "name": "#%% md\n"
    }
   }
  },
  {
   "cell_type": "code",
   "execution_count": null,
   "outputs": [],
   "source": [
    "# data_district = pd.read_csv(filepath_or_buffer='datasets/data_part_district.csv').drop(columns='Unnamed: 0')"
   ],
   "metadata": {
    "collapsed": false,
    "pycharm": {
     "name": "#%%\n"
    }
   }
  },
  {
   "cell_type": "code",
   "execution_count": null,
   "outputs": [],
   "source": [
    "# fig = px.pie()\n",
    "# display(data_district.groupby(by=['district'], as_index=False)\n",
    "#                      .agg({'id':'count'})\n",
    "#                      .rename(columns = {'id':'count'})\n",
    "#                      .sort_values(by='count', ascending=False)\n",
    "#                      .head(10))"
   ],
   "metadata": {
    "collapsed": false,
    "pycharm": {
     "name": "#%%\n"
    }
   }
  },
  {
   "cell_type": "code",
   "execution_count": null,
   "outputs": [],
   "source": [],
   "metadata": {
    "collapsed": false,
    "pycharm": {
     "name": "#%%\n"
    }
   }
  }
 ],
 "metadata": {
  "kernelspec": {
   "display_name": "Python 3",
   "language": "python",
   "name": "python3"
  },
  "language_info": {
   "codemirror_mode": {
    "name": "ipython",
    "version": 2
   },
   "file_extension": ".py",
   "mimetype": "text/x-python",
   "name": "python",
   "nbconvert_exporter": "python",
   "pygments_lexer": "ipython2",
   "version": "2.7.6"
  }
 },
 "nbformat": 4,
 "nbformat_minor": 0
}