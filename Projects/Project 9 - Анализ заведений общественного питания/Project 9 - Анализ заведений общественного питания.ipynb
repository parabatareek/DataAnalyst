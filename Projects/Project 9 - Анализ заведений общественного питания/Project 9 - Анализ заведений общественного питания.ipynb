{
 "cells": [
  {
   "cell_type": "markdown",
   "metadata": {
    "collapsed": true,
    "pycharm": {
     "name": "#%% md\n"
    }
   },
   "source": [
    "# Проект \"Исследование рынка заведений общественного питания Москвы\" #\n",
    "Цель проекта:\n",
    "- на основании исследования рынка заведений общественного питания в Москве, подготовить презентацию для привлечения инвестиций в открытие кафе в Москве"
   ]
  },
  {
   "cell_type": "markdown",
   "source": [
    "# Cодержание #"
   ],
   "metadata": {
    "collapsed": false,
    "pycharm": {
     "name": "#%% md\n"
    }
   }
  },
  {
   "cell_type": "markdown",
   "source": [
    "<a id='data_description'></a>\n",
    "# Описание данных #\n",
    "Таблица rest_data:\n",
    "id — идентификатор объекта;\n",
    "object_name — название объекта общественного питания;\n",
    "chain — сетевой ресторан;\n",
    "object_type — тип объекта общественного питания;\n",
    "address — адрес;\n",
    "number — количество посадочных мест."
   ],
   "metadata": {
    "collapsed": false,
    "pycharm": {
     "name": "#%% md\n"
    }
   }
  },
  {
   "cell_type": "markdown",
   "source": [
    "<a id='analyse_plan'></a>\n",
    "# План проведения исследования #\n",
    "1. загрузка данных\n",
    "2. подготовка данных\n",
    "3. анализ данных"
   ],
   "metadata": {
    "collapsed": false,
    "pycharm": {
     "name": "#%% md\n"
    }
   }
  },
  {
   "cell_type": "markdown",
   "source": [
    "<a id='import'></a>\n",
    "# Импорт библиотек #"
   ],
   "metadata": {
    "collapsed": false,
    "pycharm": {
     "name": "#%% md\n"
    }
   }
  },
  {
   "cell_type": "code",
   "execution_count": 1,
   "outputs": [],
   "source": [
    "import io\n",
    "\n",
    "import pandas as pd\n",
    "from IPython.display import display\n",
    "import numpy as np\n",
    "from scipy import stats as st\n",
    "import plotly_express as px\n",
    "import os\n",
    "import warnings\n",
    "import requests\n",
    "\n",
    "pd.set_option('display.max_colwidth', None)\n",
    "warnings.filterwarnings('ignore')"
   ],
   "metadata": {
    "collapsed": false,
    "pycharm": {
     "name": "#%%\n"
    }
   }
  },
  {
   "cell_type": "markdown",
   "source": [
    "<a id='data'></a>\n",
    "# Загрузка данных #"
   ],
   "metadata": {
    "collapsed": false,
    "pycharm": {
     "name": "#%% md\n"
    }
   }
  },
  {
   "cell_type": "code",
   "execution_count": 2,
   "outputs": [],
   "source": [
    "# url=\"https://jupyterhub.praktikum-services.ru/user/user-0-374174871/edit/street_data.csv\"\n",
    "# s=requests.get(url).content\n",
    "# c=pd.read_csv(io.StringIO(s.decode('utf-8')), sep=';')\n",
    "# print(c)\n",
    "\n",
    "# data_1 = pd.read_csv('https://jupyterhub.praktikum-services.ru/user/user-0-374174871/edit/street_data.csv', sep=';')\n",
    "# print(data_1)\n",
    "# data_street = pd.read_csv(filepath_or_buffer='datasets/street_data.csv', sep=';')\n",
    "# data_street"
   ],
   "metadata": {
    "collapsed": false,
    "pycharm": {
     "name": "#%%\n"
    }
   }
  },
  {
   "cell_type": "code",
   "execution_count": 3,
   "outputs": [],
   "source": [
    "path_1 = 'datasets/'\n",
    "path_2 = '/datasets/'\n",
    "rest_data = 'rest_data.csv'\n",
    "#region_data = 'moscow_region.csv'\n",
    "street_data = 'street_data.csv'\n",
    "region_data = 'region_data.csv'\n",
    "path_rest = ''\n",
    "path_street = ''\n",
    "path_region = ''\n",
    "\n",
    "if os.path.exists(path_1):\n",
    "    path_rest = path_1 + rest_data\n",
    "    path_street = path_1 + street_data\n",
    "    path_region = path_1 + region_data\n",
    "elif os.path.exists(path_2):\n",
    "    path_rest = path_2 + rest_data\n",
    "    path_street = path_2 + street_data\n",
    "    path_region = path_2 + region_data\n",
    "else: print('Данные отсутствуют. Проверьте путь к папкам с данными')\n",
    "\n",
    "data = pd.read_csv(filepath_or_buffer=path_rest)\n",
    "data_street = pd.read_csv(filepath_or_buffer=path_street, sep=';')\n",
    "data_region = pd.read_csv(filepath_or_buffer=path_region, sep=';')"
   ],
   "metadata": {
    "collapsed": false,
    "pycharm": {
     "name": "#%%\n"
    }
   }
  },
  {
   "cell_type": "code",
   "execution_count": 4,
   "outputs": [
    {
     "name": "stdout",
     "output_type": "stream",
     "text": [
      "<class 'pandas.core.frame.DataFrame'>\n",
      "RangeIndex: 158 entries, 0 to 157\n",
      "Data columns (total 7 columns):\n",
      " #   Column      Non-Null Count  Dtype  \n",
      "---  ------      --------------  -----  \n",
      " 0   Kod         158 non-null    int64  \n",
      " 1   Name        158 non-null    object \n",
      " 2   global_id   158 non-null    int64  \n",
      " 3   Latin_name  158 non-null    object \n",
      " 4   Type        158 non-null    int64  \n",
      " 5   Kod_okato   158 non-null    int64  \n",
      " 6   Unnamed: 6  0 non-null      float64\n",
      "dtypes: float64(1), int64(4), object(2)\n",
      "memory usage: 8.8+ KB\n"
     ]
    }
   ],
   "source": [
    "data_region.info()"
   ],
   "metadata": {
    "collapsed": false,
    "pycharm": {
     "name": "#%%\n"
    }
   }
  },
  {
   "cell_type": "code",
   "execution_count": 5,
   "outputs": [
    {
     "name": "stdout",
     "output_type": "stream",
     "text": [
      "<class 'pandas.core.frame.DataFrame'>\n",
      "RangeIndex: 5324 entries, 0 to 5323\n",
      "Data columns (total 10 columns):\n",
      " #   Column      Non-Null Count  Dtype  \n",
      "---  ------      --------------  -----  \n",
      " 0   UM_CODE     5324 non-null   int64  \n",
      " 1   UM_NAMEF    5324 non-null   object \n",
      " 2   UM_NAMES    5324 non-null   object \n",
      " 3   UM_TRANS    5324 non-null   object \n",
      " 4   UM_TYPE     5324 non-null   int64  \n",
      " 5   UM_TM       1321 non-null   object \n",
      " 6   UM_TE       5324 non-null   object \n",
      " 7   UM_KLADR    5088 non-null   object \n",
      " 8   global_id   5324 non-null   int64  \n",
      " 9   Unnamed: 9  0 non-null      float64\n",
      "dtypes: float64(1), int64(3), object(6)\n",
      "memory usage: 416.1+ KB\n"
     ]
    }
   ],
   "source": [
    "data_street.info()"
   ],
   "metadata": {
    "collapsed": false,
    "pycharm": {
     "name": "#%%\n"
    }
   }
  },
  {
   "cell_type": "code",
   "execution_count": 6,
   "outputs": [
    {
     "name": "stdout",
     "output_type": "stream",
     "text": [
      "<class 'pandas.core.frame.DataFrame'>\n",
      "RangeIndex: 15366 entries, 0 to 15365\n",
      "Data columns (total 6 columns):\n",
      " #   Column       Non-Null Count  Dtype \n",
      "---  ------       --------------  ----- \n",
      " 0   id           15366 non-null  int64 \n",
      " 1   object_name  15366 non-null  object\n",
      " 2   chain        15366 non-null  object\n",
      " 3   object_type  15366 non-null  object\n",
      " 4   address      15366 non-null  object\n",
      " 5   number       15366 non-null  int64 \n",
      "dtypes: int64(2), object(4)\n",
      "memory usage: 720.4+ KB\n",
      "None\n"
     ]
    }
   ],
   "source": [
    "print(data.info())"
   ],
   "metadata": {
    "collapsed": false,
    "pycharm": {
     "name": "#%%\n"
    }
   }
  },
  {
   "cell_type": "code",
   "execution_count": 7,
   "outputs": [
    {
     "name": "stdout",
     "output_type": "stream",
     "text": [
      "['нет' 'да']\n",
      "['кафе' 'столовая' 'закусочная' 'предприятие быстрого обслуживания'\n",
      " 'ресторан' 'кафетерий' 'буфет' 'бар' 'магазин (отдел кулинарии)']\n"
     ]
    }
   ],
   "source": [
    "print(data.chain.unique())\n",
    "print(data.object_type.unique())"
   ],
   "metadata": {
    "collapsed": false,
    "pycharm": {
     "name": "#%%\n"
    }
   }
  },
  {
   "cell_type": "markdown",
   "source": [
    "## Итоги предварительного осмотра данных ##\n",
    "1. 'object_name':\n",
    "   - перевести данные в нижний регистр\n",
    "2. 'chain'.dtype(object) -> 'chain'.dtype(category)\n",
    "3. 'object_type'.dtype(object) -> 'object_type'.dtype(category)\n",
    "4. 'address':\n",
    "   - перевести в нижний регистр\n",
    "   - выделить отдельный столбец с названием улицы"
   ],
   "metadata": {
    "collapsed": false,
    "pycharm": {
     "name": "#%% md\n"
    }
   }
  },
  {
   "cell_type": "markdown",
   "source": [
    "<a id='prepare'></a>\n",
    "# Предобработка данных #"
   ],
   "metadata": {
    "collapsed": false,
    "pycharm": {
     "name": "#%% md\n"
    }
   }
  },
  {
   "cell_type": "markdown",
   "source": [
    "<a id='prepare_columns'></a>\n",
    "## Переименование столбцов ##"
   ],
   "metadata": {
    "collapsed": false,
    "pycharm": {
     "name": "#%% md\n"
    }
   }
  },
  {
   "cell_type": "code",
   "execution_count": 8,
   "outputs": [],
   "source": [
    "data_street.columns = data_street.columns.str.strip().str.lower()\n",
    "data_region.columns = data_region.columns.str.strip().str.lower()"
   ],
   "metadata": {
    "collapsed": false,
    "pycharm": {
     "name": "#%%\n"
    }
   }
  },
  {
   "cell_type": "code",
   "execution_count": 9,
   "outputs": [],
   "source": [
    "data_region = data_region.drop(columns=['global_id', 'latin_name', 'unnamed: 6'])\n",
    "data_region = data_region.rename(columns = {'kod' : 'um_te'})\n",
    "data_street = data_street.drop(columns=['um_trans', 'um_tm', 'unnamed: 9'])"
   ],
   "metadata": {
    "collapsed": false,
    "pycharm": {
     "name": "#%%\n"
    }
   }
  },
  {
   "cell_type": "markdown",
   "source": [
    "<a id='prepare_change'></a>\n",
    "## Изменение данных ##"
   ],
   "metadata": {
    "collapsed": false,
    "pycharm": {
     "name": "#%% md\n"
    }
   }
  },
  {
   "cell_type": "markdown",
   "source": [
    "<a id='prepare_change_object_data'></a>\n",
    "### Обработка строковых значений ###"
   ],
   "metadata": {
    "collapsed": false,
    "pycharm": {
     "name": "#%% md\n"
    }
   }
  },
  {
   "cell_type": "code",
   "execution_count": 10,
   "outputs": [],
   "source": [
    "data_street['um_namef'] = data_street['um_namef'].str.strip().str.lower()\n",
    "data_street['um_names'] = data_street['um_names'].str.strip().str.lower()\n",
    "\n",
    "data['object_name'] = data['object_name'].str.strip().str.lower()\n",
    "data['address'] = data['address'].str.strip().str.lower()\n",
    "\n",
    "data_region['name'] = data_region['name'].str.strip().str.lower()"
   ],
   "metadata": {
    "collapsed": false,
    "pycharm": {
     "name": "#%%\n"
    }
   }
  },
  {
   "cell_type": "markdown",
   "source": [
    "<a id='prepare_change_um_te'></a>\n",
    "### Подготовка data_street['um_te'] ###"
   ],
   "metadata": {
    "collapsed": false,
    "pycharm": {
     "name": "#%% md\n"
    }
   }
  },
  {
   "cell_type": "code",
   "execution_count": 11,
   "outputs": [],
   "source": [
    "temp_data = pd.DataFrame(columns=data_street.columns)\n",
    "for i, raw in data_street.iterrows():\n",
    "    um_te = str.split(raw['um_te'], ';')\n",
    "    if len(um_te) > 1:\n",
    "        data_street.at[i, 'um_te'] = um_te[0]\n",
    "        for _ in range(1, len(um_te)):\n",
    "            raw['um_te'] = um_te[_]\n",
    "            temp_data = temp_data.append(raw, ignore_index=True)\n",
    "\n",
    "data_street = data_street.append(temp_data, ignore_index=True)"
   ],
   "metadata": {
    "collapsed": false,
    "pycharm": {
     "name": "#%%\n"
    }
   }
  },
  {
   "cell_type": "markdown",
   "source": [
    "<a id='prepare_type'></a>\n",
    "## Изменение типов данных ##"
   ],
   "metadata": {
    "collapsed": false,
    "pycharm": {
     "name": "#%% md\n"
    }
   }
  },
  {
   "cell_type": "code",
   "execution_count": 12,
   "outputs": [],
   "source": [
    "\n",
    "data['chain'] = data['chain'].replace(to_replace=['да', 'нет'], value=['сетевое', 'несетевое']).astype('category')\n",
    "data['object_type'] = data['object_type'].astype('category')\n",
    "data_street['um_te'] = data_street['um_te'].astype('int64')"
   ],
   "metadata": {
    "collapsed": false,
    "pycharm": {
     "name": "#%%\n"
    }
   }
  },
  {
   "cell_type": "markdown",
   "source": [
    "<a id='prepare_street'></a>\n",
    "## Создание нового столбца ##"
   ],
   "metadata": {
    "collapsed": false,
    "pycharm": {
     "name": "#%% md\n"
    }
   }
  },
  {
   "cell_type": "code",
   "execution_count": 13,
   "outputs": [],
   "source": [
    "data['street'] = data['address'].apply(lambda x: str.split(x, ',')[1]).str.strip()"
   ],
   "metadata": {
    "collapsed": false,
    "pycharm": {
     "name": "#%%\n"
    }
   }
  },
  {
   "cell_type": "markdown",
   "source": [
    "<a id='prepare_add_region'></a>\n",
    "## Добавление районов ##"
   ],
   "metadata": {
    "collapsed": false,
    "pycharm": {
     "name": "#%% md\n"
    }
   }
  },
  {
   "cell_type": "code",
   "execution_count": 14,
   "outputs": [],
   "source": [
    "add_data = data_street.merge(data_region[['um_te','name']], on='um_te', how='left')\n",
    "#data = data.merge()"
   ],
   "metadata": {
    "collapsed": false,
    "pycharm": {
     "name": "#%%\n"
    }
   }
  },
  {
   "cell_type": "code",
   "execution_count": 15,
   "outputs": [
    {
     "data": {
      "text/plain": "id                0\nobject_name       0\nchain             0\nobject_type       0\naddress           0\nnumber            0\nstreet            0\ndistrict       1017\ndtype: int64"
     },
     "execution_count": 15,
     "metadata": {},
     "output_type": "execute_result"
    }
   ],
   "source": [
    "data = data.merge(add_data[['um_namef', 'name']], left_on='street', right_on='um_namef', how='left')\\\n",
    "    .rename(columns={'name':'district'})\\\n",
    "    .drop(columns='um_namef')\n",
    "data.isna().sum()"
   ],
   "metadata": {
    "collapsed": false,
    "pycharm": {
     "name": "#%%\n"
    }
   }
  },
  {
   "cell_type": "markdown",
   "source": [
    "### Получение районов от Yandex.геокодер ###"
   ],
   "metadata": {
    "collapsed": false,
    "pycharm": {
     "name": "#%% md\n"
    }
   }
  },
  {
   "cell_type": "code",
   "execution_count": 16,
   "outputs": [
    {
     "data": {
      "text/plain": "616"
     },
     "execution_count": 16,
     "metadata": {},
     "output_type": "execute_result"
    }
   ],
   "source": [
    "data[data['district'].isna()]['address'].nunique()\n",
    "\n"
   ],
   "metadata": {
    "collapsed": false,
    "pycharm": {
     "name": "#%%\n"
    }
   }
  },
  {
   "cell_type": "code",
   "execution_count": 17,
   "outputs": [],
   "source": [
    "def mapmaker_by_address(address):\n",
    "    params = {\"format\" : \"json\",\n",
    "              \"lang\"   : \"ru_RU\",\n",
    "              \"apikey\" : \"18868481-6577-401f-9a16-cef4999b3029\",\n",
    "              \"kind\"   : \"district\"}\n",
    "\n",
    "    url = 'https://geocode-maps.yandex.ru/1.x/?geocode=' + address\n",
    "    #сделаем запрос к геокодеру\n",
    "    response = requests.get(url, params=params)\n",
    "    try:\n",
    "        coord = response.json()['response'][\"GeoObjectCollection\"][\"featureMember\"][0]['GeoObject']['Point']['pos']\n",
    "    except: coord = 'не найден'\n",
    "    try:\n",
    "        district = response.json()['response'][\"GeoObjectCollection\"][\"featureMember\"][0]['GeoObject'][\"metaDataProperty\"][\"GeocoderMetaData\"][\"Address\"][\"Components\"][4][\"name\"]\n",
    "    except: district = 'не найден'\n",
    "    try:\n",
    "        area = response.json()['response'][\"GeoObjectCollection\"][\"featureMember\"][0]['GeoObject'][\"metaDataProperty\"][\"GeocoderMetaData\"][\"Address\"][\"Components\"][3][\"name\"]\n",
    "    except: area = 'не найден'\n",
    "\n",
    "    return coord, district, area\n",
    "\n"
   ],
   "metadata": {
    "collapsed": false,
    "pycharm": {
     "name": "#%%\n"
    }
   }
  },
  {
   "cell_type": "code",
   "execution_count": 18,
   "outputs": [],
   "source": [
    "for address in data.query('district.isna()')['address'].unique():\n",
    "    coord, district, area = mapmaker_by_address(address=address)\n",
    "\n",
    "    data[data['address'] == address]['coord'] = coord\n",
    "    data[data['address'] == address]['district'] = district\n",
    "    data[data['address'] == address]['area'] = area\n",
    "\n",
    "data.to_csv('datasets/data_part_1.csv', sep=',', encoding='utf-8')"
   ],
   "metadata": {
    "collapsed": false,
    "pycharm": {
     "name": "#%%\n"
    }
   }
  },
  {
   "cell_type": "code",
   "execution_count": 19,
   "outputs": [],
   "source": [
    "#data.to_csv('datasets/data_part_2.csv', sep=',', encoding='utf-8')"
   ],
   "metadata": {
    "collapsed": false,
    "pycharm": {
     "name": "#%%\n"
    }
   }
  },
  {
   "cell_type": "code",
   "execution_count": 20,
   "outputs": [
    {
     "ename": "NameError",
     "evalue": "name 'lkfgmbnkgfnm' is not defined",
     "output_type": "error",
     "traceback": [
      "\u001B[1;31m---------------------------------------------------------------------------\u001B[0m",
      "\u001B[1;31mNameError\u001B[0m                                 Traceback (most recent call last)",
      "Input \u001B[1;32mIn [20]\u001B[0m, in \u001B[0;36m<module>\u001B[1;34m\u001B[0m\n\u001B[1;32m----> 1\u001B[0m \u001B[43mlkfgmbnkgfnm\u001B[49m\n\u001B[0;32m      2\u001B[0m data[data[\u001B[38;5;124m'\u001B[39m\u001B[38;5;124maddress\u001B[39m\u001B[38;5;124m'\u001B[39m] \u001B[38;5;241m==\u001B[39m \u001B[38;5;124m'\u001B[39m\u001B[38;5;124mпартизанская улица, дом 30\u001B[39m\u001B[38;5;124m'\u001B[39m]\n",
      "\u001B[1;31mNameError\u001B[0m: name 'lkfgmbnkgfnm' is not defined"
     ]
    }
   ],
   "source": [
    "lkfgmbnkgfnm\n",
    "data[data['address'] == 'партизанская улица, дом 30']"
   ],
   "metadata": {
    "collapsed": false,
    "pycharm": {
     "name": "#%%\n"
    }
   }
  },
  {
   "cell_type": "code",
   "execution_count": null,
   "outputs": [],
   "source": [
    "coord, district = mapmaker(address='город москва, 2-й квартал капотня, дом 1')\n",
    "print(coord)\n",
    "print(district)\n",
    "\n"
   ],
   "metadata": {
    "collapsed": false,
    "pycharm": {
     "name": "#%%\n"
    }
   }
  },
  {
   "cell_type": "code",
   "execution_count": null,
   "outputs": [],
   "source": [
    "data_region[data_region['']]"
   ],
   "metadata": {
    "collapsed": false,
    "pycharm": {
     "name": "#%%\n"
    }
   }
  },
  {
   "cell_type": "code",
   "execution_count": null,
   "outputs": [],
   "source": [
    "data_street[data_street['uf']]"
   ],
   "metadata": {
    "collapsed": false,
    "pycharm": {
     "name": "#%%\n"
    }
   }
  },
  {
   "cell_type": "code",
   "execution_count": null,
   "outputs": [],
   "source": [
    "add_data[add_data['um_namef'] == \"улица егора абакумова\"]"
   ],
   "metadata": {
    "collapsed": false,
    "pycharm": {
     "name": "#%%\n"
    }
   }
  },
  {
   "cell_type": "code",
   "execution_count": null,
   "outputs": [],
   "source": [
    "data_region.query('name.str.contains(\"зеленоград\")')"
   ],
   "metadata": {
    "collapsed": false,
    "pycharm": {
     "name": "#%%\n"
    }
   }
  },
  {
   "cell_type": "markdown",
   "source": [
    "<a id='prepare_dup'></a>\n",
    "## Поиск дубликатов/пропусков данных ##"
   ],
   "metadata": {
    "collapsed": false,
    "pycharm": {
     "name": "#%% md\n"
    }
   }
  },
  {
   "cell_type": "code",
   "execution_count": null,
   "outputs": [],
   "source": [
    "print(data.duplicated().sum())\n",
    "print(data.isna().sum())"
   ],
   "metadata": {
    "collapsed": false,
    "pycharm": {
     "name": "#%%\n"
    }
   }
  },
  {
   "cell_type": "markdown",
   "source": [
    "## Итоги предобработки данных ##\n",
    "1. переведены в нижний регистр\n",
    "   - data['object_name']\n",
    "   - data['address']\n",
    "2. изменен тип данных:\n",
    "   - data['chain']\n",
    "   - data['object_type']\n",
    "3. создан новый столбец:\n",
    "   - data['street']"
   ],
   "metadata": {
    "collapsed": false,
    "pycharm": {
     "name": "#%% md\n"
    }
   }
  },
  {
   "cell_type": "markdown",
   "source": [
    "<a id='analyse'></a>\n",
    "# Анализ данных #"
   ],
   "metadata": {
    "collapsed": false,
    "pycharm": {
     "name": "#%% md\n"
    }
   }
  },
  {
   "cell_type": "markdown",
   "source": [
    "<a id='analyse_object_kind'></a>\n",
    "## Соотношение видов объектов общественного питания ##"
   ],
   "metadata": {
    "collapsed": false,
    "pycharm": {
     "name": "#%% md\n"
    }
   }
  },
  {
   "cell_type": "code",
   "execution_count": null,
   "outputs": [],
   "source": [
    "fig = px.pie(data_frame=data.groupby(by='chain', axis='index')\\\n",
    "                            .agg({'id':'count'})\\\n",
    "                            .reset_index()\\\n",
    "                            .rename(columns={'chain':'type',\n",
    "                                             'id':'count'}),\n",
    "             names='type',\n",
    "             values='count',\n",
    "             template='seaborn',\n",
    "             title='Отношение количества сетевых/несетевых заведений')\n",
    "fig.update_layout(legend_title='Вид заведения')\n",
    "fig.show()\n"
   ],
   "metadata": {
    "collapsed": false,
    "pycharm": {
     "name": "#%%\n"
    }
   }
  },
  {
   "cell_type": "markdown",
   "source": [
    "## Итоги осмотра соотношения видов заведений ##\n",
    "1. на рынке общественного питания Москвы преобладают несетевые заведения.\n",
    "   Доли распределены следующим образом:\n",
    "   - несетевые заведения - 80.7%(12398 шт.)\n",
    "   - сетевые заведения - 19.3%(2968 шт.)"
   ],
   "metadata": {
    "collapsed": false,
    "pycharm": {
     "name": "#%% md\n"
    }
   }
  },
  {
   "cell_type": "markdown",
   "source": [
    "## Соотношение типов объектов общественного питания ##"
   ],
   "metadata": {
    "collapsed": false,
    "pycharm": {
     "name": "#%% md\n"
    }
   }
  },
  {
   "cell_type": "code",
   "execution_count": null,
   "outputs": [],
   "source": [
    "fig = px.pie(data_frame=data.groupby(by='object_type', axis='index')\\\n",
    "                            .agg({'id':'count'})\\\n",
    "                            .reset_index()\\\n",
    "                            .rename(columns={'id':'count'}),\n",
    "             names='object_type',\n",
    "             values='count',\n",
    "             template='seaborn',\n",
    "             title='Соотношение типов заведений')\n",
    "fig.update_layout(legend_title = 'Тип заведения')\n",
    "fig.show()"
   ],
   "metadata": {
    "collapsed": false,
    "pycharm": {
     "name": "#%%\n"
    }
   }
  },
  {
   "cell_type": "markdown",
   "source": [
    "## Итоги осмотра соотношения типов объектов общественного питания ##\n",
    "1. 83.9% объектов общественного питания составляют следующие типы:\n",
    "   - кафе - 39.7%(6099 шт.)\n",
    "   - столовая - 16.8%(2587 шт.)\n",
    "   - ресторан - 14.9%(2285 шт.)\n",
    "   - предприятие быстрого обслуживания - 12.5%(1923 шт.\n",
    "2. оставшуюся долю - 16.1% составляют следующие типы\n",
    "   - бар\n",
    "   - буфет\n",
    "   - кафетерий\n",
    "   - закусочная\n",
    "   - магазин(отдел кулинарии)"
   ],
   "metadata": {
    "collapsed": false,
    "pycharm": {
     "name": "#%% md\n"
    }
   }
  },
  {
   "cell_type": "markdown",
   "source": [
    "<a id='analyse_kind_of_type'></a>\n",
    "## Виды заведений характерные для типов заведений ##"
   ],
   "metadata": {
    "collapsed": false,
    "pycharm": {
     "name": "#%% md\n"
    }
   }
  },
  {
   "cell_type": "code",
   "execution_count": null,
   "outputs": [],
   "source": [
    "fig = px.bar(data_frame=data.pivot_table(index=['object_type', 'chain'],\n",
    "                                         values=['id'],\n",
    "                                         aggfunc='count').reset_index(),\n",
    "       x='object_type',\n",
    "       y='id',\n",
    "       color='chain',\n",
    "       barmode='group',\n",
    "       template='seaborn',\n",
    "       text_auto=True,\n",
    "       labels={'id':'Кол-во заведений',\n",
    "               'object_type':'Тип заведения',\n",
    "               'chain':'Вид заведения'},\n",
    "       title='Виды заведений характерные для типов заведений')\n",
    "fig.show()"
   ],
   "metadata": {
    "collapsed": false,
    "pycharm": {
     "name": "#%%\n"
    }
   }
  },
  {
   "cell_type": "markdown",
   "source": [
    "## Итоги осмотра характерных видов заведений для типов заведений ##\n",
    "1. Сетевой вид заведения наиболее характерен для следующих типов заведений:\n",
    "   - кафе\n",
    "   - предприятие быстрого обслуживания\n",
    "   - ресторан"
   ],
   "metadata": {
    "collapsed": false,
    "pycharm": {
     "name": "#%% md\n"
    }
   }
  },
  {
   "cell_type": "markdown",
   "source": [
    "<a id='analyse_net_seat'></a>\n",
    "## Характеристика сетевых заведений по количеству посадочных мест ##"
   ],
   "metadata": {
    "collapsed": false,
    "pycharm": {
     "name": "#%% md\n"
    }
   }
  },
  {
   "cell_type": "code",
   "execution_count": null,
   "outputs": [],
   "source": [
    "centroid = data['number'].mean()\n",
    "data['seat_type'] = data['number'].apply(lambda x: 'много(>=60)' if x >= centroid else 'мало(<60)')\n",
    "data['seat_type'] = data['seat_type'].astype('category')"
   ],
   "metadata": {
    "collapsed": false,
    "pycharm": {
     "name": "#%%\n"
    }
   }
  },
  {
   "cell_type": "code",
   "execution_count": null,
   "outputs": [],
   "source": [
    "fig = px.pie(data_frame=data.query('chain == \"сетевое\"')\n",
    "                            .groupby(by='seat_type')\n",
    "                            .agg({'id':'count'})\n",
    "                            .reset_index()\n",
    "                            .rename(columns={'id':'count'}),\n",
    "             names='seat_type',\n",
    "             values='count',\n",
    "             template='seaborn',\n",
    "             title='Характеристика сетевых заведений по количеству посадочных мест')\n",
    "fig.update_layout(legend_title = 'Кол-во мест')\n",
    "fig.show()"
   ],
   "metadata": {
    "collapsed": false,
    "pycharm": {
     "name": "#%%\n"
    }
   }
  },
  {
   "cell_type": "markdown",
   "source": [
    "## Итоги осмотра характеристики сетевых заведений по количеству посадочных мест ##\n",
    "Сетевые заведения предпочитают небольшие залы, с количеством посадочных мест <60."
   ],
   "metadata": {
    "collapsed": false,
    "pycharm": {
     "name": "#%% md\n"
    }
   }
  },
  {
   "cell_type": "markdown",
   "source": [
    "<a id='analyse_seat_type'></a>\n",
    "## Среднее количество мест характерное для типа заведения ##"
   ],
   "metadata": {
    "collapsed": false,
    "pycharm": {
     "name": "#%% md\n"
    }
   }
  },
  {
   "cell_type": "code",
   "execution_count": null,
   "outputs": [],
   "source": [
    "fig = px.bar(data_frame=data.groupby(by='object_type')\n",
    "                            .agg({'number':np.mean})\n",
    "                            .reset_index()\n",
    "                            .sort_values(by='number', ascending=False),\n",
    "             x='object_type',\n",
    "             y='number',\n",
    "             template='seaborn',\n",
    "             text_auto='3.0f',\n",
    "             color='object_type',\n",
    "             title='Среднее количество мест характерное для типа заведения',\n",
    "             labels={'number':'Ср. кол-во мест',\n",
    "                     'object_type':'Тип заведения'})\n",
    "fig.show()"
   ],
   "metadata": {
    "collapsed": false,
    "pycharm": {
     "name": "#%%\n"
    }
   }
  },
  {
   "cell_type": "markdown",
   "source": [
    "## Итоги осмотра среднего количества мест характерного для типа заведения ##\n",
    "1. Будем ориентироваться на заведения типа \"кафе\" и близкие к ним:\n",
    "   - кафе ~40 посадочных мест\n",
    "   - бар ~43 посадочных места\n",
    "   - ресторан ~97 посадочных мест\n",
    "2. Самое большое среднее количество посадочных мест предоставляет:\n",
    "   - столоваяя"
   ],
   "metadata": {
    "collapsed": false,
    "pycharm": {
     "name": "#%% md\n"
    }
   }
  },
  {
   "cell_type": "markdown",
   "source": [
    "<a id='analyse_map'></a>\n",
    "## Распределение заведений по территории Москвы ##"
   ],
   "metadata": {
    "collapsed": false,
    "pycharm": {
     "name": "#%% md\n"
    }
   }
  },
  {
   "cell_type": "code",
   "execution_count": null,
   "outputs": [],
   "source": [
    "\n",
    "#data['address'].to_csv(path_or_buf='datasets/address.csv')"
   ],
   "metadata": {
    "collapsed": false,
    "pycharm": {
     "name": "#%%\n"
    }
   }
  },
  {
   "cell_type": "code",
   "execution_count": null,
   "outputs": [],
   "source": [
    "# geojson =\n",
    "# fig = px.choropleth_mapbox(data, geojson=geojson, color=\"Bergeron\",\n",
    "#                            locations=\"district\", featureidkey=\"properties.district\",\n",
    "#                            center={\"lat\": 45.5517, \"lon\": -73.7073},\n",
    "#                            mapbox_style=\"carto-positron\", zoom=9)\n",
    "# fig.show()"
   ],
   "metadata": {
    "collapsed": false,
    "pycharm": {
     "name": "#%%\n"
    }
   }
  },
  {
   "cell_type": "code",
   "execution_count": null,
   "outputs": [],
   "source": [
    "data.address.unique()"
   ],
   "metadata": {
    "collapsed": false,
    "pycharm": {
     "name": "#%%\n"
    }
   }
  },
  {
   "cell_type": "code",
   "execution_count": null,
   "outputs": [],
   "source": [
    "cities = pd.read_csv('https://raw.githubusercontent.com/hflabs/city/master/city.csv')\n",
    "\n",
    "capital = cities[cities['region']=='Москва']\n",
    "display(capital)"
   ],
   "metadata": {
    "collapsed": false,
    "pycharm": {
     "name": "#%%\n"
    }
   }
  },
  {
   "cell_type": "code",
   "execution_count": null,
   "outputs": [],
   "source": [],
   "metadata": {
    "collapsed": false,
    "pycharm": {
     "name": "#%%\n"
    }
   }
  }
 ],
 "metadata": {
  "kernelspec": {
   "display_name": "Python 3",
   "language": "python",
   "name": "python3"
  },
  "language_info": {
   "codemirror_mode": {
    "name": "ipython",
    "version": 2
   },
   "file_extension": ".py",
   "mimetype": "text/x-python",
   "name": "python",
   "nbconvert_exporter": "python",
   "pygments_lexer": "ipython2",
   "version": "2.7.6"
  }
 },
 "nbformat": 4,
 "nbformat_minor": 0
}