{
 "cells": [
  {
   "cell_type": "markdown",
   "metadata": {
    "collapsed": true,
    "pycharm": {
     "name": "#%% md\n"
    }
   },
   "source": [
    "# Проект \"Исследование рынка заведений общественного питания Москвы\" #\n",
    "Цель проекта:\n",
    "- на основании исследования рынка заведений общественного питания в Москве, подготовить презентацию для привлечения инвестиций в открытие кафе в Москве"
   ]
  },
  {
   "cell_type": "markdown",
   "source": [
    "# Cодержание #"
   ],
   "metadata": {
    "collapsed": false,
    "pycharm": {
     "name": "#%% md\n"
    }
   }
  },
  {
   "cell_type": "markdown",
   "source": [
    "<a id='data_description'></a>\n",
    "# Описание данных #\n",
    "Таблица rest_data:\n",
    "id — идентификатор объекта;\n",
    "object_name — название объекта общественного питания;\n",
    "chain — сетевой ресторан;\n",
    "object_type — тип объекта общественного питания;\n",
    "address — адрес;\n",
    "number — количество посадочных мест."
   ],
   "metadata": {
    "collapsed": false,
    "pycharm": {
     "name": "#%% md\n"
    }
   }
  },
  {
   "cell_type": "markdown",
   "source": [
    "<a id='analyse_plan'></a>\n",
    "# План проведения исследования #\n",
    "1. загрузка данных\n",
    "2. подготовка данных\n",
    "3. анализ данных"
   ],
   "metadata": {
    "collapsed": false,
    "pycharm": {
     "name": "#%% md\n"
    }
   }
  },
  {
   "cell_type": "markdown",
   "source": [
    "<a id='import'></a>\n",
    "# Импорт библиотек #"
   ],
   "metadata": {
    "collapsed": false,
    "pycharm": {
     "name": "#%% md\n"
    }
   }
  },
  {
   "cell_type": "code",
   "execution_count": 1,
   "outputs": [],
   "source": [
    "import io\n",
    "\n",
    "import pandas as pd\n",
    "from IPython.display import display\n",
    "import numpy as np\n",
    "from scipy import stats as st\n",
    "import plotly_express as px\n",
    "import os\n",
    "import warnings\n",
    "import requests\n",
    "\n",
    "pd.set_option('display.max_colwidth', None)\n",
    "warnings.filterwarnings('ignore')"
   ],
   "metadata": {
    "collapsed": false,
    "pycharm": {
     "name": "#%%\n"
    }
   }
  },
  {
   "cell_type": "markdown",
   "source": [
    "<a id='data'></a>\n",
    "# Загрузка данных #"
   ],
   "metadata": {
    "collapsed": false,
    "pycharm": {
     "name": "#%% md\n"
    }
   }
  },
  {
   "cell_type": "code",
   "execution_count": 2,
   "outputs": [],
   "source": [
    "# url=\"https://jupyterhub.praktikum-services.ru/user/user-0-374174871/edit/street_data.csv\"\n",
    "# s=requests.get(url).content\n",
    "# c=pd.read_csv(io.StringIO(s.decode('utf-8')), sep=';')\n",
    "# print(c)\n",
    "\n",
    "# data_1 = pd.read_csv('https://jupyterhub.praktikum-services.ru/user/user-0-374174871/edit/street_data.csv', sep=';')\n",
    "# print(data_1)\n",
    "# data_street = pd.read_csv(filepath_or_buffer='datasets/street_data.csv', sep=';')\n",
    "# data_street"
   ],
   "metadata": {
    "collapsed": false,
    "pycharm": {
     "name": "#%%\n"
    }
   }
  },
  {
   "cell_type": "code",
   "execution_count": 3,
   "outputs": [],
   "source": [
    "path_1 = 'datasets/'\n",
    "path_2 = '/datasets/'\n",
    "rest_data = 'rest_data.csv'\n",
    "#region_data = 'moscow_region.csv'\n",
    "street_data = 'street_data.csv'\n",
    "region_data = 'region_data.csv'\n",
    "path_rest = ''\n",
    "path_street = ''\n",
    "path_region = ''\n",
    "\n",
    "if os.path.exists(path_1):\n",
    "    path_rest = path_1 + rest_data\n",
    "    path_street = path_1 + street_data\n",
    "    path_region = path_1 + region_data\n",
    "elif os.path.exists(path_2):\n",
    "    path_rest = path_2 + rest_data\n",
    "    path_street = path_2 + street_data\n",
    "    path_region = path_2 + region_data\n",
    "else: print('Данные отсутствуют. Проверьте путь к папкам с данными')\n",
    "\n",
    "data = pd.read_csv(filepath_or_buffer=path_rest)\n",
    "data_street = pd.read_csv(filepath_or_buffer=path_street, sep=';')\n",
    "data_region = pd.read_csv(filepath_or_buffer=path_region, sep=';')"
   ],
   "metadata": {
    "collapsed": false,
    "pycharm": {
     "name": "#%%\n"
    }
   }
  },
  {
   "cell_type": "code",
   "execution_count": 4,
   "outputs": [
    {
     "name": "stdout",
     "output_type": "stream",
     "text": [
      "<class 'pandas.core.frame.DataFrame'>\n",
      "RangeIndex: 158 entries, 0 to 157\n",
      "Data columns (total 7 columns):\n",
      " #   Column      Non-Null Count  Dtype  \n",
      "---  ------      --------------  -----  \n",
      " 0   Kod         158 non-null    int64  \n",
      " 1   Name        158 non-null    object \n",
      " 2   global_id   158 non-null    int64  \n",
      " 3   Latin_name  158 non-null    object \n",
      " 4   Type        158 non-null    int64  \n",
      " 5   Kod_okato   158 non-null    int64  \n",
      " 6   Unnamed: 6  0 non-null      float64\n",
      "dtypes: float64(1), int64(4), object(2)\n",
      "memory usage: 8.8+ KB\n"
     ]
    }
   ],
   "source": [
    "data_region.info()"
   ],
   "metadata": {
    "collapsed": false,
    "pycharm": {
     "name": "#%%\n"
    }
   }
  },
  {
   "cell_type": "code",
   "execution_count": 5,
   "outputs": [
    {
     "name": "stdout",
     "output_type": "stream",
     "text": [
      "<class 'pandas.core.frame.DataFrame'>\n",
      "RangeIndex: 5324 entries, 0 to 5323\n",
      "Data columns (total 10 columns):\n",
      " #   Column      Non-Null Count  Dtype  \n",
      "---  ------      --------------  -----  \n",
      " 0   UM_CODE     5324 non-null   int64  \n",
      " 1   UM_NAMEF    5324 non-null   object \n",
      " 2   UM_NAMES    5324 non-null   object \n",
      " 3   UM_TRANS    5324 non-null   object \n",
      " 4   UM_TYPE     5324 non-null   int64  \n",
      " 5   UM_TM       1321 non-null   object \n",
      " 6   UM_TE       5324 non-null   object \n",
      " 7   UM_KLADR    5088 non-null   object \n",
      " 8   global_id   5324 non-null   int64  \n",
      " 9   Unnamed: 9  0 non-null      float64\n",
      "dtypes: float64(1), int64(3), object(6)\n",
      "memory usage: 416.1+ KB\n"
     ]
    }
   ],
   "source": [
    "data_street.info()"
   ],
   "metadata": {
    "collapsed": false,
    "pycharm": {
     "name": "#%%\n"
    }
   }
  },
  {
   "cell_type": "code",
   "execution_count": 6,
   "outputs": [
    {
     "name": "stdout",
     "output_type": "stream",
     "text": [
      "<class 'pandas.core.frame.DataFrame'>\n",
      "RangeIndex: 15366 entries, 0 to 15365\n",
      "Data columns (total 6 columns):\n",
      " #   Column       Non-Null Count  Dtype \n",
      "---  ------       --------------  ----- \n",
      " 0   id           15366 non-null  int64 \n",
      " 1   object_name  15366 non-null  object\n",
      " 2   chain        15366 non-null  object\n",
      " 3   object_type  15366 non-null  object\n",
      " 4   address      15366 non-null  object\n",
      " 5   number       15366 non-null  int64 \n",
      "dtypes: int64(2), object(4)\n",
      "memory usage: 720.4+ KB\n",
      "None\n"
     ]
    }
   ],
   "source": [
    "print(data.info())"
   ],
   "metadata": {
    "collapsed": false,
    "pycharm": {
     "name": "#%%\n"
    }
   }
  },
  {
   "cell_type": "code",
   "execution_count": 7,
   "outputs": [
    {
     "name": "stdout",
     "output_type": "stream",
     "text": [
      "['нет' 'да']\n",
      "['кафе' 'столовая' 'закусочная' 'предприятие быстрого обслуживания'\n",
      " 'ресторан' 'кафетерий' 'буфет' 'бар' 'магазин (отдел кулинарии)']\n"
     ]
    }
   ],
   "source": [
    "print(data.chain.unique())\n",
    "print(data.object_type.unique())"
   ],
   "metadata": {
    "collapsed": false,
    "pycharm": {
     "name": "#%%\n"
    }
   }
  },
  {
   "cell_type": "markdown",
   "source": [
    "## Итоги предварительного осмотра данных ##\n",
    "1. 'object_name':\n",
    "   - перевести данные в нижний регистр\n",
    "2. 'chain'.dtype(object) -> 'chain'.dtype(category)\n",
    "3. 'object_type'.dtype(object) -> 'object_type'.dtype(category)\n",
    "4. 'address':\n",
    "   - перевести в нижний регистр\n",
    "   - выделить отдельный столбец с названием улицы"
   ],
   "metadata": {
    "collapsed": false,
    "pycharm": {
     "name": "#%% md\n"
    }
   }
  },
  {
   "cell_type": "markdown",
   "source": [
    "<a id='prepare'></a>\n",
    "# Предобработка данных #"
   ],
   "metadata": {
    "collapsed": false,
    "pycharm": {
     "name": "#%% md\n"
    }
   }
  },
  {
   "cell_type": "markdown",
   "source": [
    "<a id='prepare_columns'></a>\n",
    "## Переименование столбцов ##"
   ],
   "metadata": {
    "collapsed": false,
    "pycharm": {
     "name": "#%% md\n"
    }
   }
  },
  {
   "cell_type": "code",
   "execution_count": 8,
   "outputs": [],
   "source": [
    "data_street.columns = data_street.columns.str.strip().str.lower()\n",
    "data_region.columns = data_region.columns.str.strip().str.lower()"
   ],
   "metadata": {
    "collapsed": false,
    "pycharm": {
     "name": "#%%\n"
    }
   }
  },
  {
   "cell_type": "code",
   "execution_count": 9,
   "outputs": [],
   "source": [
    "data_region = data_region.drop(columns=['global_id', 'latin_name', 'unnamed: 6'])\n",
    "data_region = data_region.rename(columns = {'kod' : 'um_te'})\n",
    "data_street = data_street.drop(columns=['um_trans', 'um_tm', 'unnamed: 9'])"
   ],
   "metadata": {
    "collapsed": false,
    "pycharm": {
     "name": "#%%\n"
    }
   }
  },
  {
   "cell_type": "markdown",
   "source": [
    "<a id='prepare_change'></a>\n",
    "## Изменение данных ##"
   ],
   "metadata": {
    "collapsed": false,
    "pycharm": {
     "name": "#%% md\n"
    }
   }
  },
  {
   "cell_type": "markdown",
   "source": [
    "<a id='prepare_change_object_data'></a>\n",
    "### Обработка строковых значений ###"
   ],
   "metadata": {
    "collapsed": false,
    "pycharm": {
     "name": "#%% md\n"
    }
   }
  },
  {
   "cell_type": "code",
   "execution_count": 10,
   "outputs": [],
   "source": [
    "data_street['um_namef'] = data_street['um_namef'].str.strip().str.lower()\n",
    "data_street['um_names'] = data_street['um_names'].str.strip().str.lower()\n",
    "\n",
    "data['object_name'] = data['object_name'].str.strip().str.lower()\n",
    "data['address'] = data['address'].str.strip().str.lower()\n",
    "\n",
    "data_region['name'] = data_region['name'].str.strip().str.lower()"
   ],
   "metadata": {
    "collapsed": false,
    "pycharm": {
     "name": "#%%\n"
    }
   }
  },
  {
   "cell_type": "markdown",
   "source": [
    "<a id='prepare_change_um_te'></a>\n",
    "### Подготовка data_street['um_te'] ###"
   ],
   "metadata": {
    "collapsed": false,
    "pycharm": {
     "name": "#%% md\n"
    }
   }
  },
  {
   "cell_type": "code",
   "execution_count": 11,
   "outputs": [
    {
     "name": "stdout",
     "output_type": "stream",
     "text": [
      "(5324, 7)\n",
      "(679, 7)\n",
      "(6003, 7)\n",
      "     um_code                    um_namef                 um_names um_type  \\\n",
      "0       8880     1-й ирининский переулок      1-й ирининский пер.       2   \n",
      "1       8890     2-й ирининский переулок      2-й ирининский пер.       2   \n",
      "2       8891     3-й ирининский переулок      3-й ирининский пер.       2   \n",
      "3       8910             иркутская улица            иркутская ул.       1   \n",
      "4       8920        1-й иртышский проезд        1-й иртышский пр.       3   \n",
      "...      ...                         ...                      ...     ...   \n",
      "5998   49400         улица степана эрьзи        ул. степана эрьзи       1   \n",
      "5999   49715     курьяновская набережная        курьяновская наб.       5   \n",
      "6000   49680           улица красный луг          ул. красный луг       1   \n",
      "6001   49855  проспект генерала дорохова  пр-кт генерала дорохова      10   \n",
      "6002   49970      новомихайловское шоссе      новомихайловское ш.       6   \n",
      "\n",
      "     um_te           um_kladr   global_id  \n",
      "0     0102  77000000000706300    58481065  \n",
      "1     0102  77000000000362200    58481066  \n",
      "2     0102  77000000000362300    58481067  \n",
      "3     0406  77000000000139700    58481068  \n",
      "4     0406  77000000000331600    58481069  \n",
      "...    ...                ...         ...  \n",
      "5998  1111                NaN   671695873  \n",
      "5999  0511  77000000000789400   904097296  \n",
      "6000  0611  77000000000787800   904097312  \n",
      "6001  0820                NaN  1028447078  \n",
      "6002  1107  77017000000019200  1044322206  \n",
      "\n",
      "[6003 rows x 7 columns]\n"
     ]
    }
   ],
   "source": [
    "temp_data = pd.DataFrame(columns=data_street.columns)\n",
    "for i, raw in data_street.iterrows():\n",
    "    um_te = str.split(raw['um_te'], ';')\n",
    "    if len(um_te) > 1:\n",
    "        data_street.at[i, 'um_te'] = um_te[0]\n",
    "        for _ in range(1, len(um_te)):\n",
    "            raw['um_te'] = um_te[_]\n",
    "            temp_data = temp_data.append(raw, ignore_index=True)\n",
    "\n",
    "data_street = data_street.append(temp_data, ignore_index=True)"
   ],
   "metadata": {
    "collapsed": false,
    "pycharm": {
     "name": "#%%\n"
    }
   }
  },
  {
   "cell_type": "markdown",
   "source": [
    "<a id='prepare_type'></a>\n",
    "## Изменение типов данных ##"
   ],
   "metadata": {
    "collapsed": false,
    "pycharm": {
     "name": "#%% md\n"
    }
   }
  },
  {
   "cell_type": "code",
   "execution_count": 16,
   "outputs": [],
   "source": [
    "\n",
    "data['chain'] = data['chain'].replace(to_replace=['да', 'нет'], value=['сетевое', 'несетевое']).astype('category')\n",
    "data['object_type'] = data['object_type'].astype('category')\n",
    "data_street['um_te'] = data_street['um_te'].astype('int64')"
   ],
   "metadata": {
    "collapsed": false,
    "pycharm": {
     "name": "#%%\n"
    }
   }
  },
  {
   "cell_type": "markdown",
   "source": [
    "<a id='prepare_street'></a>\n",
    "## Создание нового столбца ##"
   ],
   "metadata": {
    "collapsed": false,
    "pycharm": {
     "name": "#%% md\n"
    }
   }
  },
  {
   "cell_type": "code",
   "execution_count": 18,
   "outputs": [],
   "source": [
    "data['street'] = data['address'].apply(lambda x: str.split(x, ',')[1]).str.strip()"
   ],
   "metadata": {
    "collapsed": false,
    "pycharm": {
     "name": "#%%\n"
    }
   }
  },
  {
   "cell_type": "markdown",
   "source": [
    "<a id='prepare_add_region'></a>\n",
    "## Добавление районов ##"
   ],
   "metadata": {
    "collapsed": false,
    "pycharm": {
     "name": "#%% md\n"
    }
   }
  },
  {
   "cell_type": "code",
   "execution_count": 30,
   "outputs": [],
   "source": [
    "add_data = data_street.merge(data_region[['um_te','name']], on='um_te', how='left')\n",
    "#data = data.merge()"
   ],
   "metadata": {
    "collapsed": false,
    "pycharm": {
     "name": "#%%\n"
    }
   }
  },
  {
   "cell_type": "code",
   "execution_count": 37,
   "outputs": [
    {
     "data": {
      "text/plain": "id                0\nobject_name       0\nchain             0\nobject_type       0\naddress           0\nnumber            0\nstreet            0\num_namef_x     1017\num_namef_y     1017\nname           1017\ndtype: int64"
     },
     "execution_count": 37,
     "metadata": {},
     "output_type": "execute_result"
    }
   ],
   "source": [
    "data = data.merge(add_data[['um_namef', 'name']], left_on='street', right_on='um_namef', how='left')\n",
    "data.isna().sum()"
   ],
   "metadata": {
    "collapsed": false,
    "pycharm": {
     "name": "#%%\n"
    }
   }
  },
  {
   "cell_type": "code",
   "execution_count": 38,
   "outputs": [
    {
     "data": {
      "text/plain": "            id                                object_name      chain  \\\n2885    150654                                       love  несетевое   \n15235    23601                      буфет - гбоу сош № 64  несетевое   \n15236    23604                            буфет - гбоу 60  несетевое   \n18443    22331                              столовая миэт  несетевое   \n18471    20199                                        это  несетевое   \n...        ...                                        ...        ...   \n217570  211230  предприятие быстрого обслуживания «милти»    сетевое   \n217812  212713                                burger club    сетевое   \n217988  210815                                      милти    сетевое   \n218054  210776                                мята lounge    сетевое   \n218293  221900                                шоколадница    сетевое   \n\n                              object_type  \\\n2885                                 кафе   \n15235                               буфет   \n15236                               буфет   \n18443                            столовая   \n18471                                кафе   \n...                                   ...   \n217570  предприятие быстрого обслуживания   \n217812                               кафе   \n217988  предприятие быстрого обслуживания   \n218054                           ресторан   \n218293                               кафе   \n\n                                                                                              address  \\\n2885                                                         город москва, 2-й квартал капотня, дом 1   \n15235                                                                      партизанская улица, дом 30   \n15236                                                                      партизанская улица, дом 30   \n18443                                            город москва, город зеленоград, улица юности, дом 11   \n18471                                                      город москва, город зеленоград, корпус 401   \n...                                                                                               ...   \n217570                                            город москва, микрорайон северное чертаново, дом 1а   \n217812                                город москва, поселение воскресенское, чечёрский проезд, дом 51   \n217988                                          город москва, город московский, улица хабарова, дом 2   \n218054                                          город москва, город московский, улица хабарова, дом 2   \n218293  город москва, поселение московский, киевское шоссе, 22-й километр, домовладение 4, строение 1   \n\n        number                         street um_namef_x um_namef_y name  \n2885        40            2-й квартал капотня        NaN        NaN  NaN  \n15235      100                         дом 30        NaN        NaN  NaN  \n15236      100                         дом 30        NaN        NaN  NaN  \n18443       56               город зеленоград        NaN        NaN  NaN  \n18471       35               город зеленоград        NaN        NaN  NaN  \n...        ...                            ...        ...        ...  ...  \n217570       0  микрорайон северное чертаново        NaN        NaN  NaN  \n217812       6        поселение воскресенское        NaN        NaN  NaN  \n217988       0               город московский        NaN        NaN  NaN  \n218054      50               город московский        NaN        NaN  NaN  \n218293      36           поселение московский        NaN        NaN  NaN  \n\n[1017 rows x 10 columns]",
      "text/html": "<div>\n<style scoped>\n    .dataframe tbody tr th:only-of-type {\n        vertical-align: middle;\n    }\n\n    .dataframe tbody tr th {\n        vertical-align: top;\n    }\n\n    .dataframe thead th {\n        text-align: right;\n    }\n</style>\n<table border=\"1\" class=\"dataframe\">\n  <thead>\n    <tr style=\"text-align: right;\">\n      <th></th>\n      <th>id</th>\n      <th>object_name</th>\n      <th>chain</th>\n      <th>object_type</th>\n      <th>address</th>\n      <th>number</th>\n      <th>street</th>\n      <th>um_namef_x</th>\n      <th>um_namef_y</th>\n      <th>name</th>\n    </tr>\n  </thead>\n  <tbody>\n    <tr>\n      <th>2885</th>\n      <td>150654</td>\n      <td>love</td>\n      <td>несетевое</td>\n      <td>кафе</td>\n      <td>город москва, 2-й квартал капотня, дом 1</td>\n      <td>40</td>\n      <td>2-й квартал капотня</td>\n      <td>NaN</td>\n      <td>NaN</td>\n      <td>NaN</td>\n    </tr>\n    <tr>\n      <th>15235</th>\n      <td>23601</td>\n      <td>буфет - гбоу сош № 64</td>\n      <td>несетевое</td>\n      <td>буфет</td>\n      <td>партизанская улица, дом 30</td>\n      <td>100</td>\n      <td>дом 30</td>\n      <td>NaN</td>\n      <td>NaN</td>\n      <td>NaN</td>\n    </tr>\n    <tr>\n      <th>15236</th>\n      <td>23604</td>\n      <td>буфет - гбоу 60</td>\n      <td>несетевое</td>\n      <td>буфет</td>\n      <td>партизанская улица, дом 30</td>\n      <td>100</td>\n      <td>дом 30</td>\n      <td>NaN</td>\n      <td>NaN</td>\n      <td>NaN</td>\n    </tr>\n    <tr>\n      <th>18443</th>\n      <td>22331</td>\n      <td>столовая миэт</td>\n      <td>несетевое</td>\n      <td>столовая</td>\n      <td>город москва, город зеленоград, улица юности, дом 11</td>\n      <td>56</td>\n      <td>город зеленоград</td>\n      <td>NaN</td>\n      <td>NaN</td>\n      <td>NaN</td>\n    </tr>\n    <tr>\n      <th>18471</th>\n      <td>20199</td>\n      <td>это</td>\n      <td>несетевое</td>\n      <td>кафе</td>\n      <td>город москва, город зеленоград, корпус 401</td>\n      <td>35</td>\n      <td>город зеленоград</td>\n      <td>NaN</td>\n      <td>NaN</td>\n      <td>NaN</td>\n    </tr>\n    <tr>\n      <th>...</th>\n      <td>...</td>\n      <td>...</td>\n      <td>...</td>\n      <td>...</td>\n      <td>...</td>\n      <td>...</td>\n      <td>...</td>\n      <td>...</td>\n      <td>...</td>\n      <td>...</td>\n    </tr>\n    <tr>\n      <th>217570</th>\n      <td>211230</td>\n      <td>предприятие быстрого обслуживания «милти»</td>\n      <td>сетевое</td>\n      <td>предприятие быстрого обслуживания</td>\n      <td>город москва, микрорайон северное чертаново, дом 1а</td>\n      <td>0</td>\n      <td>микрорайон северное чертаново</td>\n      <td>NaN</td>\n      <td>NaN</td>\n      <td>NaN</td>\n    </tr>\n    <tr>\n      <th>217812</th>\n      <td>212713</td>\n      <td>burger club</td>\n      <td>сетевое</td>\n      <td>кафе</td>\n      <td>город москва, поселение воскресенское, чечёрский проезд, дом 51</td>\n      <td>6</td>\n      <td>поселение воскресенское</td>\n      <td>NaN</td>\n      <td>NaN</td>\n      <td>NaN</td>\n    </tr>\n    <tr>\n      <th>217988</th>\n      <td>210815</td>\n      <td>милти</td>\n      <td>сетевое</td>\n      <td>предприятие быстрого обслуживания</td>\n      <td>город москва, город московский, улица хабарова, дом 2</td>\n      <td>0</td>\n      <td>город московский</td>\n      <td>NaN</td>\n      <td>NaN</td>\n      <td>NaN</td>\n    </tr>\n    <tr>\n      <th>218054</th>\n      <td>210776</td>\n      <td>мята lounge</td>\n      <td>сетевое</td>\n      <td>ресторан</td>\n      <td>город москва, город московский, улица хабарова, дом 2</td>\n      <td>50</td>\n      <td>город московский</td>\n      <td>NaN</td>\n      <td>NaN</td>\n      <td>NaN</td>\n    </tr>\n    <tr>\n      <th>218293</th>\n      <td>221900</td>\n      <td>шоколадница</td>\n      <td>сетевое</td>\n      <td>кафе</td>\n      <td>город москва, поселение московский, киевское шоссе, 22-й километр, домовладение 4, строение 1</td>\n      <td>36</td>\n      <td>поселение московский</td>\n      <td>NaN</td>\n      <td>NaN</td>\n      <td>NaN</td>\n    </tr>\n  </tbody>\n</table>\n<p>1017 rows × 10 columns</p>\n</div>"
     },
     "execution_count": 38,
     "metadata": {},
     "output_type": "execute_result"
    }
   ],
   "source": [
    "data[data['name'].isna()]\n",
    "\n"
   ],
   "metadata": {
    "collapsed": false,
    "pycharm": {
     "name": "#%%\n"
    }
   }
  },
  {
   "cell_type": "code",
   "execution_count": null,
   "outputs": [],
   "source": [
    "data_street[data_street['uf']]"
   ],
   "metadata": {
    "collapsed": false,
    "pycharm": {
     "name": "#%%\n"
    }
   }
  },
  {
   "cell_type": "code",
   "execution_count": 35,
   "outputs": [
    {
     "data": {
      "text/plain": "     um_code               um_namef             um_names um_type  um_te  \\\n4036      10  улица егора абакумова  ул. егора абакумова       1    317   \n\n               um_kladr global_id               name  \n4036  77000000000070500  58485166  ярославский район  ",
      "text/html": "<div>\n<style scoped>\n    .dataframe tbody tr th:only-of-type {\n        vertical-align: middle;\n    }\n\n    .dataframe tbody tr th {\n        vertical-align: top;\n    }\n\n    .dataframe thead th {\n        text-align: right;\n    }\n</style>\n<table border=\"1\" class=\"dataframe\">\n  <thead>\n    <tr style=\"text-align: right;\">\n      <th></th>\n      <th>um_code</th>\n      <th>um_namef</th>\n      <th>um_names</th>\n      <th>um_type</th>\n      <th>um_te</th>\n      <th>um_kladr</th>\n      <th>global_id</th>\n      <th>name</th>\n    </tr>\n  </thead>\n  <tbody>\n    <tr>\n      <th>4036</th>\n      <td>10</td>\n      <td>улица егора абакумова</td>\n      <td>ул. егора абакумова</td>\n      <td>1</td>\n      <td>317</td>\n      <td>77000000000070500</td>\n      <td>58485166</td>\n      <td>ярославский район</td>\n    </tr>\n  </tbody>\n</table>\n</div>"
     },
     "execution_count": 35,
     "metadata": {},
     "output_type": "execute_result"
    }
   ],
   "source": [
    "add_data[add_data['um_namef'] == \"улица егора абакумова\"]"
   ],
   "metadata": {
    "collapsed": false,
    "pycharm": {
     "name": "#%%\n"
    }
   }
  },
  {
   "cell_type": "code",
   "execution_count": 34,
   "outputs": [
    {
     "data": {
      "text/plain": "           id             object_name      chain object_type  \\\n0      151635                 сметана  несетевое        кафе   \n1       77874                  родник  несетевое        кафе   \n2       24309         кафе «академия»  несетевое        кафе   \n3       21894              пиццетория    сетевое        кафе   \n4      119365  кафе «вишневая метель»  несетевое        кафе   \n...       ...                     ...        ...         ...   \n15361  208537             шоколадница    сетевое        кафе   \n15362  209264             шоколадница    сетевое        кафе   \n15363  209186             шоколадница    сетевое        кафе   \n15364  221900             шоколадница    сетевое        кафе   \n15365  222535             шоколадница    сетевое        кафе   \n\n                                                                                             address  \\\n0                                                         город москва, улица егора абакумова, дом 9   \n1                                                  город москва, улица талалихина, дом 2/1, корпус 1   \n2                                                          город москва, абельмановская улица, дом 6   \n3                                                            город москва, абрамцевская улица, дом 1   \n4                                                  город москва, абрамцевская улица, дом 9, корпус 1   \n...                                                                                              ...   \n15361                                                   город москва, 3-й крутицкий переулок, дом 18   \n15362                                                       город москва, улица земляной вал, дом 33   \n15363                                                       город москва, улица земляной вал, дом 33   \n15364  город москва, поселение московский, киевское шоссе, 22-й километр, домовладение 4, строение 1   \n15365                                                         город москва, ходынский бульвар, дом 4   \n\n       number                  street  \n0          48   улица егора абакумова  \n1          35        улица талалихина  \n2          95    абельмановская улица  \n3          40      абрамцевская улица  \n4          50      абрамцевская улица  \n...       ...                     ...  \n15361      50  3-й крутицкий переулок  \n15362      10      улица земляной вал  \n15363      20      улица земляной вал  \n15364      36    поселение московский  \n15365      10       ходынский бульвар  \n\n[15366 rows x 7 columns]",
      "text/html": "<div>\n<style scoped>\n    .dataframe tbody tr th:only-of-type {\n        vertical-align: middle;\n    }\n\n    .dataframe tbody tr th {\n        vertical-align: top;\n    }\n\n    .dataframe thead th {\n        text-align: right;\n    }\n</style>\n<table border=\"1\" class=\"dataframe\">\n  <thead>\n    <tr style=\"text-align: right;\">\n      <th></th>\n      <th>id</th>\n      <th>object_name</th>\n      <th>chain</th>\n      <th>object_type</th>\n      <th>address</th>\n      <th>number</th>\n      <th>street</th>\n    </tr>\n  </thead>\n  <tbody>\n    <tr>\n      <th>0</th>\n      <td>151635</td>\n      <td>сметана</td>\n      <td>несетевое</td>\n      <td>кафе</td>\n      <td>город москва, улица егора абакумова, дом 9</td>\n      <td>48</td>\n      <td>улица егора абакумова</td>\n    </tr>\n    <tr>\n      <th>1</th>\n      <td>77874</td>\n      <td>родник</td>\n      <td>несетевое</td>\n      <td>кафе</td>\n      <td>город москва, улица талалихина, дом 2/1, корпус 1</td>\n      <td>35</td>\n      <td>улица талалихина</td>\n    </tr>\n    <tr>\n      <th>2</th>\n      <td>24309</td>\n      <td>кафе «академия»</td>\n      <td>несетевое</td>\n      <td>кафе</td>\n      <td>город москва, абельмановская улица, дом 6</td>\n      <td>95</td>\n      <td>абельмановская улица</td>\n    </tr>\n    <tr>\n      <th>3</th>\n      <td>21894</td>\n      <td>пиццетория</td>\n      <td>сетевое</td>\n      <td>кафе</td>\n      <td>город москва, абрамцевская улица, дом 1</td>\n      <td>40</td>\n      <td>абрамцевская улица</td>\n    </tr>\n    <tr>\n      <th>4</th>\n      <td>119365</td>\n      <td>кафе «вишневая метель»</td>\n      <td>несетевое</td>\n      <td>кафе</td>\n      <td>город москва, абрамцевская улица, дом 9, корпус 1</td>\n      <td>50</td>\n      <td>абрамцевская улица</td>\n    </tr>\n    <tr>\n      <th>...</th>\n      <td>...</td>\n      <td>...</td>\n      <td>...</td>\n      <td>...</td>\n      <td>...</td>\n      <td>...</td>\n      <td>...</td>\n    </tr>\n    <tr>\n      <th>15361</th>\n      <td>208537</td>\n      <td>шоколадница</td>\n      <td>сетевое</td>\n      <td>кафе</td>\n      <td>город москва, 3-й крутицкий переулок, дом 18</td>\n      <td>50</td>\n      <td>3-й крутицкий переулок</td>\n    </tr>\n    <tr>\n      <th>15362</th>\n      <td>209264</td>\n      <td>шоколадница</td>\n      <td>сетевое</td>\n      <td>кафе</td>\n      <td>город москва, улица земляной вал, дом 33</td>\n      <td>10</td>\n      <td>улица земляной вал</td>\n    </tr>\n    <tr>\n      <th>15363</th>\n      <td>209186</td>\n      <td>шоколадница</td>\n      <td>сетевое</td>\n      <td>кафе</td>\n      <td>город москва, улица земляной вал, дом 33</td>\n      <td>20</td>\n      <td>улица земляной вал</td>\n    </tr>\n    <tr>\n      <th>15364</th>\n      <td>221900</td>\n      <td>шоколадница</td>\n      <td>сетевое</td>\n      <td>кафе</td>\n      <td>город москва, поселение московский, киевское шоссе, 22-й километр, домовладение 4, строение 1</td>\n      <td>36</td>\n      <td>поселение московский</td>\n    </tr>\n    <tr>\n      <th>15365</th>\n      <td>222535</td>\n      <td>шоколадница</td>\n      <td>сетевое</td>\n      <td>кафе</td>\n      <td>город москва, ходынский бульвар, дом 4</td>\n      <td>10</td>\n      <td>ходынский бульвар</td>\n    </tr>\n  </tbody>\n</table>\n<p>15366 rows × 7 columns</p>\n</div>"
     },
     "execution_count": 34,
     "metadata": {},
     "output_type": "execute_result"
    }
   ],
   "source": [
    "data"
   ],
   "metadata": {
    "collapsed": false,
    "pycharm": {
     "name": "#%%\n"
    }
   }
  },
  {
   "cell_type": "markdown",
   "source": [
    "<a id='prepare_dup'></a>\n",
    "## Поиск дубликатов/пропусков данных ##"
   ],
   "metadata": {
    "collapsed": false,
    "pycharm": {
     "name": "#%% md\n"
    }
   }
  },
  {
   "cell_type": "code",
   "execution_count": null,
   "outputs": [],
   "source": [
    "print(data.duplicated().sum())\n",
    "print(data.isna().sum())"
   ],
   "metadata": {
    "collapsed": false,
    "pycharm": {
     "name": "#%%\n"
    }
   }
  },
  {
   "cell_type": "markdown",
   "source": [
    "## Итоги предобработки данных ##\n",
    "1. переведены в нижний регистр\n",
    "   - data['object_name']\n",
    "   - data['address']\n",
    "2. изменен тип данных:\n",
    "   - data['chain']\n",
    "   - data['object_type']\n",
    "3. создан новый столбец:\n",
    "   - data['street']"
   ],
   "metadata": {
    "collapsed": false,
    "pycharm": {
     "name": "#%% md\n"
    }
   }
  },
  {
   "cell_type": "markdown",
   "source": [
    "<a id='analyse'></a>\n",
    "# Анализ данных #"
   ],
   "metadata": {
    "collapsed": false,
    "pycharm": {
     "name": "#%% md\n"
    }
   }
  },
  {
   "cell_type": "markdown",
   "source": [
    "<a id='analyse_object_kind'></a>\n",
    "## Соотношение видов объектов общественного питания ##"
   ],
   "metadata": {
    "collapsed": false,
    "pycharm": {
     "name": "#%% md\n"
    }
   }
  },
  {
   "cell_type": "code",
   "execution_count": null,
   "outputs": [],
   "source": [
    "fig = px.pie(data_frame=data.groupby(by='chain', axis='index')\\\n",
    "                            .agg({'id':'count'})\\\n",
    "                            .reset_index()\\\n",
    "                            .rename(columns={'chain':'type',\n",
    "                                             'id':'count'}),\n",
    "             names='type',\n",
    "             values='count',\n",
    "             template='seaborn',\n",
    "             title='Отношение количества сетевых/несетевых заведений')\n",
    "fig.update_layout(legend_title='Вид заведения')\n",
    "fig.show()\n"
   ],
   "metadata": {
    "collapsed": false,
    "pycharm": {
     "name": "#%%\n"
    }
   }
  },
  {
   "cell_type": "markdown",
   "source": [
    "## Итоги осмотра соотношения видов заведений ##\n",
    "1. на рынке общественного питания Москвы преобладают несетевые заведения.\n",
    "   Доли распределены следующим образом:\n",
    "   - несетевые заведения - 80.7%(12398 шт.)\n",
    "   - сетевые заведения - 19.3%(2968 шт.)"
   ],
   "metadata": {
    "collapsed": false,
    "pycharm": {
     "name": "#%% md\n"
    }
   }
  },
  {
   "cell_type": "markdown",
   "source": [
    "## Соотношение типов объектов общественного питания ##"
   ],
   "metadata": {
    "collapsed": false,
    "pycharm": {
     "name": "#%% md\n"
    }
   }
  },
  {
   "cell_type": "code",
   "execution_count": null,
   "outputs": [],
   "source": [
    "fig = px.pie(data_frame=data.groupby(by='object_type', axis='index')\\\n",
    "                            .agg({'id':'count'})\\\n",
    "                            .reset_index()\\\n",
    "                            .rename(columns={'id':'count'}),\n",
    "             names='object_type',\n",
    "             values='count',\n",
    "             template='seaborn',\n",
    "             title='Соотношение типов заведений')\n",
    "fig.update_layout(legend_title = 'Тип заведения')\n",
    "fig.show()"
   ],
   "metadata": {
    "collapsed": false,
    "pycharm": {
     "name": "#%%\n"
    }
   }
  },
  {
   "cell_type": "markdown",
   "source": [
    "## Итоги осмотра соотношения типов объектов общественного питания ##\n",
    "1. 83.9% объектов общественного питания составляют следующие типы:\n",
    "   - кафе - 39.7%(6099 шт.)\n",
    "   - столовая - 16.8%(2587 шт.)\n",
    "   - ресторан - 14.9%(2285 шт.)\n",
    "   - предприятие быстрого обслуживания - 12.5%(1923 шт.\n",
    "2. оставшуюся долю - 16.1% составляют следующие типы\n",
    "   - бар\n",
    "   - буфет\n",
    "   - кафетерий\n",
    "   - закусочная\n",
    "   - магазин(отдел кулинарии)"
   ],
   "metadata": {
    "collapsed": false,
    "pycharm": {
     "name": "#%% md\n"
    }
   }
  },
  {
   "cell_type": "markdown",
   "source": [
    "<a id='analyse_kind_of_type'></a>\n",
    "## Виды заведений характерные для типов заведений ##"
   ],
   "metadata": {
    "collapsed": false,
    "pycharm": {
     "name": "#%% md\n"
    }
   }
  },
  {
   "cell_type": "code",
   "execution_count": null,
   "outputs": [],
   "source": [
    "fig = px.bar(data_frame=data.pivot_table(index=['object_type', 'chain'],\n",
    "                                         values=['id'],\n",
    "                                         aggfunc='count').reset_index(),\n",
    "       x='object_type',\n",
    "       y='id',\n",
    "       color='chain',\n",
    "       barmode='group',\n",
    "       template='seaborn',\n",
    "       text_auto=True,\n",
    "       labels={'id':'Кол-во заведений',\n",
    "               'object_type':'Тип заведения',\n",
    "               'chain':'Вид заведения'},\n",
    "       title='Виды заведений характерные для типов заведений')\n",
    "fig.show()"
   ],
   "metadata": {
    "collapsed": false,
    "pycharm": {
     "name": "#%%\n"
    }
   }
  },
  {
   "cell_type": "markdown",
   "source": [
    "## Итоги осмотра характерных видов заведений для типов заведений ##\n",
    "1. Сетевой вид заведения наиболее характерен для следующих типов заведений:\n",
    "   - кафе\n",
    "   - предприятие быстрого обслуживания\n",
    "   - ресторан"
   ],
   "metadata": {
    "collapsed": false,
    "pycharm": {
     "name": "#%% md\n"
    }
   }
  },
  {
   "cell_type": "markdown",
   "source": [
    "<a id='analyse_net_seat'></a>\n",
    "## Характеристика сетевых заведений по количеству посадочных мест ##"
   ],
   "metadata": {
    "collapsed": false,
    "pycharm": {
     "name": "#%% md\n"
    }
   }
  },
  {
   "cell_type": "code",
   "execution_count": null,
   "outputs": [],
   "source": [
    "centroid = data['number'].mean()\n",
    "data['seat_type'] = data['number'].apply(lambda x: 'много(>=60)' if x >= centroid else 'мало(<60)')\n",
    "data['seat_type'] = data['seat_type'].astype('category')"
   ],
   "metadata": {
    "collapsed": false,
    "pycharm": {
     "name": "#%%\n"
    }
   }
  },
  {
   "cell_type": "code",
   "execution_count": null,
   "outputs": [],
   "source": [
    "fig = px.pie(data_frame=data.query('chain == \"сетевое\"')\n",
    "                            .groupby(by='seat_type')\n",
    "                            .agg({'id':'count'})\n",
    "                            .reset_index()\n",
    "                            .rename(columns={'id':'count'}),\n",
    "             names='seat_type',\n",
    "             values='count',\n",
    "             template='seaborn',\n",
    "             title='Характеристика сетевых заведений по количеству посадочных мест')\n",
    "fig.update_layout(legend_title = 'Кол-во мест')\n",
    "fig.show()"
   ],
   "metadata": {
    "collapsed": false,
    "pycharm": {
     "name": "#%%\n"
    }
   }
  },
  {
   "cell_type": "markdown",
   "source": [
    "## Итоги осмотра характеристики сетевых заведений по количеству посадочных мест ##\n",
    "Сетевые заведения предпочитают небольшие залы, с количеством посадочных мест <60."
   ],
   "metadata": {
    "collapsed": false,
    "pycharm": {
     "name": "#%% md\n"
    }
   }
  },
  {
   "cell_type": "markdown",
   "source": [
    "<a id='analyse_seat_type'></a>\n",
    "## Среднее количество мест характерное для типа заведения ##"
   ],
   "metadata": {
    "collapsed": false,
    "pycharm": {
     "name": "#%% md\n"
    }
   }
  },
  {
   "cell_type": "code",
   "execution_count": null,
   "outputs": [],
   "source": [
    "fig = px.bar(data_frame=data.groupby(by='object_type')\n",
    "                            .agg({'number':np.mean})\n",
    "                            .reset_index()\n",
    "                            .sort_values(by='number', ascending=False),\n",
    "             x='object_type',\n",
    "             y='number',\n",
    "             template='seaborn',\n",
    "             text_auto='3.0f',\n",
    "             color='object_type',\n",
    "             title='Среднее количество мест характерное для типа заведения',\n",
    "             labels={'number':'Ср. кол-во мест',\n",
    "                     'object_type':'Тип заведения'})\n",
    "fig.show()"
   ],
   "metadata": {
    "collapsed": false,
    "pycharm": {
     "name": "#%%\n"
    }
   }
  },
  {
   "cell_type": "markdown",
   "source": [
    "## Итоги осмотра среднего количества мест характерного для типа заведения ##\n",
    "1. Будем ориентироваться на заведения типа \"кафе\" и близкие к ним:\n",
    "   - кафе ~40 посадочных мест\n",
    "   - бар ~43 посадочных места\n",
    "   - ресторан ~97 посадочных мест\n",
    "2. Самое большое среднее количество посадочных мест предоставляет:\n",
    "   - столоваяя"
   ],
   "metadata": {
    "collapsed": false,
    "pycharm": {
     "name": "#%% md\n"
    }
   }
  },
  {
   "cell_type": "markdown",
   "source": [
    "<a id='analyse_map'></a>\n",
    "## Распределение заведений по территории Москвы ##"
   ],
   "metadata": {
    "collapsed": false,
    "pycharm": {
     "name": "#%% md\n"
    }
   }
  },
  {
   "cell_type": "code",
   "execution_count": null,
   "outputs": [],
   "source": [
    "\n",
    "#data['address'].to_csv(path_or_buf='datasets/address.csv')"
   ],
   "metadata": {
    "collapsed": false,
    "pycharm": {
     "name": "#%%\n"
    }
   }
  },
  {
   "cell_type": "code",
   "execution_count": null,
   "outputs": [],
   "source": [
    "# geojson =\n",
    "# fig = px.choropleth_mapbox(data, geojson=geojson, color=\"Bergeron\",\n",
    "#                            locations=\"district\", featureidkey=\"properties.district\",\n",
    "#                            center={\"lat\": 45.5517, \"lon\": -73.7073},\n",
    "#                            mapbox_style=\"carto-positron\", zoom=9)\n",
    "# fig.show()"
   ],
   "metadata": {
    "collapsed": false,
    "pycharm": {
     "name": "#%%\n"
    }
   }
  },
  {
   "cell_type": "code",
   "execution_count": null,
   "outputs": [],
   "source": [
    "data.address.unique()"
   ],
   "metadata": {
    "collapsed": false,
    "pycharm": {
     "name": "#%%\n"
    }
   }
  },
  {
   "cell_type": "code",
   "execution_count": null,
   "outputs": [],
   "source": [
    "cities = pd.read_csv('https://raw.githubusercontent.com/hflabs/city/master/city.csv')\n",
    "\n",
    "capital = cities[cities['region']=='Москва']\n",
    "display(capital)"
   ],
   "metadata": {
    "collapsed": false,
    "pycharm": {
     "name": "#%%\n"
    }
   }
  },
  {
   "cell_type": "code",
   "execution_count": null,
   "outputs": [],
   "source": [],
   "metadata": {
    "collapsed": false,
    "pycharm": {
     "name": "#%%\n"
    }
   }
  }
 ],
 "metadata": {
  "kernelspec": {
   "display_name": "Python 3",
   "language": "python",
   "name": "python3"
  },
  "language_info": {
   "codemirror_mode": {
    "name": "ipython",
    "version": 2
   },
   "file_extension": ".py",
   "mimetype": "text/x-python",
   "name": "python",
   "nbconvert_exporter": "python",
   "pygments_lexer": "ipython2",
   "version": "2.7.6"
  }
 },
 "nbformat": 4,
 "nbformat_minor": 0
}