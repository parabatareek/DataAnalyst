{
 "cells": [
  {
   "cell_type": "markdown",
   "metadata": {},
   "source": [
    "# Исследование надёжности заёмщиков\n",
    "\n",
    "Заказчик — кредитный отдел банка. Нужно разобраться, влияет ли семейное положение и количество детей клиента на факт погашения кредита в срок. Входные данные от банка — статистика о платёжеспособности клиентов.\n",
    "\n",
    "Результаты исследования будут учтены при построении модели **кредитного скоринга** — специальной системы, которая оценивает способность потенциального заёмщика вернуть кредит банку."
   ]
  },
  {
   "cell_type": "markdown",
   "source": [
    "# Описание данных #\n",
    "\n",
    "    children — количество детей в семье\n",
    "    days_employed — общий трудовой стаж в днях\n",
    "    dob_years — возраст клиента в годах\n",
    "    education — уровень образования клиента\n",
    "    education_id — идентификатор уровня образования\n",
    "    family_status — семейное положение\n",
    "    family_status_id — идентификатор семейного положения\n",
    "    gender — пол клиента\n",
    "    income_type — тип занятости\n",
    "    debt — имел ли задолженность по возврату кредитов\n",
    "    total_income — ежемесячный доход\n",
    "    purpose — цель получения кредита"
   ],
   "metadata": {
    "collapsed": false,
    "pycharm": {
     "name": "#%% md\n"
    }
   }
  },
  {
   "cell_type": "markdown",
   "source": [
    "# Импорт библиотек #"
   ],
   "metadata": {
    "collapsed": false,
    "pycharm": {
     "name": "#%% md\n"
    }
   }
  },
  {
   "cell_type": "code",
   "execution_count": 1,
   "outputs": [],
   "source": [
    "import  pandas as pd\n",
    "from pymystem3 import Mystem\n",
    "from IPython.core.display import display\n",
    "import seaborn as sns"
   ],
   "metadata": {
    "collapsed": false,
    "pycharm": {
     "name": "#%%\n"
    }
   }
  },
  {
   "cell_type": "markdown",
   "metadata": {},
   "source": [
    "## Шаг 1. Откройте файл с данными и изучите общую информацию"
   ]
  },
  {
   "cell_type": "code",
   "execution_count": 3,
   "metadata": {},
   "outputs": [
    {
     "data": {
      "text/plain": "   children  days_employed  dob_years education  education_id  \\\n0         1   -8437.673028         42    высшее             0   \n1         1   -4024.803754         36   среднее             1   \n2         0   -5623.422610         33   Среднее             1   \n3         3   -4124.747207         32   среднее             1   \n4         0  340266.072047         53   среднее             1   \n5         0    -926.185831         27    высшее             0   \n6         0   -2879.202052         43    высшее             0   \n7         0    -152.779569         50   СРЕДНЕЕ             1   \n8         2   -6929.865299         35    ВЫСШЕЕ             0   \n9         0   -2188.756445         41   среднее             1   \n\n      family_status  family_status_id gender income_type  debt   total_income  \\\n0   женат / замужем                 0      F   сотрудник     0  253875.639453   \n1   женат / замужем                 0      F   сотрудник     0  112080.014102   \n2   женат / замужем                 0      M   сотрудник     0  145885.952297   \n3   женат / замужем                 0      M   сотрудник     0  267628.550329   \n4  гражданский брак                 1      F   пенсионер     0  158616.077870   \n5  гражданский брак                 1      M   компаньон     0  255763.565419   \n6   женат / замужем                 0      F   компаньон     0  240525.971920   \n7   женат / замужем                 0      M   сотрудник     0  135823.934197   \n8  гражданский брак                 1      F   сотрудник     0   95856.832424   \n9   женат / замужем                 0      M   сотрудник     0  144425.938277   \n\n                      purpose  \n0               покупка жилья  \n1     приобретение автомобиля  \n2               покупка жилья  \n3  дополнительное образование  \n4             сыграть свадьбу  \n5               покупка жилья  \n6           операции с жильем  \n7                 образование  \n8       на проведение свадьбы  \n9     покупка жилья для семьи  ",
      "text/html": "<div>\n<style scoped>\n    .dataframe tbody tr th:only-of-type {\n        vertical-align: middle;\n    }\n\n    .dataframe tbody tr th {\n        vertical-align: top;\n    }\n\n    .dataframe thead th {\n        text-align: right;\n    }\n</style>\n<table border=\"1\" class=\"dataframe\">\n  <thead>\n    <tr style=\"text-align: right;\">\n      <th></th>\n      <th>children</th>\n      <th>days_employed</th>\n      <th>dob_years</th>\n      <th>education</th>\n      <th>education_id</th>\n      <th>family_status</th>\n      <th>family_status_id</th>\n      <th>gender</th>\n      <th>income_type</th>\n      <th>debt</th>\n      <th>total_income</th>\n      <th>purpose</th>\n    </tr>\n  </thead>\n  <tbody>\n    <tr>\n      <th>0</th>\n      <td>1</td>\n      <td>-8437.673028</td>\n      <td>42</td>\n      <td>высшее</td>\n      <td>0</td>\n      <td>женат / замужем</td>\n      <td>0</td>\n      <td>F</td>\n      <td>сотрудник</td>\n      <td>0</td>\n      <td>253875.639453</td>\n      <td>покупка жилья</td>\n    </tr>\n    <tr>\n      <th>1</th>\n      <td>1</td>\n      <td>-4024.803754</td>\n      <td>36</td>\n      <td>среднее</td>\n      <td>1</td>\n      <td>женат / замужем</td>\n      <td>0</td>\n      <td>F</td>\n      <td>сотрудник</td>\n      <td>0</td>\n      <td>112080.014102</td>\n      <td>приобретение автомобиля</td>\n    </tr>\n    <tr>\n      <th>2</th>\n      <td>0</td>\n      <td>-5623.422610</td>\n      <td>33</td>\n      <td>Среднее</td>\n      <td>1</td>\n      <td>женат / замужем</td>\n      <td>0</td>\n      <td>M</td>\n      <td>сотрудник</td>\n      <td>0</td>\n      <td>145885.952297</td>\n      <td>покупка жилья</td>\n    </tr>\n    <tr>\n      <th>3</th>\n      <td>3</td>\n      <td>-4124.747207</td>\n      <td>32</td>\n      <td>среднее</td>\n      <td>1</td>\n      <td>женат / замужем</td>\n      <td>0</td>\n      <td>M</td>\n      <td>сотрудник</td>\n      <td>0</td>\n      <td>267628.550329</td>\n      <td>дополнительное образование</td>\n    </tr>\n    <tr>\n      <th>4</th>\n      <td>0</td>\n      <td>340266.072047</td>\n      <td>53</td>\n      <td>среднее</td>\n      <td>1</td>\n      <td>гражданский брак</td>\n      <td>1</td>\n      <td>F</td>\n      <td>пенсионер</td>\n      <td>0</td>\n      <td>158616.077870</td>\n      <td>сыграть свадьбу</td>\n    </tr>\n    <tr>\n      <th>5</th>\n      <td>0</td>\n      <td>-926.185831</td>\n      <td>27</td>\n      <td>высшее</td>\n      <td>0</td>\n      <td>гражданский брак</td>\n      <td>1</td>\n      <td>M</td>\n      <td>компаньон</td>\n      <td>0</td>\n      <td>255763.565419</td>\n      <td>покупка жилья</td>\n    </tr>\n    <tr>\n      <th>6</th>\n      <td>0</td>\n      <td>-2879.202052</td>\n      <td>43</td>\n      <td>высшее</td>\n      <td>0</td>\n      <td>женат / замужем</td>\n      <td>0</td>\n      <td>F</td>\n      <td>компаньон</td>\n      <td>0</td>\n      <td>240525.971920</td>\n      <td>операции с жильем</td>\n    </tr>\n    <tr>\n      <th>7</th>\n      <td>0</td>\n      <td>-152.779569</td>\n      <td>50</td>\n      <td>СРЕДНЕЕ</td>\n      <td>1</td>\n      <td>женат / замужем</td>\n      <td>0</td>\n      <td>M</td>\n      <td>сотрудник</td>\n      <td>0</td>\n      <td>135823.934197</td>\n      <td>образование</td>\n    </tr>\n    <tr>\n      <th>8</th>\n      <td>2</td>\n      <td>-6929.865299</td>\n      <td>35</td>\n      <td>ВЫСШЕЕ</td>\n      <td>0</td>\n      <td>гражданский брак</td>\n      <td>1</td>\n      <td>F</td>\n      <td>сотрудник</td>\n      <td>0</td>\n      <td>95856.832424</td>\n      <td>на проведение свадьбы</td>\n    </tr>\n    <tr>\n      <th>9</th>\n      <td>0</td>\n      <td>-2188.756445</td>\n      <td>41</td>\n      <td>среднее</td>\n      <td>1</td>\n      <td>женат / замужем</td>\n      <td>0</td>\n      <td>M</td>\n      <td>сотрудник</td>\n      <td>0</td>\n      <td>144425.938277</td>\n      <td>покупка жилья для семьи</td>\n    </tr>\n  </tbody>\n</table>\n</div>"
     },
     "execution_count": 3,
     "metadata": {},
     "output_type": "execute_result"
    }
   ],
   "source": [
    "data = pd.read_csv(filepath_or_buffer='datasets/data.csv')\n",
    "data.head(10)"
   ]
  },
  {
   "cell_type": "code",
   "execution_count": 3,
   "outputs": [
    {
     "name": "stdout",
     "output_type": "stream",
     "text": [
      "<class 'pandas.core.frame.DataFrame'>\n",
      "RangeIndex: 21525 entries, 0 to 21524\n",
      "Data columns (total 12 columns):\n",
      " #   Column            Non-Null Count  Dtype  \n",
      "---  ------            --------------  -----  \n",
      " 0   children          21525 non-null  int64  \n",
      " 1   days_employed     19351 non-null  float64\n",
      " 2   dob_years         21525 non-null  int64  \n",
      " 3   education         21525 non-null  object \n",
      " 4   education_id      21525 non-null  int64  \n",
      " 5   family_status     21525 non-null  object \n",
      " 6   family_status_id  21525 non-null  int64  \n",
      " 7   gender            21525 non-null  object \n",
      " 8   income_type       21525 non-null  object \n",
      " 9   debt              21525 non-null  int64  \n",
      " 10  total_income      19351 non-null  float64\n",
      " 11  purpose           21525 non-null  object \n",
      "dtypes: float64(2), int64(5), object(5)\n",
      "memory usage: 2.0+ MB\n"
     ]
    }
   ],
   "source": [
    "data.info()"
   ],
   "metadata": {
    "collapsed": false,
    "pycharm": {
     "name": "#%%\n"
    }
   }
  },
  {
   "cell_type": "code",
   "execution_count": 8,
   "outputs": [
    {
     "data": {
      "text/plain": "<Figure size 432x288 with 1 Axes>",
      "image/png": "[encoded data removed]"
     },
     "metadata": {
      "needs_background": "light"
     },
     "output_type": "display_data"
    }
   ],
   "source": [
    "sns.boxplot(data=data['children'])"
   ],
   "metadata": {
    "collapsed": false,
    "pycharm": {
     "name": "#%%\n"
    }
   }
  },
  {
   "cell_type": "code",
   "execution_count": 11,
   "outputs": [
    {
     "data": {
      "text/plain": "<AxesSubplot:>"
     },
     "execution_count": 11,
     "metadata": {},
     "output_type": "execute_result"
    },
    {
     "data": {
      "text/plain": "<Figure size 432x288 with 1 Axes>",
      "image/png": "[encoded data removed]"
     },
     "metadata": {
      "needs_background": "light"
     },
     "output_type": "display_data"
    }
   ],
   "source": [
    "sns.boxplot(data=data['days_employed'] / 365)"
   ],
   "metadata": {
    "collapsed": false,
    "pycharm": {
     "name": "#%%\n"
    }
   }
  },
  {
   "cell_type": "code",
   "execution_count": 9,
   "outputs": [
    {
     "data": {
      "text/plain": "<AxesSubplot:>"
     },
     "execution_count": 9,
     "metadata": {},
     "output_type": "execute_result"
    },
    {
     "data": {
      "text/plain": "<Figure size 432x288 with 1 Axes>",
      "image/png": "[encoded data removed]"
     },
     "metadata": {
      "needs_background": "light"
     },
     "output_type": "display_data"
    }
   ],
   "source": [
    "sns.boxplot(data=data['dob_years'])"
   ],
   "metadata": {
    "collapsed": false,
    "pycharm": {
     "name": "#%%\n"
    }
   }
  },
  {
   "cell_type": "code",
   "execution_count": 10,
   "outputs": [
    {
     "data": {
      "text/plain": "<AxesSubplot:>"
     },
     "execution_count": 10,
     "metadata": {},
     "output_type": "execute_result"
    },
    {
     "data": {
      "text/plain": "<Figure size 432x288 with 1 Axes>",
      "image/png": "[encoded data removed]"
     },
     "metadata": {
      "needs_background": "light"
     },
     "output_type": "display_data"
    }
   ],
   "source": [
    "sns.boxplot(data=data['total_income'])"
   ],
   "metadata": {
    "collapsed": false,
    "pycharm": {
     "name": "#%%\n"
    }
   }
  },
  {
   "cell_type": "markdown",
   "metadata": {},
   "source": [
    "**Вывод**\n",
    "1. data['days_employed']:\n",
    "    - отрицательные значения/дробные значения - как интерпретировать?\n",
    "2. data['education']:\n",
    "    - изменить тип на 'category'\n",
    "3. data['education_id']:\n",
    "    - удалить\n",
    "4. data['family_status']:\n",
    "    - изменить тип на 'category'\n",
    "5. data['family_status_id']:\n",
    "    - удалить\n",
    "6. data['gender']:\n",
    "    - изменить тип на 'category'\n",
    "7. data['income_type']:\n",
    "    - изменить тип на 'category'\n",
    "8. data['total_income']:\n",
    "    - предложить варианты сегментации заемщиков\n",
    "9. data['purpose']:\n",
    "    - выделить основные сегменты\n",
    "10. обнаружены аномальные данные data['children'] = 20\n",
    "11. обнаружены аномальные данные data['days_employed'] - стаж более 800 лет\n",
    "12. обнаружены аномальные данные data['dob_years'] - 0, 80"
   ]
  },
  {
   "cell_type": "markdown",
   "metadata": {},
   "source": [
    "## Шаг 2. Предобработка данных"
   ]
  },
  {
   "cell_type": "markdown",
   "metadata": {},
   "source": [
    "### Обработка пропусков"
   ]
  },
  {
   "cell_type": "code",
   "execution_count": 4,
   "outputs": [
    {
     "name": "stdout",
     "output_type": "stream",
     "text": [
      "children               0\n",
      "days_employed       2174\n",
      "dob_years              0\n",
      "education              0\n",
      "education_id           0\n",
      "family_status          0\n",
      "family_status_id       0\n",
      "gender                 0\n",
      "income_type            0\n",
      "debt                   0\n",
      "total_income        2174\n",
      "purpose                0\n",
      "dtype: int64\n",
      "children            0\n",
      "days_employed       0\n",
      "dob_years           0\n",
      "education           0\n",
      "education_id        0\n",
      "family_status       0\n",
      "family_status_id    0\n",
      "gender              0\n",
      "income_type         0\n",
      "debt                0\n",
      "total_income        0\n",
      "purpose             0\n",
      "dtype: int64\n"
     ]
    }
   ],
   "source": [
    "print(data.isna().sum())\n",
    "data = data.fillna(0)\n",
    "print(data.isna().sum())"
   ],
   "metadata": {
    "collapsed": false,
    "pycharm": {
     "name": "#%%\n"
    }
   }
  },
  {
   "cell_type": "markdown",
   "source": [
    "#### Замена значений data['children'] ####"
   ],
   "metadata": {
    "collapsed": false,
    "pycharm": {
     "name": "#%% md\n"
    }
   }
  },
  {
   "cell_type": "code",
   "execution_count": 5,
   "outputs": [
    {
     "name": "stdout",
     "output_type": "stream",
     "text": [
      "[ 1  0  3  2 -1  4 20  5]\n",
      "[ 1  0  3  2  4 20  5]\n"
     ]
    }
   ],
   "source": [
    "print(data['children'].unique())\n",
    "data[data['children'] == -1] = 0\n",
    "print(data['children'].unique())"
   ],
   "metadata": {
    "collapsed": false,
    "pycharm": {
     "name": "#%%\n"
    }
   }
  },
  {
   "cell_type": "markdown",
   "metadata": {},
   "source": [
    "**Вывод**\n",
    "1. произведена замена пропущенных значений на 0 для:\n",
    "    - data['days_employed'] - косвенные данные указывающие на стаж заемщика отсутствуют\n",
    "    - data['total_income'] - косвенные данные указывающие на заработок заемщика отсутствуют\n",
    "2. пропущенные значения удалены\n",
    "3. произведена замена значения \"-1\" data['children'] на 0, т.к.\n",
    "    - отрицательное количество детей невозможно\n",
    "    - косвенные данные указывающие на количество детей отсутствуют"
   ]
  },
  {
   "cell_type": "markdown",
   "metadata": {},
   "source": [
    "### Замена типа данных"
   ]
  },
  {
   "cell_type": "markdown",
   "source": [
    "#### Перевод значений строковых переменных в нижний регистр ####"
   ],
   "metadata": {
    "collapsed": false,
    "pycharm": {
     "name": "#%% md\n"
    }
   }
  },
  {
   "cell_type": "code",
   "execution_count": 6,
   "outputs": [],
   "source": [
    "def lower_data():\n",
    "    for column in data.columns:\n",
    "        if data.dtypes[column] == 'object':\n",
    "            data[column] = data[column].str.strip()\n",
    "            data[column] = data[column].str.lower()\n",
    "\n",
    "lower_data()"
   ],
   "metadata": {
    "collapsed": false,
    "pycharm": {
     "name": "#%%\n"
    }
   }
  },
  {
   "cell_type": "code",
   "execution_count": 7,
   "outputs": [
    {
     "data": {
      "text/plain": "       children  days_employed  dob_years education  education_id  \\\n0             1   -8437.673028         42    высшее             0   \n1             1   -4024.803754         36   среднее             1   \n2             0   -5623.422610         33   среднее             1   \n3             3   -4124.747207         32   среднее             1   \n4             0  340266.072047         53   среднее             1   \n...         ...            ...        ...       ...           ...   \n21520         1   -4529.316663         43   среднее             1   \n21521         0  343937.404131         67   среднее             1   \n21522         1   -2113.346888         38   среднее             1   \n21523         3   -3112.481705         38   среднее             1   \n21524         2   -1984.507589         40   среднее             1   \n\n          family_status  family_status_id gender income_type  debt  \\\n0       женат / замужем                 0      f   сотрудник     0   \n1       женат / замужем                 0      f   сотрудник     0   \n2       женат / замужем                 0      m   сотрудник     0   \n3       женат / замужем                 0      m   сотрудник     0   \n4      гражданский брак                 1      f   пенсионер     0   \n...                 ...               ...    ...         ...   ...   \n21520  гражданский брак                 1      f   компаньон     0   \n21521   женат / замужем                 0      f   пенсионер     0   \n21522  гражданский брак                 1      m   сотрудник     1   \n21523   женат / замужем                 0      m   сотрудник     1   \n21524   женат / замужем                 0      f   сотрудник     0   \n\n        total_income                       purpose  \n0      253875.639453                 покупка жилья  \n1      112080.014102       приобретение автомобиля  \n2      145885.952297                 покупка жилья  \n3      267628.550329    дополнительное образование  \n4      158616.077870               сыграть свадьбу  \n...              ...                           ...  \n21520  224791.862382             операции с жильем  \n21521  155999.806512          сделка с автомобилем  \n21522   89672.561153                  недвижимость  \n21523  244093.050500  на покупку своего автомобиля  \n21524   82047.418899         на покупку автомобиля  \n\n[21525 rows x 12 columns]",
      "text/html": "<div>\n<style scoped>\n    .dataframe tbody tr th:only-of-type {\n        vertical-align: middle;\n    }\n\n    .dataframe tbody tr th {\n        vertical-align: top;\n    }\n\n    .dataframe thead th {\n        text-align: right;\n    }\n</style>\n<table border=\"1\" class=\"dataframe\">\n  <thead>\n    <tr style=\"text-align: right;\">\n      <th></th>\n      <th>children</th>\n      <th>days_employed</th>\n      <th>dob_years</th>\n      <th>education</th>\n      <th>education_id</th>\n      <th>family_status</th>\n      <th>family_status_id</th>\n      <th>gender</th>\n      <th>income_type</th>\n      <th>debt</th>\n      <th>total_income</th>\n      <th>purpose</th>\n    </tr>\n  </thead>\n  <tbody>\n    <tr>\n      <th>0</th>\n      <td>1</td>\n      <td>-8437.673028</td>\n      <td>42</td>\n      <td>высшее</td>\n      <td>0</td>\n      <td>женат / замужем</td>\n      <td>0</td>\n      <td>f</td>\n      <td>сотрудник</td>\n      <td>0</td>\n      <td>253875.639453</td>\n      <td>покупка жилья</td>\n    </tr>\n    <tr>\n      <th>1</th>\n      <td>1</td>\n      <td>-4024.803754</td>\n      <td>36</td>\n      <td>среднее</td>\n      <td>1</td>\n      <td>женат / замужем</td>\n      <td>0</td>\n      <td>f</td>\n      <td>сотрудник</td>\n      <td>0</td>\n      <td>112080.014102</td>\n      <td>приобретение автомобиля</td>\n    </tr>\n    <tr>\n      <th>2</th>\n      <td>0</td>\n      <td>-5623.422610</td>\n      <td>33</td>\n      <td>среднее</td>\n      <td>1</td>\n      <td>женат / замужем</td>\n      <td>0</td>\n      <td>m</td>\n      <td>сотрудник</td>\n      <td>0</td>\n      <td>145885.952297</td>\n      <td>покупка жилья</td>\n    </tr>\n    <tr>\n      <th>3</th>\n      <td>3</td>\n      <td>-4124.747207</td>\n      <td>32</td>\n      <td>среднее</td>\n      <td>1</td>\n      <td>женат / замужем</td>\n      <td>0</td>\n      <td>m</td>\n      <td>сотрудник</td>\n      <td>0</td>\n      <td>267628.550329</td>\n      <td>дополнительное образование</td>\n    </tr>\n    <tr>\n      <th>4</th>\n      <td>0</td>\n      <td>340266.072047</td>\n      <td>53</td>\n      <td>среднее</td>\n      <td>1</td>\n      <td>гражданский брак</td>\n      <td>1</td>\n      <td>f</td>\n      <td>пенсионер</td>\n      <td>0</td>\n      <td>158616.077870</td>\n      <td>сыграть свадьбу</td>\n    </tr>\n    <tr>\n      <th>...</th>\n      <td>...</td>\n      <td>...</td>\n      <td>...</td>\n      <td>...</td>\n      <td>...</td>\n      <td>...</td>\n      <td>...</td>\n      <td>...</td>\n      <td>...</td>\n      <td>...</td>\n      <td>...</td>\n      <td>...</td>\n    </tr>\n    <tr>\n      <th>21520</th>\n      <td>1</td>\n      <td>-4529.316663</td>\n      <td>43</td>\n      <td>среднее</td>\n      <td>1</td>\n      <td>гражданский брак</td>\n      <td>1</td>\n      <td>f</td>\n      <td>компаньон</td>\n      <td>0</td>\n      <td>224791.862382</td>\n      <td>операции с жильем</td>\n    </tr>\n    <tr>\n      <th>21521</th>\n      <td>0</td>\n      <td>343937.404131</td>\n      <td>67</td>\n      <td>среднее</td>\n      <td>1</td>\n      <td>женат / замужем</td>\n      <td>0</td>\n      <td>f</td>\n      <td>пенсионер</td>\n      <td>0</td>\n      <td>155999.806512</td>\n      <td>сделка с автомобилем</td>\n    </tr>\n    <tr>\n      <th>21522</th>\n      <td>1</td>\n      <td>-2113.346888</td>\n      <td>38</td>\n      <td>среднее</td>\n      <td>1</td>\n      <td>гражданский брак</td>\n      <td>1</td>\n      <td>m</td>\n      <td>сотрудник</td>\n      <td>1</td>\n      <td>89672.561153</td>\n      <td>недвижимость</td>\n    </tr>\n    <tr>\n      <th>21523</th>\n      <td>3</td>\n      <td>-3112.481705</td>\n      <td>38</td>\n      <td>среднее</td>\n      <td>1</td>\n      <td>женат / замужем</td>\n      <td>0</td>\n      <td>m</td>\n      <td>сотрудник</td>\n      <td>1</td>\n      <td>244093.050500</td>\n      <td>на покупку своего автомобиля</td>\n    </tr>\n    <tr>\n      <th>21524</th>\n      <td>2</td>\n      <td>-1984.507589</td>\n      <td>40</td>\n      <td>среднее</td>\n      <td>1</td>\n      <td>женат / замужем</td>\n      <td>0</td>\n      <td>f</td>\n      <td>сотрудник</td>\n      <td>0</td>\n      <td>82047.418899</td>\n      <td>на покупку автомобиля</td>\n    </tr>\n  </tbody>\n</table>\n<p>21525 rows × 12 columns</p>\n</div>"
     },
     "execution_count": 7,
     "metadata": {},
     "output_type": "execute_result"
    }
   ],
   "source": [
    "data"
   ],
   "metadata": {
    "collapsed": false,
    "pycharm": {
     "name": "#%%\n"
    }
   }
  },
  {
   "cell_type": "code",
   "execution_count": 8,
   "metadata": {},
   "outputs": [
    {
     "name": "stdout",
     "output_type": "stream",
     "text": [
      "<class 'pandas.core.frame.DataFrame'>\n",
      "RangeIndex: 21525 entries, 0 to 21524\n",
      "Data columns (total 12 columns):\n",
      " #   Column            Non-Null Count  Dtype  \n",
      "---  ------            --------------  -----  \n",
      " 0   children          21525 non-null  int64  \n",
      " 1   days_employed     21525 non-null  float64\n",
      " 2   dob_years         21525 non-null  int64  \n",
      " 3   education         21478 non-null  object \n",
      " 4   education_id      21525 non-null  int64  \n",
      " 5   family_status     21478 non-null  object \n",
      " 6   family_status_id  21525 non-null  int64  \n",
      " 7   gender            21478 non-null  object \n",
      " 8   income_type       21478 non-null  object \n",
      " 9   debt              21525 non-null  int64  \n",
      " 10  total_income      21525 non-null  float64\n",
      " 11  purpose           21478 non-null  object \n",
      "dtypes: float64(2), int64(5), object(5)\n",
      "memory usage: 2.0+ MB\n"
     ]
    }
   ],
   "source": [
    "data.info()"
   ]
  },
  {
   "cell_type": "code",
   "execution_count": 9,
   "outputs": [
    {
     "name": "stdout",
     "output_type": "stream",
     "text": [
      "<class 'pandas.core.frame.DataFrame'>\n",
      "RangeIndex: 21525 entries, 0 to 21524\n",
      "Data columns (total 12 columns):\n",
      " #   Column            Non-Null Count  Dtype   \n",
      "---  ------            --------------  -----   \n",
      " 0   children          21525 non-null  int64   \n",
      " 1   days_employed     21525 non-null  int32   \n",
      " 2   dob_years         21525 non-null  int64   \n",
      " 3   education         21478 non-null  category\n",
      " 4   education_id      21525 non-null  int64   \n",
      " 5   family_status     21478 non-null  category\n",
      " 6   family_status_id  21525 non-null  int64   \n",
      " 7   gender            21478 non-null  category\n",
      " 8   income_type       21478 non-null  category\n",
      " 9   debt              21525 non-null  int64   \n",
      " 10  total_income      21525 non-null  float64 \n",
      " 11  purpose           21478 non-null  object  \n",
      "dtypes: category(4), float64(1), int32(1), int64(5), object(1)\n",
      "memory usage: 1.3+ MB\n"
     ]
    }
   ],
   "source": [
    "data['days_employed'] = data['days_employed'].astype('int')\n",
    "data['gender'] = data['gender'].astype('category')\n",
    "data['income_type'] = data['income_type'].astype('category')\n",
    "data['education'] = data['education'].astype('category')\n",
    "data['family_status'] = data['family_status'].astype('category')\n",
    "data.info()"
   ],
   "metadata": {
    "collapsed": false,
    "pycharm": {
     "name": "#%%\n"
    }
   }
  },
  {
   "cell_type": "markdown",
   "metadata": {},
   "source": [
    "**Вывод**"
   ]
  },
  {
   "cell_type": "markdown",
   "metadata": {},
   "source": [
    "1. строковые значения переведены в нижний регистр\n",
    "2. тип данных data['days_employed'] изменен на 'int'\n",
    "3. тип данных изменен на 'category' для следующих столбцов:\n",
    "    - data['gender']\n",
    "    - data['income_type']\n",
    "    - data['education']\n",
    "    - data['family_status']\n"
   ]
  },
  {
   "cell_type": "markdown",
   "metadata": {},
   "source": [
    "### Обработка дубликатов"
   ]
  },
  {
   "cell_type": "code",
   "execution_count": 10,
   "outputs": [
    {
     "data": {
      "text/plain": "117"
     },
     "execution_count": 10,
     "metadata": {},
     "output_type": "execute_result"
    }
   ],
   "source": [
    "data.duplicated().sum()"
   ],
   "metadata": {
    "collapsed": false,
    "pycharm": {
     "name": "#%%\n"
    }
   }
  },
  {
   "cell_type": "code",
   "execution_count": 11,
   "metadata": {},
   "outputs": [
    {
     "name": "stdout",
     "output_type": "stream",
     "text": [
      "(21525, 12)\n",
      "(21408, 12)\n"
     ]
    }
   ],
   "source": [
    "print(data.shape)\n",
    "data = data.drop_duplicates().reset_index(drop=True)\n",
    "print(data.shape)"
   ]
  },
  {
   "cell_type": "markdown",
   "source": [
    "#### Удаление cтолбцов data['education_id'], data['family_status_id'] ####"
   ],
   "metadata": {
    "collapsed": false,
    "pycharm": {
     "name": "#%% md\n"
    }
   }
  },
  {
   "cell_type": "code",
   "execution_count": 12,
   "outputs": [
    {
     "name": "stdout",
     "output_type": "stream",
     "text": [
      "<class 'pandas.core.frame.DataFrame'>\n",
      "RangeIndex: 21408 entries, 0 to 21407\n",
      "Data columns (total 10 columns):\n",
      " #   Column         Non-Null Count  Dtype   \n",
      "---  ------         --------------  -----   \n",
      " 0   children       21408 non-null  int64   \n",
      " 1   days_employed  21408 non-null  int32   \n",
      " 2   dob_years      21408 non-null  int64   \n",
      " 3   education      21407 non-null  category\n",
      " 4   family_status  21407 non-null  category\n",
      " 5   gender         21407 non-null  category\n",
      " 6   income_type    21407 non-null  category\n",
      " 7   debt           21408 non-null  int64   \n",
      " 8   total_income   21408 non-null  float64 \n",
      " 9   purpose        21407 non-null  object  \n",
      "dtypes: category(4), float64(1), int32(1), int64(3), object(1)\n",
      "memory usage: 1004.5+ KB\n"
     ]
    }
   ],
   "source": [
    "data = data.drop(columns=['family_status_id', 'education_id'])\n",
    "data.info()"
   ],
   "metadata": {
    "collapsed": false,
    "pycharm": {
     "name": "#%%\n"
    }
   }
  },
  {
   "cell_type": "markdown",
   "metadata": {},
   "source": [
    "**Вывод**\n",
    "1. дубликаты удалены\n",
    "2. удалены столбцы\n",
    "    - data['family_status_id']\n",
    "    - data['education_id']\n",
    "   т.к. дублируют данные содержащиеся в data['education'] и data['family_status']"
   ]
  },
  {
   "cell_type": "markdown",
   "metadata": {},
   "source": [
    "### Лемматизация"
   ]
  },
  {
   "cell_type": "markdown",
   "source": [
    "#### Лемматизация data['purpose'] ####"
   ],
   "metadata": {
    "collapsed": false
   }
  },
  {
   "cell_type": "code",
   "execution_count": 13,
   "outputs": [],
   "source": [
    "data.isna().sum()\n",
    "data = data.dropna().reset_index(drop=True)"
   ],
   "metadata": {
    "collapsed": false,
    "pycharm": {
     "name": "#%%\n"
    }
   }
  },
  {
   "cell_type": "code",
   "execution_count": 14,
   "outputs": [
    {
     "name": "stdout",
     "output_type": "stream",
     "text": [
      "<class 'pandas.core.frame.DataFrame'>\n",
      "RangeIndex: 21407 entries, 0 to 21406\n",
      "Data columns (total 10 columns):\n",
      " #   Column         Non-Null Count  Dtype   \n",
      "---  ------         --------------  -----   \n",
      " 0   children       21407 non-null  int64   \n",
      " 1   days_employed  21407 non-null  int32   \n",
      " 2   dob_years      21407 non-null  int64   \n",
      " 3   education      21407 non-null  category\n",
      " 4   family_status  21407 non-null  category\n",
      " 5   gender         21407 non-null  category\n",
      " 6   income_type    21407 non-null  category\n",
      " 7   debt           21407 non-null  int64   \n",
      " 8   total_income   21407 non-null  float64 \n",
      " 9   purpose        21407 non-null  object  \n",
      "dtypes: category(4), float64(1), int32(1), int64(3), object(1)\n",
      "memory usage: 1004.5+ KB\n"
     ]
    }
   ],
   "source": [
    "data.info()"
   ],
   "metadata": {
    "collapsed": false,
    "pycharm": {
     "name": "#%%\n"
    }
   }
  },
  {
   "cell_type": "code",
   "execution_count": 15,
   "outputs": [],
   "source": [
    "m = Mystem()\n",
    "for purpose in data['purpose'].unique():\n",
    "    lemma = ' '.join(m.lemmatize(purpose))\n",
    "    for _ in range(len(data)):\n",
    "        if purpose in data.loc[_, 'purpose']:\n",
    "            data.loc[_, 'purpose'] = lemma"
   ],
   "metadata": {
    "collapsed": false,
    "pycharm": {
     "name": "#%%\n"
    }
   }
  },
  {
   "cell_type": "markdown",
   "source": [
    "#### Категоризация data['purpose'] ####"
   ],
   "metadata": {
    "collapsed": false
   }
  },
  {
   "cell_type": "code",
   "execution_count": 16,
   "outputs": [],
   "source": [
    "for lem_purpose in ['недвижимость', 'жилье', 'автомобиль', 'свадьба', 'образование']:\n",
    "    for _ in range(len(data)):\n",
    "        if lem_purpose in data.loc[_, 'purpose']:\n",
    "            data.loc[_, 'purpose'] = lem_purpose"
   ],
   "metadata": {
    "collapsed": false,
    "pycharm": {
     "name": "#%%\n"
    }
   }
  },
  {
   "cell_type": "code",
   "execution_count": 17,
   "outputs": [],
   "source": [
    "data['purpose'] = data['purpose'].replace(to_replace='образование  \\n',\n",
    "                                          value='образование').\\\n",
    "                                  replace(to_replace='жилье',\n",
    "                                          value='недвижимость')"
   ],
   "metadata": {
    "collapsed": false,
    "pycharm": {
     "name": "#%%\n"
    }
   }
  },
  {
   "cell_type": "code",
   "execution_count": 18,
   "outputs": [],
   "source": [
    "data['purpose'] = data['purpose'].astype('category')"
   ],
   "metadata": {
    "collapsed": false,
    "pycharm": {
     "name": "#%%\n"
    }
   }
  },
  {
   "cell_type": "code",
   "execution_count": 19,
   "outputs": [
    {
     "name": "stdout",
     "output_type": "stream",
     "text": [
      "<class 'pandas.core.frame.DataFrame'>\n",
      "RangeIndex: 21407 entries, 0 to 21406\n",
      "Data columns (total 10 columns):\n",
      " #   Column         Non-Null Count  Dtype   \n",
      "---  ------         --------------  -----   \n",
      " 0   children       21407 non-null  int64   \n",
      " 1   days_employed  21407 non-null  int32   \n",
      " 2   dob_years      21407 non-null  int64   \n",
      " 3   education      21407 non-null  category\n",
      " 4   family_status  21407 non-null  category\n",
      " 5   gender         21407 non-null  category\n",
      " 6   income_type    21407 non-null  category\n",
      " 7   debt           21407 non-null  int64   \n",
      " 8   total_income   21407 non-null  float64 \n",
      " 9   purpose        21407 non-null  category\n",
      "dtypes: category(5), float64(1), int32(1), int64(3)\n",
      "memory usage: 858.3 KB\n"
     ]
    }
   ],
   "source": [
    "data.info()"
   ],
   "metadata": {
    "collapsed": false,
    "pycharm": {
     "name": "#%%\n"
    }
   }
  },
  {
   "cell_type": "markdown",
   "metadata": {},
   "source": [
    "**Вывод**\n",
    "1. проведена лемматизация data['purpose']\n",
    "2. тип данных data['purpose'] изменен на 'category'\n",
    "3. список целей займа ограничен 4-я позициями"
   ]
  },
  {
   "cell_type": "markdown",
   "metadata": {},
   "source": [
    "### Категоризация данных"
   ]
  },
  {
   "cell_type": "markdown",
   "source": [
    "#### Категоризация заёмщиков по количеству детей ####"
   ],
   "metadata": {
    "collapsed": false,
    "pycharm": {
     "name": "#%% md\n"
    }
   }
  },
  {
   "cell_type": "code",
   "execution_count": 20,
   "outputs": [
    {
     "name": "stdout",
     "output_type": "stream",
     "text": [
      "count    21407.000000\n",
      "mean         0.543327\n",
      "std          1.383077\n",
      "min          0.000000\n",
      "25%          0.000000\n",
      "50%          0.000000\n",
      "75%          1.000000\n",
      "max         20.000000\n",
      "Name: children, dtype: float64\n",
      "[ 1  0  3  2  4 20  5]\n"
     ]
    }
   ],
   "source": [
    "print(data['children'].describe())\n",
    "print(data['children'].unique())"
   ],
   "metadata": {
    "collapsed": false,
    "pycharm": {
     "name": "#%%\n"
    }
   }
  },
  {
   "cell_type": "code",
   "execution_count": 21,
   "metadata": {},
   "outputs": [],
   "source": [
    "for _ in range(len(data)):\n",
    "    if data.loc[_, 'children'] == 0: data.loc[_, 'cat_children'] = 'бездетный'\n",
    "    elif 1 <= data.loc[_, 'children'] <= 3: data.loc[_, 'cat_children'] = 'не более 3 детей'\n",
    "    else: data.loc[_, 'cat_children'] = 'многодетный'\n",
    "\n",
    "\n",
    "data['cat_children'] = data['cat_children'].astype('category')"
   ]
  },
  {
   "cell_type": "markdown",
   "source": [
    "#### Категоризация заемщиокв по уровню дохода ####"
   ],
   "metadata": {
    "collapsed": false,
    "pycharm": {
     "name": "#%% md\n"
    }
   }
  },
  {
   "cell_type": "code",
   "execution_count": 22,
   "outputs": [
    {
     "name": "stdout",
     "output_type": "stream",
     "text": [
      "count    2.140700e+04\n",
      "mean     1.510263e+05\n",
      "std      1.097983e+05\n",
      "min      0.000000e+00\n",
      "25%      8.906237e+04\n",
      "50%      1.357606e+05\n",
      "75%      1.958549e+05\n",
      "max      2.265604e+06\n",
      "Name: total_income, dtype: float64\n"
     ]
    }
   ],
   "source": [
    "print(data['total_income'].describe())"
   ],
   "metadata": {
    "collapsed": false,
    "pycharm": {
     "name": "#%%\n"
    }
   }
  },
  {
   "cell_type": "code",
   "execution_count": 23,
   "outputs": [],
   "source": [
    "for _ in range(len(data)):\n",
    "    if data.loc[_, 'total_income'] <= 89062: data.loc[_, 'cat_total_income'] = 'низкий'\n",
    "    elif 89062 < data.loc[_, 'total_income'] <= 135760: data.loc[_, 'cat_total_income'] = 'средний'\n",
    "    elif 135760 < data.loc[_, 'total_income'] <= 195855: data.loc[_, 'cat_total_income'] = 'выше среднего'\n",
    "    else: data.loc[_, 'cat_total_income'] = 'высокий'"
   ],
   "metadata": {
    "collapsed": false,
    "pycharm": {
     "name": "#%%\n"
    }
   }
  },
  {
   "cell_type": "markdown",
   "metadata": {},
   "source": [
    "**Вывод**\n",
    "1. выполнена категоризация заемщиков по количеству детей.\n",
    "   Критерии:\n",
    "   - 0 детей - бездетный\n",
    "   - от 1 до 3(включительно) - не более 3 детей\n",
    "   - больше 3 детей - многодетный\n",
    "2. дополнительная категоризация заемщиков по семейному положению не проводилась. будут использованы категории представленные в dataset-е\n",
    "3. проведена категоризация заёмщиков по уровню дохода.\n",
    "   Критерии:\n",
    "   - до 89062 - низкий\n",
    "   - от 89062 до 135760 - средний\n",
    "   - от 135760 до 195855 - выше среднего\n",
    "   - выше 195855 - высокий"
   ]
  },
  {
   "cell_type": "markdown",
   "metadata": {},
   "source": [
    "## Шаг 3. Ответьте на вопросы"
   ]
  },
  {
   "cell_type": "markdown",
   "metadata": {},
   "source": [
    "- Есть ли зависимость между наличием детей и возвратом кредита в срок?"
   ]
  },
  {
   "cell_type": "code",
   "execution_count": 24,
   "metadata": {},
   "outputs": [
    {
     "data": {
      "text/plain": "                  count   sum    % debt\n                   debt  debt          \ncat_children                           \nбездетный         14091  1063  7.543822\nмногодетный         126    12  9.523810\nне более 3 детей   7190   665  9.248957",
      "text/html": "<div>\n<style scoped>\n    .dataframe tbody tr th:only-of-type {\n        vertical-align: middle;\n    }\n\n    .dataframe tbody tr th {\n        vertical-align: top;\n    }\n\n    .dataframe thead tr th {\n        text-align: left;\n    }\n\n    .dataframe thead tr:last-of-type th {\n        text-align: right;\n    }\n</style>\n<table border=\"1\" class=\"dataframe\">\n  <thead>\n    <tr>\n      <th></th>\n      <th>count</th>\n      <th>sum</th>\n      <th>% debt</th>\n    </tr>\n    <tr>\n      <th></th>\n      <th>debt</th>\n      <th>debt</th>\n      <th></th>\n    </tr>\n    <tr>\n      <th>cat_children</th>\n      <th></th>\n      <th></th>\n      <th></th>\n    </tr>\n  </thead>\n  <tbody>\n    <tr>\n      <th>бездетный</th>\n      <td>14091</td>\n      <td>1063</td>\n      <td>7.543822</td>\n    </tr>\n    <tr>\n      <th>многодетный</th>\n      <td>126</td>\n      <td>12</td>\n      <td>9.523810</td>\n    </tr>\n    <tr>\n      <th>не более 3 детей</th>\n      <td>7190</td>\n      <td>665</td>\n      <td>9.248957</td>\n    </tr>\n  </tbody>\n</table>\n</div>"
     },
     "metadata": {},
     "output_type": "display_data"
    }
   ],
   "source": [
    "child_pivot = data.pivot_table(values='debt', index='cat_children', aggfunc=['count', 'sum'])\n",
    "child_pivot['% debt'] = child_pivot['sum'] / child_pivot['count'] * 100\n",
    "display(child_pivot)\n"
   ]
  },
  {
   "cell_type": "markdown",
   "metadata": {},
   "source": [
    "**Вывод**\n",
    "- вероятность просроченных платежей по кредиту у бездетных заемщиков ниже чем у многодетных и заемщиков количество детей у которых не болле 3, на ~2%"
   ]
  },
  {
   "cell_type": "markdown",
   "metadata": {},
   "source": [
    "- Есть ли зависимость между семейным положением и возвратом кредита в срок?"
   ]
  },
  {
   "cell_type": "code",
   "execution_count": 25,
   "metadata": {},
   "outputs": [
    {
     "data": {
      "text/plain": "                       count  sum    % debt\n                        debt debt          \nfamily_status                              \nв разводе               1191   85  7.136860\nвдовец / вдова           955   63  6.596859\nгражданский брак        4146  388  9.358418\nженат / замужем        12310  930  7.554833\nне женат / не замужем   2805  274  9.768271",
      "text/html": "<div>\n<style scoped>\n    .dataframe tbody tr th:only-of-type {\n        vertical-align: middle;\n    }\n\n    .dataframe tbody tr th {\n        vertical-align: top;\n    }\n\n    .dataframe thead tr th {\n        text-align: left;\n    }\n\n    .dataframe thead tr:last-of-type th {\n        text-align: right;\n    }\n</style>\n<table border=\"1\" class=\"dataframe\">\n  <thead>\n    <tr>\n      <th></th>\n      <th>count</th>\n      <th>sum</th>\n      <th>% debt</th>\n    </tr>\n    <tr>\n      <th></th>\n      <th>debt</th>\n      <th>debt</th>\n      <th></th>\n    </tr>\n    <tr>\n      <th>family_status</th>\n      <th></th>\n      <th></th>\n      <th></th>\n    </tr>\n  </thead>\n  <tbody>\n    <tr>\n      <th>в разводе</th>\n      <td>1191</td>\n      <td>85</td>\n      <td>7.136860</td>\n    </tr>\n    <tr>\n      <th>вдовец / вдова</th>\n      <td>955</td>\n      <td>63</td>\n      <td>6.596859</td>\n    </tr>\n    <tr>\n      <th>гражданский брак</th>\n      <td>4146</td>\n      <td>388</td>\n      <td>9.358418</td>\n    </tr>\n    <tr>\n      <th>женат / замужем</th>\n      <td>12310</td>\n      <td>930</td>\n      <td>7.554833</td>\n    </tr>\n    <tr>\n      <th>не женат / не замужем</th>\n      <td>2805</td>\n      <td>274</td>\n      <td>9.768271</td>\n    </tr>\n  </tbody>\n</table>\n</div>"
     },
     "metadata": {},
     "output_type": "display_data"
    }
   ],
   "source": [
    "family_pivot = data.pivot_table(values='debt', index='family_status', aggfunc=['count', 'sum'])\n",
    "family_pivot['% debt'] = family_pivot['sum'] / family_pivot['count'] * 100\n",
    "display(family_pivot)"
   ]
  },
  {
   "cell_type": "markdown",
   "metadata": {},
   "source": [
    "**Вывод**\n",
    "- вероятность просроченных платежей по кредиту у заемщиков не состоящих в браке и состощих в гражданском браке выше в сравнении с:\n",
    "    1. овдовевшими заемщиками на  ~3%\n",
    "    2. заемщиками в разводе на ~3%\n",
    "    3. заемщиками в браке на ~3%"
   ]
  },
  {
   "cell_type": "markdown",
   "metadata": {},
   "source": []
  },
  {
   "cell_type": "markdown",
   "metadata": {},
   "source": [
    "- Есть ли зависимость между уровнем дохода и возвратом кредита в срок?"
   ]
  },
  {
   "cell_type": "code",
   "execution_count": 26,
   "metadata": {},
   "outputs": [
    {
     "data": {
      "text/plain": "                 count  sum    % debt\n                  debt debt          \ncat_total_income                     \nвысокий           5352  383  7.156203\nвыше среднего     5352  481  8.987294\nнизкий            5352  419  7.828849\nсредний           5351  457  8.540460",
      "text/html": "<div>\n<style scoped>\n    .dataframe tbody tr th:only-of-type {\n        vertical-align: middle;\n    }\n\n    .dataframe tbody tr th {\n        vertical-align: top;\n    }\n\n    .dataframe thead tr th {\n        text-align: left;\n    }\n\n    .dataframe thead tr:last-of-type th {\n        text-align: right;\n    }\n</style>\n<table border=\"1\" class=\"dataframe\">\n  <thead>\n    <tr>\n      <th></th>\n      <th>count</th>\n      <th>sum</th>\n      <th>% debt</th>\n    </tr>\n    <tr>\n      <th></th>\n      <th>debt</th>\n      <th>debt</th>\n      <th></th>\n    </tr>\n    <tr>\n      <th>cat_total_income</th>\n      <th></th>\n      <th></th>\n      <th></th>\n    </tr>\n  </thead>\n  <tbody>\n    <tr>\n      <th>высокий</th>\n      <td>5352</td>\n      <td>383</td>\n      <td>7.156203</td>\n    </tr>\n    <tr>\n      <th>выше среднего</th>\n      <td>5352</td>\n      <td>481</td>\n      <td>8.987294</td>\n    </tr>\n    <tr>\n      <th>низкий</th>\n      <td>5352</td>\n      <td>419</td>\n      <td>7.828849</td>\n    </tr>\n    <tr>\n      <th>средний</th>\n      <td>5351</td>\n      <td>457</td>\n      <td>8.540460</td>\n    </tr>\n  </tbody>\n</table>\n</div>"
     },
     "metadata": {},
     "output_type": "display_data"
    }
   ],
   "source": [
    "income_pivot = data.pivot_table(values='debt', index='cat_total_income', aggfunc=['count', 'sum'])\n",
    "income_pivot['% debt'] = income_pivot['sum'] / income_pivot['count'] * 100\n",
    "display(income_pivot)"
   ]
  },
  {
   "cell_type": "markdown",
   "metadata": {},
   "source": [
    "**Вывод**\n",
    "- вероятность просроченных платежей по кредиту у заемщиков со средним доходом и выше среднего выше в сравнении с:\n",
    "    1. заемщиками с высоким доходом на ~2%\n",
    "    2. заемщиками с низким доходом на ~2%"
   ]
  },
  {
   "cell_type": "markdown",
   "metadata": {},
   "source": [
    "- Как разные цели кредита влияют на его возврат в срок?"
   ]
  },
  {
   "cell_type": "code",
   "execution_count": 27,
   "metadata": {},
   "outputs": [
    {
     "data": {
      "text/plain": "              count  sum    % debt\n               debt debt          \npurpose                           \nавтомобиль     4295  402  9.359721\nнедвижимость  10787  782  7.249467\nобразование    4003  370  9.243068\nсвадьба        2322  186  8.010336",
      "text/html": "<div>\n<style scoped>\n    .dataframe tbody tr th:only-of-type {\n        vertical-align: middle;\n    }\n\n    .dataframe tbody tr th {\n        vertical-align: top;\n    }\n\n    .dataframe thead tr th {\n        text-align: left;\n    }\n\n    .dataframe thead tr:last-of-type th {\n        text-align: right;\n    }\n</style>\n<table border=\"1\" class=\"dataframe\">\n  <thead>\n    <tr>\n      <th></th>\n      <th>count</th>\n      <th>sum</th>\n      <th>% debt</th>\n    </tr>\n    <tr>\n      <th></th>\n      <th>debt</th>\n      <th>debt</th>\n      <th></th>\n    </tr>\n    <tr>\n      <th>purpose</th>\n      <th></th>\n      <th></th>\n      <th></th>\n    </tr>\n  </thead>\n  <tbody>\n    <tr>\n      <th>автомобиль</th>\n      <td>4295</td>\n      <td>402</td>\n      <td>9.359721</td>\n    </tr>\n    <tr>\n      <th>недвижимость</th>\n      <td>10787</td>\n      <td>782</td>\n      <td>7.249467</td>\n    </tr>\n    <tr>\n      <th>образование</th>\n      <td>4003</td>\n      <td>370</td>\n      <td>9.243068</td>\n    </tr>\n    <tr>\n      <th>свадьба</th>\n      <td>2322</td>\n      <td>186</td>\n      <td>8.010336</td>\n    </tr>\n  </tbody>\n</table>\n</div>"
     },
     "metadata": {},
     "output_type": "display_data"
    }
   ],
   "source": [
    "purpose_pivot = data.pivot_table(values='debt', index='purpose', aggfunc=['count', 'sum'])\n",
    "purpose_pivot['% debt'] = purpose_pivot['sum'] / purpose_pivot['count'] * 100\n",
    "display(purpose_pivot)"
   ]
  },
  {
   "cell_type": "markdown",
   "metadata": {},
   "source": [
    "**Вывод**\n",
    "- самая низкия вероятность просроченных платежей по кредиту полученному для приобретения недвижимости\n",
    "- высокая вероятность просроченных платежей для кредитов полученных на образование и приобретение автомобиля"
   ]
  },
  {
   "cell_type": "markdown",
   "metadata": {},
   "source": [
    "## Шаг 4. Общий вывод\n",
    "В ходе исследования выявлены зависимости возникновения задолженности по кредиту от:\n",
    "    * целей кредита\n",
    "    * уровня дохода заемщика\n",
    "    * наличием детей у заемщика\n",
    "    * семейного положения заемщика"
   ]
  },
  {
   "cell_type": "markdown",
   "metadata": {},
   "source": [
    "## Чек-лист готовности проекта\n",
    "\n",
    "Поставьте 'x' в выполненных пунктах. Далее нажмите Shift+Enter."
   ]
  },
  {
   "cell_type": "markdown",
   "metadata": {},
   "source": [
    "- [x]  открыт файл;\n",
    "- [x]  файл изучен;\n",
    "- [x]  определены пропущенные значения;\n",
    "- [x]  заполнены пропущенные значения;\n",
    "- [x]  есть пояснение, какие пропущенные значения обнаружены;\n",
    "- [x]  описаны возможные причины появления пропусков в данных;\n",
    "- [x]  объяснено, по какому принципу заполнены пропуски;\n",
    "- [x]  заменен вещественный тип данных на целочисленный;\n",
    "- [x]  есть пояснение, какой метод используется для изменения типа данных и почему;\n",
    "- [x]  удалены дубликаты;\n",
    "- [x]  есть пояснение, какой метод используется для поиска и удаления дубликатов;\n",
    "- [x]  описаны возможные причины появления дубликатов в данных;\n",
    "- [x]  выделены леммы в значениях столбца с целями получения кредита;\n",
    "- [x]  описан процесс лемматизации;\n",
    "- [x]  данные категоризированы;\n",
    "- [x]  есть объяснение принципа категоризации данных;\n",
    "- [x]  есть ответ на вопрос: \"Есть ли зависимость между наличием детей и возвратом кредита в срок?\";\n",
    "- [x]  есть ответ на вопрос: \"Есть ли зависимость между семейным положением и возвратом кредита в срок?\";\n",
    "- [x]  есть ответ на вопрос: \"Есть ли зависимость между уровнем дохода и возвратом кредита в срок?\";\n",
    "- [x]  есть ответ на вопрос: \"Как разные цели кредита влияют на его возврат в срок?\";\n",
    "- [x]  в каждом этапе есть выводы;\n",
    "- [x]  есть общий вывод."
   ]
  }
 ],
 "metadata": {
  "kernelspec": {
   "display_name": "Python 3",
   "language": "python",
   "name": "python3"
  },
  "language_info": {
   "codemirror_mode": {
    "name": "ipython",
    "version": 3
   },
   "file_extension": ".py",
   "mimetype": "text/x-python",
   "name": "python",
   "nbconvert_exporter": "python",
   "pygments_lexer": "ipython3",
   "version": "3.7.8"
  },
  "toc": {
   "base_numbering": 1,
   "nav_menu": {},
   "number_sections": true,
   "sideBar": true,
   "skip_h1_title": true,
   "title_cell": "Table of Contents",
   "title_sidebar": "Contents",
   "toc_cell": false,
   "toc_position": {},
   "toc_section_display": true,
   "toc_window_display": false
  }
 },
 "nbformat": 4,
 "nbformat_minor": 2
}