{
 "cells": [
  {
   "cell_type": "markdown",
   "metadata": {
    "collapsed": true,
    "pycharm": {
     "name": "#%% md\n"
    }
   },
   "source": [
    "# Содержание #"
   ]
  },
  {
   "cell_type": "markdown",
   "metadata": {
    "collapsed": false,
    "pycharm": {
     "name": "#%% md\n"
    }
   },
   "source": [
    "<a id='project_description'></a>\n",
    "# Описание проекта #\n",
    "В вашем распоряжении данные сервиса Яндекс.Недвижимость — архив объявлений о продаже квартир в Санкт-Петербурге и соседних населённых пунктах за несколько лет. Нужно научиться определять рыночную стоимость объектов недвижимости. Ваша задача — установить параметры. Это позволит построить автоматизированную систему: она отследит аномалии и мошенническую деятельность.\n",
    "По каждой квартире на продажу доступны два вида данных. Первые вписаны пользователем, вторые — получены автоматически на основе картографических данных. Например, расстояние до центра, аэропорта, ближайшего парка и водоёма."
   ]
  },
  {
   "cell_type": "markdown",
   "metadata": {
    "collapsed": false,
    "pycharm": {
     "name": "#%% md\n"
    }
   },
   "source": [
    "<a id='project_instruction'></a>\n",
    "# Инструкция по выполнению проекта #\n",
    "Шаг 1. Откройте файл с данными и изучите общую информацию\n",
    "Путь к файлу: /datasets/real_estate_data.csv.Скачать датасет\n",
    "Шаг 2. Предобработка данных\n",
    "\n",
    "    Определите и изучите пропущенные значения:\n",
    "        Для некоторых пропущенных значений можно предположить логичную замену. Например, если человек не указал число балконов — скорее всего, их нет. Такие пропуски правильно заменить на 0. Для других типов данных нет подходящего значения на замену. В этом случае правильно оставить эти значения пустыми. Отсутствие значения — тоже важный сигнал, который не нужно прятать.\n",
    "        Заполните пропуски, где это уместно. Опишите, почему вы решили заполнить пропуски именно в этих столбцах и как выбрали значения.\n",
    "        Укажите причины, которые могли привести к пропускам в данных.\n",
    "    Приведите данные к нужным типам:\n",
    "        Поясните, в каких столбцах нужно изменить тип данных и почему.\n",
    "\n",
    "Шаг 3. Посчитайте и добавьте в таблицу\n",
    "\n",
    "    цену квадратного метра;\n",
    "    день недели, месяц и год публикации объявления;\n",
    "    этаж квартиры; варианты — первый, последний, другой;\n",
    "    соотношение жилой и общей площади, а также отношение площади кухни к общей.\n",
    "\n",
    "Шаг 4. Проведите исследовательский анализ данных и выполните инструкции\n",
    "\n",
    "    Изучите следующие параметры: площадь, цена, число комнат, высота потолков. Постройте гистограммы для каждого параметра.\n",
    "    Изучите время продажи квартиры. Постройте гистограмму. Посчитайте среднее и медиану. Опишите, сколько обычно занимает продажа. Когда можно считать, что продажи прошли очень быстро, а когда необычно долго?\n",
    "    Уберите редкие и выбивающиеся значения. Опишите, какие особенности обнаружили.\n",
    "    Какие факторы больше всего влияют на стоимость квартиры? Изучите, зависит ли цена от площади, числа комнат, удалённости от центра. Изучите зависимость цены от того, на каком этаже расположена квартира: первом, последнем или другом. Также изучите зависимость от даты размещения: дня недели, месяца и года.\n",
    "    Выберите 10 населённых пунктов с наибольшим числом объявлений. Посчитайте среднюю цену квадратного метра в этих населённых пунктах. Выделите населённые пункты с самой высокой и низкой стоимостью жилья. Эти данные можно найти по имени в столбце locality_name.\n",
    "    Изучите предложения квартир: для каждой квартиры есть информация о расстоянии до центра. Выделите квартиры в Санкт-Петербурге (locality_name). Ваша задача — выяснить, какая область входит в центр. Создайте столбец с расстоянием до центра в километрах: округлите до целых значений. После этого посчитайте среднюю цену для каждого километра. Постройте график: он должен показывать, как цена зависит от удалённости от центра. Определите границу, где график сильно меняется, — это и будет центральная зона.\n",
    "    Выделите сегмент квартир в центре. Проанализируйте эту территорию и изучите следующие параметры: площадь, цена, число комнат, высота потолков. Также выделите факторы, которые влияют на стоимость квартиры (число комнат, этаж, удалённость от центра, дата размещения объявления). Сделайте выводы. Отличаются ли они от общих выводов по всему городу?\n",
    "\n",
    "Шаг 5. Напишите общий вывод\n",
    "Оформление: Выполните задание в Jupyter Notebook. Заполните программный код в ячейках типа code, текстовые пояснения — в ячейках типа markdown. Примените форматирование и заголовки."
   ]
  },
  {
   "cell_type": "markdown",
   "metadata": {
    "collapsed": false,
    "pycharm": {
     "name": "#%% md\n"
    }
   },
   "source": [
    "<a id='project_data'></a>\n",
    "# Описание данных #\n",
    "\n",
    "    airports_nearest — расстояние до ближайшего аэропорта в метрах (м)\n",
    "    balcony — число балконов\n",
    "    ceiling_height — высота потолков (м)\n",
    "    cityCenters_nearest — расстояние до центра города (м)\n",
    "    days_exposition — сколько дней было размещено объявление (от публикации до снятия)\n",
    "    first_day_exposition — дата публикации\n",
    "    floor — этаж\n",
    "    floors_total — всего этажей в доме\n",
    "    is_apartment — апартаменты (булев тип)\n",
    "    kitchen_area — площадь кухни в квадратных метрах (м²)\n",
    "    last_price — цена на момент снятия с публикации\n",
    "    living_area — жилая площадь в квадратных метрах (м²)\n",
    "    locality_name — название населённого пункта\n",
    "    open_plan — свободная планировка (булев тип)\n",
    "    parks_around3000 — число парков в радиусе 3 км\n",
    "    parks_nearest — расстояние до ближайшего парка (м)\n",
    "    ponds_around3000 — число водоёмов в радиусе 3 км\n",
    "    ponds_nearest — расстояние до ближайшего водоёма (м)\n",
    "    rooms — число комнат\n",
    "    studio — квартира-студия (булев тип)\n",
    "    total_area — площадь квартиры в квадратных метрах (м²)\n",
    "    total_images — число фотографий квартиры в объявлении"
   ]
  },
  {
   "cell_type": "markdown",
   "metadata": {
    "collapsed": false,
    "pycharm": {
     "name": "#%% md\n"
    }
   },
   "source": [
    "<a id='import'></a>\n",
    "# Импорт библиотек #"
   ]
  },
  {
   "cell_type": "code",
   "execution_count": 1,
   "metadata": {
    "collapsed": false,
    "pycharm": {
     "name": "#%%\n"
    }
   },
   "outputs": [],
   "source": [
    "from IPython.core.display import display\n",
    "import pandas as pd\n",
    "import matplotlib.pyplot as plt\n",
    "import seaborn as sns"
   ]
  },
  {
   "cell_type": "markdown",
   "metadata": {
    "collapsed": false,
    "pycharm": {
     "name": "#%% md\n"
    }
   },
   "source": [
    "<a id='data_load'></a>\n",
    "# Изучение данных из файла #"
   ]
  },
  {
   "cell_type": "code",
   "execution_count": 2,
   "metadata": {
    "collapsed": false,
    "pycharm": {
     "name": "#%%\n"
    }
   },
   "outputs": [
    {
     "data": {
      "text/plain": "       total_images  last_price  total_area first_day_exposition  rooms  \\\n0                20  13000000.0      108.00  2019-03-07T00:00:00      3   \n1                 7   3350000.0       40.40  2018-12-04T00:00:00      1   \n2                10   5196000.0       56.00  2015-08-20T00:00:00      2   \n3                 0  64900000.0      159.00  2015-07-24T00:00:00      3   \n4                 2  10000000.0      100.00  2018-06-19T00:00:00      2   \n...             ...         ...         ...                  ...    ...   \n23694             9   9700000.0      133.81  2017-03-21T00:00:00      3   \n23695            14   3100000.0       59.00  2018-01-15T00:00:00      3   \n23696            18   2500000.0       56.70  2018-02-11T00:00:00      2   \n23697            13  11475000.0       76.75  2017-03-28T00:00:00      2   \n23698             4   1350000.0       32.30  2017-07-21T00:00:00      1   \n\n       ceiling_height  floors_total  living_area  floor is_apartment  ...  \\\n0                2.70          16.0         51.0      8          NaN  ...   \n1                 NaN          11.0         18.6      1          NaN  ...   \n2                 NaN           5.0         34.3      4          NaN  ...   \n3                 NaN          14.0          NaN      9          NaN  ...   \n4                3.03          14.0         32.0     13          NaN  ...   \n...               ...           ...          ...    ...          ...  ...   \n23694            3.70           5.0         73.3      3          NaN  ...   \n23695             NaN           5.0         38.0      4          NaN  ...   \n23696             NaN           3.0         29.7      1          NaN  ...   \n23697            3.00          17.0          NaN     12          NaN  ...   \n23698            2.50           5.0         12.3      1          NaN  ...   \n\n       kitchen_area  balcony        locality_name  airports_nearest  \\\n0             25.00      NaN      Санкт-Петербург           18863.0   \n1             11.00      2.0       посёлок Шушары           12817.0   \n2              8.30      0.0      Санкт-Петербург           21741.0   \n3               NaN      0.0      Санкт-Петербург           28098.0   \n4             41.00      NaN      Санкт-Петербург           31856.0   \n...             ...      ...                  ...               ...   \n23694         13.83      NaN      Санкт-Петербург           24665.0   \n23695          8.50      NaN                Тосно               NaN   \n23696           NaN      NaN     село Рождествено               NaN   \n23697         23.30      2.0      Санкт-Петербург           39140.0   \n23698          9.00      NaN  поселок Новый Учхоз               NaN   \n\n      cityCenters_nearest  parks_around3000  parks_nearest  ponds_around3000  \\\n0                 16028.0               1.0          482.0               2.0   \n1                 18603.0               0.0            NaN               0.0   \n2                 13933.0               1.0           90.0               2.0   \n3                  6800.0               2.0           84.0               3.0   \n4                  8098.0               2.0          112.0               1.0   \n...                   ...               ...            ...               ...   \n23694              4232.0               1.0          796.0               3.0   \n23695                 NaN               NaN            NaN               NaN   \n23696                 NaN               NaN            NaN               NaN   \n23697             10364.0               2.0          173.0               3.0   \n23698                 NaN               NaN            NaN               NaN   \n\n       ponds_nearest  days_exposition  \n0              755.0              NaN  \n1                NaN             81.0  \n2              574.0            558.0  \n3              234.0            424.0  \n4               48.0            121.0  \n...              ...              ...  \n23694          381.0              NaN  \n23695            NaN             45.0  \n23696            NaN              NaN  \n23697          196.0            602.0  \n23698            NaN              NaN  \n\n[23699 rows x 22 columns]",
      "text/html": "<div>\n<style scoped>\n    .dataframe tbody tr th:only-of-type {\n        vertical-align: middle;\n    }\n\n    .dataframe tbody tr th {\n        vertical-align: top;\n    }\n\n    .dataframe thead th {\n        text-align: right;\n    }\n</style>\n<table border=\"1\" class=\"dataframe\">\n  <thead>\n    <tr style=\"text-align: right;\">\n      <th></th>\n      <th>total_images</th>\n      <th>last_price</th>\n      <th>total_area</th>\n      <th>first_day_exposition</th>\n      <th>rooms</th>\n      <th>ceiling_height</th>\n      <th>floors_total</th>\n      <th>living_area</th>\n      <th>floor</th>\n      <th>is_apartment</th>\n      <th>...</th>\n      <th>kitchen_area</th>\n      <th>balcony</th>\n      <th>locality_name</th>\n      <th>airports_nearest</th>\n      <th>cityCenters_nearest</th>\n      <th>parks_around3000</th>\n      <th>parks_nearest</th>\n      <th>ponds_around3000</th>\n      <th>ponds_nearest</th>\n      <th>days_exposition</th>\n    </tr>\n  </thead>\n  <tbody>\n    <tr>\n      <th>0</th>\n      <td>20</td>\n      <td>13000000.0</td>\n      <td>108.00</td>\n      <td>2019-03-07T00:00:00</td>\n      <td>3</td>\n      <td>2.70</td>\n      <td>16.0</td>\n      <td>51.0</td>\n      <td>8</td>\n      <td>NaN</td>\n      <td>...</td>\n      <td>25.00</td>\n      <td>NaN</td>\n      <td>Санкт-Петербург</td>\n      <td>18863.0</td>\n      <td>16028.0</td>\n      <td>1.0</td>\n      <td>482.0</td>\n      <td>2.0</td>\n      <td>755.0</td>\n      <td>NaN</td>\n    </tr>\n    <tr>\n      <th>1</th>\n      <td>7</td>\n      <td>3350000.0</td>\n      <td>40.40</td>\n      <td>2018-12-04T00:00:00</td>\n      <td>1</td>\n      <td>NaN</td>\n      <td>11.0</td>\n      <td>18.6</td>\n      <td>1</td>\n      <td>NaN</td>\n      <td>...</td>\n      <td>11.00</td>\n      <td>2.0</td>\n      <td>посёлок Шушары</td>\n      <td>12817.0</td>\n      <td>18603.0</td>\n      <td>0.0</td>\n      <td>NaN</td>\n      <td>0.0</td>\n      <td>NaN</td>\n      <td>81.0</td>\n    </tr>\n    <tr>\n      <th>2</th>\n      <td>10</td>\n      <td>5196000.0</td>\n      <td>56.00</td>\n      <td>2015-08-20T00:00:00</td>\n      <td>2</td>\n      <td>NaN</td>\n      <td>5.0</td>\n      <td>34.3</td>\n      <td>4</td>\n      <td>NaN</td>\n      <td>...</td>\n      <td>8.30</td>\n      <td>0.0</td>\n      <td>Санкт-Петербург</td>\n      <td>21741.0</td>\n      <td>13933.0</td>\n      <td>1.0</td>\n      <td>90.0</td>\n      <td>2.0</td>\n      <td>574.0</td>\n      <td>558.0</td>\n    </tr>\n    <tr>\n      <th>3</th>\n      <td>0</td>\n      <td>64900000.0</td>\n      <td>159.00</td>\n      <td>2015-07-24T00:00:00</td>\n      <td>3</td>\n      <td>NaN</td>\n      <td>14.0</td>\n      <td>NaN</td>\n      <td>9</td>\n      <td>NaN</td>\n      <td>...</td>\n      <td>NaN</td>\n      <td>0.0</td>\n      <td>Санкт-Петербург</td>\n      <td>28098.0</td>\n      <td>6800.0</td>\n      <td>2.0</td>\n      <td>84.0</td>\n      <td>3.0</td>\n      <td>234.0</td>\n      <td>424.0</td>\n    </tr>\n    <tr>\n      <th>4</th>\n      <td>2</td>\n      <td>10000000.0</td>\n      <td>100.00</td>\n      <td>2018-06-19T00:00:00</td>\n      <td>2</td>\n      <td>3.03</td>\n      <td>14.0</td>\n      <td>32.0</td>\n      <td>13</td>\n      <td>NaN</td>\n      <td>...</td>\n      <td>41.00</td>\n      <td>NaN</td>\n      <td>Санкт-Петербург</td>\n      <td>31856.0</td>\n      <td>8098.0</td>\n      <td>2.0</td>\n      <td>112.0</td>\n      <td>1.0</td>\n      <td>48.0</td>\n      <td>121.0</td>\n    </tr>\n    <tr>\n      <th>...</th>\n      <td>...</td>\n      <td>...</td>\n      <td>...</td>\n      <td>...</td>\n      <td>...</td>\n      <td>...</td>\n      <td>...</td>\n      <td>...</td>\n      <td>...</td>\n      <td>...</td>\n      <td>...</td>\n      <td>...</td>\n      <td>...</td>\n      <td>...</td>\n      <td>...</td>\n      <td>...</td>\n      <td>...</td>\n      <td>...</td>\n      <td>...</td>\n      <td>...</td>\n      <td>...</td>\n    </tr>\n    <tr>\n      <th>23694</th>\n      <td>9</td>\n      <td>9700000.0</td>\n      <td>133.81</td>\n      <td>2017-03-21T00:00:00</td>\n      <td>3</td>\n      <td>3.70</td>\n      <td>5.0</td>\n      <td>73.3</td>\n      <td>3</td>\n      <td>NaN</td>\n      <td>...</td>\n      <td>13.83</td>\n      <td>NaN</td>\n      <td>Санкт-Петербург</td>\n      <td>24665.0</td>\n      <td>4232.0</td>\n      <td>1.0</td>\n      <td>796.0</td>\n      <td>3.0</td>\n      <td>381.0</td>\n      <td>NaN</td>\n    </tr>\n    <tr>\n      <th>23695</th>\n      <td>14</td>\n      <td>3100000.0</td>\n      <td>59.00</td>\n      <td>2018-01-15T00:00:00</td>\n      <td>3</td>\n      <td>NaN</td>\n      <td>5.0</td>\n      <td>38.0</td>\n      <td>4</td>\n      <td>NaN</td>\n      <td>...</td>\n      <td>8.50</td>\n      <td>NaN</td>\n      <td>Тосно</td>\n      <td>NaN</td>\n      <td>NaN</td>\n      <td>NaN</td>\n      <td>NaN</td>\n      <td>NaN</td>\n      <td>NaN</td>\n      <td>45.0</td>\n    </tr>\n    <tr>\n      <th>23696</th>\n      <td>18</td>\n      <td>2500000.0</td>\n      <td>56.70</td>\n      <td>2018-02-11T00:00:00</td>\n      <td>2</td>\n      <td>NaN</td>\n      <td>3.0</td>\n      <td>29.7</td>\n      <td>1</td>\n      <td>NaN</td>\n      <td>...</td>\n      <td>NaN</td>\n      <td>NaN</td>\n      <td>село Рождествено</td>\n      <td>NaN</td>\n      <td>NaN</td>\n      <td>NaN</td>\n      <td>NaN</td>\n      <td>NaN</td>\n      <td>NaN</td>\n      <td>NaN</td>\n    </tr>\n    <tr>\n      <th>23697</th>\n      <td>13</td>\n      <td>11475000.0</td>\n      <td>76.75</td>\n      <td>2017-03-28T00:00:00</td>\n      <td>2</td>\n      <td>3.00</td>\n      <td>17.0</td>\n      <td>NaN</td>\n      <td>12</td>\n      <td>NaN</td>\n      <td>...</td>\n      <td>23.30</td>\n      <td>2.0</td>\n      <td>Санкт-Петербург</td>\n      <td>39140.0</td>\n      <td>10364.0</td>\n      <td>2.0</td>\n      <td>173.0</td>\n      <td>3.0</td>\n      <td>196.0</td>\n      <td>602.0</td>\n    </tr>\n    <tr>\n      <th>23698</th>\n      <td>4</td>\n      <td>1350000.0</td>\n      <td>32.30</td>\n      <td>2017-07-21T00:00:00</td>\n      <td>1</td>\n      <td>2.50</td>\n      <td>5.0</td>\n      <td>12.3</td>\n      <td>1</td>\n      <td>NaN</td>\n      <td>...</td>\n      <td>9.00</td>\n      <td>NaN</td>\n      <td>поселок Новый Учхоз</td>\n      <td>NaN</td>\n      <td>NaN</td>\n      <td>NaN</td>\n      <td>NaN</td>\n      <td>NaN</td>\n      <td>NaN</td>\n      <td>NaN</td>\n    </tr>\n  </tbody>\n</table>\n<p>23699 rows × 22 columns</p>\n</div>"
     },
     "metadata": {},
     "output_type": "display_data"
    },
    {
     "name": "stdout",
     "output_type": "stream",
     "text": [
      "<class 'pandas.core.frame.DataFrame'>\n",
      "RangeIndex: 23699 entries, 0 to 23698\n",
      "Data columns (total 22 columns):\n",
      " #   Column                Non-Null Count  Dtype  \n",
      "---  ------                --------------  -----  \n",
      " 0   total_images          23699 non-null  int64  \n",
      " 1   last_price            23699 non-null  float64\n",
      " 2   total_area            23699 non-null  float64\n",
      " 3   first_day_exposition  23699 non-null  object \n",
      " 4   rooms                 23699 non-null  int64  \n",
      " 5   ceiling_height        14504 non-null  float64\n",
      " 6   floors_total          23613 non-null  float64\n",
      " 7   living_area           21796 non-null  float64\n",
      " 8   floor                 23699 non-null  int64  \n",
      " 9   is_apartment          2775 non-null   object \n",
      " 10  studio                23699 non-null  bool   \n",
      " 11  open_plan             23699 non-null  bool   \n",
      " 12  kitchen_area          21421 non-null  float64\n",
      " 13  balcony               12180 non-null  float64\n",
      " 14  locality_name         23650 non-null  object \n",
      " 15  airports_nearest      18157 non-null  float64\n",
      " 16  cityCenters_nearest   18180 non-null  float64\n",
      " 17  parks_around3000      18181 non-null  float64\n",
      " 18  parks_nearest         8079 non-null   float64\n",
      " 19  ponds_around3000      18181 non-null  float64\n",
      " 20  ponds_nearest         9110 non-null   float64\n",
      " 21  days_exposition       20518 non-null  float64\n",
      "dtypes: bool(2), float64(14), int64(3), object(3)\n",
      "memory usage: 3.7+ MB\n"
     ]
    },
    {
     "data": {
      "text/plain": "       total_images    last_price    total_area         rooms  ceiling_height  \\\ncount  23699.000000  2.369900e+04  23699.000000  23699.000000    14504.000000   \nmean       9.858475  6.541549e+06     60.348651      2.070636        2.771499   \nstd        5.682529  1.088701e+07     35.654083      1.078405        1.261056   \nmin        0.000000  1.219000e+04     12.000000      0.000000        1.000000   \n25%        6.000000  3.400000e+06     40.000000      1.000000        2.520000   \n50%        9.000000  4.650000e+06     52.000000      2.000000        2.650000   \n75%       14.000000  6.800000e+06     69.900000      3.000000        2.800000   \nmax       50.000000  7.630000e+08    900.000000     19.000000      100.000000   \n\n       floors_total   living_area         floor  kitchen_area       balcony  \\\ncount  23613.000000  21796.000000  23699.000000  21421.000000  12180.000000   \nmean      10.673824     34.457852      5.892358     10.569807      1.150082   \nstd        6.597173     22.030445      4.885249      5.905438      1.071300   \nmin        1.000000      2.000000      1.000000      1.300000      0.000000   \n25%        5.000000     18.600000      2.000000      7.000000      0.000000   \n50%        9.000000     30.000000      4.000000      9.100000      1.000000   \n75%       16.000000     42.300000      8.000000     12.000000      2.000000   \nmax       60.000000    409.700000     33.000000    112.000000      5.000000   \n\n       airports_nearest  cityCenters_nearest  parks_around3000  parks_nearest  \\\ncount      18157.000000         18180.000000      18181.000000    8079.000000   \nmean       28793.672193         14191.277833          0.611408     490.804555   \nstd        12630.880622          8608.386210          0.802074     342.317995   \nmin            0.000000           181.000000          0.000000       1.000000   \n25%        18585.000000          9238.000000          0.000000     288.000000   \n50%        26726.000000         13098.500000          0.000000     455.000000   \n75%        37273.000000         16293.000000          1.000000     612.000000   \nmax        84869.000000         65968.000000          3.000000    3190.000000   \n\n       ponds_around3000  ponds_nearest  days_exposition  \ncount      18181.000000    9110.000000     20518.000000  \nmean           0.770255     517.980900       180.888634  \nstd            0.938346     277.720643       219.727988  \nmin            0.000000      13.000000         1.000000  \n25%            0.000000     294.000000        45.000000  \n50%            1.000000     502.000000        95.000000  \n75%            1.000000     729.000000       232.000000  \nmax            3.000000    1344.000000      1580.000000  ",
      "text/html": "<div>\n<style scoped>\n    .dataframe tbody tr th:only-of-type {\n        vertical-align: middle;\n    }\n\n    .dataframe tbody tr th {\n        vertical-align: top;\n    }\n\n    .dataframe thead th {\n        text-align: right;\n    }\n</style>\n<table border=\"1\" class=\"dataframe\">\n  <thead>\n    <tr style=\"text-align: right;\">\n      <th></th>\n      <th>total_images</th>\n      <th>last_price</th>\n      <th>total_area</th>\n      <th>rooms</th>\n      <th>ceiling_height</th>\n      <th>floors_total</th>\n      <th>living_area</th>\n      <th>floor</th>\n      <th>kitchen_area</th>\n      <th>balcony</th>\n      <th>airports_nearest</th>\n      <th>cityCenters_nearest</th>\n      <th>parks_around3000</th>\n      <th>parks_nearest</th>\n      <th>ponds_around3000</th>\n      <th>ponds_nearest</th>\n      <th>days_exposition</th>\n    </tr>\n  </thead>\n  <tbody>\n    <tr>\n      <th>count</th>\n      <td>23699.000000</td>\n      <td>2.369900e+04</td>\n      <td>23699.000000</td>\n      <td>23699.000000</td>\n      <td>14504.000000</td>\n      <td>23613.000000</td>\n      <td>21796.000000</td>\n      <td>23699.000000</td>\n      <td>21421.000000</td>\n      <td>12180.000000</td>\n      <td>18157.000000</td>\n      <td>18180.000000</td>\n      <td>18181.000000</td>\n      <td>8079.000000</td>\n      <td>18181.000000</td>\n      <td>9110.000000</td>\n      <td>20518.000000</td>\n    </tr>\n    <tr>\n      <th>mean</th>\n      <td>9.858475</td>\n      <td>6.541549e+06</td>\n      <td>60.348651</td>\n      <td>2.070636</td>\n      <td>2.771499</td>\n      <td>10.673824</td>\n      <td>34.457852</td>\n      <td>5.892358</td>\n      <td>10.569807</td>\n      <td>1.150082</td>\n      <td>28793.672193</td>\n      <td>14191.277833</td>\n      <td>0.611408</td>\n      <td>490.804555</td>\n      <td>0.770255</td>\n      <td>517.980900</td>\n      <td>180.888634</td>\n    </tr>\n    <tr>\n      <th>std</th>\n      <td>5.682529</td>\n      <td>1.088701e+07</td>\n      <td>35.654083</td>\n      <td>1.078405</td>\n      <td>1.261056</td>\n      <td>6.597173</td>\n      <td>22.030445</td>\n      <td>4.885249</td>\n      <td>5.905438</td>\n      <td>1.071300</td>\n      <td>12630.880622</td>\n      <td>8608.386210</td>\n      <td>0.802074</td>\n      <td>342.317995</td>\n      <td>0.938346</td>\n      <td>277.720643</td>\n      <td>219.727988</td>\n    </tr>\n    <tr>\n      <th>min</th>\n      <td>0.000000</td>\n      <td>1.219000e+04</td>\n      <td>12.000000</td>\n      <td>0.000000</td>\n      <td>1.000000</td>\n      <td>1.000000</td>\n      <td>2.000000</td>\n      <td>1.000000</td>\n      <td>1.300000</td>\n      <td>0.000000</td>\n      <td>0.000000</td>\n      <td>181.000000</td>\n      <td>0.000000</td>\n      <td>1.000000</td>\n      <td>0.000000</td>\n      <td>13.000000</td>\n      <td>1.000000</td>\n    </tr>\n    <tr>\n      <th>25%</th>\n      <td>6.000000</td>\n      <td>3.400000e+06</td>\n      <td>40.000000</td>\n      <td>1.000000</td>\n      <td>2.520000</td>\n      <td>5.000000</td>\n      <td>18.600000</td>\n      <td>2.000000</td>\n      <td>7.000000</td>\n      <td>0.000000</td>\n      <td>18585.000000</td>\n      <td>9238.000000</td>\n      <td>0.000000</td>\n      <td>288.000000</td>\n      <td>0.000000</td>\n      <td>294.000000</td>\n      <td>45.000000</td>\n    </tr>\n    <tr>\n      <th>50%</th>\n      <td>9.000000</td>\n      <td>4.650000e+06</td>\n      <td>52.000000</td>\n      <td>2.000000</td>\n      <td>2.650000</td>\n      <td>9.000000</td>\n      <td>30.000000</td>\n      <td>4.000000</td>\n      <td>9.100000</td>\n      <td>1.000000</td>\n      <td>26726.000000</td>\n      <td>13098.500000</td>\n      <td>0.000000</td>\n      <td>455.000000</td>\n      <td>1.000000</td>\n      <td>502.000000</td>\n      <td>95.000000</td>\n    </tr>\n    <tr>\n      <th>75%</th>\n      <td>14.000000</td>\n      <td>6.800000e+06</td>\n      <td>69.900000</td>\n      <td>3.000000</td>\n      <td>2.800000</td>\n      <td>16.000000</td>\n      <td>42.300000</td>\n      <td>8.000000</td>\n      <td>12.000000</td>\n      <td>2.000000</td>\n      <td>37273.000000</td>\n      <td>16293.000000</td>\n      <td>1.000000</td>\n      <td>612.000000</td>\n      <td>1.000000</td>\n      <td>729.000000</td>\n      <td>232.000000</td>\n    </tr>\n    <tr>\n      <th>max</th>\n      <td>50.000000</td>\n      <td>7.630000e+08</td>\n      <td>900.000000</td>\n      <td>19.000000</td>\n      <td>100.000000</td>\n      <td>60.000000</td>\n      <td>409.700000</td>\n      <td>33.000000</td>\n      <td>112.000000</td>\n      <td>5.000000</td>\n      <td>84869.000000</td>\n      <td>65968.000000</td>\n      <td>3.000000</td>\n      <td>3190.000000</td>\n      <td>3.000000</td>\n      <td>1344.000000</td>\n      <td>1580.000000</td>\n    </tr>\n  </tbody>\n</table>\n</div>"
     },
     "execution_count": 2,
     "metadata": {},
     "output_type": "execute_result"
    }
   ],
   "source": [
    "data = pd.read_csv(filepath_or_buffer='datasets/real_estate_data.csv', delimiter='\\t')\n",
    "display(data)\n",
    "data.info()\n",
    "data.describe()"
   ]
  },
  {
   "cell_type": "markdown",
   "metadata": {
    "collapsed": false,
    "pycharm": {
     "name": "#%% md\n"
    }
   },
   "source": [
    "# Результат первичного осмотра данных #\n",
    "1. data['first_day_exposition'] привести к типу datetime\n",
    "2. data['floors_total'] привести к типу int\n",
    "3. data['is_apartment'] приветсти к типу bool\n",
    "4. data['balcony'] привести к типу int\n",
    "5. data['airport_nearest] привести к типу int\n",
    "6. data['days_exposition'] привести к типу int\n",
    "7. data['cityCenter_nearest]:\n",
    "    - переименовать в 'city_center_nearest'\n",
    "    - привести к типу int\n",
    "8. data['parks_around3000']:\n",
    "    - переименовать в 'parks_around_3000'\n",
    "    - привести к типу int\n",
    "9. data['park_nearest'] привести к типу int\n",
    "10. data['ponds_around3000']\n",
    "    - переименовать в 'ponds_around3000'\n",
    "    - привести к типу int\n",
    "11. data['ponds_nearest'] привести к типу int\n",
    "12. Пропуски данных:\n",
    "    - data['ceiling_height']\n",
    "        * заменить пропуски на медианное значение, т.к. нет косвенных данных указывающих на верное значение\n",
    "        * медиана слабо зависит от выбросов\n",
    "    - data['floors_total']\n",
    "        * заменить пропуски на data['floor'], т.к. нет косвенных данных указывающих на верное значение\n",
    "    - data['living_area']\n",
    "        * заменить пропуски на медианное значение, т.к. нет косвенных данных указывающих на верное значение\n",
    "        * медиана слабо зависит от выбросов\n",
    "    - data['is_apartment']\n",
    "        * заменить пропуски на 0\n",
    "        * если не указано, вероятно не является аппартаментами\n",
    "    - data['kitchen_area']\n",
    "        * заменить пропуски на медианное значение, т.к. нет косвенных данных указывающих на верное значение\n",
    "        * медиана слабо зависит от выбросов\n",
    "    - data['balcony']\n",
    "        * заменить пропуски на 0\n",
    "        * если количество не указано, вероятно балконов нет.\n",
    "    - data['locality_name']\n",
    "    - data['airports_nearest']\n",
    "        * заменить на 0\n",
    "        * картографические данные\n",
    "        * если не указано значение => аэропорт рядом отсутствует\n",
    "    - data['cityCenters_nearest']\n",
    "        * оставить пропуск\n",
    "        * картографические данные\n",
    "        * если не указано => недвижимость расположена за пределами Санкт-Петербурга\n",
    "    - data['parks_around3000']\n",
    "        * заменить на 0\n",
    "        * картографические данные\n",
    "        * если не указано => парки в радиусе 3 км отсутствуют\n",
    "    - data['parks_nearest']\n",
    "        * заменить на 0\n",
    "        * картографические данные\n",
    "        * если не указано => парки отсутствуют\n",
    "    - data['ponds_around3000']\n",
    "        * заменить на 0\n",
    "        * картографические данные\n",
    "        * если не указано => пруды в радиусе 3 км отсутствуют\n",
    "    - data['ponds_nearest']\n",
    "        * заменить на 0\n",
    "        * картографические данные\n",
    "        * если не указано => парки отсутствуют\n",
    "    - data['days_exposition']\n",
    "        * заменить на 0"
   ]
  },
  {
   "cell_type": "markdown",
   "metadata": {
    "collapsed": false,
    "pycharm": {
     "name": "#%% md\n"
    }
   },
   "source": [
    "<a id='data_prepare'></a>\n",
    "# Предобработка данных #"
   ]
  },
  {
   "cell_type": "markdown",
   "metadata": {
    "collapsed": false,
    "pycharm": {
     "name": "#%% md\n"
    }
   },
   "source": [
    "<a id='data_column_rename'></a>\n",
    "## Переименование столбцов ##"
   ]
  },
  {
   "cell_type": "code",
   "execution_count": 3,
   "metadata": {
    "collapsed": false,
    "pycharm": {
     "name": "#%%\n"
    }
   },
   "outputs": [
    {
     "name": "stdout",
     "output_type": "stream",
     "text": [
      "<class 'pandas.core.frame.DataFrame'>\n",
      "RangeIndex: 23699 entries, 0 to 23698\n",
      "Data columns (total 22 columns):\n",
      " #   Column                Non-Null Count  Dtype  \n",
      "---  ------                --------------  -----  \n",
      " 0   total_images          23699 non-null  int64  \n",
      " 1   last_price            23699 non-null  float64\n",
      " 2   total_area            23699 non-null  float64\n",
      " 3   first_day_exposition  23699 non-null  object \n",
      " 4   rooms                 23699 non-null  int64  \n",
      " 5   ceiling_height        14504 non-null  float64\n",
      " 6   floors_total          23613 non-null  float64\n",
      " 7   living_area           21796 non-null  float64\n",
      " 8   floor                 23699 non-null  int64  \n",
      " 9   is_apartment          2775 non-null   object \n",
      " 10  studio                23699 non-null  bool   \n",
      " 11  open_plan             23699 non-null  bool   \n",
      " 12  kitchen_area          21421 non-null  float64\n",
      " 13  balcony               12180 non-null  float64\n",
      " 14  locality_name         23650 non-null  object \n",
      " 15  airports_nearest      18157 non-null  float64\n",
      " 16  city_centers_nearest  18180 non-null  float64\n",
      " 17  parks_around_3000     18181 non-null  float64\n",
      " 18  parks_nearest         8079 non-null   float64\n",
      " 19  ponds_around_3000     18181 non-null  float64\n",
      " 20  ponds_nearest         9110 non-null   float64\n",
      " 21  days_exposition       20518 non-null  float64\n",
      "dtypes: bool(2), float64(14), int64(3), object(3)\n",
      "memory usage: 3.7+ MB\n"
     ]
    }
   ],
   "source": [
    "data = data.rename(columns={'cityCenters_nearest':'city_centers_nearest',\n",
    "                            'parks_around3000':'parks_around_3000',\n",
    "                            'ponds_around3000':'ponds_around_3000'})\n",
    "data.info()"
   ]
  },
  {
   "cell_type": "markdown",
   "metadata": {
    "collapsed": false,
    "pycharm": {
     "name": "#%% md\n"
    }
   },
   "source": [
    "## Обработка пропусков ##"
   ]
  },
  {
   "cell_type": "code",
   "execution_count": 4,
   "metadata": {
    "collapsed": false,
    "pycharm": {
     "name": "#%%\n"
    }
   },
   "outputs": [],
   "source": [
    "for column in data.columns:\n",
    "    if column in ['ceiling_height', 'living_area', 'kitchen_area']:\n",
    "        data[column] = data[column].fillna(value=data[column].median())\n",
    "    elif column in ['is_apartment', 'balcony', 'airports_nearest',\n",
    "                    'parks_around_3000', 'ponds_around_3000',\n",
    "                    'parks_nearest', 'ponds_nearest','days_exposition']:\n",
    "        data[column] = data[column].fillna(value=0)\n",
    "    elif column == 'floors_total':\n",
    "        data[column] = data[column].where(~data[column].isna(), data['floor'])\n"
   ]
  },
  {
   "cell_type": "code",
   "execution_count": 5,
   "metadata": {
    "collapsed": false,
    "pycharm": {
     "name": "#%%\n"
    }
   },
   "outputs": [
    {
     "data": {
      "text/plain": "total_images               0\nlast_price                 0\ntotal_area                 0\nfirst_day_exposition       0\nrooms                      0\nceiling_height             0\nfloors_total               0\nliving_area                0\nfloor                      0\nis_apartment               0\nstudio                     0\nopen_plan                  0\nkitchen_area               0\nbalcony                    0\nlocality_name             49\nairports_nearest           0\ncity_centers_nearest    5519\nparks_around_3000          0\nparks_nearest              0\nponds_around_3000          0\nponds_nearest              0\ndays_exposition            0\ndtype: int64"
     },
     "execution_count": 5,
     "metadata": {},
     "output_type": "execute_result"
    }
   ],
   "source": [
    "data.isna().sum()"
   ]
  },
  {
   "cell_type": "code",
   "execution_count": 6,
   "outputs": [
    {
     "data": {
      "text/plain": "array(['Санкт-Петербург', 'посёлок Шушары', 'санкт-петербург',\n       'посёлок Парголово', 'Ломоносов', 'Петергоф', 'Пушкин', 'Колпино',\n       'Кронштадт', 'посёлок Металлострой', 'Павловск', 'Сестрорецк',\n       'Красное Село', 'посёлок Понтонный', 'Зеленогорск',\n       'посёлок Молодёжное', 'посёлок Стрельна',\n       'посёлок Александровская', 'посёлок Песочный',\n       'посёлок Петро-Славянка', 'посёлок Репино', 'посёлок Сапёрный',\n       'посёлок Щеглово', 'поселок Лисий Нос', 'посёлок Левашово',\n       'посёлок Белоостров', 'поселок Мурино', 'посёлок Лисий Нос',\n       'посёлок Усть-Ижора'], dtype=object)"
     },
     "execution_count": 6,
     "metadata": {},
     "output_type": "execute_result"
    }
   ],
   "source": [
    "data['locality_name'] = data['locality_name'].where(~data['city_centers_nearest'].isnull()\n",
    "                                                    & ~data['locality_name'].isnull(), 'санкт-петербург')\n",
    "data['locality_name'].unique()"
   ],
   "metadata": {
    "collapsed": false,
    "pycharm": {
     "name": "#%%\n"
    }
   }
  },
  {
   "cell_type": "code",
   "execution_count": 7,
   "metadata": {
    "collapsed": false,
    "pycharm": {
     "name": "#%%\n"
    }
   },
   "outputs": [
    {
     "name": "stdout",
     "output_type": "stream",
     "text": [
      "total_images               0\n",
      "last_price                 0\n",
      "total_area                 0\n",
      "first_day_exposition       0\n",
      "rooms                      0\n",
      "ceiling_height             0\n",
      "floors_total               0\n",
      "living_area                0\n",
      "floor                      0\n",
      "is_apartment               0\n",
      "studio                     0\n",
      "open_plan                  0\n",
      "kitchen_area               0\n",
      "balcony                    0\n",
      "locality_name              0\n",
      "airports_nearest           0\n",
      "city_centers_nearest    5519\n",
      "parks_around_3000          0\n",
      "parks_nearest              0\n",
      "ponds_around_3000          0\n",
      "ponds_nearest              0\n",
      "days_exposition            0\n",
      "dtype: int64\n"
     ]
    }
   ],
   "source": [
    "print(data.isna().sum())"
   ]
  },
  {
   "cell_type": "markdown",
   "metadata": {
    "collapsed": false,
    "pycharm": {
     "name": "#%% md\n"
    }
   },
   "source": [
    "## Результаты обработки пропусков ##\n",
    "1. явные пропуски обработаны\n",
    "2. пропуски data['locality_name'] заменены на 'санкт-петербург', если указано расстояние до центра"
   ]
  },
  {
   "cell_type": "markdown",
   "metadata": {
    "collapsed": false,
    "pycharm": {
     "name": "#%% md\n"
    }
   },
   "source": [
    "<a id='data_change_type'></a>\n",
    "## Приведение типов ##"
   ]
  },
  {
   "cell_type": "code",
   "execution_count": 8,
   "metadata": {
    "collapsed": false,
    "pycharm": {
     "name": "#%%\n"
    }
   },
   "outputs": [],
   "source": [
    "for column in data.columns:\n",
    "    if column in ['floors_total', 'balcony', 'airport_nearest', 'days_exposition',\n",
    "                  'parks_around_3000', 'park_nearest', 'ponds_around_3000', 'ponds_nearest']:\n",
    "        data[column] = data[column].astype('int')\n",
    "    elif column in ['is_apartment']: data[column] = data[column].astype('bool')\n",
    "    elif column in ['first_day_exposition']: data[column] = pd.to_datetime(data[column], format='%Y-%m-%dT%H:%M:%S')\n",
    "    elif column == 'city_centers_nearest': data[column] = pd.to_numeric(data[column], errors='coerce')"
   ]
  },
  {
   "cell_type": "code",
   "execution_count": 9,
   "metadata": {
    "collapsed": false,
    "pycharm": {
     "name": "#%%\n"
    }
   },
   "outputs": [
    {
     "name": "stdout",
     "output_type": "stream",
     "text": [
      "<class 'pandas.core.frame.DataFrame'>\n",
      "RangeIndex: 23699 entries, 0 to 23698\n",
      "Data columns (total 22 columns):\n",
      " #   Column                Non-Null Count  Dtype         \n",
      "---  ------                --------------  -----         \n",
      " 0   total_images          23699 non-null  int64         \n",
      " 1   last_price            23699 non-null  float64       \n",
      " 2   total_area            23699 non-null  float64       \n",
      " 3   first_day_exposition  23699 non-null  datetime64[ns]\n",
      " 4   rooms                 23699 non-null  int64         \n",
      " 5   ceiling_height        23699 non-null  float64       \n",
      " 6   floors_total          23699 non-null  int32         \n",
      " 7   living_area           23699 non-null  float64       \n",
      " 8   floor                 23699 non-null  int64         \n",
      " 9   is_apartment          23699 non-null  bool          \n",
      " 10  studio                23699 non-null  bool          \n",
      " 11  open_plan             23699 non-null  bool          \n",
      " 12  kitchen_area          23699 non-null  float64       \n",
      " 13  balcony               23699 non-null  int32         \n",
      " 14  locality_name         23699 non-null  object        \n",
      " 15  airports_nearest      23699 non-null  float64       \n",
      " 16  city_centers_nearest  18180 non-null  float64       \n",
      " 17  parks_around_3000     23699 non-null  int32         \n",
      " 18  parks_nearest         23699 non-null  float64       \n",
      " 19  ponds_around_3000     23699 non-null  int32         \n",
      " 20  ponds_nearest         23699 non-null  int32         \n",
      " 21  days_exposition       23699 non-null  int32         \n",
      "dtypes: bool(3), datetime64[ns](1), float64(8), int32(6), int64(3), object(1)\n",
      "memory usage: 3.0+ MB\n"
     ]
    }
   ],
   "source": [
    "data.info()"
   ]
  },
  {
   "cell_type": "code",
   "execution_count": 10,
   "outputs": [
    {
     "data": {
      "text/plain": "0        16028.0\n1        18603.0\n2        13933.0\n3         6800.0\n4         8098.0\n          ...   \n23694     4232.0\n23695        NaN\n23696        NaN\n23697    10364.0\n23698        NaN\nName: city_centers_nearest, Length: 23699, dtype: float64"
     },
     "execution_count": 10,
     "metadata": {},
     "output_type": "execute_result"
    }
   ],
   "source": [
    "data['city_centers_nearest']"
   ],
   "metadata": {
    "collapsed": false,
    "pycharm": {
     "name": "#%%\n"
    }
   }
  },
  {
   "cell_type": "markdown",
   "metadata": {
    "collapsed": false,
    "pycharm": {
     "name": "#%% md\n"
    }
   },
   "source": [
    "<a id='data_string_prepare'></a>\n",
    "## Предобработка строковых значений ##"
   ]
  },
  {
   "cell_type": "code",
   "execution_count": 11,
   "metadata": {
    "collapsed": false,
    "pycharm": {
     "name": "#%%\n"
    }
   },
   "outputs": [
    {
     "data": {
      "text/plain": "array(['санкт-петербург', 'посёлок шушары', 'посёлок парголово',\n       'ломоносов', 'петергоф', 'пушкин', 'колпино', 'кронштадт',\n       'посёлок металлострой', 'павловск', 'сестрорецк', 'красное село',\n       'посёлок понтонный', 'зеленогорск', 'посёлок молодёжное',\n       'посёлок стрельна', 'посёлок александровская', 'посёлок песочный',\n       'посёлок петро-славянка', 'посёлок репино', 'посёлок сапёрный',\n       'посёлок щеглово', 'поселок лисий нос', 'посёлок левашово',\n       'посёлок белоостров', 'поселок мурино', 'посёлок лисий нос',\n       'посёлок усть-ижора'], dtype=object)"
     },
     "execution_count": 11,
     "metadata": {},
     "output_type": "execute_result"
    }
   ],
   "source": [
    "data['locality_name'] = data['locality_name'].str.lower()\n",
    "data['locality_name'] = data['locality_name'].str.strip()\n",
    "data['locality_name'].unique()"
   ]
  },
  {
   "cell_type": "markdown",
   "metadata": {
    "collapsed": false,
    "pycharm": {
     "name": "#%% md\n"
    }
   },
   "source": [
    "<a id='data_duplicates'></a>\n",
    "## Обработка дубликатов ##"
   ]
  },
  {
   "cell_type": "code",
   "execution_count": 12,
   "metadata": {
    "collapsed": false,
    "pycharm": {
     "name": "#%%\n"
    }
   },
   "outputs": [
    {
     "data": {
      "text/plain": "0"
     },
     "execution_count": 12,
     "metadata": {},
     "output_type": "execute_result"
    }
   ],
   "source": [
    "data.duplicated().sum()"
   ]
  },
  {
   "cell_type": "markdown",
   "metadata": {
    "collapsed": false,
    "pycharm": {
     "name": "#%% md\n"
    }
   },
   "source": [
    "# Результаты предобработки данных #\n",
    "1. переименованы столбцы:\n",
    "    * cityCenters_nearest => city_centers_nearest\n",
    "    * parks_around3000 => parks_around_3000\n",
    "    * ponds_around3000 => ponds_around_3000\n",
    "2. заполнены пропущенные значения:\n",
    "    * 'ceiling_height' = 'ceiling_height'.median()\n",
    "    * 'living_area' = 'living_area'.median()\n",
    "    * 'kitchen_area' = 'kitchen_area'.median()\n",
    "    * 'is_apartment' = 0\n",
    "    * 'balcony' = 0\n",
    "    * 'airports_nearest' = 0\n",
    "    * 'city_centers_nearest' = 0\n",
    "    * 'parks_around_3000' = 0\n",
    "    * 'ponds_around_3000' = 0\n",
    "    * 'parks_nearest' = 0\n",
    "    * 'ponds_nearest' = 0\n",
    "    * 'days_exposition' = 0\n",
    "    * 'floors_total' = 'floor'\n",
    "    * 'locality_name'.isna() = 'санкт-петербург'\n",
    "3. изменены типы данных:\n",
    "    * 'floors_total'\n",
    "    * 'balcony'\n",
    "    * 'airport_nearest'\n",
    "    * 'days_exposition'\n",
    "    * 'city_centers_nearest'\n",
    "    * 'parks_around_3000'\n",
    "    * 'park_nearest'\n",
    "    * 'ponds_around_3000'\n",
    "    * 'ponds_nearest'\n",
    "    * 'is_apartment'\n",
    "    * 'first_day_exposition'\n",
    "4. предобработка строковых данных:\n",
    "    * data['locality_name']\n",
    "        - значения переведены в нижний регистр\n",
    "        - удалены лишние символы\n",
    "5. обработка дубликатов:\n",
    "    * не обнаружены"
   ]
  },
  {
   "cell_type": "markdown",
   "metadata": {
    "collapsed": false,
    "pycharm": {
     "name": "#%% md\n"
    }
   },
   "source": [
    "<a id='calculations'></a>\n",
    "# Расчёты и добавление результатов в таблицу #"
   ]
  },
  {
   "cell_type": "markdown",
   "metadata": {
    "collapsed": false,
    "pycharm": {
     "name": "#%% md\n"
    }
   },
   "source": [
    "<a id='calc_square_meter_price'></a>\n",
    "## Расчет цены квадратного метра ##"
   ]
  },
  {
   "cell_type": "code",
   "execution_count": 13,
   "metadata": {
    "collapsed": false,
    "pycharm": {
     "name": "#%%\n"
    }
   },
   "outputs": [
    {
     "data": {
      "text/plain": "0        120370.37\n1         82920.79\n2         92785.71\n3        408176.10\n4        100000.00\n           ...    \n23694     72490.85\n23695     52542.37\n23696     44091.71\n23697    149511.40\n23698     41795.67\nName: square_meter_price, Length: 23699, dtype: float64"
     },
     "execution_count": 13,
     "metadata": {},
     "output_type": "execute_result"
    }
   ],
   "source": [
    "data['square_meter_price'] = (data['last_price'] / data['total_area']).round(2)\n",
    "data['square_meter_price']"
   ]
  },
  {
   "cell_type": "markdown",
   "metadata": {
    "collapsed": false,
    "pycharm": {
     "name": "#%% md\n"
    }
   },
   "source": [
    "<a id='calc_date'></a>\n",
    "## День недели, месяц и год публикации объявления ##"
   ]
  },
  {
   "cell_type": "code",
   "execution_count": 14,
   "metadata": {
    "collapsed": false,
    "pycharm": {
     "name": "#%%\n"
    }
   },
   "outputs": [
    {
     "name": "stdout",
     "output_type": "stream",
     "text": [
      "<class 'pandas.core.frame.DataFrame'>\n",
      "RangeIndex: 23699 entries, 0 to 23698\n",
      "Data columns (total 23 columns):\n",
      " #   Column                Non-Null Count  Dtype         \n",
      "---  ------                --------------  -----         \n",
      " 0   total_images          23699 non-null  int64         \n",
      " 1   last_price            23699 non-null  float64       \n",
      " 2   total_area            23699 non-null  float64       \n",
      " 3   first_day_exposition  23699 non-null  datetime64[ns]\n",
      " 4   rooms                 23699 non-null  int64         \n",
      " 5   ceiling_height        23699 non-null  float64       \n",
      " 6   floors_total          23699 non-null  int32         \n",
      " 7   living_area           23699 non-null  float64       \n",
      " 8   floor                 23699 non-null  int64         \n",
      " 9   is_apartment          23699 non-null  bool          \n",
      " 10  studio                23699 non-null  bool          \n",
      " 11  open_plan             23699 non-null  bool          \n",
      " 12  kitchen_area          23699 non-null  float64       \n",
      " 13  balcony               23699 non-null  int32         \n",
      " 14  locality_name         23699 non-null  object        \n",
      " 15  airports_nearest      23699 non-null  float64       \n",
      " 16  city_centers_nearest  18180 non-null  float64       \n",
      " 17  parks_around_3000     23699 non-null  int32         \n",
      " 18  parks_nearest         23699 non-null  float64       \n",
      " 19  ponds_around_3000     23699 non-null  int32         \n",
      " 20  ponds_nearest         23699 non-null  int32         \n",
      " 21  days_exposition       23699 non-null  int32         \n",
      " 22  square_meter_price    23699 non-null  float64       \n",
      "dtypes: bool(3), datetime64[ns](1), float64(9), int32(6), int64(3), object(1)\n",
      "memory usage: 3.1+ MB\n"
     ]
    }
   ],
   "source": [
    "data.info()"
   ]
  },
  {
   "cell_type": "code",
   "execution_count": 15,
   "metadata": {
    "collapsed": false,
    "pycharm": {
     "name": "#%%\n"
    }
   },
   "outputs": [],
   "source": [
    "#data['dayofweek'] = data['first_day_exposition'].dt.dayofweek\n",
    "data['weekday'] = data['first_day_exposition'].dt.day_name(locale='Russian')\n",
    "data['month'] = data['first_day_exposition'].dt.month\n",
    "data['year'] = data['first_day_exposition'].dt.year"
   ]
  },
  {
   "cell_type": "markdown",
   "metadata": {
    "collapsed": false,
    "pycharm": {
     "name": "#%% md\n"
    }
   },
   "source": [
    "<a id='calc_flat_floor'></a>\n",
    "## Классификация этажей квартиры ##"
   ]
  },
  {
   "cell_type": "code",
   "execution_count": 16,
   "metadata": {
    "collapsed": false,
    "pycharm": {
     "name": "#%%\n"
    }
   },
   "outputs": [],
   "source": [
    "def floor_classifier(rec):\n",
    "    if rec['floor'] == 1: return 'Первый'\n",
    "    elif rec['floor'] == rec['floors_total']: return 'Последний'\n",
    "    else: return 'Другой'\n",
    "\n",
    "data['flat_floor'] = data.apply(floor_classifier, axis=1)"
   ]
  },
  {
   "cell_type": "markdown",
   "metadata": {
    "collapsed": false,
    "pycharm": {
     "name": "#%% md\n"
    }
   },
   "source": [
    "<a id='calc_living_ratio'></a>\n",
    "## Отношение жилой площади к общей площади ##"
   ]
  },
  {
   "cell_type": "code",
   "execution_count": 17,
   "metadata": {
    "collapsed": false,
    "pycharm": {
     "name": "#%%\n"
    }
   },
   "outputs": [],
   "source": [
    "data['living_ratio'] = (data['living_area'] / data['total_area']).round(2)"
   ]
  },
  {
   "cell_type": "markdown",
   "metadata": {
    "collapsed": false,
    "pycharm": {
     "name": "#%% md\n"
    }
   },
   "source": [
    "<a id='calc_kitchen_area'></a>\n",
    "## Отношение площади кухни к общей площади ##"
   ]
  },
  {
   "cell_type": "code",
   "execution_count": 18,
   "metadata": {
    "collapsed": false,
    "pycharm": {
     "name": "#%%\n"
    }
   },
   "outputs": [],
   "source": [
    "data['kitchen_ratio'] = (data['kitchen_area'] / data['total_area']).round(2)"
   ]
  },
  {
   "cell_type": "markdown",
   "metadata": {
    "collapsed": false,
    "pycharm": {
     "name": "#%% md\n"
    }
   },
   "source": [
    "<a id='research'></a>\n",
    "# Исследовательский анализ данных #\n",
    "Изучите следующие параметры: площадь, цена, число комнат, высота потолков. Постройте гистограммы для каждого параметра.\n",
    "    Изучите время продажи квартиры. Постройте гистограмму. Посчитайте среднее и медиану. Опишите, сколько обычно занимает продажа. Когда можно считать, что продажи прошли очень быстро, а когда необычно долго?\n",
    "    Уберите редкие и выбивающиеся значения. Опишите, какие особенности обнаружили.\n",
    "    Какие факторы больше всего влияют на стоимость квартиры? Изучите, зависит ли цена от площади, числа комнат, удалённости от центра. Изучите зависимость цены от того, на каком этаже расположена квартира: первом, последнем или другом. Также изучите зависимость от даты размещения: дня недели, месяца и года.\n",
    "    Выберите 10 населённых пунктов с наибольшим числом объявлений. Посчитайте среднюю цену квадратного метра в этих населённых пунктах. Выделите населённые пункты с самой высокой и низкой стоимостью жилья. Эти данные можно найти по имени в столбце locality_name.\n",
    "    Изучите предложения квартир: для каждой квартиры есть информация о расстоянии до центра. Выделите квартиры в Санкт-Петербурге (locality_name). Ваша задача — выяснить, какая область входит в центр. Создайте столбец с расстоянием до центра в километрах: округлите до целых значений. После этого посчитайте среднюю цену для каждого километра. Постройте график: он должен показывать, как цена зависит от удалённости от центра. Определите границу, где график сильно меняется, — это и будет центральная зона.\n",
    "    Выделите сегмент квартир в центре. Проанализируйте эту территорию и изучите следующие параметры: площадь, цена, число комнат, высота потолков. Также выделите факторы, которые влияют на стоимость квартиры (число комнат, этаж, удалённость от центра, дата размещения объявления). Сделайте выводы. Отличаются ли они от общих выводов по всему городу?"
   ]
  },
  {
   "cell_type": "markdown",
   "metadata": {
    "collapsed": false,
    "pycharm": {
     "name": "#%% md\n"
    }
   },
   "source": [
    "<a id='research_hist_area'></a>\n",
    "## Гистограммы площади, стоимости, числа комнат, высоты потолков, длительности продажи ##"
   ]
  },
  {
   "cell_type": "code",
   "execution_count": 19,
   "metadata": {
    "collapsed": false,
    "pycharm": {
     "name": "#%%\n"
    }
   },
   "outputs": [
    {
     "data": {
      "text/plain": "<Figure size 720x576 with 1 Axes>",
      "image/png": "[encoded data removed]"
     },
     "metadata": {
      "needs_background": "light"
     },
     "output_type": "display_data"
    },
    {
     "data": {
      "text/plain": "<Figure size 720x576 with 1 Axes>",
      "image/png": "[encoded data removed]"
     },
     "metadata": {
      "needs_background": "light"
     },
     "output_type": "display_data"
    },
    {
     "name": "stdout",
     "output_type": "stream",
     "text": [
      "count    23699.000000\n",
      "mean        60.348651\n",
      "std         35.654083\n",
      "min         12.000000\n",
      "25%         40.000000\n",
      "50%         52.000000\n",
      "75%         69.900000\n",
      "max        900.000000\n",
      "Name: total_area, dtype: float64\n"
     ]
    },
    {
     "data": {
      "text/plain": "<Figure size 720x576 with 1 Axes>",
      "image/png": "[encoded data removed]"
     },
     "metadata": {
      "needs_background": "light"
     },
     "output_type": "display_data"
    },
    {
     "data": {
      "text/plain": "<Figure size 720x576 with 1 Axes>",
      "image/png": "[encoded data removed]"
     },
     "metadata": {
      "needs_background": "light"
     },
     "output_type": "display_data"
    },
    {
     "name": "stdout",
     "output_type": "stream",
     "text": [
      "count    2.369900e+04\n",
      "mean     6.541549e+06\n",
      "std      1.088701e+07\n",
      "min      1.219000e+04\n",
      "25%      3.400000e+06\n",
      "50%      4.650000e+06\n",
      "75%      6.800000e+06\n",
      "max      7.630000e+08\n",
      "Name: last_price, dtype: float64\n"
     ]
    },
    {
     "data": {
      "text/plain": "<Figure size 720x576 with 1 Axes>",
      "image/png": "[encoded data removed]"
     },
     "metadata": {
      "needs_background": "light"
     },
     "output_type": "display_data"
    },
    {
     "data": {
      "text/plain": "<Figure size 720x576 with 1 Axes>",
      "image/png": "[encoded data removed]"
     },
     "metadata": {
      "needs_background": "light"
     },
     "output_type": "display_data"
    },
    {
     "name": "stdout",
     "output_type": "stream",
     "text": [
      "count    23699.000000\n",
      "mean         2.070636\n",
      "std          1.078405\n",
      "min          0.000000\n",
      "25%          1.000000\n",
      "50%          2.000000\n",
      "75%          3.000000\n",
      "max         19.000000\n",
      "Name: rooms, dtype: float64\n"
     ]
    },
    {
     "data": {
      "text/plain": "<Figure size 720x576 with 1 Axes>",
      "image/png": "[encoded data removed]"
     },
     "metadata": {
      "needs_background": "light"
     },
     "output_type": "display_data"
    },
    {
     "data": {
      "text/plain": "<Figure size 720x576 with 1 Axes>",
      "image/png": "[encoded data removed]"
     },
     "metadata": {
      "needs_background": "light"
     },
     "output_type": "display_data"
    },
    {
     "name": "stdout",
     "output_type": "stream",
     "text": [
      "count    23699.000000\n",
      "mean         2.724358\n",
      "std          0.988298\n",
      "min          1.000000\n",
      "25%          2.600000\n",
      "50%          2.650000\n",
      "75%          2.700000\n",
      "max        100.000000\n",
      "Name: ceiling_height, dtype: float64\n"
     ]
    }
   ],
   "source": [
    "for column in ['total_area', 'last_price', 'rooms', 'ceiling_height']:\n",
    "    data.boxplot(column=column, figsize=(10,8))\n",
    "    plt.show()\n",
    "\n",
    "    data.plot(kind='hist',\n",
    "              y=column,\n",
    "              grid=True,\n",
    "              title=column,\n",
    "              figsize=(10,8))\n",
    "    plt.show()\n",
    "\n",
    "    print(data[column].describe())"
   ]
  },
  {
   "cell_type": "markdown",
   "metadata": {
    "collapsed": false,
    "pycharm": {
     "name": "#%% md\n"
    }
   },
   "source": [
    "## Результаты исследования гистограмм площади, стоимости, числа комнат, высоты потолков ##\n",
    "1. Общая площадь:\n",
    "    * среднее значение площади = 60 м^2\n",
    "    * медианное значение площади = 52 м^2\n",
    "    * минимальное значение площади = 12 м^2 - предположительно комната в коммунальной квартире\n",
    "    * помещения площадью более 450 м^2 в рамках данного исследования будем считать выбросом, т.к. их кол-во не велико, данные полученные в ходе исследования могут быть искажены\n",
    "2. Стоимость недвижимости:\n",
    "    * средняя стоимость = 6,5 млн.\n",
    "    * медианная стоимость = 4,65 млн.\n",
    "    * минимальная стоимость = 13000\n",
    "    * недвижиность дешевле 1 млн. в рамках данного исследования будем считать выбросом\n",
    "    * недвижимость дороже 20 млн. в рамках данного исследования будем считать выбросом\n",
    "3. Количество комнат:\n",
    "    * среднее число комнат = 2\n",
    "    * медианное число комнат = 2\n",
    "    * минимальное число комнат = 0 - студии\n",
    "    * помещения количество комнат в которых более 8 в рамках данного исследования будем считать выбросом\n",
    "4. Высота потолков:\n",
    "    * средняя высота = 2.73 м\n",
    "    * медианная высота = 2.65 м\n",
    "    * минимальная высота = 1 м\n",
    "    * помещения с высотой потолка менее 2,5 м в рамках данного исследования будем считать выбросом\n",
    "    * помещения с высотой потолка менее 5 м в рамках данного исследования будем считать выбросом"
   ]
  },
  {
   "cell_type": "markdown",
   "metadata": {
    "collapsed": false,
    "pycharm": {
     "name": "#%% md\n"
    }
   },
   "source": [
    "<a id='research_sold_days'></a>\n",
    "## Время продажи недвижимости ##"
   ]
  },
  {
   "cell_type": "code",
   "execution_count": 20,
   "metadata": {
    "collapsed": false,
    "pycharm": {
     "name": "#%%\n"
    }
   },
   "outputs": [
    {
     "data": {
      "text/plain": "<Figure size 720x576 with 1 Axes>",
      "image/png": "[encoded data removed]"
     },
     "metadata": {
      "needs_background": "light"
     },
     "output_type": "display_data"
    },
    {
     "data": {
      "text/plain": "<Figure size 720x576 with 1 Axes>",
      "image/png": "[encoded data removed]"
     },
     "metadata": {
      "needs_background": "light"
     },
     "output_type": "display_data"
    },
    {
     "name": "stdout",
     "output_type": "stream",
     "text": [
      "count    23699.000000\n",
      "mean       156.608844\n",
      "std        213.546873\n",
      "min          0.000000\n",
      "25%         22.000000\n",
      "50%         74.000000\n",
      "75%        199.000000\n",
      "max       1580.000000\n",
      "Name: days_exposition, dtype: float64\n"
     ]
    }
   ],
   "source": [
    "data.boxplot(column='days_exposition', figsize=(10,8))\n",
    "plt.show()\n",
    "\n",
    "data.plot(kind='hist',\n",
    "          y='days_exposition',\n",
    "          grid=True,\n",
    "          title='days_exposition',\n",
    "          figsize=(10,8))\n",
    "plt.show()\n",
    "print(data['days_exposition'].describe())"
   ]
  },
  {
   "cell_type": "markdown",
   "metadata": {
    "collapsed": false,
    "pycharm": {
     "name": "#%% md\n"
    }
   },
   "source": [
    "## Результат изучения длительности продажи недвижимости ##\n",
    "1. среднее время продажи недвижимости = 157 дней\n",
    "2. медианное время продажи недвижимости = 73 дня\n",
    "3. нормальным временем продажи недвижимости можно считать продажу от 22 до 213 дней.\n",
    "4. быстрой продажей можно считать продажу длительностью до 22 дней.\n",
    "5. долгой можно считать продажу длительностью более 213 дней\n",
    "6. data['days_exposition'] = 0 в дальнейшем не рассматривать, т.к. данная недвижимость еще не продана"
   ]
  },
  {
   "cell_type": "markdown",
   "metadata": {
    "collapsed": false,
    "pycharm": {
     "name": "#%% md\n"
    }
   },
   "source": [
    "<a id='research_price_corr'></a>\n",
    "## Выявление факторов влияющих на стоимость недвижимости ##"
   ]
  },
  {
   "cell_type": "code",
   "execution_count": 21,
   "metadata": {
    "collapsed": false,
    "pycharm": {
     "name": "#%%\n"
    }
   },
   "outputs": [
    {
     "data": {
      "text/plain": "(20162, 29)"
     },
     "execution_count": 21,
     "metadata": {},
     "output_type": "execute_result"
    }
   ],
   "source": [
    "data_view = data.query('(total_area <= 450) '\n",
    "                       'and (10**6 <= last_price <= 20**6) '\n",
    "                       'and (rooms < 11) '\n",
    "                       'and (2.5 <= ceiling_height <= 5)'\n",
    "                       'and days_exposition != 0')\n",
    "data_view.shape"
   ]
  },
  {
   "cell_type": "markdown",
   "source": [
    "<a id='research_price_corr_multi'></a>\n",
    "### Взаимосвязь стоимости недвижимости c общей площадью, количеством комнат, расстоянием от центра ###"
   ],
   "metadata": {
    "collapsed": false,
    "pycharm": {
     "name": "#%% md\n"
    }
   }
  },
  {
   "cell_type": "code",
   "execution_count": 22,
   "metadata": {
    "collapsed": false,
    "pycharm": {
     "name": "#%%\n"
    }
   },
   "outputs": [
    {
     "data": {
      "text/plain": "<AxesSubplot:>"
     },
     "execution_count": 22,
     "metadata": {},
     "output_type": "execute_result"
    },
    {
     "data": {
      "text/plain": "<Figure size 720x576 with 2 Axes>",
      "image/png": "[encoded data removed]"
     },
     "metadata": {
      "needs_background": "light"
     },
     "output_type": "display_data"
    }
   ],
   "source": [
    "fig, ax = plt.subplots(figsize=(10,8))\n",
    "sns.heatmap(data=data[['total_area', 'rooms', 'city_centers_nearest', 'last_price']].corr(),\n",
    "            annot=True,\n",
    "            cmap= sns.color_palette(palette=\"RdBu\"),\n",
    "            linewidths=0.5)"
   ]
  },
  {
   "cell_type": "markdown",
   "source": [
    "<a id='research_price_corr_floor'></a>\n",
    "### Взаимосвязь стоимости недвижимости c этажом на котором расположена недвижимость ###"
   ],
   "metadata": {
    "collapsed": false,
    "pycharm": {
     "name": "#%% md\n"
    }
   }
  },
  {
   "cell_type": "code",
   "execution_count": 65,
   "outputs": [],
   "source": [
    "floor_price_pivot = data_view.pivot_table(index='flat_floor', values='last_price', aggfunc=['sum','count'])\n",
    "floor_price_pivot.columns = ['sum_last_price', 'count']\n",
    "floor_price_pivot['price_sold_ratio'] = floor_price_pivot['sum_last_price'] / floor_price_pivot['count']"
   ],
   "metadata": {
    "collapsed": false,
    "pycharm": {
     "name": "#%%\n"
    }
   }
  },
  {
   "cell_type": "code",
   "execution_count": 66,
   "outputs": [
    {
     "data": {
      "text/plain": "<AxesSubplot:xlabel='flat_floor', ylabel='price_sold_ratio'>"
     },
     "execution_count": 66,
     "metadata": {},
     "output_type": "execute_result"
    },
    {
     "data": {
      "text/plain": "<Figure size 576x360 with 1 Axes>",
      "image/png": "[encoded data removed]"
     },
     "metadata": {
      "needs_background": "light"
     },
     "output_type": "display_data"
    }
   ],
   "source": [
    "fig, ax = plt.subplots(figsize=(8, 5))\n",
    "sns.barplot(x=floor_price_pivot.index,\n",
    "            y=floor_price_pivot['price_sold_ratio'],\n",
    "            ax=ax)"
   ],
   "metadata": {
    "collapsed": false,
    "pycharm": {
     "name": "#%%\n"
    }
   }
  },
  {
   "cell_type": "markdown",
   "source": [
    "<a id='research_price_corr_weekday'></a>\n",
    "### Взаимосвязь стоимости недвижимости c днем продажи недвижимости ###"
   ],
   "metadata": {
    "collapsed": false,
    "pycharm": {
     "name": "#%% md\n"
    }
   }
  },
  {
   "cell_type": "code",
   "execution_count": 67,
   "outputs": [],
   "source": [
    "weekday_price_pivot = data_view.pivot_table(index='weekday', values='last_price', aggfunc=['sum', 'count'])\n",
    "weekday_price_pivot.columns = ['sum_last_price', 'count']\n",
    "weekday_price_pivot['price_sold_ratio'] = weekday_price_pivot['sum_last_price'] / weekday_price_pivot['count']"
   ],
   "metadata": {
    "collapsed": false,
    "pycharm": {
     "name": "#%%\n"
    }
   }
  },
  {
   "cell_type": "code",
   "execution_count": 68,
   "outputs": [
    {
     "data": {
      "text/plain": "<AxesSubplot:xlabel='weekday', ylabel='price_sold_ratio'>"
     },
     "execution_count": 68,
     "metadata": {},
     "output_type": "execute_result"
    },
    {
     "data": {
      "text/plain": "<Figure size 576x360 with 1 Axes>",
      "image/png": "[encoded data removed]"
     },
     "metadata": {
      "needs_background": "light"
     },
     "output_type": "display_data"
    }
   ],
   "source": [
    "fig, ax = plt.subplots(figsize=(8, 5))\n",
    "sns.barplot(x=weekday_price_pivot.index,\n",
    "            y=weekday_price_pivot['price_sold_ratio'],\n",
    "            ax=ax)"
   ],
   "metadata": {
    "collapsed": false,
    "pycharm": {
     "name": "#%%\n"
    }
   }
  },
  {
   "cell_type": "markdown",
   "source": [
    "<a id='research_price_corr_month'></a>\n",
    "### Взаимосвязь стоимости недвижимости c месяцем продажи недвижимости ###"
   ],
   "metadata": {
    "collapsed": false,
    "pycharm": {
     "name": "#%% md\n"
    }
   }
  },
  {
   "cell_type": "code",
   "execution_count": 55,
   "outputs": [],
   "source": [
    "#data_view['month']\n",
    "month_price_pivot = data_view.pivot_table(index='month', values='last_price', aggfunc=['sum', 'count'])\n",
    "month_price_pivot.columns = ['sum_last_price', 'count']\n",
    "month_price_pivot['price_sold_ratio'] = month_price_pivot['sum_last_price'] / month_price_pivot['count']"
   ],
   "metadata": {
    "collapsed": false,
    "pycharm": {
     "name": "#%%\n"
    }
   }
  },
  {
   "cell_type": "code",
   "execution_count": 60,
   "outputs": [
    {
     "data": {
      "text/plain": "<AxesSubplot:xlabel='month', ylabel='price_sold_ratio'>"
     },
     "execution_count": 60,
     "metadata": {},
     "output_type": "execute_result"
    },
    {
     "data": {
      "text/plain": "<Figure size 576x360 with 1 Axes>",
      "image/png": "[encoded data removed]"
     },
     "metadata": {
      "needs_background": "light"
     },
     "output_type": "display_data"
    }
   ],
   "source": [
    "fig, ax = plt.subplots(figsize=(8, 5))\n",
    "sns.barplot(x=month_price_pivot.index,\n",
    "            y=month_price_pivot['price_sold_ratio'],\n",
    "            ax=ax)"
   ],
   "metadata": {
    "collapsed": false,
    "pycharm": {
     "name": "#%%\n"
    }
   }
  },
  {
   "cell_type": "markdown",
   "source": [
    "<a id='research_price_corr_year'></a>\n",
    "### Взаимосвязь стоимости недвижимости c годом продажи недвижимости ###"
   ],
   "metadata": {
    "collapsed": false
   }
  },
  {
   "cell_type": "code",
   "execution_count": 63,
   "outputs": [],
   "source": [
    "year_price_pivot = data_view.pivot_table(index='year', values='last_price', aggfunc=['sum', 'count'])\n",
    "year_price_pivot.columns = ['sum_last_price', 'count']\n",
    "year_price_pivot['price_sold_ratio'] = year_price_pivot['sum_last_price'] / year_price_pivot['count']"
   ],
   "metadata": {
    "collapsed": false,
    "pycharm": {
     "name": "#%%\n"
    }
   }
  },
  {
   "cell_type": "code",
   "execution_count": 64,
   "outputs": [
    {
     "data": {
      "text/plain": "<AxesSubplot:xlabel='year', ylabel='price_sold_ratio'>"
     },
     "execution_count": 64,
     "metadata": {},
     "output_type": "execute_result"
    },
    {
     "data": {
      "text/plain": "<Figure size 576x360 with 1 Axes>",
      "image/png": "[encoded data removed]"
     },
     "metadata": {
      "needs_background": "light"
     },
     "output_type": "display_data"
    }
   ],
   "source": [
    "fig, ax = plt.subplots(figsize=(8, 5))\n",
    "sns.barplot(x=year_price_pivot.index,\n",
    "            y=year_price_pivot['price_sold_ratio'],\n",
    "            ax=ax)"
   ],
   "metadata": {
    "collapsed": false,
    "pycharm": {
     "name": "#%%\n"
    }
   }
  },
  {
   "cell_type": "markdown",
   "metadata": {
    "collapsed": false,
    "pycharm": {
     "name": "#%% md\n"
    }
   },
   "source": [
    "## Результаты выявления факторов вляющих на стоимость недвижимости ##\n",
    "1. Связь стоимости недвижимости с общей площадью:\n",
    "    * наблюдается сильная положительная связь: рост площади ведет к росту стоимости\n",
    "2. Связь стоимости недвижимости с количеством комнат:\n",
    "    * наблюдается слабая положительная связь: рост количества ведет к росту стоимости.\n",
    "    * при этом видна сильная положительная связь количества комнат с общей площадью\n",
    "3. Связь стоимости недвижимости с расстоянием от центра:\n",
    "    * наблюдается слабая отрицательная связь: увеличение расстояния ведет к уменьшению стоимости\n",
    "4. Связь стоимости недвижимости с этажом:\n",
    "    * недвижимость расположенная на первом этаже дешевле\n",
    "5. Связь стоимости недвижимости с днем продажи:\n",
    "    * не обнаружена\n",
    "6. Связь стоимости недвижимости с месяцем продажи:\n",
    "    * не обнаружена\n",
    "7. Связь стоимости недвижимости с годом продажи:\n",
    "    * с 2014 года стоимость недвижимости снижалась, в 2019 начался замечен небольшой рост стоимости"
   ]
  },
  {
   "cell_type": "markdown",
   "source": [
    "## Населенные пункты с наибольшим количеством объявлений/ Средняя стоимость квадратного метра ##"
   ],
   "metadata": {
    "collapsed": false
   }
  },
  {
   "cell_type": "code",
   "execution_count": 83,
   "outputs": [
    {
     "data": {
      "text/plain": "                      mean_price  count\nlocality_name                          \nпушкин             102113.701344    305\nсестрорецк         101232.408957    163\nсанкт-петербург     98931.735311  17960\nпосёлок парголово   89534.776047    301\nпетергоф            83267.186364    176\nкронштадт           79108.279882     85\nпосёлок шушары      77784.479629    404\nколпино             74858.752157    306\nкрасное село        71540.348194    155\nломоносов           71182.520531    113",
      "text/html": "<div>\n<style scoped>\n    .dataframe tbody tr th:only-of-type {\n        vertical-align: middle;\n    }\n\n    .dataframe tbody tr th {\n        vertical-align: top;\n    }\n\n    .dataframe thead th {\n        text-align: right;\n    }\n</style>\n<table border=\"1\" class=\"dataframe\">\n  <thead>\n    <tr style=\"text-align: right;\">\n      <th></th>\n      <th>mean_price</th>\n      <th>count</th>\n    </tr>\n    <tr>\n      <th>locality_name</th>\n      <th></th>\n      <th></th>\n    </tr>\n  </thead>\n  <tbody>\n    <tr>\n      <th>пушкин</th>\n      <td>102113.701344</td>\n      <td>305</td>\n    </tr>\n    <tr>\n      <th>сестрорецк</th>\n      <td>101232.408957</td>\n      <td>163</td>\n    </tr>\n    <tr>\n      <th>санкт-петербург</th>\n      <td>98931.735311</td>\n      <td>17960</td>\n    </tr>\n    <tr>\n      <th>посёлок парголово</th>\n      <td>89534.776047</td>\n      <td>301</td>\n    </tr>\n    <tr>\n      <th>петергоф</th>\n      <td>83267.186364</td>\n      <td>176</td>\n    </tr>\n    <tr>\n      <th>кронштадт</th>\n      <td>79108.279882</td>\n      <td>85</td>\n    </tr>\n    <tr>\n      <th>посёлок шушары</th>\n      <td>77784.479629</td>\n      <td>404</td>\n    </tr>\n    <tr>\n      <th>колпино</th>\n      <td>74858.752157</td>\n      <td>306</td>\n    </tr>\n    <tr>\n      <th>красное село</th>\n      <td>71540.348194</td>\n      <td>155</td>\n    </tr>\n    <tr>\n      <th>ломоносов</th>\n      <td>71182.520531</td>\n      <td>113</td>\n    </tr>\n  </tbody>\n</table>\n</div>"
     },
     "metadata": {},
     "output_type": "display_data"
    }
   ],
   "source": [
    "for_top_pivot = data_view.pivot_table(index='locality_name', values='square_meter_price', aggfunc=['mean', 'count'])\n",
    "for_top_pivot.columns = ['mean_price', 'count']\n",
    "top_10_pivot = for_top_pivot.sort_values(by='count', ascending=False).head(10)\n",
    "display(top_10_pivot.sort_values(by='mean_price', ascending=False))"
   ],
   "metadata": {
    "collapsed": false,
    "pycharm": {
     "name": "#%%\n"
    }
   }
  },
  {
   "cell_type": "markdown",
   "source": [
    "## Результаты исследования средней стоимости квадратного метра ##\n",
    "1. Высокая средняя стоимость наблюдается:\n",
    "    * Пушкин\n",
    "    * Сестрорецк\n",
    "    * Санкт-Петербург\n",
    "2. низкая средняя стоимость наблюдается:\n",
    "    * Ломоносов\n",
    "    * Красное Село\n",
    "    * Колпино"
   ],
   "metadata": {
    "collapsed": false,
    "pycharm": {
     "name": "#%% md\n"
    }
   }
  },
  {
   "cell_type": "markdown",
   "source": [
    "Выделите сегмент квартир в центре. Проанализируйте эту территорию и изучите следующие параметры: площадь, цена, число комнат, высота потолков. Также выделите факторы, которые влияют на стоимость квартиры (число комнат, этаж, удалённость от центра, дата размещения объявления). Сделайте выводы. Отличаются ли они от общих выводов по всему городу?"
   ],
   "metadata": {
    "collapsed": false,
    "pycharm": {
     "name": "#%% md\n"
    }
   }
  },
  {
   "cell_type": "markdown",
   "metadata": {
    "collapsed": false
   },
   "source": [
    "## Чек-лист готовности проекта\n",
    "\n",
    "Поставьте 'x' в выполненных пунктах. Далее нажмите Shift+Enter."
   ]
  },
  {
   "cell_type": "markdown",
   "metadata": {
    "collapsed": false,
    "pycharm": {
     "name": "#%% md\n"
    }
   },
   "source": [
    "- [x]  открыт файл\n",
    "- [ ]  файлы изучены (выведены первые строки, метод info())\n",
    "- [ ]  определены пропущенные значения\n",
    "- [ ]  заполнены пропущенные значения\n",
    "- [ ]  есть пояснение, какие пропущенные значения обнаружены\n",
    "- [ ]  изменены типы данных\n",
    "- [ ]  есть пояснение, в каких столбцах изменены типы и почему\n",
    "- [ ]  посчитано и добавлено в таблицу: цена квадратного метра\n",
    "- [ ]  посчитано и добавлено в таблицу: день недели, месяц и год публикации объявления\n",
    "- [ ]  посчитано и добавлено в таблицу: этаж квартиры; варианты — первый, последний, другой\n",
    "- [ ]  посчитано и добавлено в таблицу: соотношение жилой и общей площади, а также отношение площади кухни к общей\n",
    "- [ ]  изучены следующие параметры: площадь, цена, число комнат, высота потолков\n",
    "- [ ]  построены гистограммы для каждого параметра\n",
    "- [ ]  выполнено задание: \"Изучите время продажи квартиры. Постройте гистограмму. Посчитайте среднее и медиану. Опишите, сколько обычно занимает продажа. Когда можно считать, что продажи прошли очень быстро, а когда необычно долго?\"\n",
    "- [ ]  выполнено задание: \"Уберите редкие и выбивающиеся значения. Опишите, какие особенности обнаружили.\"\n",
    "- [ ]  выполнено задание: \"Какие факторы больше всего влияют на стоимость квартиры? Изучите, зависит ли цена от квадратного метра, числа комнат, этажа (первого или последнего), удалённости от центра. Также изучите зависимость от даты размещения: дня недели, месяца и года. \"Выберите 10 населённых пунктов с наибольшим числом объявлений. Посчитайте среднюю цену квадратного метра в этих населённых пунктах. Выделите населённые пункты с самой высокой и низкой стоимостью жилья. Эти данные можно найти по имени в столбце '*locality_name'*. \"\n",
    "- [ ]  выполнено задание: \"Изучите предложения квартир: для каждой квартиры есть информация о расстоянии до центра. Выделите квартиры в Санкт-Петербурге (*'locality_name'*). Ваша задача — выяснить, какая область входит в центр. Создайте столбец с расстоянием до центра в километрах: округлите до целых значений. После этого посчитайте среднюю цену для каждого километра. Постройте график: он должен показывать, как цена зависит от удалённости от центра. Определите границу, где график сильно меняется — это и будет центральная зона. \"\n",
    "- [ ]  выполнено задание: \"Выделите сегмент квартир в центре. Проанализируйте эту территорию и изучите следующие параметры: площадь, цена, число комнат, высота потолков. Также выделите факторы, которые влияют на стоимость квартиры (число комнат, этаж, удалённость от центра, дата размещения объявления). Сделайте выводы. Отличаются ли они от общих выводов по всему городу?\"\n",
    "- [ ]  в каждом этапе есть выводы\n",
    "- [ ]  есть общий вывод"
   ]
  }
 ],
 "metadata": {
  "kernelspec": {
   "display_name": "Python 3",
   "language": "python",
   "name": "python3"
  },
  "language_info": {
   "codemirror_mode": {
    "name": "ipython",
    "version": 3
   },
   "file_extension": ".py",
   "mimetype": "text/x-python",
   "name": "python",
   "nbconvert_exporter": "python",
   "pygments_lexer": "ipython3",
   "version": "3.10.1"
  }
 },
 "nbformat": 4,
 "nbformat_minor": 0
}