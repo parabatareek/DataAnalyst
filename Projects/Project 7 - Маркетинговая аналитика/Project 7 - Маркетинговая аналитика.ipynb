{
 "cells": [
  {
   "cell_type": "markdown",
   "metadata": {},
   "source": [
    "### Инструкция по выполнению проекта:\n",
    "\n",
    "Вы - маркетинговый аналитик развлекательного приложения Procrastinate Pro+. Несколько прошлых месяцев ваш бизнес постоянно нес убытки - в привлечение пользователей была вложена куча денег, а толку никакого. Вам нужно разобраться в причинах этой ситуации.\n",
    "\n",
    "У вас в распоряжении есть лог сервера с данными о посещениях приложения новыми пользователями, зарегистрировавшимися в период с 2019-05-01 по 2019-10-27, выгрузка их покупок за этот период, а также статистика рекламных расходов. Вам предстоит изучить, как люди пользуются продуктом, когда они начинают покупать, сколько денег приносит каждый клиент, когда он окупается и какие факторы отричательно влияют на привлечение пользователей.\n",
    "\n",
    "#### Шаг 1. Загрузите данные и подготовьте их к анализу\n",
    "Загрузите данные о визитах, заказах и расходах в переменные. Оптимизируйте данные для анализа. Убедитесь, что тип данных в каждой колонке — правильный. Путь к файлам:\n",
    "\n",
    " -   /datasets/visits_info_short.csv. Скачать датасет\n",
    " -   /datasets/orders_info_short.csv. Скачать датасет\n",
    " -   /datasets/costs_info_short.csv. Скачать датасет\n",
    " \n",
    "#### Шаг 2. Задайте функции для расчета и анализа LTV, ROI, удержания и конверсии\n",
    "\n",
    "Разрешается использовать функции, с которыми вы познакомились в теоретических уроках.\n",
    "\n",
    "#### Шаг 3. Проведите исследовательский анализ данных\n",
    "\n",
    "Постройте профили пользователей. Определите минимальную и максимальную дату привлечения пользователей.\n",
    "\n",
    "Выясните:\n",
    "- Из каких стран приходят посетители? Какие страны дают больше всего платящих пользователей?\n",
    "- Какими устройствами они пользуются? С каких устройств чаще всего заходят платящие пользователи?\n",
    "- По каким рекламным каналам шло привлечение пользователей? Какие каналы приносят больше всего платящих пользователей?.\n",
    "\n",
    "#### Шаг 4. Маркетинг\n",
    "Выясните:\n",
    "\n",
    "- Сколько денег потратили? Всего / на каждый источник / по времени\n",
    "- Сколько в среднем стоило привлечение одного покупателя из каждого источника?\n",
    "\n",
    "#### Шаг 5. Оцените окупаемость рекламы для привлечения пользователей\n",
    "\n",
    "С помощью LTV и ROI:\n",
    "- Проанализируйте общую окупаемость рекламы;\n",
    "- Проанализируйте окупаемость рекламы с разбивкой по устройствам;\n",
    "- Проанализируйте окупаемость рекламы с разбивкой по странам;\n",
    "- Проанализируйте окупаемость рекламы с разбивкой по рекламным каналам.\n",
    "\n",
    "Опишите проблемы, которые вы обнаружили. Ответьте на вопросы:\n",
    "- Окупается ли реклама, направленная на привлечение пользователей в целом? \n",
    "- Какие устройства, страны и рекламные каналы могут оказывать негативное влияние на окупаемость рекламы?\n",
    "- Чем могут быть вызваны проблемы окупаемости? Изучите конверсию и удержание с разбивкой по устройствам, странам, рекламным каналам.\n",
    "\n",
    "Опишите возможные причины обнаруженных проблем и сформируйте рекомендации для рекламного отдела. При решении этого шага считайте, что вы смотрите данные 1-го ноября 2019 года и что в вашей организации принято считать, что окупаемость должна наступать не позднее, чем через 2 недели после привлечения пользователей.\n",
    "\n",
    "Подумайте, нужно ли включать в анализ органических пользователей?\n",
    "\n",
    "#### Шаг 6. Напишите выводы\n",
    "- Выделите причины неэффективности привлечения пользователей;\n",
    "- Сформируйте рекомендации для отдела маркетинга для повышения эффективности.\n",
    "\n",
    "#### Оформление: \n",
    "Задание выполните в Jupyter Notebook. Программный код заполните в ячейках типа code, текстовые пояснения — в ячейках типа markdown. Примените форматирование и заголовки.\n",
    "\n",
    "\n",
    "#### Описание данных\n",
    "Таблица visits_log_short (лог сервера с информацией о посещениях сайта):\n",
    "\n",
    "    User Id — уникальный идентификатор пользователя\n",
    "    Device — категория устройства пользователя\n",
    "    Session start — дата и время начала сессии\n",
    "    Session End — дата и время окончания сессии\n",
    "    Channel — идентификатор рекламного источника, из которого пришел пользователь\n",
    "    Region - страна пользователя\n",
    "\n",
    "Таблица orders_log_short (информация о заказах):\n",
    "\n",
    "    User Id — уникальный id пользователя, который сделал заказ\n",
    "    Event Dt — дата и время покупки\n",
    "    Revenue — выручка\n",
    "\n",
    "Таблица costs_short (информация о затратах на маркетинг):\n",
    "\n",
    "    Channel — идентификатор рекламного источника\n",
    "    Dt — дата\n",
    "    Costs — затраты на этот рекламный источник в этот день"
   ]
  },
  {
   "cell_type": "markdown",
   "source": [
    "<a id='import'></a>\n",
    "# Импорт библиотек #"
   ],
   "metadata": {
    "collapsed": false,
    "pycharm": {
     "name": "#%% md\n"
    }
   }
  },
  {
   "cell_type": "code",
   "execution_count": 1,
   "outputs": [],
   "source": [
    "import pandas as pd\n",
    "import warnings\n",
    "\n",
    "warnings.filterwarnings('ignore')"
   ],
   "metadata": {
    "collapsed": false,
    "pycharm": {
     "name": "#%%\n"
    }
   }
  },
  {
   "cell_type": "markdown",
   "source": [
    "<a id='user_functions'></a>\n",
    "# Пользовательские функции #"
   ],
   "metadata": {
    "collapsed": false,
    "pycharm": {
     "name": "#%% md\n"
    }
   }
  },
  {
   "cell_type": "markdown",
   "source": [
    "## Функция переименования столбцов ##"
   ],
   "metadata": {
    "collapsed": false,
    "pycharm": {
     "name": "#%% md\n"
    }
   }
  },
  {
   "cell_type": "code",
   "execution_count": 12,
   "outputs": [],
   "source": [
    "def prepare_columns(dataframe):\n",
    "    dataframe.columns = dataframe.columns.str.lower()\n",
    "    dataframe.columns = dataframe.columns.str.strip()\n",
    "    dataframe.columns = dataframe.columns.str.replace(' ', '_')"
   ],
   "metadata": {
    "collapsed": false,
    "pycharm": {
     "name": "#%%\n"
    }
   }
  },
  {
   "cell_type": "markdown",
   "source": [
    "## Функция обработки строковых значений ##"
   ],
   "metadata": {
    "collapsed": false,
    "pycharm": {
     "name": "#%% md\n"
    }
   }
  },
  {
   "cell_type": "code",
   "execution_count": 16,
   "outputs": [],
   "source": [
    "def prepare_string(dataframe):\n",
    "    for column in dataframe.columns:\n",
    "        if dataframe.dtypes[column] == 'object':\n",
    "            dataframe[column] = dataframe[column].str.lower()\n",
    "            dataframe[column] = dataframe[column].str.strip()"
   ],
   "metadata": {
    "collapsed": false,
    "pycharm": {
     "name": "#%%\n"
    }
   }
  },
  {
   "cell_type": "markdown",
   "source": [
    "<a id='data'></a>\n",
    "# Загрузка данных #"
   ],
   "metadata": {
    "collapsed": false
   }
  },
  {
   "cell_type": "code",
   "execution_count": 2,
   "outputs": [],
   "source": [
    "data_visits = pd.read_csv(filepath_or_buffer='datasets/visits_info_short.csv')\n",
    "data_orders = pd.read_csv(filepath_or_buffer='datasets/orders_info_short.csv')\n",
    "data_costs = pd.read_csv(filepath_or_buffer='datasets/costs_info_short.csv')"
   ],
   "metadata": {
    "collapsed": false,
    "pycharm": {
     "name": "#%%\n"
    }
   }
  },
  {
   "cell_type": "markdown",
   "source": [
    "<a id='data_preview'></a>\n",
    "## Первичный осмотр данных ##"
   ],
   "metadata": {
    "collapsed": false
   }
  },
  {
   "cell_type": "code",
   "execution_count": 3,
   "outputs": [
    {
     "name": "stdout",
     "output_type": "stream",
     "text": [
      "<class 'pandas.core.frame.DataFrame'>\n",
      "RangeIndex: 309901 entries, 0 to 309900\n",
      "Data columns (total 6 columns):\n",
      " #   Column         Non-Null Count   Dtype \n",
      "---  ------         --------------   ----- \n",
      " 0   User Id        309901 non-null  int64 \n",
      " 1   Region         309901 non-null  object\n",
      " 2   Device         309901 non-null  object\n",
      " 3   Channel        309901 non-null  object\n",
      " 4   Session Start  309901 non-null  object\n",
      " 5   Session End    309901 non-null  object\n",
      "dtypes: int64(1), object(5)\n",
      "memory usage: 14.2+ MB\n",
      "None\n",
      "############\n",
      "<class 'pandas.core.frame.DataFrame'>\n",
      "RangeIndex: 40212 entries, 0 to 40211\n",
      "Data columns (total 3 columns):\n",
      " #   Column    Non-Null Count  Dtype  \n",
      "---  ------    --------------  -----  \n",
      " 0   User Id   40212 non-null  int64  \n",
      " 1   Event Dt  40212 non-null  object \n",
      " 2   Revenue   40212 non-null  float64\n",
      "dtypes: float64(1), int64(1), object(1)\n",
      "memory usage: 942.6+ KB\n",
      "None\n",
      "############\n",
      "<class 'pandas.core.frame.DataFrame'>\n",
      "RangeIndex: 1800 entries, 0 to 1799\n",
      "Data columns (total 3 columns):\n",
      " #   Column   Non-Null Count  Dtype  \n",
      "---  ------   --------------  -----  \n",
      " 0   dt       1800 non-null   object \n",
      " 1   Channel  1800 non-null   object \n",
      " 2   costs    1800 non-null   float64\n",
      "dtypes: float64(1), object(2)\n",
      "memory usage: 42.3+ KB\n",
      "None\n"
     ]
    }
   ],
   "source": [
    "print(data_visits.info())\n",
    "print('############')\n",
    "print(data_orders.info())\n",
    "print('############')\n",
    "print(data_costs.info())"
   ],
   "metadata": {
    "collapsed": false,
    "pycharm": {
     "name": "#%%\n"
    }
   }
  },
  {
   "cell_type": "code",
   "execution_count": 4,
   "outputs": [
    {
     "data": {
      "text/plain": "             User Id         Region   Device         Channel  \\\n0       981449118918  United States   iPhone         organic   \n1       278965908054  United States   iPhone         organic   \n2       590706206550  United States      Mac         organic   \n3       326433527971  United States  Android          TipTop   \n4       349773784594  United States      Mac         organic   \n...              ...            ...      ...             ...   \n309896  329994900775             UK       PC         LeapBob   \n309897  334903592310         France       PC  lambdaMediaAds   \n309898  540102010126        Germany       PC         organic   \n309899  308736936846        Germany      Mac         organic   \n309900  109329042535        Germany       PC  lambdaMediaAds   \n\n              Session Start          Session End  \n0       2019-05-01 02:36:01  2019-05-01 02:45:01  \n1       2019-05-01 04:46:31  2019-05-01 04:47:35  \n2       2019-05-01 14:09:25  2019-05-01 15:32:08  \n3       2019-05-01 00:29:59  2019-05-01 00:54:25  \n4       2019-05-01 03:33:35  2019-05-01 03:57:40  \n...                     ...                  ...  \n309896  2019-10-31 13:28:12  2019-10-31 14:39:29  \n309897  2019-10-31 22:14:52  2019-10-31 22:39:36  \n309898  2019-10-31 01:40:48  2019-10-31 01:41:31  \n309899  2019-10-31 07:37:34  2019-10-31 07:37:55  \n309900  2019-10-31 14:17:43  2019-10-31 15:17:04  \n\n[309901 rows x 6 columns]",
      "text/html": "<div>\n<style scoped>\n    .dataframe tbody tr th:only-of-type {\n        vertical-align: middle;\n    }\n\n    .dataframe tbody tr th {\n        vertical-align: top;\n    }\n\n    .dataframe thead th {\n        text-align: right;\n    }\n</style>\n<table border=\"1\" class=\"dataframe\">\n  <thead>\n    <tr style=\"text-align: right;\">\n      <th></th>\n      <th>User Id</th>\n      <th>Region</th>\n      <th>Device</th>\n      <th>Channel</th>\n      <th>Session Start</th>\n      <th>Session End</th>\n    </tr>\n  </thead>\n  <tbody>\n    <tr>\n      <th>0</th>\n      <td>981449118918</td>\n      <td>United States</td>\n      <td>iPhone</td>\n      <td>organic</td>\n      <td>2019-05-01 02:36:01</td>\n      <td>2019-05-01 02:45:01</td>\n    </tr>\n    <tr>\n      <th>1</th>\n      <td>278965908054</td>\n      <td>United States</td>\n      <td>iPhone</td>\n      <td>organic</td>\n      <td>2019-05-01 04:46:31</td>\n      <td>2019-05-01 04:47:35</td>\n    </tr>\n    <tr>\n      <th>2</th>\n      <td>590706206550</td>\n      <td>United States</td>\n      <td>Mac</td>\n      <td>organic</td>\n      <td>2019-05-01 14:09:25</td>\n      <td>2019-05-01 15:32:08</td>\n    </tr>\n    <tr>\n      <th>3</th>\n      <td>326433527971</td>\n      <td>United States</td>\n      <td>Android</td>\n      <td>TipTop</td>\n      <td>2019-05-01 00:29:59</td>\n      <td>2019-05-01 00:54:25</td>\n    </tr>\n    <tr>\n      <th>4</th>\n      <td>349773784594</td>\n      <td>United States</td>\n      <td>Mac</td>\n      <td>organic</td>\n      <td>2019-05-01 03:33:35</td>\n      <td>2019-05-01 03:57:40</td>\n    </tr>\n    <tr>\n      <th>...</th>\n      <td>...</td>\n      <td>...</td>\n      <td>...</td>\n      <td>...</td>\n      <td>...</td>\n      <td>...</td>\n    </tr>\n    <tr>\n      <th>309896</th>\n      <td>329994900775</td>\n      <td>UK</td>\n      <td>PC</td>\n      <td>LeapBob</td>\n      <td>2019-10-31 13:28:12</td>\n      <td>2019-10-31 14:39:29</td>\n    </tr>\n    <tr>\n      <th>309897</th>\n      <td>334903592310</td>\n      <td>France</td>\n      <td>PC</td>\n      <td>lambdaMediaAds</td>\n      <td>2019-10-31 22:14:52</td>\n      <td>2019-10-31 22:39:36</td>\n    </tr>\n    <tr>\n      <th>309898</th>\n      <td>540102010126</td>\n      <td>Germany</td>\n      <td>PC</td>\n      <td>organic</td>\n      <td>2019-10-31 01:40:48</td>\n      <td>2019-10-31 01:41:31</td>\n    </tr>\n    <tr>\n      <th>309899</th>\n      <td>308736936846</td>\n      <td>Germany</td>\n      <td>Mac</td>\n      <td>organic</td>\n      <td>2019-10-31 07:37:34</td>\n      <td>2019-10-31 07:37:55</td>\n    </tr>\n    <tr>\n      <th>309900</th>\n      <td>109329042535</td>\n      <td>Germany</td>\n      <td>PC</td>\n      <td>lambdaMediaAds</td>\n      <td>2019-10-31 14:17:43</td>\n      <td>2019-10-31 15:17:04</td>\n    </tr>\n  </tbody>\n</table>\n<p>309901 rows × 6 columns</p>\n</div>"
     },
     "metadata": {},
     "output_type": "display_data"
    },
    {
     "data": {
      "text/plain": "            User Id             Event Dt  Revenue\n0      188246423999  2019-05-01 23:09:52     4.99\n1      174361394180  2019-05-01 12:24:04     4.99\n2      529610067795  2019-05-01 11:34:04     4.99\n3      319939546352  2019-05-01 15:34:40     4.99\n4      366000285810  2019-05-01 13:59:51     4.99\n...             ...                  ...      ...\n40207  651604369137  2019-10-31 16:19:07     4.99\n40208  275341387049  2019-10-31 01:17:17     4.99\n40209  374656616484  2019-10-31 06:17:29     4.99\n40210  168548862926  2019-10-31 22:46:19     4.99\n40211  329994900775  2019-10-31 13:29:06     4.99\n\n[40212 rows x 3 columns]",
      "text/html": "<div>\n<style scoped>\n    .dataframe tbody tr th:only-of-type {\n        vertical-align: middle;\n    }\n\n    .dataframe tbody tr th {\n        vertical-align: top;\n    }\n\n    .dataframe thead th {\n        text-align: right;\n    }\n</style>\n<table border=\"1\" class=\"dataframe\">\n  <thead>\n    <tr style=\"text-align: right;\">\n      <th></th>\n      <th>User Id</th>\n      <th>Event Dt</th>\n      <th>Revenue</th>\n    </tr>\n  </thead>\n  <tbody>\n    <tr>\n      <th>0</th>\n      <td>188246423999</td>\n      <td>2019-05-01 23:09:52</td>\n      <td>4.99</td>\n    </tr>\n    <tr>\n      <th>1</th>\n      <td>174361394180</td>\n      <td>2019-05-01 12:24:04</td>\n      <td>4.99</td>\n    </tr>\n    <tr>\n      <th>2</th>\n      <td>529610067795</td>\n      <td>2019-05-01 11:34:04</td>\n      <td>4.99</td>\n    </tr>\n    <tr>\n      <th>3</th>\n      <td>319939546352</td>\n      <td>2019-05-01 15:34:40</td>\n      <td>4.99</td>\n    </tr>\n    <tr>\n      <th>4</th>\n      <td>366000285810</td>\n      <td>2019-05-01 13:59:51</td>\n      <td>4.99</td>\n    </tr>\n    <tr>\n      <th>...</th>\n      <td>...</td>\n      <td>...</td>\n      <td>...</td>\n    </tr>\n    <tr>\n      <th>40207</th>\n      <td>651604369137</td>\n      <td>2019-10-31 16:19:07</td>\n      <td>4.99</td>\n    </tr>\n    <tr>\n      <th>40208</th>\n      <td>275341387049</td>\n      <td>2019-10-31 01:17:17</td>\n      <td>4.99</td>\n    </tr>\n    <tr>\n      <th>40209</th>\n      <td>374656616484</td>\n      <td>2019-10-31 06:17:29</td>\n      <td>4.99</td>\n    </tr>\n    <tr>\n      <th>40210</th>\n      <td>168548862926</td>\n      <td>2019-10-31 22:46:19</td>\n      <td>4.99</td>\n    </tr>\n    <tr>\n      <th>40211</th>\n      <td>329994900775</td>\n      <td>2019-10-31 13:29:06</td>\n      <td>4.99</td>\n    </tr>\n  </tbody>\n</table>\n<p>40212 rows × 3 columns</p>\n</div>"
     },
     "metadata": {},
     "output_type": "display_data"
    },
    {
     "data": {
      "text/plain": "              dt         Channel  costs\n0     2019-05-01        FaceBoom  113.3\n1     2019-05-02        FaceBoom   78.1\n2     2019-05-03        FaceBoom   85.8\n3     2019-05-04        FaceBoom  136.4\n4     2019-05-05        FaceBoom  122.1\n...          ...             ...    ...\n1795  2019-10-23  lambdaMediaAds    4.0\n1796  2019-10-24  lambdaMediaAds    6.4\n1797  2019-10-25  lambdaMediaAds    8.8\n1798  2019-10-26  lambdaMediaAds    8.8\n1799  2019-10-27  lambdaMediaAds   12.0\n\n[1800 rows x 3 columns]",
      "text/html": "<div>\n<style scoped>\n    .dataframe tbody tr th:only-of-type {\n        vertical-align: middle;\n    }\n\n    .dataframe tbody tr th {\n        vertical-align: top;\n    }\n\n    .dataframe thead th {\n        text-align: right;\n    }\n</style>\n<table border=\"1\" class=\"dataframe\">\n  <thead>\n    <tr style=\"text-align: right;\">\n      <th></th>\n      <th>dt</th>\n      <th>Channel</th>\n      <th>costs</th>\n    </tr>\n  </thead>\n  <tbody>\n    <tr>\n      <th>0</th>\n      <td>2019-05-01</td>\n      <td>FaceBoom</td>\n      <td>113.3</td>\n    </tr>\n    <tr>\n      <th>1</th>\n      <td>2019-05-02</td>\n      <td>FaceBoom</td>\n      <td>78.1</td>\n    </tr>\n    <tr>\n      <th>2</th>\n      <td>2019-05-03</td>\n      <td>FaceBoom</td>\n      <td>85.8</td>\n    </tr>\n    <tr>\n      <th>3</th>\n      <td>2019-05-04</td>\n      <td>FaceBoom</td>\n      <td>136.4</td>\n    </tr>\n    <tr>\n      <th>4</th>\n      <td>2019-05-05</td>\n      <td>FaceBoom</td>\n      <td>122.1</td>\n    </tr>\n    <tr>\n      <th>...</th>\n      <td>...</td>\n      <td>...</td>\n      <td>...</td>\n    </tr>\n    <tr>\n      <th>1795</th>\n      <td>2019-10-23</td>\n      <td>lambdaMediaAds</td>\n      <td>4.0</td>\n    </tr>\n    <tr>\n      <th>1796</th>\n      <td>2019-10-24</td>\n      <td>lambdaMediaAds</td>\n      <td>6.4</td>\n    </tr>\n    <tr>\n      <th>1797</th>\n      <td>2019-10-25</td>\n      <td>lambdaMediaAds</td>\n      <td>8.8</td>\n    </tr>\n    <tr>\n      <th>1798</th>\n      <td>2019-10-26</td>\n      <td>lambdaMediaAds</td>\n      <td>8.8</td>\n    </tr>\n    <tr>\n      <th>1799</th>\n      <td>2019-10-27</td>\n      <td>lambdaMediaAds</td>\n      <td>12.0</td>\n    </tr>\n  </tbody>\n</table>\n<p>1800 rows × 3 columns</p>\n</div>"
     },
     "metadata": {},
     "output_type": "display_data"
    }
   ],
   "source": [
    "display(data_visits)\n",
    "display(data_orders)\n",
    "display(data_costs)"
   ],
   "metadata": {
    "collapsed": false,
    "pycharm": {
     "name": "#%%\n"
    }
   }
  },
  {
   "cell_type": "code",
   "execution_count": 5,
   "outputs": [
    {
     "name": "stdout",
     "output_type": "stream",
     "text": [
      "User Id          0\n",
      "Region           0\n",
      "Device           0\n",
      "Channel          0\n",
      "Session Start    0\n",
      "Session End      0\n",
      "dtype: int64\n",
      "############\n",
      "User Id     0\n",
      "Event Dt    0\n",
      "Revenue     0\n",
      "dtype: int64\n",
      "############\n",
      "dt         0\n",
      "Channel    0\n",
      "costs      0\n",
      "dtype: int64\n"
     ]
    }
   ],
   "source": [
    "print(data_visits.isnull().sum())\n",
    "print('############')\n",
    "print(data_orders.isnull().sum())\n",
    "print('############')\n",
    "print(data_costs.isnull().sum())"
   ],
   "metadata": {
    "collapsed": false,
    "pycharm": {
     "name": "#%%\n"
    }
   }
  },
  {
   "cell_type": "markdown",
   "source": [
    "## Результаты первичного осмотра ##\n",
    "1. пропуски в данных отсутствуют\n",
    "2. изменить имена столбцов:\n",
    " * data_visits[User ID] -> data_visits[user_id]\n",
    " * data_visits[Region] -> data_visits[region]\n",
    " * data_visits[Device] -> data_visits[device]\n",
    " * data_visits[Channel] -> data_visits[channel]\n",
    " * data_visits[Session Start] -> data_visits[session_start]\n",
    " * data_visits[Session End] -> data_visits[session_end]\n",
    " * data_orders[User ID] -> data_orders[user_id]\n",
    " * data_orders[Event Dt] -> data_orders[event_dt]\n",
    " * data_orders[Revenue] -> data_orders[revenue]\n",
    " * data_costs[Channel] -> data_costs[channel]\n",
    "3. изменить тип данных:\n",
    " * data_costs[dt] -> datetime\n",
    " * data_orders[event_dt] -> datetime\n",
    " * data_visits[session_start] -> datetime\n",
    " * data_visits[session_end] -> datetime\n",
    "4. значения столбцов типа object -> нижний регистр"
   ],
   "metadata": {
    "collapsed": false
   }
  },
  {
   "cell_type": "markdown",
   "source": [
    "<a id='prepare'></a>\n",
    "# Предобработка данных #"
   ],
   "metadata": {
    "collapsed": false
   }
  },
  {
   "cell_type": "markdown",
   "source": [
    "<a id='prepare_columns'></a>\n",
    "## Переименование столбцов ##"
   ],
   "metadata": {
    "collapsed": false
   }
  },
  {
   "cell_type": "code",
   "execution_count": 7,
   "outputs": [],
   "source": [
    "prepare_columns(dataframe=data_orders)\n",
    "prepare_columns(dataframe=data_visits)\n",
    "prepare_columns(dataframe=data_costs)"
   ],
   "metadata": {
    "collapsed": false,
    "pycharm": {
     "name": "#%%\n"
    }
   }
  },
  {
   "cell_type": "code",
   "execution_count": 8,
   "outputs": [
    {
     "name": "stdout",
     "output_type": "stream",
     "text": [
      "<class 'pandas.core.frame.DataFrame'>\n",
      "RangeIndex: 40212 entries, 0 to 40211\n",
      "Data columns (total 3 columns):\n",
      " #   Column    Non-Null Count  Dtype  \n",
      "---  ------    --------------  -----  \n",
      " 0   user_id   40212 non-null  int64  \n",
      " 1   event_dt  40212 non-null  object \n",
      " 2   revenue   40212 non-null  float64\n",
      "dtypes: float64(1), int64(1), object(1)\n",
      "memory usage: 942.6+ KB\n",
      "None\n",
      "<class 'pandas.core.frame.DataFrame'>\n",
      "RangeIndex: 309901 entries, 0 to 309900\n",
      "Data columns (total 6 columns):\n",
      " #   Column         Non-Null Count   Dtype \n",
      "---  ------         --------------   ----- \n",
      " 0   user_id        309901 non-null  int64 \n",
      " 1   region         309901 non-null  object\n",
      " 2   device         309901 non-null  object\n",
      " 3   channel        309901 non-null  object\n",
      " 4   session_start  309901 non-null  object\n",
      " 5   session_end    309901 non-null  object\n",
      "dtypes: int64(1), object(5)\n",
      "memory usage: 14.2+ MB\n",
      "None\n",
      "<class 'pandas.core.frame.DataFrame'>\n",
      "RangeIndex: 1800 entries, 0 to 1799\n",
      "Data columns (total 3 columns):\n",
      " #   Column   Non-Null Count  Dtype  \n",
      "---  ------   --------------  -----  \n",
      " 0   dt       1800 non-null   object \n",
      " 1   channel  1800 non-null   object \n",
      " 2   costs    1800 non-null   float64\n",
      "dtypes: float64(1), object(2)\n",
      "memory usage: 42.3+ KB\n",
      "None\n"
     ]
    }
   ],
   "source": [
    "print(data_orders.info())\n",
    "print(data_visits.info())\n",
    "print(data_costs.info())"
   ],
   "metadata": {
    "collapsed": false,
    "pycharm": {
     "name": "#%%\n"
    }
   }
  },
  {
   "cell_type": "markdown",
   "source": [
    "<a id='prepare_types'></a>\n",
    "## Изменение типа данных ##"
   ],
   "metadata": {
    "collapsed": false,
    "pycharm": {
     "name": "#%% md\n"
    }
   }
  },
  {
   "cell_type": "code",
   "execution_count": 9,
   "outputs": [],
   "source": [
    "data_costs['dt'] = pd.to_datetime(data_costs['dt'])\n",
    "data_orders['event_dt'] = pd.to_datetime(data_orders['event_dt'])\n",
    "data_visits['session_start'] = pd.to_datetime(data_visits['session_start'])\n",
    "data_visits['session_end'] = pd.to_datetime(data_visits['session_end'])"
   ],
   "metadata": {
    "collapsed": false,
    "pycharm": {
     "name": "#%%\n"
    }
   }
  },
  {
   "cell_type": "code",
   "execution_count": 11,
   "outputs": [
    {
     "name": "stdout",
     "output_type": "stream",
     "text": [
      "<class 'pandas.core.frame.DataFrame'>\n",
      "RangeIndex: 1800 entries, 0 to 1799\n",
      "Data columns (total 3 columns):\n",
      " #   Column   Non-Null Count  Dtype         \n",
      "---  ------   --------------  -----         \n",
      " 0   dt       1800 non-null   datetime64[ns]\n",
      " 1   channel  1800 non-null   object        \n",
      " 2   costs    1800 non-null   float64       \n",
      "dtypes: datetime64[ns](1), float64(1), object(1)\n",
      "memory usage: 42.3+ KB\n",
      "None\n",
      "<class 'pandas.core.frame.DataFrame'>\n",
      "RangeIndex: 40212 entries, 0 to 40211\n",
      "Data columns (total 3 columns):\n",
      " #   Column    Non-Null Count  Dtype         \n",
      "---  ------    --------------  -----         \n",
      " 0   user_id   40212 non-null  int64         \n",
      " 1   event_dt  40212 non-null  datetime64[ns]\n",
      " 2   revenue   40212 non-null  float64       \n",
      "dtypes: datetime64[ns](1), float64(1), int64(1)\n",
      "memory usage: 942.6 KB\n",
      "None\n",
      "<class 'pandas.core.frame.DataFrame'>\n",
      "RangeIndex: 309901 entries, 0 to 309900\n",
      "Data columns (total 6 columns):\n",
      " #   Column         Non-Null Count   Dtype         \n",
      "---  ------         --------------   -----         \n",
      " 0   user_id        309901 non-null  int64         \n",
      " 1   region         309901 non-null  object        \n",
      " 2   device         309901 non-null  object        \n",
      " 3   channel        309901 non-null  object        \n",
      " 4   session_start  309901 non-null  datetime64[ns]\n",
      " 5   session_end    309901 non-null  datetime64[ns]\n",
      "dtypes: datetime64[ns](2), int64(1), object(3)\n",
      "memory usage: 14.2+ MB\n",
      "None\n"
     ]
    }
   ],
   "source": [
    "print(data_costs.info())\n",
    "print(data_orders.info())\n",
    "print(data_visits.info())"
   ],
   "metadata": {
    "collapsed": false,
    "pycharm": {
     "name": "#%%\n"
    }
   }
  },
  {
   "cell_type": "markdown",
   "source": [
    "<a id='prepare_string'></a>\n",
    "## Изменение строковых значений ##"
   ],
   "metadata": {
    "collapsed": false,
    "pycharm": {
     "name": "#%% md\n"
    }
   }
  },
  {
   "cell_type": "code",
   "execution_count": 17,
   "outputs": [],
   "source": [
    "prepare_string(dataframe=data_visits)\n",
    "prepare_string(dataframe=data_costs)"
   ],
   "metadata": {
    "collapsed": false,
    "pycharm": {
     "name": "#%%\n"
    }
   }
  },
  {
   "cell_type": "markdown",
   "metadata": {},
   "source": [
    "<a id='functions'></a>\n",
    "# Функции LTV, ROI, удержания и конверсии #"
   ]
  },
  {
   "cell_type": "markdown",
   "source": [
    "## Функция расчета конверсии ##"
   ],
   "metadata": {
    "collapsed": false,
    "pycharm": {
     "name": "#%% md\n"
    }
   }
  },
  {
   "cell_type": "code",
   "execution_count": null,
   "outputs": [],
   "source": [
    "def get_conversion(\n",
    "        profiles,\n",
    "        purchases,\n",
    "        observation_date,\n",
    "        horizon_days,\n",
    "        dimensions=[],\n",
    "        ignore_horizon=False,\n",
    "):\n",
    "\n",
    "    # исключаем пользователей, не «доживших» до горизонта анализа\n",
    "    last_suitable_acquisition_date = observation_date\n",
    "    if not ignore_horizon:\n",
    "        last_suitable_acquisition_date = observation_date - timedelta(\n",
    "            days=horizon_days - 1\n",
    "        )\n",
    "    result_raw = profiles.query('dt <= @last_suitable_acquisition_date')\n",
    "\n",
    "    # определяем дату и время первой покупки для каждого пользователя\n",
    "    first_purchases = (\n",
    "        purchases.sort_values(by=['user_id', 'event_dt'])\n",
    "            .groupby('user_id')\n",
    "            .agg({'event_dt': 'first'})\n",
    "            .reset_index()\n",
    "    )\n",
    "\n",
    "    # добавляем данные о покупках в профили\n",
    "    result_raw = result_raw.merge(\n",
    "        first_purchases[['user_id', 'event_dt']], on='user_id', how='left'\n",
    "    )\n",
    "\n",
    "    # рассчитываем лайфтайм для каждой покупки\n",
    "    result_raw['lifetime'] = (\n",
    "            result_raw['event_dt'] - result_raw['first_ts']\n",
    "    ).dt.days\n",
    "\n",
    "    # группируем по cohort, если в dimensions ничего нет\n",
    "    if len(dimensions) == 0:\n",
    "        result_raw['cohort'] = 'All users'\n",
    "        dimensions = dimensions + ['cohort']\n",
    "\n",
    "    # функция для группировки таблицы по желаемым признакам\n",
    "    def group_by_dimensions(df, dims, horizon_days):\n",
    "        result = df.pivot_table(\n",
    "            index=dims, columns='lifetime', values='user_id', aggfunc='nunique'\n",
    "        )\n",
    "        result = result.fillna(0).cumsum(axis=1)\n",
    "        cohort_sizes = (\n",
    "            df.groupby(dims)\n",
    "                .agg({'user_id': 'nunique'})\n",
    "                .rename(columns={'user_id': 'cohort_size'})\n",
    "        )\n",
    "        result = cohort_sizes.merge(result, on=dims, how='left').fillna(0)\n",
    "        # делим каждую «ячейку» в строке на размер когорты\n",
    "        # и получаем conversion rate\n",
    "        result = result.div(result['cohort_size'], axis=0)\n",
    "        result = result[['cohort_size'] + list(range(horizon_days))]\n",
    "        result['cohort_size'] = cohort_sizes\n",
    "        return result\n",
    "\n",
    "    # получаем таблицу конверсии\n",
    "    result_grouped = group_by_dimensions(result_raw, dimensions, horizon_days)\n",
    "\n",
    "    # для таблицы динамики конверсии убираем 'cohort' из dimensions\n",
    "    if 'cohort' in dimensions:\n",
    "        dimensions = []\n",
    "\n",
    "    # получаем таблицу динамики конверсии\n",
    "    result_in_time = group_by_dimensions(\n",
    "        result_raw, dimensions + ['dt'], horizon_days\n",
    "    )\n",
    "\n",
    "    # возвращаем обе таблицы и сырые данные\n",
    "    return result_raw, result_grouped, result_in_time"
   ],
   "metadata": {
    "collapsed": false,
    "pycharm": {
     "name": "#%%\n"
    }
   }
  },
  {
   "cell_type": "markdown",
   "source": [
    "## Функция расчета удержания ##"
   ],
   "metadata": {
    "collapsed": false,
    "pycharm": {
     "name": "#%% md\n"
    }
   }
  },
  {
   "cell_type": "markdown",
   "metadata": {},
   "source": [
    "# Шаг 3. Проведите исследовательский анализ данных\n",
    "\n",
    "Постройте профили пользователей. Определите минимальную и максимальную дату привлечения пользователей.\n",
    "\n",
    "Выясните:\n",
    "- Из каких стран приходят посетители? Какие страны дают больше всего платящих пользователей?\n",
    "- Какими устройствами они пользуются? С каких устройств чаще всего заходят платящие пользователи?\n",
    "- По каким рекламным каналам шло привлечение пользователей? Какие каналы приносят больше всего платящих пользователей?"
   ]
  },
  {
   "cell_type": "markdown",
   "metadata": {},
   "source": [
    "# Шаг 4. Маркетинг\n",
    "\n",
    "Выясните:\n",
    "- Сколько денег потратили? Всего / на каждый источник / по времени\n",
    "- Сколько в среднем стоило привлечение одного покупателя из каждого источника?"
   ]
  },
  {
   "cell_type": "markdown",
   "metadata": {},
   "source": [
    "# Шаг 5. Оцените окупаемость рекламы для привлечения пользователей\n",
    "\n",
    "С помощью LTV и ROI:\n",
    "- Проанализируйте общую окупаемость рекламы;\n",
    "- Проанализируйте окупаемость рекламы с разбивкой по устройствам;\n",
    "- Проанализируйте окупаемость рекламы с разбивкой по странам;\n",
    "- Проанализируйте окупаемость рекламы с разбивкой по рекламным каналам.\n",
    "\n",
    "Опишите проблемы, которые вы обнаружили. Ответьте на вопросы:\n",
    "- Окупается ли реклама, направленная на привлечение пользователей в целом? \n",
    "- Какие устройства, страны и рекламные каналы могут оказывать негативное влияние на окупаемость рекламы?\n",
    "- Чем могут быть вызваны проблемы окупаемости? Изучите конверсию и удержание с разбивкой по устройствам, странам, рекламным каналам.\n",
    "\n",
    "Опишите возможные причины обнаруженных проблем и сформируйте рекомендации для рекламного отдела. При решении этого шага считайте, что вы смотрите данные 1-го ноября 2019 года и что в вашей организации принято считать, что окупаемость должна наступать не позднее, чем через 2 недели после привлечения пользователей."
   ]
  },
  {
   "cell_type": "markdown",
   "metadata": {},
   "source": [
    "### Проанализируйте общую окупаемость рекламы"
   ]
  },
  {
   "cell_type": "markdown",
   "metadata": {},
   "source": [
    "### Проанализируйте окупаемость рекламы с разбивкой по устройствам"
   ]
  },
  {
   "cell_type": "markdown",
   "metadata": {},
   "source": [
    "### Проанализируйте окупаемость рекламы с разбивкой по странам"
   ]
  },
  {
   "cell_type": "markdown",
   "metadata": {},
   "source": [
    "### Проанализируйте окупаемость рекламы с разбивкой по рекламным каналам"
   ]
  },
  {
   "cell_type": "markdown",
   "metadata": {},
   "source": [
    "# Шаг 6. Напишите выводы\n",
    "- Выделите причины неэффективности привлечения пользователей;\n",
    "- Сформируйте рекомендации для отдела маркетинга для повышения эффективности."
   ]
  }
 ],
 "metadata": {
  "kernelspec": {
   "display_name": "Python 3",
   "language": "python",
   "name": "python3"
  },
  "language_info": {
   "codemirror_mode": {
    "name": "ipython",
    "version": 3
   },
   "file_extension": ".py",
   "mimetype": "text/x-python",
   "name": "python",
   "nbconvert_exporter": "python",
   "pygments_lexer": "ipython3",
   "version": "3.7.8"
  },
  "toc": {
   "base_numbering": 1,
   "nav_menu": {},
   "number_sections": true,
   "sideBar": true,
   "skip_h1_title": true,
   "title_cell": "Table of Contents",
   "title_sidebar": "Contents",
   "toc_cell": false,
   "toc_position": {},
   "toc_section_display": true,
   "toc_window_display": false
  }
 },
 "nbformat": 4,
 "nbformat_minor": 4
}