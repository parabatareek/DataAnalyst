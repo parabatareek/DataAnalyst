{
 "cells": [
  {
   "cell_type": "markdown",
   "metadata": {
    "collapsed": true,
    "pycharm": {
     "name": "#%% md\n"
    }
   },
   "source": [
    "# Содержание #"
   ]
  },
  {
   "cell_type": "markdown",
   "source": [
    "<a id='project_description'></a>\n",
    "# Описание проекта #\n",
    "Вы аналитик компании «Мегалайн» — федерального оператора сотовой связи. Клиентам предлагают два тарифных плана: «Смарт» и «Ультра». Чтобы скорректировать рекламный бюджет, коммерческий департамент хочет понять, какой тариф приносит больше денег.\n",
    "Вам предстоит сделать предварительный анализ тарифов на небольшой выборке клиентов. В вашем распоряжении данные 500 пользователей «Мегалайна»: кто они, откуда, каким тарифом пользуются, сколько звонков и сообщений каждый отправил за 2018 год. Нужно проанализировать поведение клиентов и сделать вывод — какой тариф лучше."
   ],
   "metadata": {
    "collapsed": false,
    "pycharm": {
     "name": "#%% md\n"
    }
   }
  },
  {
   "cell_type": "markdown",
   "source": [
    "<a id='tariffs_description'></a>\n",
    "# Описание тарифов #\n",
    "Тариф «Смарт»\n",
    "Ежемесячная плата: 550 рублей\n",
    "Включено 500 минут разговора, 50 сообщений и 15 Гб интернет-трафика\n",
    "Стоимость услуг сверх тарифного пакета: 1. минута разговора: 3 рубля («Мегалайн» всегда округляет вверх значения минут и мегабайтов. Если пользователь проговорил всего 1 секунду, в тарифе засчитывается целая минута); 2. сообщение: 3 рубля; 3. 1 Гб интернет-трафика: 200 рублей.\n",
    "Тариф «Ультра»\n",
    "Ежемесячная плата: 1950 рублей\n",
    "Включено 3000 минут разговора, 1000 сообщений и 30 Гб интернет-трафика\n",
    "Стоимость услуг сверх тарифного пакета: 1. минута разговора: 1 рубль; 2. сообщение: 1 рубль; 3. 1 Гб интернет-трафика: 150 рублей.\n",
    "Примечание:\n",
    "«Мегалайн» всегда округляет секунды до минут, а мегабайты — до гигабайт. Каждый звонок округляется отдельно: даже если он длился всего 1 секунду, будет засчитан как 1 минута.\n",
    "Для веб-трафика отдельные сессии не считаются. Вместо этого общая сумма за месяц округляется в бо́льшую сторону. Если абонент использует 1025 мегабайт в этом месяце, с него возьмут плату за 2 гигабайта."
   ],
   "metadata": {
    "collapsed": false,
    "pycharm": {
     "name": "#%% md\n"
    }
   }
  },
  {
   "cell_type": "markdown",
   "source": [
    "<a id='project_instruction'></a>\n",
    "# Инструкция по выполнению проекта #\n",
    "Шаг 1. Откройте файл с данными и изучите общую информацию\n",
    "Шаг 2. Подготовьте данные\n",
    "Приведите данные к нужным типам;\n",
    "Найдите и исправьте ошибки в данных, если они есть.\n",
    "Поясните, какие ошибки вы нашли и как их исправили. В данных вы найдёте звонки с нулевой продолжительностью. Это не ошибка: нулями обозначены пропущенные звонки, поэтому их не нужно удалять.\n",
    "Посчитайте для каждого пользователя:\n",
    "количество сделанных звонков и израсходованных минут разговора по месяцам;\n",
    "количество отправленных сообщений по месяцам;\n",
    "объем израсходованного интернет-трафика по месяцам;\n",
    "помесячную выручку с каждого пользователя (вычтите бесплатный лимит из суммарного количества звонков, сообщений и интернет-трафика; остаток умножьте на значение из тарифного плана; прибавьте абонентскую плату, соответствующую тарифному плану).\n",
    "Шаг 3. Проанализируйте данные\n",
    "Опишите поведение клиентов оператора, исходя из выборки. Сколько минут разговора, сколько сообщений и какой объём интернет-трафика требуется пользователям каждого тарифа в месяц? Посчитайте среднее количество, дисперсию и стандартное отклонение. Постройте гистограммы. Опишите распределения.\n",
    "Шаг 4. Проверьте гипотезы\n",
    "средняя выручка пользователей тарифов «Ультра» и «Смарт» различаются;\n",
    "средняя выручка пользователей из Москвы отличается от выручки пользователей из других регионов.\n",
    "Пороговое значение alpha задайте самостоятельно.\n",
    "Поясните:\n",
    "как вы формулировали нулевую и альтернативную гипотезы;\n",
    "какой критерий использовали для проверки гипотез и почему.\n",
    "Шаг 5. Напишите общий вывод\n",
    "Оформление: Задание выполните в Jupyter Notebook. Программный код заполните в ячейках типа code, текстовые пояснения — в ячейках типа markdown. Примените форматирование и заголовки."
   ],
   "metadata": {
    "collapsed": false,
    "pycharm": {
     "name": "#%% md\n"
    }
   }
  },
  {
   "cell_type": "markdown",
   "source": [
    "<a id='project_data'></a>\n",
    "# Описание данных #\n",
    "Таблица users (информация о пользователях):\n",
    "user_id — уникальный идентификатор пользователя\n",
    "first_name — имя пользователя\n",
    "last_name — фамилия пользователя\n",
    "age — возраст пользователя (годы)\n",
    "reg_date — дата подключения тарифа (день, месяц, год)\n",
    "churn_date — дата прекращения пользования тарифом (если значение пропущено, то тариф ещё действовал на момент выгрузки данных)\n",
    "city — город проживания пользователя\n",
    "tarif — название тарифного плана\n",
    "Таблица calls (информация о звонках):\n",
    "id — уникальный номер звонка\n",
    "call_date — дата звонка\n",
    "duration — длительность звонка в минутах\n",
    "user_id — идентификатор пользователя, сделавшего звонок\n",
    "Таблица messages (информация о сообщениях):\n",
    "id — уникальный номер сообщения\n",
    "message_date — дата сообщения\n",
    "user_id — идентификатор пользователя, отправившего сообщение\n",
    "Таблица internet (информация об интернет-сессиях):\n",
    "id — уникальный номер сессии\n",
    "mb_used — объём потраченного за сессию интернет-трафика (в мегабайтах)\n",
    "session_date — дата интернет-сессии\n",
    "user_id — идентификатор пользователя\n",
    "Таблица tariffs (информация о тарифах):\n",
    "tariff_name — название тарифа\n",
    "rub_monthly_fee — ежемесячная абонентская плата в рублях\n",
    "minutes_included — количество минут разговора в месяц, включённых в абонентскую плату\n",
    "messages_included — количество сообщений в месяц, включённых в абонентскую плату\n",
    "mb_per_month_included — объём интернет-трафика, включённого в абонентскую плату (в мегабайтах)\n",
    "rub_per_minute — стоимость минуты разговора сверх тарифного пакета (например, если в тарифе 100 минут разговора в месяц, то со 101 минуты будет взиматься плата)\n",
    "rub_per_message — стоимость отправки сообщения сверх тарифного пакета\n",
    "rub_per_gb — стоимость дополнительного гигабайта интернет-трафика сверх тарифного пакета (1 гигабайт = 1024 мегабайта)"
   ],
   "metadata": {
    "collapsed": false,
    "pycharm": {
     "name": "#%% md\n"
    }
   }
  },
  {
   "cell_type": "markdown",
   "source": [
    "<a id='import_libs'></a>\n",
    "# Импорт библиотек #"
   ],
   "metadata": {
    "collapsed": false,
    "pycharm": {
     "name": "#%% md\n"
    }
   }
  },
  {
   "cell_type": "code",
   "execution_count": 2,
   "outputs": [],
   "source": [
    "import pandas as pd\n",
    "from IPython.core.display import display\n",
    "from scipy import stats as st\n",
    "import math as mt"
   ],
   "metadata": {
    "collapsed": false,
    "pycharm": {
     "name": "#%%\n"
    }
   }
  },
  {
   "cell_type": "markdown",
   "source": [
    "<a id='data'></a>\n",
    "# Данные #"
   ],
   "metadata": {
    "collapsed": false,
    "pycharm": {
     "name": "#%% md\n"
    }
   }
  },
  {
   "cell_type": "markdown",
   "source": [
    "<a id='data_load'></a>\n",
    "## Загрузка данных ##"
   ],
   "metadata": {
    "collapsed": false,
    "pycharm": {
     "name": "#%% md\n"
    }
   }
  },
  {
   "cell_type": "code",
   "execution_count": 3,
   "outputs": [],
   "source": [
    "calls = pd.read_csv(filepath_or_buffer='datasets/calls.csv')\n",
    "internet = pd.read_csv(filepath_or_buffer='datasets/internet.csv')\n",
    "messages = pd.read_csv(filepath_or_buffer='datasets/messages.csv')\n",
    "tariffs = pd.read_csv(filepath_or_buffer='datasets/tariffs.csv')\n",
    "users = pd.read_csv(filepath_or_buffer='datasets/users.csv')"
   ],
   "metadata": {
    "collapsed": false,
    "pycharm": {
     "name": "#%%\n"
    }
   }
  },
  {
   "cell_type": "markdown",
   "source": [
    "<a id='data_view'></a>\n",
    "## Первичный осмотр данных ##"
   ],
   "metadata": {
    "collapsed": false,
    "pycharm": {
     "name": "#%% md\n"
    }
   }
  },
  {
   "cell_type": "code",
   "execution_count": 4,
   "outputs": [
    {
     "data": {
      "text/plain": "              id   call_date  duration  user_id\n0         1000_0  2018-07-25      0.00     1000\n1         1000_1  2018-08-17      0.00     1000\n2         1000_2  2018-06-11      2.85     1000\n3         1000_3  2018-09-21     13.80     1000\n4         1000_4  2018-12-15      5.18     1000\n...          ...         ...       ...      ...\n202602  1499_215  2018-12-26      0.76     1499\n202603  1499_216  2018-10-18     18.83     1499\n202604  1499_217  2018-11-10     10.81     1499\n202605  1499_218  2018-10-06      4.27     1499\n202606  1499_219  2018-12-14     19.62     1499\n\n[202607 rows x 4 columns]",
      "text/html": "<div>\n<style scoped>\n    .dataframe tbody tr th:only-of-type {\n        vertical-align: middle;\n    }\n\n    .dataframe tbody tr th {\n        vertical-align: top;\n    }\n\n    .dataframe thead th {\n        text-align: right;\n    }\n</style>\n<table border=\"1\" class=\"dataframe\">\n  <thead>\n    <tr style=\"text-align: right;\">\n      <th></th>\n      <th>id</th>\n      <th>call_date</th>\n      <th>duration</th>\n      <th>user_id</th>\n    </tr>\n  </thead>\n  <tbody>\n    <tr>\n      <th>0</th>\n      <td>1000_0</td>\n      <td>2018-07-25</td>\n      <td>0.00</td>\n      <td>1000</td>\n    </tr>\n    <tr>\n      <th>1</th>\n      <td>1000_1</td>\n      <td>2018-08-17</td>\n      <td>0.00</td>\n      <td>1000</td>\n    </tr>\n    <tr>\n      <th>2</th>\n      <td>1000_2</td>\n      <td>2018-06-11</td>\n      <td>2.85</td>\n      <td>1000</td>\n    </tr>\n    <tr>\n      <th>3</th>\n      <td>1000_3</td>\n      <td>2018-09-21</td>\n      <td>13.80</td>\n      <td>1000</td>\n    </tr>\n    <tr>\n      <th>4</th>\n      <td>1000_4</td>\n      <td>2018-12-15</td>\n      <td>5.18</td>\n      <td>1000</td>\n    </tr>\n    <tr>\n      <th>...</th>\n      <td>...</td>\n      <td>...</td>\n      <td>...</td>\n      <td>...</td>\n    </tr>\n    <tr>\n      <th>202602</th>\n      <td>1499_215</td>\n      <td>2018-12-26</td>\n      <td>0.76</td>\n      <td>1499</td>\n    </tr>\n    <tr>\n      <th>202603</th>\n      <td>1499_216</td>\n      <td>2018-10-18</td>\n      <td>18.83</td>\n      <td>1499</td>\n    </tr>\n    <tr>\n      <th>202604</th>\n      <td>1499_217</td>\n      <td>2018-11-10</td>\n      <td>10.81</td>\n      <td>1499</td>\n    </tr>\n    <tr>\n      <th>202605</th>\n      <td>1499_218</td>\n      <td>2018-10-06</td>\n      <td>4.27</td>\n      <td>1499</td>\n    </tr>\n    <tr>\n      <th>202606</th>\n      <td>1499_219</td>\n      <td>2018-12-14</td>\n      <td>19.62</td>\n      <td>1499</td>\n    </tr>\n  </tbody>\n</table>\n<p>202607 rows × 4 columns</p>\n</div>"
     },
     "metadata": {},
     "output_type": "display_data"
    }
   ],
   "source": [
    "display(calls)"
   ],
   "metadata": {
    "collapsed": false,
    "pycharm": {
     "name": "#%%\n"
    }
   }
  },
  {
   "cell_type": "code",
   "execution_count": 5,
   "outputs": [
    {
     "data": {
      "text/plain": "        Unnamed: 0        id  mb_used session_date  user_id\n0                0    1000_0   112.95   2018-11-25     1000\n1                1    1000_1  1052.81   2018-09-07     1000\n2                2    1000_2  1197.26   2018-06-25     1000\n3                3    1000_3   550.27   2018-08-22     1000\n4                4    1000_4   302.56   2018-09-24     1000\n...            ...       ...      ...          ...      ...\n149391      149391  1499_152   318.90   2018-10-03     1499\n149392      149392  1499_153   490.13   2018-12-14     1499\n149393      149393  1499_154     0.00   2018-10-27     1499\n149394      149394  1499_155  1246.32   2018-11-26     1499\n149395      149395  1499_156   544.37   2018-10-26     1499\n\n[149396 rows x 5 columns]",
      "text/html": "<div>\n<style scoped>\n    .dataframe tbody tr th:only-of-type {\n        vertical-align: middle;\n    }\n\n    .dataframe tbody tr th {\n        vertical-align: top;\n    }\n\n    .dataframe thead th {\n        text-align: right;\n    }\n</style>\n<table border=\"1\" class=\"dataframe\">\n  <thead>\n    <tr style=\"text-align: right;\">\n      <th></th>\n      <th>Unnamed: 0</th>\n      <th>id</th>\n      <th>mb_used</th>\n      <th>session_date</th>\n      <th>user_id</th>\n    </tr>\n  </thead>\n  <tbody>\n    <tr>\n      <th>0</th>\n      <td>0</td>\n      <td>1000_0</td>\n      <td>112.95</td>\n      <td>2018-11-25</td>\n      <td>1000</td>\n    </tr>\n    <tr>\n      <th>1</th>\n      <td>1</td>\n      <td>1000_1</td>\n      <td>1052.81</td>\n      <td>2018-09-07</td>\n      <td>1000</td>\n    </tr>\n    <tr>\n      <th>2</th>\n      <td>2</td>\n      <td>1000_2</td>\n      <td>1197.26</td>\n      <td>2018-06-25</td>\n      <td>1000</td>\n    </tr>\n    <tr>\n      <th>3</th>\n      <td>3</td>\n      <td>1000_3</td>\n      <td>550.27</td>\n      <td>2018-08-22</td>\n      <td>1000</td>\n    </tr>\n    <tr>\n      <th>4</th>\n      <td>4</td>\n      <td>1000_4</td>\n      <td>302.56</td>\n      <td>2018-09-24</td>\n      <td>1000</td>\n    </tr>\n    <tr>\n      <th>...</th>\n      <td>...</td>\n      <td>...</td>\n      <td>...</td>\n      <td>...</td>\n      <td>...</td>\n    </tr>\n    <tr>\n      <th>149391</th>\n      <td>149391</td>\n      <td>1499_152</td>\n      <td>318.90</td>\n      <td>2018-10-03</td>\n      <td>1499</td>\n    </tr>\n    <tr>\n      <th>149392</th>\n      <td>149392</td>\n      <td>1499_153</td>\n      <td>490.13</td>\n      <td>2018-12-14</td>\n      <td>1499</td>\n    </tr>\n    <tr>\n      <th>149393</th>\n      <td>149393</td>\n      <td>1499_154</td>\n      <td>0.00</td>\n      <td>2018-10-27</td>\n      <td>1499</td>\n    </tr>\n    <tr>\n      <th>149394</th>\n      <td>149394</td>\n      <td>1499_155</td>\n      <td>1246.32</td>\n      <td>2018-11-26</td>\n      <td>1499</td>\n    </tr>\n    <tr>\n      <th>149395</th>\n      <td>149395</td>\n      <td>1499_156</td>\n      <td>544.37</td>\n      <td>2018-10-26</td>\n      <td>1499</td>\n    </tr>\n  </tbody>\n</table>\n<p>149396 rows × 5 columns</p>\n</div>"
     },
     "metadata": {},
     "output_type": "display_data"
    }
   ],
   "source": [
    "display(internet)"
   ],
   "metadata": {
    "collapsed": false,
    "pycharm": {
     "name": "#%%\n"
    }
   }
  },
  {
   "cell_type": "code",
   "execution_count": 6,
   "outputs": [
    {
     "data": {
      "text/plain": "              id message_date  user_id\n0         1000_0   2018-06-27     1000\n1         1000_1   2018-10-08     1000\n2         1000_2   2018-08-04     1000\n3         1000_3   2018-06-16     1000\n4         1000_4   2018-12-05     1000\n...          ...          ...      ...\n123031  1499_179   2018-12-12     1499\n123032  1499_180   2018-09-28     1499\n123033  1499_181   2018-09-27     1499\n123034  1499_182   2018-11-15     1499\n123035  1499_183   2018-11-16     1499\n\n[123036 rows x 3 columns]",
      "text/html": "<div>\n<style scoped>\n    .dataframe tbody tr th:only-of-type {\n        vertical-align: middle;\n    }\n\n    .dataframe tbody tr th {\n        vertical-align: top;\n    }\n\n    .dataframe thead th {\n        text-align: right;\n    }\n</style>\n<table border=\"1\" class=\"dataframe\">\n  <thead>\n    <tr style=\"text-align: right;\">\n      <th></th>\n      <th>id</th>\n      <th>message_date</th>\n      <th>user_id</th>\n    </tr>\n  </thead>\n  <tbody>\n    <tr>\n      <th>0</th>\n      <td>1000_0</td>\n      <td>2018-06-27</td>\n      <td>1000</td>\n    </tr>\n    <tr>\n      <th>1</th>\n      <td>1000_1</td>\n      <td>2018-10-08</td>\n      <td>1000</td>\n    </tr>\n    <tr>\n      <th>2</th>\n      <td>1000_2</td>\n      <td>2018-08-04</td>\n      <td>1000</td>\n    </tr>\n    <tr>\n      <th>3</th>\n      <td>1000_3</td>\n      <td>2018-06-16</td>\n      <td>1000</td>\n    </tr>\n    <tr>\n      <th>4</th>\n      <td>1000_4</td>\n      <td>2018-12-05</td>\n      <td>1000</td>\n    </tr>\n    <tr>\n      <th>...</th>\n      <td>...</td>\n      <td>...</td>\n      <td>...</td>\n    </tr>\n    <tr>\n      <th>123031</th>\n      <td>1499_179</td>\n      <td>2018-12-12</td>\n      <td>1499</td>\n    </tr>\n    <tr>\n      <th>123032</th>\n      <td>1499_180</td>\n      <td>2018-09-28</td>\n      <td>1499</td>\n    </tr>\n    <tr>\n      <th>123033</th>\n      <td>1499_181</td>\n      <td>2018-09-27</td>\n      <td>1499</td>\n    </tr>\n    <tr>\n      <th>123034</th>\n      <td>1499_182</td>\n      <td>2018-11-15</td>\n      <td>1499</td>\n    </tr>\n    <tr>\n      <th>123035</th>\n      <td>1499_183</td>\n      <td>2018-11-16</td>\n      <td>1499</td>\n    </tr>\n  </tbody>\n</table>\n<p>123036 rows × 3 columns</p>\n</div>"
     },
     "metadata": {},
     "output_type": "display_data"
    }
   ],
   "source": [
    "display(messages)"
   ],
   "metadata": {
    "collapsed": false,
    "pycharm": {
     "name": "#%%\n"
    }
   }
  },
  {
   "cell_type": "code",
   "execution_count": 7,
   "outputs": [
    {
     "data": {
      "text/plain": "   messages_included  mb_per_month_included  minutes_included  \\\n0                 50                  15360               500   \n1               1000                  30720              3000   \n\n   rub_monthly_fee  rub_per_gb  rub_per_message  rub_per_minute tariff_name  \n0              550         200                3               3       smart  \n1             1950         150                1               1       ultra  ",
      "text/html": "<div>\n<style scoped>\n    .dataframe tbody tr th:only-of-type {\n        vertical-align: middle;\n    }\n\n    .dataframe tbody tr th {\n        vertical-align: top;\n    }\n\n    .dataframe thead th {\n        text-align: right;\n    }\n</style>\n<table border=\"1\" class=\"dataframe\">\n  <thead>\n    <tr style=\"text-align: right;\">\n      <th></th>\n      <th>messages_included</th>\n      <th>mb_per_month_included</th>\n      <th>minutes_included</th>\n      <th>rub_monthly_fee</th>\n      <th>rub_per_gb</th>\n      <th>rub_per_message</th>\n      <th>rub_per_minute</th>\n      <th>tariff_name</th>\n    </tr>\n  </thead>\n  <tbody>\n    <tr>\n      <th>0</th>\n      <td>50</td>\n      <td>15360</td>\n      <td>500</td>\n      <td>550</td>\n      <td>200</td>\n      <td>3</td>\n      <td>3</td>\n      <td>smart</td>\n    </tr>\n    <tr>\n      <th>1</th>\n      <td>1000</td>\n      <td>30720</td>\n      <td>3000</td>\n      <td>1950</td>\n      <td>150</td>\n      <td>1</td>\n      <td>1</td>\n      <td>ultra</td>\n    </tr>\n  </tbody>\n</table>\n</div>"
     },
     "metadata": {},
     "output_type": "display_data"
    }
   ],
   "source": [
    "display(tariffs)"
   ],
   "metadata": {
    "collapsed": false,
    "pycharm": {
     "name": "#%%\n"
    }
   }
  },
  {
   "cell_type": "code",
   "execution_count": 8,
   "outputs": [
    {
     "data": {
      "text/plain": "     user_id  age  churn_date         city first_name  last_name    reg_date  \\\n0       1000   52         NaN    Краснодар     Рафаил  Верещагин  2018-05-25   \n1       1001   41         NaN       Москва       Иван       Ежов  2018-11-01   \n2       1002   59         NaN  Стерлитамак    Евгений  Абрамович  2018-06-17   \n3       1003   23         NaN       Москва      Белла   Белякова  2018-08-17   \n4       1004   68         NaN  Новокузнецк    Татьяна   Авдеенко  2018-05-14   \n..       ...  ...         ...          ...        ...        ...         ...   \n495     1495   65         NaN      Иркутск  Авксентий      Фокин  2018-08-28   \n496     1496   36         NaN      Вологда     Трифон     Блохин  2018-01-27   \n497     1497   32         NaN    Челябинск   Каролина     Агеева  2018-10-09   \n498     1498   68  2018-10-25  Владикавказ   Всеволод    Акимчин  2018-07-19   \n499     1499   35         NaN        Пермь     Гектор   Корнилов  2018-09-27   \n\n    tariff  \n0    ultra  \n1    smart  \n2    smart  \n3    ultra  \n4    ultra  \n..     ...  \n495  ultra  \n496  smart  \n497  smart  \n498  smart  \n499  smart  \n\n[500 rows x 8 columns]",
      "text/html": "<div>\n<style scoped>\n    .dataframe tbody tr th:only-of-type {\n        vertical-align: middle;\n    }\n\n    .dataframe tbody tr th {\n        vertical-align: top;\n    }\n\n    .dataframe thead th {\n        text-align: right;\n    }\n</style>\n<table border=\"1\" class=\"dataframe\">\n  <thead>\n    <tr style=\"text-align: right;\">\n      <th></th>\n      <th>user_id</th>\n      <th>age</th>\n      <th>churn_date</th>\n      <th>city</th>\n      <th>first_name</th>\n      <th>last_name</th>\n      <th>reg_date</th>\n      <th>tariff</th>\n    </tr>\n  </thead>\n  <tbody>\n    <tr>\n      <th>0</th>\n      <td>1000</td>\n      <td>52</td>\n      <td>NaN</td>\n      <td>Краснодар</td>\n      <td>Рафаил</td>\n      <td>Верещагин</td>\n      <td>2018-05-25</td>\n      <td>ultra</td>\n    </tr>\n    <tr>\n      <th>1</th>\n      <td>1001</td>\n      <td>41</td>\n      <td>NaN</td>\n      <td>Москва</td>\n      <td>Иван</td>\n      <td>Ежов</td>\n      <td>2018-11-01</td>\n      <td>smart</td>\n    </tr>\n    <tr>\n      <th>2</th>\n      <td>1002</td>\n      <td>59</td>\n      <td>NaN</td>\n      <td>Стерлитамак</td>\n      <td>Евгений</td>\n      <td>Абрамович</td>\n      <td>2018-06-17</td>\n      <td>smart</td>\n    </tr>\n    <tr>\n      <th>3</th>\n      <td>1003</td>\n      <td>23</td>\n      <td>NaN</td>\n      <td>Москва</td>\n      <td>Белла</td>\n      <td>Белякова</td>\n      <td>2018-08-17</td>\n      <td>ultra</td>\n    </tr>\n    <tr>\n      <th>4</th>\n      <td>1004</td>\n      <td>68</td>\n      <td>NaN</td>\n      <td>Новокузнецк</td>\n      <td>Татьяна</td>\n      <td>Авдеенко</td>\n      <td>2018-05-14</td>\n      <td>ultra</td>\n    </tr>\n    <tr>\n      <th>...</th>\n      <td>...</td>\n      <td>...</td>\n      <td>...</td>\n      <td>...</td>\n      <td>...</td>\n      <td>...</td>\n      <td>...</td>\n      <td>...</td>\n    </tr>\n    <tr>\n      <th>495</th>\n      <td>1495</td>\n      <td>65</td>\n      <td>NaN</td>\n      <td>Иркутск</td>\n      <td>Авксентий</td>\n      <td>Фокин</td>\n      <td>2018-08-28</td>\n      <td>ultra</td>\n    </tr>\n    <tr>\n      <th>496</th>\n      <td>1496</td>\n      <td>36</td>\n      <td>NaN</td>\n      <td>Вологда</td>\n      <td>Трифон</td>\n      <td>Блохин</td>\n      <td>2018-01-27</td>\n      <td>smart</td>\n    </tr>\n    <tr>\n      <th>497</th>\n      <td>1497</td>\n      <td>32</td>\n      <td>NaN</td>\n      <td>Челябинск</td>\n      <td>Каролина</td>\n      <td>Агеева</td>\n      <td>2018-10-09</td>\n      <td>smart</td>\n    </tr>\n    <tr>\n      <th>498</th>\n      <td>1498</td>\n      <td>68</td>\n      <td>2018-10-25</td>\n      <td>Владикавказ</td>\n      <td>Всеволод</td>\n      <td>Акимчин</td>\n      <td>2018-07-19</td>\n      <td>smart</td>\n    </tr>\n    <tr>\n      <th>499</th>\n      <td>1499</td>\n      <td>35</td>\n      <td>NaN</td>\n      <td>Пермь</td>\n      <td>Гектор</td>\n      <td>Корнилов</td>\n      <td>2018-09-27</td>\n      <td>smart</td>\n    </tr>\n  </tbody>\n</table>\n<p>500 rows × 8 columns</p>\n</div>"
     },
     "metadata": {},
     "output_type": "display_data"
    }
   ],
   "source": [
    "display(users)"
   ],
   "metadata": {
    "collapsed": false,
    "pycharm": {
     "name": "#%%\n"
    }
   }
  }
 ],
 "metadata": {
  "kernelspec": {
   "display_name": "Python 3",
   "language": "python",
   "name": "python3"
  },
  "language_info": {
   "codemirror_mode": {
    "name": "ipython",
    "version": 2
   },
   "file_extension": ".py",
   "mimetype": "text/x-python",
   "name": "python",
   "nbconvert_exporter": "python",
   "pygments_lexer": "ipython2",
   "version": "2.7.6"
  }
 },
 "nbformat": 4,
 "nbformat_minor": 0
}