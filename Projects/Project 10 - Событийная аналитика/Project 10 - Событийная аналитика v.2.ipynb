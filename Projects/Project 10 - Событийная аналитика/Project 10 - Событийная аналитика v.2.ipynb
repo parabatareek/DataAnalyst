{
 "cells": [
  {
   "cell_type": "markdown",
   "metadata": {
    "pycharm": {
     "name": "#%% md\n"
    }
   },
   "source": [
    "<div style=\"border-radius: 15px; box-shadow: 2px 2px 4px; border: 1px solid; background:#dfe6e9; padding: 20px\"> <h7 style=\"color:black; margin-bottom:20px\">  Привет! Меня зовут Егошин Михаил, я буду проводить ревью на этом спринте. Если ты не против, давай общаться на \"ты\", так я думаю будет комфортнее и удобнее)\n",
    "Мои комментарии и замечания далее по тексту помечены различными цветами:\n",
    "    \n",
    "---    \n",
    "<div class=\"alert alert-block alert-danger\">\n",
    "❌ : Критическое замечание, которые следует исправить.\n",
    "</div> \n",
    "    \n",
    "---\n",
    "    \n",
    "<div class=\"alert alert-block alert-warning\">\n",
    "⚠️ : Замечание\\совет на будущее.\n",
    "</div>\n",
    "    \n",
    "---\n",
    "    \n",
    "<div class=\"alert alert-block alert-success\">\n",
    "✔️ : Когда всё сделано правильно.\n",
    "</div>\n",
    "    \n",
    "---\n",
    "\n",
    "Для меня главное, не просто указать на ошибки, а чтобы у тебя, в первую очередь, было понимание как это делается, подсказать в каких то моментах. Поэтому если возникнут вопросы по проекту или вопросы общего характера, то не стесняйся - задавай!) Для того, чтобы мне было легче их найти, то выделяй их пожалуйста с помощью цвета, например вот так - <font color=#e17055>\"вопрос, который не останется незамеченным\"</font>\n",
    "    \n",
    "Удачи!\n",
    "    \n",
    "p.s.: не удаляй мои замечания, если предстоит что то доработать в проекте.</h7>"
   ]
  },
  {
   "cell_type": "markdown",
   "metadata": {
    "collapsed": true,
    "pycharm": {
     "name": "#%% md\n"
    }
   },
   "source": [
    "# Проект: Событийная аналитика #\n",
    "Цель проекта:\n",
    "  * анализ поведения пользователей мобильного приложения.\n",
    "\n",
    "Описание данных:\n",
    "EventName — название события;\n",
    "DeviceIDHash — уникальный идентификатор пользователя;\n",
    "EventTimestamp — время события;\n",
    "ExpId — номер эксперимента: 246 и 247 — контрольные группы, а 248 — экспериментальная."
   ]
  },
  {
   "cell_type": "markdown",
   "metadata": {
    "pycharm": {
     "name": "#%% md\n"
    }
   },
   "source": [
    "# Содержание #\n",
    "<div>\n",
    "    <ol>\n",
    "        <li>\n",
    "            <a href=\"#import\">Импорт библиотек</a>\n",
    "        </li>\n",
    "        <li>\n",
    "            <a href=\"#data\">Подготовка данных</a>\n",
    "        </li>\n",
    "        <ul>\n",
    "            <li>\n",
    "                <a href=\"#data_preview\">Функция осмотра данных</a>\n",
    "            </li>\n",
    "            <li>\n",
    "                <a href=\"#data_rename_columns\">Переименование столбцов</a>\n",
    "            </li>\n",
    "            <li>\n",
    "                <a href=\"#data_date\">Добавление столбцов</a>\n",
    "            </li>\n",
    "            <li>\n",
    "                <a href=\"#data_dupl_na\">Поиск пропусков/дубликатов</a>\n",
    "            </li>\n",
    "        </ul>\n",
    "        <li>\n",
    "            <a href=\"#analyse\">Анализ данных</a>\n",
    "        </li>\n",
    "        <ul>\n",
    "            <li>\n",
    "                <a href=\"#analyze_event_hist\">Гистограмма количества событий</a>\n",
    "            </li>\n",
    "        </ul>\n",
    "        <li>\n",
    "            <a href=\"#funnel\">Воронка событий</a>\n",
    "        </li>\n",
    "        <ul>\n",
    "            <li>\n",
    "                <a href=\"#funnel_event_hist\">Гистограмма частоты событий</a>\n",
    "            </li>\n",
    "            <li>\n",
    "                <a href=\"#funnel_users_event\">Доли пользователей совершавших событие</a>\n",
    "            </li>\n",
    "            <li>\n",
    "                <a href=\"#funnel_users_graph\">Воронка событий</a>\n",
    "            </li>\n",
    "        </ul>\n",
    "        <li>\n",
    "            <a href=\"#survey\">Изучение результатов эксперимента</a>\n",
    "        </li>\n",
    "        <ul>\n",
    "            <li>\n",
    "                <a href=\"#survey_groups\">Количество пользователей в группах</a>\n",
    "            </li>\n",
    "            <li>\n",
    "                <a href=\"#survey_parts_func\">Функция проверки равенства долей событий</a>\n",
    "            </li>\n",
    "            <li>\n",
    "                <a href=\"#survey_data_prepare\">Подготовка данных</a>\n",
    "            </li>\n",
    "            <li>\n",
    "                <a href=\"#survey_aa\">Проверка равенства долей групп 246, 247</a>\n",
    "            </li>\n",
    "            <li>\n",
    "                <a href=\"#survey_ab\">Проверка равенства долей групп 246/248, 247/248</a>\n",
    "            </li>\n",
    "            <li>\n",
    "                <a href=\"#survey_ab_full\">Проверка равенства долей групп 246+247/248</a>\n",
    "            </li>\n",
    "        </ul>\n",
    "        <li>\n",
    "            <a href=\"#summary\">Вывод</a>\n",
    "        </li>\n",
    "    </ol>\n",
    "</div>"
   ]
  },
  {
   "cell_type": "raw",
   "source": [
    "!pip install --user plotly==5.5.0"
   ],
   "metadata": {
    "collapsed": false,
    "pycharm": {
     "name": "#%% raw\n"
    }
   }
  },
  {
   "cell_type": "code",
   "execution_count": null,
   "outputs": [],
   "source": [
    "!pip install --user plotly\n",
    "!pip install --user plotly_express"
   ],
   "metadata": {
    "collapsed": false,
    "pycharm": {
     "name": "#%%\n"
    }
   }
  },
  {
   "cell_type": "markdown",
   "source": [
    "<a id='import'></a>\n",
    "# Импорт библиотек #"
   ],
   "metadata": {
    "collapsed": false,
    "pycharm": {
     "name": "#%% md\n"
    }
   }
  },
  {
   "cell_type": "code",
   "execution_count": null,
   "outputs": [],
   "source": [
    "import datetime\n",
    "import pandas as pd\n",
    "import scipy.stats as st\n",
    "import math as mth\n",
    "from IPython.display import display\n",
    "import warnings\n",
    "import plotly.express as px\n",
    "import plotly.graph_objects as go\n",
    "import os\n",
    "\n",
    "warnings.filterwarnings('ignore')"
   ],
   "metadata": {
    "collapsed": false,
    "pycharm": {
     "name": "#%%\n"
    }
   }
  },
  {
   "cell_type": "markdown",
   "source": [
    "<a id='data'></a>\n",
    "# Подготовка данных #"
   ],
   "metadata": {
    "collapsed": false,
    "pycharm": {
     "name": "#%% md\n"
    }
   }
  },
  {
   "cell_type": "markdown",
   "source": [
    "<a id='data_preview'></a>\n",
    "## Функция осмотра данных ##"
   ],
   "metadata": {
    "collapsed": false,
    "pycharm": {
     "name": "#%% md\n"
    }
   }
  },
  {
   "cell_type": "code",
   "execution_count": null,
   "outputs": [],
   "source": [
    "def data_preview():\n",
    "    print(f'*** Данные ***')\n",
    "    display(data.head())\n",
    "    print()\n",
    "    print('*** INFO ***')\n",
    "    print(data.info())\n",
    "    print()\n",
    "    print('*** DESCRIBE ***')\n",
    "    print(data.describe())"
   ],
   "metadata": {
    "collapsed": false,
    "pycharm": {
     "name": "#%%\n"
    }
   }
  },
  {
   "cell_type": "markdown",
   "source": [
    "<div class=\"alert alert-success\" style=\"border-radius: 15px; box-shadow: 4px 4px 4px; border: 1px solid \" > <b>Комментарии от ревьюера ✔️ : </b> \n",
    "\n",
    "Здорово, что используешь собственные функции. Это действительно удобно и практично\n",
    "   \n",
    "</div>"
   ],
   "metadata": {
    "collapsed": false,
    "pycharm": {
     "name": "#%% md\n"
    }
   }
  },
  {
   "cell_type": "code",
   "execution_count": null,
   "outputs": [],
   "source": [
    "path_1 = '/datasets/'\n",
    "path_2 = '/datasets/'\n",
    "logs_file = 'logs_exp.csv'\n",
    "\n",
    "if os.path.exists(path_1):\n",
    "    path_logs = path_1 + logs_file\n",
    "elif os.path.exists(path_2):\n",
    "    path_logs = path_2 + logs_file\n",
    "else: print('Данные отсутствуют. Проверьте путь к папкам с данными')\n",
    "\n",
    "data = pd.read_csv(filepath_or_buffer=path_logs, sep='\\t')\n",
    "data_preview()"
   ],
   "metadata": {
    "collapsed": false,
    "pycharm": {
     "name": "#%%\n"
    }
   }
  },
  {
   "cell_type": "markdown",
   "source": [
    "<a id='data_rename_columns'></a>\n",
    "## Переименование столбцов ##"
   ],
   "metadata": {
    "collapsed": false,
    "pycharm": {
     "name": "#%% md\n"
    }
   }
  },
  {
   "cell_type": "code",
   "execution_count": null,
   "outputs": [],
   "source": [
    "data.columns = ['event_name', 'device_id', 'event_timestamp', 'exp_id']\n",
    "data_preview()"
   ],
   "metadata": {
    "collapsed": false,
    "pycharm": {
     "name": "#%%\n"
    }
   }
  },
  {
   "cell_type": "markdown",
   "source": [
    "<a id='data_date'></a>\n",
    "## Добавление столбцов ##"
   ],
   "metadata": {
    "collapsed": false,
    "pycharm": {
     "name": "#%% md\n"
    }
   }
  },
  {
   "cell_type": "code",
   "execution_count": null,
   "outputs": [],
   "source": [
    "data['event_datetime'] = data['event_timestamp'].apply(lambda x: pd.to_datetime(datetime.datetime.fromtimestamp(x).strftime('%Y-%m-%d %H')))\n",
    "data['event_date'] = data['event_timestamp'].apply(lambda x: datetime.date.fromtimestamp(x))\n",
    "data['event_date'] = pd.to_datetime(data['event_date'])"
   ],
   "metadata": {
    "collapsed": false,
    "pycharm": {
     "name": "#%%\n"
    }
   }
  },
  {
   "cell_type": "markdown",
   "source": [
    "<a id='data_dupl_na'></a>\n",
    "## Поиск пропусков/дубликатов ##"
   ],
   "metadata": {
    "collapsed": false,
    "pycharm": {
     "name": "#%% md\n"
    }
   }
  },
  {
   "cell_type": "code",
   "execution_count": null,
   "outputs": [],
   "source": [
    "print(f'''*** Пропуски ***\n",
    "{data.isna().sum()}\n",
    "''')\n",
    "print(f'''*** Дубликаты ***\n",
    "{data.duplicated().sum()}''')"
   ],
   "metadata": {
    "collapsed": false,
    "pycharm": {
     "name": "#%%\n"
    }
   }
  },
  {
   "cell_type": "code",
   "execution_count": null,
   "outputs": [],
   "source": [
    "data = data.drop_duplicates()\n",
    "print(f'''*** Дубликаты ***\n",
    "{data.duplicated().sum()}''')"
   ],
   "metadata": {
    "collapsed": false,
    "pycharm": {
     "name": "#%%\n"
    }
   }
  },
  {
   "cell_type": "markdown",
   "source": [
    "## Итоги подготовки данных ##\n",
    "1. названия столбцов переведены в нижний регистр\n",
    "2. добавлены столбцы:\n",
    "   - data['event_datetime'] - дата + время события\n",
    "   - data['event_date'] - дата события\n",
    "3. пропуски в данных отсутсвуют\n",
    "4. дубликаты удалены"
   ],
   "metadata": {
    "collapsed": false,
    "pycharm": {
     "name": "#%% md\n"
    }
   }
  },
  {
   "cell_type": "markdown",
   "source": [
    "<div class=\"alert alert-success\" style=\"border-radius: 15px; box-shadow: 4px 4px 4px; border: 1px solid \" > <b>Комментарии от ревьюера ✔️ : </b> \n",
    "\n",
    "На этом этапе всё хорошо. Ты корректно выгрузил данные и посмотрел их содержимое. Выполнил первичную проверку на пропуски и дубликаты. Можно приступать к следующему шагу\n",
    "   \n",
    "</div>"
   ],
   "metadata": {
    "collapsed": false,
    "pycharm": {
     "name": "#%% md\n"
    }
   }
  },
  {
   "cell_type": "markdown",
   "source": [
    "<a id='analyse'></a>\n",
    "# Анализ данных #"
   ],
   "metadata": {
    "collapsed": false,
    "pycharm": {
     "name": "#%% md\n"
    }
   }
  },
  {
   "cell_type": "code",
   "execution_count": null,
   "outputs": [],
   "source": [
    "\n",
    "fig = px.histogram(data_frame=data.groupby(by='device_id').agg({'event_name':'count'}),\n",
    "                   title='Количество событий пользователей',\n",
    "                   labels={'value':'Кол-во событий'},\n",
    "                   template='seaborn')\n",
    "fig.update_layout(xaxis_range=[0, 250],\n",
    "                  showlegend=False)\n",
    "fig.show()"
   ],
   "metadata": {
    "collapsed": false,
    "pycharm": {
     "name": "#%%\n"
    }
   }
  },
  {
   "cell_type": "code",
   "execution_count": null,
   "outputs": [],
   "source": [
    "print(f'Количество событий в логе: {len(data)}')\n",
    "print(f'Количество пользователей в логе: {data[\"device_id\"].nunique()}')\n",
    "print(f'Среднее колчество событий на одного пользователя: {len(data) / data[\"device_id\"].nunique() :0.2f}')\n",
    "print(f'Минимальная дата в логах {data[\"event_datetime\"].min()}')\n",
    "print(f'Максимальная дата в логах {data[\"event_datetime\"].max()}')"
   ],
   "metadata": {
    "collapsed": false,
    "pycharm": {
     "name": "#%%\n"
    }
   }
  },
  {
   "cell_type": "markdown",
   "source": [
    "# Итоги осмотра распределения количества событий пользователей #\n",
    "1. гистограмма показывает что:\n",
    "   - количество генерируемых пользователями событий скошено вправо\n",
    "   - среднее значение количества пользовательских неинформативно"
   ],
   "metadata": {
    "collapsed": false,
    "pycharm": {
     "name": "#%% md\n"
    }
   }
  },
  {
   "cell_type": "markdown",
   "source": [
    "<div class=\"alert alert-success\" style=\"border-radius: 15px; box-shadow: 4px 4px 4px; border: 1px solid \" > <b>Комментарии от ревьюера v2 ✔️ : </b> \n",
    "\n",
    "Совершенно верно. В этом случае медиана корректнее характеризуется распределение этого показателя\n",
    "</div>"
   ],
   "metadata": {
    "collapsed": false,
    "pycharm": {
     "name": "#%% md\n"
    }
   }
  },
  {
   "cell_type": "markdown",
   "source": [
    "<div class=\"alert alert-warning\" style=\"border-radius: 15px; box-shadow: 4px 4px 4px; border: 1px solid \" > <b>Комментарии от ревьюера ⚠️ : </b> \n",
    "\n",
    "Советую, перед тем как рассчитывать метрику среднего, посмотреть на характер распределение данного показателя через describe или гистограмму. Суть в том, что mean чувствителен к выбросам и не совсем корректно описывает картину при ненормальном распределение\n",
    "</div>"
   ],
   "metadata": {
    "collapsed": false,
    "pycharm": {
     "name": "#%% md\n"
    }
   }
  },
  {
   "cell_type": "markdown",
   "source": [
    "<div class=\"alert alert-info\">\n",
    "<font size=\"4\"><b>Комментарий студента</b></font>\n",
    "Привет, Михаил.\n",
    "Добавил.\n",
    "</div>"
   ],
   "metadata": {
    "collapsed": false,
    "pycharm": {
     "name": "#%% md\n"
    }
   }
  },
  {
   "cell_type": "markdown",
   "source": [
    "<a id='analyze_event_hist'></a>\n",
    "## Гистограмма количества событий ##"
   ],
   "metadata": {
    "collapsed": false,
    "pycharm": {
     "name": "#%% md\n"
    }
   }
  },
  {
   "cell_type": "code",
   "execution_count": null,
   "outputs": [],
   "source": [
    "fig = px.histogram(data_frame=data,\n",
    "                   x='event_datetime',\n",
    "                   template='seaborn',\n",
    "                   title='График пользовательских событий',\n",
    "                   labels={'event_datetime':'Дата'})\n",
    "fig.show()"
   ],
   "metadata": {
    "collapsed": false,
    "pycharm": {
     "name": "#%%\n"
    }
   }
  },
  {
   "cell_type": "markdown",
   "source": [
    "<div class=\"alert alert-warning\" style=\"border-radius: 15px; box-shadow: 4px 4px 4px; border: 1px solid \" > <b>Комментарии от ревьюера ⚠️ : </b> \n",
    "\n",
    "График достаточно наглядно показывает, когда начинается сбор данных.\n",
    "\n",
    "Можно было чуть более подробно подойти к этому вопросу - посмотреть график в разрезе распределения часов. Было бы видно  внутридневную периодичность и точное время начало теста. Именно по этому времени можно было проводить отсечение.\n",
    "\n",
    "</div>"
   ],
   "metadata": {
    "collapsed": false,
    "pycharm": {
     "name": "#%% md\n"
    }
   }
  },
  {
   "cell_type": "markdown",
   "source": [
    "<div class=\"alert alert-info\">\n",
    "<font size=\"4\"><b>Комментарий студента</b></font>\n",
    "Добавил.\n",
    "</div>"
   ],
   "metadata": {
    "collapsed": false,
    "pycharm": {
     "name": "#%% md\n"
    }
   }
  },
  {
   "cell_type": "markdown",
   "source": [
    "<div class=\"alert alert-success\" style=\"border-radius: 15px; box-shadow: 4px 4px 4px; border: 1px solid \" > <b>Комментарии от ревьюера v2 ✔️ : </b> \n",
    "\n",
    "Отлично! Здорово, что решил рассмотреть в разрезе часов\n",
    "</div>"
   ],
   "metadata": {
    "collapsed": false,
    "pycharm": {
     "name": "#%% md\n"
    }
   }
  },
  {
   "cell_type": "markdown",
   "source": [
    "<div class=\"alert alert-danger\" style=\"border-radius: 15px; box-shadow: 4px 4px 4px; border: 1px solid \" > <b>Комментарии от ревьюера ❌ : </b> \n",
    "\n",
    "<s>Но есть замечание по оформлению этого графика. Суть в том, что график должен быть наглядным без контекста (т.к. в реальной практике ты будешь показывать презентации или отчет сторонним людям). Тебе необходимо проследить чтобы всегда был заголовок и подписаны оси. Доработай этот момент пожалуйста.\n",
    "    \n",
    "Данное замечания относится ко всему проекту и перепроверь его самостоятельно. Далее не буду акцентировать на этом внимание\n",
    "</div>"
   ],
   "metadata": {
    "collapsed": false,
    "pycharm": {
     "name": "#%% md\n"
    }
   }
  },
  {
   "cell_type": "markdown",
   "source": [
    "<div class=\"alert alert-info\">\n",
    "<font size=\"4\"><b>Комментарий студента</b></font>\n",
    "Добавил.\n",
    "</div>"
   ],
   "metadata": {
    "collapsed": false,
    "pycharm": {
     "name": "#%% md\n"
    }
   }
  },
  {
   "cell_type": "markdown",
   "source": [
    "<a id='funnel'></a>\n",
    "# Воронка событий #"
   ],
   "metadata": {
    "collapsed": false,
    "pycharm": {
     "name": "#%% md\n"
    }
   }
  },
  {
   "cell_type": "code",
   "execution_count": null,
   "outputs": [],
   "source": [
    "drop_data = data.query('(event_date < \"2019-08-01\") or (event_date > \"2019-08-07\")')\n",
    "work_data = data.query('(event_date >= \"2019-08-01\") and (event_date < \"2019-08-08\")')"
   ],
   "metadata": {
    "collapsed": false,
    "pycharm": {
     "name": "#%%\n"
    }
   }
  },
  {
   "cell_type": "code",
   "execution_count": null,
   "outputs": [],
   "source": [
    "\n",
    "drop_events = len(drop_data)\n",
    "drop_users = drop_data['device_id'].nunique()\n",
    "\n",
    "work_events = len(work_data)\n",
    "work_users = work_data['device_id'].nunique()\n",
    "\n",
    "all_events = len(data)\n",
    "all_users = data['device_id'].nunique()\n",
    "\n",
    "print(f'Количество отфильтрованных событий: {all_events - work_events}')\n",
    "print(f'Количество отфильтрованных пользователей: {all_users - work_users}')\n",
    "print(f'Доля отфильтрованных событий: {(all_events - work_events) / all_events :0.2%} ')\n",
    "print(f'Доля отфильтрованных пользователей: {(all_users - work_users) / all_users :0.2%}')\n",
    "print(f'''*** Количество уникальных пользователей в группах после фильтрации: ***\n",
    "{work_data.groupby(by=\"exp_id\").agg({\"device_id\": pd.Series.nunique})}''')"
   ],
   "metadata": {
    "collapsed": false,
    "pycharm": {
     "name": "#%%\n"
    }
   }
  },
  {
   "cell_type": "markdown",
   "source": [
    "<div class=\"alert alert-danger\" style=\"border-radius: 15px; box-shadow: 4px 4px 4px; border: 1px solid \" > <b>Комментарии от ревьюера ❌ : </b>\n",
    "\n",
    "<s>Не совсем корректный расчет. Тебе надо найти объем данных до фильтрации и после. Причем в разрезе как событий так и пользователей. В твоем варианте ты не учитываешь, что данные некоторых пользователей есть как drop_data, так и в work_data\n",
    "\n",
    "    Много ли событий и пользователей вы потеряли, отбросив старые данные?\n",
    "\n",
    "\n",
    "</div>"
   ],
   "metadata": {
    "collapsed": false,
    "pycharm": {
     "name": "#%% md\n"
    }
   }
  },
  {
   "cell_type": "markdown",
   "source": [
    "<div class=\"alert alert-info\">\n",
    "<font size=\"4\"><b>Комментарий студента</b></font>\n",
    "Доля уникальных пользователей, чьи события попали в фильтр по датам проведения теста составила 56%.\n",
    "Я категорически не могу понять для какой цели нам нужна эта цифра, если дальнейшие изыскания будут проводится на данных ограниченных датами проведения теста.\n",
    "Дальше по проекту изменения не вносил, т.к. мысль о том что нужно очистить данные еще и на основании отфильтрованных пользователей мне кажется странной.\n",
    "Единственное объяснение которое пришло в голову:\n",
    "при фильтрации по пользователям мы удалим \"доезжающие данные\" которые были сгенерированы до начала тестирования, но в таком случае data[event_timestamp] - это совершенно не дата совершения события, а дата записи события в лог.\n",
    "Пролей пожалуйста свет, как быть дальше.\n",
    "\n",
    "Спасибо!\n",
    "</div>"
   ],
   "metadata": {
    "collapsed": false,
    "pycharm": {
     "name": "#%% md\n"
    }
   }
  },
  {
   "cell_type": "markdown",
   "source": [
    "<div class=\"alert alert-danger\" style=\"border-radius: 15px; box-shadow: 4px 4px 4px; border: 1px solid \" > <b>Комментарии от ревьюера v2 ❌ : </b>\n",
    "\n",
    "<s>Посмотри внимательнее, как доля отфильтрованных пользователей может быть 56%, когда до фильтрации у тебя было 7551 уникальных пользователя, а после - 7534\n",
    "\n",
    "Мне кажется ты немного усложняешь. Заказчик указал в ТЗ, что тебе надо рассчитать просто объем потерянных данных. В первой итерации у тебя расчет был неверным. Ты зачем то выделяешь датасет drop_data, когда тебе надо сравнивать исходный датасет и work_data\n",
    "\n",
    "Доля рассчитывается (на примере пользователей), как\n",
    "\n",
    "    (количество уников в исходном df - количество уников в новом df)/ количество уников в исходном df`\n",
    "\n",
    "чтобы перевести это значение в проценты надо умножить еще на 100. Аналогично и с событиями\n",
    "</div>"
   ],
   "metadata": {
    "collapsed": false,
    "pycharm": {
     "name": "#%% md\n"
    }
   }
  },
  {
   "cell_type": "markdown",
   "source": [
    "<div class=\"alert alert-info\">\n",
    "<font size=\"4\"><b>Комментарий студента v.2</b></font>\n",
    "Разобрался.\n",
    "Была ошибка в запросе формирующем work_data.\n",
    "</div>"
   ],
   "metadata": {
    "collapsed": false,
    "pycharm": {
     "name": "#%% md\n"
    }
   }
  },
  {
   "cell_type": "markdown",
   "source": [
    "<div class=\"alert alert-info\">\n",
    "<font size=\"4\"><b>Комментарий студента</b></font>\n",
    "Добавил.\n",
    "</div>"
   ],
   "metadata": {
    "collapsed": false,
    "pycharm": {
     "name": "#%% md\n"
    }
   }
  },
  {
   "cell_type": "markdown",
   "source": [
    "<div class=\"alert alert-info\">\n",
    "<font size=\"4\"><b>Комментарий студента v.2</b></font>\n",
    "Исправлено.\n",
    "</div>"
   ],
   "metadata": {
    "collapsed": false,
    "pycharm": {
     "name": "#%% md\n"
    }
   }
  },
  {
   "cell_type": "markdown",
   "source": [
    "<div class=\"alert alert-danger\" style=\"border-radius: 15px; box-shadow: 4px 4px 4px; border: 1px solid \" > <b>Комментарии от ревьюера v3 ❌ : </b>\n",
    "\n",
    "Расчет верный, но ты исключил из work_data события за целый день - 1 августа. У тебя строгое неравенство `(event_date > \"2019-08-01 01\")` и зачем то добавлено 01 к дате. Подкорректируй пожалуйста\n",
    "</div>"
   ],
   "metadata": {
    "collapsed": false,
    "pycharm": {
     "name": "#%% md\n"
    }
   }
  },
  {
   "cell_type": "markdown",
   "source": [
    "<div class=\"alert alert-info\">\n",
    "<font size=\"4\"><b>Комментарий студента v.3</b></font>\n",
    "Скорректировано.\n",
    "</div>"
   ],
   "metadata": {
    "collapsed": false,
    "pycharm": {
     "name": "#%% md\n"
    }
   }
  },
  {
   "cell_type": "markdown",
   "source": [
    "## Результат анализа данных ##\n",
    "1. предоставлены полные данные с 01.08.2019 01:00 - 08.08.2019\n",
    "2. доля удаленных данных ~15.52%(37824 записей)\n",
    "3. в очищенном наборе данных присутствуют пользователи всех экспериментальных групп\n",
    "   Количество уникальных пользователей в каждой ~ равны."
   ],
   "metadata": {
    "collapsed": false,
    "pycharm": {
     "name": "#%% md\n"
    }
   }
  },
  {
   "cell_type": "markdown",
   "source": [
    "<div class=\"alert alert-danger\" style=\"border-radius: 15px; box-shadow: 4px 4px 4px; border: 1px solid \" > <b>Комментарии от ревьюера ❌ : </b>\n",
    "\n",
    "<s>Но есть замечание по оформлению этого графика. Суть в том, что график должен быть наглядным без контекста (т.к. в реальной практике ты будешь показывать презентации или отчет сторонним людям). Тебе необходимо проследить чтобы всегда был заголовок и подписаны оси. Доработай этот момент пожалуйста.\n",
    "\n",
    "Данное замечания относится ко всему проекту и перепроверь его самостоятельно. Далее не буду акцентировать на этом внимание\n",
    "</div>"
   ],
   "metadata": {
    "collapsed": false,
    "pycharm": {
     "name": "#%% md\n"
    }
   }
  },
  {
   "cell_type": "markdown",
   "source": [
    "<a id='funnel_event_hist'></a>\n",
    "## Гистограмма количества событий ##"
   ],
   "metadata": {
    "collapsed": false,
    "pycharm": {
     "name": "#%% md\n"
    }
   }
  },
  {
   "cell_type": "code",
   "execution_count": null,
   "outputs": [],
   "source": [
    "fig = px.histogram(data_frame=work_data,\n",
    "                   x='event_name',\n",
    "                   color='event_name',\n",
    "                   template='seaborn',\n",
    "                   category_orders={\"event_name\": [\"MainScreenAppear\", \"OffersScreenAppear\", \"CartScreenAppear\", \"PaymentScreenSuccessful\", \"Tutorial\"]},\n",
    "                   labels={'event_name':'Событие'},\n",
    "                   title='Гистограмма количества событий')\n",
    "fig.show()"
   ],
   "metadata": {
    "collapsed": false,
    "pycharm": {
     "name": "#%%\n"
    }
   }
  },
  {
   "cell_type": "code",
   "execution_count": null,
   "outputs": [],
   "source": [
    "users_agg = work_data.groupby(by='event_name', as_index=False)\\\n",
    "                     .agg({'device_id':pd.Series.nunique})\\\n",
    "                     .rename(columns={'device_id':'user_count'})\\\n",
    "                     .sort_values(by='user_count', ascending=False)\n",
    "users_agg['user_%'] = (users_agg['user_count'] / work_users)"
   ],
   "metadata": {
    "collapsed": false,
    "pycharm": {
     "name": "#%%\n"
    }
   }
  },
  {
   "cell_type": "code",
   "execution_count": null,
   "outputs": [],
   "source": [
    "fig = px.bar(data_frame=users_agg,\n",
    "             x='event_name',\n",
    "             y='user_%',\n",
    "             color='event_name',\n",
    "             template='seaborn',\n",
    "             #text_auto='2.2%',\n",
    "             title='Доля пользователей совершивших событие',\n",
    "             labels={'event_name':'Событие',\n",
    "                     'user_%':'Доля пользователей'})\n",
    "fig.show()"
   ],
   "metadata": {
    "collapsed": false,
    "pycharm": {
     "name": "#%%\n"
    }
   }
  },
  {
   "cell_type": "markdown",
   "source": [
    "<div class=\"alert alert-info\">\n",
    "<font size=\"4\"><b>Комментарий студента</b></font>\n",
    "Исправлено.\n",
    "</div>"
   ],
   "metadata": {
    "collapsed": false,
    "pycharm": {
     "name": "#%% md\n"
    }
   }
  },
  {
   "cell_type": "markdown",
   "source": [
    "## Итоги осмотра графика количества пользовательсских событий ##\n",
    "1. доля пользователей посетивших раздел tutorial ~11.14%\n",
    "2. Данные о посещении страницы tutorial из построения воронки можно исключить, т.к. данная страница выпадает из общего алгоритма движения пользователей по приложению."
   ],
   "metadata": {
    "collapsed": false,
    "pycharm": {
     "name": "#%% md\n"
    }
   }
  },
  {
   "cell_type": "markdown",
   "source": [
    "<a id='funnel_users_graph'></a>\n",
    "## Воронка событий ##"
   ],
   "metadata": {
    "collapsed": false,
    "pycharm": {
     "name": "#%% md\n"
    }
   }
  },
  {
   "cell_type": "code",
   "execution_count": null,
   "outputs": [],
   "source": [
    "temp_data = users_agg.copy().drop(index=users_agg[users_agg['event_name'] == 'Tutorial'].index)\n",
    "fig = go.Figure(go.Funnel(y = temp_data['event_name'],\n",
    "                          x = temp_data['user_count'],\n",
    "                          textposition = \"inside\",\n",
    "                          textinfo = \"value+percent previous\"\n",
    "                          )\n",
    "                )\n",
    "fig.update_layout(template='seaborn',\n",
    "                  title='Воронка пользовательских действий',)\n",
    "\n",
    "fig.show()"
   ],
   "metadata": {
    "collapsed": false,
    "pycharm": {
     "name": "#%%\n"
    }
   }
  },
  {
   "cell_type": "markdown",
   "source": [
    "<div class=\"alert alert-danger\" style=\"border-radius: 15px; box-shadow: 4px 4px 4px; border: 1px solid \" > <b>Комментарии от ревьюера ❌ : </b> \n",
    "\n",
    "<s>Аналогично, воронка строится по уникальным пользователям\n",
    "</div>"
   ],
   "metadata": {
    "collapsed": false,
    "pycharm": {
     "name": "#%% md\n"
    }
   }
  },
  {
   "cell_type": "markdown",
   "source": [
    "<div class=\"alert alert-info\">\n",
    "<font size=\"4\"><b>Комментарий студента</b></font>\n",
    "Исправлено.\n",
    "</div>"
   ],
   "metadata": {
    "collapsed": false,
    "pycharm": {
     "name": "#%% md\n"
    }
   }
  },
  {
   "cell_type": "markdown",
   "source": [
    "<div class=\"alert alert-success\" style=\"border-radius: 15px; box-shadow: 4px 4px 4px; border: 1px solid \" > <b>Комментарии от ревьюера v2 ✔️ : </b> \n",
    "\n",
    "Да, теперь воронка построена корректно\n",
    "</div>"
   ],
   "metadata": {
    "collapsed": false,
    "pycharm": {
     "name": "#%% md\n"
    }
   }
  },
  {
   "cell_type": "markdown",
   "source": [
    "## Итоги осмотра воронки событий ##\n",
    "1. из 6893 уникальных пользователей участвующих в тестировании:\n",
    "   - 62%(4593 пользователя) переходит в раздел оформления заказа\n",
    "   - 81%(3734 пользователей) которых переходит в раздел заполнения данных платежной карты\n",
    "   - 95%(3539 пользователей) которых оплачивает заказ"
   ],
   "metadata": {
    "collapsed": false,
    "pycharm": {
     "name": "#%% md\n"
    }
   }
  },
  {
   "cell_type": "markdown",
   "source": [
    "<div class=\"alert alert-danger\" style=\"border-radius: 15px; box-shadow: 4px 4px 4px; border: 1px solid \" > <b>Комментарии от ревьюера ❌ : </b> \n",
    "\n",
    "<s>Не хватает пункта\n",
    "    \n",
    "    По воронке событий посчитайте, какая доля пользователей проходит на следующий шаг воронки (от числа пользователей на предыдущем). То есть для последовательности событий A → B → C посчитайте отношение числа пользователей с событием B к количеству пользователей с событием A, а также отношение числа пользователей с событием C к количеству пользователей с событием B.\n",
    "    \n",
    "Добавь его пожалуйста\n",
    "    \n",
    "Как ты считаешь у нас строгая воронка продаж? Или можно совершить покупку минуя некоторые этапы?\n",
    "</div>"
   ],
   "metadata": {
    "collapsed": false,
    "pycharm": {
     "name": "#%% md\n"
    }
   }
  },
  {
   "cell_type": "markdown",
   "source": [
    "<div class=\"alert alert-info\">\n",
    "<font size=\"4\"><b>Комментарий студента</b></font>\n",
    "Добавлено.\n",
    "</div>"
   ],
   "metadata": {
    "collapsed": false,
    "pycharm": {
     "name": "#%% md\n"
    }
   }
  },
  {
   "cell_type": "markdown",
   "source": [
    "<div class=\"alert alert-success\" style=\"border-radius: 15px; box-shadow: 4px 4px 4px; border: 1px solid \" > <b>Комментарии от ревьюера v2 ✔️ : </b> \n",
    "\n",
    "\n",
    "Ты рассмотрел все пункты задания\n",
    "</div>\n"
   ],
   "metadata": {
    "collapsed": false,
    "pycharm": {
     "name": "#%% md\n"
    }
   }
  },
  {
   "cell_type": "markdown",
   "source": [
    "<a id='survey'></a>\n",
    "# Изучение результатов эксперимента #"
   ],
   "metadata": {
    "collapsed": false,
    "pycharm": {
     "name": "#%% md\n"
    }
   }
  },
  {
   "cell_type": "markdown",
   "source": [
    "<a id='survey_groups'></a>\n",
    "## Количество пользователей в группах ##"
   ],
   "metadata": {
    "collapsed": false,
    "pycharm": {
     "name": "#%% md\n"
    }
   }
  },
  {
   "cell_type": "markdown",
   "source": [
    "### Проверка пересечения пользователей групп ###"
   ],
   "metadata": {
    "collapsed": false,
    "pycharm": {
     "name": "#%% md\n"
    }
   }
  },
  {
   "cell_type": "code",
   "execution_count": null,
   "outputs": [],
   "source": [
    "print(f'Количество общих пользователей групп 246, 247: {work_data[work_data[\"exp_id\"] == 246][\"device_id\"].isin(work_data[work_data[\"exp_id\"] == 247][\"device_id\"]).sum()}')\n",
    "print(f'Количество общих пользователей групп 247, 248: {work_data[work_data[\"exp_id\"] == 247][\"device_id\"].isin(work_data[work_data[\"exp_id\"] == 248][\"device_id\"]).sum()}')"
   ],
   "metadata": {
    "collapsed": false,
    "pycharm": {
     "name": "#%%\n"
    }
   }
  },
  {
   "cell_type": "code",
   "execution_count": null,
   "outputs": [],
   "source": [
    "fig = px.pie(data_frame=work_data.groupby(by='exp_id', as_index=False)\n",
    "                                 .agg({'device_id': pd.Series.nunique}),\n",
    "            names = 'exp_id',\n",
    "            values='device_id',\n",
    "            template='seaborn',\n",
    "            title='Отношение количества пользователей в группах',\n",
    "            labels={'exp_id':'Группа',\n",
    "                    'device_id':'Количество пользователей'})\n",
    "fig.show()"
   ],
   "metadata": {
    "collapsed": false,
    "pycharm": {
     "name": "#%%\n"
    }
   }
  },
  {
   "cell_type": "markdown",
   "source": [
    "<div class=\"alert alert-warning\" style=\"border-radius: 15px; box-shadow: 4px 4px 4px; border: 1px solid \" > <b>Комментарии от ревьюера ⚠️ : </b> \n",
    "\n",
    "Хорошим ходом, перед проверкой гипотез является посмотреть нет ли пересечений пользователей между группами, чтобы не нарушалась чистота эксперимента\n",
    "</div>"
   ],
   "metadata": {
    "collapsed": false,
    "pycharm": {
     "name": "#%% md\n"
    }
   }
  },
  {
   "cell_type": "markdown",
   "source": [
    "<div class=\"alert alert-info\">\n",
    "<font size=\"4\"><b>Комментарий студента</b></font>\n",
    "Добавлено.\n",
    "</div>"
   ],
   "metadata": {
    "collapsed": false,
    "pycharm": {
     "name": "#%% md\n"
    }
   }
  },
  {
   "cell_type": "markdown",
   "source": [
    "<div class=\"alert alert-success\" style=\"border-radius: 15px; box-shadow: 4px 4px 4px; border: 1px solid \" > <b>Комментарии от ревьюера v2 ✔️ : </b> \n",
    "\n",
    "Здорово, что решил добавить этот пункт\n",
    "</div>"
   ],
   "metadata": {
    "collapsed": false,
    "pycharm": {
     "name": "#%% md\n"
    }
   }
  },
  {
   "cell_type": "markdown",
   "source": [
    "<a id='survey_parts_func'><a/>\n",
    "## Функция проверки равенства долей событий ##"
   ],
   "metadata": {
    "collapsed": false,
    "pycharm": {
     "name": "#%% md\n"
    }
   }
  },
  {
   "cell_type": "code",
   "execution_count": null,
   "outputs": [],
   "source": [
    "def part_diff(group_1, group_2):\n",
    "    alpha = 0.05\n",
    "    total_1 = group_1['total'][0]\n",
    "    total_2 = group_2['total'][0]\n",
    "    \n",
    "    \n",
    "    \n",
    "\n",
    "    group_1_name = group_1['exp_id'][0]\n",
    "    group_2_name = group_2['exp_id'][0]\n",
    "\n",
    "    group_1 = group_1.drop(columns=['total','exp_id'])\n",
    "    group_2 = group_2.drop(columns=['total','exp_id'])\n",
    "    \n",
    "    \n",
    "\n",
    "    for column in group_1.columns:\n",
    "        p1 = group_1[column][0] / total_1\n",
    "        p2 = group_2[column][0] / total_2\n",
    "        \n",
    "        p_combined = (group_1[column][0] + group_2[column][0])/(total_1 + total_2)\n",
    "        diff = p1 - p2\n",
    "\n",
    "        z_value = diff / mth.sqrt(p_combined * (1 - p_combined) * (1/total_1 + 1/total_2))\n",
    "\n",
    "        distr = st.norm(0, 1)\n",
    "\n",
    "        p_value = (1 - distr.cdf(abs(z_value))) * 2\n",
    "\n",
    "        if p_value < alpha:\n",
    "            print(f'Для групп {group_1_name} и {group_2_name} отвергаем нулевую гипотезу - доли событий {column} НЕ РАВНЫ. P_value: {p_value}')\n",
    "        else:\n",
    "            print(f'Для групп {group_1_name} и {group_2_name} не получилось отвергнуть нулевую гипотезу - доли событий {column} РАВНЫ. P_value: {p_value}')"
   ],
   "metadata": {
    "collapsed": false,
    "pycharm": {
     "name": "#%%\n"
    }
   }
  },
  {
   "cell_type": "markdown",
   "source": [
    "<div class=\"alert alert-danger\" style=\"border-radius: 15px; box-shadow: 4px 4px 4px; border: 1px solid \" > <b>Комментарии от ревьюера v3 ❌ : </b> \n",
    "\n",
    "Здесь у тебя некорректный расчет `p_combined`, ты подставляешь доли `p1 + p2`, когда надо `group_1[column][0] + group_2[column][0]` соответственно. Подкорректируй этот момент\n",
    "</div>"
   ],
   "metadata": {
    "collapsed": false,
    "pycharm": {
     "name": "#%% md\n"
    }
   }
  },
  {
   "cell_type": "markdown",
   "source": [
    "<div class=\"alert alert-info\">\n",
    "<font size=\"4\"><b>Комментарий студента v.3</b></font>\n",
    "Исправлено.\n",
    "</div>"
   ],
   "metadata": {
    "collapsed": false,
    "pycharm": {
     "name": "#%% md\n"
    }
   }
  },
  {
   "cell_type": "markdown",
   "source": [
    "<a id='survey_data_prepare'></a>\n",
    "## Подготовка данных ##"
   ],
   "metadata": {
    "collapsed": false,
    "pycharm": {
     "name": "#%% md\n"
    }
   }
  },
  {
   "cell_type": "code",
   "execution_count": null,
   "outputs": [],
   "source": [
    "stats_data = work_data.groupby(by=['event_name', 'exp_id']).agg({'device_id':pd.Series.nunique}).reset_index()\\\n",
    "                      .pivot(index='exp_id', columns='event_name', values='device_id')\\\n",
    "                      .reset_index().drop(columns=['Tutorial'])\n",
    "\n",
    "\n",
    "stats_data['total'] = stats_data['exp_id'].apply(lambda x: work_data[work_data['exp_id'] == x]['device_id'].nunique())\n",
    "\n",
    "stats_data = stats_data.append({'exp_id':249,\n",
    "                                'CartScreenAppear':stats_data[:2]['CartScreenAppear'].sum(),\n",
    "                                'MainScreenAppear':stats_data[:2]['MainScreenAppear'].sum(),\n",
    "                                'OffersScreenAppear':stats_data[:2]['OffersScreenAppear'].sum(),\n",
    "                                'PaymentScreenSuccessful':stats_data[:2]['PaymentScreenSuccessful'].sum(),\n",
    "                                'total':work_data['device_id'].nunique()}, ignore_index=True)"
   ],
   "metadata": {
    "collapsed": false,
    "pycharm": {
     "name": "#%%\n"
    }
   }
  },
  {
   "cell_type": "code",
   "execution_count": null,
   "outputs": [],
   "source": [
    "group_246 = stats_data[stats_data['exp_id'] == 246].reset_index().drop(columns='index')\n",
    "group_247 = stats_data[stats_data['exp_id'] == 247].reset_index().drop(columns='index')\n",
    "group_248 = stats_data[stats_data['exp_id'] == 248].reset_index().drop(columns='index')\n",
    "group_249 = stats_data[stats_data['exp_id'] == 249].reset_index().drop(columns='index')"
   ],
   "metadata": {
    "collapsed": false,
    "pycharm": {
     "name": "#%%\n"
    }
   }
  },
  {
   "cell_type": "markdown",
   "source": [
    "<div class=\"alert alert-danger\" style=\"border-radius: 15px; box-shadow: 4px 4px 4px; border: 1px solid \" > <b>Комментарии от ревьюера ❌ : </b>\n",
    "\n",
    "<s>Расчет долей по этапам аналогично проводится по уникальным пользователям \n",
    "</div>"
   ],
   "metadata": {
    "collapsed": false,
    "pycharm": {
     "name": "#%% md\n"
    }
   }
  },
  {
   "cell_type": "markdown",
   "source": [
    "<div class=\"alert alert-info\">\n",
    "<font size=\"4\"><b>Комментарий студента</b></font>\n",
    "Исправлено.\n",
    "</div>"
   ],
   "metadata": {
    "collapsed": false,
    "pycharm": {
     "name": "#%% md\n"
    }
   }
  },
  {
   "cell_type": "markdown",
   "source": [
    "<a id='survey_aa'></a>\n",
    "## Проверка равенства долей групп 246, 247 ##\n",
    "$H_0$: доля пользователей, из группы 246,  совершивших определенное событие, РАВНА доле пользователей, из группы 247, совершивших аналогичное событие\n",
    "$H_1$: доля пользователей, из группы 246,  совершивших определенное событие, НЕ РАВНА доле пользователей, из группы 247, совершивших аналогичное событие"
   ],
   "metadata": {
    "collapsed": false,
    "pycharm": {
     "name": "#%% md\n"
    }
   }
  },
  {
   "cell_type": "markdown",
   "source": [
    "<div class=\"alert alert-warning\" style=\"border-radius: 15px; box-shadow: 4px 4px 4px; border: 1px solid \" > <b>Комментарии от ревьюера ⚠️ : </b> \n",
    "\n",
    "Очень хорошо, что не забываешь про формулировку гипотез. Это важный пункт в подобного рода задачах. Но не свосем ясно какие доли равны. Сформулируй более развернуто\n",
    "</div>"
   ],
   "metadata": {
    "collapsed": false,
    "pycharm": {
     "name": "#%% md\n"
    }
   }
  },
  {
   "cell_type": "markdown",
   "source": [
    "<div class=\"alert alert-info\">\n",
    "<font size=\"4\"><b>Комментарий студента</b></font>\n",
    "Исправлено.\n",
    "</div>"
   ],
   "metadata": {
    "collapsed": false,
    "pycharm": {
     "name": "#%% md\n"
    }
   }
  },
  {
   "cell_type": "code",
   "execution_count": null,
   "outputs": [],
   "source": [
    "part_diff(group_246, group_247)"
   ],
   "metadata": {
    "collapsed": false,
    "pycharm": {
     "name": "#%%\n"
    }
   }
  },
  {
   "cell_type": "markdown",
   "source": [
    "## Итоги проверки равенства долей групп 246, 247 ##\n",
    "1. доли событий пользователей групп 246 и 247 равны\n",
    "2. алгоритм формирования групп для А/А-теста корректен"
   ],
   "metadata": {
    "collapsed": false,
    "pycharm": {
     "name": "#%% md\n"
    }
   }
  },
  {
   "cell_type": "markdown",
   "source": [
    "<div class=\"alert alert-danger\" style=\"border-radius: 15px; box-shadow: 4px 4px 4px; border: 1px solid \" > <b>Комментарии от ревьюера ❌ : </b>\n",
    "\n",
    "<s>Посмотрим как изменятся результат после исправлений \n",
    "</div>"
   ],
   "metadata": {
    "collapsed": false,
    "pycharm": {
     "name": "#%% md\n"
    }
   }
  },
  {
   "cell_type": "markdown",
   "source": [
    "<div class=\"alert alert-info\">\n",
    "<font size=\"4\"><b>Комментарий студента</b></font>\n",
    "Исправлено.\n",
    "</div>"
   ],
   "metadata": {
    "collapsed": false,
    "pycharm": {
     "name": "#%% md\n"
    }
   }
  },
  {
   "cell_type": "markdown",
   "source": [
    "<div class=\"alert alert-warning\" style=\"border-radius: 15px; box-shadow: 4px 4px 4px; border: 1px solid \" > <b>Комментарии от ревьюера v3 ⚠️ : </b> \n",
    "    \n",
    "А для чего проводится A/A тест? С какой целью он применяется?\n",
    "</div>"
   ],
   "metadata": {
    "collapsed": false,
    "pycharm": {
     "name": "#%% md\n"
    }
   }
  },
  {
   "cell_type": "markdown",
   "source": [
    "<div class=\"alert alert-info\">\n",
    "<font size=\"4\"><b>Комментарий студента</b></font>\n",
    "Для валидации алгоритма разбиения на группы.\n",
    "После исправления функции оценки долей все встало на свои места.\n",
    "</div>"
   ],
   "metadata": {
    "collapsed": false,
    "pycharm": {
     "name": "#%% md\n"
    }
   }
  },
  {
   "cell_type": "markdown",
   "source": [
    "<a id='survey_ab'></a>\n",
    "## Проверка равенства долей групп 246/248, 247/248  ##\n",
    "$H_0$: доля пользователей, из группы 246/247,  совершивших определенное событие, РАВНА доле пользователей, из группы 248, совершивших аналогичное событие\n",
    "$H_1$: доля пользователей, из группы 246/247,  совершивших определенное событие, НЕ РАВНА доле пользователей, из группы 248, совершивших аналогичное событие"
   ],
   "metadata": {
    "collapsed": false,
    "pycharm": {
     "name": "#%% md\n"
    }
   }
  },
  {
   "cell_type": "code",
   "execution_count": null,
   "outputs": [],
   "source": [
    "part_diff(group_246, group_248)"
   ],
   "metadata": {
    "collapsed": false,
    "pycharm": {
     "name": "#%%\n"
    }
   }
  },
  {
   "cell_type": "code",
   "execution_count": null,
   "outputs": [],
   "source": [
    "part_diff(group_247, group_248)"
   ],
   "metadata": {
    "collapsed": false,
    "pycharm": {
     "name": "#%%\n"
    }
   }
  },
  {
   "cell_type": "markdown",
   "source": [
    "<a id='survey_ab_full'></a>\n",
    "## Проверка равенства долей групп 246+247/248  ##\n",
    "$H_0$: доля пользователей, объединенных групп 246 и 247,  совершивших определенное событие, РАВНА доле пользователей, из группы 248, совершивших аналогичное событие\n",
    "$H_1$: доля пользователей, объединенных групп 246 и 247,  совершивших определенное событие, НЕ РАВНА доле пользователей, из группы 248, совершивших аналогичное событие"
   ],
   "metadata": {
    "collapsed": false,
    "pycharm": {
     "name": "#%% md\n"
    }
   }
  },
  {
   "cell_type": "code",
   "execution_count": null,
   "outputs": [],
   "source": [
    "part_diff(group_249, group_248)"
   ],
   "metadata": {
    "collapsed": false,
    "pycharm": {
     "name": "#%%\n"
    }
   }
  },
  {
   "cell_type": "markdown",
   "source": [
    "<div class=\"alert alert-danger\" style=\"border-radius: 15px; box-shadow: 4px 4px 4px; border: 1px solid \" > <b>Комментарии от ревьюера ❌ : </b>\n",
    "\n",
    "<s>Методологически, функция работает корректно, но ты подаешь неверные данные \n",
    "</div>"
   ],
   "metadata": {
    "collapsed": false,
    "pycharm": {
     "name": "#%% md\n"
    }
   }
  },
  {
   "cell_type": "markdown",
   "source": [
    "<div class=\"alert alert-info\">\n",
    "<font size=\"4\"><b>Комментарий студента</b></font>\n",
    "Исправлено.\n",
    "</div>"
   ],
   "metadata": {
    "collapsed": false,
    "pycharm": {
     "name": "#%% md\n"
    }
   }
  },
  {
   "cell_type": "markdown",
   "source": [
    "<div class=\"alert alert-danger\" style=\"border-radius: 15px; box-shadow: 4px 4px 4px; border: 1px solid \" > <b>Комментарии от ревьюера ❌ : </b>\n",
    "\n",
    "<s>Добавь пожалуйста вывод по следующему пункту \n",
    "    \n",
    "    Какой уровень значимости вы выбрали при проверке статистических гипотез выше? Посчитайте, сколько проверок статистических гипотез вы сделали. При уровне значимости 0.1 каждый десятый раз можно получать ложный результат. Какой уровень значимости стоит применить? Если вы хотите изменить его, проделайте предыдущие пункты и проверьте свои выводы.\n",
    "\n",
    "    \n",
    "</div>"
   ],
   "metadata": {
    "collapsed": false,
    "pycharm": {
     "name": "#%% md\n"
    }
   }
  },
  {
   "cell_type": "markdown",
   "source": [
    "<a id='summary'></a>\n",
    "# Вывод #\n",
    "1. для оценки значимости различий поведения пользователей в группах выбран статистический критерий = 0,05.\n",
    "2. было проведено 16 экспериментов:\n",
    "   - различие групп А/А-теста(группы 246 и 247) для каждого типа пользовательских событий - 4шт.\n",
    "   - различие групп А/B-теста для каждого типа пользовательских событий:\n",
    "      * группа 246 сравнивалась с группой 248 - 4 шт.\n",
    "      * группа 247 сравнивалась с группой 248 - 4 шт.\n",
    "   - различие объединенных групп А/А-теста(группы 246 и 247) с контрольной группой 248 для для каждого типа пользовательских событий - 4 шт. \n",
    "3. Алгоритм формирования групп для А/А-теста верен\n",
    "4. результаты теста показали влияние внесенных в оформление ихменений на поведение пользователей\n",
    "5. оценить характер влияния изменений на поведение пользователей, на основании представленных данных, не представляется возможным."
   ],
   "metadata": {
    "collapsed": false,
    "pycharm": {
     "name": "#%% md\n"
    }
   }
  },
  {
   "cell_type": "markdown",
   "source": [
    "<div class=\"alert alert-warning\" style=\"border-radius: 15px; box-shadow: 4px 4px 4px; border: 1px solid \" > <b>Комментарии от ревьюера v3 ⚠️ : </b> \n",
    "\n",
    "    \n",
    "По поводу выбора уровня значимости советую ознакомиться в различными методами поправки при множественной проверке гипотез. Т.к. у тебя в сумме 16 проверок (4 эксперимента по 4 гипотезы), то это не отменяет факта, что математически ошибка первого рода возможна в каждом конкретном тесте из 16-ти, что приводит к накоплению вероятности этой ошибки. Поэтому и используют такие поправки как Бонферрони. Т.е. мы сильно занижаем значение альфы, но в ущерб мощности теста, тем самым уже повышается вероятность ошибки второго рода. Такой вот компромисс\n",
    "    \n",
    "Это реализовывать не требуется в рамках данного проекта. Просто информация к размышлению)\n",
    "\n",
    "Это довольно распространенная тема, поэтому рекомендую ознакомиться более подробно - https://youtu.be/qbbY7ubzDoE. "
   ],
   "metadata": {
    "collapsed": false,
    "pycharm": {
     "name": "#%% md\n"
    }
   }
  },
  {
   "cell_type": "markdown",
   "source": [
    "___\n",
    "\n",
    "\n",
    "<div class=\"alert alert-danger\" style=\"border-radius: 15px; box-shadow: 4px 4px 4px; border: 1px solid \" > <b>Комментарии от ревьюера ❌ : </b> \n",
    "\n",
    "Итог ревью - ты проделал большую работу! Грамотная структура проекта, но есть критические ошибки в расчете конверсий на этапе воронки и проверки гипотез. Тебе предстоит доработать эти моменты, чтобы я смог принять твой проект. Если возникнут вопросы - обязательно задавай. Буду ждать!\n",
    "</div>"
   ],
   "metadata": {
    "collapsed": false,
    "pycharm": {
     "name": "#%% md\n"
    }
   }
  },
  {
   "cell_type": "markdown",
   "source": [
    "___\n",
    "\n",
    "\n",
    "<div class=\"alert alert-danger\" style=\"border-radius: 15px; box-shadow: 4px 4px 4px; border: 1px solid \" > <b>Комментарии от ревьюера v3 ❌ : </b> \n",
    "\n",
    "Спасибо за доработки! Осталось добавить в анализ анные за 1-е августа и подкоррекировать функцию стат. критерия. Будут вопросы, пиши обязательно!\n",
    "</div>"
   ],
   "metadata": {
    "collapsed": false,
    "pycharm": {
     "name": "#%% md\n"
    }
   }
  },
  {
   "cell_type": "markdown",
   "source": [
    "<div class=\"alert alert-info\">\n",
    "<font size=\"4\"><b>Комментарий студента v.3</b></font>\n",
    "Все замечания учтены. Исправления внесены.\n",
    "</div>"
   ],
   "metadata": {
    "collapsed": false,
    "pycharm": {
     "name": "#%% md\n"
    }
   }
  },
  {
   "cell_type": "markdown",
   "source": [
    "<div class=\"alert alert-warning\" style=\"border-radius: 15px; box-shadow: 4px 4px 4px; border: 1px solid \" > <b>Комментарии от ревьюера v3 ⚠️ : </b> \n",
    "\n",
    "    \n",
    "По поводу выбора уровня значимости советую ознакомиться в различными методами поправки при множественной проверке гипотез. Т.к. у тебя в сумме 16 проверок (4 эксперимента по 4 гипотезы), то это не отменяет факта, что математически ошибка первого рода возможна в каждом конкретном тесте из 16-ти, что приводит к накоплению вероятности этой ошибки. Поэтому и используют такие поправки как Бонферрони. Т.е. мы сильно занижаем значение альфы, но в ущерб мощности теста, тем самым уже повышается вероятность ошибки второго рода. Такой вот компромисс\n",
    "    \n",
    "Это реализовывать не требуется в рамках данного проекта. Просто информация к размышлению)\n",
    "\n",
    "Это довольно распространенная тема, поэтому рекомендую ознакомиться более подробно - https://youtu.be/qbbY7ubzDoE. "
   ],
   "metadata": {
    "collapsed": false,
    "pycharm": {
     "name": "#%% md\n"
    }
   }
  },
  {
   "cell_type": "markdown",
   "source": [
    "___\n",
    "\n",
    "\n",
    "<div class=\"alert alert-danger\" style=\"border-radius: 15px; box-shadow: 4px 4px 4px; border: 1px solid \" > <b>Комментарии от ревьюера ❌ : </b> \n",
    "\n",
    "Итог ревью - ты проделал большую работу! Грамотная структура проекта, но есть критические ошибки в расчете конверсий на этапе воронки и проверки гипотез. Тебе предстоит доработать эти моменты, чтобы я смог принять твой проект. Если возникнут вопросы - обязательно задавай. Буду ждать!\n",
    "</div>"
   ],
   "metadata": {
    "collapsed": false,
    "pycharm": {
     "name": "#%% md\n"
    }
   }
  },
  {
   "cell_type": "markdown",
   "source": [
    "___\n",
    "\n",
    "\n",
    "<div class=\"alert alert-danger\" style=\"border-radius: 15px; box-shadow: 4px 4px 4px; border: 1px solid \" > <b>Комментарии от ревьюера v3 ❌ : </b> \n",
    "\n",
    "Спасибо за доработки! Осталось добавить в анализ анные за 1-е августа и подкоррекировать функцию стат. критерия. Будут вопросы, пиши обязательно!\n",
    "</div>"
   ],
   "metadata": {
    "collapsed": false,
    "pycharm": {
     "name": "#%% md\n"
    }
   }
  },
  {
   "cell_type": "markdown",
   "source": [
    "<div class=\"alert alert-info\">\n",
    "<font size=\"4\"><b>Комментарий студента v.3</b></font>\n",
    "Все замечания учтены. Исправления внесены.\n",
    "</div>"
   ],
   "metadata": {
    "collapsed": false,
    "pycharm": {
     "name": "#%% md\n"
    }
   }
  },
  {
   "cell_type": "code",
   "execution_count": null,
   "outputs": [],
   "source": [
    "group_246 = stats_data[stats_data['exp_id'] == 246].reset_index().drop(columns='index')\n",
    "group_247 = stats_data[stats_data['exp_id'] == 247].reset_index().drop(columns='index')\n",
    "group_248 = stats_data[stats_data['exp_id'] == 248].reset_index().drop(columns='index')\n",
    "group_249 = stats_data[stats_data['exp_id'] == 249].reset_index().drop(columns='index')"
   ],
   "metadata": {
    "collapsed": false,
    "pycharm": {
     "name": "#%%\n"
    }
   }
  },
  {
   "cell_type": "markdown",
   "source": [
    "<div class=\"alert alert-danger\" style=\"border-radius: 15px; box-shadow: 4px 4px 4px; border: 1px solid \" > <b>Комментарии от ревьюера ❌ : </b>\n",
    "\n",
    "<s>Расчет долей по этапам аналогично проводится по уникальным пользователям \n",
    "</div>"
   ],
   "metadata": {
    "collapsed": false,
    "pycharm": {
     "name": "#%% md\n"
    }
   }
  },
  {
   "cell_type": "markdown",
   "source": [
    "<div class=\"alert alert-info\">\n",
    "<font size=\"4\"><b>Комментарий студента</b></font>\n",
    "Исправлено.\n",
    "</div>"
   ],
   "metadata": {
    "collapsed": false,
    "pycharm": {
     "name": "#%% md\n"
    }
   }
  },
  {
   "cell_type": "markdown",
   "source": [
    "<a id='survey_aa'></a>\n",
    "## Проверка равенства долей групп 246, 247 ##\n",
    "$H_0$: доля пользователей, из группы 246,  совершивших определенное событие, РАВНА доле пользователей, из группы 247, совершивших аналогичное событие\n",
    "$H_1$: доля пользователей, из группы 246,  совершивших определенное событие, НЕ РАВНА доле пользователей, из группы 247, совершивших аналогичное событие"
   ],
   "metadata": {
    "collapsed": false,
    "pycharm": {
     "name": "#%% md\n"
    }
   }
  },
  {
   "cell_type": "markdown",
   "source": [
    "<div class=\"alert alert-warning\" style=\"border-radius: 15px; box-shadow: 4px 4px 4px; border: 1px solid \" > <b>Комментарии от ревьюера ⚠️ : </b> \n",
    "\n",
    "Очень хорошо, что не забываешь про формулировку гипотез. Это важный пункт в подобного рода задачах. Но не свосем ясно какие доли равны. Сформулируй более развернуто\n",
    "</div>"
   ],
   "metadata": {
    "collapsed": false,
    "pycharm": {
     "name": "#%% md\n"
    }
   }
  },
  {
   "cell_type": "markdown",
   "source": [
    "<div class=\"alert alert-info\">\n",
    "<font size=\"4\"><b>Комментарий студента</b></font>\n",
    "Исправлено.\n",
    "</div>"
   ],
   "metadata": {
    "collapsed": false,
    "pycharm": {
     "name": "#%% md\n"
    }
   }
  },
  {
   "cell_type": "code",
   "execution_count": null,
   "outputs": [],
   "source": [
    "part_diff(group_246, group_247)"
   ],
   "metadata": {
    "collapsed": false,
    "pycharm": {
     "name": "#%%\n"
    }
   }
  },
  {
   "cell_type": "markdown",
   "source": [
    "## Итоги проверки равенства долей групп 246, 247 ##\n",
    "1. доли событий пользователей групп 246 и 247 равны\n",
    "2. алгоритм формирования групп для А/А-теста корректен"
   ],
   "metadata": {
    "collapsed": false,
    "pycharm": {
     "name": "#%% md\n"
    }
   }
  },
  {
   "cell_type": "markdown",
   "source": [
    "<div class=\"alert alert-danger\" style=\"border-radius: 15px; box-shadow: 4px 4px 4px; border: 1px solid \" > <b>Комментарии от ревьюера ❌ : </b>\n",
    "\n",
    "<s>Посмотрим как изменятся результат после исправлений \n",
    "</div>"
   ],
   "metadata": {
    "collapsed": false,
    "pycharm": {
     "name": "#%% md\n"
    }
   }
  },
  {
   "cell_type": "markdown",
   "source": [
    "<div class=\"alert alert-info\">\n",
    "<font size=\"4\"><b>Комментарий студента</b></font>\n",
    "Исправлено.\n",
    "</div>"
   ],
   "metadata": {
    "collapsed": false,
    "pycharm": {
     "name": "#%% md\n"
    }
   }
  },
  {
   "cell_type": "markdown",
   "source": [
    "<div class=\"alert alert-warning\" style=\"border-radius: 15px; box-shadow: 4px 4px 4px; border: 1px solid \" > <b>Комментарии от ревьюера v3 ⚠️ : </b> \n",
    "    \n",
    "А для чего проводится A/A тест? С какой целью он применяется?\n",
    "</div>"
   ],
   "metadata": {
    "collapsed": false,
    "pycharm": {
     "name": "#%% md\n"
    }
   }
  },
  {
   "cell_type": "markdown",
   "source": [
    "<div class=\"alert alert-info\">\n",
    "<font size=\"4\"><b>Комментарий студента</b></font>\n",
    "Для валидации алгоритма разбиения на группы.\n",
    "После исправления функции оценки долей все встало на свои места.\n",
    "</div>"
   ],
   "metadata": {
    "collapsed": false,
    "pycharm": {
     "name": "#%% md\n"
    }
   }
  },
  {
   "cell_type": "markdown",
   "source": [
    "<a id='survey_ab'></a>\n",
    "## Проверка равенства долей групп 246/248, 247/248  ##\n",
    "$H_0$: доля пользователей, из группы 246/247,  совершивших определенное событие, РАВНА доле пользователей, из группы 248, совершивших аналогичное событие\n",
    "$H_1$: доля пользователей, из группы 246/247,  совершивших определенное событие, НЕ РАВНА доле пользователей, из группы 248, совершивших аналогичное событие"
   ],
   "metadata": {
    "collapsed": false,
    "pycharm": {
     "name": "#%% md\n"
    }
   }
  },
  {
   "cell_type": "code",
   "execution_count": null,
   "outputs": [],
   "source": [
    "part_diff(group_246, group_248)"
   ],
   "metadata": {
    "collapsed": false,
    "pycharm": {
     "name": "#%%\n"
    }
   }
  },
  {
   "cell_type": "code",
   "execution_count": null,
   "outputs": [],
   "source": [
    "part_diff(group_247, group_248)"
   ],
   "metadata": {
    "collapsed": false,
    "pycharm": {
     "name": "#%%\n"
    }
   }
  },
  {
   "cell_type": "markdown",
   "source": [
    "<a id='survey_ab_full'></a>\n",
    "## Проверка равенства долей групп 246+247/248  ##\n",
    "$H_0$: доля пользователей, объединенных групп 246 и 247,  совершивших определенное событие, РАВНА доле пользователей, из группы 248, совершивших аналогичное событие\n",
    "$H_1$: доля пользователей, объединенных групп 246 и 247,  совершивших определенное событие, НЕ РАВНА доле пользователей, из группы 248, совершивших аналогичное событие"
   ],
   "metadata": {
    "collapsed": false,
    "pycharm": {
     "name": "#%% md\n"
    }
   }
  },
  {
   "cell_type": "code",
   "execution_count": null,
   "outputs": [],
   "source": [
    "part_diff(group_249, group_248)"
   ],
   "metadata": {
    "collapsed": false,
    "pycharm": {
     "name": "#%%\n"
    }
   }
  },
  {
   "cell_type": "markdown",
   "source": [
    "<div class=\"alert alert-danger\" style=\"border-radius: 15px; box-shadow: 4px 4px 4px; border: 1px solid \" > <b>Комментарии от ревьюера ❌ : </b>\n",
    "\n",
    "<s>Методологически, функция работает корректно, но ты подаешь неверные данные \n",
    "</div>"
   ],
   "metadata": {
    "collapsed": false,
    "pycharm": {
     "name": "#%% md\n"
    }
   }
  },
  {
   "cell_type": "markdown",
   "source": [
    "<div class=\"alert alert-info\">\n",
    "<font size=\"4\"><b>Комментарий студента</b></font>\n",
    "Исправлено.\n",
    "</div>"
   ],
   "metadata": {
    "collapsed": false,
    "pycharm": {
     "name": "#%% md\n"
    }
   }
  },
  {
   "cell_type": "markdown",
   "source": [
    "<div class=\"alert alert-danger\" style=\"border-radius: 15px; box-shadow: 4px 4px 4px; border: 1px solid \" > <b>Комментарии от ревьюера ❌ : </b>\n",
    "\n",
    "<s>Добавь пожалуйста вывод по следующему пункту \n",
    "    \n",
    "    Какой уровень значимости вы выбрали при проверке статистических гипотез выше? Посчитайте, сколько проверок статистических гипотез вы сделали. При уровне значимости 0.1 каждый десятый раз можно получать ложный результат. Какой уровень значимости стоит применить? Если вы хотите изменить его, проделайте предыдущие пункты и проверьте свои выводы.\n",
    "\n",
    "    \n",
    "</div>"
   ],
   "metadata": {
    "collapsed": false,
    "pycharm": {
     "name": "#%% md\n"
    }
   }
  },
  {
   "cell_type": "markdown",
   "source": [
    "<a id='summary'></a>\n",
    "# Вывод #\n",
    "1. для оценки значимости различий поведения пользователей в группах выбран статистический критерий = 0,05.\n",
    "2. было проведено 16 экспериментов:\n",
    "   - различие групп А/А-теста(группы 246 и 247) для каждого типа пользовательских событий - 4шт.\n",
    "   - различие групп А/B-теста для каждого типа пользовательских событий:\n",
    "      * группа 246 сравнивалась с группой 248 - 4 шт.\n",
    "      * группа 247 сравнивалась с группой 248 - 4 шт.\n",
    "   - различие объединенных групп А/А-теста(группы 246 и 247) с контрольной группой 248 для для каждого типа пользовательских событий - 4 шт. \n",
    "3. Алгоритм формирования групп для А/А-теста верен\n",
    "4. результаты теста показали влияние внесенных в оформление ихменений на поведение пользователей\n",
    "5. оценить характер влияния изменений на поведение пользователей, на основании представленных данных, не представляется возможным."
   ],
   "metadata": {
    "collapsed": false,
    "pycharm": {
     "name": "#%% md\n"
    }
   }
  },
  {
   "cell_type": "markdown",
   "source": [
    "<div class=\"alert alert-warning\" style=\"border-radius: 15px; box-shadow: 4px 4px 4px; border: 1px solid \" > <b>Комментарии от ревьюера v3 ⚠️ : </b> \n",
    "\n",
    "    \n",
    "По поводу выбора уровня значимости советую ознакомиться в различными методами поправки при множественной проверке гипотез. Т.к. у тебя в сумме 16 проверок (4 эксперимента по 4 гипотезы), то это не отменяет факта, что математически ошибка первого рода возможна в каждом конкретном тесте из 16-ти, что приводит к накоплению вероятности этой ошибки. Поэтому и используют такие поправки как Бонферрони. Т.е. мы сильно занижаем значение альфы, но в ущерб мощности теста, тем самым уже повышается вероятность ошибки второго рода. Такой вот компромисс\n",
    "    \n",
    "Это реализовывать не требуется в рамках данного проекта. Просто информация к размышлению)\n",
    "\n",
    "Это довольно распространенная тема, поэтому рекомендую ознакомиться более подробно - https://youtu.be/qbbY7ubzDoE. "
   ],
   "metadata": {
    "collapsed": false,
    "pycharm": {
     "name": "#%% md\n"
    }
   }
  },
  {
   "cell_type": "markdown",
   "source": [
    "___\n",
    "\n",
    "\n",
    "<div class=\"alert alert-danger\" style=\"border-radius: 15px; box-shadow: 4px 4px 4px; border: 1px solid \" > <b>Комментарии от ревьюера ❌ : </b> \n",
    "\n",
    "Итог ревью - ты проделал большую работу! Грамотная структура проекта, но есть критические ошибки в расчете конверсий на этапе воронки и проверки гипотез. Тебе предстоит доработать эти моменты, чтобы я смог принять твой проект. Если возникнут вопросы - обязательно задавай. Буду ждать!\n",
    "</div>"
   ],
   "metadata": {
    "collapsed": false,
    "pycharm": {
     "name": "#%% md\n"
    }
   }
  },
  {
   "cell_type": "markdown",
   "source": [
    "___\n",
    "\n",
    "\n",
    "<div class=\"alert alert-danger\" style=\"border-radius: 15px; box-shadow: 4px 4px 4px; border: 1px solid \" > <b>Комментарии от ревьюера v3 ❌ : </b> \n",
    "\n",
    "Спасибо за доработки! Осталось добавить в анализ анные за 1-е августа и подкоррекировать функцию стат. критерия. Будут вопросы, пиши обязательно!\n",
    "</div>"
   ],
   "metadata": {
    "collapsed": false,
    "pycharm": {
     "name": "#%% md\n"
    }
   }
  },
  {
   "cell_type": "markdown",
   "source": [
    "<div class=\"alert alert-info\">\n",
    "<font size=\"4\"><b>Комментарий студента v.3</b></font>\n",
    "Все замечания учтены. Исправления внесены.\n",
    "</div>"
   ],
   "metadata": {
    "collapsed": false,
    "pycharm": {
     "name": "#%% md\n"
    }
   }
  },
  {
   "cell_type": "markdown",
   "metadata": {
    "pycharm": {
     "name": "#%% md\n"
    }
   },
   "source": [
    "<div class=\"alert alert-warning\" style=\"border-radius: 15px; box-shadow: 4px 4px 4px; border: 1px solid \" > <b>Комментарии от ревьюера v3 ⚠️ : </b> \n",
    "\n",
    "    \n",
    "По поводу выбора уровня значимости советую ознакомиться в различными методами поправки при множественной проверке гипотез. Т.к. у тебя в сумме 16 проверок (4 эксперимента по 4 гипотезы), то это не отменяет факта, что математически ошибка первого рода возможна в каждом конкретном тесте из 16-ти, что приводит к накоплению вероятности этой ошибки. Поэтому и используют такие поправки как Бонферрони. Т.е. мы сильно занижаем значение альфы, но в ущерб мощности теста, тем самым уже повышается вероятность ошибки второго рода. Такой вот компромисс\n",
    "    \n",
    "Это реализовывать не требуется в рамках данного проекта. Просто информация к размышлению)\n",
    "\n",
    "Это довольно распространенная тема, поэтому рекомендую ознакомиться более подробно - https://youtu.be/qbbY7ubzDoE. "
   ]
  },
  {
   "cell_type": "markdown",
   "metadata": {
    "pycharm": {
     "name": "#%% md\n"
    }
   },
   "source": [
    "___\n",
    "\n",
    "\n",
    "<div class=\"alert alert-danger\" style=\"border-radius: 15px; box-shadow: 4px 4px 4px; border: 1px solid \" > <b>Комментарии от ревьюера ❌ : </b> \n",
    "\n",
    "Итог ревью - ты проделал большую работу! Грамотная структура проекта, но есть критические ошибки в расчете конверсий на этапе воронки и проверки гипотез. Тебе предстоит доработать эти моменты, чтобы я смог принять твой проект. Если возникнут вопросы - обязательно задавай. Буду ждать!\n",
    "</div>"
   ]
  },
  {
   "cell_type": "markdown",
   "metadata": {
    "pycharm": {
     "name": "#%% md\n"
    }
   },
   "source": [
    "___\n",
    "\n",
    "\n",
    "<div class=\"alert alert-danger\" style=\"border-radius: 15px; box-shadow: 4px 4px 4px; border: 1px solid \" > <b>Комментарии от ревьюера v3 ❌ : </b> \n",
    "\n",
    "Спасибо за доработки! Осталось добавить в анализ анные за 1-е августа и подкоррекировать функцию стат. критерия. Будут вопросы, пиши обязательно!\n",
    "</div>"
   ]
  },
  {
   "cell_type": "markdown",
   "metadata": {
    "pycharm": {
     "name": "#%% md\n"
    }
   },
   "source": [
    "<div class=\"alert alert-info\">\n",
    "<font size=\"4\"><b>Комментарий студента v.3</b></font>\n",
    "Все замечания учтены. Исправления внесены.\n",
    "</div>"
   ]
  }
 ],
 "metadata": {
  "ExecuteTimeLog": [
   {
    "duration": 17374,
    "start_time": "2022-04-14T11:55:49.699Z"
   },
   {
    "duration": 1333,
    "start_time": "2022-04-14T11:56:07.076Z"
   },
   {
    "duration": 4,
    "start_time": "2022-04-14T11:56:08.412Z"
   },
   {
    "duration": 307,
    "start_time": "2022-04-14T11:56:08.418Z"
   },
   {
    "duration": 57,
    "start_time": "2022-04-14T11:56:08.727Z"
   },
   {
    "duration": 329,
    "start_time": "2022-04-14T11:56:08.786Z"
   },
   {
    "duration": 92,
    "start_time": "2022-04-14T11:56:09.117Z"
   },
   {
    "duration": 178,
    "start_time": "2022-04-14T11:56:09.218Z"
   },
   {
    "duration": 24,
    "start_time": "2022-04-14T11:56:09.398Z"
   },
   {
    "duration": 7555,
    "start_time": "2022-04-14T11:56:09.425Z"
   },
   {
    "duration": 65,
    "start_time": "2022-04-14T11:56:16.981Z"
   },
   {
    "duration": 486,
    "start_time": "2022-04-14T11:56:17.048Z"
   },
   {
    "duration": 0,
    "start_time": "2022-04-14T11:56:17.536Z"
   },
   {
    "duration": 0,
    "start_time": "2022-04-14T11:56:17.538Z"
   },
   {
    "duration": 0,
    "start_time": "2022-04-14T11:56:17.540Z"
   },
   {
    "duration": 0,
    "start_time": "2022-04-14T11:56:17.541Z"
   },
   {
    "duration": 0,
    "start_time": "2022-04-14T11:56:17.542Z"
   },
   {
    "duration": 0,
    "start_time": "2022-04-14T11:56:17.544Z"
   },
   {
    "duration": 0,
    "start_time": "2022-04-14T11:56:17.545Z"
   },
   {
    "duration": 0,
    "start_time": "2022-04-14T11:56:17.547Z"
   },
   {
    "duration": 0,
    "start_time": "2022-04-14T11:56:17.549Z"
   },
   {
    "duration": 0,
    "start_time": "2022-04-14T11:56:17.550Z"
   },
   {
    "duration": 0,
    "start_time": "2022-04-14T11:56:17.551Z"
   },
   {
    "duration": 1108,
    "start_time": "2022-04-14T12:00:03.269Z"
   },
   {
    "duration": 4,
    "start_time": "2022-04-14T12:00:04.379Z"
   },
   {
    "duration": 341,
    "start_time": "2022-04-14T12:00:04.385Z"
   },
   {
    "duration": 60,
    "start_time": "2022-04-14T12:00:04.728Z"
   },
   {
    "duration": 341,
    "start_time": "2022-04-14T12:00:04.791Z"
   },
   {
    "duration": 106,
    "start_time": "2022-04-14T12:00:05.134Z"
   },
   {
    "duration": 176,
    "start_time": "2022-04-14T12:00:05.242Z"
   },
   {
    "duration": 16,
    "start_time": "2022-04-14T12:00:05.420Z"
   },
   {
    "duration": 6745,
    "start_time": "2022-04-14T12:00:05.438Z"
   },
   {
    "duration": 55,
    "start_time": "2022-04-14T12:00:12.184Z"
   },
   {
    "duration": 1974,
    "start_time": "2022-04-14T12:00:12.241Z"
   },
   {
    "duration": 29,
    "start_time": "2022-04-14T12:00:14.217Z"
   },
   {
    "duration": 295,
    "start_time": "2022-04-14T12:00:14.248Z"
   },
   {
    "duration": 89,
    "start_time": "2022-04-14T12:00:14.546Z"
   },
   {
    "duration": 105,
    "start_time": "2022-04-14T12:00:14.637Z"
   },
   {
    "duration": 6,
    "start_time": "2022-04-14T12:00:14.744Z"
   },
   {
    "duration": 74,
    "start_time": "2022-04-14T12:00:14.752Z"
   },
   {
    "duration": 14,
    "start_time": "2022-04-14T12:00:14.828Z"
   },
   {
    "duration": 23,
    "start_time": "2022-04-14T12:00:14.843Z"
   },
   {
    "duration": 13,
    "start_time": "2022-04-14T12:00:14.868Z"
   },
   {
    "duration": 11,
    "start_time": "2022-04-14T12:00:14.883Z"
   },
   {
    "duration": 11,
    "start_time": "2022-04-14T12:00:14.919Z"
   },
   {
    "duration": 14,
    "start_time": "2022-04-14T12:01:00.682Z"
   },
   {
    "duration": 17847,
    "start_time": "2022-04-14T12:37:11.337Z"
   },
   {
    "duration": 1147,
    "start_time": "2022-04-14T12:39:03.737Z"
   },
   {
    "duration": 3,
    "start_time": "2022-04-14T12:39:04.888Z"
   },
   {
    "duration": 304,
    "start_time": "2022-04-14T12:39:04.893Z"
   },
   {
    "duration": 70,
    "start_time": "2022-04-14T12:39:05.199Z"
   },
   {
    "duration": 328,
    "start_time": "2022-04-14T12:39:05.272Z"
   },
   {
    "duration": 99,
    "start_time": "2022-04-14T12:39:05.603Z"
   },
   {
    "duration": 189,
    "start_time": "2022-04-14T12:39:05.704Z"
   },
   {
    "duration": 24,
    "start_time": "2022-04-14T12:39:05.895Z"
   },
   {
    "duration": 8715,
    "start_time": "2022-04-14T12:39:05.921Z"
   },
   {
    "duration": 92,
    "start_time": "2022-04-14T12:39:14.639Z"
   },
   {
    "duration": 2995,
    "start_time": "2022-04-14T12:39:14.734Z"
   },
   {
    "duration": 30,
    "start_time": "2022-04-14T12:39:17.731Z"
   },
   {
    "duration": 57,
    "start_time": "2022-04-14T12:39:17.762Z"
   },
   {
    "duration": 143,
    "start_time": "2022-04-14T12:39:17.822Z"
   },
   {
    "duration": 33,
    "start_time": "2022-04-14T12:39:18.019Z"
   },
   {
    "duration": 104,
    "start_time": "2022-04-14T12:39:18.054Z"
   },
   {
    "duration": 64,
    "start_time": "2022-04-14T12:39:18.160Z"
   },
   {
    "duration": 97,
    "start_time": "2022-04-14T12:39:18.226Z"
   },
   {
    "duration": 13,
    "start_time": "2022-04-14T12:39:18.325Z"
   },
   {
    "duration": 19,
    "start_time": "2022-04-14T12:39:18.340Z"
   },
   {
    "duration": 65,
    "start_time": "2022-04-14T12:39:18.361Z"
   },
   {
    "duration": 20,
    "start_time": "2022-04-14T12:39:18.428Z"
   },
   {
    "duration": 16,
    "start_time": "2022-04-14T12:39:18.450Z"
   },
   {
    "duration": 8,
    "start_time": "2022-04-14T12:39:43.006Z"
   },
   {
    "duration": 8,
    "start_time": "2022-04-14T12:41:51.115Z"
   },
   {
    "duration": 6,
    "start_time": "2022-04-14T12:44:16.530Z"
   },
   {
    "duration": 39,
    "start_time": "2022-04-14T12:44:19.372Z"
   },
   {
    "duration": 13,
    "start_time": "2022-04-14T12:44:19.923Z"
   },
   {
    "duration": 13,
    "start_time": "2022-04-14T12:44:22.364Z"
   },
   {
    "duration": 6,
    "start_time": "2022-04-14T12:44:33.866Z"
   },
   {
    "duration": 41,
    "start_time": "2022-04-14T12:44:34.403Z"
   },
   {
    "duration": 14,
    "start_time": "2022-04-14T12:44:34.560Z"
   },
   {
    "duration": 13,
    "start_time": "2022-04-14T12:44:35.930Z"
   },
   {
    "duration": 8,
    "start_time": "2022-04-14T12:45:13.433Z"
   },
   {
    "duration": 6,
    "start_time": "2022-04-14T12:45:43.722Z"
   },
   {
    "duration": 39,
    "start_time": "2022-04-14T12:45:44.187Z"
   },
   {
    "duration": 15,
    "start_time": "2022-04-14T12:45:44.472Z"
   },
   {
    "duration": 8,
    "start_time": "2022-04-14T12:45:44.741Z"
   },
   {
    "duration": 11,
    "start_time": "2022-04-14T12:45:46.156Z"
   },
   {
    "duration": 6,
    "start_time": "2022-04-14T12:46:15.357Z"
   },
   {
    "duration": 41,
    "start_time": "2022-04-14T12:46:15.895Z"
   },
   {
    "duration": 14,
    "start_time": "2022-04-14T12:46:16.098Z"
   },
   {
    "duration": 8,
    "start_time": "2022-04-14T12:46:16.478Z"
   },
   {
    "duration": 11,
    "start_time": "2022-04-14T12:46:17.816Z"
   },
   {
    "duration": 5,
    "start_time": "2022-04-14T12:46:22.977Z"
   },
   {
    "duration": 40,
    "start_time": "2022-04-14T12:46:23.253Z"
   },
   {
    "duration": 13,
    "start_time": "2022-04-14T12:46:23.397Z"
   },
   {
    "duration": 8,
    "start_time": "2022-04-14T12:46:23.556Z"
   },
   {
    "duration": 11,
    "start_time": "2022-04-14T12:46:24.961Z"
   },
   {
    "duration": 0,
    "start_time": "2022-04-15T17:13:09.326Z"
   },
   {
    "duration": 0,
    "start_time": "2022-04-15T17:13:09.328Z"
   },
   {
    "duration": 0,
    "start_time": "2022-04-15T17:13:09.330Z"
   },
   {
    "duration": 0,
    "start_time": "2022-04-15T17:13:09.331Z"
   },
   {
    "duration": 0,
    "start_time": "2022-04-15T17:13:09.333Z"
   },
   {
    "duration": 0,
    "start_time": "2022-04-15T17:13:09.334Z"
   },
   {
    "duration": 0,
    "start_time": "2022-04-15T17:13:09.335Z"
   },
   {
    "duration": 0,
    "start_time": "2022-04-15T17:13:09.337Z"
   },
   {
    "duration": 0,
    "start_time": "2022-04-15T17:13:09.338Z"
   },
   {
    "duration": 0,
    "start_time": "2022-04-15T17:13:09.339Z"
   },
   {
    "duration": 0,
    "start_time": "2022-04-15T17:13:09.341Z"
   },
   {
    "duration": 0,
    "start_time": "2022-04-15T17:13:09.343Z"
   },
   {
    "duration": 0,
    "start_time": "2022-04-15T17:13:09.344Z"
   },
   {
    "duration": 0,
    "start_time": "2022-04-15T17:13:09.346Z"
   },
   {
    "duration": 0,
    "start_time": "2022-04-15T17:13:09.347Z"
   },
   {
    "duration": 0,
    "start_time": "2022-04-15T17:13:09.349Z"
   },
   {
    "duration": 0,
    "start_time": "2022-04-15T17:13:09.350Z"
   },
   {
    "duration": 0,
    "start_time": "2022-04-15T17:13:09.352Z"
   },
   {
    "duration": 0,
    "start_time": "2022-04-15T17:13:09.354Z"
   },
   {
    "duration": 0,
    "start_time": "2022-04-15T17:13:09.355Z"
   },
   {
    "duration": 0,
    "start_time": "2022-04-15T17:13:09.356Z"
   },
   {
    "duration": 0,
    "start_time": "2022-04-15T17:13:09.358Z"
   },
   {
    "duration": 0,
    "start_time": "2022-04-15T17:13:09.359Z"
   },
   {
    "duration": 0,
    "start_time": "2022-04-15T17:13:09.425Z"
   },
   {
    "duration": 0,
    "start_time": "2022-04-15T17:13:09.426Z"
   },
   {
    "duration": 0,
    "start_time": "2022-04-15T17:13:09.428Z"
   },
   {
    "duration": 5,
    "start_time": "2022-04-15T17:13:36.300Z"
   },
   {
    "duration": 1209,
    "start_time": "2022-04-15T17:13:36.308Z"
   },
   {
    "duration": 4,
    "start_time": "2022-04-15T17:13:37.520Z"
   },
   {
    "duration": 221,
    "start_time": "2022-04-15T17:13:37.527Z"
   },
   {
    "duration": 0,
    "start_time": "2022-04-15T17:13:37.751Z"
   },
   {
    "duration": 0,
    "start_time": "2022-04-15T17:13:37.753Z"
   },
   {
    "duration": 0,
    "start_time": "2022-04-15T17:13:37.755Z"
   },
   {
    "duration": 0,
    "start_time": "2022-04-15T17:13:37.756Z"
   },
   {
    "duration": 0,
    "start_time": "2022-04-15T17:13:37.757Z"
   },
   {
    "duration": 0,
    "start_time": "2022-04-15T17:13:37.759Z"
   },
   {
    "duration": 0,
    "start_time": "2022-04-15T17:13:37.761Z"
   },
   {
    "duration": 0,
    "start_time": "2022-04-15T17:13:37.762Z"
   },
   {
    "duration": 0,
    "start_time": "2022-04-15T17:13:37.763Z"
   },
   {
    "duration": 0,
    "start_time": "2022-04-15T17:13:37.765Z"
   },
   {
    "duration": 0,
    "start_time": "2022-04-15T17:13:37.766Z"
   },
   {
    "duration": 0,
    "start_time": "2022-04-15T17:13:37.768Z"
   },
   {
    "duration": 0,
    "start_time": "2022-04-15T17:13:37.769Z"
   },
   {
    "duration": 0,
    "start_time": "2022-04-15T17:13:37.771Z"
   },
   {
    "duration": 0,
    "start_time": "2022-04-15T17:13:37.773Z"
   },
   {
    "duration": 0,
    "start_time": "2022-04-15T17:13:37.774Z"
   },
   {
    "duration": 0,
    "start_time": "2022-04-15T17:13:37.776Z"
   },
   {
    "duration": 0,
    "start_time": "2022-04-15T17:13:37.778Z"
   },
   {
    "duration": 0,
    "start_time": "2022-04-15T17:13:37.824Z"
   },
   {
    "duration": 0,
    "start_time": "2022-04-15T17:13:37.826Z"
   },
   {
    "duration": 0,
    "start_time": "2022-04-15T17:13:37.827Z"
   },
   {
    "duration": 1,
    "start_time": "2022-04-15T17:13:37.828Z"
   },
   {
    "duration": 307,
    "start_time": "2022-04-15T17:13:53.494Z"
   },
   {
    "duration": 74,
    "start_time": "2022-04-15T17:13:54.734Z"
   },
   {
    "duration": 34285,
    "start_time": "2022-04-15T17:13:55.419Z"
   },
   {
    "duration": 131,
    "start_time": "2022-04-15T17:14:29.706Z"
   },
   {
    "duration": 233,
    "start_time": "2022-04-15T17:14:29.840Z"
   },
   {
    "duration": 4,
    "start_time": "2022-04-15T17:14:51.871Z"
   },
   {
    "duration": 1229,
    "start_time": "2022-04-15T17:14:51.878Z"
   },
   {
    "duration": 5,
    "start_time": "2022-04-15T17:14:53.109Z"
   },
   {
    "duration": 316,
    "start_time": "2022-04-15T17:14:53.117Z"
   },
   {
    "duration": 90,
    "start_time": "2022-04-15T17:14:53.435Z"
   },
   {
    "duration": 32642,
    "start_time": "2022-04-15T17:14:53.527Z"
   },
   {
    "duration": 125,
    "start_time": "2022-04-15T17:15:26.171Z"
   },
   {
    "duration": 230,
    "start_time": "2022-04-15T17:15:26.298Z"
   },
   {
    "duration": 9104,
    "start_time": "2022-04-15T17:15:26.532Z"
   },
   {
    "duration": 19,
    "start_time": "2022-04-15T17:15:35.638Z"
   },
   {
    "duration": 9873,
    "start_time": "2022-04-15T17:15:35.659Z"
   },
   {
    "duration": 91,
    "start_time": "2022-04-15T17:15:45.535Z"
   },
   {
    "duration": 18,
    "start_time": "2022-04-15T17:15:45.629Z"
   },
   {
    "duration": 418,
    "start_time": "2022-04-15T17:15:45.649Z"
   },
   {
    "duration": 0,
    "start_time": "2022-04-15T17:15:46.070Z"
   },
   {
    "duration": 0,
    "start_time": "2022-04-15T17:15:46.125Z"
   },
   {
    "duration": 0,
    "start_time": "2022-04-15T17:15:46.127Z"
   },
   {
    "duration": 0,
    "start_time": "2022-04-15T17:15:46.128Z"
   },
   {
    "duration": 0,
    "start_time": "2022-04-15T17:15:46.130Z"
   },
   {
    "duration": 0,
    "start_time": "2022-04-15T17:15:46.132Z"
   },
   {
    "duration": 0,
    "start_time": "2022-04-15T17:15:46.133Z"
   },
   {
    "duration": 0,
    "start_time": "2022-04-15T17:15:46.135Z"
   },
   {
    "duration": 0,
    "start_time": "2022-04-15T17:15:46.136Z"
   },
   {
    "duration": 0,
    "start_time": "2022-04-15T17:15:46.138Z"
   },
   {
    "duration": 0,
    "start_time": "2022-04-15T17:15:46.139Z"
   },
   {
    "duration": 0,
    "start_time": "2022-04-15T17:15:46.141Z"
   },
   {
    "duration": 4,
    "start_time": "2022-04-17T12:48:48.472Z"
   },
   {
    "duration": 867,
    "start_time": "2022-04-17T12:48:48.477Z"
   },
   {
    "duration": 3,
    "start_time": "2022-04-17T12:48:49.346Z"
   },
   {
    "duration": 144,
    "start_time": "2022-04-17T12:48:49.350Z"
   },
   {
    "duration": 0,
    "start_time": "2022-04-17T12:48:49.496Z"
   },
   {
    "duration": 0,
    "start_time": "2022-04-17T12:48:49.498Z"
   },
   {
    "duration": 0,
    "start_time": "2022-04-17T12:48:49.499Z"
   },
   {
    "duration": 0,
    "start_time": "2022-04-17T12:48:49.500Z"
   },
   {
    "duration": 0,
    "start_time": "2022-04-17T12:48:49.501Z"
   },
   {
    "duration": 0,
    "start_time": "2022-04-17T12:48:49.502Z"
   },
   {
    "duration": 1,
    "start_time": "2022-04-17T12:48:49.502Z"
   },
   {
    "duration": 0,
    "start_time": "2022-04-17T12:48:49.504Z"
   },
   {
    "duration": 0,
    "start_time": "2022-04-17T12:48:49.505Z"
   },
   {
    "duration": 0,
    "start_time": "2022-04-17T12:48:49.506Z"
   },
   {
    "duration": 0,
    "start_time": "2022-04-17T12:48:49.507Z"
   },
   {
    "duration": 0,
    "start_time": "2022-04-17T12:48:49.508Z"
   },
   {
    "duration": 1,
    "start_time": "2022-04-17T12:48:49.508Z"
   },
   {
    "duration": 0,
    "start_time": "2022-04-17T12:48:49.510Z"
   },
   {
    "duration": 0,
    "start_time": "2022-04-17T12:48:49.511Z"
   },
   {
    "duration": 0,
    "start_time": "2022-04-17T12:48:49.512Z"
   },
   {
    "duration": 0,
    "start_time": "2022-04-17T12:48:49.513Z"
   },
   {
    "duration": 0,
    "start_time": "2022-04-17T12:48:49.513Z"
   },
   {
    "duration": 0,
    "start_time": "2022-04-17T12:48:49.548Z"
   },
   {
    "duration": 0,
    "start_time": "2022-04-17T12:48:49.549Z"
   },
   {
    "duration": 0,
    "start_time": "2022-04-17T12:48:49.550Z"
   },
   {
    "duration": 0,
    "start_time": "2022-04-17T12:48:49.551Z"
   },
   {
    "duration": 3,
    "start_time": "2022-04-17T12:49:11.911Z"
   },
   {
    "duration": 927,
    "start_time": "2022-04-17T12:49:11.916Z"
   },
   {
    "duration": 3,
    "start_time": "2022-04-17T12:49:12.847Z"
   },
   {
    "duration": 202,
    "start_time": "2022-04-17T12:49:12.851Z"
   },
   {
    "duration": 51,
    "start_time": "2022-04-17T12:49:13.054Z"
   },
   {
    "duration": 14674,
    "start_time": "2022-04-17T12:49:13.107Z"
   },
   {
    "duration": 73,
    "start_time": "2022-04-17T12:49:27.783Z"
   },
   {
    "duration": 136,
    "start_time": "2022-04-17T12:49:27.857Z"
   },
   {
    "duration": 2124,
    "start_time": "2022-04-17T12:49:27.995Z"
   },
   {
    "duration": 35,
    "start_time": "2022-04-17T12:49:30.122Z"
   },
   {
    "duration": 5376,
    "start_time": "2022-04-17T12:49:30.158Z"
   },
   {
    "duration": 31,
    "start_time": "2022-04-17T12:49:35.536Z"
   },
   {
    "duration": 84,
    "start_time": "2022-04-17T12:49:35.569Z"
   },
   {
    "duration": 1386,
    "start_time": "2022-04-17T12:49:35.654Z"
   },
   {
    "duration": 28,
    "start_time": "2022-04-17T12:49:37.041Z"
   },
   {
    "duration": 293,
    "start_time": "2022-04-17T12:49:37.071Z"
   },
   {
    "duration": 0,
    "start_time": "2022-04-17T12:49:37.366Z"
   },
   {
    "duration": 0,
    "start_time": "2022-04-17T12:49:37.367Z"
   },
   {
    "duration": 0,
    "start_time": "2022-04-17T12:49:37.368Z"
   },
   {
    "duration": 0,
    "start_time": "2022-04-17T12:49:37.370Z"
   },
   {
    "duration": 0,
    "start_time": "2022-04-17T12:49:37.370Z"
   },
   {
    "duration": 0,
    "start_time": "2022-04-17T12:49:37.371Z"
   },
   {
    "duration": 0,
    "start_time": "2022-04-17T12:49:37.372Z"
   },
   {
    "duration": 0,
    "start_time": "2022-04-17T12:49:37.373Z"
   },
   {
    "duration": 0,
    "start_time": "2022-04-17T12:49:37.374Z"
   },
   {
    "duration": 0,
    "start_time": "2022-04-17T12:49:37.376Z"
   },
   {
    "duration": 93828,
    "start_time": "2022-04-17T12:54:37.577Z"
   },
   {
    "duration": 931,
    "start_time": "2022-04-17T12:57:14.524Z"
   },
   {
    "duration": 3,
    "start_time": "2022-04-17T12:57:15.457Z"
   },
   {
    "duration": 208,
    "start_time": "2022-04-17T12:57:15.461Z"
   },
   {
    "duration": 54,
    "start_time": "2022-04-17T12:57:15.671Z"
   },
   {
    "duration": 16185,
    "start_time": "2022-04-17T12:57:15.727Z"
   },
   {
    "duration": 84,
    "start_time": "2022-04-17T12:57:31.914Z"
   },
   {
    "duration": 141,
    "start_time": "2022-04-17T12:57:32.000Z"
   },
   {
    "duration": 551,
    "start_time": "2022-04-17T12:57:32.147Z"
   },
   {
    "duration": 15,
    "start_time": "2022-04-17T12:57:32.700Z"
   },
   {
    "duration": 5442,
    "start_time": "2022-04-17T12:57:32.717Z"
   },
   {
    "duration": 20,
    "start_time": "2022-04-17T12:57:38.162Z"
   },
   {
    "duration": 23,
    "start_time": "2022-04-17T12:57:38.183Z"
   },
   {
    "duration": 1133,
    "start_time": "2022-04-17T12:57:38.208Z"
   },
   {
    "duration": 27,
    "start_time": "2022-04-17T12:57:39.347Z"
   },
   {
    "duration": 149,
    "start_time": "2022-04-17T12:57:39.375Z"
   },
   {
    "duration": 0,
    "start_time": "2022-04-17T12:57:39.525Z"
   },
   {
    "duration": 0,
    "start_time": "2022-04-17T12:57:39.526Z"
   },
   {
    "duration": 0,
    "start_time": "2022-04-17T12:57:39.528Z"
   },
   {
    "duration": 0,
    "start_time": "2022-04-17T12:57:39.529Z"
   },
   {
    "duration": 0,
    "start_time": "2022-04-17T12:57:39.530Z"
   },
   {
    "duration": 0,
    "start_time": "2022-04-17T12:57:39.531Z"
   },
   {
    "duration": 0,
    "start_time": "2022-04-17T12:57:39.532Z"
   },
   {
    "duration": 0,
    "start_time": "2022-04-17T12:57:39.532Z"
   },
   {
    "duration": 0,
    "start_time": "2022-04-17T12:57:39.533Z"
   },
   {
    "duration": 0,
    "start_time": "2022-04-17T12:57:39.534Z"
   },
   {
    "duration": 10175,
    "start_time": "2022-04-17T12:58:30.013Z"
   },
   {
    "duration": 75944,
    "start_time": "2022-04-17T12:59:47.619Z"
   },
   {
    "duration": 851,
    "start_time": "2022-04-17T13:01:13.496Z"
   },
   {
    "duration": 3,
    "start_time": "2022-04-17T13:01:14.350Z"
   },
   {
    "duration": 231,
    "start_time": "2022-04-17T13:01:14.355Z"
   },
   {
    "duration": 89,
    "start_time": "2022-04-17T13:01:14.589Z"
   },
   {
    "duration": 25101,
    "start_time": "2022-04-17T13:01:14.680Z"
   },
   {
    "duration": 121,
    "start_time": "2022-04-17T13:01:39.783Z"
   },
   {
    "duration": 205,
    "start_time": "2022-04-17T13:01:39.907Z"
   },
   {
    "duration": 749,
    "start_time": "2022-04-17T13:01:40.115Z"
   },
   {
    "duration": 16,
    "start_time": "2022-04-17T13:01:40.866Z"
   },
   {
    "duration": 5402,
    "start_time": "2022-04-17T13:01:40.884Z"
   },
   {
    "duration": 19,
    "start_time": "2022-04-17T13:01:46.287Z"
   },
   {
    "duration": 60,
    "start_time": "2022-04-17T13:01:46.308Z"
   },
   {
    "duration": 1498,
    "start_time": "2022-04-17T13:01:46.370Z"
   },
   {
    "duration": 27,
    "start_time": "2022-04-17T13:01:47.870Z"
   },
   {
    "duration": 161,
    "start_time": "2022-04-17T13:01:47.899Z"
   },
   {
    "duration": 29,
    "start_time": "2022-04-17T13:01:48.062Z"
   },
   {
    "duration": 74,
    "start_time": "2022-04-17T13:01:48.092Z"
   },
   {
    "duration": 99,
    "start_time": "2022-04-17T13:01:48.168Z"
   },
   {
    "duration": 5,
    "start_time": "2022-04-17T13:01:48.269Z"
   },
   {
    "duration": 109,
    "start_time": "2022-04-17T13:01:48.276Z"
   },
   {
    "duration": 9,
    "start_time": "2022-04-17T13:01:48.387Z"
   },
   {
    "duration": 11,
    "start_time": "2022-04-17T13:01:48.398Z"
   },
   {
    "duration": 12,
    "start_time": "2022-04-17T13:01:48.411Z"
   },
   {
    "duration": 23,
    "start_time": "2022-04-17T13:01:48.424Z"
   },
   {
    "duration": 8,
    "start_time": "2022-04-17T13:01:48.449Z"
   },
   {
    "duration": 7,
    "start_time": "2022-04-17T13:04:04.676Z"
   },
   {
    "duration": 6,
    "start_time": "2022-04-17T13:05:22.988Z"
   },
   {
    "duration": 56,
    "start_time": "2022-04-17T13:05:25.876Z"
   },
   {
    "duration": 12,
    "start_time": "2022-04-17T13:05:26.389Z"
   },
   {
    "duration": 144,
    "start_time": "2022-04-17T13:05:29.668Z"
   },
   {
    "duration": 5,
    "start_time": "2022-04-17T13:05:54.756Z"
   },
   {
    "duration": 53,
    "start_time": "2022-04-17T13:05:55.542Z"
   },
   {
    "duration": 11,
    "start_time": "2022-04-17T13:05:56.155Z"
   },
   {
    "duration": 11,
    "start_time": "2022-04-17T13:05:58.409Z"
   },
   {
    "duration": 6,
    "start_time": "2022-04-17T13:06:19.800Z"
   },
   {
    "duration": 6,
    "start_time": "2022-04-17T13:06:24.210Z"
   },
   {
    "duration": 7,
    "start_time": "2022-04-17T13:07:00.750Z"
   },
   {
    "duration": 17,
    "start_time": "2022-04-17T13:07:25.930Z"
   },
   {
    "duration": 13,
    "start_time": "2022-04-17T13:07:28.799Z"
   },
   {
    "duration": 6,
    "start_time": "2022-04-17T13:07:36.666Z"
   },
   {
    "duration": 13,
    "start_time": "2022-04-17T13:08:06.835Z"
   },
   {
    "duration": 9,
    "start_time": "2022-04-17T13:08:19.650Z"
   },
   {
    "duration": 5,
    "start_time": "2022-04-17T13:11:00.298Z"
   },
   {
    "duration": 53,
    "start_time": "2022-04-17T13:11:00.857Z"
   },
   {
    "duration": 11,
    "start_time": "2022-04-17T13:11:01.284Z"
   },
   {
    "duration": 7,
    "start_time": "2022-04-17T13:11:02.022Z"
   },
   {
    "duration": 7,
    "start_time": "2022-04-17T13:11:02.277Z"
   },
   {
    "duration": 10,
    "start_time": "2022-04-17T13:11:04.691Z"
   },
   {
    "duration": 20,
    "start_time": "2022-04-17T13:17:43.314Z"
   },
   {
    "duration": 30,
    "start_time": "2022-04-17T13:17:43.706Z"
   },
   {
    "duration": 23,
    "start_time": "2022-04-17T13:18:28.556Z"
   },
   {
    "duration": 17,
    "start_time": "2022-04-17T13:18:49.979Z"
   },
   {
    "duration": 23,
    "start_time": "2022-04-17T13:18:57.356Z"
   },
   {
    "duration": 16,
    "start_time": "2022-04-17T13:19:14.274Z"
   },
   {
    "duration": 24,
    "start_time": "2022-04-17T13:19:15.252Z"
   },
   {
    "duration": 945,
    "start_time": "2022-04-17T13:33:32.253Z"
   },
   {
    "duration": 4,
    "start_time": "2022-04-17T13:33:33.199Z"
   },
   {
    "duration": 237,
    "start_time": "2022-04-17T13:33:33.204Z"
   },
   {
    "duration": 82,
    "start_time": "2022-04-17T13:33:33.443Z"
   },
   {
    "duration": 16254,
    "start_time": "2022-04-17T13:33:33.527Z"
   },
   {
    "duration": 78,
    "start_time": "2022-04-17T13:33:49.784Z"
   },
   {
    "duration": 154,
    "start_time": "2022-04-17T13:33:49.864Z"
   },
   {
    "duration": 450,
    "start_time": "2022-04-17T13:33:50.020Z"
   },
   {
    "duration": 19,
    "start_time": "2022-04-17T13:33:50.472Z"
   },
   {
    "duration": 6352,
    "start_time": "2022-04-17T13:33:50.494Z"
   },
   {
    "duration": 44,
    "start_time": "2022-04-17T13:33:56.849Z"
   },
   {
    "duration": 96,
    "start_time": "2022-04-17T13:33:56.895Z"
   },
   {
    "duration": 2101,
    "start_time": "2022-04-17T13:33:56.993Z"
   },
   {
    "duration": 82,
    "start_time": "2022-04-17T13:33:59.097Z"
   },
   {
    "duration": 321,
    "start_time": "2022-04-17T13:33:59.181Z"
   },
   {
    "duration": 0,
    "start_time": "2022-04-17T13:33:59.504Z"
   },
   {
    "duration": 0,
    "start_time": "2022-04-17T13:33:59.506Z"
   },
   {
    "duration": 0,
    "start_time": "2022-04-17T13:33:59.508Z"
   },
   {
    "duration": 0,
    "start_time": "2022-04-17T13:33:59.510Z"
   },
   {
    "duration": 0,
    "start_time": "2022-04-17T13:33:59.511Z"
   },
   {
    "duration": 0,
    "start_time": "2022-04-17T13:33:59.513Z"
   },
   {
    "duration": 0,
    "start_time": "2022-04-17T13:33:59.516Z"
   },
   {
    "duration": 0,
    "start_time": "2022-04-17T13:33:59.576Z"
   },
   {
    "duration": 0,
    "start_time": "2022-04-17T13:33:59.577Z"
   },
   {
    "duration": 1,
    "start_time": "2022-04-17T13:33:59.577Z"
   },
   {
    "duration": 72,
    "start_time": "2022-04-17T13:34:36.795Z"
   },
   {
    "duration": 34,
    "start_time": "2022-04-17T13:35:14.091Z"
   },
   {
    "duration": 899,
    "start_time": "2022-04-17T13:43:23.514Z"
   },
   {
    "duration": 4,
    "start_time": "2022-04-17T13:43:24.415Z"
   },
   {
    "duration": 227,
    "start_time": "2022-04-17T13:43:24.421Z"
   },
   {
    "duration": 75,
    "start_time": "2022-04-17T13:43:24.650Z"
   },
   {
    "duration": 16070,
    "start_time": "2022-04-17T13:43:24.727Z"
   },
   {
    "duration": 89,
    "start_time": "2022-04-17T13:43:40.798Z"
   },
   {
    "duration": 165,
    "start_time": "2022-04-17T13:43:40.889Z"
   },
   {
    "duration": 441,
    "start_time": "2022-04-17T13:43:41.055Z"
   },
   {
    "duration": 20,
    "start_time": "2022-04-17T13:43:41.498Z"
   },
   {
    "duration": 6053,
    "start_time": "2022-04-17T13:43:41.520Z"
   },
   {
    "duration": 23,
    "start_time": "2022-04-17T13:43:47.575Z"
   },
   {
    "duration": 86,
    "start_time": "2022-04-17T13:43:47.600Z"
   },
   {
    "duration": 1944,
    "start_time": "2022-04-17T13:43:47.687Z"
   },
   {
    "duration": 62,
    "start_time": "2022-04-17T13:43:49.673Z"
   },
   {
    "duration": 81,
    "start_time": "2022-04-17T13:43:49.737Z"
   },
   {
    "duration": 36,
    "start_time": "2022-04-17T13:43:49.819Z"
   },
   {
    "duration": 28,
    "start_time": "2022-04-17T13:43:49.858Z"
   },
   {
    "duration": 51,
    "start_time": "2022-04-17T13:43:49.888Z"
   },
   {
    "duration": 5,
    "start_time": "2022-04-17T13:43:49.941Z"
   },
   {
    "duration": 76,
    "start_time": "2022-04-17T13:43:49.948Z"
   },
   {
    "duration": 13,
    "start_time": "2022-04-17T13:43:50.026Z"
   },
   {
    "duration": 875,
    "start_time": "2022-04-17T13:43:50.041Z"
   },
   {
    "duration": 10,
    "start_time": "2022-04-17T13:43:50.917Z"
   },
   {
    "duration": 10,
    "start_time": "2022-04-17T13:43:50.929Z"
   },
   {
    "duration": 12,
    "start_time": "2022-04-17T13:43:50.940Z"
   },
   {
    "duration": 1068,
    "start_time": "2022-04-17T13:50:44.476Z"
   },
   {
    "duration": 5,
    "start_time": "2022-04-17T13:50:45.547Z"
   },
   {
    "duration": 791,
    "start_time": "2022-04-17T13:50:45.554Z"
   },
   {
    "duration": 67,
    "start_time": "2022-04-17T13:50:46.347Z"
   },
   {
    "duration": 16162,
    "start_time": "2022-04-17T13:50:46.416Z"
   },
   {
    "duration": 99,
    "start_time": "2022-04-17T13:51:02.580Z"
   },
   {
    "duration": 174,
    "start_time": "2022-04-17T13:51:02.680Z"
   },
   {
    "duration": 459,
    "start_time": "2022-04-17T13:51:02.855Z"
   },
   {
    "duration": 21,
    "start_time": "2022-04-17T13:51:03.317Z"
   },
   {
    "duration": 6128,
    "start_time": "2022-04-17T13:51:03.378Z"
   },
   {
    "duration": 25,
    "start_time": "2022-04-17T13:51:09.507Z"
   },
   {
    "duration": 38,
    "start_time": "2022-04-17T13:51:09.576Z"
   },
   {
    "duration": 1892,
    "start_time": "2022-04-17T13:51:09.616Z"
   },
   {
    "duration": 77,
    "start_time": "2022-04-17T13:51:11.511Z"
   },
   {
    "duration": 124,
    "start_time": "2022-04-17T13:51:11.591Z"
   },
   {
    "duration": 91,
    "start_time": "2022-04-17T13:51:11.717Z"
   },
   {
    "duration": 87,
    "start_time": "2022-04-17T13:51:11.810Z"
   },
   {
    "duration": 116,
    "start_time": "2022-04-17T13:51:11.900Z"
   },
   {
    "duration": 57,
    "start_time": "2022-04-17T13:51:12.017Z"
   },
   {
    "duration": 122,
    "start_time": "2022-04-17T13:51:12.082Z"
   },
   {
    "duration": 11,
    "start_time": "2022-04-17T13:51:12.206Z"
   },
   {
    "duration": 14,
    "start_time": "2022-04-17T13:51:12.219Z"
   },
   {
    "duration": 101,
    "start_time": "2022-04-17T13:51:12.235Z"
   },
   {
    "duration": 0,
    "start_time": "2022-04-17T13:51:12.338Z"
   },
   {
    "duration": 0,
    "start_time": "2022-04-17T13:51:12.339Z"
   },
   {
    "duration": 0,
    "start_time": "2022-04-17T13:51:12.341Z"
   },
   {
    "duration": 973,
    "start_time": "2022-04-17T13:51:47.248Z"
   },
   {
    "duration": 3,
    "start_time": "2022-04-17T13:51:48.223Z"
   },
   {
    "duration": 241,
    "start_time": "2022-04-17T13:51:48.227Z"
   },
   {
    "duration": 60,
    "start_time": "2022-04-17T13:51:48.473Z"
   },
   {
    "duration": 16418,
    "start_time": "2022-04-17T13:51:48.535Z"
   },
   {
    "duration": 103,
    "start_time": "2022-04-17T13:52:04.955Z"
   },
   {
    "duration": 194,
    "start_time": "2022-04-17T13:52:05.061Z"
   },
   {
    "duration": 531,
    "start_time": "2022-04-17T13:52:05.257Z"
   },
   {
    "duration": 22,
    "start_time": "2022-04-17T13:52:05.791Z"
   },
   {
    "duration": 6695,
    "start_time": "2022-04-17T13:52:05.815Z"
   },
   {
    "duration": 22,
    "start_time": "2022-04-17T13:52:12.513Z"
   },
   {
    "duration": 52,
    "start_time": "2022-04-17T13:52:12.536Z"
   },
   {
    "duration": 1507,
    "start_time": "2022-04-17T13:52:12.591Z"
   },
   {
    "duration": 39,
    "start_time": "2022-04-17T13:52:14.101Z"
   },
   {
    "duration": 100,
    "start_time": "2022-04-17T13:52:14.142Z"
   },
   {
    "duration": 39,
    "start_time": "2022-04-17T13:52:14.244Z"
   },
   {
    "duration": 26,
    "start_time": "2022-04-17T13:52:14.285Z"
   },
   {
    "duration": 53,
    "start_time": "2022-04-17T13:52:14.313Z"
   },
   {
    "duration": 5,
    "start_time": "2022-04-17T13:52:14.368Z"
   },
   {
    "duration": 950,
    "start_time": "2022-04-17T13:52:14.375Z"
   },
   {
    "duration": 17,
    "start_time": "2022-04-17T13:52:15.328Z"
   },
   {
    "duration": 18,
    "start_time": "2022-04-17T13:52:15.347Z"
   },
   {
    "duration": 17,
    "start_time": "2022-04-17T13:52:15.367Z"
   },
   {
    "duration": 26,
    "start_time": "2022-04-17T13:52:15.386Z"
   },
   {
    "duration": 16,
    "start_time": "2022-04-17T13:52:15.414Z"
   }
  ],
  "kernelspec": {
   "display_name": "Python 3 (ipykernel)",
   "language": "python",
   "name": "python3"
  },
  "language_info": {
   "codemirror_mode": {
    "name": "ipython",
    "version": 3
   },
   "file_extension": ".py",
   "mimetype": "text/x-python",
   "name": "python",
   "nbconvert_exporter": "python",
   "pygments_lexer": "ipython3",
   "version": "3.9.5"
  },
  "toc": {
   "base_numbering": 1,
   "nav_menu": {},
   "number_sections": true,
   "sideBar": true,
   "skip_h1_title": true,
   "title_cell": "Table of Contents",
   "title_sidebar": "Contents",
   "toc_cell": false,
   "toc_position": {},
   "toc_section_display": true,
   "toc_window_display": false
  }
 },
 "nbformat": 4,
 "nbformat_minor": 1
}