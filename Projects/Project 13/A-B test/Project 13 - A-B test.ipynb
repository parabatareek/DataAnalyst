{
 "cells": [
  {
   "cell_type": "markdown",
   "source": [
    "# Проект A\\B-test #"
   ],
   "metadata": {
    "collapsed": false,
    "pycharm": {
     "name": "#%% md\n"
    }
   }
  },
  {
   "cell_type": "markdown",
   "source": [
    "# Содержание #"
   ],
   "metadata": {
    "collapsed": false,
    "pycharm": {
     "name": "#%% md\n"
    }
   }
  },
  {
   "cell_type": "markdown",
   "source": [
    "<a id='purpose'></a>\n",
    "# Цель проекта #\n",
    "1. оценка корректности проведения A\\B-теста\n",
    "\n",
    "2. анализ результатов A\\B-теста"
   ],
   "metadata": {
    "collapsed": false,
    "pycharm": {
     "name": "#%% md\n"
    }
   }
  },
  {
   "cell_type": "markdown",
   "source": [
    "<a id='specification'></a>\n",
    "# Техническое задание #\n",
    "Название теста: recommender_system_test;\n",
    "\n",
    "Группы:\n",
    "    * А (контрольная)\n",
    "    * B (новая платёжная воронка);\n",
    "Дата запуска: 2020-12-07;\n",
    "\n",
    "Дата остановки набора новых пользователей: 2020-12-21;\n",
    "\n",
    "Дата остановки: 2021-01-04;\n",
    "\n",
    "Аудитория: 15% новых пользователей из региона EU;\n",
    "\n",
    "Назначение теста: тестирование изменений, связанных с внедрением улучшенной рекомендательной системы;\n",
    "\n",
    "Ожидаемое количество участников теста: 6000.\n",
    "\n",
    "Ожидаемый эффект: за 14 дней с момента регистрации в системе пользователи покажут улучшение каждой метрики не менее, чем на 10%:\n",
    "    * конверсии в просмотр карточек товаров — событие product_page\n",
    "    * просмотры корзины — product_cart\n",
    "    * покупки — purchase."
   ],
   "metadata": {
    "collapsed": false,
    "pycharm": {
     "name": "#%% md\n"
    }
   }
  },
  {
   "cell_type": "markdown",
   "source": [
    "<a id='data_descriptions'></>\n",
    "# Описание данных #\n",
    "\n",
    "<b>/datasets/ab_project_marketing_events.csv — календарь маркетинговых событий на 2020 год</b>\n",
    "    * name — название маркетингового события;\n",
    "    * regions — регионы, в которых будет проводиться рекламная кампания;\n",
    "    * start_dt — дата начала кампании;\n",
    "    * finish_dt — дата завершения кампании.\n",
    "\n",
    "<b>/datasets/final_ab_new_users.csv — все пользователи, зарегистрировавшиеся в интернет-магазине в период с 7 по 21 декабря 2020 года</b>\n",
    "    * user_id — идентификатор пользователя;\n",
    "    * first_date — дата регистрации;\n",
    "    * region — регион пользователя;\n",
    "    * device — устройство, с которого происходила регистрация.\n",
    "\n",
    "<b>/datasets/final_ab_events.csv — все события новых пользователей в период с 7 декабря 2020 по 4 января 2021 года</b>\n",
    "    * user_id — идентификатор пользователя;\n",
    "    * event_dt — дата и время события;\n",
    "    * event_name — тип события;\n",
    "    * details — дополнительные данные о событии. Например, для покупок, purchase, в этом поле хранится стоимость покупки в долларах.\n",
    "\n",
    "<b>/datasets/final_ab_participants.csv — таблица участников тестов</b>\n",
    "    * user_id — идентификатор пользователя;\n",
    "    * ab_test — название теста;\n",
    "    * group — группа пользователя."
   ],
   "metadata": {
    "collapsed": false,
    "pycharm": {
     "name": "#%% md\n"
    }
   }
  },
  {
   "cell_type": "markdown",
   "source": [
    "<a id='setup'></a>\n",
    "# Установка библиотек #"
   ],
   "metadata": {
    "collapsed": false,
    "pycharm": {
     "name": "#%% md\n"
    }
   }
  },
  {
   "cell_type": "code",
   "execution_count": 1,
   "outputs": [],
   "source": [
    "# !pip install --user plotly==5.8.0\n",
    "# !pip install --user plotly_express\n",
    "## !pip install --user pandas-profiling"
   ],
   "metadata": {
    "collapsed": false,
    "pycharm": {
     "name": "#%%\n"
    }
   }
  },
  {
   "cell_type": "markdown",
   "source": [
    "<a id='import'></a>\n",
    "# Импорт библиотек #"
   ],
   "metadata": {
    "collapsed": false,
    "pycharm": {
     "name": "#%% md\n"
    }
   }
  },
  {
   "cell_type": "code",
   "execution_count": 2,
   "outputs": [],
   "source": [
    "import os\n",
    "import warnings\n",
    "import  pandas as pd\n",
    "from IPython.core.display_functions import display\n",
    "\n",
    "pd.set_option('display.max_colwidth', None)\n",
    "warnings.filterwarnings('ignore')"
   ],
   "metadata": {
    "collapsed": false,
    "pycharm": {
     "name": "#%%\n"
    }
   }
  },
  {
   "cell_type": "markdown",
   "source": [
    "<a id='load'></a>\n",
    "# Загрузка данных #"
   ],
   "metadata": {
    "collapsed": false,
    "pycharm": {
     "name": "#%% md\n"
    }
   }
  },
  {
   "cell_type": "markdown",
   "source": [
    "<a id='load_func'></a>\n",
    "## Функция проверки путей к файлам данных ##"
   ],
   "metadata": {
    "collapsed": false,
    "pycharm": {
     "name": "#%% md\n"
    }
   }
  },
  {
   "cell_type": "code",
   "execution_count": 3,
   "outputs": [],
   "source": [
    "def get_path(filename):\n",
    "    path_local = 'datasets/'\n",
    "    path_server = '/datasets/'\n",
    "\n",
    "    if os.path.exists(path=path_local): return path_local + filename\n",
    "    elif os.path.exists(path=path_server): return path_server + filename\n",
    "    else: print('Данные отсутствуют. Проверьте путь к папкам с данными')"
   ],
   "metadata": {
    "collapsed": false,
    "pycharm": {
     "name": "#%%\n"
    }
   }
  },
  {
   "cell_type": "code",
   "execution_count": 4,
   "outputs": [],
   "source": [
    "marketing_events = pd.read_csv(filepath_or_buffer=get_path(filename='ab_project_marketing_events.csv'))\n",
    "ab_events = pd.read_csv(filepath_or_buffer=get_path(filename='final_ab_events.csv'))\n",
    "ab_new_user = pd.read_csv(filepath_or_buffer=get_path(filename='final_ab_new_users.csv'))\n",
    "ab_participants = pd.read_csv(filepath_or_buffer=get_path(filename='final_ab_participants.csv'))"
   ],
   "metadata": {
    "collapsed": false,
    "pycharm": {
     "name": "#%%\n"
    }
   }
  },
  {
   "cell_type": "markdown",
   "source": [
    "<a id='load_preview'></a>\n",
    "## Первичный осмотр данных ##"
   ],
   "metadata": {
    "collapsed": false,
    "pycharm": {
     "name": "#%% md\n"
    }
   }
  },
  {
   "cell_type": "code",
   "execution_count": 5,
   "outputs": [
    {
     "data": {
      "text/plain": "                           name                   regions    start_dt  \\\n0      Christmas&New Year Promo             EU, N.America  2020-12-25   \n1  St. Valentine's Day Giveaway  EU, CIS, APAC, N.America  2020-02-14   \n2        St. Patric's Day Promo             EU, N.America  2020-03-17   \n3                  Easter Promo  EU, CIS, APAC, N.America  2020-04-12   \n4             4th of July Promo                 N.America  2020-07-04   \n\n    finish_dt  \n0  2021-01-03  \n1  2020-02-16  \n2  2020-03-19  \n3  2020-04-19  \n4  2020-07-11  ",
      "text/html": "<div>\n<style scoped>\n    .dataframe tbody tr th:only-of-type {\n        vertical-align: middle;\n    }\n\n    .dataframe tbody tr th {\n        vertical-align: top;\n    }\n\n    .dataframe thead th {\n        text-align: right;\n    }\n</style>\n<table border=\"1\" class=\"dataframe\">\n  <thead>\n    <tr style=\"text-align: right;\">\n      <th></th>\n      <th>name</th>\n      <th>regions</th>\n      <th>start_dt</th>\n      <th>finish_dt</th>\n    </tr>\n  </thead>\n  <tbody>\n    <tr>\n      <th>0</th>\n      <td>Christmas&amp;New Year Promo</td>\n      <td>EU, N.America</td>\n      <td>2020-12-25</td>\n      <td>2021-01-03</td>\n    </tr>\n    <tr>\n      <th>1</th>\n      <td>St. Valentine's Day Giveaway</td>\n      <td>EU, CIS, APAC, N.America</td>\n      <td>2020-02-14</td>\n      <td>2020-02-16</td>\n    </tr>\n    <tr>\n      <th>2</th>\n      <td>St. Patric's Day Promo</td>\n      <td>EU, N.America</td>\n      <td>2020-03-17</td>\n      <td>2020-03-19</td>\n    </tr>\n    <tr>\n      <th>3</th>\n      <td>Easter Promo</td>\n      <td>EU, CIS, APAC, N.America</td>\n      <td>2020-04-12</td>\n      <td>2020-04-19</td>\n    </tr>\n    <tr>\n      <th>4</th>\n      <td>4th of July Promo</td>\n      <td>N.America</td>\n      <td>2020-07-04</td>\n      <td>2020-07-11</td>\n    </tr>\n  </tbody>\n</table>\n</div>"
     },
     "metadata": {},
     "output_type": "display_data"
    },
    {
     "name": "stdout",
     "output_type": "stream",
     "text": [
      "<class 'pandas.core.frame.DataFrame'>\n",
      "RangeIndex: 14 entries, 0 to 13\n",
      "Data columns (total 4 columns):\n",
      " #   Column     Non-Null Count  Dtype \n",
      "---  ------     --------------  ----- \n",
      " 0   name       14 non-null     object\n",
      " 1   regions    14 non-null     object\n",
      " 2   start_dt   14 non-null     object\n",
      " 3   finish_dt  14 non-null     object\n",
      "dtypes: object(4)\n",
      "memory usage: 576.0+ bytes\n",
      "None\n"
     ]
    }
   ],
   "source": [
    "display(marketing_events.head())\n",
    "print(marketing_events.info())"
   ],
   "metadata": {
    "collapsed": false,
    "pycharm": {
     "name": "#%%\n"
    }
   }
  },
  {
   "cell_type": "code",
   "execution_count": 6,
   "outputs": [
    {
     "data": {
      "text/plain": "            user_id             event_dt event_name  details\n0  E1BDDCE0DAFA2679  2020-12-07 20:22:03   purchase    99.99\n1  7B6452F081F49504  2020-12-07 09:22:53   purchase     9.99\n2  9CD9F34546DF254C  2020-12-07 12:59:29   purchase     4.99\n3  96F27A054B191457  2020-12-07 04:02:40   purchase     4.99\n4  1FD7660FDF94CA1F  2020-12-07 10:15:09   purchase     4.99",
      "text/html": "<div>\n<style scoped>\n    .dataframe tbody tr th:only-of-type {\n        vertical-align: middle;\n    }\n\n    .dataframe tbody tr th {\n        vertical-align: top;\n    }\n\n    .dataframe thead th {\n        text-align: right;\n    }\n</style>\n<table border=\"1\" class=\"dataframe\">\n  <thead>\n    <tr style=\"text-align: right;\">\n      <th></th>\n      <th>user_id</th>\n      <th>event_dt</th>\n      <th>event_name</th>\n      <th>details</th>\n    </tr>\n  </thead>\n  <tbody>\n    <tr>\n      <th>0</th>\n      <td>E1BDDCE0DAFA2679</td>\n      <td>2020-12-07 20:22:03</td>\n      <td>purchase</td>\n      <td>99.99</td>\n    </tr>\n    <tr>\n      <th>1</th>\n      <td>7B6452F081F49504</td>\n      <td>2020-12-07 09:22:53</td>\n      <td>purchase</td>\n      <td>9.99</td>\n    </tr>\n    <tr>\n      <th>2</th>\n      <td>9CD9F34546DF254C</td>\n      <td>2020-12-07 12:59:29</td>\n      <td>purchase</td>\n      <td>4.99</td>\n    </tr>\n    <tr>\n      <th>3</th>\n      <td>96F27A054B191457</td>\n      <td>2020-12-07 04:02:40</td>\n      <td>purchase</td>\n      <td>4.99</td>\n    </tr>\n    <tr>\n      <th>4</th>\n      <td>1FD7660FDF94CA1F</td>\n      <td>2020-12-07 10:15:09</td>\n      <td>purchase</td>\n      <td>4.99</td>\n    </tr>\n  </tbody>\n</table>\n</div>"
     },
     "metadata": {},
     "output_type": "display_data"
    },
    {
     "name": "stdout",
     "output_type": "stream",
     "text": [
      "<class 'pandas.core.frame.DataFrame'>\n",
      "RangeIndex: 440317 entries, 0 to 440316\n",
      "Data columns (total 4 columns):\n",
      " #   Column      Non-Null Count   Dtype  \n",
      "---  ------      --------------   -----  \n",
      " 0   user_id     440317 non-null  object \n",
      " 1   event_dt    440317 non-null  object \n",
      " 2   event_name  440317 non-null  object \n",
      " 3   details     62740 non-null   float64\n",
      "dtypes: float64(1), object(3)\n",
      "memory usage: 13.4+ MB\n",
      "None\n"
     ]
    }
   ],
   "source": [
    "display(ab_events.head())\n",
    "print(ab_events.info())"
   ],
   "metadata": {
    "collapsed": false,
    "pycharm": {
     "name": "#%%\n"
    }
   }
  },
  {
   "cell_type": "code",
   "execution_count": 7,
   "outputs": [
    {
     "data": {
      "text/plain": "array([ 99.99,   9.99,   4.99, 499.99,    nan])"
     },
     "execution_count": 7,
     "metadata": {},
     "output_type": "execute_result"
    }
   ],
   "source": [
    "ab_events.details.unique()"
   ],
   "metadata": {
    "collapsed": false,
    "pycharm": {
     "name": "#%%\n"
    }
   }
  },
  {
   "cell_type": "code",
   "execution_count": 8,
   "outputs": [
    {
     "data": {
      "text/plain": "            user_id  first_date     region   device\n0  D72A72121175D8BE  2020-12-07         EU       PC\n1  F1C668619DFE6E65  2020-12-07  N.America  Android\n2  2E1BF1D4C37EA01F  2020-12-07         EU       PC\n3  50734A22C0C63768  2020-12-07         EU   iPhone\n4  E1BDDCE0DAFA2679  2020-12-07  N.America   iPhone",
      "text/html": "<div>\n<style scoped>\n    .dataframe tbody tr th:only-of-type {\n        vertical-align: middle;\n    }\n\n    .dataframe tbody tr th {\n        vertical-align: top;\n    }\n\n    .dataframe thead th {\n        text-align: right;\n    }\n</style>\n<table border=\"1\" class=\"dataframe\">\n  <thead>\n    <tr style=\"text-align: right;\">\n      <th></th>\n      <th>user_id</th>\n      <th>first_date</th>\n      <th>region</th>\n      <th>device</th>\n    </tr>\n  </thead>\n  <tbody>\n    <tr>\n      <th>0</th>\n      <td>D72A72121175D8BE</td>\n      <td>2020-12-07</td>\n      <td>EU</td>\n      <td>PC</td>\n    </tr>\n    <tr>\n      <th>1</th>\n      <td>F1C668619DFE6E65</td>\n      <td>2020-12-07</td>\n      <td>N.America</td>\n      <td>Android</td>\n    </tr>\n    <tr>\n      <th>2</th>\n      <td>2E1BF1D4C37EA01F</td>\n      <td>2020-12-07</td>\n      <td>EU</td>\n      <td>PC</td>\n    </tr>\n    <tr>\n      <th>3</th>\n      <td>50734A22C0C63768</td>\n      <td>2020-12-07</td>\n      <td>EU</td>\n      <td>iPhone</td>\n    </tr>\n    <tr>\n      <th>4</th>\n      <td>E1BDDCE0DAFA2679</td>\n      <td>2020-12-07</td>\n      <td>N.America</td>\n      <td>iPhone</td>\n    </tr>\n  </tbody>\n</table>\n</div>"
     },
     "metadata": {},
     "output_type": "display_data"
    },
    {
     "name": "stdout",
     "output_type": "stream",
     "text": [
      "<class 'pandas.core.frame.DataFrame'>\n",
      "RangeIndex: 61733 entries, 0 to 61732\n",
      "Data columns (total 4 columns):\n",
      " #   Column      Non-Null Count  Dtype \n",
      "---  ------      --------------  ----- \n",
      " 0   user_id     61733 non-null  object\n",
      " 1   first_date  61733 non-null  object\n",
      " 2   region      61733 non-null  object\n",
      " 3   device      61733 non-null  object\n",
      "dtypes: object(4)\n",
      "memory usage: 1.9+ MB\n",
      "None\n"
     ]
    }
   ],
   "source": [
    "display(ab_new_user.head())\n",
    "print(ab_new_user.info())"
   ],
   "metadata": {
    "collapsed": false,
    "pycharm": {
     "name": "#%%\n"
    }
   }
  },
  {
   "cell_type": "code",
   "execution_count": 9,
   "outputs": [
    {
     "data": {
      "text/plain": "            user_id group                  ab_test\n0  D1ABA3E2887B6A73     A  recommender_system_test\n1  A7A3664BD6242119     A  recommender_system_test\n2  DABC14FDDFADD29E     A  recommender_system_test\n3  04988C5DF189632E     A  recommender_system_test\n4  482F14783456D21B     B  recommender_system_test",
      "text/html": "<div>\n<style scoped>\n    .dataframe tbody tr th:only-of-type {\n        vertical-align: middle;\n    }\n\n    .dataframe tbody tr th {\n        vertical-align: top;\n    }\n\n    .dataframe thead th {\n        text-align: right;\n    }\n</style>\n<table border=\"1\" class=\"dataframe\">\n  <thead>\n    <tr style=\"text-align: right;\">\n      <th></th>\n      <th>user_id</th>\n      <th>group</th>\n      <th>ab_test</th>\n    </tr>\n  </thead>\n  <tbody>\n    <tr>\n      <th>0</th>\n      <td>D1ABA3E2887B6A73</td>\n      <td>A</td>\n      <td>recommender_system_test</td>\n    </tr>\n    <tr>\n      <th>1</th>\n      <td>A7A3664BD6242119</td>\n      <td>A</td>\n      <td>recommender_system_test</td>\n    </tr>\n    <tr>\n      <th>2</th>\n      <td>DABC14FDDFADD29E</td>\n      <td>A</td>\n      <td>recommender_system_test</td>\n    </tr>\n    <tr>\n      <th>3</th>\n      <td>04988C5DF189632E</td>\n      <td>A</td>\n      <td>recommender_system_test</td>\n    </tr>\n    <tr>\n      <th>4</th>\n      <td>482F14783456D21B</td>\n      <td>B</td>\n      <td>recommender_system_test</td>\n    </tr>\n  </tbody>\n</table>\n</div>"
     },
     "metadata": {},
     "output_type": "display_data"
    },
    {
     "name": "stdout",
     "output_type": "stream",
     "text": [
      "<class 'pandas.core.frame.DataFrame'>\n",
      "RangeIndex: 18268 entries, 0 to 18267\n",
      "Data columns (total 3 columns):\n",
      " #   Column   Non-Null Count  Dtype \n",
      "---  ------   --------------  ----- \n",
      " 0   user_id  18268 non-null  object\n",
      " 1   group    18268 non-null  object\n",
      " 2   ab_test  18268 non-null  object\n",
      "dtypes: object(3)\n",
      "memory usage: 428.3+ KB\n",
      "None\n"
     ]
    }
   ],
   "source": [
    "display(ab_participants.head())\n",
    "print(ab_participants.info())"
   ],
   "metadata": {
    "collapsed": false,
    "pycharm": {
     "name": "#%%\n"
    }
   }
  },
  {
   "cell_type": "markdown",
   "source": [
    "## Итоги предварительного осмотра данных ##\n",
    "1. marketing_events:\n",
    "    * start_dt - привести к типу datetime;\n",
    "    * finish_dt - привести к типу datetime;\n",
    "    * name - перевести значения в нижний регистр;\n",
    "    * region - перевести значения в нижний регистр;\n",
    "    * пропуски данных отсутсвуют;\n",
    "\n",
    "2. ab_events:\n",
    "    * user_id - перевести значения в нижний регистр;\n",
    "    * event_dt - привести к типу datetime;\n",
    "    * event_name - перевести значение в нижний регистр;\n",
    "    * details - заменить пропуски на 0;\n",
    "      Причина: из ТЗ - \"дополнительные данные о событии\". Заполняется опционально.\n",
    "\n",
    "3. ab_new_user:\n",
    "    * user_id - перевести значения в нижний регистр;\n",
    "    * first_date - привести к типу datetime;\n",
    "    * region - перевести значения в нижний регистр;\n",
    "    * device - перевести значения в нижний регистр;\n",
    "    * пропуски данных отсутсвуют;\n",
    "\n",
    "4. ab_participants:\n",
    "    * user_id - перевести значения в нижний регистр;\n",
    "    * group_id - перевести значения в нижний регистр;\n",
    "    * ab_test - перевести значения в нижний регистр;"
   ],
   "metadata": {
    "collapsed": false,
    "pycharm": {
     "name": "#%% md\n"
    }
   }
  },
  {
   "cell_type": "markdown",
   "source": [
    "<a id='prepare'></a>\n",
    "# Предобработка данных #"
   ],
   "metadata": {
    "collapsed": false,
    "pycharm": {
     "name": "#%% md\n"
    }
   }
  },
  {
   "cell_type": "markdown",
   "source": [
    "<a id='prepare_types'></a>\n",
    "## Приведение типов ##"
   ],
   "metadata": {
    "collapsed": false,
    "pycharm": {
     "name": "#%% md\n"
    }
   }
  },
  {
   "cell_type": "code",
   "execution_count": 10,
   "outputs": [
    {
     "name": "stdout",
     "output_type": "stream",
     "text": [
      "<class 'pandas.core.frame.DataFrame'>\n",
      "RangeIndex: 14 entries, 0 to 13\n",
      "Data columns (total 4 columns):\n",
      " #   Column     Non-Null Count  Dtype         \n",
      "---  ------     --------------  -----         \n",
      " 0   name       14 non-null     object        \n",
      " 1   regions    14 non-null     object        \n",
      " 2   start_dt   14 non-null     datetime64[ns]\n",
      " 3   finish_dt  14 non-null     datetime64[ns]\n",
      "dtypes: datetime64[ns](2), object(2)\n",
      "memory usage: 576.0+ bytes\n",
      "None\n",
      "<class 'pandas.core.frame.DataFrame'>\n",
      "RangeIndex: 440317 entries, 0 to 440316\n",
      "Data columns (total 4 columns):\n",
      " #   Column      Non-Null Count   Dtype         \n",
      "---  ------      --------------   -----         \n",
      " 0   user_id     440317 non-null  object        \n",
      " 1   event_dt    440317 non-null  datetime64[ns]\n",
      " 2   event_name  440317 non-null  object        \n",
      " 3   details     62740 non-null   float64       \n",
      "dtypes: datetime64[ns](1), float64(1), object(2)\n",
      "memory usage: 13.4+ MB\n",
      "None\n",
      "<class 'pandas.core.frame.DataFrame'>\n",
      "RangeIndex: 61733 entries, 0 to 61732\n",
      "Data columns (total 4 columns):\n",
      " #   Column      Non-Null Count  Dtype         \n",
      "---  ------      --------------  -----         \n",
      " 0   user_id     61733 non-null  object        \n",
      " 1   first_date  61733 non-null  datetime64[ns]\n",
      " 2   region      61733 non-null  object        \n",
      " 3   device      61733 non-null  object        \n",
      "dtypes: datetime64[ns](1), object(3)\n",
      "memory usage: 1.9+ MB\n",
      "None\n"
     ]
    }
   ],
   "source": [
    "marketing_events['start_dt'] = marketing_events['start_dt'].astype('datetime64')\n",
    "marketing_events['finish_dt'] = marketing_events['finish_dt'].astype('datetime64')\n",
    "ab_events['event_dt'] = ab_events['event_dt'].astype('datetime64')\n",
    "ab_new_user['first_date'] = ab_new_user['first_date'].astype('datetime64')\n",
    "\n",
    "print(marketing_events.info())\n",
    "print(ab_events.info())\n",
    "print(ab_new_user.info())"
   ],
   "metadata": {
    "collapsed": false,
    "pycharm": {
     "name": "#%%\n"
    }
   }
  },
  {
   "cell_type": "markdown",
   "source": [
    "<a id='prepare_str'></a>\n",
    "## Функция обработки строковых значений ##"
   ],
   "metadata": {
    "collapsed": false,
    "pycharm": {
     "name": "#%% md\n"
    }
   }
  },
  {
   "cell_type": "code",
   "execution_count": 11,
   "outputs": [],
   "source": [
    "def prepare_str(frame_name):\n",
    "    for column in frame_name.columns:\n",
    "        if frame_name.dtypes[column] == 'object':\n",
    "            frame_name[column] = frame_name[column].str.strip().str.lower()"
   ],
   "metadata": {
    "collapsed": false,
    "pycharm": {
     "name": "#%%\n"
    }
   }
  },
  {
   "cell_type": "markdown",
   "source": [
    "<a id='prepare_lower'></a>\n",
    "## Перевод строковых значений в нижний регистр ##"
   ],
   "metadata": {
    "collapsed": false,
    "pycharm": {
     "name": "#%% md\n"
    }
   }
  },
  {
   "cell_type": "code",
   "execution_count": 12,
   "outputs": [],
   "source": [
    "prepare_str(frame_name=marketing_events)\n",
    "prepare_str(frame_name=ab_events)\n",
    "prepare_str(frame_name=ab_new_user)\n",
    "prepare_str(frame_name=ab_participants)"
   ],
   "metadata": {
    "collapsed": false,
    "pycharm": {
     "name": "#%%\n"
    }
   }
  },
  {
   "cell_type": "markdown",
   "source": [
    "<a id='prepare_nan'></a>\n",
    "## Работа с пропусками ##"
   ],
   "metadata": {
    "collapsed": false,
    "pycharm": {
     "name": "#%% md\n"
    }
   }
  },
  {
   "cell_type": "code",
   "execution_count": 14,
   "outputs": [
    {
     "name": "stdout",
     "output_type": "stream",
     "text": [
      "<class 'pandas.core.frame.DataFrame'>\n",
      "RangeIndex: 440317 entries, 0 to 440316\n",
      "Data columns (total 4 columns):\n",
      " #   Column      Non-Null Count   Dtype         \n",
      "---  ------      --------------   -----         \n",
      " 0   user_id     440317 non-null  object        \n",
      " 1   event_dt    440317 non-null  datetime64[ns]\n",
      " 2   event_name  440317 non-null  object        \n",
      " 3   details     440317 non-null  float64       \n",
      "dtypes: datetime64[ns](1), float64(1), object(2)\n",
      "memory usage: 13.4+ MB\n"
     ]
    }
   ],
   "source": [
    "ab_events['details'] = ab_events['details'].fillna(0)\n",
    "ab_events.info()"
   ],
   "metadata": {
    "collapsed": false,
    "pycharm": {
     "name": "#%%\n"
    }
   }
  },
  {
   "cell_type": "markdown",
   "source": [
    "<a id='prepare_dubl'></a>\n",
    "## Работа с дубликатами ##"
   ],
   "metadata": {
    "collapsed": false,
    "pycharm": {
     "name": "#%% md\n"
    }
   }
  },
  {
   "cell_type": "code",
   "execution_count": 17,
   "outputs": [
    {
     "name": "stdout",
     "output_type": "stream",
     "text": [
      "0\n",
      "0\n",
      "0\n",
      "0\n"
     ]
    }
   ],
   "source": [
    "print(marketing_events.duplicated().sum())\n",
    "print(ab_events.duplicated().sum())\n",
    "print(ab_new_user.duplicated().sum())\n",
    "print(ab_participants.duplicated().sum())"
   ],
   "metadata": {
    "collapsed": false,
    "pycharm": {
     "name": "#%%\n"
    }
   }
  },
  {
   "cell_type": "markdown",
   "source": [
    "## Итоги предобработки данных ##\n",
    "1. приведены к типу datetime:\n",
    "    * marketing_events['start_dt']\n",
    "    * marketing_events['finish_dt']\n",
    "    * ab_events['event_dt']\n",
    "    * ab_new_user['first_date']\n",
    "\n",
    "2. строковые значения переведены в нижний регистр\n",
    "3. пропуски ab_events['details'] заменены на 0\n",
    "4. дубликаты отсутствуют"
   ],
   "metadata": {
    "collapsed": false,
    "pycharm": {
     "name": "#%% md\n"
    }
   }
  }
 ],
 "metadata": {
  "kernelspec": {
   "display_name": "Python 3",
   "language": "python",
   "name": "python3"
  },
  "language_info": {
   "codemirror_mode": {
    "name": "ipython",
    "version": 2
   },
   "file_extension": ".py",
   "mimetype": "text/x-python",
   "name": "python",
   "nbconvert_exporter": "python",
   "pygments_lexer": "ipython2",
   "version": "2.7.6"
  }
 },
 "nbformat": 4,
 "nbformat_minor": 0
}