{
 "cells": [
  {
   "cell_type": "markdown",
   "source": [
    "# Проект A\\B-test #"
   ],
   "metadata": {
    "collapsed": false,
    "pycharm": {
     "name": "#%% md\n"
    }
   }
  },
  {
   "cell_type": "markdown",
   "source": [
    "# Содержание #"
   ],
   "metadata": {
    "collapsed": false,
    "pycharm": {
     "name": "#%% md\n"
    }
   }
  },
  {
   "cell_type": "markdown",
   "source": [
    "<a id='purpose'></a>\n",
    "# Цель проекта #\n",
    "1. оценка корректности проведения A\\B-теста\n",
    "\n",
    "2. анализ результатов A\\B-теста"
   ],
   "metadata": {
    "collapsed": false,
    "pycharm": {
     "name": "#%% md\n"
    }
   }
  },
  {
   "cell_type": "markdown",
   "source": [
    "<a id='specification'></a>\n",
    "# Техническое задание #\n",
    "Название теста: recommender_system_test;\n",
    "\n",
    "Группы:\n",
    "    * А (контрольная)\n",
    "    * B (новая платёжная воронка);\n",
    "Дата запуска: 2020-12-07;\n",
    "\n",
    "Дата остановки набора новых пользователей: 2020-12-21;\n",
    "\n",
    "Дата остановки: 2021-01-04;\n",
    "\n",
    "Аудитория: 15% новых пользователей из региона EU;\n",
    "\n",
    "Назначение теста: тестирование изменений, связанных с внедрением улучшенной рекомендательной системы;\n",
    "\n",
    "Ожидаемое количество участников теста: 6000.\n",
    "\n",
    "Ожидаемый эффект: за 14 дней с момента регистрации в системе пользователи покажут улучшение каждой метрики не менее, чем на 10%:\n",
    "    * конверсии в просмотр карточек товаров — событие product_page\n",
    "    * просмотры корзины — product_cart\n",
    "    * покупки — purchase."
   ],
   "metadata": {
    "collapsed": false,
    "pycharm": {
     "name": "#%% md\n"
    }
   }
  },
  {
   "cell_type": "markdown",
   "source": [
    "<a id='data_descriptions'></a>\n",
    "# Описание данных #\n",
    "\n",
    "<b>/datasets/ab_project_marketing_events.csv — календарь маркетинговых событий на 2020 год</b>\n",
    "    * name — название маркетингового события;\n",
    "    * regions — регионы, в которых будет проводиться рекламная кампания;\n",
    "    * start_dt — дата начала кампании;\n",
    "    * finish_dt — дата завершения кампании.\n",
    "\n",
    "<b>/datasets/final_ab_new_users.csv — все пользователи, зарегистрировавшиеся в интернет-магазине в период с 7 по 21 декабря 2020 года</b>\n",
    "    * user_id — идентификатор пользователя;\n",
    "    * first_date — дата регистрации;\n",
    "    * region — регион пользователя;\n",
    "    * device — устройство, с которого происходила регистрация.\n",
    "\n",
    "<b>/datasets/final_ab_events.csv — все события новых пользователей в период с 7 декабря 2020 по 4 января 2021 года</b>\n",
    "    * user_id — идентификатор пользователя;\n",
    "    * event_dt — дата и время события;\n",
    "    * event_name — тип события;\n",
    "    * details — дополнительные данные о событии. Например, для покупок, purchase, в этом поле хранится стоимость покупки в долларах.\n",
    "\n",
    "<b>/datasets/final_ab_participants.csv — таблица участников тестов</b>\n",
    "    * user_id — идентификатор пользователя;\n",
    "    * ab_test — название теста;\n",
    "    * group — группа пользователя."
   ],
   "metadata": {
    "collapsed": false,
    "pycharm": {
     "name": "#%% md\n"
    }
   }
  },
  {
   "cell_type": "markdown",
   "source": [
    "<a id='setup'></a>\n",
    "# Установка библиотек #"
   ],
   "metadata": {
    "collapsed": false,
    "pycharm": {
     "name": "#%% md\n"
    }
   }
  },
  {
   "cell_type": "code",
   "execution_count": 2,
   "outputs": [],
   "source": [
    "# !pip install --user plotly==5.8.0\n",
    "# !pip install --user plotly_express\n",
    "## !pip install --user pandas-profiling"
   ],
   "metadata": {
    "collapsed": false,
    "pycharm": {
     "name": "#%%\n"
    }
   }
  },
  {
   "cell_type": "markdown",
   "source": [
    "<a id='import'></a>\n",
    "# Импорт библиотек #"
   ],
   "metadata": {
    "collapsed": false,
    "pycharm": {
     "name": "#%% md\n"
    }
   }
  },
  {
   "cell_type": "code",
   "execution_count": 3,
   "outputs": [],
   "source": [
    "import os\n",
    "import warnings\n",
    "import  pandas as pd\n",
    "from IPython.core.display_functions import display\n",
    "\n",
    "pd.set_option('display.max_colwidth', None)\n",
    "warnings.filterwarnings('ignore')"
   ],
   "metadata": {
    "collapsed": false,
    "pycharm": {
     "name": "#%%\n"
    }
   }
  },
  {
   "cell_type": "markdown",
   "source": [
    "<a id='load'></a>\n",
    "# Загрузка данных #"
   ],
   "metadata": {
    "collapsed": false,
    "pycharm": {
     "name": "#%% md\n"
    }
   }
  },
  {
   "cell_type": "markdown",
   "source": [
    "<a id='load_func'></a>\n",
    "## Функция проверки путей к файлам данных ##"
   ],
   "metadata": {
    "collapsed": false,
    "pycharm": {
     "name": "#%% md\n"
    }
   }
  },
  {
   "cell_type": "code",
   "execution_count": 4,
   "outputs": [],
   "source": [
    "def get_path(filename):\n",
    "    path_local = 'datasets/'\n",
    "    path_server = '/datasets/'\n",
    "\n",
    "    if os.path.exists(path=path_local): return path_local + filename\n",
    "    elif os.path.exists(path=path_server): return path_server + filename\n",
    "    else: print('Данные отсутствуют. Проверьте путь к папкам с данными')"
   ],
   "metadata": {
    "collapsed": false,
    "pycharm": {
     "name": "#%%\n"
    }
   }
  },
  {
   "cell_type": "code",
   "execution_count": 5,
   "outputs": [],
   "source": [
    "marketing_events = pd.read_csv(filepath_or_buffer=get_path(filename='ab_project_marketing_events.csv'))\n",
    "ab_events = pd.read_csv(filepath_or_buffer=get_path(filename='final_ab_events.csv'))\n",
    "ab_new_user = pd.read_csv(filepath_or_buffer=get_path(filename='final_ab_new_users.csv'))\n",
    "ab_participants = pd.read_csv(filepath_or_buffer=get_path(filename='final_ab_participants.csv'))"
   ],
   "metadata": {
    "collapsed": false,
    "pycharm": {
     "name": "#%%\n"
    }
   }
  },
  {
   "cell_type": "markdown",
   "source": [
    "<a id='load_preview'></a>\n",
    "## Первичный осмотр данных ##"
   ],
   "metadata": {
    "collapsed": false,
    "pycharm": {
     "name": "#%% md\n"
    }
   }
  },
  {
   "cell_type": "code",
   "execution_count": 6,
   "outputs": [
    {
     "data": {
      "text/plain": "                           name                   regions    start_dt  \\\n0      Christmas&New Year Promo             EU, N.America  2020-12-25   \n1  St. Valentine's Day Giveaway  EU, CIS, APAC, N.America  2020-02-14   \n2        St. Patric's Day Promo             EU, N.America  2020-03-17   \n3                  Easter Promo  EU, CIS, APAC, N.America  2020-04-12   \n4             4th of July Promo                 N.America  2020-07-04   \n\n    finish_dt  \n0  2021-01-03  \n1  2020-02-16  \n2  2020-03-19  \n3  2020-04-19  \n4  2020-07-11  ",
      "text/html": "<div>\n<style scoped>\n    .dataframe tbody tr th:only-of-type {\n        vertical-align: middle;\n    }\n\n    .dataframe tbody tr th {\n        vertical-align: top;\n    }\n\n    .dataframe thead th {\n        text-align: right;\n    }\n</style>\n<table border=\"1\" class=\"dataframe\">\n  <thead>\n    <tr style=\"text-align: right;\">\n      <th></th>\n      <th>name</th>\n      <th>regions</th>\n      <th>start_dt</th>\n      <th>finish_dt</th>\n    </tr>\n  </thead>\n  <tbody>\n    <tr>\n      <th>0</th>\n      <td>Christmas&amp;New Year Promo</td>\n      <td>EU, N.America</td>\n      <td>2020-12-25</td>\n      <td>2021-01-03</td>\n    </tr>\n    <tr>\n      <th>1</th>\n      <td>St. Valentine's Day Giveaway</td>\n      <td>EU, CIS, APAC, N.America</td>\n      <td>2020-02-14</td>\n      <td>2020-02-16</td>\n    </tr>\n    <tr>\n      <th>2</th>\n      <td>St. Patric's Day Promo</td>\n      <td>EU, N.America</td>\n      <td>2020-03-17</td>\n      <td>2020-03-19</td>\n    </tr>\n    <tr>\n      <th>3</th>\n      <td>Easter Promo</td>\n      <td>EU, CIS, APAC, N.America</td>\n      <td>2020-04-12</td>\n      <td>2020-04-19</td>\n    </tr>\n    <tr>\n      <th>4</th>\n      <td>4th of July Promo</td>\n      <td>N.America</td>\n      <td>2020-07-04</td>\n      <td>2020-07-11</td>\n    </tr>\n  </tbody>\n</table>\n</div>"
     },
     "metadata": {},
     "output_type": "display_data"
    },
    {
     "name": "stdout",
     "output_type": "stream",
     "text": [
      "<class 'pandas.core.frame.DataFrame'>\n",
      "RangeIndex: 14 entries, 0 to 13\n",
      "Data columns (total 4 columns):\n",
      " #   Column     Non-Null Count  Dtype \n",
      "---  ------     --------------  ----- \n",
      " 0   name       14 non-null     object\n",
      " 1   regions    14 non-null     object\n",
      " 2   start_dt   14 non-null     object\n",
      " 3   finish_dt  14 non-null     object\n",
      "dtypes: object(4)\n",
      "memory usage: 576.0+ bytes\n",
      "None\n"
     ]
    }
   ],
   "source": [
    "display(marketing_events.head())\n",
    "print(marketing_events.info())"
   ],
   "metadata": {
    "collapsed": false,
    "pycharm": {
     "name": "#%%\n"
    }
   }
  },
  {
   "cell_type": "code",
   "execution_count": 7,
   "outputs": [
    {
     "data": {
      "text/plain": "            user_id             event_dt event_name  details\n0  E1BDDCE0DAFA2679  2020-12-07 20:22:03   purchase    99.99\n1  7B6452F081F49504  2020-12-07 09:22:53   purchase     9.99\n2  9CD9F34546DF254C  2020-12-07 12:59:29   purchase     4.99\n3  96F27A054B191457  2020-12-07 04:02:40   purchase     4.99\n4  1FD7660FDF94CA1F  2020-12-07 10:15:09   purchase     4.99",
      "text/html": "<div>\n<style scoped>\n    .dataframe tbody tr th:only-of-type {\n        vertical-align: middle;\n    }\n\n    .dataframe tbody tr th {\n        vertical-align: top;\n    }\n\n    .dataframe thead th {\n        text-align: right;\n    }\n</style>\n<table border=\"1\" class=\"dataframe\">\n  <thead>\n    <tr style=\"text-align: right;\">\n      <th></th>\n      <th>user_id</th>\n      <th>event_dt</th>\n      <th>event_name</th>\n      <th>details</th>\n    </tr>\n  </thead>\n  <tbody>\n    <tr>\n      <th>0</th>\n      <td>E1BDDCE0DAFA2679</td>\n      <td>2020-12-07 20:22:03</td>\n      <td>purchase</td>\n      <td>99.99</td>\n    </tr>\n    <tr>\n      <th>1</th>\n      <td>7B6452F081F49504</td>\n      <td>2020-12-07 09:22:53</td>\n      <td>purchase</td>\n      <td>9.99</td>\n    </tr>\n    <tr>\n      <th>2</th>\n      <td>9CD9F34546DF254C</td>\n      <td>2020-12-07 12:59:29</td>\n      <td>purchase</td>\n      <td>4.99</td>\n    </tr>\n    <tr>\n      <th>3</th>\n      <td>96F27A054B191457</td>\n      <td>2020-12-07 04:02:40</td>\n      <td>purchase</td>\n      <td>4.99</td>\n    </tr>\n    <tr>\n      <th>4</th>\n      <td>1FD7660FDF94CA1F</td>\n      <td>2020-12-07 10:15:09</td>\n      <td>purchase</td>\n      <td>4.99</td>\n    </tr>\n  </tbody>\n</table>\n</div>"
     },
     "metadata": {},
     "output_type": "display_data"
    },
    {
     "name": "stdout",
     "output_type": "stream",
     "text": [
      "<class 'pandas.core.frame.DataFrame'>\n",
      "RangeIndex: 440317 entries, 0 to 440316\n",
      "Data columns (total 4 columns):\n",
      " #   Column      Non-Null Count   Dtype  \n",
      "---  ------      --------------   -----  \n",
      " 0   user_id     440317 non-null  object \n",
      " 1   event_dt    440317 non-null  object \n",
      " 2   event_name  440317 non-null  object \n",
      " 3   details     62740 non-null   float64\n",
      "dtypes: float64(1), object(3)\n",
      "memory usage: 13.4+ MB\n",
      "None\n"
     ]
    }
   ],
   "source": [
    "display(ab_events.head())\n",
    "print(ab_events.info())"
   ],
   "metadata": {
    "collapsed": false,
    "pycharm": {
     "name": "#%%\n"
    }
   }
  },
  {
   "cell_type": "code",
   "execution_count": 8,
   "outputs": [
    {
     "data": {
      "text/plain": "array([ 99.99,   9.99,   4.99, 499.99,    nan])"
     },
     "execution_count": 8,
     "metadata": {},
     "output_type": "execute_result"
    }
   ],
   "source": [
    "ab_events.details.unique()"
   ],
   "metadata": {
    "collapsed": false,
    "pycharm": {
     "name": "#%%\n"
    }
   }
  },
  {
   "cell_type": "code",
   "execution_count": 9,
   "outputs": [
    {
     "data": {
      "text/plain": "            user_id  first_date     region   device\n0  D72A72121175D8BE  2020-12-07         EU       PC\n1  F1C668619DFE6E65  2020-12-07  N.America  Android\n2  2E1BF1D4C37EA01F  2020-12-07         EU       PC\n3  50734A22C0C63768  2020-12-07         EU   iPhone\n4  E1BDDCE0DAFA2679  2020-12-07  N.America   iPhone",
      "text/html": "<div>\n<style scoped>\n    .dataframe tbody tr th:only-of-type {\n        vertical-align: middle;\n    }\n\n    .dataframe tbody tr th {\n        vertical-align: top;\n    }\n\n    .dataframe thead th {\n        text-align: right;\n    }\n</style>\n<table border=\"1\" class=\"dataframe\">\n  <thead>\n    <tr style=\"text-align: right;\">\n      <th></th>\n      <th>user_id</th>\n      <th>first_date</th>\n      <th>region</th>\n      <th>device</th>\n    </tr>\n  </thead>\n  <tbody>\n    <tr>\n      <th>0</th>\n      <td>D72A72121175D8BE</td>\n      <td>2020-12-07</td>\n      <td>EU</td>\n      <td>PC</td>\n    </tr>\n    <tr>\n      <th>1</th>\n      <td>F1C668619DFE6E65</td>\n      <td>2020-12-07</td>\n      <td>N.America</td>\n      <td>Android</td>\n    </tr>\n    <tr>\n      <th>2</th>\n      <td>2E1BF1D4C37EA01F</td>\n      <td>2020-12-07</td>\n      <td>EU</td>\n      <td>PC</td>\n    </tr>\n    <tr>\n      <th>3</th>\n      <td>50734A22C0C63768</td>\n      <td>2020-12-07</td>\n      <td>EU</td>\n      <td>iPhone</td>\n    </tr>\n    <tr>\n      <th>4</th>\n      <td>E1BDDCE0DAFA2679</td>\n      <td>2020-12-07</td>\n      <td>N.America</td>\n      <td>iPhone</td>\n    </tr>\n  </tbody>\n</table>\n</div>"
     },
     "metadata": {},
     "output_type": "display_data"
    },
    {
     "name": "stdout",
     "output_type": "stream",
     "text": [
      "<class 'pandas.core.frame.DataFrame'>\n",
      "RangeIndex: 61733 entries, 0 to 61732\n",
      "Data columns (total 4 columns):\n",
      " #   Column      Non-Null Count  Dtype \n",
      "---  ------      --------------  ----- \n",
      " 0   user_id     61733 non-null  object\n",
      " 1   first_date  61733 non-null  object\n",
      " 2   region      61733 non-null  object\n",
      " 3   device      61733 non-null  object\n",
      "dtypes: object(4)\n",
      "memory usage: 1.9+ MB\n",
      "None\n"
     ]
    }
   ],
   "source": [
    "display(ab_new_user.head())\n",
    "print(ab_new_user.info())"
   ],
   "metadata": {
    "collapsed": false,
    "pycharm": {
     "name": "#%%\n"
    }
   }
  },
  {
   "cell_type": "code",
   "execution_count": 10,
   "outputs": [
    {
     "data": {
      "text/plain": "            user_id group                  ab_test\n0  D1ABA3E2887B6A73     A  recommender_system_test\n1  A7A3664BD6242119     A  recommender_system_test\n2  DABC14FDDFADD29E     A  recommender_system_test\n3  04988C5DF189632E     A  recommender_system_test\n4  482F14783456D21B     B  recommender_system_test",
      "text/html": "<div>\n<style scoped>\n    .dataframe tbody tr th:only-of-type {\n        vertical-align: middle;\n    }\n\n    .dataframe tbody tr th {\n        vertical-align: top;\n    }\n\n    .dataframe thead th {\n        text-align: right;\n    }\n</style>\n<table border=\"1\" class=\"dataframe\">\n  <thead>\n    <tr style=\"text-align: right;\">\n      <th></th>\n      <th>user_id</th>\n      <th>group</th>\n      <th>ab_test</th>\n    </tr>\n  </thead>\n  <tbody>\n    <tr>\n      <th>0</th>\n      <td>D1ABA3E2887B6A73</td>\n      <td>A</td>\n      <td>recommender_system_test</td>\n    </tr>\n    <tr>\n      <th>1</th>\n      <td>A7A3664BD6242119</td>\n      <td>A</td>\n      <td>recommender_system_test</td>\n    </tr>\n    <tr>\n      <th>2</th>\n      <td>DABC14FDDFADD29E</td>\n      <td>A</td>\n      <td>recommender_system_test</td>\n    </tr>\n    <tr>\n      <th>3</th>\n      <td>04988C5DF189632E</td>\n      <td>A</td>\n      <td>recommender_system_test</td>\n    </tr>\n    <tr>\n      <th>4</th>\n      <td>482F14783456D21B</td>\n      <td>B</td>\n      <td>recommender_system_test</td>\n    </tr>\n  </tbody>\n</table>\n</div>"
     },
     "metadata": {},
     "output_type": "display_data"
    },
    {
     "name": "stdout",
     "output_type": "stream",
     "text": [
      "<class 'pandas.core.frame.DataFrame'>\n",
      "RangeIndex: 18268 entries, 0 to 18267\n",
      "Data columns (total 3 columns):\n",
      " #   Column   Non-Null Count  Dtype \n",
      "---  ------   --------------  ----- \n",
      " 0   user_id  18268 non-null  object\n",
      " 1   group    18268 non-null  object\n",
      " 2   ab_test  18268 non-null  object\n",
      "dtypes: object(3)\n",
      "memory usage: 428.3+ KB\n",
      "None\n"
     ]
    }
   ],
   "source": [
    "display(ab_participants.head())\n",
    "print(ab_participants.info())"
   ],
   "metadata": {
    "collapsed": false,
    "pycharm": {
     "name": "#%%\n"
    }
   }
  },
  {
   "cell_type": "markdown",
   "source": [
    "## Итоги предварительного осмотра данных ##\n",
    "1. marketing_events:\n",
    "    * start_dt - привести к типу datetime;\n",
    "    * finish_dt - привести к типу datetime;\n",
    "    * name - перевести значения в нижний регистр;\n",
    "    * region - перевести значения в нижний регистр;\n",
    "    * пропуски данных отсутсвуют;\n",
    "\n",
    "2. ab_events:\n",
    "    * user_id - перевести значения в нижний регистр;\n",
    "    * event_dt - привести к типу datetime;\n",
    "    * event_name - перевести значение в нижний регистр;\n",
    "    * details - заменить пропуски на 0;\n",
    "      Причина: из ТЗ - \"дополнительные данные о событии\". Заполняется опционально.\n",
    "\n",
    "3. ab_new_user:\n",
    "    * user_id - перевести значения в нижний регистр;\n",
    "    * first_date - привести к типу datetime;\n",
    "    * region - перевести значения в нижний регистр;\n",
    "    * device - перевести значения в нижний регистр;\n",
    "    * пропуски данных отсутсвуют;\n",
    "\n",
    "4. ab_participants:\n",
    "    * user_id - перевести значения в нижний регистр;\n",
    "    * group_id - перевести значения в нижний регистр;\n",
    "    * ab_test - перевести значения в нижний регистр;"
   ],
   "metadata": {
    "collapsed": false,
    "pycharm": {
     "name": "#%% md\n"
    }
   }
  },
  {
   "cell_type": "markdown",
   "source": [
    "<a id='prepare'></a>\n",
    "# Предобработка данных #"
   ],
   "metadata": {
    "collapsed": false,
    "pycharm": {
     "name": "#%% md\n"
    }
   }
  },
  {
   "cell_type": "markdown",
   "source": [
    "<a id='prepare_types'></a>\n",
    "## Приведение типов ##"
   ],
   "metadata": {
    "collapsed": false,
    "pycharm": {
     "name": "#%% md\n"
    }
   }
  },
  {
   "cell_type": "code",
   "execution_count": 11,
   "outputs": [
    {
     "name": "stdout",
     "output_type": "stream",
     "text": [
      "<class 'pandas.core.frame.DataFrame'>\n",
      "RangeIndex: 14 entries, 0 to 13\n",
      "Data columns (total 4 columns):\n",
      " #   Column     Non-Null Count  Dtype         \n",
      "---  ------     --------------  -----         \n",
      " 0   name       14 non-null     object        \n",
      " 1   regions    14 non-null     object        \n",
      " 2   start_dt   14 non-null     datetime64[ns]\n",
      " 3   finish_dt  14 non-null     datetime64[ns]\n",
      "dtypes: datetime64[ns](2), object(2)\n",
      "memory usage: 576.0+ bytes\n",
      "None\n",
      "<class 'pandas.core.frame.DataFrame'>\n",
      "RangeIndex: 440317 entries, 0 to 440316\n",
      "Data columns (total 4 columns):\n",
      " #   Column      Non-Null Count   Dtype         \n",
      "---  ------      --------------   -----         \n",
      " 0   user_id     440317 non-null  object        \n",
      " 1   event_dt    440317 non-null  datetime64[ns]\n",
      " 2   event_name  440317 non-null  object        \n",
      " 3   details     62740 non-null   float64       \n",
      "dtypes: datetime64[ns](1), float64(1), object(2)\n",
      "memory usage: 13.4+ MB\n",
      "None\n",
      "<class 'pandas.core.frame.DataFrame'>\n",
      "RangeIndex: 61733 entries, 0 to 61732\n",
      "Data columns (total 4 columns):\n",
      " #   Column      Non-Null Count  Dtype         \n",
      "---  ------      --------------  -----         \n",
      " 0   user_id     61733 non-null  object        \n",
      " 1   first_date  61733 non-null  datetime64[ns]\n",
      " 2   region      61733 non-null  object        \n",
      " 3   device      61733 non-null  object        \n",
      "dtypes: datetime64[ns](1), object(3)\n",
      "memory usage: 1.9+ MB\n",
      "None\n"
     ]
    }
   ],
   "source": [
    "marketing_events['start_dt'] = marketing_events['start_dt'].astype('datetime64')\n",
    "marketing_events['finish_dt'] = marketing_events['finish_dt'].astype('datetime64')\n",
    "ab_events['event_dt'] = ab_events['event_dt'].astype('datetime64')\n",
    "ab_new_user['first_date'] = ab_new_user['first_date'].astype('datetime64')\n",
    "\n",
    "print(marketing_events.info())\n",
    "print(ab_events.info())\n",
    "print(ab_new_user.info())"
   ],
   "metadata": {
    "collapsed": false,
    "pycharm": {
     "name": "#%%\n"
    }
   }
  },
  {
   "cell_type": "markdown",
   "source": [
    "<a id='prepare_str'></a>\n",
    "## Функция обработки строковых значений ##"
   ],
   "metadata": {
    "collapsed": false,
    "pycharm": {
     "name": "#%% md\n"
    }
   }
  },
  {
   "cell_type": "code",
   "execution_count": 12,
   "outputs": [],
   "source": [
    "def prepare_str(frame_name):\n",
    "    for column in frame_name.columns:\n",
    "        if frame_name.dtypes[column] == 'object':\n",
    "            frame_name[column] = frame_name[column].str.strip().str.lower()"
   ],
   "metadata": {
    "collapsed": false,
    "pycharm": {
     "name": "#%%\n"
    }
   }
  },
  {
   "cell_type": "markdown",
   "source": [
    "<a id='prepare_lower'></a>\n",
    "## Перевод строковых значений в нижний регистр ##"
   ],
   "metadata": {
    "collapsed": false,
    "pycharm": {
     "name": "#%% md\n"
    }
   }
  },
  {
   "cell_type": "code",
   "execution_count": 13,
   "outputs": [],
   "source": [
    "prepare_str(frame_name=marketing_events)\n",
    "prepare_str(frame_name=ab_events)\n",
    "prepare_str(frame_name=ab_new_user)\n",
    "prepare_str(frame_name=ab_participants)"
   ],
   "metadata": {
    "collapsed": false,
    "pycharm": {
     "name": "#%%\n"
    }
   }
  },
  {
   "cell_type": "markdown",
   "source": [
    "<a id='prepare_nan'></a>\n",
    "## Работа с пропусками ##"
   ],
   "metadata": {
    "collapsed": false,
    "pycharm": {
     "name": "#%% md\n"
    }
   }
  },
  {
   "cell_type": "code",
   "execution_count": 14,
   "outputs": [
    {
     "name": "stdout",
     "output_type": "stream",
     "text": [
      "<class 'pandas.core.frame.DataFrame'>\n",
      "RangeIndex: 440317 entries, 0 to 440316\n",
      "Data columns (total 4 columns):\n",
      " #   Column      Non-Null Count   Dtype         \n",
      "---  ------      --------------   -----         \n",
      " 0   user_id     440317 non-null  object        \n",
      " 1   event_dt    440317 non-null  datetime64[ns]\n",
      " 2   event_name  440317 non-null  object        \n",
      " 3   details     440317 non-null  float64       \n",
      "dtypes: datetime64[ns](1), float64(1), object(2)\n",
      "memory usage: 13.4+ MB\n"
     ]
    }
   ],
   "source": [
    "ab_events['details'] = ab_events['details'].fillna(0)\n",
    "ab_events.info()"
   ],
   "metadata": {
    "collapsed": false,
    "pycharm": {
     "name": "#%%\n"
    }
   }
  },
  {
   "cell_type": "markdown",
   "source": [
    "<a id='prepare_dubl'></a>\n",
    "## Работа с дубликатами ##"
   ],
   "metadata": {
    "collapsed": false,
    "pycharm": {
     "name": "#%% md\n"
    }
   }
  },
  {
   "cell_type": "code",
   "execution_count": 15,
   "outputs": [
    {
     "name": "stdout",
     "output_type": "stream",
     "text": [
      "0\n",
      "0\n",
      "0\n",
      "0\n"
     ]
    }
   ],
   "source": [
    "print(marketing_events.duplicated().sum())\n",
    "print(ab_events.duplicated().sum())\n",
    "print(ab_new_user.duplicated().sum())\n",
    "print(ab_participants.duplicated().sum())"
   ],
   "metadata": {
    "collapsed": false,
    "pycharm": {
     "name": "#%%\n"
    }
   }
  },
  {
   "cell_type": "markdown",
   "source": [
    "## Итоги предобработки данных ##\n",
    "1. приведены к типу datetime:\n",
    "    * marketing_events['start_dt']\n",
    "    * marketing_events['finish_dt']\n",
    "    * ab_events['event_dt']\n",
    "    * ab_new_user['first_date']\n",
    "\n",
    "2. строковые значения переведены в нижний регистр\n",
    "3. пропуски ab_events['details'] заменены на 0\n",
    "4. дубликаты отсутствуют"
   ],
   "metadata": {
    "collapsed": false,
    "pycharm": {
     "name": "#%% md\n"
    }
   }
  },
  {
   "cell_type": "markdown",
   "source": [
    "<a id='correctness'></a>\n",
    "# Оценка корректности проведения тестирования #\n",
    "\n",
    "Оцените корректность проведения теста.\n",
    "Обратите внимание на:\n",
    "Соответствие данных требованиям технического задания.\n",
    "Проверьте корректность всех пунктов технического задания.\n",
    "\n",
    "Время проведения теста. Убедитесь, что оно не совпадает с маркетинговыми и другими активностями.\n",
    "\n",
    "Аудиторию теста.\n",
    "Удостоверьтесь, что нет пересечений с конкурирующим тестом и нет пользователей, участвующих в двух группах теста одновременно.\n",
    "Проверьте равномерность распределения пользователей по тестовым группам и правильность их формирования.\n",
    "\n",
    "Название теста: recommender_system_test;\n",
    "Группы: А (контрольная), B (новая платёжная воронка);\n",
    "Дата запуска: 2020-12-07;\n",
    "Дата остановки набора новых пользователей: 2020-12-21;\n",
    "Дата остановки: 2021-01-04;\n",
    "Аудитория: 15% новых пользователей из региона EU;\n",
    "Назначение теста: тестирование изменений, связанных с внедрением улучшенной рекомендательной системы;\n",
    "Ожидаемое количество участников теста: 6000.\n",
    "Ожидаемый эффект: за 14 дней с момента регистрации в системе пользователи покажут улучшение каждой метрики не менее, чем на 10%:\n",
    "конверсии в просмотр карточек товаров — событие product_page\n",
    "просмотры корзины — product_cart\n",
    "покупки — purchase."
   ],
   "metadata": {
    "collapsed": false,
    "pycharm": {
     "name": "#%% md\n"
    }
   }
  },
  {
   "cell_type": "markdown",
   "source": [
    "<a id='correctness'></a>\n",
    "## Соответствие требованиям ТЗ ##"
   ],
   "metadata": {
    "collapsed": false,
    "pycharm": {
     "name": "#%% md\n"
    }
   }
  },
  {
   "cell_type": "markdown",
   "source": [
    "### Условие: название теста: recommender_system_test +"
   ],
   "metadata": {
    "collapsed": false,
    "pycharm": {
     "name": "#%% md\n"
    }
   }
  },
  {
   "cell_type": "code",
   "execution_count": null,
   "outputs": [],
   "source": [
    "ab_participants.query('ab_test == \"recommender_system_test\"').head()"
   ],
   "metadata": {
    "collapsed": false,
    "pycharm": {
     "name": "#%%\n"
    }
   }
  },
  {
   "cell_type": "markdown",
   "source": [
    "### Условие: Группы: А (контрольная), B (новая платёжная воронка) +"
   ],
   "metadata": {
    "collapsed": false,
    "pycharm": {
     "name": "#%% md\n"
    }
   }
  },
  {
   "cell_type": "code",
   "execution_count": null,
   "outputs": [],
   "source": [
    "ab_participants.query('ab_test == \"recommender_system_test\" and group.isin([\"a\",\"b\"])').head()"
   ],
   "metadata": {
    "collapsed": false,
    "pycharm": {
     "name": "#%%\n"
    }
   }
  },
  {
   "cell_type": "markdown",
   "source": [
    "### Условия:\n",
    "    * дата запуска: 2020-12-07\n",
    "    * дата остановки: 2021-01-04"
   ],
   "metadata": {
    "collapsed": false,
    "pycharm": {
     "name": "#%% md\n"
    }
   }
  },
  {
   "cell_type": "code",
   "execution_count": null,
   "outputs": [],
   "source": [
    "task_test_users = pd.DataFrame(data=ab_participants.query('ab_test == \"recommender_system_test\"')['user_id'].unique(), columns=['user_id'])\n",
    "\n",
    "ab_events.merge(task_test_users, on='user_id', how='inner').groupby(by='user_id')\\\n",
    "    .agg({'event_dt':'max',\n",
    "          'event_dt':'min'})\\\n",
    "    .query('event_dt < \"2020-12-07\" and event_dt > \"2021-01-04\"')"
   ],
   "metadata": {
    "collapsed": false,
    "pycharm": {
     "name": "#%%\n"
    }
   }
  },
  {
   "cell_type": "markdown",
   "source": [
    "### Условие: дата остановки набора новых пользователей: 2020-12-21"
   ],
   "metadata": {
    "collapsed": false,
    "pycharm": {
     "name": "#%% md\n"
    }
   }
  },
  {
   "cell_type": "code",
   "execution_count": null,
   "outputs": [],
   "source": [
    "ab_new_user.merge(task_test_users, on='user_id', how='inner').query('first_date > \"2020-12-21\"')"
   ],
   "metadata": {
    "collapsed": false,
    "pycharm": {
     "name": "#%%\n"
    }
   }
  },
  {
   "cell_type": "markdown",
   "source": [
    "### Условие: аудитория: 15% новых пользователей из региона EU"
   ],
   "metadata": {
    "collapsed": false,
    "pycharm": {
     "name": "#%% md\n"
    }
   }
  },
  {
   "cell_type": "code",
   "execution_count": null,
   "outputs": [],
   "source": [
    "task_test_users.merge(ab_new_user, on='user_id').query('region == \"eu\"')['user_id'].nunique() / ab_new_user.query('region == \"eu\" and first_date <= \"2020-12-21\"')['user_id'].nunique() * 100"
   ],
   "metadata": {
    "collapsed": false,
    "pycharm": {
     "name": "#%%\n"
    }
   }
  },
  {
   "cell_type": "markdown",
   "source": [
    "### Условие: ожидаемое количество участников теста: 6000"
   ],
   "metadata": {
    "collapsed": false,
    "pycharm": {
     "name": "#%% md\n"
    }
   }
  },
  {
   "cell_type": "code",
   "execution_count": null,
   "outputs": [],
   "source": [
    "task_test_users['user_id'].nunique()"
   ],
   "metadata": {
    "collapsed": false,
    "pycharm": {
     "name": "#%%\n"
    }
   }
  },
  {
   "cell_type": "markdown",
   "source": [
    "<a id='correctness_date'></a>\n",
    "## Время проведения теста ##"
   ],
   "metadata": {
    "collapsed": false,
    "pycharm": {
     "name": "#%% md\n"
    }
   }
  },
  {
   "cell_type": "code",
   "execution_count": 63,
   "outputs": [
    {
     "data": {
      "text/plain": "                       name        regions   start_dt  finish_dt\n0  christmas&new year promo  eu, n.america 2020-12-25 2021-01-03",
      "text/html": "<div>\n<style scoped>\n    .dataframe tbody tr th:only-of-type {\n        vertical-align: middle;\n    }\n\n    .dataframe tbody tr th {\n        vertical-align: top;\n    }\n\n    .dataframe thead th {\n        text-align: right;\n    }\n</style>\n<table border=\"1\" class=\"dataframe\">\n  <thead>\n    <tr style=\"text-align: right;\">\n      <th></th>\n      <th>name</th>\n      <th>regions</th>\n      <th>start_dt</th>\n      <th>finish_dt</th>\n    </tr>\n  </thead>\n  <tbody>\n    <tr>\n      <th>0</th>\n      <td>christmas&amp;new year promo</td>\n      <td>eu, n.america</td>\n      <td>2020-12-25</td>\n      <td>2021-01-03</td>\n    </tr>\n  </tbody>\n</table>\n</div>"
     },
     "execution_count": 63,
     "metadata": {},
     "output_type": "execute_result"
    }
   ],
   "source": [
    "marketing_events.query('start_dt >= \"2020-12-07\" and finish_dt <= \"2021-01-04\"')"
   ],
   "metadata": {
    "collapsed": false,
    "pycharm": {
     "name": "#%%\n"
    }
   }
  },
  {
   "cell_type": "markdown",
   "source": [
    "<a id='correctness_public'></a>\n",
    "## Аудитория проведения теста ##\n",
    "\n",
    " Удостоверьтесь, что нет пересечений с конкурирующим тестом и нет пользователей, участвующих в двух группах теста одновременно.\n",
    "Проверьте равномерность распределения пользователей по тестовым группам и правильность их формирования."
   ],
   "metadata": {
    "collapsed": false,
    "pycharm": {
     "name": "#%% md\n"
    }
   }
  },
  {
   "cell_type": "markdown",
   "source": [
    "### Пересечение с другими тестами ###"
   ],
   "metadata": {
    "collapsed": false,
    "pycharm": {
     "name": "#%% md\n"
    }
   }
  },
  {
   "cell_type": "code",
   "execution_count": 80,
   "outputs": [
    {
     "data": {
      "text/plain": "array(['interface_eu_test'], dtype=object)"
     },
     "metadata": {},
     "output_type": "display_data"
    },
    {
     "data": {
      "text/plain": "array(['a', 'b'], dtype=object)"
     },
     "metadata": {},
     "output_type": "display_data"
    }
   ],
   "source": [
    "display(ab_participants.query('user_id.isin(@task_test_users[\"user_id\"]) and ab_test != \"recommender_system_test\"')['ab_test'].unique())\n",
    "display(ab_participants.query('user_id.isin(@task_test_users[\"user_id\"]) and ab_test != \"interface_eu_test\"')['group'].unique())"
   ],
   "metadata": {
    "collapsed": false,
    "pycharm": {
     "name": "#%%\n"
    }
   }
  },
  {
   "cell_type": "markdown",
   "source": [
    "### Участие в обеих группах теста ###"
   ],
   "metadata": {
    "collapsed": false,
    "pycharm": {
     "name": "#%% md\n"
    }
   }
  },
  {
   "cell_type": "code",
   "execution_count": 71,
   "outputs": [
    {
     "data": {
      "text/plain": "Empty DataFrame\nColumns: [user_id, group_x, ab_test_x, group_y, ab_test_y]\nIndex: []",
      "text/html": "<div>\n<style scoped>\n    .dataframe tbody tr th:only-of-type {\n        vertical-align: middle;\n    }\n\n    .dataframe tbody tr th {\n        vertical-align: top;\n    }\n\n    .dataframe thead th {\n        text-align: right;\n    }\n</style>\n<table border=\"1\" class=\"dataframe\">\n  <thead>\n    <tr style=\"text-align: right;\">\n      <th></th>\n      <th>user_id</th>\n      <th>group_x</th>\n      <th>ab_test_x</th>\n      <th>group_y</th>\n      <th>ab_test_y</th>\n    </tr>\n  </thead>\n  <tbody>\n  </tbody>\n</table>\n</div>"
     },
     "execution_count": 71,
     "metadata": {},
     "output_type": "execute_result"
    }
   ],
   "source": [
    "group_a = ab_participants.query('ab_test == \"recommender_system_test\" and group == \"a\"')\n",
    "group_b = ab_participants.query('ab_test == \"recommender_system_test\" and group == \"b\"')\n",
    "group_a.merge(group_b, on='user_id')"
   ],
   "metadata": {
    "collapsed": false,
    "pycharm": {
     "name": "#%%\n"
    }
   }
  },
  {
   "cell_type": "markdown",
   "source": [
    "## Количество наблюдений ##"
   ],
   "metadata": {
    "collapsed": false,
    "pycharm": {
     "name": "#%% md\n"
    }
   }
  },
  {
   "cell_type": "code",
   "execution_count": 96,
   "outputs": [
    {
     "data": {
      "text/plain": "     event_name  user_id_a  user_id_b     part_a     part_b\n0         login       8566       2624  76.550492  23.449508\n1  product_cart       2558        689  78.780413  21.219587\n2  product_page       5525       1405  79.725830  20.274170\n3      purchase       2655        676  79.705794  20.294206",
      "text/html": "<div>\n<style scoped>\n    .dataframe tbody tr th:only-of-type {\n        vertical-align: middle;\n    }\n\n    .dataframe tbody tr th {\n        vertical-align: top;\n    }\n\n    .dataframe thead th {\n        text-align: right;\n    }\n</style>\n<table border=\"1\" class=\"dataframe\">\n  <thead>\n    <tr style=\"text-align: right;\">\n      <th></th>\n      <th>event_name</th>\n      <th>user_id_a</th>\n      <th>user_id_b</th>\n      <th>part_a</th>\n      <th>part_b</th>\n    </tr>\n  </thead>\n  <tbody>\n    <tr>\n      <th>0</th>\n      <td>login</td>\n      <td>8566</td>\n      <td>2624</td>\n      <td>76.550492</td>\n      <td>23.449508</td>\n    </tr>\n    <tr>\n      <th>1</th>\n      <td>product_cart</td>\n      <td>2558</td>\n      <td>689</td>\n      <td>78.780413</td>\n      <td>21.219587</td>\n    </tr>\n    <tr>\n      <th>2</th>\n      <td>product_page</td>\n      <td>5525</td>\n      <td>1405</td>\n      <td>79.725830</td>\n      <td>20.274170</td>\n    </tr>\n    <tr>\n      <th>3</th>\n      <td>purchase</td>\n      <td>2655</td>\n      <td>676</td>\n      <td>79.705794</td>\n      <td>20.294206</td>\n    </tr>\n  </tbody>\n</table>\n</div>"
     },
     "execution_count": 96,
     "metadata": {},
     "output_type": "execute_result"
    }
   ],
   "source": [
    "test_conditions_events = ab_events.query('user_id in @group_a[\"user_id\"]')\\\n",
    "    .groupby(by='event_name', as_index=False)\\\n",
    "    .agg({'user_id':'count'})\\\n",
    "    .merge(ab_events.query('user_id in @group_b[\"user_id\"]')\\\n",
    "           .groupby(by='event_name', as_index=False)\\\n",
    "           .agg({'user_id':'count'}),\n",
    "           on='event_name', suffixes=['_a','_b']\n",
    ")\n",
    "test_conditions_events['part_a'] = test_conditions_events['user_id_a'] / (test_conditions_events['user_id_a'] + test_conditions_events['user_id_b']) * 100\n",
    "test_conditions_events['part_b'] = test_conditions_events['user_id_b'] / (test_conditions_events['user_id_a'] + test_conditions_events['user_id_b']) * 100\n",
    "test_conditions_events"
   ],
   "metadata": {
    "collapsed": false,
    "pycharm": {
     "name": "#%%\n"
    }
   }
  },
  {
   "cell_type": "code",
   "execution_count": 103,
   "outputs": [
    {
     "data": {
      "text/plain": "   event_name  event_date  user_id\n0       login  2020-12-07     4913\n1       login  2020-12-08     5447\n2       login  2020-12-09     5227\n3       login  2020-12-10     6045\n4       login  2020-12-11     6000\n..        ...         ...      ...\n91   purchase  2020-12-26     1985\n92   purchase  2020-12-27     1729\n93   purchase  2020-12-28     1557\n94   purchase  2020-12-29     1424\n95   purchase  2020-12-30       15\n\n[96 rows x 3 columns]",
      "text/html": "<div>\n<style scoped>\n    .dataframe tbody tr th:only-of-type {\n        vertical-align: middle;\n    }\n\n    .dataframe tbody tr th {\n        vertical-align: top;\n    }\n\n    .dataframe thead th {\n        text-align: right;\n    }\n</style>\n<table border=\"1\" class=\"dataframe\">\n  <thead>\n    <tr style=\"text-align: right;\">\n      <th></th>\n      <th>event_name</th>\n      <th>event_date</th>\n      <th>user_id</th>\n    </tr>\n  </thead>\n  <tbody>\n    <tr>\n      <th>0</th>\n      <td>login</td>\n      <td>2020-12-07</td>\n      <td>4913</td>\n    </tr>\n    <tr>\n      <th>1</th>\n      <td>login</td>\n      <td>2020-12-08</td>\n      <td>5447</td>\n    </tr>\n    <tr>\n      <th>2</th>\n      <td>login</td>\n      <td>2020-12-09</td>\n      <td>5227</td>\n    </tr>\n    <tr>\n      <th>3</th>\n      <td>login</td>\n      <td>2020-12-10</td>\n      <td>6045</td>\n    </tr>\n    <tr>\n      <th>4</th>\n      <td>login</td>\n      <td>2020-12-11</td>\n      <td>6000</td>\n    </tr>\n    <tr>\n      <th>...</th>\n      <td>...</td>\n      <td>...</td>\n      <td>...</td>\n    </tr>\n    <tr>\n      <th>91</th>\n      <td>purchase</td>\n      <td>2020-12-26</td>\n      <td>1985</td>\n    </tr>\n    <tr>\n      <th>92</th>\n      <td>purchase</td>\n      <td>2020-12-27</td>\n      <td>1729</td>\n    </tr>\n    <tr>\n      <th>93</th>\n      <td>purchase</td>\n      <td>2020-12-28</td>\n      <td>1557</td>\n    </tr>\n    <tr>\n      <th>94</th>\n      <td>purchase</td>\n      <td>2020-12-29</td>\n      <td>1424</td>\n    </tr>\n    <tr>\n      <th>95</th>\n      <td>purchase</td>\n      <td>2020-12-30</td>\n      <td>15</td>\n    </tr>\n  </tbody>\n</table>\n<p>96 rows × 3 columns</p>\n</div>"
     },
     "execution_count": 103,
     "metadata": {},
     "output_type": "execute_result"
    }
   ],
   "source": [
    "# ab_events['event_date'] = ab_events['event_dt'].dt.date\n",
    "# test_events_by_day = ab_events.groupby(by=['event_name', 'event_date'], as_index=False).agg({'user_id': 'count'})\n",
    "# test_events_by_day"
   ],
   "metadata": {
    "collapsed": false,
    "pycharm": {
     "name": "#%%\n"
    }
   }
  },
  {
   "cell_type": "code",
   "execution_count": 105,
   "outputs": [
    {
     "data": {
      "text/plain": "                  user_id  duration\nevent_name                         \nlogin         7898.000000  0.151684\nproduct_cart  2602.583333  0.460312\nproduct_page  5231.791667  0.228985\npurchase      2614.166667  0.458272",
      "text/html": "<div>\n<style scoped>\n    .dataframe tbody tr th:only-of-type {\n        vertical-align: middle;\n    }\n\n    .dataframe tbody tr th {\n        vertical-align: top;\n    }\n\n    .dataframe thead th {\n        text-align: right;\n    }\n</style>\n<table border=\"1\" class=\"dataframe\">\n  <thead>\n    <tr style=\"text-align: right;\">\n      <th></th>\n      <th>user_id</th>\n      <th>duration</th>\n    </tr>\n    <tr>\n      <th>event_name</th>\n      <th></th>\n      <th></th>\n    </tr>\n  </thead>\n  <tbody>\n    <tr>\n      <th>login</th>\n      <td>7898.000000</td>\n      <td>0.151684</td>\n    </tr>\n    <tr>\n      <th>product_cart</th>\n      <td>2602.583333</td>\n      <td>0.460312</td>\n    </tr>\n    <tr>\n      <th>product_page</th>\n      <td>5231.791667</td>\n      <td>0.228985</td>\n    </tr>\n    <tr>\n      <th>purchase</th>\n      <td>2614.166667</td>\n      <td>0.458272</td>\n    </tr>\n  </tbody>\n</table>\n</div>"
     },
     "execution_count": 105,
     "metadata": {},
     "output_type": "execute_result"
    }
   ],
   "source": [
    "# sample_size = 599\n",
    "# test_day_duration = test_day_events.groupby(by='event_name').agg({'user_id':'mean'})\n",
    "# test_day_duration['duration'] = sample_size * 2 / test_day_duration['user_id']\n",
    "# test_day_duration"
   ],
   "metadata": {
    "collapsed": false,
    "pycharm": {
     "name": "#%%\n"
    }
   }
  },
  {
   "cell_type": "markdown",
   "source": [
    "## Результаты проверки представленных данных ##\n",
    "1. Соответствие условиям ТЗ:\n",
    "    * информация о тесте \"recommender_system_test\" в данных присутствует;\n",
    "    * участники теста \"recommender_system_test\" разбиты на группы \"а\", \"b\";\n",
    "    * события пользователей принимающих участие в тесте находятся в промежутке 2020-12-07 - 2021-01-04;\n",
    "    * дата остановки набора новых пользователей <= 2020-12-21;\n",
    "    * аудитория проведения тестирования из региона \"eu\" составляет 15% от общего кол-ва пользователей региона \"eu\";\n",
    "    * ожидаемое количество участников теста: 6000 - не соответствует ТЗ;                            !!!\n",
    "      Реальное количество участников теста 6701;\n",
    "\n",
    "2. Время проведения теста:\n",
    "    * в период проведения теста проходит маркетинговая акция \"christmas&new year promo\";            !!!\n",
    "    * данная акция окажет влияние на результаты теста;\n",
    "\n",
    "3. Аудитория проведение теста:\n",
    "    * пользователи участвующие в тестировании, также принимают участие в тесте \"interface_eu_test\"; !!!\n",
    "    * пересечение пользователей групп теста не зафиксировано;\n",
    "    * распределение количества событий в группах почти 80/20;\n",
    "\n",
    "4. Для расчета необходимого количества наблюдений и длительности тестирования необходимо:\n",
    "    * значение базовой конверсии;\n",
    "\n",
    "Нарушены следующие условия проведения тестирования:\n",
    "    * ожидаемое количество участников теста: 6000;\n",
    "    * в период проведения теста не проводятся маркетинговые акции;\n",
    "    * в период проведения теста, участники теста не участвуют в другом тестировании и распределены в обе группы;\n",
    "    * вероятно количество представленных наблюдений недостаточно для проведения корректного теста;\n",
    "    * вероятно длительность тестирования недостаточна;"
   ],
   "metadata": {
    "collapsed": false,
    "pycharm": {
     "name": "#%% md\n"
    }
   }
  }
 ],
 "metadata": {
  "kernelspec": {
   "display_name": "Python 3",
   "language": "python",
   "name": "python3"
  },
  "language_info": {
   "codemirror_mode": {
    "name": "ipython",
    "version": 2
   },
   "file_extension": ".py",
   "mimetype": "text/x-python",
   "name": "python",
   "nbconvert_exporter": "python",
   "pygments_lexer": "ipython2",
   "version": "2.7.6"
  }
 },
 "nbformat": 4,
 "nbformat_minor": 0
}